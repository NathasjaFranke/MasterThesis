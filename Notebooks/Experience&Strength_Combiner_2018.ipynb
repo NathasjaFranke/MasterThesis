{
 "cells": [
  {
   "cell_type": "markdown",
   "metadata": {},
   "source": [
    "# Experience Calculator"
   ]
  },
  {
   "cell_type": "code",
   "execution_count": 1,
   "metadata": {
    "ExecuteTime": {
     "end_time": "2019-08-26T05:59:03.210254Z",
     "start_time": "2019-08-26T05:59:03.206420Z"
    }
   },
   "outputs": [],
   "source": [
    "# General initialization\n",
    "simulation_timeframe = '2018'\n",
    "ML_model1 = 'lasso'"
   ]
  },
  {
   "cell_type": "code",
   "execution_count": 2,
   "metadata": {
    "ExecuteTime": {
     "end_time": "2019-08-26T05:59:03.475837Z",
     "start_time": "2019-08-26T05:59:03.466605Z"
    }
   },
   "outputs": [],
   "source": [
    "# Global parameter initialization\n",
    "\n",
    "if simulation_timeframe == '2017':\n",
    "    # Define files\n",
    "    teamstrength_filename = 'teamdata2017_strenghtparam'\n",
    "    playerstrength_top_filename = 'playerdata2017_strenghtparam_top'\n",
    "    playerstrength_mid_filename = 'playerdata2017_strenghtparam_mid'\n",
    "    playerstrength_jun_filename = 'playerdata2017_strenghtparam_jun'\n",
    "    playerstrength_adc_filename = 'playerdata2017_strenghtparam_adc'\n",
    "    playerstrength_sup_filename = 'playerdata2017_strenghtparam_sup'\n",
    "    culture_detection_splits = ['2016-W']\n",
    "    filename = 'data2017_raw_model2'\n",
    "    # Specify data range in scope\n",
    "    scope_train_list = ['2017-2', '2017-2po', '2017-2rq', '2017-2pr', '2017-1', '2017-1po', '2017-1pr']\n",
    "    scope_pred_list = ['2017-W']\n",
    "    \n",
    "elif simulation_timeframe == '2018':\n",
    "    # Define files\n",
    "    teamstrength_filename = 'teamdata2018_strenghtparam'\n",
    "    playerstrength_top_filename = 'playerdata2018_strenghtparam_top'\n",
    "    playerstrength_mid_filename = 'playerdata2018_strenghtparam_mid'\n",
    "    playerstrength_jun_filename = 'playerdata2018_strenghtparam_jun'\n",
    "    playerstrength_adc_filename = 'playerdata2018_strenghtparam_adc'\n",
    "    playerstrength_sup_filename = 'playerdata2018_strenghtparam_sup'\n",
    "    culture_detection_splits = ['2017-W']\n",
    "    filename = 'data2018_raw_model2'\n",
    "    # Specify data range in scope\n",
    "    scope_train_list = ['2017-2', '2017-2po', '2017-2rq', '2017-2pr', '2017-1', '2017-1po', '2017-1pr', '2017-W',\n",
    "                    '2018-1', '2018-1P', '2018-2', '2018-2p', '2018-2rq']\n",
    "    scope_pred_list = ['2018-W']\n",
    "    \n",
    "elif simulation_timeframe == '2019':\n",
    "    # Define files\n",
    "    teamstrength_filename = 'teamdata2019_strenghtparam'\n",
    "    playerstrength_top_filename = 'playerdata2019_strenghtparam_top'\n",
    "    playerstrength_mid_filename = 'playerdata2019_strenghtparam_mid'\n",
    "    playerstrength_jun_filename = 'playerdata2019_strenghtparam_jun'\n",
    "    playerstrength_adc_filename = 'playerdata2019_strenghtparam_adc'\n",
    "    playerstrength_sup_filename = 'playerdata2019_strenghtparam_sup'\n",
    "    culture_detection_splits = ['2017-W', '2018-W']\n",
    "    filename = 'data2019_raw_model2'\n",
    "    # Specify data range in scope\n",
    "    scope_train_list = ['2017-2', '2017-2po', '2017-2rq', '2017-2pr', '2017-1', '2017-1po',\n",
    "                    '2017-1pr', '2017-W', '2018-1', '2018-1P', '2018-2rq', '2018-2', \n",
    "                    '2018-2p', '2018-W', '2019-1', '2019-1P', '2019-2']\n",
    "    # Teams expected to go to worlds:\n",
    "    teams_worlds_2019 = {'griffin', \n",
    "                     'g2 esports', \n",
    "                     'damwon gaming', 'funplus phoenix',\n",
    "                     'fnatic', 'cloud9', 'invictus gaming', 'team liquid',\n",
    "                     'sk telecom t1', 'royal never give up', 'ahq', 'schalke 04',\n",
    "                     'gam esports', 'counter logic gaming', 'unicorns of love', 'j team',\n",
    "                     'mad team', 'detonation focusme', 'intz', 'chiefs',\n",
    "                     'isurus gaming', 'supermassive', 'team flash', 'detonator'}\n",
    "    # No team data available: 'gam esports', 'chiefs', 'team flash', 'detonator'"
   ]
  },
  {
   "cell_type": "markdown",
   "metadata": {},
   "source": [
    "## Load libraries and define functions"
   ]
  },
  {
   "cell_type": "markdown",
   "metadata": {},
   "source": [
    "### 0.1 General python functionality"
   ]
  },
  {
   "cell_type": "code",
   "execution_count": 3,
   "metadata": {
    "ExecuteTime": {
     "end_time": "2019-08-26T05:59:05.122950Z",
     "start_time": "2019-08-26T05:59:04.170531Z"
    }
   },
   "outputs": [],
   "source": [
    "# Functions\n",
    "import numpy as np\n",
    "import os\n",
    "import pickle\n",
    "import pandas as pd\n",
    "import operator\n",
    "import itertools\n",
    "from numpy.random import choice\n",
    "from collections import Counter\n",
    "import statistics\n",
    "from datetime import datetime\n",
    "from scipy import stats\n",
    "\n",
    "# Functions used for data visualization\n",
    "import seaborn as sns\n",
    "import matplotlib.pyplot as plt"
   ]
  },
  {
   "cell_type": "code",
   "execution_count": 4,
   "metadata": {
    "ExecuteTime": {
     "end_time": "2019-08-26T05:59:05.506993Z",
     "start_time": "2019-08-26T05:59:05.125449Z"
    }
   },
   "outputs": [],
   "source": [
    "from sklearn import preprocessing"
   ]
  },
  {
   "cell_type": "markdown",
   "metadata": {},
   "source": [
    "### 0.2 Custom functions"
   ]
  },
  {
   "cell_type": "code",
   "execution_count": 5,
   "metadata": {
    "ExecuteTime": {
     "end_time": "2019-08-26T05:59:05.524009Z",
     "start_time": "2019-08-26T05:59:05.511350Z"
    }
   },
   "outputs": [],
   "source": [
    "### Function used to return a summary for categorical variables\n",
    "def SummaryCategoricalVar(list_of_values, title, threshold = 20, top = 10):\n",
    "    \"\"\"\n",
    "    param: list_of_values (list): A list of categorical values from which we like to obtain the distribution\n",
    "    param: title (string): The title for the visualization\n",
    "    param: threshold (int): The maximal number of categories that should be visualized\n",
    "    param: top (int): The top k values that should be returned in the written summary when the number of categories is above the threshold\n",
    "    \"\"\"\n",
    "    # Count the number of occurrances in the list\n",
    "    cnt = Counter(list_of_values)\n",
    "    sorted_cnt = sorted(cnt.items(), key=operator.itemgetter(1))[::-1]\n",
    "    \n",
    "    # Show the percentage dictionary if to many categories to represent\n",
    "    print(\"-\"* 100, \"\\nOverview of variable: \", title, \"\\n\", \"-\"*100)\n",
    "    print(\"Total categories:\", len(cnt), \"\\n\")\n",
    "    if len(cnt) > threshold:\n",
    "        if len(cnt) < top*2:\n",
    "            for key, value in sorted_cnt:\n",
    "                print(key, ':', round(value/len(list_of_values)*100, 4), \"%\")\n",
    "        else:\n",
    "            print(\"The 10 with the highest percentage data available:\\n\")\n",
    "            for key, value in sorted_cnt[:top]:\n",
    "                print(key, ':', round(value/len(list_of_values)*100, 4), \"%\")\n",
    "            print(\"\\nThe 10 with the lowest percentage data available:\\n\")\n",
    "            for key, value in sorted_cnt[len(cnt) - top:]:\n",
    "                print(key, ':', round(value/len(list_of_values)*100, 4), \"%\")\n",
    "                \n",
    "    # Visualization of labelled data distribution\n",
    "    else:\n",
    "        plt.barh(range(1, len(sorted_cnt)+1), \n",
    "                 list(map(lambda x: (x/len(list_of_values)*100), [score for label, score in sorted_cnt])), \n",
    "                 tick_label = list([label for label, score in sorted_cnt]),\n",
    "                 color = 'cornflowerblue', \n",
    "                 edgecolor = 'steelblue')\n",
    "        plt.ylabel('Label')\n",
    "        plt.xlabel('Percentage observations in dataset')\n",
    "        plt.title(title)\n",
    "        plt.show()    \n",
    "        plt.savefig('Barplot_' + title + '.png')"
   ]
  },
  {
   "cell_type": "code",
   "execution_count": 6,
   "metadata": {
    "ExecuteTime": {
     "end_time": "2019-08-26T05:59:05.661776Z",
     "start_time": "2019-08-26T05:59:05.526787Z"
    }
   },
   "outputs": [],
   "source": [
    "### Function used to return a summary for numeric variables\n",
    "def SummaryNumericVar(list_of_values, title):\n",
    "    \"\"\"\n",
    "    param: list_of_values (list): A list of categorical values from which we like to obtain the distribution\n",
    "    param: title (string): The title for the visualization\n",
    "    \"\"\"\n",
    "    \n",
    "    # Title varibale\n",
    "    print(\"=\"* 100, \"\\nOverview of variable: \", title, \"\\n\", \"=\"*100)\n",
    "\n",
    "    # An \"interface\" to matplotlib.axes.Axes.hist() method\n",
    "    n, bins, patches = plt.hist(x = list_of_values, bins='auto', color= '#0504aa', alpha=0.7, rwidth=0.85)\n",
    "    plt.grid(axis='y', alpha=0.75)\n",
    "    plt.xlabel('Value')\n",
    "    plt.ylabel('Frequency')\n",
    "    plt.title(title)\n",
    "    plt.ylim(top=np.ceil(n.max() / 10) * 10 if n.max() % 10 else n.max() + 10)\n",
    "    plt.show()\n",
    "    plt.savefig('Frequency_' + title + '.png')\n",
    "\n",
    "    # Print summary statistics\n",
    "    print(\"-\"*20, \"\\nSummary statistics:\\n\", \"-\"*20)\n",
    "    print(\"Minimum value:\", min(list_of_values))\n",
    "    print(\"Mean:\", round(statistics.mean(list_of_values), 4))\n",
    "    print(\"Standard deviation:\", round(statistics.stdev(list_of_values), 4))\n",
    "    print(\"Median:\", round(statistics.median(list_of_values), 4))\n",
    "    print(\"Maximal value:\", max(list_of_values))\n",
    "\n",
    "    # Plot boxplot\n",
    "    plt.boxplot(list_of_values, 0, 'grey', 0)\n",
    "    plt.xlabel('Value')\n",
    "    plt.title(title)\n",
    "    plt.show()\n",
    "    plt.savefig('Boxplot_' + title + '.png')\n",
    "\n",
    "    # Present outliers\n",
    "    print(\"-\"*20, \"\\nOutlier detection:\\n\", \"-\"*20)\n",
    "    print(\"List of outliers:\", {round(value,2) for z_score, value in zip(np.abs(stats.zscore(list_of_values)), list_of_values) if z_score > 3})\n",
    "\n",
    "    # Check for normally distributed\n",
    "    stats.probplot(list_of_values, dist=\"norm\", plot= plt)\n",
    "    plt.show()\n",
    "    plt.savefig('Probabilityplot_' + title + '.png')\n",
    "\n",
    "    # Statistics to check normality\n",
    "    print(\"-\"*20, \"\\nCheck for normal distribution:\\n\", \"-\"*20)\n",
    "    print(\"Skewedness:\", round(stats.skew(list_of_values), 4))\n",
    "    print(\"Kurtosis:\", round(stats.kurtosis(list_of_values), 4))"
   ]
  },
  {
   "cell_type": "code",
   "execution_count": 7,
   "metadata": {
    "ExecuteTime": {
     "end_time": "2019-08-26T05:59:05.822499Z",
     "start_time": "2019-08-26T05:59:05.664161Z"
    }
   },
   "outputs": [],
   "source": [
    "### Function used to draw a random sample from the discrete distribution of probabilities representing the input list\n",
    "def RandomSampleProbDist(list_of_values, draws = 1):\n",
    "    \"\"\"\n",
    "    :param: list_of_values (list): A list of categorical values representing the observations in the dataset\n",
    "    :param: draws (int): The number of samples desired to be returned\n",
    "    :return: (array) An array capturing the sampled categories\n",
    "    \"\"\"\n",
    "    # Only the non-missing values are considered in the sampling procedure\n",
    "    non_missing_list = list_of_values.dropna()\n",
    "    # Sample from the discrete probability distribution representing the categorical variable\n",
    "    return list(choice(list(Counter(non_missing_list)), \n",
    "                  draws, \n",
    "                  p = list(map(lambda x: x/len(non_missing_list), \n",
    "                               Counter(non_missing_list).values()))))[0]"
   ]
  },
  {
   "cell_type": "markdown",
   "metadata": {},
   "source": [
    "## 1. Load data in environment\n",
    "To allow for the construction of team and player based synergy statistics, the data source as a whole was loaded in the environment."
   ]
  },
  {
   "cell_type": "markdown",
   "metadata": {},
   "source": [
    "### 1.1 Raw data"
   ]
  },
  {
   "cell_type": "markdown",
   "metadata": {},
   "source": [
    "#### Read in raw data xlsx format"
   ]
  },
  {
   "cell_type": "code",
   "execution_count": 8,
   "metadata": {
    "ExecuteTime": {
     "end_time": "2019-08-26T06:01:32.659862Z",
     "start_time": "2019-08-26T05:59:06.066630Z"
    }
   },
   "outputs": [
    {
     "name": "stdout",
     "output_type": "stream",
     "text": [
      "True\n",
      "True\n",
      "True\n",
      "True\n",
      "True\n"
     ]
    }
   ],
   "source": [
    "# Load the data and create panda's dataframe\n",
    "pd_df_2016 = pd.ExcelFile('Data/2016-complete-match-data-OraclesElixir-2017-09-18.xlsx')\n",
    "pd_df_2017 = pd.ExcelFile('Data/2017matchdataOraclesElixir.xlsx')\n",
    "pd_df_2018_spring = pd.ExcelFile('Data/2018-spring-match-data-OraclesElixir-2018-05-20.xlsx')\n",
    "pd_df_2018_summer = pd.ExcelFile('Data/2018 summer match data OraclesElixir 2018-09-27.xlsx')\n",
    "pd_df_2018_worlds = pd.ExcelFile('Data/2018-worlds-match-data-OraclesElixir-2018-11-03.xlsx')\n",
    "pd_df_2019_spring = pd.ExcelFile('Data/2019-spring-match-data-OraclesElixir-2019-05-21.xlsx')\n",
    "pd_df_2019_summer = pd.ExcelFile('Data/2019-summer-match-data-OraclesElixir-2019-08-19.xlsx')\n",
    "\n",
    "# Put the data in a dataframe\n",
    "df_2016 = pd_df_2016.parse(0)\n",
    "df_2017 = pd_df_2017.parse(0)\n",
    "df_2018_spring = pd_df_2018_spring.parse(0)\n",
    "df_2018_summer = pd_df_2018_summer.parse(0)\n",
    "df_2018_worlds = pd_df_2018_worlds.parse(0)\n",
    "df_2019_spring = pd_df_2019_spring.parse(0)\n",
    "df_2019_summer = pd_df_2019_summer.parse(0)\n",
    "\n",
    "# Check whether most recent datasets represent the same features\n",
    "print(all(df_2017.columns == df_2018_spring.columns))\n",
    "print(all(df_2017.columns == df_2018_summer.columns))\n",
    "print(all(df_2017.columns == df_2018_worlds.columns))\n",
    "print(all(df_2018_summer.columns == df_2019_summer.columns))\n",
    "print(all(df_2017.columns == df_2019_summer.columns))"
   ]
  },
  {
   "cell_type": "markdown",
   "metadata": {},
   "source": [
    "#### Concatenate dataframes"
   ]
  },
  {
   "cell_type": "code",
   "execution_count": 9,
   "metadata": {
    "ExecuteTime": {
     "end_time": "2019-08-26T06:01:32.682987Z",
     "start_time": "2019-08-26T06:01:32.662350Z"
    }
   },
   "outputs": [],
   "source": [
    "# Add extra column indicating the year of the data\n",
    "df_2016['Year'] = ['2016' for i in range(len(df_2016))]\n",
    "df_2017['Year'] = ['2017' for i in range(len(df_2017))]\n",
    "df_2018_spring['Year'] = ['2018' for i in range(len(df_2018_spring))]\n",
    "df_2018_summer['Year'] = ['2018' for i in range(len(df_2018_summer))]\n",
    "df_2018_worlds['Year'] = ['2018' for i in range(len(df_2018_worlds))]\n",
    "df_2019_spring['Year'] = ['2019' for i in range(len(df_2019_spring))]\n",
    "df_2019_summer['Year'] = ['2019' for i in range(len(df_2019_summer))]"
   ]
  },
  {
   "cell_type": "code",
   "execution_count": 10,
   "metadata": {
    "ExecuteTime": {
     "end_time": "2019-08-26T06:01:33.563780Z",
     "start_time": "2019-08-26T06:01:32.685435Z"
    }
   },
   "outputs": [
    {
     "name": "stderr",
     "output_type": "stream",
     "text": [
      "/mgmt/data/conda/envs/python36/lib/python3.6/site-packages/ipykernel_launcher.py:2: FutureWarning: Sorting because non-concatenation axis is not aligned. A future version\n",
      "of pandas will change to not sort by default.\n",
      "\n",
      "To accept the future behavior, pass 'sort=False'.\n",
      "\n",
      "To retain the current behavior and silence the warning, pass 'sort=True'.\n",
      "\n",
      "  \n"
     ]
    }
   ],
   "source": [
    "# Initialize data you want to analyse\n",
    "data_exploration = pd.concat([df_2016, df_2017, df_2018_spring, df_2018_summer, df_2018_worlds, df_2019_spring, df_2019_summer])"
   ]
  },
  {
   "cell_type": "markdown",
   "metadata": {},
   "source": [
    "### 1.2 Only retain team data from 1-1 matchups\n",
    "Only team data is retained from matchups (based on the unique gameid identifier) in which two teams played against each other. "
   ]
  },
  {
   "cell_type": "code",
   "execution_count": 11,
   "metadata": {
    "ExecuteTime": {
     "end_time": "2019-08-26T06:01:34.034225Z",
     "start_time": "2019-08-26T06:01:33.566516Z"
    }
   },
   "outputs": [],
   "source": [
    "# Retain team level parameter information\n",
    "data_exploration = data_exploration[data_exploration.position != 'Team']"
   ]
  },
  {
   "cell_type": "code",
   "execution_count": 12,
   "metadata": {
    "ExecuteTime": {
     "end_time": "2019-08-26T06:02:34.710105Z",
     "start_time": "2019-08-26T06:01:34.036531Z"
    }
   },
   "outputs": [],
   "source": [
    "# Create dictionary capturing the team and its opponent during a matchup\n",
    "matchup_dict = {}\n",
    "for gameID in list(set(data_exploration.gameid)):\n",
    "    matchup_df = data_exploration[data_exploration.gameid == gameID]\n",
    "    matchup_dict[gameID] = set(matchup_df.team)"
   ]
  },
  {
   "cell_type": "code",
   "execution_count": 13,
   "metadata": {
    "ExecuteTime": {
     "end_time": "2019-08-26T06:02:34.722929Z",
     "start_time": "2019-08-26T06:02:34.712438Z"
    }
   },
   "outputs": [
    {
     "name": "stdout",
     "output_type": "stream",
     "text": [
      "The number of teams corresponding to the same game-id in the dataset:\n",
      "0 : 1\n",
      "2 : 10064\n",
      "4 : 98\n",
      "3 : 2\n",
      "\n",
      "We are only interested in games involving two teams and hence removed the others from further analysis:\n",
      "Latter allowed us to retain 99.0064 % of the initial matchup data\n",
      "Information from 10064 are retained in the final dataset\n"
     ]
    }
   ],
   "source": [
    "# Intermediate summary\n",
    "print(\"The number of teams corresponding to the same game-id in the dataset:\")\n",
    "matchup_dict_counter = Counter([len(x) for x in matchup_dict.values()])\n",
    "for ID, teams in matchup_dict_counter.items():\n",
    "    print(ID, \":\", teams)\n",
    "print(\"\\nWe are only interested in games involving two teams and hence removed the others from further analysis:\")\n",
    "print(\"Latter allowed us to retain\", round(matchup_dict_counter[2]/sum(matchup_dict_counter.values())*100, 4) ,\"% of the initial matchup data\")\n",
    "print(\"Information from\", matchup_dict_counter[2], \"are retained in the final dataset\")"
   ]
  },
  {
   "cell_type": "code",
   "execution_count": 14,
   "metadata": {
    "ExecuteTime": {
     "end_time": "2019-08-26T06:02:34.954379Z",
     "start_time": "2019-08-26T06:02:34.724837Z"
    }
   },
   "outputs": [],
   "source": [
    "# Remove biased match-up data\n",
    "unbiased_gameids = [gameID for gameID, teams in matchup_dict.items() if len(teams) == 2]\n",
    "data_exploration = data_exploration[data_exploration['gameid'].isin(unbiased_gameids)]"
   ]
  },
  {
   "cell_type": "markdown",
   "metadata": {},
   "source": [
    "### 1.3 Proper feature adjustment\n",
    "#### 1.3.1 Adjust Team and player parameter in dataset\n",
    "The parameter describing the player was lowercased and the bias in spelling mistakes made and the use of different names to indicate the same player and was removed by manually exploring the data and creating a matching dictionary. All the players were retained in the final dataset (also the ones for which no strength parameters will be calculated) to allow us to build a model on as much data as possible. Latter preprocessing was considered as well for the team parameter."
   ]
  },
  {
   "cell_type": "code",
   "execution_count": 15,
   "metadata": {
    "ExecuteTime": {
     "end_time": "2019-08-26T06:02:35.120098Z",
     "start_time": "2019-08-26T06:02:34.957499Z"
    }
   },
   "outputs": [],
   "source": [
    "# Adjust the player parameter in the data\n",
    "list_of_players = [x.lower() if isinstance(x, str) else x for x in data_exploration.player]\n",
    "data_exploration = data_exploration.drop(['player'], axis= 1)\n",
    "data_exploration[\"player\"] = list_of_players"
   ]
  },
  {
   "cell_type": "code",
   "execution_count": 16,
   "metadata": {
    "ExecuteTime": {
     "end_time": "2019-08-26T06:02:35.171045Z",
     "start_time": "2019-08-26T06:02:35.123433Z"
    }
   },
   "outputs": [],
   "source": [
    "# Team matching dictionary\n",
    "team_dict = {'100 thieves': ['100 thieves', '100 thieves academy'],\n",
    "             'ahq': ['ahq e-sports club', 'ahq fighter'],\n",
    "             'apex': ['apex', 'apex pride'],\n",
    "             'big gods': ['big gods esports', 'big gods jackals'],\n",
    "             'cloud9': ['cloud9', 'cloud9 academy', 'cloud9 challenger'],\n",
    "             'clutch gaming': ['clutch gaming', 'clutch gaming academy'],\n",
    "             'counter logic gaming': ['counter logic gaming', 'clg academy'],\n",
    "             'echo fox': ['echo fox', 'echo fox academy'],\n",
    "             'extreme gamers': ['extreme gamers', 'extreme gamers esports club'],\n",
    "             'flyquest': ['flyquest', 'flyquest academy'],\n",
    "             'fnatic': ['fnatic', 'fnatic academy'],\n",
    "             'flamengo': ['flamengo', 'flamengo esports'],\n",
    "             'giants': ['giants', 'giants gaming'],\n",
    "             'golden guardians': ['golden guardians', 'golden guardians academy'],\n",
    "             'intz': ['intz', 'intz e-sports', 'intz e-sports club'],\n",
    "             'kabum': ['kabum e-sports', 'kabum esports'],\n",
    "             'kongdoo monster': ['kongdoo mongster', 'kongdoo monster'],\n",
    "             'machi17' : ['machi17', 'machi 17'],\n",
    "             'misfits': ['misfits', 'misfits academy'],\n",
    "             'optic': ['optic academy', 'optic gaming'],\n",
    "             'qg reapers': ['qg reapers', 'qiao gu reapers'],\n",
    "             'redemption': ['redemption', 'redemption esports'],\n",
    "             'rogue': ['rogue', 'rogue warriors'],\n",
    "             'suning': ['suning', 'suning gaming'],\n",
    "             'supermassive': ['supermassive', 'supermassive esports'],\n",
    "             'team liquid': ['team liquid', 'team liquid academy'],\n",
    "             'team one': ['team one e-sports', 'team one esports'],\n",
    "             'top esports': ['top esports', 'topsports gaming']}\n",
    "\n",
    "team_match_dict = {v:k for k, v_list in team_dict.items() for v in v_list}"
   ]
  },
  {
   "cell_type": "code",
   "execution_count": 17,
   "metadata": {
    "ExecuteTime": {
     "end_time": "2019-08-26T06:02:35.632810Z",
     "start_time": "2019-08-26T06:02:35.173234Z"
    }
   },
   "outputs": [],
   "source": [
    "# Adjust the team parameter in the data\n",
    "list_of_teams = [x.lower() for x in data_exploration.team]\n",
    "data_exploration = data_exploration.drop(['team'], axis= 1)\n",
    "unbiased_teamlist = [team_match_dict[team] if team in team_match_dict else team for team in list_of_teams]\n",
    "data_exploration[\"team\"] = unbiased_teamlist"
   ]
  },
  {
   "cell_type": "markdown",
   "metadata": {},
   "source": [
    "### 1.4 Extra feature creation\n",
    "#### 1.4.1 Culture"
   ]
  },
  {
   "cell_type": "code",
   "execution_count": 18,
   "metadata": {
    "ExecuteTime": {
     "end_time": "2019-08-26T06:02:35.685085Z",
     "start_time": "2019-08-26T06:02:35.635130Z"
    }
   },
   "outputs": [
    {
     "name": "stdout",
     "output_type": "stream",
     "text": [
      "Not all leagues could be represented by the dictionary used, the ones for which no match was found:  {'IWCQ', 'LCS', 'LCK PR', 'IWCI', 'KeSPA', 'RRNAEU', 'NA PR', 'RRAsia', 'EU PR', 'LEC'}\n"
     ]
    }
   ],
   "source": [
    "# Create dictionary matching the league with its corresponding culture\n",
    "culture_dict = {'CBLoL': 'Brazil', 'EULCS': 'Europe', 'LCK': 'Korea',\n",
    "                'LMS': 'Taiwan, Hong Kong & Macau', 'LPL': 'China',\n",
    "                'NALCS': 'North America', 'TCL': 'Turkey',\n",
    "                'LCL': 'Commonwealth of Independent States', 'LJL': 'Japan',\n",
    "                'LLN': 'Latin America - North', 'OPL': 'Oceania', \n",
    "                'GPL': 'Southeast Asia', 'VCS': 'Vietnam',\n",
    "                'WC': 'International', 'MSI': 'International',\n",
    "                'EUPR': 'Europe', 'NAAc': 'North America',\n",
    "                'EUCS': 'Europe', 'NAPR': 'North America',\n",
    "                'NACS': 'North America'}\n",
    "\n",
    "data_exploration['culture'] = [culture_dict[l] if l in culture_dict else np.nan for l in data_exploration['league']]\n",
    "\n",
    "# Intermediate summary\n",
    "if not set(data_exploration['league']).issubset(set(culture_dict.keys())):\n",
    "    print(\"Not all leagues could be represented by the dictionary used, the ones for which no match was found: \",\n",
    "          set(data_exploration['league']) - set(culture_dict.keys()))"
   ]
  },
  {
   "cell_type": "markdown",
   "metadata": {
    "ExecuteTime": {
     "end_time": "2019-07-22T06:22:57.440568Z",
     "start_time": "2019-07-22T06:22:57.425429Z"
    }
   },
   "source": [
    "To incorporate the influence of culture in our calculation a culture score based on previous worlds competition is added."
   ]
  },
  {
   "cell_type": "code",
   "execution_count": 19,
   "metadata": {
    "ExecuteTime": {
     "end_time": "2019-08-26T06:02:36.156574Z",
     "start_time": "2019-08-26T06:02:35.687589Z"
    }
   },
   "outputs": [],
   "source": [
    "# Create dictionary mapping each team with its corresponding region\n",
    "subdata = data_exploration[data_exploration.culture != 'International']\n",
    "team_culture_mapping_dict = dict((zip(subdata.team, subdata.culture)))\n",
    "    \n",
    "# Calculate region dependent win-probability on worlds\n",
    "worlds_subdata = data_exploration[data_exploration.split.isin(culture_detection_splits)]\n",
    "match_outcome_list = [(team_culture_mapping_dict[team], result) for team, result in zip(worlds_subdata.team, worlds_subdata.result) if team in team_culture_mapping_dict]\n",
    "culture_score_mapping_dict = dict()\n",
    "for culture in list(set([x[0] for x in match_outcome_list])):\n",
    "    culture_score_total = 0\n",
    "    for cult, score in match_outcome_list:\n",
    "        if culture == cult: \n",
    "            culture_score_total += score\n",
    "    culture_score_mapping_dict[culture] = culture_score_total\n",
    "culture_score_mapping_dict.pop(np.nan)\n",
    "        \n",
    "# Add culture score as extra feature to final database\n",
    "data_exploration['culture_score'] = [culture_score_mapping_dict[team_culture_mapping_dict[team]] if team in team_culture_mapping_dict and team_culture_mapping_dict[team] in culture_score_mapping_dict else np.nan for team in data_exploration['team']]"
   ]
  },
  {
   "cell_type": "code",
   "execution_count": 20,
   "metadata": {
    "ExecuteTime": {
     "end_time": "2019-08-26T06:02:36.164543Z",
     "start_time": "2019-08-26T06:02:36.158787Z"
    },
    "scrolled": true
   },
   "outputs": [
    {
     "data": {
      "text/plain": [
       "{'Turkey': 35,\n",
       " 'Taiwan, Hong Kong & Macau': 30,\n",
       " 'Korea': 150,\n",
       " 'China': 135,\n",
       " 'North America': 10,\n",
       " 'Brazil': 15}"
      ]
     },
     "execution_count": 20,
     "metadata": {},
     "output_type": "execute_result"
    }
   ],
   "source": [
    "# Visualize ranking dictionary\n",
    "culture_score_mapping_dict"
   ]
  },
  {
   "cell_type": "code",
   "execution_count": 21,
   "metadata": {
    "ExecuteTime": {
     "end_time": "2019-08-26T06:02:36.505775Z",
     "start_time": "2019-08-26T06:02:36.166835Z"
    }
   },
   "outputs": [],
   "source": [
    "# Remove 2016 due to irrelevance\n",
    "data_exploration = data_exploration[~data_exploration.Year.isin(['2016'])]"
   ]
  },
  {
   "cell_type": "markdown",
   "metadata": {},
   "source": [
    "#### 1.4.2 Recency of game played"
   ]
  },
  {
   "cell_type": "code",
   "execution_count": 22,
   "metadata": {
    "ExecuteTime": {
     "end_time": "2019-08-26T06:02:37.123179Z",
     "start_time": "2019-08-26T06:02:36.507578Z"
    }
   },
   "outputs": [],
   "source": [
    "# Time indicator (days since game was last played)\n",
    "dates = [datetime.utcfromtimestamp((x- 25569) * 86400.0) if isinstance(x, float) else datetime.utcfromtimestamp(0) for x in data_exploration[\"date\"]]\n",
    "\n",
    "# Calculate the date difference with today\n",
    "daydiff = [(datetime.now() - x).days if not x == datetime.utcfromtimestamp(0) else np.NaN for x in dates]\n",
    "\n",
    "\n",
    "# At column with date difference indicator to the dataframe and drop unicode indications \n",
    "data_exploration[\"datediff\"] = daydiff\n",
    "data_exploration = data_exploration.drop(['date'], axis= 1)"
   ]
  },
  {
   "cell_type": "markdown",
   "metadata": {},
   "source": [
    "#### 1.4.3 Match importance\n",
    "In the data the following abbreviations are used to define the split: The year the game was played combined with a specific suffix (1 spring, 2 summer, po playoffs, r regionals, w worlds). Based on expert knowledge a matchimportance ranking was done."
   ]
  },
  {
   "cell_type": "code",
   "execution_count": 23,
   "metadata": {
    "ExecuteTime": {
     "end_time": "2019-08-26T06:02:37.168994Z",
     "start_time": "2019-08-26T06:02:37.125095Z"
    }
   },
   "outputs": [],
   "source": [
    "# Initialization of match importance\n",
    "match_imp_dict = {'1':1, '2':2, 'W':4, 'po':1.5, '2017':1, '2018':2, '2018':2, '2019': 3}\n",
    "\n",
    "# Extract rank information needed to process match importance\n",
    "matchimp_list = [s.split('-') for s in set(data_exploration['split']) if s != 'nan']\n",
    "\n",
    "# Create dictionary for mapping\n",
    "match_imp_mapping_dict = dict()\n",
    "for year, split in matchimp_list:\n",
    "    playoff = match_imp_dict['po'] if any(s in split for s in ['po', 'rq', 'pr']) else 1\n",
    "    match_imp_mapping_dict[year + '-' + split] = match_imp_dict[year] * match_imp_dict[split[0]] *playoff    \n",
    "\n",
    "# Map the values of the dataframe for the different patch numbers\n",
    "data_exploration['split_ind'] = [match_imp_mapping_dict[s] if s in match_imp_mapping_dict else np.nan for s in data_exploration['split']]"
   ]
  },
  {
   "cell_type": "markdown",
   "metadata": {},
   "source": [
    "#### 1.4.4 Patch number\n",
    "The patch number will be ranked in an ordinal fashion, giving higher values to more recent patches. There was no magnitude based ranking used because of its irrelevance for this specific situation."
   ]
  },
  {
   "cell_type": "code",
   "execution_count": 24,
   "metadata": {
    "ExecuteTime": {
     "end_time": "2019-08-26T06:02:37.484456Z",
     "start_time": "2019-08-26T06:02:37.170838Z"
    }
   },
   "outputs": [],
   "source": [
    "# Extract rank information needed to process patch number\n",
    "patchno_split_list = [str(patchno).split('.') for patchno in set(data_exploration['patchno']) if any(char.isdigit() for char in str(patchno))]\n",
    "patchno_split_list = [[int(p), int(n)] if len(n) == 2 else [int(p), int(n + '0')] for p, n in patchno_split_list]\n",
    "patch_sorted, no_sorted = sorted(list(set([p for p, n in patchno_split_list]))), sorted(list(set([n for p, n in patchno_split_list])))\n",
    "\n",
    "# Create dictionary for mapping\n",
    "patchno_mapping_dict, counter = dict(), 0\n",
    "for patch in patch_sorted:\n",
    "    for no in no_sorted:\n",
    "        # Customize patch number\n",
    "        if len(str(no)) == 1:\n",
    "            custom_no = '0' + str(no)\n",
    "        elif str(no)[-1] == '0':\n",
    "            custom_no = str(no)[:-1]\n",
    "        else: \n",
    "            custom_no = str(no)\n",
    "        # Fill matching dictionary\n",
    "        patchno_mapping_dict[str(patch) + '.' + custom_no] = counter\n",
    "        counter += 1\n",
    "\n",
    "# Map the values of the dataframe for the different patch numbers\n",
    "data_exploration['patchno'] = [patchno_mapping_dict[str(patchno)] if str(patchno) in patchno_mapping_dict else np.nan for patchno in data_exploration['patchno']]"
   ]
  },
  {
   "cell_type": "markdown",
   "metadata": {},
   "source": [
    "## 2 Data filtering"
   ]
  },
  {
   "cell_type": "code",
   "execution_count": 25,
   "metadata": {
    "ExecuteTime": {
     "end_time": "2019-08-26T06:02:37.833819Z",
     "start_time": "2019-08-26T06:02:37.486734Z"
    }
   },
   "outputs": [
    {
     "name": "stdout",
     "output_type": "stream",
     "text": [
      "The data for training captures information of 5673 games. Representing 131 different teams and 934 different players.\n",
      "The data for prediction captures information of 119 games. Representing 24 different teams and 131 different players.\n",
      "Mapping should be possible for 21 teams in the prediction dataset. The teams not represented are: {'phong vu buffalo', 'infinity esports', 'detonation focusme'} \n",
      "\n",
      "Furthermore, mapping should be possible for 117 players in the prediction dataset. The players not represented are: {'biopanther', 'xuhao', 'niksar', 'meliodas', 'udysof', 'vivid', 'yutapon', 'renyu', 'cotopaco', 'ceros', 'relic', 'arce', 'zeros', 'solidsnake'}\n"
     ]
    }
   ],
   "source": [
    "# Define training and prediction data in scope \n",
    "train_subset = data_exploration[data_exploration.split.isin(scope_train_list)]\n",
    "pred_subset = data_exploration[data_exploration.split.isin(scope_pred_list)]\n",
    "\n",
    "# Intermediate summary\n",
    "print(\"The data for training captures information of\", len(train_subset.gameid.unique()), 'games. Representing',\n",
    "      len(train_subset.team.unique()), \"different teams and\", len(train_subset.player.unique()), \"different players.\")\n",
    "print(\"The data for prediction captures information of\", len(pred_subset.gameid.unique()), 'games. Representing',\n",
    "      len(pred_subset.team.unique()), \"different teams and\", len(pred_subset.player.unique()), \"different players.\")\n",
    "\n",
    "print(\"Mapping should be possible for\", len(set(train_subset.team).intersection(set(pred_subset.team))), \"teams in the prediction dataset. The teams not represented are:\", set(pred_subset.team) - set(train_subset.team), \"\\n\")\n",
    "print(\"Furthermore, mapping should be possible for\", len(set(train_subset.player).intersection(set(pred_subset.player))), \"players in the prediction dataset. The players not represented are:\", set(pred_subset.player) - set(train_subset.player))"
   ]
  },
  {
   "cell_type": "code",
   "execution_count": 28,
   "metadata": {
    "ExecuteTime": {
     "end_time": "2019-08-26T06:07:13.804533Z",
     "start_time": "2019-08-26T06:07:06.522732Z"
    }
   },
   "outputs": [
    {
     "name": "stdout",
     "output_type": "stream",
     "text": [
      "The teams going to the worlds competition and their corresponding culture score:\n",
      " {'kt rolster': 150.0, 'afreeca freecs': 150.0, 'fnatic': nan, 'g2 esports': nan, 'vitality': nan, 'cloud9': nan, 'team liquid': nan, 'flash wolves': 30.0, 'edward gaming': 135.0, 'invictus gaming': 135.0, 'royal never give up': 135.0, 'supermassive': 35.0, 'kabum': 15.0, 'dire wolves': 89.65491923641703, 'gambit esports': 89.65491923641703, 'kaos latin gamers': nan, '100 thieves': nan, 'mad team': 30.0, 'g-rex': 30.0, 'ascension gaming': 89.65491923641703, 'gen.g': 150.0, 'phong vu buffalo': nan, 'infinity esports': nan, 'detonation focusme': nan}\n"
     ]
    }
   ],
   "source": [
    "# Create a team-and culturescore mapping dictionary\n",
    "mean_cult_score = np.mean(train_subset.culture_score.dropna())\n",
    "team_culturescore_mapping_dict = dict()\n",
    "\n",
    "# Mean imputation is considered for the culture score represented by teams for which no data is available\n",
    "for team, cult_score in zip(train_subset.team, train_subset.culture_score):\n",
    "    if team in list(pred_subset.team):\n",
    "        if team in team_culture_mapping_dict:\n",
    "            team_culturescore_mapping_dict[team] = cult_score\n",
    "        else:\n",
    "            team_culturescore_mapping_dict[team] = mean_cult_score\n",
    "\n",
    "# The teams from the challenger series are assigned missing values\n",
    "for team in list(set(pred_subset.team) - set(team_culturescore_mapping_dict)):\n",
    "    team_culturescore_mapping_dict[team] = np.nan\n",
    "\n",
    "# Intermediate summary\n",
    "print(\"The teams going to the worlds competition and their corresponding culture score:\\n\", team_culturescore_mapping_dict)"
   ]
  },
  {
   "cell_type": "markdown",
   "metadata": {},
   "source": [
    "## 3. Dataframe creation for modelling\n",
    "The following parameters are integrated in the second model:\n",
    "\n",
    "***Team/ Opponent strenght parameters***\n",
    "* Team strenght (x1)\n",
    "* Opponent strenght (x1)\n",
    "* Team top/Mid/Jgl/Sup/Adc player strenght (x5)\n",
    "* Opponent top/Mid/Jgl/Sup/Adc player strenght (x5)\n",
    "\n",
    "***Team/ Opponent synergy/ experience parameters***\n",
    "* Team top/Mid/Jgl/Sup/Adc player experience with team going to worlds (x5): Number of times a player has played in that team\n",
    "* Opponent top/Mid/Jgl/Sup/Adc player experience with team going to worlds (x5): Number of times a player has played in that team\n",
    "* Team top/Mid/Jgl/Sup/Adc player experience with the structure of his team (x5): Number of times the player has played with at least 4 players of the team structure applied in worlds\n",
    "* Opponent top/Mid/Jgl/Sup/Adc player experience with the structure of his team (x5): Number of times the player has played with at least 4 players of the team structure applied in worlds\n",
    "* Team top/Mid/Jgl/Sup/Adc player general experience (x5): The number of games the player has played in his professional career\n",
    "* Opponent top/Mid/Jgl/Sup/Adc player general experience (x5): The number of games the player has played in his professional career\n",
    "* Team top/Mid/Jgl/Sup/Adc player experience with different teams (x5): The number of teams the player has played in \n",
    "* Opponent top/Mid/Jgl/Sup/Adc player experience with different teams (x5): The number of teams the player has played in \n",
    "* Team top/Mid/Jgl/Sup/Adc player experience within other teams but not the one in which he will go to worlds (x5): Number of times a player has played within other teams than the one in which he will go to worlds\n",
    "* Opponent top/Mid/Jgl/Sup/Adc player experience within other teams but not the one in which he will go to worlds (x5): Number of times a player has played within other teams than the one in which he will go to worlds\n",
    "\n",
    "***Team/ Opponent coach experience***\n",
    "* Team coach years of experience (x1)\n",
    "* Opponent coach years of experience (x1)\n",
    "\n",
    "The total number of paramters created for the second model are 64."
   ]
  },
  {
   "cell_type": "markdown",
   "metadata": {},
   "source": [
    "### 3.1 Extract team/player strenght parameters\n",
    "Latter information is extracted for all teams going to the worlds championship."
   ]
  },
  {
   "cell_type": "markdown",
   "metadata": {},
   "source": [
    "#### 3.1.1 Team strength parameter"
   ]
  },
  {
   "cell_type": "code",
   "execution_count": 29,
   "metadata": {
    "ExecuteTime": {
     "end_time": "2019-08-26T06:07:24.917916Z",
     "start_time": "2019-08-26T06:07:24.888489Z"
    }
   },
   "outputs": [],
   "source": [
    "# Load pickles\n",
    "with open('/home/je32910/MasterThesis_ComputationalStatistics/pickles/' + teamstrength_filename + '.pickle', 'rb') as f:\n",
    "    team_strenght_df = pickle.load(f)"
   ]
  },
  {
   "cell_type": "code",
   "execution_count": 30,
   "metadata": {
    "ExecuteTime": {
     "end_time": "2019-08-26T06:07:27.766988Z",
     "start_time": "2019-08-26T06:07:27.747874Z"
    }
   },
   "outputs": [
    {
     "data": {
      "text/html": [
       "<div>\n",
       "<style scoped>\n",
       "    .dataframe tbody tr th:only-of-type {\n",
       "        vertical-align: middle;\n",
       "    }\n",
       "\n",
       "    .dataframe tbody tr th {\n",
       "        vertical-align: top;\n",
       "    }\n",
       "\n",
       "    .dataframe thead th {\n",
       "        text-align: right;\n",
       "    }\n",
       "</style>\n",
       "<table border=\"1\" class=\"dataframe\">\n",
       "  <thead>\n",
       "    <tr style=\"text-align: right;\">\n",
       "      <th></th>\n",
       "      <th>accuracy indicator</th>\n",
       "      <th>lasso</th>\n",
       "      <th>ridge</th>\n",
       "      <th>result</th>\n",
       "      <th>Team</th>\n",
       "    </tr>\n",
       "  </thead>\n",
       "  <tbody>\n",
       "    <tr>\n",
       "      <th>millenium</th>\n",
       "      <td>10</td>\n",
       "      <td>0.040813</td>\n",
       "      <td>0.428824</td>\n",
       "      <td>0.300000</td>\n",
       "      <td>millenium</td>\n",
       "    </tr>\n",
       "    <tr>\n",
       "      <th>lgd gaming</th>\n",
       "      <td>166</td>\n",
       "      <td>0.105413</td>\n",
       "      <td>0.453463</td>\n",
       "      <td>0.409639</td>\n",
       "      <td>lgd gaming</td>\n",
       "    </tr>\n",
       "    <tr>\n",
       "      <th>red bulls</th>\n",
       "      <td>13</td>\n",
       "      <td>0.600535</td>\n",
       "      <td>0.516098</td>\n",
       "      <td>0.461538</td>\n",
       "      <td>red bulls</td>\n",
       "    </tr>\n",
       "    <tr>\n",
       "      <th>remo brave esports</th>\n",
       "      <td>14</td>\n",
       "      <td>0.011148</td>\n",
       "      <td>0.397013</td>\n",
       "      <td>0.214286</td>\n",
       "      <td>remo brave esports</td>\n",
       "    </tr>\n",
       "    <tr>\n",
       "      <th>ahq</th>\n",
       "      <td>160</td>\n",
       "      <td>0.611554</td>\n",
       "      <td>0.510478</td>\n",
       "      <td>0.531250</td>\n",
       "      <td>ahq</td>\n",
       "    </tr>\n",
       "  </tbody>\n",
       "</table>\n",
       "</div>"
      ],
      "text/plain": [
       "                    accuracy indicator     lasso     ridge    result  \\\n",
       "millenium                           10  0.040813  0.428824  0.300000   \n",
       "lgd gaming                         166  0.105413  0.453463  0.409639   \n",
       "red bulls                           13  0.600535  0.516098  0.461538   \n",
       "remo brave esports                  14  0.011148  0.397013  0.214286   \n",
       "ahq                                160  0.611554  0.510478  0.531250   \n",
       "\n",
       "                                  Team  \n",
       "millenium                    millenium  \n",
       "lgd gaming                  lgd gaming  \n",
       "red bulls                    red bulls  \n",
       "remo brave esports  remo brave esports  \n",
       "ahq                                ahq  "
      ]
     },
     "execution_count": 30,
     "metadata": {},
     "output_type": "execute_result"
    }
   ],
   "source": [
    "# Extract team information for teams going to worlds\n",
    "team_list = set(train_subset.team.unique()).intersection(set(team_strenght_df.index))\n",
    "team_strenght_df = team_strenght_df.loc[team_list, :]\n",
    "team_strenght_df['Team'] = list(team_strenght_df.index)\n",
    "team_strenght_df.head(5)"
   ]
  },
  {
   "cell_type": "code",
   "execution_count": 31,
   "metadata": {
    "ExecuteTime": {
     "end_time": "2019-08-26T06:07:28.551408Z",
     "start_time": "2019-08-26T06:07:28.546612Z"
    }
   },
   "outputs": [],
   "source": [
    "# Rename column values\n",
    "renaming_dict = {col_name: 'team_' + col_name for col_name in team_strenght_df.columns if col_name != 'Team'}\n",
    "team_strenght_df.rename(columns= renaming_dict, inplace=True)"
   ]
  },
  {
   "cell_type": "code",
   "execution_count": 32,
   "metadata": {
    "ExecuteTime": {
     "end_time": "2019-08-26T06:07:43.353707Z",
     "start_time": "2019-08-26T06:07:42.754797Z"
    },
    "scrolled": true
   },
   "outputs": [
    {
     "name": "stdout",
     "output_type": "stream",
     "text": [
      "Information of 21 teams from the 24 teams in the prediction dataset are captured.\n",
      "\n",
      "\n",
      "==================================================================================================== \n",
      "Overview of variable:  accuracy indicator \n",
      " ====================================================================================================\n"
     ]
    },
    {
     "data": {
      "image/png": "[encoded data removed]",
      "text/plain": [
       "<Figure size 432x288 with 1 Axes>"
      ]
     },
     "metadata": {
      "needs_background": "light"
     },
     "output_type": "display_data"
    },
    {
     "name": "stdout",
     "output_type": "stream",
     "text": [
      "-------------------- \n",
      "Summary statistics:\n",
      " --------------------\n",
      "Minimum value: 3\n",
      "Mean: 86.648\n",
      "Standard deviation: 66.8395\n",
      "Median: 71\n",
      "Maximal value: 243\n"
     ]
    },
    {
     "data": {
      "image/png": "[encoded data removed]",
      "text/plain": [
       "<Figure size 432x288 with 1 Axes>"
      ]
     },
     "metadata": {
      "needs_background": "light"
     },
     "output_type": "display_data"
    },
    {
     "name": "stdout",
     "output_type": "stream",
     "text": [
      "-------------------- \n",
      "Outlier detection:\n",
      " --------------------\n",
      "List of outliers: set()\n"
     ]
    },
    {
     "data": {
      "image/png": "[encoded data removed]",
      "text/plain": [
       "<Figure size 432x288 with 1 Axes>"
      ]
     },
     "metadata": {
      "needs_background": "light"
     },
     "output_type": "display_data"
    },
    {
     "name": "stdout",
     "output_type": "stream",
     "text": [
      "-------------------- \n",
      "Check for normal distribution:\n",
      " --------------------\n",
      "Skewedness: 0.643\n",
      "Kurtosis: -0.6884\n"
     ]
    },
    {
     "data": {
      "text/plain": [
       "<Figure size 432x288 with 0 Axes>"
      ]
     },
     "metadata": {},
     "output_type": "display_data"
    }
   ],
   "source": [
    "# Intermediate summary\n",
    "print(\"Information of\", len(set(team_strenght_df.Team).intersection(set(pred_subset.team))),\"teams from the\", len(set(pred_subset.team)),\n",
    "      \"teams in the prediction dataset are captured.\\n\\n\")\n",
    "\n",
    "# The accuracy estimation of the strenght parameters used\n",
    "SummaryNumericVar(team_strenght_df['team_accuracy indicator'], 'accuracy indicator')"
   ]
  },
  {
   "cell_type": "code",
   "execution_count": 33,
   "metadata": {
    "ExecuteTime": {
     "end_time": "2019-08-26T06:07:50.253916Z",
     "start_time": "2019-08-26T06:07:50.249281Z"
    }
   },
   "outputs": [
    {
     "name": "stdout",
     "output_type": "stream",
     "text": [
      "The teams coming from the challenger series to participate in the worlds competition:\n",
      " {'phong vu buffalo', 'infinity esports', 'detonation focusme'}\n"
     ]
    }
   ],
   "source": [
    "# Challengerseries teams\n",
    "challengerseries_team_set = set(pred_subset.team) - set(team_strenght_df.Team)\n",
    "print(\"The teams coming from the challenger series to participate in the worlds competition:\\n\", challengerseries_team_set)"
   ]
  },
  {
   "cell_type": "code",
   "execution_count": 34,
   "metadata": {
    "ExecuteTime": {
     "end_time": "2019-08-26T06:07:52.983744Z",
     "start_time": "2019-08-26T06:07:52.978780Z"
    }
   },
   "outputs": [],
   "source": [
    "# The accuracy parameter will not be considered during modelling and hence dropped for furter analysis\n",
    "team_strenght_df = team_strenght_df.drop(['team_accuracy indicator'], axis=1)"
   ]
  },
  {
   "cell_type": "code",
   "execution_count": 35,
   "metadata": {
    "ExecuteTime": {
     "end_time": "2019-08-26T06:07:54.021938Z",
     "start_time": "2019-08-26T06:07:54.016404Z"
    }
   },
   "outputs": [],
   "source": [
    "# Select strength indicator based on ML_model 1 initialization\n",
    "cols_to_drop = [col for col in team_strenght_df.columns if col not in ['Team', 'team_' + ML_model1]] \n",
    "team_strenght_df = team_strenght_df.drop(cols_to_drop, axis=1)"
   ]
  },
  {
   "cell_type": "markdown",
   "metadata": {},
   "source": [
    "#### 3.1.2 Player strength parameter"
   ]
  },
  {
   "cell_type": "code",
   "execution_count": 36,
   "metadata": {
    "ExecuteTime": {
     "end_time": "2019-08-26T06:07:55.329426Z",
     "start_time": "2019-08-26T06:07:55.325715Z"
    }
   },
   "outputs": [],
   "source": [
    "# Initialization\n",
    "positions_list = ['top', 'middle', 'jungle', 'adc', 'support']"
   ]
  },
  {
   "cell_type": "code",
   "execution_count": 37,
   "metadata": {
    "ExecuteTime": {
     "end_time": "2019-08-26T06:07:55.814005Z",
     "start_time": "2019-08-26T06:07:55.703091Z"
    }
   },
   "outputs": [],
   "source": [
    "# Load pickles\n",
    "player_strenght_dict = dict()\n",
    "with open('/home/je32910/MasterThesis_ComputationalStatistics/pickles/' + playerstrength_top_filename + '.pickle', 'rb') as f:\n",
    "    player_strenght_dict['top'] = pickle.load(f)\n",
    "with open('/home/je32910/MasterThesis_ComputationalStatistics/pickles/' + playerstrength_mid_filename + '.pickle', 'rb') as f:\n",
    "    player_strenght_dict['middle'] = pickle.load(f)\n",
    "with open('/home/je32910/MasterThesis_ComputationalStatistics/pickles/' + playerstrength_jun_filename + '.pickle', 'rb') as f:\n",
    "    player_strenght_dict['jungle'] = pickle.load(f)\n",
    "with open('/home/je32910/MasterThesis_ComputationalStatistics/pickles/' + playerstrength_adc_filename + '.pickle', 'rb') as f:\n",
    "    player_strenght_dict['adc'] = pickle.load(f)\n",
    "with open('/home/je32910/MasterThesis_ComputationalStatistics/pickles/' + playerstrength_sup_filename + '.pickle', 'rb') as f:\n",
    "    player_strenght_dict['support'] = pickle.load(f)"
   ]
  },
  {
   "cell_type": "code",
   "execution_count": 38,
   "metadata": {
    "ExecuteTime": {
     "end_time": "2019-08-26T06:07:57.188302Z",
     "start_time": "2019-08-26T06:07:57.138132Z"
    }
   },
   "outputs": [
    {
     "data": {
      "text/html": [
       "<div>\n",
       "<style scoped>\n",
       "    .dataframe tbody tr th:only-of-type {\n",
       "        vertical-align: middle;\n",
       "    }\n",
       "\n",
       "    .dataframe tbody tr th {\n",
       "        vertical-align: top;\n",
       "    }\n",
       "\n",
       "    .dataframe thead th {\n",
       "        text-align: right;\n",
       "    }\n",
       "</style>\n",
       "<table border=\"1\" class=\"dataframe\">\n",
       "  <thead>\n",
       "    <tr style=\"text-align: right;\">\n",
       "      <th></th>\n",
       "      <th>accuracy indicator</th>\n",
       "      <th>lasso</th>\n",
       "      <th>ridge</th>\n",
       "      <th>result</th>\n",
       "      <th>Player</th>\n",
       "      <th>position</th>\n",
       "    </tr>\n",
       "  </thead>\n",
       "  <tbody>\n",
       "    <tr>\n",
       "      <th>ragner</th>\n",
       "      <td>29</td>\n",
       "      <td>0.099520</td>\n",
       "      <td>0.445692</td>\n",
       "      <td>0.344828</td>\n",
       "      <td>ragner</td>\n",
       "      <td>top</td>\n",
       "    </tr>\n",
       "    <tr>\n",
       "      <th>lz</th>\n",
       "      <td>2</td>\n",
       "      <td>0.047153</td>\n",
       "      <td>0.360839</td>\n",
       "      <td>0.500000</td>\n",
       "      <td>lz</td>\n",
       "      <td>top</td>\n",
       "    </tr>\n",
       "    <tr>\n",
       "      <th>lourlo</th>\n",
       "      <td>143</td>\n",
       "      <td>0.150347</td>\n",
       "      <td>0.460835</td>\n",
       "      <td>0.356643</td>\n",
       "      <td>lourlo</td>\n",
       "      <td>top</td>\n",
       "    </tr>\n",
       "    <tr>\n",
       "      <th>gimgoon</th>\n",
       "      <td>129</td>\n",
       "      <td>0.407775</td>\n",
       "      <td>0.483911</td>\n",
       "      <td>0.395349</td>\n",
       "      <td>gimgoon</td>\n",
       "      <td>top</td>\n",
       "    </tr>\n",
       "    <tr>\n",
       "      <th>theshy</th>\n",
       "      <td>88</td>\n",
       "      <td>0.559020</td>\n",
       "      <td>0.500204</td>\n",
       "      <td>0.784091</td>\n",
       "      <td>theshy</td>\n",
       "      <td>top</td>\n",
       "    </tr>\n",
       "  </tbody>\n",
       "</table>\n",
       "</div>"
      ],
      "text/plain": [
       "         accuracy indicator     lasso     ridge    result   Player position\n",
       "ragner                   29  0.099520  0.445692  0.344828   ragner      top\n",
       "lz                        2  0.047153  0.360839  0.500000       lz      top\n",
       "lourlo                  143  0.150347  0.460835  0.356643   lourlo      top\n",
       "gimgoon                 129  0.407775  0.483911  0.395349  gimgoon      top\n",
       "theshy                   88  0.559020  0.500204  0.784091   theshy      top"
      ]
     },
     "execution_count": 38,
     "metadata": {},
     "output_type": "execute_result"
    }
   ],
   "source": [
    "# Add position indicator and player name to dataset\n",
    "for pos in positions_list:\n",
    "    player_list = set(train_subset.player.unique()).intersection(set(player_strenght_dict[pos].index))\n",
    "    player_strenght_dict[pos] = player_strenght_dict[pos].loc[player_list, :]\n",
    "    player_strenght_dict[pos]['Player'] = list(player_strenght_dict[pos].index)\n",
    "    player_strenght_dict[pos]['position'] =  pos\n",
    "\n",
    "# Merge datasets\n",
    "player_strenght_df = pd.concat([player_strenght_dict[pos] for pos in positions_list])\n",
    "player_strenght_df.head(5)"
   ]
  },
  {
   "cell_type": "code",
   "execution_count": 39,
   "metadata": {
    "ExecuteTime": {
     "end_time": "2019-08-26T06:08:17.157514Z",
     "start_time": "2019-08-26T06:08:17.152469Z"
    }
   },
   "outputs": [],
   "source": [
    "# Rename column values\n",
    "renaming_dict = {col_name: 'player_' + col_name for col_name in player_strenght_df.columns if col_name != 'Player'}\n",
    "player_strenght_df.rename(columns= renaming_dict, inplace=True)"
   ]
  },
  {
   "cell_type": "code",
   "execution_count": 40,
   "metadata": {
    "ExecuteTime": {
     "end_time": "2019-08-26T06:08:18.189427Z",
     "start_time": "2019-08-26T06:08:17.499924Z"
    },
    "scrolled": true
   },
   "outputs": [
    {
     "name": "stdout",
     "output_type": "stream",
     "text": [
      "Information of 117 players from the 131 players in the prediction dataset are captured.\n",
      "\n",
      "\n",
      "==================================================================================================== \n",
      "Overview of variable:  accuracy indicator \n",
      " ====================================================================================================\n"
     ]
    },
    {
     "data": {
      "image/png": "[encoded data removed]",
      "text/plain": [
       "<Figure size 432x288 with 1 Axes>"
      ]
     },
     "metadata": {
      "needs_background": "light"
     },
     "output_type": "display_data"
    },
    {
     "name": "stdout",
     "output_type": "stream",
     "text": [
      "-------------------- \n",
      "Summary statistics:\n",
      " --------------------\n",
      "Minimum value: 1\n",
      "Mean: 50.5475\n",
      "Standard deviation: 56.7324\n",
      "Median: 27\n",
      "Maximal value: 244\n"
     ]
    },
    {
     "data": {
      "image/png": "[encoded data removed]",
      "text/plain": [
       "<Figure size 432x288 with 1 Axes>"
      ]
     },
     "metadata": {
      "needs_background": "light"
     },
     "output_type": "display_data"
    },
    {
     "name": "stdout",
     "output_type": "stream",
     "text": [
      "-------------------- \n",
      "Outlier detection:\n",
      " --------------------\n",
      "List of outliers: {226, 233, 238, 240, 244}\n"
     ]
    },
    {
     "data": {
      "image/png": "[encoded data removed]",
      "text/plain": [
       "<Figure size 432x288 with 1 Axes>"
      ]
     },
     "metadata": {
      "needs_background": "light"
     },
     "output_type": "display_data"
    },
    {
     "name": "stdout",
     "output_type": "stream",
     "text": [
      "-------------------- \n",
      "Check for normal distribution:\n",
      " --------------------\n",
      "Skewedness: 1.2244\n",
      "Kurtosis: 0.5025\n"
     ]
    },
    {
     "data": {
      "text/plain": [
       "<Figure size 432x288 with 0 Axes>"
      ]
     },
     "metadata": {},
     "output_type": "display_data"
    }
   ],
   "source": [
    "# Intermediate summary\n",
    "print(\"Information of\",  len(set(player_strenght_df.Player).intersection(set(pred_subset.player))), \"players from the\", len(set(pred_subset.player)),\n",
    "      \"players in the prediction dataset are captured.\\n\\n\")\n",
    "\n",
    "# The accuracy estimation of the strenght parameters used\n",
    "SummaryNumericVar(player_strenght_df['player_accuracy indicator'], 'accuracy indicator')"
   ]
  },
  {
   "cell_type": "code",
   "execution_count": 41,
   "metadata": {
    "ExecuteTime": {
     "end_time": "2019-08-26T06:08:18.196738Z",
     "start_time": "2019-08-26T06:08:18.192087Z"
    }
   },
   "outputs": [],
   "source": [
    "# The accuracy parameter will not be considered during modelling and hence dropped for furter analysis\n",
    "player_strenght_df = player_strenght_df.drop(['player_accuracy indicator'], axis=1)"
   ]
  },
  {
   "cell_type": "code",
   "execution_count": 42,
   "metadata": {
    "ExecuteTime": {
     "end_time": "2019-08-26T06:08:21.832935Z",
     "start_time": "2019-08-26T06:08:21.827252Z"
    }
   },
   "outputs": [],
   "source": [
    "# Select strength indicator based on ML_model 1 initialization\n",
    "cols_to_drop = [col for col in player_strenght_df.columns if col not in ['Player', 'player_position', 'player_'+ ML_model1]] \n",
    "player_strenght_df = player_strenght_df.drop(cols_to_drop, axis=1)"
   ]
  },
  {
   "cell_type": "markdown",
   "metadata": {},
   "source": [
    "###  3.2 Create synergy/ experience parameters\n",
    "Remark: There can be a small bias in this calculation due to the fact that teams change names sometimes and players could change names as well. We do not expect the impact of the latter to be tremendous on our model because they will not bias our view of the most recent changes (of course a double check-up will be needed). Furthermore, teamnames and structures often tend to change after a worlds championship and not before.\n",
    "#### 3.2.1 Parameter creation"
   ]
  },
  {
   "cell_type": "code",
   "execution_count": null,
   "metadata": {
    "ExecuteTime": {
     "start_time": "2019-08-26T06:26:05.583Z"
    }
   },
   "outputs": [],
   "source": [
    "# Dictionary initialization\n",
    "synergy_param_dict = dict()\n",
    "team_list, player_list, player_experience_current_team_list, player_experience_teamcomposition_list, player_experience_general_list, player_experience_other_teams_list, player_strategy_list = [], [], [], [], [], [], []\n",
    "\n",
    "# Loop through the different teams\n",
    "for teller, t in enumerate(list(pred_subset.team)):\n",
    "    for p in list(pred_subset.player):\n",
    "        # 0. Team- player initialization\n",
    "        team_list.append(t)\n",
    "        player_list.append(p)\n",
    "        # i. The number of games player has already played within current team\n",
    "        if p in list(train_subset.player) and t in list(train_subset.team):\n",
    "            player_experience_current_team_list.append(len(train_subset[(train_subset.team == t) & (train_subset.player == p)]['gameid'].unique()))\n",
    "        else: \n",
    "            player_experience_current_team_list.append(np.nan)\n",
    "        # ii. The number of games team has already played with current structure\n",
    "        player_experience_teamcomposition = 0\n",
    "        if p in list(train_subset.player) and t in list(train_subset.team):\n",
    "            teamcomposition_worlds = set(pred_subset.player)\n",
    "            for gameid in train_subset[train_subset.team == t]['gameid'].unique():\n",
    "                if len(set(train_subset[train_subset.gameid == gameid]['player']).intersection(teamcomposition_worlds)) >= 4:\n",
    "                    player_experience_teamcomposition += 1\n",
    "            player_experience_teamcomposition_list.append(player_experience_teamcomposition)\n",
    "        else:\n",
    "            player_experience_teamcomposition_list.append(np.nan)\n",
    "        # iii. The numer of games the player has played\n",
    "        if p in list(train_subset.player):\n",
    "            player_experience_general_list.append(len(train_subset[train_subset.player == p]['gameid'].unique()))\n",
    "        else: \n",
    "            player_experience_general_list.append(np.nan)\n",
    "        # iv. The number of games player has already played within different teams\n",
    "        if p in list(train_subset.player):\n",
    "            player_experience_other_teams_list.append(len(train_subset[(train_subset.team != t) & (train_subset.player == p)]['gameid'].unique()))\n",
    "        else: \n",
    "            player_experience_other_teams_list.append(np.nan)\n",
    "        # v. The number of different teams the player has already played in\n",
    "        if p in list(train_subset.player):\n",
    "            player_strategy_list.append(len(train_subset[train_subset.player == p]['team'].unique()))\n",
    "        else: \n",
    "            player_strategy_list.append(np.nan)"
   ]
  },
  {
   "cell_type": "code",
   "execution_count": null,
   "metadata": {
    "ExecuteTime": {
     "start_time": "2019-08-26T06:26:06.339Z"
    }
   },
   "outputs": [],
   "source": [
    "# Pandas dataframe creation\n",
    "synergy_param_dict['Team'] = team_list\n",
    "synergy_param_dict['Player'] = player_list\n",
    "synergy_param_dict['Player_experience_current_team'] = player_experience_current_team_list\n",
    "synergy_param_dict['Player_experience_teamcomposition'] = player_experience_teamcomposition_list\n",
    "synergy_param_dict['Player_experience_general'] = player_experience_general_list\n",
    "synergy_param_dict['Player_experience_other_teams'] = player_experience_other_teams_list\n",
    "synergy_param_dict['Player_strategy'] = player_strategy_list\n",
    "synergy_param_df = pd.DataFrame(synergy_param_dict)"
   ]
  },
  {
   "cell_type": "code",
   "execution_count": null,
   "metadata": {
    "ExecuteTime": {
     "start_time": "2019-08-26T06:26:06.995Z"
    }
   },
   "outputs": [],
   "source": [
    "# Data visualization\n",
    "synergy_param_df.head(10)"
   ]
  },
  {
   "cell_type": "code",
   "execution_count": null,
   "metadata": {
    "ExecuteTime": {
     "start_time": "2019-08-26T06:26:08.020Z"
    }
   },
   "outputs": [],
   "source": [
    "# Short intermediate summary\n",
    "print(\"The final dataset captures information from\", len(synergy_param_df.columns), \"features.\")\n",
    "print(\"In total, there are\", len(synergy_param_df), \"observations present in the dataframe, capturing the information from\",\n",
    "      len(set(synergy_param_df.Team)), \"different teams and\", len(set(synergy_param_df.Player)), \"different players.\")"
   ]
  },
  {
   "cell_type": "code",
   "execution_count": null,
   "metadata": {
    "ExecuteTime": {
     "start_time": "2019-08-26T06:26:08.503Z"
    },
    "scrolled": true
   },
   "outputs": [],
   "source": [
    "# Univariate analysis of data distribution\n",
    "for col, col_type in zip(synergy_param_df.columns, synergy_param_df.dtypes):\n",
    "    if str(col_type) == 'object':\n",
    "        SummaryCategoricalVar(synergy_param_df[col], col)\n",
    "    else:\n",
    "        SummaryNumericVar(synergy_param_df[col].dropna(), col)"
   ]
  },
  {
   "cell_type": "markdown",
   "metadata": {},
   "source": [
    "### 3.4 Combine all features in one dataframe"
   ]
  },
  {
   "cell_type": "code",
   "execution_count": null,
   "metadata": {
    "ExecuteTime": {
     "start_time": "2019-08-26T06:26:09.273Z"
    }
   },
   "outputs": [],
   "source": [
    "# Join dataframes for training data\n",
    "df_train_tmp = pd.merge(synergy_param_df, team_strenght_df, on=['Team'], how ='left')\n",
    "feature_train_model2_df = pd.merge(df_train_tmp, player_strenght_df, on=['Player'], how ='left')\n",
    "feature_train_model2_df.rename(columns= {'Team': 'team', 'Player': 'player', 'player_position': 'position'}, inplace=True)\n",
    "feature_train_model2_df.head(5)"
   ]
  },
  {
   "cell_type": "code",
   "execution_count": null,
   "metadata": {
    "ExecuteTime": {
     "start_time": "2019-08-26T06:26:09.641Z"
    }
   },
   "outputs": [],
   "source": [
    "# Investigate column types\n",
    "feature_train_model2_df.columns.to_series().groupby(feature_train_model2_df.dtypes).groups"
   ]
  },
  {
   "cell_type": "markdown",
   "metadata": {},
   "source": [
    "## 4. Add global information to final dataframe\n",
    "* Connect the result of the game played to the strength and experience parameters extracted in previous phase.\n",
    "* Add information from the global features to each game"
   ]
  },
  {
   "cell_type": "code",
   "execution_count": null,
   "metadata": {
    "ExecuteTime": {
     "end_time": "2019-08-26T05:03:35.105159Z",
     "start_time": "2019-08-26T05:03:34.855287Z"
    }
   },
   "outputs": [],
   "source": [
    "# Extract dataset representing the team and its players, the opponent and the result of the game\n",
    "pred_tmp = pred_subset[['gameid', 'position', 'player', 'team', 'datediff', 'split_ind', 'patchno', 'result']]\n",
    "pred_tmp['position'] = [x.lower() for x in pred_tmp.position]\n",
    "model2_df = pd.merge(pred_tmp, feature_train_model2_df, on=['team', 'player', 'position'], how = 'left')"
   ]
  },
  {
   "cell_type": "code",
   "execution_count": null,
   "metadata": {
    "ExecuteTime": {
     "end_time": "2019-08-26T05:03:35.108075Z",
     "start_time": "2019-08-26T04:43:52.165Z"
    },
    "scrolled": false
   },
   "outputs": [],
   "source": [
    "# Initialization\n",
    "column_name_list, global_team_values_list, results_list, datediff_list, split_ind_list, patchno_list = ['game'], [], [], [], [], []\n",
    "\n",
    "# Define list of columns to considere durin gdata capturing\n",
    "cols = list(set(model2_df.columns) - set(['team', 'player', 'position', 'gameid', 'result']))\n",
    "\n",
    "# Loop through the different games\n",
    "for game_i, game in enumerate(model2_df.gameid.unique()):\n",
    "    if game_i % 10 == 0:\n",
    "        print(game_i)\n",
    "    sub_df = model2_df[model2_df.gameid == game]\n",
    "    # Loop through the teams involved in a game (x 2 observations per game)\n",
    "    for i in range(len(sub_df.team.unique())):\n",
    "        team_vector = sub_df.team.unique() if i == 0 else sub_df.team.unique()[::-1]\n",
    "        team_values_list = []\n",
    "        team_values_list.append(game)\n",
    "        # Extract for one row information about team and its opponent\n",
    "        for team_i, team in enumerate(team_vector):\n",
    "            indicator_str = 'Opp_' if team_i == 1 else ''\n",
    "            # Extract player information for the different positions\n",
    "            for position in sub_df[sub_df.team == team].position.unique():\n",
    "                for col in cols:\n",
    "                    # Create column name list during first iteration\n",
    "                    if game_i == 0 and i == 0:\n",
    "                        if 'player' in col.lower():\n",
    "                            column_name_list.append(indicator_str + col + '_' + position)\n",
    "                        else: \n",
    "                            column_name_list.append(indicator_str + col)\n",
    "                    # Save new row values\n",
    "                    team_values_list.append(list(sub_df[(sub_df.team == team) & (sub_df.position == position)][col])[0])\n",
    "                    if game_i == 0 and i == 0:\n",
    "                        column_name_list.append(indicator_str + 'Team')\n",
    "                    team_values_list.append(team)\n",
    "        # Save game result, datediff, split_ind, patchno\n",
    "        results_list.append(list(sub_df[sub_df.team == team_vector[team_i]]['result'])[0])\n",
    "        datediff_list.append(list(sub_df[sub_df.team == team_vector[i]]['datediff'])[0])\n",
    "        split_ind_list.append(list(sub_df[sub_df.team == team_vector[i]]['split_ind'])[0])\n",
    "        patchno_list.append(list(sub_df[sub_df.team == team_vector[i]]['patchno'])[0])\n",
    "        # Save the extracted data in a giant list of lists\n",
    "        global_team_values_list.append(team_values_list)\n",
    "\n",
    "# Visualize dataframe necessary for model_2 structure\n",
    "model2_train_data_df = pd.DataFrame(global_team_values_list, columns = column_name_list)\n",
    "model2_train_data_df = model2_train_data_df.loc[:,~model2_train_data_df.columns.duplicated()]\n",
    "model2_train_data_df['result'] = results_list\n",
    "model2_train_data_df['datediff'] = datediff_list\n",
    "model2_train_data_df['split_ind'] = split_ind_list\n",
    "model2_train_data_df['patchno'] = patchno_list\n",
    "model2_train_data_df['culture_score'] = [team_culturescore_mapping_dict[team] for team in model2_train_data_df.Team]\n",
    "model2_train_data_df.head()"
   ]
  },
  {
   "cell_type": "code",
   "execution_count": null,
   "metadata": {
    "ExecuteTime": {
     "end_time": "2019-08-26T05:03:35.110229Z",
     "start_time": "2019-08-26T04:43:52.167Z"
    }
   },
   "outputs": [],
   "source": [
    "game_match_dict = dict()\n",
    "for gameid in list(model2_train_data_df.game.unique()):\n",
    "    sub_df = model2_train_data_df[model2_train_data_df.game == gameid]\n",
    "    game_list = []\n",
    "    for team, result in zip(sub_df.Team, sub_df.result):\n",
    "        game_list.append((team, result))\n",
    "    game_match_dict[gameid] = game_list\n",
    "game_match_dict"
   ]
  },
  {
   "cell_type": "code",
   "execution_count": null,
   "metadata": {
    "ExecuteTime": {
     "end_time": "2019-08-26T05:03:35.112180Z",
     "start_time": "2019-08-26T04:43:52.169Z"
    },
    "scrolled": true
   },
   "outputs": [],
   "source": [
    "# Extract game-team-result connection original data\n",
    "org_game_match_dict = dict()\n",
    "for gameid in list(pred_subset.gameid.unique()):\n",
    "    sub_df = pred_subset[pred_subset.gameid == gameid]\n",
    "    game_list = []\n",
    "    for team, result in zip(sub_df.team, sub_df.result):\n",
    "        game_list.append((team, result))\n",
    "    org_game_match_dict[gameid] = set(game_list)\n",
    "org_game_match_dict"
   ]
  },
  {
   "cell_type": "code",
   "execution_count": null,
   "metadata": {
    "ExecuteTime": {
     "end_time": "2019-08-26T05:03:35.113524Z",
     "start_time": "2019-08-26T04:43:52.170Z"
    }
   },
   "outputs": [],
   "source": [
    "# Add result list to data\n",
    "result_list = []\n",
    "for i in range(len(model2_train_data_df)):\n",
    "    (team1, score1), (team2, score2) = org_game_match_dict[model2_train_data_df.iloc[i, 0]]\n",
    "    result = score1 if model2_train_data_df.iloc[i, 2] == team1 else score2\n",
    "    result_list.append(result)\n",
    "model2_train_data_df['result_real'] = result_list"
   ]
  },
  {
   "cell_type": "code",
   "execution_count": null,
   "metadata": {
    "ExecuteTime": {
     "end_time": "2019-08-26T05:03:35.115072Z",
     "start_time": "2019-08-26T04:43:52.172Z"
    }
   },
   "outputs": [],
   "source": [
    "# Remove irrelevant features\n",
    "model2_train_data_df = model2_train_data_df.drop(['game','Opp_datediff', 'Opp_split_ind', 'Opp_patchno',], axis=1)\n",
    "# Intermediate summary \n",
    "print(\"The final dataset captures\", len(model2_train_data_df)/2, \"games.\\n\")\n",
    "print(\"The teams that did not got a culture score assigned: \", set(model2_train_data_df[model2_train_data_df.culture_score.isna()]['Team']))"
   ]
  },
  {
   "cell_type": "markdown",
   "metadata": {},
   "source": [
    "## 5. Correct initialization of missing values"
   ]
  },
  {
   "cell_type": "code",
   "execution_count": null,
   "metadata": {
    "ExecuteTime": {
     "end_time": "2019-08-26T05:03:35.116616Z",
     "start_time": "2019-08-26T04:43:52.174Z"
    }
   },
   "outputs": [],
   "source": [
    "# Copy dataframe\n",
    "data_preparation = model2_train_data_df.copy()"
   ]
  },
  {
   "cell_type": "code",
   "execution_count": null,
   "metadata": {
    "ExecuteTime": {
     "end_time": "2019-08-26T05:03:35.118417Z",
     "start_time": "2019-08-26T04:43:52.176Z"
    }
   },
   "outputs": [],
   "source": [
    "# Replace missing values with appropriate indicator\n",
    "data_preparation = data_preparation.replace(to_replace = 'nan', value= np.NaN)\n",
    "data_preparation = data_preparation.replace(to_replace = ' ', value= np.NaN)"
   ]
  },
  {
   "cell_type": "markdown",
   "metadata": {},
   "source": [
    "### 5.1 Missing values per columns\n",
    "Because the importance of the columns might dependent on the position occupied by a player, missing values are analyses in a dataframe independent fashion."
   ]
  },
  {
   "cell_type": "code",
   "execution_count": null,
   "metadata": {
    "ExecuteTime": {
     "end_time": "2019-08-26T05:03:35.120246Z",
     "start_time": "2019-08-26T04:43:52.179Z"
    }
   },
   "outputs": [],
   "source": [
    "# Count of columns with a certain number of missing values\n",
    "percentage_missing_percol = [round(x/len(data_preparation)*100, 4) for x in list(data_preparation.isna().sum())]\n",
    "SummaryCategoricalVar(percentage_missing_percol,\n",
    "                      'The number of columns with a certain percentage of missing values')\n",
    "\n",
    "# Print intermediate summary\n",
    "print(\"-\"*100, \"\\nBroader exploration of the data\\n\", \"-\"*100)\n",
    "print(\"Total number of columns:\", len(percentage_missing_percol), \"\\n\")\n",
    "print(\"Total number of columns with no missing values:\", \n",
    "      len([x for x in percentage_missing_percol if x == 0]),\n",
    "     \"(\", round(len([x for x in percentage_missing_percol if x == 0])/len(percentage_missing_percol)*100, 4), \"%)\\n\")\n",
    "print(\"These are the following columns:\", [y for y, x in zip(data_preparation.columns, percentage_missing_percol) if x == 0], \"\\n\")\n",
    "print(\"The number of columns for which more than half of the information is missing:\", \n",
    "      len([x for x in percentage_missing_percol if x > 50]),\n",
    "     \"(\", round(len([x for x in percentage_missing_percol if x > 50])/len(percentage_missing_percol)*100, 4), \"%)\\n\")\n",
    "print(\"These are the following columns:\", [y for y, x in zip(data_preparation.columns, percentage_missing_percol) if x > 50])"
   ]
  },
  {
   "cell_type": "code",
   "execution_count": null,
   "metadata": {
    "ExecuteTime": {
     "end_time": "2019-08-26T05:03:35.121719Z",
     "start_time": "2019-08-26T04:43:52.181Z"
    }
   },
   "outputs": [],
   "source": [
    "# Remove the columns from the data in case more than half of the observations are missing\n",
    "columns_to_be_dropped = [y for y, x in zip(data_preparation.columns, percentage_missing_percol) if x > 50]\n",
    "data_preparation = data_preparation.drop(columns_to_be_dropped, axis=1)\n",
    "\n",
    "# Intermediate summary \n",
    "print(\"After dropping columns with more than half missing values, namely:\\n\", columns_to_be_dropped)\n",
    "print(len(data_preparation.columns), \"parameters are retained in the dataset.\")"
   ]
  },
  {
   "cell_type": "markdown",
   "metadata": {},
   "source": [
    "### 5.2 Missing values per row"
   ]
  },
  {
   "cell_type": "code",
   "execution_count": null,
   "metadata": {
    "ExecuteTime": {
     "end_time": "2019-08-26T05:03:35.123124Z",
     "start_time": "2019-08-26T04:43:52.183Z"
    }
   },
   "outputs": [],
   "source": [
    "# Count of rows with a certain number of missing values\n",
    "percentage_missing_perobs = [round(x/len(data_preparation.columns)*100, 4) for x in list(data_preparation.isna().sum(axis=1))]\n",
    "SummaryCategoricalVar(percentage_missing_perobs,\n",
    "                      'The number of observations with a certain percentage of missing values')\n",
    "\n",
    "# Print intermediate summary\n",
    "print(\"-\"*100, \"\\nBroader exploration of the data\\n\", \"-\"*100)\n",
    "print(\"Total number of observations:\", len(percentage_missing_perobs), \"\\n\")\n",
    "print(\"Total number of observations with no missing values:\", \n",
    "      len([x for x in percentage_missing_perobs if x == 0]),\n",
    "     \"(\", round(len([x for x in percentage_missing_perobs if x == 0])/len(percentage_missing_perobs)*100, 4), \"%)\\n\")\n",
    "print(\"The number of observations for which more than half of the information is missing:\", \n",
    "      len([x for x in percentage_missing_perobs if x > 50]),\n",
    "     \"(\", round(len([x for x in percentage_missing_perobs if x > 50])/len(percentage_missing_perobs)*100, 4), \"%)\")"
   ]
  },
  {
   "cell_type": "markdown",
   "metadata": {},
   "source": [
    "### 5.3 Missing value imputation\n",
    "To impute missing values the following techniques are applied:\n",
    "* Categorical covariates: random sampling from the discrete distribution representing the probabilities of a value being from a \n",
    "certain category for that covariate. Because of the large amount of data available, it might be interesting to do imputation by sampling randomly from the distribution of available values for a specific covariate, to obtain the least biased estimation of the missing value. It is nevertheless important to get a clear insight into the data with a lot of missing data as well, because these could be biased towards certain column values and hence should be treated with care.\n",
    "* Numerical covariates: Quantile based imputation. Latter imputation technique was considered to avoid an overestimation of strength from the teams of the challenger series enteringg the competition."
   ]
  },
  {
   "cell_type": "code",
   "execution_count": null,
   "metadata": {
    "ExecuteTime": {
     "end_time": "2019-08-26T05:03:35.124663Z",
     "start_time": "2019-08-26T04:43:52.186Z"
    },
    "scrolled": true
   },
   "outputs": [],
   "source": [
    "# Initialization\n",
    "q = 0.15\n",
    "\n",
    "# Probability based missing value imptation (categorical covariates) and median imputation (numerical covariates)\n",
    "for col, col_type in zip(data_preparation.columns, data_preparation.dtypes):\n",
    "    if str(col_type) != 'object' and data_preparation[col].isna().sum() > 0:\n",
    "        data_preparation[col] = data_preparation[col].fillna(data_preparation[col].dropna().quantile(q))\n",
    "    elif data_preparation[col].isna().sum() > 0:\n",
    "        data_preparation[col] = data_preparation[col].fillna(RandomSampleProbDist(data_preparation[col].dropna()))"
   ]
  },
  {
   "cell_type": "code",
   "execution_count": null,
   "metadata": {
    "ExecuteTime": {
     "end_time": "2019-08-26T05:03:35.126086Z",
     "start_time": "2019-08-26T04:43:52.187Z"
    }
   },
   "outputs": [],
   "source": [
    "# Check whether there are still non-imputed missing values in the data\n",
    "np.any(data_preparation.isnull())"
   ]
  },
  {
   "cell_type": "markdown",
   "metadata": {},
   "source": [
    "## 6. Write untransformed data away"
   ]
  },
  {
   "cell_type": "code",
   "execution_count": null,
   "metadata": {
    "ExecuteTime": {
     "end_time": "2019-08-26T05:03:35.127343Z",
     "start_time": "2019-08-26T04:43:52.189Z"
    }
   },
   "outputs": [],
   "source": [
    "# Write data away in pickle\n",
    "with open('/home/je32910/MasterThesis_ComputationalStatistics/pickles/' + filename + '.pickle', 'wb') as f:\n",
    "    pickle.dump(data_preparation, f)"
   ]
  },
  {
   "cell_type": "code",
   "execution_count": null,
   "metadata": {
    "ExecuteTime": {
     "end_time": "2019-08-26T05:03:35.128712Z",
     "start_time": "2019-08-26T04:43:52.191Z"
    }
   },
   "outputs": [],
   "source": [
    "data_preparation.columns"
   ]
  },
  {
   "cell_type": "code",
   "execution_count": null,
   "metadata": {},
   "outputs": [],
   "source": []
  }
 ],
 "metadata": {
  "kernelspec": {
   "display_name": "Python [conda env:python36]",
   "language": "python",
   "name": "conda-env-python36-py"
  },
  "language_info": {
   "codemirror_mode": {
    "name": "ipython",
    "version": 3
   },
   "file_extension": ".py",
   "mimetype": "text/x-python",
   "name": "python",
   "nbconvert_exporter": "python",
   "pygments_lexer": "ipython3",
   "version": "3.6.8"
  }
 },
 "nbformat": 4,
 "nbformat_minor": 2
}
