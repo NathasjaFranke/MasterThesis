{
 "cells": [
  {
   "cell_type": "markdown",
   "metadata": {},
   "source": [
    "# Masterthesis: Preprocessing Team Data"
   ]
  },
  {
   "cell_type": "code",
   "execution_count": 1,
   "metadata": {
    "ExecuteTime": {
     "end_time": "2019-07-12T05:32:31.394569Z",
     "start_time": "2019-07-12T05:32:31.391305Z"
    }
   },
   "outputs": [],
   "source": [
    "# Specify whether the team ratios need to be calculated or not:\n",
    "teamratio = False"
   ]
  },
  {
   "cell_type": "code",
   "execution_count": 2,
   "metadata": {
    "ExecuteTime": {
     "end_time": "2019-07-12T05:32:31.443172Z",
     "start_time": "2019-07-12T05:32:31.398856Z"
    }
   },
   "outputs": [],
   "source": [
    "# Specify data range in scope\n",
    "scope_split_list = ['2017-2', '2017-2po', '2017-2rq', '2017-2pr', '2017-1', '2017-1po',\n",
    "                    '2017-1pr']\n",
    "#scope_split_list = ['2017-2', '2017-2po', '2017-2rq', '2017-2pr', '2017-1', '2017-1po',\n",
    "#                    '2017-1pr', '2017-W', '2018-1', '2018-1P', '2018-2rq', '2018-2', '2018-2p']"
   ]
  },
  {
   "cell_type": "code",
   "execution_count": 3,
   "metadata": {
    "ExecuteTime": {
     "end_time": "2019-07-12T05:32:31.475066Z",
     "start_time": "2019-07-12T05:32:31.445529Z"
    }
   },
   "outputs": [],
   "source": [
    "# Name of the preprocessed datafile written away\n",
    "filename = 'teamdata2017_preprocessed'\n",
    "#filename = 'teamdata2018_preprocessed'"
   ]
  },
  {
   "cell_type": "markdown",
   "metadata": {},
   "source": [
    "## 0. Load libraries and define functions"
   ]
  },
  {
   "cell_type": "code",
   "execution_count": 4,
   "metadata": {
    "ExecuteTime": {
     "end_time": "2019-07-12T05:32:32.390374Z",
     "start_time": "2019-07-12T05:32:31.477396Z"
    }
   },
   "outputs": [],
   "source": [
    "# Functions\n",
    "import numpy as np\n",
    "import os\n",
    "import pickle\n",
    "import pandas as pd\n",
    "from pandas.api.types import is_string_dtype\n",
    "from pandas.api.types import is_numeric_dtype\n",
    "from datetime import datetime\n",
    "from collections import Counter\n",
    "from numpy.random import choice\n",
    "from scipy import stats\n",
    "import operator\n",
    "import itertools\n",
    "import statistics\n",
    "\n",
    "import seaborn as sns\n",
    "import matplotlib.pyplot as plt\n",
    "from matplotlib import cm"
   ]
  },
  {
   "cell_type": "code",
   "execution_count": 5,
   "metadata": {
    "ExecuteTime": {
     "end_time": "2019-07-12T05:32:32.398705Z",
     "start_time": "2019-07-12T05:32:32.393162Z"
    }
   },
   "outputs": [
    {
     "data": {
      "text/plain": [
       "<matplotlib.colors.ListedColormap at 0x7f1477139278>"
      ]
     },
     "execution_count": 5,
     "metadata": {},
     "output_type": "execute_result"
    }
   ],
   "source": [
    "cm.get_cmap(name='tab20b')"
   ]
  },
  {
   "cell_type": "code",
   "execution_count": 6,
   "metadata": {
    "ExecuteTime": {
     "end_time": "2019-07-12T05:32:32.432577Z",
     "start_time": "2019-07-12T05:32:32.400495Z"
    }
   },
   "outputs": [],
   "source": [
    "### Function used to return a summary for categorical variables\n",
    "def SummaryCategoricalVar(list_of_values, title, threshold = 15, top = 10):\n",
    "    \"\"\"\n",
    "    param: list_of_values (list): A list of categorical values from which we like to obtain the distribution\n",
    "    param: title (string): The title for the visualization\n",
    "    param: threshold (int): The maximal number of categories that should be visualized\n",
    "    param: top (int): The top k values that should be returned in the written summary when the number of categories is above the threshold\n",
    "    \"\"\"\n",
    "    # Count the number of occurrances in the list\n",
    "    cnt = Counter(list_of_values)\n",
    "    sorted_cnt = sorted(cnt.items(), key=operator.itemgetter(1))[::-1]\n",
    "    \n",
    "    # Show the percentage dictionary if to many categories to represent\n",
    "    print(\"-\"* 100, \"\\nOverview of variable: \", title, \"\\n\", \"-\"*100)\n",
    "    print(\"Total categories:\", len(cnt), \"\\n\")\n",
    "    if len(cnt) > threshold:\n",
    "        if len(cnt) < top*2:\n",
    "            for key, value in sorted_cnt:\n",
    "                print(key, ':', round(value/len(list_of_values)*100, 4), \"%\")\n",
    "        else:\n",
    "            print(\"The 10 with the highest percentage data available:\\n\")\n",
    "            for key, value in sorted_cnt[:top]:\n",
    "                print(key, ':', round(value/len(list_of_values)*100, 4), \"%\")\n",
    "            print(\"\\nThe 10 with the lowest percentage data available:\\n\")\n",
    "            for key, value in sorted_cnt[len(cnt) - top:]:\n",
    "                print(key, ':', round(value/len(list_of_values)*100, 4), \"%\")\n",
    "                \n",
    "    # Visualization of labelled data distribution\n",
    "    else:\n",
    "        plt.barh(range(1, len(sorted_cnt)+1), \n",
    "                 list(map(lambda x: (x/len(list_of_values)*100), [score for label, score in sorted_cnt])), \n",
    "                 tick_label = list([label for label, score in sorted_cnt]),\n",
    "                 color = 'cornflowerblue', \n",
    "                 edgecolor = 'steelblue')\n",
    "        plt.ylabel('Label')\n",
    "        plt.xlabel('Percentage observations in dataset')\n",
    "        plt.title(title)\n",
    "        plt.show()    "
   ]
  },
  {
   "cell_type": "code",
   "execution_count": 7,
   "metadata": {
    "ExecuteTime": {
     "end_time": "2019-07-12T05:32:32.463220Z",
     "start_time": "2019-07-12T05:32:32.434629Z"
    }
   },
   "outputs": [],
   "source": [
    "### Function used to return a summary for numeric variables\n",
    "def SummaryNumericVar(list_of_values, title):\n",
    "    \"\"\"\n",
    "    param: list_of_values (list): A list of categorical values from which we like to obtain the distribution\n",
    "    param: title (string): The title for the visualization\n",
    "    \"\"\"\n",
    "    \n",
    "    # Title varibale\n",
    "    print(\"=\"* 100, \"\\nOverview of variable: \", title, \"\\n\", \"=\"*100)\n",
    "\n",
    "    # An \"interface\" to matplotlib.axes.Axes.hist() method\n",
    "    n, bins, patches = plt.hist(x = list_of_values, bins='auto', color= '#0504aa', alpha=0.7, rwidth=0.85)\n",
    "    plt.grid(axis='y', alpha=0.75)\n",
    "    plt.xlabel('Value')\n",
    "    plt.ylabel('Frequency')\n",
    "    plt.title(title)\n",
    "    plt.ylim(ymax=np.ceil(n.max() / 10) * 10 if n.max() % 10 else n.max() + 10)\n",
    "    plt.show()\n",
    "\n",
    "    # Print summary statistics\n",
    "    print(\"-\"*20, \"\\nSummary statistics:\\n\", \"-\"*20)\n",
    "    print(\"Minimum value:\", min(list_of_values))\n",
    "    print(\"Mean:\", round(statistics.mean(list_of_values), 4))\n",
    "    print(\"Standard deviation:\", round(statistics.stdev(list_of_values), 4))\n",
    "    print(\"Median:\", round(statistics.median(list_of_values), 4))\n",
    "    print(\"Maximal value:\", max(list_of_values))\n",
    "\n",
    "    # Plot boxplot\n",
    "    plt.boxplot(list_of_values, 0, 'grey', 0)\n",
    "    plt.xlabel('Value')\n",
    "    plt.title(title)\n",
    "    plt.show()\n",
    "\n",
    "    # Present outliers\n",
    "    print(\"-\"*20, \"\\nOutlier detection:\\n\", \"-\"*20)\n",
    "    print(\"List of outliers:\", {round(value,2) for z_score, value in zip(np.abs(stats.zscore(list_of_values)), list_of_values) if z_score > 3})\n",
    "\n",
    "    # Check for normally distributed\n",
    "    stats.probplot(list_of_values, dist=\"norm\", plot= plt)\n",
    "    plt.show()\n",
    "\n",
    "    # Statistics to check normality\n",
    "    print(\"-\"*20, \"\\nCheck for normal distribution:\\n\", \"-\"*20)\n",
    "    print(\"Skewedness:\", round(stats.skew(list_of_values), 4))\n",
    "    print(\"Kurtosis:\", round(stats.kurtosis(list_of_values), 4))"
   ]
  },
  {
   "cell_type": "code",
   "execution_count": 8,
   "metadata": {
    "ExecuteTime": {
     "end_time": "2019-07-12T05:32:32.497231Z",
     "start_time": "2019-07-12T05:32:32.465480Z"
    }
   },
   "outputs": [],
   "source": [
    "### Function used to draw a random sample from the discrete distribution of probabilities representing the input list\n",
    "def RandomSampleProbDist(list_of_values, draws = 1):\n",
    "    \"\"\"\n",
    "    :param: list_of_values (list): A list of categorical values representing the observations in the dataset\n",
    "    :param: draws (int): The number of samples desired to be returned\n",
    "    :return: (array) An array capturing the sampled categories\n",
    "    \"\"\"\n",
    "    # Only the non-missing values are considered in the sampling procedure\n",
    "    non_missing_list = list_of_values.dropna()\n",
    "    # Sample from the discrete probability distribution representing the categorical variable\n",
    "    return list(choice(list(Counter(non_missing_list)), \n",
    "                  draws, \n",
    "                  p = list(map(lambda x: x/len(non_missing_list), \n",
    "                               Counter(non_missing_list).values()))))[0]"
   ]
  },
  {
   "cell_type": "markdown",
   "metadata": {},
   "source": [
    "## 1. Load data"
   ]
  },
  {
   "cell_type": "markdown",
   "metadata": {},
   "source": [
    "### 1.1 Extract raw data"
   ]
  },
  {
   "cell_type": "markdown",
   "metadata": {},
   "source": [
    "#### Read in raw data xlsx format"
   ]
  },
  {
   "cell_type": "code",
   "execution_count": 9,
   "metadata": {
    "ExecuteTime": {
     "end_time": "2019-07-12T05:34:29.275190Z",
     "start_time": "2019-07-12T05:32:32.500167Z"
    },
    "scrolled": true
   },
   "outputs": [
    {
     "name": "stdout",
     "output_type": "stream",
     "text": [
      "True\n",
      "True\n",
      "True\n"
     ]
    }
   ],
   "source": [
    "# Load the data and create panda's dataframe\n",
    "pd_df_2016 = pd.ExcelFile('Data/2016-complete-match-data-OraclesElixir-2017-09-18.xlsx')\n",
    "pd_df_2017 = pd.ExcelFile('Data/2017matchdataOraclesElixir.xlsx')\n",
    "pd_df_2018_spring = pd.ExcelFile('Data/2018-spring-match-data-OraclesElixir-2018-05-20.xlsx')\n",
    "pd_df_2018_summer = pd.ExcelFile('Data/2018 summer match data OraclesElixir 2018-09-27.xlsx')\n",
    "pd_df_2018_worlds = pd.ExcelFile('Data/2018-worlds-match-data-OraclesElixir-2018-11-03.xlsx')\n",
    "\n",
    "# Put the data in a dataframe\n",
    "df_2016 = pd_df_2016.parse(0)\n",
    "df_2017 = pd_df_2017.parse(0)\n",
    "df_2018_spring = pd_df_2018_spring.parse(0)\n",
    "df_2018_summer = pd_df_2018_summer.parse(0)\n",
    "df_2018_worlds = pd_df_2018_worlds.parse(0)\n",
    "\n",
    "# Check whether most recent datasets represent the same features\n",
    "print(all(df_2017.columns == df_2018_spring.columns))\n",
    "print(all(df_2017.columns == df_2018_summer.columns))\n",
    "print(all(df_2017.columns == df_2018_worlds.columns))"
   ]
  },
  {
   "cell_type": "markdown",
   "metadata": {},
   "source": [
    "#### Concatenate dataframes"
   ]
  },
  {
   "cell_type": "code",
   "execution_count": 10,
   "metadata": {
    "ExecuteTime": {
     "end_time": "2019-07-12T05:34:29.293479Z",
     "start_time": "2019-07-12T05:34:29.278526Z"
    }
   },
   "outputs": [],
   "source": [
    "# Add extra column indicating the year of the data\n",
    "df_2017['Year'] = ['2017' for i in range(len(df_2017))]\n",
    "df_2018_spring['Year'] = ['2018' for i in range(len(df_2018_spring))]\n",
    "df_2018_summer['Year'] = ['2018' for i in range(len(df_2018_summer))]\n",
    "df_2018_worlds['Year'] = ['2018' for i in range(len(df_2018_worlds))]"
   ]
  },
  {
   "cell_type": "code",
   "execution_count": 11,
   "metadata": {
    "ExecuteTime": {
     "end_time": "2019-07-12T05:34:29.639073Z",
     "start_time": "2019-07-12T05:34:29.295636Z"
    }
   },
   "outputs": [],
   "source": [
    "# Initialize data you want to analyse\n",
    "data_exploration = pd.concat([df_2017, df_2018_spring, df_2018_summer, df_2018_worlds])"
   ]
  },
  {
   "cell_type": "markdown",
   "metadata": {},
   "source": [
    "#### Retain only split data in scope"
   ]
  },
  {
   "cell_type": "code",
   "execution_count": 12,
   "metadata": {
    "ExecuteTime": {
     "end_time": "2019-07-12T05:34:29.895434Z",
     "start_time": "2019-07-12T05:34:29.641183Z"
    }
   },
   "outputs": [
    {
     "data": {
      "text/plain": [
       "{'2017'}"
      ]
     },
     "execution_count": 12,
     "metadata": {},
     "output_type": "execute_result"
    }
   ],
   "source": [
    "# Retain data in scope \n",
    "data_exploration = data_exploration[data_exploration.split.isin(scope_split_list)]\n",
    "set(data_exploration['Year'])"
   ]
  },
  {
   "cell_type": "markdown",
   "metadata": {},
   "source": [
    "### 1.2 Only retain team data from 1-1 matchups\n",
    "Only team data is retained from matchups (based on the unique gameid identifier) in which two teams played against each other. "
   ]
  },
  {
   "cell_type": "code",
   "execution_count": 13,
   "metadata": {
    "ExecuteTime": {
     "end_time": "2019-07-12T05:34:29.928636Z",
     "start_time": "2019-07-12T05:34:29.897081Z"
    }
   },
   "outputs": [],
   "source": [
    "# Retain team level parameter information\n",
    "data_exploration = data_exploration[data_exploration.position == 'Team']"
   ]
  },
  {
   "cell_type": "code",
   "execution_count": 14,
   "metadata": {
    "ExecuteTime": {
     "end_time": "2019-07-12T05:34:34.715437Z",
     "start_time": "2019-07-12T05:34:29.930562Z"
    }
   },
   "outputs": [],
   "source": [
    "# Create dictionary capturing the team and its opponent during a matchup\n",
    "matchup_dict = {}\n",
    "for gameID in list(set(data_exploration.gameid)):\n",
    "    matchup_df = data_exploration[data_exploration.gameid == gameID]\n",
    "    matchup_dict[gameID] = set(matchup_df.team)"
   ]
  },
  {
   "cell_type": "code",
   "execution_count": 15,
   "metadata": {
    "ExecuteTime": {
     "end_time": "2019-07-12T05:34:34.725682Z",
     "start_time": "2019-07-12T05:34:34.717268Z"
    },
    "scrolled": true
   },
   "outputs": [
    {
     "name": "stdout",
     "output_type": "stream",
     "text": [
      "The number of teams corresponding to the same game-id in the dataset:\n",
      "2 : 2946\n",
      "4 : 25\n",
      "3 : 1\n",
      "\n",
      "We are only interested in games involving two teams and hence removed the others from further analysis:\n",
      "Latter allowed us to retain 99.1252 % of the initial matchup data\n",
      "Information from 2946 are retained in the final dataset\n"
     ]
    }
   ],
   "source": [
    "# Intermediate summary\n",
    "print(\"The number of teams corresponding to the same game-id in the dataset:\")\n",
    "matchup_dict_counter = Counter([len(x) for x in matchup_dict.values()])\n",
    "for ID, teams in matchup_dict_counter.items():\n",
    "    print(ID, \":\", teams)\n",
    "print(\"\\nWe are only interested in games involving two teams and hence removed the others from further analysis:\")\n",
    "print(\"Latter allowed us to retain\", round(matchup_dict_counter[2]/sum(matchup_dict_counter.values())*100, 4) ,\"% of the initial matchup data\")\n",
    "print(\"Information from\", matchup_dict_counter[2], \"are retained in the final dataset\")"
   ]
  },
  {
   "cell_type": "code",
   "execution_count": 16,
   "metadata": {
    "ExecuteTime": {
     "end_time": "2019-07-12T05:34:34.768309Z",
     "start_time": "2019-07-12T05:34:34.727873Z"
    }
   },
   "outputs": [],
   "source": [
    "# Remove biased match-up data\n",
    "unbiased_gameids = [gameID for gameID, teams in matchup_dict.items() if len(teams) == 2]\n",
    "data_exploration = data_exploration[data_exploration['gameid'].isin(unbiased_gameids)]"
   ]
  },
  {
   "cell_type": "markdown",
   "metadata": {},
   "source": [
    "### 1.3 Adjust team parameter in dataset\n",
    "The parameter describing the team was lowercased and the bias in spelling mistakes made and the use of different names to indicate the same team and was removed by manually exploring the data and creating a matching dictionary. All the teams were retained in the final dataset (also the ones for which no strength parameters will be calculated) to allow us to build a model on as much data as possible."
   ]
  },
  {
   "cell_type": "code",
   "execution_count": 17,
   "metadata": {
    "ExecuteTime": {
     "end_time": "2019-07-12T05:34:34.797408Z",
     "start_time": "2019-07-12T05:34:34.770375Z"
    }
   },
   "outputs": [],
   "source": [
    "# Team matching dictionary\n",
    "team_dict = {'100 thieves': ['100 thieves', '100 thieves academy'],\n",
    "             'ahq': ['ahq e-sports club', 'ahq fighter'],\n",
    "             'cloud9': ['cloud9', 'cloud9 academy'],\n",
    "             'clutch gaming': ['clutch gaming', 'clutch gaming academy'],\n",
    "             'counter logic gaming': ['counter logic gaming', 'clg academy'],\n",
    "             'echo fox': ['echo fox', 'echo fox academy'],\n",
    "             'flyquest': ['flyquest', 'flyquest academy'],\n",
    "             'fnatic': ['fnatic', 'fnatic academy'],\n",
    "             'giants': ['giants', 'giants gaming'],\n",
    "             'golden guardians': ['golden guardians', 'golden guardians academy'],\n",
    "             'intz': ['intz e-sports', 'intz e-sports club'],\n",
    "             'kabum': ['kabum e-sports', 'kabum esports'],\n",
    "             'kongdoo monster': ['kongdoo mongster', 'kongdoo monster'],\n",
    "             'misfits': ['misfits', 'misfits academy'],\n",
    "             'optic': ['optic academy', 'optic gaming'],\n",
    "             'team liquid': ['team liquid', 'team liquid academy'],\n",
    "             'team one': ['team one e-sports', 'team one esports']}\n",
    "\n",
    "team_match_dict = {v:k for k, v_list in team_dict.items() for v in v_list}"
   ]
  },
  {
   "cell_type": "code",
   "execution_count": 18,
   "metadata": {
    "ExecuteTime": {
     "end_time": "2019-07-12T05:34:34.835079Z",
     "start_time": "2019-07-12T05:34:34.799445Z"
    }
   },
   "outputs": [],
   "source": [
    "# Adjust the team parameter in the data\n",
    "list_of_teams = [x.lower() for x in data_exploration.team]\n",
    "data_exploration = data_exploration.drop(['team'], axis= 1)\n",
    "unbiased_teamlist = [team_match_dict[team] if team in team_match_dict else team for team in list_of_teams]\n",
    "data_exploration[\"team\"] = unbiased_teamlist"
   ]
  },
  {
   "cell_type": "markdown",
   "metadata": {},
   "source": [
    "## 2 Create extra features"
   ]
  },
  {
   "cell_type": "markdown",
   "metadata": {},
   "source": [
    "### 2.1 Culture"
   ]
  },
  {
   "cell_type": "code",
   "execution_count": 19,
   "metadata": {
    "ExecuteTime": {
     "end_time": "2019-07-12T05:34:34.866407Z",
     "start_time": "2019-07-12T05:34:34.837309Z"
    }
   },
   "outputs": [
    {
     "name": "stdout",
     "output_type": "stream",
     "text": [
      "Not all leagues could be represented by the dictionary used, the ones for which no match was found:  {'RRNAEU', 'RRAsia'}\n"
     ]
    }
   ],
   "source": [
    "# Create dictionary matching the league with its corresponding culture\n",
    "culture_dict = {'CBLoL': 'Brazil', 'EULCS': 'Europe', 'LCK': 'Korea',\n",
    "                'LMS': 'Taiwan, Hong Kong & Macau', 'LPL': 'China',\n",
    "                'NALCS': 'North America', 'TCL': 'Turkey',\n",
    "                'LCL': 'Commonwealth of Independent States', 'LJL': 'Japan',\n",
    "                'LLN': 'Latin America - North', 'OPL': 'Oceania', \n",
    "                'GPL': 'Southeast Asia', 'VCS': 'Vietnam',\n",
    "                'WC': 'International', 'MSI': 'International',\n",
    "                'EUPR': 'Europe', 'NAAc': 'North America',\n",
    "                'EUCS': 'Europe', 'NAPR': 'North America',\n",
    "                'NACS': 'North America'}\n",
    "\n",
    "data_exploration['culture'] = [culture_dict[l] if l in culture_dict else np.nan for l in data_exploration['league']]\n",
    "\n",
    "# Intermediate summary\n",
    "if not set(data_exploration['league']).issubset(set(culture_dict.keys())):\n",
    "    print(\"Not all leagues could be represented by the dictionary used, the ones for which no match was found: \",\n",
    "          set(data_exploration['league']) - set(culture_dict.keys()))"
   ]
  },
  {
   "cell_type": "markdown",
   "metadata": {},
   "source": [
    "### 2.2 Recency of game played"
   ]
  },
  {
   "cell_type": "code",
   "execution_count": 20,
   "metadata": {
    "ExecuteTime": {
     "end_time": "2019-07-12T05:34:34.941992Z",
     "start_time": "2019-07-12T05:34:34.868521Z"
    },
    "scrolled": true
   },
   "outputs": [],
   "source": [
    "# Time indicator (days since game was last played)\n",
    "dates = [datetime.utcfromtimestamp((x- 25569) * 86400.0) if isinstance(x, float) else datetime.utcfromtimestamp(0) for x in data_exploration[\"date\"]]\n",
    "\n",
    "# Calculate the date difference with today\n",
    "daydiff = [(datetime.now() - x).days if not x == datetime.utcfromtimestamp(0) else np.NaN for x in dates]\n",
    "\n",
    "\n",
    "# At column with date difference indicator to the dataframe and drop unicode indications \n",
    "data_exploration[\"datediff\"] = daydiff\n",
    "data_exploration = data_exploration.drop(['date'], axis= 1)"
   ]
  },
  {
   "cell_type": "markdown",
   "metadata": {},
   "source": [
    "### 2.3 Match importance\n",
    "In the data the following abbreviations are used to define the split: The year the game was played combined with a specific suffix (1 spring, 2 summer, po playoffs, r regionals, w worlds). Based on expert knowledge a matchimportance ranking was done."
   ]
  },
  {
   "cell_type": "code",
   "execution_count": 21,
   "metadata": {
    "ExecuteTime": {
     "end_time": "2019-07-12T05:34:34.968678Z",
     "start_time": "2019-07-12T05:34:34.944187Z"
    }
   },
   "outputs": [],
   "source": [
    "# Initialization of match importance\n",
    "match_imp_dict = {'1':1, '2':2, 'W':4, 'po':1.5, '2017':1, '2018':2}\n",
    "\n",
    "# Extract rank information needed to process match importance\n",
    "matchimp_list = [s.split('-') for s in set(data_exploration['split']) if s != 'nan']\n",
    "\n",
    "# Create dictionary for mapping\n",
    "match_imp_mapping_dict = dict()\n",
    "for year, split in matchimp_list:\n",
    "    playoff = match_imp_dict['po'] if any(s in split for s in ['po', 'rq', 'pr']) else 1\n",
    "    match_imp_mapping_dict[year + '-' + split] = match_imp_dict[year] * match_imp_dict[split[0]] *playoff    \n",
    "\n",
    "# Map the values of the dataframe for the different patch numbers\n",
    "data_exploration['split'] = [match_imp_mapping_dict[s] if s in match_imp_mapping_dict else np.nan for s in data_exploration['split']]"
   ]
  },
  {
   "cell_type": "markdown",
   "metadata": {},
   "source": [
    "### 2.4 Patch number\n",
    "The patch number will be ranked in an ordinal fashion, giving higher values to more recent patches. There was no magnitude based ranking used because of its irrelevance for this specific situation."
   ]
  },
  {
   "cell_type": "code",
   "execution_count": 22,
   "metadata": {
    "ExecuteTime": {
     "end_time": "2019-07-12T05:34:35.012617Z",
     "start_time": "2019-07-12T05:34:34.970927Z"
    }
   },
   "outputs": [],
   "source": [
    "# Extract rank information needed to process patch number\n",
    "patchno_split_list = [str(patchno).split('.') for patchno in set(data_exploration['patchno']) if any(char.isdigit() for char in str(patchno))]\n",
    "patchno_split_list = [[int(p), int(n)] if len(n) == 2 else [int(p), int(n + '0')] for p, n in patchno_split_list]\n",
    "patch_sorted, no_sorted = sorted(list(set([p for p, n in patchno_split_list]))), sorted(list(set([n for p, n in patchno_split_list])))\n",
    "\n",
    "# Create dictionary for mapping\n",
    "patchno_mapping_dict, counter = dict(), 0\n",
    "for patch in patch_sorted:\n",
    "    for no in no_sorted:\n",
    "        # Customize patch number\n",
    "        if len(str(no)) == 1:\n",
    "            custom_no = '0' + str(no)\n",
    "        elif str(no)[-1] == '0':\n",
    "            custom_no = str(no)[:-1]\n",
    "        else: \n",
    "            custom_no = str(no)\n",
    "        # Fill matching dictionary\n",
    "        patchno_mapping_dict[str(patch) + '.' + custom_no] = counter\n",
    "        counter += 1\n",
    "\n",
    "# Map the values of the dataframe for the different patch numbers\n",
    "data_exploration['patchno'] = [patchno_mapping_dict[str(patchno)] if str(patchno) in patchno_mapping_dict else np.nan for patchno in data_exploration['patchno']]"
   ]
  },
  {
   "cell_type": "markdown",
   "metadata": {},
   "source": [
    "## 3. Drop irrelevant features\n",
    "Information provided by the url kolom and the opp-features captured by the dataset can assumed to be irrelevant, because latter show high collinearity with other features present in the dataset. Hence, it was decided upon removing these features to avoid them from biasing our results any further."
   ]
  },
  {
   "cell_type": "code",
   "execution_count": 23,
   "metadata": {
    "ExecuteTime": {
     "end_time": "2019-07-12T05:34:35.051101Z",
     "start_time": "2019-07-12T05:34:35.014428Z"
    }
   },
   "outputs": [],
   "source": [
    "# Drop irrelevant feature url and opponent scores\n",
    "data_exploration = data_exploration.drop(labels=['url', 'oppbaronkills', 'oppgoldat10', 'oppgoldat15', \n",
    "                                                 'oppxpat10', 'oppcsat10', 'oppcsat15', 'teamdeaths',\n",
    "                                                 'oppdragkills', 'oppelementals', 'oppelders', 'playerid',\n",
    "                                                 'okpm', 'opptowerkills', 'position', 'player', 'week', \n",
    "                                                 'champion', 'doubles', 'triples', 'quadras', 'pentas'], axis=1)"
   ]
  },
  {
   "cell_type": "markdown",
   "metadata": {},
   "source": [
    "### 4. Assign correct feature type"
   ]
  },
  {
   "cell_type": "code",
   "execution_count": 24,
   "metadata": {
    "ExecuteTime": {
     "end_time": "2019-07-12T05:34:35.176559Z",
     "start_time": "2019-07-12T05:34:35.057197Z"
    }
   },
   "outputs": [],
   "source": [
    "# Extract variables to be analysed\n",
    "categorical_variables = ['league', 'culture', 'game', 'side', 'team', 'fbvictim',\n",
    "                         'ban1', 'ban2', 'ban3', 'ban4', 'ban5', 'result', 'fb', 'fbassist',\n",
    "                         'fd', 'herald', 'ft', 'firstmidouter', 'firsttothreetowers', 'fbaron',\n",
    "                         'Year', 'gameid']\n",
    "numerical_variables = ['gamelength', 'k', 'd', 'a', 'teamkills', 'fbtime', 'kpm', 'ckpm', 'fdtime',\n",
    "                       'teamdragkills', 'elementals', 'firedrakes', 'waterdrakes', 'earthdrakes',\n",
    "                       'airdrakes', 'elders', 'heraldtime', 'fttime', 'teamtowerkills', 'split', 'patchno',\n",
    "                       'fbarontime', 'teambaronkills', 'dmgtochamps', 'dmgtochampsperminute', 'dmgshare',\n",
    "                       'earnedgoldshare', 'wards', 'wpm', 'wardshare', 'wardkills', 'wcpm', 'visionwards',\n",
    "                       'visionwardbuys', 'visiblewardclearrate', 'invisiblewardclearrate', 'totalgold',\n",
    "                       'earnedgpm', 'goldspent', 'gspd', 'minionkills', 'monsterkills', 'monsterkillsownjungle',\n",
    "                       'monsterkillsenemyjungle', 'cspm', 'goldat10', 'gdat10', 'goldat15', 'gdat15', 'xpat10',\n",
    "                       'xpdat10', 'csat10', 'csdat10', 'csat15', 'csdat15', 'datediff']\n",
    "\n",
    "# Correctly define feature types \n",
    "for i in data_exploration.columns.values:\n",
    "    if i in categorical_variables:\n",
    "        data_exploration[i] = data_exploration[i].astype(str)\n",
    "    elif i in numerical_variables:\n",
    "        data_exploration[i]= pd.to_numeric(data_exploration[i], errors='coerce')"
   ]
  },
  {
   "cell_type": "markdown",
   "metadata": {},
   "source": [
    "### 5. Feature adjustment: ratio's indicating team dependence"
   ]
  },
  {
   "cell_type": "code",
   "execution_count": 25,
   "metadata": {
    "ExecuteTime": {
     "end_time": "2019-07-12T05:34:35.243730Z",
     "start_time": "2019-07-12T05:34:35.187063Z"
    }
   },
   "outputs": [],
   "source": [
    "# Copy dataframe\n",
    "data_preparation = data_exploration.copy()"
   ]
  },
  {
   "cell_type": "code",
   "execution_count": 26,
   "metadata": {
    "ExecuteTime": {
     "end_time": "2019-07-12T05:34:35.320238Z",
     "start_time": "2019-07-12T05:34:35.245863Z"
    }
   },
   "outputs": [],
   "source": [
    "# Change features to ratio based features if desired\n",
    "if teamratio:    \n",
    "    \n",
    "    # Define columns that should be represented as ratios\n",
    "    numerical_variables_teamratio = ['k', 'd', 'a', 'teamkills', 'kpm', 'teamdragkills', 'elementals',\n",
    "                                     'firedrakes', 'waterdrakes', 'earthdrakes', 'airdrakes', 'elders',\n",
    "                                     'teamtowerkills', 'teambaronkills', 'dmgtochamps', 'dmgtochampsperminute',\n",
    "                                     'dmgshare', 'earnedgoldshare', 'wards', 'wpm', 'wardshare', 'wardkills', \n",
    "                                     'wcpm', 'visionwards', 'visionwardbuys', 'visiblewardclearrate', \n",
    "                                     'invisiblewardclearrate', 'totalgold', 'earnedgpm', 'goldspent',\n",
    "                                     'minionkills', 'monsterkills', 'monsterkillsownjungle', 'monsterkillsenemyjungle',\n",
    "                                     'cspm', 'goldat10', 'goldat15', 'xpat10', 'csat10', 'csat15']\n",
    "\n",
    "    # Create new dataframe to avoid overwriting previous one\n",
    "    data_preparation = data_exploration.copy()\n",
    "    data_preparation.index = list(range(0, len(data_exploration)))\n",
    "    data_preparation = data_preparation.drop(labels= numerical_variables_teamratio, axis=1)\n",
    "\n",
    "    # Extract ordered list with unique game_ids\n",
    "    ordered_gameid_list = list(data_preparation.gameid)[::2]\n",
    "\n",
    "    # Ingest ratio information in dataframe\n",
    "    print(\"Column currently looping over:\\n\", \"-\"*100)\n",
    "    for col in numerical_variables_teamratio:\n",
    "        col_ratio_list = []\n",
    "        for gameID in ordered_gameid_list: \n",
    "            subdata_gameid = data_exploration[data_exploration.gameid == gameID]\n",
    "            values_for_comparison = list(subdata_gameid[col])\n",
    "            # If information is missing of one of the teams the ratio will be missing\n",
    "            if np.any(subdata_gameid[col].isnull()):\n",
    "                col_ratio_list.append(np.nan)\n",
    "                col_ratio_list.append(np.nan)\n",
    "            # If both teams indicate zero, the ratio will be 0.5\n",
    "            elif values_for_comparison[0] == 0 and values_for_comparison[1] == 0:\n",
    "                col_ratio_list.append(0.5)\n",
    "                col_ratio_list.append(0.5)\n",
    "            # (after exclusion above) If one team has a value of zero, the ratio for the other team will be one\n",
    "            elif values_for_comparison[0] == 0:\n",
    "                col_ratio_list.append(0)\n",
    "                col_ratio_list.append(1)\n",
    "            # (after exclusion above) If one team has a value of zero, the ratio for the other team will be one\n",
    "            elif values_for_comparison[1] == 0:\n",
    "                col_ratio_list.append(1)\n",
    "                col_ratio_list.append(0)\n",
    "             # In case none of the exclusions above count, the ratio is calculated\n",
    "            else:\n",
    "                col_ratio_list.append(float(values_for_comparison[0])/sum(values_for_comparison))\n",
    "                col_ratio_list.append(float(values_for_comparison[1])/sum(values_for_comparison))\n",
    "        data_preparation[col] = col_ratio_list\n",
    "        print(col)"
   ]
  },
  {
   "cell_type": "markdown",
   "metadata": {},
   "source": [
    "Remark: Devision by zero can occur when calculating ratios. To avoid a bias each time a devision by zero would occur, the team under inspection is assigned a value of 1, while the other team gets a value of zero."
   ]
  },
  {
   "cell_type": "markdown",
   "metadata": {},
   "source": [
    "## 6. Correct initialization of missing values"
   ]
  },
  {
   "cell_type": "code",
   "execution_count": 27,
   "metadata": {
    "ExecuteTime": {
     "end_time": "2019-07-12T05:34:35.527910Z",
     "start_time": "2019-07-12T05:34:35.322463Z"
    }
   },
   "outputs": [],
   "source": [
    "# Replace missing values with appropriate indicator\n",
    "data_preparation = data_preparation.replace(to_replace = 'nan', value= np.NaN)\n",
    "data_preparation = data_preparation.replace(to_replace = ' ', value= np.NaN)"
   ]
  },
  {
   "cell_type": "markdown",
   "metadata": {},
   "source": [
    "### 6.1 Missing values per columns"
   ]
  },
  {
   "cell_type": "code",
   "execution_count": 28,
   "metadata": {
    "ExecuteTime": {
     "end_time": "2019-07-12T05:34:35.570298Z",
     "start_time": "2019-07-12T05:34:35.530349Z"
    },
    "scrolled": false
   },
   "outputs": [
    {
     "name": "stdout",
     "output_type": "stream",
     "text": [
      "---------------------------------------------------------------------------------------------------- \n",
      "Overview of variable:  The number of columns with a certain percentage of missing values \n",
      " ----------------------------------------------------------------------------------------------------\n",
      "Total categories: 20 \n",
      "\n",
      "The 10 with the highest percentage data available:\n",
      "\n",
      "18.1263 : 48.7179 %\n",
      "0.0 : 21.7949 %\n",
      "18.1602 : 2.5641 %\n",
      "100.0 : 2.5641 %\n",
      "20.6721 : 2.5641 %\n",
      "0.1018 : 2.5641 %\n",
      "0.2716 : 2.5641 %\n",
      "1.3917 : 1.2821 %\n",
      "20.5703 : 1.2821 %\n",
      "25.8316 : 1.2821 %\n",
      "\n",
      "The 10 with the lowest percentage data available:\n",
      "\n",
      "25.9674 : 1.2821 %\n",
      "25.8995 : 1.2821 %\n",
      "18.4318 : 1.2821 %\n",
      "64.053 : 1.2821 %\n",
      "54.888 : 1.2821 %\n",
      "18.3978 : 1.2821 %\n",
      "15.5804 : 1.2821 %\n",
      "0.7637 : 1.2821 %\n",
      "0.0849 : 1.2821 %\n",
      "0.3394 : 1.2821 %\n",
      "---------------------------------------------------------------------------------------------------- \n",
      "Broader exploration of the data\n",
      " ----------------------------------------------------------------------------------------------------\n",
      "Total number of columns: 78 \n",
      "\n",
      "Total number of columns with no missing values: 17 ( 21.7949 %)\n",
      "\n",
      "These are the following columns: ['gameid', 'league', 'split', 'game', 'patchno', 'side', 'gamelength', 'result', 'k', 'd', 'a', 'teamkills', 'teamdragkills', 'teamtowerkills', 'totalgold', 'Year', 'team'] \n",
      "\n",
      "The number of columns for which more than half of the information is missing: 4 ( 5.1282 %)\n",
      "\n",
      "These are the following columns: ['herald', 'heraldtime', 'dmgshare', 'earnedgoldshare']\n"
     ]
    }
   ],
   "source": [
    "# Count of columns with a certain number of missing values\n",
    "percentage_missing_percol = [round(x/len(data_preparation)*100, 4) for x in list(data_preparation.isna().sum())]\n",
    "SummaryCategoricalVar(percentage_missing_percol,\n",
    "                      'The number of columns with a certain percentage of missing values')\n",
    "\n",
    "# Print intermediate summary\n",
    "print(\"-\"*100, \"\\nBroader exploration of the data\\n\", \"-\"*100)\n",
    "print(\"Total number of columns:\", len(percentage_missing_percol), \"\\n\")\n",
    "print(\"Total number of columns with no missing values:\", \n",
    "      len([x for x in percentage_missing_percol if x == 0]),\n",
    "     \"(\", round(len([x for x in percentage_missing_percol if x == 0])/len(percentage_missing_percol)*100, 4), \"%)\\n\")\n",
    "print(\"These are the following columns:\", [y for y, x in zip(data_preparation.columns, percentage_missing_percol) if x == 0], \"\\n\")\n",
    "print(\"The number of columns for which more than half of the information is missing:\", \n",
    "      len([x for x in percentage_missing_percol if x > 50]),\n",
    "     \"(\", round(len([x for x in percentage_missing_percol if x > 50])/len(percentage_missing_percol)*100, 4), \"%)\\n\")\n",
    "print(\"These are the following columns:\", [y for y, x in zip(data_preparation.columns, percentage_missing_percol) if x > 50])"
   ]
  },
  {
   "cell_type": "code",
   "execution_count": 29,
   "metadata": {
    "ExecuteTime": {
     "end_time": "2019-07-12T05:34:35.605890Z",
     "start_time": "2019-07-12T05:34:35.573434Z"
    }
   },
   "outputs": [
    {
     "name": "stdout",
     "output_type": "stream",
     "text": [
      "After dropping columns with more than half missing values, namely:\n",
      " ['herald', 'heraldtime', 'dmgshare', 'earnedgoldshare']\n",
      "74 parameters are retained in the dataset.\n"
     ]
    }
   ],
   "source": [
    "# Remove the columns from the data in case more than half of the observations are missing\n",
    "columns_to_be_dropped = [y for y, x in zip(data_preparation.columns, percentage_missing_percol) if x > 50]\n",
    "data_preparation = data_preparation.drop(columns_to_be_dropped, axis=1)\n",
    "\n",
    "# Drop columns from indicator list for numerical and categorical variables list\n",
    "numerical_variables = [col for col in numerical_variables if col not in columns_to_be_dropped]\n",
    "categorical_variables = [col for col in categorical_variables if col not in columns_to_be_dropped]\n",
    "\n",
    "# Intermediate summary \n",
    "print(\"After dropping columns with more than half missing values, namely:\\n\", columns_to_be_dropped)\n",
    "print(len(data_preparation.columns), \"parameters are retained in the dataset.\")"
   ]
  },
  {
   "cell_type": "markdown",
   "metadata": {},
   "source": [
    "### 6.2 Missing values per row"
   ]
  },
  {
   "cell_type": "code",
   "execution_count": 30,
   "metadata": {
    "ExecuteTime": {
     "end_time": "2019-07-12T05:34:35.937036Z",
     "start_time": "2019-07-12T05:34:35.608304Z"
    }
   },
   "outputs": [
    {
     "name": "stdout",
     "output_type": "stream",
     "text": [
      "---------------------------------------------------------------------------------------------------- \n",
      "Overview of variable:  The number of observations with a certain percentage of missing values \n",
      " ----------------------------------------------------------------------------------------------------\n",
      "Total categories: 14 \n",
      "\n"
     ]
    },
    {
     "data": {
      "image/png": "[encoded data removed]",
      "text/plain": [
       "<Figure size 432x288 with 1 Axes>"
      ]
     },
     "metadata": {
      "needs_background": "light"
     },
     "output_type": "display_data"
    },
    {
     "name": "stdout",
     "output_type": "stream",
     "text": [
      "---------------------------------------------------------------------------------------------------- \n",
      "Broader exploration of the data\n",
      " ----------------------------------------------------------------------------------------------------\n",
      "Total number of observations: 5892 \n",
      "\n",
      "Total number of observations with no missing values: 3946 ( 66.9722 %)\n",
      "\n",
      "The number of observations for which more than half of the information is missing: 1068 ( 18.1263 %)\n"
     ]
    }
   ],
   "source": [
    "# Count of rows with a certain number of missing values\n",
    "percentage_missing_perobs = [round(x/len(data_preparation.columns)*100, 4) for x in list(data_preparation.isna().sum(axis=1))]\n",
    "SummaryCategoricalVar(percentage_missing_perobs,\n",
    "                      'The number of observations with a certain percentage of missing values')\n",
    "\n",
    "# Print intermediate summary\n",
    "print(\"-\"*100, \"\\nBroader exploration of the data\\n\", \"-\"*100)\n",
    "print(\"Total number of observations:\", len(percentage_missing_perobs), \"\\n\")\n",
    "print(\"Total number of observations with no missing values:\", \n",
    "      len([x for x in percentage_missing_perobs if x == 0]),\n",
    "     \"(\", round(len([x for x in percentage_missing_perobs if x == 0])/len(percentage_missing_perobs)*100, 4), \"%)\\n\")\n",
    "print(\"The number of observations for which more than half of the information is missing:\", \n",
    "      len([x for x in percentage_missing_perobs if x > 50]),\n",
    "     \"(\", round(len([x for x in percentage_missing_perobs if x > 50])/len(percentage_missing_perobs)*100, 4), \"%)\")"
   ]
  },
  {
   "cell_type": "markdown",
   "metadata": {},
   "source": [
    "##### Detailed investigation 'observations with many missing values'\n",
    "Hence the data distributions presented here correspond to the subset of the observations for which more than half the column information is missing."
   ]
  },
  {
   "cell_type": "code",
   "execution_count": 31,
   "metadata": {
    "ExecuteTime": {
     "end_time": "2019-07-12T05:34:35.946967Z",
     "start_time": "2019-07-12T05:34:35.939134Z"
    }
   },
   "outputs": [],
   "source": [
    "# Extract subdataset to get detailed insight into the observations with many missing values\n",
    "obs_missing_info = [teller for teller, x in enumerate(percentage_missing_perobs) if x > 50]\n",
    "obs_missing_info_df = data_preparation.iloc[obs_missing_info,:]"
   ]
  },
  {
   "cell_type": "code",
   "execution_count": 32,
   "metadata": {
    "ExecuteTime": {
     "end_time": "2019-07-12T05:34:36.160495Z",
     "start_time": "2019-07-12T05:34:35.949122Z"
    },
    "scrolled": false
   },
   "outputs": [
    {
     "name": "stdout",
     "output_type": "stream",
     "text": [
      "---------------------------------------------------------------------------------------------------- \n",
      "Overview of variable:  The number of observations with a certain percentage of missing values \n",
      " ----------------------------------------------------------------------------------------------------\n",
      "Total categories: 6 \n",
      "\n"
     ]
    },
    {
     "data": {
      "image/png": "[encoded data removed]",
      "text/plain": [
       "<Figure size 432x288 with 1 Axes>"
      ]
     },
     "metadata": {
      "needs_background": "light"
     },
     "output_type": "display_data"
    }
   ],
   "source": [
    "# Distribution of percentage missing values\n",
    "SummaryCategoricalVar([round(x/len(obs_missing_info_df.columns)*100, 4) for x in list(obs_missing_info_df.isna().sum(axis=1))], \n",
    "                      'The number of observations with a certain percentage of missing values')"
   ]
  },
  {
   "cell_type": "markdown",
   "metadata": {},
   "source": [
    "Next, it will be explored whether some column categories are represented more by the observations with a lot of missing data. Latter results need to be compared with the representations of the categorical covariates in the whole dataset (as considered below)."
   ]
  },
  {
   "cell_type": "code",
   "execution_count": 33,
   "metadata": {
    "ExecuteTime": {
     "end_time": "2019-07-12T05:34:38.463639Z",
     "start_time": "2019-07-12T05:34:36.163222Z"
    },
    "scrolled": true
   },
   "outputs": [
    {
     "name": "stdout",
     "output_type": "stream",
     "text": [
      "---------------------------------------------------------------------------------------------------- \n",
      "Overview of variable:  league \n",
      " ----------------------------------------------------------------------------------------------------\n",
      "Total categories: 1 \n",
      "\n"
     ]
    },
    {
     "data": {
      "image/png": "[encoded data removed]",
      "text/plain": [
       "<Figure size 432x288 with 1 Axes>"
      ]
     },
     "metadata": {
      "needs_background": "light"
     },
     "output_type": "display_data"
    },
    {
     "name": "stdout",
     "output_type": "stream",
     "text": [
      "---------------------------------------------------------------------------------------------------- \n",
      "Overview of variable:  culture \n",
      " ----------------------------------------------------------------------------------------------------\n",
      "Total categories: 1 \n",
      "\n"
     ]
    },
    {
     "data": {
      "image/png": "[encoded data removed]",
      "text/plain": [
       "<Figure size 432x288 with 1 Axes>"
      ]
     },
     "metadata": {
      "needs_background": "light"
     },
     "output_type": "display_data"
    },
    {
     "name": "stdout",
     "output_type": "stream",
     "text": [
      "---------------------------------------------------------------------------------------------------- \n",
      "Overview of variable:  game \n",
      " ----------------------------------------------------------------------------------------------------\n",
      "Total categories: 5 \n",
      "\n"
     ]
    },
    {
     "data": {
      "image/png": "[encoded data removed]",
      "text/plain": [
       "<Figure size 432x288 with 1 Axes>"
      ]
     },
     "metadata": {
      "needs_background": "light"
     },
     "output_type": "display_data"
    },
    {
     "name": "stdout",
     "output_type": "stream",
     "text": [
      "---------------------------------------------------------------------------------------------------- \n",
      "Overview of variable:  side \n",
      " ----------------------------------------------------------------------------------------------------\n",
      "Total categories: 2 \n",
      "\n"
     ]
    },
    {
     "data": {
      "image/png": "[encoded data removed]",
      "text/plain": [
       "<Figure size 432x288 with 1 Axes>"
      ]
     },
     "metadata": {
      "needs_background": "light"
     },
     "output_type": "display_data"
    },
    {
     "name": "stdout",
     "output_type": "stream",
     "text": [
      "---------------------------------------------------------------------------------------------------- \n",
      "Overview of variable:  team \n",
      " ----------------------------------------------------------------------------------------------------\n",
      "Total categories: 15 \n",
      "\n"
     ]
    },
    {
     "data": {
      "image/png": "[encoded data removed]",
      "text/plain": [
       "<Figure size 432x288 with 1 Axes>"
      ]
     },
     "metadata": {
      "needs_background": "light"
     },
     "output_type": "display_data"
    },
    {
     "name": "stdout",
     "output_type": "stream",
     "text": [
      "---------------------------------------------------------------------------------------------------- \n",
      "Overview of variable:  fbvictim \n",
      " ----------------------------------------------------------------------------------------------------\n",
      "Total categories: 1 \n",
      "\n"
     ]
    },
    {
     "data": {
      "image/png": "[encoded data removed]",
      "text/plain": [
       "<Figure size 432x288 with 1 Axes>"
      ]
     },
     "metadata": {
      "needs_background": "light"
     },
     "output_type": "display_data"
    },
    {
     "name": "stdout",
     "output_type": "stream",
     "text": [
      "---------------------------------------------------------------------------------------------------- \n",
      "Overview of variable:  ban1 \n",
      " ----------------------------------------------------------------------------------------------------\n",
      "Total categories: 63 \n",
      "\n",
      "The 10 with the highest percentage data available:\n",
      "\n",
      "Jayce : 7.0225 %\n",
      "Camille : 5.3371 %\n",
      "Elise : 5.0562 %\n",
      "LeBlanc : 4.6816 %\n",
      "Kog'Maw : 4.588 %\n",
      "Rumble : 4.3071 %\n",
      "Thresh : 4.3071 %\n",
      "Caitlyn : 4.2135 %\n",
      "Zac : 4.2135 %\n",
      "Rengar : 4.0262 %\n",
      "\n",
      "The 10 with the lowest percentage data available:\n",
      "\n",
      "Corki : 0.1873 %\n",
      "Lucian : 0.1873 %\n",
      "Nidalee : 0.1873 %\n",
      "Ahri : 0.1873 %\n",
      "Zilean : 0.0936 %\n",
      "Ekko : 0.0936 %\n",
      "Katarina : 0.0936 %\n",
      "Olaf : 0.0936 %\n",
      "Nunu : 0.0936 %\n",
      "nan : 0.0936 %\n",
      "---------------------------------------------------------------------------------------------------- \n",
      "Overview of variable:  ban2 \n",
      " ----------------------------------------------------------------------------------------------------\n",
      "Total categories: 64 \n",
      "\n",
      "The 10 with the highest percentage data available:\n",
      "\n",
      "LeBlanc : 6.6479 %\n",
      "Camille : 6.4607 %\n",
      "Rengar : 6.0861 %\n",
      "Elise : 5.5243 %\n",
      "Kalista : 4.7753 %\n",
      "Kog'Maw : 4.7753 %\n",
      "Jayce : 4.588 %\n",
      "Zac : 4.4007 %\n",
      "Galio : 3.839 %\n",
      "Malzahar : 3.5581 %\n",
      "\n",
      "The 10 with the lowest percentage data available:\n",
      "\n",
      "Zilean : 0.0936 %\n",
      "Nami : 0.0936 %\n",
      "Miss Fortune : 0.0936 %\n",
      "Lucian : 0.0936 %\n",
      "Yasuo : 0.0936 %\n",
      "Sejuani : 0.0936 %\n",
      "Kayn : 0.0936 %\n",
      "Nocturne : 0.0936 %\n",
      "nan : 0.0936 %\n",
      "Bard : 0.0936 %\n",
      "---------------------------------------------------------------------------------------------------- \n",
      "Overview of variable:  ban3 \n",
      " ----------------------------------------------------------------------------------------------------\n",
      "Total categories: 70 \n",
      "\n",
      "The 10 with the highest percentage data available:\n",
      "\n",
      "Elise : 6.6479 %\n",
      "Rengar : 5.9925 %\n",
      "Camille : 5.8052 %\n",
      "LeBlanc : 5.2434 %\n",
      "Thresh : 4.3071 %\n",
      "Zac : 4.2135 %\n",
      "Varus : 3.7453 %\n",
      "Galio : 3.7453 %\n",
      "Kog'Maw : 3.7453 %\n",
      "Malzahar : 3.1835 %\n",
      "\n",
      "The 10 with the lowest percentage data available:\n",
      "\n",
      "Singed : 0.0936 %\n",
      "Katarina : 0.0936 %\n",
      "Corki : 0.0936 %\n",
      "Yasuo : 0.0936 %\n",
      "Jax : 0.0936 %\n",
      "Gnar : 0.0936 %\n",
      "Viktor : 0.0936 %\n",
      "Dr. Mundo : 0.0936 %\n",
      "Ahri : 0.0936 %\n",
      "Evelynn : 0.0936 %\n",
      "---------------------------------------------------------------------------------------------------- \n",
      "Overview of variable:  ban4 \n",
      " ----------------------------------------------------------------------------------------------------\n",
      "Total categories: 83 \n",
      "\n",
      "The 10 with the highest percentage data available:\n",
      "\n",
      "LeBlanc : 6.2734 %\n",
      "Syndra : 5.7116 %\n",
      "Cassiopeia : 4.0262 %\n",
      "Orianna : 3.7453 %\n",
      "Shen : 3.1835 %\n",
      "Rumble : 2.7154 %\n",
      "Kennen : 2.6217 %\n",
      "Taliyah : 2.5281 %\n",
      "Thresh : 2.5281 %\n",
      "Elise : 2.5281 %\n",
      "\n",
      "The 10 with the lowest percentage data available:\n",
      "\n",
      "Bard : 0.1873 %\n",
      "Leona : 0.0936 %\n",
      "Singed : 0.0936 %\n",
      "Poppy : 0.0936 %\n",
      "Morgana : 0.0936 %\n",
      "Evelynn : 0.0936 %\n",
      "Skarner : 0.0936 %\n",
      "Akali : 0.0936 %\n",
      "Brand : 0.0936 %\n",
      "nan : 0.0936 %\n",
      "---------------------------------------------------------------------------------------------------- \n",
      "Overview of variable:  ban5 \n",
      " ----------------------------------------------------------------------------------------------------\n",
      "Total categories: 82 \n",
      "\n",
      "The 10 with the highest percentage data available:\n",
      "\n",
      "Syndra : 5.0562 %\n",
      "Orianna : 4.7753 %\n",
      "Cassiopeia : 3.4644 %\n",
      "Thresh : 3.3708 %\n",
      "Kassadin : 3.3708 %\n",
      "Shen : 3.0899 %\n",
      "Caitlyn : 2.9963 %\n",
      "Taliyah : 2.9963 %\n",
      "Tahm Kench : 2.5281 %\n",
      "Kennen : 2.5281 %\n",
      "\n",
      "The 10 with the lowest percentage data available:\n",
      "\n",
      "Darius : 0.1873 %\n",
      "Taric : 0.1873 %\n",
      "Alistar : 0.1873 %\n",
      "Leona : 0.0936 %\n",
      "Singed : 0.0936 %\n",
      "Vi : 0.0936 %\n",
      "Vayne : 0.0936 %\n",
      "Skarner : 0.0936 %\n",
      "Bard : 0.0936 %\n",
      "Brand : 0.0936 %\n",
      "---------------------------------------------------------------------------------------------------- \n",
      "Overview of variable:  result \n",
      " ----------------------------------------------------------------------------------------------------\n",
      "Total categories: 2 \n",
      "\n"
     ]
    },
    {
     "data": {
      "image/png": "[encoded data removed]",
      "text/plain": [
       "<Figure size 432x288 with 1 Axes>"
      ]
     },
     "metadata": {
      "needs_background": "light"
     },
     "output_type": "display_data"
    },
    {
     "name": "stdout",
     "output_type": "stream",
     "text": [
      "---------------------------------------------------------------------------------------------------- \n",
      "Overview of variable:  fb \n",
      " ----------------------------------------------------------------------------------------------------\n",
      "Total categories: 1 \n",
      "\n"
     ]
    },
    {
     "data": {
      "image/png": "[encoded data removed]",
      "text/plain": [
       "<Figure size 432x288 with 1 Axes>"
      ]
     },
     "metadata": {
      "needs_background": "light"
     },
     "output_type": "display_data"
    },
    {
     "name": "stdout",
     "output_type": "stream",
     "text": [
      "---------------------------------------------------------------------------------------------------- \n",
      "Overview of variable:  fbassist \n",
      " ----------------------------------------------------------------------------------------------------\n",
      "Total categories: 2 \n",
      "\n"
     ]
    },
    {
     "data": {
      "image/png": "[encoded data removed]",
      "text/plain": [
       "<Figure size 432x288 with 1 Axes>"
      ]
     },
     "metadata": {
      "needs_background": "light"
     },
     "output_type": "display_data"
    },
    {
     "name": "stdout",
     "output_type": "stream",
     "text": [
      "---------------------------------------------------------------------------------------------------- \n",
      "Overview of variable:  fd \n",
      " ----------------------------------------------------------------------------------------------------\n",
      "Total categories: 1 \n",
      "\n"
     ]
    },
    {
     "data": {
      "image/png": "[encoded data removed]",
      "text/plain": [
       "<Figure size 432x288 with 1 Axes>"
      ]
     },
     "metadata": {
      "needs_background": "light"
     },
     "output_type": "display_data"
    },
    {
     "name": "stdout",
     "output_type": "stream",
     "text": [
      "---------------------------------------------------------------------------------------------------- \n",
      "Overview of variable:  ft \n",
      " ----------------------------------------------------------------------------------------------------\n",
      "Total categories: 1 \n",
      "\n"
     ]
    },
    {
     "data": {
      "image/png": "[encoded data removed]",
      "text/plain": [
       "<Figure size 432x288 with 1 Axes>"
      ]
     },
     "metadata": {
      "needs_background": "light"
     },
     "output_type": "display_data"
    },
    {
     "name": "stdout",
     "output_type": "stream",
     "text": [
      "---------------------------------------------------------------------------------------------------- \n",
      "Overview of variable:  firstmidouter \n",
      " ----------------------------------------------------------------------------------------------------\n",
      "Total categories: 1 \n",
      "\n"
     ]
    },
    {
     "data": {
      "image/png": "[encoded data removed]",
      "text/plain": [
       "<Figure size 432x288 with 1 Axes>"
      ]
     },
     "metadata": {
      "needs_background": "light"
     },
     "output_type": "display_data"
    },
    {
     "name": "stdout",
     "output_type": "stream",
     "text": [
      "---------------------------------------------------------------------------------------------------- \n",
      "Overview of variable:  firsttothreetowers \n",
      " ----------------------------------------------------------------------------------------------------\n",
      "Total categories: 1 \n",
      "\n"
     ]
    },
    {
     "data": {
      "image/png": "[encoded data removed]",
      "text/plain": [
       "<Figure size 432x288 with 1 Axes>"
      ]
     },
     "metadata": {
      "needs_background": "light"
     },
     "output_type": "display_data"
    },
    {
     "name": "stdout",
     "output_type": "stream",
     "text": [
      "---------------------------------------------------------------------------------------------------- \n",
      "Overview of variable:  fbaron \n",
      " ----------------------------------------------------------------------------------------------------\n",
      "Total categories: 1 \n",
      "\n"
     ]
    },
    {
     "data": {
      "image/png": "[encoded data removed]",
      "text/plain": [
       "<Figure size 432x288 with 1 Axes>"
      ]
     },
     "metadata": {
      "needs_background": "light"
     },
     "output_type": "display_data"
    },
    {
     "name": "stdout",
     "output_type": "stream",
     "text": [
      "---------------------------------------------------------------------------------------------------- \n",
      "Overview of variable:  Year \n",
      " ----------------------------------------------------------------------------------------------------\n",
      "Total categories: 1 \n",
      "\n"
     ]
    },
    {
     "data": {
      "image/png": "[encoded data removed]",
      "text/plain": [
       "<Figure size 432x288 with 1 Axes>"
      ]
     },
     "metadata": {
      "needs_background": "light"
     },
     "output_type": "display_data"
    },
    {
     "name": "stdout",
     "output_type": "stream",
     "text": [
      "---------------------------------------------------------------------------------------------------- \n",
      "Overview of variable:  gameid \n",
      " ----------------------------------------------------------------------------------------------------\n",
      "Total categories: 534 \n",
      "\n",
      "The 10 with the highest percentage data available:\n",
      "\n",
      "2017-1poF3Team WERoyal Never Give Up : 0.1873 %\n",
      "2017-1F2Royal Never Give UpTeam WE : 0.1873 %\n",
      "2017-1F1Team WERoyal Never Give Up : 0.1873 %\n",
      "2017-1SF4OMGTeam WE : 0.1873 %\n",
      "2017-1SF3Team WEOMG : 0.1873 %\n",
      "2017-1SF2OMGTeam WE : 0.1873 %\n",
      "2017-1SF1Team WEOMG : 0.1873 %\n",
      "2017-1SF4Edward GamingRoyal Never Give Up : 0.1873 %\n",
      "2017-1SF3Royal Never Give UpEdward Gaming : 0.1873 %\n",
      "2017-1SF2Edward GamingRoyal Never Give Up : 0.1873 %\n",
      "\n",
      "The 10 with the lowest percentage data available:\n",
      "\n",
      "2017-211Invictus GamingTeam WE : 0.1873 %\n",
      "2017-213I MayInvictus Gaming : 0.1873 %\n",
      "2017-212Invictus GamingI May : 0.1873 %\n",
      "2017-211I MayInvictus Gaming : 0.1873 %\n",
      "2017-212EDward GamingSnake Esports : 0.1873 %\n",
      "2017-211Snake EsportsEDward Gaming : 0.1873 %\n",
      "2017-212DAN GamingTeam WE : 0.1873 %\n",
      "2017-211Team WEDAN Gaming : 0.1873 %\n",
      "2017-212DAN GamingEDward Gaming : 0.1873 %\n",
      "2017-211DAN GamingEDward Gaming : 0.1873 %\n"
     ]
    }
   ],
   "source": [
    "# Loop through all categorical variables and visualize data\n",
    "for cat_variable in categorical_variables:\n",
    "    SummaryCategoricalVar(obs_missing_info_df[cat_variable], cat_variable)"
   ]
  },
  {
   "cell_type": "markdown",
   "metadata": {},
   "source": [
    "### 6.3 Missing value imputation\n",
    "To impute missing values the following techniques are applied:\n",
    "* Categorical covariates: random sampling from the discrete distribution representing the probabilities of a value being from a certain category for that covariate. Because of the large amount of data available, it might be interesting to do imputation by sampling randomly from the distribution of available values for a specific covariate, to obtain the least biased estimation of the missing value. It is nevertheless important to get a clear insight into the data with a lot of missing data as well, because these could be biased towards certain column values and hence should be treated with care.\n",
    "* Numerical covariates: Median imputation."
   ]
  },
  {
   "cell_type": "code",
   "execution_count": 34,
   "metadata": {
    "ExecuteTime": {
     "end_time": "2019-07-12T05:34:38.609379Z",
     "start_time": "2019-07-12T05:34:38.465465Z"
    }
   },
   "outputs": [],
   "source": [
    "# Probability based missing value imptation (categorical covariates) and median imputation (numerical covariates)\n",
    "for col in data_preparation.columns.values:\n",
    "    if data_preparation[col].isna().sum() > 0:\n",
    "        if col in categorical_variables:\n",
    "            data_preparation[col] = data_preparation[col].fillna(RandomSampleProbDist(data_preparation[col]))\n",
    "        elif col in numerical_variables:\n",
    "            data_preparation[col] = data_preparation[col].fillna(np.median(data_preparation[col].dropna()))"
   ]
  },
  {
   "cell_type": "code",
   "execution_count": 35,
   "metadata": {
    "ExecuteTime": {
     "end_time": "2019-07-12T05:34:38.625927Z",
     "start_time": "2019-07-12T05:34:38.611523Z"
    }
   },
   "outputs": [
    {
     "data": {
      "text/plain": [
       "False"
      ]
     },
     "execution_count": 35,
     "metadata": {},
     "output_type": "execute_result"
    }
   ],
   "source": [
    "# Check whether there are still non-imputed missing values in the data\n",
    "np.any(data_preparation.isnull())"
   ]
  },
  {
   "cell_type": "code",
   "execution_count": 36,
   "metadata": {
    "ExecuteTime": {
     "end_time": "2019-07-12T05:34:38.666817Z",
     "start_time": "2019-07-12T05:34:38.627821Z"
    }
   },
   "outputs": [
    {
     "data": {
      "text/plain": [
       "[]"
      ]
     },
     "execution_count": 36,
     "metadata": {},
     "output_type": "execute_result"
    }
   ],
   "source": [
    "data_preparation.columns[data_preparation.isna().any()].tolist()"
   ]
  },
  {
   "cell_type": "code",
   "execution_count": 37,
   "metadata": {
    "ExecuteTime": {
     "end_time": "2019-07-12T05:34:38.816585Z",
     "start_time": "2019-07-12T05:34:38.669531Z"
    }
   },
   "outputs": [],
   "source": [
    "# Write data away in pickle\n",
    "with open('/home/je32910/MasterThesis_ComputationalStatistics/pickles/' + filename + '.pickle', 'wb') as f:\n",
    "    pickle.dump(data_preparation, f)"
   ]
  }
 ],
 "metadata": {
  "kernelspec": {
   "display_name": "Python [conda env:python36]",
   "language": "python",
   "name": "conda-env-python36-py"
  },
  "language_info": {
   "codemirror_mode": {
    "name": "ipython",
    "version": 3
   },
   "file_extension": ".py",
   "mimetype": "text/x-python",
   "name": "python",
   "nbconvert_exporter": "python",
   "pygments_lexer": "ipython3",
   "version": "3.6.8"
  }
 },
 "nbformat": 4,
 "nbformat_minor": 2
}
