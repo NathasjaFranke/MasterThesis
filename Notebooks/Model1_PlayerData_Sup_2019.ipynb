{
 "cells": [
  {
   "cell_type": "markdown",
   "metadata": {},
   "source": [
    "# Model 1: Estimation of player strength parameters (Sup)"
   ]
  },
  {
   "cell_type": "code",
   "execution_count": 1,
   "metadata": {
    "ExecuteTime": {
     "end_time": "2019-08-24T17:04:50.641883Z",
     "start_time": "2019-08-24T17:04:50.638405Z"
    }
   },
   "outputs": [],
   "source": [
    "# Filename standardized data\n",
    "#loaded_pp_filename = 'playerdata2017_preprocessed_sup'\n",
    "#loaded_std_filename = 'playerdata2017_standardized_sup'\n",
    "#saved_filename = 'playerdata2017_strenghtparam_sup'\n",
    "#loaded_pp_filename = 'playerdata2018_preprocessed_sup'\n",
    "#loaded_std_filename = 'playerdata2018_standardized_sup'\n",
    "#saved_filename = 'playerdata2018_strenghtparam_sup'\n",
    "loaded_pp_filename = 'playerdata2019_preprocessed_sup'\n",
    "loaded_std_filename = 'playerdata2019_standardized_sup'\n",
    "saved_filename = 'playerdata2019_strenghtparam_sup'"
   ]
  },
  {
   "cell_type": "markdown",
   "metadata": {},
   "source": [
    "## 0. Load libraries and define functions"
   ]
  },
  {
   "cell_type": "markdown",
   "metadata": {},
   "source": [
    "### 0.1 General python functionality"
   ]
  },
  {
   "cell_type": "code",
   "execution_count": 2,
   "metadata": {
    "ExecuteTime": {
     "end_time": "2019-08-24T17:04:53.284150Z",
     "start_time": "2019-08-24T17:04:50.658316Z"
    }
   },
   "outputs": [],
   "source": [
    "# Functions\n",
    "import numpy as np\n",
    "import os\n",
    "import pickle\n",
    "import pandas as pd\n",
    "import operator\n",
    "import itertools\n",
    "from numpy.random import choice\n",
    "from collections import Counter\n",
    "import statistics\n",
    "from scipy import stats\n",
    "\n",
    "# Functions used for data visualization\n",
    "import seaborn as sns\n",
    "import matplotlib.pyplot as plt"
   ]
  },
  {
   "cell_type": "code",
   "execution_count": 3,
   "metadata": {
    "ExecuteTime": {
     "end_time": "2019-08-24T17:04:54.063545Z",
     "start_time": "2019-08-24T17:04:53.286218Z"
    }
   },
   "outputs": [],
   "source": [
    "# Special functions needed for custom functions\n",
    "import sklearn\n",
    "from sklearn.model_selection import train_test_split\n",
    "from sklearn.linear_model import Ridge, RidgeCV, RidgeClassifierCV, LogisticRegression, ElasticNetCV, ElasticNet, Lasso, RidgeClassifier\n",
    "from sklearn import metrics\n",
    "from sklearn.feature_selection import RFECV\n",
    "from sklearn.ensemble import RandomForestClassifier\n",
    "from sklearn.model_selection import GridSearchCV"
   ]
  },
  {
   "cell_type": "code",
   "execution_count": 4,
   "metadata": {
    "ExecuteTime": {
     "end_time": "2019-08-24T17:04:54.073497Z",
     "start_time": "2019-08-24T17:04:54.068686Z"
    }
   },
   "outputs": [],
   "source": [
    "# Surpress printing warnings\n",
    "import warnings\n",
    "warnings.filterwarnings(\"ignore\")"
   ]
  },
  {
   "cell_type": "markdown",
   "metadata": {},
   "source": [
    "### 0.2 Custom functions"
   ]
  },
  {
   "cell_type": "code",
   "execution_count": 5,
   "metadata": {
    "ExecuteTime": {
     "end_time": "2019-08-24T17:04:54.209961Z",
     "start_time": "2019-08-24T17:04:54.076732Z"
    }
   },
   "outputs": [],
   "source": [
    "### Function used to return a summary for categorical variables\n",
    "def SummaryCategoricalVar(list_of_values, title, threshold = 20, top = 10):\n",
    "    \"\"\"\n",
    "    param: list_of_values (list): A list of categorical values from which we like to obtain the distribution\n",
    "    param: title (string): The title for the visualization\n",
    "    param: threshold (int): The maximal number of categories that should be visualized\n",
    "    param: top (int): The top k values that should be returned in the written summary when the number of categories is above the threshold\n",
    "    \"\"\"\n",
    "    # Count the number of occurrances in the list\n",
    "    cnt = Counter(list_of_values)\n",
    "    sorted_cnt = sorted(cnt.items(), key=operator.itemgetter(1))[::-1]\n",
    "    \n",
    "    # Show the percentage dictionary if to many categories to represent\n",
    "    print(\"-\"* 100, \"\\nOverview of variable: \", title, \"\\n\", \"-\"*100)\n",
    "    print(\"Total categories:\", len(cnt), \"\\n\")\n",
    "    if len(cnt) > threshold:\n",
    "        if len(cnt) < top*2:\n",
    "            for key, value in sorted_cnt:\n",
    "                print(key, ':', round(value/len(list_of_values)*100, 4), \"%\")\n",
    "        else:\n",
    "            print(\"The 10 with the highest percentage data available:\\n\")\n",
    "            for key, value in sorted_cnt[:top]:\n",
    "                print(key, ':', round(value/len(list_of_values)*100, 4), \"%\")\n",
    "            print(\"\\nThe 10 with the lowest percentage data available:\\n\")\n",
    "            for key, value in sorted_cnt[len(cnt) - top:]:\n",
    "                print(key, ':', round(value/len(list_of_values)*100, 4), \"%\")\n",
    "                \n",
    "    # Visualization of labelled data distribution\n",
    "    else:\n",
    "        plt.barh(range(1, len(sorted_cnt)+1), \n",
    "                 list(map(lambda x: (x/len(list_of_values)*100), [score for label, score in sorted_cnt])), \n",
    "                 tick_label = list([label for label, score in sorted_cnt]),\n",
    "                 color = 'cornflowerblue', \n",
    "                 edgecolor = 'steelblue')\n",
    "        plt.ylabel('Label')\n",
    "        plt.xlabel('Percentage observations in dataset')\n",
    "        plt.title(title)\n",
    "        plt.show()    \n",
    "        plt.savefig('Barplot_' + title + '.png')"
   ]
  },
  {
   "cell_type": "code",
   "execution_count": 6,
   "metadata": {
    "ExecuteTime": {
     "end_time": "2019-08-24T17:04:54.254584Z",
     "start_time": "2019-08-24T17:04:54.211703Z"
    }
   },
   "outputs": [],
   "source": [
    "### Function used to return a summary for numeric variables\n",
    "def SummaryNumericVar(list_of_values, title):\n",
    "    \"\"\"\n",
    "    param: list_of_values (list): A list of categorical values from which we like to obtain the distribution\n",
    "    param: title (string): The title for the visualization\n",
    "    \"\"\"\n",
    "    \n",
    "    # Title varibale\n",
    "    print(\"=\"* 100, \"\\nOverview of variable: \", title, \"\\n\", \"=\"*100)\n",
    "\n",
    "    # An \"interface\" to matplotlib.axes.Axes.hist() method\n",
    "    n, bins, patches = plt.hist(x = list_of_values, bins='auto', color= '#0504aa', alpha=0.7, rwidth=0.85)\n",
    "    plt.grid(axis='y', alpha=0.75)\n",
    "    plt.xlabel('Value')\n",
    "    plt.ylabel('Frequency')\n",
    "    plt.title(title)\n",
    "    plt.ylim(top=np.ceil(n.max() / 10) * 10 if n.max() % 10 else n.max() + 10)\n",
    "    plt.show()\n",
    "    plt.savefig('Frequency_' + title + '.png')\n",
    "\n",
    "    # Print summary statistics\n",
    "    print(\"-\"*20, \"\\nSummary statistics:\\n\", \"-\"*20)\n",
    "    print(\"Minimum value:\", min(list_of_values))\n",
    "    print(\"Mean:\", round(statistics.mean(list_of_values), 4))\n",
    "    print(\"Standard deviation:\", round(statistics.stdev(list_of_values), 4))\n",
    "    print(\"Median:\", round(statistics.median(list_of_values), 4))\n",
    "    print(\"Maximal value:\", max(list_of_values))\n",
    "\n",
    "    # Plot boxplot\n",
    "    plt.boxplot(list_of_values, 0, 'grey', 0)\n",
    "    plt.xlabel('Value')\n",
    "    plt.title(title)\n",
    "    plt.show()\n",
    "    plt.savefig('Boxplot_' + title + '.png')\n",
    "\n",
    "    # Present outliers\n",
    "    print(\"-\"*20, \"\\nOutlier detection:\\n\", \"-\"*20)\n",
    "    print(\"List of outliers:\", {round(value,2) for z_score, value in zip(np.abs(stats.zscore(list_of_values)), list_of_values) if z_score > 3})\n",
    "\n",
    "    # Check for normally distributed\n",
    "    stats.probplot(list_of_values, dist=\"norm\", plot= plt)\n",
    "    plt.show()\n",
    "    plt.savefig('Probabilityplot_' + title + '.png')\n",
    "\n",
    "    # Statistics to check normality\n",
    "    print(\"-\"*20, \"\\nCheck for normal distribution:\\n\", \"-\"*20)\n",
    "    print(\"Skewedness:\", round(stats.skew(list_of_values), 4))\n",
    "    print(\"Kurtosis:\", round(stats.kurtosis(list_of_values), 4))"
   ]
  },
  {
   "cell_type": "code",
   "execution_count": 7,
   "metadata": {
    "ExecuteTime": {
     "end_time": "2019-08-24T17:04:54.288102Z",
     "start_time": "2019-08-24T17:04:54.256310Z"
    }
   },
   "outputs": [],
   "source": [
    "### Function used to split the data into training and test data\n",
    "def data_splitter(df, response_name = 'target', split_threshold = 0.15, seed = 42):\n",
    "    \"\"\"\n",
    "    Function used to split a dataframe into test and training data\n",
    "    \n",
    "    param: df (Panda's dataframe object)\n",
    "    param: response_name (string): The name of the response variable in the dataframe\n",
    "    param: split_threshold (float): The split threshold used\n",
    "    param: seed (int): Integer defining the seed for random split of the data\n",
    "    \n",
    "    return: (tuple) A tuple with four pandas dataframe objects\n",
    "    \"\"\"\n",
    "    # Split the dataframe into features and response variable\n",
    "    df_tmp = df.copy()\n",
    "    x, y = df_tmp.drop([response_name], axis = 1), df[response_name]\n",
    "    # Split the feature and response variable into training and test data\n",
    "    x_train, x_test, y_train, y_test = train_test_split(x, y, test_size = split_threshold, random_state = seed)\n",
    "    return (x_train, x_test, y_train, y_test)"
   ]
  },
  {
   "cell_type": "code",
   "execution_count": 8,
   "metadata": {
    "ExecuteTime": {
     "end_time": "2019-08-24T17:04:54.349759Z",
     "start_time": "2019-08-24T17:04:54.289830Z"
    }
   },
   "outputs": [],
   "source": [
    "### Function used to generate a summary of the input model (binary classes)\n",
    "def binary_class_evaluator(model, x_test, y_test, threshold = 0.5, elasticnet = False):\n",
    "    \"\"\"\n",
    "    Function returning a tuple with sensitivity, specificity and AUC metrics for specific model\n",
    "    \n",
    "    param: model (model): The model we like to evaluate\n",
    "    param: x_test (list): List of lists of numpy arrays\n",
    "    param: y_test (list): Binary values indicating the outcome variable\n",
    "    param: threshold (float): The classification threshold used\n",
    "    param: elasticnet (bool): Booling indicator for specifying whether the model is elastic net based\n",
    "\n",
    "    return: A tuple containing the calculated sensitivity, specificity and AUC metrics\n",
    "    \"\"\"\n",
    "    # Calculate the different summary statistics based on the model and test data\n",
    "    test_data =  list(y_test) \n",
    "    model_preds = list(model.predict(x_test)) if not elasticnet else [1.0 if x > 0 else 0.0 for x in model.predict(x_test)]\n",
    "    model_acc = metrics.accuracy_score(test_data, model_preds)\n",
    "    true_pos = len([mp for mp, td in zip(model_preds, test_data) if mp > threshold and td == 1])\n",
    "    false_neg = len([mp for mp, td in zip(model_preds, test_data) if mp < threshold and td == 1])\n",
    "    true_neg = len([mp for mp, td in zip(model_preds, test_data) if mp < threshold and td == 0])\n",
    "    false_pos = len([mp for mp, td in zip(model_preds, test_data) if mp > threshold and td == 0])\n",
    "    \n",
    "    # Print intermediate summary to the user\n",
    "    print(\"Based on a threshold of\", threshold, \"the following summary statistics can be obtained:\\n\", \"-\"*100)\n",
    "    print(true_pos, \"true positives over all positives (the wins that were correctly classified).\")\n",
    "    print(false_pos, \"false positives (the wins that were wrongly classified).\")\n",
    "    print(true_neg, \"true negatives (the losses that were correctly classified).\")\n",
    "    print(false_neg, \"false negatives (the losses that were wrongly classified).\\n\")\n",
    "    print(\"The sensitivity is: \", true_pos / (true_pos + false_neg))\n",
    "    print(\"The specificity is: \", true_neg / (true_neg + false_pos))\n",
    "    \n",
    "    # Plot the ROC curve for the model\n",
    "    print(\"\\n\\nAccuracy:\", model_acc, \"\\n\", \"-\"*100)\n",
    "    fpr, tpr, _ = metrics.roc_curve(test_data, model_preds)\n",
    "    auc = metrics.roc_auc_score(test_data, model_preds)\n",
    "    plt.plot(fpr, tpr, label= \"auc: \" + str(round(auc, 4)))\n",
    "    plt.legend(loc = 4)\n",
    "    plt.title('ROC curve')\n",
    "    plt.show()\n",
    "    \n",
    "    # Return sensitivity and specificity values to the user \n",
    "    return true_pos / (true_pos + false_neg), true_neg / (true_neg + false_pos), auc, model_acc"
   ]
  },
  {
   "cell_type": "code",
   "execution_count": 9,
   "metadata": {
    "ExecuteTime": {
     "end_time": "2019-08-24T17:04:54.387333Z",
     "start_time": "2019-08-24T17:04:54.352109Z"
    }
   },
   "outputs": [],
   "source": [
    "### Function used to plot the confusion matrix (normalization can be applied if desired)\n",
    "def plot_confusion_matrix(model, x_test, y_test, classes, normalize = False, elasticnet = False, cmap = plt.cm.Blues):\n",
    "    \"\"\"\n",
    "    Function that visualizes the confusion matrix based on the predictions made by the fitted model and their correspondence\n",
    "    to the observed test data. The option is available to return the normalized confusion matrix.\n",
    "    \n",
    "    param: model (model): The model we like to evaluate\n",
    "    param: x_test (list): List of lists of numpy arrays\n",
    "    param: y_test (list): Binary values indicating the outcome variable\n",
    "    param: classes (list): A list of classes that correspond to the numbered labels in the confusion matrix in that order.\n",
    "    param: normalize (bool): Booling indicator for specification of returning the normalized or non-normalized confusion matrix.\n",
    "    param: elasticnet (bool): Booling indicator for specifying whether the model is elastic net based\n",
    "    \"\"\"\n",
    "    # Approximate the confusion matrix based on model predictions\n",
    "    model_preds = list(model.predict(x_test)) if not elasticnet else [1.0 if x > 0 else 0.0 for x in model.predict(x_test)]\n",
    "    cm = sklearn.metrics.confusion_matrix(y_test, model_preds)\n",
    "    \n",
    "    # Normalize the cm if desired\n",
    "    title = 'Normalized confusion matrix' if normalize else 'Confusion matrix'\n",
    "    if normalize:\n",
    "        cm = cm.astype('float') / cm.sum(axis=1)[:, np.newaxis]\n",
    "    \n",
    "    # Create confusion matrix\n",
    "    print(title, \":\\n\", \"-\"*100)\n",
    "    plt.imshow(cm, interpolation='nearest', cmap=cmap)\n",
    "    plt.title(title)\n",
    "    plt.colorbar()\n",
    "    tick_marks = np.arange(len(classes))\n",
    "    plt.xticks(tick_marks, classes, rotation=45)\n",
    "    plt.yticks(tick_marks, classes)\n",
    "    fmt = '.2f' if normalize else 'd'\n",
    "    thresh = cm.max() / 2.\n",
    "    for i, j in itertools.product(range(cm.shape[0]), range(cm.shape[1])):\n",
    "        plt.text(j, i, format(cm[i, j], fmt),\n",
    "                 horizontalalignment=\"center\",\n",
    "                 color=\"white\" if cm[i, j] > thresh else \"black\")\n",
    "\n",
    "    plt.tight_layout()\n",
    "    plt.ylabel('True label')\n",
    "    plt.xlabel('Predicted label')\n",
    "    plt.show()"
   ]
  },
  {
   "cell_type": "code",
   "execution_count": 10,
   "metadata": {
    "ExecuteTime": {
     "end_time": "2019-08-24T17:04:54.434249Z",
     "start_time": "2019-08-24T17:04:54.389517Z"
    }
   },
   "outputs": [],
   "source": [
    "### Function used to extract the top10 most important features based on the magnitute of the coefficients\n",
    "def important_features_extractor(model, fitted_features, top = 10, elasticnet = False):\n",
    "    \"\"\"\n",
    "    Function used to extract a dictionary mapping the features used in the model with the estimates of their coefficients\n",
    "    \n",
    "    param: model (model): The model we like to evaluate.\n",
    "    param: fitted_features (list): List capturing the different features evaluated by the model.\n",
    "    param: top (int): The amount of fetaures you like to be printed as output (sorted based on decreasing importance).\n",
    "    param: elasticnet (bool): Booling indicator for specifying whether the model is elastic net based\n",
    "    return: (dict) A dictionary mapping the features with their corresponding coefficient estimates.\n",
    "    \"\"\"\n",
    "    # Extract model coefficients\n",
    "    coefficients = model.coef_[0] if not elasticnet else model.coef_\n",
    "    coef_dict = {col:coef for col, coef in zip(fitted_features, coefficients)}\n",
    "    coef_dict_abs = {col:abs(round(coef,2)) for col, coef in zip(fitted_features, coefficients)}\n",
    "    sorted_coefs = sorted(coef_dict_abs.items(), key=operator.itemgetter(1), reverse= True)\n",
    "\n",
    "    # Return the top ten most important features and their coefficients\n",
    "    print(\"Summary of the important features and their corresponding coefficients:\\n\", '-'*100)\n",
    "    ret_dict = dict()\n",
    "    for index, (col, abs_score) in enumerate(sorted_coefs):\n",
    "        if index < top:\n",
    "            print(col, ':', coef_dict[col])\n",
    "        ret_dict[col] = coef_dict[col]\n",
    "    return ret_dict"
   ]
  },
  {
   "cell_type": "code",
   "execution_count": 11,
   "metadata": {
    "ExecuteTime": {
     "end_time": "2019-08-24T17:04:54.463955Z",
     "start_time": "2019-08-24T17:04:54.435969Z"
    }
   },
   "outputs": [],
   "source": [
    "### Function used to draw a random sample from the discrete distribution of probabilities representing the input list\n",
    "def RandomSampleProbDist(list_of_values, draws = 1):\n",
    "    \"\"\"\n",
    "    :param: list_of_values (list): A list of categorical values representing the observations in the dataset\n",
    "    :param: draws (int): The number of samples desired to be returned\n",
    "    :return: (array) An array capturing the sampled categories\n",
    "    \"\"\"\n",
    "    # Only the non-missing values are considered in the sampling procedure\n",
    "    non_missing_list = list_of_values.dropna()\n",
    "    # Sample from the discrete probability distribution representing the categorical variable\n",
    "    return list(choice(list(Counter(non_missing_list)), \n",
    "                  draws, \n",
    "                  p = list(map(lambda x: x/len(non_missing_list), \n",
    "                               Counter(non_missing_list).values()))))[0]"
   ]
  },
  {
   "cell_type": "markdown",
   "metadata": {},
   "source": [
    "## 1. Load preprocessed data in environment"
   ]
  },
  {
   "cell_type": "markdown",
   "metadata": {},
   "source": [
    "### 1.1 Load standardized data"
   ]
  },
  {
   "cell_type": "code",
   "execution_count": 12,
   "metadata": {
    "ExecuteTime": {
     "end_time": "2019-08-24T17:04:54.540223Z",
     "start_time": "2019-08-24T17:04:54.465508Z"
    }
   },
   "outputs": [],
   "source": [
    "# Load pickle\n",
    "with open('/home/je32910/MasterThesis_ComputationalStatistics/pickles/' + loaded_std_filename + '.pickle', 'rb') as f:\n",
    "    data_raw = pickle.load(f)"
   ]
  },
  {
   "cell_type": "code",
   "execution_count": 13,
   "metadata": {
    "ExecuteTime": {
     "end_time": "2019-08-24T17:04:54.750478Z",
     "start_time": "2019-08-24T17:04:54.542380Z"
    },
    "scrolled": true
   },
   "outputs": [
    {
     "data": {
      "text/html": [
       "<div>\n",
       "<style scoped>\n",
       "    .dataframe tbody tr th:only-of-type {\n",
       "        vertical-align: middle;\n",
       "    }\n",
       "\n",
       "    .dataframe tbody tr th {\n",
       "        vertical-align: top;\n",
       "    }\n",
       "\n",
       "    .dataframe thead th {\n",
       "        text-align: right;\n",
       "    }\n",
       "</style>\n",
       "<table border=\"1\" class=\"dataframe\">\n",
       "  <thead>\n",
       "    <tr style=\"text-align: right;\">\n",
       "      <th></th>\n",
       "      <th>split</th>\n",
       "      <th>patchno</th>\n",
       "      <th>result</th>\n",
       "      <th>k</th>\n",
       "      <th>d</th>\n",
       "      <th>a</th>\n",
       "      <th>doubles</th>\n",
       "      <th>fb</th>\n",
       "      <th>fbassist</th>\n",
       "      <th>fbvictim</th>\n",
       "      <th>...</th>\n",
       "      <th>csdat15</th>\n",
       "      <th>datediff</th>\n",
       "      <th>Encoded_league</th>\n",
       "      <th>Encoded_game</th>\n",
       "      <th>Encoded_side</th>\n",
       "      <th>Encoded_champion</th>\n",
       "      <th>Encoded_Year</th>\n",
       "      <th>Encoded_team</th>\n",
       "      <th>Encoded_culture</th>\n",
       "      <th>player</th>\n",
       "    </tr>\n",
       "  </thead>\n",
       "  <tbody>\n",
       "    <tr>\n",
       "      <th>0</th>\n",
       "      <td>-0.259035</td>\n",
       "      <td>-1.035323</td>\n",
       "      <td>0.0</td>\n",
       "      <td>0.260442</td>\n",
       "      <td>0.242574</td>\n",
       "      <td>-0.093011</td>\n",
       "      <td>-0.11902</td>\n",
       "      <td>-0.193694</td>\n",
       "      <td>2.509437</td>\n",
       "      <td>-0.284939</td>\n",
       "      <td>...</td>\n",
       "      <td>2.077605</td>\n",
       "      <td>0.958407</td>\n",
       "      <td>1.229729</td>\n",
       "      <td>1.192908</td>\n",
       "      <td>-1.0</td>\n",
       "      <td>1.564497</td>\n",
       "      <td>-1.072695</td>\n",
       "      <td>-0.353946</td>\n",
       "      <td>-0.740824</td>\n",
       "      <td>max</td>\n",
       "    </tr>\n",
       "    <tr>\n",
       "      <th>1</th>\n",
       "      <td>-0.259035</td>\n",
       "      <td>-1.035323</td>\n",
       "      <td>1.0</td>\n",
       "      <td>1.248098</td>\n",
       "      <td>0.791718</td>\n",
       "      <td>0.118818</td>\n",
       "      <td>-0.11902</td>\n",
       "      <td>-0.193694</td>\n",
       "      <td>-0.398496</td>\n",
       "      <td>3.509521</td>\n",
       "      <td>...</td>\n",
       "      <td>-2.077605</td>\n",
       "      <td>0.958407</td>\n",
       "      <td>1.229729</td>\n",
       "      <td>1.192908</td>\n",
       "      <td>1.0</td>\n",
       "      <td>-1.601763</td>\n",
       "      <td>-1.072695</td>\n",
       "      <td>0.714599</td>\n",
       "      <td>-0.740824</td>\n",
       "      <td>snowflower</td>\n",
       "    </tr>\n",
       "    <tr>\n",
       "      <th>2</th>\n",
       "      <td>-0.259035</td>\n",
       "      <td>-1.035323</td>\n",
       "      <td>0.0</td>\n",
       "      <td>0.260442</td>\n",
       "      <td>1.340863</td>\n",
       "      <td>-1.575814</td>\n",
       "      <td>-0.11902</td>\n",
       "      <td>-0.193694</td>\n",
       "      <td>-0.398496</td>\n",
       "      <td>-0.284939</td>\n",
       "      <td>...</td>\n",
       "      <td>-1.154225</td>\n",
       "      <td>0.958407</td>\n",
       "      <td>1.229729</td>\n",
       "      <td>-0.877722</td>\n",
       "      <td>-1.0</td>\n",
       "      <td>-1.601763</td>\n",
       "      <td>-1.072695</td>\n",
       "      <td>0.714599</td>\n",
       "      <td>-0.740824</td>\n",
       "      <td>snowflower</td>\n",
       "    </tr>\n",
       "    <tr>\n",
       "      <th>3</th>\n",
       "      <td>-0.259035</td>\n",
       "      <td>-1.035323</td>\n",
       "      <td>1.0</td>\n",
       "      <td>1.248098</td>\n",
       "      <td>-0.855716</td>\n",
       "      <td>0.118818</td>\n",
       "      <td>-0.11902</td>\n",
       "      <td>-0.193694</td>\n",
       "      <td>-0.398496</td>\n",
       "      <td>-0.284939</td>\n",
       "      <td>...</td>\n",
       "      <td>1.154225</td>\n",
       "      <td>0.958407</td>\n",
       "      <td>1.229729</td>\n",
       "      <td>-0.877722</td>\n",
       "      <td>1.0</td>\n",
       "      <td>0.978153</td>\n",
       "      <td>-1.072695</td>\n",
       "      <td>-0.353946</td>\n",
       "      <td>-0.740824</td>\n",
       "      <td>max</td>\n",
       "    </tr>\n",
       "    <tr>\n",
       "      <th>4</th>\n",
       "      <td>-0.259035</td>\n",
       "      <td>-1.035323</td>\n",
       "      <td>1.0</td>\n",
       "      <td>1.248098</td>\n",
       "      <td>-0.855716</td>\n",
       "      <td>0.754304</td>\n",
       "      <td>-0.11902</td>\n",
       "      <td>-0.193694</td>\n",
       "      <td>-0.398496</td>\n",
       "      <td>-0.284939</td>\n",
       "      <td>...</td>\n",
       "      <td>-0.307793</td>\n",
       "      <td>0.958407</td>\n",
       "      <td>1.229729</td>\n",
       "      <td>-0.748308</td>\n",
       "      <td>-1.0</td>\n",
       "      <td>-0.898149</td>\n",
       "      <td>-1.072695</td>\n",
       "      <td>-0.353946</td>\n",
       "      <td>-0.740824</td>\n",
       "      <td>max</td>\n",
       "    </tr>\n",
       "    <tr>\n",
       "      <th>5</th>\n",
       "      <td>-0.259035</td>\n",
       "      <td>-1.035323</td>\n",
       "      <td>0.0</td>\n",
       "      <td>0.260442</td>\n",
       "      <td>0.791718</td>\n",
       "      <td>-1.363985</td>\n",
       "      <td>-0.11902</td>\n",
       "      <td>-0.193694</td>\n",
       "      <td>-0.398496</td>\n",
       "      <td>-0.284939</td>\n",
       "      <td>...</td>\n",
       "      <td>0.307793</td>\n",
       "      <td>0.958407</td>\n",
       "      <td>1.229729</td>\n",
       "      <td>-0.748308</td>\n",
       "      <td>1.0</td>\n",
       "      <td>1.036787</td>\n",
       "      <td>-1.072695</td>\n",
       "      <td>0.714599</td>\n",
       "      <td>-0.740824</td>\n",
       "      <td>snowflower</td>\n",
       "    </tr>\n",
       "    <tr>\n",
       "      <th>6</th>\n",
       "      <td>-0.259035</td>\n",
       "      <td>-1.035323</td>\n",
       "      <td>1.0</td>\n",
       "      <td>-0.727214</td>\n",
       "      <td>0.242574</td>\n",
       "      <td>1.177962</td>\n",
       "      <td>-0.11902</td>\n",
       "      <td>-0.193694</td>\n",
       "      <td>2.509437</td>\n",
       "      <td>-0.284939</td>\n",
       "      <td>...</td>\n",
       "      <td>-0.923380</td>\n",
       "      <td>0.958407</td>\n",
       "      <td>1.229729</td>\n",
       "      <td>1.192908</td>\n",
       "      <td>-1.0</td>\n",
       "      <td>-1.601763</td>\n",
       "      <td>-1.072695</td>\n",
       "      <td>1.550852</td>\n",
       "      <td>-0.740824</td>\n",
       "      <td>gorilla</td>\n",
       "    </tr>\n",
       "    <tr>\n",
       "      <th>7</th>\n",
       "      <td>-0.259035</td>\n",
       "      <td>-1.035323</td>\n",
       "      <td>0.0</td>\n",
       "      <td>1.248098</td>\n",
       "      <td>0.791718</td>\n",
       "      <td>-1.363985</td>\n",
       "      <td>-0.11902</td>\n",
       "      <td>-0.193694</td>\n",
       "      <td>-0.398496</td>\n",
       "      <td>-0.284939</td>\n",
       "      <td>...</td>\n",
       "      <td>0.923380</td>\n",
       "      <td>0.958407</td>\n",
       "      <td>1.229729</td>\n",
       "      <td>1.192908</td>\n",
       "      <td>1.0</td>\n",
       "      <td>-1.132687</td>\n",
       "      <td>-1.072695</td>\n",
       "      <td>-0.470092</td>\n",
       "      <td>-0.740824</td>\n",
       "      <td>mata</td>\n",
       "    </tr>\n",
       "    <tr>\n",
       "      <th>8</th>\n",
       "      <td>-0.259035</td>\n",
       "      <td>-1.035323</td>\n",
       "      <td>0.0</td>\n",
       "      <td>1.248098</td>\n",
       "      <td>-0.855716</td>\n",
       "      <td>-1.363985</td>\n",
       "      <td>-0.11902</td>\n",
       "      <td>-0.193694</td>\n",
       "      <td>-0.398496</td>\n",
       "      <td>-0.284939</td>\n",
       "      <td>...</td>\n",
       "      <td>-1.077277</td>\n",
       "      <td>0.958407</td>\n",
       "      <td>1.229729</td>\n",
       "      <td>-0.877722</td>\n",
       "      <td>-1.0</td>\n",
       "      <td>1.036787</td>\n",
       "      <td>-1.072695</td>\n",
       "      <td>-0.470092</td>\n",
       "      <td>-0.740824</td>\n",
       "      <td>mata</td>\n",
       "    </tr>\n",
       "    <tr>\n",
       "      <th>9</th>\n",
       "      <td>-0.259035</td>\n",
       "      <td>-1.035323</td>\n",
       "      <td>1.0</td>\n",
       "      <td>0.260442</td>\n",
       "      <td>-1.404860</td>\n",
       "      <td>-0.093011</td>\n",
       "      <td>-0.11902</td>\n",
       "      <td>-0.193694</td>\n",
       "      <td>-0.398496</td>\n",
       "      <td>-0.284939</td>\n",
       "      <td>...</td>\n",
       "      <td>1.077277</td>\n",
       "      <td>0.958407</td>\n",
       "      <td>1.229729</td>\n",
       "      <td>-0.877722</td>\n",
       "      <td>1.0</td>\n",
       "      <td>1.564497</td>\n",
       "      <td>-1.072695</td>\n",
       "      <td>1.550852</td>\n",
       "      <td>-0.740824</td>\n",
       "      <td>gorilla</td>\n",
       "    </tr>\n",
       "    <tr>\n",
       "      <th>10</th>\n",
       "      <td>-0.259035</td>\n",
       "      <td>-1.035323</td>\n",
       "      <td>1.0</td>\n",
       "      <td>-0.727214</td>\n",
       "      <td>-0.855716</td>\n",
       "      <td>-0.728498</td>\n",
       "      <td>-0.11902</td>\n",
       "      <td>-0.193694</td>\n",
       "      <td>-0.398496</td>\n",
       "      <td>-0.284939</td>\n",
       "      <td>...</td>\n",
       "      <td>0.307793</td>\n",
       "      <td>0.955488</td>\n",
       "      <td>1.229729</td>\n",
       "      <td>1.192908</td>\n",
       "      <td>-1.0</td>\n",
       "      <td>-0.194536</td>\n",
       "      <td>-1.072695</td>\n",
       "      <td>0.644911</td>\n",
       "      <td>-0.740824</td>\n",
       "      <td>ella</td>\n",
       "    </tr>\n",
       "    <tr>\n",
       "      <th>11</th>\n",
       "      <td>-0.259035</td>\n",
       "      <td>-1.035323</td>\n",
       "      <td>0.0</td>\n",
       "      <td>-0.727214</td>\n",
       "      <td>-0.306571</td>\n",
       "      <td>-0.940327</td>\n",
       "      <td>-0.11902</td>\n",
       "      <td>-0.193694</td>\n",
       "      <td>-0.398496</td>\n",
       "      <td>-0.284939</td>\n",
       "      <td>...</td>\n",
       "      <td>-0.307793</td>\n",
       "      <td>0.955488</td>\n",
       "      <td>1.229729</td>\n",
       "      <td>1.192908</td>\n",
       "      <td>1.0</td>\n",
       "      <td>1.564497</td>\n",
       "      <td>-1.072695</td>\n",
       "      <td>-0.864989</td>\n",
       "      <td>-0.740824</td>\n",
       "      <td>tusin</td>\n",
       "    </tr>\n",
       "    <tr>\n",
       "      <th>12</th>\n",
       "      <td>-0.259035</td>\n",
       "      <td>-1.035323</td>\n",
       "      <td>1.0</td>\n",
       "      <td>-0.727214</td>\n",
       "      <td>-0.855716</td>\n",
       "      <td>1.177962</td>\n",
       "      <td>-0.11902</td>\n",
       "      <td>-0.193694</td>\n",
       "      <td>-0.398496</td>\n",
       "      <td>-0.284939</td>\n",
       "      <td>...</td>\n",
       "      <td>-1.000329</td>\n",
       "      <td>0.955488</td>\n",
       "      <td>1.229729</td>\n",
       "      <td>-0.877722</td>\n",
       "      <td>-1.0</td>\n",
       "      <td>-1.074053</td>\n",
       "      <td>-1.072695</td>\n",
       "      <td>-0.864989</td>\n",
       "      <td>-0.740824</td>\n",
       "      <td>tusin</td>\n",
       "    </tr>\n",
       "    <tr>\n",
       "      <th>13</th>\n",
       "      <td>-0.259035</td>\n",
       "      <td>-1.035323</td>\n",
       "      <td>0.0</td>\n",
       "      <td>1.248098</td>\n",
       "      <td>0.242574</td>\n",
       "      <td>-0.728498</td>\n",
       "      <td>-0.11902</td>\n",
       "      <td>-0.193694</td>\n",
       "      <td>-0.398496</td>\n",
       "      <td>-0.284939</td>\n",
       "      <td>...</td>\n",
       "      <td>1.000329</td>\n",
       "      <td>0.955488</td>\n",
       "      <td>1.229729</td>\n",
       "      <td>-0.877722</td>\n",
       "      <td>1.0</td>\n",
       "      <td>1.564497</td>\n",
       "      <td>-1.072695</td>\n",
       "      <td>0.644911</td>\n",
       "      <td>-0.740824</td>\n",
       "      <td>ella</td>\n",
       "    </tr>\n",
       "    <tr>\n",
       "      <th>14</th>\n",
       "      <td>-0.259035</td>\n",
       "      <td>-1.035323</td>\n",
       "      <td>0.0</td>\n",
       "      <td>-0.727214</td>\n",
       "      <td>0.242574</td>\n",
       "      <td>-1.152156</td>\n",
       "      <td>-0.11902</td>\n",
       "      <td>-0.193694</td>\n",
       "      <td>-0.398496</td>\n",
       "      <td>-0.284939</td>\n",
       "      <td>...</td>\n",
       "      <td>0.538638</td>\n",
       "      <td>0.955488</td>\n",
       "      <td>1.229729</td>\n",
       "      <td>-0.877722</td>\n",
       "      <td>-1.0</td>\n",
       "      <td>-1.074053</td>\n",
       "      <td>-1.072695</td>\n",
       "      <td>1.225642</td>\n",
       "      <td>-0.740824</td>\n",
       "      <td>wolf</td>\n",
       "    </tr>\n",
       "    <tr>\n",
       "      <th>15</th>\n",
       "      <td>-0.259035</td>\n",
       "      <td>-1.035323</td>\n",
       "      <td>1.0</td>\n",
       "      <td>1.248098</td>\n",
       "      <td>-1.404860</td>\n",
       "      <td>0.118818</td>\n",
       "      <td>-0.11902</td>\n",
       "      <td>-0.193694</td>\n",
       "      <td>-0.398496</td>\n",
       "      <td>-0.284939</td>\n",
       "      <td>...</td>\n",
       "      <td>-0.538638</td>\n",
       "      <td>0.955488</td>\n",
       "      <td>1.229729</td>\n",
       "      <td>-0.877722</td>\n",
       "      <td>1.0</td>\n",
       "      <td>-1.601763</td>\n",
       "      <td>-1.072695</td>\n",
       "      <td>0.830745</td>\n",
       "      <td>-0.740824</td>\n",
       "      <td>corejj</td>\n",
       "    </tr>\n",
       "    <tr>\n",
       "      <th>16</th>\n",
       "      <td>-0.259035</td>\n",
       "      <td>-1.035323</td>\n",
       "      <td>1.0</td>\n",
       "      <td>2.235755</td>\n",
       "      <td>-1.404860</td>\n",
       "      <td>0.118818</td>\n",
       "      <td>-0.11902</td>\n",
       "      <td>-0.193694</td>\n",
       "      <td>-0.398496</td>\n",
       "      <td>-0.284939</td>\n",
       "      <td>...</td>\n",
       "      <td>0.615587</td>\n",
       "      <td>0.952567</td>\n",
       "      <td>-1.653366</td>\n",
       "      <td>1.192908</td>\n",
       "      <td>-1.0</td>\n",
       "      <td>1.564497</td>\n",
       "      <td>-1.072695</td>\n",
       "      <td>0.853975</td>\n",
       "      <td>-0.227233</td>\n",
       "      <td>chei</td>\n",
       "    </tr>\n",
       "    <tr>\n",
       "      <th>17</th>\n",
       "      <td>-0.259035</td>\n",
       "      <td>-1.035323</td>\n",
       "      <td>0.0</td>\n",
       "      <td>0.260442</td>\n",
       "      <td>0.791718</td>\n",
       "      <td>-0.728498</td>\n",
       "      <td>-0.11902</td>\n",
       "      <td>-0.193694</td>\n",
       "      <td>-0.398496</td>\n",
       "      <td>-0.284939</td>\n",
       "      <td>...</td>\n",
       "      <td>-0.615587</td>\n",
       "      <td>0.952567</td>\n",
       "      <td>-1.653366</td>\n",
       "      <td>1.192908</td>\n",
       "      <td>1.0</td>\n",
       "      <td>1.036787</td>\n",
       "      <td>-1.072695</td>\n",
       "      <td>-0.098424</td>\n",
       "      <td>-0.227233</td>\n",
       "      <td>mikyx</td>\n",
       "    </tr>\n",
       "    <tr>\n",
       "      <th>18</th>\n",
       "      <td>-0.259035</td>\n",
       "      <td>-1.035323</td>\n",
       "      <td>0.0</td>\n",
       "      <td>-0.727214</td>\n",
       "      <td>1.340863</td>\n",
       "      <td>-0.940327</td>\n",
       "      <td>-0.11902</td>\n",
       "      <td>-0.193694</td>\n",
       "      <td>-0.398496</td>\n",
       "      <td>-0.284939</td>\n",
       "      <td>...</td>\n",
       "      <td>0.230845</td>\n",
       "      <td>0.952567</td>\n",
       "      <td>-1.653366</td>\n",
       "      <td>-0.877722</td>\n",
       "      <td>-1.0</td>\n",
       "      <td>-1.191322</td>\n",
       "      <td>-1.072695</td>\n",
       "      <td>-0.098424</td>\n",
       "      <td>-0.227233</td>\n",
       "      <td>mikyx</td>\n",
       "    </tr>\n",
       "    <tr>\n",
       "      <th>19</th>\n",
       "      <td>-0.259035</td>\n",
       "      <td>-1.035323</td>\n",
       "      <td>1.0</td>\n",
       "      <td>1.248098</td>\n",
       "      <td>-0.306571</td>\n",
       "      <td>1.601620</td>\n",
       "      <td>-0.11902</td>\n",
       "      <td>-0.193694</td>\n",
       "      <td>-0.398496</td>\n",
       "      <td>-0.284939</td>\n",
       "      <td>...</td>\n",
       "      <td>-0.230845</td>\n",
       "      <td>0.952567</td>\n",
       "      <td>-1.653366</td>\n",
       "      <td>-0.877722</td>\n",
       "      <td>1.0</td>\n",
       "      <td>1.564497</td>\n",
       "      <td>-1.072695</td>\n",
       "      <td>0.853975</td>\n",
       "      <td>-0.227233</td>\n",
       "      <td>chei</td>\n",
       "    </tr>\n",
       "    <tr>\n",
       "      <th>20</th>\n",
       "      <td>-0.259035</td>\n",
       "      <td>-1.035323</td>\n",
       "      <td>1.0</td>\n",
       "      <td>0.260442</td>\n",
       "      <td>-1.404860</td>\n",
       "      <td>-0.516669</td>\n",
       "      <td>-0.11902</td>\n",
       "      <td>-0.193694</td>\n",
       "      <td>2.509437</td>\n",
       "      <td>-0.284939</td>\n",
       "      <td>...</td>\n",
       "      <td>1.154225</td>\n",
       "      <td>0.952567</td>\n",
       "      <td>1.229729</td>\n",
       "      <td>-0.877722</td>\n",
       "      <td>-1.0</td>\n",
       "      <td>1.564497</td>\n",
       "      <td>-1.072695</td>\n",
       "      <td>0.040951</td>\n",
       "      <td>-0.740824</td>\n",
       "      <td>totoro</td>\n",
       "    </tr>\n",
       "    <tr>\n",
       "      <th>21</th>\n",
       "      <td>-0.259035</td>\n",
       "      <td>-1.035323</td>\n",
       "      <td>0.0</td>\n",
       "      <td>0.260442</td>\n",
       "      <td>-0.306571</td>\n",
       "      <td>-1.575814</td>\n",
       "      <td>-0.11902</td>\n",
       "      <td>-0.193694</td>\n",
       "      <td>-0.398496</td>\n",
       "      <td>3.509521</td>\n",
       "      <td>...</td>\n",
       "      <td>-1.154225</td>\n",
       "      <td>0.952567</td>\n",
       "      <td>1.229729</td>\n",
       "      <td>-0.877722</td>\n",
       "      <td>1.0</td>\n",
       "      <td>-1.601763</td>\n",
       "      <td>-1.072695</td>\n",
       "      <td>1.550852</td>\n",
       "      <td>-0.740824</td>\n",
       "      <td>gorilla</td>\n",
       "    </tr>\n",
       "    <tr>\n",
       "      <th>22</th>\n",
       "      <td>-0.259035</td>\n",
       "      <td>-1.035323</td>\n",
       "      <td>1.0</td>\n",
       "      <td>0.260442</td>\n",
       "      <td>-1.404860</td>\n",
       "      <td>0.118818</td>\n",
       "      <td>-0.11902</td>\n",
       "      <td>-0.193694</td>\n",
       "      <td>-0.398496</td>\n",
       "      <td>-0.284939</td>\n",
       "      <td>...</td>\n",
       "      <td>0.230845</td>\n",
       "      <td>0.952567</td>\n",
       "      <td>1.229729</td>\n",
       "      <td>-0.748308</td>\n",
       "      <td>-1.0</td>\n",
       "      <td>1.564497</td>\n",
       "      <td>-1.072695</td>\n",
       "      <td>1.550852</td>\n",
       "      <td>-0.740824</td>\n",
       "      <td>gorilla</td>\n",
       "    </tr>\n",
       "    <tr>\n",
       "      <th>23</th>\n",
       "      <td>-0.259035</td>\n",
       "      <td>-1.035323</td>\n",
       "      <td>0.0</td>\n",
       "      <td>-0.727214</td>\n",
       "      <td>-0.306571</td>\n",
       "      <td>-1.152156</td>\n",
       "      <td>-0.11902</td>\n",
       "      <td>-0.193694</td>\n",
       "      <td>-0.398496</td>\n",
       "      <td>-0.284939</td>\n",
       "      <td>...</td>\n",
       "      <td>-0.230845</td>\n",
       "      <td>0.952567</td>\n",
       "      <td>1.229729</td>\n",
       "      <td>-0.748308</td>\n",
       "      <td>1.0</td>\n",
       "      <td>-0.194536</td>\n",
       "      <td>-1.072695</td>\n",
       "      <td>0.040951</td>\n",
       "      <td>-0.740824</td>\n",
       "      <td>totoro</td>\n",
       "    </tr>\n",
       "    <tr>\n",
       "      <th>24</th>\n",
       "      <td>-0.259035</td>\n",
       "      <td>-1.035323</td>\n",
       "      <td>0.0</td>\n",
       "      <td>0.260442</td>\n",
       "      <td>-1.404860</td>\n",
       "      <td>0.118818</td>\n",
       "      <td>-0.11902</td>\n",
       "      <td>-0.193694</td>\n",
       "      <td>-0.398496</td>\n",
       "      <td>-0.284939</td>\n",
       "      <td>...</td>\n",
       "      <td>0.923380</td>\n",
       "      <td>0.952567</td>\n",
       "      <td>1.229729</td>\n",
       "      <td>1.192908</td>\n",
       "      <td>-1.0</td>\n",
       "      <td>1.564497</td>\n",
       "      <td>-1.072695</td>\n",
       "      <td>-1.445720</td>\n",
       "      <td>-0.740824</td>\n",
       "      <td>key</td>\n",
       "    </tr>\n",
       "    <tr>\n",
       "      <th>25</th>\n",
       "      <td>-0.259035</td>\n",
       "      <td>-1.035323</td>\n",
       "      <td>1.0</td>\n",
       "      <td>-0.727214</td>\n",
       "      <td>0.242574</td>\n",
       "      <td>0.330646</td>\n",
       "      <td>-0.11902</td>\n",
       "      <td>-0.193694</td>\n",
       "      <td>-0.398496</td>\n",
       "      <td>-0.284939</td>\n",
       "      <td>...</td>\n",
       "      <td>-0.923380</td>\n",
       "      <td>0.952567</td>\n",
       "      <td>1.229729</td>\n",
       "      <td>1.192908</td>\n",
       "      <td>1.0</td>\n",
       "      <td>-1.191322</td>\n",
       "      <td>-1.072695</td>\n",
       "      <td>0.714599</td>\n",
       "      <td>-0.740824</td>\n",
       "      <td>snowflower</td>\n",
       "    </tr>\n",
       "    <tr>\n",
       "      <th>26</th>\n",
       "      <td>-0.259035</td>\n",
       "      <td>-1.035323</td>\n",
       "      <td>1.0</td>\n",
       "      <td>-0.727214</td>\n",
       "      <td>-1.404860</td>\n",
       "      <td>0.330646</td>\n",
       "      <td>-0.11902</td>\n",
       "      <td>-0.193694</td>\n",
       "      <td>-0.398496</td>\n",
       "      <td>-0.284939</td>\n",
       "      <td>...</td>\n",
       "      <td>0.153897</td>\n",
       "      <td>0.952567</td>\n",
       "      <td>1.229729</td>\n",
       "      <td>-0.877722</td>\n",
       "      <td>-1.0</td>\n",
       "      <td>1.095422</td>\n",
       "      <td>-1.072695</td>\n",
       "      <td>0.714599</td>\n",
       "      <td>-0.740824</td>\n",
       "      <td>snowflower</td>\n",
       "    </tr>\n",
       "    <tr>\n",
       "      <th>27</th>\n",
       "      <td>-0.259035</td>\n",
       "      <td>-1.035323</td>\n",
       "      <td>0.0</td>\n",
       "      <td>-0.727214</td>\n",
       "      <td>0.791718</td>\n",
       "      <td>-1.363985</td>\n",
       "      <td>-0.11902</td>\n",
       "      <td>-0.193694</td>\n",
       "      <td>-0.398496</td>\n",
       "      <td>-0.284939</td>\n",
       "      <td>...</td>\n",
       "      <td>-0.153897</td>\n",
       "      <td>0.952567</td>\n",
       "      <td>1.229729</td>\n",
       "      <td>-0.877722</td>\n",
       "      <td>1.0</td>\n",
       "      <td>-0.253170</td>\n",
       "      <td>-1.072695</td>\n",
       "      <td>-1.445720</td>\n",
       "      <td>-0.740824</td>\n",
       "      <td>key</td>\n",
       "    </tr>\n",
       "    <tr>\n",
       "      <th>28</th>\n",
       "      <td>-0.259035</td>\n",
       "      <td>-1.035323</td>\n",
       "      <td>1.0</td>\n",
       "      <td>0.260442</td>\n",
       "      <td>-0.306571</td>\n",
       "      <td>0.330646</td>\n",
       "      <td>-0.11902</td>\n",
       "      <td>-0.193694</td>\n",
       "      <td>-0.398496</td>\n",
       "      <td>-0.284939</td>\n",
       "      <td>...</td>\n",
       "      <td>0.230845</td>\n",
       "      <td>0.952567</td>\n",
       "      <td>-1.653366</td>\n",
       "      <td>1.192908</td>\n",
       "      <td>-1.0</td>\n",
       "      <td>1.564497</td>\n",
       "      <td>-1.072695</td>\n",
       "      <td>-0.144883</td>\n",
       "      <td>-0.227233</td>\n",
       "      <td>jesiz</td>\n",
       "    </tr>\n",
       "    <tr>\n",
       "      <th>29</th>\n",
       "      <td>-0.259035</td>\n",
       "      <td>-1.035323</td>\n",
       "      <td>0.0</td>\n",
       "      <td>-0.727214</td>\n",
       "      <td>1.340863</td>\n",
       "      <td>-0.728498</td>\n",
       "      <td>-0.11902</td>\n",
       "      <td>-0.193694</td>\n",
       "      <td>-0.398496</td>\n",
       "      <td>-0.284939</td>\n",
       "      <td>...</td>\n",
       "      <td>-0.230845</td>\n",
       "      <td>0.952567</td>\n",
       "      <td>-1.653366</td>\n",
       "      <td>1.192908</td>\n",
       "      <td>1.0</td>\n",
       "      <td>-1.191322</td>\n",
       "      <td>-1.072695</td>\n",
       "      <td>-1.050823</td>\n",
       "      <td>-0.227233</td>\n",
       "      <td>ignar</td>\n",
       "    </tr>\n",
       "    <tr>\n",
       "      <th>...</th>\n",
       "      <td>...</td>\n",
       "      <td>...</td>\n",
       "      <td>...</td>\n",
       "      <td>...</td>\n",
       "      <td>...</td>\n",
       "      <td>...</td>\n",
       "      <td>...</td>\n",
       "      <td>...</td>\n",
       "      <td>...</td>\n",
       "      <td>...</td>\n",
       "      <td>...</td>\n",
       "      <td>...</td>\n",
       "      <td>...</td>\n",
       "      <td>...</td>\n",
       "      <td>...</td>\n",
       "      <td>...</td>\n",
       "      <td>...</td>\n",
       "      <td>...</td>\n",
       "      <td>...</td>\n",
       "      <td>...</td>\n",
       "      <td>...</td>\n",
       "    </tr>\n",
       "    <tr>\n",
       "      <th>15484</th>\n",
       "      <td>1.140389</td>\n",
       "      <td>1.710932</td>\n",
       "      <td>1.0</td>\n",
       "      <td>2.235755</td>\n",
       "      <td>0.791718</td>\n",
       "      <td>1.389791</td>\n",
       "      <td>-0.11902</td>\n",
       "      <td>-0.193694</td>\n",
       "      <td>-0.398496</td>\n",
       "      <td>-0.284939</td>\n",
       "      <td>...</td>\n",
       "      <td>0.000000</td>\n",
       "      <td>0.115573</td>\n",
       "      <td>0.460904</td>\n",
       "      <td>1.192908</td>\n",
       "      <td>-1.0</td>\n",
       "      <td>0.333174</td>\n",
       "      <td>1.463557</td>\n",
       "      <td>-0.423633</td>\n",
       "      <td>0.799949</td>\n",
       "      <td>duan</td>\n",
       "    </tr>\n",
       "    <tr>\n",
       "      <th>15485</th>\n",
       "      <td>1.140389</td>\n",
       "      <td>1.710932</td>\n",
       "      <td>0.0</td>\n",
       "      <td>1.248098</td>\n",
       "      <td>1.890008</td>\n",
       "      <td>-0.940327</td>\n",
       "      <td>-0.11902</td>\n",
       "      <td>-0.193694</td>\n",
       "      <td>-0.398496</td>\n",
       "      <td>-0.284939</td>\n",
       "      <td>...</td>\n",
       "      <td>0.000000</td>\n",
       "      <td>0.115573</td>\n",
       "      <td>0.460904</td>\n",
       "      <td>1.192908</td>\n",
       "      <td>1.0</td>\n",
       "      <td>0.098636</td>\n",
       "      <td>1.463557</td>\n",
       "      <td>-0.888218</td>\n",
       "      <td>0.799949</td>\n",
       "      <td>swordart</td>\n",
       "    </tr>\n",
       "    <tr>\n",
       "      <th>15486</th>\n",
       "      <td>1.140389</td>\n",
       "      <td>1.710932</td>\n",
       "      <td>0.0</td>\n",
       "      <td>-0.727214</td>\n",
       "      <td>1.340863</td>\n",
       "      <td>1.177962</td>\n",
       "      <td>-0.11902</td>\n",
       "      <td>-0.193694</td>\n",
       "      <td>-0.398496</td>\n",
       "      <td>-0.284939</td>\n",
       "      <td>...</td>\n",
       "      <td>0.000000</td>\n",
       "      <td>0.115573</td>\n",
       "      <td>0.460904</td>\n",
       "      <td>-0.877722</td>\n",
       "      <td>-1.0</td>\n",
       "      <td>1.095422</td>\n",
       "      <td>1.463557</td>\n",
       "      <td>-0.888218</td>\n",
       "      <td>0.799949</td>\n",
       "      <td>swordart</td>\n",
       "    </tr>\n",
       "    <tr>\n",
       "      <th>15487</th>\n",
       "      <td>1.140389</td>\n",
       "      <td>1.710932</td>\n",
       "      <td>1.0</td>\n",
       "      <td>-0.727214</td>\n",
       "      <td>1.340863</td>\n",
       "      <td>1.177962</td>\n",
       "      <td>-0.11902</td>\n",
       "      <td>-0.193694</td>\n",
       "      <td>-0.398496</td>\n",
       "      <td>-0.284939</td>\n",
       "      <td>...</td>\n",
       "      <td>0.000000</td>\n",
       "      <td>0.115573</td>\n",
       "      <td>0.460904</td>\n",
       "      <td>-0.877722</td>\n",
       "      <td>1.0</td>\n",
       "      <td>0.684981</td>\n",
       "      <td>1.463557</td>\n",
       "      <td>-0.423633</td>\n",
       "      <td>0.799949</td>\n",
       "      <td>duan</td>\n",
       "    </tr>\n",
       "    <tr>\n",
       "      <th>15488</th>\n",
       "      <td>1.140389</td>\n",
       "      <td>1.710932</td>\n",
       "      <td>1.0</td>\n",
       "      <td>-0.727214</td>\n",
       "      <td>0.242574</td>\n",
       "      <td>0.542475</td>\n",
       "      <td>-0.11902</td>\n",
       "      <td>-0.193694</td>\n",
       "      <td>-0.398496</td>\n",
       "      <td>-0.284939</td>\n",
       "      <td>...</td>\n",
       "      <td>0.000000</td>\n",
       "      <td>0.115573</td>\n",
       "      <td>0.460904</td>\n",
       "      <td>1.192908</td>\n",
       "      <td>-1.0</td>\n",
       "      <td>-1.484494</td>\n",
       "      <td>1.463557</td>\n",
       "      <td>0.528765</td>\n",
       "      <td>0.799949</td>\n",
       "      <td>xinmo</td>\n",
       "    </tr>\n",
       "    <tr>\n",
       "      <th>15489</th>\n",
       "      <td>1.140389</td>\n",
       "      <td>1.710932</td>\n",
       "      <td>0.0</td>\n",
       "      <td>-0.727214</td>\n",
       "      <td>0.791718</td>\n",
       "      <td>-0.093011</td>\n",
       "      <td>-0.11902</td>\n",
       "      <td>-0.193694</td>\n",
       "      <td>-0.398496</td>\n",
       "      <td>-0.284939</td>\n",
       "      <td>...</td>\n",
       "      <td>0.000000</td>\n",
       "      <td>0.115573</td>\n",
       "      <td>0.460904</td>\n",
       "      <td>1.192908</td>\n",
       "      <td>1.0</td>\n",
       "      <td>0.333174</td>\n",
       "      <td>1.463557</td>\n",
       "      <td>0.807516</td>\n",
       "      <td>0.799949</td>\n",
       "      <td>ming</td>\n",
       "    </tr>\n",
       "    <tr>\n",
       "      <th>15490</th>\n",
       "      <td>1.140389</td>\n",
       "      <td>1.710932</td>\n",
       "      <td>1.0</td>\n",
       "      <td>0.260442</td>\n",
       "      <td>-0.306571</td>\n",
       "      <td>-0.093011</td>\n",
       "      <td>-0.11902</td>\n",
       "      <td>-0.193694</td>\n",
       "      <td>-0.398496</td>\n",
       "      <td>-0.284939</td>\n",
       "      <td>...</td>\n",
       "      <td>0.000000</td>\n",
       "      <td>0.115573</td>\n",
       "      <td>0.460904</td>\n",
       "      <td>-0.877722</td>\n",
       "      <td>-1.0</td>\n",
       "      <td>0.684981</td>\n",
       "      <td>1.463557</td>\n",
       "      <td>0.528765</td>\n",
       "      <td>0.799949</td>\n",
       "      <td>xinmo</td>\n",
       "    </tr>\n",
       "    <tr>\n",
       "      <th>15491</th>\n",
       "      <td>1.140389</td>\n",
       "      <td>1.710932</td>\n",
       "      <td>0.0</td>\n",
       "      <td>1.248098</td>\n",
       "      <td>0.242574</td>\n",
       "      <td>-0.728498</td>\n",
       "      <td>-0.11902</td>\n",
       "      <td>-0.193694</td>\n",
       "      <td>-0.398496</td>\n",
       "      <td>-0.284939</td>\n",
       "      <td>...</td>\n",
       "      <td>0.000000</td>\n",
       "      <td>0.115573</td>\n",
       "      <td>0.460904</td>\n",
       "      <td>-0.877722</td>\n",
       "      <td>1.0</td>\n",
       "      <td>-1.484494</td>\n",
       "      <td>1.463557</td>\n",
       "      <td>0.807516</td>\n",
       "      <td>0.799949</td>\n",
       "      <td>ming</td>\n",
       "    </tr>\n",
       "    <tr>\n",
       "      <th>15492</th>\n",
       "      <td>1.140389</td>\n",
       "      <td>1.710932</td>\n",
       "      <td>0.0</td>\n",
       "      <td>0.260442</td>\n",
       "      <td>2.439153</td>\n",
       "      <td>-0.093011</td>\n",
       "      <td>-0.11902</td>\n",
       "      <td>-0.193694</td>\n",
       "      <td>-0.398496</td>\n",
       "      <td>-0.284939</td>\n",
       "      <td>...</td>\n",
       "      <td>0.000000</td>\n",
       "      <td>0.115573</td>\n",
       "      <td>0.460904</td>\n",
       "      <td>1.192908</td>\n",
       "      <td>-1.0</td>\n",
       "      <td>-1.191322</td>\n",
       "      <td>1.463557</td>\n",
       "      <td>-0.284258</td>\n",
       "      <td>0.799949</td>\n",
       "      <td>huanggai</td>\n",
       "    </tr>\n",
       "    <tr>\n",
       "      <th>15493</th>\n",
       "      <td>1.140389</td>\n",
       "      <td>1.710932</td>\n",
       "      <td>1.0</td>\n",
       "      <td>0.260442</td>\n",
       "      <td>0.791718</td>\n",
       "      <td>2.025278</td>\n",
       "      <td>-0.11902</td>\n",
       "      <td>-0.193694</td>\n",
       "      <td>-0.398496</td>\n",
       "      <td>-0.284939</td>\n",
       "      <td>...</td>\n",
       "      <td>0.000000</td>\n",
       "      <td>0.115573</td>\n",
       "      <td>0.460904</td>\n",
       "      <td>1.192908</td>\n",
       "      <td>1.0</td>\n",
       "      <td>-1.484494</td>\n",
       "      <td>1.463557</td>\n",
       "      <td>-1.097281</td>\n",
       "      <td>0.799949</td>\n",
       "      <td>baolan</td>\n",
       "    </tr>\n",
       "    <tr>\n",
       "      <th>15494</th>\n",
       "      <td>1.140389</td>\n",
       "      <td>1.710932</td>\n",
       "      <td>0.0</td>\n",
       "      <td>-0.727214</td>\n",
       "      <td>2.439153</td>\n",
       "      <td>0.754304</td>\n",
       "      <td>-0.11902</td>\n",
       "      <td>-0.193694</td>\n",
       "      <td>-0.398496</td>\n",
       "      <td>-0.284939</td>\n",
       "      <td>...</td>\n",
       "      <td>0.000000</td>\n",
       "      <td>0.115573</td>\n",
       "      <td>0.460904</td>\n",
       "      <td>-0.877722</td>\n",
       "      <td>-1.0</td>\n",
       "      <td>-1.484494</td>\n",
       "      <td>1.463557</td>\n",
       "      <td>-0.284258</td>\n",
       "      <td>0.799949</td>\n",
       "      <td>huanggai</td>\n",
       "    </tr>\n",
       "    <tr>\n",
       "      <th>15495</th>\n",
       "      <td>1.140389</td>\n",
       "      <td>1.710932</td>\n",
       "      <td>1.0</td>\n",
       "      <td>1.248098</td>\n",
       "      <td>-0.306571</td>\n",
       "      <td>4.779054</td>\n",
       "      <td>-0.11902</td>\n",
       "      <td>-0.193694</td>\n",
       "      <td>-0.398496</td>\n",
       "      <td>-0.284939</td>\n",
       "      <td>...</td>\n",
       "      <td>0.000000</td>\n",
       "      <td>0.115573</td>\n",
       "      <td>0.460904</td>\n",
       "      <td>-0.877722</td>\n",
       "      <td>1.0</td>\n",
       "      <td>0.684981</td>\n",
       "      <td>1.463557</td>\n",
       "      <td>-1.097281</td>\n",
       "      <td>0.799949</td>\n",
       "      <td>baolan</td>\n",
       "    </tr>\n",
       "    <tr>\n",
       "      <th>15496</th>\n",
       "      <td>1.140389</td>\n",
       "      <td>1.710932</td>\n",
       "      <td>0.0</td>\n",
       "      <td>-0.727214</td>\n",
       "      <td>0.791718</td>\n",
       "      <td>-1.152156</td>\n",
       "      <td>-0.11902</td>\n",
       "      <td>-0.193694</td>\n",
       "      <td>-0.398496</td>\n",
       "      <td>-0.284939</td>\n",
       "      <td>...</td>\n",
       "      <td>0.000000</td>\n",
       "      <td>0.115573</td>\n",
       "      <td>0.460904</td>\n",
       "      <td>1.192908</td>\n",
       "      <td>-1.0</td>\n",
       "      <td>-0.194536</td>\n",
       "      <td>1.463557</td>\n",
       "      <td>-0.284258</td>\n",
       "      <td>0.799949</td>\n",
       "      <td>huanggai</td>\n",
       "    </tr>\n",
       "    <tr>\n",
       "      <th>15497</th>\n",
       "      <td>1.140389</td>\n",
       "      <td>1.710932</td>\n",
       "      <td>1.0</td>\n",
       "      <td>0.260442</td>\n",
       "      <td>-1.404860</td>\n",
       "      <td>1.177962</td>\n",
       "      <td>-0.11902</td>\n",
       "      <td>-0.193694</td>\n",
       "      <td>-0.398496</td>\n",
       "      <td>-0.284939</td>\n",
       "      <td>...</td>\n",
       "      <td>0.000000</td>\n",
       "      <td>0.115573</td>\n",
       "      <td>0.460904</td>\n",
       "      <td>1.192908</td>\n",
       "      <td>1.0</td>\n",
       "      <td>-1.191322</td>\n",
       "      <td>1.463557</td>\n",
       "      <td>-0.539779</td>\n",
       "      <td>0.799949</td>\n",
       "      <td>southwind</td>\n",
       "    </tr>\n",
       "    <tr>\n",
       "      <th>15498</th>\n",
       "      <td>1.140389</td>\n",
       "      <td>1.710932</td>\n",
       "      <td>0.0</td>\n",
       "      <td>0.260442</td>\n",
       "      <td>0.791718</td>\n",
       "      <td>-0.728498</td>\n",
       "      <td>-0.11902</td>\n",
       "      <td>-0.193694</td>\n",
       "      <td>-0.398496</td>\n",
       "      <td>-0.284939</td>\n",
       "      <td>...</td>\n",
       "      <td>0.000000</td>\n",
       "      <td>0.115573</td>\n",
       "      <td>0.460904</td>\n",
       "      <td>-0.877722</td>\n",
       "      <td>-1.0</td>\n",
       "      <td>-0.194536</td>\n",
       "      <td>1.463557</td>\n",
       "      <td>-0.539779</td>\n",
       "      <td>0.799949</td>\n",
       "      <td>southwind</td>\n",
       "    </tr>\n",
       "    <tr>\n",
       "      <th>15499</th>\n",
       "      <td>1.140389</td>\n",
       "      <td>1.710932</td>\n",
       "      <td>1.0</td>\n",
       "      <td>0.260442</td>\n",
       "      <td>-1.404860</td>\n",
       "      <td>0.754304</td>\n",
       "      <td>-0.11902</td>\n",
       "      <td>-0.193694</td>\n",
       "      <td>-0.398496</td>\n",
       "      <td>-0.284939</td>\n",
       "      <td>...</td>\n",
       "      <td>0.000000</td>\n",
       "      <td>0.115573</td>\n",
       "      <td>0.460904</td>\n",
       "      <td>-0.877722</td>\n",
       "      <td>1.0</td>\n",
       "      <td>-1.191322</td>\n",
       "      <td>1.463557</td>\n",
       "      <td>-0.284258</td>\n",
       "      <td>0.799949</td>\n",
       "      <td>huanggai</td>\n",
       "    </tr>\n",
       "    <tr>\n",
       "      <th>15500</th>\n",
       "      <td>1.140389</td>\n",
       "      <td>1.710932</td>\n",
       "      <td>0.0</td>\n",
       "      <td>-0.727214</td>\n",
       "      <td>0.791718</td>\n",
       "      <td>0.330646</td>\n",
       "      <td>-0.11902</td>\n",
       "      <td>-0.193694</td>\n",
       "      <td>-0.398496</td>\n",
       "      <td>-0.284939</td>\n",
       "      <td>...</td>\n",
       "      <td>0.000000</td>\n",
       "      <td>0.115573</td>\n",
       "      <td>0.460904</td>\n",
       "      <td>-0.748308</td>\n",
       "      <td>-1.0</td>\n",
       "      <td>1.095422</td>\n",
       "      <td>1.463557</td>\n",
       "      <td>-0.539779</td>\n",
       "      <td>0.799949</td>\n",
       "      <td>southwind</td>\n",
       "    </tr>\n",
       "    <tr>\n",
       "      <th>15501</th>\n",
       "      <td>1.140389</td>\n",
       "      <td>1.710932</td>\n",
       "      <td>1.0</td>\n",
       "      <td>0.260442</td>\n",
       "      <td>0.791718</td>\n",
       "      <td>1.177962</td>\n",
       "      <td>-0.11902</td>\n",
       "      <td>-0.193694</td>\n",
       "      <td>-0.398496</td>\n",
       "      <td>-0.284939</td>\n",
       "      <td>...</td>\n",
       "      <td>0.000000</td>\n",
       "      <td>0.115573</td>\n",
       "      <td>0.460904</td>\n",
       "      <td>-0.748308</td>\n",
       "      <td>1.0</td>\n",
       "      <td>-1.191322</td>\n",
       "      <td>1.463557</td>\n",
       "      <td>-0.284258</td>\n",
       "      <td>0.799949</td>\n",
       "      <td>huanggai</td>\n",
       "    </tr>\n",
       "    <tr>\n",
       "      <th>15502</th>\n",
       "      <td>1.140389</td>\n",
       "      <td>1.710932</td>\n",
       "      <td>1.0</td>\n",
       "      <td>-0.727214</td>\n",
       "      <td>0.791718</td>\n",
       "      <td>2.872593</td>\n",
       "      <td>-0.11902</td>\n",
       "      <td>-0.193694</td>\n",
       "      <td>-0.398496</td>\n",
       "      <td>-0.284939</td>\n",
       "      <td>...</td>\n",
       "      <td>0.000000</td>\n",
       "      <td>0.115573</td>\n",
       "      <td>0.460904</td>\n",
       "      <td>1.192908</td>\n",
       "      <td>-1.0</td>\n",
       "      <td>1.212691</td>\n",
       "      <td>1.463557</td>\n",
       "      <td>-1.376032</td>\n",
       "      <td>0.799949</td>\n",
       "      <td>crisp</td>\n",
       "    </tr>\n",
       "    <tr>\n",
       "      <th>15503</th>\n",
       "      <td>1.140389</td>\n",
       "      <td>1.710932</td>\n",
       "      <td>0.0</td>\n",
       "      <td>-0.727214</td>\n",
       "      <td>1.890008</td>\n",
       "      <td>0.330646</td>\n",
       "      <td>-0.11902</td>\n",
       "      <td>-0.193694</td>\n",
       "      <td>-0.398496</td>\n",
       "      <td>-0.284939</td>\n",
       "      <td>...</td>\n",
       "      <td>0.000000</td>\n",
       "      <td>0.115573</td>\n",
       "      <td>0.460904</td>\n",
       "      <td>1.192908</td>\n",
       "      <td>1.0</td>\n",
       "      <td>0.391808</td>\n",
       "      <td>1.463557</td>\n",
       "      <td>-1.213427</td>\n",
       "      <td>0.799949</td>\n",
       "      <td>ben</td>\n",
       "    </tr>\n",
       "    <tr>\n",
       "      <th>15504</th>\n",
       "      <td>1.140389</td>\n",
       "      <td>1.710932</td>\n",
       "      <td>1.0</td>\n",
       "      <td>5.198723</td>\n",
       "      <td>0.242574</td>\n",
       "      <td>0.330646</td>\n",
       "      <td>-0.11902</td>\n",
       "      <td>-0.193694</td>\n",
       "      <td>-0.398496</td>\n",
       "      <td>-0.284939</td>\n",
       "      <td>...</td>\n",
       "      <td>0.000000</td>\n",
       "      <td>0.115573</td>\n",
       "      <td>0.460904</td>\n",
       "      <td>-0.877722</td>\n",
       "      <td>-1.0</td>\n",
       "      <td>-0.487708</td>\n",
       "      <td>1.463557</td>\n",
       "      <td>-1.376032</td>\n",
       "      <td>0.799949</td>\n",
       "      <td>crisp</td>\n",
       "    </tr>\n",
       "    <tr>\n",
       "      <th>15505</th>\n",
       "      <td>1.140389</td>\n",
       "      <td>1.710932</td>\n",
       "      <td>0.0</td>\n",
       "      <td>-0.727214</td>\n",
       "      <td>1.890008</td>\n",
       "      <td>-0.304840</td>\n",
       "      <td>-0.11902</td>\n",
       "      <td>-0.193694</td>\n",
       "      <td>-0.398496</td>\n",
       "      <td>-0.284939</td>\n",
       "      <td>...</td>\n",
       "      <td>0.000000</td>\n",
       "      <td>0.115573</td>\n",
       "      <td>0.460904</td>\n",
       "      <td>-0.877722</td>\n",
       "      <td>1.0</td>\n",
       "      <td>-0.194536</td>\n",
       "      <td>1.463557</td>\n",
       "      <td>-1.213427</td>\n",
       "      <td>0.799949</td>\n",
       "      <td>ben</td>\n",
       "    </tr>\n",
       "    <tr>\n",
       "      <th>15506</th>\n",
       "      <td>1.140389</td>\n",
       "      <td>1.710932</td>\n",
       "      <td>0.0</td>\n",
       "      <td>-0.727214</td>\n",
       "      <td>0.242574</td>\n",
       "      <td>-1.363985</td>\n",
       "      <td>-0.11902</td>\n",
       "      <td>-0.193694</td>\n",
       "      <td>-0.398496</td>\n",
       "      <td>-0.284939</td>\n",
       "      <td>...</td>\n",
       "      <td>0.000000</td>\n",
       "      <td>0.115573</td>\n",
       "      <td>0.460904</td>\n",
       "      <td>1.192908</td>\n",
       "      <td>-1.0</td>\n",
       "      <td>-1.191322</td>\n",
       "      <td>1.463557</td>\n",
       "      <td>1.388247</td>\n",
       "      <td>0.799949</td>\n",
       "      <td>five</td>\n",
       "    </tr>\n",
       "    <tr>\n",
       "      <th>15507</th>\n",
       "      <td>1.140389</td>\n",
       "      <td>1.710932</td>\n",
       "      <td>1.0</td>\n",
       "      <td>0.260442</td>\n",
       "      <td>-1.404860</td>\n",
       "      <td>1.389791</td>\n",
       "      <td>-0.11902</td>\n",
       "      <td>-0.193694</td>\n",
       "      <td>-0.398496</td>\n",
       "      <td>-0.284939</td>\n",
       "      <td>...</td>\n",
       "      <td>0.000000</td>\n",
       "      <td>0.115573</td>\n",
       "      <td>0.460904</td>\n",
       "      <td>1.192908</td>\n",
       "      <td>1.0</td>\n",
       "      <td>1.095422</td>\n",
       "      <td>1.463557</td>\n",
       "      <td>-1.213427</td>\n",
       "      <td>0.799949</td>\n",
       "      <td>ben</td>\n",
       "    </tr>\n",
       "    <tr>\n",
       "      <th>15508</th>\n",
       "      <td>1.140389</td>\n",
       "      <td>1.710932</td>\n",
       "      <td>1.0</td>\n",
       "      <td>0.260442</td>\n",
       "      <td>-1.404860</td>\n",
       "      <td>0.754304</td>\n",
       "      <td>-0.11902</td>\n",
       "      <td>-0.193694</td>\n",
       "      <td>-0.398496</td>\n",
       "      <td>-0.284939</td>\n",
       "      <td>...</td>\n",
       "      <td>0.000000</td>\n",
       "      <td>0.115573</td>\n",
       "      <td>0.460904</td>\n",
       "      <td>-0.877722</td>\n",
       "      <td>-1.0</td>\n",
       "      <td>-0.194536</td>\n",
       "      <td>1.463557</td>\n",
       "      <td>-1.213427</td>\n",
       "      <td>0.799949</td>\n",
       "      <td>ben</td>\n",
       "    </tr>\n",
       "    <tr>\n",
       "      <th>15509</th>\n",
       "      <td>1.140389</td>\n",
       "      <td>1.710932</td>\n",
       "      <td>0.0</td>\n",
       "      <td>-0.727214</td>\n",
       "      <td>-0.855716</td>\n",
       "      <td>-0.940327</td>\n",
       "      <td>-0.11902</td>\n",
       "      <td>-0.193694</td>\n",
       "      <td>-0.398496</td>\n",
       "      <td>-0.284939</td>\n",
       "      <td>...</td>\n",
       "      <td>0.000000</td>\n",
       "      <td>0.115573</td>\n",
       "      <td>0.460904</td>\n",
       "      <td>-0.877722</td>\n",
       "      <td>1.0</td>\n",
       "      <td>-0.487708</td>\n",
       "      <td>1.463557</td>\n",
       "      <td>1.388247</td>\n",
       "      <td>0.799949</td>\n",
       "      <td>five</td>\n",
       "    </tr>\n",
       "    <tr>\n",
       "      <th>15510</th>\n",
       "      <td>1.140389</td>\n",
       "      <td>1.710932</td>\n",
       "      <td>0.0</td>\n",
       "      <td>1.248098</td>\n",
       "      <td>0.791718</td>\n",
       "      <td>-1.363985</td>\n",
       "      <td>-0.11902</td>\n",
       "      <td>-0.193694</td>\n",
       "      <td>-0.398496</td>\n",
       "      <td>-0.284939</td>\n",
       "      <td>...</td>\n",
       "      <td>0.000000</td>\n",
       "      <td>0.115573</td>\n",
       "      <td>0.460904</td>\n",
       "      <td>1.192908</td>\n",
       "      <td>-1.0</td>\n",
       "      <td>-1.484494</td>\n",
       "      <td>1.463557</td>\n",
       "      <td>1.411476</td>\n",
       "      <td>0.799949</td>\n",
       "      <td>max</td>\n",
       "    </tr>\n",
       "    <tr>\n",
       "      <th>15511</th>\n",
       "      <td>1.140389</td>\n",
       "      <td>1.710932</td>\n",
       "      <td>1.0</td>\n",
       "      <td>-0.727214</td>\n",
       "      <td>-1.404860</td>\n",
       "      <td>1.601620</td>\n",
       "      <td>-0.11902</td>\n",
       "      <td>-0.193694</td>\n",
       "      <td>-0.398496</td>\n",
       "      <td>-0.284939</td>\n",
       "      <td>...</td>\n",
       "      <td>0.000000</td>\n",
       "      <td>0.115573</td>\n",
       "      <td>0.460904</td>\n",
       "      <td>1.192908</td>\n",
       "      <td>1.0</td>\n",
       "      <td>-1.191322</td>\n",
       "      <td>1.463557</td>\n",
       "      <td>-0.261029</td>\n",
       "      <td>0.799949</td>\n",
       "      <td>missing</td>\n",
       "    </tr>\n",
       "    <tr>\n",
       "      <th>15512</th>\n",
       "      <td>1.140389</td>\n",
       "      <td>1.710932</td>\n",
       "      <td>0.0</td>\n",
       "      <td>-0.727214</td>\n",
       "      <td>2.988297</td>\n",
       "      <td>0.542475</td>\n",
       "      <td>-0.11902</td>\n",
       "      <td>-0.193694</td>\n",
       "      <td>-0.398496</td>\n",
       "      <td>-0.284939</td>\n",
       "      <td>...</td>\n",
       "      <td>0.000000</td>\n",
       "      <td>0.115573</td>\n",
       "      <td>0.460904</td>\n",
       "      <td>-0.877722</td>\n",
       "      <td>-1.0</td>\n",
       "      <td>-1.484494</td>\n",
       "      <td>1.463557</td>\n",
       "      <td>1.411476</td>\n",
       "      <td>0.799949</td>\n",
       "      <td>max</td>\n",
       "    </tr>\n",
       "    <tr>\n",
       "      <th>15513</th>\n",
       "      <td>1.140389</td>\n",
       "      <td>1.710932</td>\n",
       "      <td>1.0</td>\n",
       "      <td>4.211067</td>\n",
       "      <td>0.242574</td>\n",
       "      <td>3.719909</td>\n",
       "      <td>-0.11902</td>\n",
       "      <td>-0.193694</td>\n",
       "      <td>-0.398496</td>\n",
       "      <td>-0.284939</td>\n",
       "      <td>...</td>\n",
       "      <td>0.000000</td>\n",
       "      <td>0.115573</td>\n",
       "      <td>0.460904</td>\n",
       "      <td>-0.877722</td>\n",
       "      <td>1.0</td>\n",
       "      <td>0.684981</td>\n",
       "      <td>1.463557</td>\n",
       "      <td>-0.261029</td>\n",
       "      <td>0.799949</td>\n",
       "      <td>missing</td>\n",
       "    </tr>\n",
       "  </tbody>\n",
       "</table>\n",
       "<p>15514 rows × 58 columns</p>\n",
       "</div>"
      ],
      "text/plain": [
       "          split   patchno  result         k         d         a  doubles  \\\n",
       "0     -0.259035 -1.035323     0.0  0.260442  0.242574 -0.093011 -0.11902   \n",
       "1     -0.259035 -1.035323     1.0  1.248098  0.791718  0.118818 -0.11902   \n",
       "2     -0.259035 -1.035323     0.0  0.260442  1.340863 -1.575814 -0.11902   \n",
       "3     -0.259035 -1.035323     1.0  1.248098 -0.855716  0.118818 -0.11902   \n",
       "4     -0.259035 -1.035323     1.0  1.248098 -0.855716  0.754304 -0.11902   \n",
       "5     -0.259035 -1.035323     0.0  0.260442  0.791718 -1.363985 -0.11902   \n",
       "6     -0.259035 -1.035323     1.0 -0.727214  0.242574  1.177962 -0.11902   \n",
       "7     -0.259035 -1.035323     0.0  1.248098  0.791718 -1.363985 -0.11902   \n",
       "8     -0.259035 -1.035323     0.0  1.248098 -0.855716 -1.363985 -0.11902   \n",
       "9     -0.259035 -1.035323     1.0  0.260442 -1.404860 -0.093011 -0.11902   \n",
       "10    -0.259035 -1.035323     1.0 -0.727214 -0.855716 -0.728498 -0.11902   \n",
       "11    -0.259035 -1.035323     0.0 -0.727214 -0.306571 -0.940327 -0.11902   \n",
       "12    -0.259035 -1.035323     1.0 -0.727214 -0.855716  1.177962 -0.11902   \n",
       "13    -0.259035 -1.035323     0.0  1.248098  0.242574 -0.728498 -0.11902   \n",
       "14    -0.259035 -1.035323     0.0 -0.727214  0.242574 -1.152156 -0.11902   \n",
       "15    -0.259035 -1.035323     1.0  1.248098 -1.404860  0.118818 -0.11902   \n",
       "16    -0.259035 -1.035323     1.0  2.235755 -1.404860  0.118818 -0.11902   \n",
       "17    -0.259035 -1.035323     0.0  0.260442  0.791718 -0.728498 -0.11902   \n",
       "18    -0.259035 -1.035323     0.0 -0.727214  1.340863 -0.940327 -0.11902   \n",
       "19    -0.259035 -1.035323     1.0  1.248098 -0.306571  1.601620 -0.11902   \n",
       "20    -0.259035 -1.035323     1.0  0.260442 -1.404860 -0.516669 -0.11902   \n",
       "21    -0.259035 -1.035323     0.0  0.260442 -0.306571 -1.575814 -0.11902   \n",
       "22    -0.259035 -1.035323     1.0  0.260442 -1.404860  0.118818 -0.11902   \n",
       "23    -0.259035 -1.035323     0.0 -0.727214 -0.306571 -1.152156 -0.11902   \n",
       "24    -0.259035 -1.035323     0.0  0.260442 -1.404860  0.118818 -0.11902   \n",
       "25    -0.259035 -1.035323     1.0 -0.727214  0.242574  0.330646 -0.11902   \n",
       "26    -0.259035 -1.035323     1.0 -0.727214 -1.404860  0.330646 -0.11902   \n",
       "27    -0.259035 -1.035323     0.0 -0.727214  0.791718 -1.363985 -0.11902   \n",
       "28    -0.259035 -1.035323     1.0  0.260442 -0.306571  0.330646 -0.11902   \n",
       "29    -0.259035 -1.035323     0.0 -0.727214  1.340863 -0.728498 -0.11902   \n",
       "...         ...       ...     ...       ...       ...       ...      ...   \n",
       "15484  1.140389  1.710932     1.0  2.235755  0.791718  1.389791 -0.11902   \n",
       "15485  1.140389  1.710932     0.0  1.248098  1.890008 -0.940327 -0.11902   \n",
       "15486  1.140389  1.710932     0.0 -0.727214  1.340863  1.177962 -0.11902   \n",
       "15487  1.140389  1.710932     1.0 -0.727214  1.340863  1.177962 -0.11902   \n",
       "15488  1.140389  1.710932     1.0 -0.727214  0.242574  0.542475 -0.11902   \n",
       "15489  1.140389  1.710932     0.0 -0.727214  0.791718 -0.093011 -0.11902   \n",
       "15490  1.140389  1.710932     1.0  0.260442 -0.306571 -0.093011 -0.11902   \n",
       "15491  1.140389  1.710932     0.0  1.248098  0.242574 -0.728498 -0.11902   \n",
       "15492  1.140389  1.710932     0.0  0.260442  2.439153 -0.093011 -0.11902   \n",
       "15493  1.140389  1.710932     1.0  0.260442  0.791718  2.025278 -0.11902   \n",
       "15494  1.140389  1.710932     0.0 -0.727214  2.439153  0.754304 -0.11902   \n",
       "15495  1.140389  1.710932     1.0  1.248098 -0.306571  4.779054 -0.11902   \n",
       "15496  1.140389  1.710932     0.0 -0.727214  0.791718 -1.152156 -0.11902   \n",
       "15497  1.140389  1.710932     1.0  0.260442 -1.404860  1.177962 -0.11902   \n",
       "15498  1.140389  1.710932     0.0  0.260442  0.791718 -0.728498 -0.11902   \n",
       "15499  1.140389  1.710932     1.0  0.260442 -1.404860  0.754304 -0.11902   \n",
       "15500  1.140389  1.710932     0.0 -0.727214  0.791718  0.330646 -0.11902   \n",
       "15501  1.140389  1.710932     1.0  0.260442  0.791718  1.177962 -0.11902   \n",
       "15502  1.140389  1.710932     1.0 -0.727214  0.791718  2.872593 -0.11902   \n",
       "15503  1.140389  1.710932     0.0 -0.727214  1.890008  0.330646 -0.11902   \n",
       "15504  1.140389  1.710932     1.0  5.198723  0.242574  0.330646 -0.11902   \n",
       "15505  1.140389  1.710932     0.0 -0.727214  1.890008 -0.304840 -0.11902   \n",
       "15506  1.140389  1.710932     0.0 -0.727214  0.242574 -1.363985 -0.11902   \n",
       "15507  1.140389  1.710932     1.0  0.260442 -1.404860  1.389791 -0.11902   \n",
       "15508  1.140389  1.710932     1.0  0.260442 -1.404860  0.754304 -0.11902   \n",
       "15509  1.140389  1.710932     0.0 -0.727214 -0.855716 -0.940327 -0.11902   \n",
       "15510  1.140389  1.710932     0.0  1.248098  0.791718 -1.363985 -0.11902   \n",
       "15511  1.140389  1.710932     1.0 -0.727214 -1.404860  1.601620 -0.11902   \n",
       "15512  1.140389  1.710932     0.0 -0.727214  2.988297  0.542475 -0.11902   \n",
       "15513  1.140389  1.710932     1.0  4.211067  0.242574  3.719909 -0.11902   \n",
       "\n",
       "             fb  fbassist  fbvictim  ...   csdat15  datediff  Encoded_league  \\\n",
       "0     -0.193694  2.509437 -0.284939  ...  2.077605  0.958407        1.229729   \n",
       "1     -0.193694 -0.398496  3.509521  ... -2.077605  0.958407        1.229729   \n",
       "2     -0.193694 -0.398496 -0.284939  ... -1.154225  0.958407        1.229729   \n",
       "3     -0.193694 -0.398496 -0.284939  ...  1.154225  0.958407        1.229729   \n",
       "4     -0.193694 -0.398496 -0.284939  ... -0.307793  0.958407        1.229729   \n",
       "5     -0.193694 -0.398496 -0.284939  ...  0.307793  0.958407        1.229729   \n",
       "6     -0.193694  2.509437 -0.284939  ... -0.923380  0.958407        1.229729   \n",
       "7     -0.193694 -0.398496 -0.284939  ...  0.923380  0.958407        1.229729   \n",
       "8     -0.193694 -0.398496 -0.284939  ... -1.077277  0.958407        1.229729   \n",
       "9     -0.193694 -0.398496 -0.284939  ...  1.077277  0.958407        1.229729   \n",
       "10    -0.193694 -0.398496 -0.284939  ...  0.307793  0.955488        1.229729   \n",
       "11    -0.193694 -0.398496 -0.284939  ... -0.307793  0.955488        1.229729   \n",
       "12    -0.193694 -0.398496 -0.284939  ... -1.000329  0.955488        1.229729   \n",
       "13    -0.193694 -0.398496 -0.284939  ...  1.000329  0.955488        1.229729   \n",
       "14    -0.193694 -0.398496 -0.284939  ...  0.538638  0.955488        1.229729   \n",
       "15    -0.193694 -0.398496 -0.284939  ... -0.538638  0.955488        1.229729   \n",
       "16    -0.193694 -0.398496 -0.284939  ...  0.615587  0.952567       -1.653366   \n",
       "17    -0.193694 -0.398496 -0.284939  ... -0.615587  0.952567       -1.653366   \n",
       "18    -0.193694 -0.398496 -0.284939  ...  0.230845  0.952567       -1.653366   \n",
       "19    -0.193694 -0.398496 -0.284939  ... -0.230845  0.952567       -1.653366   \n",
       "20    -0.193694  2.509437 -0.284939  ...  1.154225  0.952567        1.229729   \n",
       "21    -0.193694 -0.398496  3.509521  ... -1.154225  0.952567        1.229729   \n",
       "22    -0.193694 -0.398496 -0.284939  ...  0.230845  0.952567        1.229729   \n",
       "23    -0.193694 -0.398496 -0.284939  ... -0.230845  0.952567        1.229729   \n",
       "24    -0.193694 -0.398496 -0.284939  ...  0.923380  0.952567        1.229729   \n",
       "25    -0.193694 -0.398496 -0.284939  ... -0.923380  0.952567        1.229729   \n",
       "26    -0.193694 -0.398496 -0.284939  ...  0.153897  0.952567        1.229729   \n",
       "27    -0.193694 -0.398496 -0.284939  ... -0.153897  0.952567        1.229729   \n",
       "28    -0.193694 -0.398496 -0.284939  ...  0.230845  0.952567       -1.653366   \n",
       "29    -0.193694 -0.398496 -0.284939  ... -0.230845  0.952567       -1.653366   \n",
       "...         ...       ...       ...  ...       ...       ...             ...   \n",
       "15484 -0.193694 -0.398496 -0.284939  ...  0.000000  0.115573        0.460904   \n",
       "15485 -0.193694 -0.398496 -0.284939  ...  0.000000  0.115573        0.460904   \n",
       "15486 -0.193694 -0.398496 -0.284939  ...  0.000000  0.115573        0.460904   \n",
       "15487 -0.193694 -0.398496 -0.284939  ...  0.000000  0.115573        0.460904   \n",
       "15488 -0.193694 -0.398496 -0.284939  ...  0.000000  0.115573        0.460904   \n",
       "15489 -0.193694 -0.398496 -0.284939  ...  0.000000  0.115573        0.460904   \n",
       "15490 -0.193694 -0.398496 -0.284939  ...  0.000000  0.115573        0.460904   \n",
       "15491 -0.193694 -0.398496 -0.284939  ...  0.000000  0.115573        0.460904   \n",
       "15492 -0.193694 -0.398496 -0.284939  ...  0.000000  0.115573        0.460904   \n",
       "15493 -0.193694 -0.398496 -0.284939  ...  0.000000  0.115573        0.460904   \n",
       "15494 -0.193694 -0.398496 -0.284939  ...  0.000000  0.115573        0.460904   \n",
       "15495 -0.193694 -0.398496 -0.284939  ...  0.000000  0.115573        0.460904   \n",
       "15496 -0.193694 -0.398496 -0.284939  ...  0.000000  0.115573        0.460904   \n",
       "15497 -0.193694 -0.398496 -0.284939  ...  0.000000  0.115573        0.460904   \n",
       "15498 -0.193694 -0.398496 -0.284939  ...  0.000000  0.115573        0.460904   \n",
       "15499 -0.193694 -0.398496 -0.284939  ...  0.000000  0.115573        0.460904   \n",
       "15500 -0.193694 -0.398496 -0.284939  ...  0.000000  0.115573        0.460904   \n",
       "15501 -0.193694 -0.398496 -0.284939  ...  0.000000  0.115573        0.460904   \n",
       "15502 -0.193694 -0.398496 -0.284939  ...  0.000000  0.115573        0.460904   \n",
       "15503 -0.193694 -0.398496 -0.284939  ...  0.000000  0.115573        0.460904   \n",
       "15504 -0.193694 -0.398496 -0.284939  ...  0.000000  0.115573        0.460904   \n",
       "15505 -0.193694 -0.398496 -0.284939  ...  0.000000  0.115573        0.460904   \n",
       "15506 -0.193694 -0.398496 -0.284939  ...  0.000000  0.115573        0.460904   \n",
       "15507 -0.193694 -0.398496 -0.284939  ...  0.000000  0.115573        0.460904   \n",
       "15508 -0.193694 -0.398496 -0.284939  ...  0.000000  0.115573        0.460904   \n",
       "15509 -0.193694 -0.398496 -0.284939  ...  0.000000  0.115573        0.460904   \n",
       "15510 -0.193694 -0.398496 -0.284939  ...  0.000000  0.115573        0.460904   \n",
       "15511 -0.193694 -0.398496 -0.284939  ...  0.000000  0.115573        0.460904   \n",
       "15512 -0.193694 -0.398496 -0.284939  ...  0.000000  0.115573        0.460904   \n",
       "15513 -0.193694 -0.398496 -0.284939  ...  0.000000  0.115573        0.460904   \n",
       "\n",
       "       Encoded_game  Encoded_side  Encoded_champion  Encoded_Year  \\\n",
       "0          1.192908          -1.0          1.564497     -1.072695   \n",
       "1          1.192908           1.0         -1.601763     -1.072695   \n",
       "2         -0.877722          -1.0         -1.601763     -1.072695   \n",
       "3         -0.877722           1.0          0.978153     -1.072695   \n",
       "4         -0.748308          -1.0         -0.898149     -1.072695   \n",
       "5         -0.748308           1.0          1.036787     -1.072695   \n",
       "6          1.192908          -1.0         -1.601763     -1.072695   \n",
       "7          1.192908           1.0         -1.132687     -1.072695   \n",
       "8         -0.877722          -1.0          1.036787     -1.072695   \n",
       "9         -0.877722           1.0          1.564497     -1.072695   \n",
       "10         1.192908          -1.0         -0.194536     -1.072695   \n",
       "11         1.192908           1.0          1.564497     -1.072695   \n",
       "12        -0.877722          -1.0         -1.074053     -1.072695   \n",
       "13        -0.877722           1.0          1.564497     -1.072695   \n",
       "14        -0.877722          -1.0         -1.074053     -1.072695   \n",
       "15        -0.877722           1.0         -1.601763     -1.072695   \n",
       "16         1.192908          -1.0          1.564497     -1.072695   \n",
       "17         1.192908           1.0          1.036787     -1.072695   \n",
       "18        -0.877722          -1.0         -1.191322     -1.072695   \n",
       "19        -0.877722           1.0          1.564497     -1.072695   \n",
       "20        -0.877722          -1.0          1.564497     -1.072695   \n",
       "21        -0.877722           1.0         -1.601763     -1.072695   \n",
       "22        -0.748308          -1.0          1.564497     -1.072695   \n",
       "23        -0.748308           1.0         -0.194536     -1.072695   \n",
       "24         1.192908          -1.0          1.564497     -1.072695   \n",
       "25         1.192908           1.0         -1.191322     -1.072695   \n",
       "26        -0.877722          -1.0          1.095422     -1.072695   \n",
       "27        -0.877722           1.0         -0.253170     -1.072695   \n",
       "28         1.192908          -1.0          1.564497     -1.072695   \n",
       "29         1.192908           1.0         -1.191322     -1.072695   \n",
       "...             ...           ...               ...           ...   \n",
       "15484      1.192908          -1.0          0.333174      1.463557   \n",
       "15485      1.192908           1.0          0.098636      1.463557   \n",
       "15486     -0.877722          -1.0          1.095422      1.463557   \n",
       "15487     -0.877722           1.0          0.684981      1.463557   \n",
       "15488      1.192908          -1.0         -1.484494      1.463557   \n",
       "15489      1.192908           1.0          0.333174      1.463557   \n",
       "15490     -0.877722          -1.0          0.684981      1.463557   \n",
       "15491     -0.877722           1.0         -1.484494      1.463557   \n",
       "15492      1.192908          -1.0         -1.191322      1.463557   \n",
       "15493      1.192908           1.0         -1.484494      1.463557   \n",
       "15494     -0.877722          -1.0         -1.484494      1.463557   \n",
       "15495     -0.877722           1.0          0.684981      1.463557   \n",
       "15496      1.192908          -1.0         -0.194536      1.463557   \n",
       "15497      1.192908           1.0         -1.191322      1.463557   \n",
       "15498     -0.877722          -1.0         -0.194536      1.463557   \n",
       "15499     -0.877722           1.0         -1.191322      1.463557   \n",
       "15500     -0.748308          -1.0          1.095422      1.463557   \n",
       "15501     -0.748308           1.0         -1.191322      1.463557   \n",
       "15502      1.192908          -1.0          1.212691      1.463557   \n",
       "15503      1.192908           1.0          0.391808      1.463557   \n",
       "15504     -0.877722          -1.0         -0.487708      1.463557   \n",
       "15505     -0.877722           1.0         -0.194536      1.463557   \n",
       "15506      1.192908          -1.0         -1.191322      1.463557   \n",
       "15507      1.192908           1.0          1.095422      1.463557   \n",
       "15508     -0.877722          -1.0         -0.194536      1.463557   \n",
       "15509     -0.877722           1.0         -0.487708      1.463557   \n",
       "15510      1.192908          -1.0         -1.484494      1.463557   \n",
       "15511      1.192908           1.0         -1.191322      1.463557   \n",
       "15512     -0.877722          -1.0         -1.484494      1.463557   \n",
       "15513     -0.877722           1.0          0.684981      1.463557   \n",
       "\n",
       "       Encoded_team  Encoded_culture      player  \n",
       "0         -0.353946        -0.740824         max  \n",
       "1          0.714599        -0.740824  snowflower  \n",
       "2          0.714599        -0.740824  snowflower  \n",
       "3         -0.353946        -0.740824         max  \n",
       "4         -0.353946        -0.740824         max  \n",
       "5          0.714599        -0.740824  snowflower  \n",
       "6          1.550852        -0.740824     gorilla  \n",
       "7         -0.470092        -0.740824        mata  \n",
       "8         -0.470092        -0.740824        mata  \n",
       "9          1.550852        -0.740824     gorilla  \n",
       "10         0.644911        -0.740824        ella  \n",
       "11        -0.864989        -0.740824       tusin  \n",
       "12        -0.864989        -0.740824       tusin  \n",
       "13         0.644911        -0.740824        ella  \n",
       "14         1.225642        -0.740824        wolf  \n",
       "15         0.830745        -0.740824      corejj  \n",
       "16         0.853975        -0.227233        chei  \n",
       "17        -0.098424        -0.227233       mikyx  \n",
       "18        -0.098424        -0.227233       mikyx  \n",
       "19         0.853975        -0.227233        chei  \n",
       "20         0.040951        -0.740824      totoro  \n",
       "21         1.550852        -0.740824     gorilla  \n",
       "22         1.550852        -0.740824     gorilla  \n",
       "23         0.040951        -0.740824      totoro  \n",
       "24        -1.445720        -0.740824         key  \n",
       "25         0.714599        -0.740824  snowflower  \n",
       "26         0.714599        -0.740824  snowflower  \n",
       "27        -1.445720        -0.740824         key  \n",
       "28        -0.144883        -0.227233       jesiz  \n",
       "29        -1.050823        -0.227233       ignar  \n",
       "...             ...              ...         ...  \n",
       "15484     -0.423633         0.799949        duan  \n",
       "15485     -0.888218         0.799949    swordart  \n",
       "15486     -0.888218         0.799949    swordart  \n",
       "15487     -0.423633         0.799949        duan  \n",
       "15488      0.528765         0.799949       xinmo  \n",
       "15489      0.807516         0.799949        ming  \n",
       "15490      0.528765         0.799949       xinmo  \n",
       "15491      0.807516         0.799949        ming  \n",
       "15492     -0.284258         0.799949    huanggai  \n",
       "15493     -1.097281         0.799949      baolan  \n",
       "15494     -0.284258         0.799949    huanggai  \n",
       "15495     -1.097281         0.799949      baolan  \n",
       "15496     -0.284258         0.799949    huanggai  \n",
       "15497     -0.539779         0.799949   southwind  \n",
       "15498     -0.539779         0.799949   southwind  \n",
       "15499     -0.284258         0.799949    huanggai  \n",
       "15500     -0.539779         0.799949   southwind  \n",
       "15501     -0.284258         0.799949    huanggai  \n",
       "15502     -1.376032         0.799949       crisp  \n",
       "15503     -1.213427         0.799949         ben  \n",
       "15504     -1.376032         0.799949       crisp  \n",
       "15505     -1.213427         0.799949         ben  \n",
       "15506      1.388247         0.799949        five  \n",
       "15507     -1.213427         0.799949         ben  \n",
       "15508     -1.213427         0.799949         ben  \n",
       "15509      1.388247         0.799949        five  \n",
       "15510      1.411476         0.799949         max  \n",
       "15511     -0.261029         0.799949     missing  \n",
       "15512      1.411476         0.799949         max  \n",
       "15513     -0.261029         0.799949     missing  \n",
       "\n",
       "[15514 rows x 58 columns]"
      ]
     },
     "execution_count": 13,
     "metadata": {},
     "output_type": "execute_result"
    }
   ],
   "source": [
    "# Visualize data\n",
    "data_raw"
   ]
  },
  {
   "cell_type": "code",
   "execution_count": 14,
   "metadata": {
    "ExecuteTime": {
     "end_time": "2019-08-24T17:04:54.807154Z",
     "start_time": "2019-08-24T17:04:54.753606Z"
    }
   },
   "outputs": [
    {
     "name": "stdout",
     "output_type": "stream",
     "text": [
      "Set of the different column types captured by the data:  {dtype('O'), dtype('float64')}\n",
      "The number of missing values in the data:  0\n"
     ]
    }
   ],
   "source": [
    "# Check all values are numeric\n",
    "print(\"Set of the different column types captured by the data: \", set(data_raw.dtypes))\n",
    "# Check no missing data\n",
    "print(\"The number of missing values in the data: \", sum(data_raw.isnull().any()))"
   ]
  },
  {
   "cell_type": "markdown",
   "metadata": {},
   "source": [
    "## 2. Split data in test and train data"
   ]
  },
  {
   "cell_type": "code",
   "execution_count": 15,
   "metadata": {
    "ExecuteTime": {
     "end_time": "2019-08-24T17:04:54.888215Z",
     "start_time": "2019-08-24T17:04:54.810375Z"
    },
    "scrolled": true
   },
   "outputs": [],
   "source": [
    "# Create copy of data for model building (removing team feature)\n",
    "data = data_raw.copy()\n",
    "data = data.drop(labels = ['player', 'split', 'patchno', 'Encoded_league', 'Encoded_game', 'Encoded_Year', 'Encoded_culture'], axis=1)"
   ]
  },
  {
   "cell_type": "code",
   "execution_count": 16,
   "metadata": {
    "ExecuteTime": {
     "end_time": "2019-08-24T17:04:54.929996Z",
     "start_time": "2019-08-24T17:04:54.890057Z"
    }
   },
   "outputs": [],
   "source": [
    "# Split the data\n",
    "x_train, x_test, y_train, y_test = data_splitter(data, 'result')"
   ]
  },
  {
   "cell_type": "code",
   "execution_count": 17,
   "metadata": {
    "ExecuteTime": {
     "end_time": "2019-08-24T17:04:54.959393Z",
     "start_time": "2019-08-24T17:04:54.932131Z"
    }
   },
   "outputs": [
    {
     "name": "stdout",
     "output_type": "stream",
     "text": [
      "The data is centered:  True \n",
      "The data is standardized:  False\n"
     ]
    }
   ],
   "source": [
    "# Check data is standardized and centered\n",
    "print(\"The data is centered: \", \n",
    "      all([int(x) for x in round(x_train.mean(axis = 0), 4)]) == 0,\n",
    "     \"\\nThe data is standardized: \",\n",
    "      all([int(x) for x in round(x_train.var(axis = 0), 4)]) == 1)"
   ]
  },
  {
   "cell_type": "markdown",
   "metadata": {},
   "source": [
    "## 3. Model creation"
   ]
  },
  {
   "cell_type": "code",
   "execution_count": 18,
   "metadata": {
    "ExecuteTime": {
     "end_time": "2019-08-24T17:04:54.982853Z",
     "start_time": "2019-08-24T17:04:54.961275Z"
    }
   },
   "outputs": [],
   "source": [
    "# Create dictionary to capture model summary\n",
    "logistic_L1penalty_model_dict, ridge_model_dict, elasticnet_model_dict, rf_model_dict, model_summary_dict = dict(), dict(), dict(), dict(), dict()"
   ]
  },
  {
   "cell_type": "markdown",
   "metadata": {},
   "source": [
    "### 3.1 Logistic regression with L1 penalty (Lasso classification model)\n",
    "Here, the recursive feature elimination techinique is used to initialize L1 penalization in our logistic regression model and hence allows implementation of lasso regularization."
   ]
  },
  {
   "cell_type": "markdown",
   "metadata": {},
   "source": [
    "##### Recursive feature elimination\n",
    "Given an external estimator that assigns weights to features (~coefficients), the goal of recursive feature elimination is to select features by recursively considering smaller and smaller sets of features. The estimator is trained on the initial set of features and the importance of each feature is obtained. Based on this information the least important features are pruned from the current set of features. This procedure is recursively repeated on the pruned set until the desired number of features to select is reached. To get the optimal number of features CV is used."
   ]
  },
  {
   "cell_type": "code",
   "execution_count": 19,
   "metadata": {
    "ExecuteTime": {
     "end_time": "2019-08-24T17:06:36.315149Z",
     "start_time": "2019-08-24T17:04:54.984484Z"
    },
    "scrolled": true
   },
   "outputs": [],
   "source": [
    "# By using the liblinear solver the L1 penalty is implemented\n",
    "logreg = LogisticRegression(solver='liblinear')\n",
    "rfe = RFECV(logreg, cv = 5)\n",
    "rfe = rfe.fit(x_train, y_train)"
   ]
  },
  {
   "cell_type": "code",
   "execution_count": 20,
   "metadata": {
    "ExecuteTime": {
     "end_time": "2019-08-24T17:06:36.338406Z",
     "start_time": "2019-08-24T17:06:36.329896Z"
    }
   },
   "outputs": [
    {
     "name": "stdout",
     "output_type": "stream",
     "text": [
      "Based on the recursive elimination method the following 14 features are selected:  ['k', 'd', 'a', 'kpm', 'dmgtochamps', 'dmgtochampsperminute', 'earnedgoldshare', 'wards', 'wpm', 'totalgold', 'earnedgpm', 'goldspent', 'gspd', 'goldat15']\n"
     ]
    }
   ],
   "source": [
    "# Intermediate summary\n",
    "selected_features_rfe = [col for col, bool_importance in zip(x_train.columns.values, rfe.support_) if bool_importance]\n",
    "print(\"Based on the recursive elimination method the following\", len(selected_features_rfe),\n",
    "      \"features are selected: \", selected_features_rfe)"
   ]
  },
  {
   "cell_type": "markdown",
   "metadata": {},
   "source": [
    "Remark: The solver used by the logistic regression model is 'liblinear' which applies automatic parameter selection (L1 regularization) and is recommended when using a high dimensional dataset."
   ]
  },
  {
   "cell_type": "markdown",
   "metadata": {},
   "source": [
    "##### Model fit"
   ]
  },
  {
   "cell_type": "code",
   "execution_count": 21,
   "metadata": {
    "ExecuteTime": {
     "end_time": "2019-08-24T17:06:36.492150Z",
     "start_time": "2019-08-24T17:06:36.340037Z"
    }
   },
   "outputs": [],
   "source": [
    "# Fit the logistic regression model\n",
    "logistic_L1penalty_model = LogisticRegression(solver='liblinear')\n",
    "fitted_logistic_L1penalty_model = logistic_L1penalty_model.fit(x_train[selected_features_rfe], y_train)\n",
    "\n",
    "# Save best approximation alpha after CV\n",
    "logistic_L1penalty_model_dict['regularisation_param'] = np.nan"
   ]
  },
  {
   "cell_type": "markdown",
   "metadata": {
    "ExecuteTime": {
     "end_time": "2019-03-19T10:26:19.552084Z",
     "start_time": "2019-03-19T10:26:19.547199Z"
    }
   },
   "source": [
    "##### Model accuracy evaluation"
   ]
  },
  {
   "cell_type": "code",
   "execution_count": 22,
   "metadata": {
    "ExecuteTime": {
     "end_time": "2019-08-24T17:06:37.849439Z",
     "start_time": "2019-08-24T17:06:36.493934Z"
    }
   },
   "outputs": [
    {
     "name": "stdout",
     "output_type": "stream",
     "text": [
      "Based on a threshold of 0.5 the following summary statistics can be obtained:\n",
      " ----------------------------------------------------------------------------------------------------\n",
      "1110 true positives over all positives (the wins that were correctly classified).\n",
      "76 false positives (the wins that were wrongly classified).\n",
      "1068 true negatives (the losses that were correctly classified).\n",
      "74 false negatives (the losses that were wrongly classified).\n",
      "\n",
      "The sensitivity is:  0.9375\n",
      "The specificity is:  0.9335664335664335\n",
      "\n",
      "\n",
      "Accuracy: 0.9355670103092784 \n",
      " ----------------------------------------------------------------------------------------------------\n"
     ]
    },
    {
     "data": {
      "image/png": "[encoded data removed]",
      "text/plain": [
       "<Figure size 432x288 with 1 Axes>"
      ]
     },
     "metadata": {
      "needs_background": "light"
     },
     "output_type": "display_data"
    },
    {
     "name": "stdout",
     "output_type": "stream",
     "text": [
      "Confusion matrix :\n",
      " ----------------------------------------------------------------------------------------------------\n"
     ]
    },
    {
     "data": {
      "image/png": "[encoded data removed]",
      "text/plain": [
       "<Figure size 432x288 with 2 Axes>"
      ]
     },
     "metadata": {
      "needs_background": "light"
     },
     "output_type": "display_data"
    },
    {
     "name": "stdout",
     "output_type": "stream",
     "text": [
      "Normalized confusion matrix :\n",
      " ----------------------------------------------------------------------------------------------------\n"
     ]
    },
    {
     "data": {
      "image/png": "[encoded data removed]",
      "text/plain": [
       "<Figure size 432x288 with 2 Axes>"
      ]
     },
     "metadata": {
      "needs_background": "light"
     },
     "output_type": "display_data"
    }
   ],
   "source": [
    "# Model accuracy evaluation metrics\n",
    "logistic_L1penalty_model_dict['sensitivity'], logistic_L1penalty_model_dict['specificity'], logistic_L1penalty_model_dict['auc'], logistic_L1penalty_model_dict['accuracy'] = binary_class_evaluator(fitted_logistic_L1penalty_model, x_test[selected_features_rfe], y_test)\n",
    "\n",
    "# Plot non-normalized and normalized confusion matrix\n",
    "plot_confusion_matrix(fitted_logistic_L1penalty_model, x_test[selected_features_rfe], y_test, classes=['Loss', 'Win'])\n",
    "plot_confusion_matrix(fitted_logistic_L1penalty_model, x_test[selected_features_rfe], y_test, classes=['Loss', 'Win'], normalize=True)"
   ]
  },
  {
   "cell_type": "markdown",
   "metadata": {},
   "source": [
    "##### Feature importance evaluator"
   ]
  },
  {
   "cell_type": "code",
   "execution_count": 23,
   "metadata": {
    "ExecuteTime": {
     "end_time": "2019-08-24T17:06:37.864913Z",
     "start_time": "2019-08-24T17:06:37.851963Z"
    }
   },
   "outputs": [
    {
     "name": "stdout",
     "output_type": "stream",
     "text": [
      "Summary of the important features and their corresponding coefficients:\n",
      " ----------------------------------------------------------------------------------------------------\n",
      "earnedgpm : 6.482245371410373\n",
      "earnedgoldshare : -5.15391904035826\n",
      "totalgold : 5.128976527784692\n",
      "goldspent : -4.198425198862613\n",
      "a : 1.521276579345081\n",
      "d : -1.1771381813185504\n",
      "wards : -1.037827077851503\n",
      "gspd : 0.828496709050213\n",
      "wpm : 0.6638085641020182\n",
      "dmgtochamps : -0.6443057694015507\n"
     ]
    }
   ],
   "source": [
    "# Show the sorted features indicating the highest importance in predicting the target\n",
    "logistic_L1penalty_model_dict['feature_importance'] = important_features_extractor(fitted_logistic_L1penalty_model, selected_features_rfe)"
   ]
  },
  {
   "cell_type": "code",
   "execution_count": 24,
   "metadata": {
    "ExecuteTime": {
     "end_time": "2019-08-24T18:19:33.310914Z",
     "start_time": "2019-08-24T17:06:37.875984Z"
    },
    "scrolled": true
   },
   "outputs": [
    {
     "data": {
      "image/png": "[encoded data removed]",
      "text/plain": [
       "<Figure size 432x288 with 1 Axes>"
      ]
     },
     "metadata": {
      "needs_background": "light"
     },
     "output_type": "display_data"
    }
   ],
   "source": [
    "# Visualize the use of different regularization parameters on coefficient estimates for Lasso regression\n",
    "n_alphas, coefs = 200, []\n",
    "alphas = np.logspace(-10, -2, n_alphas)\n",
    "for a in alphas:\n",
    "    lasso = Lasso(alpha = a, fit_intercept = False)\n",
    "    lasso.fit(x_train, y_train)\n",
    "    coefs.append(lasso.coef_)\n",
    "\n",
    "# Visualize the regularization curve\n",
    "ax = plt.gca()\n",
    "ax.plot(alphas, coefs)\n",
    "ax.set_xscale('log')\n",
    "ax.set_xlim(ax.get_xlim()[::-1])  # reverse axis\n",
    "plt.xlabel('alpha')\n",
    "plt.ylabel('weights')\n",
    "plt.title('Lasso coefficients as a function of the regularization')\n",
    "plt.axis('tight')\n",
    "plt.show()"
   ]
  },
  {
   "cell_type": "markdown",
   "metadata": {},
   "source": [
    "### 3.2 Ridge classification model\n",
    "Ridge regression covers a machine learning technique that solves a regression model where the loss function is the linear least squares function and regularization is given by the l2-norm.\n",
    "\n",
    "To fit the ridge classification model the ridge classifier with build in cross-validation estimator is used from the sklearn package. The CV classifier allows us to evaluate different regularization parameters. Here, the array of alpha values that is explored ranges from 0.1 to 1. in steps of 0.025.\n",
    "\n",
    "If the alpha value is 0, a OLS model seems to best fit the data. So, the smaller the value of alpha, the higher the magnitude of the coefficients. No intercept is calculated for the model, because the data is centered."
   ]
  },
  {
   "cell_type": "markdown",
   "metadata": {},
   "source": [
    "##### Model fit"
   ]
  },
  {
   "cell_type": "code",
   "execution_count": 25,
   "metadata": {
    "ExecuteTime": {
     "end_time": "2019-08-24T18:19:37.875505Z",
     "start_time": "2019-08-24T18:19:33.314757Z"
    }
   },
   "outputs": [],
   "source": [
    "# Fit the regression model for the optimal alpha \n",
    "alphas = np.arange(0.0, 1.0, 0.025)\n",
    "ridge_model = RidgeClassifierCV(alphas, fit_intercept= False, cv= 5)\n",
    "fitted_ridge_model = ridge_model.fit(x_train, y_train)\n",
    "\n",
    "# Save best approximation alpha after CV\n",
    "ridge_model_dict['regularisation_param'] = fitted_ridge_model.alpha_"
   ]
  },
  {
   "cell_type": "markdown",
   "metadata": {},
   "source": [
    "##### Model accuracy evaluation"
   ]
  },
  {
   "cell_type": "code",
   "execution_count": 26,
   "metadata": {
    "ExecuteTime": {
     "end_time": "2019-08-24T18:19:39.339861Z",
     "start_time": "2019-08-24T18:19:37.877236Z"
    }
   },
   "outputs": [
    {
     "name": "stdout",
     "output_type": "stream",
     "text": [
      "Based on a threshold of 0.5 the following summary statistics can be obtained:\n",
      " ----------------------------------------------------------------------------------------------------\n",
      "1106 true positives over all positives (the wins that were correctly classified).\n",
      "79 false positives (the wins that were wrongly classified).\n",
      "1065 true negatives (the losses that were correctly classified).\n",
      "78 false negatives (the losses that were wrongly classified).\n",
      "\n",
      "The sensitivity is:  0.9341216216216216\n",
      "The specificity is:  0.9309440559440559\n",
      "\n",
      "\n",
      "Accuracy: 0.9325601374570447 \n",
      " ----------------------------------------------------------------------------------------------------\n"
     ]
    },
    {
     "data": {
      "image/png": "[encoded data removed]",
      "text/plain": [
       "<Figure size 432x288 with 1 Axes>"
      ]
     },
     "metadata": {
      "needs_background": "light"
     },
     "output_type": "display_data"
    },
    {
     "name": "stdout",
     "output_type": "stream",
     "text": [
      "Confusion matrix :\n",
      " ----------------------------------------------------------------------------------------------------\n"
     ]
    },
    {
     "data": {
      "image/png": "[encoded data removed]",
      "text/plain": [
       "<Figure size 432x288 with 2 Axes>"
      ]
     },
     "metadata": {
      "needs_background": "light"
     },
     "output_type": "display_data"
    },
    {
     "name": "stdout",
     "output_type": "stream",
     "text": [
      "Normalized confusion matrix :\n",
      " ----------------------------------------------------------------------------------------------------\n"
     ]
    },
    {
     "data": {
      "image/png": "[encoded data removed]",
      "text/plain": [
       "<Figure size 432x288 with 2 Axes>"
      ]
     },
     "metadata": {
      "needs_background": "light"
     },
     "output_type": "display_data"
    }
   ],
   "source": [
    "# Model accuracy evaluation metrics\n",
    "ridge_model_dict['sensitivity'], ridge_model_dict['specificity'], ridge_model_dict['auc'], ridge_model_dict['accuracy'] = binary_class_evaluator(fitted_ridge_model, x_test, y_test)\n",
    "\n",
    "# Plot non-normalized and normalized confusion matrix\n",
    "plot_confusion_matrix(fitted_ridge_model, x_test,y_test, classes=['Loss', 'Win'])\n",
    "plot_confusion_matrix(fitted_ridge_model, x_test,y_test, classes=['Loss', 'Win'], normalize=True)"
   ]
  },
  {
   "cell_type": "markdown",
   "metadata": {
    "ExecuteTime": {
     "end_time": "2019-03-19T09:17:32.286353Z",
     "start_time": "2019-03-19T09:17:31.991148Z"
    }
   },
   "source": [
    "##### Feature importance evaluator"
   ]
  },
  {
   "cell_type": "code",
   "execution_count": 27,
   "metadata": {
    "ExecuteTime": {
     "end_time": "2019-08-24T18:19:39.359945Z",
     "start_time": "2019-08-24T18:19:39.344455Z"
    },
    "scrolled": true
   },
   "outputs": [
    {
     "name": "stdout",
     "output_type": "stream",
     "text": [
      "Summary of the important features and their corresponding coefficients:\n",
      " ----------------------------------------------------------------------------------------------------\n",
      "totalgold : 1.1517304102345747\n",
      "wards : -0.5992431064094648\n",
      "earnedgoldshare : -0.504113616055019\n",
      "goldspent : -0.5038679247371731\n",
      "dmgtochamps : -0.4667067828828352\n",
      "dmgtochampsperminute : 0.33715758732090534\n",
      "wpm : 0.3443269564147539\n",
      "a : 0.3312838836663886\n",
      "earnedgpm : 0.317362157799884\n",
      "d : -0.22912702093853696\n"
     ]
    }
   ],
   "source": [
    "# Show the sorted features indicating the highest importance in predicting the target\n",
    "ridge_model_dict['feature_importance'] = important_features_extractor(fitted_ridge_model, x_train.columns.values)"
   ]
  },
  {
   "cell_type": "code",
   "execution_count": 28,
   "metadata": {
    "ExecuteTime": {
     "end_time": "2019-08-24T18:19:43.931141Z",
     "start_time": "2019-08-24T18:19:39.364492Z"
    }
   },
   "outputs": [
    {
     "data": {
      "image/png": "[encoded data removed]",
      "text/plain": [
       "<Figure size 432x288 with 1 Axes>"
      ]
     },
     "metadata": {
      "needs_background": "light"
     },
     "output_type": "display_data"
    }
   ],
   "source": [
    "# Visualize the use of different regularization parameters on coefficient estimates for Ridge regression\n",
    "n_alphas, coefs = 200, []\n",
    "alphas = np.logspace(-10, -2, n_alphas)\n",
    "for a in alphas:\n",
    "    ridge = Ridge(alpha = a, fit_intercept = False)\n",
    "    ridge.fit(x_train, y_train)\n",
    "    coefs.append(ridge.coef_)\n",
    "\n",
    "# Visualize the regularization curve\n",
    "ax = plt.gca()\n",
    "ax.plot(alphas, coefs)\n",
    "ax.set_xscale('log')\n",
    "ax.set_xlim(ax.get_xlim()[::-1])  # reverse axis\n",
    "plt.xlabel('alpha')\n",
    "plt.ylabel('weights')\n",
    "plt.title('Ridge coefficients as a function of the regularization')\n",
    "plt.axis('tight')\n",
    "plt.show()"
   ]
  },
  {
   "cell_type": "markdown",
   "metadata": {},
   "source": [
    "### 3.3 Elastic net classification model\n",
    "The elastic net classification model will combine the L1 and L2 priors illustrated above in the same logistic regression model as regularizers. The ElasticNetCV function from sklearn allows us to play around with these regularization parameters by defining a range for the l1_ratio = a/ (a + b), where  a * L1 + b * L2 composes the penalization term. If the optimal l1_ratio parameter is closer to 1, a sparser selection is managed, while l1_ratio parameters close to 0 result in more shrinkage of the coefficients."
   ]
  },
  {
   "cell_type": "markdown",
   "metadata": {},
   "source": [
    "##### Model fit"
   ]
  },
  {
   "cell_type": "code",
   "execution_count": 29,
   "metadata": {
    "ExecuteTime": {
     "end_time": "2019-08-24T18:21:39.668693Z",
     "start_time": "2019-08-24T18:19:43.933063Z"
    }
   },
   "outputs": [],
   "source": [
    "# Fit the elasticnet classification model\n",
    "l1_ratios = alphas[1:]\n",
    "elasticnet_model = ElasticNetCV(l1_ratio = l1_ratios, fit_intercept= False, cv= 5, random_state=0)\n",
    "fitted_elasticnet_model = elasticnet_model.fit(x_train, y_train)\n",
    "\n",
    "# Save best approximation alpha after CV\n",
    "elasticnet_model_dict['regularisation_param'] = {'l1_ratio': fitted_elasticnet_model.l1_ratio_,\n",
    "                                                 'alpha': fitted_elasticnet_model.alpha_}"
   ]
  },
  {
   "cell_type": "markdown",
   "metadata": {},
   "source": [
    "##### Model accuracy evaluation"
   ]
  },
  {
   "cell_type": "code",
   "execution_count": 30,
   "metadata": {
    "ExecuteTime": {
     "end_time": "2019-08-24T18:21:41.360716Z",
     "start_time": "2019-08-24T18:21:39.674401Z"
    }
   },
   "outputs": [
    {
     "name": "stdout",
     "output_type": "stream",
     "text": [
      "Based on a threshold of 0.5 the following summary statistics can be obtained:\n",
      " ----------------------------------------------------------------------------------------------------\n",
      "1101 true positives over all positives (the wins that were correctly classified).\n",
      "78 false positives (the wins that were wrongly classified).\n",
      "1066 true negatives (the losses that were correctly classified).\n",
      "83 false negatives (the losses that were wrongly classified).\n",
      "\n",
      "The sensitivity is:  0.9298986486486487\n",
      "The specificity is:  0.9318181818181818\n",
      "\n",
      "\n",
      "Accuracy: 0.9308419243986255 \n",
      " ----------------------------------------------------------------------------------------------------\n"
     ]
    },
    {
     "data": {
      "image/png": "[encoded data removed]",
      "text/plain": [
       "<Figure size 432x288 with 1 Axes>"
      ]
     },
     "metadata": {
      "needs_background": "light"
     },
     "output_type": "display_data"
    },
    {
     "name": "stdout",
     "output_type": "stream",
     "text": [
      "Confusion matrix :\n",
      " ----------------------------------------------------------------------------------------------------\n"
     ]
    },
    {
     "data": {
      "image/png": "[encoded data removed]",
      "text/plain": [
       "<Figure size 432x288 with 2 Axes>"
      ]
     },
     "metadata": {
      "needs_background": "light"
     },
     "output_type": "display_data"
    },
    {
     "name": "stdout",
     "output_type": "stream",
     "text": [
      "Normalized confusion matrix :\n",
      " ----------------------------------------------------------------------------------------------------\n"
     ]
    },
    {
     "data": {
      "image/png": "[encoded data removed]",
      "text/plain": [
       "<Figure size 432x288 with 2 Axes>"
      ]
     },
     "metadata": {
      "needs_background": "light"
     },
     "output_type": "display_data"
    }
   ],
   "source": [
    "# Model accuracy evaluation metrics\n",
    "elasticnet_model_dict['sensitivity'], elasticnet_model_dict['specificity'], elasticnet_model_dict['auc'], elasticnet_model_dict['accuracy'] = binary_class_evaluator(fitted_elasticnet_model, x_test, y_test, elasticnet = True)\n",
    "\n",
    "# Plot non-normalized and normalized confusion matrix\n",
    "plot_confusion_matrix(fitted_elasticnet_model, x_test, y_test, classes=['Loss', 'Win'], elasticnet = True)\n",
    "plot_confusion_matrix(fitted_elasticnet_model, x_test, y_test, classes=['Loss', 'Win'], normalize=True, elasticnet = True)"
   ]
  },
  {
   "cell_type": "markdown",
   "metadata": {
    "ExecuteTime": {
     "end_time": "2019-03-19T10:34:24.897544Z",
     "start_time": "2019-03-19T10:34:24.872205Z"
    }
   },
   "source": [
    "##### Feature importance evaluator"
   ]
  },
  {
   "cell_type": "code",
   "execution_count": 31,
   "metadata": {
    "ExecuteTime": {
     "end_time": "2019-08-24T18:21:41.379452Z",
     "start_time": "2019-08-24T18:21:41.363971Z"
    },
    "scrolled": true
   },
   "outputs": [
    {
     "name": "stdout",
     "output_type": "stream",
     "text": [
      "Summary of the important features and their corresponding coefficients:\n",
      " ----------------------------------------------------------------------------------------------------\n",
      "earnedgpm : 0.2829697353654706\n",
      "earnedgoldshare : -0.18520979083416286\n",
      "a : 0.17139181250921628\n",
      "goldspent : -0.14704648651855284\n",
      "totalgold : 0.14088664659862501\n",
      "d : -0.12535781394154485\n",
      "gspd : 0.05942982549417151\n",
      "goldat15 : -0.027645450738659552\n",
      "fbvictim : 0.016360720967053325\n",
      "gdat15 : -0.017024993541241124\n"
     ]
    }
   ],
   "source": [
    "# Show the sorted features indicating the highest importance in predicting the target\n",
    "elasticnet_model_dict['feature_importance'] = important_features_extractor(fitted_elasticnet_model, \n",
    "                                                                           x_train.columns.values, \n",
    "                                                                           elasticnet = True)"
   ]
  },
  {
   "cell_type": "code",
   "execution_count": 32,
   "metadata": {
    "ExecuteTime": {
     "end_time": "2019-08-24T18:24:04.632098Z",
     "start_time": "2019-08-24T18:21:41.382293Z"
    }
   },
   "outputs": [
    {
     "data": {
      "image/png": "[encoded data removed]",
      "text/plain": [
       "<Figure size 432x288 with 1 Axes>"
      ]
     },
     "metadata": {
      "needs_background": "light"
     },
     "output_type": "display_data"
    }
   ],
   "source": [
    "# Visualize the use of different regularization parameters on coefficient estimates for Ridge regression\n",
    "n_ratios, coefs = 200, []\n",
    "l1_ratios = np.logspace(-10, -2, n_ratios)\n",
    "for r in l1_ratios:\n",
    "    elasticnet = ElasticNet(l1_ratio = r, fit_intercept = False)\n",
    "    elasticnet.fit(x_train, y_train)\n",
    "    coefs.append(elasticnet.coef_)\n",
    "\n",
    "# Visualize the regularization curve\n",
    "ax = plt.gca()\n",
    "ax.plot(l1_ratios, coefs)\n",
    "ax.set_xscale('log')\n",
    "ax.set_xlim(ax.get_xlim()[::-1])  # reverse axis\n",
    "plt.xlabel('l1_ratio')\n",
    "plt.ylabel('weights')\n",
    "plt.title('Elastic net coefficients as a function of the regularization')\n",
    "plt.axis('tight')\n",
    "plt.show()"
   ]
  },
  {
   "cell_type": "markdown",
   "metadata": {},
   "source": [
    "### 3.4 Random Forests classifier"
   ]
  },
  {
   "cell_type": "markdown",
   "metadata": {},
   "source": [
    "##### Model fit"
   ]
  },
  {
   "cell_type": "code",
   "execution_count": 33,
   "metadata": {
    "ExecuteTime": {
     "end_time": "2019-08-24T19:02:54.413362Z",
     "start_time": "2019-08-24T18:24:04.633965Z"
    }
   },
   "outputs": [
    {
     "data": {
      "text/plain": [
       "{'bootstrap': False, 'max_features': 'auto', 'n_estimators': 2000}"
      ]
     },
     "execution_count": 33,
     "metadata": {},
     "output_type": "execute_result"
    }
   ],
   "source": [
    "# Define hyperparameter grid\n",
    "param_grid = {'bootstrap': [True, False],\n",
    "              'max_features': ['auto', 'sqrt'],\n",
    "              'n_estimators': [200, 1000, 2000]}\n",
    "\n",
    "# Hyperparametertuning of the Random Forest model (cv = 5 folds)\n",
    "rf_model = RandomForestClassifier()\n",
    "grid_rf_model = GridSearchCV(rf_model, param_grid, cv=5)\n",
    "grid_best_rf_model = grid_rf_model.fit(x_train, y_train)\n",
    "\n",
    "# Save optimal hyperparameters\n",
    "rf_model_dict['regularisation_param'] = grid_best_rf_model.best_params_\n",
    "grid_best_rf_model.best_params_"
   ]
  },
  {
   "cell_type": "code",
   "execution_count": 34,
   "metadata": {
    "ExecuteTime": {
     "end_time": "2019-08-24T19:04:33.158030Z",
     "start_time": "2019-08-24T19:02:54.415498Z"
    }
   },
   "outputs": [
    {
     "data": {
      "text/plain": [
       "RandomForestClassifier(bootstrap=False, class_weight=None, criterion='gini',\n",
       "            max_depth=None, max_features='auto', max_leaf_nodes=None,\n",
       "            min_impurity_decrease=0.0, min_impurity_split=None,\n",
       "            min_samples_leaf=1, min_samples_split=2,\n",
       "            min_weight_fraction_leaf=0.0, n_estimators=2000, n_jobs=None,\n",
       "            oob_score=False, random_state=None, verbose=0,\n",
       "            warm_start=False)"
      ]
     },
     "execution_count": 34,
     "metadata": {},
     "output_type": "execute_result"
    }
   ],
   "source": [
    "# Fit the best model with the optimal hyperparameters\n",
    "fitted_rf_model = RandomForestClassifier(bootstrap = rf_model_dict['regularisation_param'] ['bootstrap'],\n",
    "                                         max_features = rf_model_dict['regularisation_param'] ['max_features'],\n",
    "                                         n_estimators = rf_model_dict['regularisation_param'] ['n_estimators'])\n",
    "fitted_rf_model.fit(x_train,y_train)"
   ]
  },
  {
   "cell_type": "markdown",
   "metadata": {},
   "source": [
    "##### Model accuracy evaluation"
   ]
  },
  {
   "cell_type": "code",
   "execution_count": 35,
   "metadata": {
    "ExecuteTime": {
     "end_time": "2019-08-24T19:04:37.735548Z",
     "start_time": "2019-08-24T19:04:33.160176Z"
    }
   },
   "outputs": [
    {
     "name": "stdout",
     "output_type": "stream",
     "text": [
      "Based on a threshold of 0.5 the following summary statistics can be obtained:\n",
      " ----------------------------------------------------------------------------------------------------\n",
      "1093 true positives over all positives (the wins that were correctly classified).\n",
      "128 false positives (the wins that were wrongly classified).\n",
      "1016 true negatives (the losses that were correctly classified).\n",
      "91 false negatives (the losses that were wrongly classified).\n",
      "\n",
      "The sensitivity is:  0.9231418918918919\n",
      "The specificity is:  0.8881118881118881\n",
      "\n",
      "\n",
      "Accuracy: 0.9059278350515464 \n",
      " ----------------------------------------------------------------------------------------------------\n"
     ]
    },
    {
     "data": {
      "image/png": "[encoded data removed]",
      "text/plain": [
       "<Figure size 432x288 with 1 Axes>"
      ]
     },
     "metadata": {
      "needs_background": "light"
     },
     "output_type": "display_data"
    },
    {
     "name": "stdout",
     "output_type": "stream",
     "text": [
      "Confusion matrix :\n",
      " ----------------------------------------------------------------------------------------------------\n"
     ]
    },
    {
     "data": {
      "image/png": "[encoded data removed]",
      "text/plain": [
       "<Figure size 432x288 with 2 Axes>"
      ]
     },
     "metadata": {
      "needs_background": "light"
     },
     "output_type": "display_data"
    },
    {
     "name": "stdout",
     "output_type": "stream",
     "text": [
      "Normalized confusion matrix :\n",
      " ----------------------------------------------------------------------------------------------------\n"
     ]
    },
    {
     "data": {
      "image/png": "[encoded data removed]",
      "text/plain": [
       "<Figure size 432x288 with 2 Axes>"
      ]
     },
     "metadata": {
      "needs_background": "light"
     },
     "output_type": "display_data"
    }
   ],
   "source": [
    "# Model accuracy evaluation metrics\n",
    "rf_model_dict['sensitivity'], rf_model_dict['specificity'], rf_model_dict['auc'], rf_model_dict['accuracy'] = binary_class_evaluator(fitted_rf_model, x_test, y_test, elasticnet = False)\n",
    "\n",
    "# Plot non-normalized and normalized confusion matrix\n",
    "plot_confusion_matrix(fitted_rf_model, x_test, y_test, classes=['Loss', 'Win'], elasticnet = False)\n",
    "plot_confusion_matrix(fitted_rf_model, x_test, y_test, classes=['Loss', 'Win'], normalize=True, elasticnet = False)"
   ]
  },
  {
   "cell_type": "markdown",
   "metadata": {},
   "source": [
    "##### Feature importance evaluator"
   ]
  },
  {
   "cell_type": "code",
   "execution_count": 36,
   "metadata": {
    "ExecuteTime": {
     "end_time": "2019-08-24T19:04:37.991918Z",
     "start_time": "2019-08-24T19:04:37.737773Z"
    }
   },
   "outputs": [
    {
     "data": {
      "text/plain": [
       "a                   0.229653\n",
       "earnedgpm           0.158644\n",
       "d                   0.111098\n",
       "gspd                0.092569\n",
       "totalgold           0.038435\n",
       "earnedgoldshare     0.037977\n",
       "Encoded_team        0.031899\n",
       "Encoded_champion    0.029129\n",
       "kpm                 0.025652\n",
       "goldspent           0.021792\n",
       "dtype: float64"
      ]
     },
     "execution_count": 36,
     "metadata": {},
     "output_type": "execute_result"
    }
   ],
   "source": [
    "# Show the sorted features indicating the highest importance in predicting the target\n",
    "feature_imp = pd.Series(fitted_rf_model.feature_importances_,index=x_train.columns).sort_values(ascending=False)\n",
    "rf_model_dict['feature_importance'] = dict(zip(feature_imp.index, feature_imp))\n",
    "feature_imp[:10]"
   ]
  },
  {
   "cell_type": "markdown",
   "metadata": {},
   "source": [
    "### 3.5 Comparison ML techniques"
   ]
  },
  {
   "cell_type": "markdown",
   "metadata": {},
   "source": [
    "##### Creation summary table"
   ]
  },
  {
   "cell_type": "code",
   "execution_count": 37,
   "metadata": {
    "ExecuteTime": {
     "end_time": "2019-08-24T19:04:38.016325Z",
     "start_time": "2019-08-24T19:04:37.993871Z"
    }
   },
   "outputs": [
    {
     "data": {
      "text/html": [
       "<div>\n",
       "<style scoped>\n",
       "    .dataframe tbody tr th:only-of-type {\n",
       "        vertical-align: middle;\n",
       "    }\n",
       "\n",
       "    .dataframe tbody tr th {\n",
       "        vertical-align: top;\n",
       "    }\n",
       "\n",
       "    .dataframe thead th {\n",
       "        text-align: right;\n",
       "    }\n",
       "</style>\n",
       "<table border=\"1\" class=\"dataframe\">\n",
       "  <thead>\n",
       "    <tr style=\"text-align: right;\">\n",
       "      <th></th>\n",
       "      <th>regularisation_param</th>\n",
       "      <th>sensitivity</th>\n",
       "      <th>specificity</th>\n",
       "      <th>auc</th>\n",
       "      <th>accuracy</th>\n",
       "      <th>feature_importance</th>\n",
       "    </tr>\n",
       "  </thead>\n",
       "  <tbody>\n",
       "    <tr>\n",
       "      <th>Lasso</th>\n",
       "      <td>NaN</td>\n",
       "      <td>0.937500</td>\n",
       "      <td>0.933566</td>\n",
       "      <td>0.935533</td>\n",
       "      <td>0.935567</td>\n",
       "      <td>{'earnedgpm': 6.482245371410373, 'earnedgoldsh...</td>\n",
       "    </tr>\n",
       "    <tr>\n",
       "      <th>Ridge</th>\n",
       "      <td>0.975</td>\n",
       "      <td>0.934122</td>\n",
       "      <td>0.930944</td>\n",
       "      <td>0.932533</td>\n",
       "      <td>0.932560</td>\n",
       "      <td>{'totalgold': 1.1517304102345747, 'wards': -0....</td>\n",
       "    </tr>\n",
       "    <tr>\n",
       "      <th>Elasticnet</th>\n",
       "      <td>{'l1_ratio': 0.01, 'alpha': 0.030546801107577546}</td>\n",
       "      <td>0.929899</td>\n",
       "      <td>0.931818</td>\n",
       "      <td>0.930858</td>\n",
       "      <td>0.930842</td>\n",
       "      <td>{'earnedgpm': 0.2829697353654706, 'earnedgolds...</td>\n",
       "    </tr>\n",
       "    <tr>\n",
       "      <th>RandomForest</th>\n",
       "      <td>{'bootstrap': False, 'max_features': 'auto', '...</td>\n",
       "      <td>0.923142</td>\n",
       "      <td>0.888112</td>\n",
       "      <td>0.905627</td>\n",
       "      <td>0.905928</td>\n",
       "      <td>{'a': 0.22965289185371499, 'earnedgpm': 0.1586...</td>\n",
       "    </tr>\n",
       "  </tbody>\n",
       "</table>\n",
       "</div>"
      ],
      "text/plain": [
       "                                           regularisation_param  sensitivity  \\\n",
       "Lasso                                                       NaN     0.937500   \n",
       "Ridge                                                     0.975     0.934122   \n",
       "Elasticnet    {'l1_ratio': 0.01, 'alpha': 0.030546801107577546}     0.929899   \n",
       "RandomForest  {'bootstrap': False, 'max_features': 'auto', '...     0.923142   \n",
       "\n",
       "              specificity       auc  accuracy  \\\n",
       "Lasso            0.933566  0.935533  0.935567   \n",
       "Ridge            0.930944  0.932533  0.932560   \n",
       "Elasticnet       0.931818  0.930858  0.930842   \n",
       "RandomForest     0.888112  0.905627  0.905928   \n",
       "\n",
       "                                             feature_importance  \n",
       "Lasso         {'earnedgpm': 6.482245371410373, 'earnedgoldsh...  \n",
       "Ridge         {'totalgold': 1.1517304102345747, 'wards': -0....  \n",
       "Elasticnet    {'earnedgpm': 0.2829697353654706, 'earnedgolds...  \n",
       "RandomForest  {'a': 0.22965289185371499, 'earnedgpm': 0.1586...  "
      ]
     },
     "execution_count": 37,
     "metadata": {},
     "output_type": "execute_result"
    }
   ],
   "source": [
    "# Create summary table\n",
    "for key in logistic_L1penalty_model_dict.keys():\n",
    "    model_summary_dict[key] = [logistic_L1penalty_model_dict[key], ridge_model_dict[key], elasticnet_model_dict[key], rf_model_dict[key]]\n",
    "model_summary_table = pd.DataFrame(model_summary_dict, columns = logistic_L1penalty_model_dict.keys())\n",
    "model_summary_table.rename(index={0:'Lasso', 1:'Ridge', 2:'Elasticnet', 3:'RandomForest'}, inplace = True)\n",
    "\n",
    "# Visualize summary table\n",
    "model_summary_table"
   ]
  },
  {
   "cell_type": "markdown",
   "metadata": {},
   "source": [
    "##### Investigate accuracy metrics"
   ]
  },
  {
   "cell_type": "code",
   "execution_count": 38,
   "metadata": {
    "ExecuteTime": {
     "end_time": "2019-08-24T19:04:38.275835Z",
     "start_time": "2019-08-24T19:04:38.018194Z"
    }
   },
   "outputs": [
    {
     "data": {
      "text/plain": [
       "<matplotlib.legend.Legend at 0x7f1d896ae710>"
      ]
     },
     "execution_count": 38,
     "metadata": {},
     "output_type": "execute_result"
    },
    {
     "data": {
      "image/png": "[encoded data removed]",
      "text/plain": [
       "<Figure size 432x288 with 1 Axes>"
      ]
     },
     "metadata": {
      "needs_background": "light"
     },
     "output_type": "display_data"
    }
   ],
   "source": [
    "# Visualize a summarization of the accuracy metrics for the different ML methods\n",
    "fig, ax = plt.subplots()\n",
    "ax.plot(list(model_summary_table.index), model_summary_table.sensitivity, '--', label=\"sensitivity\", color='lightskyblue')\n",
    "ax.plot(list(model_summary_table.index), model_summary_table.specificity, '--', label=\"specificity\", color='lightblue')\n",
    "ax.plot(list(model_summary_table.index), model_summary_table.accuracy, label=\"accuracy\", color='royalblue')\n",
    "plt.title(\"Sensitivity, specificity and accuracy regularization models\")\n",
    "plt.ylabel('Value')\n",
    "plt.xlabel('ML model')\n",
    "ax.legend(loc =\"best\", fontsize = 8)"
   ]
  },
  {
   "cell_type": "markdown",
   "metadata": {},
   "source": [
    "##### Investigate parameter coefficients"
   ]
  },
  {
   "cell_type": "code",
   "execution_count": 39,
   "metadata": {
    "ExecuteTime": {
     "end_time": "2019-08-24T19:04:38.284119Z",
     "start_time": "2019-08-24T19:04:38.277827Z"
    }
   },
   "outputs": [
    {
     "name": "stdout",
     "output_type": "stream",
     "text": [
      "The number of features kept by the different techniques in the model:\n",
      " ----------------------------------------------------------------------------------------------------\n",
      "Lasso :  14\n",
      "Ridge :  50\n",
      "Elasticnet :  50\n",
      "RandomForest :  50\n"
     ]
    }
   ],
   "source": [
    "# Short intermediate summary\n",
    "print(\"The number of features kept by the different techniques in the model:\\n\", \"-\"*100)\n",
    "for ML in list(model_summary_table.index):\n",
    "    print(ML, \": \", len(model_summary_table.feature_importance[ML]))"
   ]
  },
  {
   "cell_type": "code",
   "execution_count": 40,
   "metadata": {
    "ExecuteTime": {
     "end_time": "2019-08-24T19:04:38.545891Z",
     "start_time": "2019-08-24T19:04:38.286279Z"
    }
   },
   "outputs": [
    {
     "data": {
      "image/png": "[encoded data removed]",
      "text/plain": [
       "<Figure size 432x288 with 1 Axes>"
      ]
     },
     "metadata": {
      "needs_background": "light"
     },
     "output_type": "display_data"
    }
   ],
   "source": [
    "# Visualization of difference in coefficient estimates\n",
    "plt.plot(fitted_elasticnet_model.coef_, color='darkorange', linewidth=2,\n",
    "         label='Elastic net coefficients')\n",
    "plt.plot(fitted_logistic_L1penalty_model.coef_[0], color='yellowgreen', linewidth=2,\n",
    "         label='Lasso coefficients')\n",
    "plt.plot(fitted_ridge_model.coef_[0], '--', color='dodgerblue', label='Ridge coefficients')\n",
    "plt.legend(loc='best')\n",
    "plt.title(\"Comparison parameter coefficients\")\n",
    "plt.ylabel('Coefficient')\n",
    "plt.xlabel('Feature ID')\n",
    "plt.show()"
   ]
  },
  {
   "cell_type": "code",
   "execution_count": 41,
   "metadata": {
    "ExecuteTime": {
     "end_time": "2019-08-24T19:04:40.827005Z",
     "start_time": "2019-08-24T19:04:38.548088Z"
    },
    "scrolled": false
   },
   "outputs": [
    {
     "data": {
      "image/png": "[encoded data removed]",
      "text/plain": [
       "<Figure size 360x576 with 1 Axes>"
      ]
     },
     "metadata": {
      "needs_background": "light"
     },
     "output_type": "display_data"
    },
    {
     "data": {
      "image/png": "[encoded data removed]",
      "text/plain": [
       "<Figure size 360x1008 with 1 Axes>"
      ]
     },
     "metadata": {
      "needs_background": "light"
     },
     "output_type": "display_data"
    },
    {
     "data": {
      "image/png": "[encoded data removed]",
      "text/plain": [
       "<Figure size 360x1008 with 1 Axes>"
      ]
     },
     "metadata": {
      "needs_background": "light"
     },
     "output_type": "display_data"
    },
    {
     "data": {
      "image/png": "[encoded data removed]",
      "text/plain": [
       "<Figure size 360x1008 with 1 Axes>"
      ]
     },
     "metadata": {
      "needs_background": "light"
     },
     "output_type": "display_data"
    }
   ],
   "source": [
    "# Visualize feature importance (coefficient based)\n",
    "for index, ML in enumerate(list(model_summary_table.index)):\n",
    "    x =  np.arange(len(model_summary_table.feature_importance[ML]))\n",
    "    plt.figure(figsize=(5, 8)) if index == 0 else plt.figure(figsize=(5, 14)) \n",
    "    plt.barh(x, list(model_summary_table.feature_importance[ML].values()), \n",
    "             tick_label =  list(model_summary_table.feature_importance[ML].keys()),\n",
    "             color = 'mediumslateblue', \n",
    "             edgecolor = 'slateblue')\n",
    "    plt.title(\"Feature coefficient estimates \" + ML + \" classification\")\n",
    "    plt.ylabel('Feature')\n",
    "    plt.xlabel('Coefficient')\n",
    "    plt.show()"
   ]
  },
  {
   "cell_type": "markdown",
   "metadata": {},
   "source": [
    "## 4. Create player specific summary vectors"
   ]
  },
  {
   "cell_type": "markdown",
   "metadata": {
    "ExecuteTime": {
     "end_time": "2019-03-26T08:44:26.367395Z",
     "start_time": "2019-03-26T08:44:26.305732Z"
    }
   },
   "source": [
    "### 4.1 Create dataset capturing the average feature values per player\n",
    "A player specific summary vector will be created by looping through all the features captured by the dataset and taking the average over all the games played by that player (for a specific feature). To have a better indication of the accuracy of the player vector another column is added at the end indicating the number of games on which the calculation is based."
   ]
  },
  {
   "cell_type": "code",
   "execution_count": 42,
   "metadata": {
    "ExecuteTime": {
     "end_time": "2019-08-24T19:04:43.359966Z",
     "start_time": "2019-08-24T19:04:40.829136Z"
    }
   },
   "outputs": [],
   "source": [
    "# Extract list with the different players\n",
    "players = list(set(data_raw.player))\n",
    "player_vector_cols = list(data.columns)\n",
    "player_vector_cols.append('accuracy indicator')\n",
    "\n",
    "# Create summary vector for each player\n",
    "player_info_list = []\n",
    "for player in players:\n",
    "    player_vector = []\n",
    "    player_subdf = data_raw[data_raw.player == player]\n",
    "    # Loop through the different columns\n",
    "    for col in data.columns:\n",
    "        # Take the mean over column values for numerical features\n",
    "        if 'Encoded' not in col:\n",
    "            player_vector.append(player_subdf[col].mean())\n",
    "        # Take the majority value over column values for discrete features\n",
    "        else: \n",
    "            player_vector.append(RandomSampleProbDist(player_subdf[col]))\n",
    "    # Add accuracy indicator\n",
    "    player_vector.append(len(player_subdf))\n",
    "    player_info_list.append(player_vector)\n",
    "    \n",
    "# Create summary dataframe\n",
    "player_vector_df = pd.DataFrame(data = player_info_list, index=players, columns=player_vector_cols)"
   ]
  },
  {
   "cell_type": "code",
   "execution_count": 43,
   "metadata": {
    "ExecuteTime": {
     "end_time": "2019-08-24T19:04:43.372868Z",
     "start_time": "2019-08-24T19:04:43.362432Z"
    },
    "scrolled": true
   },
   "outputs": [
    {
     "name": "stdout",
     "output_type": "stream",
     "text": [
      "Summary information player vector dataframe: Player specific feature vectors are captured for 264 players.\n",
      "\n",
      "The players indicating feature vectors based on less than 5 games:\n",
      " ----------------------------------------------------------------------------------------------------\n",
      "meteos\n",
      "newt\n",
      "boris\n",
      "bocajr\n",
      "easyhoon\n",
      "minerva\n",
      "hana\n",
      "scarra\n",
      "xuan\n",
      "nevan\n",
      "goku\n",
      "breaker\n",
      "taizan\n",
      "madness\n",
      "frozen\n",
      "loken\n",
      "crash\n",
      "pilter\n",
      "trix\n",
      "rekkles\n",
      "soul\n",
      "thaldrin\n",
      "asper\n",
      "fanatiik\n",
      "pbd\n",
      "iluzjonistj\n",
      "mitsuki\n",
      "m1anhua\n",
      "matsukaze\n",
      "codpiece\n",
      "caedrel\n",
      "sya\n",
      "visdom\n",
      "jankos\n",
      "diamond\n",
      "reven\n",
      "nukeduck\n",
      "jackeylove\n",
      "brtt\n",
      "ragner\n",
      "smlz\n",
      "iluzjonist\n",
      "berentt\n",
      "fabfabulous\n",
      "soulmate\n",
      "sofm\n",
      "maynah\n",
      "closer\n",
      "caps\n",
      "perkz\n",
      "doss\n",
      "secaf reis\n",
      "joo\n",
      "teeen\n",
      "spirit\n"
     ]
    }
   ],
   "source": [
    "# Intermediate summary\n",
    "print(\"Summary information player vector dataframe: Player specific feature vectors are captured for\", len(player_vector_df), \"players.\\n\")\n",
    "\n",
    "# Extract vector accuracy information\n",
    "print(\"The players indicating feature vectors based on less than 5 games:\\n\", '-'*100)\n",
    "for player, acc_ind in zip(list(player_vector_df.index), player_vector_df['accuracy indicator']):\n",
    "    if acc_ind < 5:\n",
    "        print(player)"
   ]
  },
  {
   "cell_type": "code",
   "execution_count": 44,
   "metadata": {
    "ExecuteTime": {
     "end_time": "2019-08-24T19:04:44.088846Z",
     "start_time": "2019-08-24T19:04:43.376104Z"
    }
   },
   "outputs": [
    {
     "name": "stdout",
     "output_type": "stream",
     "text": [
      "==================================================================================================== \n",
      "Overview of variable:  Accuracy indicator \n",
      " ====================================================================================================\n"
     ]
    },
    {
     "data": {
      "image/png": "[encoded data removed]",
      "text/plain": [
       "<Figure size 432x288 with 1 Axes>"
      ]
     },
     "metadata": {
      "needs_background": "light"
     },
     "output_type": "display_data"
    },
    {
     "name": "stdout",
     "output_type": "stream",
     "text": [
      "-------------------- \n",
      "Summary statistics:\n",
      " --------------------\n",
      "Minimum value: 1\n",
      "Mean: 58.7652\n",
      "Standard deviation: 73.322\n",
      "Median: 25.5\n",
      "Maximal value: 329\n"
     ]
    },
    {
     "data": {
      "image/png": "[encoded data removed]",
      "text/plain": [
       "<Figure size 432x288 with 1 Axes>"
      ]
     },
     "metadata": {
      "needs_background": "light"
     },
     "output_type": "display_data"
    },
    {
     "name": "stdout",
     "output_type": "stream",
     "text": [
      "-------------------- \n",
      "Outlier detection:\n",
      " --------------------\n",
      "List of outliers: {329, 300, 307, 309, 279}\n"
     ]
    },
    {
     "data": {
      "image/png": "[encoded data removed]",
      "text/plain": [
       "<Figure size 432x288 with 1 Axes>"
      ]
     },
     "metadata": {
      "needs_background": "light"
     },
     "output_type": "display_data"
    },
    {
     "name": "stdout",
     "output_type": "stream",
     "text": [
      "-------------------- \n",
      "Check for normal distribution:\n",
      " --------------------\n",
      "Skewedness: 1.5942\n",
      "Kurtosis: 1.8093\n"
     ]
    },
    {
     "data": {
      "text/plain": [
       "<Figure size 432x288 with 0 Axes>"
      ]
     },
     "metadata": {},
     "output_type": "display_data"
    }
   ],
   "source": [
    "# Accuracy indicator distribution\n",
    "SummaryNumericVar(player_vector_df['accuracy indicator'], 'Accuracy indicator')"
   ]
  },
  {
   "cell_type": "markdown",
   "metadata": {},
   "source": [
    "### 4.2 Estimate player strength parameters"
   ]
  },
  {
   "cell_type": "code",
   "execution_count": 45,
   "metadata": {
    "ExecuteTime": {
     "end_time": "2019-08-24T19:04:44.094209Z",
     "start_time": "2019-08-24T19:04:44.091058Z"
    }
   },
   "outputs": [],
   "source": [
    "# Create dictionary to capture strength parameter information\n",
    "strength_param_dict = dict()\n",
    "\n",
    "# Extract columns not used for model fit\n",
    "additional_columns = ['result', 'accuracy indicator']\n",
    "strength_param_dict['accuracy indicator'] = player_vector_df['accuracy indicator']"
   ]
  },
  {
   "cell_type": "markdown",
   "metadata": {},
   "source": [
    "##### Lasso classification based parameter approximation"
   ]
  },
  {
   "cell_type": "code",
   "execution_count": 46,
   "metadata": {
    "ExecuteTime": {
     "end_time": "2019-08-24T19:04:44.163210Z",
     "start_time": "2019-08-24T19:04:44.096216Z"
    }
   },
   "outputs": [],
   "source": [
    "# 1. Fit (trained) lasso classification model\n",
    "strength_param_dict['lasso'] = [y for x, y in fitted_logistic_L1penalty_model.predict_proba(player_vector_df[selected_features_rfe])]"
   ]
  },
  {
   "cell_type": "markdown",
   "metadata": {},
   "source": [
    "##### Ridge classification based parameter approximation"
   ]
  },
  {
   "cell_type": "code",
   "execution_count": 47,
   "metadata": {
    "ExecuteTime": {
     "end_time": "2019-08-24T19:04:44.277778Z",
     "start_time": "2019-08-24T19:04:44.165683Z"
    },
    "scrolled": true
   },
   "outputs": [],
   "source": [
    "# 2. Fit ridge classification model with best regularisation parameter based on CV\n",
    "additional_columns = ['result', 'accuracy indicator']\n",
    "ridge = RidgeClassifier(alpha = ridge_model_dict['regularisation_param'], fit_intercept = False)\n",
    "fitted_ridge = ridge.fit(x_train, y_train)\n",
    "logit_trans_predictions_ridge = fitted_ridge.decision_function(player_vector_df[[x for x in data.columns if x not in additional_columns]])\n",
    "strength_param_dict['ridge'] = np.exp(logit_trans_predictions_ridge) / (1 + np.exp(logit_trans_predictions_ridge))"
   ]
  },
  {
   "cell_type": "markdown",
   "metadata": {},
   "source": [
    "Remark: There is no predicted probability option for the RidgeClassifier because this model is not easy to interpret as a probability model. The decision function of the RidgeClassifier model considers a logit transformation of the actual class probabilities. If decision function is greater than zero then class 1 is predicted otherwise predict class 0, corresponding to a classical logit approach. By back-transforming these predictions we can get the predicted probabilities."
   ]
  },
  {
   "cell_type": "markdown",
   "metadata": {},
   "source": [
    "##### Result averaging based parameter approximation"
   ]
  },
  {
   "cell_type": "code",
   "execution_count": 48,
   "metadata": {
    "ExecuteTime": {
     "end_time": "2019-08-24T19:04:44.349748Z",
     "start_time": "2019-08-24T19:04:44.307425Z"
    }
   },
   "outputs": [],
   "source": [
    "# 3. Expected outcome of the game based on player-vector averaging \n",
    "strength_param_dict['result'] = player_vector_df['result']"
   ]
  },
  {
   "cell_type": "code",
   "execution_count": 49,
   "metadata": {
    "ExecuteTime": {
     "end_time": "2019-08-24T19:04:44.441835Z",
     "start_time": "2019-08-24T19:04:44.380319Z"
    }
   },
   "outputs": [
    {
     "data": {
      "text/html": [
       "<div>\n",
       "<style scoped>\n",
       "    .dataframe tbody tr th:only-of-type {\n",
       "        vertical-align: middle;\n",
       "    }\n",
       "\n",
       "    .dataframe tbody tr th {\n",
       "        vertical-align: top;\n",
       "    }\n",
       "\n",
       "    .dataframe thead th {\n",
       "        text-align: right;\n",
       "    }\n",
       "</style>\n",
       "<table border=\"1\" class=\"dataframe\">\n",
       "  <thead>\n",
       "    <tr style=\"text-align: right;\">\n",
       "      <th></th>\n",
       "      <th>accuracy indicator</th>\n",
       "      <th>lasso</th>\n",
       "      <th>ridge</th>\n",
       "      <th>result</th>\n",
       "    </tr>\n",
       "  </thead>\n",
       "  <tbody>\n",
       "    <tr>\n",
       "      <th>meteos</th>\n",
       "      <td>2</td>\n",
       "      <td>0.989727</td>\n",
       "      <td>0.661625</td>\n",
       "      <td>1.000000</td>\n",
       "    </tr>\n",
       "    <tr>\n",
       "      <th>jockster</th>\n",
       "      <td>120</td>\n",
       "      <td>0.553604</td>\n",
       "      <td>0.498124</td>\n",
       "      <td>0.541667</td>\n",
       "    </tr>\n",
       "    <tr>\n",
       "      <th>nova</th>\n",
       "      <td>70</td>\n",
       "      <td>0.027308</td>\n",
       "      <td>0.381654</td>\n",
       "      <td>0.257143</td>\n",
       "    </tr>\n",
       "    <tr>\n",
       "      <th>baolan</th>\n",
       "      <td>210</td>\n",
       "      <td>0.834893</td>\n",
       "      <td>0.557011</td>\n",
       "      <td>0.714286</td>\n",
       "    </tr>\n",
       "    <tr>\n",
       "      <th>newt</th>\n",
       "      <td>2</td>\n",
       "      <td>0.103572</td>\n",
       "      <td>0.366902</td>\n",
       "      <td>0.000000</td>\n",
       "    </tr>\n",
       "  </tbody>\n",
       "</table>\n",
       "</div>"
      ],
      "text/plain": [
       "          accuracy indicator     lasso     ridge    result\n",
       "meteos                     2  0.989727  0.661625  1.000000\n",
       "jockster                 120  0.553604  0.498124  0.541667\n",
       "nova                      70  0.027308  0.381654  0.257143\n",
       "baolan                   210  0.834893  0.557011  0.714286\n",
       "newt                       2  0.103572  0.366902  0.000000"
      ]
     },
     "execution_count": 49,
     "metadata": {},
     "output_type": "execute_result"
    }
   ],
   "source": [
    "# Create dataframe of strength parameter summarization\n",
    "strength_param_df = pd.DataFrame(strength_param_dict)\n",
    "strength_param_df.head()"
   ]
  },
  {
   "cell_type": "code",
   "execution_count": 50,
   "metadata": {
    "ExecuteTime": {
     "end_time": "2019-08-24T19:04:44.459817Z",
     "start_time": "2019-08-24T19:04:44.443660Z"
    }
   },
   "outputs": [
    {
     "data": {
      "text/plain": [
       "lasso  result    0.760883\n",
       "ridge  result    0.826512\n",
       "lasso  ridge     0.873130\n",
       "dtype: float64"
      ]
     },
     "execution_count": 50,
     "metadata": {},
     "output_type": "execute_result"
    }
   ],
   "source": [
    "# Print list with correlated features\n",
    "corrmap_abs = strength_param_df.iloc[:,1:].corr().abs()\n",
    "corrmap_abs_sorted = corrmap_abs.unstack().sort_values(kind = \"quicksort\", ascending = False)\n",
    "corrmap_abs_sorted[3:][::-2]"
   ]
  },
  {
   "cell_type": "markdown",
   "metadata": {},
   "source": [
    "### 4.3 Investigation strength parameter characteristics"
   ]
  },
  {
   "cell_type": "code",
   "execution_count": 51,
   "metadata": {
    "ExecuteTime": {
     "end_time": "2019-08-24T19:04:46.300726Z",
     "start_time": "2019-08-24T19:04:44.461559Z"
    },
    "scrolled": false
   },
   "outputs": [
    {
     "name": "stdout",
     "output_type": "stream",
     "text": [
      "==================================================================================================== \n",
      "Overview of variable:  lasso \n",
      " ====================================================================================================\n"
     ]
    },
    {
     "data": {
      "image/png": "[encoded data removed]",
      "text/plain": [
       "<Figure size 432x288 with 1 Axes>"
      ]
     },
     "metadata": {
      "needs_background": "light"
     },
     "output_type": "display_data"
    },
    {
     "name": "stdout",
     "output_type": "stream",
     "text": [
      "-------------------- \n",
      "Summary statistics:\n",
      " --------------------\n",
      "Minimum value: 1.2472572909827664e-06\n",
      "Mean: 0.3664\n",
      "Standard deviation: 0.3274\n",
      "Median: 0.3115\n",
      "Maximal value: 0.9999999973183382\n"
     ]
    },
    {
     "data": {
      "image/png": "[encoded data removed]",
      "text/plain": [
       "<Figure size 432x288 with 1 Axes>"
      ]
     },
     "metadata": {
      "needs_background": "light"
     },
     "output_type": "display_data"
    },
    {
     "name": "stdout",
     "output_type": "stream",
     "text": [
      "-------------------- \n",
      "Outlier detection:\n",
      " --------------------\n",
      "List of outliers: set()\n"
     ]
    },
    {
     "data": {
      "image/png": "[encoded data removed]",
      "text/plain": [
       "<Figure size 432x288 with 1 Axes>"
      ]
     },
     "metadata": {
      "needs_background": "light"
     },
     "output_type": "display_data"
    },
    {
     "name": "stdout",
     "output_type": "stream",
     "text": [
      "-------------------- \n",
      "Check for normal distribution:\n",
      " --------------------\n",
      "Skewedness: 0.5023\n",
      "Kurtosis: -1.1018\n",
      "==================================================================================================== \n",
      "Overview of variable:  ridge \n",
      " ====================================================================================================\n"
     ]
    },
    {
     "data": {
      "image/png": "[encoded data removed]",
      "text/plain": [
       "<Figure size 432x288 with 1 Axes>"
      ]
     },
     "metadata": {
      "needs_background": "light"
     },
     "output_type": "display_data"
    },
    {
     "name": "stdout",
     "output_type": "stream",
     "text": [
      "-------------------- \n",
      "Summary statistics:\n",
      " --------------------\n",
      "Minimum value: 0.17557955739424483\n",
      "Mean: 0.4693\n",
      "Standard deviation: 0.1046\n",
      "Median: 0.4735\n",
      "Maximal value: 0.9132922738532\n"
     ]
    },
    {
     "data": {
      "image/png": "[encoded data removed]",
      "text/plain": [
       "<Figure size 432x288 with 1 Axes>"
      ]
     },
     "metadata": {
      "needs_background": "light"
     },
     "output_type": "display_data"
    },
    {
     "name": "stdout",
     "output_type": "stream",
     "text": [
      "-------------------- \n",
      "Outlier detection:\n",
      " --------------------\n",
      "List of outliers: {0.81, 0.8, 0.85, 0.91}\n"
     ]
    },
    {
     "data": {
      "image/png": "[encoded data removed]",
      "text/plain": [
       "<Figure size 432x288 with 1 Axes>"
      ]
     },
     "metadata": {
      "needs_background": "light"
     },
     "output_type": "display_data"
    },
    {
     "name": "stdout",
     "output_type": "stream",
     "text": [
      "-------------------- \n",
      "Check for normal distribution:\n",
      " --------------------\n",
      "Skewedness: 0.599\n",
      "Kurtosis: 2.5342\n",
      "==================================================================================================== \n",
      "Overview of variable:  result \n",
      " ====================================================================================================\n"
     ]
    },
    {
     "data": {
      "image/png": "[encoded data removed]",
      "text/plain": [
       "<Figure size 432x288 with 1 Axes>"
      ]
     },
     "metadata": {
      "needs_background": "light"
     },
     "output_type": "display_data"
    },
    {
     "name": "stdout",
     "output_type": "stream",
     "text": [
      "-------------------- \n",
      "Summary statistics:\n",
      " --------------------\n",
      "Minimum value: 0.0\n",
      "Mean: 0.4108\n",
      "Standard deviation: 0.2314\n",
      "Median: 0.4296\n",
      "Maximal value: 1.0\n"
     ]
    },
    {
     "data": {
      "image/png": "[encoded data removed]",
      "text/plain": [
       "<Figure size 432x288 with 1 Axes>"
      ]
     },
     "metadata": {
      "needs_background": "light"
     },
     "output_type": "display_data"
    },
    {
     "name": "stdout",
     "output_type": "stream",
     "text": [
      "-------------------- \n",
      "Outlier detection:\n",
      " --------------------\n",
      "List of outliers: set()\n"
     ]
    },
    {
     "data": {
      "image/png": "[encoded data removed]",
      "text/plain": [
       "<Figure size 432x288 with 1 Axes>"
      ]
     },
     "metadata": {
      "needs_background": "light"
     },
     "output_type": "display_data"
    },
    {
     "name": "stdout",
     "output_type": "stream",
     "text": [
      "-------------------- \n",
      "Check for normal distribution:\n",
      " --------------------\n",
      "Skewedness: 0.1842\n",
      "Kurtosis: 0.4211\n"
     ]
    },
    {
     "data": {
      "text/plain": [
       "<Figure size 432x288 with 0 Axes>"
      ]
     },
     "metadata": {},
     "output_type": "display_data"
    }
   ],
   "source": [
    "# Visualisation strength parameter distributions (based on the different techniques)\n",
    "for col in strength_param_df.columns[1:]:\n",
    "    SummaryNumericVar(strength_param_df[col], col)"
   ]
  },
  {
   "cell_type": "markdown",
   "metadata": {
    "ExecuteTime": {
     "end_time": "2019-03-26T14:30:10.779352Z",
     "start_time": "2019-03-26T14:30:10.606507Z"
    }
   },
   "source": [
    "### 4.4 Write data away"
   ]
  },
  {
   "cell_type": "code",
   "execution_count": 52,
   "metadata": {
    "ExecuteTime": {
     "end_time": "2019-08-24T19:04:46.335259Z",
     "start_time": "2019-08-24T19:04:46.302788Z"
    }
   },
   "outputs": [],
   "source": [
    "# Save the player strength parameter data\n",
    "with open('/home/je32910/MasterThesis_ComputationalStatistics/pickles/' + saved_filename + '.pickle', 'wb') as f:\n",
    "    pickle.dump(strength_param_df, f)"
   ]
  }
 ],
 "metadata": {
  "kernelspec": {
   "display_name": "Python [conda env:python36]",
   "language": "python",
   "name": "conda-env-python36-py"
  },
  "language_info": {
   "codemirror_mode": {
    "name": "ipython",
    "version": 3
   },
   "file_extension": ".py",
   "mimetype": "text/x-python",
   "name": "python",
   "nbconvert_exporter": "python",
   "pygments_lexer": "ipython3",
   "version": "3.6.8"
  }
 },
 "nbformat": 4,
 "nbformat_minor": 2
}
