{
 "cells": [
  {
   "cell_type": "markdown",
   "metadata": {},
   "source": [
    "# Model 1: Estimation of player strength parameters (Mid)"
   ]
  },
  {
   "cell_type": "code",
   "execution_count": 1,
   "metadata": {
    "ExecuteTime": {
     "end_time": "2019-08-24T17:05:08.433821Z",
     "start_time": "2019-08-24T17:05:08.429845Z"
    }
   },
   "outputs": [],
   "source": [
    "# Filename standardized data\n",
    "#loaded_pp_filename = 'playerdata2017_preprocessed_mid'\n",
    "#loaded_std_filename = 'playerdata2017_standardized_mid'\n",
    "#saved_filename = 'playerdata2017_strenghtparam_mid'\n",
    "#loaded_pp_filename = 'playerdata2018_preprocessed_mid'\n",
    "#loaded_std_filename = 'playerdata2018_standardized_mid'\n",
    "#saved_filename = 'playerdata2018_strenghtparam_mid'\n",
    "loaded_pp_filename = 'playerdata2019_preprocessed_mid'\n",
    "loaded_std_filename = 'playerdata2019_standardized_mid'\n",
    "saved_filename = 'playerdata2019_strenghtparam_mid'"
   ]
  },
  {
   "cell_type": "markdown",
   "metadata": {},
   "source": [
    "## 0. Load libraries and define functions"
   ]
  },
  {
   "cell_type": "markdown",
   "metadata": {},
   "source": [
    "### 0.1 General python functionality"
   ]
  },
  {
   "cell_type": "code",
   "execution_count": 2,
   "metadata": {
    "ExecuteTime": {
     "end_time": "2019-08-24T17:05:11.107190Z",
     "start_time": "2019-08-24T17:05:08.435628Z"
    }
   },
   "outputs": [],
   "source": [
    "# Functions\n",
    "import numpy as np\n",
    "import os\n",
    "import pickle\n",
    "import pandas as pd\n",
    "import operator\n",
    "import itertools\n",
    "from numpy.random import choice\n",
    "from collections import Counter\n",
    "import statistics\n",
    "from scipy import stats\n",
    "\n",
    "# Functions used for data visualization\n",
    "import seaborn as sns\n",
    "import matplotlib.pyplot as plt"
   ]
  },
  {
   "cell_type": "code",
   "execution_count": 3,
   "metadata": {
    "ExecuteTime": {
     "end_time": "2019-08-24T17:05:12.096343Z",
     "start_time": "2019-08-24T17:05:11.111305Z"
    }
   },
   "outputs": [],
   "source": [
    "# Special functions needed for custom functions\n",
    "import sklearn\n",
    "from sklearn.model_selection import train_test_split\n",
    "from sklearn.linear_model import Ridge, RidgeCV, RidgeClassifierCV, LogisticRegression, ElasticNetCV, ElasticNet, Lasso, RidgeClassifier\n",
    "from sklearn import metrics\n",
    "from sklearn.feature_selection import RFECV\n",
    "from sklearn.ensemble import RandomForestClassifier\n",
    "from sklearn.model_selection import GridSearchCV"
   ]
  },
  {
   "cell_type": "code",
   "execution_count": 4,
   "metadata": {
    "ExecuteTime": {
     "end_time": "2019-08-24T17:05:12.107938Z",
     "start_time": "2019-08-24T17:05:12.098809Z"
    }
   },
   "outputs": [],
   "source": [
    "# Surpress printing warnings\n",
    "import warnings\n",
    "warnings.filterwarnings(\"ignore\")"
   ]
  },
  {
   "cell_type": "markdown",
   "metadata": {},
   "source": [
    "### 0.2 Custom functions"
   ]
  },
  {
   "cell_type": "code",
   "execution_count": 5,
   "metadata": {
    "ExecuteTime": {
     "end_time": "2019-08-24T17:05:12.152629Z",
     "start_time": "2019-08-24T17:05:12.110026Z"
    }
   },
   "outputs": [],
   "source": [
    "### Function used to return a summary for categorical variables\n",
    "def SummaryCategoricalVar(list_of_values, title, threshold = 20, top = 10):\n",
    "    \"\"\"\n",
    "    param: list_of_values (list): A list of categorical values from which we like to obtain the distribution\n",
    "    param: title (string): The title for the visualization\n",
    "    param: threshold (int): The maximal number of categories that should be visualized\n",
    "    param: top (int): The top k values that should be returned in the written summary when the number of categories is above the threshold\n",
    "    \"\"\"\n",
    "    # Count the number of occurrances in the list\n",
    "    cnt = Counter(list_of_values)\n",
    "    sorted_cnt = sorted(cnt.items(), key=operator.itemgetter(1))[::-1]\n",
    "    \n",
    "    # Show the percentage dictionary if to many categories to represent\n",
    "    print(\"-\"* 100, \"\\nOverview of variable: \", title, \"\\n\", \"-\"*100)\n",
    "    print(\"Total categories:\", len(cnt), \"\\n\")\n",
    "    if len(cnt) > threshold:\n",
    "        if len(cnt) < top*2:\n",
    "            for key, value in sorted_cnt:\n",
    "                print(key, ':', round(value/len(list_of_values)*100, 4), \"%\")\n",
    "        else:\n",
    "            print(\"The 10 with the highest percentage data available:\\n\")\n",
    "            for key, value in sorted_cnt[:top]:\n",
    "                print(key, ':', round(value/len(list_of_values)*100, 4), \"%\")\n",
    "            print(\"\\nThe 10 with the lowest percentage data available:\\n\")\n",
    "            for key, value in sorted_cnt[len(cnt) - top:]:\n",
    "                print(key, ':', round(value/len(list_of_values)*100, 4), \"%\")\n",
    "                \n",
    "    # Visualization of labelled data distribution\n",
    "    else:\n",
    "        plt.barh(range(1, len(sorted_cnt)+1), \n",
    "                 list(map(lambda x: (x/len(list_of_values)*100), [score for label, score in sorted_cnt])), \n",
    "                 tick_label = list([label for label, score in sorted_cnt]),\n",
    "                 color = 'cornflowerblue', \n",
    "                 edgecolor = 'steelblue')\n",
    "        plt.ylabel('Label')\n",
    "        plt.xlabel('Percentage observations in dataset')\n",
    "        plt.title(title)\n",
    "        plt.show()    \n",
    "        plt.savefig('Barplot_' + title + '.png')"
   ]
  },
  {
   "cell_type": "code",
   "execution_count": 6,
   "metadata": {
    "ExecuteTime": {
     "end_time": "2019-08-24T17:05:12.185150Z",
     "start_time": "2019-08-24T17:05:12.155472Z"
    }
   },
   "outputs": [],
   "source": [
    "### Function used to return a summary for numeric variables\n",
    "def SummaryNumericVar(list_of_values, title):\n",
    "    \"\"\"\n",
    "    param: list_of_values (list): A list of categorical values from which we like to obtain the distribution\n",
    "    param: title (string): The title for the visualization\n",
    "    \"\"\"\n",
    "    \n",
    "    # Title varibale\n",
    "    print(\"=\"* 100, \"\\nOverview of variable: \", title, \"\\n\", \"=\"*100)\n",
    "\n",
    "    # An \"interface\" to matplotlib.axes.Axes.hist() method\n",
    "    n, bins, patches = plt.hist(x = list_of_values, bins='auto', color= '#0504aa', alpha=0.7, rwidth=0.85)\n",
    "    plt.grid(axis='y', alpha=0.75)\n",
    "    plt.xlabel('Value')\n",
    "    plt.ylabel('Frequency')\n",
    "    plt.title(title)\n",
    "    plt.ylim(top=np.ceil(n.max() / 10) * 10 if n.max() % 10 else n.max() + 10)\n",
    "    plt.show()\n",
    "    plt.savefig('Frequency_' + title + '.png')\n",
    "\n",
    "    # Print summary statistics\n",
    "    print(\"-\"*20, \"\\nSummary statistics:\\n\", \"-\"*20)\n",
    "    print(\"Minimum value:\", min(list_of_values))\n",
    "    print(\"Mean:\", round(statistics.mean(list_of_values), 4))\n",
    "    print(\"Standard deviation:\", round(statistics.stdev(list_of_values), 4))\n",
    "    print(\"Median:\", round(statistics.median(list_of_values), 4))\n",
    "    print(\"Maximal value:\", max(list_of_values))\n",
    "\n",
    "    # Plot boxplot\n",
    "    plt.boxplot(list_of_values, 0, 'grey', 0)\n",
    "    plt.xlabel('Value')\n",
    "    plt.title(title)\n",
    "    plt.show()\n",
    "    plt.savefig('Boxplot_' + title + '.png')\n",
    "\n",
    "    # Present outliers\n",
    "    print(\"-\"*20, \"\\nOutlier detection:\\n\", \"-\"*20)\n",
    "    print(\"List of outliers:\", {round(value,2) for z_score, value in zip(np.abs(stats.zscore(list_of_values)), list_of_values) if z_score > 3})\n",
    "\n",
    "    # Check for normally distributed\n",
    "    stats.probplot(list_of_values, dist=\"norm\", plot= plt)\n",
    "    plt.show()\n",
    "    plt.savefig('Probabilityplot_' + title + '.png')\n",
    "\n",
    "    # Statistics to check normality\n",
    "    print(\"-\"*20, \"\\nCheck for normal distribution:\\n\", \"-\"*20)\n",
    "    print(\"Skewedness:\", round(stats.skew(list_of_values), 4))\n",
    "    print(\"Kurtosis:\", round(stats.kurtosis(list_of_values), 4))"
   ]
  },
  {
   "cell_type": "code",
   "execution_count": 7,
   "metadata": {
    "ExecuteTime": {
     "end_time": "2019-08-24T17:05:12.228685Z",
     "start_time": "2019-08-24T17:05:12.188521Z"
    }
   },
   "outputs": [],
   "source": [
    "### Function used to split the data into training and test data\n",
    "def data_splitter(df, response_name = 'target', split_threshold = 0.15, seed = 42):\n",
    "    \"\"\"\n",
    "    Function used to split a dataframe into test and training data\n",
    "    \n",
    "    param: df (Panda's dataframe object)\n",
    "    param: response_name (string): The name of the response variable in the dataframe\n",
    "    param: split_threshold (float): The split threshold used\n",
    "    param: seed (int): Integer defining the seed for random split of the data\n",
    "    \n",
    "    return: (tuple) A tuple with four pandas dataframe objects\n",
    "    \"\"\"\n",
    "    # Split the dataframe into features and response variable\n",
    "    df_tmp = df.copy()\n",
    "    x, y = df_tmp.drop([response_name], axis = 1), df[response_name]\n",
    "    # Split the feature and response variable into training and test data\n",
    "    x_train, x_test, y_train, y_test = train_test_split(x, y, test_size = split_threshold, random_state = seed)\n",
    "    return (x_train, x_test, y_train, y_test)"
   ]
  },
  {
   "cell_type": "code",
   "execution_count": 8,
   "metadata": {
    "ExecuteTime": {
     "end_time": "2019-08-24T17:05:12.268353Z",
     "start_time": "2019-08-24T17:05:12.230882Z"
    }
   },
   "outputs": [],
   "source": [
    "### Function used to generate a summary of the input model (binary classes)\n",
    "def binary_class_evaluator(model, x_test, y_test, threshold = 0.5, elasticnet = False):\n",
    "    \"\"\"\n",
    "    Function returning a tuple with sensitivity, specificity and AUC metrics for specific model\n",
    "    \n",
    "    param: model (model): The model we like to evaluate\n",
    "    param: x_test (list): List of lists of numpy arrays\n",
    "    param: y_test (list): Binary values indicating the outcome variable\n",
    "    param: threshold (float): The classification threshold used\n",
    "    param: elasticnet (bool): Booling indicator for specifying whether the model is elastic net based\n",
    "\n",
    "    return: A tuple containing the calculated sensitivity, specificity and AUC metrics\n",
    "    \"\"\"\n",
    "    # Calculate the different summary statistics based on the model and test data\n",
    "    test_data =  list(y_test) \n",
    "    model_preds = list(model.predict(x_test)) if not elasticnet else [1.0 if x > 0 else 0.0 for x in model.predict(x_test)]\n",
    "    model_acc = metrics.accuracy_score(test_data, model_preds)\n",
    "    true_pos = len([mp for mp, td in zip(model_preds, test_data) if mp > threshold and td == 1])\n",
    "    false_neg = len([mp for mp, td in zip(model_preds, test_data) if mp < threshold and td == 1])\n",
    "    true_neg = len([mp for mp, td in zip(model_preds, test_data) if mp < threshold and td == 0])\n",
    "    false_pos = len([mp for mp, td in zip(model_preds, test_data) if mp > threshold and td == 0])\n",
    "    \n",
    "    # Print intermediate summary to the user\n",
    "    print(\"Based on a threshold of\", threshold, \"the following summary statistics can be obtained:\\n\", \"-\"*100)\n",
    "    print(true_pos, \"true positives over all positives (the wins that were correctly classified).\")\n",
    "    print(false_pos, \"false positives (the wins that were wrongly classified).\")\n",
    "    print(true_neg, \"true negatives (the losses that were correctly classified).\")\n",
    "    print(false_neg, \"false negatives (the losses that were wrongly classified).\\n\")\n",
    "    print(\"The sensitivity is: \", true_pos / (true_pos + false_neg))\n",
    "    print(\"The specificity is: \", true_neg / (true_neg + false_pos))\n",
    "    \n",
    "    # Plot the ROC curve for the model\n",
    "    print(\"\\n\\nAccuracy:\", model_acc, \"\\n\", \"-\"*100)\n",
    "    fpr, tpr, _ = metrics.roc_curve(test_data, model_preds)\n",
    "    auc = metrics.roc_auc_score(test_data, model_preds)\n",
    "    plt.plot(fpr, tpr, label= \"auc: \" + str(round(auc, 4)))\n",
    "    plt.legend(loc = 4)\n",
    "    plt.title('ROC curve')\n",
    "    plt.show()\n",
    "    \n",
    "    # Return sensitivity and specificity values to the user \n",
    "    return true_pos / (true_pos + false_neg), true_neg / (true_neg + false_pos), auc, model_acc"
   ]
  },
  {
   "cell_type": "code",
   "execution_count": 9,
   "metadata": {
    "ExecuteTime": {
     "end_time": "2019-08-24T17:05:12.305214Z",
     "start_time": "2019-08-24T17:05:12.270627Z"
    }
   },
   "outputs": [],
   "source": [
    "### Function used to plot the confusion matrix (normalization can be applied if desired)\n",
    "def plot_confusion_matrix(model, x_test, y_test, classes, normalize = False, elasticnet = False, cmap = plt.cm.Blues):\n",
    "    \"\"\"\n",
    "    Function that visualizes the confusion matrix based on the predictions made by the fitted model and their correspondence\n",
    "    to the observed test data. The option is available to return the normalized confusion matrix.\n",
    "    \n",
    "    param: model (model): The model we like to evaluate\n",
    "    param: x_test (list): List of lists of numpy arrays\n",
    "    param: y_test (list): Binary values indicating the outcome variable\n",
    "    param: classes (list): A list of classes that correspond to the numbered labels in the confusion matrix in that order.\n",
    "    param: normalize (bool): Booling indicator for specification of returning the normalized or non-normalized confusion matrix.\n",
    "    param: elasticnet (bool): Booling indicator for specifying whether the model is elastic net based\n",
    "    \"\"\"\n",
    "    # Approximate the confusion matrix based on model predictions\n",
    "    model_preds = list(model.predict(x_test)) if not elasticnet else [1.0 if x > 0 else 0.0 for x in model.predict(x_test)]\n",
    "    cm = sklearn.metrics.confusion_matrix(y_test, model_preds)\n",
    "    \n",
    "    # Normalize the cm if desired\n",
    "    title = 'Normalized confusion matrix' if normalize else 'Confusion matrix'\n",
    "    if normalize:\n",
    "        cm = cm.astype('float') / cm.sum(axis=1)[:, np.newaxis]\n",
    "    \n",
    "    # Create confusion matrix\n",
    "    print(title, \":\\n\", \"-\"*100)\n",
    "    plt.imshow(cm, interpolation='nearest', cmap=cmap)\n",
    "    plt.title(title)\n",
    "    plt.colorbar()\n",
    "    tick_marks = np.arange(len(classes))\n",
    "    plt.xticks(tick_marks, classes, rotation=45)\n",
    "    plt.yticks(tick_marks, classes)\n",
    "    fmt = '.2f' if normalize else 'd'\n",
    "    thresh = cm.max() / 2.\n",
    "    for i, j in itertools.product(range(cm.shape[0]), range(cm.shape[1])):\n",
    "        plt.text(j, i, format(cm[i, j], fmt),\n",
    "                 horizontalalignment=\"center\",\n",
    "                 color=\"white\" if cm[i, j] > thresh else \"black\")\n",
    "\n",
    "    plt.tight_layout()\n",
    "    plt.ylabel('True label')\n",
    "    plt.xlabel('Predicted label')\n",
    "    plt.show()"
   ]
  },
  {
   "cell_type": "code",
   "execution_count": 10,
   "metadata": {
    "ExecuteTime": {
     "end_time": "2019-08-24T17:05:12.358205Z",
     "start_time": "2019-08-24T17:05:12.307123Z"
    }
   },
   "outputs": [],
   "source": [
    "### Function used to extract the top10 most important features based on the magnitute of the coefficients\n",
    "def important_features_extractor(model, fitted_features, top = 10, elasticnet = False):\n",
    "    \"\"\"\n",
    "    Function used to extract a dictionary mapping the features used in the model with the estimates of their coefficients\n",
    "    \n",
    "    param: model (model): The model we like to evaluate.\n",
    "    param: fitted_features (list): List capturing the different features evaluated by the model.\n",
    "    param: top (int): The amount of fetaures you like to be printed as output (sorted based on decreasing importance).\n",
    "    param: elasticnet (bool): Booling indicator for specifying whether the model is elastic net based\n",
    "    return: (dict) A dictionary mapping the features with their corresponding coefficient estimates.\n",
    "    \"\"\"\n",
    "    # Extract model coefficients\n",
    "    coefficients = model.coef_[0] if not elasticnet else model.coef_\n",
    "    coef_dict = {col:coef for col, coef in zip(fitted_features, coefficients)}\n",
    "    coef_dict_abs = {col:abs(round(coef,2)) for col, coef in zip(fitted_features, coefficients)}\n",
    "    sorted_coefs = sorted(coef_dict_abs.items(), key=operator.itemgetter(1), reverse= True)\n",
    "\n",
    "    # Return the top ten most important features and their coefficients\n",
    "    print(\"Summary of the important features and their corresponding coefficients:\\n\", '-'*100)\n",
    "    ret_dict = dict()\n",
    "    for index, (col, abs_score) in enumerate(sorted_coefs):\n",
    "        if index < top:\n",
    "            print(col, ':', coef_dict[col])\n",
    "        ret_dict[col] = coef_dict[col]\n",
    "    return ret_dict"
   ]
  },
  {
   "cell_type": "code",
   "execution_count": 11,
   "metadata": {
    "ExecuteTime": {
     "end_time": "2019-08-24T17:05:12.394265Z",
     "start_time": "2019-08-24T17:05:12.360082Z"
    }
   },
   "outputs": [],
   "source": [
    "### Function used to draw a random sample from the discrete distribution of probabilities representing the input list\n",
    "def RandomSampleProbDist(list_of_values, draws = 1):\n",
    "    \"\"\"\n",
    "    :param: list_of_values (list): A list of categorical values representing the observations in the dataset\n",
    "    :param: draws (int): The number of samples desired to be returned\n",
    "    :return: (array) An array capturing the sampled categories\n",
    "    \"\"\"\n",
    "    # Only the non-missing values are considered in the sampling procedure\n",
    "    non_missing_list = list_of_values.dropna()\n",
    "    # Sample from the discrete probability distribution representing the categorical variable\n",
    "    return list(choice(list(Counter(non_missing_list)), \n",
    "                  draws, \n",
    "                  p = list(map(lambda x: x/len(non_missing_list), \n",
    "                               Counter(non_missing_list).values()))))[0]"
   ]
  },
  {
   "cell_type": "markdown",
   "metadata": {},
   "source": [
    "## 1. Load preprocessed data in environment"
   ]
  },
  {
   "cell_type": "markdown",
   "metadata": {},
   "source": [
    "### 1.1 Load standardized data"
   ]
  },
  {
   "cell_type": "code",
   "execution_count": 12,
   "metadata": {
    "ExecuteTime": {
     "end_time": "2019-08-24T17:05:12.470935Z",
     "start_time": "2019-08-24T17:05:12.396006Z"
    }
   },
   "outputs": [],
   "source": [
    "# Load pickle\n",
    "with open('/home/je32910/MasterThesis_ComputationalStatistics/pickles/' + loaded_std_filename + '.pickle', 'rb') as f:\n",
    "    data_raw = pickle.load(f)"
   ]
  },
  {
   "cell_type": "code",
   "execution_count": 13,
   "metadata": {
    "ExecuteTime": {
     "end_time": "2019-08-24T17:05:12.913783Z",
     "start_time": "2019-08-24T17:05:12.472974Z"
    },
    "scrolled": true
   },
   "outputs": [
    {
     "data": {
      "text/html": [
       "<div>\n",
       "<style scoped>\n",
       "    .dataframe tbody tr th:only-of-type {\n",
       "        vertical-align: middle;\n",
       "    }\n",
       "\n",
       "    .dataframe tbody tr th {\n",
       "        vertical-align: top;\n",
       "    }\n",
       "\n",
       "    .dataframe thead th {\n",
       "        text-align: right;\n",
       "    }\n",
       "</style>\n",
       "<table border=\"1\" class=\"dataframe\">\n",
       "  <thead>\n",
       "    <tr style=\"text-align: right;\">\n",
       "      <th></th>\n",
       "      <th>split</th>\n",
       "      <th>patchno</th>\n",
       "      <th>result</th>\n",
       "      <th>k</th>\n",
       "      <th>d</th>\n",
       "      <th>a</th>\n",
       "      <th>doubles</th>\n",
       "      <th>triples</th>\n",
       "      <th>quadras</th>\n",
       "      <th>fb</th>\n",
       "      <th>...</th>\n",
       "      <th>csdat15</th>\n",
       "      <th>datediff</th>\n",
       "      <th>Encoded_league</th>\n",
       "      <th>Encoded_game</th>\n",
       "      <th>Encoded_side</th>\n",
       "      <th>Encoded_champion</th>\n",
       "      <th>Encoded_Year</th>\n",
       "      <th>Encoded_team</th>\n",
       "      <th>Encoded_culture</th>\n",
       "      <th>player</th>\n",
       "    </tr>\n",
       "  </thead>\n",
       "  <tbody>\n",
       "    <tr>\n",
       "      <th>0</th>\n",
       "      <td>-0.259035</td>\n",
       "      <td>-1.035323</td>\n",
       "      <td>0.0</td>\n",
       "      <td>-0.475354</td>\n",
       "      <td>0.460661</td>\n",
       "      <td>-0.243680</td>\n",
       "      <td>-0.470133</td>\n",
       "      <td>-0.19731</td>\n",
       "      <td>-0.076457</td>\n",
       "      <td>-0.292927</td>\n",
       "      <td>...</td>\n",
       "      <td>-2.208267</td>\n",
       "      <td>0.958407</td>\n",
       "      <td>1.229729</td>\n",
       "      <td>1.192908</td>\n",
       "      <td>-1.0</td>\n",
       "      <td>-0.135388</td>\n",
       "      <td>-1.072695</td>\n",
       "      <td>-0.353946</td>\n",
       "      <td>-0.673941</td>\n",
       "      <td>ian</td>\n",
       "    </tr>\n",
       "    <tr>\n",
       "      <th>1</th>\n",
       "      <td>-0.259035</td>\n",
       "      <td>-1.035323</td>\n",
       "      <td>1.0</td>\n",
       "      <td>-0.475354</td>\n",
       "      <td>0.460661</td>\n",
       "      <td>0.338287</td>\n",
       "      <td>-0.470133</td>\n",
       "      <td>-0.19731</td>\n",
       "      <td>-0.076457</td>\n",
       "      <td>-0.292927</td>\n",
       "      <td>...</td>\n",
       "      <td>2.208267</td>\n",
       "      <td>0.958407</td>\n",
       "      <td>1.229729</td>\n",
       "      <td>1.192908</td>\n",
       "      <td>1.0</td>\n",
       "      <td>-0.732415</td>\n",
       "      <td>-1.072695</td>\n",
       "      <td>0.714599</td>\n",
       "      <td>-0.673941</td>\n",
       "      <td>kuzan</td>\n",
       "    </tr>\n",
       "    <tr>\n",
       "      <th>2</th>\n",
       "      <td>-0.259035</td>\n",
       "      <td>-1.035323</td>\n",
       "      <td>0.0</td>\n",
       "      <td>-0.475354</td>\n",
       "      <td>-0.734039</td>\n",
       "      <td>-1.407614</td>\n",
       "      <td>-0.470133</td>\n",
       "      <td>-0.19731</td>\n",
       "      <td>-0.076457</td>\n",
       "      <td>-0.292927</td>\n",
       "      <td>...</td>\n",
       "      <td>0.245363</td>\n",
       "      <td>0.958407</td>\n",
       "      <td>1.229729</td>\n",
       "      <td>-0.877722</td>\n",
       "      <td>-1.0</td>\n",
       "      <td>-0.135388</td>\n",
       "      <td>-1.072695</td>\n",
       "      <td>0.714599</td>\n",
       "      <td>-0.673941</td>\n",
       "      <td>kuzan</td>\n",
       "    </tr>\n",
       "    <tr>\n",
       "      <th>3</th>\n",
       "      <td>-0.259035</td>\n",
       "      <td>-1.035323</td>\n",
       "      <td>1.0</td>\n",
       "      <td>-0.866934</td>\n",
       "      <td>-0.734039</td>\n",
       "      <td>1.211237</td>\n",
       "      <td>-0.470133</td>\n",
       "      <td>-0.19731</td>\n",
       "      <td>-0.076457</td>\n",
       "      <td>-0.292927</td>\n",
       "      <td>...</td>\n",
       "      <td>-0.245363</td>\n",
       "      <td>0.958407</td>\n",
       "      <td>1.229729</td>\n",
       "      <td>-0.877722</td>\n",
       "      <td>1.0</td>\n",
       "      <td>-0.545844</td>\n",
       "      <td>-1.072695</td>\n",
       "      <td>-0.353946</td>\n",
       "      <td>-0.673941</td>\n",
       "      <td>ian</td>\n",
       "    </tr>\n",
       "    <tr>\n",
       "      <th>4</th>\n",
       "      <td>-0.259035</td>\n",
       "      <td>-1.035323</td>\n",
       "      <td>1.0</td>\n",
       "      <td>0.307807</td>\n",
       "      <td>1.058011</td>\n",
       "      <td>1.502220</td>\n",
       "      <td>1.278943</td>\n",
       "      <td>-0.19731</td>\n",
       "      <td>-0.076457</td>\n",
       "      <td>-0.292927</td>\n",
       "      <td>...</td>\n",
       "      <td>-1.104133</td>\n",
       "      <td>0.958407</td>\n",
       "      <td>1.229729</td>\n",
       "      <td>-0.748308</td>\n",
       "      <td>-1.0</td>\n",
       "      <td>-0.545844</td>\n",
       "      <td>-1.072695</td>\n",
       "      <td>-0.353946</td>\n",
       "      <td>-0.673941</td>\n",
       "      <td>ian</td>\n",
       "    </tr>\n",
       "    <tr>\n",
       "      <th>5</th>\n",
       "      <td>-0.259035</td>\n",
       "      <td>-1.035323</td>\n",
       "      <td>0.0</td>\n",
       "      <td>-0.475354</td>\n",
       "      <td>-0.136689</td>\n",
       "      <td>-0.243680</td>\n",
       "      <td>-0.470133</td>\n",
       "      <td>-0.19731</td>\n",
       "      <td>-0.076457</td>\n",
       "      <td>3.413819</td>\n",
       "      <td>...</td>\n",
       "      <td>1.104133</td>\n",
       "      <td>0.958407</td>\n",
       "      <td>1.229729</td>\n",
       "      <td>-0.748308</td>\n",
       "      <td>1.0</td>\n",
       "      <td>1.581062</td>\n",
       "      <td>-1.072695</td>\n",
       "      <td>0.714599</td>\n",
       "      <td>-0.673941</td>\n",
       "      <td>kuzan</td>\n",
       "    </tr>\n",
       "    <tr>\n",
       "      <th>6</th>\n",
       "      <td>-0.259035</td>\n",
       "      <td>-1.035323</td>\n",
       "      <td>1.0</td>\n",
       "      <td>1.090969</td>\n",
       "      <td>-1.331389</td>\n",
       "      <td>0.047303</td>\n",
       "      <td>1.278943</td>\n",
       "      <td>-0.19731</td>\n",
       "      <td>-0.076457</td>\n",
       "      <td>-0.292927</td>\n",
       "      <td>...</td>\n",
       "      <td>1.104133</td>\n",
       "      <td>0.958407</td>\n",
       "      <td>1.229729</td>\n",
       "      <td>1.192908</td>\n",
       "      <td>-1.0</td>\n",
       "      <td>-0.732415</td>\n",
       "      <td>-1.072695</td>\n",
       "      <td>1.550852</td>\n",
       "      <td>-0.673941</td>\n",
       "      <td>bdd</td>\n",
       "    </tr>\n",
       "    <tr>\n",
       "      <th>7</th>\n",
       "      <td>-0.259035</td>\n",
       "      <td>-1.035323</td>\n",
       "      <td>0.0</td>\n",
       "      <td>-0.866934</td>\n",
       "      <td>1.058011</td>\n",
       "      <td>-0.534664</td>\n",
       "      <td>-0.470133</td>\n",
       "      <td>-0.19731</td>\n",
       "      <td>-0.076457</td>\n",
       "      <td>-0.292927</td>\n",
       "      <td>...</td>\n",
       "      <td>-1.104133</td>\n",
       "      <td>0.958407</td>\n",
       "      <td>1.229729</td>\n",
       "      <td>1.192908</td>\n",
       "      <td>1.0</td>\n",
       "      <td>-0.135388</td>\n",
       "      <td>-1.072695</td>\n",
       "      <td>-0.470092</td>\n",
       "      <td>-0.673941</td>\n",
       "      <td>pawn</td>\n",
       "    </tr>\n",
       "    <tr>\n",
       "      <th>8</th>\n",
       "      <td>-0.259035</td>\n",
       "      <td>-1.035323</td>\n",
       "      <td>0.0</td>\n",
       "      <td>-1.258515</td>\n",
       "      <td>1.655361</td>\n",
       "      <td>-1.116631</td>\n",
       "      <td>-0.470133</td>\n",
       "      <td>-0.19731</td>\n",
       "      <td>-0.076457</td>\n",
       "      <td>-0.292927</td>\n",
       "      <td>...</td>\n",
       "      <td>-2.146926</td>\n",
       "      <td>0.958407</td>\n",
       "      <td>1.229729</td>\n",
       "      <td>-0.877722</td>\n",
       "      <td>-1.0</td>\n",
       "      <td>0.648209</td>\n",
       "      <td>-1.072695</td>\n",
       "      <td>-0.470092</td>\n",
       "      <td>-0.673941</td>\n",
       "      <td>pawn</td>\n",
       "    </tr>\n",
       "    <tr>\n",
       "      <th>9</th>\n",
       "      <td>-0.259035</td>\n",
       "      <td>-1.035323</td>\n",
       "      <td>1.0</td>\n",
       "      <td>1.090969</td>\n",
       "      <td>-1.331389</td>\n",
       "      <td>0.047303</td>\n",
       "      <td>3.028019</td>\n",
       "      <td>-0.19731</td>\n",
       "      <td>-0.076457</td>\n",
       "      <td>3.413819</td>\n",
       "      <td>...</td>\n",
       "      <td>2.146926</td>\n",
       "      <td>0.958407</td>\n",
       "      <td>1.229729</td>\n",
       "      <td>-0.877722</td>\n",
       "      <td>1.0</td>\n",
       "      <td>-0.732415</td>\n",
       "      <td>-1.072695</td>\n",
       "      <td>1.550852</td>\n",
       "      <td>-0.673941</td>\n",
       "      <td>bdd</td>\n",
       "    </tr>\n",
       "    <tr>\n",
       "      <th>10</th>\n",
       "      <td>-0.259035</td>\n",
       "      <td>-1.035323</td>\n",
       "      <td>1.0</td>\n",
       "      <td>1.874130</td>\n",
       "      <td>-0.734039</td>\n",
       "      <td>0.629270</td>\n",
       "      <td>-0.470133</td>\n",
       "      <td>-0.19731</td>\n",
       "      <td>-0.076457</td>\n",
       "      <td>-0.292927</td>\n",
       "      <td>...</td>\n",
       "      <td>1.717541</td>\n",
       "      <td>0.955488</td>\n",
       "      <td>1.229729</td>\n",
       "      <td>1.192908</td>\n",
       "      <td>-1.0</td>\n",
       "      <td>0.163125</td>\n",
       "      <td>-1.072695</td>\n",
       "      <td>0.644911</td>\n",
       "      <td>-0.673941</td>\n",
       "      <td>cepted</td>\n",
       "    </tr>\n",
       "    <tr>\n",
       "      <th>11</th>\n",
       "      <td>-0.259035</td>\n",
       "      <td>-1.035323</td>\n",
       "      <td>0.0</td>\n",
       "      <td>-0.866934</td>\n",
       "      <td>0.460661</td>\n",
       "      <td>-0.534664</td>\n",
       "      <td>-0.470133</td>\n",
       "      <td>-0.19731</td>\n",
       "      <td>-0.076457</td>\n",
       "      <td>3.413819</td>\n",
       "      <td>...</td>\n",
       "      <td>-1.717541</td>\n",
       "      <td>0.955488</td>\n",
       "      <td>1.229729</td>\n",
       "      <td>1.192908</td>\n",
       "      <td>1.0</td>\n",
       "      <td>-0.135388</td>\n",
       "      <td>-1.072695</td>\n",
       "      <td>-0.864989</td>\n",
       "      <td>-0.673941</td>\n",
       "      <td>kuro</td>\n",
       "    </tr>\n",
       "    <tr>\n",
       "      <th>12</th>\n",
       "      <td>-0.259035</td>\n",
       "      <td>-1.035323</td>\n",
       "      <td>1.0</td>\n",
       "      <td>0.307807</td>\n",
       "      <td>-0.136689</td>\n",
       "      <td>0.629270</td>\n",
       "      <td>1.278943</td>\n",
       "      <td>-0.19731</td>\n",
       "      <td>-0.076457</td>\n",
       "      <td>-0.292927</td>\n",
       "      <td>...</td>\n",
       "      <td>-0.797430</td>\n",
       "      <td>0.955488</td>\n",
       "      <td>1.229729</td>\n",
       "      <td>-0.877722</td>\n",
       "      <td>-1.0</td>\n",
       "      <td>-0.993614</td>\n",
       "      <td>-1.072695</td>\n",
       "      <td>-0.864989</td>\n",
       "      <td>-0.673941</td>\n",
       "      <td>kuro</td>\n",
       "    </tr>\n",
       "    <tr>\n",
       "      <th>13</th>\n",
       "      <td>-0.259035</td>\n",
       "      <td>-1.035323</td>\n",
       "      <td>0.0</td>\n",
       "      <td>0.307807</td>\n",
       "      <td>-0.734039</td>\n",
       "      <td>0.338287</td>\n",
       "      <td>-0.470133</td>\n",
       "      <td>-0.19731</td>\n",
       "      <td>-0.076457</td>\n",
       "      <td>-0.292927</td>\n",
       "      <td>...</td>\n",
       "      <td>0.797430</td>\n",
       "      <td>0.955488</td>\n",
       "      <td>1.229729</td>\n",
       "      <td>-0.877722</td>\n",
       "      <td>1.0</td>\n",
       "      <td>-0.732415</td>\n",
       "      <td>-1.072695</td>\n",
       "      <td>0.644911</td>\n",
       "      <td>-0.673941</td>\n",
       "      <td>cepted</td>\n",
       "    </tr>\n",
       "    <tr>\n",
       "      <th>14</th>\n",
       "      <td>-0.259035</td>\n",
       "      <td>-1.035323</td>\n",
       "      <td>0.0</td>\n",
       "      <td>-1.258515</td>\n",
       "      <td>0.460661</td>\n",
       "      <td>-0.534664</td>\n",
       "      <td>-0.470133</td>\n",
       "      <td>-0.19731</td>\n",
       "      <td>-0.076457</td>\n",
       "      <td>-0.292927</td>\n",
       "      <td>...</td>\n",
       "      <td>-0.122681</td>\n",
       "      <td>0.955488</td>\n",
       "      <td>1.229729</td>\n",
       "      <td>-0.877722</td>\n",
       "      <td>-1.0</td>\n",
       "      <td>-0.993614</td>\n",
       "      <td>-1.072695</td>\n",
       "      <td>1.225642</td>\n",
       "      <td>-0.673941</td>\n",
       "      <td>faker</td>\n",
       "    </tr>\n",
       "    <tr>\n",
       "      <th>15</th>\n",
       "      <td>-0.259035</td>\n",
       "      <td>-1.035323</td>\n",
       "      <td>1.0</td>\n",
       "      <td>1.482549</td>\n",
       "      <td>-0.734039</td>\n",
       "      <td>0.920254</td>\n",
       "      <td>3.028019</td>\n",
       "      <td>-0.19731</td>\n",
       "      <td>-0.076457</td>\n",
       "      <td>3.413819</td>\n",
       "      <td>...</td>\n",
       "      <td>0.122681</td>\n",
       "      <td>0.955488</td>\n",
       "      <td>1.229729</td>\n",
       "      <td>-0.877722</td>\n",
       "      <td>1.0</td>\n",
       "      <td>0.163125</td>\n",
       "      <td>-1.072695</td>\n",
       "      <td>0.830745</td>\n",
       "      <td>-0.673941</td>\n",
       "      <td>crown</td>\n",
       "    </tr>\n",
       "    <tr>\n",
       "      <th>16</th>\n",
       "      <td>-0.259035</td>\n",
       "      <td>-1.035323</td>\n",
       "      <td>1.0</td>\n",
       "      <td>-0.083773</td>\n",
       "      <td>-0.734039</td>\n",
       "      <td>0.047303</td>\n",
       "      <td>1.278943</td>\n",
       "      <td>-0.19731</td>\n",
       "      <td>-0.076457</td>\n",
       "      <td>-0.292927</td>\n",
       "      <td>...</td>\n",
       "      <td>0.368044</td>\n",
       "      <td>0.952567</td>\n",
       "      <td>-1.653366</td>\n",
       "      <td>1.192908</td>\n",
       "      <td>-1.0</td>\n",
       "      <td>-1.142870</td>\n",
       "      <td>-1.072695</td>\n",
       "      <td>0.853975</td>\n",
       "      <td>-0.166244</td>\n",
       "      <td>febiven</td>\n",
       "    </tr>\n",
       "    <tr>\n",
       "      <th>17</th>\n",
       "      <td>-0.259035</td>\n",
       "      <td>-1.035323</td>\n",
       "      <td>0.0</td>\n",
       "      <td>-0.866934</td>\n",
       "      <td>-1.331389</td>\n",
       "      <td>-0.243680</td>\n",
       "      <td>-0.470133</td>\n",
       "      <td>-0.19731</td>\n",
       "      <td>-0.076457</td>\n",
       "      <td>-0.292927</td>\n",
       "      <td>...</td>\n",
       "      <td>-0.368044</td>\n",
       "      <td>0.952567</td>\n",
       "      <td>-1.653366</td>\n",
       "      <td>1.192908</td>\n",
       "      <td>1.0</td>\n",
       "      <td>-0.732415</td>\n",
       "      <td>-1.072695</td>\n",
       "      <td>-0.098424</td>\n",
       "      <td>-0.166244</td>\n",
       "      <td>sencux</td>\n",
       "    </tr>\n",
       "    <tr>\n",
       "      <th>18</th>\n",
       "      <td>-0.259035</td>\n",
       "      <td>-1.035323</td>\n",
       "      <td>0.0</td>\n",
       "      <td>-0.475354</td>\n",
       "      <td>1.655361</td>\n",
       "      <td>-0.825647</td>\n",
       "      <td>-0.470133</td>\n",
       "      <td>-0.19731</td>\n",
       "      <td>-0.076457</td>\n",
       "      <td>-0.292927</td>\n",
       "      <td>...</td>\n",
       "      <td>-0.306704</td>\n",
       "      <td>0.952567</td>\n",
       "      <td>-1.653366</td>\n",
       "      <td>-0.877722</td>\n",
       "      <td>-1.0</td>\n",
       "      <td>0.275067</td>\n",
       "      <td>-1.072695</td>\n",
       "      <td>-0.098424</td>\n",
       "      <td>-0.166244</td>\n",
       "      <td>sencux</td>\n",
       "    </tr>\n",
       "    <tr>\n",
       "      <th>19</th>\n",
       "      <td>-0.259035</td>\n",
       "      <td>-1.035323</td>\n",
       "      <td>1.0</td>\n",
       "      <td>1.482549</td>\n",
       "      <td>-1.331389</td>\n",
       "      <td>1.211237</td>\n",
       "      <td>3.028019</td>\n",
       "      <td>-0.19731</td>\n",
       "      <td>-0.076457</td>\n",
       "      <td>-0.292927</td>\n",
       "      <td>...</td>\n",
       "      <td>0.306704</td>\n",
       "      <td>0.952567</td>\n",
       "      <td>-1.653366</td>\n",
       "      <td>-0.877722</td>\n",
       "      <td>1.0</td>\n",
       "      <td>-0.732415</td>\n",
       "      <td>-1.072695</td>\n",
       "      <td>0.853975</td>\n",
       "      <td>-0.166244</td>\n",
       "      <td>febiven</td>\n",
       "    </tr>\n",
       "    <tr>\n",
       "      <th>20</th>\n",
       "      <td>-0.259035</td>\n",
       "      <td>-1.035323</td>\n",
       "      <td>1.0</td>\n",
       "      <td>-0.083773</td>\n",
       "      <td>-0.136689</td>\n",
       "      <td>0.047303</td>\n",
       "      <td>-0.470133</td>\n",
       "      <td>-0.19731</td>\n",
       "      <td>-0.076457</td>\n",
       "      <td>-0.292927</td>\n",
       "      <td>...</td>\n",
       "      <td>-0.368044</td>\n",
       "      <td>0.952567</td>\n",
       "      <td>1.229729</td>\n",
       "      <td>-0.877722</td>\n",
       "      <td>-1.0</td>\n",
       "      <td>-0.172702</td>\n",
       "      <td>-1.072695</td>\n",
       "      <td>0.040951</td>\n",
       "      <td>-0.673941</td>\n",
       "      <td>tempt</td>\n",
       "    </tr>\n",
       "    <tr>\n",
       "      <th>21</th>\n",
       "      <td>-0.259035</td>\n",
       "      <td>-1.035323</td>\n",
       "      <td>0.0</td>\n",
       "      <td>0.307807</td>\n",
       "      <td>-0.734039</td>\n",
       "      <td>-0.534664</td>\n",
       "      <td>-0.470133</td>\n",
       "      <td>-0.19731</td>\n",
       "      <td>-0.076457</td>\n",
       "      <td>-0.292927</td>\n",
       "      <td>...</td>\n",
       "      <td>0.368044</td>\n",
       "      <td>0.952567</td>\n",
       "      <td>1.229729</td>\n",
       "      <td>-0.877722</td>\n",
       "      <td>1.0</td>\n",
       "      <td>-0.956299</td>\n",
       "      <td>-1.072695</td>\n",
       "      <td>1.550852</td>\n",
       "      <td>-0.673941</td>\n",
       "      <td>bdd</td>\n",
       "    </tr>\n",
       "    <tr>\n",
       "      <th>22</th>\n",
       "      <td>-0.259035</td>\n",
       "      <td>-1.035323</td>\n",
       "      <td>1.0</td>\n",
       "      <td>0.699388</td>\n",
       "      <td>-0.734039</td>\n",
       "      <td>0.629270</td>\n",
       "      <td>-0.470133</td>\n",
       "      <td>-0.19731</td>\n",
       "      <td>-0.076457</td>\n",
       "      <td>-0.292927</td>\n",
       "      <td>...</td>\n",
       "      <td>-0.122681</td>\n",
       "      <td>0.952567</td>\n",
       "      <td>1.229729</td>\n",
       "      <td>-0.748308</td>\n",
       "      <td>-1.0</td>\n",
       "      <td>-0.956299</td>\n",
       "      <td>-1.072695</td>\n",
       "      <td>1.550852</td>\n",
       "      <td>-0.673941</td>\n",
       "      <td>bdd</td>\n",
       "    </tr>\n",
       "    <tr>\n",
       "      <th>23</th>\n",
       "      <td>-0.259035</td>\n",
       "      <td>-1.035323</td>\n",
       "      <td>0.0</td>\n",
       "      <td>-1.258515</td>\n",
       "      <td>1.058011</td>\n",
       "      <td>-0.825647</td>\n",
       "      <td>-0.470133</td>\n",
       "      <td>-0.19731</td>\n",
       "      <td>-0.076457</td>\n",
       "      <td>-0.292927</td>\n",
       "      <td>...</td>\n",
       "      <td>0.122681</td>\n",
       "      <td>0.952567</td>\n",
       "      <td>1.229729</td>\n",
       "      <td>-0.748308</td>\n",
       "      <td>1.0</td>\n",
       "      <td>-0.135388</td>\n",
       "      <td>-1.072695</td>\n",
       "      <td>0.040951</td>\n",
       "      <td>-0.673941</td>\n",
       "      <td>tempt</td>\n",
       "    </tr>\n",
       "    <tr>\n",
       "      <th>24</th>\n",
       "      <td>-0.259035</td>\n",
       "      <td>-1.035323</td>\n",
       "      <td>0.0</td>\n",
       "      <td>-1.258515</td>\n",
       "      <td>0.460661</td>\n",
       "      <td>0.338287</td>\n",
       "      <td>-0.470133</td>\n",
       "      <td>-0.19731</td>\n",
       "      <td>-0.076457</td>\n",
       "      <td>-0.292927</td>\n",
       "      <td>...</td>\n",
       "      <td>-0.736089</td>\n",
       "      <td>0.952567</td>\n",
       "      <td>1.229729</td>\n",
       "      <td>1.192908</td>\n",
       "      <td>-1.0</td>\n",
       "      <td>-0.732415</td>\n",
       "      <td>-1.072695</td>\n",
       "      <td>-1.445720</td>\n",
       "      <td>-0.673941</td>\n",
       "      <td>mickey</td>\n",
       "    </tr>\n",
       "    <tr>\n",
       "      <th>25</th>\n",
       "      <td>-0.259035</td>\n",
       "      <td>-1.035323</td>\n",
       "      <td>1.0</td>\n",
       "      <td>-0.475354</td>\n",
       "      <td>-0.734039</td>\n",
       "      <td>0.629270</td>\n",
       "      <td>-0.470133</td>\n",
       "      <td>-0.19731</td>\n",
       "      <td>-0.076457</td>\n",
       "      <td>-0.292927</td>\n",
       "      <td>...</td>\n",
       "      <td>0.736089</td>\n",
       "      <td>0.952567</td>\n",
       "      <td>1.229729</td>\n",
       "      <td>1.192908</td>\n",
       "      <td>1.0</td>\n",
       "      <td>-0.993614</td>\n",
       "      <td>-1.072695</td>\n",
       "      <td>0.714599</td>\n",
       "      <td>-0.673941</td>\n",
       "      <td>kuzan</td>\n",
       "    </tr>\n",
       "    <tr>\n",
       "      <th>26</th>\n",
       "      <td>-0.259035</td>\n",
       "      <td>-1.035323</td>\n",
       "      <td>1.0</td>\n",
       "      <td>-0.866934</td>\n",
       "      <td>-1.331389</td>\n",
       "      <td>0.629270</td>\n",
       "      <td>-0.470133</td>\n",
       "      <td>-0.19731</td>\n",
       "      <td>-0.076457</td>\n",
       "      <td>-0.292927</td>\n",
       "      <td>...</td>\n",
       "      <td>0.920111</td>\n",
       "      <td>0.952567</td>\n",
       "      <td>1.229729</td>\n",
       "      <td>-0.877722</td>\n",
       "      <td>-1.0</td>\n",
       "      <td>-0.993614</td>\n",
       "      <td>-1.072695</td>\n",
       "      <td>0.714599</td>\n",
       "      <td>-0.673941</td>\n",
       "      <td>kuzan</td>\n",
       "    </tr>\n",
       "    <tr>\n",
       "      <th>27</th>\n",
       "      <td>-0.259035</td>\n",
       "      <td>-1.035323</td>\n",
       "      <td>0.0</td>\n",
       "      <td>-1.258515</td>\n",
       "      <td>-0.136689</td>\n",
       "      <td>-1.116631</td>\n",
       "      <td>-0.470133</td>\n",
       "      <td>-0.19731</td>\n",
       "      <td>-0.076457</td>\n",
       "      <td>-0.292927</td>\n",
       "      <td>...</td>\n",
       "      <td>-0.920111</td>\n",
       "      <td>0.952567</td>\n",
       "      <td>1.229729</td>\n",
       "      <td>-0.877722</td>\n",
       "      <td>1.0</td>\n",
       "      <td>-1.627954</td>\n",
       "      <td>-1.072695</td>\n",
       "      <td>-1.445720</td>\n",
       "      <td>-0.673941</td>\n",
       "      <td>mickey</td>\n",
       "    </tr>\n",
       "    <tr>\n",
       "      <th>28</th>\n",
       "      <td>-0.259035</td>\n",
       "      <td>-1.035323</td>\n",
       "      <td>1.0</td>\n",
       "      <td>1.482549</td>\n",
       "      <td>-0.734039</td>\n",
       "      <td>0.047303</td>\n",
       "      <td>-0.470133</td>\n",
       "      <td>-0.19731</td>\n",
       "      <td>-0.076457</td>\n",
       "      <td>-0.292927</td>\n",
       "      <td>...</td>\n",
       "      <td>-0.184022</td>\n",
       "      <td>0.952567</td>\n",
       "      <td>-1.653366</td>\n",
       "      <td>1.192908</td>\n",
       "      <td>-1.0</td>\n",
       "      <td>-0.135388</td>\n",
       "      <td>-1.072695</td>\n",
       "      <td>-0.144883</td>\n",
       "      <td>-0.166244</td>\n",
       "      <td>caps</td>\n",
       "    </tr>\n",
       "    <tr>\n",
       "      <th>29</th>\n",
       "      <td>-0.259035</td>\n",
       "      <td>-1.035323</td>\n",
       "      <td>0.0</td>\n",
       "      <td>-0.083773</td>\n",
       "      <td>-0.136689</td>\n",
       "      <td>-0.825647</td>\n",
       "      <td>1.278943</td>\n",
       "      <td>-0.19731</td>\n",
       "      <td>-0.076457</td>\n",
       "      <td>-0.292927</td>\n",
       "      <td>...</td>\n",
       "      <td>0.184022</td>\n",
       "      <td>0.952567</td>\n",
       "      <td>-1.653366</td>\n",
       "      <td>1.192908</td>\n",
       "      <td>1.0</td>\n",
       "      <td>0.163125</td>\n",
       "      <td>-1.072695</td>\n",
       "      <td>-1.050823</td>\n",
       "      <td>-0.166244</td>\n",
       "      <td>powerofevil</td>\n",
       "    </tr>\n",
       "    <tr>\n",
       "      <th>...</th>\n",
       "      <td>...</td>\n",
       "      <td>...</td>\n",
       "      <td>...</td>\n",
       "      <td>...</td>\n",
       "      <td>...</td>\n",
       "      <td>...</td>\n",
       "      <td>...</td>\n",
       "      <td>...</td>\n",
       "      <td>...</td>\n",
       "      <td>...</td>\n",
       "      <td>...</td>\n",
       "      <td>...</td>\n",
       "      <td>...</td>\n",
       "      <td>...</td>\n",
       "      <td>...</td>\n",
       "      <td>...</td>\n",
       "      <td>...</td>\n",
       "      <td>...</td>\n",
       "      <td>...</td>\n",
       "      <td>...</td>\n",
       "      <td>...</td>\n",
       "    </tr>\n",
       "    <tr>\n",
       "      <th>15484</th>\n",
       "      <td>1.140389</td>\n",
       "      <td>1.710932</td>\n",
       "      <td>1.0</td>\n",
       "      <td>0.307807</td>\n",
       "      <td>0.460661</td>\n",
       "      <td>1.793204</td>\n",
       "      <td>-0.470133</td>\n",
       "      <td>-0.19731</td>\n",
       "      <td>-0.076457</td>\n",
       "      <td>-0.292927</td>\n",
       "      <td>...</td>\n",
       "      <td>0.000000</td>\n",
       "      <td>0.115573</td>\n",
       "      <td>0.460904</td>\n",
       "      <td>1.192908</td>\n",
       "      <td>-1.0</td>\n",
       "      <td>-1.254813</td>\n",
       "      <td>1.463557</td>\n",
       "      <td>-0.423633</td>\n",
       "      <td>0.849151</td>\n",
       "      <td>fenfen</td>\n",
       "    </tr>\n",
       "    <tr>\n",
       "      <th>15485</th>\n",
       "      <td>1.140389</td>\n",
       "      <td>1.710932</td>\n",
       "      <td>0.0</td>\n",
       "      <td>-1.258515</td>\n",
       "      <td>1.655361</td>\n",
       "      <td>-0.825647</td>\n",
       "      <td>-0.470133</td>\n",
       "      <td>-0.19731</td>\n",
       "      <td>-0.076457</td>\n",
       "      <td>-0.292927</td>\n",
       "      <td>...</td>\n",
       "      <td>0.000000</td>\n",
       "      <td>0.115573</td>\n",
       "      <td>0.460904</td>\n",
       "      <td>1.192908</td>\n",
       "      <td>1.0</td>\n",
       "      <td>-0.545844</td>\n",
       "      <td>1.463557</td>\n",
       "      <td>-0.888218</td>\n",
       "      <td>0.849151</td>\n",
       "      <td>maple</td>\n",
       "    </tr>\n",
       "    <tr>\n",
       "      <th>15486</th>\n",
       "      <td>1.140389</td>\n",
       "      <td>1.710932</td>\n",
       "      <td>0.0</td>\n",
       "      <td>1.482549</td>\n",
       "      <td>0.460661</td>\n",
       "      <td>0.338287</td>\n",
       "      <td>-0.470133</td>\n",
       "      <td>-0.19731</td>\n",
       "      <td>-0.076457</td>\n",
       "      <td>-0.292927</td>\n",
       "      <td>...</td>\n",
       "      <td>0.000000</td>\n",
       "      <td>0.115573</td>\n",
       "      <td>0.460904</td>\n",
       "      <td>-0.877722</td>\n",
       "      <td>-1.0</td>\n",
       "      <td>-1.068242</td>\n",
       "      <td>1.463557</td>\n",
       "      <td>-0.888218</td>\n",
       "      <td>0.849151</td>\n",
       "      <td>maple</td>\n",
       "    </tr>\n",
       "    <tr>\n",
       "      <th>15487</th>\n",
       "      <td>1.140389</td>\n",
       "      <td>1.710932</td>\n",
       "      <td>1.0</td>\n",
       "      <td>0.699388</td>\n",
       "      <td>1.058011</td>\n",
       "      <td>1.793204</td>\n",
       "      <td>-0.470133</td>\n",
       "      <td>-0.19731</td>\n",
       "      <td>-0.076457</td>\n",
       "      <td>-0.292927</td>\n",
       "      <td>...</td>\n",
       "      <td>0.000000</td>\n",
       "      <td>0.115573</td>\n",
       "      <td>0.460904</td>\n",
       "      <td>-0.877722</td>\n",
       "      <td>1.0</td>\n",
       "      <td>1.021350</td>\n",
       "      <td>1.463557</td>\n",
       "      <td>-0.423633</td>\n",
       "      <td>0.849151</td>\n",
       "      <td>fenfen</td>\n",
       "    </tr>\n",
       "    <tr>\n",
       "      <th>15488</th>\n",
       "      <td>1.140389</td>\n",
       "      <td>1.710932</td>\n",
       "      <td>1.0</td>\n",
       "      <td>-0.083773</td>\n",
       "      <td>1.655361</td>\n",
       "      <td>-0.243680</td>\n",
       "      <td>-0.470133</td>\n",
       "      <td>-0.19731</td>\n",
       "      <td>-0.076457</td>\n",
       "      <td>-0.292927</td>\n",
       "      <td>...</td>\n",
       "      <td>0.000000</td>\n",
       "      <td>0.115573</td>\n",
       "      <td>0.460904</td>\n",
       "      <td>1.192908</td>\n",
       "      <td>-1.0</td>\n",
       "      <td>-1.068242</td>\n",
       "      <td>1.463557</td>\n",
       "      <td>0.528765</td>\n",
       "      <td>0.849151</td>\n",
       "      <td>kuro</td>\n",
       "    </tr>\n",
       "    <tr>\n",
       "      <th>15489</th>\n",
       "      <td>1.140389</td>\n",
       "      <td>1.710932</td>\n",
       "      <td>0.0</td>\n",
       "      <td>1.482549</td>\n",
       "      <td>1.058011</td>\n",
       "      <td>-0.243680</td>\n",
       "      <td>-0.470133</td>\n",
       "      <td>-0.19731</td>\n",
       "      <td>-0.076457</td>\n",
       "      <td>-0.292927</td>\n",
       "      <td>...</td>\n",
       "      <td>0.000000</td>\n",
       "      <td>0.115573</td>\n",
       "      <td>0.460904</td>\n",
       "      <td>1.192908</td>\n",
       "      <td>1.0</td>\n",
       "      <td>-1.030928</td>\n",
       "      <td>1.463557</td>\n",
       "      <td>0.807516</td>\n",
       "      <td>0.849151</td>\n",
       "      <td>xiaohu</td>\n",
       "    </tr>\n",
       "    <tr>\n",
       "      <th>15490</th>\n",
       "      <td>1.140389</td>\n",
       "      <td>1.710932</td>\n",
       "      <td>1.0</td>\n",
       "      <td>-0.475354</td>\n",
       "      <td>-0.734039</td>\n",
       "      <td>0.338287</td>\n",
       "      <td>-0.470133</td>\n",
       "      <td>-0.19731</td>\n",
       "      <td>-0.076457</td>\n",
       "      <td>-0.292927</td>\n",
       "      <td>...</td>\n",
       "      <td>0.000000</td>\n",
       "      <td>0.115573</td>\n",
       "      <td>0.460904</td>\n",
       "      <td>-0.877722</td>\n",
       "      <td>-1.0</td>\n",
       "      <td>-1.068242</td>\n",
       "      <td>1.463557</td>\n",
       "      <td>0.528765</td>\n",
       "      <td>0.849151</td>\n",
       "      <td>kuro</td>\n",
       "    </tr>\n",
       "    <tr>\n",
       "      <th>15491</th>\n",
       "      <td>1.140389</td>\n",
       "      <td>1.710932</td>\n",
       "      <td>0.0</td>\n",
       "      <td>-0.866934</td>\n",
       "      <td>-0.734039</td>\n",
       "      <td>-0.243680</td>\n",
       "      <td>-0.470133</td>\n",
       "      <td>-0.19731</td>\n",
       "      <td>-0.076457</td>\n",
       "      <td>-0.292927</td>\n",
       "      <td>...</td>\n",
       "      <td>0.000000</td>\n",
       "      <td>0.115573</td>\n",
       "      <td>0.460904</td>\n",
       "      <td>-0.877722</td>\n",
       "      <td>1.0</td>\n",
       "      <td>-0.135388</td>\n",
       "      <td>1.463557</td>\n",
       "      <td>0.807516</td>\n",
       "      <td>0.849151</td>\n",
       "      <td>xiaohu</td>\n",
       "    </tr>\n",
       "    <tr>\n",
       "      <th>15492</th>\n",
       "      <td>1.140389</td>\n",
       "      <td>1.710932</td>\n",
       "      <td>0.0</td>\n",
       "      <td>-0.083773</td>\n",
       "      <td>1.655361</td>\n",
       "      <td>0.047303</td>\n",
       "      <td>-0.470133</td>\n",
       "      <td>-0.19731</td>\n",
       "      <td>-0.076457</td>\n",
       "      <td>-0.292927</td>\n",
       "      <td>...</td>\n",
       "      <td>0.000000</td>\n",
       "      <td>0.115573</td>\n",
       "      <td>0.460904</td>\n",
       "      <td>1.192908</td>\n",
       "      <td>-1.0</td>\n",
       "      <td>1.021350</td>\n",
       "      <td>1.463557</td>\n",
       "      <td>-0.284258</td>\n",
       "      <td>0.849151</td>\n",
       "      <td>huatian</td>\n",
       "    </tr>\n",
       "    <tr>\n",
       "      <th>15493</th>\n",
       "      <td>1.140389</td>\n",
       "      <td>1.710932</td>\n",
       "      <td>1.0</td>\n",
       "      <td>0.307807</td>\n",
       "      <td>-0.734039</td>\n",
       "      <td>0.047303</td>\n",
       "      <td>-0.470133</td>\n",
       "      <td>-0.19731</td>\n",
       "      <td>-0.076457</td>\n",
       "      <td>-0.292927</td>\n",
       "      <td>...</td>\n",
       "      <td>0.000000</td>\n",
       "      <td>0.115573</td>\n",
       "      <td>0.460904</td>\n",
       "      <td>1.192908</td>\n",
       "      <td>1.0</td>\n",
       "      <td>-1.254813</td>\n",
       "      <td>1.463557</td>\n",
       "      <td>-1.097281</td>\n",
       "      <td>0.849151</td>\n",
       "      <td>rookie</td>\n",
       "    </tr>\n",
       "    <tr>\n",
       "      <th>15494</th>\n",
       "      <td>1.140389</td>\n",
       "      <td>1.710932</td>\n",
       "      <td>0.0</td>\n",
       "      <td>-1.258515</td>\n",
       "      <td>4.044760</td>\n",
       "      <td>0.338287</td>\n",
       "      <td>-0.470133</td>\n",
       "      <td>-0.19731</td>\n",
       "      <td>-0.076457</td>\n",
       "      <td>-0.292927</td>\n",
       "      <td>...</td>\n",
       "      <td>0.000000</td>\n",
       "      <td>0.115573</td>\n",
       "      <td>0.460904</td>\n",
       "      <td>-0.877722</td>\n",
       "      <td>-1.0</td>\n",
       "      <td>-1.068242</td>\n",
       "      <td>1.463557</td>\n",
       "      <td>-0.284258</td>\n",
       "      <td>0.849151</td>\n",
       "      <td>huatian</td>\n",
       "    </tr>\n",
       "    <tr>\n",
       "      <th>15495</th>\n",
       "      <td>1.140389</td>\n",
       "      <td>1.710932</td>\n",
       "      <td>1.0</td>\n",
       "      <td>0.699388</td>\n",
       "      <td>-0.136689</td>\n",
       "      <td>3.248121</td>\n",
       "      <td>-0.470133</td>\n",
       "      <td>-0.19731</td>\n",
       "      <td>-0.076457</td>\n",
       "      <td>-0.292927</td>\n",
       "      <td>...</td>\n",
       "      <td>0.000000</td>\n",
       "      <td>0.115573</td>\n",
       "      <td>0.460904</td>\n",
       "      <td>-0.877722</td>\n",
       "      <td>1.0</td>\n",
       "      <td>-0.545844</td>\n",
       "      <td>1.463557</td>\n",
       "      <td>-1.097281</td>\n",
       "      <td>0.849151</td>\n",
       "      <td>rookie</td>\n",
       "    </tr>\n",
       "    <tr>\n",
       "      <th>15496</th>\n",
       "      <td>1.140389</td>\n",
       "      <td>1.710932</td>\n",
       "      <td>0.0</td>\n",
       "      <td>-1.258515</td>\n",
       "      <td>2.252711</td>\n",
       "      <td>-1.407614</td>\n",
       "      <td>-0.470133</td>\n",
       "      <td>-0.19731</td>\n",
       "      <td>-0.076457</td>\n",
       "      <td>-0.292927</td>\n",
       "      <td>...</td>\n",
       "      <td>0.000000</td>\n",
       "      <td>0.115573</td>\n",
       "      <td>0.460904</td>\n",
       "      <td>1.192908</td>\n",
       "      <td>-1.0</td>\n",
       "      <td>0.088497</td>\n",
       "      <td>1.463557</td>\n",
       "      <td>-0.284258</td>\n",
       "      <td>0.849151</td>\n",
       "      <td>huatian</td>\n",
       "    </tr>\n",
       "    <tr>\n",
       "      <th>15497</th>\n",
       "      <td>1.140389</td>\n",
       "      <td>1.710932</td>\n",
       "      <td>1.0</td>\n",
       "      <td>2.657291</td>\n",
       "      <td>-0.734039</td>\n",
       "      <td>0.047303</td>\n",
       "      <td>-0.470133</td>\n",
       "      <td>-0.19731</td>\n",
       "      <td>-0.076457</td>\n",
       "      <td>-0.292927</td>\n",
       "      <td>...</td>\n",
       "      <td>0.000000</td>\n",
       "      <td>0.115573</td>\n",
       "      <td>0.460904</td>\n",
       "      <td>1.192908</td>\n",
       "      <td>1.0</td>\n",
       "      <td>-1.254813</td>\n",
       "      <td>1.463557</td>\n",
       "      <td>-0.539779</td>\n",
       "      <td>0.849151</td>\n",
       "      <td>jay</td>\n",
       "    </tr>\n",
       "    <tr>\n",
       "      <th>15498</th>\n",
       "      <td>1.140389</td>\n",
       "      <td>1.710932</td>\n",
       "      <td>0.0</td>\n",
       "      <td>0.307807</td>\n",
       "      <td>1.655361</td>\n",
       "      <td>-0.243680</td>\n",
       "      <td>-0.470133</td>\n",
       "      <td>-0.19731</td>\n",
       "      <td>-0.076457</td>\n",
       "      <td>-0.292927</td>\n",
       "      <td>...</td>\n",
       "      <td>0.000000</td>\n",
       "      <td>0.115573</td>\n",
       "      <td>0.460904</td>\n",
       "      <td>-0.877722</td>\n",
       "      <td>-1.0</td>\n",
       "      <td>-1.030928</td>\n",
       "      <td>1.463557</td>\n",
       "      <td>-0.539779</td>\n",
       "      <td>0.849151</td>\n",
       "      <td>jay</td>\n",
       "    </tr>\n",
       "    <tr>\n",
       "      <th>15499</th>\n",
       "      <td>1.140389</td>\n",
       "      <td>1.710932</td>\n",
       "      <td>1.0</td>\n",
       "      <td>0.307807</td>\n",
       "      <td>2.252711</td>\n",
       "      <td>0.920254</td>\n",
       "      <td>-0.470133</td>\n",
       "      <td>-0.19731</td>\n",
       "      <td>-0.076457</td>\n",
       "      <td>-0.292927</td>\n",
       "      <td>...</td>\n",
       "      <td>0.000000</td>\n",
       "      <td>0.115573</td>\n",
       "      <td>0.460904</td>\n",
       "      <td>-0.877722</td>\n",
       "      <td>1.0</td>\n",
       "      <td>0.461638</td>\n",
       "      <td>1.463557</td>\n",
       "      <td>-0.284258</td>\n",
       "      <td>0.849151</td>\n",
       "      <td>huatian</td>\n",
       "    </tr>\n",
       "    <tr>\n",
       "      <th>15500</th>\n",
       "      <td>1.140389</td>\n",
       "      <td>1.710932</td>\n",
       "      <td>0.0</td>\n",
       "      <td>-0.475354</td>\n",
       "      <td>1.058011</td>\n",
       "      <td>-0.243680</td>\n",
       "      <td>-0.470133</td>\n",
       "      <td>-0.19731</td>\n",
       "      <td>-0.076457</td>\n",
       "      <td>-0.292927</td>\n",
       "      <td>...</td>\n",
       "      <td>0.000000</td>\n",
       "      <td>0.115573</td>\n",
       "      <td>0.460904</td>\n",
       "      <td>-0.748308</td>\n",
       "      <td>-1.0</td>\n",
       "      <td>0.275067</td>\n",
       "      <td>1.463557</td>\n",
       "      <td>-0.539779</td>\n",
       "      <td>0.849151</td>\n",
       "      <td>jay</td>\n",
       "    </tr>\n",
       "    <tr>\n",
       "      <th>15501</th>\n",
       "      <td>1.140389</td>\n",
       "      <td>1.710932</td>\n",
       "      <td>1.0</td>\n",
       "      <td>-0.083773</td>\n",
       "      <td>0.460661</td>\n",
       "      <td>1.211237</td>\n",
       "      <td>-0.470133</td>\n",
       "      <td>-0.19731</td>\n",
       "      <td>-0.076457</td>\n",
       "      <td>-0.292927</td>\n",
       "      <td>...</td>\n",
       "      <td>0.000000</td>\n",
       "      <td>0.115573</td>\n",
       "      <td>0.460904</td>\n",
       "      <td>-0.748308</td>\n",
       "      <td>1.0</td>\n",
       "      <td>-1.030928</td>\n",
       "      <td>1.463557</td>\n",
       "      <td>-0.284258</td>\n",
       "      <td>0.849151</td>\n",
       "      <td>huatian</td>\n",
       "    </tr>\n",
       "    <tr>\n",
       "      <th>15502</th>\n",
       "      <td>1.140389</td>\n",
       "      <td>1.710932</td>\n",
       "      <td>1.0</td>\n",
       "      <td>0.307807</td>\n",
       "      <td>-0.734039</td>\n",
       "      <td>0.920254</td>\n",
       "      <td>-0.470133</td>\n",
       "      <td>-0.19731</td>\n",
       "      <td>-0.076457</td>\n",
       "      <td>-0.292927</td>\n",
       "      <td>...</td>\n",
       "      <td>0.000000</td>\n",
       "      <td>0.115573</td>\n",
       "      <td>0.460904</td>\n",
       "      <td>1.192908</td>\n",
       "      <td>-1.0</td>\n",
       "      <td>0.200439</td>\n",
       "      <td>1.463557</td>\n",
       "      <td>-1.376032</td>\n",
       "      <td>0.849151</td>\n",
       "      <td>tian</td>\n",
       "    </tr>\n",
       "    <tr>\n",
       "      <th>15503</th>\n",
       "      <td>1.140389</td>\n",
       "      <td>1.710932</td>\n",
       "      <td>0.0</td>\n",
       "      <td>-0.475354</td>\n",
       "      <td>1.655361</td>\n",
       "      <td>-0.243680</td>\n",
       "      <td>-0.470133</td>\n",
       "      <td>-0.19731</td>\n",
       "      <td>-0.076457</td>\n",
       "      <td>-0.292927</td>\n",
       "      <td>...</td>\n",
       "      <td>0.000000</td>\n",
       "      <td>0.115573</td>\n",
       "      <td>0.460904</td>\n",
       "      <td>1.192908</td>\n",
       "      <td>1.0</td>\n",
       "      <td>0.610895</td>\n",
       "      <td>1.463557</td>\n",
       "      <td>-1.213427</td>\n",
       "      <td>0.849151</td>\n",
       "      <td>knight9</td>\n",
       "    </tr>\n",
       "    <tr>\n",
       "      <th>15504</th>\n",
       "      <td>1.140389</td>\n",
       "      <td>1.710932</td>\n",
       "      <td>1.0</td>\n",
       "      <td>-0.866934</td>\n",
       "      <td>0.460661</td>\n",
       "      <td>2.084187</td>\n",
       "      <td>-0.470133</td>\n",
       "      <td>-0.19731</td>\n",
       "      <td>-0.076457</td>\n",
       "      <td>-0.292927</td>\n",
       "      <td>...</td>\n",
       "      <td>0.000000</td>\n",
       "      <td>0.115573</td>\n",
       "      <td>0.460904</td>\n",
       "      <td>-0.877722</td>\n",
       "      <td>-1.0</td>\n",
       "      <td>0.685523</td>\n",
       "      <td>1.463557</td>\n",
       "      <td>-1.376032</td>\n",
       "      <td>0.849151</td>\n",
       "      <td>doinb</td>\n",
       "    </tr>\n",
       "    <tr>\n",
       "      <th>15505</th>\n",
       "      <td>1.140389</td>\n",
       "      <td>1.710932</td>\n",
       "      <td>0.0</td>\n",
       "      <td>0.307807</td>\n",
       "      <td>2.850060</td>\n",
       "      <td>0.920254</td>\n",
       "      <td>-0.470133</td>\n",
       "      <td>-0.19731</td>\n",
       "      <td>-0.076457</td>\n",
       "      <td>-0.292927</td>\n",
       "      <td>...</td>\n",
       "      <td>0.000000</td>\n",
       "      <td>0.115573</td>\n",
       "      <td>0.460904</td>\n",
       "      <td>-0.877722</td>\n",
       "      <td>1.0</td>\n",
       "      <td>-1.516012</td>\n",
       "      <td>1.463557</td>\n",
       "      <td>-1.213427</td>\n",
       "      <td>0.849151</td>\n",
       "      <td>knight9</td>\n",
       "    </tr>\n",
       "    <tr>\n",
       "      <th>15506</th>\n",
       "      <td>1.140389</td>\n",
       "      <td>1.710932</td>\n",
       "      <td>0.0</td>\n",
       "      <td>-1.258515</td>\n",
       "      <td>1.655361</td>\n",
       "      <td>-1.116631</td>\n",
       "      <td>-0.470133</td>\n",
       "      <td>-0.19731</td>\n",
       "      <td>-0.076457</td>\n",
       "      <td>-0.292927</td>\n",
       "      <td>...</td>\n",
       "      <td>0.000000</td>\n",
       "      <td>0.115573</td>\n",
       "      <td>0.460904</td>\n",
       "      <td>1.192908</td>\n",
       "      <td>-1.0</td>\n",
       "      <td>0.461638</td>\n",
       "      <td>1.463557</td>\n",
       "      <td>1.388247</td>\n",
       "      <td>0.849151</td>\n",
       "      <td>icon</td>\n",
       "    </tr>\n",
       "    <tr>\n",
       "      <th>15507</th>\n",
       "      <td>1.140389</td>\n",
       "      <td>1.710932</td>\n",
       "      <td>1.0</td>\n",
       "      <td>0.699388</td>\n",
       "      <td>-1.331389</td>\n",
       "      <td>0.629270</td>\n",
       "      <td>-0.470133</td>\n",
       "      <td>-0.19731</td>\n",
       "      <td>-0.076457</td>\n",
       "      <td>-0.292927</td>\n",
       "      <td>...</td>\n",
       "      <td>0.000000</td>\n",
       "      <td>0.115573</td>\n",
       "      <td>0.460904</td>\n",
       "      <td>1.192908</td>\n",
       "      <td>1.0</td>\n",
       "      <td>0.498952</td>\n",
       "      <td>1.463557</td>\n",
       "      <td>-1.213427</td>\n",
       "      <td>0.849151</td>\n",
       "      <td>knight9</td>\n",
       "    </tr>\n",
       "    <tr>\n",
       "      <th>15508</th>\n",
       "      <td>1.140389</td>\n",
       "      <td>1.710932</td>\n",
       "      <td>1.0</td>\n",
       "      <td>0.699388</td>\n",
       "      <td>-0.734039</td>\n",
       "      <td>-1.407614</td>\n",
       "      <td>-0.470133</td>\n",
       "      <td>-0.19731</td>\n",
       "      <td>-0.076457</td>\n",
       "      <td>-0.292927</td>\n",
       "      <td>...</td>\n",
       "      <td>0.000000</td>\n",
       "      <td>0.115573</td>\n",
       "      <td>0.460904</td>\n",
       "      <td>-0.877722</td>\n",
       "      <td>-1.0</td>\n",
       "      <td>0.088497</td>\n",
       "      <td>1.463557</td>\n",
       "      <td>-1.213427</td>\n",
       "      <td>0.849151</td>\n",
       "      <td>knight9</td>\n",
       "    </tr>\n",
       "    <tr>\n",
       "      <th>15509</th>\n",
       "      <td>1.140389</td>\n",
       "      <td>1.710932</td>\n",
       "      <td>0.0</td>\n",
       "      <td>-0.475354</td>\n",
       "      <td>-0.136689</td>\n",
       "      <td>-1.407614</td>\n",
       "      <td>-0.470133</td>\n",
       "      <td>-0.19731</td>\n",
       "      <td>-0.076457</td>\n",
       "      <td>-0.292927</td>\n",
       "      <td>...</td>\n",
       "      <td>0.000000</td>\n",
       "      <td>0.115573</td>\n",
       "      <td>0.460904</td>\n",
       "      <td>-0.877722</td>\n",
       "      <td>1.0</td>\n",
       "      <td>-1.030928</td>\n",
       "      <td>1.463557</td>\n",
       "      <td>1.388247</td>\n",
       "      <td>0.849151</td>\n",
       "      <td>icon</td>\n",
       "    </tr>\n",
       "    <tr>\n",
       "      <th>15510</th>\n",
       "      <td>1.140389</td>\n",
       "      <td>1.710932</td>\n",
       "      <td>0.0</td>\n",
       "      <td>-1.258515</td>\n",
       "      <td>2.252711</td>\n",
       "      <td>-1.116631</td>\n",
       "      <td>-0.470133</td>\n",
       "      <td>-0.19731</td>\n",
       "      <td>-0.076457</td>\n",
       "      <td>-0.292927</td>\n",
       "      <td>...</td>\n",
       "      <td>0.000000</td>\n",
       "      <td>0.115573</td>\n",
       "      <td>0.460904</td>\n",
       "      <td>1.192908</td>\n",
       "      <td>-1.0</td>\n",
       "      <td>0.088497</td>\n",
       "      <td>1.463557</td>\n",
       "      <td>1.411476</td>\n",
       "      <td>0.849151</td>\n",
       "      <td>otto</td>\n",
       "    </tr>\n",
       "    <tr>\n",
       "      <th>15511</th>\n",
       "      <td>1.140389</td>\n",
       "      <td>1.710932</td>\n",
       "      <td>1.0</td>\n",
       "      <td>2.657291</td>\n",
       "      <td>-1.331389</td>\n",
       "      <td>0.338287</td>\n",
       "      <td>-0.470133</td>\n",
       "      <td>-0.19731</td>\n",
       "      <td>-0.076457</td>\n",
       "      <td>-0.292927</td>\n",
       "      <td>...</td>\n",
       "      <td>0.000000</td>\n",
       "      <td>0.115573</td>\n",
       "      <td>0.460904</td>\n",
       "      <td>1.192908</td>\n",
       "      <td>1.0</td>\n",
       "      <td>1.021350</td>\n",
       "      <td>1.463557</td>\n",
       "      <td>-0.261029</td>\n",
       "      <td>0.849151</td>\n",
       "      <td>xiye</td>\n",
       "    </tr>\n",
       "    <tr>\n",
       "      <th>15512</th>\n",
       "      <td>1.140389</td>\n",
       "      <td>1.710932</td>\n",
       "      <td>0.0</td>\n",
       "      <td>-0.083773</td>\n",
       "      <td>2.252711</td>\n",
       "      <td>-0.825647</td>\n",
       "      <td>-0.470133</td>\n",
       "      <td>-0.19731</td>\n",
       "      <td>-0.076457</td>\n",
       "      <td>-0.292927</td>\n",
       "      <td>...</td>\n",
       "      <td>0.000000</td>\n",
       "      <td>0.115573</td>\n",
       "      <td>0.460904</td>\n",
       "      <td>-0.877722</td>\n",
       "      <td>-1.0</td>\n",
       "      <td>0.498952</td>\n",
       "      <td>1.463557</td>\n",
       "      <td>1.411476</td>\n",
       "      <td>0.849151</td>\n",
       "      <td>windy</td>\n",
       "    </tr>\n",
       "    <tr>\n",
       "      <th>15513</th>\n",
       "      <td>1.140389</td>\n",
       "      <td>1.710932</td>\n",
       "      <td>1.0</td>\n",
       "      <td>0.307807</td>\n",
       "      <td>1.058011</td>\n",
       "      <td>3.539105</td>\n",
       "      <td>-0.470133</td>\n",
       "      <td>-0.19731</td>\n",
       "      <td>-0.076457</td>\n",
       "      <td>-0.292927</td>\n",
       "      <td>...</td>\n",
       "      <td>0.000000</td>\n",
       "      <td>0.115573</td>\n",
       "      <td>0.460904</td>\n",
       "      <td>-0.877722</td>\n",
       "      <td>1.0</td>\n",
       "      <td>0.461638</td>\n",
       "      <td>1.463557</td>\n",
       "      <td>-0.261029</td>\n",
       "      <td>0.849151</td>\n",
       "      <td>xiye</td>\n",
       "    </tr>\n",
       "  </tbody>\n",
       "</table>\n",
       "<p>15514 rows × 60 columns</p>\n",
       "</div>"
      ],
      "text/plain": [
       "          split   patchno  result         k         d         a   doubles  \\\n",
       "0     -0.259035 -1.035323     0.0 -0.475354  0.460661 -0.243680 -0.470133   \n",
       "1     -0.259035 -1.035323     1.0 -0.475354  0.460661  0.338287 -0.470133   \n",
       "2     -0.259035 -1.035323     0.0 -0.475354 -0.734039 -1.407614 -0.470133   \n",
       "3     -0.259035 -1.035323     1.0 -0.866934 -0.734039  1.211237 -0.470133   \n",
       "4     -0.259035 -1.035323     1.0  0.307807  1.058011  1.502220  1.278943   \n",
       "5     -0.259035 -1.035323     0.0 -0.475354 -0.136689 -0.243680 -0.470133   \n",
       "6     -0.259035 -1.035323     1.0  1.090969 -1.331389  0.047303  1.278943   \n",
       "7     -0.259035 -1.035323     0.0 -0.866934  1.058011 -0.534664 -0.470133   \n",
       "8     -0.259035 -1.035323     0.0 -1.258515  1.655361 -1.116631 -0.470133   \n",
       "9     -0.259035 -1.035323     1.0  1.090969 -1.331389  0.047303  3.028019   \n",
       "10    -0.259035 -1.035323     1.0  1.874130 -0.734039  0.629270 -0.470133   \n",
       "11    -0.259035 -1.035323     0.0 -0.866934  0.460661 -0.534664 -0.470133   \n",
       "12    -0.259035 -1.035323     1.0  0.307807 -0.136689  0.629270  1.278943   \n",
       "13    -0.259035 -1.035323     0.0  0.307807 -0.734039  0.338287 -0.470133   \n",
       "14    -0.259035 -1.035323     0.0 -1.258515  0.460661 -0.534664 -0.470133   \n",
       "15    -0.259035 -1.035323     1.0  1.482549 -0.734039  0.920254  3.028019   \n",
       "16    -0.259035 -1.035323     1.0 -0.083773 -0.734039  0.047303  1.278943   \n",
       "17    -0.259035 -1.035323     0.0 -0.866934 -1.331389 -0.243680 -0.470133   \n",
       "18    -0.259035 -1.035323     0.0 -0.475354  1.655361 -0.825647 -0.470133   \n",
       "19    -0.259035 -1.035323     1.0  1.482549 -1.331389  1.211237  3.028019   \n",
       "20    -0.259035 -1.035323     1.0 -0.083773 -0.136689  0.047303 -0.470133   \n",
       "21    -0.259035 -1.035323     0.0  0.307807 -0.734039 -0.534664 -0.470133   \n",
       "22    -0.259035 -1.035323     1.0  0.699388 -0.734039  0.629270 -0.470133   \n",
       "23    -0.259035 -1.035323     0.0 -1.258515  1.058011 -0.825647 -0.470133   \n",
       "24    -0.259035 -1.035323     0.0 -1.258515  0.460661  0.338287 -0.470133   \n",
       "25    -0.259035 -1.035323     1.0 -0.475354 -0.734039  0.629270 -0.470133   \n",
       "26    -0.259035 -1.035323     1.0 -0.866934 -1.331389  0.629270 -0.470133   \n",
       "27    -0.259035 -1.035323     0.0 -1.258515 -0.136689 -1.116631 -0.470133   \n",
       "28    -0.259035 -1.035323     1.0  1.482549 -0.734039  0.047303 -0.470133   \n",
       "29    -0.259035 -1.035323     0.0 -0.083773 -0.136689 -0.825647  1.278943   \n",
       "...         ...       ...     ...       ...       ...       ...       ...   \n",
       "15484  1.140389  1.710932     1.0  0.307807  0.460661  1.793204 -0.470133   \n",
       "15485  1.140389  1.710932     0.0 -1.258515  1.655361 -0.825647 -0.470133   \n",
       "15486  1.140389  1.710932     0.0  1.482549  0.460661  0.338287 -0.470133   \n",
       "15487  1.140389  1.710932     1.0  0.699388  1.058011  1.793204 -0.470133   \n",
       "15488  1.140389  1.710932     1.0 -0.083773  1.655361 -0.243680 -0.470133   \n",
       "15489  1.140389  1.710932     0.0  1.482549  1.058011 -0.243680 -0.470133   \n",
       "15490  1.140389  1.710932     1.0 -0.475354 -0.734039  0.338287 -0.470133   \n",
       "15491  1.140389  1.710932     0.0 -0.866934 -0.734039 -0.243680 -0.470133   \n",
       "15492  1.140389  1.710932     0.0 -0.083773  1.655361  0.047303 -0.470133   \n",
       "15493  1.140389  1.710932     1.0  0.307807 -0.734039  0.047303 -0.470133   \n",
       "15494  1.140389  1.710932     0.0 -1.258515  4.044760  0.338287 -0.470133   \n",
       "15495  1.140389  1.710932     1.0  0.699388 -0.136689  3.248121 -0.470133   \n",
       "15496  1.140389  1.710932     0.0 -1.258515  2.252711 -1.407614 -0.470133   \n",
       "15497  1.140389  1.710932     1.0  2.657291 -0.734039  0.047303 -0.470133   \n",
       "15498  1.140389  1.710932     0.0  0.307807  1.655361 -0.243680 -0.470133   \n",
       "15499  1.140389  1.710932     1.0  0.307807  2.252711  0.920254 -0.470133   \n",
       "15500  1.140389  1.710932     0.0 -0.475354  1.058011 -0.243680 -0.470133   \n",
       "15501  1.140389  1.710932     1.0 -0.083773  0.460661  1.211237 -0.470133   \n",
       "15502  1.140389  1.710932     1.0  0.307807 -0.734039  0.920254 -0.470133   \n",
       "15503  1.140389  1.710932     0.0 -0.475354  1.655361 -0.243680 -0.470133   \n",
       "15504  1.140389  1.710932     1.0 -0.866934  0.460661  2.084187 -0.470133   \n",
       "15505  1.140389  1.710932     0.0  0.307807  2.850060  0.920254 -0.470133   \n",
       "15506  1.140389  1.710932     0.0 -1.258515  1.655361 -1.116631 -0.470133   \n",
       "15507  1.140389  1.710932     1.0  0.699388 -1.331389  0.629270 -0.470133   \n",
       "15508  1.140389  1.710932     1.0  0.699388 -0.734039 -1.407614 -0.470133   \n",
       "15509  1.140389  1.710932     0.0 -0.475354 -0.136689 -1.407614 -0.470133   \n",
       "15510  1.140389  1.710932     0.0 -1.258515  2.252711 -1.116631 -0.470133   \n",
       "15511  1.140389  1.710932     1.0  2.657291 -1.331389  0.338287 -0.470133   \n",
       "15512  1.140389  1.710932     0.0 -0.083773  2.252711 -0.825647 -0.470133   \n",
       "15513  1.140389  1.710932     1.0  0.307807  1.058011  3.539105 -0.470133   \n",
       "\n",
       "       triples   quadras        fb  ...   csdat15  datediff  Encoded_league  \\\n",
       "0     -0.19731 -0.076457 -0.292927  ... -2.208267  0.958407        1.229729   \n",
       "1     -0.19731 -0.076457 -0.292927  ...  2.208267  0.958407        1.229729   \n",
       "2     -0.19731 -0.076457 -0.292927  ...  0.245363  0.958407        1.229729   \n",
       "3     -0.19731 -0.076457 -0.292927  ... -0.245363  0.958407        1.229729   \n",
       "4     -0.19731 -0.076457 -0.292927  ... -1.104133  0.958407        1.229729   \n",
       "5     -0.19731 -0.076457  3.413819  ...  1.104133  0.958407        1.229729   \n",
       "6     -0.19731 -0.076457 -0.292927  ...  1.104133  0.958407        1.229729   \n",
       "7     -0.19731 -0.076457 -0.292927  ... -1.104133  0.958407        1.229729   \n",
       "8     -0.19731 -0.076457 -0.292927  ... -2.146926  0.958407        1.229729   \n",
       "9     -0.19731 -0.076457  3.413819  ...  2.146926  0.958407        1.229729   \n",
       "10    -0.19731 -0.076457 -0.292927  ...  1.717541  0.955488        1.229729   \n",
       "11    -0.19731 -0.076457  3.413819  ... -1.717541  0.955488        1.229729   \n",
       "12    -0.19731 -0.076457 -0.292927  ... -0.797430  0.955488        1.229729   \n",
       "13    -0.19731 -0.076457 -0.292927  ...  0.797430  0.955488        1.229729   \n",
       "14    -0.19731 -0.076457 -0.292927  ... -0.122681  0.955488        1.229729   \n",
       "15    -0.19731 -0.076457  3.413819  ...  0.122681  0.955488        1.229729   \n",
       "16    -0.19731 -0.076457 -0.292927  ...  0.368044  0.952567       -1.653366   \n",
       "17    -0.19731 -0.076457 -0.292927  ... -0.368044  0.952567       -1.653366   \n",
       "18    -0.19731 -0.076457 -0.292927  ... -0.306704  0.952567       -1.653366   \n",
       "19    -0.19731 -0.076457 -0.292927  ...  0.306704  0.952567       -1.653366   \n",
       "20    -0.19731 -0.076457 -0.292927  ... -0.368044  0.952567        1.229729   \n",
       "21    -0.19731 -0.076457 -0.292927  ...  0.368044  0.952567        1.229729   \n",
       "22    -0.19731 -0.076457 -0.292927  ... -0.122681  0.952567        1.229729   \n",
       "23    -0.19731 -0.076457 -0.292927  ...  0.122681  0.952567        1.229729   \n",
       "24    -0.19731 -0.076457 -0.292927  ... -0.736089  0.952567        1.229729   \n",
       "25    -0.19731 -0.076457 -0.292927  ...  0.736089  0.952567        1.229729   \n",
       "26    -0.19731 -0.076457 -0.292927  ...  0.920111  0.952567        1.229729   \n",
       "27    -0.19731 -0.076457 -0.292927  ... -0.920111  0.952567        1.229729   \n",
       "28    -0.19731 -0.076457 -0.292927  ... -0.184022  0.952567       -1.653366   \n",
       "29    -0.19731 -0.076457 -0.292927  ...  0.184022  0.952567       -1.653366   \n",
       "...        ...       ...       ...  ...       ...       ...             ...   \n",
       "15484 -0.19731 -0.076457 -0.292927  ...  0.000000  0.115573        0.460904   \n",
       "15485 -0.19731 -0.076457 -0.292927  ...  0.000000  0.115573        0.460904   \n",
       "15486 -0.19731 -0.076457 -0.292927  ...  0.000000  0.115573        0.460904   \n",
       "15487 -0.19731 -0.076457 -0.292927  ...  0.000000  0.115573        0.460904   \n",
       "15488 -0.19731 -0.076457 -0.292927  ...  0.000000  0.115573        0.460904   \n",
       "15489 -0.19731 -0.076457 -0.292927  ...  0.000000  0.115573        0.460904   \n",
       "15490 -0.19731 -0.076457 -0.292927  ...  0.000000  0.115573        0.460904   \n",
       "15491 -0.19731 -0.076457 -0.292927  ...  0.000000  0.115573        0.460904   \n",
       "15492 -0.19731 -0.076457 -0.292927  ...  0.000000  0.115573        0.460904   \n",
       "15493 -0.19731 -0.076457 -0.292927  ...  0.000000  0.115573        0.460904   \n",
       "15494 -0.19731 -0.076457 -0.292927  ...  0.000000  0.115573        0.460904   \n",
       "15495 -0.19731 -0.076457 -0.292927  ...  0.000000  0.115573        0.460904   \n",
       "15496 -0.19731 -0.076457 -0.292927  ...  0.000000  0.115573        0.460904   \n",
       "15497 -0.19731 -0.076457 -0.292927  ...  0.000000  0.115573        0.460904   \n",
       "15498 -0.19731 -0.076457 -0.292927  ...  0.000000  0.115573        0.460904   \n",
       "15499 -0.19731 -0.076457 -0.292927  ...  0.000000  0.115573        0.460904   \n",
       "15500 -0.19731 -0.076457 -0.292927  ...  0.000000  0.115573        0.460904   \n",
       "15501 -0.19731 -0.076457 -0.292927  ...  0.000000  0.115573        0.460904   \n",
       "15502 -0.19731 -0.076457 -0.292927  ...  0.000000  0.115573        0.460904   \n",
       "15503 -0.19731 -0.076457 -0.292927  ...  0.000000  0.115573        0.460904   \n",
       "15504 -0.19731 -0.076457 -0.292927  ...  0.000000  0.115573        0.460904   \n",
       "15505 -0.19731 -0.076457 -0.292927  ...  0.000000  0.115573        0.460904   \n",
       "15506 -0.19731 -0.076457 -0.292927  ...  0.000000  0.115573        0.460904   \n",
       "15507 -0.19731 -0.076457 -0.292927  ...  0.000000  0.115573        0.460904   \n",
       "15508 -0.19731 -0.076457 -0.292927  ...  0.000000  0.115573        0.460904   \n",
       "15509 -0.19731 -0.076457 -0.292927  ...  0.000000  0.115573        0.460904   \n",
       "15510 -0.19731 -0.076457 -0.292927  ...  0.000000  0.115573        0.460904   \n",
       "15511 -0.19731 -0.076457 -0.292927  ...  0.000000  0.115573        0.460904   \n",
       "15512 -0.19731 -0.076457 -0.292927  ...  0.000000  0.115573        0.460904   \n",
       "15513 -0.19731 -0.076457 -0.292927  ...  0.000000  0.115573        0.460904   \n",
       "\n",
       "       Encoded_game  Encoded_side  Encoded_champion  Encoded_Year  \\\n",
       "0          1.192908          -1.0         -0.135388     -1.072695   \n",
       "1          1.192908           1.0         -0.732415     -1.072695   \n",
       "2         -0.877722          -1.0         -0.135388     -1.072695   \n",
       "3         -0.877722           1.0         -0.545844     -1.072695   \n",
       "4         -0.748308          -1.0         -0.545844     -1.072695   \n",
       "5         -0.748308           1.0          1.581062     -1.072695   \n",
       "6          1.192908          -1.0         -0.732415     -1.072695   \n",
       "7          1.192908           1.0         -0.135388     -1.072695   \n",
       "8         -0.877722          -1.0          0.648209     -1.072695   \n",
       "9         -0.877722           1.0         -0.732415     -1.072695   \n",
       "10         1.192908          -1.0          0.163125     -1.072695   \n",
       "11         1.192908           1.0         -0.135388     -1.072695   \n",
       "12        -0.877722          -1.0         -0.993614     -1.072695   \n",
       "13        -0.877722           1.0         -0.732415     -1.072695   \n",
       "14        -0.877722          -1.0         -0.993614     -1.072695   \n",
       "15        -0.877722           1.0          0.163125     -1.072695   \n",
       "16         1.192908          -1.0         -1.142870     -1.072695   \n",
       "17         1.192908           1.0         -0.732415     -1.072695   \n",
       "18        -0.877722          -1.0          0.275067     -1.072695   \n",
       "19        -0.877722           1.0         -0.732415     -1.072695   \n",
       "20        -0.877722          -1.0         -0.172702     -1.072695   \n",
       "21        -0.877722           1.0         -0.956299     -1.072695   \n",
       "22        -0.748308          -1.0         -0.956299     -1.072695   \n",
       "23        -0.748308           1.0         -0.135388     -1.072695   \n",
       "24         1.192908          -1.0         -0.732415     -1.072695   \n",
       "25         1.192908           1.0         -0.993614     -1.072695   \n",
       "26        -0.877722          -1.0         -0.993614     -1.072695   \n",
       "27        -0.877722           1.0         -1.627954     -1.072695   \n",
       "28         1.192908          -1.0         -0.135388     -1.072695   \n",
       "29         1.192908           1.0          0.163125     -1.072695   \n",
       "...             ...           ...               ...           ...   \n",
       "15484      1.192908          -1.0         -1.254813      1.463557   \n",
       "15485      1.192908           1.0         -0.545844      1.463557   \n",
       "15486     -0.877722          -1.0         -1.068242      1.463557   \n",
       "15487     -0.877722           1.0          1.021350      1.463557   \n",
       "15488      1.192908          -1.0         -1.068242      1.463557   \n",
       "15489      1.192908           1.0         -1.030928      1.463557   \n",
       "15490     -0.877722          -1.0         -1.068242      1.463557   \n",
       "15491     -0.877722           1.0         -0.135388      1.463557   \n",
       "15492      1.192908          -1.0          1.021350      1.463557   \n",
       "15493      1.192908           1.0         -1.254813      1.463557   \n",
       "15494     -0.877722          -1.0         -1.068242      1.463557   \n",
       "15495     -0.877722           1.0         -0.545844      1.463557   \n",
       "15496      1.192908          -1.0          0.088497      1.463557   \n",
       "15497      1.192908           1.0         -1.254813      1.463557   \n",
       "15498     -0.877722          -1.0         -1.030928      1.463557   \n",
       "15499     -0.877722           1.0          0.461638      1.463557   \n",
       "15500     -0.748308          -1.0          0.275067      1.463557   \n",
       "15501     -0.748308           1.0         -1.030928      1.463557   \n",
       "15502      1.192908          -1.0          0.200439      1.463557   \n",
       "15503      1.192908           1.0          0.610895      1.463557   \n",
       "15504     -0.877722          -1.0          0.685523      1.463557   \n",
       "15505     -0.877722           1.0         -1.516012      1.463557   \n",
       "15506      1.192908          -1.0          0.461638      1.463557   \n",
       "15507      1.192908           1.0          0.498952      1.463557   \n",
       "15508     -0.877722          -1.0          0.088497      1.463557   \n",
       "15509     -0.877722           1.0         -1.030928      1.463557   \n",
       "15510      1.192908          -1.0          0.088497      1.463557   \n",
       "15511      1.192908           1.0          1.021350      1.463557   \n",
       "15512     -0.877722          -1.0          0.498952      1.463557   \n",
       "15513     -0.877722           1.0          0.461638      1.463557   \n",
       "\n",
       "       Encoded_team  Encoded_culture       player  \n",
       "0         -0.353946        -0.673941          ian  \n",
       "1          0.714599        -0.673941        kuzan  \n",
       "2          0.714599        -0.673941        kuzan  \n",
       "3         -0.353946        -0.673941          ian  \n",
       "4         -0.353946        -0.673941          ian  \n",
       "5          0.714599        -0.673941        kuzan  \n",
       "6          1.550852        -0.673941          bdd  \n",
       "7         -0.470092        -0.673941         pawn  \n",
       "8         -0.470092        -0.673941         pawn  \n",
       "9          1.550852        -0.673941          bdd  \n",
       "10         0.644911        -0.673941       cepted  \n",
       "11        -0.864989        -0.673941         kuro  \n",
       "12        -0.864989        -0.673941         kuro  \n",
       "13         0.644911        -0.673941       cepted  \n",
       "14         1.225642        -0.673941        faker  \n",
       "15         0.830745        -0.673941        crown  \n",
       "16         0.853975        -0.166244      febiven  \n",
       "17        -0.098424        -0.166244       sencux  \n",
       "18        -0.098424        -0.166244       sencux  \n",
       "19         0.853975        -0.166244      febiven  \n",
       "20         0.040951        -0.673941        tempt  \n",
       "21         1.550852        -0.673941          bdd  \n",
       "22         1.550852        -0.673941          bdd  \n",
       "23         0.040951        -0.673941        tempt  \n",
       "24        -1.445720        -0.673941       mickey  \n",
       "25         0.714599        -0.673941        kuzan  \n",
       "26         0.714599        -0.673941        kuzan  \n",
       "27        -1.445720        -0.673941       mickey  \n",
       "28        -0.144883        -0.166244         caps  \n",
       "29        -1.050823        -0.166244  powerofevil  \n",
       "...             ...              ...          ...  \n",
       "15484     -0.423633         0.849151       fenfen  \n",
       "15485     -0.888218         0.849151        maple  \n",
       "15486     -0.888218         0.849151        maple  \n",
       "15487     -0.423633         0.849151       fenfen  \n",
       "15488      0.528765         0.849151         kuro  \n",
       "15489      0.807516         0.849151       xiaohu  \n",
       "15490      0.528765         0.849151         kuro  \n",
       "15491      0.807516         0.849151       xiaohu  \n",
       "15492     -0.284258         0.849151      huatian  \n",
       "15493     -1.097281         0.849151       rookie  \n",
       "15494     -0.284258         0.849151      huatian  \n",
       "15495     -1.097281         0.849151       rookie  \n",
       "15496     -0.284258         0.849151      huatian  \n",
       "15497     -0.539779         0.849151          jay  \n",
       "15498     -0.539779         0.849151          jay  \n",
       "15499     -0.284258         0.849151      huatian  \n",
       "15500     -0.539779         0.849151          jay  \n",
       "15501     -0.284258         0.849151      huatian  \n",
       "15502     -1.376032         0.849151         tian  \n",
       "15503     -1.213427         0.849151      knight9  \n",
       "15504     -1.376032         0.849151        doinb  \n",
       "15505     -1.213427         0.849151      knight9  \n",
       "15506      1.388247         0.849151         icon  \n",
       "15507     -1.213427         0.849151      knight9  \n",
       "15508     -1.213427         0.849151      knight9  \n",
       "15509      1.388247         0.849151         icon  \n",
       "15510      1.411476         0.849151         otto  \n",
       "15511     -0.261029         0.849151         xiye  \n",
       "15512      1.411476         0.849151        windy  \n",
       "15513     -0.261029         0.849151         xiye  \n",
       "\n",
       "[15514 rows x 60 columns]"
      ]
     },
     "execution_count": 13,
     "metadata": {},
     "output_type": "execute_result"
    }
   ],
   "source": [
    "# Visualize data\n",
    "data_raw"
   ]
  },
  {
   "cell_type": "code",
   "execution_count": 14,
   "metadata": {
    "ExecuteTime": {
     "end_time": "2019-08-24T17:05:13.008292Z",
     "start_time": "2019-08-24T17:05:12.930189Z"
    }
   },
   "outputs": [
    {
     "name": "stdout",
     "output_type": "stream",
     "text": [
      "Set of the different column types captured by the data:  {dtype('float64'), dtype('O')}\n",
      "The number of missing values in the data:  0\n"
     ]
    }
   ],
   "source": [
    "# Check all values are numeric\n",
    "print(\"Set of the different column types captured by the data: \", set(data_raw.dtypes))\n",
    "# Check no missing data\n",
    "print(\"The number of missing values in the data: \", sum(data_raw.isnull().any()))"
   ]
  },
  {
   "cell_type": "markdown",
   "metadata": {},
   "source": [
    "## 2. Split data in test and train data"
   ]
  },
  {
   "cell_type": "code",
   "execution_count": 15,
   "metadata": {
    "ExecuteTime": {
     "end_time": "2019-08-24T17:05:13.172107Z",
     "start_time": "2019-08-24T17:05:13.017068Z"
    },
    "scrolled": true
   },
   "outputs": [],
   "source": [
    "# Create copy of data for model building (removing team feature)\n",
    "data = data_raw.copy()\n",
    "data = data.drop(labels = ['player', 'split', 'patchno', 'Encoded_league', 'Encoded_game', 'Encoded_Year', 'Encoded_culture'], axis=1)"
   ]
  },
  {
   "cell_type": "code",
   "execution_count": 16,
   "metadata": {
    "ExecuteTime": {
     "end_time": "2019-08-24T17:05:13.246044Z",
     "start_time": "2019-08-24T17:05:13.174730Z"
    }
   },
   "outputs": [],
   "source": [
    "# Split the data\n",
    "x_train, x_test, y_train, y_test = data_splitter(data, 'result')"
   ]
  },
  {
   "cell_type": "code",
   "execution_count": 17,
   "metadata": {
    "ExecuteTime": {
     "end_time": "2019-08-24T17:05:13.281332Z",
     "start_time": "2019-08-24T17:05:13.251218Z"
    }
   },
   "outputs": [
    {
     "name": "stdout",
     "output_type": "stream",
     "text": [
      "The data is centered:  True \n",
      "The data is standardized:  False\n"
     ]
    }
   ],
   "source": [
    "# Check data is standardized and centered\n",
    "print(\"The data is centered: \", \n",
    "      all([int(x) for x in round(x_train.mean(axis = 0), 4)]) == 0,\n",
    "     \"\\nThe data is standardized: \",\n",
    "      all([int(x) for x in round(x_train.var(axis = 0), 4)]) == 1)"
   ]
  },
  {
   "cell_type": "markdown",
   "metadata": {},
   "source": [
    "## 3. Model creation"
   ]
  },
  {
   "cell_type": "code",
   "execution_count": 18,
   "metadata": {
    "ExecuteTime": {
     "end_time": "2019-08-24T17:05:13.289830Z",
     "start_time": "2019-08-24T17:05:13.283291Z"
    }
   },
   "outputs": [],
   "source": [
    "# Create dictionary to capture model summary\n",
    "logistic_L1penalty_model_dict, ridge_model_dict, elasticnet_model_dict, rf_model_dict, model_summary_dict = dict(), dict(), dict(), dict(), dict()"
   ]
  },
  {
   "cell_type": "markdown",
   "metadata": {},
   "source": [
    "### 3.1 Logistic regression with L1 penalty (Lasso classification model)\n",
    "Here, the recursive feature elimination techinique is used to initialize L1 penalization in our logistic regression model and hence allows implementation of lasso regularization."
   ]
  },
  {
   "cell_type": "markdown",
   "metadata": {},
   "source": [
    "##### Recursive feature elimination\n",
    "Given an external estimator that assigns weights to features (~coefficients), the goal of recursive feature elimination is to select features by recursively considering smaller and smaller sets of features. The estimator is trained on the initial set of features and the importance of each feature is obtained. Based on this information the least important features are pruned from the current set of features. This procedure is recursively repeated on the pruned set until the desired number of features to select is reached. To get the optimal number of features CV is used."
   ]
  },
  {
   "cell_type": "code",
   "execution_count": 19,
   "metadata": {
    "ExecuteTime": {
     "end_time": "2019-08-24T17:07:04.183614Z",
     "start_time": "2019-08-24T17:05:13.291563Z"
    },
    "scrolled": true
   },
   "outputs": [],
   "source": [
    "# By using the liblinear solver the L1 penalty is implemented\n",
    "logreg = LogisticRegression(solver='liblinear')\n",
    "rfe = RFECV(logreg, cv = 5)\n",
    "rfe = rfe.fit(x_train, y_train)"
   ]
  },
  {
   "cell_type": "code",
   "execution_count": 20,
   "metadata": {
    "ExecuteTime": {
     "end_time": "2019-08-24T17:07:04.195675Z",
     "start_time": "2019-08-24T17:07:04.185507Z"
    }
   },
   "outputs": [
    {
     "name": "stdout",
     "output_type": "stream",
     "text": [
      "Based on the recursive elimination method the following 11 features are selected:  ['d', 'a', 'kpm', 'dmgtochamps', 'dmgtochampsperminute', 'earnedgoldshare', 'totalgold', 'earnedgpm', 'goldspent', 'gspd', 'goldat15']\n"
     ]
    }
   ],
   "source": [
    "# Intermediate summary\n",
    "selected_features_rfe = [col for col, bool_importance in zip(x_train.columns.values, rfe.support_) if bool_importance]\n",
    "print(\"Based on the recursive elimination method the following\", len(selected_features_rfe),\n",
    "      \"features are selected: \", selected_features_rfe)"
   ]
  },
  {
   "cell_type": "markdown",
   "metadata": {},
   "source": [
    "Remark: The solver used by the logistic regression model is 'liblinear' which applies automatic parameter selection (L1 regularization) and is recommended when using a high dimensional dataset."
   ]
  },
  {
   "cell_type": "markdown",
   "metadata": {},
   "source": [
    "##### Model fit"
   ]
  },
  {
   "cell_type": "code",
   "execution_count": 21,
   "metadata": {
    "ExecuteTime": {
     "end_time": "2019-08-24T17:07:04.490094Z",
     "start_time": "2019-08-24T17:07:04.197694Z"
    }
   },
   "outputs": [],
   "source": [
    "# Fit the logistic regression model\n",
    "logistic_L1penalty_model = LogisticRegression(solver='liblinear')\n",
    "fitted_logistic_L1penalty_model = logistic_L1penalty_model.fit(x_train[selected_features_rfe], y_train)\n",
    "\n",
    "# Save best approximation alpha after CV\n",
    "logistic_L1penalty_model_dict['regularisation_param'] = np.nan"
   ]
  },
  {
   "cell_type": "markdown",
   "metadata": {
    "ExecuteTime": {
     "end_time": "2019-03-19T10:26:19.552084Z",
     "start_time": "2019-03-19T10:26:19.547199Z"
    }
   },
   "source": [
    "##### Model accuracy evaluation"
   ]
  },
  {
   "cell_type": "code",
   "execution_count": 22,
   "metadata": {
    "ExecuteTime": {
     "end_time": "2019-08-24T17:07:05.733769Z",
     "start_time": "2019-08-24T17:07:04.494865Z"
    }
   },
   "outputs": [
    {
     "name": "stdout",
     "output_type": "stream",
     "text": [
      "Based on a threshold of 0.5 the following summary statistics can be obtained:\n",
      " ----------------------------------------------------------------------------------------------------\n",
      "1111 true positives over all positives (the wins that were correctly classified).\n",
      "67 false positives (the wins that were wrongly classified).\n",
      "1077 true negatives (the losses that were correctly classified).\n",
      "73 false negatives (the losses that were wrongly classified).\n",
      "\n",
      "The sensitivity is:  0.9383445945945946\n",
      "The specificity is:  0.9414335664335665\n",
      "\n",
      "\n",
      "Accuracy: 0.9398625429553265 \n",
      " ----------------------------------------------------------------------------------------------------\n"
     ]
    },
    {
     "data": {
      "image/png": "[encoded data removed]",
      "text/plain": [
       "<Figure size 432x288 with 1 Axes>"
      ]
     },
     "metadata": {
      "needs_background": "light"
     },
     "output_type": "display_data"
    },
    {
     "name": "stdout",
     "output_type": "stream",
     "text": [
      "Confusion matrix :\n",
      " ----------------------------------------------------------------------------------------------------\n"
     ]
    },
    {
     "data": {
      "image/png": "[encoded data removed]",
      "text/plain": [
       "<Figure size 432x288 with 2 Axes>"
      ]
     },
     "metadata": {
      "needs_background": "light"
     },
     "output_type": "display_data"
    },
    {
     "name": "stdout",
     "output_type": "stream",
     "text": [
      "Normalized confusion matrix :\n",
      " ----------------------------------------------------------------------------------------------------\n"
     ]
    },
    {
     "data": {
      "image/png": "[encoded data removed]",
      "text/plain": [
       "<Figure size 432x288 with 2 Axes>"
      ]
     },
     "metadata": {
      "needs_background": "light"
     },
     "output_type": "display_data"
    }
   ],
   "source": [
    "# Model accuracy evaluation metrics\n",
    "logistic_L1penalty_model_dict['sensitivity'], logistic_L1penalty_model_dict['specificity'], logistic_L1penalty_model_dict['auc'], logistic_L1penalty_model_dict['accuracy'] = binary_class_evaluator(fitted_logistic_L1penalty_model, x_test[selected_features_rfe], y_test)\n",
    "\n",
    "# Plot non-normalized and normalized confusion matrix\n",
    "plot_confusion_matrix(fitted_logistic_L1penalty_model, x_test[selected_features_rfe], y_test, classes=['Loss', 'Win'])\n",
    "plot_confusion_matrix(fitted_logistic_L1penalty_model, x_test[selected_features_rfe], y_test, classes=['Loss', 'Win'], normalize=True)"
   ]
  },
  {
   "cell_type": "markdown",
   "metadata": {},
   "source": [
    "##### Feature importance evaluator"
   ]
  },
  {
   "cell_type": "code",
   "execution_count": 23,
   "metadata": {
    "ExecuteTime": {
     "end_time": "2019-08-24T17:07:05.758980Z",
     "start_time": "2019-08-24T17:07:05.736704Z"
    }
   },
   "outputs": [
    {
     "name": "stdout",
     "output_type": "stream",
     "text": [
      "Summary of the important features and their corresponding coefficients:\n",
      " ----------------------------------------------------------------------------------------------------\n",
      "earnedgpm : 4.961397711451772\n",
      "goldspent : -3.4060716063952046\n",
      "earnedgoldshare : -3.341757251379056\n",
      "totalgold : 2.808968051650293\n",
      "d : -1.3478346483678525\n",
      "a : 1.2182100675897587\n",
      "kpm : 0.9675775246546657\n",
      "dmgtochampsperminute : -0.8692845739721394\n",
      "dmgtochamps : 0.7075461687103106\n",
      "gspd : 0.6674917887865748\n"
     ]
    }
   ],
   "source": [
    "# Show the sorted features indicating the highest importance in predicting the target\n",
    "logistic_L1penalty_model_dict['feature_importance'] = important_features_extractor(fitted_logistic_L1penalty_model, selected_features_rfe)"
   ]
  },
  {
   "cell_type": "code",
   "execution_count": 24,
   "metadata": {
    "ExecuteTime": {
     "end_time": "2019-08-24T18:22:04.836070Z",
     "start_time": "2019-08-24T17:07:05.763411Z"
    },
    "scrolled": true
   },
   "outputs": [
    {
     "data": {
      "image/png": "[encoded data removed]",
      "text/plain": [
       "<Figure size 432x288 with 1 Axes>"
      ]
     },
     "metadata": {
      "needs_background": "light"
     },
     "output_type": "display_data"
    }
   ],
   "source": [
    "# Visualize the use of different regularization parameters on coefficient estimates for Lasso regression\n",
    "n_alphas, coefs = 200, []\n",
    "alphas = np.logspace(-10, -2, n_alphas)\n",
    "for a in alphas:\n",
    "    lasso = Lasso(alpha = a, fit_intercept = False)\n",
    "    lasso.fit(x_train, y_train)\n",
    "    coefs.append(lasso.coef_)\n",
    "\n",
    "# Visualize the regularization curve\n",
    "ax = plt.gca()\n",
    "ax.plot(alphas, coefs)\n",
    "ax.set_xscale('log')\n",
    "ax.set_xlim(ax.get_xlim()[::-1])  # reverse axis\n",
    "plt.xlabel('alpha')\n",
    "plt.ylabel('weights')\n",
    "plt.title('Lasso coefficients as a function of the regularization')\n",
    "plt.axis('tight')\n",
    "plt.show()"
   ]
  },
  {
   "cell_type": "markdown",
   "metadata": {},
   "source": [
    "### 3.2 Ridge classification model\n",
    "Ridge regression covers a machine learning technique that solves a regression model where the loss function is the linear least squares function and regularization is given by the l2-norm.\n",
    "\n",
    "To fit the ridge classification model the ridge classifier with build in cross-validation estimator is used from the sklearn package. The CV classifier allows us to evaluate different regularization parameters. Here, the array of alpha values that is explored ranges from 0.1 to 1. in steps of 0.025.\n",
    "\n",
    "If the alpha value is 0, a OLS model seems to best fit the data. So, the smaller the value of alpha, the higher the magnitude of the coefficients. No intercept is calculated for the model, because the data is centered."
   ]
  },
  {
   "cell_type": "markdown",
   "metadata": {},
   "source": [
    "##### Model fit"
   ]
  },
  {
   "cell_type": "code",
   "execution_count": 25,
   "metadata": {
    "ExecuteTime": {
     "end_time": "2019-08-24T18:22:12.961284Z",
     "start_time": "2019-08-24T18:22:04.838768Z"
    }
   },
   "outputs": [],
   "source": [
    "# Fit the regression model for the optimal alpha \n",
    "alphas = np.arange(0.0, 1.0, 0.025)\n",
    "ridge_model = RidgeClassifierCV(alphas, fit_intercept= False, cv= 5)\n",
    "fitted_ridge_model = ridge_model.fit(x_train, y_train)\n",
    "\n",
    "# Save best approximation alpha after CV\n",
    "ridge_model_dict['regularisation_param'] = fitted_ridge_model.alpha_"
   ]
  },
  {
   "cell_type": "markdown",
   "metadata": {},
   "source": [
    "##### Model accuracy evaluation"
   ]
  },
  {
   "cell_type": "code",
   "execution_count": 26,
   "metadata": {
    "ExecuteTime": {
     "end_time": "2019-08-24T18:22:14.588231Z",
     "start_time": "2019-08-24T18:22:12.965493Z"
    }
   },
   "outputs": [
    {
     "name": "stdout",
     "output_type": "stream",
     "text": [
      "Based on a threshold of 0.5 the following summary statistics can be obtained:\n",
      " ----------------------------------------------------------------------------------------------------\n",
      "1118 true positives over all positives (the wins that were correctly classified).\n",
      "69 false positives (the wins that were wrongly classified).\n",
      "1075 true negatives (the losses that were correctly classified).\n",
      "66 false negatives (the losses that were wrongly classified).\n",
      "\n",
      "The sensitivity is:  0.9442567567567568\n",
      "The specificity is:  0.9396853146853147\n",
      "\n",
      "\n",
      "Accuracy: 0.9420103092783505 \n",
      " ----------------------------------------------------------------------------------------------------\n"
     ]
    },
    {
     "data": {
      "image/png": "[encoded data removed]",
      "text/plain": [
       "<Figure size 432x288 with 1 Axes>"
      ]
     },
     "metadata": {
      "needs_background": "light"
     },
     "output_type": "display_data"
    },
    {
     "name": "stdout",
     "output_type": "stream",
     "text": [
      "Confusion matrix :\n",
      " ----------------------------------------------------------------------------------------------------\n"
     ]
    },
    {
     "data": {
      "image/png": "[encoded data removed]",
      "text/plain": [
       "<Figure size 432x288 with 2 Axes>"
      ]
     },
     "metadata": {
      "needs_background": "light"
     },
     "output_type": "display_data"
    },
    {
     "name": "stdout",
     "output_type": "stream",
     "text": [
      "Normalized confusion matrix :\n",
      " ----------------------------------------------------------------------------------------------------\n"
     ]
    },
    {
     "data": {
      "image/png": "[encoded data removed]",
      "text/plain": [
       "<Figure size 432x288 with 2 Axes>"
      ]
     },
     "metadata": {
      "needs_background": "light"
     },
     "output_type": "display_data"
    }
   ],
   "source": [
    "# Model accuracy evaluation metrics\n",
    "ridge_model_dict['sensitivity'], ridge_model_dict['specificity'], ridge_model_dict['auc'], ridge_model_dict['accuracy'] = binary_class_evaluator(fitted_ridge_model, x_test, y_test)\n",
    "\n",
    "# Plot non-normalized and normalized confusion matrix\n",
    "plot_confusion_matrix(fitted_ridge_model, x_test,y_test, classes=['Loss', 'Win'])\n",
    "plot_confusion_matrix(fitted_ridge_model, x_test,y_test, classes=['Loss', 'Win'], normalize=True)"
   ]
  },
  {
   "cell_type": "markdown",
   "metadata": {
    "ExecuteTime": {
     "end_time": "2019-03-19T09:17:32.286353Z",
     "start_time": "2019-03-19T09:17:31.991148Z"
    }
   },
   "source": [
    "##### Feature importance evaluator"
   ]
  },
  {
   "cell_type": "code",
   "execution_count": 27,
   "metadata": {
    "ExecuteTime": {
     "end_time": "2019-08-24T18:22:14.648573Z",
     "start_time": "2019-08-24T18:22:14.592759Z"
    },
    "scrolled": true
   },
   "outputs": [
    {
     "name": "stdout",
     "output_type": "stream",
     "text": [
      "Summary of the important features and their corresponding coefficients:\n",
      " ----------------------------------------------------------------------------------------------------\n",
      "earnedgpm : 0.5537360521422713\n",
      "goldspent : -0.3995729481989584\n",
      "dmgtochampsperminute : -0.34908360043618114\n",
      "earnedgoldshare : -0.35350080264664474\n",
      "dmgtochamps : 0.28311912940825423\n",
      "d : -0.25483963370562057\n",
      "a : 0.24872432057566993\n",
      "totalgold : 0.24427359627223266\n",
      "k : 0.16901646409663074\n",
      "minionkills : -0.0789230932813617\n"
     ]
    }
   ],
   "source": [
    "# Show the sorted features indicating the highest importance in predicting the target\n",
    "ridge_model_dict['feature_importance'] = important_features_extractor(fitted_ridge_model, x_train.columns.values)"
   ]
  },
  {
   "cell_type": "code",
   "execution_count": 28,
   "metadata": {
    "ExecuteTime": {
     "end_time": "2019-08-24T18:22:19.306640Z",
     "start_time": "2019-08-24T18:22:14.655551Z"
    }
   },
   "outputs": [
    {
     "data": {
      "image/png": "[encoded data removed]",
      "text/plain": [
       "<Figure size 432x288 with 1 Axes>"
      ]
     },
     "metadata": {
      "needs_background": "light"
     },
     "output_type": "display_data"
    }
   ],
   "source": [
    "# Visualize the use of different regularization parameters on coefficient estimates for Ridge regression\n",
    "n_alphas, coefs = 200, []\n",
    "alphas = np.logspace(-10, -2, n_alphas)\n",
    "for a in alphas:\n",
    "    ridge = Ridge(alpha = a, fit_intercept = False)\n",
    "    ridge.fit(x_train, y_train)\n",
    "    coefs.append(ridge.coef_)\n",
    "\n",
    "# Visualize the regularization curve\n",
    "ax = plt.gca()\n",
    "ax.plot(alphas, coefs)\n",
    "ax.set_xscale('log')\n",
    "ax.set_xlim(ax.get_xlim()[::-1])  # reverse axis\n",
    "plt.xlabel('alpha')\n",
    "plt.ylabel('weights')\n",
    "plt.title('Ridge coefficients as a function of the regularization')\n",
    "plt.axis('tight')\n",
    "plt.show()"
   ]
  },
  {
   "cell_type": "markdown",
   "metadata": {},
   "source": [
    "### 3.3 Elastic net classification model\n",
    "The elastic net classification model will combine the L1 and L2 priors illustrated above in the same logistic regression model as regularizers. The ElasticNetCV function from sklearn allows us to play around with these regularization parameters by defining a range for the l1_ratio = a/ (a + b), where  a * L1 + b * L2 composes the penalization term. If the optimal l1_ratio parameter is closer to 1, a sparser selection is managed, while l1_ratio parameters close to 0 result in more shrinkage of the coefficients."
   ]
  },
  {
   "cell_type": "markdown",
   "metadata": {},
   "source": [
    "##### Model fit"
   ]
  },
  {
   "cell_type": "code",
   "execution_count": 29,
   "metadata": {
    "ExecuteTime": {
     "end_time": "2019-08-24T18:24:23.886581Z",
     "start_time": "2019-08-24T18:22:19.308738Z"
    }
   },
   "outputs": [],
   "source": [
    "# Fit the elasticnet classification model\n",
    "l1_ratios = alphas[1:]\n",
    "elasticnet_model = ElasticNetCV(l1_ratio = l1_ratios, fit_intercept= False, cv= 5, random_state=0)\n",
    "fitted_elasticnet_model = elasticnet_model.fit(x_train, y_train)\n",
    "\n",
    "# Save best approximation alpha after CV\n",
    "elasticnet_model_dict['regularisation_param'] = {'l1_ratio': fitted_elasticnet_model.l1_ratio_,\n",
    "                                                 'alpha': fitted_elasticnet_model.alpha_}"
   ]
  },
  {
   "cell_type": "markdown",
   "metadata": {},
   "source": [
    "##### Model accuracy evaluation"
   ]
  },
  {
   "cell_type": "code",
   "execution_count": 30,
   "metadata": {
    "ExecuteTime": {
     "end_time": "2019-08-24T18:24:24.778862Z",
     "start_time": "2019-08-24T18:24:23.888369Z"
    }
   },
   "outputs": [
    {
     "name": "stdout",
     "output_type": "stream",
     "text": [
      "Based on a threshold of 0.5 the following summary statistics can be obtained:\n",
      " ----------------------------------------------------------------------------------------------------\n",
      "1114 true positives over all positives (the wins that were correctly classified).\n",
      "65 false positives (the wins that were wrongly classified).\n",
      "1079 true negatives (the losses that were correctly classified).\n",
      "70 false negatives (the losses that were wrongly classified).\n",
      "\n",
      "The sensitivity is:  0.9408783783783784\n",
      "The specificity is:  0.9431818181818182\n",
      "\n",
      "\n",
      "Accuracy: 0.9420103092783505 \n",
      " ----------------------------------------------------------------------------------------------------\n"
     ]
    },
    {
     "data": {
      "image/png": "[encoded data removed]",
      "text/plain": [
       "<Figure size 432x288 with 1 Axes>"
      ]
     },
     "metadata": {
      "needs_background": "light"
     },
     "output_type": "display_data"
    },
    {
     "name": "stdout",
     "output_type": "stream",
     "text": [
      "Confusion matrix :\n",
      " ----------------------------------------------------------------------------------------------------\n"
     ]
    },
    {
     "data": {
      "image/png": "[encoded data removed]",
      "text/plain": [
       "<Figure size 432x288 with 2 Axes>"
      ]
     },
     "metadata": {
      "needs_background": "light"
     },
     "output_type": "display_data"
    },
    {
     "name": "stdout",
     "output_type": "stream",
     "text": [
      "Normalized confusion matrix :\n",
      " ----------------------------------------------------------------------------------------------------\n"
     ]
    },
    {
     "data": {
      "image/png": "[encoded data removed]",
      "text/plain": [
       "<Figure size 432x288 with 2 Axes>"
      ]
     },
     "metadata": {
      "needs_background": "light"
     },
     "output_type": "display_data"
    }
   ],
   "source": [
    "# Model accuracy evaluation metrics\n",
    "elasticnet_model_dict['sensitivity'], elasticnet_model_dict['specificity'], elasticnet_model_dict['auc'], elasticnet_model_dict['accuracy'] = binary_class_evaluator(fitted_elasticnet_model, x_test, y_test, elasticnet = True)\n",
    "\n",
    "# Plot non-normalized and normalized confusion matrix\n",
    "plot_confusion_matrix(fitted_elasticnet_model, x_test, y_test, classes=['Loss', 'Win'], elasticnet = True)\n",
    "plot_confusion_matrix(fitted_elasticnet_model, x_test, y_test, classes=['Loss', 'Win'], normalize=True, elasticnet = True)"
   ]
  },
  {
   "cell_type": "markdown",
   "metadata": {
    "ExecuteTime": {
     "end_time": "2019-03-19T10:34:24.897544Z",
     "start_time": "2019-03-19T10:34:24.872205Z"
    }
   },
   "source": [
    "##### Feature importance evaluator"
   ]
  },
  {
   "cell_type": "code",
   "execution_count": 31,
   "metadata": {
    "ExecuteTime": {
     "end_time": "2019-08-24T18:24:24.786635Z",
     "start_time": "2019-08-24T18:24:24.780539Z"
    },
    "scrolled": true
   },
   "outputs": [
    {
     "name": "stdout",
     "output_type": "stream",
     "text": [
      "Summary of the important features and their corresponding coefficients:\n",
      " ----------------------------------------------------------------------------------------------------\n",
      "earnedgpm : 0.22645351580568165\n",
      "earnedgoldshare : -0.16172276145847675\n",
      "d : -0.13144182976380867\n",
      "a : 0.12468681164697114\n",
      "goldspent : -0.11402657623146131\n",
      "totalgold : 0.08893885328801704\n",
      "k : 0.06667629336434683\n",
      "kpm : 0.04281086648966543\n",
      "goldat15 : -0.03633201347209381\n",
      "gspd : 0.026101904019813407\n"
     ]
    }
   ],
   "source": [
    "# Show the sorted features indicating the highest importance in predicting the target\n",
    "elasticnet_model_dict['feature_importance'] = important_features_extractor(fitted_elasticnet_model, \n",
    "                                                                           x_train.columns.values, \n",
    "                                                                           elasticnet = True)"
   ]
  },
  {
   "cell_type": "code",
   "execution_count": 32,
   "metadata": {
    "ExecuteTime": {
     "end_time": "2019-08-24T18:25:23.659926Z",
     "start_time": "2019-08-24T18:24:24.788164Z"
    }
   },
   "outputs": [
    {
     "data": {
      "image/png": "[encoded data removed]",
      "text/plain": [
       "<Figure size 432x288 with 1 Axes>"
      ]
     },
     "metadata": {
      "needs_background": "light"
     },
     "output_type": "display_data"
    }
   ],
   "source": [
    "# Visualize the use of different regularization parameters on coefficient estimates for Ridge regression\n",
    "n_ratios, coefs = 200, []\n",
    "l1_ratios = np.logspace(-10, -2, n_ratios)\n",
    "for r in l1_ratios:\n",
    "    elasticnet = ElasticNet(l1_ratio = r, fit_intercept = False)\n",
    "    elasticnet.fit(x_train, y_train)\n",
    "    coefs.append(elasticnet.coef_)\n",
    "\n",
    "# Visualize the regularization curve\n",
    "ax = plt.gca()\n",
    "ax.plot(l1_ratios, coefs)\n",
    "ax.set_xscale('log')\n",
    "ax.set_xlim(ax.get_xlim()[::-1])  # reverse axis\n",
    "plt.xlabel('l1_ratio')\n",
    "plt.ylabel('weights')\n",
    "plt.title('Elastic net coefficients as a function of the regularization')\n",
    "plt.axis('tight')\n",
    "plt.show()"
   ]
  },
  {
   "cell_type": "markdown",
   "metadata": {},
   "source": [
    "### 3.4 Random Forests classifier"
   ]
  },
  {
   "cell_type": "markdown",
   "metadata": {},
   "source": [
    "##### Model fit"
   ]
  },
  {
   "cell_type": "code",
   "execution_count": 33,
   "metadata": {
    "ExecuteTime": {
     "end_time": "2019-08-24T19:03:23.706055Z",
     "start_time": "2019-08-24T18:25:23.662048Z"
    }
   },
   "outputs": [
    {
     "data": {
      "text/plain": [
       "{'bootstrap': False, 'max_features': 'auto', 'n_estimators': 200}"
      ]
     },
     "execution_count": 33,
     "metadata": {},
     "output_type": "execute_result"
    }
   ],
   "source": [
    "# Define hyperparameter grid\n",
    "param_grid = {'bootstrap': [True, False],\n",
    "              'max_features': ['auto', 'sqrt'],\n",
    "              'n_estimators': [200, 1000, 2000]}\n",
    "\n",
    "# Hyperparametertuning of the Random Forest model (cv = 5 folds)\n",
    "rf_model = RandomForestClassifier()\n",
    "grid_rf_model = GridSearchCV(rf_model, param_grid, cv=5)\n",
    "grid_best_rf_model = grid_rf_model.fit(x_train, y_train)\n",
    "\n",
    "# Save optimal hyperparameters\n",
    "rf_model_dict['regularisation_param'] = grid_best_rf_model.best_params_\n",
    "grid_best_rf_model.best_params_"
   ]
  },
  {
   "cell_type": "code",
   "execution_count": 34,
   "metadata": {
    "ExecuteTime": {
     "end_time": "2019-08-24T19:03:33.716999Z",
     "start_time": "2019-08-24T19:03:23.708086Z"
    }
   },
   "outputs": [
    {
     "data": {
      "text/plain": [
       "RandomForestClassifier(bootstrap=False, class_weight=None, criterion='gini',\n",
       "            max_depth=None, max_features='auto', max_leaf_nodes=None,\n",
       "            min_impurity_decrease=0.0, min_impurity_split=None,\n",
       "            min_samples_leaf=1, min_samples_split=2,\n",
       "            min_weight_fraction_leaf=0.0, n_estimators=200, n_jobs=None,\n",
       "            oob_score=False, random_state=None, verbose=0,\n",
       "            warm_start=False)"
      ]
     },
     "execution_count": 34,
     "metadata": {},
     "output_type": "execute_result"
    }
   ],
   "source": [
    "# Fit the best model with the optimal hyperparameters\n",
    "fitted_rf_model = RandomForestClassifier(bootstrap = rf_model_dict['regularisation_param'] ['bootstrap'],\n",
    "                                         max_features = rf_model_dict['regularisation_param'] ['max_features'],\n",
    "                                         n_estimators = rf_model_dict['regularisation_param'] ['n_estimators'])\n",
    "fitted_rf_model.fit(x_train,y_train)"
   ]
  },
  {
   "cell_type": "markdown",
   "metadata": {},
   "source": [
    "##### Model accuracy evaluation"
   ]
  },
  {
   "cell_type": "code",
   "execution_count": 35,
   "metadata": {
    "ExecuteTime": {
     "end_time": "2019-08-24T19:03:34.730228Z",
     "start_time": "2019-08-24T19:03:33.719160Z"
    }
   },
   "outputs": [
    {
     "name": "stdout",
     "output_type": "stream",
     "text": [
      "Based on a threshold of 0.5 the following summary statistics can be obtained:\n",
      " ----------------------------------------------------------------------------------------------------\n",
      "1111 true positives over all positives (the wins that were correctly classified).\n",
      "103 false positives (the wins that were wrongly classified).\n",
      "1041 true negatives (the losses that were correctly classified).\n",
      "73 false negatives (the losses that were wrongly classified).\n",
      "\n",
      "The sensitivity is:  0.9383445945945946\n",
      "The specificity is:  0.909965034965035\n",
      "\n",
      "\n",
      "Accuracy: 0.9243986254295533 \n",
      " ----------------------------------------------------------------------------------------------------\n"
     ]
    },
    {
     "data": {
      "image/png": "[encoded data removed]",
      "text/plain": [
       "<Figure size 432x288 with 1 Axes>"
      ]
     },
     "metadata": {
      "needs_background": "light"
     },
     "output_type": "display_data"
    },
    {
     "name": "stdout",
     "output_type": "stream",
     "text": [
      "Confusion matrix :\n",
      " ----------------------------------------------------------------------------------------------------\n"
     ]
    },
    {
     "data": {
      "image/png": "[encoded data removed]",
      "text/plain": [
       "<Figure size 432x288 with 2 Axes>"
      ]
     },
     "metadata": {
      "needs_background": "light"
     },
     "output_type": "display_data"
    },
    {
     "name": "stdout",
     "output_type": "stream",
     "text": [
      "Normalized confusion matrix :\n",
      " ----------------------------------------------------------------------------------------------------\n"
     ]
    },
    {
     "data": {
      "image/png": "[encoded data removed]",
      "text/plain": [
       "<Figure size 432x288 with 2 Axes>"
      ]
     },
     "metadata": {
      "needs_background": "light"
     },
     "output_type": "display_data"
    }
   ],
   "source": [
    "# Model accuracy evaluation metrics\n",
    "rf_model_dict['sensitivity'], rf_model_dict['specificity'], rf_model_dict['auc'], rf_model_dict['accuracy'] = binary_class_evaluator(fitted_rf_model, x_test, y_test, elasticnet = False)\n",
    "\n",
    "# Plot non-normalized and normalized confusion matrix\n",
    "plot_confusion_matrix(fitted_rf_model, x_test, y_test, classes=['Loss', 'Win'], elasticnet = False)\n",
    "plot_confusion_matrix(fitted_rf_model, x_test, y_test, classes=['Loss', 'Win'], normalize=True, elasticnet = False)"
   ]
  },
  {
   "cell_type": "markdown",
   "metadata": {},
   "source": [
    "##### Feature importance evaluator"
   ]
  },
  {
   "cell_type": "code",
   "execution_count": 36,
   "metadata": {
    "ExecuteTime": {
     "end_time": "2019-08-24T19:03:34.767903Z",
     "start_time": "2019-08-24T19:03:34.732291Z"
    }
   },
   "outputs": [
    {
     "data": {
      "text/plain": [
       "a                   0.163540\n",
       "earnedgpm           0.156954\n",
       "d                   0.115945\n",
       "kpm                 0.079595\n",
       "gspd                0.058957\n",
       "earnedgoldshare     0.057275\n",
       "k                   0.051556\n",
       "Encoded_champion    0.025142\n",
       "Encoded_team        0.024212\n",
       "totalgold           0.023613\n",
       "dtype: float64"
      ]
     },
     "execution_count": 36,
     "metadata": {},
     "output_type": "execute_result"
    }
   ],
   "source": [
    "# Show the sorted features indicating the highest importance in predicting the target\n",
    "feature_imp = pd.Series(fitted_rf_model.feature_importances_,index=x_train.columns).sort_values(ascending=False)\n",
    "rf_model_dict['feature_importance'] = dict(zip(feature_imp.index, feature_imp))\n",
    "feature_imp[:10]"
   ]
  },
  {
   "cell_type": "markdown",
   "metadata": {},
   "source": [
    "### 3.5 Comparison ML techniques"
   ]
  },
  {
   "cell_type": "markdown",
   "metadata": {},
   "source": [
    "##### Creation summary table"
   ]
  },
  {
   "cell_type": "code",
   "execution_count": 37,
   "metadata": {
    "ExecuteTime": {
     "end_time": "2019-08-24T19:03:34.799863Z",
     "start_time": "2019-08-24T19:03:34.769830Z"
    }
   },
   "outputs": [
    {
     "data": {
      "text/html": [
       "<div>\n",
       "<style scoped>\n",
       "    .dataframe tbody tr th:only-of-type {\n",
       "        vertical-align: middle;\n",
       "    }\n",
       "\n",
       "    .dataframe tbody tr th {\n",
       "        vertical-align: top;\n",
       "    }\n",
       "\n",
       "    .dataframe thead th {\n",
       "        text-align: right;\n",
       "    }\n",
       "</style>\n",
       "<table border=\"1\" class=\"dataframe\">\n",
       "  <thead>\n",
       "    <tr style=\"text-align: right;\">\n",
       "      <th></th>\n",
       "      <th>regularisation_param</th>\n",
       "      <th>sensitivity</th>\n",
       "      <th>specificity</th>\n",
       "      <th>auc</th>\n",
       "      <th>accuracy</th>\n",
       "      <th>feature_importance</th>\n",
       "    </tr>\n",
       "  </thead>\n",
       "  <tbody>\n",
       "    <tr>\n",
       "      <th>Lasso</th>\n",
       "      <td>NaN</td>\n",
       "      <td>0.938345</td>\n",
       "      <td>0.941434</td>\n",
       "      <td>0.939889</td>\n",
       "      <td>0.939863</td>\n",
       "      <td>{'earnedgpm': 4.961397711451772, 'goldspent': ...</td>\n",
       "    </tr>\n",
       "    <tr>\n",
       "      <th>Ridge</th>\n",
       "      <td>0.975</td>\n",
       "      <td>0.944257</td>\n",
       "      <td>0.939685</td>\n",
       "      <td>0.941971</td>\n",
       "      <td>0.942010</td>\n",
       "      <td>{'earnedgpm': 0.5537360521422713, 'goldspent':...</td>\n",
       "    </tr>\n",
       "    <tr>\n",
       "      <th>Elasticnet</th>\n",
       "      <td>{'l1_ratio': 0.01, 'alpha': 0.029798270853835327}</td>\n",
       "      <td>0.940878</td>\n",
       "      <td>0.943182</td>\n",
       "      <td>0.942030</td>\n",
       "      <td>0.942010</td>\n",
       "      <td>{'earnedgpm': 0.22645351580568165, 'earnedgold...</td>\n",
       "    </tr>\n",
       "    <tr>\n",
       "      <th>RandomForest</th>\n",
       "      <td>{'bootstrap': False, 'max_features': 'auto', '...</td>\n",
       "      <td>0.938345</td>\n",
       "      <td>0.909965</td>\n",
       "      <td>0.924155</td>\n",
       "      <td>0.924399</td>\n",
       "      <td>{'a': 0.16354034374412715, 'earnedgpm': 0.1569...</td>\n",
       "    </tr>\n",
       "  </tbody>\n",
       "</table>\n",
       "</div>"
      ],
      "text/plain": [
       "                                           regularisation_param  sensitivity  \\\n",
       "Lasso                                                       NaN     0.938345   \n",
       "Ridge                                                     0.975     0.944257   \n",
       "Elasticnet    {'l1_ratio': 0.01, 'alpha': 0.029798270853835327}     0.940878   \n",
       "RandomForest  {'bootstrap': False, 'max_features': 'auto', '...     0.938345   \n",
       "\n",
       "              specificity       auc  accuracy  \\\n",
       "Lasso            0.941434  0.939889  0.939863   \n",
       "Ridge            0.939685  0.941971  0.942010   \n",
       "Elasticnet       0.943182  0.942030  0.942010   \n",
       "RandomForest     0.909965  0.924155  0.924399   \n",
       "\n",
       "                                             feature_importance  \n",
       "Lasso         {'earnedgpm': 4.961397711451772, 'goldspent': ...  \n",
       "Ridge         {'earnedgpm': 0.5537360521422713, 'goldspent':...  \n",
       "Elasticnet    {'earnedgpm': 0.22645351580568165, 'earnedgold...  \n",
       "RandomForest  {'a': 0.16354034374412715, 'earnedgpm': 0.1569...  "
      ]
     },
     "execution_count": 37,
     "metadata": {},
     "output_type": "execute_result"
    }
   ],
   "source": [
    "# Create summary table\n",
    "for key in logistic_L1penalty_model_dict.keys():\n",
    "    model_summary_dict[key] = [logistic_L1penalty_model_dict[key], ridge_model_dict[key], elasticnet_model_dict[key], rf_model_dict[key]]\n",
    "model_summary_table = pd.DataFrame(model_summary_dict, columns = logistic_L1penalty_model_dict.keys())\n",
    "model_summary_table.rename(index={0:'Lasso', 1:'Ridge', 2:'Elasticnet', 3:'RandomForest'}, inplace = True)\n",
    "\n",
    "# Visualize summary table\n",
    "model_summary_table"
   ]
  },
  {
   "cell_type": "markdown",
   "metadata": {},
   "source": [
    "##### Investigate accuracy metrics"
   ]
  },
  {
   "cell_type": "code",
   "execution_count": 38,
   "metadata": {
    "ExecuteTime": {
     "end_time": "2019-08-24T19:03:35.055280Z",
     "start_time": "2019-08-24T19:03:34.801639Z"
    }
   },
   "outputs": [
    {
     "data": {
      "text/plain": [
       "<matplotlib.legend.Legend at 0x7fa447b85128>"
      ]
     },
     "execution_count": 38,
     "metadata": {},
     "output_type": "execute_result"
    },
    {
     "data": {
      "image/png": "[encoded data removed]",
      "text/plain": [
       "<Figure size 432x288 with 1 Axes>"
      ]
     },
     "metadata": {
      "needs_background": "light"
     },
     "output_type": "display_data"
    }
   ],
   "source": [
    "# Visualize a summarization of the accuracy metrics for the different ML methods\n",
    "fig, ax = plt.subplots()\n",
    "ax.plot(list(model_summary_table.index), model_summary_table.sensitivity, '--', label=\"sensitivity\", color='lightskyblue')\n",
    "ax.plot(list(model_summary_table.index), model_summary_table.specificity, '--', label=\"specificity\", color='lightblue')\n",
    "ax.plot(list(model_summary_table.index), model_summary_table.accuracy, label=\"accuracy\", color='royalblue')\n",
    "plt.title(\"Sensitivity, specificity and accuracy regularization models\")\n",
    "plt.ylabel('Value')\n",
    "plt.xlabel('ML model')\n",
    "ax.legend(loc =\"best\", fontsize = 8)"
   ]
  },
  {
   "cell_type": "markdown",
   "metadata": {},
   "source": [
    "##### Investigate parameter coefficients"
   ]
  },
  {
   "cell_type": "code",
   "execution_count": 39,
   "metadata": {
    "ExecuteTime": {
     "end_time": "2019-08-24T19:03:35.064624Z",
     "start_time": "2019-08-24T19:03:35.057402Z"
    }
   },
   "outputs": [
    {
     "name": "stdout",
     "output_type": "stream",
     "text": [
      "The number of features kept by the different techniques in the model:\n",
      " ----------------------------------------------------------------------------------------------------\n",
      "Lasso :  11\n",
      "Ridge :  52\n",
      "Elasticnet :  52\n",
      "RandomForest :  52\n"
     ]
    }
   ],
   "source": [
    "# Short intermediate summary\n",
    "print(\"The number of features kept by the different techniques in the model:\\n\", \"-\"*100)\n",
    "for ML in list(model_summary_table.index):\n",
    "    print(ML, \": \", len(model_summary_table.feature_importance[ML]))"
   ]
  },
  {
   "cell_type": "code",
   "execution_count": 40,
   "metadata": {
    "ExecuteTime": {
     "end_time": "2019-08-24T19:03:35.299421Z",
     "start_time": "2019-08-24T19:03:35.066894Z"
    }
   },
   "outputs": [
    {
     "data": {
      "image/png": "[encoded data removed]",
      "text/plain": [
       "<Figure size 432x288 with 1 Axes>"
      ]
     },
     "metadata": {
      "needs_background": "light"
     },
     "output_type": "display_data"
    }
   ],
   "source": [
    "# Visualization of difference in coefficient estimates\n",
    "plt.plot(fitted_elasticnet_model.coef_, color='darkorange', linewidth=2,\n",
    "         label='Elastic net coefficients')\n",
    "plt.plot(fitted_logistic_L1penalty_model.coef_[0], color='yellowgreen', linewidth=2,\n",
    "         label='Lasso coefficients')\n",
    "plt.plot(fitted_ridge_model.coef_[0], '--', color='dodgerblue', label='Ridge coefficients')\n",
    "plt.legend(loc='best')\n",
    "plt.title(\"Comparison parameter coefficients\")\n",
    "plt.ylabel('Coefficient')\n",
    "plt.xlabel('Feature ID')\n",
    "plt.show()"
   ]
  },
  {
   "cell_type": "code",
   "execution_count": 41,
   "metadata": {
    "ExecuteTime": {
     "end_time": "2019-08-24T19:03:38.404217Z",
     "start_time": "2019-08-24T19:03:35.301508Z"
    },
    "scrolled": false
   },
   "outputs": [
    {
     "data": {
      "image/png": "[encoded data removed]",
      "text/plain": [
       "<Figure size 360x576 with 1 Axes>"
      ]
     },
     "metadata": {
      "needs_background": "light"
     },
     "output_type": "display_data"
    },
    {
     "data": {
      "image/png": "[encoded data removed]",
      "text/plain": [
       "<Figure size 360x1008 with 1 Axes>"
      ]
     },
     "metadata": {
      "needs_background": "light"
     },
     "output_type": "display_data"
    },
    {
     "data": {
      "image/png": "[encoded data removed]",
      "text/plain": [
       "<Figure size 360x1008 with 1 Axes>"
      ]
     },
     "metadata": {
      "needs_background": "light"
     },
     "output_type": "display_data"
    },
    {
     "data": {
      "image/png": "[encoded data removed]",
      "text/plain": [
       "<Figure size 360x1008 with 1 Axes>"
      ]
     },
     "metadata": {
      "needs_background": "light"
     },
     "output_type": "display_data"
    }
   ],
   "source": [
    "# Visualize feature importance (coefficient based)\n",
    "for index, ML in enumerate(list(model_summary_table.index)):\n",
    "    x =  np.arange(len(model_summary_table.feature_importance[ML]))\n",
    "    plt.figure(figsize=(5, 8)) if index == 0 else plt.figure(figsize=(5, 14)) \n",
    "    plt.barh(x, list(model_summary_table.feature_importance[ML].values()), \n",
    "             tick_label =  list(model_summary_table.feature_importance[ML].keys()),\n",
    "             color = 'mediumslateblue', \n",
    "             edgecolor = 'slateblue')\n",
    "    plt.title(\"Feature coefficient estimates \" + ML + \" classification\")\n",
    "    plt.ylabel('Feature')\n",
    "    plt.xlabel('Coefficient')\n",
    "    plt.show()"
   ]
  },
  {
   "cell_type": "markdown",
   "metadata": {},
   "source": [
    "## 4. Create player specific summary vectors"
   ]
  },
  {
   "cell_type": "markdown",
   "metadata": {
    "ExecuteTime": {
     "end_time": "2019-03-26T08:44:26.367395Z",
     "start_time": "2019-03-26T08:44:26.305732Z"
    }
   },
   "source": [
    "### 4.1 Create dataset capturing the average feature values per player\n",
    "A player specific summary vector will be created by looping through all the features captured by the dataset and taking the average over all the games played by that player (for a specific feature). To have a better indication of the accuracy of the player vector another column is added at the end indicating the number of games on which the calculation is based."
   ]
  },
  {
   "cell_type": "code",
   "execution_count": 42,
   "metadata": {
    "ExecuteTime": {
     "end_time": "2019-08-24T19:03:41.400049Z",
     "start_time": "2019-08-24T19:03:38.408926Z"
    }
   },
   "outputs": [],
   "source": [
    "# Extract list with the different players\n",
    "players = list(set(data_raw.player))\n",
    "player_vector_cols = list(data.columns)\n",
    "player_vector_cols.append('accuracy indicator')\n",
    "\n",
    "# Create summary vector for each player\n",
    "player_info_list = []\n",
    "for player in players:\n",
    "    player_vector = []\n",
    "    player_subdf = data_raw[data_raw.player == player]\n",
    "    # Loop through the different columns\n",
    "    for col in data.columns:\n",
    "        # Take the mean over column values for numerical features\n",
    "        if 'Encoded' not in col:\n",
    "            player_vector.append(player_subdf[col].mean())\n",
    "        # Take the majority value over column values for discrete features\n",
    "        else: \n",
    "            player_vector.append(RandomSampleProbDist(player_subdf[col]))\n",
    "    # Add accuracy indicator\n",
    "    player_vector.append(len(player_subdf))\n",
    "    player_info_list.append(player_vector)\n",
    "    \n",
    "# Create summary dataframe\n",
    "player_vector_df = pd.DataFrame(data = player_info_list, index=players, columns=player_vector_cols)"
   ]
  },
  {
   "cell_type": "code",
   "execution_count": 43,
   "metadata": {
    "ExecuteTime": {
     "end_time": "2019-08-24T19:03:41.419641Z",
     "start_time": "2019-08-24T19:03:41.403391Z"
    },
    "scrolled": true
   },
   "outputs": [
    {
     "name": "stdout",
     "output_type": "stream",
     "text": [
      "Summary information player vector dataframe: Player specific feature vectors are captured for 288 players.\n",
      "\n",
      "The players indicating feature vectors based on less than 5 games:\n",
      " ----------------------------------------------------------------------------------------------------\n",
      "wunder\n",
      "riva\n",
      "micao\n",
      "ruin\n",
      "aiming\n",
      "hades\n",
      "jinoo\n",
      "sarkis\n",
      "andy\n",
      "uzi\n",
      "stefan\n",
      "shook\n",
      "bright\n",
      "titan\n",
      "tian\n",
      "nyu\n",
      "crow\n",
      "absolut\n",
      "xiaobo\n",
      "fabfabulous\n",
      "madness\n",
      "rain\n",
      "altec\n",
      "otto\n",
      "kakan\n",
      "wildturtle\n",
      "deftly\n",
      "berentt\n",
      "hauntzer\n",
      "mystiques\n",
      "ruler\n",
      "zz1tai\n",
      "jinjiao\n",
      "mikyx\n",
      "kiin\n",
      "garo\n",
      "yoda\n",
      "letme\n",
      "eclipse\n",
      "zergsting\n",
      "deul\n",
      "lwx\n",
      "hauz\n",
      "juejue\n",
      "viper\n",
      "keith\n",
      "dumbledoge\n",
      "hanabi\n",
      "an\n",
      "wizer\n",
      "loken\n",
      "yampi\n",
      "sangyoon\n",
      "trix\n",
      "sofm\n",
      "lindarang\n",
      "gori\n",
      "cheong\n",
      "bwipo\n",
      "huni\n",
      "chen9\n",
      "auto\n",
      "fiseyin\n",
      "brtt\n",
      "sneaky\n",
      "saken\n",
      "bang\n",
      "peng\n",
      "pray\n",
      "inori\n",
      "hwq\n",
      "bush\n",
      "waena\n",
      "karsa\n",
      "alexich\n",
      "minerva\n",
      "light\n",
      "hylissang\n"
     ]
    }
   ],
   "source": [
    "# Intermediate summary\n",
    "print(\"Summary information player vector dataframe: Player specific feature vectors are captured for\", len(player_vector_df), \"players.\\n\")\n",
    "\n",
    "# Extract vector accuracy information\n",
    "print(\"The players indicating feature vectors based on less than 5 games:\\n\", '-'*100)\n",
    "for player, acc_ind in zip(list(player_vector_df.index), player_vector_df['accuracy indicator']):\n",
    "    if acc_ind < 5:\n",
    "        print(player)"
   ]
  },
  {
   "cell_type": "code",
   "execution_count": 44,
   "metadata": {
    "ExecuteTime": {
     "end_time": "2019-08-24T19:03:42.046254Z",
     "start_time": "2019-08-24T19:03:41.421545Z"
    }
   },
   "outputs": [
    {
     "name": "stdout",
     "output_type": "stream",
     "text": [
      "==================================================================================================== \n",
      "Overview of variable:  Accuracy indicator \n",
      " ====================================================================================================\n"
     ]
    },
    {
     "data": {
      "image/png": "[encoded data removed]",
      "text/plain": [
       "<Figure size 432x288 with 1 Axes>"
      ]
     },
     "metadata": {
      "needs_background": "light"
     },
     "output_type": "display_data"
    },
    {
     "name": "stdout",
     "output_type": "stream",
     "text": [
      "-------------------- \n",
      "Summary statistics:\n",
      " --------------------\n",
      "Minimum value: 1\n",
      "Mean: 53.8681\n",
      "Standard deviation: 72.6532\n",
      "Median: 19.0\n",
      "Maximal value: 325\n"
     ]
    },
    {
     "data": {
      "image/png": "[encoded data removed]",
      "text/plain": [
       "<Figure size 432x288 with 1 Axes>"
      ]
     },
     "metadata": {
      "needs_background": "light"
     },
     "output_type": "display_data"
    },
    {
     "name": "stdout",
     "output_type": "stream",
     "text": [
      "-------------------- \n",
      "Outlier detection:\n",
      " --------------------\n",
      "List of outliers: {324, 325, 309, 310, 313, 286}\n"
     ]
    },
    {
     "data": {
      "image/png": "[encoded data removed]",
      "text/plain": [
       "<Figure size 432x288 with 1 Axes>"
      ]
     },
     "metadata": {
      "needs_background": "light"
     },
     "output_type": "display_data"
    },
    {
     "name": "stdout",
     "output_type": "stream",
     "text": [
      "-------------------- \n",
      "Check for normal distribution:\n",
      " --------------------\n",
      "Skewedness: 1.7771\n",
      "Kurtosis: 2.7095\n"
     ]
    },
    {
     "data": {
      "text/plain": [
       "<Figure size 432x288 with 0 Axes>"
      ]
     },
     "metadata": {},
     "output_type": "display_data"
    }
   ],
   "source": [
    "# Accuracy indicator distribution\n",
    "SummaryNumericVar(player_vector_df['accuracy indicator'], 'Accuracy indicator')"
   ]
  },
  {
   "cell_type": "markdown",
   "metadata": {},
   "source": [
    "### 4.2 Estimate player strength parameters"
   ]
  },
  {
   "cell_type": "code",
   "execution_count": 45,
   "metadata": {
    "ExecuteTime": {
     "end_time": "2019-08-24T19:03:42.052129Z",
     "start_time": "2019-08-24T19:03:42.048310Z"
    }
   },
   "outputs": [],
   "source": [
    "# Create dictionary to capture strength parameter information\n",
    "strength_param_dict = dict()\n",
    "\n",
    "# Extract columns not used for model fit\n",
    "additional_columns = ['result', 'accuracy indicator']\n",
    "strength_param_dict['accuracy indicator'] = player_vector_df['accuracy indicator']"
   ]
  },
  {
   "cell_type": "markdown",
   "metadata": {},
   "source": [
    "##### Lasso classification based parameter approximation"
   ]
  },
  {
   "cell_type": "code",
   "execution_count": 46,
   "metadata": {
    "ExecuteTime": {
     "end_time": "2019-08-24T19:03:42.094273Z",
     "start_time": "2019-08-24T19:03:42.054305Z"
    }
   },
   "outputs": [],
   "source": [
    "# 1. Fit (trained) lasso classification model\n",
    "strength_param_dict['lasso'] = [y for x, y in fitted_logistic_L1penalty_model.predict_proba(player_vector_df[selected_features_rfe])]"
   ]
  },
  {
   "cell_type": "markdown",
   "metadata": {},
   "source": [
    "##### Ridge classification based parameter approximation"
   ]
  },
  {
   "cell_type": "code",
   "execution_count": 47,
   "metadata": {
    "ExecuteTime": {
     "end_time": "2019-08-24T19:03:42.172798Z",
     "start_time": "2019-08-24T19:03:42.096956Z"
    },
    "scrolled": true
   },
   "outputs": [],
   "source": [
    "# 2. Fit ridge classification model with best regularisation parameter based on CV\n",
    "additional_columns = ['result', 'accuracy indicator']\n",
    "ridge = RidgeClassifier(alpha = ridge_model_dict['regularisation_param'], fit_intercept = False)\n",
    "fitted_ridge = ridge.fit(x_train, y_train)\n",
    "logit_trans_predictions_ridge = fitted_ridge.decision_function(player_vector_df[[x for x in data.columns if x not in additional_columns]])\n",
    "strength_param_dict['ridge'] = np.exp(logit_trans_predictions_ridge) / (1 + np.exp(logit_trans_predictions_ridge))"
   ]
  },
  {
   "cell_type": "markdown",
   "metadata": {},
   "source": [
    "Remark: There is no predicted probability option for the RidgeClassifier because this model is not easy to interpret as a probability model. The decision function of the RidgeClassifier model considers a logit transformation of the actual class probabilities. If decision function is greater than zero then class 1 is predicted otherwise predict class 0, corresponding to a classical logit approach. By back-transforming these predictions we can get the predicted probabilities."
   ]
  },
  {
   "cell_type": "markdown",
   "metadata": {},
   "source": [
    "##### Result averaging based parameter approximation"
   ]
  },
  {
   "cell_type": "code",
   "execution_count": 48,
   "metadata": {
    "ExecuteTime": {
     "end_time": "2019-08-24T19:03:42.222793Z",
     "start_time": "2019-08-24T19:03:42.198579Z"
    }
   },
   "outputs": [],
   "source": [
    "# 3. Expected outcome of the game based on player-vector averaging \n",
    "strength_param_dict['result'] = player_vector_df['result']"
   ]
  },
  {
   "cell_type": "code",
   "execution_count": 49,
   "metadata": {
    "ExecuteTime": {
     "end_time": "2019-08-24T19:03:42.274665Z",
     "start_time": "2019-08-24T19:03:42.240497Z"
    }
   },
   "outputs": [
    {
     "data": {
      "text/html": [
       "<div>\n",
       "<style scoped>\n",
       "    .dataframe tbody tr th:only-of-type {\n",
       "        vertical-align: middle;\n",
       "    }\n",
       "\n",
       "    .dataframe tbody tr th {\n",
       "        vertical-align: top;\n",
       "    }\n",
       "\n",
       "    .dataframe thead th {\n",
       "        text-align: right;\n",
       "    }\n",
       "</style>\n",
       "<table border=\"1\" class=\"dataframe\">\n",
       "  <thead>\n",
       "    <tr style=\"text-align: right;\">\n",
       "      <th></th>\n",
       "      <th>accuracy indicator</th>\n",
       "      <th>lasso</th>\n",
       "      <th>ridge</th>\n",
       "      <th>result</th>\n",
       "    </tr>\n",
       "  </thead>\n",
       "  <tbody>\n",
       "    <tr>\n",
       "      <th>nisqy</th>\n",
       "      <td>158</td>\n",
       "      <td>0.521815</td>\n",
       "      <td>0.508940</td>\n",
       "      <td>0.556962</td>\n",
       "    </tr>\n",
       "    <tr>\n",
       "      <th>soz purefect</th>\n",
       "      <td>61</td>\n",
       "      <td>0.287110</td>\n",
       "      <td>0.483822</td>\n",
       "      <td>0.409836</td>\n",
       "    </tr>\n",
       "    <tr>\n",
       "      <th>justice</th>\n",
       "      <td>9</td>\n",
       "      <td>0.048881</td>\n",
       "      <td>0.432497</td>\n",
       "      <td>0.333333</td>\n",
       "    </tr>\n",
       "    <tr>\n",
       "      <th>wunder</th>\n",
       "      <td>1</td>\n",
       "      <td>0.000165</td>\n",
       "      <td>0.234456</td>\n",
       "      <td>0.000000</td>\n",
       "    </tr>\n",
       "    <tr>\n",
       "      <th>riva</th>\n",
       "      <td>2</td>\n",
       "      <td>0.048006</td>\n",
       "      <td>0.422998</td>\n",
       "      <td>0.000000</td>\n",
       "    </tr>\n",
       "  </tbody>\n",
       "</table>\n",
       "</div>"
      ],
      "text/plain": [
       "              accuracy indicator     lasso     ridge    result\n",
       "nisqy                        158  0.521815  0.508940  0.556962\n",
       "soz purefect                  61  0.287110  0.483822  0.409836\n",
       "justice                        9  0.048881  0.432497  0.333333\n",
       "wunder                         1  0.000165  0.234456  0.000000\n",
       "riva                           2  0.048006  0.422998  0.000000"
      ]
     },
     "execution_count": 49,
     "metadata": {},
     "output_type": "execute_result"
    }
   ],
   "source": [
    "# Create dataframe of strength parameter summarization\n",
    "strength_param_df = pd.DataFrame(strength_param_dict)\n",
    "strength_param_df.head()"
   ]
  },
  {
   "cell_type": "code",
   "execution_count": 50,
   "metadata": {
    "ExecuteTime": {
     "end_time": "2019-08-24T19:03:42.295697Z",
     "start_time": "2019-08-24T19:03:42.276255Z"
    }
   },
   "outputs": [
    {
     "data": {
      "text/plain": [
       "lasso  result    0.772638\n",
       "ridge  result    0.833355\n",
       "lasso  ridge     0.852671\n",
       "dtype: float64"
      ]
     },
     "execution_count": 50,
     "metadata": {},
     "output_type": "execute_result"
    }
   ],
   "source": [
    "# Print list with correlated features\n",
    "corrmap_abs = strength_param_df.iloc[:,1:].corr().abs()\n",
    "corrmap_abs_sorted = corrmap_abs.unstack().sort_values(kind = \"quicksort\", ascending = False)\n",
    "corrmap_abs_sorted[3:][::-2]"
   ]
  },
  {
   "cell_type": "markdown",
   "metadata": {},
   "source": [
    "### 4.3 Investigation strength parameter characteristics"
   ]
  },
  {
   "cell_type": "code",
   "execution_count": 51,
   "metadata": {
    "ExecuteTime": {
     "end_time": "2019-08-24T19:03:44.193944Z",
     "start_time": "2019-08-24T19:03:42.297230Z"
    },
    "scrolled": false
   },
   "outputs": [
    {
     "name": "stdout",
     "output_type": "stream",
     "text": [
      "==================================================================================================== \n",
      "Overview of variable:  lasso \n",
      " ====================================================================================================\n"
     ]
    },
    {
     "data": {
      "image/png": "[encoded data removed]",
      "text/plain": [
       "<Figure size 432x288 with 1 Axes>"
      ]
     },
     "metadata": {
      "needs_background": "light"
     },
     "output_type": "display_data"
    },
    {
     "name": "stdout",
     "output_type": "stream",
     "text": [
      "-------------------- \n",
      "Summary statistics:\n",
      " --------------------\n",
      "Minimum value: 3.6241969919709638e-09\n",
      "Mean: 0.3622\n",
      "Standard deviation: 0.3367\n",
      "Median: 0.2859\n",
      "Maximal value: 0.9999992721018349\n"
     ]
    },
    {
     "data": {
      "image/png": "[encoded data removed]",
      "text/plain": [
       "<Figure size 432x288 with 1 Axes>"
      ]
     },
     "metadata": {
      "needs_background": "light"
     },
     "output_type": "display_data"
    },
    {
     "name": "stdout",
     "output_type": "stream",
     "text": [
      "-------------------- \n",
      "Outlier detection:\n",
      " --------------------\n",
      "List of outliers: set()\n"
     ]
    },
    {
     "data": {
      "image/png": "[encoded data removed]",
      "text/plain": [
       "<Figure size 432x288 with 1 Axes>"
      ]
     },
     "metadata": {
      "needs_background": "light"
     },
     "output_type": "display_data"
    },
    {
     "name": "stdout",
     "output_type": "stream",
     "text": [
      "-------------------- \n",
      "Check for normal distribution:\n",
      " --------------------\n",
      "Skewedness: 0.5859\n",
      "Kurtosis: -1.0236\n",
      "==================================================================================================== \n",
      "Overview of variable:  ridge \n",
      " ====================================================================================================\n"
     ]
    },
    {
     "data": {
      "image/png": "[encoded data removed]",
      "text/plain": [
       "<Figure size 432x288 with 1 Axes>"
      ]
     },
     "metadata": {
      "needs_background": "light"
     },
     "output_type": "display_data"
    },
    {
     "name": "stdout",
     "output_type": "stream",
     "text": [
      "-------------------- \n",
      "Summary statistics:\n",
      " --------------------\n",
      "Minimum value: 0.12154123870684695\n",
      "Mean: 0.4692\n",
      "Standard deviation: 0.1132\n",
      "Median: 0.4721\n",
      "Maximal value: 0.8640186951704767\n"
     ]
    },
    {
     "data": {
      "image/png": "[encoded data removed]",
      "text/plain": [
       "<Figure size 432x288 with 1 Axes>"
      ]
     },
     "metadata": {
      "needs_background": "light"
     },
     "output_type": "display_data"
    },
    {
     "name": "stdout",
     "output_type": "stream",
     "text": [
      "-------------------- \n",
      "Outlier detection:\n",
      " --------------------\n",
      "List of outliers: {0.85, 0.12, 0.81, 0.84, 0.86}\n"
     ]
    },
    {
     "data": {
      "image/png": "[encoded data removed]",
      "text/plain": [
       "<Figure size 432x288 with 1 Axes>"
      ]
     },
     "metadata": {
      "needs_background": "light"
     },
     "output_type": "display_data"
    },
    {
     "name": "stdout",
     "output_type": "stream",
     "text": [
      "-------------------- \n",
      "Check for normal distribution:\n",
      " --------------------\n",
      "Skewedness: 0.3515\n",
      "Kurtosis: 1.9104\n",
      "==================================================================================================== \n",
      "Overview of variable:  result \n",
      " ====================================================================================================\n"
     ]
    },
    {
     "data": {
      "image/png": "[encoded data removed]",
      "text/plain": [
       "<Figure size 432x288 with 1 Axes>"
      ]
     },
     "metadata": {
      "needs_background": "light"
     },
     "output_type": "display_data"
    },
    {
     "name": "stdout",
     "output_type": "stream",
     "text": [
      "-------------------- \n",
      "Summary statistics:\n",
      " --------------------\n",
      "Minimum value: 0.0\n",
      "Mean: 0.4153\n",
      "Standard deviation: 0.261\n",
      "Median: 0.4286\n",
      "Maximal value: 1.0\n"
     ]
    },
    {
     "data": {
      "image/png": "[encoded data removed]",
      "text/plain": [
       "<Figure size 432x288 with 1 Axes>"
      ]
     },
     "metadata": {
      "needs_background": "light"
     },
     "output_type": "display_data"
    },
    {
     "name": "stdout",
     "output_type": "stream",
     "text": [
      "-------------------- \n",
      "Outlier detection:\n",
      " --------------------\n",
      "List of outliers: set()\n"
     ]
    },
    {
     "data": {
      "image/png": "[encoded data removed]",
      "text/plain": [
       "<Figure size 432x288 with 1 Axes>"
      ]
     },
     "metadata": {
      "needs_background": "light"
     },
     "output_type": "display_data"
    },
    {
     "name": "stdout",
     "output_type": "stream",
     "text": [
      "-------------------- \n",
      "Check for normal distribution:\n",
      " --------------------\n",
      "Skewedness: 0.3094\n",
      "Kurtosis: 0.0804\n"
     ]
    },
    {
     "data": {
      "text/plain": [
       "<Figure size 432x288 with 0 Axes>"
      ]
     },
     "metadata": {},
     "output_type": "display_data"
    }
   ],
   "source": [
    "# Visualisation strength parameter distributions (based on the different techniques)\n",
    "for col in strength_param_df.columns[1:]:\n",
    "    SummaryNumericVar(strength_param_df[col], col)"
   ]
  },
  {
   "cell_type": "markdown",
   "metadata": {
    "ExecuteTime": {
     "end_time": "2019-03-26T14:30:10.779352Z",
     "start_time": "2019-03-26T14:30:10.606507Z"
    }
   },
   "source": [
    "### 4.4 Write data away"
   ]
  },
  {
   "cell_type": "code",
   "execution_count": 52,
   "metadata": {
    "ExecuteTime": {
     "end_time": "2019-08-24T19:03:44.216402Z",
     "start_time": "2019-08-24T19:03:44.195937Z"
    }
   },
   "outputs": [],
   "source": [
    "# Save the player strength parameter data\n",
    "with open('/home/je32910/MasterThesis_ComputationalStatistics/pickles/' + saved_filename + '.pickle', 'wb') as f:\n",
    "    pickle.dump(strength_param_df, f)"
   ]
  }
 ],
 "metadata": {
  "kernelspec": {
   "display_name": "Python [conda env:python36]",
   "language": "python",
   "name": "conda-env-python36-py"
  },
  "language_info": {
   "codemirror_mode": {
    "name": "ipython",
    "version": 3
   },
   "file_extension": ".py",
   "mimetype": "text/x-python",
   "name": "python",
   "nbconvert_exporter": "python",
   "pygments_lexer": "ipython3",
   "version": "3.6.8"
  }
 },
 "nbformat": 4,
 "nbformat_minor": 2
}
