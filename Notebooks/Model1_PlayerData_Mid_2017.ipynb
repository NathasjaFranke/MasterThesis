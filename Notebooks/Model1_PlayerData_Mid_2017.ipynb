{
 "cells": [
  {
   "cell_type": "markdown",
   "metadata": {},
   "source": [
    "# Model 1: Estimation of player strength parameters (Mid)"
   ]
  },
  {
   "cell_type": "code",
   "execution_count": 1,
   "metadata": {
    "ExecuteTime": {
     "end_time": "2019-07-19T15:56:42.162833Z",
     "start_time": "2019-07-19T15:56:42.156349Z"
    }
   },
   "outputs": [],
   "source": [
    "# Filename standardized data\n",
    "loaded_pp_filename = 'playerdata2017_preprocessed_mid'\n",
    "loaded_std_filename = 'playerdata2017_standardized_mid'\n",
    "saved_filename = 'playerdata2017_strenghtparam_mid'\n",
    "#loaded_pp_filename = 'playerdata2018_preprocessed_mid'\n",
    "#loaded_std_filename = 'playerdata2018_standardized_mid'\n",
    "#saved_filename = 'playerdata2018_strenghtparam_mid'"
   ]
  },
  {
   "cell_type": "markdown",
   "metadata": {},
   "source": [
    "## 0. Load libraries and define functions"
   ]
  },
  {
   "cell_type": "markdown",
   "metadata": {},
   "source": [
    "### 0.1 General python functionality"
   ]
  },
  {
   "cell_type": "code",
   "execution_count": 2,
   "metadata": {
    "ExecuteTime": {
     "end_time": "2019-07-19T15:56:45.311615Z",
     "start_time": "2019-07-19T15:56:42.164839Z"
    }
   },
   "outputs": [],
   "source": [
    "# Functions\n",
    "import numpy as np\n",
    "import os\n",
    "import pickle\n",
    "import pandas as pd\n",
    "import operator\n",
    "import itertools\n",
    "from numpy.random import choice\n",
    "from collections import Counter\n",
    "import statistics\n",
    "from scipy import stats\n",
    "\n",
    "# Functions used for data visualization\n",
    "import seaborn as sns\n",
    "import matplotlib.pyplot as plt"
   ]
  },
  {
   "cell_type": "code",
   "execution_count": 3,
   "metadata": {
    "ExecuteTime": {
     "end_time": "2019-07-19T15:56:46.256349Z",
     "start_time": "2019-07-19T15:56:45.314211Z"
    }
   },
   "outputs": [],
   "source": [
    "# Special functions needed for custom functions\n",
    "import sklearn\n",
    "from sklearn.model_selection import train_test_split\n",
    "from sklearn.linear_model import Ridge, RidgeCV, RidgeClassifierCV, LogisticRegression, ElasticNetCV, ElasticNet, Lasso, RidgeClassifier\n",
    "from sklearn import metrics\n",
    "from sklearn.feature_selection import RFECV\n",
    "from sklearn.ensemble import RandomForestClassifier\n",
    "from sklearn.model_selection import GridSearchCV"
   ]
  },
  {
   "cell_type": "code",
   "execution_count": 4,
   "metadata": {
    "ExecuteTime": {
     "end_time": "2019-07-19T15:56:46.268574Z",
     "start_time": "2019-07-19T15:56:46.259943Z"
    }
   },
   "outputs": [],
   "source": [
    "# Surpress printing warnings\n",
    "import warnings\n",
    "warnings.filterwarnings(\"ignore\")"
   ]
  },
  {
   "cell_type": "markdown",
   "metadata": {},
   "source": [
    "### 0.2 Custom functions"
   ]
  },
  {
   "cell_type": "code",
   "execution_count": 5,
   "metadata": {
    "ExecuteTime": {
     "end_time": "2019-07-19T15:56:46.322789Z",
     "start_time": "2019-07-19T15:56:46.270869Z"
    }
   },
   "outputs": [],
   "source": [
    "### Function used to return a summary for categorical variables\n",
    "def SummaryCategoricalVar(list_of_values, title, threshold = 20, top = 10):\n",
    "    \"\"\"\n",
    "    param: list_of_values (list): A list of categorical values from which we like to obtain the distribution\n",
    "    param: title (string): The title for the visualization\n",
    "    param: threshold (int): The maximal number of categories that should be visualized\n",
    "    param: top (int): The top k values that should be returned in the written summary when the number of categories is above the threshold\n",
    "    \"\"\"\n",
    "    # Count the number of occurrances in the list\n",
    "    cnt = Counter(list_of_values)\n",
    "    sorted_cnt = sorted(cnt.items(), key=operator.itemgetter(1))[::-1]\n",
    "    \n",
    "    # Show the percentage dictionary if to many categories to represent\n",
    "    print(\"-\"* 100, \"\\nOverview of variable: \", title, \"\\n\", \"-\"*100)\n",
    "    print(\"Total categories:\", len(cnt), \"\\n\")\n",
    "    if len(cnt) > threshold:\n",
    "        if len(cnt) < top*2:\n",
    "            for key, value in sorted_cnt:\n",
    "                print(key, ':', round(value/len(list_of_values)*100, 4), \"%\")\n",
    "        else:\n",
    "            print(\"The 10 with the highest percentage data available:\\n\")\n",
    "            for key, value in sorted_cnt[:top]:\n",
    "                print(key, ':', round(value/len(list_of_values)*100, 4), \"%\")\n",
    "            print(\"\\nThe 10 with the lowest percentage data available:\\n\")\n",
    "            for key, value in sorted_cnt[len(cnt) - top:]:\n",
    "                print(key, ':', round(value/len(list_of_values)*100, 4), \"%\")\n",
    "                \n",
    "    # Visualization of labelled data distribution\n",
    "    else:\n",
    "        plt.barh(range(1, len(sorted_cnt)+1), \n",
    "                 list(map(lambda x: (x/len(list_of_values)*100), [score for label, score in sorted_cnt])), \n",
    "                 tick_label = list([label for label, score in sorted_cnt]),\n",
    "                 color = 'cornflowerblue', \n",
    "                 edgecolor = 'steelblue')\n",
    "        plt.ylabel('Label')\n",
    "        plt.xlabel('Percentage observations in dataset')\n",
    "        plt.title(title)\n",
    "        plt.show()    \n",
    "        plt.savefig('Barplot_' + title + '.png')"
   ]
  },
  {
   "cell_type": "code",
   "execution_count": 6,
   "metadata": {
    "ExecuteTime": {
     "end_time": "2019-07-19T15:56:46.358662Z",
     "start_time": "2019-07-19T15:56:46.324982Z"
    }
   },
   "outputs": [],
   "source": [
    "### Function used to return a summary for numeric variables\n",
    "def SummaryNumericVar(list_of_values, title):\n",
    "    \"\"\"\n",
    "    param: list_of_values (list): A list of categorical values from which we like to obtain the distribution\n",
    "    param: title (string): The title for the visualization\n",
    "    \"\"\"\n",
    "    \n",
    "    # Title varibale\n",
    "    print(\"=\"* 100, \"\\nOverview of variable: \", title, \"\\n\", \"=\"*100)\n",
    "\n",
    "    # An \"interface\" to matplotlib.axes.Axes.hist() method\n",
    "    n, bins, patches = plt.hist(x = list_of_values, bins='auto', color= '#0504aa', alpha=0.7, rwidth=0.85)\n",
    "    plt.grid(axis='y', alpha=0.75)\n",
    "    plt.xlabel('Value')\n",
    "    plt.ylabel('Frequency')\n",
    "    plt.title(title)\n",
    "    plt.ylim(top=np.ceil(n.max() / 10) * 10 if n.max() % 10 else n.max() + 10)\n",
    "    plt.show()\n",
    "    plt.savefig('Frequency_' + title + '.png')\n",
    "\n",
    "    # Print summary statistics\n",
    "    print(\"-\"*20, \"\\nSummary statistics:\\n\", \"-\"*20)\n",
    "    print(\"Minimum value:\", min(list_of_values))\n",
    "    print(\"Mean:\", round(statistics.mean(list_of_values), 4))\n",
    "    print(\"Standard deviation:\", round(statistics.stdev(list_of_values), 4))\n",
    "    print(\"Median:\", round(statistics.median(list_of_values), 4))\n",
    "    print(\"Maximal value:\", max(list_of_values))\n",
    "\n",
    "    # Plot boxplot\n",
    "    plt.boxplot(list_of_values, 0, 'grey', 0)\n",
    "    plt.xlabel('Value')\n",
    "    plt.title(title)\n",
    "    plt.show()\n",
    "    plt.savefig('Boxplot_' + title + '.png')\n",
    "\n",
    "    # Present outliers\n",
    "    print(\"-\"*20, \"\\nOutlier detection:\\n\", \"-\"*20)\n",
    "    print(\"List of outliers:\", {round(value,2) for z_score, value in zip(np.abs(stats.zscore(list_of_values)), list_of_values) if z_score > 3})\n",
    "\n",
    "    # Check for normally distributed\n",
    "    stats.probplot(list_of_values, dist=\"norm\", plot= plt)\n",
    "    plt.show()\n",
    "    plt.savefig('Probabilityplot_' + title + '.png')\n",
    "\n",
    "    # Statistics to check normality\n",
    "    print(\"-\"*20, \"\\nCheck for normal distribution:\\n\", \"-\"*20)\n",
    "    print(\"Skewedness:\", round(stats.skew(list_of_values), 4))\n",
    "    print(\"Kurtosis:\", round(stats.kurtosis(list_of_values), 4))"
   ]
  },
  {
   "cell_type": "code",
   "execution_count": 7,
   "metadata": {
    "ExecuteTime": {
     "end_time": "2019-07-19T15:56:46.400075Z",
     "start_time": "2019-07-19T15:56:46.362157Z"
    }
   },
   "outputs": [],
   "source": [
    "### Function used to split the data into training and test data\n",
    "def data_splitter(df, response_name = 'target', split_threshold = 0.15, seed = 42):\n",
    "    \"\"\"\n",
    "    Function used to split a dataframe into test and training data\n",
    "    \n",
    "    param: df (Panda's dataframe object)\n",
    "    param: response_name (string): The name of the response variable in the dataframe\n",
    "    param: split_threshold (float): The split threshold used\n",
    "    param: seed (int): Integer defining the seed for random split of the data\n",
    "    \n",
    "    return: (tuple) A tuple with four pandas dataframe objects\n",
    "    \"\"\"\n",
    "    # Split the dataframe into features and response variable\n",
    "    df_tmp = df.copy()\n",
    "    x, y = df_tmp.drop([response_name], axis = 1), df[response_name]\n",
    "    # Split the feature and response variable into training and test data\n",
    "    x_train, x_test, y_train, y_test = train_test_split(x, y, test_size = split_threshold, random_state = seed)\n",
    "    return (x_train, x_test, y_train, y_test)"
   ]
  },
  {
   "cell_type": "code",
   "execution_count": 8,
   "metadata": {
    "ExecuteTime": {
     "end_time": "2019-07-19T15:56:46.433330Z",
     "start_time": "2019-07-19T15:56:46.402402Z"
    }
   },
   "outputs": [],
   "source": [
    "### Function used to generate a summary of the input model (binary classes)\n",
    "def binary_class_evaluator(model, x_test, y_test, threshold = 0.5, elasticnet = False):\n",
    "    \"\"\"\n",
    "    Function returning a tuple with sensitivity, specificity and AUC metrics for specific model\n",
    "    \n",
    "    param: model (model): The model we like to evaluate\n",
    "    param: x_test (list): List of lists of numpy arrays\n",
    "    param: y_test (list): Binary values indicating the outcome variable\n",
    "    param: threshold (float): The classification threshold used\n",
    "    param: elasticnet (bool): Booling indicator for specifying whether the model is elastic net based\n",
    "\n",
    "    return: A tuple containing the calculated sensitivity, specificity and AUC metrics\n",
    "    \"\"\"\n",
    "    # Calculate the different summary statistics based on the model and test data\n",
    "    test_data =  list(y_test) \n",
    "    model_preds = list(model.predict(x_test)) if not elasticnet else [1.0 if x > 0 else 0.0 for x in model.predict(x_test)]\n",
    "    model_acc = metrics.accuracy_score(test_data, model_preds)\n",
    "    true_pos = len([mp for mp, td in zip(model_preds, test_data) if mp > threshold and td == 1])\n",
    "    false_neg = len([mp for mp, td in zip(model_preds, test_data) if mp < threshold and td == 1])\n",
    "    true_neg = len([mp for mp, td in zip(model_preds, test_data) if mp < threshold and td == 0])\n",
    "    false_pos = len([mp for mp, td in zip(model_preds, test_data) if mp > threshold and td == 0])\n",
    "    \n",
    "    # Print intermediate summary to the user\n",
    "    print(\"Based on a threshold of\", threshold, \"the following summary statistics can be obtained:\\n\", \"-\"*100)\n",
    "    print(true_pos, \"true positives over all positives (the wins that were correctly classified).\")\n",
    "    print(false_pos, \"false positives (the wins that were wrongly classified).\")\n",
    "    print(true_neg, \"true negatives (the losses that were correctly classified).\")\n",
    "    print(false_neg, \"false negatives (the losses that were wrongly classified).\\n\")\n",
    "    print(\"The sensitivity is: \", true_pos / (true_pos + false_neg))\n",
    "    print(\"The specificity is: \", true_neg / (true_neg + false_pos))\n",
    "    \n",
    "    # Plot the ROC curve for the model\n",
    "    print(\"\\n\\nAccuracy:\", model_acc, \"\\n\", \"-\"*100)\n",
    "    fpr, tpr, _ = metrics.roc_curve(test_data, model_preds)\n",
    "    auc = metrics.roc_auc_score(test_data, model_preds)\n",
    "    plt.plot(fpr, tpr, label= \"auc: \" + str(round(auc, 4)))\n",
    "    plt.legend(loc = 4)\n",
    "    plt.title('ROC curve')\n",
    "    plt.show()\n",
    "    \n",
    "    # Return sensitivity and specificity values to the user \n",
    "    return true_pos / (true_pos + false_neg), true_neg / (true_neg + false_pos), auc, model_acc"
   ]
  },
  {
   "cell_type": "code",
   "execution_count": 9,
   "metadata": {
    "ExecuteTime": {
     "end_time": "2019-07-19T15:56:46.468924Z",
     "start_time": "2019-07-19T15:56:46.435491Z"
    }
   },
   "outputs": [],
   "source": [
    "### Function used to plot the confusion matrix (normalization can be applied if desired)\n",
    "def plot_confusion_matrix(model, x_test, y_test, classes, normalize = False, elasticnet = False, cmap = plt.cm.Blues):\n",
    "    \"\"\"\n",
    "    Function that visualizes the confusion matrix based on the predictions made by the fitted model and their correspondence\n",
    "    to the observed test data. The option is available to return the normalized confusion matrix.\n",
    "    \n",
    "    param: model (model): The model we like to evaluate\n",
    "    param: x_test (list): List of lists of numpy arrays\n",
    "    param: y_test (list): Binary values indicating the outcome variable\n",
    "    param: classes (list): A list of classes that correspond to the numbered labels in the confusion matrix in that order.\n",
    "    param: normalize (bool): Booling indicator for specification of returning the normalized or non-normalized confusion matrix.\n",
    "    param: elasticnet (bool): Booling indicator for specifying whether the model is elastic net based\n",
    "    \"\"\"\n",
    "    # Approximate the confusion matrix based on model predictions\n",
    "    model_preds = list(model.predict(x_test)) if not elasticnet else [1.0 if x > 0 else 0.0 for x in model.predict(x_test)]\n",
    "    cm = sklearn.metrics.confusion_matrix(y_test, model_preds)\n",
    "    \n",
    "    # Normalize the cm if desired\n",
    "    title = 'Normalized confusion matrix' if normalize else 'Confusion matrix'\n",
    "    if normalize:\n",
    "        cm = cm.astype('float') / cm.sum(axis=1)[:, np.newaxis]\n",
    "    \n",
    "    # Create confusion matrix\n",
    "    print(title, \":\\n\", \"-\"*100)\n",
    "    plt.imshow(cm, interpolation='nearest', cmap=cmap)\n",
    "    plt.title(title)\n",
    "    plt.colorbar()\n",
    "    tick_marks = np.arange(len(classes))\n",
    "    plt.xticks(tick_marks, classes, rotation=45)\n",
    "    plt.yticks(tick_marks, classes)\n",
    "    fmt = '.2f' if normalize else 'd'\n",
    "    thresh = cm.max() / 2.\n",
    "    for i, j in itertools.product(range(cm.shape[0]), range(cm.shape[1])):\n",
    "        plt.text(j, i, format(cm[i, j], fmt),\n",
    "                 horizontalalignment=\"center\",\n",
    "                 color=\"white\" if cm[i, j] > thresh else \"black\")\n",
    "\n",
    "    plt.tight_layout()\n",
    "    plt.ylabel('True label')\n",
    "    plt.xlabel('Predicted label')\n",
    "    plt.show()"
   ]
  },
  {
   "cell_type": "code",
   "execution_count": 10,
   "metadata": {
    "ExecuteTime": {
     "end_time": "2019-07-19T15:56:46.513208Z",
     "start_time": "2019-07-19T15:56:46.471158Z"
    }
   },
   "outputs": [],
   "source": [
    "### Function used to extract the top10 most important features based on the magnitute of the coefficients\n",
    "def important_features_extractor(model, fitted_features, top = 10, elasticnet = False):\n",
    "    \"\"\"\n",
    "    Function used to extract a dictionary mapping the features used in the model with the estimates of their coefficients\n",
    "    \n",
    "    param: model (model): The model we like to evaluate.\n",
    "    param: fitted_features (list): List capturing the different features evaluated by the model.\n",
    "    param: top (int): The amount of fetaures you like to be printed as output (sorted based on decreasing importance).\n",
    "    param: elasticnet (bool): Booling indicator for specifying whether the model is elastic net based\n",
    "    return: (dict) A dictionary mapping the features with their corresponding coefficient estimates.\n",
    "    \"\"\"\n",
    "    # Extract model coefficients\n",
    "    coefficients = model.coef_[0] if not elasticnet else model.coef_\n",
    "    coef_dict = {col:coef for col, coef in zip(fitted_features, coefficients)}\n",
    "    coef_dict_abs = {col:abs(round(coef,2)) for col, coef in zip(fitted_features, coefficients)}\n",
    "    sorted_coefs = sorted(coef_dict_abs.items(), key=operator.itemgetter(1), reverse= True)\n",
    "\n",
    "    # Return the top ten most important features and their coefficients\n",
    "    print(\"Summary of the important features and their corresponding coefficients:\\n\", '-'*100)\n",
    "    ret_dict = dict()\n",
    "    for index, (col, abs_score) in enumerate(sorted_coefs):\n",
    "        if index < top:\n",
    "            print(col, ':', coef_dict[col])\n",
    "        ret_dict[col] = coef_dict[col]\n",
    "    return ret_dict"
   ]
  },
  {
   "cell_type": "code",
   "execution_count": 11,
   "metadata": {
    "ExecuteTime": {
     "end_time": "2019-07-19T15:56:46.545659Z",
     "start_time": "2019-07-19T15:56:46.515314Z"
    }
   },
   "outputs": [],
   "source": [
    "### Function used to draw a random sample from the discrete distribution of probabilities representing the input list\n",
    "def RandomSampleProbDist(list_of_values, draws = 1):\n",
    "    \"\"\"\n",
    "    :param: list_of_values (list): A list of categorical values representing the observations in the dataset\n",
    "    :param: draws (int): The number of samples desired to be returned\n",
    "    :return: (array) An array capturing the sampled categories\n",
    "    \"\"\"\n",
    "    # Only the non-missing values are considered in the sampling procedure\n",
    "    non_missing_list = list_of_values.dropna()\n",
    "    # Sample from the discrete probability distribution representing the categorical variable\n",
    "    return list(choice(list(Counter(non_missing_list)), \n",
    "                  draws, \n",
    "                  p = list(map(lambda x: x/len(non_missing_list), \n",
    "                               Counter(non_missing_list).values()))))[0]"
   ]
  },
  {
   "cell_type": "markdown",
   "metadata": {},
   "source": [
    "## 1. Load preprocessed data in environment"
   ]
  },
  {
   "cell_type": "markdown",
   "metadata": {},
   "source": [
    "### 1.1 Load standardized data"
   ]
  },
  {
   "cell_type": "code",
   "execution_count": 12,
   "metadata": {
    "ExecuteTime": {
     "end_time": "2019-07-19T15:56:46.623321Z",
     "start_time": "2019-07-19T15:56:46.547325Z"
    }
   },
   "outputs": [],
   "source": [
    "# Load pickle\n",
    "with open('/home/je32910/MasterThesis_ComputationalStatistics/pickles/' + loaded_std_filename + '.pickle', 'rb') as f:\n",
    "    data_raw = pickle.load(f)"
   ]
  },
  {
   "cell_type": "code",
   "execution_count": 13,
   "metadata": {
    "ExecuteTime": {
     "end_time": "2019-07-19T15:56:46.976848Z",
     "start_time": "2019-07-19T15:56:46.626617Z"
    },
    "scrolled": true
   },
   "outputs": [
    {
     "data": {
      "text/html": [
       "<div>\n",
       "<style scoped>\n",
       "    .dataframe tbody tr th:only-of-type {\n",
       "        vertical-align: middle;\n",
       "    }\n",
       "\n",
       "    .dataframe tbody tr th {\n",
       "        vertical-align: top;\n",
       "    }\n",
       "\n",
       "    .dataframe thead th {\n",
       "        text-align: right;\n",
       "    }\n",
       "</style>\n",
       "<table border=\"1\" class=\"dataframe\">\n",
       "  <thead>\n",
       "    <tr style=\"text-align: right;\">\n",
       "      <th></th>\n",
       "      <th>split</th>\n",
       "      <th>patchno</th>\n",
       "      <th>result</th>\n",
       "      <th>k</th>\n",
       "      <th>d</th>\n",
       "      <th>a</th>\n",
       "      <th>doubles</th>\n",
       "      <th>triples</th>\n",
       "      <th>quadras</th>\n",
       "      <th>fb</th>\n",
       "      <th>...</th>\n",
       "      <th>csdat15</th>\n",
       "      <th>datediff</th>\n",
       "      <th>Encoded_league</th>\n",
       "      <th>Encoded_game</th>\n",
       "      <th>Encoded_side</th>\n",
       "      <th>Encoded_champion</th>\n",
       "      <th>Encoded_Year</th>\n",
       "      <th>Encoded_team</th>\n",
       "      <th>Encoded_culture</th>\n",
       "      <th>player</th>\n",
       "    </tr>\n",
       "  </thead>\n",
       "  <tbody>\n",
       "    <tr>\n",
       "      <th>0</th>\n",
       "      <td>0.724564</td>\n",
       "      <td>1.315767</td>\n",
       "      <td>0.0</td>\n",
       "      <td>-1.327832</td>\n",
       "      <td>0.346363</td>\n",
       "      <td>-1.411567</td>\n",
       "      <td>-0.513946</td>\n",
       "      <td>-0.217683</td>\n",
       "      <td>-0.078406</td>\n",
       "      <td>-0.301846</td>\n",
       "      <td>...</td>\n",
       "      <td>-0.066260</td>\n",
       "      <td>-1.353636</td>\n",
       "      <td>1.019116</td>\n",
       "      <td>-0.955088</td>\n",
       "      <td>-1.0</td>\n",
       "      <td>-1.396715</td>\n",
       "      <td>0.0</td>\n",
       "      <td>0.137497</td>\n",
       "      <td>0.739509</td>\n",
       "      <td>mickey</td>\n",
       "    </tr>\n",
       "    <tr>\n",
       "      <th>1</th>\n",
       "      <td>0.724564</td>\n",
       "      <td>1.315767</td>\n",
       "      <td>1.0</td>\n",
       "      <td>1.662264</td>\n",
       "      <td>-1.382614</td>\n",
       "      <td>0.890146</td>\n",
       "      <td>1.131799</td>\n",
       "      <td>-0.217683</td>\n",
       "      <td>-0.078406</td>\n",
       "      <td>-0.301846</td>\n",
       "      <td>...</td>\n",
       "      <td>0.066260</td>\n",
       "      <td>-1.353636</td>\n",
       "      <td>1.019116</td>\n",
       "      <td>-0.955088</td>\n",
       "      <td>1.0</td>\n",
       "      <td>1.975423</td>\n",
       "      <td>0.0</td>\n",
       "      <td>0.490725</td>\n",
       "      <td>0.739509</td>\n",
       "      <td>keane</td>\n",
       "    </tr>\n",
       "    <tr>\n",
       "      <th>2</th>\n",
       "      <td>0.724564</td>\n",
       "      <td>0.219356</td>\n",
       "      <td>0.0</td>\n",
       "      <td>-0.580308</td>\n",
       "      <td>0.346363</td>\n",
       "      <td>-0.260710</td>\n",
       "      <td>-0.513946</td>\n",
       "      <td>-0.217683</td>\n",
       "      <td>-0.078406</td>\n",
       "      <td>-0.301846</td>\n",
       "      <td>...</td>\n",
       "      <td>-2.385364</td>\n",
       "      <td>-0.129078</td>\n",
       "      <td>-1.467368</td>\n",
       "      <td>-0.186530</td>\n",
       "      <td>-1.0</td>\n",
       "      <td>1.975423</td>\n",
       "      <td>0.0</td>\n",
       "      <td>-1.134126</td>\n",
       "      <td>-0.213507</td>\n",
       "      <td>ian</td>\n",
       "    </tr>\n",
       "    <tr>\n",
       "      <th>3</th>\n",
       "      <td>0.724564</td>\n",
       "      <td>0.219356</td>\n",
       "      <td>1.0</td>\n",
       "      <td>-0.580308</td>\n",
       "      <td>0.346363</td>\n",
       "      <td>0.314718</td>\n",
       "      <td>-0.513946</td>\n",
       "      <td>-0.217683</td>\n",
       "      <td>-0.078406</td>\n",
       "      <td>-0.301846</td>\n",
       "      <td>...</td>\n",
       "      <td>2.385364</td>\n",
       "      <td>-0.129078</td>\n",
       "      <td>-1.467368</td>\n",
       "      <td>-0.186530</td>\n",
       "      <td>1.0</td>\n",
       "      <td>0.613598</td>\n",
       "      <td>0.0</td>\n",
       "      <td>1.055891</td>\n",
       "      <td>-0.213507</td>\n",
       "      <td>kuzan</td>\n",
       "    </tr>\n",
       "    <tr>\n",
       "      <th>4</th>\n",
       "      <td>0.724564</td>\n",
       "      <td>0.219356</td>\n",
       "      <td>0.0</td>\n",
       "      <td>-0.580308</td>\n",
       "      <td>-0.806288</td>\n",
       "      <td>-1.411567</td>\n",
       "      <td>-0.513946</td>\n",
       "      <td>-0.217683</td>\n",
       "      <td>-0.078406</td>\n",
       "      <td>-0.301846</td>\n",
       "      <td>...</td>\n",
       "      <td>0.265040</td>\n",
       "      <td>-0.129078</td>\n",
       "      <td>-1.467368</td>\n",
       "      <td>0.966306</td>\n",
       "      <td>-1.0</td>\n",
       "      <td>1.975423</td>\n",
       "      <td>0.0</td>\n",
       "      <td>1.055891</td>\n",
       "      <td>-0.213507</td>\n",
       "      <td>kuzan</td>\n",
       "    </tr>\n",
       "    <tr>\n",
       "      <th>5</th>\n",
       "      <td>0.724564</td>\n",
       "      <td>0.219356</td>\n",
       "      <td>1.0</td>\n",
       "      <td>-0.954070</td>\n",
       "      <td>-0.806288</td>\n",
       "      <td>1.177860</td>\n",
       "      <td>-0.513946</td>\n",
       "      <td>-0.217683</td>\n",
       "      <td>-0.078406</td>\n",
       "      <td>-0.301846</td>\n",
       "      <td>...</td>\n",
       "      <td>-0.265040</td>\n",
       "      <td>-0.129078</td>\n",
       "      <td>-1.467368</td>\n",
       "      <td>0.966306</td>\n",
       "      <td>1.0</td>\n",
       "      <td>-0.488831</td>\n",
       "      <td>0.0</td>\n",
       "      <td>-1.134126</td>\n",
       "      <td>-0.213507</td>\n",
       "      <td>ian</td>\n",
       "    </tr>\n",
       "    <tr>\n",
       "      <th>6</th>\n",
       "      <td>0.724564</td>\n",
       "      <td>0.219356</td>\n",
       "      <td>1.0</td>\n",
       "      <td>0.167216</td>\n",
       "      <td>0.922688</td>\n",
       "      <td>1.465575</td>\n",
       "      <td>1.131799</td>\n",
       "      <td>-0.217683</td>\n",
       "      <td>-0.078406</td>\n",
       "      <td>-0.301846</td>\n",
       "      <td>...</td>\n",
       "      <td>-1.192682</td>\n",
       "      <td>-0.129078</td>\n",
       "      <td>-1.467368</td>\n",
       "      <td>-0.955088</td>\n",
       "      <td>-1.0</td>\n",
       "      <td>-0.488831</td>\n",
       "      <td>0.0</td>\n",
       "      <td>-1.134126</td>\n",
       "      <td>-0.213507</td>\n",
       "      <td>ian</td>\n",
       "    </tr>\n",
       "    <tr>\n",
       "      <th>7</th>\n",
       "      <td>0.724564</td>\n",
       "      <td>0.219356</td>\n",
       "      <td>0.0</td>\n",
       "      <td>-0.580308</td>\n",
       "      <td>-0.229963</td>\n",
       "      <td>-0.260710</td>\n",
       "      <td>-0.513946</td>\n",
       "      <td>-0.217683</td>\n",
       "      <td>-0.078406</td>\n",
       "      <td>3.312946</td>\n",
       "      <td>...</td>\n",
       "      <td>1.192682</td>\n",
       "      <td>-0.129078</td>\n",
       "      <td>-1.467368</td>\n",
       "      <td>-0.955088</td>\n",
       "      <td>1.0</td>\n",
       "      <td>-0.618529</td>\n",
       "      <td>0.0</td>\n",
       "      <td>1.055891</td>\n",
       "      <td>-0.213507</td>\n",
       "      <td>kuzan</td>\n",
       "    </tr>\n",
       "    <tr>\n",
       "      <th>8</th>\n",
       "      <td>0.724564</td>\n",
       "      <td>0.219356</td>\n",
       "      <td>1.0</td>\n",
       "      <td>0.914740</td>\n",
       "      <td>-1.382614</td>\n",
       "      <td>0.027004</td>\n",
       "      <td>1.131799</td>\n",
       "      <td>-0.217683</td>\n",
       "      <td>-0.078406</td>\n",
       "      <td>-0.301846</td>\n",
       "      <td>...</td>\n",
       "      <td>1.192682</td>\n",
       "      <td>-0.129078</td>\n",
       "      <td>-1.467368</td>\n",
       "      <td>-0.186530</td>\n",
       "      <td>-1.0</td>\n",
       "      <td>0.613598</td>\n",
       "      <td>0.0</td>\n",
       "      <td>0.278788</td>\n",
       "      <td>-0.213507</td>\n",
       "      <td>bdd</td>\n",
       "    </tr>\n",
       "    <tr>\n",
       "      <th>9</th>\n",
       "      <td>0.724564</td>\n",
       "      <td>0.219356</td>\n",
       "      <td>0.0</td>\n",
       "      <td>-0.954070</td>\n",
       "      <td>0.922688</td>\n",
       "      <td>-0.548425</td>\n",
       "      <td>-0.513946</td>\n",
       "      <td>-0.217683</td>\n",
       "      <td>-0.078406</td>\n",
       "      <td>-0.301846</td>\n",
       "      <td>...</td>\n",
       "      <td>-1.192682</td>\n",
       "      <td>-0.129078</td>\n",
       "      <td>-1.467368</td>\n",
       "      <td>-0.186530</td>\n",
       "      <td>1.0</td>\n",
       "      <td>1.975423</td>\n",
       "      <td>0.0</td>\n",
       "      <td>-1.416709</td>\n",
       "      <td>-0.213507</td>\n",
       "      <td>pawn</td>\n",
       "    </tr>\n",
       "    <tr>\n",
       "      <th>10</th>\n",
       "      <td>0.724564</td>\n",
       "      <td>0.219356</td>\n",
       "      <td>0.0</td>\n",
       "      <td>-1.327832</td>\n",
       "      <td>1.499014</td>\n",
       "      <td>-1.123853</td>\n",
       "      <td>-0.513946</td>\n",
       "      <td>-0.217683</td>\n",
       "      <td>-0.078406</td>\n",
       "      <td>-0.301846</td>\n",
       "      <td>...</td>\n",
       "      <td>-2.319104</td>\n",
       "      <td>-0.129078</td>\n",
       "      <td>-1.467368</td>\n",
       "      <td>0.966306</td>\n",
       "      <td>-1.0</td>\n",
       "      <td>0.094808</td>\n",
       "      <td>0.0</td>\n",
       "      <td>-1.416709</td>\n",
       "      <td>-0.213507</td>\n",
       "      <td>pawn</td>\n",
       "    </tr>\n",
       "    <tr>\n",
       "      <th>11</th>\n",
       "      <td>0.724564</td>\n",
       "      <td>0.219356</td>\n",
       "      <td>1.0</td>\n",
       "      <td>0.914740</td>\n",
       "      <td>-1.382614</td>\n",
       "      <td>0.027004</td>\n",
       "      <td>2.777545</td>\n",
       "      <td>-0.217683</td>\n",
       "      <td>-0.078406</td>\n",
       "      <td>3.312946</td>\n",
       "      <td>...</td>\n",
       "      <td>2.319104</td>\n",
       "      <td>-0.129078</td>\n",
       "      <td>-1.467368</td>\n",
       "      <td>0.966306</td>\n",
       "      <td>1.0</td>\n",
       "      <td>0.613598</td>\n",
       "      <td>0.0</td>\n",
       "      <td>0.278788</td>\n",
       "      <td>-0.213507</td>\n",
       "      <td>bdd</td>\n",
       "    </tr>\n",
       "    <tr>\n",
       "      <th>12</th>\n",
       "      <td>0.724564</td>\n",
       "      <td>0.219356</td>\n",
       "      <td>1.0</td>\n",
       "      <td>1.662264</td>\n",
       "      <td>-0.806288</td>\n",
       "      <td>0.602432</td>\n",
       "      <td>-0.513946</td>\n",
       "      <td>-0.217683</td>\n",
       "      <td>-0.078406</td>\n",
       "      <td>-0.301846</td>\n",
       "      <td>...</td>\n",
       "      <td>1.855283</td>\n",
       "      <td>-0.145223</td>\n",
       "      <td>-1.467368</td>\n",
       "      <td>-0.186530</td>\n",
       "      <td>-1.0</td>\n",
       "      <td>-0.099739</td>\n",
       "      <td>0.0</td>\n",
       "      <td>-1.346063</td>\n",
       "      <td>-0.213507</td>\n",
       "      <td>cepted</td>\n",
       "    </tr>\n",
       "    <tr>\n",
       "      <th>13</th>\n",
       "      <td>0.724564</td>\n",
       "      <td>0.219356</td>\n",
       "      <td>0.0</td>\n",
       "      <td>-0.954070</td>\n",
       "      <td>0.346363</td>\n",
       "      <td>-0.548425</td>\n",
       "      <td>-0.513946</td>\n",
       "      <td>-0.217683</td>\n",
       "      <td>-0.078406</td>\n",
       "      <td>3.312946</td>\n",
       "      <td>...</td>\n",
       "      <td>-1.855283</td>\n",
       "      <td>-0.145223</td>\n",
       "      <td>-1.467368</td>\n",
       "      <td>-0.186530</td>\n",
       "      <td>1.0</td>\n",
       "      <td>1.975423</td>\n",
       "      <td>0.0</td>\n",
       "      <td>0.702662</td>\n",
       "      <td>-0.213507</td>\n",
       "      <td>kuro</td>\n",
       "    </tr>\n",
       "    <tr>\n",
       "      <th>14</th>\n",
       "      <td>0.724564</td>\n",
       "      <td>0.219356</td>\n",
       "      <td>1.0</td>\n",
       "      <td>0.167216</td>\n",
       "      <td>-0.229963</td>\n",
       "      <td>0.602432</td>\n",
       "      <td>1.131799</td>\n",
       "      <td>-0.217683</td>\n",
       "      <td>-0.078406</td>\n",
       "      <td>-0.301846</td>\n",
       "      <td>...</td>\n",
       "      <td>-0.861382</td>\n",
       "      <td>-0.145223</td>\n",
       "      <td>-1.467368</td>\n",
       "      <td>0.966306</td>\n",
       "      <td>-1.0</td>\n",
       "      <td>-0.942773</td>\n",
       "      <td>0.0</td>\n",
       "      <td>0.702662</td>\n",
       "      <td>-0.213507</td>\n",
       "      <td>kuro</td>\n",
       "    </tr>\n",
       "    <tr>\n",
       "      <th>15</th>\n",
       "      <td>0.724564</td>\n",
       "      <td>0.219356</td>\n",
       "      <td>0.0</td>\n",
       "      <td>0.167216</td>\n",
       "      <td>-0.806288</td>\n",
       "      <td>0.314718</td>\n",
       "      <td>-0.513946</td>\n",
       "      <td>-0.217683</td>\n",
       "      <td>-0.078406</td>\n",
       "      <td>-0.301846</td>\n",
       "      <td>...</td>\n",
       "      <td>0.861382</td>\n",
       "      <td>-0.145223</td>\n",
       "      <td>-1.467368</td>\n",
       "      <td>0.966306</td>\n",
       "      <td>1.0</td>\n",
       "      <td>0.613598</td>\n",
       "      <td>0.0</td>\n",
       "      <td>-1.346063</td>\n",
       "      <td>-0.213507</td>\n",
       "      <td>cepted</td>\n",
       "    </tr>\n",
       "    <tr>\n",
       "      <th>16</th>\n",
       "      <td>0.724564</td>\n",
       "      <td>0.219356</td>\n",
       "      <td>0.0</td>\n",
       "      <td>-1.327832</td>\n",
       "      <td>0.346363</td>\n",
       "      <td>-0.548425</td>\n",
       "      <td>-0.513946</td>\n",
       "      <td>-0.217683</td>\n",
       "      <td>-0.078406</td>\n",
       "      <td>-0.301846</td>\n",
       "      <td>...</td>\n",
       "      <td>-0.132520</td>\n",
       "      <td>-0.145223</td>\n",
       "      <td>-1.467368</td>\n",
       "      <td>0.966306</td>\n",
       "      <td>-1.0</td>\n",
       "      <td>-0.942773</td>\n",
       "      <td>0.0</td>\n",
       "      <td>-0.498315</td>\n",
       "      <td>-0.213507</td>\n",
       "      <td>faker</td>\n",
       "    </tr>\n",
       "    <tr>\n",
       "      <th>17</th>\n",
       "      <td>0.724564</td>\n",
       "      <td>0.219356</td>\n",
       "      <td>1.0</td>\n",
       "      <td>1.288502</td>\n",
       "      <td>-0.806288</td>\n",
       "      <td>0.890146</td>\n",
       "      <td>2.777545</td>\n",
       "      <td>-0.217683</td>\n",
       "      <td>-0.078406</td>\n",
       "      <td>3.312946</td>\n",
       "      <td>...</td>\n",
       "      <td>0.132520</td>\n",
       "      <td>-0.145223</td>\n",
       "      <td>-1.467368</td>\n",
       "      <td>0.966306</td>\n",
       "      <td>1.0</td>\n",
       "      <td>-0.099739</td>\n",
       "      <td>0.0</td>\n",
       "      <td>0.879276</td>\n",
       "      <td>-0.213507</td>\n",
       "      <td>crown</td>\n",
       "    </tr>\n",
       "    <tr>\n",
       "      <th>18</th>\n",
       "      <td>0.724564</td>\n",
       "      <td>0.219356</td>\n",
       "      <td>1.0</td>\n",
       "      <td>-0.206546</td>\n",
       "      <td>-0.806288</td>\n",
       "      <td>0.027004</td>\n",
       "      <td>1.131799</td>\n",
       "      <td>-0.217683</td>\n",
       "      <td>-0.078406</td>\n",
       "      <td>-0.301846</td>\n",
       "      <td>...</td>\n",
       "      <td>0.397561</td>\n",
       "      <td>-0.177643</td>\n",
       "      <td>0.567028</td>\n",
       "      <td>-0.186530</td>\n",
       "      <td>-1.0</td>\n",
       "      <td>-1.072471</td>\n",
       "      <td>0.0</td>\n",
       "      <td>-1.628646</td>\n",
       "      <td>1.216017</td>\n",
       "      <td>febiven</td>\n",
       "    </tr>\n",
       "    <tr>\n",
       "      <th>19</th>\n",
       "      <td>0.724564</td>\n",
       "      <td>0.219356</td>\n",
       "      <td>0.0</td>\n",
       "      <td>-0.954070</td>\n",
       "      <td>-1.382614</td>\n",
       "      <td>-0.260710</td>\n",
       "      <td>-0.513946</td>\n",
       "      <td>-0.217683</td>\n",
       "      <td>-0.078406</td>\n",
       "      <td>-0.301846</td>\n",
       "      <td>...</td>\n",
       "      <td>-0.397561</td>\n",
       "      <td>-0.177643</td>\n",
       "      <td>0.567028</td>\n",
       "      <td>-0.186530</td>\n",
       "      <td>1.0</td>\n",
       "      <td>0.613598</td>\n",
       "      <td>0.0</td>\n",
       "      <td>0.102174</td>\n",
       "      <td>1.216017</td>\n",
       "      <td>sencux</td>\n",
       "    </tr>\n",
       "    <tr>\n",
       "      <th>20</th>\n",
       "      <td>0.724564</td>\n",
       "      <td>0.219356</td>\n",
       "      <td>0.0</td>\n",
       "      <td>-0.580308</td>\n",
       "      <td>1.499014</td>\n",
       "      <td>-0.836139</td>\n",
       "      <td>-0.513946</td>\n",
       "      <td>-0.217683</td>\n",
       "      <td>-0.078406</td>\n",
       "      <td>-0.301846</td>\n",
       "      <td>...</td>\n",
       "      <td>-0.331301</td>\n",
       "      <td>-0.177643</td>\n",
       "      <td>0.567028</td>\n",
       "      <td>0.966306</td>\n",
       "      <td>-1.0</td>\n",
       "      <td>0.029959</td>\n",
       "      <td>0.0</td>\n",
       "      <td>0.102174</td>\n",
       "      <td>1.216017</td>\n",
       "      <td>sencux</td>\n",
       "    </tr>\n",
       "    <tr>\n",
       "      <th>21</th>\n",
       "      <td>0.724564</td>\n",
       "      <td>0.219356</td>\n",
       "      <td>1.0</td>\n",
       "      <td>1.288502</td>\n",
       "      <td>-1.382614</td>\n",
       "      <td>1.177860</td>\n",
       "      <td>2.777545</td>\n",
       "      <td>-0.217683</td>\n",
       "      <td>-0.078406</td>\n",
       "      <td>-0.301846</td>\n",
       "      <td>...</td>\n",
       "      <td>0.331301</td>\n",
       "      <td>-0.177643</td>\n",
       "      <td>0.567028</td>\n",
       "      <td>0.966306</td>\n",
       "      <td>1.0</td>\n",
       "      <td>0.613598</td>\n",
       "      <td>0.0</td>\n",
       "      <td>-1.628646</td>\n",
       "      <td>1.216017</td>\n",
       "      <td>febiven</td>\n",
       "    </tr>\n",
       "    <tr>\n",
       "      <th>22</th>\n",
       "      <td>0.724564</td>\n",
       "      <td>0.219356</td>\n",
       "      <td>1.0</td>\n",
       "      <td>-0.206546</td>\n",
       "      <td>-0.229963</td>\n",
       "      <td>0.027004</td>\n",
       "      <td>-0.513946</td>\n",
       "      <td>-0.217683</td>\n",
       "      <td>-0.078406</td>\n",
       "      <td>-0.301846</td>\n",
       "      <td>...</td>\n",
       "      <td>-0.397561</td>\n",
       "      <td>-0.161411</td>\n",
       "      <td>-1.467368</td>\n",
       "      <td>0.966306</td>\n",
       "      <td>-1.0</td>\n",
       "      <td>-1.007622</td>\n",
       "      <td>0.0</td>\n",
       "      <td>0.985245</td>\n",
       "      <td>-0.213507</td>\n",
       "      <td>tempt</td>\n",
       "    </tr>\n",
       "    <tr>\n",
       "      <th>23</th>\n",
       "      <td>0.724564</td>\n",
       "      <td>0.219356</td>\n",
       "      <td>0.0</td>\n",
       "      <td>0.167216</td>\n",
       "      <td>-0.806288</td>\n",
       "      <td>-0.548425</td>\n",
       "      <td>-0.513946</td>\n",
       "      <td>-0.217683</td>\n",
       "      <td>-0.078406</td>\n",
       "      <td>-0.301846</td>\n",
       "      <td>...</td>\n",
       "      <td>0.397561</td>\n",
       "      <td>-0.161411</td>\n",
       "      <td>-1.467368</td>\n",
       "      <td>0.966306</td>\n",
       "      <td>1.0</td>\n",
       "      <td>-0.748227</td>\n",
       "      <td>0.0</td>\n",
       "      <td>0.278788</td>\n",
       "      <td>-0.213507</td>\n",
       "      <td>bdd</td>\n",
       "    </tr>\n",
       "    <tr>\n",
       "      <th>24</th>\n",
       "      <td>0.724564</td>\n",
       "      <td>0.219356</td>\n",
       "      <td>1.0</td>\n",
       "      <td>0.540978</td>\n",
       "      <td>-0.806288</td>\n",
       "      <td>0.602432</td>\n",
       "      <td>-0.513946</td>\n",
       "      <td>-0.217683</td>\n",
       "      <td>-0.078406</td>\n",
       "      <td>-0.301846</td>\n",
       "      <td>...</td>\n",
       "      <td>-0.132520</td>\n",
       "      <td>-0.161411</td>\n",
       "      <td>-1.467368</td>\n",
       "      <td>-0.955088</td>\n",
       "      <td>-1.0</td>\n",
       "      <td>-0.748227</td>\n",
       "      <td>0.0</td>\n",
       "      <td>0.278788</td>\n",
       "      <td>-0.213507</td>\n",
       "      <td>bdd</td>\n",
       "    </tr>\n",
       "    <tr>\n",
       "      <th>25</th>\n",
       "      <td>0.724564</td>\n",
       "      <td>0.219356</td>\n",
       "      <td>0.0</td>\n",
       "      <td>-1.327832</td>\n",
       "      <td>0.922688</td>\n",
       "      <td>-0.836139</td>\n",
       "      <td>-0.513946</td>\n",
       "      <td>-0.217683</td>\n",
       "      <td>-0.078406</td>\n",
       "      <td>-0.301846</td>\n",
       "      <td>...</td>\n",
       "      <td>0.132520</td>\n",
       "      <td>-0.161411</td>\n",
       "      <td>-1.467368</td>\n",
       "      <td>-0.955088</td>\n",
       "      <td>1.0</td>\n",
       "      <td>1.975423</td>\n",
       "      <td>0.0</td>\n",
       "      <td>0.985245</td>\n",
       "      <td>-0.213507</td>\n",
       "      <td>tempt</td>\n",
       "    </tr>\n",
       "    <tr>\n",
       "      <th>26</th>\n",
       "      <td>0.724564</td>\n",
       "      <td>0.219356</td>\n",
       "      <td>0.0</td>\n",
       "      <td>-1.327832</td>\n",
       "      <td>0.346363</td>\n",
       "      <td>0.314718</td>\n",
       "      <td>-0.513946</td>\n",
       "      <td>-0.217683</td>\n",
       "      <td>-0.078406</td>\n",
       "      <td>-0.301846</td>\n",
       "      <td>...</td>\n",
       "      <td>-0.795121</td>\n",
       "      <td>-0.161411</td>\n",
       "      <td>-1.467368</td>\n",
       "      <td>-0.186530</td>\n",
       "      <td>-1.0</td>\n",
       "      <td>0.613598</td>\n",
       "      <td>0.0</td>\n",
       "      <td>1.515088</td>\n",
       "      <td>-0.213507</td>\n",
       "      <td>mickey</td>\n",
       "    </tr>\n",
       "    <tr>\n",
       "      <th>27</th>\n",
       "      <td>0.724564</td>\n",
       "      <td>0.219356</td>\n",
       "      <td>1.0</td>\n",
       "      <td>-0.580308</td>\n",
       "      <td>-0.806288</td>\n",
       "      <td>0.602432</td>\n",
       "      <td>-0.513946</td>\n",
       "      <td>-0.217683</td>\n",
       "      <td>-0.078406</td>\n",
       "      <td>-0.301846</td>\n",
       "      <td>...</td>\n",
       "      <td>0.795121</td>\n",
       "      <td>-0.161411</td>\n",
       "      <td>-1.467368</td>\n",
       "      <td>-0.186530</td>\n",
       "      <td>1.0</td>\n",
       "      <td>-0.942773</td>\n",
       "      <td>0.0</td>\n",
       "      <td>1.055891</td>\n",
       "      <td>-0.213507</td>\n",
       "      <td>kuzan</td>\n",
       "    </tr>\n",
       "    <tr>\n",
       "      <th>28</th>\n",
       "      <td>0.724564</td>\n",
       "      <td>0.219356</td>\n",
       "      <td>1.0</td>\n",
       "      <td>-0.954070</td>\n",
       "      <td>-1.382614</td>\n",
       "      <td>0.602432</td>\n",
       "      <td>-0.513946</td>\n",
       "      <td>-0.217683</td>\n",
       "      <td>-0.078406</td>\n",
       "      <td>-0.301846</td>\n",
       "      <td>...</td>\n",
       "      <td>0.993902</td>\n",
       "      <td>-0.161411</td>\n",
       "      <td>-1.467368</td>\n",
       "      <td>0.966306</td>\n",
       "      <td>-1.0</td>\n",
       "      <td>-0.942773</td>\n",
       "      <td>0.0</td>\n",
       "      <td>1.055891</td>\n",
       "      <td>-0.213507</td>\n",
       "      <td>kuzan</td>\n",
       "    </tr>\n",
       "    <tr>\n",
       "      <th>29</th>\n",
       "      <td>0.724564</td>\n",
       "      <td>0.219356</td>\n",
       "      <td>0.0</td>\n",
       "      <td>-1.327832</td>\n",
       "      <td>-0.229963</td>\n",
       "      <td>-1.123853</td>\n",
       "      <td>-0.513946</td>\n",
       "      <td>-0.217683</td>\n",
       "      <td>-0.078406</td>\n",
       "      <td>-0.301846</td>\n",
       "      <td>...</td>\n",
       "      <td>-0.993902</td>\n",
       "      <td>-0.161411</td>\n",
       "      <td>-1.467368</td>\n",
       "      <td>0.966306</td>\n",
       "      <td>1.0</td>\n",
       "      <td>0.678447</td>\n",
       "      <td>0.0</td>\n",
       "      <td>1.515088</td>\n",
       "      <td>-0.213507</td>\n",
       "      <td>mickey</td>\n",
       "    </tr>\n",
       "    <tr>\n",
       "      <th>...</th>\n",
       "      <td>...</td>\n",
       "      <td>...</td>\n",
       "      <td>...</td>\n",
       "      <td>...</td>\n",
       "      <td>...</td>\n",
       "      <td>...</td>\n",
       "      <td>...</td>\n",
       "      <td>...</td>\n",
       "      <td>...</td>\n",
       "      <td>...</td>\n",
       "      <td>...</td>\n",
       "      <td>...</td>\n",
       "      <td>...</td>\n",
       "      <td>...</td>\n",
       "      <td>...</td>\n",
       "      <td>...</td>\n",
       "      <td>...</td>\n",
       "      <td>...</td>\n",
       "      <td>...</td>\n",
       "      <td>...</td>\n",
       "      <td>...</td>\n",
       "    </tr>\n",
       "    <tr>\n",
       "      <th>5862</th>\n",
       "      <td>-1.102945</td>\n",
       "      <td>0.000074</td>\n",
       "      <td>0.0</td>\n",
       "      <td>-0.206546</td>\n",
       "      <td>-0.806288</td>\n",
       "      <td>0.027004</td>\n",
       "      <td>1.131799</td>\n",
       "      <td>-0.217683</td>\n",
       "      <td>-0.078406</td>\n",
       "      <td>3.312946</td>\n",
       "      <td>...</td>\n",
       "      <td>0.927642</td>\n",
       "      <td>0.108060</td>\n",
       "      <td>0.793072</td>\n",
       "      <td>-3.068621</td>\n",
       "      <td>-1.0</td>\n",
       "      <td>0.548749</td>\n",
       "      <td>0.0</td>\n",
       "      <td>-0.251055</td>\n",
       "      <td>-1.643030</td>\n",
       "      <td>bjergsen</td>\n",
       "    </tr>\n",
       "    <tr>\n",
       "      <th>5863</th>\n",
       "      <td>-1.102945</td>\n",
       "      <td>0.000074</td>\n",
       "      <td>1.0</td>\n",
       "      <td>-0.206546</td>\n",
       "      <td>-0.806288</td>\n",
       "      <td>-0.260710</td>\n",
       "      <td>1.131799</td>\n",
       "      <td>-0.217683</td>\n",
       "      <td>-0.078406</td>\n",
       "      <td>-0.301846</td>\n",
       "      <td>...</td>\n",
       "      <td>-0.927642</td>\n",
       "      <td>0.108060</td>\n",
       "      <td>0.793072</td>\n",
       "      <td>-3.068621</td>\n",
       "      <td>1.0</td>\n",
       "      <td>0.613598</td>\n",
       "      <td>0.0</td>\n",
       "      <td>-0.851543</td>\n",
       "      <td>-1.643030</td>\n",
       "      <td>perkz</td>\n",
       "    </tr>\n",
       "    <tr>\n",
       "      <th>5864</th>\n",
       "      <td>-1.102945</td>\n",
       "      <td>0.000074</td>\n",
       "      <td>1.0</td>\n",
       "      <td>0.914740</td>\n",
       "      <td>-0.229963</td>\n",
       "      <td>1.753289</td>\n",
       "      <td>2.777545</td>\n",
       "      <td>-0.217683</td>\n",
       "      <td>-0.078406</td>\n",
       "      <td>-0.301846</td>\n",
       "      <td>...</td>\n",
       "      <td>-0.530081</td>\n",
       "      <td>0.108060</td>\n",
       "      <td>0.793072</td>\n",
       "      <td>-3.260760</td>\n",
       "      <td>-1.0</td>\n",
       "      <td>-0.618529</td>\n",
       "      <td>0.0</td>\n",
       "      <td>1.303151</td>\n",
       "      <td>-1.643030</td>\n",
       "      <td>maple</td>\n",
       "    </tr>\n",
       "    <tr>\n",
       "      <th>5865</th>\n",
       "      <td>-1.102945</td>\n",
       "      <td>0.000074</td>\n",
       "      <td>0.0</td>\n",
       "      <td>-0.954070</td>\n",
       "      <td>0.922688</td>\n",
       "      <td>-0.260710</td>\n",
       "      <td>-0.513946</td>\n",
       "      <td>-0.217683</td>\n",
       "      <td>-0.078406</td>\n",
       "      <td>-0.301846</td>\n",
       "      <td>...</td>\n",
       "      <td>0.530081</td>\n",
       "      <td>0.108060</td>\n",
       "      <td>0.793072</td>\n",
       "      <td>-3.260760</td>\n",
       "      <td>1.0</td>\n",
       "      <td>0.483901</td>\n",
       "      <td>0.0</td>\n",
       "      <td>0.561371</td>\n",
       "      <td>-1.643030</td>\n",
       "      <td>optimus</td>\n",
       "    </tr>\n",
       "    <tr>\n",
       "      <th>5866</th>\n",
       "      <td>-1.102945</td>\n",
       "      <td>0.000074</td>\n",
       "      <td>0.0</td>\n",
       "      <td>0.167216</td>\n",
       "      <td>1.499014</td>\n",
       "      <td>-1.411567</td>\n",
       "      <td>1.131799</td>\n",
       "      <td>-0.217683</td>\n",
       "      <td>-0.078406</td>\n",
       "      <td>-0.301846</td>\n",
       "      <td>...</td>\n",
       "      <td>-1.523983</td>\n",
       "      <td>0.108060</td>\n",
       "      <td>0.793072</td>\n",
       "      <td>-2.492203</td>\n",
       "      <td>-1.0</td>\n",
       "      <td>0.613598</td>\n",
       "      <td>0.0</td>\n",
       "      <td>-0.498315</td>\n",
       "      <td>-1.643030</td>\n",
       "      <td>faker</td>\n",
       "    </tr>\n",
       "    <tr>\n",
       "      <th>5867</th>\n",
       "      <td>-1.102945</td>\n",
       "      <td>0.000074</td>\n",
       "      <td>1.0</td>\n",
       "      <td>1.662264</td>\n",
       "      <td>-0.806288</td>\n",
       "      <td>0.602432</td>\n",
       "      <td>2.777545</td>\n",
       "      <td>-0.217683</td>\n",
       "      <td>-0.078406</td>\n",
       "      <td>3.312946</td>\n",
       "      <td>...</td>\n",
       "      <td>1.523983</td>\n",
       "      <td>0.108060</td>\n",
       "      <td>0.793072</td>\n",
       "      <td>-2.492203</td>\n",
       "      <td>1.0</td>\n",
       "      <td>0.029959</td>\n",
       "      <td>0.0</td>\n",
       "      <td>-1.310740</td>\n",
       "      <td>-1.643030</td>\n",
       "      <td>xiye</td>\n",
       "    </tr>\n",
       "    <tr>\n",
       "      <th>5868</th>\n",
       "      <td>-1.102945</td>\n",
       "      <td>0.000074</td>\n",
       "      <td>1.0</td>\n",
       "      <td>0.540978</td>\n",
       "      <td>-1.382614</td>\n",
       "      <td>0.314718</td>\n",
       "      <td>-0.513946</td>\n",
       "      <td>-0.217683</td>\n",
       "      <td>-0.078406</td>\n",
       "      <td>-0.301846</td>\n",
       "      <td>...</td>\n",
       "      <td>-0.198780</td>\n",
       "      <td>0.108060</td>\n",
       "      <td>0.793072</td>\n",
       "      <td>-1.147227</td>\n",
       "      <td>-1.0</td>\n",
       "      <td>1.975423</td>\n",
       "      <td>0.0</td>\n",
       "      <td>1.303151</td>\n",
       "      <td>-1.643030</td>\n",
       "      <td>maple</td>\n",
       "    </tr>\n",
       "    <tr>\n",
       "      <th>5869</th>\n",
       "      <td>-1.102945</td>\n",
       "      <td>0.000074</td>\n",
       "      <td>0.0</td>\n",
       "      <td>-1.327832</td>\n",
       "      <td>-0.806288</td>\n",
       "      <td>-0.836139</td>\n",
       "      <td>-0.513946</td>\n",
       "      <td>-0.217683</td>\n",
       "      <td>-0.078406</td>\n",
       "      <td>-0.301846</td>\n",
       "      <td>...</td>\n",
       "      <td>0.198780</td>\n",
       "      <td>0.108060</td>\n",
       "      <td>0.793072</td>\n",
       "      <td>-1.147227</td>\n",
       "      <td>1.0</td>\n",
       "      <td>-0.877924</td>\n",
       "      <td>0.0</td>\n",
       "      <td>-0.251055</td>\n",
       "      <td>-1.643030</td>\n",
       "      <td>bjergsen</td>\n",
       "    </tr>\n",
       "    <tr>\n",
       "      <th>5870</th>\n",
       "      <td>-1.102945</td>\n",
       "      <td>0.000074</td>\n",
       "      <td>1.0</td>\n",
       "      <td>-0.954070</td>\n",
       "      <td>-1.382614</td>\n",
       "      <td>0.890146</td>\n",
       "      <td>-0.513946</td>\n",
       "      <td>-0.217683</td>\n",
       "      <td>-0.078406</td>\n",
       "      <td>-0.301846</td>\n",
       "      <td>...</td>\n",
       "      <td>-0.265040</td>\n",
       "      <td>0.030050</td>\n",
       "      <td>0.793072</td>\n",
       "      <td>-0.186530</td>\n",
       "      <td>-1.0</td>\n",
       "      <td>0.613598</td>\n",
       "      <td>0.0</td>\n",
       "      <td>-0.498315</td>\n",
       "      <td>-1.643030</td>\n",
       "      <td>faker</td>\n",
       "    </tr>\n",
       "    <tr>\n",
       "      <th>5871</th>\n",
       "      <td>-1.102945</td>\n",
       "      <td>0.000074</td>\n",
       "      <td>0.0</td>\n",
       "      <td>-0.954070</td>\n",
       "      <td>-0.229963</td>\n",
       "      <td>-0.836139</td>\n",
       "      <td>-0.513946</td>\n",
       "      <td>-0.217683</td>\n",
       "      <td>-0.078406</td>\n",
       "      <td>-0.301846</td>\n",
       "      <td>...</td>\n",
       "      <td>0.265040</td>\n",
       "      <td>0.030050</td>\n",
       "      <td>0.793072</td>\n",
       "      <td>-0.186530</td>\n",
       "      <td>1.0</td>\n",
       "      <td>-0.618529</td>\n",
       "      <td>0.0</td>\n",
       "      <td>1.303151</td>\n",
       "      <td>-1.643030</td>\n",
       "      <td>maple</td>\n",
       "    </tr>\n",
       "    <tr>\n",
       "      <th>5872</th>\n",
       "      <td>-1.102945</td>\n",
       "      <td>0.000074</td>\n",
       "      <td>0.0</td>\n",
       "      <td>-1.327832</td>\n",
       "      <td>-0.229963</td>\n",
       "      <td>-1.411567</td>\n",
       "      <td>-0.513946</td>\n",
       "      <td>-0.217683</td>\n",
       "      <td>-0.078406</td>\n",
       "      <td>-0.301846</td>\n",
       "      <td>...</td>\n",
       "      <td>-4.439428</td>\n",
       "      <td>0.030050</td>\n",
       "      <td>0.793072</td>\n",
       "      <td>0.966306</td>\n",
       "      <td>-1.0</td>\n",
       "      <td>-0.618529</td>\n",
       "      <td>0.0</td>\n",
       "      <td>1.303151</td>\n",
       "      <td>-1.643030</td>\n",
       "      <td>maple</td>\n",
       "    </tr>\n",
       "    <tr>\n",
       "      <th>5873</th>\n",
       "      <td>-1.102945</td>\n",
       "      <td>0.000074</td>\n",
       "      <td>1.0</td>\n",
       "      <td>-0.954070</td>\n",
       "      <td>-1.382614</td>\n",
       "      <td>-1.123853</td>\n",
       "      <td>-0.513946</td>\n",
       "      <td>-0.217683</td>\n",
       "      <td>-0.078406</td>\n",
       "      <td>-0.301846</td>\n",
       "      <td>...</td>\n",
       "      <td>4.439428</td>\n",
       "      <td>0.030050</td>\n",
       "      <td>0.793072</td>\n",
       "      <td>0.966306</td>\n",
       "      <td>1.0</td>\n",
       "      <td>0.678447</td>\n",
       "      <td>0.0</td>\n",
       "      <td>-0.498315</td>\n",
       "      <td>-1.643030</td>\n",
       "      <td>faker</td>\n",
       "    </tr>\n",
       "    <tr>\n",
       "      <th>5874</th>\n",
       "      <td>-1.102945</td>\n",
       "      <td>0.000074</td>\n",
       "      <td>1.0</td>\n",
       "      <td>-0.580308</td>\n",
       "      <td>-0.806288</td>\n",
       "      <td>-0.260710</td>\n",
       "      <td>-0.513946</td>\n",
       "      <td>-0.217683</td>\n",
       "      <td>-0.078406</td>\n",
       "      <td>-0.301846</td>\n",
       "      <td>...</td>\n",
       "      <td>1.391462</td>\n",
       "      <td>0.030050</td>\n",
       "      <td>0.793072</td>\n",
       "      <td>-0.955088</td>\n",
       "      <td>-1.0</td>\n",
       "      <td>0.613598</td>\n",
       "      <td>0.0</td>\n",
       "      <td>-0.498315</td>\n",
       "      <td>-1.643030</td>\n",
       "      <td>faker</td>\n",
       "    </tr>\n",
       "    <tr>\n",
       "      <th>5875</th>\n",
       "      <td>-1.102945</td>\n",
       "      <td>0.000074</td>\n",
       "      <td>0.0</td>\n",
       "      <td>-0.954070</td>\n",
       "      <td>0.922688</td>\n",
       "      <td>-0.836139</td>\n",
       "      <td>-0.513946</td>\n",
       "      <td>-0.217683</td>\n",
       "      <td>-0.078406</td>\n",
       "      <td>3.312946</td>\n",
       "      <td>...</td>\n",
       "      <td>-1.391462</td>\n",
       "      <td>0.030050</td>\n",
       "      <td>0.793072</td>\n",
       "      <td>-0.955088</td>\n",
       "      <td>1.0</td>\n",
       "      <td>0.029959</td>\n",
       "      <td>0.0</td>\n",
       "      <td>1.303151</td>\n",
       "      <td>-1.643030</td>\n",
       "      <td>maple</td>\n",
       "    </tr>\n",
       "    <tr>\n",
       "      <th>5876</th>\n",
       "      <td>-1.102945</td>\n",
       "      <td>0.000074</td>\n",
       "      <td>0.0</td>\n",
       "      <td>-0.954070</td>\n",
       "      <td>1.499014</td>\n",
       "      <td>1.465575</td>\n",
       "      <td>-0.513946</td>\n",
       "      <td>-0.217683</td>\n",
       "      <td>-0.078406</td>\n",
       "      <td>-0.301846</td>\n",
       "      <td>...</td>\n",
       "      <td>-0.596341</td>\n",
       "      <td>0.014325</td>\n",
       "      <td>0.793072</td>\n",
       "      <td>-0.186530</td>\n",
       "      <td>-1.0</td>\n",
       "      <td>0.029959</td>\n",
       "      <td>0.0</td>\n",
       "      <td>-1.310740</td>\n",
       "      <td>-1.643030</td>\n",
       "      <td>xiye</td>\n",
       "    </tr>\n",
       "    <tr>\n",
       "      <th>5877</th>\n",
       "      <td>-1.102945</td>\n",
       "      <td>0.000074</td>\n",
       "      <td>1.0</td>\n",
       "      <td>3.157312</td>\n",
       "      <td>-0.229963</td>\n",
       "      <td>1.177860</td>\n",
       "      <td>4.423291</td>\n",
       "      <td>4.251267</td>\n",
       "      <td>-0.078406</td>\n",
       "      <td>-0.301846</td>\n",
       "      <td>...</td>\n",
       "      <td>0.596341</td>\n",
       "      <td>0.014325</td>\n",
       "      <td>0.793072</td>\n",
       "      <td>-0.186530</td>\n",
       "      <td>1.0</td>\n",
       "      <td>-1.072471</td>\n",
       "      <td>0.0</td>\n",
       "      <td>-0.851543</td>\n",
       "      <td>-1.643030</td>\n",
       "      <td>perkz</td>\n",
       "    </tr>\n",
       "    <tr>\n",
       "      <th>5878</th>\n",
       "      <td>-1.102945</td>\n",
       "      <td>0.000074</td>\n",
       "      <td>1.0</td>\n",
       "      <td>1.662264</td>\n",
       "      <td>-0.806288</td>\n",
       "      <td>-0.548425</td>\n",
       "      <td>1.131799</td>\n",
       "      <td>-0.217683</td>\n",
       "      <td>-0.078406</td>\n",
       "      <td>3.312946</td>\n",
       "      <td>...</td>\n",
       "      <td>1.060162</td>\n",
       "      <td>0.014325</td>\n",
       "      <td>0.793072</td>\n",
       "      <td>0.966306</td>\n",
       "      <td>-1.0</td>\n",
       "      <td>-0.099739</td>\n",
       "      <td>0.0</td>\n",
       "      <td>-0.851543</td>\n",
       "      <td>-1.643030</td>\n",
       "      <td>perkz</td>\n",
       "    </tr>\n",
       "    <tr>\n",
       "      <th>5879</th>\n",
       "      <td>-1.102945</td>\n",
       "      <td>0.000074</td>\n",
       "      <td>0.0</td>\n",
       "      <td>-0.954070</td>\n",
       "      <td>-0.806288</td>\n",
       "      <td>0.602432</td>\n",
       "      <td>-0.513946</td>\n",
       "      <td>-0.217683</td>\n",
       "      <td>-0.078406</td>\n",
       "      <td>-0.301846</td>\n",
       "      <td>...</td>\n",
       "      <td>-1.060162</td>\n",
       "      <td>0.014325</td>\n",
       "      <td>0.793072</td>\n",
       "      <td>0.966306</td>\n",
       "      <td>1.0</td>\n",
       "      <td>1.975423</td>\n",
       "      <td>0.0</td>\n",
       "      <td>-1.310740</td>\n",
       "      <td>-1.643030</td>\n",
       "      <td>xiye</td>\n",
       "    </tr>\n",
       "    <tr>\n",
       "      <th>5880</th>\n",
       "      <td>-1.102945</td>\n",
       "      <td>0.000074</td>\n",
       "      <td>1.0</td>\n",
       "      <td>-0.206546</td>\n",
       "      <td>-0.229963</td>\n",
       "      <td>1.753289</td>\n",
       "      <td>-0.513946</td>\n",
       "      <td>-0.217683</td>\n",
       "      <td>-0.078406</td>\n",
       "      <td>-0.301846</td>\n",
       "      <td>...</td>\n",
       "      <td>0.132520</td>\n",
       "      <td>0.014325</td>\n",
       "      <td>0.793072</td>\n",
       "      <td>-0.955088</td>\n",
       "      <td>-1.0</td>\n",
       "      <td>0.548749</td>\n",
       "      <td>0.0</td>\n",
       "      <td>-1.310740</td>\n",
       "      <td>-1.643030</td>\n",
       "      <td>xiye</td>\n",
       "    </tr>\n",
       "    <tr>\n",
       "      <th>5881</th>\n",
       "      <td>-1.102945</td>\n",
       "      <td>0.000074</td>\n",
       "      <td>0.0</td>\n",
       "      <td>-0.580308</td>\n",
       "      <td>1.499014</td>\n",
       "      <td>-0.836139</td>\n",
       "      <td>-0.513946</td>\n",
       "      <td>-0.217683</td>\n",
       "      <td>-0.078406</td>\n",
       "      <td>-0.301846</td>\n",
       "      <td>...</td>\n",
       "      <td>-0.132520</td>\n",
       "      <td>0.014325</td>\n",
       "      <td>0.793072</td>\n",
       "      <td>-0.955088</td>\n",
       "      <td>1.0</td>\n",
       "      <td>-0.229436</td>\n",
       "      <td>0.0</td>\n",
       "      <td>-0.851543</td>\n",
       "      <td>-1.643030</td>\n",
       "      <td>perkz</td>\n",
       "    </tr>\n",
       "    <tr>\n",
       "      <th>5882</th>\n",
       "      <td>-1.102945</td>\n",
       "      <td>0.000074</td>\n",
       "      <td>1.0</td>\n",
       "      <td>-0.580308</td>\n",
       "      <td>-0.229963</td>\n",
       "      <td>0.602432</td>\n",
       "      <td>-0.513946</td>\n",
       "      <td>-0.217683</td>\n",
       "      <td>-0.078406</td>\n",
       "      <td>-0.301846</td>\n",
       "      <td>...</td>\n",
       "      <td>-0.066260</td>\n",
       "      <td>0.014325</td>\n",
       "      <td>0.793072</td>\n",
       "      <td>-3.068621</td>\n",
       "      <td>-1.0</td>\n",
       "      <td>-0.099739</td>\n",
       "      <td>0.0</td>\n",
       "      <td>-0.851543</td>\n",
       "      <td>-1.643030</td>\n",
       "      <td>perkz</td>\n",
       "    </tr>\n",
       "    <tr>\n",
       "      <th>5883</th>\n",
       "      <td>-1.102945</td>\n",
       "      <td>0.000074</td>\n",
       "      <td>0.0</td>\n",
       "      <td>0.167216</td>\n",
       "      <td>0.346363</td>\n",
       "      <td>-0.836139</td>\n",
       "      <td>-0.513946</td>\n",
       "      <td>-0.217683</td>\n",
       "      <td>-0.078406</td>\n",
       "      <td>-0.301846</td>\n",
       "      <td>...</td>\n",
       "      <td>0.066260</td>\n",
       "      <td>0.014325</td>\n",
       "      <td>0.793072</td>\n",
       "      <td>-3.068621</td>\n",
       "      <td>1.0</td>\n",
       "      <td>0.094808</td>\n",
       "      <td>0.0</td>\n",
       "      <td>-1.310740</td>\n",
       "      <td>-1.643030</td>\n",
       "      <td>xiye</td>\n",
       "    </tr>\n",
       "    <tr>\n",
       "      <th>5884</th>\n",
       "      <td>-1.102945</td>\n",
       "      <td>0.000074</td>\n",
       "      <td>1.0</td>\n",
       "      <td>-0.206546</td>\n",
       "      <td>0.922688</td>\n",
       "      <td>0.602432</td>\n",
       "      <td>-0.513946</td>\n",
       "      <td>-0.217683</td>\n",
       "      <td>-0.078406</td>\n",
       "      <td>-0.301846</td>\n",
       "      <td>...</td>\n",
       "      <td>-2.385364</td>\n",
       "      <td>-0.001441</td>\n",
       "      <td>0.793072</td>\n",
       "      <td>-0.186530</td>\n",
       "      <td>-1.0</td>\n",
       "      <td>0.678447</td>\n",
       "      <td>0.0</td>\n",
       "      <td>-0.498315</td>\n",
       "      <td>-1.643030</td>\n",
       "      <td>faker</td>\n",
       "    </tr>\n",
       "    <tr>\n",
       "      <th>5885</th>\n",
       "      <td>-1.102945</td>\n",
       "      <td>0.000074</td>\n",
       "      <td>0.0</td>\n",
       "      <td>0.914740</td>\n",
       "      <td>-0.229963</td>\n",
       "      <td>-0.836139</td>\n",
       "      <td>-0.513946</td>\n",
       "      <td>-0.217683</td>\n",
       "      <td>-0.078406</td>\n",
       "      <td>3.312946</td>\n",
       "      <td>...</td>\n",
       "      <td>2.385364</td>\n",
       "      <td>-0.001441</td>\n",
       "      <td>0.793072</td>\n",
       "      <td>-0.186530</td>\n",
       "      <td>1.0</td>\n",
       "      <td>0.548749</td>\n",
       "      <td>0.0</td>\n",
       "      <td>-0.851543</td>\n",
       "      <td>-1.643030</td>\n",
       "      <td>perkz</td>\n",
       "    </tr>\n",
       "    <tr>\n",
       "      <th>5886</th>\n",
       "      <td>-1.102945</td>\n",
       "      <td>0.000074</td>\n",
       "      <td>1.0</td>\n",
       "      <td>-0.954070</td>\n",
       "      <td>-0.229963</td>\n",
       "      <td>0.027004</td>\n",
       "      <td>-0.513946</td>\n",
       "      <td>-0.217683</td>\n",
       "      <td>-0.078406</td>\n",
       "      <td>-0.301846</td>\n",
       "      <td>...</td>\n",
       "      <td>2.650405</td>\n",
       "      <td>-0.001441</td>\n",
       "      <td>0.793072</td>\n",
       "      <td>0.966306</td>\n",
       "      <td>-1.0</td>\n",
       "      <td>-0.099739</td>\n",
       "      <td>0.0</td>\n",
       "      <td>-0.851543</td>\n",
       "      <td>-1.643030</td>\n",
       "      <td>perkz</td>\n",
       "    </tr>\n",
       "    <tr>\n",
       "      <th>5887</th>\n",
       "      <td>-1.102945</td>\n",
       "      <td>0.000074</td>\n",
       "      <td>0.0</td>\n",
       "      <td>-0.580308</td>\n",
       "      <td>0.922688</td>\n",
       "      <td>-1.123853</td>\n",
       "      <td>-0.513946</td>\n",
       "      <td>-0.217683</td>\n",
       "      <td>-0.078406</td>\n",
       "      <td>-0.301846</td>\n",
       "      <td>...</td>\n",
       "      <td>-2.650405</td>\n",
       "      <td>-0.001441</td>\n",
       "      <td>0.793072</td>\n",
       "      <td>0.966306</td>\n",
       "      <td>1.0</td>\n",
       "      <td>-0.229436</td>\n",
       "      <td>0.0</td>\n",
       "      <td>-0.498315</td>\n",
       "      <td>-1.643030</td>\n",
       "      <td>faker</td>\n",
       "    </tr>\n",
       "    <tr>\n",
       "      <th>5888</th>\n",
       "      <td>-1.102945</td>\n",
       "      <td>0.000074</td>\n",
       "      <td>1.0</td>\n",
       "      <td>1.288502</td>\n",
       "      <td>0.346363</td>\n",
       "      <td>0.314718</td>\n",
       "      <td>-0.513946</td>\n",
       "      <td>-0.217683</td>\n",
       "      <td>-0.078406</td>\n",
       "      <td>-0.301846</td>\n",
       "      <td>...</td>\n",
       "      <td>-0.861382</td>\n",
       "      <td>-0.001441</td>\n",
       "      <td>0.793072</td>\n",
       "      <td>-0.955088</td>\n",
       "      <td>-1.0</td>\n",
       "      <td>-0.229436</td>\n",
       "      <td>0.0</td>\n",
       "      <td>-0.498315</td>\n",
       "      <td>-1.643030</td>\n",
       "      <td>faker</td>\n",
       "    </tr>\n",
       "    <tr>\n",
       "      <th>5889</th>\n",
       "      <td>-1.102945</td>\n",
       "      <td>0.000074</td>\n",
       "      <td>0.0</td>\n",
       "      <td>-0.206546</td>\n",
       "      <td>2.075339</td>\n",
       "      <td>-0.260710</td>\n",
       "      <td>-0.513946</td>\n",
       "      <td>-0.217683</td>\n",
       "      <td>-0.078406</td>\n",
       "      <td>-0.301846</td>\n",
       "      <td>...</td>\n",
       "      <td>0.861382</td>\n",
       "      <td>-0.001441</td>\n",
       "      <td>0.793072</td>\n",
       "      <td>-0.955088</td>\n",
       "      <td>1.0</td>\n",
       "      <td>0.613598</td>\n",
       "      <td>0.0</td>\n",
       "      <td>-0.851543</td>\n",
       "      <td>-1.643030</td>\n",
       "      <td>perkz</td>\n",
       "    </tr>\n",
       "    <tr>\n",
       "      <th>5890</th>\n",
       "      <td>-1.102945</td>\n",
       "      <td>0.000074</td>\n",
       "      <td>0.0</td>\n",
       "      <td>0.167216</td>\n",
       "      <td>0.922688</td>\n",
       "      <td>-1.123853</td>\n",
       "      <td>1.131799</td>\n",
       "      <td>-0.217683</td>\n",
       "      <td>-0.078406</td>\n",
       "      <td>-0.301846</td>\n",
       "      <td>...</td>\n",
       "      <td>1.590243</td>\n",
       "      <td>-0.001441</td>\n",
       "      <td>0.793072</td>\n",
       "      <td>-3.068621</td>\n",
       "      <td>-1.0</td>\n",
       "      <td>0.613598</td>\n",
       "      <td>0.0</td>\n",
       "      <td>-0.851543</td>\n",
       "      <td>-1.643030</td>\n",
       "      <td>perkz</td>\n",
       "    </tr>\n",
       "    <tr>\n",
       "      <th>5891</th>\n",
       "      <td>-1.102945</td>\n",
       "      <td>0.000074</td>\n",
       "      <td>1.0</td>\n",
       "      <td>1.288502</td>\n",
       "      <td>-0.806288</td>\n",
       "      <td>0.314718</td>\n",
       "      <td>-0.513946</td>\n",
       "      <td>-0.217683</td>\n",
       "      <td>-0.078406</td>\n",
       "      <td>-0.301846</td>\n",
       "      <td>...</td>\n",
       "      <td>-1.590243</td>\n",
       "      <td>-0.001441</td>\n",
       "      <td>0.793072</td>\n",
       "      <td>-3.068621</td>\n",
       "      <td>1.0</td>\n",
       "      <td>-0.618529</td>\n",
       "      <td>0.0</td>\n",
       "      <td>-0.498315</td>\n",
       "      <td>-1.643030</td>\n",
       "      <td>faker</td>\n",
       "    </tr>\n",
       "  </tbody>\n",
       "</table>\n",
       "<p>5892 rows × 59 columns</p>\n",
       "</div>"
      ],
      "text/plain": [
       "         split   patchno  result         k         d         a   doubles  \\\n",
       "0     0.724564  1.315767     0.0 -1.327832  0.346363 -1.411567 -0.513946   \n",
       "1     0.724564  1.315767     1.0  1.662264 -1.382614  0.890146  1.131799   \n",
       "2     0.724564  0.219356     0.0 -0.580308  0.346363 -0.260710 -0.513946   \n",
       "3     0.724564  0.219356     1.0 -0.580308  0.346363  0.314718 -0.513946   \n",
       "4     0.724564  0.219356     0.0 -0.580308 -0.806288 -1.411567 -0.513946   \n",
       "5     0.724564  0.219356     1.0 -0.954070 -0.806288  1.177860 -0.513946   \n",
       "6     0.724564  0.219356     1.0  0.167216  0.922688  1.465575  1.131799   \n",
       "7     0.724564  0.219356     0.0 -0.580308 -0.229963 -0.260710 -0.513946   \n",
       "8     0.724564  0.219356     1.0  0.914740 -1.382614  0.027004  1.131799   \n",
       "9     0.724564  0.219356     0.0 -0.954070  0.922688 -0.548425 -0.513946   \n",
       "10    0.724564  0.219356     0.0 -1.327832  1.499014 -1.123853 -0.513946   \n",
       "11    0.724564  0.219356     1.0  0.914740 -1.382614  0.027004  2.777545   \n",
       "12    0.724564  0.219356     1.0  1.662264 -0.806288  0.602432 -0.513946   \n",
       "13    0.724564  0.219356     0.0 -0.954070  0.346363 -0.548425 -0.513946   \n",
       "14    0.724564  0.219356     1.0  0.167216 -0.229963  0.602432  1.131799   \n",
       "15    0.724564  0.219356     0.0  0.167216 -0.806288  0.314718 -0.513946   \n",
       "16    0.724564  0.219356     0.0 -1.327832  0.346363 -0.548425 -0.513946   \n",
       "17    0.724564  0.219356     1.0  1.288502 -0.806288  0.890146  2.777545   \n",
       "18    0.724564  0.219356     1.0 -0.206546 -0.806288  0.027004  1.131799   \n",
       "19    0.724564  0.219356     0.0 -0.954070 -1.382614 -0.260710 -0.513946   \n",
       "20    0.724564  0.219356     0.0 -0.580308  1.499014 -0.836139 -0.513946   \n",
       "21    0.724564  0.219356     1.0  1.288502 -1.382614  1.177860  2.777545   \n",
       "22    0.724564  0.219356     1.0 -0.206546 -0.229963  0.027004 -0.513946   \n",
       "23    0.724564  0.219356     0.0  0.167216 -0.806288 -0.548425 -0.513946   \n",
       "24    0.724564  0.219356     1.0  0.540978 -0.806288  0.602432 -0.513946   \n",
       "25    0.724564  0.219356     0.0 -1.327832  0.922688 -0.836139 -0.513946   \n",
       "26    0.724564  0.219356     0.0 -1.327832  0.346363  0.314718 -0.513946   \n",
       "27    0.724564  0.219356     1.0 -0.580308 -0.806288  0.602432 -0.513946   \n",
       "28    0.724564  0.219356     1.0 -0.954070 -1.382614  0.602432 -0.513946   \n",
       "29    0.724564  0.219356     0.0 -1.327832 -0.229963 -1.123853 -0.513946   \n",
       "...        ...       ...     ...       ...       ...       ...       ...   \n",
       "5862 -1.102945  0.000074     0.0 -0.206546 -0.806288  0.027004  1.131799   \n",
       "5863 -1.102945  0.000074     1.0 -0.206546 -0.806288 -0.260710  1.131799   \n",
       "5864 -1.102945  0.000074     1.0  0.914740 -0.229963  1.753289  2.777545   \n",
       "5865 -1.102945  0.000074     0.0 -0.954070  0.922688 -0.260710 -0.513946   \n",
       "5866 -1.102945  0.000074     0.0  0.167216  1.499014 -1.411567  1.131799   \n",
       "5867 -1.102945  0.000074     1.0  1.662264 -0.806288  0.602432  2.777545   \n",
       "5868 -1.102945  0.000074     1.0  0.540978 -1.382614  0.314718 -0.513946   \n",
       "5869 -1.102945  0.000074     0.0 -1.327832 -0.806288 -0.836139 -0.513946   \n",
       "5870 -1.102945  0.000074     1.0 -0.954070 -1.382614  0.890146 -0.513946   \n",
       "5871 -1.102945  0.000074     0.0 -0.954070 -0.229963 -0.836139 -0.513946   \n",
       "5872 -1.102945  0.000074     0.0 -1.327832 -0.229963 -1.411567 -0.513946   \n",
       "5873 -1.102945  0.000074     1.0 -0.954070 -1.382614 -1.123853 -0.513946   \n",
       "5874 -1.102945  0.000074     1.0 -0.580308 -0.806288 -0.260710 -0.513946   \n",
       "5875 -1.102945  0.000074     0.0 -0.954070  0.922688 -0.836139 -0.513946   \n",
       "5876 -1.102945  0.000074     0.0 -0.954070  1.499014  1.465575 -0.513946   \n",
       "5877 -1.102945  0.000074     1.0  3.157312 -0.229963  1.177860  4.423291   \n",
       "5878 -1.102945  0.000074     1.0  1.662264 -0.806288 -0.548425  1.131799   \n",
       "5879 -1.102945  0.000074     0.0 -0.954070 -0.806288  0.602432 -0.513946   \n",
       "5880 -1.102945  0.000074     1.0 -0.206546 -0.229963  1.753289 -0.513946   \n",
       "5881 -1.102945  0.000074     0.0 -0.580308  1.499014 -0.836139 -0.513946   \n",
       "5882 -1.102945  0.000074     1.0 -0.580308 -0.229963  0.602432 -0.513946   \n",
       "5883 -1.102945  0.000074     0.0  0.167216  0.346363 -0.836139 -0.513946   \n",
       "5884 -1.102945  0.000074     1.0 -0.206546  0.922688  0.602432 -0.513946   \n",
       "5885 -1.102945  0.000074     0.0  0.914740 -0.229963 -0.836139 -0.513946   \n",
       "5886 -1.102945  0.000074     1.0 -0.954070 -0.229963  0.027004 -0.513946   \n",
       "5887 -1.102945  0.000074     0.0 -0.580308  0.922688 -1.123853 -0.513946   \n",
       "5888 -1.102945  0.000074     1.0  1.288502  0.346363  0.314718 -0.513946   \n",
       "5889 -1.102945  0.000074     0.0 -0.206546  2.075339 -0.260710 -0.513946   \n",
       "5890 -1.102945  0.000074     0.0  0.167216  0.922688 -1.123853  1.131799   \n",
       "5891 -1.102945  0.000074     1.0  1.288502 -0.806288  0.314718 -0.513946   \n",
       "\n",
       "       triples   quadras        fb  ...   csdat15  datediff  Encoded_league  \\\n",
       "0    -0.217683 -0.078406 -0.301846  ... -0.066260 -1.353636        1.019116   \n",
       "1    -0.217683 -0.078406 -0.301846  ...  0.066260 -1.353636        1.019116   \n",
       "2    -0.217683 -0.078406 -0.301846  ... -2.385364 -0.129078       -1.467368   \n",
       "3    -0.217683 -0.078406 -0.301846  ...  2.385364 -0.129078       -1.467368   \n",
       "4    -0.217683 -0.078406 -0.301846  ...  0.265040 -0.129078       -1.467368   \n",
       "5    -0.217683 -0.078406 -0.301846  ... -0.265040 -0.129078       -1.467368   \n",
       "6    -0.217683 -0.078406 -0.301846  ... -1.192682 -0.129078       -1.467368   \n",
       "7    -0.217683 -0.078406  3.312946  ...  1.192682 -0.129078       -1.467368   \n",
       "8    -0.217683 -0.078406 -0.301846  ...  1.192682 -0.129078       -1.467368   \n",
       "9    -0.217683 -0.078406 -0.301846  ... -1.192682 -0.129078       -1.467368   \n",
       "10   -0.217683 -0.078406 -0.301846  ... -2.319104 -0.129078       -1.467368   \n",
       "11   -0.217683 -0.078406  3.312946  ...  2.319104 -0.129078       -1.467368   \n",
       "12   -0.217683 -0.078406 -0.301846  ...  1.855283 -0.145223       -1.467368   \n",
       "13   -0.217683 -0.078406  3.312946  ... -1.855283 -0.145223       -1.467368   \n",
       "14   -0.217683 -0.078406 -0.301846  ... -0.861382 -0.145223       -1.467368   \n",
       "15   -0.217683 -0.078406 -0.301846  ...  0.861382 -0.145223       -1.467368   \n",
       "16   -0.217683 -0.078406 -0.301846  ... -0.132520 -0.145223       -1.467368   \n",
       "17   -0.217683 -0.078406  3.312946  ...  0.132520 -0.145223       -1.467368   \n",
       "18   -0.217683 -0.078406 -0.301846  ...  0.397561 -0.177643        0.567028   \n",
       "19   -0.217683 -0.078406 -0.301846  ... -0.397561 -0.177643        0.567028   \n",
       "20   -0.217683 -0.078406 -0.301846  ... -0.331301 -0.177643        0.567028   \n",
       "21   -0.217683 -0.078406 -0.301846  ...  0.331301 -0.177643        0.567028   \n",
       "22   -0.217683 -0.078406 -0.301846  ... -0.397561 -0.161411       -1.467368   \n",
       "23   -0.217683 -0.078406 -0.301846  ...  0.397561 -0.161411       -1.467368   \n",
       "24   -0.217683 -0.078406 -0.301846  ... -0.132520 -0.161411       -1.467368   \n",
       "25   -0.217683 -0.078406 -0.301846  ...  0.132520 -0.161411       -1.467368   \n",
       "26   -0.217683 -0.078406 -0.301846  ... -0.795121 -0.161411       -1.467368   \n",
       "27   -0.217683 -0.078406 -0.301846  ...  0.795121 -0.161411       -1.467368   \n",
       "28   -0.217683 -0.078406 -0.301846  ...  0.993902 -0.161411       -1.467368   \n",
       "29   -0.217683 -0.078406 -0.301846  ... -0.993902 -0.161411       -1.467368   \n",
       "...        ...       ...       ...  ...       ...       ...             ...   \n",
       "5862 -0.217683 -0.078406  3.312946  ...  0.927642  0.108060        0.793072   \n",
       "5863 -0.217683 -0.078406 -0.301846  ... -0.927642  0.108060        0.793072   \n",
       "5864 -0.217683 -0.078406 -0.301846  ... -0.530081  0.108060        0.793072   \n",
       "5865 -0.217683 -0.078406 -0.301846  ...  0.530081  0.108060        0.793072   \n",
       "5866 -0.217683 -0.078406 -0.301846  ... -1.523983  0.108060        0.793072   \n",
       "5867 -0.217683 -0.078406  3.312946  ...  1.523983  0.108060        0.793072   \n",
       "5868 -0.217683 -0.078406 -0.301846  ... -0.198780  0.108060        0.793072   \n",
       "5869 -0.217683 -0.078406 -0.301846  ...  0.198780  0.108060        0.793072   \n",
       "5870 -0.217683 -0.078406 -0.301846  ... -0.265040  0.030050        0.793072   \n",
       "5871 -0.217683 -0.078406 -0.301846  ...  0.265040  0.030050        0.793072   \n",
       "5872 -0.217683 -0.078406 -0.301846  ... -4.439428  0.030050        0.793072   \n",
       "5873 -0.217683 -0.078406 -0.301846  ...  4.439428  0.030050        0.793072   \n",
       "5874 -0.217683 -0.078406 -0.301846  ...  1.391462  0.030050        0.793072   \n",
       "5875 -0.217683 -0.078406  3.312946  ... -1.391462  0.030050        0.793072   \n",
       "5876 -0.217683 -0.078406 -0.301846  ... -0.596341  0.014325        0.793072   \n",
       "5877  4.251267 -0.078406 -0.301846  ...  0.596341  0.014325        0.793072   \n",
       "5878 -0.217683 -0.078406  3.312946  ...  1.060162  0.014325        0.793072   \n",
       "5879 -0.217683 -0.078406 -0.301846  ... -1.060162  0.014325        0.793072   \n",
       "5880 -0.217683 -0.078406 -0.301846  ...  0.132520  0.014325        0.793072   \n",
       "5881 -0.217683 -0.078406 -0.301846  ... -0.132520  0.014325        0.793072   \n",
       "5882 -0.217683 -0.078406 -0.301846  ... -0.066260  0.014325        0.793072   \n",
       "5883 -0.217683 -0.078406 -0.301846  ...  0.066260  0.014325        0.793072   \n",
       "5884 -0.217683 -0.078406 -0.301846  ... -2.385364 -0.001441        0.793072   \n",
       "5885 -0.217683 -0.078406  3.312946  ...  2.385364 -0.001441        0.793072   \n",
       "5886 -0.217683 -0.078406 -0.301846  ...  2.650405 -0.001441        0.793072   \n",
       "5887 -0.217683 -0.078406 -0.301846  ... -2.650405 -0.001441        0.793072   \n",
       "5888 -0.217683 -0.078406 -0.301846  ... -0.861382 -0.001441        0.793072   \n",
       "5889 -0.217683 -0.078406 -0.301846  ...  0.861382 -0.001441        0.793072   \n",
       "5890 -0.217683 -0.078406 -0.301846  ...  1.590243 -0.001441        0.793072   \n",
       "5891 -0.217683 -0.078406 -0.301846  ... -1.590243 -0.001441        0.793072   \n",
       "\n",
       "      Encoded_game  Encoded_side  Encoded_champion  Encoded_Year  \\\n",
       "0        -0.955088          -1.0         -1.396715           0.0   \n",
       "1        -0.955088           1.0          1.975423           0.0   \n",
       "2        -0.186530          -1.0          1.975423           0.0   \n",
       "3        -0.186530           1.0          0.613598           0.0   \n",
       "4         0.966306          -1.0          1.975423           0.0   \n",
       "5         0.966306           1.0         -0.488831           0.0   \n",
       "6        -0.955088          -1.0         -0.488831           0.0   \n",
       "7        -0.955088           1.0         -0.618529           0.0   \n",
       "8        -0.186530          -1.0          0.613598           0.0   \n",
       "9        -0.186530           1.0          1.975423           0.0   \n",
       "10        0.966306          -1.0          0.094808           0.0   \n",
       "11        0.966306           1.0          0.613598           0.0   \n",
       "12       -0.186530          -1.0         -0.099739           0.0   \n",
       "13       -0.186530           1.0          1.975423           0.0   \n",
       "14        0.966306          -1.0         -0.942773           0.0   \n",
       "15        0.966306           1.0          0.613598           0.0   \n",
       "16        0.966306          -1.0         -0.942773           0.0   \n",
       "17        0.966306           1.0         -0.099739           0.0   \n",
       "18       -0.186530          -1.0         -1.072471           0.0   \n",
       "19       -0.186530           1.0          0.613598           0.0   \n",
       "20        0.966306          -1.0          0.029959           0.0   \n",
       "21        0.966306           1.0          0.613598           0.0   \n",
       "22        0.966306          -1.0         -1.007622           0.0   \n",
       "23        0.966306           1.0         -0.748227           0.0   \n",
       "24       -0.955088          -1.0         -0.748227           0.0   \n",
       "25       -0.955088           1.0          1.975423           0.0   \n",
       "26       -0.186530          -1.0          0.613598           0.0   \n",
       "27       -0.186530           1.0         -0.942773           0.0   \n",
       "28        0.966306          -1.0         -0.942773           0.0   \n",
       "29        0.966306           1.0          0.678447           0.0   \n",
       "...            ...           ...               ...           ...   \n",
       "5862     -3.068621          -1.0          0.548749           0.0   \n",
       "5863     -3.068621           1.0          0.613598           0.0   \n",
       "5864     -3.260760          -1.0         -0.618529           0.0   \n",
       "5865     -3.260760           1.0          0.483901           0.0   \n",
       "5866     -2.492203          -1.0          0.613598           0.0   \n",
       "5867     -2.492203           1.0          0.029959           0.0   \n",
       "5868     -1.147227          -1.0          1.975423           0.0   \n",
       "5869     -1.147227           1.0         -0.877924           0.0   \n",
       "5870     -0.186530          -1.0          0.613598           0.0   \n",
       "5871     -0.186530           1.0         -0.618529           0.0   \n",
       "5872      0.966306          -1.0         -0.618529           0.0   \n",
       "5873      0.966306           1.0          0.678447           0.0   \n",
       "5874     -0.955088          -1.0          0.613598           0.0   \n",
       "5875     -0.955088           1.0          0.029959           0.0   \n",
       "5876     -0.186530          -1.0          0.029959           0.0   \n",
       "5877     -0.186530           1.0         -1.072471           0.0   \n",
       "5878      0.966306          -1.0         -0.099739           0.0   \n",
       "5879      0.966306           1.0          1.975423           0.0   \n",
       "5880     -0.955088          -1.0          0.548749           0.0   \n",
       "5881     -0.955088           1.0         -0.229436           0.0   \n",
       "5882     -3.068621          -1.0         -0.099739           0.0   \n",
       "5883     -3.068621           1.0          0.094808           0.0   \n",
       "5884     -0.186530          -1.0          0.678447           0.0   \n",
       "5885     -0.186530           1.0          0.548749           0.0   \n",
       "5886      0.966306          -1.0         -0.099739           0.0   \n",
       "5887      0.966306           1.0         -0.229436           0.0   \n",
       "5888     -0.955088          -1.0         -0.229436           0.0   \n",
       "5889     -0.955088           1.0          0.613598           0.0   \n",
       "5890     -3.068621          -1.0          0.613598           0.0   \n",
       "5891     -3.068621           1.0         -0.618529           0.0   \n",
       "\n",
       "      Encoded_team  Encoded_culture    player  \n",
       "0         0.137497         0.739509    mickey  \n",
       "1         0.490725         0.739509     keane  \n",
       "2        -1.134126        -0.213507       ian  \n",
       "3         1.055891        -0.213507     kuzan  \n",
       "4         1.055891        -0.213507     kuzan  \n",
       "5        -1.134126        -0.213507       ian  \n",
       "6        -1.134126        -0.213507       ian  \n",
       "7         1.055891        -0.213507     kuzan  \n",
       "8         0.278788        -0.213507       bdd  \n",
       "9        -1.416709        -0.213507      pawn  \n",
       "10       -1.416709        -0.213507      pawn  \n",
       "11        0.278788        -0.213507       bdd  \n",
       "12       -1.346063        -0.213507    cepted  \n",
       "13        0.702662        -0.213507      kuro  \n",
       "14        0.702662        -0.213507      kuro  \n",
       "15       -1.346063        -0.213507    cepted  \n",
       "16       -0.498315        -0.213507     faker  \n",
       "17        0.879276        -0.213507     crown  \n",
       "18       -1.628646         1.216017   febiven  \n",
       "19        0.102174         1.216017    sencux  \n",
       "20        0.102174         1.216017    sencux  \n",
       "21       -1.628646         1.216017   febiven  \n",
       "22        0.985245        -0.213507     tempt  \n",
       "23        0.278788        -0.213507       bdd  \n",
       "24        0.278788        -0.213507       bdd  \n",
       "25        0.985245        -0.213507     tempt  \n",
       "26        1.515088        -0.213507    mickey  \n",
       "27        1.055891        -0.213507     kuzan  \n",
       "28        1.055891        -0.213507     kuzan  \n",
       "29        1.515088        -0.213507    mickey  \n",
       "...            ...              ...       ...  \n",
       "5862     -0.251055        -1.643030  bjergsen  \n",
       "5863     -0.851543        -1.643030     perkz  \n",
       "5864      1.303151        -1.643030     maple  \n",
       "5865      0.561371        -1.643030   optimus  \n",
       "5866     -0.498315        -1.643030     faker  \n",
       "5867     -1.310740        -1.643030      xiye  \n",
       "5868      1.303151        -1.643030     maple  \n",
       "5869     -0.251055        -1.643030  bjergsen  \n",
       "5870     -0.498315        -1.643030     faker  \n",
       "5871      1.303151        -1.643030     maple  \n",
       "5872      1.303151        -1.643030     maple  \n",
       "5873     -0.498315        -1.643030     faker  \n",
       "5874     -0.498315        -1.643030     faker  \n",
       "5875      1.303151        -1.643030     maple  \n",
       "5876     -1.310740        -1.643030      xiye  \n",
       "5877     -0.851543        -1.643030     perkz  \n",
       "5878     -0.851543        -1.643030     perkz  \n",
       "5879     -1.310740        -1.643030      xiye  \n",
       "5880     -1.310740        -1.643030      xiye  \n",
       "5881     -0.851543        -1.643030     perkz  \n",
       "5882     -0.851543        -1.643030     perkz  \n",
       "5883     -1.310740        -1.643030      xiye  \n",
       "5884     -0.498315        -1.643030     faker  \n",
       "5885     -0.851543        -1.643030     perkz  \n",
       "5886     -0.851543        -1.643030     perkz  \n",
       "5887     -0.498315        -1.643030     faker  \n",
       "5888     -0.498315        -1.643030     faker  \n",
       "5889     -0.851543        -1.643030     perkz  \n",
       "5890     -0.851543        -1.643030     perkz  \n",
       "5891     -0.498315        -1.643030     faker  \n",
       "\n",
       "[5892 rows x 59 columns]"
      ]
     },
     "execution_count": 13,
     "metadata": {},
     "output_type": "execute_result"
    }
   ],
   "source": [
    "# Visualize data\n",
    "data_raw"
   ]
  },
  {
   "cell_type": "code",
   "execution_count": 14,
   "metadata": {
    "ExecuteTime": {
     "end_time": "2019-07-19T15:56:47.041951Z",
     "start_time": "2019-07-19T15:56:46.981513Z"
    }
   },
   "outputs": [
    {
     "name": "stdout",
     "output_type": "stream",
     "text": [
      "Set of the different column types captured by the data:  {dtype('O'), dtype('float64')}\n",
      "The number of missing values in the data:  0\n"
     ]
    }
   ],
   "source": [
    "# Check all values are numeric\n",
    "print(\"Set of the different column types captured by the data: \", set(data_raw.dtypes))\n",
    "# Check no missing data\n",
    "print(\"The number of missing values in the data: \", sum(data_raw.isnull().any()))"
   ]
  },
  {
   "cell_type": "markdown",
   "metadata": {},
   "source": [
    "## 2. Split data in test and train data"
   ]
  },
  {
   "cell_type": "code",
   "execution_count": 15,
   "metadata": {
    "ExecuteTime": {
     "end_time": "2019-07-19T15:56:47.176685Z",
     "start_time": "2019-07-19T15:56:47.045077Z"
    },
    "scrolled": true
   },
   "outputs": [],
   "source": [
    "# Create copy of data for model building (removing team feature)\n",
    "data = data_raw.copy()\n",
    "data = data.drop(labels = ['player', 'split', 'patchno', 'Encoded_league', 'Encoded_game', 'Encoded_Year', 'Encoded_culture'], axis=1)"
   ]
  },
  {
   "cell_type": "code",
   "execution_count": 16,
   "metadata": {
    "ExecuteTime": {
     "end_time": "2019-07-19T15:56:47.208687Z",
     "start_time": "2019-07-19T15:56:47.182482Z"
    }
   },
   "outputs": [],
   "source": [
    "# Split the data\n",
    "x_train, x_test, y_train, y_test = data_splitter(data, 'result')"
   ]
  },
  {
   "cell_type": "code",
   "execution_count": 17,
   "metadata": {
    "ExecuteTime": {
     "end_time": "2019-07-19T15:56:47.237597Z",
     "start_time": "2019-07-19T15:56:47.211208Z"
    }
   },
   "outputs": [
    {
     "name": "stdout",
     "output_type": "stream",
     "text": [
      "The data is centered:  True \n",
      "The data is standardized:  False\n"
     ]
    }
   ],
   "source": [
    "# Check data is standardized and centered\n",
    "print(\"The data is centered: \", \n",
    "      all([int(x) for x in round(x_train.mean(axis = 0), 4)]) == 0,\n",
    "     \"\\nThe data is standardized: \",\n",
    "      all([int(x) for x in round(x_train.var(axis = 0), 4)]) == 1)"
   ]
  },
  {
   "cell_type": "markdown",
   "metadata": {},
   "source": [
    "## 3. Model creation"
   ]
  },
  {
   "cell_type": "code",
   "execution_count": 18,
   "metadata": {
    "ExecuteTime": {
     "end_time": "2019-07-19T15:56:47.265650Z",
     "start_time": "2019-07-19T15:56:47.240178Z"
    }
   },
   "outputs": [],
   "source": [
    "# Create dictionary to capture model summary\n",
    "logistic_L1penalty_model_dict, ridge_model_dict, elasticnet_model_dict, rf_model_dict, model_summary_dict = dict(), dict(), dict(), dict(), dict()"
   ]
  },
  {
   "cell_type": "markdown",
   "metadata": {},
   "source": [
    "### 3.1 Logistic regression with L1 penalty (Lasso classification model)\n",
    "Here, the recursive feature elimination techinique is used to initialize L1 penalization in our logistic regression model and hence allows implementation of lasso regularization."
   ]
  },
  {
   "cell_type": "markdown",
   "metadata": {},
   "source": [
    "##### Recursive feature elimination\n",
    "Given an external estimator that assigns weights to features (~coefficients), the goal of recursive feature elimination is to select features by recursively considering smaller and smaller sets of features. The estimator is trained on the initial set of features and the importance of each feature is obtained. Based on this information the least important features are pruned from the current set of features. This procedure is recursively repeated on the pruned set until the desired number of features to select is reached. To get the optimal number of features CV is used."
   ]
  },
  {
   "cell_type": "code",
   "execution_count": 19,
   "metadata": {
    "ExecuteTime": {
     "end_time": "2019-07-19T15:57:17.850741Z",
     "start_time": "2019-07-19T15:56:47.268572Z"
    },
    "scrolled": true
   },
   "outputs": [],
   "source": [
    "# By using the liblinear solver the L1 penalty is implemented\n",
    "logreg = LogisticRegression(solver='liblinear')\n",
    "rfe = RFECV(logreg, cv = 5)\n",
    "rfe = rfe.fit(x_train, y_train)"
   ]
  },
  {
   "cell_type": "code",
   "execution_count": 20,
   "metadata": {
    "ExecuteTime": {
     "end_time": "2019-07-19T15:57:17.898844Z",
     "start_time": "2019-07-19T15:57:17.866599Z"
    }
   },
   "outputs": [
    {
     "name": "stdout",
     "output_type": "stream",
     "text": [
      "Based on the recursive elimination method the following 25 features are selected:  ['k', 'd', 'a', 'fbvictim', 'kpm', 'elementals', 'dmgtochamps', 'dmgtochampsperminute', 'dmgshare', 'earnedgoldshare', 'wards', 'wcpm', 'totalgold', 'earnedgpm', 'minionkills', 'monsterkills', 'monsterkillsownjungle', 'monsterkillsenemyjungle', 'cspm', 'goldat10', 'gdat10', 'gdat15', 'csdat10', 'datediff', 'Encoded_side']\n"
     ]
    }
   ],
   "source": [
    "# Intermediate summary\n",
    "selected_features_rfe = [col for col, bool_importance in zip(x_train.columns.values, rfe.support_) if bool_importance]\n",
    "print(\"Based on the recursive elimination method the following\", len(selected_features_rfe),\n",
    "      \"features are selected: \", selected_features_rfe)"
   ]
  },
  {
   "cell_type": "markdown",
   "metadata": {},
   "source": [
    "Remark: The solver used by the logistic regression model is 'liblinear' which applies automatic parameter selection (L1 regularization) and is recommended when using a high dimensional dataset."
   ]
  },
  {
   "cell_type": "markdown",
   "metadata": {},
   "source": [
    "##### Model fit"
   ]
  },
  {
   "cell_type": "code",
   "execution_count": 21,
   "metadata": {
    "ExecuteTime": {
     "end_time": "2019-07-19T15:57:18.115735Z",
     "start_time": "2019-07-19T15:57:17.917781Z"
    }
   },
   "outputs": [],
   "source": [
    "# Fit the logistic regression model\n",
    "logistic_L1penalty_model = LogisticRegression(solver='liblinear')\n",
    "fitted_logistic_L1penalty_model = logistic_L1penalty_model.fit(x_train[selected_features_rfe], y_train)\n",
    "\n",
    "# Save best approximation alpha after CV\n",
    "logistic_L1penalty_model_dict['regularisation_param'] = np.nan"
   ]
  },
  {
   "cell_type": "markdown",
   "metadata": {
    "ExecuteTime": {
     "end_time": "2019-03-19T10:26:19.552084Z",
     "start_time": "2019-03-19T10:26:19.547199Z"
    }
   },
   "source": [
    "##### Model accuracy evaluation"
   ]
  },
  {
   "cell_type": "code",
   "execution_count": 22,
   "metadata": {
    "ExecuteTime": {
     "end_time": "2019-07-19T15:57:20.012366Z",
     "start_time": "2019-07-19T15:57:18.128030Z"
    }
   },
   "outputs": [
    {
     "name": "stdout",
     "output_type": "stream",
     "text": [
      "Based on a threshold of 0.5 the following summary statistics can be obtained:\n",
      " ----------------------------------------------------------------------------------------------------\n",
      "417 true positives over all positives (the wins that were correctly classified).\n",
      "21 false positives (the wins that were wrongly classified).\n",
      "429 true negatives (the losses that were correctly classified).\n",
      "17 false negatives (the losses that were wrongly classified).\n",
      "\n",
      "The sensitivity is:  0.9608294930875576\n",
      "The specificity is:  0.9533333333333334\n",
      "\n",
      "\n",
      "Accuracy: 0.9570135746606335 \n",
      " ----------------------------------------------------------------------------------------------------\n"
     ]
    },
    {
     "data": {
      "image/png": "[encoded data removed]",
      "text/plain": [
       "<Figure size 432x288 with 1 Axes>"
      ]
     },
     "metadata": {
      "needs_background": "light"
     },
     "output_type": "display_data"
    },
    {
     "name": "stdout",
     "output_type": "stream",
     "text": [
      "Confusion matrix :\n",
      " ----------------------------------------------------------------------------------------------------\n"
     ]
    },
    {
     "data": {
      "image/png": "[encoded data removed]",
      "text/plain": [
       "<Figure size 432x288 with 2 Axes>"
      ]
     },
     "metadata": {
      "needs_background": "light"
     },
     "output_type": "display_data"
    },
    {
     "name": "stdout",
     "output_type": "stream",
     "text": [
      "Normalized confusion matrix :\n",
      " ----------------------------------------------------------------------------------------------------\n"
     ]
    },
    {
     "data": {
      "image/png": "[encoded data removed]",
      "text/plain": [
       "<Figure size 432x288 with 2 Axes>"
      ]
     },
     "metadata": {
      "needs_background": "light"
     },
     "output_type": "display_data"
    }
   ],
   "source": [
    "# Model accuracy evaluation metrics\n",
    "logistic_L1penalty_model_dict['sensitivity'], logistic_L1penalty_model_dict['specificity'], logistic_L1penalty_model_dict['auc'], logistic_L1penalty_model_dict['accuracy'] = binary_class_evaluator(fitted_logistic_L1penalty_model, x_test[selected_features_rfe], y_test)\n",
    "\n",
    "# Plot non-normalized and normalized confusion matrix\n",
    "plot_confusion_matrix(fitted_logistic_L1penalty_model, x_test[selected_features_rfe], y_test, classes=['Loss', 'Win'])\n",
    "plot_confusion_matrix(fitted_logistic_L1penalty_model, x_test[selected_features_rfe], y_test, classes=['Loss', 'Win'], normalize=True)"
   ]
  },
  {
   "cell_type": "markdown",
   "metadata": {},
   "source": [
    "##### Feature importance evaluator"
   ]
  },
  {
   "cell_type": "code",
   "execution_count": 23,
   "metadata": {
    "ExecuteTime": {
     "end_time": "2019-07-19T15:57:20.022674Z",
     "start_time": "2019-07-19T15:57:20.014645Z"
    }
   },
   "outputs": [
    {
     "name": "stdout",
     "output_type": "stream",
     "text": [
      "Summary of the important features and their corresponding coefficients:\n",
      " ----------------------------------------------------------------------------------------------------\n",
      "earnedgpm : 5.103605780630997\n",
      "earnedgoldshare : -3.3490781922397863\n",
      "kpm : 1.4471840749652145\n",
      "d : -1.3277351517867464\n",
      "a : 1.0265093821028117\n",
      "monsterkills : 0.5392120156508492\n",
      "minionkills : -0.48870956645019387\n",
      "goldat10 : -0.47747971832635777\n",
      "totalgold : 0.44469951728633733\n",
      "dmgtochamps : -0.4267856276550552\n"
     ]
    }
   ],
   "source": [
    "# Show the sorted features indicating the highest importance in predicting the target\n",
    "logistic_L1penalty_model_dict['feature_importance'] = important_features_extractor(fitted_logistic_L1penalty_model, selected_features_rfe)"
   ]
  },
  {
   "cell_type": "code",
   "execution_count": 24,
   "metadata": {
    "ExecuteTime": {
     "end_time": "2019-07-19T16:16:16.459821Z",
     "start_time": "2019-07-19T15:57:20.026322Z"
    },
    "scrolled": true
   },
   "outputs": [
    {
     "data": {
      "image/png": "[encoded data removed]",
      "text/plain": [
       "<Figure size 432x288 with 1 Axes>"
      ]
     },
     "metadata": {
      "needs_background": "light"
     },
     "output_type": "display_data"
    }
   ],
   "source": [
    "# Visualize the use of different regularization parameters on coefficient estimates for Lasso regression\n",
    "n_alphas, coefs = 200, []\n",
    "alphas = np.logspace(-10, -2, n_alphas)\n",
    "for a in alphas:\n",
    "    lasso = Lasso(alpha = a, fit_intercept = False)\n",
    "    lasso.fit(x_train, y_train)\n",
    "    coefs.append(lasso.coef_)\n",
    "\n",
    "# Visualize the regularization curve\n",
    "ax = plt.gca()\n",
    "ax.plot(alphas, coefs)\n",
    "ax.set_xscale('log')\n",
    "ax.set_xlim(ax.get_xlim()[::-1])  # reverse axis\n",
    "plt.xlabel('alpha')\n",
    "plt.ylabel('weights')\n",
    "plt.title('Lasso coefficients as a function of the regularization')\n",
    "plt.axis('tight')\n",
    "plt.show()"
   ]
  },
  {
   "cell_type": "markdown",
   "metadata": {},
   "source": [
    "### 3.2 Ridge classification model\n",
    "Ridge regression covers a machine learning technique that solves a regression model where the loss function is the linear least squares function and regularization is given by the l2-norm.\n",
    "\n",
    "To fit the ridge classification model the ridge classifier with build in cross-validation estimator is used from the sklearn package. The CV classifier allows us to evaluate different regularization parameters. Here, the array of alpha values that is explored ranges from 0.1 to 1. in steps of 0.025.\n",
    "\n",
    "If the alpha value is 0, a OLS model seems to best fit the data. So, the smaller the value of alpha, the higher the magnitude of the coefficients. No intercept is calculated for the model, because the data is centered."
   ]
  },
  {
   "cell_type": "markdown",
   "metadata": {},
   "source": [
    "##### Model fit"
   ]
  },
  {
   "cell_type": "code",
   "execution_count": 25,
   "metadata": {
    "ExecuteTime": {
     "end_time": "2019-07-19T16:16:26.402170Z",
     "start_time": "2019-07-19T16:16:16.461684Z"
    }
   },
   "outputs": [],
   "source": [
    "# Fit the regression model for the optimal alpha \n",
    "alphas = np.arange(0.0, 1.0, 0.025)\n",
    "ridge_model = RidgeClassifierCV(alphas, fit_intercept= False, cv= 5)\n",
    "fitted_ridge_model = ridge_model.fit(x_train, y_train)\n",
    "\n",
    "# Save best approximation alpha after CV\n",
    "ridge_model_dict['regularisation_param'] = fitted_ridge_model.alpha_"
   ]
  },
  {
   "cell_type": "markdown",
   "metadata": {},
   "source": [
    "##### Model accuracy evaluation"
   ]
  },
  {
   "cell_type": "code",
   "execution_count": 26,
   "metadata": {
    "ExecuteTime": {
     "end_time": "2019-07-19T16:16:29.658183Z",
     "start_time": "2019-07-19T16:16:26.403988Z"
    }
   },
   "outputs": [
    {
     "name": "stdout",
     "output_type": "stream",
     "text": [
      "Based on a threshold of 0.5 the following summary statistics can be obtained:\n",
      " ----------------------------------------------------------------------------------------------------\n",
      "413 true positives over all positives (the wins that were correctly classified).\n",
      "29 false positives (the wins that were wrongly classified).\n",
      "421 true negatives (the losses that were correctly classified).\n",
      "21 false negatives (the losses that were wrongly classified).\n",
      "\n",
      "The sensitivity is:  0.9516129032258065\n",
      "The specificity is:  0.9355555555555556\n",
      "\n",
      "\n",
      "Accuracy: 0.9434389140271493 \n",
      " ----------------------------------------------------------------------------------------------------\n"
     ]
    },
    {
     "data": {
      "image/png": "[encoded data removed]",
      "text/plain": [
       "<Figure size 432x288 with 1 Axes>"
      ]
     },
     "metadata": {
      "needs_background": "light"
     },
     "output_type": "display_data"
    },
    {
     "name": "stdout",
     "output_type": "stream",
     "text": [
      "Confusion matrix :\n",
      " ----------------------------------------------------------------------------------------------------\n"
     ]
    },
    {
     "data": {
      "image/png": "[encoded data removed]",
      "text/plain": [
       "<Figure size 432x288 with 2 Axes>"
      ]
     },
     "metadata": {
      "needs_background": "light"
     },
     "output_type": "display_data"
    },
    {
     "name": "stdout",
     "output_type": "stream",
     "text": [
      "Normalized confusion matrix :\n",
      " ----------------------------------------------------------------------------------------------------\n"
     ]
    },
    {
     "data": {
      "image/png": "[encoded data removed]",
      "text/plain": [
       "<Figure size 432x288 with 2 Axes>"
      ]
     },
     "metadata": {
      "needs_background": "light"
     },
     "output_type": "display_data"
    }
   ],
   "source": [
    "# Model accuracy evaluation metrics\n",
    "ridge_model_dict['sensitivity'], ridge_model_dict['specificity'], ridge_model_dict['auc'], ridge_model_dict['accuracy'] = binary_class_evaluator(fitted_ridge_model, x_test, y_test)\n",
    "\n",
    "# Plot non-normalized and normalized confusion matrix\n",
    "plot_confusion_matrix(fitted_ridge_model, x_test,y_test, classes=['Loss', 'Win'])\n",
    "plot_confusion_matrix(fitted_ridge_model, x_test,y_test, classes=['Loss', 'Win'], normalize=True)"
   ]
  },
  {
   "cell_type": "markdown",
   "metadata": {
    "ExecuteTime": {
     "end_time": "2019-03-19T09:17:32.286353Z",
     "start_time": "2019-03-19T09:17:31.991148Z"
    }
   },
   "source": [
    "##### Feature importance evaluator"
   ]
  },
  {
   "cell_type": "code",
   "execution_count": 27,
   "metadata": {
    "ExecuteTime": {
     "end_time": "2019-07-19T16:16:29.668245Z",
     "start_time": "2019-07-19T16:16:29.660513Z"
    },
    "scrolled": true
   },
   "outputs": [
    {
     "name": "stdout",
     "output_type": "stream",
     "text": [
      "Summary of the important features and their corresponding coefficients:\n",
      " ----------------------------------------------------------------------------------------------------\n",
      "earnedgpm : 0.6214215659328677\n",
      "earnedgoldshare : -0.39233454750922875\n",
      "d : -0.25984937042993583\n",
      "k : 0.20623678984144395\n",
      "a : 0.2078586910896788\n",
      "dmgtochampsperminute : -0.15763968291699582\n",
      "gdat15 : -0.14424264641138726\n",
      "minionkills : -0.11873471631618952\n",
      "wardkills : 0.09960911211849456\n",
      "dmgshare : 0.0911052437771371\n"
     ]
    }
   ],
   "source": [
    "# Show the sorted features indicating the highest importance in predicting the target\n",
    "ridge_model_dict['feature_importance'] = important_features_extractor(fitted_ridge_model, x_train.columns.values)"
   ]
  },
  {
   "cell_type": "code",
   "execution_count": 28,
   "metadata": {
    "ExecuteTime": {
     "end_time": "2019-07-19T16:16:34.135567Z",
     "start_time": "2019-07-19T16:16:29.671146Z"
    }
   },
   "outputs": [
    {
     "data": {
      "image/png": "[encoded data removed]",
      "text/plain": [
       "<Figure size 432x288 with 1 Axes>"
      ]
     },
     "metadata": {
      "needs_background": "light"
     },
     "output_type": "display_data"
    }
   ],
   "source": [
    "# Visualize the use of different regularization parameters on coefficient estimates for Ridge regression\n",
    "n_alphas, coefs = 200, []\n",
    "alphas = np.logspace(-10, -2, n_alphas)\n",
    "for a in alphas:\n",
    "    ridge = Ridge(alpha = a, fit_intercept = False)\n",
    "    ridge.fit(x_train, y_train)\n",
    "    coefs.append(ridge.coef_)\n",
    "\n",
    "# Visualize the regularization curve\n",
    "ax = plt.gca()\n",
    "ax.plot(alphas, coefs)\n",
    "ax.set_xscale('log')\n",
    "ax.set_xlim(ax.get_xlim()[::-1])  # reverse axis\n",
    "plt.xlabel('alpha')\n",
    "plt.ylabel('weights')\n",
    "plt.title('Ridge coefficients as a function of the regularization')\n",
    "plt.axis('tight')\n",
    "plt.show()"
   ]
  },
  {
   "cell_type": "markdown",
   "metadata": {},
   "source": [
    "### 3.3 Elastic net classification model\n",
    "The elastic net classification model will combine the L1 and L2 priors illustrated above in the same logistic regression model as regularizers. The ElasticNetCV function from sklearn allows us to play around with these regularization parameters by defining a range for the l1_ratio = a/ (a + b), where  a * L1 + b * L2 composes the penalization term. If the optimal l1_ratio parameter is closer to 1, a sparser selection is managed, while l1_ratio parameters close to 0 result in more shrinkage of the coefficients."
   ]
  },
  {
   "cell_type": "markdown",
   "metadata": {},
   "source": [
    "##### Model fit"
   ]
  },
  {
   "cell_type": "code",
   "execution_count": 29,
   "metadata": {
    "ExecuteTime": {
     "end_time": "2019-07-19T16:18:38.977708Z",
     "start_time": "2019-07-19T16:16:34.138517Z"
    }
   },
   "outputs": [],
   "source": [
    "# Fit the elasticnet classification model\n",
    "l1_ratios = alphas[1:]\n",
    "elasticnet_model = ElasticNetCV(l1_ratio = l1_ratios, fit_intercept= False, cv= 5, random_state=0)\n",
    "fitted_elasticnet_model = elasticnet_model.fit(x_train, y_train)\n",
    "\n",
    "# Save best approximation alpha after CV\n",
    "elasticnet_model_dict['regularisation_param'] = {'l1_ratio': fitted_elasticnet_model.l1_ratio_,\n",
    "                                                 'alpha': fitted_elasticnet_model.alpha_}"
   ]
  },
  {
   "cell_type": "markdown",
   "metadata": {},
   "source": [
    "##### Model accuracy evaluation"
   ]
  },
  {
   "cell_type": "code",
   "execution_count": 30,
   "metadata": {
    "ExecuteTime": {
     "end_time": "2019-07-19T16:18:40.527723Z",
     "start_time": "2019-07-19T16:18:38.979527Z"
    }
   },
   "outputs": [
    {
     "name": "stdout",
     "output_type": "stream",
     "text": [
      "Based on a threshold of 0.5 the following summary statistics can be obtained:\n",
      " ----------------------------------------------------------------------------------------------------\n",
      "413 true positives over all positives (the wins that were correctly classified).\n",
      "24 false positives (the wins that were wrongly classified).\n",
      "426 true negatives (the losses that were correctly classified).\n",
      "21 false negatives (the losses that were wrongly classified).\n",
      "\n",
      "The sensitivity is:  0.9516129032258065\n",
      "The specificity is:  0.9466666666666667\n",
      "\n",
      "\n",
      "Accuracy: 0.9490950226244343 \n",
      " ----------------------------------------------------------------------------------------------------\n"
     ]
    },
    {
     "data": {
      "image/png": "[encoded data removed]",
      "text/plain": [
       "<Figure size 432x288 with 1 Axes>"
      ]
     },
     "metadata": {
      "needs_background": "light"
     },
     "output_type": "display_data"
    },
    {
     "name": "stdout",
     "output_type": "stream",
     "text": [
      "Confusion matrix :\n",
      " ----------------------------------------------------------------------------------------------------\n"
     ]
    },
    {
     "data": {
      "image/png": "[encoded data removed]",
      "text/plain": [
       "<Figure size 432x288 with 2 Axes>"
      ]
     },
     "metadata": {
      "needs_background": "light"
     },
     "output_type": "display_data"
    },
    {
     "name": "stdout",
     "output_type": "stream",
     "text": [
      "Normalized confusion matrix :\n",
      " ----------------------------------------------------------------------------------------------------\n"
     ]
    },
    {
     "data": {
      "image/png": "[encoded data removed]",
      "text/plain": [
       "<Figure size 432x288 with 2 Axes>"
      ]
     },
     "metadata": {
      "needs_background": "light"
     },
     "output_type": "display_data"
    }
   ],
   "source": [
    "# Model accuracy evaluation metrics\n",
    "elasticnet_model_dict['sensitivity'], elasticnet_model_dict['specificity'], elasticnet_model_dict['auc'], elasticnet_model_dict['accuracy'] = binary_class_evaluator(fitted_elasticnet_model, x_test, y_test, elasticnet = True)\n",
    "\n",
    "# Plot non-normalized and normalized confusion matrix\n",
    "plot_confusion_matrix(fitted_elasticnet_model, x_test, y_test, classes=['Loss', 'Win'], elasticnet = True)\n",
    "plot_confusion_matrix(fitted_elasticnet_model, x_test, y_test, classes=['Loss', 'Win'], normalize=True, elasticnet = True)"
   ]
  },
  {
   "cell_type": "markdown",
   "metadata": {
    "ExecuteTime": {
     "end_time": "2019-03-19T10:34:24.897544Z",
     "start_time": "2019-03-19T10:34:24.872205Z"
    }
   },
   "source": [
    "##### Feature importance evaluator"
   ]
  },
  {
   "cell_type": "code",
   "execution_count": 31,
   "metadata": {
    "ExecuteTime": {
     "end_time": "2019-07-19T16:18:40.541668Z",
     "start_time": "2019-07-19T16:18:40.529426Z"
    },
    "scrolled": true
   },
   "outputs": [
    {
     "name": "stdout",
     "output_type": "stream",
     "text": [
      "Summary of the important features and their corresponding coefficients:\n",
      " ----------------------------------------------------------------------------------------------------\n",
      "earnedgpm : 0.2354695764008681\n",
      "earnedgoldshare : -0.16966472879155398\n",
      "d : -0.12524496265144835\n",
      "a : 0.1103475340908065\n",
      "k : 0.06323421969845378\n",
      "minionkills : -0.055898699421796906\n",
      "totalgold : 0.053302879079623354\n",
      "gdat15 : -0.05245189010669122\n",
      "dmgtochamps : -0.03945301108162516\n",
      "kpm : 0.030349375472533358\n"
     ]
    }
   ],
   "source": [
    "# Show the sorted features indicating the highest importance in predicting the target\n",
    "elasticnet_model_dict['feature_importance'] = important_features_extractor(fitted_elasticnet_model, \n",
    "                                                                           x_train.columns.values, \n",
    "                                                                           elasticnet = True)"
   ]
  },
  {
   "cell_type": "code",
   "execution_count": 32,
   "metadata": {
    "ExecuteTime": {
     "end_time": "2019-07-19T16:20:01.021962Z",
     "start_time": "2019-07-19T16:18:40.543200Z"
    }
   },
   "outputs": [
    {
     "data": {
      "image/png": "[encoded data removed]",
      "text/plain": [
       "<Figure size 432x288 with 1 Axes>"
      ]
     },
     "metadata": {
      "needs_background": "light"
     },
     "output_type": "display_data"
    }
   ],
   "source": [
    "# Visualize the use of different regularization parameters on coefficient estimates for Ridge regression\n",
    "n_ratios, coefs = 200, []\n",
    "l1_ratios = np.logspace(-10, -2, n_ratios)\n",
    "for r in l1_ratios:\n",
    "    elasticnet = ElasticNet(l1_ratio = r, fit_intercept = False)\n",
    "    elasticnet.fit(x_train, y_train)\n",
    "    coefs.append(elasticnet.coef_)\n",
    "\n",
    "# Visualize the regularization curve\n",
    "ax = plt.gca()\n",
    "ax.plot(l1_ratios, coefs)\n",
    "ax.set_xscale('log')\n",
    "ax.set_xlim(ax.get_xlim()[::-1])  # reverse axis\n",
    "plt.xlabel('l1_ratio')\n",
    "plt.ylabel('weights')\n",
    "plt.title('Elastic net coefficients as a function of the regularization')\n",
    "plt.axis('tight')\n",
    "plt.show()"
   ]
  },
  {
   "cell_type": "markdown",
   "metadata": {},
   "source": [
    "### 3.4 Random Forests classifier"
   ]
  },
  {
   "cell_type": "markdown",
   "metadata": {},
   "source": [
    "##### Model fit"
   ]
  },
  {
   "cell_type": "code",
   "execution_count": 33,
   "metadata": {
    "ExecuteTime": {
     "end_time": "2019-07-19T17:01:46.580662Z",
     "start_time": "2019-07-19T16:20:01.027086Z"
    }
   },
   "outputs": [
    {
     "data": {
      "text/plain": [
       "{'bootstrap': True, 'max_features': 'sqrt', 'n_estimators': 200}"
      ]
     },
     "execution_count": 33,
     "metadata": {},
     "output_type": "execute_result"
    }
   ],
   "source": [
    "# Define hyperparameter grid\n",
    "param_grid = {'bootstrap': [True, False],\n",
    "              'max_features': ['auto', 'sqrt'],\n",
    "              'n_estimators': [200, 1000, 2000]}\n",
    "\n",
    "# Hyperparametertuning of the Random Forest model (cv = 5 folds)\n",
    "rf_model = RandomForestClassifier()\n",
    "grid_rf_model = GridSearchCV(rf_model, param_grid, cv=5)\n",
    "grid_best_rf_model = grid_rf_model.fit(x_train, y_train)\n",
    "\n",
    "# Save optimal hyperparameters\n",
    "rf_model_dict['regularisation_param'] = grid_best_rf_model.best_params_\n",
    "grid_best_rf_model.best_params_"
   ]
  },
  {
   "cell_type": "code",
   "execution_count": 34,
   "metadata": {
    "ExecuteTime": {
     "end_time": "2019-07-19T17:01:50.651943Z",
     "start_time": "2019-07-19T17:01:46.599818Z"
    }
   },
   "outputs": [
    {
     "data": {
      "text/plain": [
       "RandomForestClassifier(bootstrap=True, class_weight=None, criterion='gini',\n",
       "            max_depth=None, max_features='sqrt', max_leaf_nodes=None,\n",
       "            min_impurity_decrease=0.0, min_impurity_split=None,\n",
       "            min_samples_leaf=1, min_samples_split=2,\n",
       "            min_weight_fraction_leaf=0.0, n_estimators=200, n_jobs=None,\n",
       "            oob_score=False, random_state=None, verbose=0,\n",
       "            warm_start=False)"
      ]
     },
     "execution_count": 34,
     "metadata": {},
     "output_type": "execute_result"
    }
   ],
   "source": [
    "# Fit the best model with the optimal hyperparameters\n",
    "fitted_rf_model = RandomForestClassifier(bootstrap = rf_model_dict['regularisation_param'] ['bootstrap'],\n",
    "                                         max_features = rf_model_dict['regularisation_param'] ['max_features'],\n",
    "                                         n_estimators = rf_model_dict['regularisation_param'] ['n_estimators'])\n",
    "fitted_rf_model.fit(x_train,y_train)"
   ]
  },
  {
   "cell_type": "markdown",
   "metadata": {},
   "source": [
    "##### Model accuracy evaluation"
   ]
  },
  {
   "cell_type": "code",
   "execution_count": 35,
   "metadata": {
    "ExecuteTime": {
     "end_time": "2019-07-19T17:01:51.552419Z",
     "start_time": "2019-07-19T17:01:50.654010Z"
    }
   },
   "outputs": [
    {
     "name": "stdout",
     "output_type": "stream",
     "text": [
      "Based on a threshold of 0.5 the following summary statistics can be obtained:\n",
      " ----------------------------------------------------------------------------------------------------\n",
      "410 true positives over all positives (the wins that were correctly classified).\n",
      "35 false positives (the wins that were wrongly classified).\n",
      "415 true negatives (the losses that were correctly classified).\n",
      "24 false negatives (the losses that were wrongly classified).\n",
      "\n",
      "The sensitivity is:  0.9447004608294931\n",
      "The specificity is:  0.9222222222222223\n",
      "\n",
      "\n",
      "Accuracy: 0.9332579185520362 \n",
      " ----------------------------------------------------------------------------------------------------\n"
     ]
    },
    {
     "data": {
      "image/png": "[encoded data removed]",
      "text/plain": [
       "<Figure size 432x288 with 1 Axes>"
      ]
     },
     "metadata": {
      "needs_background": "light"
     },
     "output_type": "display_data"
    },
    {
     "name": "stdout",
     "output_type": "stream",
     "text": [
      "Confusion matrix :\n",
      " ----------------------------------------------------------------------------------------------------\n"
     ]
    },
    {
     "data": {
      "image/png": "[encoded data removed]",
      "text/plain": [
       "<Figure size 432x288 with 2 Axes>"
      ]
     },
     "metadata": {
      "needs_background": "light"
     },
     "output_type": "display_data"
    },
    {
     "name": "stdout",
     "output_type": "stream",
     "text": [
      "Normalized confusion matrix :\n",
      " ----------------------------------------------------------------------------------------------------\n"
     ]
    },
    {
     "data": {
      "image/png": "[encoded data removed]",
      "text/plain": [
       "<Figure size 432x288 with 2 Axes>"
      ]
     },
     "metadata": {
      "needs_background": "light"
     },
     "output_type": "display_data"
    }
   ],
   "source": [
    "# Model accuracy evaluation metrics\n",
    "rf_model_dict['sensitivity'], rf_model_dict['specificity'], rf_model_dict['auc'], rf_model_dict['accuracy'] = binary_class_evaluator(fitted_rf_model, x_test, y_test, elasticnet = False)\n",
    "\n",
    "# Plot non-normalized and normalized confusion matrix\n",
    "plot_confusion_matrix(fitted_rf_model, x_test, y_test, classes=['Loss', 'Win'], elasticnet = False)\n",
    "plot_confusion_matrix(fitted_rf_model, x_test, y_test, classes=['Loss', 'Win'], normalize=True, elasticnet = False)"
   ]
  },
  {
   "cell_type": "markdown",
   "metadata": {},
   "source": [
    "##### Feature importance evaluator"
   ]
  },
  {
   "cell_type": "code",
   "execution_count": 36,
   "metadata": {
    "ExecuteTime": {
     "end_time": "2019-07-19T17:01:51.581590Z",
     "start_time": "2019-07-19T17:01:51.554684Z"
    },
    "scrolled": true
   },
   "outputs": [
    {
     "data": {
      "text/plain": [
       "earnedgpm           0.191391\n",
       "a                   0.133937\n",
       "gspd                0.093258\n",
       "d                   0.092003\n",
       "kpm                 0.071987\n",
       "earnedgoldshare     0.052651\n",
       "k                   0.046764\n",
       "totalgold           0.033217\n",
       "Encoded_team        0.020656\n",
       "Encoded_champion    0.018766\n",
       "dtype: float64"
      ]
     },
     "execution_count": 36,
     "metadata": {},
     "output_type": "execute_result"
    }
   ],
   "source": [
    "# Show the sorted features indicating the highest importance in predicting the target\n",
    "feature_imp = pd.Series(fitted_rf_model.feature_importances_,index=x_train.columns).sort_values(ascending=False)\n",
    "rf_model_dict['feature_importance'] = dict(zip(feature_imp.index, feature_imp))\n",
    "feature_imp[:10]"
   ]
  },
  {
   "cell_type": "markdown",
   "metadata": {},
   "source": [
    "### 3.5 Comparison ML techniques"
   ]
  },
  {
   "cell_type": "markdown",
   "metadata": {},
   "source": [
    "##### Creation summary table"
   ]
  },
  {
   "cell_type": "code",
   "execution_count": 37,
   "metadata": {
    "ExecuteTime": {
     "end_time": "2019-07-19T17:01:51.689568Z",
     "start_time": "2019-07-19T17:01:51.583587Z"
    }
   },
   "outputs": [
    {
     "data": {
      "text/html": [
       "<div>\n",
       "<style scoped>\n",
       "    .dataframe tbody tr th:only-of-type {\n",
       "        vertical-align: middle;\n",
       "    }\n",
       "\n",
       "    .dataframe tbody tr th {\n",
       "        vertical-align: top;\n",
       "    }\n",
       "\n",
       "    .dataframe thead th {\n",
       "        text-align: right;\n",
       "    }\n",
       "</style>\n",
       "<table border=\"1\" class=\"dataframe\">\n",
       "  <thead>\n",
       "    <tr style=\"text-align: right;\">\n",
       "      <th></th>\n",
       "      <th>regularisation_param</th>\n",
       "      <th>sensitivity</th>\n",
       "      <th>specificity</th>\n",
       "      <th>auc</th>\n",
       "      <th>accuracy</th>\n",
       "      <th>feature_importance</th>\n",
       "    </tr>\n",
       "  </thead>\n",
       "  <tbody>\n",
       "    <tr>\n",
       "      <th>Lasso</th>\n",
       "      <td>NaN</td>\n",
       "      <td>0.960829</td>\n",
       "      <td>0.953333</td>\n",
       "      <td>0.957081</td>\n",
       "      <td>0.957014</td>\n",
       "      <td>{'earnedgpm': 5.103605780630997, 'earnedgoldsh...</td>\n",
       "    </tr>\n",
       "    <tr>\n",
       "      <th>Ridge</th>\n",
       "      <td>0.975</td>\n",
       "      <td>0.951613</td>\n",
       "      <td>0.935556</td>\n",
       "      <td>0.943584</td>\n",
       "      <td>0.943439</td>\n",
       "      <td>{'earnedgpm': 0.6214215659328677, 'earnedgolds...</td>\n",
       "    </tr>\n",
       "    <tr>\n",
       "      <th>Elasticnet</th>\n",
       "      <td>{'l1_ratio': 0.01, 'alpha': 0.03316530029283588}</td>\n",
       "      <td>0.951613</td>\n",
       "      <td>0.946667</td>\n",
       "      <td>0.949140</td>\n",
       "      <td>0.949095</td>\n",
       "      <td>{'earnedgpm': 0.2354695764008681, 'earnedgolds...</td>\n",
       "    </tr>\n",
       "    <tr>\n",
       "      <th>RandomForest</th>\n",
       "      <td>{'bootstrap': True, 'max_features': 'sqrt', 'n...</td>\n",
       "      <td>0.944700</td>\n",
       "      <td>0.922222</td>\n",
       "      <td>0.933461</td>\n",
       "      <td>0.933258</td>\n",
       "      <td>{'earnedgpm': 0.1913913542611974, 'a': 0.13393...</td>\n",
       "    </tr>\n",
       "  </tbody>\n",
       "</table>\n",
       "</div>"
      ],
      "text/plain": [
       "                                           regularisation_param  sensitivity  \\\n",
       "Lasso                                                       NaN     0.960829   \n",
       "Ridge                                                     0.975     0.951613   \n",
       "Elasticnet     {'l1_ratio': 0.01, 'alpha': 0.03316530029283588}     0.951613   \n",
       "RandomForest  {'bootstrap': True, 'max_features': 'sqrt', 'n...     0.944700   \n",
       "\n",
       "              specificity       auc  accuracy  \\\n",
       "Lasso            0.953333  0.957081  0.957014   \n",
       "Ridge            0.935556  0.943584  0.943439   \n",
       "Elasticnet       0.946667  0.949140  0.949095   \n",
       "RandomForest     0.922222  0.933461  0.933258   \n",
       "\n",
       "                                             feature_importance  \n",
       "Lasso         {'earnedgpm': 5.103605780630997, 'earnedgoldsh...  \n",
       "Ridge         {'earnedgpm': 0.6214215659328677, 'earnedgolds...  \n",
       "Elasticnet    {'earnedgpm': 0.2354695764008681, 'earnedgolds...  \n",
       "RandomForest  {'earnedgpm': 0.1913913542611974, 'a': 0.13393...  "
      ]
     },
     "execution_count": 37,
     "metadata": {},
     "output_type": "execute_result"
    }
   ],
   "source": [
    "# Create summary table\n",
    "for key in logistic_L1penalty_model_dict.keys():\n",
    "    model_summary_dict[key] = [logistic_L1penalty_model_dict[key], ridge_model_dict[key], elasticnet_model_dict[key], rf_model_dict[key]]\n",
    "model_summary_table = pd.DataFrame(model_summary_dict, columns = logistic_L1penalty_model_dict.keys())\n",
    "model_summary_table.rename(index={0:'Lasso', 1:'Ridge', 2:'Elasticnet', 3:'RandomForest'}, inplace = True)\n",
    "\n",
    "# Visualize summary table\n",
    "model_summary_table"
   ]
  },
  {
   "cell_type": "markdown",
   "metadata": {},
   "source": [
    "##### Investigate accuracy metrics"
   ]
  },
  {
   "cell_type": "code",
   "execution_count": 53,
   "metadata": {
    "ExecuteTime": {
     "end_time": "2019-07-20T17:18:49.997374Z",
     "start_time": "2019-07-20T17:18:49.786743Z"
    }
   },
   "outputs": [
    {
     "data": {
      "text/plain": [
       "<matplotlib.legend.Legend at 0x7ff41018a630>"
      ]
     },
     "execution_count": 53,
     "metadata": {},
     "output_type": "execute_result"
    },
    {
     "data": {
      "image/png": "[encoded data removed]",
      "text/plain": [
       "<Figure size 432x288 with 1 Axes>"
      ]
     },
     "metadata": {
      "needs_background": "light"
     },
     "output_type": "display_data"
    }
   ],
   "source": [
    "# Visualize a summarization of the accuracy metrics for the different ML methods\n",
    "fig, ax = plt.subplots()\n",
    "ax.plot(list(model_summary_table.index), model_summary_table.sensitivity, '--', label=\"sensitivity\", color='lightskyblue')\n",
    "ax.plot(list(model_summary_table.index), model_summary_table.specificity, '--', label=\"specificity\", color='lightblue')\n",
    "ax.plot(list(model_summary_table.index), model_summary_table.accuracy, label=\"accuracy\", color='royalblue')\n",
    "plt.title(\"Sensitivity, specificity and accuracy regularization models\")\n",
    "plt.ylabel('Value')\n",
    "plt.xlabel('ML model')\n",
    "ax.legend(loc =\"best\", fontsize = 8)"
   ]
  },
  {
   "cell_type": "markdown",
   "metadata": {},
   "source": [
    "##### Investigate parameter coefficients"
   ]
  },
  {
   "cell_type": "code",
   "execution_count": 39,
   "metadata": {
    "ExecuteTime": {
     "end_time": "2019-07-19T17:01:52.234336Z",
     "start_time": "2019-07-19T17:01:52.226070Z"
    }
   },
   "outputs": [
    {
     "name": "stdout",
     "output_type": "stream",
     "text": [
      "The number of features kept by the different techniques in the model:\n",
      " ----------------------------------------------------------------------------------------------------\n",
      "Lasso :  25\n",
      "Ridge :  51\n",
      "Elasticnet :  51\n",
      "RandomForest :  51\n"
     ]
    }
   ],
   "source": [
    "# Short intermediate summary\n",
    "print(\"The number of features kept by the different techniques in the model:\\n\", \"-\"*100)\n",
    "for ML in list(model_summary_table.index):\n",
    "    print(ML, \": \", len(model_summary_table.feature_importance[ML]))"
   ]
  },
  {
   "cell_type": "code",
   "execution_count": 54,
   "metadata": {
    "ExecuteTime": {
     "end_time": "2019-07-20T17:19:04.236370Z",
     "start_time": "2019-07-20T17:19:04.049419Z"
    }
   },
   "outputs": [
    {
     "data": {
      "image/png": "[encoded data removed]",
      "text/plain": [
       "<Figure size 432x288 with 1 Axes>"
      ]
     },
     "metadata": {
      "needs_background": "light"
     },
     "output_type": "display_data"
    }
   ],
   "source": [
    "# Visualization of difference in coefficient estimates\n",
    "plt.plot(fitted_elasticnet_model.coef_, color='darkorange', linewidth=2,\n",
    "         label='Elastic net coefficients')\n",
    "plt.plot(fitted_logistic_L1penalty_model.coef_[0], color='yellowgreen', linewidth=2,\n",
    "         label='Lasso coefficients')\n",
    "plt.plot(fitted_ridge_model.coef_[0], '--', color='dodgerblue', label='Ridge coefficients')\n",
    "plt.legend(loc='best')\n",
    "plt.title(\"Comparison parameter coefficients\")\n",
    "plt.ylabel('Coefficient')\n",
    "plt.xlabel('Feature ID')\n",
    "plt.show()"
   ]
  },
  {
   "cell_type": "code",
   "execution_count": 55,
   "metadata": {
    "ExecuteTime": {
     "end_time": "2019-07-20T17:19:14.886095Z",
     "start_time": "2019-07-20T17:19:11.864727Z"
    },
    "scrolled": false
   },
   "outputs": [
    {
     "data": {
      "image/png": "[encoded data removed]",
      "text/plain": [
       "<Figure size 360x576 with 1 Axes>"
      ]
     },
     "metadata": {
      "needs_background": "light"
     },
     "output_type": "display_data"
    },
    {
     "data": {
      "image/png": "[encoded data removed]",
      "text/plain": [
       "<Figure size 360x1008 with 1 Axes>"
      ]
     },
     "metadata": {
      "needs_background": "light"
     },
     "output_type": "display_data"
    },
    {
     "data": {
      "image/png": "[encoded data removed]",
      "text/plain": [
       "<Figure size 360x1008 with 1 Axes>"
      ]
     },
     "metadata": {
      "needs_background": "light"
     },
     "output_type": "display_data"
    },
    {
     "data": {
      "image/png": "[encoded data removed]",
      "text/plain": [
       "<Figure size 360x1008 with 1 Axes>"
      ]
     },
     "metadata": {
      "needs_background": "light"
     },
     "output_type": "display_data"
    }
   ],
   "source": [
    "# Visualize feature importance (coefficient based)\n",
    "for index, ML in enumerate(list(model_summary_table.index)):\n",
    "    x =  np.arange(len(model_summary_table.feature_importance[ML]))\n",
    "    plt.figure(figsize=(5, 8)) if index == 0 else plt.figure(figsize=(5, 14)) \n",
    "    plt.barh(x, list(model_summary_table.feature_importance[ML].values()), \n",
    "             tick_label =  list(model_summary_table.feature_importance[ML].keys()),\n",
    "             color = 'mediumslateblue', \n",
    "             edgecolor = 'slateblue')\n",
    "    plt.title(\"Feature coefficient estimates \" + ML + \" classification\")\n",
    "    plt.ylabel('Feature')\n",
    "    plt.xlabel('Coefficient')\n",
    "    plt.show()"
   ]
  },
  {
   "cell_type": "markdown",
   "metadata": {},
   "source": [
    "## 4. Create player specific summary vectors"
   ]
  },
  {
   "cell_type": "markdown",
   "metadata": {
    "ExecuteTime": {
     "end_time": "2019-03-26T08:44:26.367395Z",
     "start_time": "2019-03-26T08:44:26.305732Z"
    }
   },
   "source": [
    "### 4.1 Create dataset capturing the average feature values per player\n",
    "A player specific summary vector will be created by looping through all the features captured by the dataset and taking the average over all the games played by that player (for a specific feature). To have a better indication of the accuracy of the player vector another column is added at the end indicating the number of games on which the calculation is based."
   ]
  },
  {
   "cell_type": "code",
   "execution_count": null,
   "metadata": {
    "ExecuteTime": {
     "start_time": "2019-07-19T15:56:42.497Z"
    }
   },
   "outputs": [],
   "source": [
    "# Extract list with the different players\n",
    "players = list(set(data_raw.player))\n",
    "player_vector_cols = list(data.columns)\n",
    "player_vector_cols.append('accuracy indicator')\n",
    "\n",
    "# Create summary vector for each player\n",
    "player_info_list = []\n",
    "for player in players:\n",
    "    player_vector = []\n",
    "    player_subdf = data_raw[data_raw.player == player]\n",
    "    # Loop through the different columns\n",
    "    for col in data.columns:\n",
    "        # Take the mean over column values for numerical features\n",
    "        if 'Encoded' not in col:\n",
    "            player_vector.append(player_subdf[col].mean())\n",
    "        # Take the majority value over column values for discrete features\n",
    "        else: \n",
    "            player_vector.append(RandomSampleProbDist(player_subdf[col]))\n",
    "    # Add accuracy indicator\n",
    "    player_vector.append(len(player_subdf))\n",
    "    player_info_list.append(player_vector)\n",
    "    \n",
    "# Create summary dataframe\n",
    "player_vector_df = pd.DataFrame(data = player_info_list, index=players, columns=player_vector_cols)"
   ]
  },
  {
   "cell_type": "code",
   "execution_count": null,
   "metadata": {
    "ExecuteTime": {
     "start_time": "2019-07-19T15:56:42.499Z"
    },
    "scrolled": true
   },
   "outputs": [],
   "source": [
    "# Intermediate summary\n",
    "print(\"Summary information player vector dataframe: Player specific feature vectors are captured for\", len(player_vector_df), \"players.\\n\")\n",
    "\n",
    "# Extract vector accuracy information\n",
    "print(\"The players indicating feature vectors based on less than 5 games:\\n\", '-'*100)\n",
    "for player, acc_ind in zip(list(player_vector_df.index), player_vector_df['accuracy indicator']):\n",
    "    if acc_ind < 5:\n",
    "        print(player)"
   ]
  },
  {
   "cell_type": "code",
   "execution_count": null,
   "metadata": {
    "ExecuteTime": {
     "start_time": "2019-07-19T15:56:42.501Z"
    }
   },
   "outputs": [],
   "source": [
    "# Accuracy indicator distribution\n",
    "SummaryNumericVar(player_vector_df['accuracy indicator'], 'Accuracy indicator')"
   ]
  },
  {
   "cell_type": "markdown",
   "metadata": {},
   "source": [
    "### 4.2 Estimate player strength parameters"
   ]
  },
  {
   "cell_type": "code",
   "execution_count": null,
   "metadata": {
    "ExecuteTime": {
     "start_time": "2019-07-19T15:56:42.503Z"
    }
   },
   "outputs": [],
   "source": [
    "# Create dictionary to capture strength parameter information\n",
    "strength_param_dict = dict()\n",
    "\n",
    "# Extract columns not used for model fit\n",
    "additional_columns = ['result', 'accuracy indicator']\n",
    "strength_param_dict['accuracy indicator'] = player_vector_df['accuracy indicator']"
   ]
  },
  {
   "cell_type": "markdown",
   "metadata": {},
   "source": [
    "##### Lasso classification based parameter approximation"
   ]
  },
  {
   "cell_type": "code",
   "execution_count": null,
   "metadata": {
    "ExecuteTime": {
     "start_time": "2019-07-19T15:56:42.505Z"
    }
   },
   "outputs": [],
   "source": [
    "# 1. Fit (trained) lasso classification model\n",
    "strength_param_dict['lasso'] = [y for x, y in fitted_logistic_L1penalty_model.predict_proba(player_vector_df[selected_features_rfe])]"
   ]
  },
  {
   "cell_type": "markdown",
   "metadata": {},
   "source": [
    "##### Ridge classification based parameter approximation"
   ]
  },
  {
   "cell_type": "code",
   "execution_count": null,
   "metadata": {
    "ExecuteTime": {
     "start_time": "2019-07-19T15:56:42.508Z"
    },
    "scrolled": true
   },
   "outputs": [],
   "source": [
    "# 2. Fit ridge classification model with best regularisation parameter based on CV\n",
    "additional_columns = ['result', 'accuracy indicator']\n",
    "ridge = RidgeClassifier(alpha = ridge_model_dict['regularisation_param'], fit_intercept = False)\n",
    "fitted_ridge = ridge.fit(x_train, y_train)\n",
    "logit_trans_predictions_ridge = fitted_ridge.decision_function(player_vector_df[[x for x in data.columns if x not in additional_columns]])\n",
    "strength_param_dict['ridge'] = np.exp(logit_trans_predictions_ridge) / (1 + np.exp(logit_trans_predictions_ridge))"
   ]
  },
  {
   "cell_type": "markdown",
   "metadata": {},
   "source": [
    "Remark: There is no predicted probability option for the RidgeClassifier because this model is not easy to interpret as a probability model. The decision function of the RidgeClassifier model considers a logit transformation of the actual class probabilities. If decision function is greater than zero then class 1 is predicted otherwise predict class 0, corresponding to a classical logit approach. By back-transforming these predictions we can get the predicted probabilities."
   ]
  },
  {
   "cell_type": "markdown",
   "metadata": {},
   "source": [
    "##### Result averaging based parameter approximation"
   ]
  },
  {
   "cell_type": "code",
   "execution_count": null,
   "metadata": {
    "ExecuteTime": {
     "start_time": "2019-07-19T15:56:42.510Z"
    }
   },
   "outputs": [],
   "source": [
    "# 3. Expected outcome of the game based on player-vector averaging \n",
    "strength_param_dict['result'] = player_vector_df['result']"
   ]
  },
  {
   "cell_type": "code",
   "execution_count": null,
   "metadata": {
    "ExecuteTime": {
     "start_time": "2019-07-19T15:56:42.512Z"
    }
   },
   "outputs": [],
   "source": [
    "# Create dataframe of strength parameter summarization\n",
    "strength_param_df = pd.DataFrame(strength_param_dict)\n",
    "strength_param_df.head()"
   ]
  },
  {
   "cell_type": "code",
   "execution_count": null,
   "metadata": {
    "ExecuteTime": {
     "start_time": "2019-07-19T15:56:42.514Z"
    }
   },
   "outputs": [],
   "source": [
    "# Print list with correlated features\n",
    "corrmap_abs = strength_param_df.iloc[:,1:].corr().abs()\n",
    "corrmap_abs_sorted = corrmap_abs.unstack().sort_values(kind = \"quicksort\", ascending = False)\n",
    "corrmap_abs_sorted[3:][::-2]"
   ]
  },
  {
   "cell_type": "markdown",
   "metadata": {},
   "source": [
    "### 4.3 Investigation strength parameter characteristics"
   ]
  },
  {
   "cell_type": "code",
   "execution_count": null,
   "metadata": {
    "ExecuteTime": {
     "start_time": "2019-07-19T15:56:42.516Z"
    },
    "scrolled": false
   },
   "outputs": [],
   "source": [
    "# Visualisation strength parameter distributions (based on the different techniques)\n",
    "for col in strength_param_df.columns[1:]:\n",
    "    SummaryNumericVar(strength_param_df[col], col)"
   ]
  },
  {
   "cell_type": "markdown",
   "metadata": {
    "ExecuteTime": {
     "end_time": "2019-03-26T14:30:10.779352Z",
     "start_time": "2019-03-26T14:30:10.606507Z"
    }
   },
   "source": [
    "### 4.4 Write data away"
   ]
  },
  {
   "cell_type": "code",
   "execution_count": null,
   "metadata": {
    "ExecuteTime": {
     "start_time": "2019-07-19T15:56:42.518Z"
    }
   },
   "outputs": [],
   "source": [
    "# Save the player strength parameter data\n",
    "with open('/home/je32910/MasterThesis_ComputationalStatistics/pickles/' + saved_filename + '.pickle', 'wb') as f:\n",
    "    pickle.dump(strength_param_df, f)"
   ]
  }
 ],
 "metadata": {
  "kernelspec": {
   "display_name": "Python [conda env:python36]",
   "language": "python",
   "name": "conda-env-python36-py"
  },
  "language_info": {
   "codemirror_mode": {
    "name": "ipython",
    "version": 3
   },
   "file_extension": ".py",
   "mimetype": "text/x-python",
   "name": "python",
   "nbconvert_exporter": "python",
   "pygments_lexer": "ipython3",
   "version": "3.6.8"
  }
 },
 "nbformat": 4,
 "nbformat_minor": 2
}
