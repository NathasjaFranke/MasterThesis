{
 "cells": [
  {
   "cell_type": "markdown",
   "metadata": {},
   "source": [
    "# Masterthesis: Preprocessing Team Data"
   ]
  },
  {
   "cell_type": "code",
   "execution_count": 1,
   "metadata": {
    "ExecuteTime": {
     "end_time": "2019-07-12T05:37:09.391479Z",
     "start_time": "2019-07-12T05:37:09.387592Z"
    }
   },
   "outputs": [],
   "source": [
    "# Specify whether the team ratios need to be calculated or not:\n",
    "teamratio = False"
   ]
  },
  {
   "cell_type": "code",
   "execution_count": 2,
   "metadata": {
    "ExecuteTime": {
     "end_time": "2019-07-12T05:37:09.439301Z",
     "start_time": "2019-07-12T05:37:09.393489Z"
    }
   },
   "outputs": [],
   "source": [
    "# Specify data range in scope\n",
    "#scope_split_list = ['2017-2', '2017-2po', '2017-2rq', '2017-2pr', '2017-1', '2017-1po',\n",
    "#                    '2017-1pr']\n",
    "scope_split_list = ['2017-2', '2017-2po', '2017-2rq', '2017-2pr', '2017-1', '2017-1po',\n",
    "                    '2017-1pr', '2017-W', '2018-1', '2018-1P', '2018-2rq', '2018-2', '2018-2p']"
   ]
  },
  {
   "cell_type": "code",
   "execution_count": 3,
   "metadata": {
    "ExecuteTime": {
     "end_time": "2019-07-12T05:37:09.473683Z",
     "start_time": "2019-07-12T05:37:09.441130Z"
    }
   },
   "outputs": [],
   "source": [
    "# Name of the preprocessed datafile written away\n",
    "#filename = 'teamdata2017_preprocessed'\n",
    "filename = 'teamdata2018_preprocessed'"
   ]
  },
  {
   "cell_type": "markdown",
   "metadata": {},
   "source": [
    "## 0. Load libraries and define functions"
   ]
  },
  {
   "cell_type": "code",
   "execution_count": 4,
   "metadata": {
    "ExecuteTime": {
     "end_time": "2019-07-12T05:37:10.365815Z",
     "start_time": "2019-07-12T05:37:09.475448Z"
    }
   },
   "outputs": [],
   "source": [
    "# Functions\n",
    "import numpy as np\n",
    "import os\n",
    "import pickle\n",
    "import pandas as pd\n",
    "from pandas.api.types import is_string_dtype\n",
    "from pandas.api.types import is_numeric_dtype\n",
    "from datetime import datetime\n",
    "from collections import Counter\n",
    "from numpy.random import choice\n",
    "from scipy import stats\n",
    "import operator\n",
    "import itertools\n",
    "import statistics\n",
    "\n",
    "import seaborn as sns\n",
    "import matplotlib.pyplot as plt\n",
    "from matplotlib import cm"
   ]
  },
  {
   "cell_type": "code",
   "execution_count": 5,
   "metadata": {
    "ExecuteTime": {
     "end_time": "2019-07-12T05:37:10.373962Z",
     "start_time": "2019-07-12T05:37:10.367942Z"
    }
   },
   "outputs": [
    {
     "data": {
      "text/plain": [
       "<matplotlib.colors.ListedColormap at 0x7fcf21fed2e8>"
      ]
     },
     "execution_count": 5,
     "metadata": {},
     "output_type": "execute_result"
    }
   ],
   "source": [
    "cm.get_cmap(name='tab20b')"
   ]
  },
  {
   "cell_type": "code",
   "execution_count": 6,
   "metadata": {
    "ExecuteTime": {
     "end_time": "2019-07-12T05:37:10.411564Z",
     "start_time": "2019-07-12T05:37:10.376494Z"
    }
   },
   "outputs": [],
   "source": [
    "### Function used to return a summary for categorical variables\n",
    "def SummaryCategoricalVar(list_of_values, title, threshold = 15, top = 10):\n",
    "    \"\"\"\n",
    "    param: list_of_values (list): A list of categorical values from which we like to obtain the distribution\n",
    "    param: title (string): The title for the visualization\n",
    "    param: threshold (int): The maximal number of categories that should be visualized\n",
    "    param: top (int): The top k values that should be returned in the written summary when the number of categories is above the threshold\n",
    "    \"\"\"\n",
    "    # Count the number of occurrances in the list\n",
    "    cnt = Counter(list_of_values)\n",
    "    sorted_cnt = sorted(cnt.items(), key=operator.itemgetter(1))[::-1]\n",
    "    \n",
    "    # Show the percentage dictionary if to many categories to represent\n",
    "    print(\"-\"* 100, \"\\nOverview of variable: \", title, \"\\n\", \"-\"*100)\n",
    "    print(\"Total categories:\", len(cnt), \"\\n\")\n",
    "    if len(cnt) > threshold:\n",
    "        if len(cnt) < top*2:\n",
    "            for key, value in sorted_cnt:\n",
    "                print(key, ':', round(value/len(list_of_values)*100, 4), \"%\")\n",
    "        else:\n",
    "            print(\"The 10 with the highest percentage data available:\\n\")\n",
    "            for key, value in sorted_cnt[:top]:\n",
    "                print(key, ':', round(value/len(list_of_values)*100, 4), \"%\")\n",
    "            print(\"\\nThe 10 with the lowest percentage data available:\\n\")\n",
    "            for key, value in sorted_cnt[len(cnt) - top:]:\n",
    "                print(key, ':', round(value/len(list_of_values)*100, 4), \"%\")\n",
    "                \n",
    "    # Visualization of labelled data distribution\n",
    "    else:\n",
    "        plt.barh(range(1, len(sorted_cnt)+1), \n",
    "                 list(map(lambda x: (x/len(list_of_values)*100), [score for label, score in sorted_cnt])), \n",
    "                 tick_label = list([label for label, score in sorted_cnt]),\n",
    "                 color = 'cornflowerblue', \n",
    "                 edgecolor = 'steelblue')\n",
    "        plt.ylabel('Label')\n",
    "        plt.xlabel('Percentage observations in dataset')\n",
    "        plt.title(title)\n",
    "        plt.show()    "
   ]
  },
  {
   "cell_type": "code",
   "execution_count": 7,
   "metadata": {
    "ExecuteTime": {
     "end_time": "2019-07-12T05:37:10.444847Z",
     "start_time": "2019-07-12T05:37:10.414049Z"
    }
   },
   "outputs": [],
   "source": [
    "### Function used to return a summary for numeric variables\n",
    "def SummaryNumericVar(list_of_values, title):\n",
    "    \"\"\"\n",
    "    param: list_of_values (list): A list of categorical values from which we like to obtain the distribution\n",
    "    param: title (string): The title for the visualization\n",
    "    \"\"\"\n",
    "    \n",
    "    # Title varibale\n",
    "    print(\"=\"* 100, \"\\nOverview of variable: \", title, \"\\n\", \"=\"*100)\n",
    "\n",
    "    # An \"interface\" to matplotlib.axes.Axes.hist() method\n",
    "    n, bins, patches = plt.hist(x = list_of_values, bins='auto', color= '#0504aa', alpha=0.7, rwidth=0.85)\n",
    "    plt.grid(axis='y', alpha=0.75)\n",
    "    plt.xlabel('Value')\n",
    "    plt.ylabel('Frequency')\n",
    "    plt.title(title)\n",
    "    plt.ylim(ymax=np.ceil(n.max() / 10) * 10 if n.max() % 10 else n.max() + 10)\n",
    "    plt.show()\n",
    "\n",
    "    # Print summary statistics\n",
    "    print(\"-\"*20, \"\\nSummary statistics:\\n\", \"-\"*20)\n",
    "    print(\"Minimum value:\", min(list_of_values))\n",
    "    print(\"Mean:\", round(statistics.mean(list_of_values), 4))\n",
    "    print(\"Standard deviation:\", round(statistics.stdev(list_of_values), 4))\n",
    "    print(\"Median:\", round(statistics.median(list_of_values), 4))\n",
    "    print(\"Maximal value:\", max(list_of_values))\n",
    "\n",
    "    # Plot boxplot\n",
    "    plt.boxplot(list_of_values, 0, 'grey', 0)\n",
    "    plt.xlabel('Value')\n",
    "    plt.title(title)\n",
    "    plt.show()\n",
    "\n",
    "    # Present outliers\n",
    "    print(\"-\"*20, \"\\nOutlier detection:\\n\", \"-\"*20)\n",
    "    print(\"List of outliers:\", {round(value,2) for z_score, value in zip(np.abs(stats.zscore(list_of_values)), list_of_values) if z_score > 3})\n",
    "\n",
    "    # Check for normally distributed\n",
    "    stats.probplot(list_of_values, dist=\"norm\", plot= plt)\n",
    "    plt.show()\n",
    "\n",
    "    # Statistics to check normality\n",
    "    print(\"-\"*20, \"\\nCheck for normal distribution:\\n\", \"-\"*20)\n",
    "    print(\"Skewedness:\", round(stats.skew(list_of_values), 4))\n",
    "    print(\"Kurtosis:\", round(stats.kurtosis(list_of_values), 4))"
   ]
  },
  {
   "cell_type": "code",
   "execution_count": 8,
   "metadata": {
    "ExecuteTime": {
     "end_time": "2019-07-12T05:37:10.477913Z",
     "start_time": "2019-07-12T05:37:10.446456Z"
    }
   },
   "outputs": [],
   "source": [
    "### Function used to draw a random sample from the discrete distribution of probabilities representing the input list\n",
    "def RandomSampleProbDist(list_of_values, draws = 1):\n",
    "    \"\"\"\n",
    "    :param: list_of_values (list): A list of categorical values representing the observations in the dataset\n",
    "    :param: draws (int): The number of samples desired to be returned\n",
    "    :return: (array) An array capturing the sampled categories\n",
    "    \"\"\"\n",
    "    # Only the non-missing values are considered in the sampling procedure\n",
    "    non_missing_list = list_of_values.dropna()\n",
    "    # Sample from the discrete probability distribution representing the categorical variable\n",
    "    return list(choice(list(Counter(non_missing_list)), \n",
    "                  draws, \n",
    "                  p = list(map(lambda x: x/len(non_missing_list), \n",
    "                               Counter(non_missing_list).values()))))[0]"
   ]
  },
  {
   "cell_type": "markdown",
   "metadata": {},
   "source": [
    "## 1. Load data"
   ]
  },
  {
   "cell_type": "markdown",
   "metadata": {},
   "source": [
    "### 1.1 Extract raw data"
   ]
  },
  {
   "cell_type": "markdown",
   "metadata": {},
   "source": [
    "#### Read in raw data xlsx format"
   ]
  },
  {
   "cell_type": "code",
   "execution_count": 9,
   "metadata": {
    "ExecuteTime": {
     "end_time": "2019-07-12T05:39:05.175955Z",
     "start_time": "2019-07-12T05:37:10.479865Z"
    },
    "scrolled": true
   },
   "outputs": [
    {
     "name": "stdout",
     "output_type": "stream",
     "text": [
      "True\n",
      "True\n",
      "True\n"
     ]
    }
   ],
   "source": [
    "# Load the data and create panda's dataframe\n",
    "pd_df_2016 = pd.ExcelFile('Data/2016-complete-match-data-OraclesElixir-2017-09-18.xlsx')\n",
    "pd_df_2017 = pd.ExcelFile('Data/2017matchdataOraclesElixir.xlsx')\n",
    "pd_df_2018_spring = pd.ExcelFile('Data/2018-spring-match-data-OraclesElixir-2018-05-20.xlsx')\n",
    "pd_df_2018_summer = pd.ExcelFile('Data/2018 summer match data OraclesElixir 2018-09-27.xlsx')\n",
    "pd_df_2018_worlds = pd.ExcelFile('Data/2018-worlds-match-data-OraclesElixir-2018-11-03.xlsx')\n",
    "\n",
    "# Put the data in a dataframe\n",
    "df_2016 = pd_df_2016.parse(0)\n",
    "df_2017 = pd_df_2017.parse(0)\n",
    "df_2018_spring = pd_df_2018_spring.parse(0)\n",
    "df_2018_summer = pd_df_2018_summer.parse(0)\n",
    "df_2018_worlds = pd_df_2018_worlds.parse(0)\n",
    "\n",
    "# Check whether most recent datasets represent the same features\n",
    "print(all(df_2017.columns == df_2018_spring.columns))\n",
    "print(all(df_2017.columns == df_2018_summer.columns))\n",
    "print(all(df_2017.columns == df_2018_worlds.columns))"
   ]
  },
  {
   "cell_type": "markdown",
   "metadata": {},
   "source": [
    "#### Concatenate dataframes"
   ]
  },
  {
   "cell_type": "code",
   "execution_count": 10,
   "metadata": {
    "ExecuteTime": {
     "end_time": "2019-07-12T05:39:05.190955Z",
     "start_time": "2019-07-12T05:39:05.177969Z"
    }
   },
   "outputs": [],
   "source": [
    "# Add extra column indicating the year of the data\n",
    "df_2017['Year'] = ['2017' for i in range(len(df_2017))]\n",
    "df_2018_spring['Year'] = ['2018' for i in range(len(df_2018_spring))]\n",
    "df_2018_summer['Year'] = ['2018' for i in range(len(df_2018_summer))]\n",
    "df_2018_worlds['Year'] = ['2018' for i in range(len(df_2018_worlds))]"
   ]
  },
  {
   "cell_type": "code",
   "execution_count": 11,
   "metadata": {
    "ExecuteTime": {
     "end_time": "2019-07-12T05:39:05.569335Z",
     "start_time": "2019-07-12T05:39:05.192832Z"
    }
   },
   "outputs": [],
   "source": [
    "# Initialize data you want to analyse\n",
    "data_exploration = pd.concat([df_2017, df_2018_spring, df_2018_summer, df_2018_worlds])"
   ]
  },
  {
   "cell_type": "markdown",
   "metadata": {},
   "source": [
    "#### Retain only split data in scope"
   ]
  },
  {
   "cell_type": "code",
   "execution_count": 12,
   "metadata": {
    "ExecuteTime": {
     "end_time": "2019-07-12T05:39:05.844438Z",
     "start_time": "2019-07-12T05:39:05.571469Z"
    }
   },
   "outputs": [
    {
     "data": {
      "text/plain": [
       "{'2017', '2018'}"
      ]
     },
     "execution_count": 12,
     "metadata": {},
     "output_type": "execute_result"
    }
   ],
   "source": [
    "# Retain data in scope \n",
    "data_exploration = data_exploration[data_exploration.split.isin(scope_split_list)]\n",
    "set(data_exploration['Year'])"
   ]
  },
  {
   "cell_type": "markdown",
   "metadata": {},
   "source": [
    "### 1.2 Only retain team data from 1-1 matchups\n",
    "Only team data is retained from matchups (based on the unique gameid identifier) in which two teams played against each other. "
   ]
  },
  {
   "cell_type": "code",
   "execution_count": 13,
   "metadata": {
    "ExecuteTime": {
     "end_time": "2019-07-12T05:39:05.879668Z",
     "start_time": "2019-07-12T05:39:05.845980Z"
    }
   },
   "outputs": [],
   "source": [
    "# Retain team level parameter information\n",
    "data_exploration = data_exploration[data_exploration.position == 'Team']"
   ]
  },
  {
   "cell_type": "code",
   "execution_count": 14,
   "metadata": {
    "ExecuteTime": {
     "end_time": "2019-07-12T05:39:15.752114Z",
     "start_time": "2019-07-12T05:39:05.881681Z"
    }
   },
   "outputs": [],
   "source": [
    "# Create dictionary capturing the team and its opponent during a matchup\n",
    "matchup_dict = {}\n",
    "for gameID in list(set(data_exploration.gameid)):\n",
    "    matchup_df = data_exploration[data_exploration.gameid == gameID]\n",
    "    matchup_dict[gameID] = set(matchup_df.team)"
   ]
  },
  {
   "cell_type": "code",
   "execution_count": 15,
   "metadata": {
    "ExecuteTime": {
     "end_time": "2019-07-12T05:39:15.763518Z",
     "start_time": "2019-07-12T05:39:15.755551Z"
    },
    "scrolled": true
   },
   "outputs": [
    {
     "name": "stdout",
     "output_type": "stream",
     "text": [
      "The number of teams corresponding to the same game-id in the dataset:\n",
      "0 : 1\n",
      "2 : 5698\n",
      "4 : 45\n",
      "3 : 1\n",
      "\n",
      "We are only interested in games involving two teams and hence removed the others from further analysis:\n",
      "Latter allowed us to retain 99.1819 % of the initial matchup data\n",
      "Information from 5698 are retained in the final dataset\n"
     ]
    }
   ],
   "source": [
    "# Intermediate summary\n",
    "print(\"The number of teams corresponding to the same game-id in the dataset:\")\n",
    "matchup_dict_counter = Counter([len(x) for x in matchup_dict.values()])\n",
    "for ID, teams in matchup_dict_counter.items():\n",
    "    print(ID, \":\", teams)\n",
    "print(\"\\nWe are only interested in games involving two teams and hence removed the others from further analysis:\")\n",
    "print(\"Latter allowed us to retain\", round(matchup_dict_counter[2]/sum(matchup_dict_counter.values())*100, 4) ,\"% of the initial matchup data\")\n",
    "print(\"Information from\", matchup_dict_counter[2], \"are retained in the final dataset\")"
   ]
  },
  {
   "cell_type": "code",
   "execution_count": 16,
   "metadata": {
    "ExecuteTime": {
     "end_time": "2019-07-12T05:39:15.835115Z",
     "start_time": "2019-07-12T05:39:15.766200Z"
    }
   },
   "outputs": [],
   "source": [
    "# Remove biased match-up data\n",
    "unbiased_gameids = [gameID for gameID, teams in matchup_dict.items() if len(teams) == 2]\n",
    "data_exploration = data_exploration[data_exploration['gameid'].isin(unbiased_gameids)]"
   ]
  },
  {
   "cell_type": "markdown",
   "metadata": {},
   "source": [
    "### 1.3 Adjust team parameter in dataset\n",
    "The parameter describing the team was lowercased and the bias in spelling mistakes made and the use of different names to indicate the same team and was removed by manually exploring the data and creating a matching dictionary. All the teams were retained in the final dataset (also the ones for which no strength parameters will be calculated) to allow us to build a model on as much data as possible."
   ]
  },
  {
   "cell_type": "code",
   "execution_count": 17,
   "metadata": {
    "ExecuteTime": {
     "end_time": "2019-07-12T05:39:15.866216Z",
     "start_time": "2019-07-12T05:39:15.836886Z"
    }
   },
   "outputs": [],
   "source": [
    "# Team matching dictionary\n",
    "team_dict = {'100 thieves': ['100 thieves', '100 thieves academy'],\n",
    "             'ahq': ['ahq e-sports club', 'ahq fighter'],\n",
    "             'cloud9': ['cloud9', 'cloud9 academy'],\n",
    "             'clutch gaming': ['clutch gaming', 'clutch gaming academy'],\n",
    "             'counter logic gaming': ['counter logic gaming', 'clg academy'],\n",
    "             'echo fox': ['echo fox', 'echo fox academy'],\n",
    "             'flyquest': ['flyquest', 'flyquest academy'],\n",
    "             'fnatic': ['fnatic', 'fnatic academy'],\n",
    "             'giants': ['giants', 'giants gaming'],\n",
    "             'golden guardians': ['golden guardians', 'golden guardians academy'],\n",
    "             'intz': ['intz e-sports', 'intz e-sports club'],\n",
    "             'kabum': ['kabum e-sports', 'kabum esports'],\n",
    "             'kongdoo monster': ['kongdoo mongster', 'kongdoo monster'],\n",
    "             'misfits': ['misfits', 'misfits academy'],\n",
    "             'optic': ['optic academy', 'optic gaming'],\n",
    "             'team liquid': ['team liquid', 'team liquid academy'],\n",
    "             'team one': ['team one e-sports', 'team one esports']}\n",
    "\n",
    "team_match_dict = {v:k for k, v_list in team_dict.items() for v in v_list}"
   ]
  },
  {
   "cell_type": "code",
   "execution_count": 18,
   "metadata": {
    "ExecuteTime": {
     "end_time": "2019-07-12T05:39:15.924451Z",
     "start_time": "2019-07-12T05:39:15.867890Z"
    }
   },
   "outputs": [],
   "source": [
    "# Adjust the team parameter in the data\n",
    "list_of_teams = [x.lower() for x in data_exploration.team]\n",
    "data_exploration = data_exploration.drop(['team'], axis= 1)\n",
    "unbiased_teamlist = [team_match_dict[team] if team in team_match_dict else team for team in list_of_teams]\n",
    "data_exploration[\"team\"] = unbiased_teamlist"
   ]
  },
  {
   "cell_type": "markdown",
   "metadata": {},
   "source": [
    "## 2 Create extra features"
   ]
  },
  {
   "cell_type": "markdown",
   "metadata": {},
   "source": [
    "### 2.1 Culture"
   ]
  },
  {
   "cell_type": "code",
   "execution_count": 19,
   "metadata": {
    "ExecuteTime": {
     "end_time": "2019-07-12T05:39:15.968762Z",
     "start_time": "2019-07-12T05:39:15.926262Z"
    }
   },
   "outputs": [
    {
     "name": "stdout",
     "output_type": "stream",
     "text": [
      "Not all leagues could be represented by the dictionary used, the ones for which no match was found:  {'RRNAEU', 'RRAsia'}\n"
     ]
    }
   ],
   "source": [
    "# Create dictionary matching the league with its corresponding culture\n",
    "culture_dict = {'CBLoL': 'Brazil', 'EULCS': 'Europe', 'LCK': 'Korea',\n",
    "                'LMS': 'Taiwan, Hong Kong & Macau', 'LPL': 'China',\n",
    "                'NALCS': 'North America', 'TCL': 'Turkey',\n",
    "                'LCL': 'Commonwealth of Independent States', 'LJL': 'Japan',\n",
    "                'LLN': 'Latin America - North', 'OPL': 'Oceania', \n",
    "                'GPL': 'Southeast Asia', 'VCS': 'Vietnam',\n",
    "                'WC': 'International', 'MSI': 'International',\n",
    "                'EUPR': 'Europe', 'NAAc': 'North America',\n",
    "                'EUCS': 'Europe', 'NAPR': 'North America',\n",
    "                'NACS': 'North America'}\n",
    "\n",
    "data_exploration['culture'] = [culture_dict[l] if l in culture_dict else np.nan for l in data_exploration['league']]\n",
    "\n",
    "# Intermediate summary\n",
    "if not set(data_exploration['league']).issubset(set(culture_dict.keys())):\n",
    "    print(\"Not all leagues could be represented by the dictionary used, the ones for which no match was found: \",\n",
    "          set(data_exploration['league']) - set(culture_dict.keys()))"
   ]
  },
  {
   "cell_type": "markdown",
   "metadata": {},
   "source": [
    "### 2.2 Recency of game played"
   ]
  },
  {
   "cell_type": "code",
   "execution_count": 20,
   "metadata": {
    "ExecuteTime": {
     "end_time": "2019-07-12T05:39:16.107786Z",
     "start_time": "2019-07-12T05:39:15.972183Z"
    },
    "scrolled": true
   },
   "outputs": [],
   "source": [
    "# Time indicator (days since game was last played)\n",
    "dates = [datetime.utcfromtimestamp((x- 25569) * 86400.0) if isinstance(x, float) else datetime.utcfromtimestamp(0) for x in data_exploration[\"date\"]]\n",
    "\n",
    "# Calculate the date difference with today\n",
    "daydiff = [(datetime.now() - x).days if not x == datetime.utcfromtimestamp(0) else np.NaN for x in dates]\n",
    "\n",
    "\n",
    "# At column with date difference indicator to the dataframe and drop unicode indications \n",
    "data_exploration[\"datediff\"] = daydiff\n",
    "data_exploration = data_exploration.drop(['date'], axis= 1)"
   ]
  },
  {
   "cell_type": "markdown",
   "metadata": {},
   "source": [
    "### 2.3 Match importance\n",
    "In the data the following abbreviations are used to define the split: The year the game was played combined with a specific suffix (1 spring, 2 summer, po playoffs, r regionals, w worlds). Based on expert knowledge a matchimportance ranking was done."
   ]
  },
  {
   "cell_type": "code",
   "execution_count": 21,
   "metadata": {
    "ExecuteTime": {
     "end_time": "2019-07-12T05:39:16.168974Z",
     "start_time": "2019-07-12T05:39:16.110648Z"
    }
   },
   "outputs": [],
   "source": [
    "# Initialization of match importance\n",
    "match_imp_dict = {'1':1, '2':2, 'W':4, 'po':1.5, '2017':1, '2018':2}\n",
    "\n",
    "# Extract rank information needed to process match importance\n",
    "matchimp_list = [s.split('-') for s in set(data_exploration['split']) if s != 'nan']\n",
    "\n",
    "# Create dictionary for mapping\n",
    "match_imp_mapping_dict = dict()\n",
    "for year, split in matchimp_list:\n",
    "    playoff = match_imp_dict['po'] if any(s in split for s in ['po', 'rq', 'pr']) else 1\n",
    "    match_imp_mapping_dict[year + '-' + split] = match_imp_dict[year] * match_imp_dict[split[0]] *playoff    \n",
    "\n",
    "# Map the values of the dataframe for the different patch numbers\n",
    "data_exploration['split'] = [match_imp_mapping_dict[s] if s in match_imp_mapping_dict else np.nan for s in data_exploration['split']]"
   ]
  },
  {
   "cell_type": "markdown",
   "metadata": {},
   "source": [
    "### 2.4 Patch number\n",
    "The patch number will be ranked in an ordinal fashion, giving higher values to more recent patches. There was no magnitude based ranking used because of its irrelevance for this specific situation."
   ]
  },
  {
   "cell_type": "code",
   "execution_count": 22,
   "metadata": {
    "ExecuteTime": {
     "end_time": "2019-07-12T05:39:16.225721Z",
     "start_time": "2019-07-12T05:39:16.172097Z"
    }
   },
   "outputs": [],
   "source": [
    "# Extract rank information needed to process patch number\n",
    "patchno_split_list = [str(patchno).split('.') for patchno in set(data_exploration['patchno']) if any(char.isdigit() for char in str(patchno))]\n",
    "patchno_split_list = [[int(p), int(n)] if len(n) == 2 else [int(p), int(n + '0')] for p, n in patchno_split_list]\n",
    "patch_sorted, no_sorted = sorted(list(set([p for p, n in patchno_split_list]))), sorted(list(set([n for p, n in patchno_split_list])))\n",
    "\n",
    "# Create dictionary for mapping\n",
    "patchno_mapping_dict, counter = dict(), 0\n",
    "for patch in patch_sorted:\n",
    "    for no in no_sorted:\n",
    "        # Customize patch number\n",
    "        if len(str(no)) == 1:\n",
    "            custom_no = '0' + str(no)\n",
    "        elif str(no)[-1] == '0':\n",
    "            custom_no = str(no)[:-1]\n",
    "        else: \n",
    "            custom_no = str(no)\n",
    "        # Fill matching dictionary\n",
    "        patchno_mapping_dict[str(patch) + '.' + custom_no] = counter\n",
    "        counter += 1\n",
    "\n",
    "# Map the values of the dataframe for the different patch numbers\n",
    "data_exploration['patchno'] = [patchno_mapping_dict[str(patchno)] if str(patchno) in patchno_mapping_dict else np.nan for patchno in data_exploration['patchno']]"
   ]
  },
  {
   "cell_type": "markdown",
   "metadata": {},
   "source": [
    "## 3. Drop irrelevant features\n",
    "Information provided by the url kolom and the opp-features captured by the dataset can assumed to be irrelevant, because latter show high collinearity with other features present in the dataset. Hence, it was decided upon removing these features to avoid them from biasing our results any further."
   ]
  },
  {
   "cell_type": "code",
   "execution_count": 23,
   "metadata": {
    "ExecuteTime": {
     "end_time": "2019-07-12T05:39:16.257140Z",
     "start_time": "2019-07-12T05:39:16.227436Z"
    }
   },
   "outputs": [],
   "source": [
    "# Drop irrelevant feature url and opponent scores\n",
    "data_exploration = data_exploration.drop(labels=['url', 'oppbaronkills', 'oppgoldat10', 'oppgoldat15', \n",
    "                                                 'oppxpat10', 'oppcsat10', 'oppcsat15', 'teamdeaths',\n",
    "                                                 'oppdragkills', 'oppelementals', 'oppelders', 'playerid',\n",
    "                                                 'okpm', 'opptowerkills', 'position', 'player', 'week', \n",
    "                                                 'champion', 'doubles', 'triples', 'quadras', 'pentas'], axis=1)"
   ]
  },
  {
   "cell_type": "markdown",
   "metadata": {},
   "source": [
    "### 4. Assign correct feature type"
   ]
  },
  {
   "cell_type": "code",
   "execution_count": 24,
   "metadata": {
    "ExecuteTime": {
     "end_time": "2019-07-12T05:39:16.438679Z",
     "start_time": "2019-07-12T05:39:16.259761Z"
    }
   },
   "outputs": [],
   "source": [
    "# Extract variables to be analysed\n",
    "categorical_variables = ['league', 'culture', 'game', 'side', 'team', 'fbvictim',\n",
    "                         'ban1', 'ban2', 'ban3', 'ban4', 'ban5', 'result', 'fb', 'fbassist',\n",
    "                         'fd', 'herald', 'ft', 'firstmidouter', 'firsttothreetowers', 'fbaron',\n",
    "                         'Year', 'gameid']\n",
    "numerical_variables = ['gamelength', 'k', 'd', 'a', 'teamkills', 'fbtime', 'kpm', 'ckpm', 'fdtime',\n",
    "                       'teamdragkills', 'elementals', 'firedrakes', 'waterdrakes', 'earthdrakes',\n",
    "                       'airdrakes', 'elders', 'heraldtime', 'fttime', 'teamtowerkills', 'split', 'patchno',\n",
    "                       'fbarontime', 'teambaronkills', 'dmgtochamps', 'dmgtochampsperminute', 'dmgshare',\n",
    "                       'earnedgoldshare', 'wards', 'wpm', 'wardshare', 'wardkills', 'wcpm', 'visionwards',\n",
    "                       'visionwardbuys', 'visiblewardclearrate', 'invisiblewardclearrate', 'totalgold',\n",
    "                       'earnedgpm', 'goldspent', 'gspd', 'minionkills', 'monsterkills', 'monsterkillsownjungle',\n",
    "                       'monsterkillsenemyjungle', 'cspm', 'goldat10', 'gdat10', 'goldat15', 'gdat15', 'xpat10',\n",
    "                       'xpdat10', 'csat10', 'csdat10', 'csat15', 'csdat15', 'datediff']\n",
    "\n",
    "# Correctly define feature types \n",
    "for i in data_exploration.columns.values:\n",
    "    if i in categorical_variables:\n",
    "        data_exploration[i] = data_exploration[i].astype(str)\n",
    "    elif i in numerical_variables:\n",
    "        data_exploration[i]= pd.to_numeric(data_exploration[i], errors='coerce')"
   ]
  },
  {
   "cell_type": "markdown",
   "metadata": {},
   "source": [
    "### 5. Feature adjustment: ratio's indicating team dependence"
   ]
  },
  {
   "cell_type": "code",
   "execution_count": 25,
   "metadata": {
    "ExecuteTime": {
     "end_time": "2019-07-12T05:39:16.466287Z",
     "start_time": "2019-07-12T05:39:16.440824Z"
    }
   },
   "outputs": [],
   "source": [
    "# Copy dataframe\n",
    "data_preparation = data_exploration.copy()"
   ]
  },
  {
   "cell_type": "code",
   "execution_count": 26,
   "metadata": {
    "ExecuteTime": {
     "end_time": "2019-07-12T05:39:16.485033Z",
     "start_time": "2019-07-12T05:39:16.468290Z"
    }
   },
   "outputs": [],
   "source": [
    "# Change features to ratio based features if desired\n",
    "if teamratio:    \n",
    "    \n",
    "    # Define columns that should be represented as ratios\n",
    "    numerical_variables_teamratio = ['k', 'd', 'a', 'teamkills', 'kpm', 'teamdragkills', 'elementals',\n",
    "                                     'firedrakes', 'waterdrakes', 'earthdrakes', 'airdrakes', 'elders',\n",
    "                                     'teamtowerkills', 'teambaronkills', 'dmgtochamps', 'dmgtochampsperminute',\n",
    "                                     'dmgshare', 'earnedgoldshare', 'wards', 'wpm', 'wardshare', 'wardkills', \n",
    "                                     'wcpm', 'visionwards', 'visionwardbuys', 'visiblewardclearrate', \n",
    "                                     'invisiblewardclearrate', 'totalgold', 'earnedgpm', 'goldspent',\n",
    "                                     'minionkills', 'monsterkills', 'monsterkillsownjungle', 'monsterkillsenemyjungle',\n",
    "                                     'cspm', 'goldat10', 'goldat15', 'xpat10', 'csat10', 'csat15']\n",
    "\n",
    "    # Create new dataframe to avoid overwriting previous one\n",
    "    data_preparation = data_exploration.copy()\n",
    "    data_preparation.index = list(range(0, len(data_exploration)))\n",
    "    data_preparation = data_preparation.drop(labels= numerical_variables_teamratio, axis=1)\n",
    "\n",
    "    # Extract ordered list with unique game_ids\n",
    "    ordered_gameid_list = list(data_preparation.gameid)[::2]\n",
    "\n",
    "    # Ingest ratio information in dataframe\n",
    "    print(\"Column currently looping over:\\n\", \"-\"*100)\n",
    "    for col in numerical_variables_teamratio:\n",
    "        col_ratio_list = []\n",
    "        for gameID in ordered_gameid_list: \n",
    "            subdata_gameid = data_exploration[data_exploration.gameid == gameID]\n",
    "            values_for_comparison = list(subdata_gameid[col])\n",
    "            # If information is missing of one of the teams the ratio will be missing\n",
    "            if np.any(subdata_gameid[col].isnull()):\n",
    "                col_ratio_list.append(np.nan)\n",
    "                col_ratio_list.append(np.nan)\n",
    "            # If both teams indicate zero, the ratio will be 0.5\n",
    "            elif values_for_comparison[0] == 0 and values_for_comparison[1] == 0:\n",
    "                col_ratio_list.append(0.5)\n",
    "                col_ratio_list.append(0.5)\n",
    "            # (after exclusion above) If one team has a value of zero, the ratio for the other team will be one\n",
    "            elif values_for_comparison[0] == 0:\n",
    "                col_ratio_list.append(0)\n",
    "                col_ratio_list.append(1)\n",
    "            # (after exclusion above) If one team has a value of zero, the ratio for the other team will be one\n",
    "            elif values_for_comparison[1] == 0:\n",
    "                col_ratio_list.append(1)\n",
    "                col_ratio_list.append(0)\n",
    "             # In case none of the exclusions above count, the ratio is calculated\n",
    "            else:\n",
    "                col_ratio_list.append(float(values_for_comparison[0])/sum(values_for_comparison))\n",
    "                col_ratio_list.append(float(values_for_comparison[1])/sum(values_for_comparison))\n",
    "        data_preparation[col] = col_ratio_list\n",
    "        print(col)"
   ]
  },
  {
   "cell_type": "markdown",
   "metadata": {},
   "source": [
    "Remark: Devision by zero can occur when calculating ratios. To avoid a bias each time a devision by zero would occur, the team under inspection is assigned a value of 1, while the other team gets a value of zero."
   ]
  },
  {
   "cell_type": "markdown",
   "metadata": {},
   "source": [
    "## 6. Correct initialization of missing values"
   ]
  },
  {
   "cell_type": "code",
   "execution_count": 27,
   "metadata": {
    "ExecuteTime": {
     "end_time": "2019-07-12T05:39:16.795998Z",
     "start_time": "2019-07-12T05:39:16.486803Z"
    }
   },
   "outputs": [],
   "source": [
    "# Replace missing values with appropriate indicator\n",
    "data_preparation = data_preparation.replace(to_replace = 'nan', value= np.NaN)\n",
    "data_preparation = data_preparation.replace(to_replace = ' ', value= np.NaN)"
   ]
  },
  {
   "cell_type": "markdown",
   "metadata": {},
   "source": [
    "### 6.1 Missing values per columns"
   ]
  },
  {
   "cell_type": "code",
   "execution_count": 28,
   "metadata": {
    "ExecuteTime": {
     "end_time": "2019-07-12T05:39:16.841648Z",
     "start_time": "2019-07-12T05:39:16.798180Z"
    },
    "scrolled": false
   },
   "outputs": [
    {
     "name": "stdout",
     "output_type": "stream",
     "text": [
      "---------------------------------------------------------------------------------------------------- \n",
      "Overview of variable:  The number of columns with a certain percentage of missing values \n",
      " ----------------------------------------------------------------------------------------------------\n",
      "Total categories: 22 \n",
      "\n",
      "The 10 with the highest percentage data available:\n",
      "\n",
      "21.6392 : 47.4359 %\n",
      "0.0176 : 11.5385 %\n",
      "0.0 : 10.2564 %\n",
      "21.6567 : 2.5641 %\n",
      "100.0 : 2.5641 %\n",
      "24.0786 : 2.5641 %\n",
      "0.0702 : 2.5641 %\n",
      "0.1843 : 2.5641 %\n",
      "21.6216 : 1.2821 %\n",
      "0.7196 : 1.2821 %\n",
      "\n",
      "The 10 with the lowest percentage data available:\n",
      "\n",
      "25.7108 : 1.2821 %\n",
      "25.6581 : 1.2821 %\n",
      "21.7971 : 1.2821 %\n",
      "49.0172 : 1.2821 %\n",
      "44.2787 : 1.2821 %\n",
      "21.9024 : 1.2821 %\n",
      "20.3229 : 1.2821 %\n",
      "0.5177 : 1.2821 %\n",
      "0.1667 : 1.2821 %\n",
      "0.0614 : 1.2821 %\n",
      "---------------------------------------------------------------------------------------------------- \n",
      "Broader exploration of the data\n",
      " ----------------------------------------------------------------------------------------------------\n",
      "Total number of columns: 78 \n",
      "\n",
      "Total number of columns with no missing values: 8 ( 10.2564 %)\n",
      "\n",
      "These are the following columns: ['gameid', 'league', 'split', 'game', 'side', 'result', 'Year', 'team'] \n",
      "\n",
      "The number of columns for which more than half of the information is missing: 2 ( 2.5641 %)\n",
      "\n",
      "These are the following columns: ['dmgshare', 'earnedgoldshare']\n"
     ]
    }
   ],
   "source": [
    "# Count of columns with a certain number of missing values\n",
    "percentage_missing_percol = [round(x/len(data_preparation)*100, 4) for x in list(data_preparation.isna().sum())]\n",
    "SummaryCategoricalVar(percentage_missing_percol,\n",
    "                      'The number of columns with a certain percentage of missing values')\n",
    "\n",
    "# Print intermediate summary\n",
    "print(\"-\"*100, \"\\nBroader exploration of the data\\n\", \"-\"*100)\n",
    "print(\"Total number of columns:\", len(percentage_missing_percol), \"\\n\")\n",
    "print(\"Total number of columns with no missing values:\", \n",
    "      len([x for x in percentage_missing_percol if x == 0]),\n",
    "     \"(\", round(len([x for x in percentage_missing_percol if x == 0])/len(percentage_missing_percol)*100, 4), \"%)\\n\")\n",
    "print(\"These are the following columns:\", [y for y, x in zip(data_preparation.columns, percentage_missing_percol) if x == 0], \"\\n\")\n",
    "print(\"The number of columns for which more than half of the information is missing:\", \n",
    "      len([x for x in percentage_missing_percol if x > 50]),\n",
    "     \"(\", round(len([x for x in percentage_missing_percol if x > 50])/len(percentage_missing_percol)*100, 4), \"%)\\n\")\n",
    "print(\"These are the following columns:\", [y for y, x in zip(data_preparation.columns, percentage_missing_percol) if x > 50])"
   ]
  },
  {
   "cell_type": "code",
   "execution_count": 29,
   "metadata": {
    "ExecuteTime": {
     "end_time": "2019-07-12T05:39:16.855077Z",
     "start_time": "2019-07-12T05:39:16.843634Z"
    }
   },
   "outputs": [
    {
     "name": "stdout",
     "output_type": "stream",
     "text": [
      "After dropping columns with more than half missing values, namely:\n",
      " ['dmgshare', 'earnedgoldshare']\n",
      "76 parameters are retained in the dataset.\n"
     ]
    }
   ],
   "source": [
    "# Remove the columns from the data in case more than half of the observations are missing\n",
    "columns_to_be_dropped = [y for y, x in zip(data_preparation.columns, percentage_missing_percol) if x > 50]\n",
    "data_preparation = data_preparation.drop(columns_to_be_dropped, axis=1)\n",
    "\n",
    "# Drop columns from indicator list for numerical and categorical variables list\n",
    "numerical_variables = [col for col in numerical_variables if col not in columns_to_be_dropped]\n",
    "categorical_variables = [col for col in categorical_variables if col not in columns_to_be_dropped]\n",
    "\n",
    "# Intermediate summary \n",
    "print(\"After dropping columns with more than half missing values, namely:\\n\", columns_to_be_dropped)\n",
    "print(len(data_preparation.columns), \"parameters are retained in the dataset.\")"
   ]
  },
  {
   "cell_type": "markdown",
   "metadata": {},
   "source": [
    "### 6.2 Missing values per row"
   ]
  },
  {
   "cell_type": "code",
   "execution_count": 30,
   "metadata": {
    "ExecuteTime": {
     "end_time": "2019-07-12T05:39:16.935828Z",
     "start_time": "2019-07-12T05:39:16.857013Z"
    }
   },
   "outputs": [
    {
     "name": "stdout",
     "output_type": "stream",
     "text": [
      "---------------------------------------------------------------------------------------------------- \n",
      "Overview of variable:  The number of observations with a certain percentage of missing values \n",
      " ----------------------------------------------------------------------------------------------------\n",
      "Total categories: 17 \n",
      "\n",
      "0.0 : 47.4728 %\n",
      "67.1053 : 20.0772 %\n",
      "2.6316 : 20.0333 %\n",
      "1.3158 : 5.344 %\n",
      "6.5789 : 2.7641 %\n",
      "5.2632 : 1.3777 %\n",
      "65.7895 : 1.3075 %\n",
      "3.9474 : 0.974 %\n",
      "7.8947 : 0.2018 %\n",
      "68.4211 : 0.1755 %\n",
      "9.2105 : 0.1667 %\n",
      "69.7368 : 0.0439 %\n",
      "80.2632 : 0.0176 %\n",
      "13.1579 : 0.0176 %\n",
      "11.8421 : 0.0088 %\n",
      "71.0526 : 0.0088 %\n",
      "72.3684 : 0.0088 %\n",
      "---------------------------------------------------------------------------------------------------- \n",
      "Broader exploration of the data\n",
      " ----------------------------------------------------------------------------------------------------\n",
      "Total number of observations: 11396 \n",
      "\n",
      "Total number of observations with no missing values: 5410 ( 47.4728 %)\n",
      "\n",
      "The number of observations for which more than half of the information is missing: 2466 ( 21.6392 %)\n"
     ]
    }
   ],
   "source": [
    "# Count of rows with a certain number of missing values\n",
    "percentage_missing_perobs = [round(x/len(data_preparation.columns)*100, 4) for x in list(data_preparation.isna().sum(axis=1))]\n",
    "SummaryCategoricalVar(percentage_missing_perobs,\n",
    "                      'The number of observations with a certain percentage of missing values')\n",
    "\n",
    "# Print intermediate summary\n",
    "print(\"-\"*100, \"\\nBroader exploration of the data\\n\", \"-\"*100)\n",
    "print(\"Total number of observations:\", len(percentage_missing_perobs), \"\\n\")\n",
    "print(\"Total number of observations with no missing values:\", \n",
    "      len([x for x in percentage_missing_perobs if x == 0]),\n",
    "     \"(\", round(len([x for x in percentage_missing_perobs if x == 0])/len(percentage_missing_perobs)*100, 4), \"%)\\n\")\n",
    "print(\"The number of observations for which more than half of the information is missing:\", \n",
    "      len([x for x in percentage_missing_perobs if x > 50]),\n",
    "     \"(\", round(len([x for x in percentage_missing_perobs if x > 50])/len(percentage_missing_perobs)*100, 4), \"%)\")"
   ]
  },
  {
   "cell_type": "markdown",
   "metadata": {},
   "source": [
    "##### Detailed investigation 'observations with many missing values'\n",
    "Hence the data distributions presented here correspond to the subset of the observations for which more than half the column information is missing."
   ]
  },
  {
   "cell_type": "code",
   "execution_count": 31,
   "metadata": {
    "ExecuteTime": {
     "end_time": "2019-07-12T05:39:16.945758Z",
     "start_time": "2019-07-12T05:39:16.937794Z"
    }
   },
   "outputs": [],
   "source": [
    "# Extract subdataset to get detailed insight into the observations with many missing values\n",
    "obs_missing_info = [teller for teller, x in enumerate(percentage_missing_perobs) if x > 50]\n",
    "obs_missing_info_df = data_preparation.iloc[obs_missing_info,:]"
   ]
  },
  {
   "cell_type": "code",
   "execution_count": 32,
   "metadata": {
    "ExecuteTime": {
     "end_time": "2019-07-12T05:39:17.159401Z",
     "start_time": "2019-07-12T05:39:16.947602Z"
    },
    "scrolled": false
   },
   "outputs": [
    {
     "name": "stdout",
     "output_type": "stream",
     "text": [
      "---------------------------------------------------------------------------------------------------- \n",
      "Overview of variable:  The number of observations with a certain percentage of missing values \n",
      " ----------------------------------------------------------------------------------------------------\n",
      "Total categories: 7 \n",
      "\n"
     ]
    },
    {
     "data": {
      "image/png": "[encoded data removed]",
      "text/plain": [
       "<Figure size 432x288 with 1 Axes>"
      ]
     },
     "metadata": {
      "needs_background": "light"
     },
     "output_type": "display_data"
    }
   ],
   "source": [
    "# Distribution of percentage missing values\n",
    "SummaryCategoricalVar([round(x/len(obs_missing_info_df.columns)*100, 4) for x in list(obs_missing_info_df.isna().sum(axis=1))], \n",
    "                      'The number of observations with a certain percentage of missing values')"
   ]
  },
  {
   "cell_type": "markdown",
   "metadata": {},
   "source": [
    "Next, it will be explored whether some column categories are represented more by the observations with a lot of missing data. Latter results need to be compared with the representations of the categorical covariates in the whole dataset (as considered below)."
   ]
  },
  {
   "cell_type": "code",
   "execution_count": 33,
   "metadata": {
    "ExecuteTime": {
     "end_time": "2019-07-12T05:39:19.137749Z",
     "start_time": "2019-07-12T05:39:17.161256Z"
    },
    "scrolled": true
   },
   "outputs": [
    {
     "name": "stdout",
     "output_type": "stream",
     "text": [
      "---------------------------------------------------------------------------------------------------- \n",
      "Overview of variable:  league \n",
      " ----------------------------------------------------------------------------------------------------\n",
      "Total categories: 2 \n",
      "\n"
     ]
    },
    {
     "data": {
      "image/png": "[encoded data removed]",
      "text/plain": [
       "<Figure size 432x288 with 1 Axes>"
      ]
     },
     "metadata": {
      "needs_background": "light"
     },
     "output_type": "display_data"
    },
    {
     "name": "stdout",
     "output_type": "stream",
     "text": [
      "---------------------------------------------------------------------------------------------------- \n",
      "Overview of variable:  culture \n",
      " ----------------------------------------------------------------------------------------------------\n",
      "Total categories: 2 \n",
      "\n"
     ]
    },
    {
     "data": {
      "image/png": "[encoded data removed]",
      "text/plain": [
       "<Figure size 432x288 with 1 Axes>"
      ]
     },
     "metadata": {
      "needs_background": "light"
     },
     "output_type": "display_data"
    },
    {
     "name": "stdout",
     "output_type": "stream",
     "text": [
      "---------------------------------------------------------------------------------------------------- \n",
      "Overview of variable:  game \n",
      " ----------------------------------------------------------------------------------------------------\n",
      "Total categories: 5 \n",
      "\n"
     ]
    },
    {
     "data": {
      "image/png": "[encoded data removed]",
      "text/plain": [
       "<Figure size 432x288 with 1 Axes>"
      ]
     },
     "metadata": {
      "needs_background": "light"
     },
     "output_type": "display_data"
    },
    {
     "name": "stdout",
     "output_type": "stream",
     "text": [
      "---------------------------------------------------------------------------------------------------- \n",
      "Overview of variable:  side \n",
      " ----------------------------------------------------------------------------------------------------\n",
      "Total categories: 2 \n",
      "\n"
     ]
    },
    {
     "data": {
      "image/png": "[encoded data removed]",
      "text/plain": [
       "<Figure size 432x288 with 1 Axes>"
      ]
     },
     "metadata": {
      "needs_background": "light"
     },
     "output_type": "display_data"
    },
    {
     "name": "stdout",
     "output_type": "stream",
     "text": [
      "---------------------------------------------------------------------------------------------------- \n",
      "Overview of variable:  team \n",
      " ----------------------------------------------------------------------------------------------------\n",
      "Total categories: 22 \n",
      "\n",
      "The 10 with the highest percentage data available:\n",
      "\n",
      "invictus gaming : 8.5564 %\n",
      "edward gaming : 8.5158 %\n",
      "royal never give up : 8.4753 %\n",
      "team we : 8.0292 %\n",
      "omg : 7.4209 %\n",
      "snake esports : 7.0965 %\n",
      "lgd gaming : 6.7315 %\n",
      "jd gaming : 6.2855 %\n",
      "suning gaming : 5.7583 %\n",
      "vici gaming : 4.9878 %\n",
      "\n",
      "The 10 with the lowest percentage data available:\n",
      "\n",
      "bilibili gaming : 3.8929 %\n",
      "newbee : 3.7713 %\n",
      "funplus phoenix : 3.6902 %\n",
      "i may : 3.4874 %\n",
      "qg reapers : 1.7032 %\n",
      "game talents : 1.541 %\n",
      "dan gaming : 1.541 %\n",
      "team liquid : 0.0811 %\n",
      "echo fox : 0.0406 %\n",
      "counter logic gaming : 0.0406 %\n",
      "---------------------------------------------------------------------------------------------------- \n",
      "Overview of variable:  fbvictim \n",
      " ----------------------------------------------------------------------------------------------------\n",
      "Total categories: 1 \n",
      "\n"
     ]
    },
    {
     "data": {
      "image/png": "[encoded data removed]",
      "text/plain": [
       "<Figure size 432x288 with 1 Axes>"
      ]
     },
     "metadata": {
      "needs_background": "light"
     },
     "output_type": "display_data"
    },
    {
     "name": "stdout",
     "output_type": "stream",
     "text": [
      "---------------------------------------------------------------------------------------------------- \n",
      "Overview of variable:  ban1 \n",
      " ----------------------------------------------------------------------------------------------------\n",
      "Total categories: 96 \n",
      "\n",
      "The 10 with the highest percentage data available:\n",
      "\n",
      "Camille : 8.0292 %\n",
      "Aatrox : 6.9749 %\n",
      "Zoe : 3.8524 %\n",
      "Tahm Kench : 3.7713 %\n",
      "Kog'Maw : 3.7713 %\n",
      "Jayce : 3.2847 %\n",
      "Taliyah : 2.9603 %\n",
      "Rakan : 2.5547 %\n",
      "Ryze : 2.5142 %\n",
      "Elise : 2.1898 %\n",
      "\n",
      "The 10 with the lowest percentage data available:\n",
      "\n",
      "Ziggs : 0.0811 %\n",
      "Jhin : 0.0811 %\n",
      "Corki : 0.0811 %\n",
      "Xin Zhao : 0.0406 %\n",
      "Lissandra : 0.0406 %\n",
      "Pyke : 0.0406 %\n",
      "Zilean : 0.0406 %\n",
      "Katarina : 0.0406 %\n",
      "Nunu : 0.0406 %\n",
      "nan : 0.0406 %\n",
      "---------------------------------------------------------------------------------------------------- \n",
      "Overview of variable:  ban2 \n",
      " ----------------------------------------------------------------------------------------------------\n",
      "Total categories: 96 \n",
      "\n",
      "The 10 with the highest percentage data available:\n",
      "\n",
      "Camille : 7.867 %\n",
      "Taliyah : 4.8256 %\n",
      "Ryze : 3.4469 %\n",
      "Kog'Maw : 3.4063 %\n",
      "LeBlanc : 3.3252 %\n",
      "Tahm Kench : 3.2441 %\n",
      "Galio : 3.0819 %\n",
      "Rakan : 2.9197 %\n",
      "Zoe : 2.8386 %\n",
      "Swain : 2.717 %\n",
      "\n",
      "The 10 with the lowest percentage data available:\n",
      "\n",
      "Sivir : 0.0811 %\n",
      "Jax : 0.0811 %\n",
      "Xin Zhao : 0.0406 %\n",
      "Ekko : 0.0406 %\n",
      "Shyvana : 0.0406 %\n",
      "Zilean : 0.0406 %\n",
      "Nami : 0.0406 %\n",
      "Kayn : 0.0406 %\n",
      "nan : 0.0406 %\n",
      "Bard : 0.0406 %\n",
      "---------------------------------------------------------------------------------------------------- \n",
      "Overview of variable:  ban3 \n",
      " ----------------------------------------------------------------------------------------------------\n",
      "Total categories: 105 \n",
      "\n",
      "The 10 with the highest percentage data available:\n",
      "\n",
      "Camille : 5.8394 %\n",
      "Taliyah : 3.8929 %\n",
      "Tahm Kench : 3.0414 %\n",
      "LeBlanc : 3.0414 %\n",
      "Ryze : 2.8792 %\n",
      "Elise : 2.8792 %\n",
      "Rakan : 2.7981 %\n",
      "Zoe : 2.717 %\n",
      "Varus : 2.717 %\n",
      "Kog'Maw : 2.6764 %\n",
      "\n",
      "The 10 with the lowest percentage data available:\n",
      "\n",
      "Karthus : 0.0406 %\n",
      "Janna : 0.0406 %\n",
      "Zilean : 0.0406 %\n",
      "Zed : 0.0406 %\n",
      "Sivir : 0.0406 %\n",
      "Katarina : 0.0406 %\n",
      "Corki : 0.0406 %\n",
      "Jax : 0.0406 %\n",
      "Viktor : 0.0406 %\n",
      "Ahri : 0.0406 %\n",
      "---------------------------------------------------------------------------------------------------- \n",
      "Overview of variable:  ban4 \n",
      " ----------------------------------------------------------------------------------------------------\n",
      "Total categories: 115 \n",
      "\n",
      "The 10 with the highest percentage data available:\n",
      "\n",
      "LeBlanc : 4.5418 %\n",
      "Cassiopeia : 3.1225 %\n",
      "Shen : 2.717 %\n",
      "Syndra : 2.717 %\n",
      "Gangplank : 2.6358 %\n",
      "Gnar : 2.4736 %\n",
      "Ryze : 2.3925 %\n",
      "Alistar : 2.352 %\n",
      "Orianna : 2.352 %\n",
      "Taliyah : 2.1492 %\n",
      "\n",
      "The 10 with the lowest percentage data available:\n",
      "\n",
      "Lissandra : 0.0406 %\n",
      "Aurelion Sol : 0.0406 %\n",
      "Soraka : 0.0406 %\n",
      "Kai'sa : 0.0406 %\n",
      "Jinx : 0.0406 %\n",
      "Riven : 0.0406 %\n",
      "Shyvana : 0.0406 %\n",
      "Evelynn : 0.0406 %\n",
      "Brand : 0.0406 %\n",
      "nan : 0.0406 %\n",
      "---------------------------------------------------------------------------------------------------- \n",
      "Overview of variable:  ban5 \n",
      " ----------------------------------------------------------------------------------------------------\n",
      "Total categories: 113 \n",
      "\n",
      "The 10 with the highest percentage data available:\n",
      "\n",
      "Orianna : 3.2036 %\n",
      "Taliyah : 2.6764 %\n",
      "Vladimir : 2.5953 %\n",
      "Shen : 2.5953 %\n",
      "Cassiopeia : 2.5142 %\n",
      "Ryze : 2.3925 %\n",
      "Syndra : 2.3925 %\n",
      "Gangplank : 2.3114 %\n",
      "Gnar : 2.2709 %\n",
      "Tahm Kench : 2.2303 %\n",
      "\n",
      "The 10 with the lowest percentage data available:\n",
      "\n",
      "Aurelion Sol : 0.0811 %\n",
      "Quinn : 0.0406 %\n",
      "Karthus : 0.0406 %\n",
      "Mordekaiser : 0.0406 %\n",
      "Kayle : 0.0406 %\n",
      "Nunu : 0.0406 %\n",
      "Kai'sa : 0.0406 %\n",
      "Riven : 0.0406 %\n",
      "Vi : 0.0406 %\n",
      "Brand : 0.0406 %\n",
      "---------------------------------------------------------------------------------------------------- \n",
      "Overview of variable:  result \n",
      " ----------------------------------------------------------------------------------------------------\n",
      "Total categories: 2 \n",
      "\n"
     ]
    },
    {
     "data": {
      "image/png": "[encoded data removed]",
      "text/plain": [
       "<Figure size 432x288 with 1 Axes>"
      ]
     },
     "metadata": {
      "needs_background": "light"
     },
     "output_type": "display_data"
    },
    {
     "name": "stdout",
     "output_type": "stream",
     "text": [
      "---------------------------------------------------------------------------------------------------- \n",
      "Overview of variable:  fb \n",
      " ----------------------------------------------------------------------------------------------------\n",
      "Total categories: 1 \n",
      "\n"
     ]
    },
    {
     "data": {
      "image/png": "[encoded data removed]",
      "text/plain": [
       "<Figure size 432x288 with 1 Axes>"
      ]
     },
     "metadata": {
      "needs_background": "light"
     },
     "output_type": "display_data"
    },
    {
     "name": "stdout",
     "output_type": "stream",
     "text": [
      "---------------------------------------------------------------------------------------------------- \n",
      "Overview of variable:  fbassist \n",
      " ----------------------------------------------------------------------------------------------------\n",
      "Total categories: 2 \n",
      "\n"
     ]
    },
    {
     "data": {
      "image/png": "[encoded data removed]",
      "text/plain": [
       "<Figure size 432x288 with 1 Axes>"
      ]
     },
     "metadata": {
      "needs_background": "light"
     },
     "output_type": "display_data"
    },
    {
     "name": "stdout",
     "output_type": "stream",
     "text": [
      "---------------------------------------------------------------------------------------------------- \n",
      "Overview of variable:  fd \n",
      " ----------------------------------------------------------------------------------------------------\n",
      "Total categories: 1 \n",
      "\n"
     ]
    },
    {
     "data": {
      "image/png": "[encoded data removed]",
      "text/plain": [
       "<Figure size 432x288 with 1 Axes>"
      ]
     },
     "metadata": {
      "needs_background": "light"
     },
     "output_type": "display_data"
    },
    {
     "name": "stdout",
     "output_type": "stream",
     "text": [
      "---------------------------------------------------------------------------------------------------- \n",
      "Overview of variable:  herald \n",
      " ----------------------------------------------------------------------------------------------------\n",
      "Total categories: 1 \n",
      "\n"
     ]
    },
    {
     "data": {
      "image/png": "[encoded data removed]",
      "text/plain": [
       "<Figure size 432x288 with 1 Axes>"
      ]
     },
     "metadata": {
      "needs_background": "light"
     },
     "output_type": "display_data"
    },
    {
     "name": "stdout",
     "output_type": "stream",
     "text": [
      "---------------------------------------------------------------------------------------------------- \n",
      "Overview of variable:  ft \n",
      " ----------------------------------------------------------------------------------------------------\n",
      "Total categories: 1 \n",
      "\n"
     ]
    },
    {
     "data": {
      "image/png": "[encoded data removed]",
      "text/plain": [
       "<Figure size 432x288 with 1 Axes>"
      ]
     },
     "metadata": {
      "needs_background": "light"
     },
     "output_type": "display_data"
    },
    {
     "name": "stdout",
     "output_type": "stream",
     "text": [
      "---------------------------------------------------------------------------------------------------- \n",
      "Overview of variable:  firstmidouter \n",
      " ----------------------------------------------------------------------------------------------------\n",
      "Total categories: 1 \n",
      "\n"
     ]
    },
    {
     "data": {
      "image/png": "[encoded data removed]",
      "text/plain": [
       "<Figure size 432x288 with 1 Axes>"
      ]
     },
     "metadata": {
      "needs_background": "light"
     },
     "output_type": "display_data"
    },
    {
     "name": "stdout",
     "output_type": "stream",
     "text": [
      "---------------------------------------------------------------------------------------------------- \n",
      "Overview of variable:  firsttothreetowers \n",
      " ----------------------------------------------------------------------------------------------------\n",
      "Total categories: 1 \n",
      "\n"
     ]
    },
    {
     "data": {
      "image/png": "[encoded data removed]",
      "text/plain": [
       "<Figure size 432x288 with 1 Axes>"
      ]
     },
     "metadata": {
      "needs_background": "light"
     },
     "output_type": "display_data"
    },
    {
     "name": "stdout",
     "output_type": "stream",
     "text": [
      "---------------------------------------------------------------------------------------------------- \n",
      "Overview of variable:  fbaron \n",
      " ----------------------------------------------------------------------------------------------------\n",
      "Total categories: 1 \n",
      "\n"
     ]
    },
    {
     "data": {
      "image/png": "[encoded data removed]",
      "text/plain": [
       "<Figure size 432x288 with 1 Axes>"
      ]
     },
     "metadata": {
      "needs_background": "light"
     },
     "output_type": "display_data"
    },
    {
     "name": "stdout",
     "output_type": "stream",
     "text": [
      "---------------------------------------------------------------------------------------------------- \n",
      "Overview of variable:  Year \n",
      " ----------------------------------------------------------------------------------------------------\n",
      "Total categories: 2 \n",
      "\n"
     ]
    },
    {
     "data": {
      "image/png": "[encoded data removed]",
      "text/plain": [
       "<Figure size 432x288 with 1 Axes>"
      ]
     },
     "metadata": {
      "needs_background": "light"
     },
     "output_type": "display_data"
    },
    {
     "name": "stdout",
     "output_type": "stream",
     "text": [
      "---------------------------------------------------------------------------------------------------- \n",
      "Overview of variable:  gameid \n",
      " ----------------------------------------------------------------------------------------------------\n",
      "Total categories: 1233 \n",
      "\n",
      "The 10 with the highest percentage data available:\n",
      "\n",
      "2018-2rqR15Edward GamingJD Gaming : 0.0811 %\n",
      "2018-2rqR14JD GamingEdward Gaming : 0.0811 %\n",
      "2018-2rqR13Edward GamingJD Gaming : 0.0811 %\n",
      "2018-2rqR12Edward GamingJD Gaming : 0.0811 %\n",
      "2018-2rqR11JD GamingEdward Gaming : 0.0811 %\n",
      "2018-2rqR24Rogue WarriorsEdward Gaming : 0.0811 %\n",
      "2018-2rqR23Rogue WarriorsEdward Gaming : 0.0811 %\n",
      "2018-2rqR22Edward GamingRogue Warriors : 0.0811 %\n",
      "2018-2rqR21Rogue WarriorsEdward Gaming : 0.0811 %\n",
      "2018-2pF5Royal Never Give UpInvictus Gaming : 0.0811 %\n",
      "\n",
      "The 10 with the lowest percentage data available:\n",
      "\n",
      "2017-211Invictus GamingTeam WE : 0.0811 %\n",
      "2017-213I MayInvictus Gaming : 0.0811 %\n",
      "2017-212Invictus GamingI May : 0.0811 %\n",
      "2017-211I MayInvictus Gaming : 0.0811 %\n",
      "2017-212EDward GamingSnake Esports : 0.0811 %\n",
      "2017-211Snake EsportsEDward Gaming : 0.0811 %\n",
      "2017-212DAN GamingTeam WE : 0.0811 %\n",
      "2017-211Team WEDAN Gaming : 0.0811 %\n",
      "2017-212DAN GamingEDward Gaming : 0.0811 %\n",
      "2017-211DAN GamingEDward Gaming : 0.0811 %\n"
     ]
    }
   ],
   "source": [
    "# Loop through all categorical variables and visualize data\n",
    "for cat_variable in categorical_variables:\n",
    "    SummaryCategoricalVar(obs_missing_info_df[cat_variable], cat_variable)"
   ]
  },
  {
   "cell_type": "markdown",
   "metadata": {},
   "source": [
    "### 6.3 Missing value imputation\n",
    "To impute missing values the following techniques are applied:\n",
    "* Categorical covariates: random sampling from the discrete distribution representing the probabilities of a value being from a certain category for that covariate. Because of the large amount of data available, it might be interesting to do imputation by sampling randomly from the distribution of available values for a specific covariate, to obtain the least biased estimation of the missing value. It is nevertheless important to get a clear insight into the data with a lot of missing data as well, because these could be biased towards certain column values and hence should be treated with care.\n",
    "* Numerical covariates: Median imputation."
   ]
  },
  {
   "cell_type": "code",
   "execution_count": 34,
   "metadata": {
    "ExecuteTime": {
     "end_time": "2019-07-12T05:39:19.343404Z",
     "start_time": "2019-07-12T05:39:19.143882Z"
    }
   },
   "outputs": [],
   "source": [
    "# Probability based missing value imptation (categorical covariates) and median imputation (numerical covariates)\n",
    "for col in data_preparation.columns.values:\n",
    "    if data_preparation[col].isna().sum() > 0:\n",
    "        if col in categorical_variables:\n",
    "            data_preparation[col] = data_preparation[col].fillna(RandomSampleProbDist(data_preparation[col]))\n",
    "        elif col in numerical_variables:\n",
    "            data_preparation[col] = data_preparation[col].fillna(np.median(data_preparation[col].dropna()))"
   ]
  },
  {
   "cell_type": "code",
   "execution_count": 35,
   "metadata": {
    "ExecuteTime": {
     "end_time": "2019-07-12T05:39:19.369017Z",
     "start_time": "2019-07-12T05:39:19.345660Z"
    }
   },
   "outputs": [
    {
     "data": {
      "text/plain": [
       "False"
      ]
     },
     "execution_count": 35,
     "metadata": {},
     "output_type": "execute_result"
    }
   ],
   "source": [
    "# Check whether there are still non-imputed missing values in the data\n",
    "np.any(data_preparation.isnull())"
   ]
  },
  {
   "cell_type": "code",
   "execution_count": 36,
   "metadata": {
    "ExecuteTime": {
     "end_time": "2019-07-12T05:39:19.415759Z",
     "start_time": "2019-07-12T05:39:19.371081Z"
    }
   },
   "outputs": [
    {
     "data": {
      "text/plain": [
       "[]"
      ]
     },
     "execution_count": 36,
     "metadata": {},
     "output_type": "execute_result"
    }
   ],
   "source": [
    "data_preparation.columns[data_preparation.isna().any()].tolist()"
   ]
  },
  {
   "cell_type": "code",
   "execution_count": 37,
   "metadata": {
    "ExecuteTime": {
     "end_time": "2019-07-12T05:39:19.513449Z",
     "start_time": "2019-07-12T05:39:19.417660Z"
    }
   },
   "outputs": [],
   "source": [
    "# Write data away in pickle\n",
    "with open('/home/je32910/MasterThesis_ComputationalStatistics/pickles/' + filename + '.pickle', 'wb') as f:\n",
    "    pickle.dump(data_preparation, f)"
   ]
  }
 ],
 "metadata": {
  "kernelspec": {
   "display_name": "Python [conda env:python36]",
   "language": "python",
   "name": "conda-env-python36-py"
  },
  "language_info": {
   "codemirror_mode": {
    "name": "ipython",
    "version": 3
   },
   "file_extension": ".py",
   "mimetype": "text/x-python",
   "name": "python",
   "nbconvert_exporter": "python",
   "pygments_lexer": "ipython3",
   "version": "3.6.8"
  }
 },
 "nbformat": 4,
 "nbformat_minor": 2
}
