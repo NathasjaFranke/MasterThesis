{
 "cells": [
  {
   "cell_type": "markdown",
   "metadata": {},
   "source": [
    "# Masterthesis: Preprocessing Team Data"
   ]
  },
  {
   "cell_type": "code",
   "execution_count": 1,
   "metadata": {
    "ExecuteTime": {
     "end_time": "2019-08-24T15:44:53.590106Z",
     "start_time": "2019-08-24T15:44:53.586328Z"
    }
   },
   "outputs": [],
   "source": [
    "# Specify whether the team ratios need to be calculated or not:\n",
    "teamratio = False"
   ]
  },
  {
   "cell_type": "code",
   "execution_count": 2,
   "metadata": {
    "ExecuteTime": {
     "end_time": "2019-08-24T15:44:53.637623Z",
     "start_time": "2019-08-24T15:44:53.595430Z"
    }
   },
   "outputs": [],
   "source": [
    "# Specify data range in scope\n",
    "#scope_split_list = ['2017-2', '2017-2po', '2017-2rq', '2017-2pr', '2017-1', '2017-1po',\n",
    "#                    '2017-1pr']\n",
    "#scope_split_list = ['2017-2', '2017-2po', '2017-2rq', '2017-2pr', '2017-1', '2017-1po',\n",
    "#                    '2017-1pr', '2017-W', '2018-1', '2018-1P', '2018-2rq', '2018-2', '2018-2p']\n",
    "scope_split_list = ['2017-2', '2017-2po', '2017-2rq', '2017-2pr', '2017-1', '2017-1po',\n",
    "                    '2017-1pr', '2017-W', '2018-1', '2018-1P', '2018-2rq', '2018-2', \n",
    "                    '2018-2p', '2018-W', '2019-1', '2019-1P', '2019-2']"
   ]
  },
  {
   "cell_type": "code",
   "execution_count": 3,
   "metadata": {
    "ExecuteTime": {
     "end_time": "2019-08-24T15:44:53.665396Z",
     "start_time": "2019-08-24T15:44:53.640532Z"
    }
   },
   "outputs": [],
   "source": [
    "# Name of the preprocessed datafile written away\n",
    "#filename = 'teamdata2017_preprocessed'\n",
    "#filename = 'teamdata2018_preprocessed'\n",
    "filename = 'teamdata2019_preprocessed'"
   ]
  },
  {
   "cell_type": "markdown",
   "metadata": {},
   "source": [
    "## 0. Load libraries and define functions"
   ]
  },
  {
   "cell_type": "code",
   "execution_count": 4,
   "metadata": {
    "ExecuteTime": {
     "end_time": "2019-08-24T15:44:54.603281Z",
     "start_time": "2019-08-24T15:44:53.667984Z"
    }
   },
   "outputs": [],
   "source": [
    "# Functions\n",
    "import numpy as np\n",
    "import os\n",
    "import pickle\n",
    "import pandas as pd\n",
    "from pandas.api.types import is_string_dtype\n",
    "from pandas.api.types import is_numeric_dtype\n",
    "from datetime import datetime\n",
    "from collections import Counter\n",
    "from numpy.random import choice\n",
    "from scipy import stats\n",
    "import operator\n",
    "import itertools\n",
    "import statistics\n",
    "\n",
    "import seaborn as sns\n",
    "import matplotlib.pyplot as plt\n",
    "from matplotlib import cm"
   ]
  },
  {
   "cell_type": "code",
   "execution_count": 5,
   "metadata": {
    "ExecuteTime": {
     "end_time": "2019-08-24T15:44:54.611910Z",
     "start_time": "2019-08-24T15:44:54.606025Z"
    }
   },
   "outputs": [
    {
     "data": {
      "text/plain": [
       "<matplotlib.colors.ListedColormap at 0x7fc76c6404a8>"
      ]
     },
     "execution_count": 5,
     "metadata": {},
     "output_type": "execute_result"
    }
   ],
   "source": [
    "cm.get_cmap(name='tab20b')"
   ]
  },
  {
   "cell_type": "code",
   "execution_count": 6,
   "metadata": {
    "ExecuteTime": {
     "end_time": "2019-08-24T15:44:54.643728Z",
     "start_time": "2019-08-24T15:44:54.613890Z"
    }
   },
   "outputs": [],
   "source": [
    "### Function used to return a summary for categorical variables\n",
    "def SummaryCategoricalVar(list_of_values, title, threshold = 15, top = 10):\n",
    "    \"\"\"\n",
    "    param: list_of_values (list): A list of categorical values from which we like to obtain the distribution\n",
    "    param: title (string): The title for the visualization\n",
    "    param: threshold (int): The maximal number of categories that should be visualized\n",
    "    param: top (int): The top k values that should be returned in the written summary when the number of categories is above the threshold\n",
    "    \"\"\"\n",
    "    # Count the number of occurrances in the list\n",
    "    cnt = Counter(list_of_values)\n",
    "    sorted_cnt = sorted(cnt.items(), key=operator.itemgetter(1))[::-1]\n",
    "    \n",
    "    # Show the percentage dictionary if to many categories to represent\n",
    "    print(\"-\"* 100, \"\\nOverview of variable: \", title, \"\\n\", \"-\"*100)\n",
    "    print(\"Total categories:\", len(cnt), \"\\n\")\n",
    "    if len(cnt) > threshold:\n",
    "        if len(cnt) < top*2:\n",
    "            for key, value in sorted_cnt:\n",
    "                print(key, ':', round(value/len(list_of_values)*100, 4), \"%\")\n",
    "        else:\n",
    "            print(\"The 10 with the highest percentage data available:\\n\")\n",
    "            for key, value in sorted_cnt[:top]:\n",
    "                print(key, ':', round(value/len(list_of_values)*100, 4), \"%\")\n",
    "            print(\"\\nThe 10 with the lowest percentage data available:\\n\")\n",
    "            for key, value in sorted_cnt[len(cnt) - top:]:\n",
    "                print(key, ':', round(value/len(list_of_values)*100, 4), \"%\")\n",
    "                \n",
    "    # Visualization of labelled data distribution\n",
    "    else:\n",
    "        plt.barh(range(1, len(sorted_cnt)+1), \n",
    "                 list(map(lambda x: (x/len(list_of_values)*100), [score for label, score in sorted_cnt])), \n",
    "                 tick_label = list([label for label, score in sorted_cnt]),\n",
    "                 color = 'cornflowerblue', \n",
    "                 edgecolor = 'steelblue')\n",
    "        plt.ylabel('Label')\n",
    "        plt.xlabel('Percentage observations in dataset')\n",
    "        plt.title(title)\n",
    "        plt.show()    "
   ]
  },
  {
   "cell_type": "code",
   "execution_count": 7,
   "metadata": {
    "ExecuteTime": {
     "end_time": "2019-08-24T15:44:54.673116Z",
     "start_time": "2019-08-24T15:44:54.645762Z"
    }
   },
   "outputs": [],
   "source": [
    "### Function used to return a summary for numeric variables\n",
    "def SummaryNumericVar(list_of_values, title):\n",
    "    \"\"\"\n",
    "    param: list_of_values (list): A list of categorical values from which we like to obtain the distribution\n",
    "    param: title (string): The title for the visualization\n",
    "    \"\"\"\n",
    "    \n",
    "    # Title varibale\n",
    "    print(\"=\"* 100, \"\\nOverview of variable: \", title, \"\\n\", \"=\"*100)\n",
    "\n",
    "    # An \"interface\" to matplotlib.axes.Axes.hist() method\n",
    "    n, bins, patches = plt.hist(x = list_of_values, bins='auto', color= '#0504aa', alpha=0.7, rwidth=0.85)\n",
    "    plt.grid(axis='y', alpha=0.75)\n",
    "    plt.xlabel('Value')\n",
    "    plt.ylabel('Frequency')\n",
    "    plt.title(title)\n",
    "    plt.ylim(ymax=np.ceil(n.max() / 10) * 10 if n.max() % 10 else n.max() + 10)\n",
    "    plt.show()\n",
    "\n",
    "    # Print summary statistics\n",
    "    print(\"-\"*20, \"\\nSummary statistics:\\n\", \"-\"*20)\n",
    "    print(\"Minimum value:\", min(list_of_values))\n",
    "    print(\"Mean:\", round(statistics.mean(list_of_values), 4))\n",
    "    print(\"Standard deviation:\", round(statistics.stdev(list_of_values), 4))\n",
    "    print(\"Median:\", round(statistics.median(list_of_values), 4))\n",
    "    print(\"Maximal value:\", max(list_of_values))\n",
    "\n",
    "    # Plot boxplot\n",
    "    plt.boxplot(list_of_values, 0, 'grey', 0)\n",
    "    plt.xlabel('Value')\n",
    "    plt.title(title)\n",
    "    plt.show()\n",
    "\n",
    "    # Present outliers\n",
    "    print(\"-\"*20, \"\\nOutlier detection:\\n\", \"-\"*20)\n",
    "    print(\"List of outliers:\", {round(value,2) for z_score, value in zip(np.abs(stats.zscore(list_of_values)), list_of_values) if z_score > 3})\n",
    "\n",
    "    # Check for normally distributed\n",
    "    stats.probplot(list_of_values, dist=\"norm\", plot= plt)\n",
    "    plt.show()\n",
    "\n",
    "    # Statistics to check normality\n",
    "    print(\"-\"*20, \"\\nCheck for normal distribution:\\n\", \"-\"*20)\n",
    "    print(\"Skewedness:\", round(stats.skew(list_of_values), 4))\n",
    "    print(\"Kurtosis:\", round(stats.kurtosis(list_of_values), 4))"
   ]
  },
  {
   "cell_type": "code",
   "execution_count": 8,
   "metadata": {
    "ExecuteTime": {
     "end_time": "2019-08-24T15:44:54.701413Z",
     "start_time": "2019-08-24T15:44:54.675463Z"
    }
   },
   "outputs": [],
   "source": [
    "### Function used to draw a random sample from the discrete distribution of probabilities representing the input list\n",
    "def RandomSampleProbDist(list_of_values, draws = 1):\n",
    "    \"\"\"\n",
    "    :param: list_of_values (list): A list of categorical values representing the observations in the dataset\n",
    "    :param: draws (int): The number of samples desired to be returned\n",
    "    :return: (array) An array capturing the sampled categories\n",
    "    \"\"\"\n",
    "    # Only the non-missing values are considered in the sampling procedure\n",
    "    non_missing_list = list_of_values.dropna()\n",
    "    # Sample from the discrete probability distribution representing the categorical variable\n",
    "    return list(choice(list(Counter(non_missing_list)), \n",
    "                  draws, \n",
    "                  p = list(map(lambda x: x/len(non_missing_list), \n",
    "                               Counter(non_missing_list).values()))))[0]"
   ]
  },
  {
   "cell_type": "markdown",
   "metadata": {},
   "source": [
    "## 1. Load data"
   ]
  },
  {
   "cell_type": "markdown",
   "metadata": {},
   "source": [
    "### 1.1 Extract raw data"
   ]
  },
  {
   "cell_type": "markdown",
   "metadata": {},
   "source": [
    "#### Read in raw data xlsx format"
   ]
  },
  {
   "cell_type": "code",
   "execution_count": 9,
   "metadata": {
    "ExecuteTime": {
     "end_time": "2019-08-24T15:47:21.024625Z",
     "start_time": "2019-08-24T15:44:54.704436Z"
    },
    "scrolled": true
   },
   "outputs": [
    {
     "name": "stdout",
     "output_type": "stream",
     "text": [
      "True\n",
      "True\n",
      "True\n",
      "True\n",
      "True\n"
     ]
    }
   ],
   "source": [
    "# Load the data and create panda's dataframe\n",
    "pd_df_2016 = pd.ExcelFile('Data/2016-complete-match-data-OraclesElixir-2017-09-18.xlsx')\n",
    "pd_df_2017 = pd.ExcelFile('Data/2017matchdataOraclesElixir.xlsx')\n",
    "pd_df_2018_spring = pd.ExcelFile('Data/2018-spring-match-data-OraclesElixir-2018-05-20.xlsx')\n",
    "pd_df_2018_summer = pd.ExcelFile('Data/2018 summer match data OraclesElixir 2018-09-27.xlsx')\n",
    "pd_df_2018_worlds = pd.ExcelFile('Data/2018-worlds-match-data-OraclesElixir-2018-11-03.xlsx')\n",
    "pd_df_2019_spring = pd.ExcelFile('Data/2019-spring-match-data-OraclesElixir-2019-05-21.xlsx')\n",
    "pd_df_2019_summer = pd.ExcelFile('Data/2019-summer-match-data-OraclesElixir-2019-08-19.xlsx')\n",
    "\n",
    "# Put the data in a dataframe\n",
    "df_2016 = pd_df_2016.parse(0)\n",
    "df_2017 = pd_df_2017.parse(0)\n",
    "df_2018_spring = pd_df_2018_spring.parse(0)\n",
    "df_2018_summer = pd_df_2018_summer.parse(0)\n",
    "df_2018_worlds = pd_df_2018_worlds.parse(0)\n",
    "df_2019_spring = pd_df_2019_spring.parse(0)\n",
    "df_2019_summer = pd_df_2019_summer.parse(0)\n",
    "\n",
    "# Check whether most recent datasets represent the same features\n",
    "print(all(df_2017.columns == df_2018_spring.columns))\n",
    "print(all(df_2017.columns == df_2018_summer.columns))\n",
    "print(all(df_2017.columns == df_2018_worlds.columns))\n",
    "print(all(df_2018_summer.columns == df_2019_summer.columns))\n",
    "print(all(df_2017.columns == df_2019_summer.columns))"
   ]
  },
  {
   "cell_type": "markdown",
   "metadata": {},
   "source": [
    "#### Concatenate dataframes"
   ]
  },
  {
   "cell_type": "code",
   "execution_count": 10,
   "metadata": {
    "ExecuteTime": {
     "end_time": "2019-08-24T15:47:21.045401Z",
     "start_time": "2019-08-24T15:47:21.027718Z"
    }
   },
   "outputs": [],
   "source": [
    "# Add extra column indicating the year of the data\n",
    "df_2017['Year'] = ['2017' for i in range(len(df_2017))]\n",
    "df_2018_spring['Year'] = ['2018' for i in range(len(df_2018_spring))]\n",
    "df_2018_summer['Year'] = ['2018' for i in range(len(df_2018_summer))]\n",
    "df_2018_worlds['Year'] = ['2018' for i in range(len(df_2018_worlds))]\n",
    "df_2019_spring['Year'] = ['2019' for i in range(len(df_2019_spring))]\n",
    "df_2019_summer['Year'] = ['2019' for i in range(len(df_2019_summer))]"
   ]
  },
  {
   "cell_type": "code",
   "execution_count": 11,
   "metadata": {
    "ExecuteTime": {
     "end_time": "2019-08-24T15:47:21.680027Z",
     "start_time": "2019-08-24T15:47:21.047571Z"
    }
   },
   "outputs": [],
   "source": [
    "# Initialize data you want to analyse\n",
    "data_exploration = pd.concat([df_2017, df_2018_spring, df_2018_summer, df_2018_worlds, df_2019_spring, df_2019_summer])"
   ]
  },
  {
   "cell_type": "markdown",
   "metadata": {},
   "source": [
    "#### Retain only split data in scope"
   ]
  },
  {
   "cell_type": "code",
   "execution_count": 12,
   "metadata": {
    "ExecuteTime": {
     "end_time": "2019-08-24T15:47:22.155702Z",
     "start_time": "2019-08-24T15:47:21.683120Z"
    }
   },
   "outputs": [
    {
     "data": {
      "text/plain": [
       "{'2017', '2018', '2019'}"
      ]
     },
     "execution_count": 12,
     "metadata": {},
     "output_type": "execute_result"
    }
   ],
   "source": [
    "# Retain data in scope \n",
    "data_exploration = data_exploration[data_exploration.split.isin(scope_split_list)]\n",
    "set(data_exploration['Year'])"
   ]
  },
  {
   "cell_type": "markdown",
   "metadata": {},
   "source": [
    "### 1.2 Only retain team data from 1-1 matchups\n",
    "Only team data is retained from matchups (based on the unique gameid identifier) in which two teams played against each other. "
   ]
  },
  {
   "cell_type": "code",
   "execution_count": 13,
   "metadata": {
    "ExecuteTime": {
     "end_time": "2019-08-24T15:47:22.210107Z",
     "start_time": "2019-08-24T15:47:22.158409Z"
    }
   },
   "outputs": [],
   "source": [
    "# Retain team level parameter information\n",
    "data_exploration = data_exploration[data_exploration.position == 'Team']"
   ]
  },
  {
   "cell_type": "code",
   "execution_count": 14,
   "metadata": {
    "ExecuteTime": {
     "end_time": "2019-08-24T15:47:39.641378Z",
     "start_time": "2019-08-24T15:47:22.212562Z"
    }
   },
   "outputs": [],
   "source": [
    "# Create dictionary capturing the team and its opponent during a matchup\n",
    "matchup_dict = {}\n",
    "for gameID in list(set(data_exploration.gameid)):\n",
    "    matchup_df = data_exploration[data_exploration.gameid == gameID]\n",
    "    matchup_dict[gameID] = set(matchup_df.team)"
   ]
  },
  {
   "cell_type": "code",
   "execution_count": 15,
   "metadata": {
    "ExecuteTime": {
     "end_time": "2019-08-24T15:47:39.653722Z",
     "start_time": "2019-08-24T15:47:39.643779Z"
    },
    "scrolled": true
   },
   "outputs": [
    {
     "name": "stdout",
     "output_type": "stream",
     "text": [
      "The number of teams corresponding to the same game-id in the dataset:\n",
      "0 : 1\n",
      "2 : 7757\n",
      "4 : 47\n",
      "3 : 2\n",
      "\n",
      "We are only interested in games involving two teams and hence removed the others from further analysis:\n",
      "Latter allowed us to retain 99.3595 % of the initial matchup data\n",
      "Information from 7757 are retained in the final dataset\n"
     ]
    }
   ],
   "source": [
    "# Intermediate summary\n",
    "print(\"The number of teams corresponding to the same game-id in the dataset:\")\n",
    "matchup_dict_counter = Counter([len(x) for x in matchup_dict.values()])\n",
    "for ID, teams in matchup_dict_counter.items():\n",
    "    print(ID, \":\", teams)\n",
    "print(\"\\nWe are only interested in games involving two teams and hence removed the others from further analysis:\")\n",
    "print(\"Latter allowed us to retain\", round(matchup_dict_counter[2]/sum(matchup_dict_counter.values())*100, 4) ,\"% of the initial matchup data\")\n",
    "print(\"Information from\", matchup_dict_counter[2], \"are retained in the final dataset\")"
   ]
  },
  {
   "cell_type": "code",
   "execution_count": 16,
   "metadata": {
    "ExecuteTime": {
     "end_time": "2019-08-24T15:47:39.719876Z",
     "start_time": "2019-08-24T15:47:39.656147Z"
    }
   },
   "outputs": [],
   "source": [
    "# Remove biased match-up data\n",
    "unbiased_gameids = [gameID for gameID, teams in matchup_dict.items() if len(teams) == 2]\n",
    "data_exploration = data_exploration[data_exploration['gameid'].isin(unbiased_gameids)]"
   ]
  },
  {
   "cell_type": "markdown",
   "metadata": {},
   "source": [
    "### 1.3 Adjust team parameter in dataset\n",
    "The parameter describing the team was lowercased and the bias in spelling mistakes made and the use of different names to indicate the same team and was removed by manually exploring the data and creating a matching dictionary. All the teams were retained in the final dataset (also the ones for which no strength parameters will be calculated) to allow us to build a model on as much data as possible."
   ]
  },
  {
   "cell_type": "code",
   "execution_count": 17,
   "metadata": {
    "ExecuteTime": {
     "end_time": "2019-08-24T15:47:39.744888Z",
     "start_time": "2019-08-24T15:47:39.722120Z"
    }
   },
   "outputs": [],
   "source": [
    "# Team matching dictionary\n",
    "team_dict = {'100 thieves': ['100 thieves', '100 thieves academy'],\n",
    "             'ahq': ['ahq e-sports club', 'ahq fighter'],\n",
    "             'cloud9': ['cloud9', 'cloud9 academy'],\n",
    "             'clutch gaming': ['clutch gaming', 'clutch gaming academy'],\n",
    "             'cbn': ['cbn', 'cnb e-sports club'],\n",
    "             'counter logic gaming': ['counter logic gaming', 'clg academy'],\n",
    "             'echo fox': ['echo fox', 'echo fox academy'],\n",
    "             'flyquest': ['flyquest', 'flyquest academy'],\n",
    "             'flamengo': ['flamengo', 'flamengo esports'],\n",
    "             'fnatic': ['fnatic', 'fnatic academy'],\n",
    "             'giants': ['giants', 'giants gaming'],\n",
    "             'golden guardians': ['golden guardians', 'golden guardians academy'],\n",
    "             'intz': ['intz', 'intz e-sports', 'intz e-sports club'],\n",
    "             'kabum': ['kabum', 'kabum e-sports', 'kabum esports'],\n",
    "             'kongdoo monster': ['kongdoo mongster', 'kongdoo monster'],\n",
    "             'misfits': ['misfits', 'misfits academy'],\n",
    "             'optic': ['optic academy', 'optic gaming'],\n",
    "             'redemption': ['redemption', 'redemption esports'],\n",
    "             'rogue': ['rogue', 'rogue warriors'],\n",
    "             'suning': ['suning', 'suning gaming'],\n",
    "             'team liquid': ['team liquid', 'team liquid academy'],\n",
    "             'team one': ['team one', 'team one e-sports', 'team one esports'],\n",
    "             'top esports': ['top esports', 'topsports gaming']}\n",
    "\n",
    "team_match_dict = {v:k for k, v_list in team_dict.items() for v in v_list}"
   ]
  },
  {
   "cell_type": "code",
   "execution_count": 18,
   "metadata": {
    "ExecuteTime": {
     "end_time": "2019-08-24T15:47:39.799086Z",
     "start_time": "2019-08-24T15:47:39.747288Z"
    }
   },
   "outputs": [],
   "source": [
    "# Adjust the team parameter in the data\n",
    "list_of_teams = [x.lower() for x in data_exploration.team]\n",
    "data_exploration = data_exploration.drop(['team'], axis= 1)\n",
    "unbiased_teamlist = [team_match_dict[team] if team in team_match_dict else team for team in list_of_teams]\n",
    "data_exploration[\"team\"] = unbiased_teamlist"
   ]
  },
  {
   "cell_type": "markdown",
   "metadata": {},
   "source": [
    "## 2 Create extra features"
   ]
  },
  {
   "cell_type": "markdown",
   "metadata": {},
   "source": [
    "### 2.1 Culture"
   ]
  },
  {
   "cell_type": "code",
   "execution_count": 19,
   "metadata": {
    "ExecuteTime": {
     "end_time": "2019-08-24T15:47:39.829813Z",
     "start_time": "2019-08-24T15:47:39.801690Z"
    }
   },
   "outputs": [
    {
     "name": "stdout",
     "output_type": "stream",
     "text": [
      "Not all leagues could be represented by the dictionary used, the ones for which no match was found:  {'RRAsia', 'LCS', 'LEC', 'RRNAEU'}\n"
     ]
    }
   ],
   "source": [
    "# Create dictionary matching the league with its corresponding culture\n",
    "culture_dict = {'CBLoL': 'Brazil', 'EULCS': 'Europe', 'LCK': 'Korea',\n",
    "                'LMS': 'Taiwan, Hong Kong & Macau', 'LPL': 'China',\n",
    "                'NALCS': 'North America', 'TCL': 'Turkey',\n",
    "                'LCL': 'Commonwealth of Independent States', 'LJL': 'Japan',\n",
    "                'LLN': 'Latin America - North', 'OPL': 'Oceania', \n",
    "                'GPL': 'Southeast Asia', 'VCS': 'Vietnam',\n",
    "                'WC': 'International', 'MSI': 'International',\n",
    "                'EUPR': 'Europe', 'NAAc': 'North America',\n",
    "                'EUCS': 'Europe', 'NAPR': 'North America',\n",
    "                'NACS': 'North America'}\n",
    "\n",
    "data_exploration['culture'] = [culture_dict[l] if l in culture_dict else np.nan for l in data_exploration['league']]\n",
    "\n",
    "# Intermediate summary\n",
    "if not set(data_exploration['league']).issubset(set(culture_dict.keys())):\n",
    "    print(\"Not all leagues could be represented by the dictionary used, the ones for which no match was found: \",\n",
    "          set(data_exploration['league']) - set(culture_dict.keys()))"
   ]
  },
  {
   "cell_type": "markdown",
   "metadata": {},
   "source": [
    "### 2.2 Recency of game played"
   ]
  },
  {
   "cell_type": "code",
   "execution_count": 20,
   "metadata": {
    "ExecuteTime": {
     "end_time": "2019-08-24T15:47:40.046801Z",
     "start_time": "2019-08-24T15:47:39.832183Z"
    },
    "scrolled": true
   },
   "outputs": [],
   "source": [
    "# Time indicator (days since game was last played)\n",
    "dates = [datetime.utcfromtimestamp((x- 25569) * 86400.0) if isinstance(x, float) else datetime.utcfromtimestamp(0) for x in data_exploration[\"date\"]]\n",
    "\n",
    "# Calculate the date difference with today\n",
    "daydiff = [(datetime.now() - x).days if not x == datetime.utcfromtimestamp(0) else np.NaN for x in dates]\n",
    "\n",
    "\n",
    "# At column with date difference indicator to the dataframe and drop unicode indications \n",
    "data_exploration[\"datediff\"] = daydiff\n",
    "data_exploration = data_exploration.drop(['date'], axis= 1)"
   ]
  },
  {
   "cell_type": "markdown",
   "metadata": {},
   "source": [
    "### 2.3 Match importance\n",
    "In the data the following abbreviations are used to define the split: The year the game was played combined with a specific suffix (1 spring, 2 summer, po playoffs, r regionals, w worlds). Based on expert knowledge a matchimportance ranking was done."
   ]
  },
  {
   "cell_type": "code",
   "execution_count": 21,
   "metadata": {
    "ExecuteTime": {
     "end_time": "2019-08-24T15:47:40.101859Z",
     "start_time": "2019-08-24T15:47:40.050260Z"
    }
   },
   "outputs": [],
   "source": [
    "# Initialization of match importance\n",
    "match_imp_dict = {'1':1, '2':2, 'W':4, 'po':1.5, '2017':1, '2018':2, '2019': 3}\n",
    "\n",
    "# Extract rank information needed to process match importance\n",
    "matchimp_list = [s.split('-') for s in set(data_exploration['split']) if s != 'nan']\n",
    "\n",
    "# Create dictionary for mapping\n",
    "match_imp_mapping_dict = dict()\n",
    "for year, split in matchimp_list:\n",
    "    playoff = match_imp_dict['po'] if any(s in split for s in ['po', 'rq', 'pr']) else 1\n",
    "    match_imp_mapping_dict[year + '-' + split] = match_imp_dict[year] * match_imp_dict[split[0]] *playoff    \n",
    "\n",
    "# Map the values of the dataframe for the different patch numbers\n",
    "data_exploration['split'] = [match_imp_mapping_dict[s] if s in match_imp_mapping_dict else np.nan for s in data_exploration['split']]"
   ]
  },
  {
   "cell_type": "markdown",
   "metadata": {},
   "source": [
    "### 2.4 Patch number\n",
    "The patch number will be ranked in an ordinal fashion, giving higher values to more recent patches. There was no magnitude based ranking used because of its irrelevance for this specific situation."
   ]
  },
  {
   "cell_type": "code",
   "execution_count": 22,
   "metadata": {
    "ExecuteTime": {
     "end_time": "2019-08-24T15:47:40.139912Z",
     "start_time": "2019-08-24T15:47:40.105043Z"
    }
   },
   "outputs": [],
   "source": [
    "# Extract rank information needed to process patch number\n",
    "patchno_split_list = [str(patchno).split('.') for patchno in set(data_exploration['patchno']) if any(char.isdigit() for char in str(patchno))]\n",
    "patchno_split_list = [[int(p), int(n)] if len(n) == 2 else [int(p), int(n + '0')] for p, n in patchno_split_list]\n",
    "patch_sorted, no_sorted = sorted(list(set([p for p, n in patchno_split_list]))), sorted(list(set([n for p, n in patchno_split_list])))\n",
    "\n",
    "# Create dictionary for mapping\n",
    "patchno_mapping_dict, counter = dict(), 0\n",
    "for patch in patch_sorted:\n",
    "    for no in no_sorted:\n",
    "        # Customize patch number\n",
    "        if len(str(no)) == 1:\n",
    "            custom_no = '0' + str(no)\n",
    "        elif str(no)[-1] == '0':\n",
    "            custom_no = str(no)[:-1]\n",
    "        else: \n",
    "            custom_no = str(no)\n",
    "        # Fill matching dictionary\n",
    "        patchno_mapping_dict[str(patch) + '.' + custom_no] = counter\n",
    "        counter += 1\n",
    "\n",
    "# Map the values of the dataframe for the different patch numbers\n",
    "data_exploration['patchno'] = [patchno_mapping_dict[str(patchno)] if str(patchno) in patchno_mapping_dict else np.nan for patchno in data_exploration['patchno']]"
   ]
  },
  {
   "cell_type": "markdown",
   "metadata": {},
   "source": [
    "## 3. Drop irrelevant features\n",
    "Information provided by the url kolom and the opp-features captured by the dataset can assumed to be irrelevant, because latter show high collinearity with other features present in the dataset. Hence, it was decided upon removing these features to avoid them from biasing our results any further."
   ]
  },
  {
   "cell_type": "code",
   "execution_count": 23,
   "metadata": {
    "ExecuteTime": {
     "end_time": "2019-08-24T15:47:40.184736Z",
     "start_time": "2019-08-24T15:47:40.142111Z"
    }
   },
   "outputs": [],
   "source": [
    "# Drop irrelevant feature url and opponent scores\n",
    "data_exploration = data_exploration.drop(labels=['url', 'oppbaronkills', 'oppgoldat10', 'oppgoldat15', \n",
    "                                                 'oppxpat10', 'oppcsat10', 'oppcsat15', 'teamdeaths',\n",
    "                                                 'oppdragkills', 'oppelementals', 'oppelders', 'playerid',\n",
    "                                                 'okpm', 'opptowerkills', 'position', 'player', 'week', \n",
    "                                                 'champion', 'doubles', 'triples', 'quadras', 'pentas'], axis=1)"
   ]
  },
  {
   "cell_type": "markdown",
   "metadata": {},
   "source": [
    "### 4. Assign correct feature type"
   ]
  },
  {
   "cell_type": "code",
   "execution_count": 24,
   "metadata": {
    "ExecuteTime": {
     "end_time": "2019-08-24T15:47:40.500093Z",
     "start_time": "2019-08-24T15:47:40.192567Z"
    }
   },
   "outputs": [],
   "source": [
    "# Extract variables to be analysed\n",
    "categorical_variables = ['league', 'culture', 'game', 'side', 'team', 'fbvictim',\n",
    "                         'ban1', 'ban2', 'ban3', 'ban4', 'ban5', 'result', 'fb', 'fbassist',\n",
    "                         'fd', 'herald', 'ft', 'firstmidouter', 'firsttothreetowers', 'fbaron',\n",
    "                         'Year', 'gameid']\n",
    "numerical_variables = ['gamelength', 'k', 'd', 'a', 'teamkills', 'fbtime', 'kpm', 'ckpm', 'fdtime',\n",
    "                       'teamdragkills', 'elementals', 'firedrakes', 'waterdrakes', 'earthdrakes',\n",
    "                       'airdrakes', 'elders', 'heraldtime', 'fttime', 'teamtowerkills', 'split', 'patchno',\n",
    "                       'fbarontime', 'teambaronkills', 'dmgtochamps', 'dmgtochampsperminute', 'dmgshare',\n",
    "                       'earnedgoldshare', 'wards', 'wpm', 'wardshare', 'wardkills', 'wcpm', 'visionwards',\n",
    "                       'visionwardbuys', 'visiblewardclearrate', 'invisiblewardclearrate', 'totalgold',\n",
    "                       'earnedgpm', 'goldspent', 'gspd', 'minionkills', 'monsterkills', 'monsterkillsownjungle',\n",
    "                       'monsterkillsenemyjungle', 'cspm', 'goldat10', 'gdat10', 'goldat15', 'gdat15', 'xpat10',\n",
    "                       'xpdat10', 'csat10', 'csdat10', 'csat15', 'csdat15', 'datediff']\n",
    "\n",
    "# Correctly define feature types \n",
    "for i in data_exploration.columns.values:\n",
    "    if i in categorical_variables:\n",
    "        data_exploration[i] = data_exploration[i].astype(str)\n",
    "    elif i in numerical_variables:\n",
    "        data_exploration[i]= pd.to_numeric(data_exploration[i], errors='coerce')"
   ]
  },
  {
   "cell_type": "markdown",
   "metadata": {},
   "source": [
    "### 5. Feature adjustment: ratio's indicating team dependence"
   ]
  },
  {
   "cell_type": "code",
   "execution_count": 25,
   "metadata": {
    "ExecuteTime": {
     "end_time": "2019-08-24T15:47:40.539144Z",
     "start_time": "2019-08-24T15:47:40.504305Z"
    }
   },
   "outputs": [],
   "source": [
    "# Copy dataframe\n",
    "data_preparation = data_exploration.copy()"
   ]
  },
  {
   "cell_type": "code",
   "execution_count": 26,
   "metadata": {
    "ExecuteTime": {
     "end_time": "2019-08-24T15:47:40.553223Z",
     "start_time": "2019-08-24T15:47:40.543016Z"
    }
   },
   "outputs": [],
   "source": [
    "# Change features to ratio based features if desired\n",
    "if teamratio:    \n",
    "    \n",
    "    # Define columns that should be represented as ratios\n",
    "    numerical_variables_teamratio = ['k', 'd', 'a', 'teamkills', 'kpm', 'teamdragkills', 'elementals',\n",
    "                                     'firedrakes', 'waterdrakes', 'earthdrakes', 'airdrakes', 'elders',\n",
    "                                     'teamtowerkills', 'teambaronkills', 'dmgtochamps', 'dmgtochampsperminute',\n",
    "                                     'dmgshare', 'earnedgoldshare', 'wards', 'wpm', 'wardshare', 'wardkills', \n",
    "                                     'wcpm', 'visionwards', 'visionwardbuys', 'visiblewardclearrate', \n",
    "                                     'invisiblewardclearrate', 'totalgold', 'earnedgpm', 'goldspent',\n",
    "                                     'minionkills', 'monsterkills', 'monsterkillsownjungle', 'monsterkillsenemyjungle',\n",
    "                                     'cspm', 'goldat10', 'goldat15', 'xpat10', 'csat10', 'csat15']\n",
    "\n",
    "    # Create new dataframe to avoid overwriting previous one\n",
    "    data_preparation = data_exploration.copy()\n",
    "    data_preparation.index = list(range(0, len(data_exploration)))\n",
    "    data_preparation = data_preparation.drop(labels= numerical_variables_teamratio, axis=1)\n",
    "\n",
    "    # Extract ordered list with unique game_ids\n",
    "    ordered_gameid_list = list(data_preparation.gameid)[::2]\n",
    "\n",
    "    # Ingest ratio information in dataframe\n",
    "    print(\"Column currently looping over:\\n\", \"-\"*100)\n",
    "    for col in numerical_variables_teamratio:\n",
    "        col_ratio_list = []\n",
    "        for gameID in ordered_gameid_list: \n",
    "            subdata_gameid = data_exploration[data_exploration.gameid == gameID]\n",
    "            values_for_comparison = list(subdata_gameid[col])\n",
    "            # If information is missing of one of the teams the ratio will be missing\n",
    "            if np.any(subdata_gameid[col].isnull()):\n",
    "                col_ratio_list.append(np.nan)\n",
    "                col_ratio_list.append(np.nan)\n",
    "            # If both teams indicate zero, the ratio will be 0.5\n",
    "            elif values_for_comparison[0] == 0 and values_for_comparison[1] == 0:\n",
    "                col_ratio_list.append(0.5)\n",
    "                col_ratio_list.append(0.5)\n",
    "            # (after exclusion above) If one team has a value of zero, the ratio for the other team will be one\n",
    "            elif values_for_comparison[0] == 0:\n",
    "                col_ratio_list.append(0)\n",
    "                col_ratio_list.append(1)\n",
    "            # (after exclusion above) If one team has a value of zero, the ratio for the other team will be one\n",
    "            elif values_for_comparison[1] == 0:\n",
    "                col_ratio_list.append(1)\n",
    "                col_ratio_list.append(0)\n",
    "             # In case none of the exclusions above count, the ratio is calculated\n",
    "            else:\n",
    "                col_ratio_list.append(float(values_for_comparison[0])/sum(values_for_comparison))\n",
    "                col_ratio_list.append(float(values_for_comparison[1])/sum(values_for_comparison))\n",
    "        data_preparation[col] = col_ratio_list\n",
    "        print(col)"
   ]
  },
  {
   "cell_type": "markdown",
   "metadata": {},
   "source": [
    "Remark: Devision by zero can occur when calculating ratios. To avoid a bias each time a devision by zero would occur, the team under inspection is assigned a value of 1, while the other team gets a value of zero."
   ]
  },
  {
   "cell_type": "markdown",
   "metadata": {},
   "source": [
    "## 6. Correct initialization of missing values"
   ]
  },
  {
   "cell_type": "code",
   "execution_count": 27,
   "metadata": {
    "ExecuteTime": {
     "end_time": "2019-08-24T15:47:41.028922Z",
     "start_time": "2019-08-24T15:47:40.554994Z"
    }
   },
   "outputs": [],
   "source": [
    "# Replace missing values with appropriate indicator\n",
    "data_preparation = data_preparation.replace(to_replace = 'nan', value= np.NaN)\n",
    "data_preparation = data_preparation.replace(to_replace = ' ', value= np.NaN)"
   ]
  },
  {
   "cell_type": "markdown",
   "metadata": {},
   "source": [
    "### 6.1 Missing values per columns"
   ]
  },
  {
   "cell_type": "code",
   "execution_count": 28,
   "metadata": {
    "ExecuteTime": {
     "end_time": "2019-08-24T15:47:41.086283Z",
     "start_time": "2019-08-24T15:47:41.031467Z"
    },
    "scrolled": false
   },
   "outputs": [
    {
     "name": "stdout",
     "output_type": "stream",
     "text": [
      "---------------------------------------------------------------------------------------------------- \n",
      "Overview of variable:  The number of columns with a certain percentage of missing values \n",
      " ----------------------------------------------------------------------------------------------------\n",
      "Total categories: 25 \n",
      "\n",
      "The 10 with the highest percentage data available:\n",
      "\n",
      "23.5658 : 33.3333 %\n",
      "23.5529 : 15.3846 %\n",
      "0.0 : 10.2564 %\n",
      "0.0129 : 8.9744 %\n",
      "100.0 : 2.5641 %\n",
      "26.5696 : 2.5641 %\n",
      "0.0258 : 2.5641 %\n",
      "0.0773 : 2.5641 %\n",
      "23.54 : 1.2821 %\n",
      "5.7496 : 1.2821 %\n",
      "\n",
      "The 10 with the lowest percentage data available:\n",
      "\n",
      "23.6689 : 1.2821 %\n",
      "43.8056 : 1.2821 %\n",
      "40.3378 : 1.2821 %\n",
      "23.7592 : 1.2821 %\n",
      "22.5989 : 1.2821 %\n",
      "0.4899 : 1.2821 %\n",
      "0.1934 : 1.2821 %\n",
      "0.2063 : 1.2821 %\n",
      "0.0838 : 1.2821 %\n",
      "0.174 : 1.2821 %\n",
      "---------------------------------------------------------------------------------------------------- \n",
      "Broader exploration of the data\n",
      " ----------------------------------------------------------------------------------------------------\n",
      "Total number of columns: 78 \n",
      "\n",
      "Total number of columns with no missing values: 8 ( 10.2564 %)\n",
      "\n",
      "These are the following columns: ['gameid', 'league', 'split', 'game', 'side', 'result', 'Year', 'team'] \n",
      "\n",
      "The number of columns for which more than half of the information is missing: 2 ( 2.5641 %)\n",
      "\n",
      "These are the following columns: ['dmgshare', 'earnedgoldshare']\n"
     ]
    }
   ],
   "source": [
    "# Count of columns with a certain number of missing values\n",
    "percentage_missing_percol = [round(x/len(data_preparation)*100, 4) for x in list(data_preparation.isna().sum())]\n",
    "SummaryCategoricalVar(percentage_missing_percol,\n",
    "                      'The number of columns with a certain percentage of missing values')\n",
    "\n",
    "# Print intermediate summary\n",
    "print(\"-\"*100, \"\\nBroader exploration of the data\\n\", \"-\"*100)\n",
    "print(\"Total number of columns:\", len(percentage_missing_percol), \"\\n\")\n",
    "print(\"Total number of columns with no missing values:\", \n",
    "      len([x for x in percentage_missing_percol if x == 0]),\n",
    "     \"(\", round(len([x for x in percentage_missing_percol if x == 0])/len(percentage_missing_percol)*100, 4), \"%)\\n\")\n",
    "print(\"These are the following columns:\", [y for y, x in zip(data_preparation.columns, percentage_missing_percol) if x == 0], \"\\n\")\n",
    "print(\"The number of columns for which more than half of the information is missing:\", \n",
    "      len([x for x in percentage_missing_percol if x > 50]),\n",
    "     \"(\", round(len([x for x in percentage_missing_percol if x > 50])/len(percentage_missing_percol)*100, 4), \"%)\\n\")\n",
    "print(\"These are the following columns:\", [y for y, x in zip(data_preparation.columns, percentage_missing_percol) if x > 50])"
   ]
  },
  {
   "cell_type": "code",
   "execution_count": 29,
   "metadata": {
    "ExecuteTime": {
     "end_time": "2019-08-24T15:47:41.102836Z",
     "start_time": "2019-08-24T15:47:41.088526Z"
    }
   },
   "outputs": [
    {
     "name": "stdout",
     "output_type": "stream",
     "text": [
      "After dropping columns with more than half missing values, namely:\n",
      " ['dmgshare', 'earnedgoldshare']\n",
      "76 parameters are retained in the dataset.\n"
     ]
    }
   ],
   "source": [
    "# Remove the columns from the data in case more than half of the observations are missing\n",
    "columns_to_be_dropped = [y for y, x in zip(data_preparation.columns, percentage_missing_percol) if x > 50]\n",
    "data_preparation = data_preparation.drop(columns_to_be_dropped, axis=1)\n",
    "\n",
    "# Drop columns from indicator list for numerical and categorical variables list\n",
    "numerical_variables = [col for col in numerical_variables if col not in columns_to_be_dropped]\n",
    "categorical_variables = [col for col in categorical_variables if col not in columns_to_be_dropped]\n",
    "\n",
    "# Intermediate summary \n",
    "print(\"After dropping columns with more than half missing values, namely:\\n\", columns_to_be_dropped)\n",
    "print(len(data_preparation.columns), \"parameters are retained in the dataset.\")"
   ]
  },
  {
   "cell_type": "markdown",
   "metadata": {},
   "source": [
    "### 6.2 Missing values per row"
   ]
  },
  {
   "cell_type": "code",
   "execution_count": 30,
   "metadata": {
    "ExecuteTime": {
     "end_time": "2019-08-24T15:47:41.193803Z",
     "start_time": "2019-08-24T15:47:41.105339Z"
    }
   },
   "outputs": [
    {
     "name": "stdout",
     "output_type": "stream",
     "text": [
      "---------------------------------------------------------------------------------------------------- \n",
      "Overview of variable:  The number of observations with a certain percentage of missing values \n",
      " ----------------------------------------------------------------------------------------------------\n",
      "Total categories: 20 \n",
      "\n",
      "The 10 with the highest percentage data available:\n",
      "\n",
      "0.0 : 47.5506 %\n",
      "67.1053 : 22.296 %\n",
      "2.6316 : 15.7148 %\n",
      "1.3158 : 8.734 %\n",
      "6.5789 : 2.0304 %\n",
      "3.9474 : 1.1022 %\n",
      "5.2632 : 1.012 %\n",
      "65.7895 : 0.9604 %\n",
      "68.4211 : 0.1998 %\n",
      "7.8947 : 0.1483 %\n",
      "\n",
      "The 10 with the lowest percentage data available:\n",
      "\n",
      "9.2105 : 0.1225 %\n",
      "69.7368 : 0.0322 %\n",
      "76.3158 : 0.0258 %\n",
      "48.6842 : 0.0129 %\n",
      "73.6842 : 0.0129 %\n",
      "80.2632 : 0.0129 %\n",
      "13.1579 : 0.0129 %\n",
      "11.8421 : 0.0064 %\n",
      "71.0526 : 0.0064 %\n",
      "72.3684 : 0.0064 %\n",
      "---------------------------------------------------------------------------------------------------- \n",
      "Broader exploration of the data\n",
      " ----------------------------------------------------------------------------------------------------\n",
      "Total number of observations: 15514 \n",
      "\n",
      "Total number of observations with no missing values: 7377 ( 47.5506 %)\n",
      "\n",
      "The number of observations for which more than half of the information is missing: 3654 ( 23.5529 %)\n"
     ]
    }
   ],
   "source": [
    "# Count of rows with a certain number of missing values\n",
    "percentage_missing_perobs = [round(x/len(data_preparation.columns)*100, 4) for x in list(data_preparation.isna().sum(axis=1))]\n",
    "SummaryCategoricalVar(percentage_missing_perobs,\n",
    "                      'The number of observations with a certain percentage of missing values')\n",
    "\n",
    "# Print intermediate summary\n",
    "print(\"-\"*100, \"\\nBroader exploration of the data\\n\", \"-\"*100)\n",
    "print(\"Total number of observations:\", len(percentage_missing_perobs), \"\\n\")\n",
    "print(\"Total number of observations with no missing values:\", \n",
    "      len([x for x in percentage_missing_perobs if x == 0]),\n",
    "     \"(\", round(len([x for x in percentage_missing_perobs if x == 0])/len(percentage_missing_perobs)*100, 4), \"%)\\n\")\n",
    "print(\"The number of observations for which more than half of the information is missing:\", \n",
    "      len([x for x in percentage_missing_perobs if x > 50]),\n",
    "     \"(\", round(len([x for x in percentage_missing_perobs if x > 50])/len(percentage_missing_perobs)*100, 4), \"%)\")"
   ]
  },
  {
   "cell_type": "markdown",
   "metadata": {},
   "source": [
    "##### Detailed investigation 'observations with many missing values'\n",
    "Hence the data distributions presented here correspond to the subset of the observations for which more than half the column information is missing."
   ]
  },
  {
   "cell_type": "code",
   "execution_count": 31,
   "metadata": {
    "ExecuteTime": {
     "end_time": "2019-08-24T15:47:41.218053Z",
     "start_time": "2019-08-24T15:47:41.197192Z"
    }
   },
   "outputs": [],
   "source": [
    "# Extract subdataset to get detailed insight into the observations with many missing values\n",
    "obs_missing_info = [teller for teller, x in enumerate(percentage_missing_perobs) if x > 50]\n",
    "obs_missing_info_df = data_preparation.iloc[obs_missing_info,:]"
   ]
  },
  {
   "cell_type": "code",
   "execution_count": 32,
   "metadata": {
    "ExecuteTime": {
     "end_time": "2019-08-24T15:47:41.472533Z",
     "start_time": "2019-08-24T15:47:41.230451Z"
    },
    "scrolled": false
   },
   "outputs": [
    {
     "name": "stdout",
     "output_type": "stream",
     "text": [
      "---------------------------------------------------------------------------------------------------- \n",
      "Overview of variable:  The number of observations with a certain percentage of missing values \n",
      " ----------------------------------------------------------------------------------------------------\n",
      "Total categories: 9 \n",
      "\n"
     ]
    },
    {
     "data": {
      "image/png": "[encoded data removed]",
      "text/plain": [
       "<Figure size 432x288 with 1 Axes>"
      ]
     },
     "metadata": {
      "needs_background": "light"
     },
     "output_type": "display_data"
    }
   ],
   "source": [
    "# Distribution of percentage missing values\n",
    "SummaryCategoricalVar([round(x/len(obs_missing_info_df.columns)*100, 4) for x in list(obs_missing_info_df.isna().sum(axis=1))], \n",
    "                      'The number of observations with a certain percentage of missing values')"
   ]
  },
  {
   "cell_type": "markdown",
   "metadata": {},
   "source": [
    "Next, it will be explored whether some column categories are represented more by the observations with a lot of missing data. Latter results need to be compared with the representations of the categorical covariates in the whole dataset (as considered below)."
   ]
  },
  {
   "cell_type": "code",
   "execution_count": 33,
   "metadata": {
    "ExecuteTime": {
     "end_time": "2019-08-24T15:47:43.683248Z",
     "start_time": "2019-08-24T15:47:41.474756Z"
    },
    "scrolled": true
   },
   "outputs": [
    {
     "name": "stdout",
     "output_type": "stream",
     "text": [
      "---------------------------------------------------------------------------------------------------- \n",
      "Overview of variable:  league \n",
      " ----------------------------------------------------------------------------------------------------\n",
      "Total categories: 3 \n",
      "\n"
     ]
    },
    {
     "data": {
      "image/png": "[encoded data removed]",
      "text/plain": [
       "<Figure size 432x288 with 1 Axes>"
      ]
     },
     "metadata": {
      "needs_background": "light"
     },
     "output_type": "display_data"
    },
    {
     "name": "stdout",
     "output_type": "stream",
     "text": [
      "---------------------------------------------------------------------------------------------------- \n",
      "Overview of variable:  culture \n",
      " ----------------------------------------------------------------------------------------------------\n",
      "Total categories: 3 \n",
      "\n"
     ]
    },
    {
     "data": {
      "image/png": "[encoded data removed]",
      "text/plain": [
       "<Figure size 432x288 with 1 Axes>"
      ]
     },
     "metadata": {
      "needs_background": "light"
     },
     "output_type": "display_data"
    },
    {
     "name": "stdout",
     "output_type": "stream",
     "text": [
      "---------------------------------------------------------------------------------------------------- \n",
      "Overview of variable:  game \n",
      " ----------------------------------------------------------------------------------------------------\n",
      "Total categories: 5 \n",
      "\n"
     ]
    },
    {
     "data": {
      "image/png": "[encoded data removed]",
      "text/plain": [
       "<Figure size 432x288 with 1 Axes>"
      ]
     },
     "metadata": {
      "needs_background": "light"
     },
     "output_type": "display_data"
    },
    {
     "name": "stdout",
     "output_type": "stream",
     "text": [
      "---------------------------------------------------------------------------------------------------- \n",
      "Overview of variable:  side \n",
      " ----------------------------------------------------------------------------------------------------\n",
      "Total categories: 2 \n",
      "\n"
     ]
    },
    {
     "data": {
      "image/png": "[encoded data removed]",
      "text/plain": [
       "<Figure size 432x288 with 1 Axes>"
      ]
     },
     "metadata": {
      "needs_background": "light"
     },
     "output_type": "display_data"
    },
    {
     "name": "stdout",
     "output_type": "stream",
     "text": [
      "---------------------------------------------------------------------------------------------------- \n",
      "Overview of variable:  team \n",
      " ----------------------------------------------------------------------------------------------------\n",
      "Total categories: 28 \n",
      "\n",
      "The 10 with the highest percentage data available:\n",
      "\n",
      "invictus gaming : 7.9912 %\n",
      "royal never give up : 7.7176 %\n",
      "edward gaming : 7.7176 %\n",
      "team we : 7.4439 %\n",
      "omg : 6.9239 %\n",
      "jd gaming : 6.705 %\n",
      "lgd gaming : 6.5408 %\n",
      "suning : 5.7745 %\n",
      "snake esports : 5.7745 %\n",
      "vici gaming : 5.4461 %\n",
      "\n",
      "The 10 with the lowest percentage data available:\n",
      "\n",
      "sinodragon gaming : 1.0673 %\n",
      "game talents : 1.04 %\n",
      "dan gaming : 1.04 %\n",
      "lng esports : 0.9852 %\n",
      "dominus esports : 0.9852 %\n",
      "team liquid : 0.0547 %\n",
      "sk telecom t1 : 0.0274 %\n",
      "g2 esports : 0.0274 %\n",
      "echo fox : 0.0274 %\n",
      "counter logic gaming : 0.0274 %\n",
      "---------------------------------------------------------------------------------------------------- \n",
      "Overview of variable:  fbvictim \n",
      " ----------------------------------------------------------------------------------------------------\n",
      "Total categories: 1 \n",
      "\n"
     ]
    },
    {
     "data": {
      "image/png": "[encoded data removed]",
      "text/plain": [
       "<Figure size 432x288 with 1 Axes>"
      ]
     },
     "metadata": {
      "needs_background": "light"
     },
     "output_type": "display_data"
    },
    {
     "name": "stdout",
     "output_type": "stream",
     "text": [
      "---------------------------------------------------------------------------------------------------- \n",
      "Overview of variable:  ban1 \n",
      " ----------------------------------------------------------------------------------------------------\n",
      "Total categories: 110 \n",
      "\n",
      "The 10 with the highest percentage data available:\n",
      "\n",
      "Aatrox : 6.6776 %\n",
      "Camille : 5.9661 %\n",
      "Jayce : 4.7345 %\n",
      "Zoe : 3.9135 %\n",
      "Tahm Kench : 3.6125 %\n",
      "Irelia : 3.2567 %\n",
      "Ryze : 2.5725 %\n",
      "Kog'Maw : 2.5725 %\n",
      "Karma : 2.5178 %\n",
      "Olaf : 2.4083 %\n",
      "\n",
      "The 10 with the lowest percentage data available:\n",
      "\n",
      "Kayn : 0.0821 %\n",
      "Twisted Fate : 0.0547 %\n",
      "Pantheon : 0.0547 %\n",
      "Kayle : 0.0547 %\n",
      "Ziggs : 0.0547 %\n",
      "Jhin : 0.0547 %\n",
      "Bard : 0.0274 %\n",
      "Zilean : 0.0274 %\n",
      "Katarina : 0.0274 %\n",
      "Nunu : 0.0274 %\n",
      "---------------------------------------------------------------------------------------------------- \n",
      "Overview of variable:  ban2 \n",
      " ----------------------------------------------------------------------------------------------------\n",
      "Total categories: 109 \n",
      "\n",
      "The 10 with the highest percentage data available:\n",
      "\n",
      "Camille : 5.8566 %\n",
      "Aatrox : 3.5851 %\n",
      "Jayce : 3.4209 %\n",
      "Ryze : 3.3662 %\n",
      "LeBlanc : 3.3662 %\n",
      "Taliyah : 3.3388 %\n",
      "Olaf : 3.3114 %\n",
      "Zoe : 3.2293 %\n",
      "Tahm Kench : 2.7641 %\n",
      "Galio : 2.5452 %\n",
      "\n",
      "The 10 with the lowest percentage data available:\n",
      "\n",
      "Sona : 0.0547 %\n",
      "Ahri : 0.0547 %\n",
      "Pantheon : 0.0274 %\n",
      "Yorick : 0.0274 %\n",
      "Ekko : 0.0274 %\n",
      "Shyvana : 0.0274 %\n",
      "Zilean : 0.0274 %\n",
      "Nami : 0.0274 %\n",
      "Kayn : 0.0274 %\n",
      "Bard : 0.0274 %\n",
      "---------------------------------------------------------------------------------------------------- \n",
      "Overview of variable:  ban3 \n",
      " ----------------------------------------------------------------------------------------------------\n",
      "Total categories: 117 \n",
      "\n",
      "The 10 with the highest percentage data available:\n",
      "\n",
      "Camille : 4.4882 %\n",
      "Tahm Kench : 3.1472 %\n",
      "Aatrox : 2.9009 %\n",
      "LeBlanc : 2.8188 %\n",
      "Galio : 2.7641 %\n",
      "Zoe : 2.7367 %\n",
      "Taliyah : 2.682 %\n",
      "Ryze : 2.6546 %\n",
      "Jayce : 2.5725 %\n",
      "Olaf : 2.5178 %\n",
      "\n",
      "The 10 with the lowest percentage data available:\n",
      "\n",
      "Bard : 0.0274 %\n",
      "Jinx : 0.0274 %\n",
      "Quinn : 0.0274 %\n",
      "Heimerdinger : 0.0274 %\n",
      "Janna : 0.0274 %\n",
      "Zilean : 0.0274 %\n",
      "Zed : 0.0274 %\n",
      "Katarina : 0.0274 %\n",
      "Viktor : 0.0274 %\n",
      "Ahri : 0.0274 %\n",
      "---------------------------------------------------------------------------------------------------- \n",
      "Overview of variable:  ban4 \n",
      " ----------------------------------------------------------------------------------------------------\n",
      "Total categories: 126 \n",
      "\n",
      "The 10 with the highest percentage data available:\n",
      "\n",
      "LeBlanc : 4.1325 %\n",
      "Alistar : 2.7367 %\n",
      "Gangplank : 2.682 %\n",
      "Ryze : 2.5999 %\n",
      "Vladimir : 2.3536 %\n",
      "Syndra : 2.2989 %\n",
      "Cassiopeia : 2.2715 %\n",
      "Kennen : 2.1894 %\n",
      "Camille : 2.0525 %\n",
      "Braum : 1.9704 %\n",
      "\n",
      "The 10 with the lowest percentage data available:\n",
      "\n",
      "RekSai : 0.0547 %\n",
      "Soraka : 0.0547 %\n",
      "Evelynn : 0.0547 %\n",
      "Pantheon : 0.0274 %\n",
      "Quinn : 0.0274 %\n",
      "Aurelion Sol : 0.0274 %\n",
      "Kai'sa : 0.0274 %\n",
      "Jinx : 0.0274 %\n",
      "Shyvana : 0.0274 %\n",
      "Brand : 0.0274 %\n",
      "---------------------------------------------------------------------------------------------------- \n",
      "Overview of variable:  ban5 \n",
      " ----------------------------------------------------------------------------------------------------\n",
      "Total categories: 126 \n",
      "\n",
      "The 10 with the highest percentage data available:\n",
      "\n",
      "Gangplank : 2.7367 %\n",
      "Vladimir : 2.6546 %\n",
      "Alistar : 2.5725 %\n",
      "LeBlanc : 2.2989 %\n",
      "Ryze : 2.2715 %\n",
      "Orianna : 2.1894 %\n",
      "Syndra : 2.0799 %\n",
      "Lucian : 1.9978 %\n",
      "Thresh : 1.9978 %\n",
      "Kennen : 1.9978 %\n",
      "\n",
      "The 10 with the lowest percentage data available:\n",
      "\n",
      "Aurelion Sol : 0.0547 %\n",
      "Kayle : 0.0547 %\n",
      "Zilean : 0.0274 %\n",
      "Kaisa : 0.0274 %\n",
      "Hecarim : 0.0274 %\n",
      "Quinn : 0.0274 %\n",
      "Nunu : 0.0274 %\n",
      "Kai'sa : 0.0274 %\n",
      "Vi : 0.0274 %\n",
      "Brand : 0.0274 %\n",
      "---------------------------------------------------------------------------------------------------- \n",
      "Overview of variable:  result \n",
      " ----------------------------------------------------------------------------------------------------\n",
      "Total categories: 2 \n",
      "\n"
     ]
    },
    {
     "data": {
      "image/png": "[encoded data removed]",
      "text/plain": [
       "<Figure size 432x288 with 1 Axes>"
      ]
     },
     "metadata": {
      "needs_background": "light"
     },
     "output_type": "display_data"
    },
    {
     "name": "stdout",
     "output_type": "stream",
     "text": [
      "---------------------------------------------------------------------------------------------------- \n",
      "Overview of variable:  fb \n",
      " ----------------------------------------------------------------------------------------------------\n",
      "Total categories: 1 \n",
      "\n"
     ]
    },
    {
     "data": {
      "image/png": "[encoded data removed]",
      "text/plain": [
       "<Figure size 432x288 with 1 Axes>"
      ]
     },
     "metadata": {
      "needs_background": "light"
     },
     "output_type": "display_data"
    },
    {
     "name": "stdout",
     "output_type": "stream",
     "text": [
      "---------------------------------------------------------------------------------------------------- \n",
      "Overview of variable:  fbassist \n",
      " ----------------------------------------------------------------------------------------------------\n",
      "Total categories: 2 \n",
      "\n"
     ]
    },
    {
     "data": {
      "image/png": "[encoded data removed]",
      "text/plain": [
       "<Figure size 432x288 with 1 Axes>"
      ]
     },
     "metadata": {
      "needs_background": "light"
     },
     "output_type": "display_data"
    },
    {
     "name": "stdout",
     "output_type": "stream",
     "text": [
      "---------------------------------------------------------------------------------------------------- \n",
      "Overview of variable:  fd \n",
      " ----------------------------------------------------------------------------------------------------\n",
      "Total categories: 1 \n",
      "\n"
     ]
    },
    {
     "data": {
      "image/png": "[encoded data removed]",
      "text/plain": [
       "<Figure size 432x288 with 1 Axes>"
      ]
     },
     "metadata": {
      "needs_background": "light"
     },
     "output_type": "display_data"
    },
    {
     "name": "stdout",
     "output_type": "stream",
     "text": [
      "---------------------------------------------------------------------------------------------------- \n",
      "Overview of variable:  herald \n",
      " ----------------------------------------------------------------------------------------------------\n",
      "Total categories: 1 \n",
      "\n"
     ]
    },
    {
     "data": {
      "image/png": "[encoded data removed]",
      "text/plain": [
       "<Figure size 432x288 with 1 Axes>"
      ]
     },
     "metadata": {
      "needs_background": "light"
     },
     "output_type": "display_data"
    },
    {
     "name": "stdout",
     "output_type": "stream",
     "text": [
      "---------------------------------------------------------------------------------------------------- \n",
      "Overview of variable:  ft \n",
      " ----------------------------------------------------------------------------------------------------\n",
      "Total categories: 1 \n",
      "\n"
     ]
    },
    {
     "data": {
      "image/png": "[encoded data removed]",
      "text/plain": [
       "<Figure size 432x288 with 1 Axes>"
      ]
     },
     "metadata": {
      "needs_background": "light"
     },
     "output_type": "display_data"
    },
    {
     "name": "stdout",
     "output_type": "stream",
     "text": [
      "---------------------------------------------------------------------------------------------------- \n",
      "Overview of variable:  firstmidouter \n",
      " ----------------------------------------------------------------------------------------------------\n",
      "Total categories: 1 \n",
      "\n"
     ]
    },
    {
     "data": {
      "image/png": "[encoded data removed]",
      "text/plain": [
       "<Figure size 432x288 with 1 Axes>"
      ]
     },
     "metadata": {
      "needs_background": "light"
     },
     "output_type": "display_data"
    },
    {
     "name": "stdout",
     "output_type": "stream",
     "text": [
      "---------------------------------------------------------------------------------------------------- \n",
      "Overview of variable:  firsttothreetowers \n",
      " ----------------------------------------------------------------------------------------------------\n",
      "Total categories: 1 \n",
      "\n"
     ]
    },
    {
     "data": {
      "image/png": "[encoded data removed]",
      "text/plain": [
       "<Figure size 432x288 with 1 Axes>"
      ]
     },
     "metadata": {
      "needs_background": "light"
     },
     "output_type": "display_data"
    },
    {
     "name": "stdout",
     "output_type": "stream",
     "text": [
      "---------------------------------------------------------------------------------------------------- \n",
      "Overview of variable:  fbaron \n",
      " ----------------------------------------------------------------------------------------------------\n",
      "Total categories: 1 \n",
      "\n"
     ]
    },
    {
     "data": {
      "image/png": "[encoded data removed]",
      "text/plain": [
       "<Figure size 432x288 with 1 Axes>"
      ]
     },
     "metadata": {
      "needs_background": "light"
     },
     "output_type": "display_data"
    },
    {
     "name": "stdout",
     "output_type": "stream",
     "text": [
      "---------------------------------------------------------------------------------------------------- \n",
      "Overview of variable:  Year \n",
      " ----------------------------------------------------------------------------------------------------\n",
      "Total categories: 3 \n",
      "\n"
     ]
    },
    {
     "data": {
      "image/png": "[encoded data removed]",
      "text/plain": [
       "<Figure size 432x288 with 1 Axes>"
      ]
     },
     "metadata": {
      "needs_background": "light"
     },
     "output_type": "display_data"
    },
    {
     "name": "stdout",
     "output_type": "stream",
     "text": [
      "---------------------------------------------------------------------------------------------------- \n",
      "Overview of variable:  gameid \n",
      " ----------------------------------------------------------------------------------------------------\n",
      "Total categories: 1827 \n",
      "\n",
      "The 10 with the highest percentage data available:\n",
      "\n",
      "2019-2112Victory FiveTeam WE : 0.0547 %\n",
      "2019-2111Victory FiveTeam WE : 0.0547 %\n",
      "2019-2112Top EsportsOMG : 0.0547 %\n",
      "2019-2111OMGTop Esports : 0.0547 %\n",
      "2019-2112Funplus PhoenixTop Esports : 0.0547 %\n",
      "2019-2111Funplus PhoenixTop Esports : 0.0547 %\n",
      "2019-2113Vici GamingRogue Warriors : 0.0547 %\n",
      "2019-2112Vici GamingRogue Warriors : 0.0547 %\n",
      "2019-2111Rogue WarriorsVici Gaming : 0.0547 %\n",
      "2019-2112Rogue WarriorsInvictus Gaming : 0.0547 %\n",
      "\n",
      "The 10 with the lowest percentage data available:\n",
      "\n",
      "2017-211Invictus GamingTeam WE : 0.0547 %\n",
      "2017-213I MayInvictus Gaming : 0.0547 %\n",
      "2017-212Invictus GamingI May : 0.0547 %\n",
      "2017-211I MayInvictus Gaming : 0.0547 %\n",
      "2017-212EDward GamingSnake Esports : 0.0547 %\n",
      "2017-211Snake EsportsEDward Gaming : 0.0547 %\n",
      "2017-212DAN GamingTeam WE : 0.0547 %\n",
      "2017-211Team WEDAN Gaming : 0.0547 %\n",
      "2017-212DAN GamingEDward Gaming : 0.0547 %\n",
      "2017-211DAN GamingEDward Gaming : 0.0547 %\n"
     ]
    }
   ],
   "source": [
    "# Loop through all categorical variables and visualize data\n",
    "for cat_variable in categorical_variables:\n",
    "    SummaryCategoricalVar(obs_missing_info_df[cat_variable], cat_variable)"
   ]
  },
  {
   "cell_type": "markdown",
   "metadata": {},
   "source": [
    "### 6.3 Missing value imputation\n",
    "To impute missing values the following techniques are applied:\n",
    "* Categorical covariates: random sampling from the discrete distribution representing the probabilities of a value being from a certain category for that covariate. Because of the large amount of data available, it might be interesting to do imputation by sampling randomly from the distribution of available values for a specific covariate, to obtain the least biased estimation of the missing value. It is nevertheless important to get a clear insight into the data with a lot of missing data as well, because these could be biased towards certain column values and hence should be treated with care.\n",
    "* Numerical covariates: Median imputation."
   ]
  },
  {
   "cell_type": "code",
   "execution_count": 34,
   "metadata": {
    "ExecuteTime": {
     "end_time": "2019-08-24T15:47:43.935465Z",
     "start_time": "2019-08-24T15:47:43.685359Z"
    }
   },
   "outputs": [],
   "source": [
    "# Probability based missing value imptation (categorical covariates) and median imputation (numerical covariates)\n",
    "for col in data_preparation.columns.values:\n",
    "    if data_preparation[col].isna().sum() > 0:\n",
    "        if col in categorical_variables:\n",
    "            data_preparation[col] = data_preparation[col].fillna(RandomSampleProbDist(data_preparation[col]))\n",
    "        elif col in numerical_variables:\n",
    "            data_preparation[col] = data_preparation[col].fillna(np.median(data_preparation[col].dropna()))"
   ]
  },
  {
   "cell_type": "code",
   "execution_count": 35,
   "metadata": {
    "ExecuteTime": {
     "end_time": "2019-08-24T15:47:43.970856Z",
     "start_time": "2019-08-24T15:47:43.937985Z"
    }
   },
   "outputs": [
    {
     "data": {
      "text/plain": [
       "False"
      ]
     },
     "execution_count": 35,
     "metadata": {},
     "output_type": "execute_result"
    }
   ],
   "source": [
    "# Check whether there are still non-imputed missing values in the data\n",
    "np.any(data_preparation.isnull())"
   ]
  },
  {
   "cell_type": "code",
   "execution_count": 36,
   "metadata": {
    "ExecuteTime": {
     "end_time": "2019-08-24T15:47:44.019565Z",
     "start_time": "2019-08-24T15:47:43.973201Z"
    }
   },
   "outputs": [
    {
     "data": {
      "text/plain": [
       "[]"
      ]
     },
     "execution_count": 36,
     "metadata": {},
     "output_type": "execute_result"
    }
   ],
   "source": [
    "data_preparation.columns[data_preparation.isna().any()].tolist()"
   ]
  },
  {
   "cell_type": "code",
   "execution_count": 37,
   "metadata": {
    "ExecuteTime": {
     "end_time": "2019-08-24T15:47:44.172766Z",
     "start_time": "2019-08-24T15:47:44.022294Z"
    }
   },
   "outputs": [],
   "source": [
    "# Write data away in pickle\n",
    "with open('/home/je32910/MasterThesis_ComputationalStatistics/pickles/' + filename + '.pickle', 'wb') as f:\n",
    "    pickle.dump(data_preparation, f)"
   ]
  }
 ],
 "metadata": {
  "kernelspec": {
   "display_name": "Python [conda env:python36]",
   "language": "python",
   "name": "conda-env-python36-py"
  },
  "language_info": {
   "codemirror_mode": {
    "name": "ipython",
    "version": 3
   },
   "file_extension": ".py",
   "mimetype": "text/x-python",
   "name": "python",
   "nbconvert_exporter": "python",
   "pygments_lexer": "ipython3",
   "version": "3.6.8"
  }
 },
 "nbformat": 4,
 "nbformat_minor": 2
}
