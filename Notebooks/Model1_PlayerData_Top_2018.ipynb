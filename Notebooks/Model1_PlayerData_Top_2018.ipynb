{
 "cells": [
  {
   "cell_type": "markdown",
   "metadata": {},
   "source": [
    "# Model 1: Estimation of player strength parameters (Top)"
   ]
  },
  {
   "cell_type": "code",
   "execution_count": 1,
   "metadata": {
    "ExecuteTime": {
     "end_time": "2019-08-13T09:48:02.944261Z",
     "start_time": "2019-08-13T09:48:02.936037Z"
    }
   },
   "outputs": [],
   "source": [
    "# Filename standardized data\n",
    "#loaded_pp_filename = 'playerdata2017_preprocessed_top'\n",
    "#loaded_std_filename = 'playerdata2017_standardized_top'\n",
    "#saved_filename = 'playerdata2017_strenghtparam_top'\n",
    "loaded_pp_filename = 'playerdata2018_preprocessed_top'\n",
    "loaded_std_filename = 'playerdata2018_standardized_top'\n",
    "saved_filename = 'playerdata2018_strenghtparam_top'"
   ]
  },
  {
   "cell_type": "markdown",
   "metadata": {},
   "source": [
    "## 0. Load libraries and define functions"
   ]
  },
  {
   "cell_type": "markdown",
   "metadata": {},
   "source": [
    "### 0.1 General python functionality"
   ]
  },
  {
   "cell_type": "code",
   "execution_count": 2,
   "metadata": {
    "ExecuteTime": {
     "end_time": "2019-08-13T09:48:05.294496Z",
     "start_time": "2019-08-13T09:48:04.269289Z"
    }
   },
   "outputs": [],
   "source": [
    "# Functions\n",
    "import numpy as np\n",
    "import os\n",
    "import pickle\n",
    "import pandas as pd\n",
    "import operator\n",
    "import itertools\n",
    "from numpy.random import choice\n",
    "from collections import Counter\n",
    "import statistics\n",
    "from scipy import stats\n",
    "\n",
    "# Functions used for data visualization\n",
    "import seaborn as sns\n",
    "import matplotlib.pyplot as plt"
   ]
  },
  {
   "cell_type": "code",
   "execution_count": 3,
   "metadata": {
    "ExecuteTime": {
     "end_time": "2019-08-13T09:48:05.747784Z",
     "start_time": "2019-08-13T09:48:05.296869Z"
    }
   },
   "outputs": [],
   "source": [
    "# Special functions needed for custom functions\n",
    "import sklearn\n",
    "from sklearn.model_selection import train_test_split\n",
    "from sklearn.linear_model import Ridge, RidgeCV, RidgeClassifierCV, LogisticRegression, ElasticNetCV, ElasticNet, Lasso, RidgeClassifier\n",
    "from sklearn import metrics\n",
    "from sklearn.feature_selection import RFECV\n",
    "from sklearn.ensemble import RandomForestClassifier\n",
    "from sklearn.model_selection import GridSearchCV"
   ]
  },
  {
   "cell_type": "code",
   "execution_count": 4,
   "metadata": {
    "ExecuteTime": {
     "end_time": "2019-08-13T09:48:05.753693Z",
     "start_time": "2019-08-13T09:48:05.750539Z"
    }
   },
   "outputs": [],
   "source": [
    "# Surpress printing warnings\n",
    "import warnings\n",
    "warnings.filterwarnings(\"ignore\")"
   ]
  },
  {
   "cell_type": "markdown",
   "metadata": {},
   "source": [
    "### 0.2 Custom functions"
   ]
  },
  {
   "cell_type": "code",
   "execution_count": 5,
   "metadata": {
    "ExecuteTime": {
     "end_time": "2019-08-13T09:48:06.024002Z",
     "start_time": "2019-08-13T09:48:06.010975Z"
    }
   },
   "outputs": [],
   "source": [
    "### Function used to return a summary for categorical variables\n",
    "def SummaryCategoricalVar(list_of_values, title, threshold = 20, top = 10):\n",
    "    \"\"\"\n",
    "    param: list_of_values (list): A list of categorical values from which we like to obtain the distribution\n",
    "    param: title (string): The title for the visualization\n",
    "    param: threshold (int): The maximal number of categories that should be visualized\n",
    "    param: top (int): The top k values that should be returned in the written summary when the number of categories is above the threshold\n",
    "    \"\"\"\n",
    "    # Count the number of occurrances in the list\n",
    "    cnt = Counter(list_of_values)\n",
    "    sorted_cnt = sorted(cnt.items(), key=operator.itemgetter(1))[::-1]\n",
    "    \n",
    "    # Show the percentage dictionary if to many categories to represent\n",
    "    print(\"-\"* 100, \"\\nOverview of variable: \", title, \"\\n\", \"-\"*100)\n",
    "    print(\"Total categories:\", len(cnt), \"\\n\")\n",
    "    if len(cnt) > threshold:\n",
    "        if len(cnt) < top*2:\n",
    "            for key, value in sorted_cnt:\n",
    "                print(key, ':', round(value/len(list_of_values)*100, 4), \"%\")\n",
    "        else:\n",
    "            print(\"The 10 with the highest percentage data available:\\n\")\n",
    "            for key, value in sorted_cnt[:top]:\n",
    "                print(key, ':', round(value/len(list_of_values)*100, 4), \"%\")\n",
    "            print(\"\\nThe 10 with the lowest percentage data available:\\n\")\n",
    "            for key, value in sorted_cnt[len(cnt) - top:]:\n",
    "                print(key, ':', round(value/len(list_of_values)*100, 4), \"%\")\n",
    "                \n",
    "    # Visualization of labelled data distribution\n",
    "    else:\n",
    "        plt.barh(range(1, len(sorted_cnt)+1), \n",
    "                 list(map(lambda x: (x/len(list_of_values)*100), [score for label, score in sorted_cnt])), \n",
    "                 tick_label = list([label for label, score in sorted_cnt]),\n",
    "                 color = 'cornflowerblue', \n",
    "                 edgecolor = 'steelblue')\n",
    "        plt.ylabel('Label')\n",
    "        plt.xlabel('Percentage observations in dataset')\n",
    "        plt.title(title)\n",
    "        plt.show()    \n",
    "        plt.savefig('Barplot_' + title + '.png')"
   ]
  },
  {
   "cell_type": "code",
   "execution_count": 6,
   "metadata": {
    "ExecuteTime": {
     "end_time": "2019-08-13T09:48:06.354164Z",
     "start_time": "2019-08-13T09:48:06.341769Z"
    }
   },
   "outputs": [],
   "source": [
    "### Function used to return a summary for numeric variables\n",
    "def SummaryNumericVar(list_of_values, title):\n",
    "    \"\"\"\n",
    "    param: list_of_values (list): A list of categorical values from which we like to obtain the distribution\n",
    "    param: title (string): The title for the visualization\n",
    "    \"\"\"\n",
    "    \n",
    "    # Title varibale\n",
    "    print(\"=\"* 100, \"\\nOverview of variable: \", title, \"\\n\", \"=\"*100)\n",
    "\n",
    "    # An \"interface\" to matplotlib.axes.Axes.hist() method\n",
    "    n, bins, patches = plt.hist(x = list_of_values, bins='auto', color= '#0504aa', alpha=0.7, rwidth=0.85)\n",
    "    plt.grid(axis='y', alpha=0.75)\n",
    "    plt.xlabel('Value')\n",
    "    plt.ylabel('Frequency')\n",
    "    plt.title(title)\n",
    "    plt.ylim(top=np.ceil(n.max() / 10) * 10 if n.max() % 10 else n.max() + 10)\n",
    "    plt.show()\n",
    "    plt.savefig('Frequency_' + title + '.png')\n",
    "\n",
    "    # Print summary statistics\n",
    "    print(\"-\"*20, \"\\nSummary statistics:\\n\", \"-\"*20)\n",
    "    print(\"Minimum value:\", min(list_of_values))\n",
    "    print(\"Mean:\", round(statistics.mean(list_of_values), 4))\n",
    "    print(\"Standard deviation:\", round(statistics.stdev(list_of_values), 4))\n",
    "    print(\"Median:\", round(statistics.median(list_of_values), 4))\n",
    "    print(\"Maximal value:\", max(list_of_values))\n",
    "\n",
    "    # Plot boxplot\n",
    "    plt.boxplot(list_of_values, 0, 'grey', 0)\n",
    "    plt.xlabel('Value')\n",
    "    plt.title(title)\n",
    "    plt.show()\n",
    "    plt.savefig('Boxplot_' + title + '.png')\n",
    "\n",
    "    # Present outliers\n",
    "    print(\"-\"*20, \"\\nOutlier detection:\\n\", \"-\"*20)\n",
    "    print(\"List of outliers:\", {round(value,2) for z_score, value in zip(np.abs(stats.zscore(list_of_values)), list_of_values) if z_score > 3})\n",
    "\n",
    "    # Check for normally distributed\n",
    "    stats.probplot(list_of_values, dist=\"norm\", plot= plt)\n",
    "    plt.show()\n",
    "    plt.savefig('Probabilityplot_' + title + '.png')\n",
    "\n",
    "    # Statistics to check normality\n",
    "    print(\"-\"*20, \"\\nCheck for normal distribution:\\n\", \"-\"*20)\n",
    "    print(\"Skewedness:\", round(stats.skew(list_of_values), 4))\n",
    "    print(\"Kurtosis:\", round(stats.kurtosis(list_of_values), 4))"
   ]
  },
  {
   "cell_type": "code",
   "execution_count": 7,
   "metadata": {
    "ExecuteTime": {
     "end_time": "2019-08-13T09:48:06.766454Z",
     "start_time": "2019-08-13T09:48:06.761123Z"
    }
   },
   "outputs": [],
   "source": [
    "### Function used to split the data into training and test data\n",
    "def data_splitter(df, response_name = 'target', split_threshold = 0.15, seed = 42):\n",
    "    \"\"\"\n",
    "    Function used to split a dataframe into test and training data\n",
    "    \n",
    "    param: df (Panda's dataframe object)\n",
    "    param: response_name (string): The name of the response variable in the dataframe\n",
    "    param: split_threshold (float): The split threshold used\n",
    "    param: seed (int): Integer defining the seed for random split of the data\n",
    "    \n",
    "    return: (tuple) A tuple with four pandas dataframe objects\n",
    "    \"\"\"\n",
    "    # Split the dataframe into features and response variable\n",
    "    df_tmp = df.copy()\n",
    "    x, y = df_tmp.drop([response_name], axis = 1), df[response_name]\n",
    "    # Split the feature and response variable into training and test data\n",
    "    x_train, x_test, y_train, y_test = train_test_split(x, y, test_size = split_threshold, random_state = seed)\n",
    "    return (x_train, x_test, y_train, y_test)"
   ]
  },
  {
   "cell_type": "code",
   "execution_count": 8,
   "metadata": {
    "ExecuteTime": {
     "end_time": "2019-08-13T09:48:07.196162Z",
     "start_time": "2019-08-13T09:48:07.184968Z"
    }
   },
   "outputs": [],
   "source": [
    "### Function used to generate a summary of the input model (binary classes)\n",
    "def binary_class_evaluator(model, x_test, y_test, threshold = 0.5, elasticnet = False):\n",
    "    \"\"\"\n",
    "    Function returning a tuple with sensitivity, specificity and AUC metrics for specific model\n",
    "    \n",
    "    param: model (model): The model we like to evaluate\n",
    "    param: x_test (list): List of lists of numpy arrays\n",
    "    param: y_test (list): Binary values indicating the outcome variable\n",
    "    param: threshold (float): The classification threshold used\n",
    "    param: elasticnet (bool): Booling indicator for specifying whether the model is elastic net based\n",
    "\n",
    "    return: A tuple containing the calculated sensitivity, specificity and AUC metrics\n",
    "    \"\"\"\n",
    "    # Calculate the different summary statistics based on the model and test data\n",
    "    test_data =  list(y_test) \n",
    "    model_preds = list(model.predict(x_test)) if not elasticnet else [1.0 if x > 0 else 0.0 for x in model.predict(x_test)]\n",
    "    model_acc = metrics.accuracy_score(test_data, model_preds)\n",
    "    true_pos = len([mp for mp, td in zip(model_preds, test_data) if mp > threshold and td == 1])\n",
    "    false_neg = len([mp for mp, td in zip(model_preds, test_data) if mp < threshold and td == 1])\n",
    "    true_neg = len([mp for mp, td in zip(model_preds, test_data) if mp < threshold and td == 0])\n",
    "    false_pos = len([mp for mp, td in zip(model_preds, test_data) if mp > threshold and td == 0])\n",
    "    \n",
    "    # Print intermediate summary to the user\n",
    "    print(\"Based on a threshold of\", threshold, \"the following summary statistics can be obtained:\\n\", \"-\"*100)\n",
    "    print(true_pos, \"true positives over all positives (the wins that were correctly classified).\")\n",
    "    print(false_pos, \"false positives (the wins that were wrongly classified).\")\n",
    "    print(true_neg, \"true negatives (the losses that were correctly classified).\")\n",
    "    print(false_neg, \"false negatives (the losses that were wrongly classified).\\n\")\n",
    "    print(\"The sensitivity is: \", true_pos / (true_pos + false_neg))\n",
    "    print(\"The specificity is: \", true_neg / (true_neg + false_pos))\n",
    "    \n",
    "    # Plot the ROC curve for the model\n",
    "    print(\"\\n\\nAccuracy:\", model_acc, \"\\n\", \"-\"*100)\n",
    "    fpr, tpr, _ = metrics.roc_curve(test_data, model_preds)\n",
    "    auc = metrics.roc_auc_score(test_data, model_preds)\n",
    "    plt.plot(fpr, tpr, label= \"auc: \" + str(round(auc, 4)))\n",
    "    plt.legend(loc = 4)\n",
    "    plt.title('ROC curve')\n",
    "    plt.show()\n",
    "    \n",
    "    # Return sensitivity and specificity values to the user \n",
    "    return true_pos / (true_pos + false_neg), true_neg / (true_neg + false_pos), auc, model_acc"
   ]
  },
  {
   "cell_type": "code",
   "execution_count": 9,
   "metadata": {
    "ExecuteTime": {
     "end_time": "2019-08-13T09:48:07.580220Z",
     "start_time": "2019-08-13T09:48:07.569591Z"
    }
   },
   "outputs": [],
   "source": [
    "### Function used to plot the confusion matrix (normalization can be applied if desired)\n",
    "def plot_confusion_matrix(model, x_test, y_test, classes, normalize = False, elasticnet = False, cmap = plt.cm.Blues):\n",
    "    \"\"\"\n",
    "    Function that visualizes the confusion matrix based on the predictions made by the fitted model and their correspondence\n",
    "    to the observed test data. The option is available to return the normalized confusion matrix.\n",
    "    \n",
    "    param: model (model): The model we like to evaluate\n",
    "    param: x_test (list): List of lists of numpy arrays\n",
    "    param: y_test (list): Binary values indicating the outcome variable\n",
    "    param: classes (list): A list of classes that correspond to the numbered labels in the confusion matrix in that order.\n",
    "    param: normalize (bool): Booling indicator for specification of returning the normalized or non-normalized confusion matrix.\n",
    "    param: elasticnet (bool): Booling indicator for specifying whether the model is elastic net based\n",
    "    \"\"\"\n",
    "    # Approximate the confusion matrix based on model predictions\n",
    "    model_preds = list(model.predict(x_test)) if not elasticnet else [1.0 if x > 0 else 0.0 for x in model.predict(x_test)]\n",
    "    cm = sklearn.metrics.confusion_matrix(y_test, model_preds)\n",
    "    \n",
    "    # Normalize the cm if desired\n",
    "    title = 'Normalized confusion matrix' if normalize else 'Confusion matrix'\n",
    "    if normalize:\n",
    "        cm = cm.astype('float') / cm.sum(axis=1)[:, np.newaxis]\n",
    "    \n",
    "    # Create confusion matrix\n",
    "    print(title, \":\\n\", \"-\"*100)\n",
    "    plt.imshow(cm, interpolation='nearest', cmap=cmap)\n",
    "    plt.title(title)\n",
    "    plt.colorbar()\n",
    "    tick_marks = np.arange(len(classes))\n",
    "    plt.xticks(tick_marks, classes, rotation=45)\n",
    "    plt.yticks(tick_marks, classes)\n",
    "    fmt = '.2f' if normalize else 'd'\n",
    "    thresh = cm.max() / 2.\n",
    "    for i, j in itertools.product(range(cm.shape[0]), range(cm.shape[1])):\n",
    "        plt.text(j, i, format(cm[i, j], fmt),\n",
    "                 horizontalalignment=\"center\",\n",
    "                 color=\"white\" if cm[i, j] > thresh else \"black\")\n",
    "\n",
    "    plt.tight_layout()\n",
    "    plt.ylabel('True label')\n",
    "    plt.xlabel('Predicted label')\n",
    "    plt.show()"
   ]
  },
  {
   "cell_type": "code",
   "execution_count": 10,
   "metadata": {
    "ExecuteTime": {
     "end_time": "2019-08-13T09:48:07.977619Z",
     "start_time": "2019-08-13T09:48:07.970088Z"
    }
   },
   "outputs": [],
   "source": [
    "### Function used to extract the top10 most important features based on the magnitute of the coefficients\n",
    "def important_features_extractor(model, fitted_features, top = 10, elasticnet = False):\n",
    "    \"\"\"\n",
    "    Function used to extract a dictionary mapping the features used in the model with the estimates of their coefficients\n",
    "    \n",
    "    param: model (model): The model we like to evaluate.\n",
    "    param: fitted_features (list): List capturing the different features evaluated by the model.\n",
    "    param: top (int): The amount of fetaures you like to be printed as output (sorted based on decreasing importance).\n",
    "    param: elasticnet (bool): Booling indicator for specifying whether the model is elastic net based\n",
    "    return: (dict) A dictionary mapping the features with their corresponding coefficient estimates.\n",
    "    \"\"\"\n",
    "    # Extract model coefficients\n",
    "    coefficients = model.coef_[0] if not elasticnet else model.coef_\n",
    "    coef_dict = {col:coef for col, coef in zip(fitted_features, coefficients)}\n",
    "    coef_dict_abs = {col:abs(round(coef,2)) for col, coef in zip(fitted_features, coefficients)}\n",
    "    sorted_coefs = sorted(coef_dict_abs.items(), key=operator.itemgetter(1), reverse= True)\n",
    "\n",
    "    # Return the top ten most important features and their coefficients\n",
    "    print(\"Summary of the important features and their corresponding coefficients:\\n\", '-'*100)\n",
    "    ret_dict = dict()\n",
    "    for index, (col, abs_score) in enumerate(sorted_coefs):\n",
    "        if index < top:\n",
    "            print(col, ':', coef_dict[col])\n",
    "        ret_dict[col] = coef_dict[col]\n",
    "    return ret_dict"
   ]
  },
  {
   "cell_type": "code",
   "execution_count": 11,
   "metadata": {
    "ExecuteTime": {
     "end_time": "2019-08-13T09:48:08.374035Z",
     "start_time": "2019-08-13T09:48:08.369265Z"
    }
   },
   "outputs": [],
   "source": [
    "### Function used to draw a random sample from the discrete distribution of probabilities representing the input list\n",
    "def RandomSampleProbDist(list_of_values, draws = 1):\n",
    "    \"\"\"\n",
    "    :param: list_of_values (list): A list of categorical values representing the observations in the dataset\n",
    "    :param: draws (int): The number of samples desired to be returned\n",
    "    :return: (array) An array capturing the sampled categories\n",
    "    \"\"\"\n",
    "    # Only the non-missing values are considered in the sampling procedure\n",
    "    non_missing_list = list_of_values.dropna()\n",
    "    # Sample from the discrete probability distribution representing the categorical variable\n",
    "    return list(choice(list(Counter(non_missing_list)), \n",
    "                  draws, \n",
    "                  p = list(map(lambda x: x/len(non_missing_list), \n",
    "                               Counter(non_missing_list).values()))))[0]"
   ]
  },
  {
   "cell_type": "markdown",
   "metadata": {},
   "source": [
    "## 1. Load preprocessed data in environment"
   ]
  },
  {
   "cell_type": "markdown",
   "metadata": {},
   "source": [
    "### 1.1 Load standardized data"
   ]
  },
  {
   "cell_type": "code",
   "execution_count": 12,
   "metadata": {
    "ExecuteTime": {
     "end_time": "2019-08-13T09:48:09.611562Z",
     "start_time": "2019-08-13T09:48:09.496901Z"
    }
   },
   "outputs": [],
   "source": [
    "# Load pickle\n",
    "with open('/home/je32910/MasterThesis_ComputationalStatistics/pickles/' + loaded_std_filename + '.pickle', 'rb') as f:\n",
    "    data_raw = pickle.load(f)"
   ]
  },
  {
   "cell_type": "code",
   "execution_count": 13,
   "metadata": {
    "ExecuteTime": {
     "end_time": "2019-08-13T09:48:10.014593Z",
     "start_time": "2019-08-13T09:48:09.929442Z"
    },
    "scrolled": true
   },
   "outputs": [
    {
     "data": {
      "text/html": [
       "<div>\n",
       "<style scoped>\n",
       "    .dataframe tbody tr th:only-of-type {\n",
       "        vertical-align: middle;\n",
       "    }\n",
       "\n",
       "    .dataframe tbody tr th {\n",
       "        vertical-align: top;\n",
       "    }\n",
       "\n",
       "    .dataframe thead th {\n",
       "        text-align: right;\n",
       "    }\n",
       "</style>\n",
       "<table border=\"1\" class=\"dataframe\">\n",
       "  <thead>\n",
       "    <tr style=\"text-align: right;\">\n",
       "      <th></th>\n",
       "      <th>split</th>\n",
       "      <th>patchno</th>\n",
       "      <th>result</th>\n",
       "      <th>k</th>\n",
       "      <th>d</th>\n",
       "      <th>a</th>\n",
       "      <th>doubles</th>\n",
       "      <th>triples</th>\n",
       "      <th>fb</th>\n",
       "      <th>fbassist</th>\n",
       "      <th>...</th>\n",
       "      <th>csdat15</th>\n",
       "      <th>datediff</th>\n",
       "      <th>Encoded_league</th>\n",
       "      <th>Encoded_game</th>\n",
       "      <th>Encoded_side</th>\n",
       "      <th>Encoded_champion</th>\n",
       "      <th>Encoded_Year</th>\n",
       "      <th>Encoded_team</th>\n",
       "      <th>Encoded_culture</th>\n",
       "      <th>player</th>\n",
       "    </tr>\n",
       "  </thead>\n",
       "  <tbody>\n",
       "    <tr>\n",
       "      <th>0</th>\n",
       "      <td>-0.090288</td>\n",
       "      <td>-0.789490</td>\n",
       "      <td>0.0</td>\n",
       "      <td>-1.094462</td>\n",
       "      <td>0.889268</td>\n",
       "      <td>-0.534411</td>\n",
       "      <td>-0.357208</td>\n",
       "      <td>-0.144282</td>\n",
       "      <td>-0.270688</td>\n",
       "      <td>-0.319741</td>\n",
       "      <td>...</td>\n",
       "      <td>-1.541207</td>\n",
       "      <td>0.719855</td>\n",
       "      <td>0.904764</td>\n",
       "      <td>1.028890</td>\n",
       "      <td>-1.0</td>\n",
       "      <td>0.150499</td>\n",
       "      <td>-0.927506</td>\n",
       "      <td>-1.088955</td>\n",
       "      <td>0.794858</td>\n",
       "      <td>add</td>\n",
       "    </tr>\n",
       "    <tr>\n",
       "      <th>1</th>\n",
       "      <td>-0.090288</td>\n",
       "      <td>-0.789490</td>\n",
       "      <td>1.0</td>\n",
       "      <td>1.426557</td>\n",
       "      <td>-0.236493</td>\n",
       "      <td>-0.260142</td>\n",
       "      <td>2.033126</td>\n",
       "      <td>-0.144282</td>\n",
       "      <td>-0.270688</td>\n",
       "      <td>-0.319741</td>\n",
       "      <td>...</td>\n",
       "      <td>1.541207</td>\n",
       "      <td>0.719855</td>\n",
       "      <td>0.904764</td>\n",
       "      <td>1.028890</td>\n",
       "      <td>1.0</td>\n",
       "      <td>-0.573472</td>\n",
       "      <td>-0.927506</td>\n",
       "      <td>-0.697074</td>\n",
       "      <td>0.794858</td>\n",
       "      <td>ikssu</td>\n",
       "    </tr>\n",
       "    <tr>\n",
       "      <th>2</th>\n",
       "      <td>-0.090288</td>\n",
       "      <td>-0.789490</td>\n",
       "      <td>0.0</td>\n",
       "      <td>-1.094462</td>\n",
       "      <td>0.889268</td>\n",
       "      <td>-0.260142</td>\n",
       "      <td>-0.357208</td>\n",
       "      <td>-0.144282</td>\n",
       "      <td>-0.270688</td>\n",
       "      <td>3.127532</td>\n",
       "      <td>...</td>\n",
       "      <td>1.541207</td>\n",
       "      <td>0.719855</td>\n",
       "      <td>0.904764</td>\n",
       "      <td>-1.166340</td>\n",
       "      <td>-1.0</td>\n",
       "      <td>-0.890209</td>\n",
       "      <td>-0.927506</td>\n",
       "      <td>-0.697074</td>\n",
       "      <td>0.794858</td>\n",
       "      <td>ikssu</td>\n",
       "    </tr>\n",
       "    <tr>\n",
       "      <th>3</th>\n",
       "      <td>-0.090288</td>\n",
       "      <td>-0.789490</td>\n",
       "      <td>1.0</td>\n",
       "      <td>0.418149</td>\n",
       "      <td>-0.236493</td>\n",
       "      <td>0.014127</td>\n",
       "      <td>2.033126</td>\n",
       "      <td>-0.144282</td>\n",
       "      <td>-0.270688</td>\n",
       "      <td>-0.319741</td>\n",
       "      <td>...</td>\n",
       "      <td>-1.541207</td>\n",
       "      <td>0.719855</td>\n",
       "      <td>0.904764</td>\n",
       "      <td>-1.166340</td>\n",
       "      <td>1.0</td>\n",
       "      <td>0.150499</td>\n",
       "      <td>-0.927506</td>\n",
       "      <td>-1.088955</td>\n",
       "      <td>0.794858</td>\n",
       "      <td>add</td>\n",
       "    </tr>\n",
       "    <tr>\n",
       "      <th>4</th>\n",
       "      <td>-0.090288</td>\n",
       "      <td>-0.789490</td>\n",
       "      <td>1.0</td>\n",
       "      <td>-0.590258</td>\n",
       "      <td>-0.799373</td>\n",
       "      <td>0.836936</td>\n",
       "      <td>-0.357208</td>\n",
       "      <td>-0.144282</td>\n",
       "      <td>-0.270688</td>\n",
       "      <td>-0.319741</td>\n",
       "      <td>...</td>\n",
       "      <td>-0.171245</td>\n",
       "      <td>0.719855</td>\n",
       "      <td>0.904764</td>\n",
       "      <td>0.353435</td>\n",
       "      <td>-1.0</td>\n",
       "      <td>0.150499</td>\n",
       "      <td>-0.927506</td>\n",
       "      <td>-1.088955</td>\n",
       "      <td>0.794858</td>\n",
       "      <td>add</td>\n",
       "    </tr>\n",
       "    <tr>\n",
       "      <th>5</th>\n",
       "      <td>-0.090288</td>\n",
       "      <td>-0.789490</td>\n",
       "      <td>0.0</td>\n",
       "      <td>-1.094462</td>\n",
       "      <td>-0.799373</td>\n",
       "      <td>-0.534411</td>\n",
       "      <td>-0.357208</td>\n",
       "      <td>-0.144282</td>\n",
       "      <td>-0.270688</td>\n",
       "      <td>3.127532</td>\n",
       "      <td>...</td>\n",
       "      <td>0.171245</td>\n",
       "      <td>0.719855</td>\n",
       "      <td>0.904764</td>\n",
       "      <td>0.353435</td>\n",
       "      <td>1.0</td>\n",
       "      <td>-1.116449</td>\n",
       "      <td>-0.927506</td>\n",
       "      <td>-0.697074</td>\n",
       "      <td>0.794858</td>\n",
       "      <td>ikssu</td>\n",
       "    </tr>\n",
       "    <tr>\n",
       "      <th>6</th>\n",
       "      <td>-0.090288</td>\n",
       "      <td>-0.789490</td>\n",
       "      <td>1.0</td>\n",
       "      <td>1.426557</td>\n",
       "      <td>0.326388</td>\n",
       "      <td>1.111205</td>\n",
       "      <td>2.033126</td>\n",
       "      <td>-0.144282</td>\n",
       "      <td>-0.270688</td>\n",
       "      <td>-0.319741</td>\n",
       "      <td>...</td>\n",
       "      <td>0.114163</td>\n",
       "      <td>0.719855</td>\n",
       "      <td>0.904764</td>\n",
       "      <td>1.028890</td>\n",
       "      <td>-1.0</td>\n",
       "      <td>-0.890209</td>\n",
       "      <td>-0.927506</td>\n",
       "      <td>-1.533086</td>\n",
       "      <td>0.794858</td>\n",
       "      <td>khan</td>\n",
       "    </tr>\n",
       "    <tr>\n",
       "      <th>7</th>\n",
       "      <td>-0.090288</td>\n",
       "      <td>-0.789490</td>\n",
       "      <td>0.0</td>\n",
       "      <td>-0.590258</td>\n",
       "      <td>1.452148</td>\n",
       "      <td>-0.260142</td>\n",
       "      <td>-0.357208</td>\n",
       "      <td>-0.144282</td>\n",
       "      <td>-0.270688</td>\n",
       "      <td>-0.319741</td>\n",
       "      <td>...</td>\n",
       "      <td>-0.114163</td>\n",
       "      <td>0.719855</td>\n",
       "      <td>0.904764</td>\n",
       "      <td>1.028890</td>\n",
       "      <td>1.0</td>\n",
       "      <td>-1.116449</td>\n",
       "      <td>-0.927506</td>\n",
       "      <td>-0.043940</td>\n",
       "      <td>0.794858</td>\n",
       "      <td>smeb</td>\n",
       "    </tr>\n",
       "    <tr>\n",
       "      <th>8</th>\n",
       "      <td>-0.090288</td>\n",
       "      <td>-0.789490</td>\n",
       "      <td>0.0</td>\n",
       "      <td>-1.094462</td>\n",
       "      <td>-0.236493</td>\n",
       "      <td>-0.808681</td>\n",
       "      <td>-0.357208</td>\n",
       "      <td>-0.144282</td>\n",
       "      <td>-0.270688</td>\n",
       "      <td>-0.319741</td>\n",
       "      <td>...</td>\n",
       "      <td>1.141635</td>\n",
       "      <td>0.719855</td>\n",
       "      <td>0.904764</td>\n",
       "      <td>-1.166340</td>\n",
       "      <td>-1.0</td>\n",
       "      <td>0.693477</td>\n",
       "      <td>-0.927506</td>\n",
       "      <td>-0.043940</td>\n",
       "      <td>0.794858</td>\n",
       "      <td>smeb</td>\n",
       "    </tr>\n",
       "    <tr>\n",
       "      <th>9</th>\n",
       "      <td>-0.090288</td>\n",
       "      <td>-0.789490</td>\n",
       "      <td>1.0</td>\n",
       "      <td>1.426557</td>\n",
       "      <td>-0.799373</td>\n",
       "      <td>0.014127</td>\n",
       "      <td>2.033126</td>\n",
       "      <td>-0.144282</td>\n",
       "      <td>-0.270688</td>\n",
       "      <td>-0.319741</td>\n",
       "      <td>...</td>\n",
       "      <td>-1.141635</td>\n",
       "      <td>0.719855</td>\n",
       "      <td>0.904764</td>\n",
       "      <td>-1.166340</td>\n",
       "      <td>1.0</td>\n",
       "      <td>-0.890209</td>\n",
       "      <td>-0.927506</td>\n",
       "      <td>-1.533086</td>\n",
       "      <td>0.794858</td>\n",
       "      <td>khan</td>\n",
       "    </tr>\n",
       "    <tr>\n",
       "      <th>10</th>\n",
       "      <td>-0.090288</td>\n",
       "      <td>-0.789490</td>\n",
       "      <td>1.0</td>\n",
       "      <td>-1.094462</td>\n",
       "      <td>-0.236493</td>\n",
       "      <td>1.111205</td>\n",
       "      <td>-0.357208</td>\n",
       "      <td>-0.144282</td>\n",
       "      <td>-0.270688</td>\n",
       "      <td>-0.319741</td>\n",
       "      <td>...</td>\n",
       "      <td>-1.940779</td>\n",
       "      <td>0.715400</td>\n",
       "      <td>0.904764</td>\n",
       "      <td>1.028890</td>\n",
       "      <td>-1.0</td>\n",
       "      <td>1.010214</td>\n",
       "      <td>-0.927506</td>\n",
       "      <td>-0.070066</td>\n",
       "      <td>0.794858</td>\n",
       "      <td>helper</td>\n",
       "    </tr>\n",
       "    <tr>\n",
       "      <th>11</th>\n",
       "      <td>-0.090288</td>\n",
       "      <td>-0.789490</td>\n",
       "      <td>0.0</td>\n",
       "      <td>-0.590258</td>\n",
       "      <td>0.889268</td>\n",
       "      <td>-1.082950</td>\n",
       "      <td>-0.357208</td>\n",
       "      <td>-0.144282</td>\n",
       "      <td>-0.270688</td>\n",
       "      <td>3.127532</td>\n",
       "      <td>...</td>\n",
       "      <td>1.940779</td>\n",
       "      <td>0.715400</td>\n",
       "      <td>0.904764</td>\n",
       "      <td>1.028890</td>\n",
       "      <td>1.0</td>\n",
       "      <td>-0.347231</td>\n",
       "      <td>-0.927506</td>\n",
       "      <td>1.497456</td>\n",
       "      <td>0.794858</td>\n",
       "      <td>marin</td>\n",
       "    </tr>\n",
       "    <tr>\n",
       "      <th>12</th>\n",
       "      <td>-0.090288</td>\n",
       "      <td>-0.789490</td>\n",
       "      <td>1.0</td>\n",
       "      <td>1.930761</td>\n",
       "      <td>0.889268</td>\n",
       "      <td>0.288397</td>\n",
       "      <td>-0.357208</td>\n",
       "      <td>-0.144282</td>\n",
       "      <td>3.694295</td>\n",
       "      <td>-0.319741</td>\n",
       "      <td>...</td>\n",
       "      <td>2.625759</td>\n",
       "      <td>0.715400</td>\n",
       "      <td>0.904764</td>\n",
       "      <td>-1.166340</td>\n",
       "      <td>-1.0</td>\n",
       "      <td>-1.071201</td>\n",
       "      <td>-0.927506</td>\n",
       "      <td>1.497456</td>\n",
       "      <td>0.794858</td>\n",
       "      <td>marin</td>\n",
       "    </tr>\n",
       "    <tr>\n",
       "      <th>13</th>\n",
       "      <td>-0.090288</td>\n",
       "      <td>-0.789490</td>\n",
       "      <td>0.0</td>\n",
       "      <td>-1.094462</td>\n",
       "      <td>2.015029</td>\n",
       "      <td>0.014127</td>\n",
       "      <td>-0.357208</td>\n",
       "      <td>-0.144282</td>\n",
       "      <td>-0.270688</td>\n",
       "      <td>-0.319741</td>\n",
       "      <td>...</td>\n",
       "      <td>-2.625759</td>\n",
       "      <td>0.715400</td>\n",
       "      <td>0.904764</td>\n",
       "      <td>-1.166340</td>\n",
       "      <td>1.0</td>\n",
       "      <td>-1.116449</td>\n",
       "      <td>-0.927506</td>\n",
       "      <td>-0.070066</td>\n",
       "      <td>0.794858</td>\n",
       "      <td>helper</td>\n",
       "    </tr>\n",
       "    <tr>\n",
       "      <th>14</th>\n",
       "      <td>-0.090288</td>\n",
       "      <td>-0.789490</td>\n",
       "      <td>0.0</td>\n",
       "      <td>-1.094462</td>\n",
       "      <td>1.452148</td>\n",
       "      <td>-0.534411</td>\n",
       "      <td>-0.357208</td>\n",
       "      <td>-0.144282</td>\n",
       "      <td>-0.270688</td>\n",
       "      <td>-0.319741</td>\n",
       "      <td>...</td>\n",
       "      <td>-1.084553</td>\n",
       "      <td>0.715400</td>\n",
       "      <td>0.904764</td>\n",
       "      <td>-1.166340</td>\n",
       "      <td>-1.0</td>\n",
       "      <td>-1.071201</td>\n",
       "      <td>-0.927506</td>\n",
       "      <td>-1.350208</td>\n",
       "      <td>0.794858</td>\n",
       "      <td>huni</td>\n",
       "    </tr>\n",
       "    <tr>\n",
       "      <th>15</th>\n",
       "      <td>-0.090288</td>\n",
       "      <td>-0.789490</td>\n",
       "      <td>1.0</td>\n",
       "      <td>1.426557</td>\n",
       "      <td>-0.799373</td>\n",
       "      <td>0.562666</td>\n",
       "      <td>2.033126</td>\n",
       "      <td>-0.144282</td>\n",
       "      <td>-0.270688</td>\n",
       "      <td>3.127532</td>\n",
       "      <td>...</td>\n",
       "      <td>1.084553</td>\n",
       "      <td>0.715400</td>\n",
       "      <td>0.904764</td>\n",
       "      <td>-1.166340</td>\n",
       "      <td>1.0</td>\n",
       "      <td>1.553192</td>\n",
       "      <td>-0.927506</td>\n",
       "      <td>0.034436</td>\n",
       "      <td>0.794858</td>\n",
       "      <td>cuvee</td>\n",
       "    </tr>\n",
       "    <tr>\n",
       "      <th>16</th>\n",
       "      <td>-0.090288</td>\n",
       "      <td>-0.789490</td>\n",
       "      <td>1.0</td>\n",
       "      <td>-0.590258</td>\n",
       "      <td>-0.236493</td>\n",
       "      <td>0.562666</td>\n",
       "      <td>-0.357208</td>\n",
       "      <td>-0.144282</td>\n",
       "      <td>-0.270688</td>\n",
       "      <td>-0.319741</td>\n",
       "      <td>...</td>\n",
       "      <td>-0.285409</td>\n",
       "      <td>0.706477</td>\n",
       "      <td>1.124786</td>\n",
       "      <td>1.028890</td>\n",
       "      <td>-1.0</td>\n",
       "      <td>-1.116449</td>\n",
       "      <td>-0.927506</td>\n",
       "      <td>1.001074</td>\n",
       "      <td>-0.578568</td>\n",
       "      <td>odoamne</td>\n",
       "    </tr>\n",
       "    <tr>\n",
       "      <th>17</th>\n",
       "      <td>-0.090288</td>\n",
       "      <td>-0.789490</td>\n",
       "      <td>0.0</td>\n",
       "      <td>-0.086054</td>\n",
       "      <td>0.326388</td>\n",
       "      <td>-0.534411</td>\n",
       "      <td>-0.357208</td>\n",
       "      <td>-0.144282</td>\n",
       "      <td>-0.270688</td>\n",
       "      <td>-0.319741</td>\n",
       "      <td>...</td>\n",
       "      <td>0.285409</td>\n",
       "      <td>0.706477</td>\n",
       "      <td>1.124786</td>\n",
       "      <td>1.028890</td>\n",
       "      <td>1.0</td>\n",
       "      <td>-0.890209</td>\n",
       "      <td>-0.927506</td>\n",
       "      <td>-1.559211</td>\n",
       "      <td>-0.578568</td>\n",
       "      <td>wunder</td>\n",
       "    </tr>\n",
       "    <tr>\n",
       "      <th>18</th>\n",
       "      <td>-0.090288</td>\n",
       "      <td>-0.789490</td>\n",
       "      <td>0.0</td>\n",
       "      <td>-0.086054</td>\n",
       "      <td>0.889268</td>\n",
       "      <td>-1.082950</td>\n",
       "      <td>-0.357208</td>\n",
       "      <td>-0.144282</td>\n",
       "      <td>-0.270688</td>\n",
       "      <td>-0.319741</td>\n",
       "      <td>...</td>\n",
       "      <td>0.000000</td>\n",
       "      <td>0.706477</td>\n",
       "      <td>1.124786</td>\n",
       "      <td>-1.166340</td>\n",
       "      <td>-1.0</td>\n",
       "      <td>-0.754464</td>\n",
       "      <td>-0.927506</td>\n",
       "      <td>-1.559211</td>\n",
       "      <td>-0.578568</td>\n",
       "      <td>wunder</td>\n",
       "    </tr>\n",
       "    <tr>\n",
       "      <th>19</th>\n",
       "      <td>-0.090288</td>\n",
       "      <td>-0.789490</td>\n",
       "      <td>1.0</td>\n",
       "      <td>2.939169</td>\n",
       "      <td>-0.236493</td>\n",
       "      <td>-0.808681</td>\n",
       "      <td>2.033126</td>\n",
       "      <td>-0.144282</td>\n",
       "      <td>-0.270688</td>\n",
       "      <td>-0.319741</td>\n",
       "      <td>...</td>\n",
       "      <td>0.000000</td>\n",
       "      <td>0.706477</td>\n",
       "      <td>1.124786</td>\n",
       "      <td>-1.166340</td>\n",
       "      <td>1.0</td>\n",
       "      <td>-0.347231</td>\n",
       "      <td>-0.927506</td>\n",
       "      <td>1.001074</td>\n",
       "      <td>-0.578568</td>\n",
       "      <td>odoamne</td>\n",
       "    </tr>\n",
       "    <tr>\n",
       "      <th>20</th>\n",
       "      <td>-0.090288</td>\n",
       "      <td>-0.789490</td>\n",
       "      <td>1.0</td>\n",
       "      <td>-0.086054</td>\n",
       "      <td>0.326388</td>\n",
       "      <td>-0.260142</td>\n",
       "      <td>-0.357208</td>\n",
       "      <td>-0.144282</td>\n",
       "      <td>-0.270688</td>\n",
       "      <td>-0.319741</td>\n",
       "      <td>...</td>\n",
       "      <td>1.712452</td>\n",
       "      <td>0.710941</td>\n",
       "      <td>0.904764</td>\n",
       "      <td>-1.166340</td>\n",
       "      <td>-1.0</td>\n",
       "      <td>-0.935457</td>\n",
       "      <td>-0.927506</td>\n",
       "      <td>1.262328</td>\n",
       "      <td>0.794858</td>\n",
       "      <td>crazy</td>\n",
       "    </tr>\n",
       "    <tr>\n",
       "      <th>21</th>\n",
       "      <td>-0.090288</td>\n",
       "      <td>-0.789490</td>\n",
       "      <td>0.0</td>\n",
       "      <td>-0.590258</td>\n",
       "      <td>0.889268</td>\n",
       "      <td>0.014127</td>\n",
       "      <td>-0.357208</td>\n",
       "      <td>-0.144282</td>\n",
       "      <td>-0.270688</td>\n",
       "      <td>-0.319741</td>\n",
       "      <td>...</td>\n",
       "      <td>-1.712452</td>\n",
       "      <td>0.710941</td>\n",
       "      <td>0.904764</td>\n",
       "      <td>-1.166340</td>\n",
       "      <td>1.0</td>\n",
       "      <td>-0.890209</td>\n",
       "      <td>-0.927506</td>\n",
       "      <td>-1.533086</td>\n",
       "      <td>0.794858</td>\n",
       "      <td>khan</td>\n",
       "    </tr>\n",
       "    <tr>\n",
       "      <th>22</th>\n",
       "      <td>-0.090288</td>\n",
       "      <td>-0.789490</td>\n",
       "      <td>1.0</td>\n",
       "      <td>-0.086054</td>\n",
       "      <td>0.889268</td>\n",
       "      <td>-0.260142</td>\n",
       "      <td>-0.357208</td>\n",
       "      <td>-0.144282</td>\n",
       "      <td>-0.270688</td>\n",
       "      <td>-0.319741</td>\n",
       "      <td>...</td>\n",
       "      <td>-0.856226</td>\n",
       "      <td>0.710941</td>\n",
       "      <td>0.904764</td>\n",
       "      <td>0.353435</td>\n",
       "      <td>-1.0</td>\n",
       "      <td>-0.347231</td>\n",
       "      <td>-0.927506</td>\n",
       "      <td>-1.533086</td>\n",
       "      <td>0.794858</td>\n",
       "      <td>khan</td>\n",
       "    </tr>\n",
       "    <tr>\n",
       "      <th>23</th>\n",
       "      <td>-0.090288</td>\n",
       "      <td>-0.789490</td>\n",
       "      <td>0.0</td>\n",
       "      <td>-1.094462</td>\n",
       "      <td>0.326388</td>\n",
       "      <td>0.014127</td>\n",
       "      <td>-0.357208</td>\n",
       "      <td>-0.144282</td>\n",
       "      <td>-0.270688</td>\n",
       "      <td>3.127532</td>\n",
       "      <td>...</td>\n",
       "      <td>0.856226</td>\n",
       "      <td>0.710941</td>\n",
       "      <td>0.904764</td>\n",
       "      <td>0.353435</td>\n",
       "      <td>1.0</td>\n",
       "      <td>-0.890209</td>\n",
       "      <td>-0.927506</td>\n",
       "      <td>1.262328</td>\n",
       "      <td>0.794858</td>\n",
       "      <td>crazy</td>\n",
       "    </tr>\n",
       "    <tr>\n",
       "      <th>24</th>\n",
       "      <td>-0.090288</td>\n",
       "      <td>-0.789490</td>\n",
       "      <td>0.0</td>\n",
       "      <td>-1.094462</td>\n",
       "      <td>3.140789</td>\n",
       "      <td>0.288397</td>\n",
       "      <td>-0.357208</td>\n",
       "      <td>-0.144282</td>\n",
       "      <td>-0.270688</td>\n",
       "      <td>-0.319741</td>\n",
       "      <td>...</td>\n",
       "      <td>-2.511596</td>\n",
       "      <td>0.710941</td>\n",
       "      <td>0.904764</td>\n",
       "      <td>1.028890</td>\n",
       "      <td>-1.0</td>\n",
       "      <td>-0.573472</td>\n",
       "      <td>-0.927506</td>\n",
       "      <td>-0.357445</td>\n",
       "      <td>0.794858</td>\n",
       "      <td>lindarang</td>\n",
       "    </tr>\n",
       "    <tr>\n",
       "      <th>25</th>\n",
       "      <td>-0.090288</td>\n",
       "      <td>-0.789490</td>\n",
       "      <td>1.0</td>\n",
       "      <td>-0.086054</td>\n",
       "      <td>-0.236493</td>\n",
       "      <td>1.385475</td>\n",
       "      <td>-0.357208</td>\n",
       "      <td>-0.144282</td>\n",
       "      <td>-0.270688</td>\n",
       "      <td>3.127532</td>\n",
       "      <td>...</td>\n",
       "      <td>2.511596</td>\n",
       "      <td>0.710941</td>\n",
       "      <td>0.904764</td>\n",
       "      <td>1.028890</td>\n",
       "      <td>1.0</td>\n",
       "      <td>0.150499</td>\n",
       "      <td>-0.927506</td>\n",
       "      <td>-0.697074</td>\n",
       "      <td>0.794858</td>\n",
       "      <td>ikssu</td>\n",
       "    </tr>\n",
       "    <tr>\n",
       "      <th>26</th>\n",
       "      <td>-0.090288</td>\n",
       "      <td>-0.789490</td>\n",
       "      <td>1.0</td>\n",
       "      <td>-0.086054</td>\n",
       "      <td>-1.362253</td>\n",
       "      <td>-0.534411</td>\n",
       "      <td>-0.357208</td>\n",
       "      <td>-0.144282</td>\n",
       "      <td>-0.270688</td>\n",
       "      <td>-0.319741</td>\n",
       "      <td>...</td>\n",
       "      <td>-0.684981</td>\n",
       "      <td>0.710941</td>\n",
       "      <td>0.904764</td>\n",
       "      <td>-1.166340</td>\n",
       "      <td>-1.0</td>\n",
       "      <td>-0.573472</td>\n",
       "      <td>-0.927506</td>\n",
       "      <td>-0.697074</td>\n",
       "      <td>0.794858</td>\n",
       "      <td>ikssu</td>\n",
       "    </tr>\n",
       "    <tr>\n",
       "      <th>27</th>\n",
       "      <td>-0.090288</td>\n",
       "      <td>-0.789490</td>\n",
       "      <td>0.0</td>\n",
       "      <td>-1.094462</td>\n",
       "      <td>0.326388</td>\n",
       "      <td>-1.357220</td>\n",
       "      <td>-0.357208</td>\n",
       "      <td>-0.144282</td>\n",
       "      <td>-0.270688</td>\n",
       "      <td>-0.319741</td>\n",
       "      <td>...</td>\n",
       "      <td>0.684981</td>\n",
       "      <td>0.710941</td>\n",
       "      <td>0.904764</td>\n",
       "      <td>-1.166340</td>\n",
       "      <td>1.0</td>\n",
       "      <td>-0.935457</td>\n",
       "      <td>-0.927506</td>\n",
       "      <td>-0.357445</td>\n",
       "      <td>0.794858</td>\n",
       "      <td>shy</td>\n",
       "    </tr>\n",
       "    <tr>\n",
       "      <th>28</th>\n",
       "      <td>-0.090288</td>\n",
       "      <td>-0.789490</td>\n",
       "      <td>1.0</td>\n",
       "      <td>0.418149</td>\n",
       "      <td>-1.362253</td>\n",
       "      <td>1.385475</td>\n",
       "      <td>-0.357208</td>\n",
       "      <td>-0.144282</td>\n",
       "      <td>3.694295</td>\n",
       "      <td>-0.319741</td>\n",
       "      <td>...</td>\n",
       "      <td>-0.684981</td>\n",
       "      <td>0.706477</td>\n",
       "      <td>1.124786</td>\n",
       "      <td>1.028890</td>\n",
       "      <td>-1.0</td>\n",
       "      <td>0.693477</td>\n",
       "      <td>-0.927506</td>\n",
       "      <td>1.027199</td>\n",
       "      <td>-0.578568</td>\n",
       "      <td>soaz</td>\n",
       "    </tr>\n",
       "    <tr>\n",
       "      <th>29</th>\n",
       "      <td>-0.090288</td>\n",
       "      <td>-0.789490</td>\n",
       "      <td>0.0</td>\n",
       "      <td>-1.094462</td>\n",
       "      <td>0.889268</td>\n",
       "      <td>-1.357220</td>\n",
       "      <td>-0.357208</td>\n",
       "      <td>-0.144282</td>\n",
       "      <td>-0.270688</td>\n",
       "      <td>-0.319741</td>\n",
       "      <td>...</td>\n",
       "      <td>0.684981</td>\n",
       "      <td>0.706477</td>\n",
       "      <td>1.124786</td>\n",
       "      <td>1.028890</td>\n",
       "      <td>1.0</td>\n",
       "      <td>-0.935457</td>\n",
       "      <td>-0.927506</td>\n",
       "      <td>-0.879952</td>\n",
       "      <td>-0.578568</td>\n",
       "      <td>alphari</td>\n",
       "    </tr>\n",
       "    <tr>\n",
       "      <th>...</th>\n",
       "      <td>...</td>\n",
       "      <td>...</td>\n",
       "      <td>...</td>\n",
       "      <td>...</td>\n",
       "      <td>...</td>\n",
       "      <td>...</td>\n",
       "      <td>...</td>\n",
       "      <td>...</td>\n",
       "      <td>...</td>\n",
       "      <td>...</td>\n",
       "      <td>...</td>\n",
       "      <td>...</td>\n",
       "      <td>...</td>\n",
       "      <td>...</td>\n",
       "      <td>...</td>\n",
       "      <td>...</td>\n",
       "      <td>...</td>\n",
       "      <td>...</td>\n",
       "      <td>...</td>\n",
       "      <td>...</td>\n",
       "      <td>...</td>\n",
       "    </tr>\n",
       "    <tr>\n",
       "      <th>11366</th>\n",
       "      <td>2.194589</td>\n",
       "      <td>1.512592</td>\n",
       "      <td>1.0</td>\n",
       "      <td>-0.086054</td>\n",
       "      <td>1.452148</td>\n",
       "      <td>0.014127</td>\n",
       "      <td>-0.357208</td>\n",
       "      <td>-0.144282</td>\n",
       "      <td>-0.270688</td>\n",
       "      <td>-0.319741</td>\n",
       "      <td>...</td>\n",
       "      <td>-1.369961</td>\n",
       "      <td>-2.216284</td>\n",
       "      <td>1.344809</td>\n",
       "      <td>-1.166340</td>\n",
       "      <td>-1.0</td>\n",
       "      <td>-1.297442</td>\n",
       "      <td>1.078160</td>\n",
       "      <td>1.549707</td>\n",
       "      <td>-1.036377</td>\n",
       "      <td>pk</td>\n",
       "    </tr>\n",
       "    <tr>\n",
       "      <th>11367</th>\n",
       "      <td>2.194589</td>\n",
       "      <td>1.512592</td>\n",
       "      <td>0.0</td>\n",
       "      <td>-0.086054</td>\n",
       "      <td>-0.236493</td>\n",
       "      <td>0.288397</td>\n",
       "      <td>-0.357208</td>\n",
       "      <td>-0.144282</td>\n",
       "      <td>-0.270688</td>\n",
       "      <td>-0.319741</td>\n",
       "      <td>...</td>\n",
       "      <td>1.369961</td>\n",
       "      <td>-2.216284</td>\n",
       "      <td>1.344809</td>\n",
       "      <td>-1.166340</td>\n",
       "      <td>1.0</td>\n",
       "      <td>1.598440</td>\n",
       "      <td>1.078160</td>\n",
       "      <td>-0.096191</td>\n",
       "      <td>-1.036377</td>\n",
       "      <td>erssu</td>\n",
       "    </tr>\n",
       "    <tr>\n",
       "      <th>11368</th>\n",
       "      <td>2.194589</td>\n",
       "      <td>1.512592</td>\n",
       "      <td>0.0</td>\n",
       "      <td>-0.590258</td>\n",
       "      <td>-0.236493</td>\n",
       "      <td>-1.082950</td>\n",
       "      <td>-0.357208</td>\n",
       "      <td>-0.144282</td>\n",
       "      <td>-0.270688</td>\n",
       "      <td>-0.319741</td>\n",
       "      <td>...</td>\n",
       "      <td>0.570817</td>\n",
       "      <td>-2.216284</td>\n",
       "      <td>1.344809</td>\n",
       "      <td>0.353435</td>\n",
       "      <td>-1.0</td>\n",
       "      <td>1.598440</td>\n",
       "      <td>1.078160</td>\n",
       "      <td>-0.096191</td>\n",
       "      <td>-1.036377</td>\n",
       "      <td>erssu</td>\n",
       "    </tr>\n",
       "    <tr>\n",
       "      <th>11369</th>\n",
       "      <td>2.194589</td>\n",
       "      <td>1.512592</td>\n",
       "      <td>1.0</td>\n",
       "      <td>-0.086054</td>\n",
       "      <td>-0.236493</td>\n",
       "      <td>-0.808681</td>\n",
       "      <td>-0.357208</td>\n",
       "      <td>-0.144282</td>\n",
       "      <td>-0.270688</td>\n",
       "      <td>-0.319741</td>\n",
       "      <td>...</td>\n",
       "      <td>-0.570817</td>\n",
       "      <td>-2.216284</td>\n",
       "      <td>1.344809</td>\n",
       "      <td>0.353435</td>\n",
       "      <td>1.0</td>\n",
       "      <td>-0.528223</td>\n",
       "      <td>1.078160</td>\n",
       "      <td>1.549707</td>\n",
       "      <td>-1.036377</td>\n",
       "      <td>pk</td>\n",
       "    </tr>\n",
       "    <tr>\n",
       "      <th>11370</th>\n",
       "      <td>2.194589</td>\n",
       "      <td>1.512592</td>\n",
       "      <td>1.0</td>\n",
       "      <td>0.922353</td>\n",
       "      <td>-1.362253</td>\n",
       "      <td>1.659744</td>\n",
       "      <td>2.033126</td>\n",
       "      <td>6.650100</td>\n",
       "      <td>-0.270688</td>\n",
       "      <td>-0.319741</td>\n",
       "      <td>...</td>\n",
       "      <td>0.856226</td>\n",
       "      <td>-2.225398</td>\n",
       "      <td>1.344809</td>\n",
       "      <td>-0.490885</td>\n",
       "      <td>-1.0</td>\n",
       "      <td>-1.297442</td>\n",
       "      <td>1.078160</td>\n",
       "      <td>1.549707</td>\n",
       "      <td>-1.036377</td>\n",
       "      <td>pk</td>\n",
       "    </tr>\n",
       "    <tr>\n",
       "      <th>11371</th>\n",
       "      <td>2.194589</td>\n",
       "      <td>1.512592</td>\n",
       "      <td>0.0</td>\n",
       "      <td>-1.094462</td>\n",
       "      <td>1.452148</td>\n",
       "      <td>-0.808681</td>\n",
       "      <td>-0.357208</td>\n",
       "      <td>-0.144282</td>\n",
       "      <td>-0.270688</td>\n",
       "      <td>-0.319741</td>\n",
       "      <td>...</td>\n",
       "      <td>-0.856226</td>\n",
       "      <td>-2.225398</td>\n",
       "      <td>1.344809</td>\n",
       "      <td>-0.490885</td>\n",
       "      <td>1.0</td>\n",
       "      <td>1.598440</td>\n",
       "      <td>1.078160</td>\n",
       "      <td>-0.096191</td>\n",
       "      <td>-1.036377</td>\n",
       "      <td>erssu</td>\n",
       "    </tr>\n",
       "    <tr>\n",
       "      <th>11372</th>\n",
       "      <td>2.194589</td>\n",
       "      <td>1.512592</td>\n",
       "      <td>1.0</td>\n",
       "      <td>-1.094462</td>\n",
       "      <td>-1.362253</td>\n",
       "      <td>0.288397</td>\n",
       "      <td>-0.357208</td>\n",
       "      <td>-0.144282</td>\n",
       "      <td>-0.270688</td>\n",
       "      <td>-0.319741</td>\n",
       "      <td>...</td>\n",
       "      <td>-0.456654</td>\n",
       "      <td>-2.225398</td>\n",
       "      <td>1.344809</td>\n",
       "      <td>1.028890</td>\n",
       "      <td>-1.0</td>\n",
       "      <td>-1.297442</td>\n",
       "      <td>1.078160</td>\n",
       "      <td>1.053325</td>\n",
       "      <td>-1.036377</td>\n",
       "      <td>rest</td>\n",
       "    </tr>\n",
       "    <tr>\n",
       "      <th>11373</th>\n",
       "      <td>2.194589</td>\n",
       "      <td>1.512592</td>\n",
       "      <td>0.0</td>\n",
       "      <td>-1.094462</td>\n",
       "      <td>-0.236493</td>\n",
       "      <td>-1.082950</td>\n",
       "      <td>-0.357208</td>\n",
       "      <td>-0.144282</td>\n",
       "      <td>-0.270688</td>\n",
       "      <td>-0.319741</td>\n",
       "      <td>...</td>\n",
       "      <td>0.456654</td>\n",
       "      <td>-2.225398</td>\n",
       "      <td>1.344809</td>\n",
       "      <td>1.028890</td>\n",
       "      <td>1.0</td>\n",
       "      <td>-1.025953</td>\n",
       "      <td>1.078160</td>\n",
       "      <td>-0.958328</td>\n",
       "      <td>-1.036377</td>\n",
       "      <td>3z</td>\n",
       "    </tr>\n",
       "    <tr>\n",
       "      <th>11374</th>\n",
       "      <td>2.194589</td>\n",
       "      <td>1.512592</td>\n",
       "      <td>0.0</td>\n",
       "      <td>-0.086054</td>\n",
       "      <td>-0.799373</td>\n",
       "      <td>-0.808681</td>\n",
       "      <td>-0.357208</td>\n",
       "      <td>-0.144282</td>\n",
       "      <td>3.694295</td>\n",
       "      <td>-0.319741</td>\n",
       "      <td>...</td>\n",
       "      <td>2.112024</td>\n",
       "      <td>-2.225398</td>\n",
       "      <td>1.344809</td>\n",
       "      <td>-1.166340</td>\n",
       "      <td>-1.0</td>\n",
       "      <td>-1.297442</td>\n",
       "      <td>1.078160</td>\n",
       "      <td>1.053325</td>\n",
       "      <td>-1.036377</td>\n",
       "      <td>rest</td>\n",
       "    </tr>\n",
       "    <tr>\n",
       "      <th>11375</th>\n",
       "      <td>2.194589</td>\n",
       "      <td>1.512592</td>\n",
       "      <td>1.0</td>\n",
       "      <td>-0.086054</td>\n",
       "      <td>-0.236493</td>\n",
       "      <td>0.288397</td>\n",
       "      <td>-0.357208</td>\n",
       "      <td>-0.144282</td>\n",
       "      <td>-0.270688</td>\n",
       "      <td>-0.319741</td>\n",
       "      <td>...</td>\n",
       "      <td>-2.112024</td>\n",
       "      <td>-2.225398</td>\n",
       "      <td>1.344809</td>\n",
       "      <td>-1.166340</td>\n",
       "      <td>1.0</td>\n",
       "      <td>1.055462</td>\n",
       "      <td>1.078160</td>\n",
       "      <td>-0.958328</td>\n",
       "      <td>-1.036377</td>\n",
       "      <td>3z</td>\n",
       "    </tr>\n",
       "    <tr>\n",
       "      <th>11376</th>\n",
       "      <td>2.194589</td>\n",
       "      <td>1.512592</td>\n",
       "      <td>1.0</td>\n",
       "      <td>-1.094462</td>\n",
       "      <td>-0.799373</td>\n",
       "      <td>0.014127</td>\n",
       "      <td>-0.357208</td>\n",
       "      <td>-0.144282</td>\n",
       "      <td>-0.270688</td>\n",
       "      <td>-0.319741</td>\n",
       "      <td>...</td>\n",
       "      <td>-0.285409</td>\n",
       "      <td>-2.225398</td>\n",
       "      <td>1.344809</td>\n",
       "      <td>0.353435</td>\n",
       "      <td>-1.0</td>\n",
       "      <td>0.512484</td>\n",
       "      <td>1.078160</td>\n",
       "      <td>1.053325</td>\n",
       "      <td>-1.036377</td>\n",
       "      <td>rest</td>\n",
       "    </tr>\n",
       "    <tr>\n",
       "      <th>11377</th>\n",
       "      <td>2.194589</td>\n",
       "      <td>1.512592</td>\n",
       "      <td>0.0</td>\n",
       "      <td>-0.086054</td>\n",
       "      <td>-0.236493</td>\n",
       "      <td>-1.082950</td>\n",
       "      <td>-0.357208</td>\n",
       "      <td>-0.144282</td>\n",
       "      <td>-0.270688</td>\n",
       "      <td>-0.319741</td>\n",
       "      <td>...</td>\n",
       "      <td>0.285409</td>\n",
       "      <td>-2.225398</td>\n",
       "      <td>1.344809</td>\n",
       "      <td>0.353435</td>\n",
       "      <td>1.0</td>\n",
       "      <td>-1.297442</td>\n",
       "      <td>1.078160</td>\n",
       "      <td>-0.958328</td>\n",
       "      <td>-1.036377</td>\n",
       "      <td>3z</td>\n",
       "    </tr>\n",
       "    <tr>\n",
       "      <th>11378</th>\n",
       "      <td>2.194589</td>\n",
       "      <td>1.512592</td>\n",
       "      <td>1.0</td>\n",
       "      <td>0.418149</td>\n",
       "      <td>-1.362253</td>\n",
       "      <td>-0.260142</td>\n",
       "      <td>2.033126</td>\n",
       "      <td>-0.144282</td>\n",
       "      <td>-0.270688</td>\n",
       "      <td>-0.319741</td>\n",
       "      <td>...</td>\n",
       "      <td>-0.570817</td>\n",
       "      <td>-2.225398</td>\n",
       "      <td>1.344809</td>\n",
       "      <td>-0.490885</td>\n",
       "      <td>-1.0</td>\n",
       "      <td>0.512484</td>\n",
       "      <td>1.078160</td>\n",
       "      <td>-0.958328</td>\n",
       "      <td>-1.036377</td>\n",
       "      <td>3z</td>\n",
       "    </tr>\n",
       "    <tr>\n",
       "      <th>11379</th>\n",
       "      <td>2.194589</td>\n",
       "      <td>1.512592</td>\n",
       "      <td>0.0</td>\n",
       "      <td>0.418149</td>\n",
       "      <td>-0.799373</td>\n",
       "      <td>-1.082950</td>\n",
       "      <td>-0.357208</td>\n",
       "      <td>-0.144282</td>\n",
       "      <td>-0.270688</td>\n",
       "      <td>-0.319741</td>\n",
       "      <td>...</td>\n",
       "      <td>0.570817</td>\n",
       "      <td>-2.225398</td>\n",
       "      <td>1.344809</td>\n",
       "      <td>-0.490885</td>\n",
       "      <td>1.0</td>\n",
       "      <td>1.598440</td>\n",
       "      <td>1.078160</td>\n",
       "      <td>1.053325</td>\n",
       "      <td>-1.036377</td>\n",
       "      <td>rest</td>\n",
       "    </tr>\n",
       "    <tr>\n",
       "      <th>11380</th>\n",
       "      <td>2.194589</td>\n",
       "      <td>1.512592</td>\n",
       "      <td>1.0</td>\n",
       "      <td>0.922353</td>\n",
       "      <td>-0.236493</td>\n",
       "      <td>0.562666</td>\n",
       "      <td>2.033126</td>\n",
       "      <td>-0.144282</td>\n",
       "      <td>-0.270688</td>\n",
       "      <td>-0.319741</td>\n",
       "      <td>...</td>\n",
       "      <td>-0.513736</td>\n",
       "      <td>-2.234535</td>\n",
       "      <td>1.344809</td>\n",
       "      <td>0.184571</td>\n",
       "      <td>-1.0</td>\n",
       "      <td>1.055462</td>\n",
       "      <td>1.078160</td>\n",
       "      <td>1.053325</td>\n",
       "      <td>-1.036377</td>\n",
       "      <td>rest</td>\n",
       "    </tr>\n",
       "    <tr>\n",
       "      <th>11381</th>\n",
       "      <td>2.194589</td>\n",
       "      <td>1.512592</td>\n",
       "      <td>0.0</td>\n",
       "      <td>-0.590258</td>\n",
       "      <td>0.326388</td>\n",
       "      <td>-1.357220</td>\n",
       "      <td>-0.357208</td>\n",
       "      <td>-0.144282</td>\n",
       "      <td>-0.270688</td>\n",
       "      <td>-0.319741</td>\n",
       "      <td>...</td>\n",
       "      <td>0.513736</td>\n",
       "      <td>-2.234535</td>\n",
       "      <td>1.344809</td>\n",
       "      <td>0.184571</td>\n",
       "      <td>1.0</td>\n",
       "      <td>0.512484</td>\n",
       "      <td>1.078160</td>\n",
       "      <td>-0.958328</td>\n",
       "      <td>-1.036377</td>\n",
       "      <td>3z</td>\n",
       "    </tr>\n",
       "    <tr>\n",
       "      <th>11382</th>\n",
       "      <td>2.194589</td>\n",
       "      <td>1.512592</td>\n",
       "      <td>1.0</td>\n",
       "      <td>-0.086054</td>\n",
       "      <td>-0.799373</td>\n",
       "      <td>0.836936</td>\n",
       "      <td>-0.357208</td>\n",
       "      <td>-0.144282</td>\n",
       "      <td>-0.270688</td>\n",
       "      <td>-0.319741</td>\n",
       "      <td>...</td>\n",
       "      <td>0.285409</td>\n",
       "      <td>-2.234535</td>\n",
       "      <td>1.344809</td>\n",
       "      <td>1.028890</td>\n",
       "      <td>-1.0</td>\n",
       "      <td>1.598440</td>\n",
       "      <td>1.078160</td>\n",
       "      <td>1.549707</td>\n",
       "      <td>-1.036377</td>\n",
       "      <td>pk</td>\n",
       "    </tr>\n",
       "    <tr>\n",
       "      <th>11383</th>\n",
       "      <td>2.194589</td>\n",
       "      <td>1.512592</td>\n",
       "      <td>0.0</td>\n",
       "      <td>-0.590258</td>\n",
       "      <td>-0.799373</td>\n",
       "      <td>-0.808681</td>\n",
       "      <td>-0.357208</td>\n",
       "      <td>-0.144282</td>\n",
       "      <td>-0.270688</td>\n",
       "      <td>-0.319741</td>\n",
       "      <td>...</td>\n",
       "      <td>-0.285409</td>\n",
       "      <td>-2.234535</td>\n",
       "      <td>1.344809</td>\n",
       "      <td>1.028890</td>\n",
       "      <td>1.0</td>\n",
       "      <td>-1.297442</td>\n",
       "      <td>1.078160</td>\n",
       "      <td>1.053325</td>\n",
       "      <td>-1.036377</td>\n",
       "      <td>rest</td>\n",
       "    </tr>\n",
       "    <tr>\n",
       "      <th>11384</th>\n",
       "      <td>2.194589</td>\n",
       "      <td>1.512592</td>\n",
       "      <td>0.0</td>\n",
       "      <td>-1.094462</td>\n",
       "      <td>0.889268</td>\n",
       "      <td>-0.260142</td>\n",
       "      <td>-0.357208</td>\n",
       "      <td>-0.144282</td>\n",
       "      <td>-0.270688</td>\n",
       "      <td>-0.319741</td>\n",
       "      <td>...</td>\n",
       "      <td>0.684981</td>\n",
       "      <td>-2.234535</td>\n",
       "      <td>1.344809</td>\n",
       "      <td>-1.166340</td>\n",
       "      <td>-1.0</td>\n",
       "      <td>-1.297442</td>\n",
       "      <td>1.078160</td>\n",
       "      <td>1.053325</td>\n",
       "      <td>-1.036377</td>\n",
       "      <td>rest</td>\n",
       "    </tr>\n",
       "    <tr>\n",
       "      <th>11385</th>\n",
       "      <td>2.194589</td>\n",
       "      <td>1.512592</td>\n",
       "      <td>1.0</td>\n",
       "      <td>1.930761</td>\n",
       "      <td>-0.799373</td>\n",
       "      <td>1.659744</td>\n",
       "      <td>-0.357208</td>\n",
       "      <td>-0.144282</td>\n",
       "      <td>3.694295</td>\n",
       "      <td>-0.319741</td>\n",
       "      <td>...</td>\n",
       "      <td>-0.684981</td>\n",
       "      <td>-2.234535</td>\n",
       "      <td>1.344809</td>\n",
       "      <td>-1.166340</td>\n",
       "      <td>1.0</td>\n",
       "      <td>1.598440</td>\n",
       "      <td>1.078160</td>\n",
       "      <td>1.549707</td>\n",
       "      <td>-1.036377</td>\n",
       "      <td>pk</td>\n",
       "    </tr>\n",
       "    <tr>\n",
       "      <th>11386</th>\n",
       "      <td>2.194589</td>\n",
       "      <td>1.512592</td>\n",
       "      <td>1.0</td>\n",
       "      <td>-0.086054</td>\n",
       "      <td>-0.799373</td>\n",
       "      <td>-0.260142</td>\n",
       "      <td>-0.357208</td>\n",
       "      <td>-0.144282</td>\n",
       "      <td>-0.270688</td>\n",
       "      <td>-0.319741</td>\n",
       "      <td>...</td>\n",
       "      <td>1.598288</td>\n",
       "      <td>-2.234535</td>\n",
       "      <td>1.344809</td>\n",
       "      <td>0.353435</td>\n",
       "      <td>-1.0</td>\n",
       "      <td>-1.297442</td>\n",
       "      <td>1.078160</td>\n",
       "      <td>1.549707</td>\n",
       "      <td>-1.036377</td>\n",
       "      <td>pk</td>\n",
       "    </tr>\n",
       "    <tr>\n",
       "      <th>11387</th>\n",
       "      <td>2.194589</td>\n",
       "      <td>1.512592</td>\n",
       "      <td>0.0</td>\n",
       "      <td>-0.590258</td>\n",
       "      <td>0.326388</td>\n",
       "      <td>-0.534411</td>\n",
       "      <td>-0.357208</td>\n",
       "      <td>-0.144282</td>\n",
       "      <td>-0.270688</td>\n",
       "      <td>-0.319741</td>\n",
       "      <td>...</td>\n",
       "      <td>-1.598288</td>\n",
       "      <td>-2.234535</td>\n",
       "      <td>1.344809</td>\n",
       "      <td>0.353435</td>\n",
       "      <td>1.0</td>\n",
       "      <td>1.055462</td>\n",
       "      <td>1.078160</td>\n",
       "      <td>1.053325</td>\n",
       "      <td>-1.036377</td>\n",
       "      <td>rest</td>\n",
       "    </tr>\n",
       "    <tr>\n",
       "      <th>11388</th>\n",
       "      <td>1.338157</td>\n",
       "      <td>1.430375</td>\n",
       "      <td>0.0</td>\n",
       "      <td>-0.590258</td>\n",
       "      <td>0.889268</td>\n",
       "      <td>-0.808681</td>\n",
       "      <td>-0.357208</td>\n",
       "      <td>-0.144282</td>\n",
       "      <td>-0.270688</td>\n",
       "      <td>-0.319741</td>\n",
       "      <td>...</td>\n",
       "      <td>0.342490</td>\n",
       "      <td>-2.180057</td>\n",
       "      <td>-1.075438</td>\n",
       "      <td>1.028890</td>\n",
       "      <td>-1.0</td>\n",
       "      <td>-1.297442</td>\n",
       "      <td>1.078160</td>\n",
       "      <td>0.243439</td>\n",
       "      <td>-1.494186</td>\n",
       "      <td>fabfabulous</td>\n",
       "    </tr>\n",
       "    <tr>\n",
       "      <th>11389</th>\n",
       "      <td>1.338157</td>\n",
       "      <td>1.430375</td>\n",
       "      <td>1.0</td>\n",
       "      <td>0.418149</td>\n",
       "      <td>-0.799373</td>\n",
       "      <td>0.562666</td>\n",
       "      <td>-0.357208</td>\n",
       "      <td>-0.144282</td>\n",
       "      <td>-0.270688</td>\n",
       "      <td>-0.319741</td>\n",
       "      <td>...</td>\n",
       "      <td>-0.342490</td>\n",
       "      <td>-2.180057</td>\n",
       "      <td>-1.075438</td>\n",
       "      <td>1.028890</td>\n",
       "      <td>1.0</td>\n",
       "      <td>0.512484</td>\n",
       "      <td>1.078160</td>\n",
       "      <td>0.739820</td>\n",
       "      <td>-1.494186</td>\n",
       "      <td>broken blade</td>\n",
       "    </tr>\n",
       "    <tr>\n",
       "      <th>11390</th>\n",
       "      <td>1.338157</td>\n",
       "      <td>1.430375</td>\n",
       "      <td>0.0</td>\n",
       "      <td>-0.590258</td>\n",
       "      <td>0.889268</td>\n",
       "      <td>0.014127</td>\n",
       "      <td>-0.357208</td>\n",
       "      <td>-0.144282</td>\n",
       "      <td>-0.270688</td>\n",
       "      <td>-0.319741</td>\n",
       "      <td>...</td>\n",
       "      <td>-1.484125</td>\n",
       "      <td>-2.180057</td>\n",
       "      <td>-1.075438</td>\n",
       "      <td>-1.166340</td>\n",
       "      <td>-1.0</td>\n",
       "      <td>0.512484</td>\n",
       "      <td>1.078160</td>\n",
       "      <td>0.739820</td>\n",
       "      <td>-1.494186</td>\n",
       "      <td>broken blade</td>\n",
       "    </tr>\n",
       "    <tr>\n",
       "      <th>11391</th>\n",
       "      <td>1.338157</td>\n",
       "      <td>1.430375</td>\n",
       "      <td>1.0</td>\n",
       "      <td>1.426557</td>\n",
       "      <td>-0.799373</td>\n",
       "      <td>0.288397</td>\n",
       "      <td>2.033126</td>\n",
       "      <td>-0.144282</td>\n",
       "      <td>-0.270688</td>\n",
       "      <td>-0.319741</td>\n",
       "      <td>...</td>\n",
       "      <td>1.484125</td>\n",
       "      <td>-2.180057</td>\n",
       "      <td>-1.075438</td>\n",
       "      <td>-1.166340</td>\n",
       "      <td>1.0</td>\n",
       "      <td>1.598440</td>\n",
       "      <td>1.078160</td>\n",
       "      <td>0.243439</td>\n",
       "      <td>-1.494186</td>\n",
       "      <td>fabfabulous</td>\n",
       "    </tr>\n",
       "    <tr>\n",
       "      <th>11392</th>\n",
       "      <td>1.338157</td>\n",
       "      <td>1.430375</td>\n",
       "      <td>1.0</td>\n",
       "      <td>0.418149</td>\n",
       "      <td>0.889268</td>\n",
       "      <td>0.288397</td>\n",
       "      <td>2.033126</td>\n",
       "      <td>-0.144282</td>\n",
       "      <td>-0.270688</td>\n",
       "      <td>-0.319741</td>\n",
       "      <td>...</td>\n",
       "      <td>-0.799144</td>\n",
       "      <td>-2.189080</td>\n",
       "      <td>-1.075438</td>\n",
       "      <td>0.353435</td>\n",
       "      <td>-1.0</td>\n",
       "      <td>-0.301983</td>\n",
       "      <td>1.078160</td>\n",
       "      <td>0.243439</td>\n",
       "      <td>-1.494186</td>\n",
       "      <td>fabfabulous</td>\n",
       "    </tr>\n",
       "    <tr>\n",
       "      <th>11393</th>\n",
       "      <td>1.338157</td>\n",
       "      <td>1.430375</td>\n",
       "      <td>0.0</td>\n",
       "      <td>-0.590258</td>\n",
       "      <td>0.889268</td>\n",
       "      <td>0.562666</td>\n",
       "      <td>-0.357208</td>\n",
       "      <td>-0.144282</td>\n",
       "      <td>-0.270688</td>\n",
       "      <td>-0.319741</td>\n",
       "      <td>...</td>\n",
       "      <td>0.799144</td>\n",
       "      <td>-2.189080</td>\n",
       "      <td>-1.075438</td>\n",
       "      <td>0.353435</td>\n",
       "      <td>1.0</td>\n",
       "      <td>0.512484</td>\n",
       "      <td>1.078160</td>\n",
       "      <td>0.739820</td>\n",
       "      <td>-1.494186</td>\n",
       "      <td>broken blade</td>\n",
       "    </tr>\n",
       "    <tr>\n",
       "      <th>11394</th>\n",
       "      <td>1.338157</td>\n",
       "      <td>1.430375</td>\n",
       "      <td>0.0</td>\n",
       "      <td>2.434965</td>\n",
       "      <td>0.326388</td>\n",
       "      <td>0.562666</td>\n",
       "      <td>2.033126</td>\n",
       "      <td>-0.144282</td>\n",
       "      <td>-0.270688</td>\n",
       "      <td>-0.319741</td>\n",
       "      <td>...</td>\n",
       "      <td>0.570817</td>\n",
       "      <td>-2.189080</td>\n",
       "      <td>-1.075438</td>\n",
       "      <td>-0.490885</td>\n",
       "      <td>-1.0</td>\n",
       "      <td>1.598440</td>\n",
       "      <td>1.078160</td>\n",
       "      <td>0.739820</td>\n",
       "      <td>-1.494186</td>\n",
       "      <td>broken blade</td>\n",
       "    </tr>\n",
       "    <tr>\n",
       "      <th>11395</th>\n",
       "      <td>1.338157</td>\n",
       "      <td>1.430375</td>\n",
       "      <td>1.0</td>\n",
       "      <td>-0.086054</td>\n",
       "      <td>0.889268</td>\n",
       "      <td>0.562666</td>\n",
       "      <td>-0.357208</td>\n",
       "      <td>-0.144282</td>\n",
       "      <td>-0.270688</td>\n",
       "      <td>-0.319741</td>\n",
       "      <td>...</td>\n",
       "      <td>-0.570817</td>\n",
       "      <td>-2.189080</td>\n",
       "      <td>-1.075438</td>\n",
       "      <td>-0.490885</td>\n",
       "      <td>1.0</td>\n",
       "      <td>-1.297442</td>\n",
       "      <td>1.078160</td>\n",
       "      <td>0.243439</td>\n",
       "      <td>-1.494186</td>\n",
       "      <td>fabfabulous</td>\n",
       "    </tr>\n",
       "  </tbody>\n",
       "</table>\n",
       "<p>11396 rows × 59 columns</p>\n",
       "</div>"
      ],
      "text/plain": [
       "          split   patchno  result         k         d         a   doubles  \\\n",
       "0     -0.090288 -0.789490     0.0 -1.094462  0.889268 -0.534411 -0.357208   \n",
       "1     -0.090288 -0.789490     1.0  1.426557 -0.236493 -0.260142  2.033126   \n",
       "2     -0.090288 -0.789490     0.0 -1.094462  0.889268 -0.260142 -0.357208   \n",
       "3     -0.090288 -0.789490     1.0  0.418149 -0.236493  0.014127  2.033126   \n",
       "4     -0.090288 -0.789490     1.0 -0.590258 -0.799373  0.836936 -0.357208   \n",
       "5     -0.090288 -0.789490     0.0 -1.094462 -0.799373 -0.534411 -0.357208   \n",
       "6     -0.090288 -0.789490     1.0  1.426557  0.326388  1.111205  2.033126   \n",
       "7     -0.090288 -0.789490     0.0 -0.590258  1.452148 -0.260142 -0.357208   \n",
       "8     -0.090288 -0.789490     0.0 -1.094462 -0.236493 -0.808681 -0.357208   \n",
       "9     -0.090288 -0.789490     1.0  1.426557 -0.799373  0.014127  2.033126   \n",
       "10    -0.090288 -0.789490     1.0 -1.094462 -0.236493  1.111205 -0.357208   \n",
       "11    -0.090288 -0.789490     0.0 -0.590258  0.889268 -1.082950 -0.357208   \n",
       "12    -0.090288 -0.789490     1.0  1.930761  0.889268  0.288397 -0.357208   \n",
       "13    -0.090288 -0.789490     0.0 -1.094462  2.015029  0.014127 -0.357208   \n",
       "14    -0.090288 -0.789490     0.0 -1.094462  1.452148 -0.534411 -0.357208   \n",
       "15    -0.090288 -0.789490     1.0  1.426557 -0.799373  0.562666  2.033126   \n",
       "16    -0.090288 -0.789490     1.0 -0.590258 -0.236493  0.562666 -0.357208   \n",
       "17    -0.090288 -0.789490     0.0 -0.086054  0.326388 -0.534411 -0.357208   \n",
       "18    -0.090288 -0.789490     0.0 -0.086054  0.889268 -1.082950 -0.357208   \n",
       "19    -0.090288 -0.789490     1.0  2.939169 -0.236493 -0.808681  2.033126   \n",
       "20    -0.090288 -0.789490     1.0 -0.086054  0.326388 -0.260142 -0.357208   \n",
       "21    -0.090288 -0.789490     0.0 -0.590258  0.889268  0.014127 -0.357208   \n",
       "22    -0.090288 -0.789490     1.0 -0.086054  0.889268 -0.260142 -0.357208   \n",
       "23    -0.090288 -0.789490     0.0 -1.094462  0.326388  0.014127 -0.357208   \n",
       "24    -0.090288 -0.789490     0.0 -1.094462  3.140789  0.288397 -0.357208   \n",
       "25    -0.090288 -0.789490     1.0 -0.086054 -0.236493  1.385475 -0.357208   \n",
       "26    -0.090288 -0.789490     1.0 -0.086054 -1.362253 -0.534411 -0.357208   \n",
       "27    -0.090288 -0.789490     0.0 -1.094462  0.326388 -1.357220 -0.357208   \n",
       "28    -0.090288 -0.789490     1.0  0.418149 -1.362253  1.385475 -0.357208   \n",
       "29    -0.090288 -0.789490     0.0 -1.094462  0.889268 -1.357220 -0.357208   \n",
       "...         ...       ...     ...       ...       ...       ...       ...   \n",
       "11366  2.194589  1.512592     1.0 -0.086054  1.452148  0.014127 -0.357208   \n",
       "11367  2.194589  1.512592     0.0 -0.086054 -0.236493  0.288397 -0.357208   \n",
       "11368  2.194589  1.512592     0.0 -0.590258 -0.236493 -1.082950 -0.357208   \n",
       "11369  2.194589  1.512592     1.0 -0.086054 -0.236493 -0.808681 -0.357208   \n",
       "11370  2.194589  1.512592     1.0  0.922353 -1.362253  1.659744  2.033126   \n",
       "11371  2.194589  1.512592     0.0 -1.094462  1.452148 -0.808681 -0.357208   \n",
       "11372  2.194589  1.512592     1.0 -1.094462 -1.362253  0.288397 -0.357208   \n",
       "11373  2.194589  1.512592     0.0 -1.094462 -0.236493 -1.082950 -0.357208   \n",
       "11374  2.194589  1.512592     0.0 -0.086054 -0.799373 -0.808681 -0.357208   \n",
       "11375  2.194589  1.512592     1.0 -0.086054 -0.236493  0.288397 -0.357208   \n",
       "11376  2.194589  1.512592     1.0 -1.094462 -0.799373  0.014127 -0.357208   \n",
       "11377  2.194589  1.512592     0.0 -0.086054 -0.236493 -1.082950 -0.357208   \n",
       "11378  2.194589  1.512592     1.0  0.418149 -1.362253 -0.260142  2.033126   \n",
       "11379  2.194589  1.512592     0.0  0.418149 -0.799373 -1.082950 -0.357208   \n",
       "11380  2.194589  1.512592     1.0  0.922353 -0.236493  0.562666  2.033126   \n",
       "11381  2.194589  1.512592     0.0 -0.590258  0.326388 -1.357220 -0.357208   \n",
       "11382  2.194589  1.512592     1.0 -0.086054 -0.799373  0.836936 -0.357208   \n",
       "11383  2.194589  1.512592     0.0 -0.590258 -0.799373 -0.808681 -0.357208   \n",
       "11384  2.194589  1.512592     0.0 -1.094462  0.889268 -0.260142 -0.357208   \n",
       "11385  2.194589  1.512592     1.0  1.930761 -0.799373  1.659744 -0.357208   \n",
       "11386  2.194589  1.512592     1.0 -0.086054 -0.799373 -0.260142 -0.357208   \n",
       "11387  2.194589  1.512592     0.0 -0.590258  0.326388 -0.534411 -0.357208   \n",
       "11388  1.338157  1.430375     0.0 -0.590258  0.889268 -0.808681 -0.357208   \n",
       "11389  1.338157  1.430375     1.0  0.418149 -0.799373  0.562666 -0.357208   \n",
       "11390  1.338157  1.430375     0.0 -0.590258  0.889268  0.014127 -0.357208   \n",
       "11391  1.338157  1.430375     1.0  1.426557 -0.799373  0.288397  2.033126   \n",
       "11392  1.338157  1.430375     1.0  0.418149  0.889268  0.288397  2.033126   \n",
       "11393  1.338157  1.430375     0.0 -0.590258  0.889268  0.562666 -0.357208   \n",
       "11394  1.338157  1.430375     0.0  2.434965  0.326388  0.562666  2.033126   \n",
       "11395  1.338157  1.430375     1.0 -0.086054  0.889268  0.562666 -0.357208   \n",
       "\n",
       "        triples        fb  fbassist  ...   csdat15  datediff  Encoded_league  \\\n",
       "0     -0.144282 -0.270688 -0.319741  ... -1.541207  0.719855        0.904764   \n",
       "1     -0.144282 -0.270688 -0.319741  ...  1.541207  0.719855        0.904764   \n",
       "2     -0.144282 -0.270688  3.127532  ...  1.541207  0.719855        0.904764   \n",
       "3     -0.144282 -0.270688 -0.319741  ... -1.541207  0.719855        0.904764   \n",
       "4     -0.144282 -0.270688 -0.319741  ... -0.171245  0.719855        0.904764   \n",
       "5     -0.144282 -0.270688  3.127532  ...  0.171245  0.719855        0.904764   \n",
       "6     -0.144282 -0.270688 -0.319741  ...  0.114163  0.719855        0.904764   \n",
       "7     -0.144282 -0.270688 -0.319741  ... -0.114163  0.719855        0.904764   \n",
       "8     -0.144282 -0.270688 -0.319741  ...  1.141635  0.719855        0.904764   \n",
       "9     -0.144282 -0.270688 -0.319741  ... -1.141635  0.719855        0.904764   \n",
       "10    -0.144282 -0.270688 -0.319741  ... -1.940779  0.715400        0.904764   \n",
       "11    -0.144282 -0.270688  3.127532  ...  1.940779  0.715400        0.904764   \n",
       "12    -0.144282  3.694295 -0.319741  ...  2.625759  0.715400        0.904764   \n",
       "13    -0.144282 -0.270688 -0.319741  ... -2.625759  0.715400        0.904764   \n",
       "14    -0.144282 -0.270688 -0.319741  ... -1.084553  0.715400        0.904764   \n",
       "15    -0.144282 -0.270688  3.127532  ...  1.084553  0.715400        0.904764   \n",
       "16    -0.144282 -0.270688 -0.319741  ... -0.285409  0.706477        1.124786   \n",
       "17    -0.144282 -0.270688 -0.319741  ...  0.285409  0.706477        1.124786   \n",
       "18    -0.144282 -0.270688 -0.319741  ...  0.000000  0.706477        1.124786   \n",
       "19    -0.144282 -0.270688 -0.319741  ...  0.000000  0.706477        1.124786   \n",
       "20    -0.144282 -0.270688 -0.319741  ...  1.712452  0.710941        0.904764   \n",
       "21    -0.144282 -0.270688 -0.319741  ... -1.712452  0.710941        0.904764   \n",
       "22    -0.144282 -0.270688 -0.319741  ... -0.856226  0.710941        0.904764   \n",
       "23    -0.144282 -0.270688  3.127532  ...  0.856226  0.710941        0.904764   \n",
       "24    -0.144282 -0.270688 -0.319741  ... -2.511596  0.710941        0.904764   \n",
       "25    -0.144282 -0.270688  3.127532  ...  2.511596  0.710941        0.904764   \n",
       "26    -0.144282 -0.270688 -0.319741  ... -0.684981  0.710941        0.904764   \n",
       "27    -0.144282 -0.270688 -0.319741  ...  0.684981  0.710941        0.904764   \n",
       "28    -0.144282  3.694295 -0.319741  ... -0.684981  0.706477        1.124786   \n",
       "29    -0.144282 -0.270688 -0.319741  ...  0.684981  0.706477        1.124786   \n",
       "...         ...       ...       ...  ...       ...       ...             ...   \n",
       "11366 -0.144282 -0.270688 -0.319741  ... -1.369961 -2.216284        1.344809   \n",
       "11367 -0.144282 -0.270688 -0.319741  ...  1.369961 -2.216284        1.344809   \n",
       "11368 -0.144282 -0.270688 -0.319741  ...  0.570817 -2.216284        1.344809   \n",
       "11369 -0.144282 -0.270688 -0.319741  ... -0.570817 -2.216284        1.344809   \n",
       "11370  6.650100 -0.270688 -0.319741  ...  0.856226 -2.225398        1.344809   \n",
       "11371 -0.144282 -0.270688 -0.319741  ... -0.856226 -2.225398        1.344809   \n",
       "11372 -0.144282 -0.270688 -0.319741  ... -0.456654 -2.225398        1.344809   \n",
       "11373 -0.144282 -0.270688 -0.319741  ...  0.456654 -2.225398        1.344809   \n",
       "11374 -0.144282  3.694295 -0.319741  ...  2.112024 -2.225398        1.344809   \n",
       "11375 -0.144282 -0.270688 -0.319741  ... -2.112024 -2.225398        1.344809   \n",
       "11376 -0.144282 -0.270688 -0.319741  ... -0.285409 -2.225398        1.344809   \n",
       "11377 -0.144282 -0.270688 -0.319741  ...  0.285409 -2.225398        1.344809   \n",
       "11378 -0.144282 -0.270688 -0.319741  ... -0.570817 -2.225398        1.344809   \n",
       "11379 -0.144282 -0.270688 -0.319741  ...  0.570817 -2.225398        1.344809   \n",
       "11380 -0.144282 -0.270688 -0.319741  ... -0.513736 -2.234535        1.344809   \n",
       "11381 -0.144282 -0.270688 -0.319741  ...  0.513736 -2.234535        1.344809   \n",
       "11382 -0.144282 -0.270688 -0.319741  ...  0.285409 -2.234535        1.344809   \n",
       "11383 -0.144282 -0.270688 -0.319741  ... -0.285409 -2.234535        1.344809   \n",
       "11384 -0.144282 -0.270688 -0.319741  ...  0.684981 -2.234535        1.344809   \n",
       "11385 -0.144282  3.694295 -0.319741  ... -0.684981 -2.234535        1.344809   \n",
       "11386 -0.144282 -0.270688 -0.319741  ...  1.598288 -2.234535        1.344809   \n",
       "11387 -0.144282 -0.270688 -0.319741  ... -1.598288 -2.234535        1.344809   \n",
       "11388 -0.144282 -0.270688 -0.319741  ...  0.342490 -2.180057       -1.075438   \n",
       "11389 -0.144282 -0.270688 -0.319741  ... -0.342490 -2.180057       -1.075438   \n",
       "11390 -0.144282 -0.270688 -0.319741  ... -1.484125 -2.180057       -1.075438   \n",
       "11391 -0.144282 -0.270688 -0.319741  ...  1.484125 -2.180057       -1.075438   \n",
       "11392 -0.144282 -0.270688 -0.319741  ... -0.799144 -2.189080       -1.075438   \n",
       "11393 -0.144282 -0.270688 -0.319741  ...  0.799144 -2.189080       -1.075438   \n",
       "11394 -0.144282 -0.270688 -0.319741  ...  0.570817 -2.189080       -1.075438   \n",
       "11395 -0.144282 -0.270688 -0.319741  ... -0.570817 -2.189080       -1.075438   \n",
       "\n",
       "       Encoded_game  Encoded_side  Encoded_champion  Encoded_Year  \\\n",
       "0          1.028890          -1.0          0.150499     -0.927506   \n",
       "1          1.028890           1.0         -0.573472     -0.927506   \n",
       "2         -1.166340          -1.0         -0.890209     -0.927506   \n",
       "3         -1.166340           1.0          0.150499     -0.927506   \n",
       "4          0.353435          -1.0          0.150499     -0.927506   \n",
       "5          0.353435           1.0         -1.116449     -0.927506   \n",
       "6          1.028890          -1.0         -0.890209     -0.927506   \n",
       "7          1.028890           1.0         -1.116449     -0.927506   \n",
       "8         -1.166340          -1.0          0.693477     -0.927506   \n",
       "9         -1.166340           1.0         -0.890209     -0.927506   \n",
       "10         1.028890          -1.0          1.010214     -0.927506   \n",
       "11         1.028890           1.0         -0.347231     -0.927506   \n",
       "12        -1.166340          -1.0         -1.071201     -0.927506   \n",
       "13        -1.166340           1.0         -1.116449     -0.927506   \n",
       "14        -1.166340          -1.0         -1.071201     -0.927506   \n",
       "15        -1.166340           1.0          1.553192     -0.927506   \n",
       "16         1.028890          -1.0         -1.116449     -0.927506   \n",
       "17         1.028890           1.0         -0.890209     -0.927506   \n",
       "18        -1.166340          -1.0         -0.754464     -0.927506   \n",
       "19        -1.166340           1.0         -0.347231     -0.927506   \n",
       "20        -1.166340          -1.0         -0.935457     -0.927506   \n",
       "21        -1.166340           1.0         -0.890209     -0.927506   \n",
       "22         0.353435          -1.0         -0.347231     -0.927506   \n",
       "23         0.353435           1.0         -0.890209     -0.927506   \n",
       "24         1.028890          -1.0         -0.573472     -0.927506   \n",
       "25         1.028890           1.0          0.150499     -0.927506   \n",
       "26        -1.166340          -1.0         -0.573472     -0.927506   \n",
       "27        -1.166340           1.0         -0.935457     -0.927506   \n",
       "28         1.028890          -1.0          0.693477     -0.927506   \n",
       "29         1.028890           1.0         -0.935457     -0.927506   \n",
       "...             ...           ...               ...           ...   \n",
       "11366     -1.166340          -1.0         -1.297442      1.078160   \n",
       "11367     -1.166340           1.0          1.598440      1.078160   \n",
       "11368      0.353435          -1.0          1.598440      1.078160   \n",
       "11369      0.353435           1.0         -0.528223      1.078160   \n",
       "11370     -0.490885          -1.0         -1.297442      1.078160   \n",
       "11371     -0.490885           1.0          1.598440      1.078160   \n",
       "11372      1.028890          -1.0         -1.297442      1.078160   \n",
       "11373      1.028890           1.0         -1.025953      1.078160   \n",
       "11374     -1.166340          -1.0         -1.297442      1.078160   \n",
       "11375     -1.166340           1.0          1.055462      1.078160   \n",
       "11376      0.353435          -1.0          0.512484      1.078160   \n",
       "11377      0.353435           1.0         -1.297442      1.078160   \n",
       "11378     -0.490885          -1.0          0.512484      1.078160   \n",
       "11379     -0.490885           1.0          1.598440      1.078160   \n",
       "11380      0.184571          -1.0          1.055462      1.078160   \n",
       "11381      0.184571           1.0          0.512484      1.078160   \n",
       "11382      1.028890          -1.0          1.598440      1.078160   \n",
       "11383      1.028890           1.0         -1.297442      1.078160   \n",
       "11384     -1.166340          -1.0         -1.297442      1.078160   \n",
       "11385     -1.166340           1.0          1.598440      1.078160   \n",
       "11386      0.353435          -1.0         -1.297442      1.078160   \n",
       "11387      0.353435           1.0          1.055462      1.078160   \n",
       "11388      1.028890          -1.0         -1.297442      1.078160   \n",
       "11389      1.028890           1.0          0.512484      1.078160   \n",
       "11390     -1.166340          -1.0          0.512484      1.078160   \n",
       "11391     -1.166340           1.0          1.598440      1.078160   \n",
       "11392      0.353435          -1.0         -0.301983      1.078160   \n",
       "11393      0.353435           1.0          0.512484      1.078160   \n",
       "11394     -0.490885          -1.0          1.598440      1.078160   \n",
       "11395     -0.490885           1.0         -1.297442      1.078160   \n",
       "\n",
       "       Encoded_team  Encoded_culture        player  \n",
       "0         -1.088955         0.794858           add  \n",
       "1         -0.697074         0.794858         ikssu  \n",
       "2         -0.697074         0.794858         ikssu  \n",
       "3         -1.088955         0.794858           add  \n",
       "4         -1.088955         0.794858           add  \n",
       "5         -0.697074         0.794858         ikssu  \n",
       "6         -1.533086         0.794858          khan  \n",
       "7         -0.043940         0.794858          smeb  \n",
       "8         -0.043940         0.794858          smeb  \n",
       "9         -1.533086         0.794858          khan  \n",
       "10        -0.070066         0.794858        helper  \n",
       "11         1.497456         0.794858         marin  \n",
       "12         1.497456         0.794858         marin  \n",
       "13        -0.070066         0.794858        helper  \n",
       "14        -1.350208         0.794858          huni  \n",
       "15         0.034436         0.794858         cuvee  \n",
       "16         1.001074        -0.578568       odoamne  \n",
       "17        -1.559211        -0.578568        wunder  \n",
       "18        -1.559211        -0.578568        wunder  \n",
       "19         1.001074        -0.578568       odoamne  \n",
       "20         1.262328         0.794858         crazy  \n",
       "21        -1.533086         0.794858          khan  \n",
       "22        -1.533086         0.794858          khan  \n",
       "23         1.262328         0.794858         crazy  \n",
       "24        -0.357445         0.794858     lindarang  \n",
       "25        -0.697074         0.794858         ikssu  \n",
       "26        -0.697074         0.794858         ikssu  \n",
       "27        -0.357445         0.794858           shy  \n",
       "28         1.027199        -0.578568          soaz  \n",
       "29        -0.879952        -0.578568       alphari  \n",
       "...             ...              ...           ...  \n",
       "11366      1.549707        -1.036377            pk  \n",
       "11367     -0.096191        -1.036377         erssu  \n",
       "11368     -0.096191        -1.036377         erssu  \n",
       "11369      1.549707        -1.036377            pk  \n",
       "11370      1.549707        -1.036377            pk  \n",
       "11371     -0.096191        -1.036377         erssu  \n",
       "11372      1.053325        -1.036377          rest  \n",
       "11373     -0.958328        -1.036377            3z  \n",
       "11374      1.053325        -1.036377          rest  \n",
       "11375     -0.958328        -1.036377            3z  \n",
       "11376      1.053325        -1.036377          rest  \n",
       "11377     -0.958328        -1.036377            3z  \n",
       "11378     -0.958328        -1.036377            3z  \n",
       "11379      1.053325        -1.036377          rest  \n",
       "11380      1.053325        -1.036377          rest  \n",
       "11381     -0.958328        -1.036377            3z  \n",
       "11382      1.549707        -1.036377            pk  \n",
       "11383      1.053325        -1.036377          rest  \n",
       "11384      1.053325        -1.036377          rest  \n",
       "11385      1.549707        -1.036377            pk  \n",
       "11386      1.549707        -1.036377            pk  \n",
       "11387      1.053325        -1.036377          rest  \n",
       "11388      0.243439        -1.494186   fabfabulous  \n",
       "11389      0.739820        -1.494186  broken blade  \n",
       "11390      0.739820        -1.494186  broken blade  \n",
       "11391      0.243439        -1.494186   fabfabulous  \n",
       "11392      0.243439        -1.494186   fabfabulous  \n",
       "11393      0.739820        -1.494186  broken blade  \n",
       "11394      0.739820        -1.494186  broken blade  \n",
       "11395      0.243439        -1.494186   fabfabulous  \n",
       "\n",
       "[11396 rows x 59 columns]"
      ]
     },
     "execution_count": 13,
     "metadata": {},
     "output_type": "execute_result"
    }
   ],
   "source": [
    "# Visualize data\n",
    "data_raw"
   ]
  },
  {
   "cell_type": "code",
   "execution_count": 14,
   "metadata": {
    "ExecuteTime": {
     "end_time": "2019-07-19T13:38:57.317713Z",
     "start_time": "2019-07-19T13:38:57.264068Z"
    }
   },
   "outputs": [
    {
     "name": "stdout",
     "output_type": "stream",
     "text": [
      "Set of the different column types captured by the data:  {dtype('float64'), dtype('O')}\n",
      "The number of missing values in the data:  0\n"
     ]
    }
   ],
   "source": [
    "# Check all values are numeric\n",
    "print(\"Set of the different column types captured by the data: \", set(data_raw.dtypes))\n",
    "# Check no missing data\n",
    "print(\"The number of missing values in the data: \", sum(data_raw.isnull().any()))"
   ]
  },
  {
   "cell_type": "markdown",
   "metadata": {},
   "source": [
    "## 2. Split data in test and train data"
   ]
  },
  {
   "cell_type": "code",
   "execution_count": 15,
   "metadata": {
    "ExecuteTime": {
     "end_time": "2019-07-19T13:38:57.358773Z",
     "start_time": "2019-07-19T13:38:57.320478Z"
    },
    "scrolled": true
   },
   "outputs": [],
   "source": [
    "# Create copy of data for model building (removing team feature)\n",
    "data = data_raw.copy()\n",
    "data = data.drop(labels = ['player', 'split', 'patchno', 'Encoded_league', 'Encoded_game', 'Encoded_Year', 'Encoded_culture'], axis=1)"
   ]
  },
  {
   "cell_type": "code",
   "execution_count": 16,
   "metadata": {
    "ExecuteTime": {
     "end_time": "2019-07-19T13:38:57.373599Z",
     "start_time": "2019-07-19T13:38:57.360958Z"
    }
   },
   "outputs": [],
   "source": [
    "# Split the data\n",
    "x_train, x_test, y_train, y_test = data_splitter(data, 'result')"
   ]
  },
  {
   "cell_type": "code",
   "execution_count": 17,
   "metadata": {
    "ExecuteTime": {
     "end_time": "2019-07-19T13:38:57.420562Z",
     "start_time": "2019-07-19T13:38:57.384682Z"
    }
   },
   "outputs": [
    {
     "name": "stdout",
     "output_type": "stream",
     "text": [
      "The data is centered:  True \n",
      "The data is standardized:  False\n"
     ]
    }
   ],
   "source": [
    "# Check data is standardized and centered\n",
    "print(\"The data is centered: \", \n",
    "      all([int(x) for x in round(x_train.mean(axis = 0), 4)]) == 0,\n",
    "     \"\\nThe data is standardized: \",\n",
    "      all([int(x) for x in round(x_train.var(axis = 0), 4)]) == 1)"
   ]
  },
  {
   "cell_type": "markdown",
   "metadata": {},
   "source": [
    "## 3. Model creation"
   ]
  },
  {
   "cell_type": "code",
   "execution_count": 18,
   "metadata": {
    "ExecuteTime": {
     "end_time": "2019-07-19T13:38:57.448887Z",
     "start_time": "2019-07-19T13:38:57.422702Z"
    }
   },
   "outputs": [],
   "source": [
    "# Create dictionary to capture model summary\n",
    "logistic_L1penalty_model_dict, ridge_model_dict, elasticnet_model_dict, rf_model_dict, model_summary_dict = dict(), dict(), dict(), dict(), dict()"
   ]
  },
  {
   "cell_type": "markdown",
   "metadata": {},
   "source": [
    "### 3.1 Logistic regression with L1 penalty (Lasso classification model)\n",
    "Here, the recursive feature elimination techinique is used to initialize L1 penalization in our logistic regression model and hence allows implementation of lasso regularization."
   ]
  },
  {
   "cell_type": "markdown",
   "metadata": {},
   "source": [
    "##### Recursive feature elimination\n",
    "Given an external estimator that assigns weights to features (~coefficients), the goal of recursive feature elimination is to select features by recursively considering smaller and smaller sets of features. The estimator is trained on the initial set of features and the importance of each feature is obtained. Based on this information the least important features are pruned from the current set of features. This procedure is recursively repeated on the pruned set until the desired number of features to select is reached. To get the optimal number of features CV is used."
   ]
  },
  {
   "cell_type": "code",
   "execution_count": 19,
   "metadata": {
    "ExecuteTime": {
     "end_time": "2019-07-19T13:39:44.035354Z",
     "start_time": "2019-07-19T13:38:57.450996Z"
    },
    "scrolled": true
   },
   "outputs": [],
   "source": [
    "# By using the liblinear solver the L1 penalty is implemented\n",
    "logreg = LogisticRegression(solver='liblinear')\n",
    "rfe = RFECV(logreg, cv = 5)\n",
    "rfe = rfe.fit(x_train, y_train)"
   ]
  },
  {
   "cell_type": "code",
   "execution_count": 20,
   "metadata": {
    "ExecuteTime": {
     "end_time": "2019-07-19T13:39:44.043623Z",
     "start_time": "2019-07-19T13:39:44.038619Z"
    }
   },
   "outputs": [
    {
     "name": "stdout",
     "output_type": "stream",
     "text": [
      "Based on the recursive elimination method the following 41 features are selected:  ['k', 'd', 'a', 'doubles', 'fb', 'fbvictim', 'kpm', 'firedrakes', 'waterdrakes', 'airdrakes', 'herald', 'dmgtochamps', 'dmgtochampsperminute', 'dmgshare', 'earnedgoldshare', 'wards', 'wpm', 'wardshare', 'wardkills', 'wcpm', 'visionwards', 'totalgold', 'earnedgpm', 'goldspent', 'gspd', 'minionkills', 'monsterkills', 'monsterkillsownjungle', 'monsterkillsenemyjungle', 'cspm', 'goldat10', 'gdat10', 'goldat15', 'xpdat10', 'csat10', 'csdat10', 'csat15', 'datediff', 'Encoded_side', 'Encoded_champion', 'Encoded_team']\n"
     ]
    }
   ],
   "source": [
    "# Intermediate summary\n",
    "selected_features_rfe = [col for col, bool_importance in zip(x_train.columns.values, rfe.support_) if bool_importance]\n",
    "print(\"Based on the recursive elimination method the following\", len(selected_features_rfe),\n",
    "      \"features are selected: \", selected_features_rfe)"
   ]
  },
  {
   "cell_type": "markdown",
   "metadata": {},
   "source": [
    "Remark: The solver used by the logistic regression model is 'liblinear' which applies automatic parameter selection (L1 regularization) and is recommended when using a high dimensional dataset."
   ]
  },
  {
   "cell_type": "markdown",
   "metadata": {},
   "source": [
    "##### Model fit"
   ]
  },
  {
   "cell_type": "code",
   "execution_count": 21,
   "metadata": {
    "ExecuteTime": {
     "end_time": "2019-07-19T13:39:44.517733Z",
     "start_time": "2019-07-19T13:39:44.046133Z"
    }
   },
   "outputs": [],
   "source": [
    "# Fit the logistic regression model\n",
    "logistic_L1penalty_model = LogisticRegression(solver='liblinear')\n",
    "fitted_logistic_L1penalty_model = logistic_L1penalty_model.fit(x_train[selected_features_rfe], y_train)\n",
    "\n",
    "# Save best approximation alpha after CV\n",
    "logistic_L1penalty_model_dict['regularisation_param'] = np.nan"
   ]
  },
  {
   "cell_type": "markdown",
   "metadata": {
    "ExecuteTime": {
     "end_time": "2019-03-19T10:26:19.552084Z",
     "start_time": "2019-03-19T10:26:19.547199Z"
    }
   },
   "source": [
    "##### Model accuracy evaluation"
   ]
  },
  {
   "cell_type": "code",
   "execution_count": 22,
   "metadata": {
    "ExecuteTime": {
     "end_time": "2019-07-19T13:39:46.259562Z",
     "start_time": "2019-07-19T13:39:44.520292Z"
    }
   },
   "outputs": [
    {
     "name": "stdout",
     "output_type": "stream",
     "text": [
      "Based on a threshold of 0.5 the following summary statistics can be obtained:\n",
      " ----------------------------------------------------------------------------------------------------\n",
      "787 true positives over all positives (the wins that were correctly classified).\n",
      "58 false positives (the wins that were wrongly classified).\n",
      "810 true negatives (the losses that were correctly classified).\n",
      "55 false negatives (the losses that were wrongly classified).\n",
      "\n",
      "The sensitivity is:  0.9346793349168646\n",
      "The specificity is:  0.9331797235023042\n",
      "\n",
      "\n",
      "Accuracy: 0.9339181286549708 \n",
      " ----------------------------------------------------------------------------------------------------\n"
     ]
    },
    {
     "data": {
      "image/png": "[encoded data removed]",
      "text/plain": [
       "<Figure size 432x288 with 1 Axes>"
      ]
     },
     "metadata": {
      "needs_background": "light"
     },
     "output_type": "display_data"
    },
    {
     "name": "stdout",
     "output_type": "stream",
     "text": [
      "Confusion matrix :\n",
      " ----------------------------------------------------------------------------------------------------\n"
     ]
    },
    {
     "data": {
      "image/png": "[encoded data removed]",
      "text/plain": [
       "<Figure size 432x288 with 2 Axes>"
      ]
     },
     "metadata": {
      "needs_background": "light"
     },
     "output_type": "display_data"
    },
    {
     "name": "stdout",
     "output_type": "stream",
     "text": [
      "Normalized confusion matrix :\n",
      " ----------------------------------------------------------------------------------------------------\n"
     ]
    },
    {
     "data": {
      "image/png": "[encoded data removed]",
      "text/plain": [
       "<Figure size 432x288 with 2 Axes>"
      ]
     },
     "metadata": {
      "needs_background": "light"
     },
     "output_type": "display_data"
    }
   ],
   "source": [
    "# Model accuracy evaluation metrics\n",
    "logistic_L1penalty_model_dict['sensitivity'], logistic_L1penalty_model_dict['specificity'], logistic_L1penalty_model_dict['auc'], logistic_L1penalty_model_dict['accuracy'] = binary_class_evaluator(fitted_logistic_L1penalty_model, x_test[selected_features_rfe], y_test)\n",
    "\n",
    "# Plot non-normalized and normalized confusion matrix\n",
    "plot_confusion_matrix(fitted_logistic_L1penalty_model, x_test[selected_features_rfe], y_test, classes=['Loss', 'Win'])\n",
    "plot_confusion_matrix(fitted_logistic_L1penalty_model, x_test[selected_features_rfe], y_test, classes=['Loss', 'Win'], normalize=True)"
   ]
  },
  {
   "cell_type": "markdown",
   "metadata": {},
   "source": [
    "##### Feature importance evaluator"
   ]
  },
  {
   "cell_type": "code",
   "execution_count": 23,
   "metadata": {
    "ExecuteTime": {
     "end_time": "2019-07-19T13:39:46.270773Z",
     "start_time": "2019-07-19T13:39:46.263366Z"
    }
   },
   "outputs": [
    {
     "name": "stdout",
     "output_type": "stream",
     "text": [
      "Summary of the important features and their corresponding coefficients:\n",
      " ----------------------------------------------------------------------------------------------------\n",
      "earnedgpm : 5.643978425526528\n",
      "earnedgoldshare : -3.967671987752803\n",
      "goldspent : -3.3300819823525116\n",
      "totalgold : 2.617512682964667\n",
      "kpm : 1.5255239475023712\n",
      "d : -1.3790371676870554\n",
      "a : 1.226823082464642\n",
      "goldat15 : -0.7974604340619527\n",
      "k : -0.6647342497208479\n",
      "gspd : 0.6402662499027502\n"
     ]
    }
   ],
   "source": [
    "# Show the sorted features indicating the highest importance in predicting the target\n",
    "logistic_L1penalty_model_dict['feature_importance'] = important_features_extractor(fitted_logistic_L1penalty_model, selected_features_rfe)"
   ]
  },
  {
   "cell_type": "code",
   "execution_count": 24,
   "metadata": {
    "ExecuteTime": {
     "end_time": "2019-07-19T13:42:47.466647Z",
     "start_time": "2019-07-19T13:39:46.273755Z"
    },
    "scrolled": true
   },
   "outputs": [
    {
     "data": {
      "image/png": "[encoded data removed]",
      "text/plain": [
       "<Figure size 432x288 with 1 Axes>"
      ]
     },
     "metadata": {
      "needs_background": "light"
     },
     "output_type": "display_data"
    }
   ],
   "source": [
    "# Visualize the use of different regularization parameters on coefficient estimates for Lasso regression\n",
    "n_alphas, coefs = 200, []\n",
    "alphas = np.logspace(-10, -2, n_alphas)\n",
    "for a in alphas:\n",
    "    lasso = Lasso(alpha = a, fit_intercept = False)\n",
    "    lasso.fit(x_train, y_train)\n",
    "    coefs.append(lasso.coef_)\n",
    "\n",
    "# Visualize the regularization curve\n",
    "ax = plt.gca()\n",
    "ax.plot(alphas, coefs)\n",
    "ax.set_xscale('log')\n",
    "ax.set_xlim(ax.get_xlim()[::-1])  # reverse axis\n",
    "plt.xlabel('alpha')\n",
    "plt.ylabel('weights')\n",
    "plt.title('Lasso coefficients as a function of the regularization')\n",
    "plt.axis('tight')\n",
    "plt.show()"
   ]
  },
  {
   "cell_type": "markdown",
   "metadata": {},
   "source": [
    "### 3.2 Ridge classification model\n",
    "Ridge regression covers a machine learning technique that solves a regression model where the loss function is the linear least squares function and regularization is given by the l2-norm.\n",
    "\n",
    "To fit the ridge classification model the ridge classifier with build in cross-validation estimator is used from the sklearn package. The CV classifier allows us to evaluate different regularization parameters. Here, the array of alpha values that is explored ranges from 0.1 to 1. in steps of 0.025.\n",
    "\n",
    "If the alpha value is 0, a OLS model seems to best fit the data. So, the smaller the value of alpha, the higher the magnitude of the coefficients. No intercept is calculated for the model, because the data is centered."
   ]
  },
  {
   "cell_type": "markdown",
   "metadata": {},
   "source": [
    "##### Model fit"
   ]
  },
  {
   "cell_type": "code",
   "execution_count": 25,
   "metadata": {
    "ExecuteTime": {
     "end_time": "2019-07-19T13:42:53.322932Z",
     "start_time": "2019-07-19T13:42:47.468756Z"
    }
   },
   "outputs": [],
   "source": [
    "# Fit the regression model for the optimal alpha \n",
    "alphas = np.arange(0.0, 1.0, 0.025)\n",
    "ridge_model = RidgeClassifierCV(alphas, fit_intercept= False, cv= 5)\n",
    "fitted_ridge_model = ridge_model.fit(x_train, y_train)\n",
    "\n",
    "# Save best approximation alpha after CV\n",
    "ridge_model_dict['regularisation_param'] = fitted_ridge_model.alpha_"
   ]
  },
  {
   "cell_type": "markdown",
   "metadata": {},
   "source": [
    "##### Model accuracy evaluation"
   ]
  },
  {
   "cell_type": "code",
   "execution_count": 26,
   "metadata": {
    "ExecuteTime": {
     "end_time": "2019-07-19T13:42:54.652052Z",
     "start_time": "2019-07-19T13:42:53.326042Z"
    }
   },
   "outputs": [
    {
     "name": "stdout",
     "output_type": "stream",
     "text": [
      "Based on a threshold of 0.5 the following summary statistics can be obtained:\n",
      " ----------------------------------------------------------------------------------------------------\n",
      "793 true positives over all positives (the wins that were correctly classified).\n",
      "62 false positives (the wins that were wrongly classified).\n",
      "806 true negatives (the losses that were correctly classified).\n",
      "49 false negatives (the losses that were wrongly classified).\n",
      "\n",
      "The sensitivity is:  0.9418052256532067\n",
      "The specificity is:  0.9285714285714286\n",
      "\n",
      "\n",
      "Accuracy: 0.9350877192982456 \n",
      " ----------------------------------------------------------------------------------------------------\n"
     ]
    },
    {
     "data": {
      "image/png": "[encoded data removed]",
      "text/plain": [
       "<Figure size 432x288 with 1 Axes>"
      ]
     },
     "metadata": {
      "needs_background": "light"
     },
     "output_type": "display_data"
    },
    {
     "name": "stdout",
     "output_type": "stream",
     "text": [
      "Confusion matrix :\n",
      " ----------------------------------------------------------------------------------------------------\n"
     ]
    },
    {
     "data": {
      "image/png": "[encoded data removed]",
      "text/plain": [
       "<Figure size 432x288 with 2 Axes>"
      ]
     },
     "metadata": {
      "needs_background": "light"
     },
     "output_type": "display_data"
    },
    {
     "name": "stdout",
     "output_type": "stream",
     "text": [
      "Normalized confusion matrix :\n",
      " ----------------------------------------------------------------------------------------------------\n"
     ]
    },
    {
     "data": {
      "image/png": "[encoded data removed]",
      "text/plain": [
       "<Figure size 432x288 with 2 Axes>"
      ]
     },
     "metadata": {
      "needs_background": "light"
     },
     "output_type": "display_data"
    }
   ],
   "source": [
    "# Model accuracy evaluation metrics\n",
    "ridge_model_dict['sensitivity'], ridge_model_dict['specificity'], ridge_model_dict['auc'], ridge_model_dict['accuracy'] = binary_class_evaluator(fitted_ridge_model, x_test, y_test)\n",
    "\n",
    "# Plot non-normalized and normalized confusion matrix\n",
    "plot_confusion_matrix(fitted_ridge_model, x_test,y_test, classes=['Loss', 'Win'])\n",
    "plot_confusion_matrix(fitted_ridge_model, x_test,y_test, classes=['Loss', 'Win'], normalize=True)"
   ]
  },
  {
   "cell_type": "markdown",
   "metadata": {
    "ExecuteTime": {
     "end_time": "2019-03-19T09:17:32.286353Z",
     "start_time": "2019-03-19T09:17:31.991148Z"
    }
   },
   "source": [
    "##### Feature importance evaluator"
   ]
  },
  {
   "cell_type": "code",
   "execution_count": 27,
   "metadata": {
    "ExecuteTime": {
     "end_time": "2019-07-19T13:42:54.670330Z",
     "start_time": "2019-07-19T13:42:54.655517Z"
    },
    "scrolled": true
   },
   "outputs": [
    {
     "name": "stdout",
     "output_type": "stream",
     "text": [
      "Summary of the important features and their corresponding coefficients:\n",
      " ----------------------------------------------------------------------------------------------------\n",
      "earnedgpm : 0.5167009630541823\n",
      "totalgold : 0.45273037771769653\n",
      "earnedgoldshare : -0.42342524661666103\n",
      "goldspent : -0.3967033697438188\n",
      "d : -0.2594654842033571\n",
      "a : 0.24107581844435358\n",
      "wards : -0.23987695169009748\n",
      "dmgtochampsperminute : -0.15245621829070274\n",
      "wpm : 0.13476413981362065\n",
      "k : 0.09095911162269382\n"
     ]
    }
   ],
   "source": [
    "# Show the sorted features indicating the highest importance in predicting the target\n",
    "ridge_model_dict['feature_importance'] = important_features_extractor(fitted_ridge_model, x_train.columns.values)"
   ]
  },
  {
   "cell_type": "code",
   "execution_count": 28,
   "metadata": {
    "ExecuteTime": {
     "end_time": "2019-07-19T13:42:59.014771Z",
     "start_time": "2019-07-19T13:42:54.673854Z"
    }
   },
   "outputs": [
    {
     "data": {
      "image/png": "[encoded data removed]",
      "text/plain": [
       "<Figure size 432x288 with 1 Axes>"
      ]
     },
     "metadata": {
      "needs_background": "light"
     },
     "output_type": "display_data"
    }
   ],
   "source": [
    "# Visualize the use of different regularization parameters on coefficient estimates for Ridge regression\n",
    "n_alphas, coefs = 200, []\n",
    "alphas = np.logspace(-10, -2, n_alphas)\n",
    "for a in alphas:\n",
    "    ridge = Ridge(alpha = a, fit_intercept = False)\n",
    "    ridge.fit(x_train, y_train)\n",
    "    coefs.append(ridge.coef_)\n",
    "\n",
    "# Visualize the regularization curve\n",
    "ax = plt.gca()\n",
    "ax.plot(alphas, coefs)\n",
    "ax.set_xscale('log')\n",
    "ax.set_xlim(ax.get_xlim()[::-1])  # reverse axis\n",
    "plt.xlabel('alpha')\n",
    "plt.ylabel('weights')\n",
    "plt.title('Ridge coefficients as a function of the regularization')\n",
    "plt.axis('tight')\n",
    "plt.show()"
   ]
  },
  {
   "cell_type": "markdown",
   "metadata": {},
   "source": [
    "### 3.3 Elastic net classification model\n",
    "The elastic net classification model will combine the L1 and L2 priors illustrated above in the same logistic regression model as regularizers. The ElasticNetCV function from sklearn allows us to play around with these regularization parameters by defining a range for the l1_ratio = a/ (a + b), where  a * L1 + b * L2 composes the penalization term. If the optimal l1_ratio parameter is closer to 1, a sparser selection is managed, while l1_ratio parameters close to 0 result in more shrinkage of the coefficients."
   ]
  },
  {
   "cell_type": "markdown",
   "metadata": {},
   "source": [
    "##### Model fit"
   ]
  },
  {
   "cell_type": "code",
   "execution_count": 29,
   "metadata": {
    "ExecuteTime": {
     "end_time": "2019-07-19T13:44:26.312839Z",
     "start_time": "2019-07-19T13:42:59.034510Z"
    }
   },
   "outputs": [],
   "source": [
    "# Fit the elasticnet classification model\n",
    "l1_ratios = alphas[1:]\n",
    "elasticnet_model = ElasticNetCV(l1_ratio = l1_ratios, fit_intercept= False, cv= 5, random_state=0)\n",
    "fitted_elasticnet_model = elasticnet_model.fit(x_train, y_train)\n",
    "\n",
    "# Save best approximation alpha after CV\n",
    "elasticnet_model_dict['regularisation_param'] = {'l1_ratio': fitted_elasticnet_model.l1_ratio_,\n",
    "                                                 'alpha': fitted_elasticnet_model.alpha_}"
   ]
  },
  {
   "cell_type": "markdown",
   "metadata": {},
   "source": [
    "##### Model accuracy evaluation"
   ]
  },
  {
   "cell_type": "code",
   "execution_count": 30,
   "metadata": {
    "ExecuteTime": {
     "end_time": "2019-07-19T13:44:27.101087Z",
     "start_time": "2019-07-19T13:44:26.331334Z"
    }
   },
   "outputs": [
    {
     "name": "stdout",
     "output_type": "stream",
     "text": [
      "Based on a threshold of 0.5 the following summary statistics can be obtained:\n",
      " ----------------------------------------------------------------------------------------------------\n",
      "792 true positives over all positives (the wins that were correctly classified).\n",
      "60 false positives (the wins that were wrongly classified).\n",
      "808 true negatives (the losses that were correctly classified).\n",
      "50 false negatives (the losses that were wrongly classified).\n",
      "\n",
      "The sensitivity is:  0.9406175771971497\n",
      "The specificity is:  0.9308755760368663\n",
      "\n",
      "\n",
      "Accuracy: 0.935672514619883 \n",
      " ----------------------------------------------------------------------------------------------------\n"
     ]
    },
    {
     "data": {
      "image/png": "[encoded data removed]",
      "text/plain": [
       "<Figure size 432x288 with 1 Axes>"
      ]
     },
     "metadata": {
      "needs_background": "light"
     },
     "output_type": "display_data"
    },
    {
     "name": "stdout",
     "output_type": "stream",
     "text": [
      "Confusion matrix :\n",
      " ----------------------------------------------------------------------------------------------------\n"
     ]
    },
    {
     "data": {
      "image/png": "[encoded data removed]",
      "text/plain": [
       "<Figure size 432x288 with 2 Axes>"
      ]
     },
     "metadata": {
      "needs_background": "light"
     },
     "output_type": "display_data"
    },
    {
     "name": "stdout",
     "output_type": "stream",
     "text": [
      "Normalized confusion matrix :\n",
      " ----------------------------------------------------------------------------------------------------\n"
     ]
    },
    {
     "data": {
      "image/png": "[encoded data removed]",
      "text/plain": [
       "<Figure size 432x288 with 2 Axes>"
      ]
     },
     "metadata": {
      "needs_background": "light"
     },
     "output_type": "display_data"
    }
   ],
   "source": [
    "# Model accuracy evaluation metrics\n",
    "elasticnet_model_dict['sensitivity'], elasticnet_model_dict['specificity'], elasticnet_model_dict['auc'], elasticnet_model_dict['accuracy'] = binary_class_evaluator(fitted_elasticnet_model, x_test, y_test, elasticnet = True)\n",
    "\n",
    "# Plot non-normalized and normalized confusion matrix\n",
    "plot_confusion_matrix(fitted_elasticnet_model, x_test, y_test, classes=['Loss', 'Win'], elasticnet = True)\n",
    "plot_confusion_matrix(fitted_elasticnet_model, x_test, y_test, classes=['Loss', 'Win'], normalize=True, elasticnet = True)"
   ]
  },
  {
   "cell_type": "markdown",
   "metadata": {
    "ExecuteTime": {
     "end_time": "2019-03-19T10:34:24.897544Z",
     "start_time": "2019-03-19T10:34:24.872205Z"
    }
   },
   "source": [
    "##### Feature importance evaluator"
   ]
  },
  {
   "cell_type": "code",
   "execution_count": 31,
   "metadata": {
    "ExecuteTime": {
     "end_time": "2019-07-19T13:44:27.109431Z",
     "start_time": "2019-07-19T13:44:27.103295Z"
    },
    "scrolled": true
   },
   "outputs": [
    {
     "name": "stdout",
     "output_type": "stream",
     "text": [
      "Summary of the important features and their corresponding coefficients:\n",
      " ----------------------------------------------------------------------------------------------------\n",
      "earnedgpm : 0.24690688960539228\n",
      "earnedgoldshare : -0.19397623489075727\n",
      "d : -0.13342257907325494\n",
      "a : 0.1247967944857574\n",
      "goldspent : -0.1078607157128181\n",
      "totalgold : 0.10093148478209923\n",
      "k : 0.03738357318202853\n",
      "kpm : 0.04349199315183488\n",
      "gspd : 0.03245607248840904\n",
      "goldat15 : -0.03179509570288745\n"
     ]
    }
   ],
   "source": [
    "# Show the sorted features indicating the highest importance in predicting the target\n",
    "elasticnet_model_dict['feature_importance'] = important_features_extractor(fitted_elasticnet_model, \n",
    "                                                                           x_train.columns.values, \n",
    "                                                                           elasticnet = True)"
   ]
  },
  {
   "cell_type": "code",
   "execution_count": 32,
   "metadata": {
    "ExecuteTime": {
     "end_time": "2019-07-19T13:44:40.699697Z",
     "start_time": "2019-07-19T13:44:27.112698Z"
    }
   },
   "outputs": [
    {
     "data": {
      "image/png": "[encoded data removed]",
      "text/plain": [
       "<Figure size 432x288 with 1 Axes>"
      ]
     },
     "metadata": {
      "needs_background": "light"
     },
     "output_type": "display_data"
    }
   ],
   "source": [
    "# Visualize the use of different regularization parameters on coefficient estimates for Ridge regression\n",
    "n_ratios, coefs = 200, []\n",
    "l1_ratios = np.logspace(-10, -2, n_ratios)\n",
    "for r in l1_ratios:\n",
    "    elasticnet = ElasticNet(l1_ratio = r, fit_intercept = False)\n",
    "    elasticnet.fit(x_train, y_train)\n",
    "    coefs.append(elasticnet.coef_)\n",
    "\n",
    "# Visualize the regularization curve\n",
    "ax = plt.gca()\n",
    "ax.plot(l1_ratios, coefs)\n",
    "ax.set_xscale('log')\n",
    "ax.set_xlim(ax.get_xlim()[::-1])  # reverse axis\n",
    "plt.xlabel('l1_ratio')\n",
    "plt.ylabel('weights')\n",
    "plt.title('Elastic net coefficients as a function of the regularization')\n",
    "plt.axis('tight')\n",
    "plt.show()"
   ]
  },
  {
   "cell_type": "markdown",
   "metadata": {},
   "source": [
    "### 3.4 Random Forests classifier"
   ]
  },
  {
   "cell_type": "markdown",
   "metadata": {},
   "source": [
    "##### Model fit"
   ]
  },
  {
   "cell_type": "code",
   "execution_count": 33,
   "metadata": {
    "ExecuteTime": {
     "end_time": "2019-07-19T14:14:17.583131Z",
     "start_time": "2019-07-19T13:44:40.701845Z"
    }
   },
   "outputs": [
    {
     "data": {
      "text/plain": [
       "{'bootstrap': False, 'max_features': 'sqrt', 'n_estimators': 1000}"
      ]
     },
     "execution_count": 33,
     "metadata": {},
     "output_type": "execute_result"
    }
   ],
   "source": [
    "# Define hyperparameter grid\n",
    "param_grid = {'bootstrap': [True, False],\n",
    "              'max_features': ['auto', 'sqrt'],\n",
    "              'n_estimators': [200, 1000, 2000]}\n",
    "\n",
    "# Hyperparametertuning of the Random Forest model (cv = 5 folds)\n",
    "rf_model = RandomForestClassifier()\n",
    "grid_rf_model = GridSearchCV(rf_model, param_grid, cv=5)\n",
    "grid_best_rf_model = grid_rf_model.fit(x_train, y_train)\n",
    "\n",
    "# Save optimal hyperparameters\n",
    "rf_model_dict['regularisation_param'] = grid_best_rf_model.best_params_\n",
    "grid_best_rf_model.best_params_"
   ]
  },
  {
   "cell_type": "code",
   "execution_count": 34,
   "metadata": {
    "ExecuteTime": {
     "end_time": "2019-07-19T14:14:54.563176Z",
     "start_time": "2019-07-19T14:14:17.585270Z"
    }
   },
   "outputs": [
    {
     "data": {
      "text/plain": [
       "RandomForestClassifier(bootstrap=False, class_weight=None, criterion='gini',\n",
       "            max_depth=None, max_features='sqrt', max_leaf_nodes=None,\n",
       "            min_impurity_decrease=0.0, min_impurity_split=None,\n",
       "            min_samples_leaf=1, min_samples_split=2,\n",
       "            min_weight_fraction_leaf=0.0, n_estimators=1000, n_jobs=None,\n",
       "            oob_score=False, random_state=None, verbose=0,\n",
       "            warm_start=False)"
      ]
     },
     "execution_count": 34,
     "metadata": {},
     "output_type": "execute_result"
    }
   ],
   "source": [
    "# Fit the best model with the optimal hyperparameters\n",
    "fitted_rf_model = RandomForestClassifier(bootstrap = rf_model_dict['regularisation_param'] ['bootstrap'],\n",
    "                                         max_features = rf_model_dict['regularisation_param'] ['max_features'],\n",
    "                                         n_estimators = rf_model_dict['regularisation_param'] ['n_estimators'])\n",
    "fitted_rf_model.fit(x_train,y_train)"
   ]
  },
  {
   "cell_type": "markdown",
   "metadata": {},
   "source": [
    "##### Model accuracy evaluation"
   ]
  },
  {
   "cell_type": "code",
   "execution_count": 35,
   "metadata": {
    "ExecuteTime": {
     "end_time": "2019-07-19T14:14:56.640585Z",
     "start_time": "2019-07-19T14:14:54.565088Z"
    }
   },
   "outputs": [
    {
     "name": "stdout",
     "output_type": "stream",
     "text": [
      "Based on a threshold of 0.5 the following summary statistics can be obtained:\n",
      " ----------------------------------------------------------------------------------------------------\n",
      "779 true positives over all positives (the wins that were correctly classified).\n",
      "83 false positives (the wins that were wrongly classified).\n",
      "785 true negatives (the losses that were correctly classified).\n",
      "63 false negatives (the losses that were wrongly classified).\n",
      "\n",
      "The sensitivity is:  0.9251781472684085\n",
      "The specificity is:  0.9043778801843319\n",
      "\n",
      "\n",
      "Accuracy: 0.9146198830409357 \n",
      " ----------------------------------------------------------------------------------------------------\n"
     ]
    },
    {
     "data": {
      "image/png": "[encoded data removed]",
      "text/plain": [
       "<Figure size 432x288 with 1 Axes>"
      ]
     },
     "metadata": {
      "needs_background": "light"
     },
     "output_type": "display_data"
    },
    {
     "name": "stdout",
     "output_type": "stream",
     "text": [
      "Confusion matrix :\n",
      " ----------------------------------------------------------------------------------------------------\n"
     ]
    },
    {
     "data": {
      "image/png": "[encoded data removed]",
      "text/plain": [
       "<Figure size 432x288 with 2 Axes>"
      ]
     },
     "metadata": {
      "needs_background": "light"
     },
     "output_type": "display_data"
    },
    {
     "name": "stdout",
     "output_type": "stream",
     "text": [
      "Normalized confusion matrix :\n",
      " ----------------------------------------------------------------------------------------------------\n"
     ]
    },
    {
     "data": {
      "image/png": "[encoded data removed]",
      "text/plain": [
       "<Figure size 432x288 with 2 Axes>"
      ]
     },
     "metadata": {
      "needs_background": "light"
     },
     "output_type": "display_data"
    }
   ],
   "source": [
    "# Model accuracy evaluation metrics\n",
    "rf_model_dict['sensitivity'], rf_model_dict['specificity'], rf_model_dict['auc'], rf_model_dict['accuracy'] = binary_class_evaluator(fitted_rf_model, x_test, y_test, elasticnet = False)\n",
    "\n",
    "# Plot non-normalized and normalized confusion matrix\n",
    "plot_confusion_matrix(fitted_rf_model, x_test, y_test, classes=['Loss', 'Win'], elasticnet = False)\n",
    "plot_confusion_matrix(fitted_rf_model, x_test, y_test, classes=['Loss', 'Win'], normalize=True, elasticnet = False)"
   ]
  },
  {
   "cell_type": "markdown",
   "metadata": {},
   "source": [
    "##### Feature importance evaluator"
   ]
  },
  {
   "cell_type": "code",
   "execution_count": 36,
   "metadata": {
    "ExecuteTime": {
     "end_time": "2019-07-19T14:14:56.759949Z",
     "start_time": "2019-07-19T14:14:56.642555Z"
    }
   },
   "outputs": [
    {
     "data": {
      "text/plain": [
       "a                   0.163701\n",
       "earnedgpm           0.154145\n",
       "d                   0.122383\n",
       "kpm                 0.066435\n",
       "gspd                0.065271\n",
       "earnedgoldshare     0.063492\n",
       "k                   0.033917\n",
       "totalgold           0.028533\n",
       "Encoded_champion    0.026675\n",
       "Encoded_team        0.026196\n",
       "dtype: float64"
      ]
     },
     "execution_count": 36,
     "metadata": {},
     "output_type": "execute_result"
    }
   ],
   "source": [
    "# Show the sorted features indicating the highest importance in predicting the target\n",
    "feature_imp = pd.Series(fitted_rf_model.feature_importances_,index=x_train.columns).sort_values(ascending=False)\n",
    "rf_model_dict['feature_importance'] = dict(zip(feature_imp.index, feature_imp))\n",
    "feature_imp[:10]"
   ]
  },
  {
   "cell_type": "markdown",
   "metadata": {},
   "source": [
    "### 3.5 Comparison ML techniques"
   ]
  },
  {
   "cell_type": "markdown",
   "metadata": {},
   "source": [
    "##### Creation summary table"
   ]
  },
  {
   "cell_type": "code",
   "execution_count": 38,
   "metadata": {
    "ExecuteTime": {
     "end_time": "2019-07-19T15:55:20.520909Z",
     "start_time": "2019-07-19T15:55:20.458352Z"
    }
   },
   "outputs": [
    {
     "data": {
      "text/html": [
       "<div>\n",
       "<style scoped>\n",
       "    .dataframe tbody tr th:only-of-type {\n",
       "        vertical-align: middle;\n",
       "    }\n",
       "\n",
       "    .dataframe tbody tr th {\n",
       "        vertical-align: top;\n",
       "    }\n",
       "\n",
       "    .dataframe thead th {\n",
       "        text-align: right;\n",
       "    }\n",
       "</style>\n",
       "<table border=\"1\" class=\"dataframe\">\n",
       "  <thead>\n",
       "    <tr style=\"text-align: right;\">\n",
       "      <th></th>\n",
       "      <th>regularisation_param</th>\n",
       "      <th>sensitivity</th>\n",
       "      <th>specificity</th>\n",
       "      <th>auc</th>\n",
       "      <th>accuracy</th>\n",
       "      <th>feature_importance</th>\n",
       "    </tr>\n",
       "  </thead>\n",
       "  <tbody>\n",
       "    <tr>\n",
       "      <th>Lasso</th>\n",
       "      <td>NaN</td>\n",
       "      <td>0.934679</td>\n",
       "      <td>0.933180</td>\n",
       "      <td>0.933930</td>\n",
       "      <td>0.933918</td>\n",
       "      <td>{'earnedgpm': 5.643978425526528, 'earnedgoldsh...</td>\n",
       "    </tr>\n",
       "    <tr>\n",
       "      <th>Ridge</th>\n",
       "      <td>0.975</td>\n",
       "      <td>0.941805</td>\n",
       "      <td>0.928571</td>\n",
       "      <td>0.935188</td>\n",
       "      <td>0.935088</td>\n",
       "      <td>{'earnedgpm': 0.5167009630541823, 'totalgold':...</td>\n",
       "    </tr>\n",
       "    <tr>\n",
       "      <th>Elasticnet</th>\n",
       "      <td>{'l1_ratio': 0.01, 'alpha': 0.02846900901255729}</td>\n",
       "      <td>0.940618</td>\n",
       "      <td>0.930876</td>\n",
       "      <td>0.935747</td>\n",
       "      <td>0.935673</td>\n",
       "      <td>{'earnedgpm': 0.24690688960539228, 'earnedgold...</td>\n",
       "    </tr>\n",
       "    <tr>\n",
       "      <th>RandomForest</th>\n",
       "      <td>{'bootstrap': False, 'max_features': 'sqrt', '...</td>\n",
       "      <td>0.925178</td>\n",
       "      <td>0.904378</td>\n",
       "      <td>0.914778</td>\n",
       "      <td>0.914620</td>\n",
       "      <td>{'a': 0.16370066609819403, 'earnedgpm': 0.1541...</td>\n",
       "    </tr>\n",
       "  </tbody>\n",
       "</table>\n",
       "</div>"
      ],
      "text/plain": [
       "                                           regularisation_param  sensitivity  \\\n",
       "Lasso                                                       NaN     0.934679   \n",
       "Ridge                                                     0.975     0.941805   \n",
       "Elasticnet     {'l1_ratio': 0.01, 'alpha': 0.02846900901255729}     0.940618   \n",
       "RandomForest  {'bootstrap': False, 'max_features': 'sqrt', '...     0.925178   \n",
       "\n",
       "              specificity       auc  accuracy  \\\n",
       "Lasso            0.933180  0.933930  0.933918   \n",
       "Ridge            0.928571  0.935188  0.935088   \n",
       "Elasticnet       0.930876  0.935747  0.935673   \n",
       "RandomForest     0.904378  0.914778  0.914620   \n",
       "\n",
       "                                             feature_importance  \n",
       "Lasso         {'earnedgpm': 5.643978425526528, 'earnedgoldsh...  \n",
       "Ridge         {'earnedgpm': 0.5167009630541823, 'totalgold':...  \n",
       "Elasticnet    {'earnedgpm': 0.24690688960539228, 'earnedgold...  \n",
       "RandomForest  {'a': 0.16370066609819403, 'earnedgpm': 0.1541...  "
      ]
     },
     "execution_count": 38,
     "metadata": {},
     "output_type": "execute_result"
    }
   ],
   "source": [
    "# Create summary table\n",
    "for key in logistic_L1penalty_model_dict.keys():\n",
    "    model_summary_dict[key] = [logistic_L1penalty_model_dict[key], ridge_model_dict[key], elasticnet_model_dict[key], rf_model_dict[key]]\n",
    "model_summary_table = pd.DataFrame(model_summary_dict, columns = logistic_L1penalty_model_dict.keys())\n",
    "model_summary_table.rename(index={0:'Lasso', 1:'Ridge', 2:'Elasticnet', 3:'RandomForest'}, inplace = True)\n",
    "\n",
    "# Visualize summary table\n",
    "model_summary_table"
   ]
  },
  {
   "cell_type": "markdown",
   "metadata": {},
   "source": [
    "##### Investigate accuracy metrics"
   ]
  },
  {
   "cell_type": "code",
   "execution_count": 54,
   "metadata": {
    "ExecuteTime": {
     "end_time": "2019-07-20T17:15:09.412122Z",
     "start_time": "2019-07-20T17:15:09.204297Z"
    }
   },
   "outputs": [
    {
     "data": {
      "text/plain": [
       "<matplotlib.legend.Legend at 0x7f43b25e8be0>"
      ]
     },
     "execution_count": 54,
     "metadata": {},
     "output_type": "execute_result"
    },
    {
     "data": {
      "image/png": "[encoded data removed]",
      "text/plain": [
       "<Figure size 432x288 with 1 Axes>"
      ]
     },
     "metadata": {
      "needs_background": "light"
     },
     "output_type": "display_data"
    }
   ],
   "source": [
    "# Visualize a summarization of the accuracy metrics for the different ML methods\n",
    "fig, ax = plt.subplots()\n",
    "ax.plot(list(model_summary_table.index), model_summary_table.sensitivity, '--', label=\"sensitivity\", color='lightskyblue')\n",
    "ax.plot(list(model_summary_table.index), model_summary_table.specificity, '--', label=\"specificity\", color='lightblue')\n",
    "ax.plot(list(model_summary_table.index), model_summary_table.accuracy, label=\"accuracy\", color='royalblue')\n",
    "plt.title(\"Sensitivity, specificity and accuracy regularization models\")\n",
    "plt.ylabel('Value')\n",
    "plt.xlabel('ML model')\n",
    "ax.legend(loc =\"best\", fontsize = 8)"
   ]
  },
  {
   "cell_type": "markdown",
   "metadata": {},
   "source": [
    "##### Investigate parameter coefficients"
   ]
  },
  {
   "cell_type": "code",
   "execution_count": 40,
   "metadata": {
    "ExecuteTime": {
     "end_time": "2019-07-19T15:55:21.368157Z",
     "start_time": "2019-07-19T15:55:21.361354Z"
    }
   },
   "outputs": [
    {
     "name": "stdout",
     "output_type": "stream",
     "text": [
      "The number of features kept by the different techniques in the model:\n",
      " ----------------------------------------------------------------------------------------------------\n",
      "Lasso :  41\n",
      "Ridge :  51\n",
      "Elasticnet :  51\n",
      "RandomForest :  51\n"
     ]
    }
   ],
   "source": [
    "# Short intermediate summary\n",
    "print(\"The number of features kept by the different techniques in the model:\\n\", \"-\"*100)\n",
    "for ML in list(model_summary_table.index):\n",
    "    print(ML, \": \", len(model_summary_table.feature_importance[ML]))"
   ]
  },
  {
   "cell_type": "code",
   "execution_count": 55,
   "metadata": {
    "ExecuteTime": {
     "end_time": "2019-07-20T17:15:24.168741Z",
     "start_time": "2019-07-20T17:15:23.977805Z"
    }
   },
   "outputs": [
    {
     "data": {
      "image/png": "[encoded data removed]",
      "text/plain": [
       "<Figure size 432x288 with 1 Axes>"
      ]
     },
     "metadata": {
      "needs_background": "light"
     },
     "output_type": "display_data"
    }
   ],
   "source": [
    "# Visualization of difference in coefficient estimates\n",
    "plt.plot(fitted_elasticnet_model.coef_, color='darkorange', linewidth=2,\n",
    "         label='Elastic net coefficients')\n",
    "plt.plot(fitted_logistic_L1penalty_model.coef_[0], color='yellowgreen', linewidth=2,\n",
    "         label='Lasso coefficients')\n",
    "plt.plot(fitted_ridge_model.coef_[0], '--', color='dodgerblue', label='Ridge coefficients')\n",
    "plt.legend(loc='best')\n",
    "plt.title(\"Comparison parameter coefficients\")\n",
    "plt.ylabel('Coefficient')\n",
    "plt.xlabel('Feature ID')\n",
    "plt.show()"
   ]
  },
  {
   "cell_type": "code",
   "execution_count": 56,
   "metadata": {
    "ExecuteTime": {
     "end_time": "2019-07-20T17:15:35.044750Z",
     "start_time": "2019-07-20T17:15:31.935318Z"
    },
    "scrolled": false
   },
   "outputs": [
    {
     "data": {
      "image/png": "[encoded data removed]",
      "text/plain": [
       "<Figure size 360x576 with 1 Axes>"
      ]
     },
     "metadata": {
      "needs_background": "light"
     },
     "output_type": "display_data"
    },
    {
     "data": {
      "image/png": "[encoded data removed]",
      "text/plain": [
       "<Figure size 360x1008 with 1 Axes>"
      ]
     },
     "metadata": {
      "needs_background": "light"
     },
     "output_type": "display_data"
    },
    {
     "data": {
      "image/png": "[encoded data removed]",
      "text/plain": [
       "<Figure size 360x1008 with 1 Axes>"
      ]
     },
     "metadata": {
      "needs_background": "light"
     },
     "output_type": "display_data"
    },
    {
     "data": {
      "image/png": "[encoded data removed]",
      "text/plain": [
       "<Figure size 360x1008 with 1 Axes>"
      ]
     },
     "metadata": {
      "needs_background": "light"
     },
     "output_type": "display_data"
    }
   ],
   "source": [
    "# Visualize feature importance (coefficient based)\n",
    "for index, ML in enumerate(list(model_summary_table.index)):\n",
    "    x =  np.arange(len(model_summary_table.feature_importance[ML]))\n",
    "    plt.figure(figsize=(5, 8)) if index == 0 else plt.figure(figsize=(5, 14)) \n",
    "    plt.barh(x, list(model_summary_table.feature_importance[ML].values()), \n",
    "             tick_label =  list(model_summary_table.feature_importance[ML].keys()),\n",
    "             color = 'mediumslateblue', \n",
    "             edgecolor = 'slateblue')\n",
    "    plt.title(\"Feature coefficient estimates \" + ML + \" classification\")\n",
    "    plt.ylabel('Feature')\n",
    "    plt.xlabel('Coefficient')\n",
    "    plt.show()"
   ]
  },
  {
   "cell_type": "markdown",
   "metadata": {},
   "source": [
    "## 4. Create player specific summary vectors"
   ]
  },
  {
   "cell_type": "markdown",
   "metadata": {
    "ExecuteTime": {
     "end_time": "2019-03-26T08:44:26.367395Z",
     "start_time": "2019-03-26T08:44:26.305732Z"
    }
   },
   "source": [
    "### 4.1 Create dataset capturing the average feature values per player\n",
    "A player specific summary vector will be created by looping through all the features captured by the dataset and taking the average over all the games played by that player (for a specific feature). To have a better indication of the accuracy of the player vector another column is added at the end indicating the number of games on which the calculation is based."
   ]
  },
  {
   "cell_type": "code",
   "execution_count": 43,
   "metadata": {
    "ExecuteTime": {
     "end_time": "2019-07-19T15:55:26.866517Z",
     "start_time": "2019-07-19T15:55:24.988118Z"
    }
   },
   "outputs": [],
   "source": [
    "# Extract list with the different players\n",
    "players = list(set(data_raw.player))\n",
    "player_vector_cols = list(data.columns)\n",
    "player_vector_cols.append('accuracy indicator')\n",
    "\n",
    "# Create summary vector for each player\n",
    "player_info_list = []\n",
    "for player in players:\n",
    "    player_vector = []\n",
    "    player_subdf = data_raw[data_raw.player == player]\n",
    "    # Loop through the different columns\n",
    "    for col in data.columns:\n",
    "        # Take the mean over column values for numerical features\n",
    "        if 'Encoded' not in col:\n",
    "            player_vector.append(player_subdf[col].mean())\n",
    "        # Take the majority value over column values for discrete features\n",
    "        else: \n",
    "            player_vector.append(RandomSampleProbDist(player_subdf[col]))\n",
    "    # Add accuracy indicator\n",
    "    player_vector.append(len(player_subdf))\n",
    "    player_info_list.append(player_vector)\n",
    "    \n",
    "# Create summary dataframe\n",
    "player_vector_df = pd.DataFrame(data = player_info_list, index=players, columns=player_vector_cols)"
   ]
  },
  {
   "cell_type": "code",
   "execution_count": 44,
   "metadata": {
    "ExecuteTime": {
     "end_time": "2019-07-19T15:55:26.879349Z",
     "start_time": "2019-07-19T15:55:26.869065Z"
    },
    "scrolled": true
   },
   "outputs": [
    {
     "name": "stdout",
     "output_type": "stream",
     "text": [
      "Summary information player vector dataframe: Player specific feature vectors are captured for 195 players.\n",
      "\n",
      "The players indicating feature vectors based on less than 5 games:\n",
      " ----------------------------------------------------------------------------------------------------\n",
      "amazing\n",
      "aligan\n",
      "revanche\n",
      "brook\n",
      "kirito\n",
      "zhergoth\n",
      "altec\n",
      "tolerant\n",
      "mong\n",
      "ren\n",
      "move\n",
      "titan\n",
      "lz\n",
      "arin\n",
      "dreamsha\n",
      "minn\n",
      "rakin\n",
      "maha\n",
      "rlun\n",
      "mantarraya\n",
      "lactea\n",
      "max\n",
      "casual\n",
      "ranger\n",
      "fenix\n",
      "part\n",
      "magifelix\n",
      "crimson\n",
      "send0o\n",
      "snow\n",
      "onion\n",
      "yueguan\n",
      "stomaged\n",
      "brucer\n",
      "freeze\n",
      "kingen\n",
      "moonblackk\n"
     ]
    }
   ],
   "source": [
    "# Intermediate summary\n",
    "print(\"Summary information player vector dataframe: Player specific feature vectors are captured for\", len(player_vector_df), \"players.\\n\")\n",
    "\n",
    "# Extract vector accuracy information\n",
    "print(\"The players indicating feature vectors based on less than 5 games:\\n\", '-'*100)\n",
    "for player, acc_ind in zip(list(player_vector_df.index), player_vector_df['accuracy indicator']):\n",
    "    if acc_ind < 5:\n",
    "        print(player)"
   ]
  },
  {
   "cell_type": "code",
   "execution_count": 45,
   "metadata": {
    "ExecuteTime": {
     "end_time": "2019-07-19T15:55:27.558891Z",
     "start_time": "2019-07-19T15:55:26.881330Z"
    }
   },
   "outputs": [
    {
     "name": "stdout",
     "output_type": "stream",
     "text": [
      "==================================================================================================== \n",
      "Overview of variable:  Accuracy indicator \n",
      " ====================================================================================================\n"
     ]
    },
    {
     "data": {
      "image/png": "[encoded data removed]",
      "text/plain": [
       "<Figure size 432x288 with 1 Axes>"
      ]
     },
     "metadata": {
      "needs_background": "light"
     },
     "output_type": "display_data"
    },
    {
     "name": "stdout",
     "output_type": "stream",
     "text": [
      "-------------------- \n",
      "Summary statistics:\n",
      " --------------------\n",
      "Minimum value: 1\n",
      "Mean: 58.441\n",
      "Standard deviation: 58.7312\n",
      "Median: 41\n",
      "Maximal value: 238\n"
     ]
    },
    {
     "data": {
      "image/png": "[encoded data removed]",
      "text/plain": [
       "<Figure size 432x288 with 1 Axes>"
      ]
     },
     "metadata": {
      "needs_background": "light"
     },
     "output_type": "display_data"
    },
    {
     "name": "stdout",
     "output_type": "stream",
     "text": [
      "-------------------- \n",
      "Outlier detection:\n",
      " --------------------\n",
      "List of outliers: {238}\n"
     ]
    },
    {
     "data": {
      "image/png": "[encoded data removed]",
      "text/plain": [
       "<Figure size 432x288 with 1 Axes>"
      ]
     },
     "metadata": {
      "needs_background": "light"
     },
     "output_type": "display_data"
    },
    {
     "name": "stdout",
     "output_type": "stream",
     "text": [
      "-------------------- \n",
      "Check for normal distribution:\n",
      " --------------------\n",
      "Skewedness: 0.9365\n",
      "Kurtosis: -0.2069\n"
     ]
    },
    {
     "data": {
      "text/plain": [
       "<Figure size 432x288 with 0 Axes>"
      ]
     },
     "metadata": {},
     "output_type": "display_data"
    }
   ],
   "source": [
    "# Accuracy indicator distribution\n",
    "SummaryNumericVar(player_vector_df['accuracy indicator'], 'Accuracy indicator')"
   ]
  },
  {
   "cell_type": "markdown",
   "metadata": {},
   "source": [
    "### 4.2 Estimate player strength parameters"
   ]
  },
  {
   "cell_type": "code",
   "execution_count": 46,
   "metadata": {
    "ExecuteTime": {
     "end_time": "2019-07-19T15:55:27.565811Z",
     "start_time": "2019-07-19T15:55:27.561332Z"
    }
   },
   "outputs": [],
   "source": [
    "# Create dictionary to capture strength parameter information\n",
    "strength_param_dict = dict()\n",
    "\n",
    "# Extract columns not used for model fit\n",
    "additional_columns = ['result', 'accuracy indicator']\n",
    "strength_param_dict['accuracy indicator'] = player_vector_df['accuracy indicator']"
   ]
  },
  {
   "cell_type": "markdown",
   "metadata": {},
   "source": [
    "##### Lasso classification based parameter approximation"
   ]
  },
  {
   "cell_type": "code",
   "execution_count": 47,
   "metadata": {
    "ExecuteTime": {
     "end_time": "2019-07-19T15:55:27.595773Z",
     "start_time": "2019-07-19T15:55:27.568259Z"
    }
   },
   "outputs": [],
   "source": [
    "# 1. Fit (trained) lasso classification model\n",
    "strength_param_dict['lasso'] = [y for x, y in fitted_logistic_L1penalty_model.predict_proba(player_vector_df[selected_features_rfe])]"
   ]
  },
  {
   "cell_type": "markdown",
   "metadata": {},
   "source": [
    "##### Ridge classification based parameter approximation"
   ]
  },
  {
   "cell_type": "code",
   "execution_count": 48,
   "metadata": {
    "ExecuteTime": {
     "end_time": "2019-07-19T15:55:27.636467Z",
     "start_time": "2019-07-19T15:55:27.597791Z"
    },
    "scrolled": true
   },
   "outputs": [],
   "source": [
    "# 2. Fit ridge classification model with best regularisation parameter based on CV\n",
    "additional_columns = ['result', 'accuracy indicator']\n",
    "ridge = RidgeClassifier(alpha = ridge_model_dict['regularisation_param'], fit_intercept = False)\n",
    "fitted_ridge = ridge.fit(x_train, y_train)\n",
    "logit_trans_predictions_ridge = fitted_ridge.decision_function(player_vector_df[[x for x in data.columns if x not in additional_columns]])\n",
    "strength_param_dict['ridge'] = np.exp(logit_trans_predictions_ridge) / (1 + np.exp(logit_trans_predictions_ridge))"
   ]
  },
  {
   "cell_type": "markdown",
   "metadata": {},
   "source": [
    "Remark: There is no predicted probability option for the RidgeClassifier because this model is not easy to interpret as a probability model. The decision function of the RidgeClassifier model considers a logit transformation of the actual class probabilities. If decision function is greater than zero then class 1 is predicted otherwise predict class 0, corresponding to a classical logit approach. By back-transforming these predictions we can get the predicted probabilities."
   ]
  },
  {
   "cell_type": "markdown",
   "metadata": {},
   "source": [
    "##### Result averaging based parameter approximation"
   ]
  },
  {
   "cell_type": "code",
   "execution_count": 49,
   "metadata": {
    "ExecuteTime": {
     "end_time": "2019-07-19T15:55:27.651790Z",
     "start_time": "2019-07-19T15:55:27.639059Z"
    }
   },
   "outputs": [],
   "source": [
    "# 3. Expected outcome of the game based on player-vector averaging \n",
    "strength_param_dict['result'] = player_vector_df['result']"
   ]
  },
  {
   "cell_type": "code",
   "execution_count": 50,
   "metadata": {
    "ExecuteTime": {
     "end_time": "2019-07-19T15:55:27.690309Z",
     "start_time": "2019-07-19T15:55:27.653716Z"
    }
   },
   "outputs": [
    {
     "data": {
      "text/html": [
       "<div>\n",
       "<style scoped>\n",
       "    .dataframe tbody tr th:only-of-type {\n",
       "        vertical-align: middle;\n",
       "    }\n",
       "\n",
       "    .dataframe tbody tr th {\n",
       "        vertical-align: top;\n",
       "    }\n",
       "\n",
       "    .dataframe thead th {\n",
       "        text-align: right;\n",
       "    }\n",
       "</style>\n",
       "<table border=\"1\" class=\"dataframe\">\n",
       "  <thead>\n",
       "    <tr style=\"text-align: right;\">\n",
       "      <th></th>\n",
       "      <th>accuracy indicator</th>\n",
       "      <th>lasso</th>\n",
       "      <th>ridge</th>\n",
       "      <th>result</th>\n",
       "    </tr>\n",
       "  </thead>\n",
       "  <tbody>\n",
       "    <tr>\n",
       "      <th>solo</th>\n",
       "      <td>125</td>\n",
       "      <td>0.392469</td>\n",
       "      <td>0.492367</td>\n",
       "      <td>0.544000</td>\n",
       "    </tr>\n",
       "    <tr>\n",
       "      <th>amazing</th>\n",
       "      <td>1</td>\n",
       "      <td>0.992885</td>\n",
       "      <td>0.707153</td>\n",
       "      <td>1.000000</td>\n",
       "    </tr>\n",
       "    <tr>\n",
       "      <th>fabfabulous</th>\n",
       "      <td>161</td>\n",
       "      <td>0.986490</td>\n",
       "      <td>0.619226</td>\n",
       "      <td>0.714286</td>\n",
       "    </tr>\n",
       "    <tr>\n",
       "      <th>nexus</th>\n",
       "      <td>66</td>\n",
       "      <td>0.058953</td>\n",
       "      <td>0.430529</td>\n",
       "      <td>0.378788</td>\n",
       "    </tr>\n",
       "    <tr>\n",
       "      <th>ninuo</th>\n",
       "      <td>110</td>\n",
       "      <td>0.005355</td>\n",
       "      <td>0.362702</td>\n",
       "      <td>0.218182</td>\n",
       "    </tr>\n",
       "  </tbody>\n",
       "</table>\n",
       "</div>"
      ],
      "text/plain": [
       "             accuracy indicator     lasso     ridge    result\n",
       "solo                        125  0.392469  0.492367  0.544000\n",
       "amazing                       1  0.992885  0.707153  1.000000\n",
       "fabfabulous                 161  0.986490  0.619226  0.714286\n",
       "nexus                        66  0.058953  0.430529  0.378788\n",
       "ninuo                       110  0.005355  0.362702  0.218182"
      ]
     },
     "execution_count": 50,
     "metadata": {},
     "output_type": "execute_result"
    }
   ],
   "source": [
    "# Create dataframe of strength parameter summarization\n",
    "strength_param_df = pd.DataFrame(strength_param_dict)\n",
    "strength_param_df.head()"
   ]
  },
  {
   "cell_type": "code",
   "execution_count": 51,
   "metadata": {
    "ExecuteTime": {
     "end_time": "2019-07-19T15:55:27.725924Z",
     "start_time": "2019-07-19T15:55:27.692219Z"
    }
   },
   "outputs": [
    {
     "data": {
      "text/plain": [
       "lasso  result    0.771058\n",
       "ridge  result    0.822266\n",
       "lasso  ridge     0.896066\n",
       "dtype: float64"
      ]
     },
     "execution_count": 51,
     "metadata": {},
     "output_type": "execute_result"
    }
   ],
   "source": [
    "# Print list with correlated features\n",
    "corrmap_abs = strength_param_df.iloc[:,1:].corr().abs()\n",
    "corrmap_abs_sorted = corrmap_abs.unstack().sort_values(kind = \"quicksort\", ascending = False)\n",
    "corrmap_abs_sorted[3:][::-2]"
   ]
  },
  {
   "cell_type": "markdown",
   "metadata": {},
   "source": [
    "### 4.3 Investigation strength parameter characteristics"
   ]
  },
  {
   "cell_type": "code",
   "execution_count": 52,
   "metadata": {
    "ExecuteTime": {
     "end_time": "2019-07-19T15:55:29.568009Z",
     "start_time": "2019-07-19T15:55:27.727703Z"
    },
    "scrolled": false
   },
   "outputs": [
    {
     "name": "stdout",
     "output_type": "stream",
     "text": [
      "==================================================================================================== \n",
      "Overview of variable:  lasso \n",
      " ====================================================================================================\n"
     ]
    },
    {
     "data": {
      "image/png": "[encoded data removed]",
      "text/plain": [
       "<Figure size 432x288 with 1 Axes>"
      ]
     },
     "metadata": {
      "needs_background": "light"
     },
     "output_type": "display_data"
    },
    {
     "name": "stdout",
     "output_type": "stream",
     "text": [
      "-------------------- \n",
      "Summary statistics:\n",
      " --------------------\n",
      "Minimum value: 4.611910319219006e-06\n",
      "Mean: 0.3673\n",
      "Standard deviation: 0.3327\n",
      "Median: 0.3006\n",
      "Maximal value: 0.9999890097661547\n"
     ]
    },
    {
     "data": {
      "image/png": "[encoded data removed]",
      "text/plain": [
       "<Figure size 432x288 with 1 Axes>"
      ]
     },
     "metadata": {
      "needs_background": "light"
     },
     "output_type": "display_data"
    },
    {
     "name": "stdout",
     "output_type": "stream",
     "text": [
      "-------------------- \n",
      "Outlier detection:\n",
      " --------------------\n",
      "List of outliers: set()\n"
     ]
    },
    {
     "data": {
      "image/png": "[encoded data removed]",
      "text/plain": [
       "<Figure size 432x288 with 1 Axes>"
      ]
     },
     "metadata": {
      "needs_background": "light"
     },
     "output_type": "display_data"
    },
    {
     "name": "stdout",
     "output_type": "stream",
     "text": [
      "-------------------- \n",
      "Check for normal distribution:\n",
      " --------------------\n",
      "Skewedness: 0.5442\n",
      "Kurtosis: -1.0346\n",
      "==================================================================================================== \n",
      "Overview of variable:  ridge \n",
      " ====================================================================================================\n"
     ]
    },
    {
     "data": {
      "image/png": "[encoded data removed]",
      "text/plain": [
       "<Figure size 432x288 with 1 Axes>"
      ]
     },
     "metadata": {
      "needs_background": "light"
     },
     "output_type": "display_data"
    },
    {
     "name": "stdout",
     "output_type": "stream",
     "text": [
      "-------------------- \n",
      "Summary statistics:\n",
      " --------------------\n",
      "Minimum value: 0.18124722704874824\n",
      "Mean: 0.4666\n",
      "Standard deviation: 0.0957\n",
      "Median: 0.4761\n",
      "Maximal value: 0.788468277565117\n"
     ]
    },
    {
     "data": {
      "image/png": "[encoded data removed]",
      "text/plain": [
       "<Figure size 432x288 with 1 Axes>"
      ]
     },
     "metadata": {
      "needs_background": "light"
     },
     "output_type": "display_data"
    },
    {
     "name": "stdout",
     "output_type": "stream",
     "text": [
      "-------------------- \n",
      "Outlier detection:\n",
      " --------------------\n",
      "List of outliers: {0.79}\n"
     ]
    },
    {
     "data": {
      "image/png": "[encoded data removed]",
      "text/plain": [
       "<Figure size 432x288 with 1 Axes>"
      ]
     },
     "metadata": {
      "needs_background": "light"
     },
     "output_type": "display_data"
    },
    {
     "name": "stdout",
     "output_type": "stream",
     "text": [
      "-------------------- \n",
      "Check for normal distribution:\n",
      " --------------------\n",
      "Skewedness: 0.0249\n",
      "Kurtosis: 0.753\n",
      "==================================================================================================== \n",
      "Overview of variable:  result \n",
      " ====================================================================================================\n"
     ]
    },
    {
     "data": {
      "image/png": "[encoded data removed]",
      "text/plain": [
       "<Figure size 432x288 with 1 Axes>"
      ]
     },
     "metadata": {
      "needs_background": "light"
     },
     "output_type": "display_data"
    },
    {
     "name": "stdout",
     "output_type": "stream",
     "text": [
      "-------------------- \n",
      "Summary statistics:\n",
      " --------------------\n",
      "Minimum value: 0.0\n",
      "Mean: 0.4192\n",
      "Standard deviation: 0.2241\n",
      "Median: 0.4403\n",
      "Maximal value: 1.0\n"
     ]
    },
    {
     "data": {
      "image/png": "[encoded data removed]",
      "text/plain": [
       "<Figure size 432x288 with 1 Axes>"
      ]
     },
     "metadata": {
      "needs_background": "light"
     },
     "output_type": "display_data"
    },
    {
     "name": "stdout",
     "output_type": "stream",
     "text": [
      "-------------------- \n",
      "Outlier detection:\n",
      " --------------------\n",
      "List of outliers: set()\n"
     ]
    },
    {
     "data": {
      "image/png": "[encoded data removed]",
      "text/plain": [
       "<Figure size 432x288 with 1 Axes>"
      ]
     },
     "metadata": {
      "needs_background": "light"
     },
     "output_type": "display_data"
    },
    {
     "name": "stdout",
     "output_type": "stream",
     "text": [
      "-------------------- \n",
      "Check for normal distribution:\n",
      " --------------------\n",
      "Skewedness: 0.0963\n",
      "Kurtosis: 0.3763\n"
     ]
    },
    {
     "data": {
      "text/plain": [
       "<Figure size 432x288 with 0 Axes>"
      ]
     },
     "metadata": {},
     "output_type": "display_data"
    }
   ],
   "source": [
    "# Visualisation strength parameter distributions (based on the different techniques)\n",
    "for col in strength_param_df.columns[1:]:\n",
    "    SummaryNumericVar(strength_param_df[col], col)"
   ]
  },
  {
   "cell_type": "markdown",
   "metadata": {
    "ExecuteTime": {
     "end_time": "2019-03-26T14:30:10.779352Z",
     "start_time": "2019-03-26T14:30:10.606507Z"
    }
   },
   "source": [
    "### 4.4 Write data away"
   ]
  },
  {
   "cell_type": "code",
   "execution_count": 53,
   "metadata": {
    "ExecuteTime": {
     "end_time": "2019-07-19T15:55:29.579474Z",
     "start_time": "2019-07-19T15:55:29.570171Z"
    }
   },
   "outputs": [],
   "source": [
    "# Save the player strength parameter data\n",
    "with open('/home/je32910/MasterThesis_ComputationalStatistics/pickles/' + saved_filename + '.pickle', 'wb') as f:\n",
    "    pickle.dump(strength_param_df, f)"
   ]
  },
  {
   "cell_type": "code",
   "execution_count": null,
   "metadata": {},
   "outputs": [],
   "source": []
  }
 ],
 "metadata": {
  "kernelspec": {
   "display_name": "Python [conda env:python36]",
   "language": "python",
   "name": "conda-env-python36-py"
  },
  "language_info": {
   "codemirror_mode": {
    "name": "ipython",
    "version": 3
   },
   "file_extension": ".py",
   "mimetype": "text/x-python",
   "name": "python",
   "nbconvert_exporter": "python",
   "pygments_lexer": "ipython3",
   "version": "3.6.8"
  }
 },
 "nbformat": 4,
 "nbformat_minor": 2
}
