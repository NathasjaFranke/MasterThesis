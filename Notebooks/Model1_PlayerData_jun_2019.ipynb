{
 "cells": [
  {
   "cell_type": "markdown",
   "metadata": {},
   "source": [
    "# Model 1: Estimation of player strength parameters (Jun)"
   ]
  },
  {
   "cell_type": "code",
   "execution_count": 1,
   "metadata": {
    "ExecuteTime": {
     "end_time": "2019-08-24T17:05:26.440051Z",
     "start_time": "2019-08-24T17:05:26.433311Z"
    }
   },
   "outputs": [],
   "source": [
    "# Filename standardized data\n",
    "#loaded_pp_filename = 'playerdata2017_preprocessed_jun'\n",
    "#loaded_std_filename = 'playerdata2017_standardized_jun'\n",
    "#saved_filename = 'playerdata2017_strenghtparam_jun'\n",
    "#loaded_pp_filename = 'playerdata2018_preprocessed_jun'\n",
    "#loaded_std_filename = 'playerdata2018_standardized_jun'\n",
    "#saved_filename = 'playerdata2018_strenghtparam_jun'\n",
    "loaded_pp_filename = 'playerdata2019_preprocessed_jun'\n",
    "loaded_std_filename = 'playerdata2019_standardized_jun'\n",
    "saved_filename = 'playerdata2019_strenghtparam_jun'"
   ]
  },
  {
   "cell_type": "markdown",
   "metadata": {},
   "source": [
    "## 0. Load libraries and define functions"
   ]
  },
  {
   "cell_type": "markdown",
   "metadata": {},
   "source": [
    "### 0.1 General python functionality"
   ]
  },
  {
   "cell_type": "code",
   "execution_count": 2,
   "metadata": {
    "ExecuteTime": {
     "end_time": "2019-08-24T17:05:28.534869Z",
     "start_time": "2019-08-24T17:05:26.451571Z"
    }
   },
   "outputs": [],
   "source": [
    "# Functions\n",
    "import numpy as np\n",
    "import os\n",
    "import pickle\n",
    "import pandas as pd\n",
    "import operator\n",
    "import itertools\n",
    "from numpy.random import choice\n",
    "from collections import Counter\n",
    "import statistics\n",
    "from scipy import stats\n",
    "\n",
    "# Functions used for data visualization\n",
    "import seaborn as sns\n",
    "import matplotlib.pyplot as plt"
   ]
  },
  {
   "cell_type": "code",
   "execution_count": 3,
   "metadata": {
    "ExecuteTime": {
     "end_time": "2019-08-24T17:05:29.504293Z",
     "start_time": "2019-08-24T17:05:28.540880Z"
    }
   },
   "outputs": [],
   "source": [
    "# Special functions needed for custom functions\n",
    "import sklearn\n",
    "from sklearn.model_selection import train_test_split\n",
    "from sklearn.linear_model import Ridge, RidgeCV, RidgeClassifierCV, LogisticRegression, ElasticNetCV, ElasticNet, Lasso, RidgeClassifier\n",
    "from sklearn import metrics\n",
    "from sklearn.feature_selection import RFECV\n",
    "from sklearn.ensemble import RandomForestClassifier\n",
    "from sklearn.model_selection import GridSearchCV"
   ]
  },
  {
   "cell_type": "code",
   "execution_count": 4,
   "metadata": {
    "ExecuteTime": {
     "end_time": "2019-08-24T17:05:29.528940Z",
     "start_time": "2019-08-24T17:05:29.512740Z"
    }
   },
   "outputs": [],
   "source": [
    "# Surpress printing warnings\n",
    "import warnings\n",
    "warnings.filterwarnings(\"ignore\")"
   ]
  },
  {
   "cell_type": "markdown",
   "metadata": {},
   "source": [
    "### 0.2 Custom functions"
   ]
  },
  {
   "cell_type": "code",
   "execution_count": 5,
   "metadata": {
    "ExecuteTime": {
     "end_time": "2019-08-24T17:05:29.564334Z",
     "start_time": "2019-08-24T17:05:29.537353Z"
    }
   },
   "outputs": [],
   "source": [
    "### Function used to return a summary for categorical variables\n",
    "def SummaryCategoricalVar(list_of_values, title, threshold = 20, top = 10):\n",
    "    \"\"\"\n",
    "    param: list_of_values (list): A list of categorical values from which we like to obtain the distribution\n",
    "    param: title (string): The title for the visualization\n",
    "    param: threshold (int): The maximal number of categories that should be visualized\n",
    "    param: top (int): The top k values that should be returned in the written summary when the number of categories is above the threshold\n",
    "    \"\"\"\n",
    "    # Count the number of occurrances in the list\n",
    "    cnt = Counter(list_of_values)\n",
    "    sorted_cnt = sorted(cnt.items(), key=operator.itemgetter(1))[::-1]\n",
    "    \n",
    "    # Show the percentage dictionary if to many categories to represent\n",
    "    print(\"-\"* 100, \"\\nOverview of variable: \", title, \"\\n\", \"-\"*100)\n",
    "    print(\"Total categories:\", len(cnt), \"\\n\")\n",
    "    if len(cnt) > threshold:\n",
    "        if len(cnt) < top*2:\n",
    "            for key, value in sorted_cnt:\n",
    "                print(key, ':', round(value/len(list_of_values)*100, 4), \"%\")\n",
    "        else:\n",
    "            print(\"The 10 with the highest percentage data available:\\n\")\n",
    "            for key, value in sorted_cnt[:top]:\n",
    "                print(key, ':', round(value/len(list_of_values)*100, 4), \"%\")\n",
    "            print(\"\\nThe 10 with the lowest percentage data available:\\n\")\n",
    "            for key, value in sorted_cnt[len(cnt) - top:]:\n",
    "                print(key, ':', round(value/len(list_of_values)*100, 4), \"%\")\n",
    "                \n",
    "    # Visualization of labelled data distribution\n",
    "    else:\n",
    "        plt.barh(range(1, len(sorted_cnt)+1), \n",
    "                 list(map(lambda x: (x/len(list_of_values)*100), [score for label, score in sorted_cnt])), \n",
    "                 tick_label = list([label for label, score in sorted_cnt]),\n",
    "                 color = 'cornflowerblue', \n",
    "                 edgecolor = 'steelblue')\n",
    "        plt.ylabel('Label')\n",
    "        plt.xlabel('Percentage observations in dataset')\n",
    "        plt.title(title)\n",
    "        plt.show()    \n",
    "        plt.savefig('Barplot_' + title + '.png')"
   ]
  },
  {
   "cell_type": "code",
   "execution_count": 6,
   "metadata": {
    "ExecuteTime": {
     "end_time": "2019-08-24T17:05:29.609785Z",
     "start_time": "2019-08-24T17:05:29.571638Z"
    }
   },
   "outputs": [],
   "source": [
    "### Function used to return a summary for numeric variables\n",
    "def SummaryNumericVar(list_of_values, title):\n",
    "    \"\"\"\n",
    "    param: list_of_values (list): A list of categorical values from which we like to obtain the distribution\n",
    "    param: title (string): The title for the visualization\n",
    "    \"\"\"\n",
    "    \n",
    "    # Title varibale\n",
    "    print(\"=\"* 100, \"\\nOverview of variable: \", title, \"\\n\", \"=\"*100)\n",
    "\n",
    "    # An \"interface\" to matplotlib.axes.Axes.hist() method\n",
    "    n, bins, patches = plt.hist(x = list_of_values, bins='auto', color= '#0504aa', alpha=0.7, rwidth=0.85)\n",
    "    plt.grid(axis='y', alpha=0.75)\n",
    "    plt.xlabel('Value')\n",
    "    plt.ylabel('Frequency')\n",
    "    plt.title(title)\n",
    "    plt.ylim(top=np.ceil(n.max() / 10) * 10 if n.max() % 10 else n.max() + 10)\n",
    "    plt.show()\n",
    "    plt.savefig('Frequency_' + title + '.png')\n",
    "\n",
    "    # Print summary statistics\n",
    "    print(\"-\"*20, \"\\nSummary statistics:\\n\", \"-\"*20)\n",
    "    print(\"Minimum value:\", min(list_of_values))\n",
    "    print(\"Mean:\", round(statistics.mean(list_of_values), 4))\n",
    "    print(\"Standard deviation:\", round(statistics.stdev(list_of_values), 4))\n",
    "    print(\"Median:\", round(statistics.median(list_of_values), 4))\n",
    "    print(\"Maximal value:\", max(list_of_values))\n",
    "\n",
    "    # Plot boxplot\n",
    "    plt.boxplot(list_of_values, 0, 'grey', 0)\n",
    "    plt.xlabel('Value')\n",
    "    plt.title(title)\n",
    "    plt.show()\n",
    "    plt.savefig('Boxplot_' + title + '.png')\n",
    "\n",
    "    # Present outliers\n",
    "    print(\"-\"*20, \"\\nOutlier detection:\\n\", \"-\"*20)\n",
    "    print(\"List of outliers:\", {round(value,2) for z_score, value in zip(np.abs(stats.zscore(list_of_values)), list_of_values) if z_score > 3})\n",
    "\n",
    "    # Check for normally distributed\n",
    "    stats.probplot(list_of_values, dist=\"norm\", plot= plt)\n",
    "    plt.show()\n",
    "    plt.savefig('Probabilityplot_' + title + '.png')\n",
    "\n",
    "    # Statistics to check normality\n",
    "    print(\"-\"*20, \"\\nCheck for normal distribution:\\n\", \"-\"*20)\n",
    "    print(\"Skewedness:\", round(stats.skew(list_of_values), 4))\n",
    "    print(\"Kurtosis:\", round(stats.kurtosis(list_of_values), 4))"
   ]
  },
  {
   "cell_type": "code",
   "execution_count": 7,
   "metadata": {
    "ExecuteTime": {
     "end_time": "2019-08-24T17:05:29.660719Z",
     "start_time": "2019-08-24T17:05:29.611637Z"
    }
   },
   "outputs": [],
   "source": [
    "### Function used to split the data into training and test data\n",
    "def data_splitter(df, response_name = 'target', split_threshold = 0.15, seed = 42):\n",
    "    \"\"\"\n",
    "    Function used to split a dataframe into test and training data\n",
    "    \n",
    "    param: df (Panda's dataframe object)\n",
    "    param: response_name (string): The name of the response variable in the dataframe\n",
    "    param: split_threshold (float): The split threshold used\n",
    "    param: seed (int): Integer defining the seed for random split of the data\n",
    "    \n",
    "    return: (tuple) A tuple with four pandas dataframe objects\n",
    "    \"\"\"\n",
    "    # Split the dataframe into features and response variable\n",
    "    df_tmp = df.copy()\n",
    "    x, y = df_tmp.drop([response_name], axis = 1), df[response_name]\n",
    "    # Split the feature and response variable into training and test data\n",
    "    x_train, x_test, y_train, y_test = train_test_split(x, y, test_size = split_threshold, random_state = seed)\n",
    "    return (x_train, x_test, y_train, y_test)"
   ]
  },
  {
   "cell_type": "code",
   "execution_count": 8,
   "metadata": {
    "ExecuteTime": {
     "end_time": "2019-08-24T17:05:29.710166Z",
     "start_time": "2019-08-24T17:05:29.662537Z"
    }
   },
   "outputs": [],
   "source": [
    "### Function used to generate a summary of the input model (binary classes)\n",
    "def binary_class_evaluator(model, x_test, y_test, threshold = 0.5, elasticnet = False):\n",
    "    \"\"\"\n",
    "    Function returning a tuple with sensitivity, specificity and AUC metrics for specific model\n",
    "    \n",
    "    param: model (model): The model we like to evaluate\n",
    "    param: x_test (list): List of lists of numpy arrays\n",
    "    param: y_test (list): Binary values indicating the outcome variable\n",
    "    param: threshold (float): The classification threshold used\n",
    "    param: elasticnet (bool): Booling indicator for specifying whether the model is elastic net based\n",
    "\n",
    "    return: A tuple containing the calculated sensitivity, specificity and AUC metrics\n",
    "    \"\"\"\n",
    "    # Calculate the different summary statistics based on the model and test data\n",
    "    test_data =  list(y_test) \n",
    "    model_preds = list(model.predict(x_test)) if not elasticnet else [1.0 if x > 0 else 0.0 for x in model.predict(x_test)]\n",
    "    model_acc = metrics.accuracy_score(test_data, model_preds)\n",
    "    true_pos = len([mp for mp, td in zip(model_preds, test_data) if mp > threshold and td == 1])\n",
    "    false_neg = len([mp for mp, td in zip(model_preds, test_data) if mp < threshold and td == 1])\n",
    "    true_neg = len([mp for mp, td in zip(model_preds, test_data) if mp < threshold and td == 0])\n",
    "    false_pos = len([mp for mp, td in zip(model_preds, test_data) if mp > threshold and td == 0])\n",
    "    \n",
    "    # Print intermediate summary to the user\n",
    "    print(\"Based on a threshold of\", threshold, \"the following summary statistics can be obtained:\\n\", \"-\"*100)\n",
    "    print(true_pos, \"true positives over all positives (the wins that were correctly classified).\")\n",
    "    print(false_pos, \"false positives (the wins that were wrongly classified).\")\n",
    "    print(true_neg, \"true negatives (the losses that were correctly classified).\")\n",
    "    print(false_neg, \"false negatives (the losses that were wrongly classified).\\n\")\n",
    "    print(\"The sensitivity is: \", true_pos / (true_pos + false_neg))\n",
    "    print(\"The specificity is: \", true_neg / (true_neg + false_pos))\n",
    "    \n",
    "    # Plot the ROC curve for the model\n",
    "    print(\"\\n\\nAccuracy:\", model_acc, \"\\n\", \"-\"*100)\n",
    "    fpr, tpr, _ = metrics.roc_curve(test_data, model_preds)\n",
    "    auc = metrics.roc_auc_score(test_data, model_preds)\n",
    "    plt.plot(fpr, tpr, label= \"auc: \" + str(round(auc, 4)))\n",
    "    plt.legend(loc = 4)\n",
    "    plt.title('ROC curve')\n",
    "    plt.show()\n",
    "    \n",
    "    # Return sensitivity and specificity values to the user \n",
    "    return true_pos / (true_pos + false_neg), true_neg / (true_neg + false_pos), auc, model_acc"
   ]
  },
  {
   "cell_type": "code",
   "execution_count": 9,
   "metadata": {
    "ExecuteTime": {
     "end_time": "2019-08-24T17:05:29.767753Z",
     "start_time": "2019-08-24T17:05:29.711822Z"
    }
   },
   "outputs": [],
   "source": [
    "### Function used to plot the confusion matrix (normalization can be applied if desired)\n",
    "def plot_confusion_matrix(model, x_test, y_test, classes, normalize = False, elasticnet = False, cmap = plt.cm.Blues):\n",
    "    \"\"\"\n",
    "    Function that visualizes the confusion matrix based on the predictions made by the fitted model and their correspondence\n",
    "    to the observed test data. The option is available to return the normalized confusion matrix.\n",
    "    \n",
    "    param: model (model): The model we like to evaluate\n",
    "    param: x_test (list): List of lists of numpy arrays\n",
    "    param: y_test (list): Binary values indicating the outcome variable\n",
    "    param: classes (list): A list of classes that correspond to the numbered labels in the confusion matrix in that order.\n",
    "    param: normalize (bool): Booling indicator for specification of returning the normalized or non-normalized confusion matrix.\n",
    "    param: elasticnet (bool): Booling indicator for specifying whether the model is elastic net based\n",
    "    \"\"\"\n",
    "    # Approximate the confusion matrix based on model predictions\n",
    "    model_preds = list(model.predict(x_test)) if not elasticnet else [1.0 if x > 0 else 0.0 for x in model.predict(x_test)]\n",
    "    cm = sklearn.metrics.confusion_matrix(y_test, model_preds)\n",
    "    \n",
    "    # Normalize the cm if desired\n",
    "    title = 'Normalized confusion matrix' if normalize else 'Confusion matrix'\n",
    "    if normalize:\n",
    "        cm = cm.astype('float') / cm.sum(axis=1)[:, np.newaxis]\n",
    "    \n",
    "    # Create confusion matrix\n",
    "    print(title, \":\\n\", \"-\"*100)\n",
    "    plt.imshow(cm, interpolation='nearest', cmap=cmap)\n",
    "    plt.title(title)\n",
    "    plt.colorbar()\n",
    "    tick_marks = np.arange(len(classes))\n",
    "    plt.xticks(tick_marks, classes, rotation=45)\n",
    "    plt.yticks(tick_marks, classes)\n",
    "    fmt = '.2f' if normalize else 'd'\n",
    "    thresh = cm.max() / 2.\n",
    "    for i, j in itertools.product(range(cm.shape[0]), range(cm.shape[1])):\n",
    "        plt.text(j, i, format(cm[i, j], fmt),\n",
    "                 horizontalalignment=\"center\",\n",
    "                 color=\"white\" if cm[i, j] > thresh else \"black\")\n",
    "\n",
    "    plt.tight_layout()\n",
    "    plt.ylabel('True label')\n",
    "    plt.xlabel('Predicted label')\n",
    "    plt.show()"
   ]
  },
  {
   "cell_type": "code",
   "execution_count": 10,
   "metadata": {
    "ExecuteTime": {
     "end_time": "2019-08-24T17:05:29.805585Z",
     "start_time": "2019-08-24T17:05:29.769525Z"
    }
   },
   "outputs": [],
   "source": [
    "### Function used to extract the top10 most important features based on the magnitute of the coefficients\n",
    "def important_features_extractor(model, fitted_features, top = 10, elasticnet = False):\n",
    "    \"\"\"\n",
    "    Function used to extract a dictionary mapping the features used in the model with the estimates of their coefficients\n",
    "    \n",
    "    param: model (model): The model we like to evaluate.\n",
    "    param: fitted_features (list): List capturing the different features evaluated by the model.\n",
    "    param: top (int): The amount of fetaures you like to be printed as output (sorted based on decreasing importance).\n",
    "    param: elasticnet (bool): Booling indicator for specifying whether the model is elastic net based\n",
    "    return: (dict) A dictionary mapping the features with their corresponding coefficient estimates.\n",
    "    \"\"\"\n",
    "    # Extract model coefficients\n",
    "    coefficients = model.coef_[0] if not elasticnet else model.coef_\n",
    "    coef_dict = {col:coef for col, coef in zip(fitted_features, coefficients)}\n",
    "    coef_dict_abs = {col:abs(round(coef,2)) for col, coef in zip(fitted_features, coefficients)}\n",
    "    sorted_coefs = sorted(coef_dict_abs.items(), key=operator.itemgetter(1), reverse= True)\n",
    "\n",
    "    # Return the top ten most important features and their coefficients\n",
    "    print(\"Summary of the important features and their corresponding coefficients:\\n\", '-'*100)\n",
    "    ret_dict = dict()\n",
    "    for index, (col, abs_score) in enumerate(sorted_coefs):\n",
    "        if index < top:\n",
    "            print(col, ':', coef_dict[col])\n",
    "        ret_dict[col] = coef_dict[col]\n",
    "    return ret_dict"
   ]
  },
  {
   "cell_type": "code",
   "execution_count": 11,
   "metadata": {
    "ExecuteTime": {
     "end_time": "2019-08-24T17:05:29.855488Z",
     "start_time": "2019-08-24T17:05:29.807285Z"
    }
   },
   "outputs": [],
   "source": [
    "### Function used to draw a random sample from the discrete distribution of probabilities representing the input list\n",
    "def RandomSampleProbDist(list_of_values, draws = 1):\n",
    "    \"\"\"\n",
    "    :param: list_of_values (list): A list of categorical values representing the observations in the dataset\n",
    "    :param: draws (int): The number of samples desired to be returned\n",
    "    :return: (array) An array capturing the sampled categories\n",
    "    \"\"\"\n",
    "    # Only the non-missing values are considered in the sampling procedure\n",
    "    non_missing_list = list_of_values.dropna()\n",
    "    # Sample from the discrete probability distribution representing the categorical variable\n",
    "    return list(choice(list(Counter(non_missing_list)), \n",
    "                  draws, \n",
    "                  p = list(map(lambda x: x/len(non_missing_list), \n",
    "                               Counter(non_missing_list).values()))))[0]"
   ]
  },
  {
   "cell_type": "markdown",
   "metadata": {},
   "source": [
    "## 1. Load preprocessed data in environment"
   ]
  },
  {
   "cell_type": "markdown",
   "metadata": {},
   "source": [
    "### 1.1 Load standardized data"
   ]
  },
  {
   "cell_type": "code",
   "execution_count": 12,
   "metadata": {
    "ExecuteTime": {
     "end_time": "2019-08-24T17:05:29.914964Z",
     "start_time": "2019-08-24T17:05:29.857176Z"
    }
   },
   "outputs": [],
   "source": [
    "# Load pickle\n",
    "with open('/home/je32910/MasterThesis_ComputationalStatistics/pickles/' + loaded_std_filename + '.pickle', 'rb') as f:\n",
    "    data_raw = pickle.load(f)"
   ]
  },
  {
   "cell_type": "code",
   "execution_count": 13,
   "metadata": {
    "ExecuteTime": {
     "end_time": "2019-08-24T17:05:30.129003Z",
     "start_time": "2019-08-24T17:05:29.931952Z"
    },
    "scrolled": true
   },
   "outputs": [
    {
     "data": {
      "text/html": [
       "<div>\n",
       "<style scoped>\n",
       "    .dataframe tbody tr th:only-of-type {\n",
       "        vertical-align: middle;\n",
       "    }\n",
       "\n",
       "    .dataframe tbody tr th {\n",
       "        vertical-align: top;\n",
       "    }\n",
       "\n",
       "    .dataframe thead th {\n",
       "        text-align: right;\n",
       "    }\n",
       "</style>\n",
       "<table border=\"1\" class=\"dataframe\">\n",
       "  <thead>\n",
       "    <tr style=\"text-align: right;\">\n",
       "      <th></th>\n",
       "      <th>split</th>\n",
       "      <th>patchno</th>\n",
       "      <th>result</th>\n",
       "      <th>k</th>\n",
       "      <th>d</th>\n",
       "      <th>a</th>\n",
       "      <th>doubles</th>\n",
       "      <th>triples</th>\n",
       "      <th>pentas</th>\n",
       "      <th>fb</th>\n",
       "      <th>...</th>\n",
       "      <th>csdat15</th>\n",
       "      <th>datediff</th>\n",
       "      <th>Encoded_league</th>\n",
       "      <th>Encoded_game</th>\n",
       "      <th>Encoded_side</th>\n",
       "      <th>Encoded_champion</th>\n",
       "      <th>Encoded_Year</th>\n",
       "      <th>Encoded_team</th>\n",
       "      <th>Encoded_culture</th>\n",
       "      <th>player</th>\n",
       "    </tr>\n",
       "  </thead>\n",
       "  <tbody>\n",
       "    <tr>\n",
       "      <th>0</th>\n",
       "      <td>-0.259035</td>\n",
       "      <td>-1.035323</td>\n",
       "      <td>0.0</td>\n",
       "      <td>0.873091</td>\n",
       "      <td>-0.312686</td>\n",
       "      <td>-0.501348</td>\n",
       "      <td>-0.294272</td>\n",
       "      <td>-0.103075</td>\n",
       "      <td>-0.011355</td>\n",
       "      <td>2.537867</td>\n",
       "      <td>...</td>\n",
       "      <td>2.867328</td>\n",
       "      <td>0.958407</td>\n",
       "      <td>1.229729</td>\n",
       "      <td>1.192908</td>\n",
       "      <td>-1.0</td>\n",
       "      <td>-0.252176</td>\n",
       "      <td>-1.072695</td>\n",
       "      <td>-0.353946</td>\n",
       "      <td>-0.758608</td>\n",
       "      <td>beyond</td>\n",
       "    </tr>\n",
       "    <tr>\n",
       "      <th>1</th>\n",
       "      <td>-0.259035</td>\n",
       "      <td>-1.035323</td>\n",
       "      <td>1.0</td>\n",
       "      <td>-1.065598</td>\n",
       "      <td>-0.868549</td>\n",
       "      <td>0.748477</td>\n",
       "      <td>-0.294272</td>\n",
       "      <td>-0.103075</td>\n",
       "      <td>-0.011355</td>\n",
       "      <td>-0.394032</td>\n",
       "      <td>...</td>\n",
       "      <td>-2.867328</td>\n",
       "      <td>0.958407</td>\n",
       "      <td>1.229729</td>\n",
       "      <td>1.192908</td>\n",
       "      <td>1.0</td>\n",
       "      <td>-1.196948</td>\n",
       "      <td>-1.072695</td>\n",
       "      <td>0.714599</td>\n",
       "      <td>-0.758608</td>\n",
       "      <td>umti</td>\n",
       "    </tr>\n",
       "    <tr>\n",
       "      <th>2</th>\n",
       "      <td>-0.259035</td>\n",
       "      <td>-1.035323</td>\n",
       "      <td>0.0</td>\n",
       "      <td>-0.096253</td>\n",
       "      <td>0.799039</td>\n",
       "      <td>-1.001278</td>\n",
       "      <td>-0.294272</td>\n",
       "      <td>-0.103075</td>\n",
       "      <td>-0.011355</td>\n",
       "      <td>2.537867</td>\n",
       "      <td>...</td>\n",
       "      <td>0.058517</td>\n",
       "      <td>0.958407</td>\n",
       "      <td>1.229729</td>\n",
       "      <td>-0.877722</td>\n",
       "      <td>-1.0</td>\n",
       "      <td>-1.346122</td>\n",
       "      <td>-1.072695</td>\n",
       "      <td>0.714599</td>\n",
       "      <td>-0.758608</td>\n",
       "      <td>umti</td>\n",
       "    </tr>\n",
       "    <tr>\n",
       "      <th>3</th>\n",
       "      <td>-0.259035</td>\n",
       "      <td>-1.035323</td>\n",
       "      <td>1.0</td>\n",
       "      <td>0.873091</td>\n",
       "      <td>-0.868549</td>\n",
       "      <td>0.248547</td>\n",
       "      <td>2.482696</td>\n",
       "      <td>-0.103075</td>\n",
       "      <td>-0.011355</td>\n",
       "      <td>-0.394032</td>\n",
       "      <td>...</td>\n",
       "      <td>-0.058517</td>\n",
       "      <td>0.958407</td>\n",
       "      <td>1.229729</td>\n",
       "      <td>-0.877722</td>\n",
       "      <td>1.0</td>\n",
       "      <td>0.344523</td>\n",
       "      <td>-1.072695</td>\n",
       "      <td>-0.353946</td>\n",
       "      <td>-0.758608</td>\n",
       "      <td>beyond</td>\n",
       "    </tr>\n",
       "    <tr>\n",
       "      <th>4</th>\n",
       "      <td>-0.259035</td>\n",
       "      <td>-1.035323</td>\n",
       "      <td>1.0</td>\n",
       "      <td>0.388419</td>\n",
       "      <td>-0.312686</td>\n",
       "      <td>1.248407</td>\n",
       "      <td>-0.294272</td>\n",
       "      <td>-0.103075</td>\n",
       "      <td>-0.011355</td>\n",
       "      <td>-0.394032</td>\n",
       "      <td>...</td>\n",
       "      <td>0.526652</td>\n",
       "      <td>0.958407</td>\n",
       "      <td>1.229729</td>\n",
       "      <td>-0.748308</td>\n",
       "      <td>-1.0</td>\n",
       "      <td>1.537919</td>\n",
       "      <td>-1.072695</td>\n",
       "      <td>-0.353946</td>\n",
       "      <td>-0.758608</td>\n",
       "      <td>beyond</td>\n",
       "    </tr>\n",
       "    <tr>\n",
       "      <th>5</th>\n",
       "      <td>-0.259035</td>\n",
       "      <td>-1.035323</td>\n",
       "      <td>0.0</td>\n",
       "      <td>1.357763</td>\n",
       "      <td>0.799039</td>\n",
       "      <td>-0.751313</td>\n",
       "      <td>-0.294272</td>\n",
       "      <td>-0.103075</td>\n",
       "      <td>-0.011355</td>\n",
       "      <td>-0.394032</td>\n",
       "      <td>...</td>\n",
       "      <td>-0.526652</td>\n",
       "      <td>0.958407</td>\n",
       "      <td>1.229729</td>\n",
       "      <td>-0.748308</td>\n",
       "      <td>1.0</td>\n",
       "      <td>-1.346122</td>\n",
       "      <td>-1.072695</td>\n",
       "      <td>0.714599</td>\n",
       "      <td>-0.758608</td>\n",
       "      <td>umti</td>\n",
       "    </tr>\n",
       "    <tr>\n",
       "      <th>6</th>\n",
       "      <td>-0.259035</td>\n",
       "      <td>-1.035323</td>\n",
       "      <td>1.0</td>\n",
       "      <td>0.873091</td>\n",
       "      <td>-0.868549</td>\n",
       "      <td>-0.751313</td>\n",
       "      <td>-0.294272</td>\n",
       "      <td>-0.103075</td>\n",
       "      <td>-0.011355</td>\n",
       "      <td>-0.394032</td>\n",
       "      <td>...</td>\n",
       "      <td>-2.691777</td>\n",
       "      <td>0.958407</td>\n",
       "      <td>1.229729</td>\n",
       "      <td>1.192908</td>\n",
       "      <td>-1.0</td>\n",
       "      <td>1.537919</td>\n",
       "      <td>-1.072695</td>\n",
       "      <td>1.550852</td>\n",
       "      <td>-0.758608</td>\n",
       "      <td>cuzz</td>\n",
       "    </tr>\n",
       "    <tr>\n",
       "      <th>7</th>\n",
       "      <td>-0.259035</td>\n",
       "      <td>-1.035323</td>\n",
       "      <td>0.0</td>\n",
       "      <td>0.388419</td>\n",
       "      <td>-0.312686</td>\n",
       "      <td>-0.751313</td>\n",
       "      <td>-0.294272</td>\n",
       "      <td>-0.103075</td>\n",
       "      <td>-0.011355</td>\n",
       "      <td>-0.394032</td>\n",
       "      <td>...</td>\n",
       "      <td>2.691777</td>\n",
       "      <td>0.958407</td>\n",
       "      <td>1.229729</td>\n",
       "      <td>1.192908</td>\n",
       "      <td>1.0</td>\n",
       "      <td>-0.252176</td>\n",
       "      <td>-1.072695</td>\n",
       "      <td>-0.470092</td>\n",
       "      <td>-0.758608</td>\n",
       "      <td>score</td>\n",
       "    </tr>\n",
       "    <tr>\n",
       "      <th>8</th>\n",
       "      <td>-0.259035</td>\n",
       "      <td>-1.035323</td>\n",
       "      <td>0.0</td>\n",
       "      <td>-1.065598</td>\n",
       "      <td>-0.868549</td>\n",
       "      <td>-1.001278</td>\n",
       "      <td>-0.294272</td>\n",
       "      <td>-0.103075</td>\n",
       "      <td>-0.011355</td>\n",
       "      <td>-0.394032</td>\n",
       "      <td>...</td>\n",
       "      <td>2.048091</td>\n",
       "      <td>0.958407</td>\n",
       "      <td>1.229729</td>\n",
       "      <td>-0.877722</td>\n",
       "      <td>-1.0</td>\n",
       "      <td>-0.252176</td>\n",
       "      <td>-1.072695</td>\n",
       "      <td>-0.470092</td>\n",
       "      <td>-0.758608</td>\n",
       "      <td>score</td>\n",
       "    </tr>\n",
       "    <tr>\n",
       "      <th>9</th>\n",
       "      <td>-0.259035</td>\n",
       "      <td>-1.035323</td>\n",
       "      <td>1.0</td>\n",
       "      <td>-1.065598</td>\n",
       "      <td>-0.868549</td>\n",
       "      <td>0.498512</td>\n",
       "      <td>-0.294272</td>\n",
       "      <td>-0.103075</td>\n",
       "      <td>-0.011355</td>\n",
       "      <td>-0.394032</td>\n",
       "      <td>...</td>\n",
       "      <td>-2.048091</td>\n",
       "      <td>0.958407</td>\n",
       "      <td>1.229729</td>\n",
       "      <td>-0.877722</td>\n",
       "      <td>1.0</td>\n",
       "      <td>-1.346122</td>\n",
       "      <td>-1.072695</td>\n",
       "      <td>1.550852</td>\n",
       "      <td>-0.758608</td>\n",
       "      <td>cuzz</td>\n",
       "    </tr>\n",
       "    <tr>\n",
       "      <th>10</th>\n",
       "      <td>-0.259035</td>\n",
       "      <td>-1.035323</td>\n",
       "      <td>1.0</td>\n",
       "      <td>1.357763</td>\n",
       "      <td>-1.424411</td>\n",
       "      <td>-0.001418</td>\n",
       "      <td>-0.294272</td>\n",
       "      <td>-0.103075</td>\n",
       "      <td>-0.011355</td>\n",
       "      <td>-0.394032</td>\n",
       "      <td>...</td>\n",
       "      <td>-1.521439</td>\n",
       "      <td>0.955488</td>\n",
       "      <td>1.229729</td>\n",
       "      <td>1.192908</td>\n",
       "      <td>-1.0</td>\n",
       "      <td>-1.346122</td>\n",
       "      <td>-1.072695</td>\n",
       "      <td>0.644911</td>\n",
       "      <td>-0.758608</td>\n",
       "      <td>malrang</td>\n",
       "    </tr>\n",
       "    <tr>\n",
       "      <th>11</th>\n",
       "      <td>-0.259035</td>\n",
       "      <td>-1.035323</td>\n",
       "      <td>0.0</td>\n",
       "      <td>-0.580926</td>\n",
       "      <td>1.910764</td>\n",
       "      <td>-0.501348</td>\n",
       "      <td>-0.294272</td>\n",
       "      <td>-0.103075</td>\n",
       "      <td>-0.011355</td>\n",
       "      <td>-0.394032</td>\n",
       "      <td>...</td>\n",
       "      <td>1.521439</td>\n",
       "      <td>0.955488</td>\n",
       "      <td>1.229729</td>\n",
       "      <td>1.192908</td>\n",
       "      <td>1.0</td>\n",
       "      <td>-0.500800</td>\n",
       "      <td>-1.072695</td>\n",
       "      <td>-0.864989</td>\n",
       "      <td>-0.758608</td>\n",
       "      <td>spirit</td>\n",
       "    </tr>\n",
       "    <tr>\n",
       "      <th>12</th>\n",
       "      <td>-0.259035</td>\n",
       "      <td>-1.035323</td>\n",
       "      <td>1.0</td>\n",
       "      <td>-0.580926</td>\n",
       "      <td>-0.312686</td>\n",
       "      <td>0.248547</td>\n",
       "      <td>-0.294272</td>\n",
       "      <td>-0.103075</td>\n",
       "      <td>-0.011355</td>\n",
       "      <td>-0.394032</td>\n",
       "      <td>...</td>\n",
       "      <td>1.345889</td>\n",
       "      <td>0.955488</td>\n",
       "      <td>1.229729</td>\n",
       "      <td>-0.877722</td>\n",
       "      <td>-1.0</td>\n",
       "      <td>-0.500800</td>\n",
       "      <td>-1.072695</td>\n",
       "      <td>-0.864989</td>\n",
       "      <td>-0.758608</td>\n",
       "      <td>spirit</td>\n",
       "    </tr>\n",
       "    <tr>\n",
       "      <th>13</th>\n",
       "      <td>-0.259035</td>\n",
       "      <td>-1.035323</td>\n",
       "      <td>0.0</td>\n",
       "      <td>-0.096253</td>\n",
       "      <td>0.243176</td>\n",
       "      <td>-0.001418</td>\n",
       "      <td>-0.294272</td>\n",
       "      <td>-0.103075</td>\n",
       "      <td>-0.011355</td>\n",
       "      <td>-0.394032</td>\n",
       "      <td>...</td>\n",
       "      <td>-1.345889</td>\n",
       "      <td>0.955488</td>\n",
       "      <td>1.229729</td>\n",
       "      <td>-0.877722</td>\n",
       "      <td>1.0</td>\n",
       "      <td>-0.252176</td>\n",
       "      <td>-1.072695</td>\n",
       "      <td>0.644911</td>\n",
       "      <td>-0.758608</td>\n",
       "      <td>malrang</td>\n",
       "    </tr>\n",
       "    <tr>\n",
       "      <th>14</th>\n",
       "      <td>-0.259035</td>\n",
       "      <td>-1.035323</td>\n",
       "      <td>0.0</td>\n",
       "      <td>0.388419</td>\n",
       "      <td>1.354902</td>\n",
       "      <td>-1.251243</td>\n",
       "      <td>-0.294272</td>\n",
       "      <td>-0.103075</td>\n",
       "      <td>-0.011355</td>\n",
       "      <td>-0.394032</td>\n",
       "      <td>...</td>\n",
       "      <td>0.175551</td>\n",
       "      <td>0.955488</td>\n",
       "      <td>1.229729</td>\n",
       "      <td>-0.877722</td>\n",
       "      <td>-1.0</td>\n",
       "      <td>-0.500800</td>\n",
       "      <td>-1.072695</td>\n",
       "      <td>1.225642</td>\n",
       "      <td>-0.758608</td>\n",
       "      <td>peanut</td>\n",
       "    </tr>\n",
       "    <tr>\n",
       "      <th>15</th>\n",
       "      <td>-0.259035</td>\n",
       "      <td>-1.035323</td>\n",
       "      <td>1.0</td>\n",
       "      <td>1.357763</td>\n",
       "      <td>-1.424411</td>\n",
       "      <td>0.748477</td>\n",
       "      <td>-0.294272</td>\n",
       "      <td>-0.103075</td>\n",
       "      <td>-0.011355</td>\n",
       "      <td>-0.394032</td>\n",
       "      <td>...</td>\n",
       "      <td>-0.175551</td>\n",
       "      <td>0.955488</td>\n",
       "      <td>1.229729</td>\n",
       "      <td>-0.877722</td>\n",
       "      <td>1.0</td>\n",
       "      <td>0.344523</td>\n",
       "      <td>-1.072695</td>\n",
       "      <td>0.830745</td>\n",
       "      <td>-0.758608</td>\n",
       "      <td>ambition</td>\n",
       "    </tr>\n",
       "    <tr>\n",
       "      <th>16</th>\n",
       "      <td>-0.259035</td>\n",
       "      <td>-1.035323</td>\n",
       "      <td>1.0</td>\n",
       "      <td>-0.096253</td>\n",
       "      <td>0.243176</td>\n",
       "      <td>-0.001418</td>\n",
       "      <td>-0.294272</td>\n",
       "      <td>-0.103075</td>\n",
       "      <td>-0.011355</td>\n",
       "      <td>-0.394032</td>\n",
       "      <td>...</td>\n",
       "      <td>-1.053304</td>\n",
       "      <td>0.952567</td>\n",
       "      <td>-1.653366</td>\n",
       "      <td>1.192908</td>\n",
       "      <td>-1.0</td>\n",
       "      <td>-0.252176</td>\n",
       "      <td>-1.072695</td>\n",
       "      <td>0.853975</td>\n",
       "      <td>-0.252848</td>\n",
       "      <td>jankos</td>\n",
       "    </tr>\n",
       "    <tr>\n",
       "      <th>17</th>\n",
       "      <td>-0.259035</td>\n",
       "      <td>-1.035323</td>\n",
       "      <td>0.0</td>\n",
       "      <td>-0.580926</td>\n",
       "      <td>-0.312686</td>\n",
       "      <td>-1.001278</td>\n",
       "      <td>-0.294272</td>\n",
       "      <td>-0.103075</td>\n",
       "      <td>-0.011355</td>\n",
       "      <td>2.537867</td>\n",
       "      <td>...</td>\n",
       "      <td>1.053304</td>\n",
       "      <td>0.952567</td>\n",
       "      <td>-1.653366</td>\n",
       "      <td>1.192908</td>\n",
       "      <td>1.0</td>\n",
       "      <td>1.537919</td>\n",
       "      <td>-1.072695</td>\n",
       "      <td>-0.098424</td>\n",
       "      <td>-0.252848</td>\n",
       "      <td>trashy</td>\n",
       "    </tr>\n",
       "    <tr>\n",
       "      <th>18</th>\n",
       "      <td>-0.259035</td>\n",
       "      <td>-1.035323</td>\n",
       "      <td>0.0</td>\n",
       "      <td>-0.096253</td>\n",
       "      <td>3.022489</td>\n",
       "      <td>-1.251243</td>\n",
       "      <td>-0.294272</td>\n",
       "      <td>-0.103075</td>\n",
       "      <td>-0.011355</td>\n",
       "      <td>-0.394032</td>\n",
       "      <td>...</td>\n",
       "      <td>-1.755507</td>\n",
       "      <td>0.952567</td>\n",
       "      <td>-1.653366</td>\n",
       "      <td>-0.877722</td>\n",
       "      <td>-1.0</td>\n",
       "      <td>1.537919</td>\n",
       "      <td>-1.072695</td>\n",
       "      <td>-0.098424</td>\n",
       "      <td>-0.252848</td>\n",
       "      <td>trashy</td>\n",
       "    </tr>\n",
       "    <tr>\n",
       "      <th>19</th>\n",
       "      <td>-0.259035</td>\n",
       "      <td>-1.035323</td>\n",
       "      <td>1.0</td>\n",
       "      <td>1.357763</td>\n",
       "      <td>-0.312686</td>\n",
       "      <td>1.498372</td>\n",
       "      <td>-0.294272</td>\n",
       "      <td>-0.103075</td>\n",
       "      <td>-0.011355</td>\n",
       "      <td>2.537867</td>\n",
       "      <td>...</td>\n",
       "      <td>1.755507</td>\n",
       "      <td>0.952567</td>\n",
       "      <td>-1.653366</td>\n",
       "      <td>-0.877722</td>\n",
       "      <td>1.0</td>\n",
       "      <td>-0.252176</td>\n",
       "      <td>-1.072695</td>\n",
       "      <td>0.853975</td>\n",
       "      <td>-0.252848</td>\n",
       "      <td>jankos</td>\n",
       "    </tr>\n",
       "    <tr>\n",
       "      <th>20</th>\n",
       "      <td>-0.259035</td>\n",
       "      <td>-1.035323</td>\n",
       "      <td>1.0</td>\n",
       "      <td>-0.096253</td>\n",
       "      <td>-0.312686</td>\n",
       "      <td>-0.001418</td>\n",
       "      <td>-0.294272</td>\n",
       "      <td>-0.103075</td>\n",
       "      <td>-0.011355</td>\n",
       "      <td>-0.394032</td>\n",
       "      <td>...</td>\n",
       "      <td>-0.760720</td>\n",
       "      <td>0.952567</td>\n",
       "      <td>1.229729</td>\n",
       "      <td>-0.877722</td>\n",
       "      <td>-1.0</td>\n",
       "      <td>-1.346122</td>\n",
       "      <td>-1.072695</td>\n",
       "      <td>0.040951</td>\n",
       "      <td>-0.758608</td>\n",
       "      <td>bless</td>\n",
       "    </tr>\n",
       "    <tr>\n",
       "      <th>21</th>\n",
       "      <td>-0.259035</td>\n",
       "      <td>-1.035323</td>\n",
       "      <td>0.0</td>\n",
       "      <td>-0.580926</td>\n",
       "      <td>0.799039</td>\n",
       "      <td>-1.001278</td>\n",
       "      <td>-0.294272</td>\n",
       "      <td>-0.103075</td>\n",
       "      <td>-0.011355</td>\n",
       "      <td>-0.394032</td>\n",
       "      <td>...</td>\n",
       "      <td>0.760720</td>\n",
       "      <td>0.952567</td>\n",
       "      <td>1.229729</td>\n",
       "      <td>-0.877722</td>\n",
       "      <td>1.0</td>\n",
       "      <td>-0.103001</td>\n",
       "      <td>-1.072695</td>\n",
       "      <td>1.550852</td>\n",
       "      <td>-0.758608</td>\n",
       "      <td>cuzz</td>\n",
       "    </tr>\n",
       "    <tr>\n",
       "      <th>22</th>\n",
       "      <td>-0.259035</td>\n",
       "      <td>-1.035323</td>\n",
       "      <td>1.0</td>\n",
       "      <td>0.873091</td>\n",
       "      <td>-1.424411</td>\n",
       "      <td>0.498512</td>\n",
       "      <td>-0.294272</td>\n",
       "      <td>-0.103075</td>\n",
       "      <td>-0.011355</td>\n",
       "      <td>-0.394032</td>\n",
       "      <td>...</td>\n",
       "      <td>0.292584</td>\n",
       "      <td>0.952567</td>\n",
       "      <td>1.229729</td>\n",
       "      <td>-0.748308</td>\n",
       "      <td>-1.0</td>\n",
       "      <td>0.841771</td>\n",
       "      <td>-1.072695</td>\n",
       "      <td>1.550852</td>\n",
       "      <td>-0.758608</td>\n",
       "      <td>cuzz</td>\n",
       "    </tr>\n",
       "    <tr>\n",
       "      <th>23</th>\n",
       "      <td>-0.259035</td>\n",
       "      <td>-1.035323</td>\n",
       "      <td>0.0</td>\n",
       "      <td>1.357763</td>\n",
       "      <td>1.354902</td>\n",
       "      <td>-1.501208</td>\n",
       "      <td>-0.294272</td>\n",
       "      <td>-0.103075</td>\n",
       "      <td>-0.011355</td>\n",
       "      <td>2.537867</td>\n",
       "      <td>...</td>\n",
       "      <td>-0.292584</td>\n",
       "      <td>0.952567</td>\n",
       "      <td>1.229729</td>\n",
       "      <td>-0.748308</td>\n",
       "      <td>1.0</td>\n",
       "      <td>-1.346122</td>\n",
       "      <td>-1.072695</td>\n",
       "      <td>0.040951</td>\n",
       "      <td>-0.758608</td>\n",
       "      <td>bless</td>\n",
       "    </tr>\n",
       "    <tr>\n",
       "      <th>24</th>\n",
       "      <td>-0.259035</td>\n",
       "      <td>-1.035323</td>\n",
       "      <td>0.0</td>\n",
       "      <td>-0.096253</td>\n",
       "      <td>-0.312686</td>\n",
       "      <td>-0.001418</td>\n",
       "      <td>-0.294272</td>\n",
       "      <td>-0.103075</td>\n",
       "      <td>-0.011355</td>\n",
       "      <td>-0.394032</td>\n",
       "      <td>...</td>\n",
       "      <td>-0.292584</td>\n",
       "      <td>0.952567</td>\n",
       "      <td>1.229729</td>\n",
       "      <td>1.192908</td>\n",
       "      <td>-1.0</td>\n",
       "      <td>-0.500800</td>\n",
       "      <td>-1.072695</td>\n",
       "      <td>-1.445720</td>\n",
       "      <td>-0.758608</td>\n",
       "      <td>seonghwan</td>\n",
       "    </tr>\n",
       "    <tr>\n",
       "      <th>25</th>\n",
       "      <td>-0.259035</td>\n",
       "      <td>-1.035323</td>\n",
       "      <td>1.0</td>\n",
       "      <td>2.327107</td>\n",
       "      <td>-0.868549</td>\n",
       "      <td>-1.001278</td>\n",
       "      <td>2.482696</td>\n",
       "      <td>-0.103075</td>\n",
       "      <td>-0.011355</td>\n",
       "      <td>2.537867</td>\n",
       "      <td>...</td>\n",
       "      <td>0.292584</td>\n",
       "      <td>0.952567</td>\n",
       "      <td>1.229729</td>\n",
       "      <td>1.192908</td>\n",
       "      <td>1.0</td>\n",
       "      <td>-1.346122</td>\n",
       "      <td>-1.072695</td>\n",
       "      <td>0.714599</td>\n",
       "      <td>-0.758608</td>\n",
       "      <td>umti</td>\n",
       "    </tr>\n",
       "    <tr>\n",
       "      <th>26</th>\n",
       "      <td>-0.259035</td>\n",
       "      <td>-1.035323</td>\n",
       "      <td>1.0</td>\n",
       "      <td>-0.096253</td>\n",
       "      <td>-0.868549</td>\n",
       "      <td>-0.501348</td>\n",
       "      <td>-0.294272</td>\n",
       "      <td>-0.103075</td>\n",
       "      <td>-0.011355</td>\n",
       "      <td>2.537867</td>\n",
       "      <td>...</td>\n",
       "      <td>-0.409618</td>\n",
       "      <td>0.952567</td>\n",
       "      <td>1.229729</td>\n",
       "      <td>-0.877722</td>\n",
       "      <td>-1.0</td>\n",
       "      <td>-0.252176</td>\n",
       "      <td>-1.072695</td>\n",
       "      <td>0.714599</td>\n",
       "      <td>-0.758608</td>\n",
       "      <td>umti</td>\n",
       "    </tr>\n",
       "    <tr>\n",
       "      <th>27</th>\n",
       "      <td>-0.259035</td>\n",
       "      <td>-1.035323</td>\n",
       "      <td>0.0</td>\n",
       "      <td>-0.580926</td>\n",
       "      <td>-0.868549</td>\n",
       "      <td>-1.501208</td>\n",
       "      <td>-0.294272</td>\n",
       "      <td>-0.103075</td>\n",
       "      <td>-0.011355</td>\n",
       "      <td>-0.394032</td>\n",
       "      <td>...</td>\n",
       "      <td>0.409618</td>\n",
       "      <td>0.952567</td>\n",
       "      <td>1.229729</td>\n",
       "      <td>-0.877722</td>\n",
       "      <td>1.0</td>\n",
       "      <td>-0.301900</td>\n",
       "      <td>-1.072695</td>\n",
       "      <td>-1.445720</td>\n",
       "      <td>-0.758608</td>\n",
       "      <td>seonghwan</td>\n",
       "    </tr>\n",
       "    <tr>\n",
       "      <th>28</th>\n",
       "      <td>-0.259035</td>\n",
       "      <td>-1.035323</td>\n",
       "      <td>1.0</td>\n",
       "      <td>-0.096253</td>\n",
       "      <td>-0.312686</td>\n",
       "      <td>0.998442</td>\n",
       "      <td>-0.294272</td>\n",
       "      <td>-0.103075</td>\n",
       "      <td>-0.011355</td>\n",
       "      <td>-0.394032</td>\n",
       "      <td>...</td>\n",
       "      <td>0.292584</td>\n",
       "      <td>0.952567</td>\n",
       "      <td>-1.653366</td>\n",
       "      <td>1.192908</td>\n",
       "      <td>-1.0</td>\n",
       "      <td>1.537919</td>\n",
       "      <td>-1.072695</td>\n",
       "      <td>-0.144883</td>\n",
       "      <td>-0.252848</td>\n",
       "      <td>broxah</td>\n",
       "    </tr>\n",
       "    <tr>\n",
       "      <th>29</th>\n",
       "      <td>-0.259035</td>\n",
       "      <td>-1.035323</td>\n",
       "      <td>0.0</td>\n",
       "      <td>-0.580926</td>\n",
       "      <td>-0.312686</td>\n",
       "      <td>-0.751313</td>\n",
       "      <td>-0.294272</td>\n",
       "      <td>-0.103075</td>\n",
       "      <td>-0.011355</td>\n",
       "      <td>-0.394032</td>\n",
       "      <td>...</td>\n",
       "      <td>-0.292584</td>\n",
       "      <td>0.952567</td>\n",
       "      <td>-1.653366</td>\n",
       "      <td>1.192908</td>\n",
       "      <td>1.0</td>\n",
       "      <td>-0.550525</td>\n",
       "      <td>-1.072695</td>\n",
       "      <td>-1.050823</td>\n",
       "      <td>-0.252848</td>\n",
       "      <td>maxlore</td>\n",
       "    </tr>\n",
       "    <tr>\n",
       "      <th>...</th>\n",
       "      <td>...</td>\n",
       "      <td>...</td>\n",
       "      <td>...</td>\n",
       "      <td>...</td>\n",
       "      <td>...</td>\n",
       "      <td>...</td>\n",
       "      <td>...</td>\n",
       "      <td>...</td>\n",
       "      <td>...</td>\n",
       "      <td>...</td>\n",
       "      <td>...</td>\n",
       "      <td>...</td>\n",
       "      <td>...</td>\n",
       "      <td>...</td>\n",
       "      <td>...</td>\n",
       "      <td>...</td>\n",
       "      <td>...</td>\n",
       "      <td>...</td>\n",
       "      <td>...</td>\n",
       "      <td>...</td>\n",
       "      <td>...</td>\n",
       "    </tr>\n",
       "    <tr>\n",
       "      <th>15484</th>\n",
       "      <td>1.140389</td>\n",
       "      <td>1.710932</td>\n",
       "      <td>1.0</td>\n",
       "      <td>0.388419</td>\n",
       "      <td>-0.868549</td>\n",
       "      <td>2.748197</td>\n",
       "      <td>-0.294272</td>\n",
       "      <td>-0.103075</td>\n",
       "      <td>-0.011355</td>\n",
       "      <td>-0.394032</td>\n",
       "      <td>...</td>\n",
       "      <td>0.000000</td>\n",
       "      <td>0.115573</td>\n",
       "      <td>0.460904</td>\n",
       "      <td>1.192908</td>\n",
       "      <td>-1.0</td>\n",
       "      <td>0.344523</td>\n",
       "      <td>1.463557</td>\n",
       "      <td>-0.423633</td>\n",
       "      <td>0.758673</td>\n",
       "      <td>sofm</td>\n",
       "    </tr>\n",
       "    <tr>\n",
       "      <th>15485</th>\n",
       "      <td>1.140389</td>\n",
       "      <td>1.710932</td>\n",
       "      <td>0.0</td>\n",
       "      <td>-0.096253</td>\n",
       "      <td>1.910764</td>\n",
       "      <td>-0.501348</td>\n",
       "      <td>-0.294272</td>\n",
       "      <td>-0.103075</td>\n",
       "      <td>-0.011355</td>\n",
       "      <td>-0.394032</td>\n",
       "      <td>...</td>\n",
       "      <td>0.000000</td>\n",
       "      <td>0.115573</td>\n",
       "      <td>0.460904</td>\n",
       "      <td>1.192908</td>\n",
       "      <td>1.0</td>\n",
       "      <td>0.941221</td>\n",
       "      <td>1.463557</td>\n",
       "      <td>-0.888218</td>\n",
       "      <td>0.758673</td>\n",
       "      <td>weiwei</td>\n",
       "    </tr>\n",
       "    <tr>\n",
       "      <th>15486</th>\n",
       "      <td>1.140389</td>\n",
       "      <td>1.710932</td>\n",
       "      <td>0.0</td>\n",
       "      <td>-1.065598</td>\n",
       "      <td>1.354902</td>\n",
       "      <td>1.248407</td>\n",
       "      <td>-0.294272</td>\n",
       "      <td>-0.103075</td>\n",
       "      <td>-0.011355</td>\n",
       "      <td>-0.394032</td>\n",
       "      <td>...</td>\n",
       "      <td>0.000000</td>\n",
       "      <td>0.115573</td>\n",
       "      <td>0.460904</td>\n",
       "      <td>-0.877722</td>\n",
       "      <td>-1.0</td>\n",
       "      <td>0.543422</td>\n",
       "      <td>1.463557</td>\n",
       "      <td>-0.888218</td>\n",
       "      <td>0.758673</td>\n",
       "      <td>weiwei</td>\n",
       "    </tr>\n",
       "    <tr>\n",
       "      <th>15487</th>\n",
       "      <td>1.140389</td>\n",
       "      <td>1.710932</td>\n",
       "      <td>1.0</td>\n",
       "      <td>-1.065598</td>\n",
       "      <td>0.243176</td>\n",
       "      <td>2.498232</td>\n",
       "      <td>-0.294272</td>\n",
       "      <td>-0.103075</td>\n",
       "      <td>-0.011355</td>\n",
       "      <td>-0.394032</td>\n",
       "      <td>...</td>\n",
       "      <td>0.000000</td>\n",
       "      <td>0.115573</td>\n",
       "      <td>0.460904</td>\n",
       "      <td>-0.877722</td>\n",
       "      <td>1.0</td>\n",
       "      <td>0.941221</td>\n",
       "      <td>1.463557</td>\n",
       "      <td>-0.423633</td>\n",
       "      <td>0.758673</td>\n",
       "      <td>sofm</td>\n",
       "    </tr>\n",
       "    <tr>\n",
       "      <th>15488</th>\n",
       "      <td>1.140389</td>\n",
       "      <td>1.710932</td>\n",
       "      <td>1.0</td>\n",
       "      <td>0.873091</td>\n",
       "      <td>-1.424411</td>\n",
       "      <td>2.248267</td>\n",
       "      <td>-0.294272</td>\n",
       "      <td>-0.103075</td>\n",
       "      <td>-0.011355</td>\n",
       "      <td>-0.394032</td>\n",
       "      <td>...</td>\n",
       "      <td>0.000000</td>\n",
       "      <td>0.115573</td>\n",
       "      <td>0.460904</td>\n",
       "      <td>1.192908</td>\n",
       "      <td>-1.0</td>\n",
       "      <td>1.090396</td>\n",
       "      <td>1.463557</td>\n",
       "      <td>0.528765</td>\n",
       "      <td>0.758673</td>\n",
       "      <td>meteor</td>\n",
       "    </tr>\n",
       "    <tr>\n",
       "      <th>15489</th>\n",
       "      <td>1.140389</td>\n",
       "      <td>1.710932</td>\n",
       "      <td>0.0</td>\n",
       "      <td>-0.580926</td>\n",
       "      <td>0.243176</td>\n",
       "      <td>0.748477</td>\n",
       "      <td>-0.294272</td>\n",
       "      <td>-0.103075</td>\n",
       "      <td>-0.011355</td>\n",
       "      <td>-0.394032</td>\n",
       "      <td>...</td>\n",
       "      <td>0.000000</td>\n",
       "      <td>0.115573</td>\n",
       "      <td>0.460904</td>\n",
       "      <td>1.192908</td>\n",
       "      <td>1.0</td>\n",
       "      <td>0.344523</td>\n",
       "      <td>1.463557</td>\n",
       "      <td>0.807516</td>\n",
       "      <td>0.758673</td>\n",
       "      <td>karsa</td>\n",
       "    </tr>\n",
       "    <tr>\n",
       "      <th>15490</th>\n",
       "      <td>1.140389</td>\n",
       "      <td>1.710932</td>\n",
       "      <td>1.0</td>\n",
       "      <td>0.388419</td>\n",
       "      <td>-0.312686</td>\n",
       "      <td>-0.251383</td>\n",
       "      <td>-0.294272</td>\n",
       "      <td>-0.103075</td>\n",
       "      <td>-0.011355</td>\n",
       "      <td>-0.394032</td>\n",
       "      <td>...</td>\n",
       "      <td>0.000000</td>\n",
       "      <td>0.115573</td>\n",
       "      <td>0.460904</td>\n",
       "      <td>-0.877722</td>\n",
       "      <td>-1.0</td>\n",
       "      <td>0.344523</td>\n",
       "      <td>1.463557</td>\n",
       "      <td>0.528765</td>\n",
       "      <td>0.758673</td>\n",
       "      <td>meteor</td>\n",
       "    </tr>\n",
       "    <tr>\n",
       "      <th>15491</th>\n",
       "      <td>1.140389</td>\n",
       "      <td>1.710932</td>\n",
       "      <td>0.0</td>\n",
       "      <td>-1.065598</td>\n",
       "      <td>-0.312686</td>\n",
       "      <td>-0.501348</td>\n",
       "      <td>-0.294272</td>\n",
       "      <td>-0.103075</td>\n",
       "      <td>-0.011355</td>\n",
       "      <td>-0.394032</td>\n",
       "      <td>...</td>\n",
       "      <td>0.000000</td>\n",
       "      <td>0.115573</td>\n",
       "      <td>0.460904</td>\n",
       "      <td>-0.877722</td>\n",
       "      <td>1.0</td>\n",
       "      <td>-0.500800</td>\n",
       "      <td>1.463557</td>\n",
       "      <td>0.807516</td>\n",
       "      <td>0.758673</td>\n",
       "      <td>karsa</td>\n",
       "    </tr>\n",
       "    <tr>\n",
       "      <th>15492</th>\n",
       "      <td>1.140389</td>\n",
       "      <td>1.710932</td>\n",
       "      <td>0.0</td>\n",
       "      <td>1.357763</td>\n",
       "      <td>-0.312686</td>\n",
       "      <td>-0.251383</td>\n",
       "      <td>-0.294272</td>\n",
       "      <td>-0.103075</td>\n",
       "      <td>-0.011355</td>\n",
       "      <td>-0.394032</td>\n",
       "      <td>...</td>\n",
       "      <td>0.000000</td>\n",
       "      <td>0.115573</td>\n",
       "      <td>0.460904</td>\n",
       "      <td>1.192908</td>\n",
       "      <td>-1.0</td>\n",
       "      <td>0.792046</td>\n",
       "      <td>1.463557</td>\n",
       "      <td>-0.284258</td>\n",
       "      <td>0.758673</td>\n",
       "      <td>weiyan</td>\n",
       "    </tr>\n",
       "    <tr>\n",
       "      <th>15493</th>\n",
       "      <td>1.140389</td>\n",
       "      <td>1.710932</td>\n",
       "      <td>1.0</td>\n",
       "      <td>2.327107</td>\n",
       "      <td>-0.312686</td>\n",
       "      <td>2.248267</td>\n",
       "      <td>-0.294272</td>\n",
       "      <td>-0.103075</td>\n",
       "      <td>-0.011355</td>\n",
       "      <td>-0.394032</td>\n",
       "      <td>...</td>\n",
       "      <td>0.000000</td>\n",
       "      <td>0.115573</td>\n",
       "      <td>0.460904</td>\n",
       "      <td>1.192908</td>\n",
       "      <td>1.0</td>\n",
       "      <td>1.090396</td>\n",
       "      <td>1.463557</td>\n",
       "      <td>-1.097281</td>\n",
       "      <td>0.758673</td>\n",
       "      <td>ning</td>\n",
       "    </tr>\n",
       "    <tr>\n",
       "      <th>15494</th>\n",
       "      <td>1.140389</td>\n",
       "      <td>1.710932</td>\n",
       "      <td>0.0</td>\n",
       "      <td>0.873091</td>\n",
       "      <td>1.910764</td>\n",
       "      <td>-0.251383</td>\n",
       "      <td>-0.294272</td>\n",
       "      <td>-0.103075</td>\n",
       "      <td>-0.011355</td>\n",
       "      <td>-0.394032</td>\n",
       "      <td>...</td>\n",
       "      <td>0.000000</td>\n",
       "      <td>0.115573</td>\n",
       "      <td>0.460904</td>\n",
       "      <td>-0.877722</td>\n",
       "      <td>-1.0</td>\n",
       "      <td>-0.500800</td>\n",
       "      <td>1.463557</td>\n",
       "      <td>-0.284258</td>\n",
       "      <td>0.758673</td>\n",
       "      <td>haro</td>\n",
       "    </tr>\n",
       "    <tr>\n",
       "      <th>15495</th>\n",
       "      <td>1.140389</td>\n",
       "      <td>1.710932</td>\n",
       "      <td>1.0</td>\n",
       "      <td>3.296452</td>\n",
       "      <td>1.354902</td>\n",
       "      <td>0.748477</td>\n",
       "      <td>-0.294272</td>\n",
       "      <td>-0.103075</td>\n",
       "      <td>-0.011355</td>\n",
       "      <td>-0.394032</td>\n",
       "      <td>...</td>\n",
       "      <td>0.000000</td>\n",
       "      <td>0.115573</td>\n",
       "      <td>0.460904</td>\n",
       "      <td>-0.877722</td>\n",
       "      <td>1.0</td>\n",
       "      <td>-0.103001</td>\n",
       "      <td>1.463557</td>\n",
       "      <td>-1.097281</td>\n",
       "      <td>0.758673</td>\n",
       "      <td>ning</td>\n",
       "    </tr>\n",
       "    <tr>\n",
       "      <th>15496</th>\n",
       "      <td>1.140389</td>\n",
       "      <td>1.710932</td>\n",
       "      <td>0.0</td>\n",
       "      <td>0.388419</td>\n",
       "      <td>1.910764</td>\n",
       "      <td>-1.251243</td>\n",
       "      <td>-0.294272</td>\n",
       "      <td>-0.103075</td>\n",
       "      <td>-0.011355</td>\n",
       "      <td>-0.394032</td>\n",
       "      <td>...</td>\n",
       "      <td>0.000000</td>\n",
       "      <td>0.115573</td>\n",
       "      <td>0.460904</td>\n",
       "      <td>1.192908</td>\n",
       "      <td>-1.0</td>\n",
       "      <td>-0.948324</td>\n",
       "      <td>1.463557</td>\n",
       "      <td>-0.284258</td>\n",
       "      <td>0.758673</td>\n",
       "      <td>weiyan</td>\n",
       "    </tr>\n",
       "    <tr>\n",
       "      <th>15497</th>\n",
       "      <td>1.140389</td>\n",
       "      <td>1.710932</td>\n",
       "      <td>1.0</td>\n",
       "      <td>2.327107</td>\n",
       "      <td>-0.312686</td>\n",
       "      <td>0.248547</td>\n",
       "      <td>-0.294272</td>\n",
       "      <td>-0.103075</td>\n",
       "      <td>-0.011355</td>\n",
       "      <td>-0.394032</td>\n",
       "      <td>...</td>\n",
       "      <td>0.000000</td>\n",
       "      <td>0.115573</td>\n",
       "      <td>0.460904</td>\n",
       "      <td>1.192908</td>\n",
       "      <td>1.0</td>\n",
       "      <td>0.344523</td>\n",
       "      <td>1.463557</td>\n",
       "      <td>-0.539779</td>\n",
       "      <td>0.758673</td>\n",
       "      <td>aix</td>\n",
       "    </tr>\n",
       "    <tr>\n",
       "      <th>15498</th>\n",
       "      <td>1.140389</td>\n",
       "      <td>1.710932</td>\n",
       "      <td>0.0</td>\n",
       "      <td>-0.096253</td>\n",
       "      <td>0.243176</td>\n",
       "      <td>-0.251383</td>\n",
       "      <td>-0.294272</td>\n",
       "      <td>-0.103075</td>\n",
       "      <td>-0.011355</td>\n",
       "      <td>-0.394032</td>\n",
       "      <td>...</td>\n",
       "      <td>0.000000</td>\n",
       "      <td>0.115573</td>\n",
       "      <td>0.460904</td>\n",
       "      <td>-0.877722</td>\n",
       "      <td>-1.0</td>\n",
       "      <td>0.792046</td>\n",
       "      <td>1.463557</td>\n",
       "      <td>-0.539779</td>\n",
       "      <td>0.758673</td>\n",
       "      <td>aix</td>\n",
       "    </tr>\n",
       "    <tr>\n",
       "      <th>15499</th>\n",
       "      <td>1.140389</td>\n",
       "      <td>1.710932</td>\n",
       "      <td>1.0</td>\n",
       "      <td>0.873091</td>\n",
       "      <td>0.243176</td>\n",
       "      <td>1.498372</td>\n",
       "      <td>-0.294272</td>\n",
       "      <td>-0.103075</td>\n",
       "      <td>-0.011355</td>\n",
       "      <td>-0.394032</td>\n",
       "      <td>...</td>\n",
       "      <td>0.000000</td>\n",
       "      <td>0.115573</td>\n",
       "      <td>0.460904</td>\n",
       "      <td>-0.877722</td>\n",
       "      <td>1.0</td>\n",
       "      <td>-0.948324</td>\n",
       "      <td>1.463557</td>\n",
       "      <td>-0.284258</td>\n",
       "      <td>0.758673</td>\n",
       "      <td>haro</td>\n",
       "    </tr>\n",
       "    <tr>\n",
       "      <th>15500</th>\n",
       "      <td>1.140389</td>\n",
       "      <td>1.710932</td>\n",
       "      <td>0.0</td>\n",
       "      <td>-0.580926</td>\n",
       "      <td>0.243176</td>\n",
       "      <td>-0.501348</td>\n",
       "      <td>-0.294272</td>\n",
       "      <td>-0.103075</td>\n",
       "      <td>-0.011355</td>\n",
       "      <td>-0.394032</td>\n",
       "      <td>...</td>\n",
       "      <td>0.000000</td>\n",
       "      <td>0.115573</td>\n",
       "      <td>0.460904</td>\n",
       "      <td>-0.748308</td>\n",
       "      <td>-1.0</td>\n",
       "      <td>-0.948324</td>\n",
       "      <td>1.463557</td>\n",
       "      <td>-0.539779</td>\n",
       "      <td>0.758673</td>\n",
       "      <td>aix</td>\n",
       "    </tr>\n",
       "    <tr>\n",
       "      <th>15501</th>\n",
       "      <td>1.140389</td>\n",
       "      <td>1.710932</td>\n",
       "      <td>1.0</td>\n",
       "      <td>1.357763</td>\n",
       "      <td>0.243176</td>\n",
       "      <td>0.248547</td>\n",
       "      <td>-0.294272</td>\n",
       "      <td>-0.103075</td>\n",
       "      <td>-0.011355</td>\n",
       "      <td>-0.394032</td>\n",
       "      <td>...</td>\n",
       "      <td>0.000000</td>\n",
       "      <td>0.115573</td>\n",
       "      <td>0.460904</td>\n",
       "      <td>-0.748308</td>\n",
       "      <td>1.0</td>\n",
       "      <td>0.344523</td>\n",
       "      <td>1.463557</td>\n",
       "      <td>-0.284258</td>\n",
       "      <td>0.758673</td>\n",
       "      <td>haro</td>\n",
       "    </tr>\n",
       "    <tr>\n",
       "      <th>15502</th>\n",
       "      <td>1.140389</td>\n",
       "      <td>1.710932</td>\n",
       "      <td>1.0</td>\n",
       "      <td>-0.096253</td>\n",
       "      <td>-0.312686</td>\n",
       "      <td>2.498232</td>\n",
       "      <td>-0.294272</td>\n",
       "      <td>-0.103075</td>\n",
       "      <td>-0.011355</td>\n",
       "      <td>-0.394032</td>\n",
       "      <td>...</td>\n",
       "      <td>0.000000</td>\n",
       "      <td>0.115573</td>\n",
       "      <td>0.460904</td>\n",
       "      <td>1.192908</td>\n",
       "      <td>-1.0</td>\n",
       "      <td>-1.545022</td>\n",
       "      <td>1.463557</td>\n",
       "      <td>-1.376032</td>\n",
       "      <td>0.758673</td>\n",
       "      <td>doinb</td>\n",
       "    </tr>\n",
       "    <tr>\n",
       "      <th>15503</th>\n",
       "      <td>1.140389</td>\n",
       "      <td>1.710932</td>\n",
       "      <td>0.0</td>\n",
       "      <td>-0.096253</td>\n",
       "      <td>1.354902</td>\n",
       "      <td>-0.001418</td>\n",
       "      <td>-0.294272</td>\n",
       "      <td>-0.103075</td>\n",
       "      <td>-0.011355</td>\n",
       "      <td>-0.394032</td>\n",
       "      <td>...</td>\n",
       "      <td>0.000000</td>\n",
       "      <td>0.115573</td>\n",
       "      <td>0.460904</td>\n",
       "      <td>1.192908</td>\n",
       "      <td>1.0</td>\n",
       "      <td>-1.694196</td>\n",
       "      <td>1.463557</td>\n",
       "      <td>-1.213427</td>\n",
       "      <td>0.758673</td>\n",
       "      <td>xx</td>\n",
       "    </tr>\n",
       "    <tr>\n",
       "      <th>15504</th>\n",
       "      <td>1.140389</td>\n",
       "      <td>1.710932</td>\n",
       "      <td>1.0</td>\n",
       "      <td>2.327107</td>\n",
       "      <td>1.910764</td>\n",
       "      <td>0.998442</td>\n",
       "      <td>-0.294272</td>\n",
       "      <td>-0.103075</td>\n",
       "      <td>-0.011355</td>\n",
       "      <td>-0.394032</td>\n",
       "      <td>...</td>\n",
       "      <td>0.000000</td>\n",
       "      <td>0.115573</td>\n",
       "      <td>0.460904</td>\n",
       "      <td>-0.877722</td>\n",
       "      <td>-1.0</td>\n",
       "      <td>-1.395847</td>\n",
       "      <td>1.463557</td>\n",
       "      <td>-1.376032</td>\n",
       "      <td>0.758673</td>\n",
       "      <td>tian</td>\n",
       "    </tr>\n",
       "    <tr>\n",
       "      <th>15505</th>\n",
       "      <td>1.140389</td>\n",
       "      <td>1.710932</td>\n",
       "      <td>0.0</td>\n",
       "      <td>1.357763</td>\n",
       "      <td>1.354902</td>\n",
       "      <td>-0.251383</td>\n",
       "      <td>-0.294272</td>\n",
       "      <td>-0.103075</td>\n",
       "      <td>-0.011355</td>\n",
       "      <td>-0.394032</td>\n",
       "      <td>...</td>\n",
       "      <td>0.000000</td>\n",
       "      <td>0.115573</td>\n",
       "      <td>0.460904</td>\n",
       "      <td>-0.877722</td>\n",
       "      <td>1.0</td>\n",
       "      <td>1.537919</td>\n",
       "      <td>1.463557</td>\n",
       "      <td>-1.213427</td>\n",
       "      <td>0.758673</td>\n",
       "      <td>xx</td>\n",
       "    </tr>\n",
       "    <tr>\n",
       "      <th>15506</th>\n",
       "      <td>1.140389</td>\n",
       "      <td>1.710932</td>\n",
       "      <td>0.0</td>\n",
       "      <td>-0.580926</td>\n",
       "      <td>1.354902</td>\n",
       "      <td>-0.751313</td>\n",
       "      <td>-0.294272</td>\n",
       "      <td>-0.103075</td>\n",
       "      <td>-0.011355</td>\n",
       "      <td>-0.394032</td>\n",
       "      <td>...</td>\n",
       "      <td>0.000000</td>\n",
       "      <td>0.115573</td>\n",
       "      <td>0.460904</td>\n",
       "      <td>1.192908</td>\n",
       "      <td>-1.0</td>\n",
       "      <td>0.941221</td>\n",
       "      <td>1.463557</td>\n",
       "      <td>1.388247</td>\n",
       "      <td>0.758673</td>\n",
       "      <td>world6</td>\n",
       "    </tr>\n",
       "    <tr>\n",
       "      <th>15507</th>\n",
       "      <td>1.140389</td>\n",
       "      <td>1.710932</td>\n",
       "      <td>1.0</td>\n",
       "      <td>2.811780</td>\n",
       "      <td>-0.312686</td>\n",
       "      <td>0.498512</td>\n",
       "      <td>-0.294272</td>\n",
       "      <td>-0.103075</td>\n",
       "      <td>-0.011355</td>\n",
       "      <td>-0.394032</td>\n",
       "      <td>...</td>\n",
       "      <td>0.000000</td>\n",
       "      <td>0.115573</td>\n",
       "      <td>0.460904</td>\n",
       "      <td>1.192908</td>\n",
       "      <td>1.0</td>\n",
       "      <td>0.344523</td>\n",
       "      <td>1.463557</td>\n",
       "      <td>-1.213427</td>\n",
       "      <td>0.758673</td>\n",
       "      <td>xx</td>\n",
       "    </tr>\n",
       "    <tr>\n",
       "      <th>15508</th>\n",
       "      <td>1.140389</td>\n",
       "      <td>1.710932</td>\n",
       "      <td>1.0</td>\n",
       "      <td>1.357763</td>\n",
       "      <td>-0.868549</td>\n",
       "      <td>-0.001418</td>\n",
       "      <td>-0.294272</td>\n",
       "      <td>-0.103075</td>\n",
       "      <td>-0.011355</td>\n",
       "      <td>-0.394032</td>\n",
       "      <td>...</td>\n",
       "      <td>0.000000</td>\n",
       "      <td>0.115573</td>\n",
       "      <td>0.460904</td>\n",
       "      <td>-0.877722</td>\n",
       "      <td>-1.0</td>\n",
       "      <td>-0.948324</td>\n",
       "      <td>1.463557</td>\n",
       "      <td>-1.213427</td>\n",
       "      <td>0.758673</td>\n",
       "      <td>xx</td>\n",
       "    </tr>\n",
       "    <tr>\n",
       "      <th>15509</th>\n",
       "      <td>1.140389</td>\n",
       "      <td>1.710932</td>\n",
       "      <td>0.0</td>\n",
       "      <td>-1.065598</td>\n",
       "      <td>0.243176</td>\n",
       "      <td>-0.751313</td>\n",
       "      <td>-0.294272</td>\n",
       "      <td>-0.103075</td>\n",
       "      <td>-0.011355</td>\n",
       "      <td>-0.394032</td>\n",
       "      <td>...</td>\n",
       "      <td>0.000000</td>\n",
       "      <td>0.115573</td>\n",
       "      <td>0.460904</td>\n",
       "      <td>-0.877722</td>\n",
       "      <td>1.0</td>\n",
       "      <td>0.344523</td>\n",
       "      <td>1.463557</td>\n",
       "      <td>1.388247</td>\n",
       "      <td>0.758673</td>\n",
       "      <td>world6</td>\n",
       "    </tr>\n",
       "    <tr>\n",
       "      <th>15510</th>\n",
       "      <td>1.140389</td>\n",
       "      <td>1.710932</td>\n",
       "      <td>0.0</td>\n",
       "      <td>-1.065598</td>\n",
       "      <td>0.243176</td>\n",
       "      <td>-0.501348</td>\n",
       "      <td>-0.294272</td>\n",
       "      <td>-0.103075</td>\n",
       "      <td>-0.011355</td>\n",
       "      <td>-0.394032</td>\n",
       "      <td>...</td>\n",
       "      <td>0.000000</td>\n",
       "      <td>0.115573</td>\n",
       "      <td>0.460904</td>\n",
       "      <td>1.192908</td>\n",
       "      <td>-1.0</td>\n",
       "      <td>0.941221</td>\n",
       "      <td>1.463557</td>\n",
       "      <td>1.411476</td>\n",
       "      <td>0.758673</td>\n",
       "      <td>ben4</td>\n",
       "    </tr>\n",
       "    <tr>\n",
       "      <th>15511</th>\n",
       "      <td>1.140389</td>\n",
       "      <td>1.710932</td>\n",
       "      <td>1.0</td>\n",
       "      <td>-0.580926</td>\n",
       "      <td>-0.312686</td>\n",
       "      <td>2.248267</td>\n",
       "      <td>-0.294272</td>\n",
       "      <td>-0.103075</td>\n",
       "      <td>-0.011355</td>\n",
       "      <td>-0.394032</td>\n",
       "      <td>...</td>\n",
       "      <td>0.000000</td>\n",
       "      <td>0.115573</td>\n",
       "      <td>0.460904</td>\n",
       "      <td>1.192908</td>\n",
       "      <td>1.0</td>\n",
       "      <td>1.090396</td>\n",
       "      <td>1.463557</td>\n",
       "      <td>-0.261029</td>\n",
       "      <td>0.758673</td>\n",
       "      <td>beishang</td>\n",
       "    </tr>\n",
       "    <tr>\n",
       "      <th>15512</th>\n",
       "      <td>1.140389</td>\n",
       "      <td>1.710932</td>\n",
       "      <td>0.0</td>\n",
       "      <td>-0.096253</td>\n",
       "      <td>1.910764</td>\n",
       "      <td>1.498372</td>\n",
       "      <td>-0.294272</td>\n",
       "      <td>-0.103075</td>\n",
       "      <td>-0.011355</td>\n",
       "      <td>-0.394032</td>\n",
       "      <td>...</td>\n",
       "      <td>0.000000</td>\n",
       "      <td>0.115573</td>\n",
       "      <td>0.460904</td>\n",
       "      <td>-0.877722</td>\n",
       "      <td>-1.0</td>\n",
       "      <td>0.941221</td>\n",
       "      <td>1.463557</td>\n",
       "      <td>1.411476</td>\n",
       "      <td>0.758673</td>\n",
       "      <td>ben4</td>\n",
       "    </tr>\n",
       "    <tr>\n",
       "      <th>15513</th>\n",
       "      <td>1.140389</td>\n",
       "      <td>1.710932</td>\n",
       "      <td>1.0</td>\n",
       "      <td>1.842435</td>\n",
       "      <td>-0.868549</td>\n",
       "      <td>3.498092</td>\n",
       "      <td>-0.294272</td>\n",
       "      <td>-0.103075</td>\n",
       "      <td>-0.011355</td>\n",
       "      <td>-0.394032</td>\n",
       "      <td>...</td>\n",
       "      <td>0.000000</td>\n",
       "      <td>0.115573</td>\n",
       "      <td>0.460904</td>\n",
       "      <td>-0.877722</td>\n",
       "      <td>1.0</td>\n",
       "      <td>1.090396</td>\n",
       "      <td>1.463557</td>\n",
       "      <td>-0.261029</td>\n",
       "      <td>0.758673</td>\n",
       "      <td>beishang</td>\n",
       "    </tr>\n",
       "  </tbody>\n",
       "</table>\n",
       "<p>15514 rows × 60 columns</p>\n",
       "</div>"
      ],
      "text/plain": [
       "          split   patchno  result         k         d         a   doubles  \\\n",
       "0     -0.259035 -1.035323     0.0  0.873091 -0.312686 -0.501348 -0.294272   \n",
       "1     -0.259035 -1.035323     1.0 -1.065598 -0.868549  0.748477 -0.294272   \n",
       "2     -0.259035 -1.035323     0.0 -0.096253  0.799039 -1.001278 -0.294272   \n",
       "3     -0.259035 -1.035323     1.0  0.873091 -0.868549  0.248547  2.482696   \n",
       "4     -0.259035 -1.035323     1.0  0.388419 -0.312686  1.248407 -0.294272   \n",
       "5     -0.259035 -1.035323     0.0  1.357763  0.799039 -0.751313 -0.294272   \n",
       "6     -0.259035 -1.035323     1.0  0.873091 -0.868549 -0.751313 -0.294272   \n",
       "7     -0.259035 -1.035323     0.0  0.388419 -0.312686 -0.751313 -0.294272   \n",
       "8     -0.259035 -1.035323     0.0 -1.065598 -0.868549 -1.001278 -0.294272   \n",
       "9     -0.259035 -1.035323     1.0 -1.065598 -0.868549  0.498512 -0.294272   \n",
       "10    -0.259035 -1.035323     1.0  1.357763 -1.424411 -0.001418 -0.294272   \n",
       "11    -0.259035 -1.035323     0.0 -0.580926  1.910764 -0.501348 -0.294272   \n",
       "12    -0.259035 -1.035323     1.0 -0.580926 -0.312686  0.248547 -0.294272   \n",
       "13    -0.259035 -1.035323     0.0 -0.096253  0.243176 -0.001418 -0.294272   \n",
       "14    -0.259035 -1.035323     0.0  0.388419  1.354902 -1.251243 -0.294272   \n",
       "15    -0.259035 -1.035323     1.0  1.357763 -1.424411  0.748477 -0.294272   \n",
       "16    -0.259035 -1.035323     1.0 -0.096253  0.243176 -0.001418 -0.294272   \n",
       "17    -0.259035 -1.035323     0.0 -0.580926 -0.312686 -1.001278 -0.294272   \n",
       "18    -0.259035 -1.035323     0.0 -0.096253  3.022489 -1.251243 -0.294272   \n",
       "19    -0.259035 -1.035323     1.0  1.357763 -0.312686  1.498372 -0.294272   \n",
       "20    -0.259035 -1.035323     1.0 -0.096253 -0.312686 -0.001418 -0.294272   \n",
       "21    -0.259035 -1.035323     0.0 -0.580926  0.799039 -1.001278 -0.294272   \n",
       "22    -0.259035 -1.035323     1.0  0.873091 -1.424411  0.498512 -0.294272   \n",
       "23    -0.259035 -1.035323     0.0  1.357763  1.354902 -1.501208 -0.294272   \n",
       "24    -0.259035 -1.035323     0.0 -0.096253 -0.312686 -0.001418 -0.294272   \n",
       "25    -0.259035 -1.035323     1.0  2.327107 -0.868549 -1.001278  2.482696   \n",
       "26    -0.259035 -1.035323     1.0 -0.096253 -0.868549 -0.501348 -0.294272   \n",
       "27    -0.259035 -1.035323     0.0 -0.580926 -0.868549 -1.501208 -0.294272   \n",
       "28    -0.259035 -1.035323     1.0 -0.096253 -0.312686  0.998442 -0.294272   \n",
       "29    -0.259035 -1.035323     0.0 -0.580926 -0.312686 -0.751313 -0.294272   \n",
       "...         ...       ...     ...       ...       ...       ...       ...   \n",
       "15484  1.140389  1.710932     1.0  0.388419 -0.868549  2.748197 -0.294272   \n",
       "15485  1.140389  1.710932     0.0 -0.096253  1.910764 -0.501348 -0.294272   \n",
       "15486  1.140389  1.710932     0.0 -1.065598  1.354902  1.248407 -0.294272   \n",
       "15487  1.140389  1.710932     1.0 -1.065598  0.243176  2.498232 -0.294272   \n",
       "15488  1.140389  1.710932     1.0  0.873091 -1.424411  2.248267 -0.294272   \n",
       "15489  1.140389  1.710932     0.0 -0.580926  0.243176  0.748477 -0.294272   \n",
       "15490  1.140389  1.710932     1.0  0.388419 -0.312686 -0.251383 -0.294272   \n",
       "15491  1.140389  1.710932     0.0 -1.065598 -0.312686 -0.501348 -0.294272   \n",
       "15492  1.140389  1.710932     0.0  1.357763 -0.312686 -0.251383 -0.294272   \n",
       "15493  1.140389  1.710932     1.0  2.327107 -0.312686  2.248267 -0.294272   \n",
       "15494  1.140389  1.710932     0.0  0.873091  1.910764 -0.251383 -0.294272   \n",
       "15495  1.140389  1.710932     1.0  3.296452  1.354902  0.748477 -0.294272   \n",
       "15496  1.140389  1.710932     0.0  0.388419  1.910764 -1.251243 -0.294272   \n",
       "15497  1.140389  1.710932     1.0  2.327107 -0.312686  0.248547 -0.294272   \n",
       "15498  1.140389  1.710932     0.0 -0.096253  0.243176 -0.251383 -0.294272   \n",
       "15499  1.140389  1.710932     1.0  0.873091  0.243176  1.498372 -0.294272   \n",
       "15500  1.140389  1.710932     0.0 -0.580926  0.243176 -0.501348 -0.294272   \n",
       "15501  1.140389  1.710932     1.0  1.357763  0.243176  0.248547 -0.294272   \n",
       "15502  1.140389  1.710932     1.0 -0.096253 -0.312686  2.498232 -0.294272   \n",
       "15503  1.140389  1.710932     0.0 -0.096253  1.354902 -0.001418 -0.294272   \n",
       "15504  1.140389  1.710932     1.0  2.327107  1.910764  0.998442 -0.294272   \n",
       "15505  1.140389  1.710932     0.0  1.357763  1.354902 -0.251383 -0.294272   \n",
       "15506  1.140389  1.710932     0.0 -0.580926  1.354902 -0.751313 -0.294272   \n",
       "15507  1.140389  1.710932     1.0  2.811780 -0.312686  0.498512 -0.294272   \n",
       "15508  1.140389  1.710932     1.0  1.357763 -0.868549 -0.001418 -0.294272   \n",
       "15509  1.140389  1.710932     0.0 -1.065598  0.243176 -0.751313 -0.294272   \n",
       "15510  1.140389  1.710932     0.0 -1.065598  0.243176 -0.501348 -0.294272   \n",
       "15511  1.140389  1.710932     1.0 -0.580926 -0.312686  2.248267 -0.294272   \n",
       "15512  1.140389  1.710932     0.0 -0.096253  1.910764  1.498372 -0.294272   \n",
       "15513  1.140389  1.710932     1.0  1.842435 -0.868549  3.498092 -0.294272   \n",
       "\n",
       "        triples    pentas        fb  ...   csdat15  datediff  Encoded_league  \\\n",
       "0     -0.103075 -0.011355  2.537867  ...  2.867328  0.958407        1.229729   \n",
       "1     -0.103075 -0.011355 -0.394032  ... -2.867328  0.958407        1.229729   \n",
       "2     -0.103075 -0.011355  2.537867  ...  0.058517  0.958407        1.229729   \n",
       "3     -0.103075 -0.011355 -0.394032  ... -0.058517  0.958407        1.229729   \n",
       "4     -0.103075 -0.011355 -0.394032  ...  0.526652  0.958407        1.229729   \n",
       "5     -0.103075 -0.011355 -0.394032  ... -0.526652  0.958407        1.229729   \n",
       "6     -0.103075 -0.011355 -0.394032  ... -2.691777  0.958407        1.229729   \n",
       "7     -0.103075 -0.011355 -0.394032  ...  2.691777  0.958407        1.229729   \n",
       "8     -0.103075 -0.011355 -0.394032  ...  2.048091  0.958407        1.229729   \n",
       "9     -0.103075 -0.011355 -0.394032  ... -2.048091  0.958407        1.229729   \n",
       "10    -0.103075 -0.011355 -0.394032  ... -1.521439  0.955488        1.229729   \n",
       "11    -0.103075 -0.011355 -0.394032  ...  1.521439  0.955488        1.229729   \n",
       "12    -0.103075 -0.011355 -0.394032  ...  1.345889  0.955488        1.229729   \n",
       "13    -0.103075 -0.011355 -0.394032  ... -1.345889  0.955488        1.229729   \n",
       "14    -0.103075 -0.011355 -0.394032  ...  0.175551  0.955488        1.229729   \n",
       "15    -0.103075 -0.011355 -0.394032  ... -0.175551  0.955488        1.229729   \n",
       "16    -0.103075 -0.011355 -0.394032  ... -1.053304  0.952567       -1.653366   \n",
       "17    -0.103075 -0.011355  2.537867  ...  1.053304  0.952567       -1.653366   \n",
       "18    -0.103075 -0.011355 -0.394032  ... -1.755507  0.952567       -1.653366   \n",
       "19    -0.103075 -0.011355  2.537867  ...  1.755507  0.952567       -1.653366   \n",
       "20    -0.103075 -0.011355 -0.394032  ... -0.760720  0.952567        1.229729   \n",
       "21    -0.103075 -0.011355 -0.394032  ...  0.760720  0.952567        1.229729   \n",
       "22    -0.103075 -0.011355 -0.394032  ...  0.292584  0.952567        1.229729   \n",
       "23    -0.103075 -0.011355  2.537867  ... -0.292584  0.952567        1.229729   \n",
       "24    -0.103075 -0.011355 -0.394032  ... -0.292584  0.952567        1.229729   \n",
       "25    -0.103075 -0.011355  2.537867  ...  0.292584  0.952567        1.229729   \n",
       "26    -0.103075 -0.011355  2.537867  ... -0.409618  0.952567        1.229729   \n",
       "27    -0.103075 -0.011355 -0.394032  ...  0.409618  0.952567        1.229729   \n",
       "28    -0.103075 -0.011355 -0.394032  ...  0.292584  0.952567       -1.653366   \n",
       "29    -0.103075 -0.011355 -0.394032  ... -0.292584  0.952567       -1.653366   \n",
       "...         ...       ...       ...  ...       ...       ...             ...   \n",
       "15484 -0.103075 -0.011355 -0.394032  ...  0.000000  0.115573        0.460904   \n",
       "15485 -0.103075 -0.011355 -0.394032  ...  0.000000  0.115573        0.460904   \n",
       "15486 -0.103075 -0.011355 -0.394032  ...  0.000000  0.115573        0.460904   \n",
       "15487 -0.103075 -0.011355 -0.394032  ...  0.000000  0.115573        0.460904   \n",
       "15488 -0.103075 -0.011355 -0.394032  ...  0.000000  0.115573        0.460904   \n",
       "15489 -0.103075 -0.011355 -0.394032  ...  0.000000  0.115573        0.460904   \n",
       "15490 -0.103075 -0.011355 -0.394032  ...  0.000000  0.115573        0.460904   \n",
       "15491 -0.103075 -0.011355 -0.394032  ...  0.000000  0.115573        0.460904   \n",
       "15492 -0.103075 -0.011355 -0.394032  ...  0.000000  0.115573        0.460904   \n",
       "15493 -0.103075 -0.011355 -0.394032  ...  0.000000  0.115573        0.460904   \n",
       "15494 -0.103075 -0.011355 -0.394032  ...  0.000000  0.115573        0.460904   \n",
       "15495 -0.103075 -0.011355 -0.394032  ...  0.000000  0.115573        0.460904   \n",
       "15496 -0.103075 -0.011355 -0.394032  ...  0.000000  0.115573        0.460904   \n",
       "15497 -0.103075 -0.011355 -0.394032  ...  0.000000  0.115573        0.460904   \n",
       "15498 -0.103075 -0.011355 -0.394032  ...  0.000000  0.115573        0.460904   \n",
       "15499 -0.103075 -0.011355 -0.394032  ...  0.000000  0.115573        0.460904   \n",
       "15500 -0.103075 -0.011355 -0.394032  ...  0.000000  0.115573        0.460904   \n",
       "15501 -0.103075 -0.011355 -0.394032  ...  0.000000  0.115573        0.460904   \n",
       "15502 -0.103075 -0.011355 -0.394032  ...  0.000000  0.115573        0.460904   \n",
       "15503 -0.103075 -0.011355 -0.394032  ...  0.000000  0.115573        0.460904   \n",
       "15504 -0.103075 -0.011355 -0.394032  ...  0.000000  0.115573        0.460904   \n",
       "15505 -0.103075 -0.011355 -0.394032  ...  0.000000  0.115573        0.460904   \n",
       "15506 -0.103075 -0.011355 -0.394032  ...  0.000000  0.115573        0.460904   \n",
       "15507 -0.103075 -0.011355 -0.394032  ...  0.000000  0.115573        0.460904   \n",
       "15508 -0.103075 -0.011355 -0.394032  ...  0.000000  0.115573        0.460904   \n",
       "15509 -0.103075 -0.011355 -0.394032  ...  0.000000  0.115573        0.460904   \n",
       "15510 -0.103075 -0.011355 -0.394032  ...  0.000000  0.115573        0.460904   \n",
       "15511 -0.103075 -0.011355 -0.394032  ...  0.000000  0.115573        0.460904   \n",
       "15512 -0.103075 -0.011355 -0.394032  ...  0.000000  0.115573        0.460904   \n",
       "15513 -0.103075 -0.011355 -0.394032  ...  0.000000  0.115573        0.460904   \n",
       "\n",
       "       Encoded_game  Encoded_side  Encoded_champion  Encoded_Year  \\\n",
       "0          1.192908          -1.0         -0.252176     -1.072695   \n",
       "1          1.192908           1.0         -1.196948     -1.072695   \n",
       "2         -0.877722          -1.0         -1.346122     -1.072695   \n",
       "3         -0.877722           1.0          0.344523     -1.072695   \n",
       "4         -0.748308          -1.0          1.537919     -1.072695   \n",
       "5         -0.748308           1.0         -1.346122     -1.072695   \n",
       "6          1.192908          -1.0          1.537919     -1.072695   \n",
       "7          1.192908           1.0         -0.252176     -1.072695   \n",
       "8         -0.877722          -1.0         -0.252176     -1.072695   \n",
       "9         -0.877722           1.0         -1.346122     -1.072695   \n",
       "10         1.192908          -1.0         -1.346122     -1.072695   \n",
       "11         1.192908           1.0         -0.500800     -1.072695   \n",
       "12        -0.877722          -1.0         -0.500800     -1.072695   \n",
       "13        -0.877722           1.0         -0.252176     -1.072695   \n",
       "14        -0.877722          -1.0         -0.500800     -1.072695   \n",
       "15        -0.877722           1.0          0.344523     -1.072695   \n",
       "16         1.192908          -1.0         -0.252176     -1.072695   \n",
       "17         1.192908           1.0          1.537919     -1.072695   \n",
       "18        -0.877722          -1.0          1.537919     -1.072695   \n",
       "19        -0.877722           1.0         -0.252176     -1.072695   \n",
       "20        -0.877722          -1.0         -1.346122     -1.072695   \n",
       "21        -0.877722           1.0         -0.103001     -1.072695   \n",
       "22        -0.748308          -1.0          0.841771     -1.072695   \n",
       "23        -0.748308           1.0         -1.346122     -1.072695   \n",
       "24         1.192908          -1.0         -0.500800     -1.072695   \n",
       "25         1.192908           1.0         -1.346122     -1.072695   \n",
       "26        -0.877722          -1.0         -0.252176     -1.072695   \n",
       "27        -0.877722           1.0         -0.301900     -1.072695   \n",
       "28         1.192908          -1.0          1.537919     -1.072695   \n",
       "29         1.192908           1.0         -0.550525     -1.072695   \n",
       "...             ...           ...               ...           ...   \n",
       "15484      1.192908          -1.0          0.344523      1.463557   \n",
       "15485      1.192908           1.0          0.941221      1.463557   \n",
       "15486     -0.877722          -1.0          0.543422      1.463557   \n",
       "15487     -0.877722           1.0          0.941221      1.463557   \n",
       "15488      1.192908          -1.0          1.090396      1.463557   \n",
       "15489      1.192908           1.0          0.344523      1.463557   \n",
       "15490     -0.877722          -1.0          0.344523      1.463557   \n",
       "15491     -0.877722           1.0         -0.500800      1.463557   \n",
       "15492      1.192908          -1.0          0.792046      1.463557   \n",
       "15493      1.192908           1.0          1.090396      1.463557   \n",
       "15494     -0.877722          -1.0         -0.500800      1.463557   \n",
       "15495     -0.877722           1.0         -0.103001      1.463557   \n",
       "15496      1.192908          -1.0         -0.948324      1.463557   \n",
       "15497      1.192908           1.0          0.344523      1.463557   \n",
       "15498     -0.877722          -1.0          0.792046      1.463557   \n",
       "15499     -0.877722           1.0         -0.948324      1.463557   \n",
       "15500     -0.748308          -1.0         -0.948324      1.463557   \n",
       "15501     -0.748308           1.0          0.344523      1.463557   \n",
       "15502      1.192908          -1.0         -1.545022      1.463557   \n",
       "15503      1.192908           1.0         -1.694196      1.463557   \n",
       "15504     -0.877722          -1.0         -1.395847      1.463557   \n",
       "15505     -0.877722           1.0          1.537919      1.463557   \n",
       "15506      1.192908          -1.0          0.941221      1.463557   \n",
       "15507      1.192908           1.0          0.344523      1.463557   \n",
       "15508     -0.877722          -1.0         -0.948324      1.463557   \n",
       "15509     -0.877722           1.0          0.344523      1.463557   \n",
       "15510      1.192908          -1.0          0.941221      1.463557   \n",
       "15511      1.192908           1.0          1.090396      1.463557   \n",
       "15512     -0.877722          -1.0          0.941221      1.463557   \n",
       "15513     -0.877722           1.0          1.090396      1.463557   \n",
       "\n",
       "       Encoded_team  Encoded_culture     player  \n",
       "0         -0.353946        -0.758608     beyond  \n",
       "1          0.714599        -0.758608       umti  \n",
       "2          0.714599        -0.758608       umti  \n",
       "3         -0.353946        -0.758608     beyond  \n",
       "4         -0.353946        -0.758608     beyond  \n",
       "5          0.714599        -0.758608       umti  \n",
       "6          1.550852        -0.758608       cuzz  \n",
       "7         -0.470092        -0.758608      score  \n",
       "8         -0.470092        -0.758608      score  \n",
       "9          1.550852        -0.758608       cuzz  \n",
       "10         0.644911        -0.758608    malrang  \n",
       "11        -0.864989        -0.758608     spirit  \n",
       "12        -0.864989        -0.758608     spirit  \n",
       "13         0.644911        -0.758608    malrang  \n",
       "14         1.225642        -0.758608     peanut  \n",
       "15         0.830745        -0.758608   ambition  \n",
       "16         0.853975        -0.252848     jankos  \n",
       "17        -0.098424        -0.252848     trashy  \n",
       "18        -0.098424        -0.252848     trashy  \n",
       "19         0.853975        -0.252848     jankos  \n",
       "20         0.040951        -0.758608      bless  \n",
       "21         1.550852        -0.758608       cuzz  \n",
       "22         1.550852        -0.758608       cuzz  \n",
       "23         0.040951        -0.758608      bless  \n",
       "24        -1.445720        -0.758608  seonghwan  \n",
       "25         0.714599        -0.758608       umti  \n",
       "26         0.714599        -0.758608       umti  \n",
       "27        -1.445720        -0.758608  seonghwan  \n",
       "28        -0.144883        -0.252848     broxah  \n",
       "29        -1.050823        -0.252848    maxlore  \n",
       "...             ...              ...        ...  \n",
       "15484     -0.423633         0.758673       sofm  \n",
       "15485     -0.888218         0.758673     weiwei  \n",
       "15486     -0.888218         0.758673     weiwei  \n",
       "15487     -0.423633         0.758673       sofm  \n",
       "15488      0.528765         0.758673     meteor  \n",
       "15489      0.807516         0.758673      karsa  \n",
       "15490      0.528765         0.758673     meteor  \n",
       "15491      0.807516         0.758673      karsa  \n",
       "15492     -0.284258         0.758673     weiyan  \n",
       "15493     -1.097281         0.758673       ning  \n",
       "15494     -0.284258         0.758673       haro  \n",
       "15495     -1.097281         0.758673       ning  \n",
       "15496     -0.284258         0.758673     weiyan  \n",
       "15497     -0.539779         0.758673        aix  \n",
       "15498     -0.539779         0.758673        aix  \n",
       "15499     -0.284258         0.758673       haro  \n",
       "15500     -0.539779         0.758673        aix  \n",
       "15501     -0.284258         0.758673       haro  \n",
       "15502     -1.376032         0.758673      doinb  \n",
       "15503     -1.213427         0.758673         xx  \n",
       "15504     -1.376032         0.758673       tian  \n",
       "15505     -1.213427         0.758673         xx  \n",
       "15506      1.388247         0.758673     world6  \n",
       "15507     -1.213427         0.758673         xx  \n",
       "15508     -1.213427         0.758673         xx  \n",
       "15509      1.388247         0.758673     world6  \n",
       "15510      1.411476         0.758673       ben4  \n",
       "15511     -0.261029         0.758673   beishang  \n",
       "15512      1.411476         0.758673       ben4  \n",
       "15513     -0.261029         0.758673   beishang  \n",
       "\n",
       "[15514 rows x 60 columns]"
      ]
     },
     "execution_count": 13,
     "metadata": {},
     "output_type": "execute_result"
    }
   ],
   "source": [
    "# Visualize data\n",
    "data_raw"
   ]
  },
  {
   "cell_type": "code",
   "execution_count": 14,
   "metadata": {
    "ExecuteTime": {
     "end_time": "2019-08-24T17:05:30.203712Z",
     "start_time": "2019-08-24T17:05:30.142813Z"
    }
   },
   "outputs": [
    {
     "name": "stdout",
     "output_type": "stream",
     "text": [
      "Set of the different column types captured by the data:  {dtype('O'), dtype('float64')}\n",
      "The number of missing values in the data:  0\n"
     ]
    }
   ],
   "source": [
    "# Check all values are numeric\n",
    "print(\"Set of the different column types captured by the data: \", set(data_raw.dtypes))\n",
    "# Check no missing data\n",
    "print(\"The number of missing values in the data: \", sum(data_raw.isnull().any()))"
   ]
  },
  {
   "cell_type": "markdown",
   "metadata": {},
   "source": [
    "## 2. Split data in test and train data"
   ]
  },
  {
   "cell_type": "code",
   "execution_count": 15,
   "metadata": {
    "ExecuteTime": {
     "end_time": "2019-08-24T17:05:30.351090Z",
     "start_time": "2019-08-24T17:05:30.209094Z"
    },
    "scrolled": true
   },
   "outputs": [],
   "source": [
    "# Create copy of data for model building (removing team feature)\n",
    "data = data_raw.copy()\n",
    "data = data.drop(labels = ['player', 'split', 'patchno', 'Encoded_league', 'Encoded_game', 'Encoded_Year', 'Encoded_culture'], axis=1)"
   ]
  },
  {
   "cell_type": "code",
   "execution_count": 16,
   "metadata": {
    "ExecuteTime": {
     "end_time": "2019-08-24T17:05:30.418847Z",
     "start_time": "2019-08-24T17:05:30.356299Z"
    }
   },
   "outputs": [],
   "source": [
    "# Split the data\n",
    "x_train, x_test, y_train, y_test = data_splitter(data, 'result')"
   ]
  },
  {
   "cell_type": "code",
   "execution_count": 17,
   "metadata": {
    "ExecuteTime": {
     "end_time": "2019-08-24T17:05:30.462362Z",
     "start_time": "2019-08-24T17:05:30.431740Z"
    }
   },
   "outputs": [
    {
     "name": "stdout",
     "output_type": "stream",
     "text": [
      "The data is centered:  True \n",
      "The data is standardized:  False\n"
     ]
    }
   ],
   "source": [
    "# Check data is standardized and centered\n",
    "print(\"The data is centered: \", \n",
    "      all([int(x) for x in round(x_train.mean(axis = 0), 4)]) == 0,\n",
    "     \"\\nThe data is standardized: \",\n",
    "      all([int(x) for x in round(x_train.var(axis = 0), 4)]) == 1)"
   ]
  },
  {
   "cell_type": "markdown",
   "metadata": {},
   "source": [
    "## 3. Model creation"
   ]
  },
  {
   "cell_type": "code",
   "execution_count": 18,
   "metadata": {
    "ExecuteTime": {
     "end_time": "2019-08-24T17:05:30.484131Z",
     "start_time": "2019-08-24T17:05:30.466088Z"
    }
   },
   "outputs": [],
   "source": [
    "# Create dictionary to capture model summary\n",
    "logistic_L1penalty_model_dict, ridge_model_dict, elasticnet_model_dict, rf_model_dict, model_summary_dict = dict(), dict(), dict(), dict(), dict()"
   ]
  },
  {
   "cell_type": "markdown",
   "metadata": {},
   "source": [
    "### 3.1 Logistic regression with L1 penalty (Lasso classification model)\n",
    "Here, the recursive feature elimination techinique is used to initialize L1 penalization in our logistic regression model and hence allows implementation of lasso regularization."
   ]
  },
  {
   "cell_type": "markdown",
   "metadata": {},
   "source": [
    "##### Recursive feature elimination\n",
    "Given an external estimator that assigns weights to features (~coefficients), the goal of recursive feature elimination is to select features by recursively considering smaller and smaller sets of features. The estimator is trained on the initial set of features and the importance of each feature is obtained. Based on this information the least important features are pruned from the current set of features. This procedure is recursively repeated on the pruned set until the desired number of features to select is reached. To get the optimal number of features CV is used."
   ]
  },
  {
   "cell_type": "code",
   "execution_count": 19,
   "metadata": {
    "ExecuteTime": {
     "end_time": "2019-08-24T17:07:28.998963Z",
     "start_time": "2019-08-24T17:05:30.486004Z"
    },
    "scrolled": true
   },
   "outputs": [],
   "source": [
    "# By using the liblinear solver the L1 penalty is implemented\n",
    "logreg = LogisticRegression(solver='liblinear')\n",
    "rfe = RFECV(logreg, cv = 5)\n",
    "rfe = rfe.fit(x_train, y_train)"
   ]
  },
  {
   "cell_type": "code",
   "execution_count": 20,
   "metadata": {
    "ExecuteTime": {
     "end_time": "2019-08-24T17:07:29.028587Z",
     "start_time": "2019-08-24T17:07:29.002573Z"
    }
   },
   "outputs": [
    {
     "name": "stdout",
     "output_type": "stream",
     "text": [
      "Based on the recursive elimination method the following 22 features are selected:  ['d', 'a', 'fb', 'kpm', 'elementals', 'dmgtochamps', 'dmgshare', 'earnedgoldshare', 'wardshare', 'wardkills', 'wcpm', 'totalgold', 'earnedgpm', 'goldspent', 'gspd', 'minionkills', 'monsterkills', 'monsterkillsownjungle', 'monsterkillsenemyjungle', 'goldat15', 'gdat15', 'csat15']\n"
     ]
    }
   ],
   "source": [
    "# Intermediate summary\n",
    "selected_features_rfe = [col for col, bool_importance in zip(x_train.columns.values, rfe.support_) if bool_importance]\n",
    "print(\"Based on the recursive elimination method the following\", len(selected_features_rfe),\n",
    "      \"features are selected: \", selected_features_rfe)"
   ]
  },
  {
   "cell_type": "markdown",
   "metadata": {},
   "source": [
    "Remark: The solver used by the logistic regression model is 'liblinear' which applies automatic parameter selection (L1 regularization) and is recommended when using a high dimensional dataset."
   ]
  },
  {
   "cell_type": "markdown",
   "metadata": {},
   "source": [
    "##### Model fit"
   ]
  },
  {
   "cell_type": "code",
   "execution_count": 21,
   "metadata": {
    "ExecuteTime": {
     "end_time": "2019-08-24T17:07:29.544456Z",
     "start_time": "2019-08-24T17:07:29.031826Z"
    }
   },
   "outputs": [],
   "source": [
    "# Fit the logistic regression model\n",
    "logistic_L1penalty_model = LogisticRegression(solver='liblinear')\n",
    "fitted_logistic_L1penalty_model = logistic_L1penalty_model.fit(x_train[selected_features_rfe], y_train)\n",
    "\n",
    "# Save best approximation alpha after CV\n",
    "logistic_L1penalty_model_dict['regularisation_param'] = np.nan"
   ]
  },
  {
   "cell_type": "markdown",
   "metadata": {
    "ExecuteTime": {
     "end_time": "2019-03-19T10:26:19.552084Z",
     "start_time": "2019-03-19T10:26:19.547199Z"
    }
   },
   "source": [
    "##### Model accuracy evaluation"
   ]
  },
  {
   "cell_type": "code",
   "execution_count": 22,
   "metadata": {
    "ExecuteTime": {
     "end_time": "2019-08-24T17:07:32.776040Z",
     "start_time": "2019-08-24T17:07:29.548062Z"
    }
   },
   "outputs": [
    {
     "name": "stdout",
     "output_type": "stream",
     "text": [
      "Based on a threshold of 0.5 the following summary statistics can be obtained:\n",
      " ----------------------------------------------------------------------------------------------------\n",
      "1108 true positives over all positives (the wins that were correctly classified).\n",
      "68 false positives (the wins that were wrongly classified).\n",
      "1076 true negatives (the losses that were correctly classified).\n",
      "76 false negatives (the losses that were wrongly classified).\n",
      "\n",
      "The sensitivity is:  0.9358108108108109\n",
      "The specificity is:  0.9405594405594405\n",
      "\n",
      "\n",
      "Accuracy: 0.9381443298969072 \n",
      " ----------------------------------------------------------------------------------------------------\n"
     ]
    },
    {
     "data": {
      "image/png": "[encoded data removed]",
      "text/plain": [
       "<Figure size 432x288 with 1 Axes>"
      ]
     },
     "metadata": {
      "needs_background": "light"
     },
     "output_type": "display_data"
    },
    {
     "name": "stdout",
     "output_type": "stream",
     "text": [
      "Confusion matrix :\n",
      " ----------------------------------------------------------------------------------------------------\n"
     ]
    },
    {
     "data": {
      "image/png": "[encoded data removed]",
      "text/plain": [
       "<Figure size 432x288 with 2 Axes>"
      ]
     },
     "metadata": {
      "needs_background": "light"
     },
     "output_type": "display_data"
    },
    {
     "name": "stdout",
     "output_type": "stream",
     "text": [
      "Normalized confusion matrix :\n",
      " ----------------------------------------------------------------------------------------------------\n"
     ]
    },
    {
     "data": {
      "image/png": "[encoded data removed]",
      "text/plain": [
       "<Figure size 432x288 with 2 Axes>"
      ]
     },
     "metadata": {
      "needs_background": "light"
     },
     "output_type": "display_data"
    }
   ],
   "source": [
    "# Model accuracy evaluation metrics\n",
    "logistic_L1penalty_model_dict['sensitivity'], logistic_L1penalty_model_dict['specificity'], logistic_L1penalty_model_dict['auc'], logistic_L1penalty_model_dict['accuracy'] = binary_class_evaluator(fitted_logistic_L1penalty_model, x_test[selected_features_rfe], y_test)\n",
    "\n",
    "# Plot non-normalized and normalized confusion matrix\n",
    "plot_confusion_matrix(fitted_logistic_L1penalty_model, x_test[selected_features_rfe], y_test, classes=['Loss', 'Win'])\n",
    "plot_confusion_matrix(fitted_logistic_L1penalty_model, x_test[selected_features_rfe], y_test, classes=['Loss', 'Win'], normalize=True)"
   ]
  },
  {
   "cell_type": "markdown",
   "metadata": {},
   "source": [
    "##### Feature importance evaluator"
   ]
  },
  {
   "cell_type": "code",
   "execution_count": 23,
   "metadata": {
    "ExecuteTime": {
     "end_time": "2019-08-24T17:07:32.795766Z",
     "start_time": "2019-08-24T17:07:32.779339Z"
    }
   },
   "outputs": [
    {
     "name": "stdout",
     "output_type": "stream",
     "text": [
      "Summary of the important features and their corresponding coefficients:\n",
      " ----------------------------------------------------------------------------------------------------\n",
      "earnedgpm : 5.599451810870514\n",
      "totalgold : 4.40901915579504\n",
      "goldspent : -4.25950635714061\n",
      "earnedgoldshare : -3.4389409542991123\n",
      "d : -1.2648989190252053\n",
      "a : 1.2611877125156494\n",
      "kpm : 0.7524778193616977\n",
      "gspd : 0.658425409499303\n",
      "goldat15 : -0.6492575981077139\n",
      "wcpm : 0.49147741717991217\n"
     ]
    }
   ],
   "source": [
    "# Show the sorted features indicating the highest importance in predicting the target\n",
    "logistic_L1penalty_model_dict['feature_importance'] = important_features_extractor(fitted_logistic_L1penalty_model, selected_features_rfe)"
   ]
  },
  {
   "cell_type": "code",
   "execution_count": 24,
   "metadata": {
    "ExecuteTime": {
     "end_time": "2019-08-24T18:18:16.275768Z",
     "start_time": "2019-08-24T17:07:32.798705Z"
    },
    "scrolled": true
   },
   "outputs": [
    {
     "data": {
      "image/png": "[encoded data removed]",
      "text/plain": [
       "<Figure size 432x288 with 1 Axes>"
      ]
     },
     "metadata": {
      "needs_background": "light"
     },
     "output_type": "display_data"
    }
   ],
   "source": [
    "# Visualize the use of different regularization parameters on coefficient estimates for Lasso regression\n",
    "n_alphas, coefs = 200, []\n",
    "alphas = np.logspace(-10, -2, n_alphas)\n",
    "for a in alphas:\n",
    "    lasso = Lasso(alpha = a, fit_intercept = False)\n",
    "    lasso.fit(x_train, y_train)\n",
    "    coefs.append(lasso.coef_)\n",
    "\n",
    "# Visualize the regularization curve\n",
    "ax = plt.gca()\n",
    "ax.plot(alphas, coefs)\n",
    "ax.set_xscale('log')\n",
    "ax.set_xlim(ax.get_xlim()[::-1])  # reverse axis\n",
    "plt.xlabel('alpha')\n",
    "plt.ylabel('weights')\n",
    "plt.title('Lasso coefficients as a function of the regularization')\n",
    "plt.axis('tight')\n",
    "plt.show()"
   ]
  },
  {
   "cell_type": "markdown",
   "metadata": {},
   "source": [
    "### 3.2 Ridge classification model\n",
    "Ridge regression covers a machine learning technique that solves a regression model where the loss function is the linear least squares function and regularization is given by the l2-norm.\n",
    "\n",
    "To fit the ridge classification model the ridge classifier with build in cross-validation estimator is used from the sklearn package. The CV classifier allows us to evaluate different regularization parameters. Here, the array of alpha values that is explored ranges from 0.1 to 1. in steps of 0.025.\n",
    "\n",
    "If the alpha value is 0, a OLS model seems to best fit the data. So, the smaller the value of alpha, the higher the magnitude of the coefficients. No intercept is calculated for the model, because the data is centered."
   ]
  },
  {
   "cell_type": "markdown",
   "metadata": {},
   "source": [
    "##### Model fit"
   ]
  },
  {
   "cell_type": "code",
   "execution_count": 25,
   "metadata": {
    "ExecuteTime": {
     "end_time": "2019-08-24T18:18:20.953660Z",
     "start_time": "2019-08-24T18:18:16.287617Z"
    }
   },
   "outputs": [],
   "source": [
    "# Fit the regression model for the optimal alpha \n",
    "alphas = np.arange(0.0, 1.0, 0.025)\n",
    "ridge_model = RidgeClassifierCV(alphas, fit_intercept= False, cv= 5)\n",
    "fitted_ridge_model = ridge_model.fit(x_train, y_train)\n",
    "\n",
    "# Save best approximation alpha after CV\n",
    "ridge_model_dict['regularisation_param'] = fitted_ridge_model.alpha_"
   ]
  },
  {
   "cell_type": "markdown",
   "metadata": {},
   "source": [
    "##### Model accuracy evaluation"
   ]
  },
  {
   "cell_type": "code",
   "execution_count": 26,
   "metadata": {
    "ExecuteTime": {
     "end_time": "2019-08-24T18:18:22.488811Z",
     "start_time": "2019-08-24T18:18:20.957776Z"
    }
   },
   "outputs": [
    {
     "name": "stdout",
     "output_type": "stream",
     "text": [
      "Based on a threshold of 0.5 the following summary statistics can be obtained:\n",
      " ----------------------------------------------------------------------------------------------------\n",
      "1097 true positives over all positives (the wins that were correctly classified).\n",
      "73 false positives (the wins that were wrongly classified).\n",
      "1071 true negatives (the losses that were correctly classified).\n",
      "87 false negatives (the losses that were wrongly classified).\n",
      "\n",
      "The sensitivity is:  0.9265202702702703\n",
      "The specificity is:  0.9361888111888111\n",
      "\n",
      "\n",
      "Accuracy: 0.9312714776632303 \n",
      " ----------------------------------------------------------------------------------------------------\n"
     ]
    },
    {
     "data": {
      "image/png": "[encoded data removed]",
      "text/plain": [
       "<Figure size 432x288 with 1 Axes>"
      ]
     },
     "metadata": {
      "needs_background": "light"
     },
     "output_type": "display_data"
    },
    {
     "name": "stdout",
     "output_type": "stream",
     "text": [
      "Confusion matrix :\n",
      " ----------------------------------------------------------------------------------------------------\n"
     ]
    },
    {
     "data": {
      "image/png": "[encoded data removed]",
      "text/plain": [
       "<Figure size 432x288 with 2 Axes>"
      ]
     },
     "metadata": {
      "needs_background": "light"
     },
     "output_type": "display_data"
    },
    {
     "name": "stdout",
     "output_type": "stream",
     "text": [
      "Normalized confusion matrix :\n",
      " ----------------------------------------------------------------------------------------------------\n"
     ]
    },
    {
     "data": {
      "image/png": "[encoded data removed]",
      "text/plain": [
       "<Figure size 432x288 with 2 Axes>"
      ]
     },
     "metadata": {
      "needs_background": "light"
     },
     "output_type": "display_data"
    }
   ],
   "source": [
    "# Model accuracy evaluation metrics\n",
    "ridge_model_dict['sensitivity'], ridge_model_dict['specificity'], ridge_model_dict['auc'], ridge_model_dict['accuracy'] = binary_class_evaluator(fitted_ridge_model, x_test, y_test)\n",
    "\n",
    "# Plot non-normalized and normalized confusion matrix\n",
    "plot_confusion_matrix(fitted_ridge_model, x_test,y_test, classes=['Loss', 'Win'])\n",
    "plot_confusion_matrix(fitted_ridge_model, x_test,y_test, classes=['Loss', 'Win'], normalize=True)"
   ]
  },
  {
   "cell_type": "markdown",
   "metadata": {
    "ExecuteTime": {
     "end_time": "2019-03-19T09:17:32.286353Z",
     "start_time": "2019-03-19T09:17:31.991148Z"
    }
   },
   "source": [
    "##### Feature importance evaluator"
   ]
  },
  {
   "cell_type": "code",
   "execution_count": 27,
   "metadata": {
    "ExecuteTime": {
     "end_time": "2019-08-24T18:18:22.505738Z",
     "start_time": "2019-08-24T18:18:22.492967Z"
    },
    "scrolled": true
   },
   "outputs": [
    {
     "name": "stdout",
     "output_type": "stream",
     "text": [
      "Summary of the important features and their corresponding coefficients:\n",
      " ----------------------------------------------------------------------------------------------------\n",
      "earnedgpm : 0.5506094046742178\n",
      "goldspent : -0.5222374259127971\n",
      "totalgold : 0.45943249454387675\n",
      "earnedgoldshare : -0.3338653648336891\n",
      "dmgtochampsperminute : -0.30258642815504155\n",
      "a : 0.2685002798555756\n",
      "d : -0.24106999790881087\n",
      "dmgtochamps : 0.23872400646904446\n",
      "k : 0.14518284269100498\n",
      "wards : -0.13293113971382506\n"
     ]
    }
   ],
   "source": [
    "# Show the sorted features indicating the highest importance in predicting the target\n",
    "ridge_model_dict['feature_importance'] = important_features_extractor(fitted_ridge_model, x_train.columns.values)"
   ]
  },
  {
   "cell_type": "code",
   "execution_count": 28,
   "metadata": {
    "ExecuteTime": {
     "end_time": "2019-08-24T18:18:25.154800Z",
     "start_time": "2019-08-24T18:18:22.510442Z"
    }
   },
   "outputs": [
    {
     "data": {
      "image/png": "[encoded data removed]",
      "text/plain": [
       "<Figure size 432x288 with 1 Axes>"
      ]
     },
     "metadata": {
      "needs_background": "light"
     },
     "output_type": "display_data"
    }
   ],
   "source": [
    "# Visualize the use of different regularization parameters on coefficient estimates for Ridge regression\n",
    "n_alphas, coefs = 200, []\n",
    "alphas = np.logspace(-10, -2, n_alphas)\n",
    "for a in alphas:\n",
    "    ridge = Ridge(alpha = a, fit_intercept = False)\n",
    "    ridge.fit(x_train, y_train)\n",
    "    coefs.append(ridge.coef_)\n",
    "\n",
    "# Visualize the regularization curve\n",
    "ax = plt.gca()\n",
    "ax.plot(alphas, coefs)\n",
    "ax.set_xscale('log')\n",
    "ax.set_xlim(ax.get_xlim()[::-1])  # reverse axis\n",
    "plt.xlabel('alpha')\n",
    "plt.ylabel('weights')\n",
    "plt.title('Ridge coefficients as a function of the regularization')\n",
    "plt.axis('tight')\n",
    "plt.show()"
   ]
  },
  {
   "cell_type": "markdown",
   "metadata": {},
   "source": [
    "### 3.3 Elastic net classification model\n",
    "The elastic net classification model will combine the L1 and L2 priors illustrated above in the same logistic regression model as regularizers. The ElasticNetCV function from sklearn allows us to play around with these regularization parameters by defining a range for the l1_ratio = a/ (a + b), where  a * L1 + b * L2 composes the penalization term. If the optimal l1_ratio parameter is closer to 1, a sparser selection is managed, while l1_ratio parameters close to 0 result in more shrinkage of the coefficients."
   ]
  },
  {
   "cell_type": "markdown",
   "metadata": {},
   "source": [
    "##### Model fit"
   ]
  },
  {
   "cell_type": "code",
   "execution_count": 29,
   "metadata": {
    "ExecuteTime": {
     "end_time": "2019-08-24T18:21:21.179866Z",
     "start_time": "2019-08-24T18:18:25.156607Z"
    }
   },
   "outputs": [],
   "source": [
    "# Fit the elasticnet classification model\n",
    "l1_ratios = alphas[1:]\n",
    "elasticnet_model = ElasticNetCV(l1_ratio = l1_ratios, fit_intercept= False, cv= 5, random_state=0)\n",
    "fitted_elasticnet_model = elasticnet_model.fit(x_train, y_train)\n",
    "\n",
    "# Save best approximation alpha after CV\n",
    "elasticnet_model_dict['regularisation_param'] = {'l1_ratio': fitted_elasticnet_model.l1_ratio_,\n",
    "                                                 'alpha': fitted_elasticnet_model.alpha_}"
   ]
  },
  {
   "cell_type": "markdown",
   "metadata": {},
   "source": [
    "##### Model accuracy evaluation"
   ]
  },
  {
   "cell_type": "code",
   "execution_count": 30,
   "metadata": {
    "ExecuteTime": {
     "end_time": "2019-08-24T18:21:22.607012Z",
     "start_time": "2019-08-24T18:21:21.186753Z"
    }
   },
   "outputs": [
    {
     "name": "stdout",
     "output_type": "stream",
     "text": [
      "Based on a threshold of 0.5 the following summary statistics can be obtained:\n",
      " ----------------------------------------------------------------------------------------------------\n",
      "1093 true positives over all positives (the wins that were correctly classified).\n",
      "72 false positives (the wins that were wrongly classified).\n",
      "1072 true negatives (the losses that were correctly classified).\n",
      "91 false negatives (the losses that were wrongly classified).\n",
      "\n",
      "The sensitivity is:  0.9231418918918919\n",
      "The specificity is:  0.9370629370629371\n",
      "\n",
      "\n",
      "Accuracy: 0.9299828178694158 \n",
      " ----------------------------------------------------------------------------------------------------\n"
     ]
    },
    {
     "data": {
      "image/png": "[encoded data removed]",
      "text/plain": [
       "<Figure size 432x288 with 1 Axes>"
      ]
     },
     "metadata": {
      "needs_background": "light"
     },
     "output_type": "display_data"
    },
    {
     "name": "stdout",
     "output_type": "stream",
     "text": [
      "Confusion matrix :\n",
      " ----------------------------------------------------------------------------------------------------\n"
     ]
    },
    {
     "data": {
      "image/png": "[encoded data removed]",
      "text/plain": [
       "<Figure size 432x288 with 2 Axes>"
      ]
     },
     "metadata": {
      "needs_background": "light"
     },
     "output_type": "display_data"
    },
    {
     "name": "stdout",
     "output_type": "stream",
     "text": [
      "Normalized confusion matrix :\n",
      " ----------------------------------------------------------------------------------------------------\n"
     ]
    },
    {
     "data": {
      "image/png": "[encoded data removed]",
      "text/plain": [
       "<Figure size 432x288 with 2 Axes>"
      ]
     },
     "metadata": {
      "needs_background": "light"
     },
     "output_type": "display_data"
    }
   ],
   "source": [
    "# Model accuracy evaluation metrics\n",
    "elasticnet_model_dict['sensitivity'], elasticnet_model_dict['specificity'], elasticnet_model_dict['auc'], elasticnet_model_dict['accuracy'] = binary_class_evaluator(fitted_elasticnet_model, x_test, y_test, elasticnet = True)\n",
    "\n",
    "# Plot non-normalized and normalized confusion matrix\n",
    "plot_confusion_matrix(fitted_elasticnet_model, x_test, y_test, classes=['Loss', 'Win'], elasticnet = True)\n",
    "plot_confusion_matrix(fitted_elasticnet_model, x_test, y_test, classes=['Loss', 'Win'], normalize=True, elasticnet = True)"
   ]
  },
  {
   "cell_type": "markdown",
   "metadata": {
    "ExecuteTime": {
     "end_time": "2019-03-19T10:34:24.897544Z",
     "start_time": "2019-03-19T10:34:24.872205Z"
    }
   },
   "source": [
    "##### Feature importance evaluator"
   ]
  },
  {
   "cell_type": "code",
   "execution_count": 31,
   "metadata": {
    "ExecuteTime": {
     "end_time": "2019-08-24T18:21:22.629760Z",
     "start_time": "2019-08-24T18:21:22.608991Z"
    },
    "scrolled": true
   },
   "outputs": [
    {
     "name": "stdout",
     "output_type": "stream",
     "text": [
      "Summary of the important features and their corresponding coefficients:\n",
      " ----------------------------------------------------------------------------------------------------\n",
      "earnedgpm : 0.2465028521236665\n",
      "a : 0.13860314902087756\n",
      "earnedgoldshare : -0.14416972749559606\n",
      "goldspent : -0.13791035178730382\n",
      "d : -0.12993739676217284\n",
      "totalgold : 0.11566873639626724\n",
      "k : 0.05785018996184877\n",
      "gspd : 0.03939593471389502\n",
      "goldat15 : -0.037987233140686937\n",
      "elementals : 0.03278803850297558\n"
     ]
    }
   ],
   "source": [
    "# Show the sorted features indicating the highest importance in predicting the target\n",
    "elasticnet_model_dict['feature_importance'] = important_features_extractor(fitted_elasticnet_model, \n",
    "                                                                           x_train.columns.values, \n",
    "                                                                           elasticnet = True)"
   ]
  },
  {
   "cell_type": "code",
   "execution_count": 32,
   "metadata": {
    "ExecuteTime": {
     "end_time": "2019-08-24T18:24:30.228422Z",
     "start_time": "2019-08-24T18:21:22.631786Z"
    }
   },
   "outputs": [
    {
     "data": {
      "image/png": "[encoded data removed]",
      "text/plain": [
       "<Figure size 432x288 with 1 Axes>"
      ]
     },
     "metadata": {
      "needs_background": "light"
     },
     "output_type": "display_data"
    }
   ],
   "source": [
    "# Visualize the use of different regularization parameters on coefficient estimates for Ridge regression\n",
    "n_ratios, coefs = 200, []\n",
    "l1_ratios = np.logspace(-10, -2, n_ratios)\n",
    "for r in l1_ratios:\n",
    "    elasticnet = ElasticNet(l1_ratio = r, fit_intercept = False)\n",
    "    elasticnet.fit(x_train, y_train)\n",
    "    coefs.append(elasticnet.coef_)\n",
    "\n",
    "# Visualize the regularization curve\n",
    "ax = plt.gca()\n",
    "ax.plot(l1_ratios, coefs)\n",
    "ax.set_xscale('log')\n",
    "ax.set_xlim(ax.get_xlim()[::-1])  # reverse axis\n",
    "plt.xlabel('l1_ratio')\n",
    "plt.ylabel('weights')\n",
    "plt.title('Elastic net coefficients as a function of the regularization')\n",
    "plt.axis('tight')\n",
    "plt.show()"
   ]
  },
  {
   "cell_type": "markdown",
   "metadata": {},
   "source": [
    "### 3.4 Random Forests classifier"
   ]
  },
  {
   "cell_type": "markdown",
   "metadata": {},
   "source": [
    "##### Model fit"
   ]
  },
  {
   "cell_type": "code",
   "execution_count": 33,
   "metadata": {
    "ExecuteTime": {
     "end_time": "2019-08-24T19:04:34.799124Z",
     "start_time": "2019-08-24T18:24:30.230568Z"
    }
   },
   "outputs": [
    {
     "data": {
      "text/plain": [
       "{'bootstrap': False, 'max_features': 'auto', 'n_estimators': 1000}"
      ]
     },
     "execution_count": 33,
     "metadata": {},
     "output_type": "execute_result"
    }
   ],
   "source": [
    "# Define hyperparameter grid\n",
    "param_grid = {'bootstrap': [True, False],\n",
    "              'max_features': ['auto', 'sqrt'],\n",
    "              'n_estimators': [200, 1000, 2000]}\n",
    "\n",
    "# Hyperparametertuning of the Random Forest model (cv = 5 folds)\n",
    "rf_model = RandomForestClassifier()\n",
    "grid_rf_model = GridSearchCV(rf_model, param_grid, cv=5)\n",
    "grid_best_rf_model = grid_rf_model.fit(x_train, y_train)\n",
    "\n",
    "# Save optimal hyperparameters\n",
    "rf_model_dict['regularisation_param'] = grid_best_rf_model.best_params_\n",
    "grid_best_rf_model.best_params_"
   ]
  },
  {
   "cell_type": "code",
   "execution_count": 34,
   "metadata": {
    "ExecuteTime": {
     "end_time": "2019-08-24T19:05:27.563591Z",
     "start_time": "2019-08-24T19:04:34.801160Z"
    }
   },
   "outputs": [
    {
     "data": {
      "text/plain": [
       "RandomForestClassifier(bootstrap=False, class_weight=None, criterion='gini',\n",
       "            max_depth=None, max_features='auto', max_leaf_nodes=None,\n",
       "            min_impurity_decrease=0.0, min_impurity_split=None,\n",
       "            min_samples_leaf=1, min_samples_split=2,\n",
       "            min_weight_fraction_leaf=0.0, n_estimators=1000, n_jobs=None,\n",
       "            oob_score=False, random_state=None, verbose=0,\n",
       "            warm_start=False)"
      ]
     },
     "execution_count": 34,
     "metadata": {},
     "output_type": "execute_result"
    }
   ],
   "source": [
    "# Fit the best model with the optimal hyperparameters\n",
    "fitted_rf_model = RandomForestClassifier(bootstrap = rf_model_dict['regularisation_param'] ['bootstrap'],\n",
    "                                         max_features = rf_model_dict['regularisation_param'] ['max_features'],\n",
    "                                         n_estimators = rf_model_dict['regularisation_param'] ['n_estimators'])\n",
    "fitted_rf_model.fit(x_train,y_train)"
   ]
  },
  {
   "cell_type": "markdown",
   "metadata": {},
   "source": [
    "##### Model accuracy evaluation"
   ]
  },
  {
   "cell_type": "code",
   "execution_count": 35,
   "metadata": {
    "ExecuteTime": {
     "end_time": "2019-08-24T19:05:30.092861Z",
     "start_time": "2019-08-24T19:05:27.565608Z"
    }
   },
   "outputs": [
    {
     "name": "stdout",
     "output_type": "stream",
     "text": [
      "Based on a threshold of 0.5 the following summary statistics can be obtained:\n",
      " ----------------------------------------------------------------------------------------------------\n",
      "1095 true positives over all positives (the wins that were correctly classified).\n",
      "120 false positives (the wins that were wrongly classified).\n",
      "1024 true negatives (the losses that were correctly classified).\n",
      "89 false negatives (the losses that were wrongly classified).\n",
      "\n",
      "The sensitivity is:  0.924831081081081\n",
      "The specificity is:  0.8951048951048951\n",
      "\n",
      "\n",
      "Accuracy: 0.9102233676975945 \n",
      " ----------------------------------------------------------------------------------------------------\n"
     ]
    },
    {
     "data": {
      "image/png": "[encoded data removed]",
      "text/plain": [
       "<Figure size 432x288 with 1 Axes>"
      ]
     },
     "metadata": {
      "needs_background": "light"
     },
     "output_type": "display_data"
    },
    {
     "name": "stdout",
     "output_type": "stream",
     "text": [
      "Confusion matrix :\n",
      " ----------------------------------------------------------------------------------------------------\n"
     ]
    },
    {
     "data": {
      "image/png": "[encoded data removed]",
      "text/plain": [
       "<Figure size 432x288 with 2 Axes>"
      ]
     },
     "metadata": {
      "needs_background": "light"
     },
     "output_type": "display_data"
    },
    {
     "name": "stdout",
     "output_type": "stream",
     "text": [
      "Normalized confusion matrix :\n",
      " ----------------------------------------------------------------------------------------------------\n"
     ]
    },
    {
     "data": {
      "image/png": "[encoded data removed]",
      "text/plain": [
       "<Figure size 432x288 with 2 Axes>"
      ]
     },
     "metadata": {
      "needs_background": "light"
     },
     "output_type": "display_data"
    }
   ],
   "source": [
    "# Model accuracy evaluation metrics\n",
    "rf_model_dict['sensitivity'], rf_model_dict['specificity'], rf_model_dict['auc'], rf_model_dict['accuracy'] = binary_class_evaluator(fitted_rf_model, x_test, y_test, elasticnet = False)\n",
    "\n",
    "# Plot non-normalized and normalized confusion matrix\n",
    "plot_confusion_matrix(fitted_rf_model, x_test, y_test, classes=['Loss', 'Win'], elasticnet = False)\n",
    "plot_confusion_matrix(fitted_rf_model, x_test, y_test, classes=['Loss', 'Win'], normalize=True, elasticnet = False)"
   ]
  },
  {
   "cell_type": "markdown",
   "metadata": {},
   "source": [
    "##### Feature importance evaluator"
   ]
  },
  {
   "cell_type": "code",
   "execution_count": 36,
   "metadata": {
    "ExecuteTime": {
     "end_time": "2019-08-24T19:05:30.222021Z",
     "start_time": "2019-08-24T19:05:30.094846Z"
    }
   },
   "outputs": [
    {
     "data": {
      "text/plain": [
       "a                   0.177548\n",
       "earnedgpm           0.163337\n",
       "d                   0.128227\n",
       "gspd                0.071677\n",
       "kpm                 0.053031\n",
       "totalgold           0.036579\n",
       "earnedgoldshare     0.031795\n",
       "Encoded_team        0.025896\n",
       "k                   0.025888\n",
       "Encoded_champion    0.025277\n",
       "dtype: float64"
      ]
     },
     "execution_count": 36,
     "metadata": {},
     "output_type": "execute_result"
    }
   ],
   "source": [
    "# Show the sorted features indicating the highest importance in predicting the target\n",
    "feature_imp = pd.Series(fitted_rf_model.feature_importances_,index=x_train.columns).sort_values(ascending=False)\n",
    "rf_model_dict['feature_importance'] = dict(zip(feature_imp.index, feature_imp))\n",
    "feature_imp[:10]"
   ]
  },
  {
   "cell_type": "markdown",
   "metadata": {},
   "source": [
    "### 3.5 Comparison ML techniques"
   ]
  },
  {
   "cell_type": "markdown",
   "metadata": {},
   "source": [
    "##### Creation summary table"
   ]
  },
  {
   "cell_type": "code",
   "execution_count": 37,
   "metadata": {
    "ExecuteTime": {
     "end_time": "2019-08-24T19:05:30.383940Z",
     "start_time": "2019-08-24T19:05:30.223981Z"
    }
   },
   "outputs": [
    {
     "data": {
      "text/html": [
       "<div>\n",
       "<style scoped>\n",
       "    .dataframe tbody tr th:only-of-type {\n",
       "        vertical-align: middle;\n",
       "    }\n",
       "\n",
       "    .dataframe tbody tr th {\n",
       "        vertical-align: top;\n",
       "    }\n",
       "\n",
       "    .dataframe thead th {\n",
       "        text-align: right;\n",
       "    }\n",
       "</style>\n",
       "<table border=\"1\" class=\"dataframe\">\n",
       "  <thead>\n",
       "    <tr style=\"text-align: right;\">\n",
       "      <th></th>\n",
       "      <th>regularisation_param</th>\n",
       "      <th>sensitivity</th>\n",
       "      <th>specificity</th>\n",
       "      <th>auc</th>\n",
       "      <th>accuracy</th>\n",
       "      <th>feature_importance</th>\n",
       "    </tr>\n",
       "  </thead>\n",
       "  <tbody>\n",
       "    <tr>\n",
       "      <th>Lasso</th>\n",
       "      <td>NaN</td>\n",
       "      <td>0.935811</td>\n",
       "      <td>0.940559</td>\n",
       "      <td>0.938185</td>\n",
       "      <td>0.938144</td>\n",
       "      <td>{'earnedgpm': 5.599451810870514, 'totalgold': ...</td>\n",
       "    </tr>\n",
       "    <tr>\n",
       "      <th>Ridge</th>\n",
       "      <td>0.975</td>\n",
       "      <td>0.926520</td>\n",
       "      <td>0.936189</td>\n",
       "      <td>0.931355</td>\n",
       "      <td>0.931271</td>\n",
       "      <td>{'earnedgpm': 0.5506094046742178, 'goldspent':...</td>\n",
       "    </tr>\n",
       "    <tr>\n",
       "      <th>Elasticnet</th>\n",
       "      <td>{'l1_ratio': 0.01, 'alpha': 0.029536451284178977}</td>\n",
       "      <td>0.923142</td>\n",
       "      <td>0.937063</td>\n",
       "      <td>0.930102</td>\n",
       "      <td>0.929983</td>\n",
       "      <td>{'earnedgpm': 0.2465028521236665, 'a': 0.13860...</td>\n",
       "    </tr>\n",
       "    <tr>\n",
       "      <th>RandomForest</th>\n",
       "      <td>{'bootstrap': False, 'max_features': 'auto', '...</td>\n",
       "      <td>0.924831</td>\n",
       "      <td>0.895105</td>\n",
       "      <td>0.909968</td>\n",
       "      <td>0.910223</td>\n",
       "      <td>{'a': 0.17754764273466647, 'earnedgpm': 0.1633...</td>\n",
       "    </tr>\n",
       "  </tbody>\n",
       "</table>\n",
       "</div>"
      ],
      "text/plain": [
       "                                           regularisation_param  sensitivity  \\\n",
       "Lasso                                                       NaN     0.935811   \n",
       "Ridge                                                     0.975     0.926520   \n",
       "Elasticnet    {'l1_ratio': 0.01, 'alpha': 0.029536451284178977}     0.923142   \n",
       "RandomForest  {'bootstrap': False, 'max_features': 'auto', '...     0.924831   \n",
       "\n",
       "              specificity       auc  accuracy  \\\n",
       "Lasso            0.940559  0.938185  0.938144   \n",
       "Ridge            0.936189  0.931355  0.931271   \n",
       "Elasticnet       0.937063  0.930102  0.929983   \n",
       "RandomForest     0.895105  0.909968  0.910223   \n",
       "\n",
       "                                             feature_importance  \n",
       "Lasso         {'earnedgpm': 5.599451810870514, 'totalgold': ...  \n",
       "Ridge         {'earnedgpm': 0.5506094046742178, 'goldspent':...  \n",
       "Elasticnet    {'earnedgpm': 0.2465028521236665, 'a': 0.13860...  \n",
       "RandomForest  {'a': 0.17754764273466647, 'earnedgpm': 0.1633...  "
      ]
     },
     "execution_count": 37,
     "metadata": {},
     "output_type": "execute_result"
    }
   ],
   "source": [
    "# Create summary table\n",
    "for key in logistic_L1penalty_model_dict.keys():\n",
    "    model_summary_dict[key] = [logistic_L1penalty_model_dict[key], ridge_model_dict[key], elasticnet_model_dict[key], rf_model_dict[key]]\n",
    "model_summary_table = pd.DataFrame(model_summary_dict, columns = logistic_L1penalty_model_dict.keys())\n",
    "model_summary_table.rename(index={0:'Lasso', 1:'Ridge', 2:'Elasticnet', 3:'RandomForest'}, inplace = True)\n",
    "\n",
    "# Visualize summary table\n",
    "model_summary_table"
   ]
  },
  {
   "cell_type": "markdown",
   "metadata": {},
   "source": [
    "##### Investigate accuracy metrics"
   ]
  },
  {
   "cell_type": "code",
   "execution_count": 38,
   "metadata": {
    "ExecuteTime": {
     "end_time": "2019-08-24T19:05:30.629227Z",
     "start_time": "2019-08-24T19:05:30.385866Z"
    }
   },
   "outputs": [
    {
     "data": {
      "text/plain": [
       "<matplotlib.legend.Legend at 0x7f2e53fa96a0>"
      ]
     },
     "execution_count": 38,
     "metadata": {},
     "output_type": "execute_result"
    },
    {
     "data": {
      "image/png": "[encoded data removed]",
      "text/plain": [
       "<Figure size 432x288 with 1 Axes>"
      ]
     },
     "metadata": {
      "needs_background": "light"
     },
     "output_type": "display_data"
    }
   ],
   "source": [
    "# Visualize a summarization of the accuracy metrics for the different ML methods\n",
    "fig, ax = plt.subplots()\n",
    "ax.plot(list(model_summary_table.index), model_summary_table.sensitivity, '--', label=\"sensitivity\", color='lightskyblue')\n",
    "ax.plot(list(model_summary_table.index), model_summary_table.specificity, '--', label=\"specificity\", color='lightblue')\n",
    "ax.plot(list(model_summary_table.index), model_summary_table.accuracy, label=\"accuracy\", color='royalblue')\n",
    "plt.title(\"Sensitivity, specificity and accuracy regularization models\")\n",
    "plt.ylabel('Value')\n",
    "plt.xlabel('ML model')\n",
    "ax.legend(loc =\"best\", fontsize = 8)"
   ]
  },
  {
   "cell_type": "markdown",
   "metadata": {},
   "source": [
    "##### Investigate parameter coefficients"
   ]
  },
  {
   "cell_type": "code",
   "execution_count": 39,
   "metadata": {
    "ExecuteTime": {
     "end_time": "2019-08-24T19:05:30.637580Z",
     "start_time": "2019-08-24T19:05:30.631307Z"
    }
   },
   "outputs": [
    {
     "name": "stdout",
     "output_type": "stream",
     "text": [
      "The number of features kept by the different techniques in the model:\n",
      " ----------------------------------------------------------------------------------------------------\n",
      "Lasso :  22\n",
      "Ridge :  52\n",
      "Elasticnet :  52\n",
      "RandomForest :  52\n"
     ]
    }
   ],
   "source": [
    "# Short intermediate summary\n",
    "print(\"The number of features kept by the different techniques in the model:\\n\", \"-\"*100)\n",
    "for ML in list(model_summary_table.index):\n",
    "    print(ML, \": \", len(model_summary_table.feature_importance[ML]))"
   ]
  },
  {
   "cell_type": "code",
   "execution_count": 40,
   "metadata": {
    "ExecuteTime": {
     "end_time": "2019-08-24T19:05:30.954310Z",
     "start_time": "2019-08-24T19:05:30.639492Z"
    }
   },
   "outputs": [
    {
     "data": {
      "image/png": "[encoded data removed]",
      "text/plain": [
       "<Figure size 432x288 with 1 Axes>"
      ]
     },
     "metadata": {
      "needs_background": "light"
     },
     "output_type": "display_data"
    }
   ],
   "source": [
    "# Visualization of difference in coefficient estimates\n",
    "plt.plot(fitted_elasticnet_model.coef_, color='darkorange', linewidth=2,\n",
    "         label='Elastic net coefficients')\n",
    "plt.plot(fitted_logistic_L1penalty_model.coef_[0], color='yellowgreen', linewidth=2,\n",
    "         label='Lasso coefficients')\n",
    "plt.plot(fitted_ridge_model.coef_[0], '--', color='dodgerblue', label='Ridge coefficients')\n",
    "plt.legend(loc='best')\n",
    "plt.title(\"Comparison parameter coefficients\")\n",
    "plt.ylabel('Coefficient')\n",
    "plt.xlabel('Feature ID')\n",
    "plt.show()"
   ]
  },
  {
   "cell_type": "code",
   "execution_count": 41,
   "metadata": {
    "ExecuteTime": {
     "end_time": "2019-08-24T19:05:34.021193Z",
     "start_time": "2019-08-24T19:05:30.959333Z"
    },
    "scrolled": false
   },
   "outputs": [
    {
     "data": {
      "image/png": "[encoded data removed]",
      "text/plain": [
       "<Figure size 360x576 with 1 Axes>"
      ]
     },
     "metadata": {
      "needs_background": "light"
     },
     "output_type": "display_data"
    },
    {
     "data": {
      "image/png": "[encoded data removed]",
      "text/plain": [
       "<Figure size 360x1008 with 1 Axes>"
      ]
     },
     "metadata": {
      "needs_background": "light"
     },
     "output_type": "display_data"
    },
    {
     "data": {
      "image/png": "[encoded data removed]",
      "text/plain": [
       "<Figure size 360x1008 with 1 Axes>"
      ]
     },
     "metadata": {
      "needs_background": "light"
     },
     "output_type": "display_data"
    },
    {
     "data": {
      "image/png": "[encoded data removed]",
      "text/plain": [
       "<Figure size 360x1008 with 1 Axes>"
      ]
     },
     "metadata": {
      "needs_background": "light"
     },
     "output_type": "display_data"
    }
   ],
   "source": [
    "# Visualize feature importance (coefficient based)\n",
    "for index, ML in enumerate(list(model_summary_table.index)):\n",
    "    x =  np.arange(len(model_summary_table.feature_importance[ML]))\n",
    "    plt.figure(figsize=(5, 8)) if index == 0 else plt.figure(figsize=(5, 14)) \n",
    "    plt.barh(x, list(model_summary_table.feature_importance[ML].values()), \n",
    "             tick_label =  list(model_summary_table.feature_importance[ML].keys()),\n",
    "             color = 'mediumslateblue', \n",
    "             edgecolor = 'slateblue')\n",
    "    plt.title(\"Feature coefficient estimates \" + ML + \" classification\")\n",
    "    plt.ylabel('Feature')\n",
    "    plt.xlabel('Coefficient')\n",
    "    plt.show()"
   ]
  },
  {
   "cell_type": "markdown",
   "metadata": {},
   "source": [
    "## 4. Create player specific summary vectors"
   ]
  },
  {
   "cell_type": "markdown",
   "metadata": {
    "ExecuteTime": {
     "end_time": "2019-03-26T08:44:26.367395Z",
     "start_time": "2019-03-26T08:44:26.305732Z"
    }
   },
   "source": [
    "### 4.1 Create dataset capturing the average feature values per player\n",
    "A player specific summary vector will be created by looping through all the features captured by the dataset and taking the average over all the games played by that player (for a specific feature). To have a better indication of the accuracy of the player vector another column is added at the end indicating the number of games on which the calculation is based."
   ]
  },
  {
   "cell_type": "code",
   "execution_count": 42,
   "metadata": {
    "ExecuteTime": {
     "end_time": "2019-08-24T19:05:36.914752Z",
     "start_time": "2019-08-24T19:05:34.023753Z"
    }
   },
   "outputs": [],
   "source": [
    "# Extract list with the different players\n",
    "players = list(set(data_raw.player))\n",
    "player_vector_cols = list(data.columns)\n",
    "player_vector_cols.append('accuracy indicator')\n",
    "\n",
    "# Create summary vector for each player\n",
    "player_info_list = []\n",
    "for player in players:\n",
    "    player_vector = []\n",
    "    player_subdf = data_raw[data_raw.player == player]\n",
    "    # Loop through the different columns\n",
    "    for col in data.columns:\n",
    "        # Take the mean over column values for numerical features\n",
    "        if 'Encoded' not in col:\n",
    "            player_vector.append(player_subdf[col].mean())\n",
    "        # Take the majority value over column values for discrete features\n",
    "        else: \n",
    "            player_vector.append(RandomSampleProbDist(player_subdf[col]))\n",
    "    # Add accuracy indicator\n",
    "    player_vector.append(len(player_subdf))\n",
    "    player_info_list.append(player_vector)\n",
    "    \n",
    "# Create summary dataframe\n",
    "player_vector_df = pd.DataFrame(data = player_info_list, index=players, columns=player_vector_cols)"
   ]
  },
  {
   "cell_type": "code",
   "execution_count": 43,
   "metadata": {
    "ExecuteTime": {
     "end_time": "2019-08-24T19:05:36.930783Z",
     "start_time": "2019-08-24T19:05:36.917021Z"
    },
    "scrolled": true
   },
   "outputs": [
    {
     "name": "stdout",
     "output_type": "stream",
     "text": [
      "Summary information player vector dataframe: Player specific feature vectors are captured for 301 players.\n",
      "\n",
      "The players indicating feature vectors based on less than 5 games:\n",
      " ----------------------------------------------------------------------------------------------------\n",
      "mint\n",
      "aphromoo\n",
      "wolf\n",
      "gate\n",
      "rain\n",
      "decagon moon\n",
      "mickey\n",
      "quan\n",
      "luskka\n",
      "im jonny\n",
      "road\n",
      "iceloli\n",
      "gbm\n",
      "lex\n",
      "zantins\n",
      "esa\n",
      "regank\n",
      "mills\n",
      "ninja\n",
      "days4fun\n",
      "husha\n",
      "japone\n",
      "adaniel\n",
      "kui\n",
      "sephis\n",
      "armut\n",
      "udysof\n",
      "doinb\n",
      "fragas\n",
      "prb\n",
      "zzr\n",
      "broken blade\n",
      "lloyd\n",
      "rd\n",
      "comeback\n",
      "carioca\n",
      "milica\n",
      "phurion\n",
      "hanxuan\n",
      "wako\n",
      "abbedagge\n",
      "morning\n",
      "caos\n",
      "wei\n",
      "mewkyo\n",
      "padden\n",
      "telracs\n",
      "jcain\n",
      "styllee\n",
      "once1\n",
      "ssol\n",
      "crimson\n",
      "robo\n",
      "ocean\n",
      "wos\n",
      "fishball\n",
      "maestr0\n",
      "shiphtur\n",
      "maxi\n",
      "mikyx\n",
      "sevenarmy\n",
      "gengar\n",
      "dreamer\n",
      "nerroh\n",
      "wadid\n"
     ]
    }
   ],
   "source": [
    "# Intermediate summary\n",
    "print(\"Summary information player vector dataframe: Player specific feature vectors are captured for\", len(player_vector_df), \"players.\\n\")\n",
    "\n",
    "# Extract vector accuracy information\n",
    "print(\"The players indicating feature vectors based on less than 5 games:\\n\", '-'*100)\n",
    "for player, acc_ind in zip(list(player_vector_df.index), player_vector_df['accuracy indicator']):\n",
    "    if acc_ind < 5:\n",
    "        print(player)"
   ]
  },
  {
   "cell_type": "code",
   "execution_count": 44,
   "metadata": {
    "ExecuteTime": {
     "end_time": "2019-08-24T19:05:37.626733Z",
     "start_time": "2019-08-24T19:05:36.932571Z"
    }
   },
   "outputs": [
    {
     "name": "stdout",
     "output_type": "stream",
     "text": [
      "==================================================================================================== \n",
      "Overview of variable:  Accuracy indicator \n",
      " ====================================================================================================\n"
     ]
    },
    {
     "data": {
      "image/png": "[encoded data removed]",
      "text/plain": [
       "<Figure size 432x288 with 1 Axes>"
      ]
     },
     "metadata": {
      "needs_background": "light"
     },
     "output_type": "display_data"
    },
    {
     "name": "stdout",
     "output_type": "stream",
     "text": [
      "-------------------- \n",
      "Summary statistics:\n",
      " --------------------\n",
      "Minimum value: 1\n",
      "Mean: 51.5415\n",
      "Standard deviation: 62.2755\n",
      "Median: 24\n",
      "Maximal value: 273\n"
     ]
    },
    {
     "data": {
      "image/png": "[encoded data removed]",
      "text/plain": [
       "<Figure size 432x288 with 1 Axes>"
      ]
     },
     "metadata": {
      "needs_background": "light"
     },
     "output_type": "display_data"
    },
    {
     "name": "stdout",
     "output_type": "stream",
     "text": [
      "-------------------- \n",
      "Outlier detection:\n",
      " --------------------\n",
      "List of outliers: {265, 270, 240, 241, 273}\n"
     ]
    },
    {
     "data": {
      "image/png": "[encoded data removed]",
      "text/plain": [
       "<Figure size 432x288 with 1 Axes>"
      ]
     },
     "metadata": {
      "needs_background": "light"
     },
     "output_type": "display_data"
    },
    {
     "name": "stdout",
     "output_type": "stream",
     "text": [
      "-------------------- \n",
      "Check for normal distribution:\n",
      " --------------------\n",
      "Skewedness: 1.5657\n",
      "Kurtosis: 1.9199\n"
     ]
    },
    {
     "data": {
      "text/plain": [
       "<Figure size 432x288 with 0 Axes>"
      ]
     },
     "metadata": {},
     "output_type": "display_data"
    }
   ],
   "source": [
    "# Accuracy indicator distribution\n",
    "SummaryNumericVar(player_vector_df['accuracy indicator'], 'Accuracy indicator')"
   ]
  },
  {
   "cell_type": "markdown",
   "metadata": {},
   "source": [
    "### 4.2 Estimate player strength parameters"
   ]
  },
  {
   "cell_type": "code",
   "execution_count": 45,
   "metadata": {
    "ExecuteTime": {
     "end_time": "2019-08-24T19:05:37.632146Z",
     "start_time": "2019-08-24T19:05:37.628829Z"
    }
   },
   "outputs": [],
   "source": [
    "# Create dictionary to capture strength parameter information\n",
    "strength_param_dict = dict()\n",
    "\n",
    "# Extract columns not used for model fit\n",
    "additional_columns = ['result', 'accuracy indicator']\n",
    "strength_param_dict['accuracy indicator'] = player_vector_df['accuracy indicator']"
   ]
  },
  {
   "cell_type": "markdown",
   "metadata": {},
   "source": [
    "##### Lasso classification based parameter approximation"
   ]
  },
  {
   "cell_type": "code",
   "execution_count": 46,
   "metadata": {
    "ExecuteTime": {
     "end_time": "2019-08-24T19:05:37.690265Z",
     "start_time": "2019-08-24T19:05:37.633982Z"
    }
   },
   "outputs": [],
   "source": [
    "# 1. Fit (trained) lasso classification model\n",
    "strength_param_dict['lasso'] = [y for x, y in fitted_logistic_L1penalty_model.predict_proba(player_vector_df[selected_features_rfe])]"
   ]
  },
  {
   "cell_type": "markdown",
   "metadata": {},
   "source": [
    "##### Ridge classification based parameter approximation"
   ]
  },
  {
   "cell_type": "code",
   "execution_count": 47,
   "metadata": {
    "ExecuteTime": {
     "end_time": "2019-08-24T19:05:37.753455Z",
     "start_time": "2019-08-24T19:05:37.692068Z"
    },
    "scrolled": true
   },
   "outputs": [],
   "source": [
    "# 2. Fit ridge classification model with best regularisation parameter based on CV\n",
    "additional_columns = ['result', 'accuracy indicator']\n",
    "ridge = RidgeClassifier(alpha = ridge_model_dict['regularisation_param'], fit_intercept = False)\n",
    "fitted_ridge = ridge.fit(x_train, y_train)\n",
    "logit_trans_predictions_ridge = fitted_ridge.decision_function(player_vector_df[[x for x in data.columns if x not in additional_columns]])\n",
    "strength_param_dict['ridge'] = np.exp(logit_trans_predictions_ridge) / (1 + np.exp(logit_trans_predictions_ridge))"
   ]
  },
  {
   "cell_type": "markdown",
   "metadata": {},
   "source": [
    "Remark: There is no predicted probability option for the RidgeClassifier because this model is not easy to interpret as a probability model. The decision function of the RidgeClassifier model considers a logit transformation of the actual class probabilities. If decision function is greater than zero then class 1 is predicted otherwise predict class 0, corresponding to a classical logit approach. By back-transforming these predictions we can get the predicted probabilities."
   ]
  },
  {
   "cell_type": "markdown",
   "metadata": {},
   "source": [
    "##### Result averaging based parameter approximation"
   ]
  },
  {
   "cell_type": "code",
   "execution_count": 48,
   "metadata": {
    "ExecuteTime": {
     "end_time": "2019-08-24T19:05:37.803354Z",
     "start_time": "2019-08-24T19:05:37.755277Z"
    }
   },
   "outputs": [],
   "source": [
    "# 3. Expected outcome of the game based on player-vector averaging \n",
    "strength_param_dict['result'] = player_vector_df['result']"
   ]
  },
  {
   "cell_type": "code",
   "execution_count": 49,
   "metadata": {
    "ExecuteTime": {
     "end_time": "2019-08-24T19:05:37.928724Z",
     "start_time": "2019-08-24T19:05:37.804842Z"
    }
   },
   "outputs": [
    {
     "data": {
      "text/html": [
       "<div>\n",
       "<style scoped>\n",
       "    .dataframe tbody tr th:only-of-type {\n",
       "        vertical-align: middle;\n",
       "    }\n",
       "\n",
       "    .dataframe tbody tr th {\n",
       "        vertical-align: top;\n",
       "    }\n",
       "\n",
       "    .dataframe thead th {\n",
       "        text-align: right;\n",
       "    }\n",
       "</style>\n",
       "<table border=\"1\" class=\"dataframe\">\n",
       "  <thead>\n",
       "    <tr style=\"text-align: right;\">\n",
       "      <th></th>\n",
       "      <th>accuracy indicator</th>\n",
       "      <th>lasso</th>\n",
       "      <th>ridge</th>\n",
       "      <th>result</th>\n",
       "    </tr>\n",
       "  </thead>\n",
       "  <tbody>\n",
       "    <tr>\n",
       "      <th>mint</th>\n",
       "      <td>3</td>\n",
       "      <td>0.102287</td>\n",
       "      <td>0.395709</td>\n",
       "      <td>0.000000</td>\n",
       "    </tr>\n",
       "    <tr>\n",
       "      <th>aix</th>\n",
       "      <td>61</td>\n",
       "      <td>0.387577</td>\n",
       "      <td>0.468229</td>\n",
       "      <td>0.327869</td>\n",
       "    </tr>\n",
       "    <tr>\n",
       "      <th>memento</th>\n",
       "      <td>125</td>\n",
       "      <td>0.224096</td>\n",
       "      <td>0.462845</td>\n",
       "      <td>0.432000</td>\n",
       "    </tr>\n",
       "    <tr>\n",
       "      <th>aphromoo</th>\n",
       "      <td>2</td>\n",
       "      <td>0.999462</td>\n",
       "      <td>0.705585</td>\n",
       "      <td>1.000000</td>\n",
       "    </tr>\n",
       "    <tr>\n",
       "      <th>trashy</th>\n",
       "      <td>69</td>\n",
       "      <td>0.649009</td>\n",
       "      <td>0.524295</td>\n",
       "      <td>0.492754</td>\n",
       "    </tr>\n",
       "  </tbody>\n",
       "</table>\n",
       "</div>"
      ],
      "text/plain": [
       "          accuracy indicator     lasso     ridge    result\n",
       "mint                       3  0.102287  0.395709  0.000000\n",
       "aix                       61  0.387577  0.468229  0.327869\n",
       "memento                  125  0.224096  0.462845  0.432000\n",
       "aphromoo                   2  0.999462  0.705585  1.000000\n",
       "trashy                    69  0.649009  0.524295  0.492754"
      ]
     },
     "execution_count": 49,
     "metadata": {},
     "output_type": "execute_result"
    }
   ],
   "source": [
    "# Create dataframe of strength parameter summarization\n",
    "strength_param_df = pd.DataFrame(strength_param_dict)\n",
    "strength_param_df.head()"
   ]
  },
  {
   "cell_type": "code",
   "execution_count": 50,
   "metadata": {
    "ExecuteTime": {
     "end_time": "2019-08-24T19:05:37.942046Z",
     "start_time": "2019-08-24T19:05:37.930133Z"
    }
   },
   "outputs": [
    {
     "data": {
      "text/plain": [
       "lasso  result    0.781581\n",
       "ridge  result    0.812790\n",
       "lasso  ridge     0.886607\n",
       "dtype: float64"
      ]
     },
     "execution_count": 50,
     "metadata": {},
     "output_type": "execute_result"
    }
   ],
   "source": [
    "# Print list with correlated features\n",
    "corrmap_abs = strength_param_df.iloc[:,1:].corr().abs()\n",
    "corrmap_abs_sorted = corrmap_abs.unstack().sort_values(kind = \"quicksort\", ascending = False)\n",
    "corrmap_abs_sorted[3:][::-2]"
   ]
  },
  {
   "cell_type": "markdown",
   "metadata": {},
   "source": [
    "### 4.3 Investigation strength parameter characteristics"
   ]
  },
  {
   "cell_type": "code",
   "execution_count": 51,
   "metadata": {
    "ExecuteTime": {
     "end_time": "2019-08-24T19:05:39.756897Z",
     "start_time": "2019-08-24T19:05:37.943801Z"
    },
    "scrolled": false
   },
   "outputs": [
    {
     "name": "stdout",
     "output_type": "stream",
     "text": [
      "==================================================================================================== \n",
      "Overview of variable:  lasso \n",
      " ====================================================================================================\n"
     ]
    },
    {
     "data": {
      "image/png": "[encoded data removed]",
      "text/plain": [
       "<Figure size 432x288 with 1 Axes>"
      ]
     },
     "metadata": {
      "needs_background": "light"
     },
     "output_type": "display_data"
    },
    {
     "name": "stdout",
     "output_type": "stream",
     "text": [
      "-------------------- \n",
      "Summary statistics:\n",
      " --------------------\n",
      "Minimum value: 1.3496081343971326e-05\n",
      "Mean: 0.386\n",
      "Standard deviation: 0.3285\n",
      "Median: 0.3364\n",
      "Maximal value: 0.9999999769205906\n"
     ]
    },
    {
     "data": {
      "image/png": "[encoded data removed]",
      "text/plain": [
       "<Figure size 432x288 with 1 Axes>"
      ]
     },
     "metadata": {
      "needs_background": "light"
     },
     "output_type": "display_data"
    },
    {
     "name": "stdout",
     "output_type": "stream",
     "text": [
      "-------------------- \n",
      "Outlier detection:\n",
      " --------------------\n",
      "List of outliers: set()\n"
     ]
    },
    {
     "data": {
      "image/png": "[encoded data removed]",
      "text/plain": [
       "<Figure size 432x288 with 1 Axes>"
      ]
     },
     "metadata": {
      "needs_background": "light"
     },
     "output_type": "display_data"
    },
    {
     "name": "stdout",
     "output_type": "stream",
     "text": [
      "-------------------- \n",
      "Check for normal distribution:\n",
      " --------------------\n",
      "Skewedness: 0.4427\n",
      "Kurtosis: -1.0905\n",
      "==================================================================================================== \n",
      "Overview of variable:  ridge \n",
      " ====================================================================================================\n"
     ]
    },
    {
     "data": {
      "image/png": "[encoded data removed]",
      "text/plain": [
       "<Figure size 432x288 with 1 Axes>"
      ]
     },
     "metadata": {
      "needs_background": "light"
     },
     "output_type": "display_data"
    },
    {
     "name": "stdout",
     "output_type": "stream",
     "text": [
      "-------------------- \n",
      "Summary statistics:\n",
      " --------------------\n",
      "Minimum value: 0.19382052816771855\n",
      "Mean: 0.4661\n",
      "Standard deviation: 0.0998\n",
      "Median: 0.4715\n",
      "Maximal value: 0.8930116849012012\n"
     ]
    },
    {
     "data": {
      "image/png": "[encoded data removed]",
      "text/plain": [
       "<Figure size 432x288 with 1 Axes>"
      ]
     },
     "metadata": {
      "needs_background": "light"
     },
     "output_type": "display_data"
    },
    {
     "name": "stdout",
     "output_type": "stream",
     "text": [
      "-------------------- \n",
      "Outlier detection:\n",
      " --------------------\n",
      "List of outliers: {0.77, 0.83, 0.78, 0.89}\n"
     ]
    },
    {
     "data": {
      "image/png": "[encoded data removed]",
      "text/plain": [
       "<Figure size 432x288 with 1 Axes>"
      ]
     },
     "metadata": {
      "needs_background": "light"
     },
     "output_type": "display_data"
    },
    {
     "name": "stdout",
     "output_type": "stream",
     "text": [
      "-------------------- \n",
      "Check for normal distribution:\n",
      " --------------------\n",
      "Skewedness: 0.324\n",
      "Kurtosis: 1.7134\n",
      "==================================================================================================== \n",
      "Overview of variable:  result \n",
      " ====================================================================================================\n"
     ]
    },
    {
     "data": {
      "image/png": "[encoded data removed]",
      "text/plain": [
       "<Figure size 432x288 with 1 Axes>"
      ]
     },
     "metadata": {
      "needs_background": "light"
     },
     "output_type": "display_data"
    },
    {
     "name": "stdout",
     "output_type": "stream",
     "text": [
      "-------------------- \n",
      "Summary statistics:\n",
      " --------------------\n",
      "Minimum value: 0.0\n",
      "Mean: 0.4057\n",
      "Standard deviation: 0.2411\n",
      "Median: 0.4167\n",
      "Maximal value: 1.0\n"
     ]
    },
    {
     "data": {
      "image/png": "[encoded data removed]",
      "text/plain": [
       "<Figure size 432x288 with 1 Axes>"
      ]
     },
     "metadata": {
      "needs_background": "light"
     },
     "output_type": "display_data"
    },
    {
     "name": "stdout",
     "output_type": "stream",
     "text": [
      "-------------------- \n",
      "Outlier detection:\n",
      " --------------------\n",
      "List of outliers: set()\n"
     ]
    },
    {
     "data": {
      "image/png": "[encoded data removed]",
      "text/plain": [
       "<Figure size 432x288 with 1 Axes>"
      ]
     },
     "metadata": {
      "needs_background": "light"
     },
     "output_type": "display_data"
    },
    {
     "name": "stdout",
     "output_type": "stream",
     "text": [
      "-------------------- \n",
      "Check for normal distribution:\n",
      " --------------------\n",
      "Skewedness: 0.2425\n",
      "Kurtosis: 0.2357\n"
     ]
    },
    {
     "data": {
      "text/plain": [
       "<Figure size 432x288 with 0 Axes>"
      ]
     },
     "metadata": {},
     "output_type": "display_data"
    }
   ],
   "source": [
    "# Visualisation strength parameter distributions (based on the different techniques)\n",
    "for col in strength_param_df.columns[1:]:\n",
    "    SummaryNumericVar(strength_param_df[col], col)"
   ]
  },
  {
   "cell_type": "markdown",
   "metadata": {
    "ExecuteTime": {
     "end_time": "2019-03-26T14:30:10.779352Z",
     "start_time": "2019-03-26T14:30:10.606507Z"
    }
   },
   "source": [
    "### 4.4 Write data away"
   ]
  },
  {
   "cell_type": "code",
   "execution_count": 52,
   "metadata": {
    "ExecuteTime": {
     "end_time": "2019-08-24T19:05:39.789350Z",
     "start_time": "2019-08-24T19:05:39.758954Z"
    }
   },
   "outputs": [],
   "source": [
    "# Save the player strength parameter data\n",
    "with open('/home/je32910/MasterThesis_ComputationalStatistics/pickles/' + saved_filename + '.pickle', 'wb') as f:\n",
    "    pickle.dump(strength_param_df, f)"
   ]
  }
 ],
 "metadata": {
  "kernelspec": {
   "display_name": "Python [conda env:python36]",
   "language": "python",
   "name": "conda-env-python36-py"
  },
  "language_info": {
   "codemirror_mode": {
    "name": "ipython",
    "version": 3
   },
   "file_extension": ".py",
   "mimetype": "text/x-python",
   "name": "python",
   "nbconvert_exporter": "python",
   "pygments_lexer": "ipython3",
   "version": "3.6.8"
  }
 },
 "nbformat": 4,
 "nbformat_minor": 2
}
