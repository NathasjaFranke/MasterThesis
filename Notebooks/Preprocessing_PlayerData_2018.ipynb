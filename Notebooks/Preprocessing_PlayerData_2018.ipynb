{
 "cells": [
  {
   "cell_type": "markdown",
   "metadata": {},
   "source": [
    "# Masterthesis: Preprocessing Player Data"
   ]
  },
  {
   "cell_type": "code",
   "execution_count": 1,
   "metadata": {
    "ExecuteTime": {
     "end_time": "2019-07-12T05:36:21.676221Z",
     "start_time": "2019-07-12T05:36:21.672715Z"
    }
   },
   "outputs": [],
   "source": [
    "# Specify data range in scope\n",
    "#scope_split_list = ['2017-2', '2017-2po', '2017-2rq', '2017-2pr', '2017-1', '2017-1po',\n",
    "#                    '2017-1pr']\n",
    "scope_split_list = ['2017-2', '2017-2po', '2017-2rq', '2017-2pr', '2017-1', '2017-1po',\n",
    "                    '2017-1pr', '2017-W', '2018-1', '2018-1P', '2018-2rq', '2018-2', '2018-2p']"
   ]
  },
  {
   "cell_type": "code",
   "execution_count": 2,
   "metadata": {
    "ExecuteTime": {
     "end_time": "2019-07-12T05:36:21.738924Z",
     "start_time": "2019-07-12T05:36:21.678699Z"
    }
   },
   "outputs": [],
   "source": [
    "# Name of the preprocessed datafile written away\n",
    "#filename = 'playerdata2017_preprocessed'\n",
    "filename = 'playerdata2018_preprocessed'"
   ]
  },
  {
   "cell_type": "markdown",
   "metadata": {},
   "source": [
    "## 0. Load libraries and define functions"
   ]
  },
  {
   "cell_type": "code",
   "execution_count": 3,
   "metadata": {
    "ExecuteTime": {
     "end_time": "2019-07-12T05:36:22.617863Z",
     "start_time": "2019-07-12T05:36:21.741559Z"
    }
   },
   "outputs": [],
   "source": [
    "# Functions\n",
    "import numpy as np\n",
    "import os\n",
    "import pickle\n",
    "import pandas as pd\n",
    "from pandas.api.types import is_string_dtype\n",
    "from pandas.api.types import is_numeric_dtype\n",
    "from datetime import datetime\n",
    "from collections import Counter\n",
    "from numpy.random import choice\n",
    "from scipy import stats\n",
    "import operator\n",
    "import itertools\n",
    "import statistics\n",
    "\n",
    "import seaborn as sns\n",
    "import matplotlib.pyplot as plt\n",
    "from matplotlib import cm"
   ]
  },
  {
   "cell_type": "code",
   "execution_count": 4,
   "metadata": {
    "ExecuteTime": {
     "end_time": "2019-07-12T05:36:22.625711Z",
     "start_time": "2019-07-12T05:36:22.620141Z"
    }
   },
   "outputs": [
    {
     "data": {
      "text/plain": [
       "<matplotlib.colors.ListedColormap at 0x7f9624342240>"
      ]
     },
     "execution_count": 4,
     "metadata": {},
     "output_type": "execute_result"
    }
   ],
   "source": [
    "cm.get_cmap(name='tab20b')"
   ]
  },
  {
   "cell_type": "code",
   "execution_count": 5,
   "metadata": {
    "ExecuteTime": {
     "end_time": "2019-07-12T05:36:22.661407Z",
     "start_time": "2019-07-12T05:36:22.627778Z"
    }
   },
   "outputs": [],
   "source": [
    "### Function used to return a summary for categorical variables\n",
    "def SummaryCategoricalVar(list_of_values, title, threshold = 15, top = 10):\n",
    "    \"\"\"\n",
    "    param: list_of_values (list): A list of categorical values from which we like to obtain the distribution\n",
    "    param: title (string): The title for the visualization\n",
    "    param: threshold (int): The maximal number of categories that should be visualized\n",
    "    param: top (int): The top k values that should be returned in the written summary when the number of categories is above the threshold\n",
    "    \"\"\"\n",
    "    # Count the number of occurrances in the list\n",
    "    cnt = Counter(list_of_values)\n",
    "    sorted_cnt = sorted(cnt.items(), key=operator.itemgetter(1))[::-1]\n",
    "    \n",
    "    # Show the percentage dictionary if to many categories to represent\n",
    "    print(\"-\"* 100, \"\\nOverview of variable: \", title, \"\\n\", \"-\"*100)\n",
    "    print(\"Total categories:\", len(cnt), \"\\n\")\n",
    "    if len(cnt) > threshold:\n",
    "        if len(cnt) < top*2:\n",
    "            for key, value in sorted_cnt:\n",
    "                print(key, ':', round(value/len(list_of_values)*100, 4), \"%\")\n",
    "        else:\n",
    "            print(\"The 10 with the highest percentage data available:\\n\")\n",
    "            for key, value in sorted_cnt[:top]:\n",
    "                print(key, ':', round(value/len(list_of_values)*100, 4), \"%\")\n",
    "            print(\"\\nThe 10 with the lowest percentage data available:\\n\")\n",
    "            for key, value in sorted_cnt[len(cnt) - top:]:\n",
    "                print(key, ':', round(value/len(list_of_values)*100, 4), \"%\")\n",
    "                \n",
    "    # Visualization of labelled data distribution\n",
    "    else:\n",
    "        plt.barh(range(1, len(sorted_cnt)+1), \n",
    "                 list(map(lambda x: (x/len(list_of_values)*100), [score for label, score in sorted_cnt])), \n",
    "                 tick_label = list([label for label, score in sorted_cnt]),\n",
    "                 color = 'cornflowerblue', \n",
    "                 edgecolor = 'steelblue')\n",
    "        plt.ylabel('Label')\n",
    "        plt.xlabel('Percentage observations in dataset')\n",
    "        plt.title(title)\n",
    "        plt.show()    "
   ]
  },
  {
   "cell_type": "code",
   "execution_count": 6,
   "metadata": {
    "ExecuteTime": {
     "end_time": "2019-07-12T05:36:22.698000Z",
     "start_time": "2019-07-12T05:36:22.666922Z"
    }
   },
   "outputs": [],
   "source": [
    "### Function used to return a summary for numeric variables\n",
    "def SummaryNumericVar(list_of_values, title):\n",
    "    \"\"\"\n",
    "    param: list_of_values (list): A list of categorical values from which we like to obtain the distribution\n",
    "    param: title (string): The title for the visualization\n",
    "    \"\"\"\n",
    "    \n",
    "    # Title varibale\n",
    "    print(\"=\"* 100, \"\\nOverview of variable: \", title, \"\\n\", \"=\"*100)\n",
    "\n",
    "    # An \"interface\" to matplotlib.axes.Axes.hist() method\n",
    "    n, bins, patches = plt.hist(x = list_of_values, bins='auto', color= '#0504aa', alpha=0.7, rwidth=0.85)\n",
    "    plt.grid(axis='y', alpha=0.75)\n",
    "    plt.xlabel('Value')\n",
    "    plt.ylabel('Frequency')\n",
    "    plt.title(title)\n",
    "    plt.ylim(ymax=np.ceil(n.max() / 10) * 10 if n.max() % 10 else n.max() + 10)\n",
    "    plt.show()\n",
    "\n",
    "    # Print summary statistics\n",
    "    print(\"-\"*20, \"\\nSummary statistics:\\n\", \"-\"*20)\n",
    "    print(\"Minimum value:\", min(list_of_values))\n",
    "    print(\"Mean:\", round(statistics.mean(list_of_values), 4))\n",
    "    print(\"Standard deviation:\", round(statistics.stdev(list_of_values), 4))\n",
    "    print(\"Median:\", round(statistics.median(list_of_values), 4))\n",
    "    print(\"Maximal value:\", max(list_of_values))\n",
    "\n",
    "    # Plot boxplot\n",
    "    plt.boxplot(list_of_values, 0, 'grey', 0)\n",
    "    plt.xlabel('Value')\n",
    "    plt.title(title)\n",
    "    plt.show()\n",
    "\n",
    "    # Present outliers\n",
    "    print(\"-\"*20, \"\\nOutlier detection:\\n\", \"-\"*20)\n",
    "    print(\"List of outliers:\", {round(value,2) for z_score, value in zip(np.abs(stats.zscore(list_of_values)), list_of_values) if z_score > 3})\n",
    "\n",
    "    # Check for normally distributed\n",
    "    stats.probplot(list_of_values, dist=\"norm\", plot= plt)\n",
    "    plt.show()\n",
    "\n",
    "    # Statistics to check normality\n",
    "    print(\"-\"*20, \"\\nCheck for normal distribution:\\n\", \"-\"*20)\n",
    "    print(\"Skewedness:\", round(stats.skew(list_of_values), 4))\n",
    "    print(\"Kurtosis:\", round(stats.kurtosis(list_of_values), 4))"
   ]
  },
  {
   "cell_type": "code",
   "execution_count": 7,
   "metadata": {
    "ExecuteTime": {
     "end_time": "2019-07-12T05:36:22.727313Z",
     "start_time": "2019-07-12T05:36:22.700538Z"
    }
   },
   "outputs": [],
   "source": [
    "### Function used to draw a random sample from the discrete distribution of probabilities representing the input list\n",
    "def RandomSampleProbDist(list_of_values, draws = 1):\n",
    "    \"\"\"\n",
    "    :param: list_of_values (list): A list of categorical values representing the observations in the dataset\n",
    "    :param: draws (int): The number of samples desired to be returned\n",
    "    :return: (array) An array capturing the sampled categories\n",
    "    \"\"\"\n",
    "    # Only the non-missing values are considered in the sampling procedure\n",
    "    non_missing_list = list_of_values.dropna()\n",
    "    # Sample from the discrete probability distribution representing the categorical variable\n",
    "    return list(choice(list(Counter(non_missing_list)), \n",
    "                  draws, \n",
    "                  p = list(map(lambda x: x/len(non_missing_list), \n",
    "                               Counter(non_missing_list).values()))))[0]"
   ]
  },
  {
   "cell_type": "markdown",
   "metadata": {},
   "source": [
    "## 1. Load data"
   ]
  },
  {
   "cell_type": "markdown",
   "metadata": {},
   "source": [
    "### 1.1 Extract raw data"
   ]
  },
  {
   "cell_type": "markdown",
   "metadata": {},
   "source": [
    "#### Read in raw data xlsx format"
   ]
  },
  {
   "cell_type": "code",
   "execution_count": 8,
   "metadata": {
    "ExecuteTime": {
     "end_time": "2019-07-12T05:38:16.102761Z",
     "start_time": "2019-07-12T05:36:22.729423Z"
    },
    "scrolled": true
   },
   "outputs": [
    {
     "name": "stdout",
     "output_type": "stream",
     "text": [
      "True\n",
      "True\n",
      "True\n"
     ]
    }
   ],
   "source": [
    "# Load the data and create panda's dataframe\n",
    "pd_df_2016 = pd.ExcelFile('Data/2016-complete-match-data-OraclesElixir-2017-09-18.xlsx')\n",
    "pd_df_2017 = pd.ExcelFile('Data/2017matchdataOraclesElixir.xlsx')\n",
    "pd_df_2018_spring = pd.ExcelFile('Data/2018-spring-match-data-OraclesElixir-2018-05-20.xlsx')\n",
    "pd_df_2018_summer = pd.ExcelFile('Data/2018 summer match data OraclesElixir 2018-09-27.xlsx')\n",
    "pd_df_2018_worlds = pd.ExcelFile('Data/2018-worlds-match-data-OraclesElixir-2018-11-03.xlsx')\n",
    "\n",
    "# Put the data in a dataframe\n",
    "df_2016 = pd_df_2016.parse(0)\n",
    "df_2017 = pd_df_2017.parse(0)\n",
    "df_2018_spring = pd_df_2018_spring.parse(0)\n",
    "df_2018_summer = pd_df_2018_summer.parse(0)\n",
    "df_2018_worlds = pd_df_2018_worlds.parse(0)\n",
    "\n",
    "# Check whether most recent datasets represent the same features\n",
    "print(all(df_2017.columns == df_2018_spring.columns))\n",
    "print(all(df_2017.columns == df_2018_summer.columns))\n",
    "print(all(df_2017.columns == df_2018_worlds.columns))"
   ]
  },
  {
   "cell_type": "markdown",
   "metadata": {},
   "source": [
    "#### Concatenate dataframes"
   ]
  },
  {
   "cell_type": "code",
   "execution_count": 9,
   "metadata": {
    "ExecuteTime": {
     "end_time": "2019-07-12T05:38:16.123299Z",
     "start_time": "2019-07-12T05:38:16.104740Z"
    }
   },
   "outputs": [],
   "source": [
    "# Add extra column indicating the year of the data\n",
    "df_2017['Year'] = ['2017' for i in range(len(df_2017))]\n",
    "df_2018_spring['Year'] = ['2018' for i in range(len(df_2018_spring))]\n",
    "df_2018_summer['Year'] = ['2018' for i in range(len(df_2018_summer))]\n",
    "df_2018_worlds['Year'] = ['2018' for i in range(len(df_2018_worlds))]"
   ]
  },
  {
   "cell_type": "code",
   "execution_count": 10,
   "metadata": {
    "ExecuteTime": {
     "end_time": "2019-07-12T05:38:16.510127Z",
     "start_time": "2019-07-12T05:38:16.125999Z"
    }
   },
   "outputs": [],
   "source": [
    "# Initialize data you want to analyse\n",
    "data_exploration = pd.concat([df_2017, df_2018_spring, df_2018_summer, df_2018_worlds])"
   ]
  },
  {
   "cell_type": "markdown",
   "metadata": {},
   "source": [
    "#### Retain only split data in scope"
   ]
  },
  {
   "cell_type": "code",
   "execution_count": 11,
   "metadata": {
    "ExecuteTime": {
     "end_time": "2019-07-12T05:38:16.794616Z",
     "start_time": "2019-07-12T05:38:16.512198Z"
    }
   },
   "outputs": [],
   "source": [
    "# Retain data in scope \n",
    "data_exploration = data_exploration[data_exploration.split.isin(scope_split_list)]"
   ]
  },
  {
   "cell_type": "markdown",
   "metadata": {},
   "source": [
    "### 1.2 Only retain team data from 1-1 matchups\n",
    "Only player data is retained from matchups (based on the unique gameid identifier) in which two teams played against each other. "
   ]
  },
  {
   "cell_type": "code",
   "execution_count": 12,
   "metadata": {
    "ExecuteTime": {
     "end_time": "2019-07-12T05:38:16.841711Z",
     "start_time": "2019-07-12T05:38:16.796256Z"
    }
   },
   "outputs": [],
   "source": [
    "# Retain team level parameter information\n",
    "data_exploration = data_exploration[data_exploration.position != 'Team']"
   ]
  },
  {
   "cell_type": "code",
   "execution_count": 13,
   "metadata": {
    "ExecuteTime": {
     "end_time": "2019-07-12T05:38:40.462970Z",
     "start_time": "2019-07-12T05:38:16.844433Z"
    }
   },
   "outputs": [],
   "source": [
    "# Create dictionary capturing the team and its opponent during a matchup\n",
    "matchup_dict = {}\n",
    "for gameID in list(set(data_exploration.gameid)):\n",
    "    matchup_df = data_exploration[data_exploration.gameid == gameID]\n",
    "    matchup_dict[gameID] = set(matchup_df.team)"
   ]
  },
  {
   "cell_type": "code",
   "execution_count": 14,
   "metadata": {
    "ExecuteTime": {
     "end_time": "2019-07-12T05:38:40.473883Z",
     "start_time": "2019-07-12T05:38:40.464962Z"
    },
    "scrolled": true
   },
   "outputs": [
    {
     "name": "stdout",
     "output_type": "stream",
     "text": [
      "The number of teams corresponding to the same game-id in the dataset:\n",
      "0 : 1\n",
      "2 : 5698\n",
      "4 : 45\n",
      "3 : 1\n",
      "\n",
      "We are only interested in games involving two teams and hence removed the others from further analysis:\n",
      "Latter allowed us to retain 99.1819 % of the initial matchup data\n",
      "Information from 5698 are retained in the final dataset\n"
     ]
    }
   ],
   "source": [
    "# Intermediate summary\n",
    "print(\"The number of teams corresponding to the same game-id in the dataset:\")\n",
    "matchup_dict_counter = Counter([len(x) for x in matchup_dict.values()])\n",
    "for ID, teams in matchup_dict_counter.items():\n",
    "    print(ID, \":\", teams)\n",
    "print(\"\\nWe are only interested in games involving two teams and hence removed the others from further analysis:\")\n",
    "print(\"Latter allowed us to retain\", round(matchup_dict_counter[2]/sum(matchup_dict_counter.values())*100, 4) ,\"% of the initial matchup data\")\n",
    "print(\"Information from\", matchup_dict_counter[2], \"are retained in the final dataset\")"
   ]
  },
  {
   "cell_type": "code",
   "execution_count": 15,
   "metadata": {
    "ExecuteTime": {
     "end_time": "2019-07-12T05:38:40.554242Z",
     "start_time": "2019-07-12T05:38:40.477137Z"
    }
   },
   "outputs": [],
   "source": [
    "# Remove biased match-up data\n",
    "unbiased_gameids = [gameID for gameID, teams in matchup_dict.items() if len(teams) == 2]\n",
    "data_exploration = data_exploration[data_exploration['gameid'].isin(unbiased_gameids)]"
   ]
  },
  {
   "cell_type": "markdown",
   "metadata": {},
   "source": [
    "### 1.3 Adjust Team and player parameter in dataset\n",
    "The parameter describing the player was lowercased and the bias in spelling mistakes made and the use of different names to indicate the same player and was removed by manually exploring the data and creating a matching dictionary. All the players were retained in the final dataset (also the ones for which no strength parameters will be calculated) to allow us to build a model on as much data as possible. Latter preprocessing was considered as well for the team parameter."
   ]
  },
  {
   "cell_type": "code",
   "execution_count": 16,
   "metadata": {
    "ExecuteTime": {
     "end_time": "2019-07-12T05:38:40.632848Z",
     "start_time": "2019-07-12T05:38:40.557230Z"
    }
   },
   "outputs": [],
   "source": [
    "# Adjust the player parameter in the data\n",
    "list_of_players = [x.lower() if isinstance(x, str) else x for x in data_exploration.player]\n",
    "data_exploration = data_exploration.drop(['player'], axis= 1)\n",
    "data_exploration[\"player\"] = list_of_players"
   ]
  },
  {
   "cell_type": "code",
   "execution_count": 17,
   "metadata": {
    "ExecuteTime": {
     "end_time": "2019-07-12T05:38:40.652881Z",
     "start_time": "2019-07-12T05:38:40.635023Z"
    }
   },
   "outputs": [],
   "source": [
    "# Team matching dictionary\n",
    "team_dict = {'100 thieves': ['100 thieves', '100 thieves academy'],\n",
    "             'ahq': ['ahq e-sports club', 'ahq fighter'],\n",
    "             'cloud9': ['cloud9', 'cloud9 academy'],\n",
    "             'clutch gaming': ['clutch gaming', 'clutch gaming academy'],\n",
    "             'counter logic gaming': ['counter logic gaming', 'clg academy'],\n",
    "             'echo fox': ['echo fox', 'echo fox academy'],\n",
    "             'flyquest': ['flyquest', 'flyquest academy'],\n",
    "             'fnatic': ['fnatic', 'fnatic academy'],\n",
    "             'giants': ['giants', 'giants gaming'],\n",
    "             'golden guardians': ['golden guardians', 'golden guardians academy'],\n",
    "             'intz': ['intz e-sports', 'intz e-sports club'],\n",
    "             'kabum': ['kabum e-sports', 'kabum esports'],\n",
    "             'kongdoo monster': ['kongdoo mongster', 'kongdoo monster'],\n",
    "             'misfits': ['misfits', 'misfits academy'],\n",
    "             'optic': ['optic academy', 'optic gaming'],\n",
    "             'team liquid': ['team liquid', 'team liquid academy'],\n",
    "             'team one': ['team one e-sports', 'team one esports']}\n",
    "\n",
    "team_match_dict = {v:k for k, v_list in team_dict.items() for v in v_list}"
   ]
  },
  {
   "cell_type": "code",
   "execution_count": 18,
   "metadata": {
    "ExecuteTime": {
     "end_time": "2019-07-12T05:38:40.858151Z",
     "start_time": "2019-07-12T05:38:40.654928Z"
    }
   },
   "outputs": [],
   "source": [
    "# Adjust the team parameter in the data\n",
    "list_of_teams = [x.lower() for x in data_exploration.team]\n",
    "data_exploration = data_exploration.drop(['team'], axis= 1)\n",
    "unbiased_teamlist = [team_match_dict[team] if team in team_match_dict else team for team in list_of_teams]\n",
    "data_exploration[\"team\"] = unbiased_teamlist"
   ]
  },
  {
   "cell_type": "markdown",
   "metadata": {},
   "source": [
    "## 2 Create extra features"
   ]
  },
  {
   "cell_type": "markdown",
   "metadata": {},
   "source": [
    "### 2.1 Culture"
   ]
  },
  {
   "cell_type": "code",
   "execution_count": 19,
   "metadata": {
    "ExecuteTime": {
     "end_time": "2019-07-12T05:38:40.892981Z",
     "start_time": "2019-07-12T05:38:40.860509Z"
    }
   },
   "outputs": [
    {
     "name": "stdout",
     "output_type": "stream",
     "text": [
      "Not all leagues could be represented by the dictionary used, the ones for which no match was found:  {'RRNAEU', 'RRAsia'}\n"
     ]
    }
   ],
   "source": [
    "# Create dictionary matching the league with its corresponding culture\n",
    "culture_dict = {'CBLoL': 'Brazil', 'EULCS': 'Europe', 'LCK': 'Korea',\n",
    "                'LMS': 'Taiwan, Hong Kong & Macau', 'LPL': 'China',\n",
    "                'NALCS': 'North America', 'TCL': 'Turkey',\n",
    "                'LCL': 'Commonwealth of Independent States', 'LJL': 'Japan',\n",
    "                'LLN': 'Latin America - North', 'OPL': 'Oceania', \n",
    "                'GPL': 'Southeast Asia', 'VCS': 'Vietnam',\n",
    "                'WC': 'International', 'MSI': 'International',\n",
    "                'EUPR': 'Europe', 'NAAc': 'North America',\n",
    "                'EUCS': 'Europe', 'NAPR': 'North America',\n",
    "                'NACS': 'North America'}\n",
    "\n",
    "data_exploration['culture'] = [culture_dict[l] if l in culture_dict else np.nan for l in data_exploration['league']]\n",
    "\n",
    "# Intermediate summary\n",
    "if not set(data_exploration['league']).issubset(set(culture_dict.keys())):\n",
    "    print(\"Not all leagues could be represented by the dictionary used, the ones for which no match was found: \",\n",
    "          set(data_exploration['league']) - set(culture_dict.keys()))"
   ]
  },
  {
   "cell_type": "markdown",
   "metadata": {},
   "source": [
    "### 2.2 Recency of game played"
   ]
  },
  {
   "cell_type": "code",
   "execution_count": 20,
   "metadata": {
    "ExecuteTime": {
     "end_time": "2019-07-12T05:38:41.174952Z",
     "start_time": "2019-07-12T05:38:40.895359Z"
    },
    "scrolled": true
   },
   "outputs": [],
   "source": [
    "# Time indicator (days since game was last played)\n",
    "dates = [datetime.utcfromtimestamp((x- 25569) * 86400.0) if isinstance(x, float) else datetime.utcfromtimestamp(0) for x in data_exploration[\"date\"]]\n",
    "\n",
    "# Calculate the date difference with today\n",
    "daydiff = [(datetime.now() - x).days if not x == datetime.utcfromtimestamp(0) else np.NaN for x in dates]\n",
    "\n",
    "\n",
    "# At column with date difference indicator to the dataframe and drop unicode indications \n",
    "data_exploration[\"datediff\"] = daydiff\n",
    "data_exploration = data_exploration.drop(['date'], axis= 1)"
   ]
  },
  {
   "cell_type": "markdown",
   "metadata": {},
   "source": [
    "### 2.3 Match importance\n",
    "In the data the following abbreviations are used to define the split: The year the game was played combined with a specific suffix (1 spring, 2 summer, po playoffs, r regionals, w worlds). Based on expert knowledge a matchimportance ranking was done."
   ]
  },
  {
   "cell_type": "code",
   "execution_count": 21,
   "metadata": {
    "ExecuteTime": {
     "end_time": "2019-07-12T05:38:41.281184Z",
     "start_time": "2019-07-12T05:38:41.176638Z"
    }
   },
   "outputs": [],
   "source": [
    "# Initialization of match importance\n",
    "match_imp_dict = {'1':1, '2':2, 'W':4, 'po':1.5, '2017':1, '2018':2}\n",
    "\n",
    "# Extract rank information needed to process match importance\n",
    "matchimp_list = [s.split('-') for s in set(data_exploration['split']) if s != 'nan']\n",
    "\n",
    "# Create dictionary for mapping\n",
    "match_imp_mapping_dict = dict()\n",
    "for year, split in matchimp_list:\n",
    "    playoff = match_imp_dict['po'] if any(s in split for s in ['po', 'rq', 'pr']) else 1\n",
    "    match_imp_mapping_dict[year + '-' + split] = match_imp_dict[year] * match_imp_dict[split[0]] *playoff    \n",
    "\n",
    "# Map the values of the dataframe for the different patch numbers\n",
    "data_exploration['split'] = [match_imp_mapping_dict[s] if s in match_imp_mapping_dict else np.nan for s in data_exploration['split']]"
   ]
  },
  {
   "cell_type": "markdown",
   "metadata": {},
   "source": [
    "### 2.4 Patch number\n",
    "The patch number will be ranked in an ordinal fashion, giving higher values to more recent patches. There was no magnitude based ranking used because of its irrelevance for this specific situation."
   ]
  },
  {
   "cell_type": "code",
   "execution_count": 22,
   "metadata": {
    "ExecuteTime": {
     "end_time": "2019-07-12T05:38:41.378163Z",
     "start_time": "2019-07-12T05:38:41.283301Z"
    }
   },
   "outputs": [],
   "source": [
    "# Extract rank information needed to process patch number\n",
    "patchno_split_list = [str(patchno).split('.') for patchno in set(data_exploration['patchno']) if any(char.isdigit() for char in str(patchno))]\n",
    "patchno_split_list = [[int(p), int(n)] if len(n) == 2 else [int(p), int(n + '0')] for p, n in patchno_split_list]\n",
    "patch_sorted, no_sorted = sorted(list(set([p for p, n in patchno_split_list]))), sorted(list(set([n for p, n in patchno_split_list])))\n",
    "\n",
    "# Create dictionary for mapping\n",
    "patchno_mapping_dict, counter = dict(), 0\n",
    "for patch in patch_sorted:\n",
    "    for no in no_sorted:\n",
    "        # Customize patch number\n",
    "        if len(str(no)) == 1:\n",
    "            custom_no = '0' + str(no)\n",
    "        elif str(no)[-1] == '0':\n",
    "            custom_no = str(no)[:-1]\n",
    "        else: \n",
    "            custom_no = str(no)\n",
    "        # Fill matching dictionary\n",
    "        patchno_mapping_dict[str(patch) + '.' + custom_no] = counter\n",
    "        counter += 1\n",
    "\n",
    "# Map the values of the dataframe for the different patch numbers\n",
    "data_exploration['patchno'] = [patchno_mapping_dict[str(patchno)] if str(patchno) in patchno_mapping_dict else np.nan for patchno in data_exploration['patchno']]"
   ]
  },
  {
   "cell_type": "markdown",
   "metadata": {},
   "source": [
    "## 3. Drop irrelevant features\n",
    "Information provided by the url kolom and the opp-features captured by the dataset can assumed to be irrelevant, because latter show high collinearity with other features present in the dataset. Hence, it was decided upon removing these features to avoid them from biasing our results any further."
   ]
  },
  {
   "cell_type": "code",
   "execution_count": 23,
   "metadata": {
    "ExecuteTime": {
     "end_time": "2019-07-12T05:38:41.425588Z",
     "start_time": "2019-07-12T05:38:41.380303Z"
    }
   },
   "outputs": [],
   "source": [
    "# Drop irrelevant feature url and opponent scores\n",
    "data_exploration = data_exploration.drop(labels=['url', 'week', 'playerid', 'teamkills', 'teamdeaths', 'fbtime', 'ckpm', 'fdtime', \n",
    "                                                 'teamdragkills', 'oppdragkills', 'oppelementals', 'oppelders', 'heraldtime',\n",
    "                                                 'ft', 'fttime', 'firstmidouter', 'firsttothreetowers', 'teamtowerkills',\n",
    "                                                 'opptowerkills', 'fbaron', 'fbarontime', 'teambaronkills', 'oppbaronkills',\n",
    "                                                 'ban1', 'ban2', 'ban3', 'ban4', 'ban5', 'gamelength', 'okpm', 'oppgoldat10',\n",
    "                                                 'oppgoldat15', 'oppxpat10', 'oppcsat10', 'oppcsat15'], axis=1)"
   ]
  },
  {
   "cell_type": "markdown",
   "metadata": {},
   "source": [
    "### 4. Assign correct feature type"
   ]
  },
  {
   "cell_type": "code",
   "execution_count": 24,
   "metadata": {
    "ExecuteTime": {
     "end_time": "2019-07-12T05:38:42.180685Z",
     "start_time": "2019-07-12T05:38:41.430510Z"
    }
   },
   "outputs": [],
   "source": [
    "# Extract variables to be analysed\n",
    "categorical_variables = ['gameid', 'league', 'game', 'side', 'position', 'champion', 'Year', 'player',\n",
    "                         'culture', 'team']\n",
    "numerical_variables = ['split', 'patchno', 'result', 'k', 'd', 'a', 'doubles', 'triples', \n",
    "                       'quadras', 'pentas', 'fb', 'fbassist', 'fbvictim', 'kpm', 'fd',\n",
    "                       'elementals', 'firedrakes', 'waterdrakes', 'earthdrakes', 'airdrakes',\n",
    "                       'elders', 'herald', 'dmgtochamps', 'dmgtochampsperminute', 'dmgshare',\n",
    "                       'earnedgoldshare', 'wards', 'wpm', 'wardshare', 'wardkills', 'wcpm',\n",
    "                       'visionwards', 'visionwardbuys', 'visiblewardclearrate', 'invisiblewardclearrate',\n",
    "                       'totalgold', 'earnedgpm', 'goldspent', 'gspd', 'minionkills', 'monsterkills',\n",
    "                       'monsterkillsownjungle', 'monsterkillsenemyjungle', 'cspm', 'goldat10', 'gdat10',\n",
    "                       'goldat15', 'gdat15', 'xpat10', 'xpdat10', 'csat10', 'csdat10', 'csat15', 'csdat15',\n",
    "                       'datediff']\n",
    "\n",
    "# Correctly define feature types \n",
    "for i in data_exploration.columns.values:\n",
    "    if i in categorical_variables:\n",
    "        data_exploration[i] = data_exploration[i].astype(str)\n",
    "    elif i in numerical_variables:\n",
    "        data_exploration[i]= pd.to_numeric(data_exploration[i], errors='coerce')"
   ]
  },
  {
   "cell_type": "markdown",
   "metadata": {},
   "source": [
    "## 6. Correct initialization of missing values"
   ]
  },
  {
   "cell_type": "code",
   "execution_count": 25,
   "metadata": {
    "ExecuteTime": {
     "end_time": "2019-07-12T05:38:42.212876Z",
     "start_time": "2019-07-12T05:38:42.182618Z"
    }
   },
   "outputs": [],
   "source": [
    "# Copy dataframe\n",
    "data_preparation = data_exploration.copy()"
   ]
  },
  {
   "cell_type": "code",
   "execution_count": 26,
   "metadata": {
    "ExecuteTime": {
     "end_time": "2019-07-12T05:38:43.331380Z",
     "start_time": "2019-07-12T05:38:42.215258Z"
    }
   },
   "outputs": [],
   "source": [
    "# Replace missing values with appropriate indicator\n",
    "data_preparation = data_preparation.replace(to_replace = 'nan', value= np.NaN)\n",
    "data_preparation = data_preparation.replace(to_replace = ' ', value= np.NaN)"
   ]
  },
  {
   "cell_type": "markdown",
   "metadata": {},
   "source": [
    "### 6.0 Create Position dependent dataframes"
   ]
  },
  {
   "cell_type": "code",
   "execution_count": 27,
   "metadata": {
    "ExecuteTime": {
     "end_time": "2019-07-12T05:38:43.392920Z",
     "start_time": "2019-07-12T05:38:43.333714Z"
    }
   },
   "outputs": [
    {
     "name": "stdout",
     "output_type": "stream",
     "text": [
      "The number of observations captured by each dataset:\n",
      " ----------------------------------------------------------------------------------------------------\n",
      "Top : 11396\n",
      "Middle : 11396\n",
      "Jungle : 11396\n",
      "ADC : 11396\n",
      "Support : 11396\n"
     ]
    }
   ],
   "source": [
    "# Create different dataframes depending on the position occupied by the player\n",
    "data_dict = dict()\n",
    "data_dict['Top'] = data_preparation[data_preparation.position == 'Top']\n",
    "data_dict['Middle'] = data_preparation[data_preparation.position == 'Middle']\n",
    "data_dict['Jungle'] = data_preparation[data_preparation.position == 'Jungle']\n",
    "data_dict['ADC'] = data_preparation[data_preparation.position == 'ADC']\n",
    "data_dict['Support'] = data_preparation[data_preparation.position == 'Support']\n",
    "\n",
    "# Short intermediate summary\n",
    "print(\"The number of observations captured by each dataset:\\n\", \"-\"*100)\n",
    "for pos, df in data_dict.items():\n",
    "    print(pos, ':', len(df))"
   ]
  },
  {
   "cell_type": "markdown",
   "metadata": {},
   "source": [
    "### 6.1 Missing values per columns\n",
    "Because the importance of the columns might dependent on the position occupied by a player, missing values are analyses in a dataframe independent fashion."
   ]
  },
  {
   "cell_type": "code",
   "execution_count": 28,
   "metadata": {
    "ExecuteTime": {
     "end_time": "2019-07-12T05:38:44.886786Z",
     "start_time": "2019-07-12T05:38:43.395465Z"
    },
    "scrolled": true
   },
   "outputs": [
    {
     "name": "stdout",
     "output_type": "stream",
     "text": [
      "\n",
      "\n",
      " ========== \n",
      "   Top \n",
      " ==========\n",
      "---------------------------------------------------------------------------------------------------- \n",
      "Overview of variable:  The number of columns with a certain percentage of missing values \n",
      " ----------------------------------------------------------------------------------------------------\n",
      "Total categories: 13 \n",
      "\n"
     ]
    },
    {
     "data": {
      "image/png": "[encoded data removed]",
      "text/plain": [
       "<Figure size 432x288 with 1 Axes>"
      ]
     },
     "metadata": {
      "needs_background": "light"
     },
     "output_type": "display_data"
    },
    {
     "name": "stdout",
     "output_type": "stream",
     "text": [
      "---------------------------------------------------------------------------------------------------- \n",
      "Broader exploration of the data\n",
      " ----------------------------------------------------------------------------------------------------\n",
      "Total number of columns: 65 \n",
      "\n",
      "Total number of columns with no missing values: 11 ( 16.9231 %)\n",
      "\n",
      "These are the following columns: ['gameid', 'league', 'split', 'game', 'side', 'position', 'champion', 'result', 'Year', 'player', 'team'] \n",
      "\n",
      "The number of columns for which more than half of the information is missing: 2 ( 3.0769 %)\n",
      "\n",
      "These are the following columns: ['visiblewardclearrate', 'invisiblewardclearrate']\n",
      "\n",
      "\n",
      " ========== \n",
      "   Middle \n",
      " ==========\n",
      "---------------------------------------------------------------------------------------------------- \n",
      "Overview of variable:  The number of columns with a certain percentage of missing values \n",
      " ----------------------------------------------------------------------------------------------------\n",
      "Total categories: 13 \n",
      "\n"
     ]
    },
    {
     "data": {
      "image/png": "[encoded data removed]",
      "text/plain": [
       "<Figure size 432x288 with 1 Axes>"
      ]
     },
     "metadata": {
      "needs_background": "light"
     },
     "output_type": "display_data"
    },
    {
     "name": "stdout",
     "output_type": "stream",
     "text": [
      "---------------------------------------------------------------------------------------------------- \n",
      "Broader exploration of the data\n",
      " ----------------------------------------------------------------------------------------------------\n",
      "Total number of columns: 65 \n",
      "\n",
      "Total number of columns with no missing values: 11 ( 16.9231 %)\n",
      "\n",
      "These are the following columns: ['gameid', 'league', 'split', 'game', 'side', 'position', 'champion', 'result', 'Year', 'player', 'team'] \n",
      "\n",
      "The number of columns for which more than half of the information is missing: 2 ( 3.0769 %)\n",
      "\n",
      "These are the following columns: ['visiblewardclearrate', 'invisiblewardclearrate']\n",
      "\n",
      "\n",
      " ========== \n",
      "   Jungle \n",
      " ==========\n",
      "---------------------------------------------------------------------------------------------------- \n",
      "Overview of variable:  The number of columns with a certain percentage of missing values \n",
      " ----------------------------------------------------------------------------------------------------\n",
      "Total categories: 13 \n",
      "\n"
     ]
    },
    {
     "data": {
      "image/png": "[encoded data removed]",
      "text/plain": [
       "<Figure size 432x288 with 1 Axes>"
      ]
     },
     "metadata": {
      "needs_background": "light"
     },
     "output_type": "display_data"
    },
    {
     "name": "stdout",
     "output_type": "stream",
     "text": [
      "---------------------------------------------------------------------------------------------------- \n",
      "Broader exploration of the data\n",
      " ----------------------------------------------------------------------------------------------------\n",
      "Total number of columns: 65 \n",
      "\n",
      "Total number of columns with no missing values: 11 ( 16.9231 %)\n",
      "\n",
      "These are the following columns: ['gameid', 'league', 'split', 'game', 'side', 'position', 'champion', 'result', 'Year', 'player', 'team'] \n",
      "\n",
      "The number of columns for which more than half of the information is missing: 2 ( 3.0769 %)\n",
      "\n",
      "These are the following columns: ['visiblewardclearrate', 'invisiblewardclearrate']\n",
      "\n",
      "\n",
      " ========== \n",
      "   ADC \n",
      " ==========\n",
      "---------------------------------------------------------------------------------------------------- \n",
      "Overview of variable:  The number of columns with a certain percentage of missing values \n",
      " ----------------------------------------------------------------------------------------------------\n",
      "Total categories: 13 \n",
      "\n"
     ]
    },
    {
     "data": {
      "image/png": "[encoded data removed]",
      "text/plain": [
       "<Figure size 432x288 with 1 Axes>"
      ]
     },
     "metadata": {
      "needs_background": "light"
     },
     "output_type": "display_data"
    },
    {
     "name": "stdout",
     "output_type": "stream",
     "text": [
      "---------------------------------------------------------------------------------------------------- \n",
      "Broader exploration of the data\n",
      " ----------------------------------------------------------------------------------------------------\n",
      "Total number of columns: 65 \n",
      "\n",
      "Total number of columns with no missing values: 11 ( 16.9231 %)\n",
      "\n",
      "These are the following columns: ['gameid', 'league', 'split', 'game', 'side', 'position', 'champion', 'result', 'Year', 'player', 'team'] \n",
      "\n",
      "The number of columns for which more than half of the information is missing: 2 ( 3.0769 %)\n",
      "\n",
      "These are the following columns: ['visiblewardclearrate', 'invisiblewardclearrate']\n",
      "\n",
      "\n",
      " ========== \n",
      "   Support \n",
      " ==========\n",
      "---------------------------------------------------------------------------------------------------- \n",
      "Overview of variable:  The number of columns with a certain percentage of missing values \n",
      " ----------------------------------------------------------------------------------------------------\n",
      "Total categories: 14 \n",
      "\n"
     ]
    },
    {
     "data": {
      "image/png": "[encoded data removed]",
      "text/plain": [
       "<Figure size 432x288 with 1 Axes>"
      ]
     },
     "metadata": {
      "needs_background": "light"
     },
     "output_type": "display_data"
    },
    {
     "name": "stdout",
     "output_type": "stream",
     "text": [
      "---------------------------------------------------------------------------------------------------- \n",
      "Broader exploration of the data\n",
      " ----------------------------------------------------------------------------------------------------\n",
      "Total number of columns: 65 \n",
      "\n",
      "Total number of columns with no missing values: 11 ( 16.9231 %)\n",
      "\n",
      "These are the following columns: ['gameid', 'league', 'split', 'game', 'side', 'position', 'champion', 'result', 'Year', 'player', 'team'] \n",
      "\n",
      "The number of columns for which more than half of the information is missing: 2 ( 3.0769 %)\n",
      "\n",
      "These are the following columns: ['visiblewardclearrate', 'invisiblewardclearrate']\n"
     ]
    }
   ],
   "source": [
    "# Loop through the different dataframes\n",
    "for pos, df in data_dict.items():\n",
    "    # Print represented position for visualization purposes\n",
    "    print(\"\\n\\n\",\"=\"*10, \"\\n  \", pos, \"\\n\", \"=\"*10)\n",
    "    \n",
    "    # Count of columns with a certain number of missing values\n",
    "    percentage_missing_percol = [round(x/len(df)*100, 4) for x in list(df.isna().sum())]\n",
    "    SummaryCategoricalVar(percentage_missing_percol,\n",
    "                          'The number of columns with a certain percentage of missing values')\n",
    "\n",
    "    # Print intermediate summary\n",
    "    print(\"-\"*100, \"\\nBroader exploration of the data\\n\", \"-\"*100)\n",
    "    print(\"Total number of columns:\", len(percentage_missing_percol), \"\\n\")\n",
    "    print(\"Total number of columns with no missing values:\", \n",
    "          len([x for x in percentage_missing_percol if x == 0]),\n",
    "         \"(\", round(len([x for x in percentage_missing_percol if x == 0])/len(percentage_missing_percol)*100, 4), \"%)\\n\")\n",
    "    print(\"These are the following columns:\", [y for y, x in zip(df.columns, percentage_missing_percol) if x == 0], \"\\n\")\n",
    "    print(\"The number of columns for which more than half of the information is missing:\", \n",
    "          len([x for x in percentage_missing_percol if x > 50]),\n",
    "         \"(\", round(len([x for x in percentage_missing_percol if x > 50])/len(percentage_missing_percol)*100, 4), \"%)\\n\")\n",
    "    print(\"These are the following columns:\", [y for y, x in zip(df.columns, percentage_missing_percol) if x > 50])"
   ]
  },
  {
   "cell_type": "code",
   "execution_count": 29,
   "metadata": {
    "ExecuteTime": {
     "end_time": "2019-07-12T05:38:44.923750Z",
     "start_time": "2019-07-12T05:38:44.889030Z"
    },
    "scrolled": true
   },
   "outputs": [
    {
     "name": "stdout",
     "output_type": "stream",
     "text": [
      "\n",
      "\n",
      " ========== \n",
      "   Top \n",
      " ==========\n",
      "After dropping columns with more than half missing values, namely:\n",
      " ['visiblewardclearrate', 'invisiblewardclearrate']\n",
      "65 parameters are retained in the dataset.\n",
      "\n",
      "\n",
      " ========== \n",
      "   Middle \n",
      " ==========\n",
      "After dropping columns with more than half missing values, namely:\n",
      " ['visiblewardclearrate', 'invisiblewardclearrate']\n",
      "65 parameters are retained in the dataset.\n",
      "\n",
      "\n",
      " ========== \n",
      "   Jungle \n",
      " ==========\n",
      "After dropping columns with more than half missing values, namely:\n",
      " ['visiblewardclearrate', 'invisiblewardclearrate']\n",
      "65 parameters are retained in the dataset.\n",
      "\n",
      "\n",
      " ========== \n",
      "   ADC \n",
      " ==========\n",
      "After dropping columns with more than half missing values, namely:\n",
      " ['visiblewardclearrate', 'invisiblewardclearrate']\n",
      "65 parameters are retained in the dataset.\n",
      "\n",
      "\n",
      " ========== \n",
      "   Support \n",
      " ==========\n",
      "After dropping columns with more than half missing values, namely:\n",
      " ['visiblewardclearrate', 'invisiblewardclearrate']\n",
      "65 parameters are retained in the dataset.\n"
     ]
    }
   ],
   "source": [
    "# Loop through the different dataframes\n",
    "for pos, df in data_dict.items():\n",
    "    # Print represented position for visualization purposes\n",
    "    print(\"\\n\\n\",\"=\"*10, \"\\n  \", pos, \"\\n\", \"=\"*10)\n",
    "    \n",
    "    # Remove the columns from the data in case more than half of the observations are missing\n",
    "    columns_to_be_dropped = [y for y, x in zip(df.columns, percentage_missing_percol) if x > 50]\n",
    "    df = df.drop(columns_to_be_dropped, axis=1)\n",
    "    data_dict[pos] = df\n",
    "\n",
    "    # Drop columns from indicator list for numerical and categorical variables list\n",
    "    numerical_variables = [col for col in numerical_variables if col not in columns_to_be_dropped]\n",
    "    categorical_variables = [col for col in categorical_variables if col not in columns_to_be_dropped]\n",
    "\n",
    "    # Intermediate summary \n",
    "    print(\"After dropping columns with more than half missing values, namely:\\n\", columns_to_be_dropped)\n",
    "    print(len(data_preparation.columns), \"parameters are retained in the dataset.\")"
   ]
  },
  {
   "cell_type": "markdown",
   "metadata": {},
   "source": [
    "### 6.2 Missing values per row"
   ]
  },
  {
   "cell_type": "code",
   "execution_count": 30,
   "metadata": {
    "ExecuteTime": {
     "end_time": "2019-07-12T05:38:46.109254Z",
     "start_time": "2019-07-12T05:38:44.925872Z"
    }
   },
   "outputs": [
    {
     "name": "stdout",
     "output_type": "stream",
     "text": [
      "\n",
      "\n",
      " ========== \n",
      "   Top \n",
      " ==========\n",
      "---------------------------------------------------------------------------------------------------- \n",
      "Overview of variable:  The number of observations with a certain percentage of missing values \n",
      " ----------------------------------------------------------------------------------------------------\n",
      "Total categories: 9 \n",
      "\n"
     ]
    },
    {
     "data": {
      "image/png": "[encoded data removed]",
      "text/plain": [
       "<Figure size 432x288 with 1 Axes>"
      ]
     },
     "metadata": {
      "needs_background": "light"
     },
     "output_type": "display_data"
    },
    {
     "name": "stdout",
     "output_type": "stream",
     "text": [
      "---------------------------------------------------------------------------------------------------- \n",
      "Broader exploration of the data\n",
      " ----------------------------------------------------------------------------------------------------\n",
      "Total number of observations: 11396 \n",
      "\n",
      "Total number of observations with no missing values: 6060 ( 53.1766 %)\n",
      "\n",
      "The number of observations for which more than half of the information is missing: 2466 ( 21.6392 %)\n",
      "\n",
      "\n",
      " ========== \n",
      "   Middle \n",
      " ==========\n",
      "---------------------------------------------------------------------------------------------------- \n",
      "Overview of variable:  The number of observations with a certain percentage of missing values \n",
      " ----------------------------------------------------------------------------------------------------\n",
      "Total categories: 9 \n",
      "\n"
     ]
    },
    {
     "data": {
      "image/png": "[encoded data removed]",
      "text/plain": [
       "<Figure size 432x288 with 1 Axes>"
      ]
     },
     "metadata": {
      "needs_background": "light"
     },
     "output_type": "display_data"
    },
    {
     "name": "stdout",
     "output_type": "stream",
     "text": [
      "---------------------------------------------------------------------------------------------------- \n",
      "Broader exploration of the data\n",
      " ----------------------------------------------------------------------------------------------------\n",
      "Total number of observations: 11396 \n",
      "\n",
      "Total number of observations with no missing values: 6060 ( 53.1766 %)\n",
      "\n",
      "The number of observations for which more than half of the information is missing: 2466 ( 21.6392 %)\n",
      "\n",
      "\n",
      " ========== \n",
      "   Jungle \n",
      " ==========\n",
      "---------------------------------------------------------------------------------------------------- \n",
      "Overview of variable:  The number of observations with a certain percentage of missing values \n",
      " ----------------------------------------------------------------------------------------------------\n",
      "Total categories: 9 \n",
      "\n"
     ]
    },
    {
     "data": {
      "image/png": "[encoded data removed]",
      "text/plain": [
       "<Figure size 432x288 with 1 Axes>"
      ]
     },
     "metadata": {
      "needs_background": "light"
     },
     "output_type": "display_data"
    },
    {
     "name": "stdout",
     "output_type": "stream",
     "text": [
      "---------------------------------------------------------------------------------------------------- \n",
      "Broader exploration of the data\n",
      " ----------------------------------------------------------------------------------------------------\n",
      "Total number of observations: 11396 \n",
      "\n",
      "Total number of observations with no missing values: 6060 ( 53.1766 %)\n",
      "\n",
      "The number of observations for which more than half of the information is missing: 2466 ( 21.6392 %)\n",
      "\n",
      "\n",
      " ========== \n",
      "   ADC \n",
      " ==========\n",
      "---------------------------------------------------------------------------------------------------- \n",
      "Overview of variable:  The number of observations with a certain percentage of missing values \n",
      " ----------------------------------------------------------------------------------------------------\n",
      "Total categories: 9 \n",
      "\n"
     ]
    },
    {
     "data": {
      "image/png": "[encoded data removed]",
      "text/plain": [
       "<Figure size 432x288 with 1 Axes>"
      ]
     },
     "metadata": {
      "needs_background": "light"
     },
     "output_type": "display_data"
    },
    {
     "name": "stdout",
     "output_type": "stream",
     "text": [
      "---------------------------------------------------------------------------------------------------- \n",
      "Broader exploration of the data\n",
      " ----------------------------------------------------------------------------------------------------\n",
      "Total number of observations: 11396 \n",
      "\n",
      "Total number of observations with no missing values: 6060 ( 53.1766 %)\n",
      "\n",
      "The number of observations for which more than half of the information is missing: 2466 ( 21.6392 %)\n",
      "\n",
      "\n",
      " ========== \n",
      "   Support \n",
      " ==========\n",
      "---------------------------------------------------------------------------------------------------- \n",
      "Overview of variable:  The number of observations with a certain percentage of missing values \n",
      " ----------------------------------------------------------------------------------------------------\n",
      "Total categories: 11 \n",
      "\n"
     ]
    },
    {
     "data": {
      "image/png": "[encoded data removed]",
      "text/plain": [
       "<Figure size 432x288 with 1 Axes>"
      ]
     },
     "metadata": {
      "needs_background": "light"
     },
     "output_type": "display_data"
    },
    {
     "name": "stdout",
     "output_type": "stream",
     "text": [
      "---------------------------------------------------------------------------------------------------- \n",
      "Broader exploration of the data\n",
      " ----------------------------------------------------------------------------------------------------\n",
      "Total number of observations: 11396 \n",
      "\n",
      "Total number of observations with no missing values: 6058 ( 53.159 %)\n",
      "\n",
      "The number of observations for which more than half of the information is missing: 2466 ( 21.6392 %)\n"
     ]
    }
   ],
   "source": [
    "# Loop through the different dataframes\n",
    "for pos, df in data_dict.items():\n",
    "    # Print represented position for visualization purposes\n",
    "    print(\"\\n\\n\",\"=\"*10, \"\\n  \", pos, \"\\n\", \"=\"*10)\n",
    "    \n",
    "    # Count of rows with a certain number of missing values\n",
    "    percentage_missing_perobs = [round(x/len(df.columns)*100, 4) for x in list(df.isna().sum(axis=1))]\n",
    "    SummaryCategoricalVar(percentage_missing_perobs,\n",
    "                          'The number of observations with a certain percentage of missing values')\n",
    "\n",
    "    # Print intermediate summary\n",
    "    print(\"-\"*100, \"\\nBroader exploration of the data\\n\", \"-\"*100)\n",
    "    print(\"Total number of observations:\", len(percentage_missing_perobs), \"\\n\")\n",
    "    print(\"Total number of observations with no missing values:\", \n",
    "          len([x for x in percentage_missing_perobs if x == 0]),\n",
    "         \"(\", round(len([x for x in percentage_missing_perobs if x == 0])/len(percentage_missing_perobs)*100, 4), \"%)\\n\")\n",
    "    print(\"The number of observations for which more than half of the information is missing:\", \n",
    "          len([x for x in percentage_missing_perobs if x > 50]),\n",
    "         \"(\", round(len([x for x in percentage_missing_perobs if x > 50])/len(percentage_missing_perobs)*100, 4), \"%)\")"
   ]
  },
  {
   "cell_type": "markdown",
   "metadata": {},
   "source": [
    "##### Detailed investigation 'observations with many missing values'\n",
    "Hence the data distributions presented here correspond to the subset of the observations for which more than half the column information is missing."
   ]
  },
  {
   "cell_type": "code",
   "execution_count": 31,
   "metadata": {
    "ExecuteTime": {
     "end_time": "2019-07-12T05:38:46.119235Z",
     "start_time": "2019-07-12T05:38:46.111297Z"
    }
   },
   "outputs": [],
   "source": [
    "# Extract subdataset to get detailed insight into the observations with many missing values\n",
    "obs_missing_info = [teller for teller, x in enumerate(percentage_missing_perobs) if x > 50]\n",
    "obs_missing_info_df = data_preparation.iloc[obs_missing_info,:]"
   ]
  },
  {
   "cell_type": "code",
   "execution_count": 32,
   "metadata": {
    "ExecuteTime": {
     "end_time": "2019-07-12T05:38:46.354369Z",
     "start_time": "2019-07-12T05:38:46.121571Z"
    },
    "scrolled": false
   },
   "outputs": [
    {
     "name": "stdout",
     "output_type": "stream",
     "text": [
      "---------------------------------------------------------------------------------------------------- \n",
      "Overview of variable:  The number of observations with a certain percentage of missing values \n",
      " ----------------------------------------------------------------------------------------------------\n",
      "Total categories: 5 \n",
      "\n"
     ]
    },
    {
     "data": {
      "image/png": "[encoded data removed]",
      "text/plain": [
       "<Figure size 432x288 with 1 Axes>"
      ]
     },
     "metadata": {
      "needs_background": "light"
     },
     "output_type": "display_data"
    }
   ],
   "source": [
    "# Distribution of percentage missing values\n",
    "SummaryCategoricalVar([round(x/len(obs_missing_info_df.columns)*100, 4) for x in list(obs_missing_info_df.isna().sum(axis=1))], \n",
    "                      'The number of observations with a certain percentage of missing values')"
   ]
  },
  {
   "cell_type": "markdown",
   "metadata": {},
   "source": [
    "Next, it will be explored whether some column categories are represented more by the observations with a lot of missing data. Latter results need to be compared with the representations of the categorical covariates in the whole dataset (as considered below)."
   ]
  },
  {
   "cell_type": "code",
   "execution_count": 33,
   "metadata": {
    "ExecuteTime": {
     "end_time": "2019-07-12T05:38:47.409997Z",
     "start_time": "2019-07-12T05:38:46.356959Z"
    },
    "scrolled": true
   },
   "outputs": [
    {
     "name": "stdout",
     "output_type": "stream",
     "text": [
      "---------------------------------------------------------------------------------------------------- \n",
      "Overview of variable:  gameid \n",
      " ----------------------------------------------------------------------------------------------------\n",
      "Total categories: 293 \n",
      "\n",
      "The 10 with the highest percentage data available:\n",
      "\n",
      "1002300085 : 0.4055 %\n",
      "1002300083 : 0.4055 %\n",
      "1002300061 : 0.4055 %\n",
      "1002300032 : 0.4055 %\n",
      "1002300025 : 0.4055 %\n",
      "1002300021 : 0.4055 %\n",
      "1002300005 : 0.4055 %\n",
      "1240638 : 0.4055 %\n",
      "1240630 : 0.4055 %\n",
      "1002190031 : 0.4055 %\n",
      "\n",
      "The 10 with the lowest percentage data available:\n",
      "\n",
      "240118 : 0.0811 %\n",
      "1170656 : 0.0811 %\n",
      "1160463 : 0.0811 %\n",
      "1002240116 : 0.0811 %\n",
      "1160150 : 0.0811 %\n",
      "210197 : 0.0811 %\n",
      "2017-213OMGJD Gaming : 0.0811 %\n",
      "1002110106 : 0.0811 %\n",
      "210324 : 0.0811 %\n",
      "1002100125 : 0.0811 %\n",
      "---------------------------------------------------------------------------------------------------- \n",
      "Overview of variable:  league \n",
      " ----------------------------------------------------------------------------------------------------\n",
      "Total categories: 11 \n",
      "\n"
     ]
    },
    {
     "data": {
      "image/png": "[encoded data removed]",
      "text/plain": [
       "<Figure size 432x288 with 1 Axes>"
      ]
     },
     "metadata": {
      "needs_background": "light"
     },
     "output_type": "display_data"
    },
    {
     "name": "stdout",
     "output_type": "stream",
     "text": [
      "---------------------------------------------------------------------------------------------------- \n",
      "Overview of variable:  game \n",
      " ----------------------------------------------------------------------------------------------------\n",
      "Total categories: 9 \n",
      "\n"
     ]
    },
    {
     "data": {
      "image/png": "[encoded data removed]",
      "text/plain": [
       "<Figure size 432x288 with 1 Axes>"
      ]
     },
     "metadata": {
      "needs_background": "light"
     },
     "output_type": "display_data"
    },
    {
     "name": "stdout",
     "output_type": "stream",
     "text": [
      "---------------------------------------------------------------------------------------------------- \n",
      "Overview of variable:  side \n",
      " ----------------------------------------------------------------------------------------------------\n",
      "Total categories: 2 \n",
      "\n"
     ]
    },
    {
     "data": {
      "image/png": "[encoded data removed]",
      "text/plain": [
       "<Figure size 432x288 with 1 Axes>"
      ]
     },
     "metadata": {
      "needs_background": "light"
     },
     "output_type": "display_data"
    },
    {
     "name": "stdout",
     "output_type": "stream",
     "text": [
      "---------------------------------------------------------------------------------------------------- \n",
      "Overview of variable:  position \n",
      " ----------------------------------------------------------------------------------------------------\n",
      "Total categories: 5 \n",
      "\n"
     ]
    },
    {
     "data": {
      "image/png": "[encoded data removed]",
      "text/plain": [
       "<Figure size 432x288 with 1 Axes>"
      ]
     },
     "metadata": {
      "needs_background": "light"
     },
     "output_type": "display_data"
    },
    {
     "name": "stdout",
     "output_type": "stream",
     "text": [
      "---------------------------------------------------------------------------------------------------- \n",
      "Overview of variable:  champion \n",
      " ----------------------------------------------------------------------------------------------------\n",
      "Total categories: 96 \n",
      "\n",
      "The 10 with the highest percentage data available:\n",
      "\n",
      "Jarvan IV : 4.5823 %\n",
      "Thresh : 4.5012 %\n",
      "Gragas : 4.4607 %\n",
      "Braum : 3.7713 %\n",
      "Orianna : 3.4469 %\n",
      "Kalista : 3.3658 %\n",
      "Galio : 3.1225 %\n",
      "Elise : 3.0414 %\n",
      "Varus : 2.9603 %\n",
      "Corki : 2.7575 %\n",
      "\n",
      "The 10 with the lowest percentage data available:\n",
      "\n",
      "Nocturne : 0.0406 %\n",
      "Yasuo : 0.0406 %\n",
      "Hecarim : 0.0406 %\n",
      "Riven : 0.0406 %\n",
      "Lux : 0.0406 %\n",
      "Dr. Mundo : 0.0406 %\n",
      "Talon : 0.0406 %\n",
      "Sion : 0.0406 %\n",
      "Ziggs : 0.0406 %\n",
      "Ezreal : 0.0406 %\n",
      "---------------------------------------------------------------------------------------------------- \n",
      "Overview of variable:  Year \n",
      " ----------------------------------------------------------------------------------------------------\n",
      "Total categories: 1 \n",
      "\n"
     ]
    },
    {
     "data": {
      "image/png": "[encoded data removed]",
      "text/plain": [
       "<Figure size 432x288 with 1 Axes>"
      ]
     },
     "metadata": {
      "needs_background": "light"
     },
     "output_type": "display_data"
    },
    {
     "name": "stdout",
     "output_type": "stream",
     "text": [
      "---------------------------------------------------------------------------------------------------- \n",
      "Overview of variable:  player \n",
      " ----------------------------------------------------------------------------------------------------\n",
      "Total categories: 439 \n",
      "\n",
      "The 10 with the highest percentage data available:\n",
      "\n",
      "breeze : 0.5677 %\n",
      "wako : 0.5677 %\n",
      "jensen : 0.5677 %\n",
      "contractz : 0.5677 %\n",
      "epic : 0.5272 %\n",
      "nexus : 0.5272 %\n",
      "smoothie : 0.5272 %\n",
      "sneaky : 0.5272 %\n",
      "darshan : 0.5272 %\n",
      "sheep : 0.5272 %\n",
      "\n",
      "The 10 with the lowest percentage data available:\n",
      "\n",
      "barrett : 0.0406 %\n",
      "lbb : 0.0406 %\n",
      "comeback : 0.0406 %\n",
      "rascal : 0.0406 %\n",
      "shini : 0.0406 %\n",
      "redbert : 0.0406 %\n",
      "absolut : 0.0406 %\n",
      "brucer : 0.0406 %\n",
      "4lan : 0.0406 %\n",
      "vvvert : 0.0406 %\n",
      "---------------------------------------------------------------------------------------------------- \n",
      "Overview of variable:  culture \n",
      " ----------------------------------------------------------------------------------------------------\n",
      "Total categories: 8 \n",
      "\n"
     ]
    },
    {
     "data": {
      "image/png": "[encoded data removed]",
      "text/plain": [
       "<Figure size 432x288 with 1 Axes>"
      ]
     },
     "metadata": {
      "needs_background": "light"
     },
     "output_type": "display_data"
    },
    {
     "name": "stdout",
     "output_type": "stream",
     "text": [
      "---------------------------------------------------------------------------------------------------- \n",
      "Overview of variable:  team \n",
      " ----------------------------------------------------------------------------------------------------\n",
      "Total categories: 75 \n",
      "\n",
      "The 10 with the highest percentage data available:\n",
      "\n",
      "counter logic gaming : 3.0008 %\n",
      "wayi spider : 2.7575 %\n",
      "cloud9 : 2.7575 %\n",
      "tempo storm : 2.6358 %\n",
      "afreeca freecs : 2.4331 %\n",
      "rox tigers : 2.4331 %\n",
      "mvp : 2.3925 %\n",
      "eunited : 2.352 %\n",
      "jin air green wings : 2.352 %\n",
      "team liquid : 2.2709 %\n",
      "\n",
      "The 10 with the lowest percentage data available:\n",
      "\n",
      "paris saint-germain : 0.4055 %\n",
      "wind and rain : 0.4055 %\n",
      "schalke 04 : 0.4055 %\n",
      "pain gaming : 0.4055 %\n",
      "roccat : 0.2839 %\n",
      "red canids : 0.2028 %\n",
      "team aurora : 0.2028 %\n",
      "fire ball : 0.2028 %\n",
      "team one : 0.2028 %\n",
      "t show e-sports : 0.0406 %\n"
     ]
    }
   ],
   "source": [
    "# Loop through all categorical variables and visualize data\n",
    "for cat_variable in categorical_variables:\n",
    "    SummaryCategoricalVar(obs_missing_info_df[cat_variable], cat_variable)"
   ]
  },
  {
   "cell_type": "markdown",
   "metadata": {},
   "source": [
    "### 6.3 Missing value imputation\n",
    "To impute missing values the following techniques are applied:\n",
    "* Categorical covariates: random sampling from the discrete distribution representing the probabilities of a value being from a certain category for that covariate. Because of the large amount of data available, it might be interesting to do imputation by sampling randomly from the distribution of available values for a specific covariate, to obtain the least biased estimation of the missing value. It is nevertheless important to get a clear insight into the data with a lot of missing data as well, because these could be biased towards certain column values and hence should be treated with care.\n",
    "* Numerical covariates: Median imputation."
   ]
  },
  {
   "cell_type": "code",
   "execution_count": 34,
   "metadata": {
    "ExecuteTime": {
     "end_time": "2019-07-12T05:38:47.921612Z",
     "start_time": "2019-07-12T05:38:47.412367Z"
    }
   },
   "outputs": [],
   "source": [
    "# Loop through the different dataframes\n",
    "for pos, df in data_dict.items():    \n",
    "    # Probability based missing value imptation (categorical covariates) and median imputation (numerical covariates)\n",
    "    for col in df.columns.values:\n",
    "        if df[col].isna().sum() > 0:\n",
    "            if col in categorical_variables:\n",
    "                df[col] = df[col].fillna(RandomSampleProbDist(df[col]))\n",
    "            elif col in numerical_variables:\n",
    "                df[col] = df[col].fillna(np.median(df[col].dropna()))\n",
    "                \n",
    "    # Assign imputed df to dataframe dictionary\n",
    "    data_dict[pos] = df"
   ]
  },
  {
   "cell_type": "code",
   "execution_count": 35,
   "metadata": {
    "ExecuteTime": {
     "end_time": "2019-07-12T05:38:48.006277Z",
     "start_time": "2019-07-12T05:38:47.923647Z"
    }
   },
   "outputs": [
    {
     "name": "stdout",
     "output_type": "stream",
     "text": [
      "Detection of non-imputed missing values in the data:\n",
      "Top : False\n",
      "Middle : False\n",
      "Jungle : False\n",
      "ADC : False\n",
      "Support : False\n"
     ]
    }
   ],
   "source": [
    "# Loop through the different dataframes\n",
    "print(\"Detection of non-imputed missing values in the data:\")\n",
    "for pos, df in data_dict.items():   \n",
    "    # Check whether there are still non-imputed missing values in the data\n",
    "    print(pos, \":\", np.any(df.isnull()))"
   ]
  },
  {
   "cell_type": "code",
   "execution_count": 36,
   "metadata": {
    "ExecuteTime": {
     "end_time": "2019-07-12T05:38:48.314420Z",
     "start_time": "2019-07-12T05:38:48.008254Z"
    }
   },
   "outputs": [],
   "source": [
    "# Write data away in pickle\n",
    "with open('/home/je32910/MasterThesis_ComputationalStatistics/pickles/' + filename + '_top.pickle', 'wb') as f:\n",
    "    pickle.dump(data_dict['Top'], f)\n",
    "with open('/home/je32910/MasterThesis_ComputationalStatistics/pickles/' + filename + '_mid.pickle', 'wb') as f:\n",
    "    pickle.dump(data_dict['Middle'], f)\n",
    "with open('/home/je32910/MasterThesis_ComputationalStatistics/pickles/' + filename + '_jun.pickle', 'wb') as f:\n",
    "    pickle.dump(data_dict['Jungle'], f)\n",
    "with open('/home/je32910/MasterThesis_ComputationalStatistics/pickles/' + filename + '_adc.pickle', 'wb') as f:\n",
    "    pickle.dump(data_dict['ADC'], f)\n",
    "with open('/home/je32910/MasterThesis_ComputationalStatistics/pickles/' + filename + '_sup.pickle', 'wb') as f:\n",
    "    pickle.dump(data_dict['Support'], f)"
   ]
  }
 ],
 "metadata": {
  "kernelspec": {
   "display_name": "Python [conda env:python36]",
   "language": "python",
   "name": "conda-env-python36-py"
  },
  "language_info": {
   "codemirror_mode": {
    "name": "ipython",
    "version": 3
   },
   "file_extension": ".py",
   "mimetype": "text/x-python",
   "name": "python",
   "nbconvert_exporter": "python",
   "pygments_lexer": "ipython3",
   "version": "3.6.8"
  }
 },
 "nbformat": 4,
 "nbformat_minor": 2
}
