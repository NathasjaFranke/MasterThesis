{
 "cells": [
  {
   "cell_type": "markdown",
   "metadata": {},
   "source": [
    "# Model 1: Estimation of team strength parameters (Team data)"
   ]
  },
  {
   "cell_type": "code",
   "execution_count": 1,
   "metadata": {
    "ExecuteTime": {
     "end_time": "2019-08-24T16:41:10.179526Z",
     "start_time": "2019-08-24T16:41:10.176163Z"
    }
   },
   "outputs": [],
   "source": [
    "# Initialization\n",
    "#loaded_pp_filename = 'teamdata2017_preprocessed'\n",
    "#loaded_std_filename = 'teamdata2017_standardized'\n",
    "#saved_filename = 'teamdata2017_strenghtparam'\n",
    "#loaded_pp_filename = 'teamdata2018_preprocessed'\n",
    "#loaded_std_filename = 'teamdata2018_standardized'\n",
    "#saved_filename = 'teamdata2018_strenghtparam'\n",
    "loaded_pp_filename = 'teamdata2019_preprocessed'\n",
    "loaded_std_filename = 'teamdata2019_standardized'\n",
    "saved_filename = 'teamdata2019_strenghtparam'"
   ]
  },
  {
   "cell_type": "markdown",
   "metadata": {},
   "source": [
    "## 0. Load libraries and define functions"
   ]
  },
  {
   "cell_type": "markdown",
   "metadata": {},
   "source": [
    "### 0.1 General python functionality"
   ]
  },
  {
   "cell_type": "code",
   "execution_count": 2,
   "metadata": {
    "ExecuteTime": {
     "end_time": "2019-08-24T16:41:12.156828Z",
     "start_time": "2019-08-24T16:41:10.181144Z"
    }
   },
   "outputs": [],
   "source": [
    "# Functions\n",
    "import numpy as np\n",
    "import os\n",
    "import pickle\n",
    "import pandas as pd\n",
    "import operator\n",
    "import itertools\n",
    "from numpy.random import choice\n",
    "from collections import Counter\n",
    "import statistics\n",
    "from scipy import stats\n",
    "\n",
    "# Functions used for data visualization\n",
    "import seaborn as sns\n",
    "sns.set(context = \"paper\", font = \"monospace\")\n",
    "import matplotlib.pyplot as plt"
   ]
  },
  {
   "cell_type": "code",
   "execution_count": 3,
   "metadata": {
    "ExecuteTime": {
     "end_time": "2019-08-24T16:41:13.091047Z",
     "start_time": "2019-08-24T16:41:12.159576Z"
    }
   },
   "outputs": [],
   "source": [
    "# Special functions needed for custom functions\n",
    "import sklearn\n",
    "from sklearn.model_selection import train_test_split\n",
    "from sklearn.linear_model import Ridge, RidgeCV, RidgeClassifierCV, LogisticRegression, ElasticNetCV, ElasticNet, Lasso, RidgeClassifier\n",
    "from sklearn import metrics\n",
    "from sklearn.feature_selection import RFECV\n",
    "from sklearn.ensemble import RandomForestClassifier\n",
    "from sklearn.model_selection import GridSearchCV"
   ]
  },
  {
   "cell_type": "code",
   "execution_count": 4,
   "metadata": {
    "ExecuteTime": {
     "end_time": "2019-08-24T16:41:13.099360Z",
     "start_time": "2019-08-24T16:41:13.093957Z"
    }
   },
   "outputs": [],
   "source": [
    "# Surpress printing warnings\n",
    "import warnings\n",
    "warnings.filterwarnings(\"ignore\")"
   ]
  },
  {
   "cell_type": "markdown",
   "metadata": {},
   "source": [
    "### 0.2 Custom functions"
   ]
  },
  {
   "cell_type": "code",
   "execution_count": 5,
   "metadata": {
    "ExecuteTime": {
     "end_time": "2019-08-24T16:41:13.142061Z",
     "start_time": "2019-08-24T16:41:13.102087Z"
    }
   },
   "outputs": [],
   "source": [
    "### Function used to return a summary for categorical variables\n",
    "def SummaryCategoricalVar(list_of_values, title, threshold = 20, top = 10):\n",
    "    \"\"\"\n",
    "    param: list_of_values (list): A list of categorical values from which we like to obtain the distribution\n",
    "    param: title (string): The title for the visualization\n",
    "    param: threshold (int): The maximal number of categories that should be visualized\n",
    "    param: top (int): The top k values that should be returned in the written summary when the number of categories is above the threshold\n",
    "    \"\"\"\n",
    "    # Count the number of occurrances in the list\n",
    "    cnt = Counter(list_of_values)\n",
    "    sorted_cnt = sorted(cnt.items(), key=operator.itemgetter(1))[::-1]\n",
    "    \n",
    "    # Show the percentage dictionary if to many categories to represent\n",
    "    print(\"-\"* 100, \"\\nOverview of variable: \", title, \"\\n\", \"-\"*100)\n",
    "    print(\"Total categories:\", len(cnt), \"\\n\")\n",
    "    if len(cnt) > threshold:\n",
    "        if len(cnt) < top*2:\n",
    "            for key, value in sorted_cnt:\n",
    "                print(key, ':', round(value/len(list_of_values)*100, 4), \"%\")\n",
    "        else:\n",
    "            print(\"The 10 with the highest percentage data available:\\n\")\n",
    "            for key, value in sorted_cnt[:top]:\n",
    "                print(key, ':', round(value/len(list_of_values)*100, 4), \"%\")\n",
    "            print(\"\\nThe 10 with the lowest percentage data available:\\n\")\n",
    "            for key, value in sorted_cnt[len(cnt) - top:]:\n",
    "                print(key, ':', round(value/len(list_of_values)*100, 4), \"%\")\n",
    "                \n",
    "    # Visualization of labelled data distribution\n",
    "    else:\n",
    "        plt.barh(range(1, len(sorted_cnt)+1), \n",
    "                 list(map(lambda x: (x/len(list_of_values)*100), [score for label, score in sorted_cnt])), \n",
    "                 tick_label = list([label for label, score in sorted_cnt]),\n",
    "                 color = 'cornflowerblue', \n",
    "                 edgecolor = 'steelblue')\n",
    "        plt.ylabel('Label')\n",
    "        plt.xlabel('Percentage observations in dataset')\n",
    "        plt.title(title)\n",
    "        plt.show()    \n",
    "        plt.savefig('Barplot_' + title + '.png')"
   ]
  },
  {
   "cell_type": "code",
   "execution_count": 6,
   "metadata": {
    "ExecuteTime": {
     "end_time": "2019-08-24T16:41:13.175192Z",
     "start_time": "2019-08-24T16:41:13.144291Z"
    }
   },
   "outputs": [],
   "source": [
    "### Function used to return a summary for numeric variables\n",
    "def SummaryNumericVar(list_of_values, title):\n",
    "    \"\"\"\n",
    "    param: list_of_values (list): A list of categorical values from which we like to obtain the distribution\n",
    "    param: title (string): The title for the visualization\n",
    "    \"\"\"\n",
    "    \n",
    "    # Title varibale\n",
    "    print(\"=\"* 100, \"\\nOverview of variable: \", title, \"\\n\", \"=\"*100)\n",
    "\n",
    "    # An \"interface\" to matplotlib.axes.Axes.hist() method\n",
    "    n, bins, patches = plt.hist(x = list_of_values, bins='auto', color= '#0504aa', alpha=0.7, rwidth=0.85)\n",
    "    plt.grid(axis='y', alpha=0.75)\n",
    "    plt.xlabel('Value')\n",
    "    plt.ylabel('Frequency')\n",
    "    plt.title(title)\n",
    "    plt.ylim(top=np.ceil(n.max() / 10) * 10 if n.max() % 10 else n.max() + 10)\n",
    "    plt.show()\n",
    "    plt.savefig('Frequency_' + title + '.png')\n",
    "\n",
    "    # Print summary statistics\n",
    "    print(\"-\"*20, \"\\nSummary statistics:\\n\", \"-\"*20)\n",
    "    print(\"Minimum value:\", min(list_of_values))\n",
    "    print(\"Mean:\", round(statistics.mean(list_of_values), 4))\n",
    "    print(\"Standard deviation:\", round(statistics.stdev(list_of_values), 4))\n",
    "    print(\"Median:\", round(statistics.median(list_of_values), 4))\n",
    "    print(\"Maximal value:\", max(list_of_values))\n",
    "\n",
    "    # Plot boxplot\n",
    "    plt.boxplot(list_of_values, 0, 'grey', 0)\n",
    "    plt.xlabel('Value')\n",
    "    plt.title(title)\n",
    "    plt.show()\n",
    "    plt.savefig('Boxplot_' + title + '.png')\n",
    "\n",
    "    # Present outliers\n",
    "    print(\"-\"*20, \"\\nOutlier detection:\\n\", \"-\"*20)\n",
    "    print(\"List of outliers:\", {round(value,2) for z_score, value in zip(np.abs(stats.zscore(list_of_values)), list_of_values) if z_score > 3})\n",
    "\n",
    "    # Check for normally distributed\n",
    "    stats.probplot(list_of_values, dist=\"norm\", plot= plt)\n",
    "    plt.show()\n",
    "    plt.savefig('Probabilityplot_' + title + '.png')\n",
    "\n",
    "    # Statistics to check normality\n",
    "    print(\"-\"*20, \"\\nCheck for normal distribution:\\n\", \"-\"*20)\n",
    "    print(\"Skewedness:\", round(stats.skew(list_of_values), 4))\n",
    "    print(\"Kurtosis:\", round(stats.kurtosis(list_of_values), 4))"
   ]
  },
  {
   "cell_type": "code",
   "execution_count": 7,
   "metadata": {
    "ExecuteTime": {
     "end_time": "2019-08-24T16:41:13.205893Z",
     "start_time": "2019-08-24T16:41:13.177203Z"
    }
   },
   "outputs": [],
   "source": [
    "### Function used to split the data into training and test data\n",
    "def data_splitter(df, response_name = 'target', split_threshold = 0.15, seed = 42):\n",
    "    \"\"\"\n",
    "    Function used to split a dataframe into test and training data\n",
    "    \n",
    "    param: df (Panda's dataframe object)\n",
    "    param: response_name (string): The name of the response variable in the dataframe\n",
    "    param: split_threshold (float): The split threshold used\n",
    "    param: seed (int): Integer defining the seed for random split of the data\n",
    "    \n",
    "    return: (tuple) A tuple with four pandas dataframe objects\n",
    "    \"\"\"\n",
    "    # Split the dataframe into features and response variable\n",
    "    df_tmp = df.copy()\n",
    "    x, y = df_tmp.drop([response_name], axis = 1), df[response_name]\n",
    "    # Split the feature and response variable into training and test data\n",
    "    x_train, x_test, y_train, y_test = train_test_split(x, y, test_size = split_threshold, random_state = seed)\n",
    "    return (x_train, x_test, y_train, y_test)"
   ]
  },
  {
   "cell_type": "code",
   "execution_count": 8,
   "metadata": {
    "ExecuteTime": {
     "end_time": "2019-08-24T16:41:13.251920Z",
     "start_time": "2019-08-24T16:41:13.207532Z"
    }
   },
   "outputs": [],
   "source": [
    "### Function used to generate a summary of the input model (binary classes)\n",
    "def binary_class_evaluator(model, x_test, y_test, threshold = 0.5, elasticnet = False):\n",
    "    \"\"\"\n",
    "    Function returning a tuple with sensitivity, specificity and AUC metrics for specific model\n",
    "    \n",
    "    param: model (model): The model we like to evaluate\n",
    "    param: x_test (list): List of lists of numpy arrays\n",
    "    param: y_test (list): Binary values indicating the outcome variable\n",
    "    param: threshold (float): The classification threshold used\n",
    "    param: elasticnet (bool): Booling indicator for specifying whether the model is elastic net based\n",
    "\n",
    "    return: A tuple containing the calculated sensitivity, specificity and AUC metrics\n",
    "    \"\"\"\n",
    "    # Calculate the different summary statistics based on the model and test data\n",
    "    test_data =  list(y_test) \n",
    "    model_preds = list(model.predict(x_test)) if not elasticnet else [1.0 if x > 0 else 0.0 for x in model.predict(x_test)]\n",
    "    model_acc = metrics.accuracy_score(test_data, model_preds)\n",
    "    true_pos = len([mp for mp, td in zip(model_preds, test_data) if mp > threshold and td == 1])\n",
    "    false_neg = len([mp for mp, td in zip(model_preds, test_data) if mp < threshold and td == 1])\n",
    "    true_neg = len([mp for mp, td in zip(model_preds, test_data) if mp < threshold and td == 0])\n",
    "    false_pos = len([mp for mp, td in zip(model_preds, test_data) if mp > threshold and td == 0])\n",
    "    \n",
    "    # Print intermediate summary to the user\n",
    "    print(\"Based on a threshold of\", threshold, \"the following summary statistics can be obtained:\\n\", \"-\"*100)\n",
    "    print(true_pos, \"true positives over all positives (the wins that were correctly classified).\")\n",
    "    print(false_pos, \"false positives (the wins that were wrongly classified).\")\n",
    "    print(true_neg, \"true negatives (the losses that were correctly classified).\")\n",
    "    print(false_neg, \"false negatives (the losses that were wrongly classified).\\n\")\n",
    "    print(\"The sensitivity is: \", true_pos / (true_pos + false_neg))\n",
    "    print(\"The specificity is: \", true_neg / (true_neg + false_pos))\n",
    "    \n",
    "    # Plot the ROC curve for the model\n",
    "    print(\"\\n\\nAccuracy:\", model_acc, \"\\n\", \"-\"*100)\n",
    "    fpr, tpr, _ = metrics.roc_curve(test_data, model_preds)\n",
    "    auc = metrics.roc_auc_score(test_data, model_preds)\n",
    "    plt.plot(fpr, tpr, label= \"auc: \" + str(round(auc, 4)))\n",
    "    plt.legend(loc = 4)\n",
    "    plt.title('ROC curve')\n",
    "    plt.show()\n",
    "    \n",
    "    # Return sensitivity and specificity values to the user \n",
    "    return true_pos / (true_pos + false_neg), true_neg / (true_neg + false_pos), auc, model_acc"
   ]
  },
  {
   "cell_type": "code",
   "execution_count": 9,
   "metadata": {
    "ExecuteTime": {
     "end_time": "2019-08-24T16:41:13.288464Z",
     "start_time": "2019-08-24T16:41:13.253701Z"
    }
   },
   "outputs": [],
   "source": [
    "### Function used to plot the confusion matrix (normalization can be applied if desired)\n",
    "def plot_confusion_matrix(model, x_test, y_test, classes, normalize = False, elasticnet = False, cmap = plt.cm.Blues):\n",
    "    \"\"\"\n",
    "    Function that visualizes the confusion matrix based on the predictions made by the fitted model and their correspondence\n",
    "    to the observed test data. The option is available to return the normalized confusion matrix.\n",
    "    \n",
    "    param: model (model): The model we like to evaluate\n",
    "    param: x_test (list): List of lists of numpy arrays\n",
    "    param: y_test (list): Binary values indicating the outcome variable\n",
    "    param: classes (list): A list of classes that correspond to the numbered labels in the confusion matrix in that order.\n",
    "    param: normalize (bool): Booling indicator for specification of returning the normalized or non-normalized confusion matrix.\n",
    "    param: elasticnet (bool): Booling indicator for specifying whether the model is elastic net based\n",
    "    \"\"\"\n",
    "    # Approximate the confusion matrix based on model predictions\n",
    "    model_preds = list(model.predict(x_test)) if not elasticnet else [1.0 if x > 0 else 0.0 for x in model.predict(x_test)]\n",
    "    cm = sklearn.metrics.confusion_matrix(y_test, model_preds)\n",
    "    \n",
    "    # Normalize the cm if desired\n",
    "    title = 'Normalized confusion matrix' if normalize else 'Confusion matrix'\n",
    "    if normalize:\n",
    "        cm = cm.astype('float') / cm.sum(axis=1)[:, np.newaxis]\n",
    "    \n",
    "    # Create confusion matrix\n",
    "    print(title, \":\\n\", \"-\"*100)\n",
    "    plt.imshow(cm, interpolation='nearest', cmap=cmap)\n",
    "    plt.title(title)\n",
    "    plt.colorbar()\n",
    "    tick_marks = np.arange(len(classes))\n",
    "    plt.xticks(tick_marks, classes, rotation=45)\n",
    "    plt.yticks(tick_marks, classes)\n",
    "    fmt = '.2f' if normalize else 'd'\n",
    "    thresh = cm.max() / 2.\n",
    "    for i, j in itertools.product(range(cm.shape[0]), range(cm.shape[1])):\n",
    "        plt.text(j, i, format(cm[i, j], fmt),\n",
    "                 horizontalalignment=\"center\",\n",
    "                 color=\"white\" if cm[i, j] > thresh else \"black\")\n",
    "\n",
    "    plt.tight_layout()\n",
    "    plt.ylabel('True label')\n",
    "    plt.xlabel('Predicted label')\n",
    "    plt.show()"
   ]
  },
  {
   "cell_type": "code",
   "execution_count": 10,
   "metadata": {
    "ExecuteTime": {
     "end_time": "2019-08-24T16:41:13.330107Z",
     "start_time": "2019-08-24T16:41:13.290271Z"
    }
   },
   "outputs": [],
   "source": [
    "### Function used to extract the top10 most important features based on the magnitute of the coefficients\n",
    "def important_features_extractor(model, fitted_features, top = 10, elasticnet = False):\n",
    "    \"\"\"\n",
    "    Function used to extract a dictionary mapping the features used in the model with the estimates of their coefficients\n",
    "    \n",
    "    param: model (model): The model we like to evaluate.\n",
    "    param: fitted_features (list): List capturing the different features evaluated by the model.\n",
    "    param: top (int): The amount of fetaures you like to be printed as output (sorted based on decreasing importance).\n",
    "    param: elasticnet (bool): Booling indicator for specifying whether the model is elastic net based\n",
    "    return: (dict) A dictionary mapping the features with their corresponding coefficient estimates.\n",
    "    \"\"\"\n",
    "    # Extract model coefficients\n",
    "    coefficients = model.coef_[0] if not elasticnet else model.coef_\n",
    "    coef_dict = {col:coef for col, coef in zip(fitted_features, coefficients)}\n",
    "    coef_dict_abs = {col:abs(round(coef,2)) for col, coef in zip(fitted_features, coefficients)}\n",
    "    sorted_coefs = sorted(coef_dict_abs.items(), key=operator.itemgetter(1), reverse= True)\n",
    "\n",
    "    # Return the top ten most important features and their coefficients\n",
    "    print(\"Summary of the important features and their corresponding coefficients:\\n\", '-'*100)\n",
    "    ret_dict = dict()\n",
    "    for index, (col, abs_score) in enumerate(sorted_coefs):\n",
    "        if index < top:\n",
    "            print(col, ':', coef_dict[col])\n",
    "        ret_dict[col] = coef_dict[col]\n",
    "    return ret_dict"
   ]
  },
  {
   "cell_type": "code",
   "execution_count": 11,
   "metadata": {
    "ExecuteTime": {
     "end_time": "2019-08-24T16:41:13.374266Z",
     "start_time": "2019-08-24T16:41:13.331640Z"
    }
   },
   "outputs": [],
   "source": [
    "### Function used to draw a random sample from the discrete distribution of probabilities representing the input list\n",
    "def RandomSampleProbDist(list_of_values, draws = 1):\n",
    "    \"\"\"\n",
    "    :param: list_of_values (list): A list of categorical values representing the observations in the dataset\n",
    "    :param: draws (int): The number of samples desired to be returned\n",
    "    :return: (array) An array capturing the sampled categories\n",
    "    \"\"\"\n",
    "    # Only the non-missing values are considered in the sampling procedure\n",
    "    non_missing_list = list_of_values.dropna()\n",
    "    # Sample from the discrete probability distribution representing the categorical variable\n",
    "    return list(choice(list(Counter(non_missing_list)), \n",
    "                  draws, \n",
    "                  p = list(map(lambda x: x/len(non_missing_list), \n",
    "                               Counter(non_missing_list).values()))))[0]"
   ]
  },
  {
   "cell_type": "markdown",
   "metadata": {},
   "source": [
    "## 1. Load preprocessed data in environment"
   ]
  },
  {
   "cell_type": "markdown",
   "metadata": {},
   "source": [
    "### 1.1 Load standardized data"
   ]
  },
  {
   "cell_type": "code",
   "execution_count": 12,
   "metadata": {
    "ExecuteTime": {
     "end_time": "2019-08-24T16:41:13.416463Z",
     "start_time": "2019-08-24T16:41:13.375820Z"
    }
   },
   "outputs": [],
   "source": [
    "# Load pickle\n",
    "with open('/home/je32910/MasterThesis_ComputationalStatistics/pickles/' + loaded_std_filename + '.pickle', 'rb') as f:\n",
    "    data_raw = pickle.load(f)"
   ]
  },
  {
   "cell_type": "code",
   "execution_count": 13,
   "metadata": {
    "ExecuteTime": {
     "end_time": "2019-08-24T16:41:13.593185Z",
     "start_time": "2019-08-24T16:41:13.429347Z"
    },
    "scrolled": true
   },
   "outputs": [
    {
     "data": {
      "text/html": [
       "<div>\n",
       "<style scoped>\n",
       "    .dataframe tbody tr th:only-of-type {\n",
       "        vertical-align: middle;\n",
       "    }\n",
       "\n",
       "    .dataframe tbody tr th {\n",
       "        vertical-align: top;\n",
       "    }\n",
       "\n",
       "    .dataframe thead th {\n",
       "        text-align: right;\n",
       "    }\n",
       "</style>\n",
       "<table border=\"1\" class=\"dataframe\">\n",
       "  <thead>\n",
       "    <tr style=\"text-align: right;\">\n",
       "      <th></th>\n",
       "      <th>split</th>\n",
       "      <th>patchno</th>\n",
       "      <th>gamelength</th>\n",
       "      <th>k</th>\n",
       "      <th>d</th>\n",
       "      <th>a</th>\n",
       "      <th>teamkills</th>\n",
       "      <th>fbtime</th>\n",
       "      <th>kpm</th>\n",
       "      <th>ckpm</th>\n",
       "      <th>...</th>\n",
       "      <th>Encoded_fd</th>\n",
       "      <th>Encoded_herald</th>\n",
       "      <th>Encoded_ft</th>\n",
       "      <th>Encoded_firstmidouter</th>\n",
       "      <th>Encoded_firsttothreetowers</th>\n",
       "      <th>Encoded_fbaron</th>\n",
       "      <th>Encoded_Year</th>\n",
       "      <th>Encoded_culture</th>\n",
       "      <th>team</th>\n",
       "      <th>result</th>\n",
       "    </tr>\n",
       "  </thead>\n",
       "  <tbody>\n",
       "    <tr>\n",
       "      <th>0</th>\n",
       "      <td>-0.422616</td>\n",
       "      <td>-1.035387</td>\n",
       "      <td>0.840738</td>\n",
       "      <td>-0.115850</td>\n",
       "      <td>0.036358</td>\n",
       "      <td>-0.287711</td>\n",
       "      <td>-0.115850</td>\n",
       "      <td>0.672295</td>\n",
       "      <td>-0.352301</td>\n",
       "      <td>-0.371969</td>\n",
       "      <td>...</td>\n",
       "      <td>0.788516</td>\n",
       "      <td>-0.652322</td>\n",
       "      <td>-0.786903</td>\n",
       "      <td>0.787011</td>\n",
       "      <td>-1.295926</td>\n",
       "      <td>-1.312216</td>\n",
       "      <td>-1.083144</td>\n",
       "      <td>1.215553</td>\n",
       "      <td>mvp</td>\n",
       "      <td>0.0</td>\n",
       "    </tr>\n",
       "    <tr>\n",
       "      <th>1</th>\n",
       "      <td>-0.422616</td>\n",
       "      <td>-1.035387</td>\n",
       "      <td>0.840738</td>\n",
       "      <td>0.039377</td>\n",
       "      <td>-0.118759</td>\n",
       "      <td>0.317035</td>\n",
       "      <td>0.039377</td>\n",
       "      <td>0.672295</td>\n",
       "      <td>-0.227265</td>\n",
       "      <td>-0.371969</td>\n",
       "      <td>...</td>\n",
       "      <td>-1.268205</td>\n",
       "      <td>-0.652322</td>\n",
       "      <td>1.270804</td>\n",
       "      <td>-1.270631</td>\n",
       "      <td>0.841468</td>\n",
       "      <td>0.762070</td>\n",
       "      <td>-1.083144</td>\n",
       "      <td>1.215553</td>\n",
       "      <td>jin air green wings</td>\n",
       "      <td>1.0</td>\n",
       "    </tr>\n",
       "    <tr>\n",
       "      <th>2</th>\n",
       "      <td>-0.422616</td>\n",
       "      <td>-1.035387</td>\n",
       "      <td>-0.687216</td>\n",
       "      <td>-1.047212</td>\n",
       "      <td>0.656828</td>\n",
       "      <td>-1.255305</td>\n",
       "      <td>-1.047212</td>\n",
       "      <td>-0.210837</td>\n",
       "      <td>-0.878534</td>\n",
       "      <td>0.215818</td>\n",
       "      <td>...</td>\n",
       "      <td>-1.268205</td>\n",
       "      <td>-0.652322</td>\n",
       "      <td>-0.786903</td>\n",
       "      <td>-1.270631</td>\n",
       "      <td>-1.295926</td>\n",
       "      <td>-1.312216</td>\n",
       "      <td>-1.083144</td>\n",
       "      <td>1.215553</td>\n",
       "      <td>jin air green wings</td>\n",
       "      <td>0.0</td>\n",
       "    </tr>\n",
       "    <tr>\n",
       "      <th>3</th>\n",
       "      <td>-0.422616</td>\n",
       "      <td>-1.035387</td>\n",
       "      <td>-0.687216</td>\n",
       "      <td>0.660286</td>\n",
       "      <td>-1.049465</td>\n",
       "      <td>0.377510</td>\n",
       "      <td>0.660286</td>\n",
       "      <td>-0.210837</td>\n",
       "      <td>0.989617</td>\n",
       "      <td>0.215818</td>\n",
       "      <td>...</td>\n",
       "      <td>0.788516</td>\n",
       "      <td>-0.652322</td>\n",
       "      <td>1.270804</td>\n",
       "      <td>0.787011</td>\n",
       "      <td>0.841468</td>\n",
       "      <td>0.762070</td>\n",
       "      <td>-1.083144</td>\n",
       "      <td>1.215553</td>\n",
       "      <td>mvp</td>\n",
       "      <td>1.0</td>\n",
       "    </tr>\n",
       "    <tr>\n",
       "      <th>4</th>\n",
       "      <td>-0.422616</td>\n",
       "      <td>-1.035387</td>\n",
       "      <td>0.730958</td>\n",
       "      <td>0.660286</td>\n",
       "      <td>-0.584112</td>\n",
       "      <td>1.163680</td>\n",
       "      <td>0.660286</td>\n",
       "      <td>-0.043565</td>\n",
       "      <td>0.320369</td>\n",
       "      <td>-0.195562</td>\n",
       "      <td>...</td>\n",
       "      <td>0.788516</td>\n",
       "      <td>-0.652322</td>\n",
       "      <td>-0.786903</td>\n",
       "      <td>-1.270631</td>\n",
       "      <td>0.841468</td>\n",
       "      <td>-1.312216</td>\n",
       "      <td>-1.083144</td>\n",
       "      <td>1.215553</td>\n",
       "      <td>mvp</td>\n",
       "      <td>1.0</td>\n",
       "    </tr>\n",
       "    <tr>\n",
       "      <th>5</th>\n",
       "      <td>-0.422616</td>\n",
       "      <td>-1.035387</td>\n",
       "      <td>0.730958</td>\n",
       "      <td>-0.581531</td>\n",
       "      <td>0.656828</td>\n",
       "      <td>-0.952932</td>\n",
       "      <td>-0.581531</td>\n",
       "      <td>-0.043565</td>\n",
       "      <td>-0.703662</td>\n",
       "      <td>-0.195562</td>\n",
       "      <td>...</td>\n",
       "      <td>-1.268205</td>\n",
       "      <td>-0.652322</td>\n",
       "      <td>1.270804</td>\n",
       "      <td>0.787011</td>\n",
       "      <td>-1.295926</td>\n",
       "      <td>0.762070</td>\n",
       "      <td>-1.083144</td>\n",
       "      <td>1.215553</td>\n",
       "      <td>jin air green wings</td>\n",
       "      <td>0.0</td>\n",
       "    </tr>\n",
       "    <tr>\n",
       "      <th>6</th>\n",
       "      <td>-0.422616</td>\n",
       "      <td>-1.035387</td>\n",
       "      <td>0.629699</td>\n",
       "      <td>1.281194</td>\n",
       "      <td>-0.739229</td>\n",
       "      <td>0.679883</td>\n",
       "      <td>1.281194</td>\n",
       "      <td>0.990526</td>\n",
       "      <td>0.887821</td>\n",
       "      <td>0.187658</td>\n",
       "      <td>...</td>\n",
       "      <td>0.788516</td>\n",
       "      <td>-0.652322</td>\n",
       "      <td>-0.786903</td>\n",
       "      <td>0.787011</td>\n",
       "      <td>0.841468</td>\n",
       "      <td>0.762070</td>\n",
       "      <td>-1.083144</td>\n",
       "      <td>1.215553</td>\n",
       "      <td>longzhu gaming</td>\n",
       "      <td>1.0</td>\n",
       "    </tr>\n",
       "    <tr>\n",
       "      <th>7</th>\n",
       "      <td>-0.422616</td>\n",
       "      <td>-1.035387</td>\n",
       "      <td>0.629699</td>\n",
       "      <td>-0.736758</td>\n",
       "      <td>1.277298</td>\n",
       "      <td>-0.771508</td>\n",
       "      <td>-0.736758</td>\n",
       "      <td>0.990526</td>\n",
       "      <td>-0.812263</td>\n",
       "      <td>0.187658</td>\n",
       "      <td>...</td>\n",
       "      <td>-1.268205</td>\n",
       "      <td>-0.652322</td>\n",
       "      <td>1.270804</td>\n",
       "      <td>-1.270631</td>\n",
       "      <td>-1.295926</td>\n",
       "      <td>-1.312216</td>\n",
       "      <td>-1.083144</td>\n",
       "      <td>1.215553</td>\n",
       "      <td>kt rolster</td>\n",
       "      <td>0.0</td>\n",
       "    </tr>\n",
       "    <tr>\n",
       "      <th>8</th>\n",
       "      <td>-0.422616</td>\n",
       "      <td>-1.035387</td>\n",
       "      <td>-0.246415</td>\n",
       "      <td>-1.357666</td>\n",
       "      <td>0.036358</td>\n",
       "      <td>-1.315780</td>\n",
       "      <td>-1.357666</td>\n",
       "      <td>0.943241</td>\n",
       "      <td>-1.259295</td>\n",
       "      <td>-0.899509</td>\n",
       "      <td>...</td>\n",
       "      <td>-1.268205</td>\n",
       "      <td>1.532985</td>\n",
       "      <td>-0.786903</td>\n",
       "      <td>-1.270631</td>\n",
       "      <td>0.841468</td>\n",
       "      <td>-1.312216</td>\n",
       "      <td>-1.083144</td>\n",
       "      <td>1.215553</td>\n",
       "      <td>kt rolster</td>\n",
       "      <td>0.0</td>\n",
       "    </tr>\n",
       "    <tr>\n",
       "      <th>9</th>\n",
       "      <td>-0.422616</td>\n",
       "      <td>-1.035387</td>\n",
       "      <td>-0.246415</td>\n",
       "      <td>0.039377</td>\n",
       "      <td>-1.359700</td>\n",
       "      <td>0.135612</td>\n",
       "      <td>0.039377</td>\n",
       "      <td>0.943241</td>\n",
       "      <td>0.145902</td>\n",
       "      <td>-0.899509</td>\n",
       "      <td>...</td>\n",
       "      <td>0.788516</td>\n",
       "      <td>-0.652322</td>\n",
       "      <td>1.270804</td>\n",
       "      <td>0.787011</td>\n",
       "      <td>-1.295926</td>\n",
       "      <td>0.762070</td>\n",
       "      <td>-1.083144</td>\n",
       "      <td>1.215553</td>\n",
       "      <td>longzhu gaming</td>\n",
       "      <td>1.0</td>\n",
       "    </tr>\n",
       "    <tr>\n",
       "      <th>10</th>\n",
       "      <td>-0.422616</td>\n",
       "      <td>-1.035387</td>\n",
       "      <td>1.138577</td>\n",
       "      <td>0.505059</td>\n",
       "      <td>-1.049465</td>\n",
       "      <td>0.135612</td>\n",
       "      <td>0.505059</td>\n",
       "      <td>0.431434</td>\n",
       "      <td>0.029938</td>\n",
       "      <td>-0.897897</td>\n",
       "      <td>...</td>\n",
       "      <td>0.788516</td>\n",
       "      <td>1.532985</td>\n",
       "      <td>1.270804</td>\n",
       "      <td>0.787011</td>\n",
       "      <td>0.841468</td>\n",
       "      <td>0.762070</td>\n",
       "      <td>-1.083144</td>\n",
       "      <td>1.215553</td>\n",
       "      <td>ever8 winners</td>\n",
       "      <td>1.0</td>\n",
       "    </tr>\n",
       "    <tr>\n",
       "      <th>11</th>\n",
       "      <td>-0.422616</td>\n",
       "      <td>-1.035387</td>\n",
       "      <td>1.138577</td>\n",
       "      <td>-1.047212</td>\n",
       "      <td>0.501711</td>\n",
       "      <td>-0.892457</td>\n",
       "      <td>-1.047212</td>\n",
       "      <td>0.431434</td>\n",
       "      <td>-1.141816</td>\n",
       "      <td>-0.897897</td>\n",
       "      <td>...</td>\n",
       "      <td>-1.268205</td>\n",
       "      <td>-0.652322</td>\n",
       "      <td>-0.786903</td>\n",
       "      <td>-1.270631</td>\n",
       "      <td>-1.295926</td>\n",
       "      <td>-1.312216</td>\n",
       "      <td>-1.083144</td>\n",
       "      <td>1.215553</td>\n",
       "      <td>afreeca freecs</td>\n",
       "      <td>0.0</td>\n",
       "    </tr>\n",
       "    <tr>\n",
       "      <th>12</th>\n",
       "      <td>-0.422616</td>\n",
       "      <td>-1.035387</td>\n",
       "      <td>1.777293</td>\n",
       "      <td>0.660286</td>\n",
       "      <td>-0.118759</td>\n",
       "      <td>0.498459</td>\n",
       "      <td>0.660286</td>\n",
       "      <td>1.671396</td>\n",
       "      <td>-0.107513</td>\n",
       "      <td>-0.504778</td>\n",
       "      <td>...</td>\n",
       "      <td>0.788516</td>\n",
       "      <td>-0.652322</td>\n",
       "      <td>1.270804</td>\n",
       "      <td>0.787011</td>\n",
       "      <td>0.841468</td>\n",
       "      <td>-1.312216</td>\n",
       "      <td>-1.083144</td>\n",
       "      <td>1.215553</td>\n",
       "      <td>afreeca freecs</td>\n",
       "      <td>1.0</td>\n",
       "    </tr>\n",
       "    <tr>\n",
       "      <th>13</th>\n",
       "      <td>-0.422616</td>\n",
       "      <td>-1.035387</td>\n",
       "      <td>1.777293</td>\n",
       "      <td>-0.115850</td>\n",
       "      <td>0.656828</td>\n",
       "      <td>-0.227236</td>\n",
       "      <td>-0.115850</td>\n",
       "      <td>1.671396</td>\n",
       "      <td>-0.613819</td>\n",
       "      <td>-0.504778</td>\n",
       "      <td>...</td>\n",
       "      <td>-1.268205</td>\n",
       "      <td>-0.652322</td>\n",
       "      <td>-0.786903</td>\n",
       "      <td>-1.270631</td>\n",
       "      <td>-1.295926</td>\n",
       "      <td>0.762070</td>\n",
       "      <td>-1.083144</td>\n",
       "      <td>1.215553</td>\n",
       "      <td>ever8 winners</td>\n",
       "      <td>0.0</td>\n",
       "    </tr>\n",
       "    <tr>\n",
       "      <th>14</th>\n",
       "      <td>-0.422616</td>\n",
       "      <td>-1.035387</td>\n",
       "      <td>-0.657299</td>\n",
       "      <td>-1.202439</td>\n",
       "      <td>1.277298</td>\n",
       "      <td>-1.134356</td>\n",
       "      <td>-1.202439</td>\n",
       "      <td>-1.454982</td>\n",
       "      <td>-1.052165</td>\n",
       "      <td>0.582954</td>\n",
       "      <td>...</td>\n",
       "      <td>-1.268205</td>\n",
       "      <td>-0.652322</td>\n",
       "      <td>1.270804</td>\n",
       "      <td>-1.270631</td>\n",
       "      <td>-1.295926</td>\n",
       "      <td>-1.312216</td>\n",
       "      <td>-1.083144</td>\n",
       "      <td>1.215553</td>\n",
       "      <td>sk telecom t1</td>\n",
       "      <td>0.0</td>\n",
       "    </tr>\n",
       "    <tr>\n",
       "      <th>15</th>\n",
       "      <td>-0.422616</td>\n",
       "      <td>-1.035387</td>\n",
       "      <td>-0.657299</td>\n",
       "      <td>1.281194</td>\n",
       "      <td>-1.204582</td>\n",
       "      <td>0.921782</td>\n",
       "      <td>1.281194</td>\n",
       "      <td>-1.454982</td>\n",
       "      <td>1.649948</td>\n",
       "      <td>0.582954</td>\n",
       "      <td>...</td>\n",
       "      <td>0.788516</td>\n",
       "      <td>1.532985</td>\n",
       "      <td>-0.786903</td>\n",
       "      <td>0.787011</td>\n",
       "      <td>0.841468</td>\n",
       "      <td>0.762070</td>\n",
       "      <td>-1.083144</td>\n",
       "      <td>1.215553</td>\n",
       "      <td>samsung galaxy</td>\n",
       "      <td>1.0</td>\n",
       "    </tr>\n",
       "    <tr>\n",
       "      <th>16</th>\n",
       "      <td>-0.422616</td>\n",
       "      <td>-1.035387</td>\n",
       "      <td>1.250563</td>\n",
       "      <td>0.039377</td>\n",
       "      <td>-0.739229</td>\n",
       "      <td>0.377510</td>\n",
       "      <td>0.039377</td>\n",
       "      <td>0.062060</td>\n",
       "      <td>-0.356182</td>\n",
       "      <td>-1.085851</td>\n",
       "      <td>...</td>\n",
       "      <td>-1.268205</td>\n",
       "      <td>1.532985</td>\n",
       "      <td>-0.786903</td>\n",
       "      <td>0.787011</td>\n",
       "      <td>-1.295926</td>\n",
       "      <td>0.762070</td>\n",
       "      <td>-1.083144</td>\n",
       "      <td>-0.065147</td>\n",
       "      <td>h2k</td>\n",
       "      <td>1.0</td>\n",
       "    </tr>\n",
       "    <tr>\n",
       "      <th>17</th>\n",
       "      <td>-0.422616</td>\n",
       "      <td>-1.035387</td>\n",
       "      <td>1.250563</td>\n",
       "      <td>-0.736758</td>\n",
       "      <td>0.036358</td>\n",
       "      <td>-0.771508</td>\n",
       "      <td>-0.736758</td>\n",
       "      <td>0.062060</td>\n",
       "      <td>-0.927645</td>\n",
       "      <td>-1.085851</td>\n",
       "      <td>...</td>\n",
       "      <td>0.788516</td>\n",
       "      <td>-0.652322</td>\n",
       "      <td>1.270804</td>\n",
       "      <td>-1.270631</td>\n",
       "      <td>0.841468</td>\n",
       "      <td>-1.312216</td>\n",
       "      <td>-1.083144</td>\n",
       "      <td>-0.065147</td>\n",
       "      <td>splyce</td>\n",
       "      <td>0.0</td>\n",
       "    </tr>\n",
       "    <tr>\n",
       "      <th>18</th>\n",
       "      <td>-0.422616</td>\n",
       "      <td>-1.035387</td>\n",
       "      <td>-1.848056</td>\n",
       "      <td>-0.736758</td>\n",
       "      <td>2.363121</td>\n",
       "      <td>-1.134356</td>\n",
       "      <td>-0.736758</td>\n",
       "      <td>-1.153851</td>\n",
       "      <td>-0.264906</td>\n",
       "      <td>2.365151</td>\n",
       "      <td>...</td>\n",
       "      <td>-1.268205</td>\n",
       "      <td>-0.652322</td>\n",
       "      <td>-0.786903</td>\n",
       "      <td>-1.270631</td>\n",
       "      <td>-1.295926</td>\n",
       "      <td>-1.312216</td>\n",
       "      <td>-1.083144</td>\n",
       "      <td>-0.065147</td>\n",
       "      <td>splyce</td>\n",
       "      <td>0.0</td>\n",
       "    </tr>\n",
       "    <tr>\n",
       "      <th>19</th>\n",
       "      <td>-0.422616</td>\n",
       "      <td>-1.035387</td>\n",
       "      <td>-1.848056</td>\n",
       "      <td>2.367783</td>\n",
       "      <td>-0.739229</td>\n",
       "      <td>1.103206</td>\n",
       "      <td>2.367783</td>\n",
       "      <td>-1.153851</td>\n",
       "      <td>3.914487</td>\n",
       "      <td>2.365151</td>\n",
       "      <td>...</td>\n",
       "      <td>0.788516</td>\n",
       "      <td>1.532985</td>\n",
       "      <td>1.270804</td>\n",
       "      <td>0.787011</td>\n",
       "      <td>0.841468</td>\n",
       "      <td>0.762070</td>\n",
       "      <td>-1.083144</td>\n",
       "      <td>-0.065147</td>\n",
       "      <td>h2k</td>\n",
       "      <td>1.0</td>\n",
       "    </tr>\n",
       "    <tr>\n",
       "      <th>20</th>\n",
       "      <td>-0.422616</td>\n",
       "      <td>-1.035387</td>\n",
       "      <td>-0.177941</td>\n",
       "      <td>0.194605</td>\n",
       "      <td>-0.739229</td>\n",
       "      <td>-0.348186</td>\n",
       "      <td>0.194605</td>\n",
       "      <td>-0.234918</td>\n",
       "      <td>0.275110</td>\n",
       "      <td>-0.187541</td>\n",
       "      <td>...</td>\n",
       "      <td>0.788516</td>\n",
       "      <td>1.532985</td>\n",
       "      <td>1.270804</td>\n",
       "      <td>-1.270631</td>\n",
       "      <td>0.841468</td>\n",
       "      <td>0.762070</td>\n",
       "      <td>-1.083144</td>\n",
       "      <td>1.215553</td>\n",
       "      <td>bbq olivers</td>\n",
       "      <td>1.0</td>\n",
       "    </tr>\n",
       "    <tr>\n",
       "      <th>21</th>\n",
       "      <td>-0.422616</td>\n",
       "      <td>-1.035387</td>\n",
       "      <td>-0.177941</td>\n",
       "      <td>-0.736758</td>\n",
       "      <td>0.191476</td>\n",
       "      <td>-1.073881</td>\n",
       "      <td>-0.736758</td>\n",
       "      <td>-0.234918</td>\n",
       "      <td>-0.649261</td>\n",
       "      <td>-0.187541</td>\n",
       "      <td>...</td>\n",
       "      <td>-1.268205</td>\n",
       "      <td>-0.652322</td>\n",
       "      <td>-0.786903</td>\n",
       "      <td>0.787011</td>\n",
       "      <td>-1.295926</td>\n",
       "      <td>-1.312216</td>\n",
       "      <td>-1.083144</td>\n",
       "      <td>1.215553</td>\n",
       "      <td>longzhu gaming</td>\n",
       "      <td>0.0</td>\n",
       "    </tr>\n",
       "    <tr>\n",
       "      <th>22</th>\n",
       "      <td>-0.422616</td>\n",
       "      <td>-1.035387</td>\n",
       "      <td>0.516708</td>\n",
       "      <td>0.505059</td>\n",
       "      <td>-0.894347</td>\n",
       "      <td>0.196086</td>\n",
       "      <td>0.505059</td>\n",
       "      <td>0.273463</td>\n",
       "      <td>0.280917</td>\n",
       "      <td>-0.431117</td>\n",
       "      <td>...</td>\n",
       "      <td>-1.268205</td>\n",
       "      <td>1.532985</td>\n",
       "      <td>1.270804</td>\n",
       "      <td>0.787011</td>\n",
       "      <td>0.841468</td>\n",
       "      <td>0.762070</td>\n",
       "      <td>-1.083144</td>\n",
       "      <td>1.215553</td>\n",
       "      <td>longzhu gaming</td>\n",
       "      <td>1.0</td>\n",
       "    </tr>\n",
       "    <tr>\n",
       "      <th>23</th>\n",
       "      <td>-0.422616</td>\n",
       "      <td>-1.035387</td>\n",
       "      <td>0.516708</td>\n",
       "      <td>-0.891985</td>\n",
       "      <td>0.501711</td>\n",
       "      <td>-1.013407</td>\n",
       "      <td>-0.891985</td>\n",
       "      <td>0.273463</td>\n",
       "      <td>-0.924249</td>\n",
       "      <td>-0.431117</td>\n",
       "      <td>...</td>\n",
       "      <td>0.788516</td>\n",
       "      <td>-0.652322</td>\n",
       "      <td>-0.786903</td>\n",
       "      <td>-1.270631</td>\n",
       "      <td>-1.295926</td>\n",
       "      <td>-1.312216</td>\n",
       "      <td>-1.083144</td>\n",
       "      <td>1.215553</td>\n",
       "      <td>bbq olivers</td>\n",
       "      <td>0.0</td>\n",
       "    </tr>\n",
       "    <tr>\n",
       "      <th>24</th>\n",
       "      <td>-0.422616</td>\n",
       "      <td>-1.035387</td>\n",
       "      <td>0.525212</td>\n",
       "      <td>-0.426304</td>\n",
       "      <td>0.346593</td>\n",
       "      <td>0.075137</td>\n",
       "      <td>-0.426304</td>\n",
       "      <td>-1.149488</td>\n",
       "      <td>-0.524661</td>\n",
       "      <td>-0.193522</td>\n",
       "      <td>...</td>\n",
       "      <td>-1.268205</td>\n",
       "      <td>-0.652322</td>\n",
       "      <td>1.270804</td>\n",
       "      <td>-1.270631</td>\n",
       "      <td>-1.295926</td>\n",
       "      <td>-1.312216</td>\n",
       "      <td>-1.083144</td>\n",
       "      <td>1.215553</td>\n",
       "      <td>rox tigers</td>\n",
       "      <td>0.0</td>\n",
       "    </tr>\n",
       "    <tr>\n",
       "      <th>25</th>\n",
       "      <td>-0.422616</td>\n",
       "      <td>-1.035387</td>\n",
       "      <td>0.525212</td>\n",
       "      <td>0.349832</td>\n",
       "      <td>-0.428994</td>\n",
       "      <td>0.377510</td>\n",
       "      <td>0.349832</td>\n",
       "      <td>-1.149488</td>\n",
       "      <td>0.143690</td>\n",
       "      <td>-0.193522</td>\n",
       "      <td>...</td>\n",
       "      <td>0.788516</td>\n",
       "      <td>1.532985</td>\n",
       "      <td>-0.786903</td>\n",
       "      <td>0.787011</td>\n",
       "      <td>0.841468</td>\n",
       "      <td>0.762070</td>\n",
       "      <td>-1.083144</td>\n",
       "      <td>1.215553</td>\n",
       "      <td>jin air green wings</td>\n",
       "      <td>1.0</td>\n",
       "    </tr>\n",
       "    <tr>\n",
       "      <th>26</th>\n",
       "      <td>-0.422616</td>\n",
       "      <td>-1.035387</td>\n",
       "      <td>-0.834288</td>\n",
       "      <td>-0.271077</td>\n",
       "      <td>-1.669935</td>\n",
       "      <td>-0.045812</td>\n",
       "      <td>-0.271077</td>\n",
       "      <td>0.164158</td>\n",
       "      <td>0.017747</td>\n",
       "      <td>-1.380898</td>\n",
       "      <td>...</td>\n",
       "      <td>0.788516</td>\n",
       "      <td>1.532985</td>\n",
       "      <td>1.270804</td>\n",
       "      <td>0.787011</td>\n",
       "      <td>0.841468</td>\n",
       "      <td>0.762070</td>\n",
       "      <td>-1.083144</td>\n",
       "      <td>1.215553</td>\n",
       "      <td>jin air green wings</td>\n",
       "      <td>1.0</td>\n",
       "    </tr>\n",
       "    <tr>\n",
       "      <th>27</th>\n",
       "      <td>-0.422616</td>\n",
       "      <td>-1.035387</td>\n",
       "      <td>-0.834288</td>\n",
       "      <td>-1.668120</td>\n",
       "      <td>-0.273877</td>\n",
       "      <td>-1.497204</td>\n",
       "      <td>-1.668120</td>\n",
       "      <td>0.164158</td>\n",
       "      <td>-1.553149</td>\n",
       "      <td>-1.380898</td>\n",
       "      <td>...</td>\n",
       "      <td>-1.268205</td>\n",
       "      <td>-0.652322</td>\n",
       "      <td>-0.786903</td>\n",
       "      <td>-1.270631</td>\n",
       "      <td>-1.295926</td>\n",
       "      <td>-1.312216</td>\n",
       "      <td>-1.083144</td>\n",
       "      <td>1.215553</td>\n",
       "      <td>rox tigers</td>\n",
       "      <td>0.0</td>\n",
       "    </tr>\n",
       "    <tr>\n",
       "      <th>28</th>\n",
       "      <td>-0.422616</td>\n",
       "      <td>-1.035387</td>\n",
       "      <td>0.983960</td>\n",
       "      <td>0.815513</td>\n",
       "      <td>-1.049465</td>\n",
       "      <td>0.800833</td>\n",
       "      <td>0.815513</td>\n",
       "      <td>1.153921</td>\n",
       "      <td>0.333061</td>\n",
       "      <td>-0.569441</td>\n",
       "      <td>...</td>\n",
       "      <td>0.788516</td>\n",
       "      <td>-0.652322</td>\n",
       "      <td>1.270804</td>\n",
       "      <td>-1.270631</td>\n",
       "      <td>0.841468</td>\n",
       "      <td>0.762070</td>\n",
       "      <td>-1.083144</td>\n",
       "      <td>-0.065147</td>\n",
       "      <td>fnatic</td>\n",
       "      <td>1.0</td>\n",
       "    </tr>\n",
       "    <tr>\n",
       "      <th>29</th>\n",
       "      <td>-0.422616</td>\n",
       "      <td>-1.035387</td>\n",
       "      <td>0.983960</td>\n",
       "      <td>-1.047212</td>\n",
       "      <td>0.811946</td>\n",
       "      <td>-0.952932</td>\n",
       "      <td>-1.047212</td>\n",
       "      <td>1.153921</td>\n",
       "      <td>-1.121589</td>\n",
       "      <td>-0.569441</td>\n",
       "      <td>...</td>\n",
       "      <td>-1.268205</td>\n",
       "      <td>1.532985</td>\n",
       "      <td>-0.786903</td>\n",
       "      <td>0.787011</td>\n",
       "      <td>-1.295926</td>\n",
       "      <td>-1.312216</td>\n",
       "      <td>-1.083144</td>\n",
       "      <td>-0.065147</td>\n",
       "      <td>misfits</td>\n",
       "      <td>0.0</td>\n",
       "    </tr>\n",
       "    <tr>\n",
       "      <th>...</th>\n",
       "      <td>...</td>\n",
       "      <td>...</td>\n",
       "      <td>...</td>\n",
       "      <td>...</td>\n",
       "      <td>...</td>\n",
       "      <td>...</td>\n",
       "      <td>...</td>\n",
       "      <td>...</td>\n",
       "      <td>...</td>\n",
       "      <td>...</td>\n",
       "      <td>...</td>\n",
       "      <td>...</td>\n",
       "      <td>...</td>\n",
       "      <td>...</td>\n",
       "      <td>...</td>\n",
       "      <td>...</td>\n",
       "      <td>...</td>\n",
       "      <td>...</td>\n",
       "      <td>...</td>\n",
       "      <td>...</td>\n",
       "      <td>...</td>\n",
       "    </tr>\n",
       "    <tr>\n",
       "      <th>15474</th>\n",
       "      <td>1.575060</td>\n",
       "      <td>1.710992</td>\n",
       "      <td>-0.980891</td>\n",
       "      <td>2.367783</td>\n",
       "      <td>-0.584112</td>\n",
       "      <td>1.768427</td>\n",
       "      <td>2.367783</td>\n",
       "      <td>-0.043534</td>\n",
       "      <td>3.113726</td>\n",
       "      <td>1.850025</td>\n",
       "      <td>...</td>\n",
       "      <td>0.788516</td>\n",
       "      <td>-0.652322</td>\n",
       "      <td>-0.786903</td>\n",
       "      <td>0.787011</td>\n",
       "      <td>0.841468</td>\n",
       "      <td>0.762070</td>\n",
       "      <td>1.448983</td>\n",
       "      <td>0.788653</td>\n",
       "      <td>lng esports</td>\n",
       "      <td>1.0</td>\n",
       "    </tr>\n",
       "    <tr>\n",
       "      <th>15475</th>\n",
       "      <td>1.575060</td>\n",
       "      <td>1.710992</td>\n",
       "      <td>-0.980891</td>\n",
       "      <td>-0.736758</td>\n",
       "      <td>2.363121</td>\n",
       "      <td>-0.892457</td>\n",
       "      <td>-0.736758</td>\n",
       "      <td>-0.043534</td>\n",
       "      <td>-0.472511</td>\n",
       "      <td>1.850025</td>\n",
       "      <td>...</td>\n",
       "      <td>0.788516</td>\n",
       "      <td>-0.652322</td>\n",
       "      <td>-0.786903</td>\n",
       "      <td>0.787011</td>\n",
       "      <td>0.841468</td>\n",
       "      <td>0.762070</td>\n",
       "      <td>1.448983</td>\n",
       "      <td>0.788653</td>\n",
       "      <td>suning</td>\n",
       "      <td>0.0</td>\n",
       "    </tr>\n",
       "    <tr>\n",
       "      <th>15476</th>\n",
       "      <td>1.575060</td>\n",
       "      <td>1.710992</td>\n",
       "      <td>0.174070</td>\n",
       "      <td>0.349832</td>\n",
       "      <td>1.587534</td>\n",
       "      <td>0.740358</td>\n",
       "      <td>0.349832</td>\n",
       "      <td>-0.043534</td>\n",
       "      <td>0.283465</td>\n",
       "      <td>1.321145</td>\n",
       "      <td>...</td>\n",
       "      <td>0.788516</td>\n",
       "      <td>-0.652322</td>\n",
       "      <td>-0.786903</td>\n",
       "      <td>0.787011</td>\n",
       "      <td>0.841468</td>\n",
       "      <td>0.762070</td>\n",
       "      <td>1.448983</td>\n",
       "      <td>0.788653</td>\n",
       "      <td>suning</td>\n",
       "      <td>0.0</td>\n",
       "    </tr>\n",
       "    <tr>\n",
       "      <th>15477</th>\n",
       "      <td>1.575060</td>\n",
       "      <td>1.710992</td>\n",
       "      <td>0.174070</td>\n",
       "      <td>1.591648</td>\n",
       "      <td>0.346593</td>\n",
       "      <td>1.587003</td>\n",
       "      <td>1.591648</td>\n",
       "      <td>-0.043534</td>\n",
       "      <td>1.432699</td>\n",
       "      <td>1.321145</td>\n",
       "      <td>...</td>\n",
       "      <td>0.788516</td>\n",
       "      <td>-0.652322</td>\n",
       "      <td>-0.786903</td>\n",
       "      <td>0.787011</td>\n",
       "      <td>0.841468</td>\n",
       "      <td>0.762070</td>\n",
       "      <td>1.448983</td>\n",
       "      <td>0.788653</td>\n",
       "      <td>lng esports</td>\n",
       "      <td>1.0</td>\n",
       "    </tr>\n",
       "    <tr>\n",
       "      <th>15478</th>\n",
       "      <td>1.575060</td>\n",
       "      <td>1.710992</td>\n",
       "      <td>-0.054923</td>\n",
       "      <td>1.436421</td>\n",
       "      <td>0.036358</td>\n",
       "      <td>0.861307</td>\n",
       "      <td>1.436421</td>\n",
       "      <td>-0.043534</td>\n",
       "      <td>1.430267</td>\n",
       "      <td>1.192448</td>\n",
       "      <td>...</td>\n",
       "      <td>0.788516</td>\n",
       "      <td>-0.652322</td>\n",
       "      <td>-0.786903</td>\n",
       "      <td>0.787011</td>\n",
       "      <td>0.841468</td>\n",
       "      <td>0.762070</td>\n",
       "      <td>1.448983</td>\n",
       "      <td>0.788653</td>\n",
       "      <td>bilibili gaming</td>\n",
       "      <td>1.0</td>\n",
       "    </tr>\n",
       "    <tr>\n",
       "      <th>15479</th>\n",
       "      <td>1.575060</td>\n",
       "      <td>1.710992</td>\n",
       "      <td>-0.054923</td>\n",
       "      <td>0.039377</td>\n",
       "      <td>1.432416</td>\n",
       "      <td>-0.045812</td>\n",
       "      <td>0.039377</td>\n",
       "      <td>-0.043534</td>\n",
       "      <td>0.076855</td>\n",
       "      <td>1.192448</td>\n",
       "      <td>...</td>\n",
       "      <td>0.788516</td>\n",
       "      <td>-0.652322</td>\n",
       "      <td>-0.786903</td>\n",
       "      <td>0.787011</td>\n",
       "      <td>0.841468</td>\n",
       "      <td>0.762070</td>\n",
       "      <td>1.448983</td>\n",
       "      <td>0.788653</td>\n",
       "      <td>royal never give up</td>\n",
       "      <td>0.0</td>\n",
       "    </tr>\n",
       "    <tr>\n",
       "      <th>15480</th>\n",
       "      <td>1.575060</td>\n",
       "      <td>1.710992</td>\n",
       "      <td>0.430451</td>\n",
       "      <td>-0.271077</td>\n",
       "      <td>-0.739229</td>\n",
       "      <td>-0.106287</td>\n",
       "      <td>-0.271077</td>\n",
       "      <td>-0.043534</td>\n",
       "      <td>-0.364438</td>\n",
       "      <td>-0.925647</td>\n",
       "      <td>...</td>\n",
       "      <td>0.788516</td>\n",
       "      <td>-0.652322</td>\n",
       "      <td>-0.786903</td>\n",
       "      <td>0.787011</td>\n",
       "      <td>0.841468</td>\n",
       "      <td>0.762070</td>\n",
       "      <td>1.448983</td>\n",
       "      <td>0.788653</td>\n",
       "      <td>bilibili gaming</td>\n",
       "      <td>1.0</td>\n",
       "    </tr>\n",
       "    <tr>\n",
       "      <th>15481</th>\n",
       "      <td>1.575060</td>\n",
       "      <td>1.710992</td>\n",
       "      <td>0.430451</td>\n",
       "      <td>-0.736758</td>\n",
       "      <td>-0.273877</td>\n",
       "      <td>-0.711033</td>\n",
       "      <td>-0.736758</td>\n",
       "      <td>-0.043534</td>\n",
       "      <td>-0.773414</td>\n",
       "      <td>-0.925647</td>\n",
       "      <td>...</td>\n",
       "      <td>0.788516</td>\n",
       "      <td>-0.652322</td>\n",
       "      <td>-0.786903</td>\n",
       "      <td>0.787011</td>\n",
       "      <td>0.841468</td>\n",
       "      <td>0.762070</td>\n",
       "      <td>1.448983</td>\n",
       "      <td>0.788653</td>\n",
       "      <td>royal never give up</td>\n",
       "      <td>0.0</td>\n",
       "    </tr>\n",
       "    <tr>\n",
       "      <th>15482</th>\n",
       "      <td>1.575060</td>\n",
       "      <td>1.710992</td>\n",
       "      <td>-1.194798</td>\n",
       "      <td>0.039377</td>\n",
       "      <td>1.742651</td>\n",
       "      <td>0.014662</td>\n",
       "      <td>0.039377</td>\n",
       "      <td>-0.043534</td>\n",
       "      <td>0.509056</td>\n",
       "      <td>2.075159</td>\n",
       "      <td>...</td>\n",
       "      <td>0.788516</td>\n",
       "      <td>-0.652322</td>\n",
       "      <td>-0.786903</td>\n",
       "      <td>0.787011</td>\n",
       "      <td>0.841468</td>\n",
       "      <td>0.762070</td>\n",
       "      <td>1.448983</td>\n",
       "      <td>0.788653</td>\n",
       "      <td>rogue</td>\n",
       "      <td>0.0</td>\n",
       "    </tr>\n",
       "    <tr>\n",
       "      <th>15483</th>\n",
       "      <td>1.575060</td>\n",
       "      <td>1.710992</td>\n",
       "      <td>-1.194798</td>\n",
       "      <td>1.746875</td>\n",
       "      <td>0.036358</td>\n",
       "      <td>1.647478</td>\n",
       "      <td>1.746875</td>\n",
       "      <td>-0.043534</td>\n",
       "      <td>2.559409</td>\n",
       "      <td>2.075159</td>\n",
       "      <td>...</td>\n",
       "      <td>0.788516</td>\n",
       "      <td>-0.652322</td>\n",
       "      <td>-0.786903</td>\n",
       "      <td>0.787011</td>\n",
       "      <td>0.841468</td>\n",
       "      <td>0.762070</td>\n",
       "      <td>1.448983</td>\n",
       "      <td>0.788653</td>\n",
       "      <td>invictus gaming</td>\n",
       "      <td>1.0</td>\n",
       "    </tr>\n",
       "    <tr>\n",
       "      <th>15484</th>\n",
       "      <td>1.575060</td>\n",
       "      <td>1.710992</td>\n",
       "      <td>-1.502324</td>\n",
       "      <td>0.194605</td>\n",
       "      <td>3.759179</td>\n",
       "      <td>0.196086</td>\n",
       "      <td>0.194605</td>\n",
       "      <td>-0.043534</td>\n",
       "      <td>0.831299</td>\n",
       "      <td>3.465020</td>\n",
       "      <td>...</td>\n",
       "      <td>0.788516</td>\n",
       "      <td>-0.652322</td>\n",
       "      <td>-0.786903</td>\n",
       "      <td>0.787011</td>\n",
       "      <td>0.841468</td>\n",
       "      <td>0.762070</td>\n",
       "      <td>1.448983</td>\n",
       "      <td>0.788653</td>\n",
       "      <td>rogue</td>\n",
       "      <td>0.0</td>\n",
       "    </tr>\n",
       "    <tr>\n",
       "      <th>15485</th>\n",
       "      <td>1.575060</td>\n",
       "      <td>1.710992</td>\n",
       "      <td>-1.502324</td>\n",
       "      <td>3.764827</td>\n",
       "      <td>0.191476</td>\n",
       "      <td>3.401242</td>\n",
       "      <td>3.764827</td>\n",
       "      <td>-0.043534</td>\n",
       "      <td>5.358748</td>\n",
       "      <td>3.465020</td>\n",
       "      <td>...</td>\n",
       "      <td>0.788516</td>\n",
       "      <td>-0.652322</td>\n",
       "      <td>-0.786903</td>\n",
       "      <td>0.787011</td>\n",
       "      <td>0.841468</td>\n",
       "      <td>0.762070</td>\n",
       "      <td>1.448983</td>\n",
       "      <td>0.788653</td>\n",
       "      <td>invictus gaming</td>\n",
       "      <td>1.0</td>\n",
       "    </tr>\n",
       "    <tr>\n",
       "      <th>15486</th>\n",
       "      <td>1.575060</td>\n",
       "      <td>1.710992</td>\n",
       "      <td>0.604923</td>\n",
       "      <td>-1.047212</td>\n",
       "      <td>1.897769</td>\n",
       "      <td>-1.134356</td>\n",
       "      <td>-1.047212</td>\n",
       "      <td>-0.043534</td>\n",
       "      <td>-1.070399</td>\n",
       "      <td>0.405426</td>\n",
       "      <td>...</td>\n",
       "      <td>0.788516</td>\n",
       "      <td>-0.652322</td>\n",
       "      <td>-0.786903</td>\n",
       "      <td>0.787011</td>\n",
       "      <td>0.841468</td>\n",
       "      <td>0.762070</td>\n",
       "      <td>1.448983</td>\n",
       "      <td>0.788653</td>\n",
       "      <td>rogue</td>\n",
       "      <td>0.0</td>\n",
       "    </tr>\n",
       "    <tr>\n",
       "      <th>15487</th>\n",
       "      <td>1.575060</td>\n",
       "      <td>1.710992</td>\n",
       "      <td>0.604923</td>\n",
       "      <td>1.902102</td>\n",
       "      <td>-1.049465</td>\n",
       "      <td>0.619409</td>\n",
       "      <td>1.902102</td>\n",
       "      <td>-0.043534</td>\n",
       "      <td>1.427321</td>\n",
       "      <td>0.405426</td>\n",
       "      <td>...</td>\n",
       "      <td>0.788516</td>\n",
       "      <td>-0.652322</td>\n",
       "      <td>-0.786903</td>\n",
       "      <td>0.787011</td>\n",
       "      <td>0.841468</td>\n",
       "      <td>0.762070</td>\n",
       "      <td>1.448983</td>\n",
       "      <td>0.788653</td>\n",
       "      <td>vici gaming</td>\n",
       "      <td>1.0</td>\n",
       "    </tr>\n",
       "    <tr>\n",
       "      <th>15488</th>\n",
       "      <td>1.575060</td>\n",
       "      <td>1.710992</td>\n",
       "      <td>0.319402</td>\n",
       "      <td>-0.271077</td>\n",
       "      <td>0.967063</td>\n",
       "      <td>-0.650559</td>\n",
       "      <td>-0.271077</td>\n",
       "      <td>-0.043534</td>\n",
       "      <td>-0.332954</td>\n",
       "      <td>0.474863</td>\n",
       "      <td>...</td>\n",
       "      <td>0.788516</td>\n",
       "      <td>-0.652322</td>\n",
       "      <td>-0.786903</td>\n",
       "      <td>0.787011</td>\n",
       "      <td>0.841468</td>\n",
       "      <td>0.762070</td>\n",
       "      <td>1.448983</td>\n",
       "      <td>0.788653</td>\n",
       "      <td>vici gaming</td>\n",
       "      <td>0.0</td>\n",
       "    </tr>\n",
       "    <tr>\n",
       "      <th>15489</th>\n",
       "      <td>1.575060</td>\n",
       "      <td>1.710992</td>\n",
       "      <td>0.319402</td>\n",
       "      <td>0.970740</td>\n",
       "      <td>-0.273877</td>\n",
       "      <td>0.982257</td>\n",
       "      <td>0.970740</td>\n",
       "      <td>-0.043534</td>\n",
       "      <td>0.782838</td>\n",
       "      <td>0.474863</td>\n",
       "      <td>...</td>\n",
       "      <td>0.788516</td>\n",
       "      <td>-0.652322</td>\n",
       "      <td>-0.786903</td>\n",
       "      <td>0.787011</td>\n",
       "      <td>0.841468</td>\n",
       "      <td>0.762070</td>\n",
       "      <td>1.448983</td>\n",
       "      <td>0.788653</td>\n",
       "      <td>rogue</td>\n",
       "      <td>1.0</td>\n",
       "    </tr>\n",
       "    <tr>\n",
       "      <th>15490</th>\n",
       "      <td>1.575060</td>\n",
       "      <td>1.710992</td>\n",
       "      <td>-0.175334</td>\n",
       "      <td>0.039377</td>\n",
       "      <td>0.967063</td>\n",
       "      <td>-0.045812</td>\n",
       "      <td>0.039377</td>\n",
       "      <td>-0.043534</td>\n",
       "      <td>0.120105</td>\n",
       "      <td>0.972668</td>\n",
       "      <td>...</td>\n",
       "      <td>0.788516</td>\n",
       "      <td>-0.652322</td>\n",
       "      <td>-0.786903</td>\n",
       "      <td>0.787011</td>\n",
       "      <td>0.841468</td>\n",
       "      <td>0.762070</td>\n",
       "      <td>1.448983</td>\n",
       "      <td>0.788653</td>\n",
       "      <td>vici gaming</td>\n",
       "      <td>0.0</td>\n",
       "    </tr>\n",
       "    <tr>\n",
       "      <th>15491</th>\n",
       "      <td>1.575060</td>\n",
       "      <td>1.710992</td>\n",
       "      <td>-0.175334</td>\n",
       "      <td>0.970740</td>\n",
       "      <td>0.036358</td>\n",
       "      <td>0.740358</td>\n",
       "      <td>0.970740</td>\n",
       "      <td>-0.043534</td>\n",
       "      <td>1.044005</td>\n",
       "      <td>0.972668</td>\n",
       "      <td>...</td>\n",
       "      <td>0.788516</td>\n",
       "      <td>-0.652322</td>\n",
       "      <td>-0.786903</td>\n",
       "      <td>0.787011</td>\n",
       "      <td>0.841468</td>\n",
       "      <td>0.762070</td>\n",
       "      <td>1.448983</td>\n",
       "      <td>0.788653</td>\n",
       "      <td>rogue</td>\n",
       "      <td>1.0</td>\n",
       "    </tr>\n",
       "    <tr>\n",
       "      <th>15492</th>\n",
       "      <td>1.575060</td>\n",
       "      <td>1.710992</td>\n",
       "      <td>-0.690222</td>\n",
       "      <td>1.902102</td>\n",
       "      <td>0.036358</td>\n",
       "      <td>1.889376</td>\n",
       "      <td>1.902102</td>\n",
       "      <td>-0.043534</td>\n",
       "      <td>2.350566</td>\n",
       "      <td>1.861233</td>\n",
       "      <td>...</td>\n",
       "      <td>0.788516</td>\n",
       "      <td>-0.652322</td>\n",
       "      <td>-0.786903</td>\n",
       "      <td>0.787011</td>\n",
       "      <td>0.841468</td>\n",
       "      <td>0.762070</td>\n",
       "      <td>1.448983</td>\n",
       "      <td>0.788653</td>\n",
       "      <td>funplus phoenix</td>\n",
       "      <td>1.0</td>\n",
       "    </tr>\n",
       "    <tr>\n",
       "      <th>15493</th>\n",
       "      <td>1.575060</td>\n",
       "      <td>1.710992</td>\n",
       "      <td>-0.690222</td>\n",
       "      <td>0.039377</td>\n",
       "      <td>1.897769</td>\n",
       "      <td>-0.166762</td>\n",
       "      <td>0.039377</td>\n",
       "      <td>-0.043534</td>\n",
       "      <td>0.311436</td>\n",
       "      <td>1.861233</td>\n",
       "      <td>...</td>\n",
       "      <td>0.788516</td>\n",
       "      <td>-0.652322</td>\n",
       "      <td>-0.786903</td>\n",
       "      <td>0.787011</td>\n",
       "      <td>0.841468</td>\n",
       "      <td>0.762070</td>\n",
       "      <td>1.448983</td>\n",
       "      <td>0.788653</td>\n",
       "      <td>top esports</td>\n",
       "      <td>0.0</td>\n",
       "    </tr>\n",
       "    <tr>\n",
       "      <th>15494</th>\n",
       "      <td>1.575060</td>\n",
       "      <td>1.710992</td>\n",
       "      <td>0.510316</td>\n",
       "      <td>2.678237</td>\n",
       "      <td>0.501711</td>\n",
       "      <td>1.405579</td>\n",
       "      <td>2.678237</td>\n",
       "      <td>-0.043534</td>\n",
       "      <td>2.160794</td>\n",
       "      <td>1.742526</td>\n",
       "      <td>...</td>\n",
       "      <td>0.788516</td>\n",
       "      <td>-0.652322</td>\n",
       "      <td>-0.786903</td>\n",
       "      <td>0.787011</td>\n",
       "      <td>0.841468</td>\n",
       "      <td>0.762070</td>\n",
       "      <td>1.448983</td>\n",
       "      <td>0.788653</td>\n",
       "      <td>funplus phoenix</td>\n",
       "      <td>1.0</td>\n",
       "    </tr>\n",
       "    <tr>\n",
       "      <th>15495</th>\n",
       "      <td>1.575060</td>\n",
       "      <td>1.710992</td>\n",
       "      <td>0.510316</td>\n",
       "      <td>0.505059</td>\n",
       "      <td>2.673356</td>\n",
       "      <td>0.256561</td>\n",
       "      <td>0.505059</td>\n",
       "      <td>-0.043534</td>\n",
       "      <td>0.283593</td>\n",
       "      <td>1.742526</td>\n",
       "      <td>...</td>\n",
       "      <td>0.788516</td>\n",
       "      <td>-0.652322</td>\n",
       "      <td>-0.786903</td>\n",
       "      <td>0.787011</td>\n",
       "      <td>0.841468</td>\n",
       "      <td>0.762070</td>\n",
       "      <td>1.448983</td>\n",
       "      <td>0.788653</td>\n",
       "      <td>top esports</td>\n",
       "      <td>0.0</td>\n",
       "    </tr>\n",
       "    <tr>\n",
       "      <th>15496</th>\n",
       "      <td>1.575060</td>\n",
       "      <td>1.710992</td>\n",
       "      <td>-2.676426</td>\n",
       "      <td>-1.202439</td>\n",
       "      <td>1.122181</td>\n",
       "      <td>-1.315780</td>\n",
       "      <td>-1.202439</td>\n",
       "      <td>-0.043534</td>\n",
       "      <td>-0.769087</td>\n",
       "      <td>1.523050</td>\n",
       "      <td>...</td>\n",
       "      <td>0.788516</td>\n",
       "      <td>-0.652322</td>\n",
       "      <td>-0.786903</td>\n",
       "      <td>0.787011</td>\n",
       "      <td>0.841468</td>\n",
       "      <td>0.762070</td>\n",
       "      <td>1.448983</td>\n",
       "      <td>0.788653</td>\n",
       "      <td>omg</td>\n",
       "      <td>0.0</td>\n",
       "    </tr>\n",
       "    <tr>\n",
       "      <th>15497</th>\n",
       "      <td>1.575060</td>\n",
       "      <td>1.710992</td>\n",
       "      <td>-2.676426</td>\n",
       "      <td>1.125967</td>\n",
       "      <td>-1.204582</td>\n",
       "      <td>0.861307</td>\n",
       "      <td>1.125967</td>\n",
       "      <td>-0.043534</td>\n",
       "      <td>2.825689</td>\n",
       "      <td>1.523050</td>\n",
       "      <td>...</td>\n",
       "      <td>0.788516</td>\n",
       "      <td>-0.652322</td>\n",
       "      <td>-0.786903</td>\n",
       "      <td>0.787011</td>\n",
       "      <td>0.841468</td>\n",
       "      <td>0.762070</td>\n",
       "      <td>1.448983</td>\n",
       "      <td>0.788653</td>\n",
       "      <td>top esports</td>\n",
       "      <td>1.0</td>\n",
       "    </tr>\n",
       "    <tr>\n",
       "      <th>15498</th>\n",
       "      <td>1.575060</td>\n",
       "      <td>1.710992</td>\n",
       "      <td>-1.327692</td>\n",
       "      <td>1.125967</td>\n",
       "      <td>-1.049465</td>\n",
       "      <td>0.196086</td>\n",
       "      <td>1.125967</td>\n",
       "      <td>-0.043534</td>\n",
       "      <td>1.898894</td>\n",
       "      <td>0.947255</td>\n",
       "      <td>...</td>\n",
       "      <td>0.788516</td>\n",
       "      <td>-0.652322</td>\n",
       "      <td>-0.786903</td>\n",
       "      <td>0.787011</td>\n",
       "      <td>0.841468</td>\n",
       "      <td>0.762070</td>\n",
       "      <td>1.448983</td>\n",
       "      <td>0.788653</td>\n",
       "      <td>top esports</td>\n",
       "      <td>1.0</td>\n",
       "    </tr>\n",
       "    <tr>\n",
       "      <th>15499</th>\n",
       "      <td>1.575060</td>\n",
       "      <td>1.710992</td>\n",
       "      <td>-1.327692</td>\n",
       "      <td>-1.047212</td>\n",
       "      <td>1.122181</td>\n",
       "      <td>-1.194830</td>\n",
       "      <td>-1.047212</td>\n",
       "      <td>-0.043534</td>\n",
       "      <td>-0.773328</td>\n",
       "      <td>0.947255</td>\n",
       "      <td>...</td>\n",
       "      <td>0.788516</td>\n",
       "      <td>-0.652322</td>\n",
       "      <td>-0.786903</td>\n",
       "      <td>0.787011</td>\n",
       "      <td>0.841468</td>\n",
       "      <td>0.762070</td>\n",
       "      <td>1.448983</td>\n",
       "      <td>0.788653</td>\n",
       "      <td>omg</td>\n",
       "      <td>0.0</td>\n",
       "    </tr>\n",
       "    <tr>\n",
       "      <th>15500</th>\n",
       "      <td>1.575060</td>\n",
       "      <td>1.710992</td>\n",
       "      <td>-1.472673</td>\n",
       "      <td>-1.202439</td>\n",
       "      <td>0.967063</td>\n",
       "      <td>-1.134356</td>\n",
       "      <td>-1.202439</td>\n",
       "      <td>-0.043534</td>\n",
       "      <td>-0.944396</td>\n",
       "      <td>0.762898</td>\n",
       "      <td>...</td>\n",
       "      <td>0.788516</td>\n",
       "      <td>-0.652322</td>\n",
       "      <td>-0.786903</td>\n",
       "      <td>0.787011</td>\n",
       "      <td>0.841468</td>\n",
       "      <td>0.762070</td>\n",
       "      <td>1.448983</td>\n",
       "      <td>0.788653</td>\n",
       "      <td>victory five</td>\n",
       "      <td>0.0</td>\n",
       "    </tr>\n",
       "    <tr>\n",
       "      <th>15501</th>\n",
       "      <td>1.575060</td>\n",
       "      <td>1.710992</td>\n",
       "      <td>-1.472673</td>\n",
       "      <td>0.970740</td>\n",
       "      <td>-1.204582</td>\n",
       "      <td>1.768427</td>\n",
       "      <td>0.970740</td>\n",
       "      <td>-0.043534</td>\n",
       "      <td>1.797145</td>\n",
       "      <td>0.762898</td>\n",
       "      <td>...</td>\n",
       "      <td>0.788516</td>\n",
       "      <td>-0.652322</td>\n",
       "      <td>-0.786903</td>\n",
       "      <td>0.787011</td>\n",
       "      <td>0.841468</td>\n",
       "      <td>0.762070</td>\n",
       "      <td>1.448983</td>\n",
       "      <td>0.788653</td>\n",
       "      <td>team we</td>\n",
       "      <td>1.0</td>\n",
       "    </tr>\n",
       "    <tr>\n",
       "      <th>15502</th>\n",
       "      <td>1.575060</td>\n",
       "      <td>1.710992</td>\n",
       "      <td>-1.053073</td>\n",
       "      <td>0.660286</td>\n",
       "      <td>2.828474</td>\n",
       "      <td>0.377510</td>\n",
       "      <td>0.660286</td>\n",
       "      <td>-0.043534</td>\n",
       "      <td>1.179273</td>\n",
       "      <td>2.937193</td>\n",
       "      <td>...</td>\n",
       "      <td>0.788516</td>\n",
       "      <td>-0.652322</td>\n",
       "      <td>-0.786903</td>\n",
       "      <td>0.787011</td>\n",
       "      <td>0.841468</td>\n",
       "      <td>0.762070</td>\n",
       "      <td>1.448983</td>\n",
       "      <td>0.788653</td>\n",
       "      <td>victory five</td>\n",
       "      <td>0.0</td>\n",
       "    </tr>\n",
       "    <tr>\n",
       "      <th>15503</th>\n",
       "      <td>1.575060</td>\n",
       "      <td>1.710992</td>\n",
       "      <td>-1.053073</td>\n",
       "      <td>2.833464</td>\n",
       "      <td>0.656828</td>\n",
       "      <td>3.461717</td>\n",
       "      <td>2.833464</td>\n",
       "      <td>-0.043534</td>\n",
       "      <td>3.722868</td>\n",
       "      <td>2.937193</td>\n",
       "      <td>...</td>\n",
       "      <td>0.788516</td>\n",
       "      <td>-0.652322</td>\n",
       "      <td>-0.786903</td>\n",
       "      <td>0.787011</td>\n",
       "      <td>0.841468</td>\n",
       "      <td>0.762070</td>\n",
       "      <td>1.448983</td>\n",
       "      <td>0.788653</td>\n",
       "      <td>team we</td>\n",
       "      <td>1.0</td>\n",
       "    </tr>\n",
       "  </tbody>\n",
       "</table>\n",
       "<p>15504 rows × 74 columns</p>\n",
       "</div>"
      ],
      "text/plain": [
       "          split   patchno  gamelength         k         d         a  \\\n",
       "0     -0.422616 -1.035387    0.840738 -0.115850  0.036358 -0.287711   \n",
       "1     -0.422616 -1.035387    0.840738  0.039377 -0.118759  0.317035   \n",
       "2     -0.422616 -1.035387   -0.687216 -1.047212  0.656828 -1.255305   \n",
       "3     -0.422616 -1.035387   -0.687216  0.660286 -1.049465  0.377510   \n",
       "4     -0.422616 -1.035387    0.730958  0.660286 -0.584112  1.163680   \n",
       "5     -0.422616 -1.035387    0.730958 -0.581531  0.656828 -0.952932   \n",
       "6     -0.422616 -1.035387    0.629699  1.281194 -0.739229  0.679883   \n",
       "7     -0.422616 -1.035387    0.629699 -0.736758  1.277298 -0.771508   \n",
       "8     -0.422616 -1.035387   -0.246415 -1.357666  0.036358 -1.315780   \n",
       "9     -0.422616 -1.035387   -0.246415  0.039377 -1.359700  0.135612   \n",
       "10    -0.422616 -1.035387    1.138577  0.505059 -1.049465  0.135612   \n",
       "11    -0.422616 -1.035387    1.138577 -1.047212  0.501711 -0.892457   \n",
       "12    -0.422616 -1.035387    1.777293  0.660286 -0.118759  0.498459   \n",
       "13    -0.422616 -1.035387    1.777293 -0.115850  0.656828 -0.227236   \n",
       "14    -0.422616 -1.035387   -0.657299 -1.202439  1.277298 -1.134356   \n",
       "15    -0.422616 -1.035387   -0.657299  1.281194 -1.204582  0.921782   \n",
       "16    -0.422616 -1.035387    1.250563  0.039377 -0.739229  0.377510   \n",
       "17    -0.422616 -1.035387    1.250563 -0.736758  0.036358 -0.771508   \n",
       "18    -0.422616 -1.035387   -1.848056 -0.736758  2.363121 -1.134356   \n",
       "19    -0.422616 -1.035387   -1.848056  2.367783 -0.739229  1.103206   \n",
       "20    -0.422616 -1.035387   -0.177941  0.194605 -0.739229 -0.348186   \n",
       "21    -0.422616 -1.035387   -0.177941 -0.736758  0.191476 -1.073881   \n",
       "22    -0.422616 -1.035387    0.516708  0.505059 -0.894347  0.196086   \n",
       "23    -0.422616 -1.035387    0.516708 -0.891985  0.501711 -1.013407   \n",
       "24    -0.422616 -1.035387    0.525212 -0.426304  0.346593  0.075137   \n",
       "25    -0.422616 -1.035387    0.525212  0.349832 -0.428994  0.377510   \n",
       "26    -0.422616 -1.035387   -0.834288 -0.271077 -1.669935 -0.045812   \n",
       "27    -0.422616 -1.035387   -0.834288 -1.668120 -0.273877 -1.497204   \n",
       "28    -0.422616 -1.035387    0.983960  0.815513 -1.049465  0.800833   \n",
       "29    -0.422616 -1.035387    0.983960 -1.047212  0.811946 -0.952932   \n",
       "...         ...       ...         ...       ...       ...       ...   \n",
       "15474  1.575060  1.710992   -0.980891  2.367783 -0.584112  1.768427   \n",
       "15475  1.575060  1.710992   -0.980891 -0.736758  2.363121 -0.892457   \n",
       "15476  1.575060  1.710992    0.174070  0.349832  1.587534  0.740358   \n",
       "15477  1.575060  1.710992    0.174070  1.591648  0.346593  1.587003   \n",
       "15478  1.575060  1.710992   -0.054923  1.436421  0.036358  0.861307   \n",
       "15479  1.575060  1.710992   -0.054923  0.039377  1.432416 -0.045812   \n",
       "15480  1.575060  1.710992    0.430451 -0.271077 -0.739229 -0.106287   \n",
       "15481  1.575060  1.710992    0.430451 -0.736758 -0.273877 -0.711033   \n",
       "15482  1.575060  1.710992   -1.194798  0.039377  1.742651  0.014662   \n",
       "15483  1.575060  1.710992   -1.194798  1.746875  0.036358  1.647478   \n",
       "15484  1.575060  1.710992   -1.502324  0.194605  3.759179  0.196086   \n",
       "15485  1.575060  1.710992   -1.502324  3.764827  0.191476  3.401242   \n",
       "15486  1.575060  1.710992    0.604923 -1.047212  1.897769 -1.134356   \n",
       "15487  1.575060  1.710992    0.604923  1.902102 -1.049465  0.619409   \n",
       "15488  1.575060  1.710992    0.319402 -0.271077  0.967063 -0.650559   \n",
       "15489  1.575060  1.710992    0.319402  0.970740 -0.273877  0.982257   \n",
       "15490  1.575060  1.710992   -0.175334  0.039377  0.967063 -0.045812   \n",
       "15491  1.575060  1.710992   -0.175334  0.970740  0.036358  0.740358   \n",
       "15492  1.575060  1.710992   -0.690222  1.902102  0.036358  1.889376   \n",
       "15493  1.575060  1.710992   -0.690222  0.039377  1.897769 -0.166762   \n",
       "15494  1.575060  1.710992    0.510316  2.678237  0.501711  1.405579   \n",
       "15495  1.575060  1.710992    0.510316  0.505059  2.673356  0.256561   \n",
       "15496  1.575060  1.710992   -2.676426 -1.202439  1.122181 -1.315780   \n",
       "15497  1.575060  1.710992   -2.676426  1.125967 -1.204582  0.861307   \n",
       "15498  1.575060  1.710992   -1.327692  1.125967 -1.049465  0.196086   \n",
       "15499  1.575060  1.710992   -1.327692 -1.047212  1.122181 -1.194830   \n",
       "15500  1.575060  1.710992   -1.472673 -1.202439  0.967063 -1.134356   \n",
       "15501  1.575060  1.710992   -1.472673  0.970740 -1.204582  1.768427   \n",
       "15502  1.575060  1.710992   -1.053073  0.660286  2.828474  0.377510   \n",
       "15503  1.575060  1.710992   -1.053073  2.833464  0.656828  3.461717   \n",
       "\n",
       "       teamkills    fbtime       kpm      ckpm  ...  Encoded_fd  \\\n",
       "0      -0.115850  0.672295 -0.352301 -0.371969  ...    0.788516   \n",
       "1       0.039377  0.672295 -0.227265 -0.371969  ...   -1.268205   \n",
       "2      -1.047212 -0.210837 -0.878534  0.215818  ...   -1.268205   \n",
       "3       0.660286 -0.210837  0.989617  0.215818  ...    0.788516   \n",
       "4       0.660286 -0.043565  0.320369 -0.195562  ...    0.788516   \n",
       "5      -0.581531 -0.043565 -0.703662 -0.195562  ...   -1.268205   \n",
       "6       1.281194  0.990526  0.887821  0.187658  ...    0.788516   \n",
       "7      -0.736758  0.990526 -0.812263  0.187658  ...   -1.268205   \n",
       "8      -1.357666  0.943241 -1.259295 -0.899509  ...   -1.268205   \n",
       "9       0.039377  0.943241  0.145902 -0.899509  ...    0.788516   \n",
       "10      0.505059  0.431434  0.029938 -0.897897  ...    0.788516   \n",
       "11     -1.047212  0.431434 -1.141816 -0.897897  ...   -1.268205   \n",
       "12      0.660286  1.671396 -0.107513 -0.504778  ...    0.788516   \n",
       "13     -0.115850  1.671396 -0.613819 -0.504778  ...   -1.268205   \n",
       "14     -1.202439 -1.454982 -1.052165  0.582954  ...   -1.268205   \n",
       "15      1.281194 -1.454982  1.649948  0.582954  ...    0.788516   \n",
       "16      0.039377  0.062060 -0.356182 -1.085851  ...   -1.268205   \n",
       "17     -0.736758  0.062060 -0.927645 -1.085851  ...    0.788516   \n",
       "18     -0.736758 -1.153851 -0.264906  2.365151  ...   -1.268205   \n",
       "19      2.367783 -1.153851  3.914487  2.365151  ...    0.788516   \n",
       "20      0.194605 -0.234918  0.275110 -0.187541  ...    0.788516   \n",
       "21     -0.736758 -0.234918 -0.649261 -0.187541  ...   -1.268205   \n",
       "22      0.505059  0.273463  0.280917 -0.431117  ...   -1.268205   \n",
       "23     -0.891985  0.273463 -0.924249 -0.431117  ...    0.788516   \n",
       "24     -0.426304 -1.149488 -0.524661 -0.193522  ...   -1.268205   \n",
       "25      0.349832 -1.149488  0.143690 -0.193522  ...    0.788516   \n",
       "26     -0.271077  0.164158  0.017747 -1.380898  ...    0.788516   \n",
       "27     -1.668120  0.164158 -1.553149 -1.380898  ...   -1.268205   \n",
       "28      0.815513  1.153921  0.333061 -0.569441  ...    0.788516   \n",
       "29     -1.047212  1.153921 -1.121589 -0.569441  ...   -1.268205   \n",
       "...          ...       ...       ...       ...  ...         ...   \n",
       "15474   2.367783 -0.043534  3.113726  1.850025  ...    0.788516   \n",
       "15475  -0.736758 -0.043534 -0.472511  1.850025  ...    0.788516   \n",
       "15476   0.349832 -0.043534  0.283465  1.321145  ...    0.788516   \n",
       "15477   1.591648 -0.043534  1.432699  1.321145  ...    0.788516   \n",
       "15478   1.436421 -0.043534  1.430267  1.192448  ...    0.788516   \n",
       "15479   0.039377 -0.043534  0.076855  1.192448  ...    0.788516   \n",
       "15480  -0.271077 -0.043534 -0.364438 -0.925647  ...    0.788516   \n",
       "15481  -0.736758 -0.043534 -0.773414 -0.925647  ...    0.788516   \n",
       "15482   0.039377 -0.043534  0.509056  2.075159  ...    0.788516   \n",
       "15483   1.746875 -0.043534  2.559409  2.075159  ...    0.788516   \n",
       "15484   0.194605 -0.043534  0.831299  3.465020  ...    0.788516   \n",
       "15485   3.764827 -0.043534  5.358748  3.465020  ...    0.788516   \n",
       "15486  -1.047212 -0.043534 -1.070399  0.405426  ...    0.788516   \n",
       "15487   1.902102 -0.043534  1.427321  0.405426  ...    0.788516   \n",
       "15488  -0.271077 -0.043534 -0.332954  0.474863  ...    0.788516   \n",
       "15489   0.970740 -0.043534  0.782838  0.474863  ...    0.788516   \n",
       "15490   0.039377 -0.043534  0.120105  0.972668  ...    0.788516   \n",
       "15491   0.970740 -0.043534  1.044005  0.972668  ...    0.788516   \n",
       "15492   1.902102 -0.043534  2.350566  1.861233  ...    0.788516   \n",
       "15493   0.039377 -0.043534  0.311436  1.861233  ...    0.788516   \n",
       "15494   2.678237 -0.043534  2.160794  1.742526  ...    0.788516   \n",
       "15495   0.505059 -0.043534  0.283593  1.742526  ...    0.788516   \n",
       "15496  -1.202439 -0.043534 -0.769087  1.523050  ...    0.788516   \n",
       "15497   1.125967 -0.043534  2.825689  1.523050  ...    0.788516   \n",
       "15498   1.125967 -0.043534  1.898894  0.947255  ...    0.788516   \n",
       "15499  -1.047212 -0.043534 -0.773328  0.947255  ...    0.788516   \n",
       "15500  -1.202439 -0.043534 -0.944396  0.762898  ...    0.788516   \n",
       "15501   0.970740 -0.043534  1.797145  0.762898  ...    0.788516   \n",
       "15502   0.660286 -0.043534  1.179273  2.937193  ...    0.788516   \n",
       "15503   2.833464 -0.043534  3.722868  2.937193  ...    0.788516   \n",
       "\n",
       "       Encoded_herald  Encoded_ft  Encoded_firstmidouter  \\\n",
       "0           -0.652322   -0.786903               0.787011   \n",
       "1           -0.652322    1.270804              -1.270631   \n",
       "2           -0.652322   -0.786903              -1.270631   \n",
       "3           -0.652322    1.270804               0.787011   \n",
       "4           -0.652322   -0.786903              -1.270631   \n",
       "5           -0.652322    1.270804               0.787011   \n",
       "6           -0.652322   -0.786903               0.787011   \n",
       "7           -0.652322    1.270804              -1.270631   \n",
       "8            1.532985   -0.786903              -1.270631   \n",
       "9           -0.652322    1.270804               0.787011   \n",
       "10           1.532985    1.270804               0.787011   \n",
       "11          -0.652322   -0.786903              -1.270631   \n",
       "12          -0.652322    1.270804               0.787011   \n",
       "13          -0.652322   -0.786903              -1.270631   \n",
       "14          -0.652322    1.270804              -1.270631   \n",
       "15           1.532985   -0.786903               0.787011   \n",
       "16           1.532985   -0.786903               0.787011   \n",
       "17          -0.652322    1.270804              -1.270631   \n",
       "18          -0.652322   -0.786903              -1.270631   \n",
       "19           1.532985    1.270804               0.787011   \n",
       "20           1.532985    1.270804              -1.270631   \n",
       "21          -0.652322   -0.786903               0.787011   \n",
       "22           1.532985    1.270804               0.787011   \n",
       "23          -0.652322   -0.786903              -1.270631   \n",
       "24          -0.652322    1.270804              -1.270631   \n",
       "25           1.532985   -0.786903               0.787011   \n",
       "26           1.532985    1.270804               0.787011   \n",
       "27          -0.652322   -0.786903              -1.270631   \n",
       "28          -0.652322    1.270804              -1.270631   \n",
       "29           1.532985   -0.786903               0.787011   \n",
       "...               ...         ...                    ...   \n",
       "15474       -0.652322   -0.786903               0.787011   \n",
       "15475       -0.652322   -0.786903               0.787011   \n",
       "15476       -0.652322   -0.786903               0.787011   \n",
       "15477       -0.652322   -0.786903               0.787011   \n",
       "15478       -0.652322   -0.786903               0.787011   \n",
       "15479       -0.652322   -0.786903               0.787011   \n",
       "15480       -0.652322   -0.786903               0.787011   \n",
       "15481       -0.652322   -0.786903               0.787011   \n",
       "15482       -0.652322   -0.786903               0.787011   \n",
       "15483       -0.652322   -0.786903               0.787011   \n",
       "15484       -0.652322   -0.786903               0.787011   \n",
       "15485       -0.652322   -0.786903               0.787011   \n",
       "15486       -0.652322   -0.786903               0.787011   \n",
       "15487       -0.652322   -0.786903               0.787011   \n",
       "15488       -0.652322   -0.786903               0.787011   \n",
       "15489       -0.652322   -0.786903               0.787011   \n",
       "15490       -0.652322   -0.786903               0.787011   \n",
       "15491       -0.652322   -0.786903               0.787011   \n",
       "15492       -0.652322   -0.786903               0.787011   \n",
       "15493       -0.652322   -0.786903               0.787011   \n",
       "15494       -0.652322   -0.786903               0.787011   \n",
       "15495       -0.652322   -0.786903               0.787011   \n",
       "15496       -0.652322   -0.786903               0.787011   \n",
       "15497       -0.652322   -0.786903               0.787011   \n",
       "15498       -0.652322   -0.786903               0.787011   \n",
       "15499       -0.652322   -0.786903               0.787011   \n",
       "15500       -0.652322   -0.786903               0.787011   \n",
       "15501       -0.652322   -0.786903               0.787011   \n",
       "15502       -0.652322   -0.786903               0.787011   \n",
       "15503       -0.652322   -0.786903               0.787011   \n",
       "\n",
       "       Encoded_firsttothreetowers  Encoded_fbaron  Encoded_Year  \\\n",
       "0                       -1.295926       -1.312216     -1.083144   \n",
       "1                        0.841468        0.762070     -1.083144   \n",
       "2                       -1.295926       -1.312216     -1.083144   \n",
       "3                        0.841468        0.762070     -1.083144   \n",
       "4                        0.841468       -1.312216     -1.083144   \n",
       "5                       -1.295926        0.762070     -1.083144   \n",
       "6                        0.841468        0.762070     -1.083144   \n",
       "7                       -1.295926       -1.312216     -1.083144   \n",
       "8                        0.841468       -1.312216     -1.083144   \n",
       "9                       -1.295926        0.762070     -1.083144   \n",
       "10                       0.841468        0.762070     -1.083144   \n",
       "11                      -1.295926       -1.312216     -1.083144   \n",
       "12                       0.841468       -1.312216     -1.083144   \n",
       "13                      -1.295926        0.762070     -1.083144   \n",
       "14                      -1.295926       -1.312216     -1.083144   \n",
       "15                       0.841468        0.762070     -1.083144   \n",
       "16                      -1.295926        0.762070     -1.083144   \n",
       "17                       0.841468       -1.312216     -1.083144   \n",
       "18                      -1.295926       -1.312216     -1.083144   \n",
       "19                       0.841468        0.762070     -1.083144   \n",
       "20                       0.841468        0.762070     -1.083144   \n",
       "21                      -1.295926       -1.312216     -1.083144   \n",
       "22                       0.841468        0.762070     -1.083144   \n",
       "23                      -1.295926       -1.312216     -1.083144   \n",
       "24                      -1.295926       -1.312216     -1.083144   \n",
       "25                       0.841468        0.762070     -1.083144   \n",
       "26                       0.841468        0.762070     -1.083144   \n",
       "27                      -1.295926       -1.312216     -1.083144   \n",
       "28                       0.841468        0.762070     -1.083144   \n",
       "29                      -1.295926       -1.312216     -1.083144   \n",
       "...                           ...             ...           ...   \n",
       "15474                    0.841468        0.762070      1.448983   \n",
       "15475                    0.841468        0.762070      1.448983   \n",
       "15476                    0.841468        0.762070      1.448983   \n",
       "15477                    0.841468        0.762070      1.448983   \n",
       "15478                    0.841468        0.762070      1.448983   \n",
       "15479                    0.841468        0.762070      1.448983   \n",
       "15480                    0.841468        0.762070      1.448983   \n",
       "15481                    0.841468        0.762070      1.448983   \n",
       "15482                    0.841468        0.762070      1.448983   \n",
       "15483                    0.841468        0.762070      1.448983   \n",
       "15484                    0.841468        0.762070      1.448983   \n",
       "15485                    0.841468        0.762070      1.448983   \n",
       "15486                    0.841468        0.762070      1.448983   \n",
       "15487                    0.841468        0.762070      1.448983   \n",
       "15488                    0.841468        0.762070      1.448983   \n",
       "15489                    0.841468        0.762070      1.448983   \n",
       "15490                    0.841468        0.762070      1.448983   \n",
       "15491                    0.841468        0.762070      1.448983   \n",
       "15492                    0.841468        0.762070      1.448983   \n",
       "15493                    0.841468        0.762070      1.448983   \n",
       "15494                    0.841468        0.762070      1.448983   \n",
       "15495                    0.841468        0.762070      1.448983   \n",
       "15496                    0.841468        0.762070      1.448983   \n",
       "15497                    0.841468        0.762070      1.448983   \n",
       "15498                    0.841468        0.762070      1.448983   \n",
       "15499                    0.841468        0.762070      1.448983   \n",
       "15500                    0.841468        0.762070      1.448983   \n",
       "15501                    0.841468        0.762070      1.448983   \n",
       "15502                    0.841468        0.762070      1.448983   \n",
       "15503                    0.841468        0.762070      1.448983   \n",
       "\n",
       "       Encoded_culture                 team  result  \n",
       "0             1.215553                  mvp     0.0  \n",
       "1             1.215553  jin air green wings     1.0  \n",
       "2             1.215553  jin air green wings     0.0  \n",
       "3             1.215553                  mvp     1.0  \n",
       "4             1.215553                  mvp     1.0  \n",
       "5             1.215553  jin air green wings     0.0  \n",
       "6             1.215553       longzhu gaming     1.0  \n",
       "7             1.215553           kt rolster     0.0  \n",
       "8             1.215553           kt rolster     0.0  \n",
       "9             1.215553       longzhu gaming     1.0  \n",
       "10            1.215553        ever8 winners     1.0  \n",
       "11            1.215553       afreeca freecs     0.0  \n",
       "12            1.215553       afreeca freecs     1.0  \n",
       "13            1.215553        ever8 winners     0.0  \n",
       "14            1.215553        sk telecom t1     0.0  \n",
       "15            1.215553       samsung galaxy     1.0  \n",
       "16           -0.065147                  h2k     1.0  \n",
       "17           -0.065147               splyce     0.0  \n",
       "18           -0.065147               splyce     0.0  \n",
       "19           -0.065147                  h2k     1.0  \n",
       "20            1.215553          bbq olivers     1.0  \n",
       "21            1.215553       longzhu gaming     0.0  \n",
       "22            1.215553       longzhu gaming     1.0  \n",
       "23            1.215553          bbq olivers     0.0  \n",
       "24            1.215553           rox tigers     0.0  \n",
       "25            1.215553  jin air green wings     1.0  \n",
       "26            1.215553  jin air green wings     1.0  \n",
       "27            1.215553           rox tigers     0.0  \n",
       "28           -0.065147               fnatic     1.0  \n",
       "29           -0.065147              misfits     0.0  \n",
       "...                ...                  ...     ...  \n",
       "15474         0.788653          lng esports     1.0  \n",
       "15475         0.788653               suning     0.0  \n",
       "15476         0.788653               suning     0.0  \n",
       "15477         0.788653          lng esports     1.0  \n",
       "15478         0.788653      bilibili gaming     1.0  \n",
       "15479         0.788653  royal never give up     0.0  \n",
       "15480         0.788653      bilibili gaming     1.0  \n",
       "15481         0.788653  royal never give up     0.0  \n",
       "15482         0.788653                rogue     0.0  \n",
       "15483         0.788653      invictus gaming     1.0  \n",
       "15484         0.788653                rogue     0.0  \n",
       "15485         0.788653      invictus gaming     1.0  \n",
       "15486         0.788653                rogue     0.0  \n",
       "15487         0.788653          vici gaming     1.0  \n",
       "15488         0.788653          vici gaming     0.0  \n",
       "15489         0.788653                rogue     1.0  \n",
       "15490         0.788653          vici gaming     0.0  \n",
       "15491         0.788653                rogue     1.0  \n",
       "15492         0.788653      funplus phoenix     1.0  \n",
       "15493         0.788653          top esports     0.0  \n",
       "15494         0.788653      funplus phoenix     1.0  \n",
       "15495         0.788653          top esports     0.0  \n",
       "15496         0.788653                  omg     0.0  \n",
       "15497         0.788653          top esports     1.0  \n",
       "15498         0.788653          top esports     1.0  \n",
       "15499         0.788653                  omg     0.0  \n",
       "15500         0.788653         victory five     0.0  \n",
       "15501         0.788653              team we     1.0  \n",
       "15502         0.788653         victory five     0.0  \n",
       "15503         0.788653              team we     1.0  \n",
       "\n",
       "[15504 rows x 74 columns]"
      ]
     },
     "execution_count": 13,
     "metadata": {},
     "output_type": "execute_result"
    }
   ],
   "source": [
    "# Visualize data\n",
    "data_raw"
   ]
  },
  {
   "cell_type": "code",
   "execution_count": 14,
   "metadata": {
    "ExecuteTime": {
     "end_time": "2019-08-24T16:41:13.644140Z",
     "start_time": "2019-08-24T16:41:13.596575Z"
    }
   },
   "outputs": [
    {
     "name": "stdout",
     "output_type": "stream",
     "text": [
      "Set of the different column types captured by the data:  {dtype('O'), dtype('float64')}\n",
      "The number of missing values in the data:  0\n"
     ]
    }
   ],
   "source": [
    "# Check all values are numeric\n",
    "print(\"Set of the different column types captured by the data: \", set(data_raw.dtypes))\n",
    "# Check no missing data\n",
    "print(\"The number of missing values in the data: \", sum(data_raw.isnull().any()))"
   ]
  },
  {
   "cell_type": "markdown",
   "metadata": {},
   "source": [
    "## 2. Split data in test and train data"
   ]
  },
  {
   "cell_type": "code",
   "execution_count": 15,
   "metadata": {
    "ExecuteTime": {
     "end_time": "2019-08-24T16:41:13.696724Z",
     "start_time": "2019-08-24T16:41:13.650851Z"
    },
    "scrolled": true
   },
   "outputs": [],
   "source": [
    "# Create copy of data for model building (removing team feature)\n",
    "data = data_raw.copy()\n",
    "data = data.drop(labels = ['team', 'split', 'patchno', 'gamelength', 'Encoded_Year', 'Encoded_culture'], axis=1)"
   ]
  },
  {
   "cell_type": "code",
   "execution_count": 16,
   "metadata": {
    "ExecuteTime": {
     "end_time": "2019-08-24T16:41:13.757688Z",
     "start_time": "2019-08-24T16:41:13.705189Z"
    }
   },
   "outputs": [],
   "source": [
    "# Split the data\n",
    "x_train, x_test, y_train, y_test = data_splitter(data, 'result')"
   ]
  },
  {
   "cell_type": "code",
   "execution_count": 17,
   "metadata": {
    "ExecuteTime": {
     "end_time": "2019-08-24T16:41:13.783049Z",
     "start_time": "2019-08-24T16:41:13.762221Z"
    }
   },
   "outputs": [
    {
     "name": "stdout",
     "output_type": "stream",
     "text": [
      "The data is centered:  True \n",
      "The data is standardized:  False\n"
     ]
    }
   ],
   "source": [
    "# Check data is standardized and centered\n",
    "print(\"The data is centered: \", \n",
    "      all([int(x) for x in round(x_train.mean(axis = 0), 4)]) == 0,\n",
    "     \"\\nThe data is standardized: \",\n",
    "      all([int(x) for x in round(x_train.var(axis = 0), 4)]) == 1)"
   ]
  },
  {
   "cell_type": "markdown",
   "metadata": {},
   "source": [
    "## 3. Model creation"
   ]
  },
  {
   "cell_type": "code",
   "execution_count": 18,
   "metadata": {
    "ExecuteTime": {
     "end_time": "2019-08-24T16:41:13.797357Z",
     "start_time": "2019-08-24T16:41:13.789818Z"
    }
   },
   "outputs": [],
   "source": [
    "# Create dictionary to capture model summary\n",
    "logistic_L1penalty_model_dict, ridge_model_dict, elasticnet_model_dict, rf_model_dict, model_summary_dict = dict(), dict(), dict(), dict(), dict()"
   ]
  },
  {
   "cell_type": "markdown",
   "metadata": {},
   "source": [
    "### 3.1 Logistic regression with L1 penalty (Lasso classification model)\n",
    "Here, the recursive feature elimination techinique is used to initialize L1 penalization in our logistic regression model and hence allows implementation of lasso regularization."
   ]
  },
  {
   "cell_type": "markdown",
   "metadata": {},
   "source": [
    "##### Recursive feature elimination\n",
    "Given an external estimator that assigns weights to features (~coefficients), the goal of recursive feature elimination is to select features by recursively considering smaller and smaller sets of features. The estimator is trained on the initial set of features and the importance of each feature is obtained. Based on this information the least important features are pruned from the current set of features. This procedure is recursively repeated on the pruned set until the desired number of features to select is reached. To get the optimal number of features CV is used."
   ]
  },
  {
   "cell_type": "code",
   "execution_count": 19,
   "metadata": {
    "ExecuteTime": {
     "end_time": "2019-08-24T16:42:41.995520Z",
     "start_time": "2019-08-24T16:41:13.804031Z"
    },
    "scrolled": true
   },
   "outputs": [],
   "source": [
    "# By using the liblinear solver the L1 penalty is implemented\n",
    "logreg = LogisticRegression(solver='liblinear')\n",
    "rfe = RFECV(logreg, cv = 5)\n",
    "rfe = rfe.fit(x_train, y_train)"
   ]
  },
  {
   "cell_type": "code",
   "execution_count": 20,
   "metadata": {
    "ExecuteTime": {
     "end_time": "2019-08-24T16:42:42.002291Z",
     "start_time": "2019-08-24T16:42:41.997399Z"
    }
   },
   "outputs": [
    {
     "name": "stdout",
     "output_type": "stream",
     "text": [
      "Based on the recursive elimination method the following 21 features are selected:  ['d', 'a', 'kpm', 'ckpm', 'teamtowerkills', 'teambaronkills', 'dmgtochamps', 'dmgtochampsperminute', 'wards', 'wpm', 'wardkills', 'totalgold', 'earnedgpm', 'goldspent', 'gspd', 'minionkills', 'monsterkillsownjungle', 'cspm', 'goldat15', 'csat15', 'csdat15']\n"
     ]
    }
   ],
   "source": [
    "# Intermediate summary\n",
    "selected_features_rfe = [col for col, bool_importance in zip(x_train.columns.values, rfe.support_) if bool_importance]\n",
    "print(\"Based on the recursive elimination method the following\", len(selected_features_rfe),\n",
    "      \"features are selected: \", selected_features_rfe)"
   ]
  },
  {
   "cell_type": "markdown",
   "metadata": {},
   "source": [
    "Remark: The solver used by the logistic regression model is 'liblinear' which applies automatic parameter selection (L1 regularization) and is recommended when using a high dimensional dataset."
   ]
  },
  {
   "cell_type": "markdown",
   "metadata": {},
   "source": [
    "##### Model fit"
   ]
  },
  {
   "cell_type": "code",
   "execution_count": 21,
   "metadata": {
    "ExecuteTime": {
     "end_time": "2019-08-24T16:42:42.228455Z",
     "start_time": "2019-08-24T16:42:42.003945Z"
    }
   },
   "outputs": [],
   "source": [
    "# Fit the logistic regression model\n",
    "logistic_L1penalty_model = LogisticRegression(solver='liblinear')\n",
    "fitted_logistic_L1penalty_model = logistic_L1penalty_model.fit(x_train[selected_features_rfe], y_train)\n",
    "\n",
    "# Save best approximation alpha after CV\n",
    "logistic_L1penalty_model_dict['regularisation_param'] = np.nan"
   ]
  },
  {
   "cell_type": "markdown",
   "metadata": {
    "ExecuteTime": {
     "end_time": "2019-03-19T10:26:19.552084Z",
     "start_time": "2019-03-19T10:26:19.547199Z"
    }
   },
   "source": [
    "##### Model accuracy evaluation"
   ]
  },
  {
   "cell_type": "code",
   "execution_count": 22,
   "metadata": {
    "ExecuteTime": {
     "end_time": "2019-08-24T16:42:43.652901Z",
     "start_time": "2019-08-24T16:42:42.232445Z"
    }
   },
   "outputs": [
    {
     "name": "stdout",
     "output_type": "stream",
     "text": [
      "Based on a threshold of 0.5 the following summary statistics can be obtained:\n",
      " ----------------------------------------------------------------------------------------------------\n",
      "1164 true positives over all positives (the wins that were correctly classified).\n",
      "17 false positives (the wins that were wrongly classified).\n",
      "1127 true negatives (the losses that were correctly classified).\n",
      "18 false negatives (the losses that were wrongly classified).\n",
      "\n",
      "The sensitivity is:  0.9847715736040609\n",
      "The specificity is:  0.9851398601398601\n",
      "\n",
      "\n",
      "Accuracy: 0.9849527085124677 \n",
      " ----------------------------------------------------------------------------------------------------\n"
     ]
    },
    {
     "data": {
      "image/png": "[encoded data removed]",
      "text/plain": [
       "<Figure size 432x288 with 1 Axes>"
      ]
     },
     "metadata": {
      "needs_background": "light"
     },
     "output_type": "display_data"
    },
    {
     "name": "stdout",
     "output_type": "stream",
     "text": [
      "Confusion matrix :\n",
      " ----------------------------------------------------------------------------------------------------\n"
     ]
    },
    {
     "data": {
      "image/png": "[encoded data removed]",
      "text/plain": [
       "<Figure size 432x288 with 2 Axes>"
      ]
     },
     "metadata": {
      "needs_background": "light"
     },
     "output_type": "display_data"
    },
    {
     "name": "stdout",
     "output_type": "stream",
     "text": [
      "Normalized confusion matrix :\n",
      " ----------------------------------------------------------------------------------------------------\n"
     ]
    },
    {
     "data": {
      "image/png": "[encoded data removed]",
      "text/plain": [
       "<Figure size 432x288 with 2 Axes>"
      ]
     },
     "metadata": {
      "needs_background": "light"
     },
     "output_type": "display_data"
    }
   ],
   "source": [
    "# Model accuracy evaluation metrics\n",
    "logistic_L1penalty_model_dict['sensitivity'], logistic_L1penalty_model_dict['specificity'], logistic_L1penalty_model_dict['auc'], logistic_L1penalty_model_dict['accuracy'] = binary_class_evaluator(fitted_logistic_L1penalty_model, x_test[selected_features_rfe], y_test)\n",
    "\n",
    "# Plot non-normalized and normalized confusion matrix\n",
    "plot_confusion_matrix(fitted_logistic_L1penalty_model, x_test[selected_features_rfe], y_test, classes=['Loss', 'Win'])\n",
    "plot_confusion_matrix(fitted_logistic_L1penalty_model, x_test[selected_features_rfe], y_test, classes=['Loss', 'Win'], normalize=True)"
   ]
  },
  {
   "cell_type": "markdown",
   "metadata": {},
   "source": [
    "##### Feature importance evaluator"
   ]
  },
  {
   "cell_type": "code",
   "execution_count": 23,
   "metadata": {
    "ExecuteTime": {
     "end_time": "2019-08-24T16:42:43.671950Z",
     "start_time": "2019-08-24T16:42:43.656553Z"
    }
   },
   "outputs": [
    {
     "name": "stdout",
     "output_type": "stream",
     "text": [
      "Summary of the important features and their corresponding coefficients:\n",
      " ----------------------------------------------------------------------------------------------------\n",
      "teamtowerkills : 4.627730298604535\n",
      "earnedgpm : 2.475363236312005\n",
      "kpm : 2.1767999051006974\n",
      "d : -2.0462444995107067\n",
      "goldspent : -1.8090176061196657\n",
      "minionkills : 1.7918677006090562\n",
      "wards : -1.3619021222918861\n",
      "gspd : -1.1992502294327294\n",
      "monsterkillsownjungle : 0.7461077859644266\n",
      "cspm : -0.7341024547877181\n"
     ]
    }
   ],
   "source": [
    "# Show the sorted features indicating the highest importance in predicting the target\n",
    "logistic_L1penalty_model_dict['feature_importance'] = important_features_extractor(fitted_logistic_L1penalty_model, selected_features_rfe)"
   ]
  },
  {
   "cell_type": "code",
   "execution_count": 24,
   "metadata": {
    "ExecuteTime": {
     "end_time": "2019-08-24T17:53:52.796788Z",
     "start_time": "2019-08-24T16:42:43.678205Z"
    },
    "scrolled": true
   },
   "outputs": [
    {
     "data": {
      "image/png": "[encoded data removed]",
      "text/plain": [
       "<Figure size 432x288 with 1 Axes>"
      ]
     },
     "metadata": {
      "needs_background": "light"
     },
     "output_type": "display_data"
    }
   ],
   "source": [
    "# Visualize the use of different regularization parameters on coefficient estimates for Lasso regression\n",
    "n_alphas, coefs = 200, []\n",
    "alphas = np.logspace(-10, -2, n_alphas)\n",
    "for a in alphas:\n",
    "    lasso = Lasso(alpha = a, fit_intercept = False)\n",
    "    lasso.fit(x_train, y_train)\n",
    "    coefs.append(lasso.coef_)\n",
    "\n",
    "# Visualize the regularization curve\n",
    "ax = plt.gca()\n",
    "ax.plot(alphas, coefs)\n",
    "ax.set_xscale('log')\n",
    "ax.set_xlim(ax.get_xlim()[::-1])  # reverse axis\n",
    "plt.xlabel('alpha')\n",
    "plt.ylabel('weights')\n",
    "plt.title('Lasso coefficients as a function of the regularization')\n",
    "plt.axis('tight')\n",
    "plt.show()"
   ]
  },
  {
   "cell_type": "markdown",
   "metadata": {},
   "source": [
    "### 3.2 Ridge classification model\n",
    "Ridge regression covers a machine learning technique that solves a regression model where the loss function is the linear least squares function and regularization is given by the l2-norm.\n",
    "\n",
    "To fit the ridge classification model the ridge classifier with build in cross-validation estimator is used from the sklearn package. The CV classifier allows us to evaluate different regularization parameters. Here, the array of alpha values that is explored ranges from 0.1 to 1. in steps of 0.025.\n",
    "\n",
    "If the alpha value is 0, a OLS model seems to best fit the data. So, the smaller the value of alpha, the higher the magnitude of the coefficients. No intercept is calculated for the model, because the data is centered."
   ]
  },
  {
   "cell_type": "markdown",
   "metadata": {},
   "source": [
    "##### Model fit"
   ]
  },
  {
   "cell_type": "code",
   "execution_count": 25,
   "metadata": {
    "ExecuteTime": {
     "end_time": "2019-08-24T17:54:05.249772Z",
     "start_time": "2019-08-24T17:53:52.798765Z"
    }
   },
   "outputs": [],
   "source": [
    "# Fit the regression model for the optimal alpha \n",
    "alphas = np.arange(0.0, 1.0, 0.025)\n",
    "ridge_model = RidgeClassifierCV(alphas, fit_intercept= False, cv= 5)\n",
    "fitted_ridge_model = ridge_model.fit(x_train, y_train)\n",
    "\n",
    "# Save best approximation alpha after CV\n",
    "ridge_model_dict['regularisation_param'] = fitted_ridge_model.alpha_"
   ]
  },
  {
   "cell_type": "markdown",
   "metadata": {},
   "source": [
    "##### Model accuracy evaluation"
   ]
  },
  {
   "cell_type": "code",
   "execution_count": 26,
   "metadata": {
    "ExecuteTime": {
     "end_time": "2019-08-24T17:54:07.687533Z",
     "start_time": "2019-08-24T17:54:05.252293Z"
    }
   },
   "outputs": [
    {
     "name": "stdout",
     "output_type": "stream",
     "text": [
      "Based on a threshold of 0.5 the following summary statistics can be obtained:\n",
      " ----------------------------------------------------------------------------------------------------\n",
      "1168 true positives over all positives (the wins that were correctly classified).\n",
      "28 false positives (the wins that were wrongly classified).\n",
      "1116 true negatives (the losses that were correctly classified).\n",
      "14 false negatives (the losses that were wrongly classified).\n",
      "\n",
      "The sensitivity is:  0.988155668358714\n",
      "The specificity is:  0.9755244755244755\n",
      "\n",
      "\n",
      "Accuracy: 0.9819432502149613 \n",
      " ----------------------------------------------------------------------------------------------------\n"
     ]
    },
    {
     "data": {
      "image/png": "[encoded data removed]",
      "text/plain": [
       "<Figure size 432x288 with 1 Axes>"
      ]
     },
     "metadata": {
      "needs_background": "light"
     },
     "output_type": "display_data"
    },
    {
     "name": "stdout",
     "output_type": "stream",
     "text": [
      "Confusion matrix :\n",
      " ----------------------------------------------------------------------------------------------------\n"
     ]
    },
    {
     "data": {
      "image/png": "[encoded data removed]",
      "text/plain": [
       "<Figure size 432x288 with 2 Axes>"
      ]
     },
     "metadata": {
      "needs_background": "light"
     },
     "output_type": "display_data"
    },
    {
     "name": "stdout",
     "output_type": "stream",
     "text": [
      "Normalized confusion matrix :\n",
      " ----------------------------------------------------------------------------------------------------\n"
     ]
    },
    {
     "data": {
      "image/png": "[encoded data removed]",
      "text/plain": [
       "<Figure size 432x288 with 2 Axes>"
      ]
     },
     "metadata": {
      "needs_background": "light"
     },
     "output_type": "display_data"
    }
   ],
   "source": [
    "# Model accuracy evaluation metrics\n",
    "ridge_model_dict['sensitivity'], ridge_model_dict['specificity'], ridge_model_dict['auc'], ridge_model_dict['accuracy'] = binary_class_evaluator(fitted_ridge_model, x_test, y_test)\n",
    "\n",
    "# Plot non-normalized and normalized confusion matrix\n",
    "plot_confusion_matrix(fitted_ridge_model, x_test,y_test, classes=['Loss', 'Win'])\n",
    "plot_confusion_matrix(fitted_ridge_model, x_test,y_test, classes=['Loss', 'Win'], normalize=True)"
   ]
  },
  {
   "cell_type": "markdown",
   "metadata": {
    "ExecuteTime": {
     "end_time": "2019-03-19T09:17:32.286353Z",
     "start_time": "2019-03-19T09:17:31.991148Z"
    }
   },
   "source": [
    "##### Feature importance evaluator"
   ]
  },
  {
   "cell_type": "code",
   "execution_count": 27,
   "metadata": {
    "ExecuteTime": {
     "end_time": "2019-08-24T17:54:07.729108Z",
     "start_time": "2019-08-24T17:54:07.694241Z"
    },
    "scrolled": true
   },
   "outputs": [
    {
     "name": "stdout",
     "output_type": "stream",
     "text": [
      "Summary of the important features and their corresponding coefficients:\n",
      " ----------------------------------------------------------------------------------------------------\n",
      "teamtowerkills : 0.6440156793660217\n",
      "goldspent : -0.38338849372308287\n",
      "minionkills : 0.3508468388255359\n",
      "d : -0.3301132641681524\n",
      "kpm : -0.23792552776983295\n",
      "earnedgpm : 0.20450332141895966\n",
      "wards : -0.1666598369302516\n",
      "totalgold : -0.159330522077574\n",
      "k : 0.14964433763802826\n",
      "teamkills : 0.14964433763989396\n"
     ]
    }
   ],
   "source": [
    "# Show the sorted features indicating the highest importance in predicting the target\n",
    "ridge_model_dict['feature_importance'] = important_features_extractor(fitted_ridge_model, x_train.columns.values)"
   ]
  },
  {
   "cell_type": "code",
   "execution_count": 28,
   "metadata": {
    "ExecuteTime": {
     "end_time": "2019-08-24T17:54:17.483291Z",
     "start_time": "2019-08-24T17:54:07.735804Z"
    }
   },
   "outputs": [
    {
     "data": {
      "image/png": "[encoded data removed]",
      "text/plain": [
       "<Figure size 432x288 with 1 Axes>"
      ]
     },
     "metadata": {
      "needs_background": "light"
     },
     "output_type": "display_data"
    }
   ],
   "source": [
    "# Visualize the use of different regularization parameters on coefficient estimates for Ridge regression\n",
    "n_alphas, coefs = 200, []\n",
    "alphas = np.logspace(-10, -2, n_alphas)\n",
    "for a in alphas:\n",
    "    ridge = Ridge(alpha = a, fit_intercept = False)\n",
    "    ridge.fit(x_train, y_train)\n",
    "    coefs.append(ridge.coef_)\n",
    "\n",
    "# Visualize the regularization curve\n",
    "ax = plt.gca()\n",
    "ax.plot(alphas, coefs)\n",
    "ax.set_xscale('log')\n",
    "ax.set_xlim(ax.get_xlim()[::-1])  # reverse axis\n",
    "plt.xlabel('alpha')\n",
    "plt.ylabel('weights')\n",
    "plt.title('Ridge coefficients as a function of the regularization')\n",
    "plt.axis('tight')\n",
    "plt.show()"
   ]
  },
  {
   "cell_type": "markdown",
   "metadata": {},
   "source": [
    "### 3.3 Elastic net classification model\n",
    "The elastic net classification model will combine the L1 and L2 priors illustrated above in the same logistic regression model as regularizers. The ElasticNetCV function from sklearn allows us to play around with these regularization parameters by defining a range for the l1_ratio = a/ (a + b), where  a * L1 + b * L2 composes the penalization term. If the optimal l1_ratio parameter is closer to 1, a sparser selection is managed, while l1_ratio parameters close to 0 result in more shrinkage of the coefficients."
   ]
  },
  {
   "cell_type": "markdown",
   "metadata": {},
   "source": [
    "##### Model fit"
   ]
  },
  {
   "cell_type": "code",
   "execution_count": 29,
   "metadata": {
    "ExecuteTime": {
     "end_time": "2019-08-24T17:58:03.349028Z",
     "start_time": "2019-08-24T17:54:17.499255Z"
    }
   },
   "outputs": [],
   "source": [
    "# Fit the elasticnet classification model\n",
    "l1_ratios = alphas[1:]\n",
    "elasticnet_model = ElasticNetCV(l1_ratio = l1_ratios, fit_intercept= False, cv= 5, random_state=0)\n",
    "fitted_elasticnet_model = elasticnet_model.fit(x_train, y_train)\n",
    "\n",
    "# Save best approximation alpha after CV\n",
    "elasticnet_model_dict['regularisation_param'] = {'l1_ratio': fitted_elasticnet_model.l1_ratio_,\n",
    "                                                 'alpha': fitted_elasticnet_model.alpha_}"
   ]
  },
  {
   "cell_type": "markdown",
   "metadata": {},
   "source": [
    "##### Model accuracy evaluation"
   ]
  },
  {
   "cell_type": "code",
   "execution_count": 30,
   "metadata": {
    "ExecuteTime": {
     "end_time": "2019-08-24T17:58:05.147944Z",
     "start_time": "2019-08-24T17:58:03.350913Z"
    }
   },
   "outputs": [
    {
     "name": "stdout",
     "output_type": "stream",
     "text": [
      "Based on a threshold of 0.5 the following summary statistics can be obtained:\n",
      " ----------------------------------------------------------------------------------------------------\n",
      "1171 true positives over all positives (the wins that were correctly classified).\n",
      "30 false positives (the wins that were wrongly classified).\n",
      "1114 true negatives (the losses that were correctly classified).\n",
      "11 false negatives (the losses that were wrongly classified).\n",
      "\n",
      "The sensitivity is:  0.9906937394247038\n",
      "The specificity is:  0.9737762237762237\n",
      "\n",
      "\n",
      "Accuracy: 0.9823731728288908 \n",
      " ----------------------------------------------------------------------------------------------------\n"
     ]
    },
    {
     "data": {
      "image/png": "[encoded data removed]",
      "text/plain": [
       "<Figure size 432x288 with 1 Axes>"
      ]
     },
     "metadata": {
      "needs_background": "light"
     },
     "output_type": "display_data"
    },
    {
     "name": "stdout",
     "output_type": "stream",
     "text": [
      "Confusion matrix :\n",
      " ----------------------------------------------------------------------------------------------------\n"
     ]
    },
    {
     "data": {
      "image/png": "[encoded data removed]",
      "text/plain": [
       "<Figure size 432x288 with 2 Axes>"
      ]
     },
     "metadata": {
      "needs_background": "light"
     },
     "output_type": "display_data"
    },
    {
     "name": "stdout",
     "output_type": "stream",
     "text": [
      "Normalized confusion matrix :\n",
      " ----------------------------------------------------------------------------------------------------\n"
     ]
    },
    {
     "data": {
      "image/png": "[encoded data removed]",
      "text/plain": [
       "<Figure size 432x288 with 2 Axes>"
      ]
     },
     "metadata": {
      "needs_background": "light"
     },
     "output_type": "display_data"
    }
   ],
   "source": [
    "# Model accuracy evaluation metrics\n",
    "elasticnet_model_dict['sensitivity'], elasticnet_model_dict['specificity'], elasticnet_model_dict['auc'], elasticnet_model_dict['accuracy'] = binary_class_evaluator(fitted_elasticnet_model, x_test, y_test, elasticnet = True)\n",
    "\n",
    "# Plot non-normalized and normalized confusion matrix\n",
    "plot_confusion_matrix(fitted_elasticnet_model, x_test, y_test, classes=['Loss', 'Win'], elasticnet = True)\n",
    "plot_confusion_matrix(fitted_elasticnet_model, x_test, y_test, classes=['Loss', 'Win'], normalize=True, elasticnet = True)"
   ]
  },
  {
   "cell_type": "markdown",
   "metadata": {
    "ExecuteTime": {
     "end_time": "2019-03-19T10:34:24.897544Z",
     "start_time": "2019-03-19T10:34:24.872205Z"
    }
   },
   "source": [
    "##### Feature importance evaluator"
   ]
  },
  {
   "cell_type": "code",
   "execution_count": 31,
   "metadata": {
    "ExecuteTime": {
     "end_time": "2019-08-24T17:58:05.177987Z",
     "start_time": "2019-08-24T17:58:05.157830Z"
    },
    "scrolled": true
   },
   "outputs": [
    {
     "name": "stdout",
     "output_type": "stream",
     "text": [
      "Summary of the important features and their corresponding coefficients:\n",
      " ----------------------------------------------------------------------------------------------------\n",
      "teamtowerkills : 0.2574009723169503\n",
      "d : -0.14217414726709174\n",
      "earnedgpm : 0.0712057693653787\n",
      "goldspent : -0.06896314952601296\n",
      "gspd : -0.06158018322343963\n",
      "a : 0.050477499871198005\n",
      "teambaronkills : 0.04808234727749909\n",
      "k : 0.026392963363010967\n",
      "teamkills : 0.025870899411535905\n",
      "kpm : 0.01713719788709574\n"
     ]
    }
   ],
   "source": [
    "# Show the sorted features indicating the highest importance in predicting the target\n",
    "elasticnet_model_dict['feature_importance'] = important_features_extractor(fitted_elasticnet_model, \n",
    "                                                                           x_train.columns.values, \n",
    "                                                                           elasticnet = True)"
   ]
  },
  {
   "cell_type": "code",
   "execution_count": 32,
   "metadata": {
    "ExecuteTime": {
     "end_time": "2019-08-24T18:06:02.990241Z",
     "start_time": "2019-08-24T17:58:05.186297Z"
    }
   },
   "outputs": [
    {
     "data": {
      "image/png": "[encoded data removed]",
      "text/plain": [
       "<Figure size 432x288 with 1 Axes>"
      ]
     },
     "metadata": {
      "needs_background": "light"
     },
     "output_type": "display_data"
    }
   ],
   "source": [
    "# Visualize the use of different regularization parameters on coefficient estimates for Ridge regression\n",
    "n_ratios, coefs = 200, []\n",
    "l1_ratios = np.logspace(-10, -2, n_ratios)\n",
    "for r in l1_ratios:\n",
    "    elasticnet = ElasticNet(l1_ratio = r, fit_intercept = False)\n",
    "    elasticnet.fit(x_train, y_train)\n",
    "    coefs.append(elasticnet.coef_)\n",
    "\n",
    "# Visualize the regularization curve\n",
    "ax = plt.gca()\n",
    "ax.plot(l1_ratios, coefs)\n",
    "ax.set_xscale('log')\n",
    "ax.set_xlim(ax.get_xlim()[::-1])  # reverse axis\n",
    "plt.xlabel('l1_ratio')\n",
    "plt.ylabel('weights')\n",
    "plt.title('Elastic net coefficients as a function of the regularization')\n",
    "plt.axis('tight')\n",
    "plt.show()"
   ]
  },
  {
   "cell_type": "markdown",
   "metadata": {},
   "source": [
    "### 3.4 Random Forests classifier"
   ]
  },
  {
   "cell_type": "markdown",
   "metadata": {},
   "source": [
    "##### Model fit"
   ]
  },
  {
   "cell_type": "code",
   "execution_count": 33,
   "metadata": {
    "ExecuteTime": {
     "end_time": "2019-08-24T18:55:27.109680Z",
     "start_time": "2019-08-24T18:06:02.993541Z"
    }
   },
   "outputs": [
    {
     "data": {
      "text/plain": [
       "{'bootstrap': False, 'max_features': 'sqrt', 'n_estimators': 2000}"
      ]
     },
     "execution_count": 33,
     "metadata": {},
     "output_type": "execute_result"
    }
   ],
   "source": [
    "# Define hyperparameter grid\n",
    "param_grid = {'bootstrap': [True, False],\n",
    "              'max_features': ['auto', 'sqrt'],\n",
    "              'n_estimators': [200, 1000, 2000]}\n",
    "\n",
    "# Hyperparametertuning of the Random Forest model (cv = 5 folds)\n",
    "rf_model = RandomForestClassifier()\n",
    "grid_rf_model = GridSearchCV(rf_model, param_grid, cv=5)\n",
    "grid_best_rf_model = grid_rf_model.fit(x_train, y_train)\n",
    "\n",
    "# Save optimal hyperparameters\n",
    "rf_model_dict['regularisation_param'] = grid_best_rf_model.best_params_\n",
    "grid_best_rf_model.best_params_"
   ]
  },
  {
   "cell_type": "code",
   "execution_count": 34,
   "metadata": {
    "ExecuteTime": {
     "end_time": "2019-08-24T18:57:17.093490Z",
     "start_time": "2019-08-24T18:55:27.112446Z"
    }
   },
   "outputs": [
    {
     "data": {
      "text/plain": [
       "RandomForestClassifier(bootstrap=False, class_weight=None, criterion='gini',\n",
       "            max_depth=None, max_features='sqrt', max_leaf_nodes=None,\n",
       "            min_impurity_decrease=0.0, min_impurity_split=None,\n",
       "            min_samples_leaf=1, min_samples_split=2,\n",
       "            min_weight_fraction_leaf=0.0, n_estimators=2000, n_jobs=None,\n",
       "            oob_score=False, random_state=None, verbose=0,\n",
       "            warm_start=False)"
      ]
     },
     "execution_count": 34,
     "metadata": {},
     "output_type": "execute_result"
    }
   ],
   "source": [
    "# Fit the best model with the optimal hyperparameters\n",
    "fitted_rf_model = RandomForestClassifier(bootstrap = rf_model_dict['regularisation_param'] ['bootstrap'],\n",
    "                                         max_features = rf_model_dict['regularisation_param'] ['max_features'],\n",
    "                                         n_estimators = rf_model_dict['regularisation_param'] ['n_estimators'])\n",
    "fitted_rf_model.fit(x_train,y_train)"
   ]
  },
  {
   "cell_type": "markdown",
   "metadata": {},
   "source": [
    "##### Model accuracy evaluation"
   ]
  },
  {
   "cell_type": "code",
   "execution_count": 35,
   "metadata": {
    "ExecuteTime": {
     "end_time": "2019-08-24T18:57:20.462525Z",
     "start_time": "2019-08-24T18:57:17.095625Z"
    }
   },
   "outputs": [
    {
     "name": "stdout",
     "output_type": "stream",
     "text": [
      "Based on a threshold of 0.5 the following summary statistics can be obtained:\n",
      " ----------------------------------------------------------------------------------------------------\n",
      "1166 true positives over all positives (the wins that were correctly classified).\n",
      "35 false positives (the wins that were wrongly classified).\n",
      "1109 true negatives (the losses that were correctly classified).\n",
      "16 false negatives (the losses that were wrongly classified).\n",
      "\n",
      "The sensitivity is:  0.9864636209813875\n",
      "The specificity is:  0.9694055944055944\n",
      "\n",
      "\n",
      "Accuracy: 0.9780739466895959 \n",
      " ----------------------------------------------------------------------------------------------------\n"
     ]
    },
    {
     "data": {
      "image/png": "[encoded data removed]",
      "text/plain": [
       "<Figure size 432x288 with 1 Axes>"
      ]
     },
     "metadata": {
      "needs_background": "light"
     },
     "output_type": "display_data"
    },
    {
     "name": "stdout",
     "output_type": "stream",
     "text": [
      "Confusion matrix :\n",
      " ----------------------------------------------------------------------------------------------------\n"
     ]
    },
    {
     "data": {
      "image/png": "[encoded data removed]",
      "text/plain": [
       "<Figure size 432x288 with 2 Axes>"
      ]
     },
     "metadata": {
      "needs_background": "light"
     },
     "output_type": "display_data"
    },
    {
     "name": "stdout",
     "output_type": "stream",
     "text": [
      "Normalized confusion matrix :\n",
      " ----------------------------------------------------------------------------------------------------\n"
     ]
    },
    {
     "data": {
      "image/png": "[encoded data removed]",
      "text/plain": [
       "<Figure size 432x288 with 2 Axes>"
      ]
     },
     "metadata": {
      "needs_background": "light"
     },
     "output_type": "display_data"
    }
   ],
   "source": [
    "# Model accuracy evaluation metrics\n",
    "rf_model_dict['sensitivity'], rf_model_dict['specificity'], rf_model_dict['auc'], rf_model_dict['accuracy'] = binary_class_evaluator(fitted_rf_model, x_test, y_test, elasticnet = False)\n",
    "\n",
    "# Plot non-normalized and normalized confusion matrix\n",
    "plot_confusion_matrix(fitted_rf_model, x_test, y_test, classes=['Loss', 'Win'], elasticnet = False)\n",
    "plot_confusion_matrix(fitted_rf_model, x_test, y_test, classes=['Loss', 'Win'], normalize=True, elasticnet = False)"
   ]
  },
  {
   "cell_type": "markdown",
   "metadata": {},
   "source": [
    "##### Feature importance evaluator"
   ]
  },
  {
   "cell_type": "code",
   "execution_count": 36,
   "metadata": {
    "ExecuteTime": {
     "end_time": "2019-08-24T18:57:20.639496Z",
     "start_time": "2019-08-24T18:57:20.464613Z"
    }
   },
   "outputs": [
    {
     "data": {
      "text/plain": [
       "teamtowerkills    0.253513\n",
       "earnedgpm         0.121577\n",
       "d                 0.102235\n",
       "a                 0.069431\n",
       "kpm               0.064870\n",
       "k                 0.055466\n",
       "teamkills         0.053232\n",
       "gspd              0.047222\n",
       "teambaronkills    0.028402\n",
       "teamdragkills     0.023352\n",
       "dtype: float64"
      ]
     },
     "execution_count": 36,
     "metadata": {},
     "output_type": "execute_result"
    }
   ],
   "source": [
    "# Show the sorted features indicating the highest importance in predicting the target\n",
    "feature_imp = pd.Series(fitted_rf_model.feature_importances_,index=x_train.columns).sort_values(ascending=False)\n",
    "rf_model_dict['feature_importance'] = dict(zip(feature_imp.index, feature_imp))\n",
    "feature_imp[:10]"
   ]
  },
  {
   "cell_type": "markdown",
   "metadata": {},
   "source": [
    "### 3.5 Comparison ML techniques"
   ]
  },
  {
   "cell_type": "markdown",
   "metadata": {},
   "source": [
    "##### Creation summary table"
   ]
  },
  {
   "cell_type": "code",
   "execution_count": 37,
   "metadata": {
    "ExecuteTime": {
     "end_time": "2019-08-24T18:57:20.666064Z",
     "start_time": "2019-08-24T18:57:20.641772Z"
    }
   },
   "outputs": [
    {
     "data": {
      "text/html": [
       "<div>\n",
       "<style scoped>\n",
       "    .dataframe tbody tr th:only-of-type {\n",
       "        vertical-align: middle;\n",
       "    }\n",
       "\n",
       "    .dataframe tbody tr th {\n",
       "        vertical-align: top;\n",
       "    }\n",
       "\n",
       "    .dataframe thead th {\n",
       "        text-align: right;\n",
       "    }\n",
       "</style>\n",
       "<table border=\"1\" class=\"dataframe\">\n",
       "  <thead>\n",
       "    <tr style=\"text-align: right;\">\n",
       "      <th></th>\n",
       "      <th>regularisation_param</th>\n",
       "      <th>sensitivity</th>\n",
       "      <th>specificity</th>\n",
       "      <th>auc</th>\n",
       "      <th>accuracy</th>\n",
       "      <th>feature_importance</th>\n",
       "    </tr>\n",
       "  </thead>\n",
       "  <tbody>\n",
       "    <tr>\n",
       "      <th>Lasso</th>\n",
       "      <td>NaN</td>\n",
       "      <td>0.984772</td>\n",
       "      <td>0.985140</td>\n",
       "      <td>0.984956</td>\n",
       "      <td>0.984953</td>\n",
       "      <td>{'teamtowerkills': 4.627730298604535, 'earnedg...</td>\n",
       "    </tr>\n",
       "    <tr>\n",
       "      <th>Ridge</th>\n",
       "      <td>0.975</td>\n",
       "      <td>0.988156</td>\n",
       "      <td>0.975524</td>\n",
       "      <td>0.981840</td>\n",
       "      <td>0.981943</td>\n",
       "      <td>{'teamtowerkills': 0.6440156793660217, 'goldsp...</td>\n",
       "    </tr>\n",
       "    <tr>\n",
       "      <th>Elasticnet</th>\n",
       "      <td>{'l1_ratio': 0.01, 'alpha': 0.04401767970008986}</td>\n",
       "      <td>0.990694</td>\n",
       "      <td>0.973776</td>\n",
       "      <td>0.982235</td>\n",
       "      <td>0.982373</td>\n",
       "      <td>{'teamtowerkills': 0.2574009723169503, 'd': -0...</td>\n",
       "    </tr>\n",
       "    <tr>\n",
       "      <th>RandomForest</th>\n",
       "      <td>{'bootstrap': False, 'max_features': 'sqrt', '...</td>\n",
       "      <td>0.986464</td>\n",
       "      <td>0.969406</td>\n",
       "      <td>0.977935</td>\n",
       "      <td>0.978074</td>\n",
       "      <td>{'teamtowerkills': 0.25351262411020753, 'earne...</td>\n",
       "    </tr>\n",
       "  </tbody>\n",
       "</table>\n",
       "</div>"
      ],
      "text/plain": [
       "                                           regularisation_param  sensitivity  \\\n",
       "Lasso                                                       NaN     0.984772   \n",
       "Ridge                                                     0.975     0.988156   \n",
       "Elasticnet     {'l1_ratio': 0.01, 'alpha': 0.04401767970008986}     0.990694   \n",
       "RandomForest  {'bootstrap': False, 'max_features': 'sqrt', '...     0.986464   \n",
       "\n",
       "              specificity       auc  accuracy  \\\n",
       "Lasso            0.985140  0.984956  0.984953   \n",
       "Ridge            0.975524  0.981840  0.981943   \n",
       "Elasticnet       0.973776  0.982235  0.982373   \n",
       "RandomForest     0.969406  0.977935  0.978074   \n",
       "\n",
       "                                             feature_importance  \n",
       "Lasso         {'teamtowerkills': 4.627730298604535, 'earnedg...  \n",
       "Ridge         {'teamtowerkills': 0.6440156793660217, 'goldsp...  \n",
       "Elasticnet    {'teamtowerkills': 0.2574009723169503, 'd': -0...  \n",
       "RandomForest  {'teamtowerkills': 0.25351262411020753, 'earne...  "
      ]
     },
     "execution_count": 37,
     "metadata": {},
     "output_type": "execute_result"
    }
   ],
   "source": [
    "# Create summary table\n",
    "for key in logistic_L1penalty_model_dict.keys():\n",
    "    model_summary_dict[key] = [logistic_L1penalty_model_dict[key], ridge_model_dict[key], elasticnet_model_dict[key], rf_model_dict[key]]\n",
    "model_summary_table = pd.DataFrame(model_summary_dict, columns = logistic_L1penalty_model_dict.keys())\n",
    "model_summary_table.rename(index={0:'Lasso', 1:'Ridge', 2:'Elasticnet', 3:'RandomForest'}, inplace = True)\n",
    "\n",
    "# Visualize summary table\n",
    "model_summary_table"
   ]
  },
  {
   "cell_type": "markdown",
   "metadata": {},
   "source": [
    "##### Investigate accuracy metrics"
   ]
  },
  {
   "cell_type": "code",
   "execution_count": 38,
   "metadata": {
    "ExecuteTime": {
     "end_time": "2019-08-24T18:57:20.903389Z",
     "start_time": "2019-08-24T18:57:20.668202Z"
    }
   },
   "outputs": [
    {
     "data": {
      "text/plain": [
       "<matplotlib.legend.Legend at 0x7f53cd01e320>"
      ]
     },
     "execution_count": 38,
     "metadata": {},
     "output_type": "execute_result"
    },
    {
     "data": {
      "image/png": "[encoded data removed]",
      "text/plain": [
       "<Figure size 432x288 with 1 Axes>"
      ]
     },
     "metadata": {
      "needs_background": "light"
     },
     "output_type": "display_data"
    }
   ],
   "source": [
    "# Visualize a summarization of the accuracy metrics for the different ML methods\n",
    "fig, ax = plt.subplots()\n",
    "ax.plot(list(model_summary_table.index), model_summary_table.sensitivity, '--', label=\"sensitivity\", color='lightskyblue')\n",
    "ax.plot(list(model_summary_table.index), model_summary_table.specificity, '--', label=\"specificity\", color='lightblue')\n",
    "ax.plot(list(model_summary_table.index), model_summary_table.accuracy, label=\"accuracy\", color='royalblue')\n",
    "plt.title(\"Sensitivity, specificity and accuracy regularization models\")\n",
    "plt.ylabel('Value')\n",
    "plt.xlabel('ML model')\n",
    "ax.legend(loc =\"best\", fontsize = 8)"
   ]
  },
  {
   "cell_type": "markdown",
   "metadata": {},
   "source": [
    "##### Investigate parameter coefficients"
   ]
  },
  {
   "cell_type": "code",
   "execution_count": 39,
   "metadata": {
    "ExecuteTime": {
     "end_time": "2019-08-24T18:57:20.911806Z",
     "start_time": "2019-08-24T18:57:20.905443Z"
    }
   },
   "outputs": [
    {
     "name": "stdout",
     "output_type": "stream",
     "text": [
      "The number of features kept by the different techniques in the model:\n",
      " ----------------------------------------------------------------------------------------------------\n",
      "Lasso :  21\n",
      "Ridge :  67\n",
      "Elasticnet :  67\n",
      "RandomForest :  67\n"
     ]
    }
   ],
   "source": [
    "# Short intermediate summary\n",
    "print(\"The number of features kept by the different techniques in the model:\\n\", \"-\"*100)\n",
    "for ML in list(model_summary_table.index):\n",
    "    print(ML, \": \", len(model_summary_table.feature_importance[ML]))"
   ]
  },
  {
   "cell_type": "code",
   "execution_count": 40,
   "metadata": {
    "ExecuteTime": {
     "end_time": "2019-08-24T18:57:21.162413Z",
     "start_time": "2019-08-24T18:57:20.913659Z"
    }
   },
   "outputs": [
    {
     "data": {
      "image/png": "[encoded data removed]",
      "text/plain": [
       "<Figure size 432x288 with 1 Axes>"
      ]
     },
     "metadata": {
      "needs_background": "light"
     },
     "output_type": "display_data"
    }
   ],
   "source": [
    "# Visualization of difference in coefficient estimates\n",
    "plt.plot(fitted_elasticnet_model.coef_, color='darkorange', linewidth=2,\n",
    "         label='Elastic net coefficients')\n",
    "plt.plot(fitted_logistic_L1penalty_model.coef_[0], color='yellowgreen', linewidth=2,\n",
    "         label='Lasso coefficients')\n",
    "plt.plot(fitted_ridge_model.coef_[0], '--', color='dodgerblue', label='Ridge coefficients')\n",
    "plt.legend(loc='best')\n",
    "plt.title(\"Comparison parameter coefficients\")\n",
    "plt.ylabel('Coefficient')\n",
    "plt.xlabel('Feature ID')\n",
    "plt.show()"
   ]
  },
  {
   "cell_type": "code",
   "execution_count": 41,
   "metadata": {
    "ExecuteTime": {
     "end_time": "2019-08-24T18:57:25.218555Z",
     "start_time": "2019-08-24T18:57:21.164529Z"
    },
    "scrolled": false
   },
   "outputs": [
    {
     "data": {
      "image/png": "[encoded data removed]",
      "text/plain": [
       "<Figure size 360x576 with 1 Axes>"
      ]
     },
     "metadata": {
      "needs_background": "light"
     },
     "output_type": "display_data"
    },
    {
     "data": {
      "image/png": "[encoded data removed]",
      "text/plain": [
       "<Figure size 360x1008 with 1 Axes>"
      ]
     },
     "metadata": {
      "needs_background": "light"
     },
     "output_type": "display_data"
    },
    {
     "data": {
      "image/png": "[encoded data removed]",
      "text/plain": [
       "<Figure size 360x1008 with 1 Axes>"
      ]
     },
     "metadata": {
      "needs_background": "light"
     },
     "output_type": "display_data"
    },
    {
     "data": {
      "image/png": "[encoded data removed]",
      "text/plain": [
       "<Figure size 360x1008 with 1 Axes>"
      ]
     },
     "metadata": {
      "needs_background": "light"
     },
     "output_type": "display_data"
    }
   ],
   "source": [
    "# Visualize feature importance (coefficient based)\n",
    "for index, ML in enumerate(list(model_summary_table.index)):\n",
    "    x =  np.arange(len(model_summary_table.feature_importance[ML]))\n",
    "    plt.figure(figsize=(5, 8)) if index == 0 else plt.figure(figsize=(5, 14)) \n",
    "    plt.barh(x, list(model_summary_table.feature_importance[ML].values()), \n",
    "             tick_label =  list(model_summary_table.feature_importance[ML].keys()),\n",
    "             color = 'mediumslateblue', \n",
    "             edgecolor = 'slateblue')\n",
    "    plt.title(\"Feature coefficient estimates \" + ML + \" classification\")\n",
    "    plt.ylabel('Feature')\n",
    "    plt.xlabel('Coefficient')\n",
    "    plt.show()"
   ]
  },
  {
   "cell_type": "markdown",
   "metadata": {},
   "source": [
    "## 4. Create team specific summary vectors"
   ]
  },
  {
   "cell_type": "markdown",
   "metadata": {
    "ExecuteTime": {
     "end_time": "2019-03-26T08:44:26.367395Z",
     "start_time": "2019-03-26T08:44:26.305732Z"
    }
   },
   "source": [
    "### 4.1 Create dataset capturing the average feature values per team\n",
    "A team specific summary vector will be created by looping through all the features captured by the dataset and taking the average over all the games played by that team (for a specific feature). To have a better indication of the accuracy of the team vector another column is added at the end indicating the number of games on which the calculation is based."
   ]
  },
  {
   "cell_type": "code",
   "execution_count": 42,
   "metadata": {
    "ExecuteTime": {
     "end_time": "2019-08-24T18:57:28.502145Z",
     "start_time": "2019-08-24T18:57:25.223115Z"
    }
   },
   "outputs": [],
   "source": [
    "# Extract list with the different teams\n",
    "teams = list(set(data_raw.team))\n",
    "team_vector_cols = list(data.columns)\n",
    "team_vector_cols.append('accuracy indicator')\n",
    "\n",
    "# Create summary vector for each team\n",
    "team_info_list = []\n",
    "for team in teams:\n",
    "    team_vector = []\n",
    "    team_subdf = data_raw[data_raw.team == team]\n",
    "    # Loop through the different columns\n",
    "    for col in data.columns:\n",
    "        # Take the mean over column values for numerical features\n",
    "        if 'Encoded' not in col:\n",
    "            team_vector.append(team_subdf[col].mean())\n",
    "        # Take the majority value over column values for discrete features\n",
    "        else: \n",
    "            team_vector.append(RandomSampleProbDist(team_subdf[col]))\n",
    "    # Add accuracy indicator\n",
    "    team_vector.append(len(team_subdf))\n",
    "    team_info_list.append(team_vector)\n",
    "    \n",
    "# Create summary dataframe\n",
    "team_vector_df = pd.DataFrame(data = team_info_list, index=teams, columns=team_vector_cols)"
   ]
  },
  {
   "cell_type": "code",
   "execution_count": 43,
   "metadata": {
    "ExecuteTime": {
     "end_time": "2019-08-24T18:57:28.511565Z",
     "start_time": "2019-08-24T18:57:28.504815Z"
    }
   },
   "outputs": [
    {
     "name": "stdout",
     "output_type": "stream",
     "text": [
      "Summary information team vector dataframe: Team specific feature vectors are captured for 151 teams.\n",
      "\n",
      "The teams indicating feature vectors based on less than 10 games:\n",
      " ----------------------------------------------------------------------------------------------------\n",
      "oyunhizmetleri\n",
      "mega esports\n",
      "young generation\n",
      "pentagram\n",
      "besiktas\n",
      "infinity esports\n",
      "bombers\n",
      "cj entus\n",
      "rainbow7\n",
      "kinguin\n",
      "17 academy\n",
      "virtus.pro\n"
     ]
    }
   ],
   "source": [
    "# Intermediate summary\n",
    "print(\"Summary information team vector dataframe: Team specific feature vectors are captured for\", len(team_vector_df), \"teams.\\n\")\n",
    "\n",
    "# Extract vector accuracy information\n",
    "print(\"The teams indicating feature vectors based on less than 10 games:\\n\", '-'*100)\n",
    "for team, acc_ind in zip(list(team_vector_df.index), team_vector_df['accuracy indicator']):\n",
    "    if acc_ind < 10:\n",
    "        print(team)"
   ]
  },
  {
   "cell_type": "code",
   "execution_count": 44,
   "metadata": {
    "ExecuteTime": {
     "end_time": "2019-08-24T18:57:29.125462Z",
     "start_time": "2019-08-24T18:57:28.513356Z"
    }
   },
   "outputs": [
    {
     "name": "stdout",
     "output_type": "stream",
     "text": [
      "==================================================================================================== \n",
      "Overview of variable:  Accuracy indicator \n",
      " ====================================================================================================\n"
     ]
    },
    {
     "data": {
      "image/png": "[encoded data removed]",
      "text/plain": [
       "<Figure size 432x288 with 1 Axes>"
      ]
     },
     "metadata": {
      "needs_background": "light"
     },
     "output_type": "display_data"
    },
    {
     "name": "stdout",
     "output_type": "stream",
     "text": [
      "-------------------- \n",
      "Summary statistics:\n",
      " --------------------\n",
      "Minimum value: 3\n",
      "Mean: 102.6755\n",
      "Standard deviation: 89.7289\n",
      "Median: 76\n",
      "Maximal value: 345\n"
     ]
    },
    {
     "data": {
      "image/png": "[encoded data removed]",
      "text/plain": [
       "<Figure size 432x288 with 1 Axes>"
      ]
     },
     "metadata": {
      "needs_background": "light"
     },
     "output_type": "display_data"
    },
    {
     "name": "stdout",
     "output_type": "stream",
     "text": [
      "-------------------- \n",
      "Outlier detection:\n",
      " --------------------\n",
      "List of outliers: set()\n"
     ]
    },
    {
     "data": {
      "image/png": "[encoded data removed]",
      "text/plain": [
       "<Figure size 432x288 with 1 Axes>"
      ]
     },
     "metadata": {
      "needs_background": "light"
     },
     "output_type": "display_data"
    },
    {
     "name": "stdout",
     "output_type": "stream",
     "text": [
      "-------------------- \n",
      "Check for normal distribution:\n",
      " --------------------\n",
      "Skewedness: 0.8962\n",
      "Kurtosis: -0.22\n"
     ]
    },
    {
     "data": {
      "text/plain": [
       "<Figure size 432x288 with 0 Axes>"
      ]
     },
     "metadata": {},
     "output_type": "display_data"
    }
   ],
   "source": [
    "# Accuracy indicator distribution\n",
    "SummaryNumericVar(team_vector_df['accuracy indicator'], 'Accuracy indicator')"
   ]
  },
  {
   "cell_type": "markdown",
   "metadata": {},
   "source": [
    "### 4.2 Estimate team strength parameters"
   ]
  },
  {
   "cell_type": "code",
   "execution_count": 45,
   "metadata": {
    "ExecuteTime": {
     "end_time": "2019-08-24T18:57:29.131044Z",
     "start_time": "2019-08-24T18:57:29.127594Z"
    }
   },
   "outputs": [],
   "source": [
    "# Create dictionary to capture strength parameter information\n",
    "strength_param_dict = dict()\n",
    "\n",
    "# Extract columns not used for model fit\n",
    "additional_columns = ['result', 'accuracy indicator']\n",
    "strength_param_dict['accuracy indicator'] = team_vector_df['accuracy indicator']"
   ]
  },
  {
   "cell_type": "markdown",
   "metadata": {},
   "source": [
    "##### Lasso classification based parameter approximation"
   ]
  },
  {
   "cell_type": "code",
   "execution_count": 46,
   "metadata": {
    "ExecuteTime": {
     "end_time": "2019-08-24T18:57:29.176415Z",
     "start_time": "2019-08-24T18:57:29.133105Z"
    }
   },
   "outputs": [],
   "source": [
    "# 1. Fit (trained) lasso classification model\n",
    "strength_param_dict['lasso'] = [y for x, y in fitted_logistic_L1penalty_model.predict_proba(team_vector_df[selected_features_rfe])]"
   ]
  },
  {
   "cell_type": "markdown",
   "metadata": {},
   "source": [
    "##### Ridge classification based parameter approximation"
   ]
  },
  {
   "cell_type": "code",
   "execution_count": 47,
   "metadata": {
    "ExecuteTime": {
     "end_time": "2019-08-24T18:57:29.239392Z",
     "start_time": "2019-08-24T18:57:29.178586Z"
    },
    "scrolled": true
   },
   "outputs": [],
   "source": [
    "# 2. Fit ridge classification model with best regularisation parameter based on CV\n",
    "additional_columns = ['result', 'accuracy indicator']\n",
    "ridge = RidgeClassifier(alpha = ridge_model_dict['regularisation_param'], fit_intercept = False)\n",
    "fitted_ridge = ridge.fit(x_train, y_train)\n",
    "logit_trans_predictions_ridge = fitted_ridge.decision_function(team_vector_df[[x for x in data.columns if x not in additional_columns]])\n",
    "strength_param_dict['ridge'] = np.exp(logit_trans_predictions_ridge) / (1 + np.exp(logit_trans_predictions_ridge))"
   ]
  },
  {
   "cell_type": "markdown",
   "metadata": {},
   "source": [
    "Remark: There is no predicted probability option for the RidgeClassifier because this model is not easy to interpret as a probability model. The decision function of the RidgeClassifier model considers a logit transformation of the actual class probabilities. If decision function is greater than zero then class 1 is predicted otherwise predict class 0, corresponding to a classical logit approach. By back-transforming these predictions we can get the predicted probabilities."
   ]
  },
  {
   "cell_type": "markdown",
   "metadata": {},
   "source": [
    "##### Result averaging based parameter approximation"
   ]
  },
  {
   "cell_type": "code",
   "execution_count": 48,
   "metadata": {
    "ExecuteTime": {
     "end_time": "2019-08-24T18:57:29.259555Z",
     "start_time": "2019-08-24T18:57:29.242728Z"
    }
   },
   "outputs": [],
   "source": [
    "# 3. Expected outcome of the game based on team-vector averaging \n",
    "strength_param_dict['result'] = team_vector_df['result']"
   ]
  },
  {
   "cell_type": "code",
   "execution_count": 49,
   "metadata": {
    "ExecuteTime": {
     "end_time": "2019-08-24T18:57:29.309999Z",
     "start_time": "2019-08-24T18:57:29.261198Z"
    }
   },
   "outputs": [
    {
     "data": {
      "text/html": [
       "<div>\n",
       "<style scoped>\n",
       "    .dataframe tbody tr th:only-of-type {\n",
       "        vertical-align: middle;\n",
       "    }\n",
       "\n",
       "    .dataframe tbody tr th {\n",
       "        vertical-align: top;\n",
       "    }\n",
       "\n",
       "    .dataframe thead th {\n",
       "        text-align: right;\n",
       "    }\n",
       "</style>\n",
       "<table border=\"1\" class=\"dataframe\">\n",
       "  <thead>\n",
       "    <tr style=\"text-align: right;\">\n",
       "      <th></th>\n",
       "      <th>accuracy indicator</th>\n",
       "      <th>lasso</th>\n",
       "      <th>ridge</th>\n",
       "      <th>result</th>\n",
       "    </tr>\n",
       "  </thead>\n",
       "  <tbody>\n",
       "    <tr>\n",
       "      <th>paris saint-germain</th>\n",
       "      <td>23</td>\n",
       "      <td>0.101704</td>\n",
       "      <td>0.462875</td>\n",
       "      <td>0.347826</td>\n",
       "    </tr>\n",
       "    <tr>\n",
       "      <th>kongdoo monster</th>\n",
       "      <td>90</td>\n",
       "      <td>0.006429</td>\n",
       "      <td>0.394476</td>\n",
       "      <td>0.277778</td>\n",
       "    </tr>\n",
       "    <tr>\n",
       "      <th>dark passage</th>\n",
       "      <td>127</td>\n",
       "      <td>0.091005</td>\n",
       "      <td>0.449149</td>\n",
       "      <td>0.409449</td>\n",
       "    </tr>\n",
       "    <tr>\n",
       "      <th>uppercut</th>\n",
       "      <td>21</td>\n",
       "      <td>0.228604</td>\n",
       "      <td>0.488439</td>\n",
       "      <td>0.523810</td>\n",
       "    </tr>\n",
       "    <tr>\n",
       "      <th>ksv esports</th>\n",
       "      <td>46</td>\n",
       "      <td>0.136987</td>\n",
       "      <td>0.446163</td>\n",
       "      <td>0.500000</td>\n",
       "    </tr>\n",
       "  </tbody>\n",
       "</table>\n",
       "</div>"
      ],
      "text/plain": [
       "                     accuracy indicator     lasso     ridge    result\n",
       "paris saint-germain                  23  0.101704  0.462875  0.347826\n",
       "kongdoo monster                      90  0.006429  0.394476  0.277778\n",
       "dark passage                        127  0.091005  0.449149  0.409449\n",
       "uppercut                             21  0.228604  0.488439  0.523810\n",
       "ksv esports                          46  0.136987  0.446163  0.500000"
      ]
     },
     "execution_count": 49,
     "metadata": {},
     "output_type": "execute_result"
    }
   ],
   "source": [
    "# Create dataframe of strength parameter summarization\n",
    "strength_param_df = pd.DataFrame(strength_param_dict)\n",
    "strength_param_df.head()"
   ]
  },
  {
   "cell_type": "markdown",
   "metadata": {},
   "source": [
    "### 4.3 Investigation strength parameter characteristics"
   ]
  },
  {
   "cell_type": "code",
   "execution_count": 50,
   "metadata": {
    "ExecuteTime": {
     "end_time": "2019-08-24T18:57:31.088821Z",
     "start_time": "2019-08-24T18:57:29.311522Z"
    },
    "scrolled": false
   },
   "outputs": [
    {
     "name": "stdout",
     "output_type": "stream",
     "text": [
      "==================================================================================================== \n",
      "Overview of variable:  lasso \n",
      " ====================================================================================================\n"
     ]
    },
    {
     "data": {
      "image/png": "[encoded data removed]",
      "text/plain": [
       "<Figure size 432x288 with 1 Axes>"
      ]
     },
     "metadata": {
      "needs_background": "light"
     },
     "output_type": "display_data"
    },
    {
     "name": "stdout",
     "output_type": "stream",
     "text": [
      "-------------------- \n",
      "Summary statistics:\n",
      " --------------------\n",
      "Minimum value: 4.20256105816026e-05\n",
      "Mean: 0.3056\n",
      "Standard deviation: 0.3135\n",
      "Median: 0.1668\n",
      "Maximal value: 0.9967369326654091\n"
     ]
    },
    {
     "data": {
      "image/png": "[encoded data removed]",
      "text/plain": [
       "<Figure size 432x288 with 1 Axes>"
      ]
     },
     "metadata": {
      "needs_background": "light"
     },
     "output_type": "display_data"
    },
    {
     "name": "stdout",
     "output_type": "stream",
     "text": [
      "-------------------- \n",
      "Outlier detection:\n",
      " --------------------\n",
      "List of outliers: set()\n"
     ]
    },
    {
     "data": {
      "image/png": "[encoded data removed]",
      "text/plain": [
       "<Figure size 432x288 with 1 Axes>"
      ]
     },
     "metadata": {
      "needs_background": "light"
     },
     "output_type": "display_data"
    },
    {
     "name": "stdout",
     "output_type": "stream",
     "text": [
      "-------------------- \n",
      "Check for normal distribution:\n",
      " --------------------\n",
      "Skewedness: 0.8092\n",
      "Kurtosis: -0.7348\n",
      "==================================================================================================== \n",
      "Overview of variable:  ridge \n",
      " ====================================================================================================\n"
     ]
    },
    {
     "data": {
      "image/png": "[encoded data removed]",
      "text/plain": [
       "<Figure size 432x288 with 1 Axes>"
      ]
     },
     "metadata": {
      "needs_background": "light"
     },
     "output_type": "display_data"
    },
    {
     "name": "stdout",
     "output_type": "stream",
     "text": [
      "-------------------- \n",
      "Summary statistics:\n",
      " --------------------\n",
      "Minimum value: 0.2658691193258151\n",
      "Mean: 0.4723\n",
      "Standard deviation: 0.0695\n",
      "Median: 0.4755\n",
      "Maximal value: 0.6726538737823414\n"
     ]
    },
    {
     "data": {
      "image/png": "[encoded data removed]",
      "text/plain": [
       "<Figure size 432x288 with 1 Axes>"
      ]
     },
     "metadata": {
      "needs_background": "light"
     },
     "output_type": "display_data"
    },
    {
     "name": "stdout",
     "output_type": "stream",
     "text": [
      "-------------------- \n",
      "Outlier detection:\n",
      " --------------------\n",
      "List of outliers: set()\n"
     ]
    },
    {
     "data": {
      "image/png": "[encoded data removed]",
      "text/plain": [
       "<Figure size 432x288 with 1 Axes>"
      ]
     },
     "metadata": {
      "needs_background": "light"
     },
     "output_type": "display_data"
    },
    {
     "name": "stdout",
     "output_type": "stream",
     "text": [
      "-------------------- \n",
      "Check for normal distribution:\n",
      " --------------------\n",
      "Skewedness: -0.202\n",
      "Kurtosis: 0.1849\n",
      "==================================================================================================== \n",
      "Overview of variable:  result \n",
      " ====================================================================================================\n"
     ]
    },
    {
     "data": {
      "image/png": "[encoded data removed]",
      "text/plain": [
       "<Figure size 432x288 with 1 Axes>"
      ]
     },
     "metadata": {
      "needs_background": "light"
     },
     "output_type": "display_data"
    },
    {
     "name": "stdout",
     "output_type": "stream",
     "text": [
      "-------------------- \n",
      "Summary statistics:\n",
      " --------------------\n",
      "Minimum value: 0.0\n",
      "Mean: 0.4353\n",
      "Standard deviation: 0.15\n",
      "Median: 0.4504\n",
      "Maximal value: 0.7631578947368421\n"
     ]
    },
    {
     "data": {
      "image/png": "[encoded data removed]",
      "text/plain": [
       "<Figure size 432x288 with 1 Axes>"
      ]
     },
     "metadata": {
      "needs_background": "light"
     },
     "output_type": "display_data"
    },
    {
     "name": "stdout",
     "output_type": "stream",
     "text": [
      "-------------------- \n",
      "Outlier detection:\n",
      " --------------------\n",
      "List of outliers: set()\n"
     ]
    },
    {
     "data": {
      "image/png": "[encoded data removed]",
      "text/plain": [
       "<Figure size 432x288 with 1 Axes>"
      ]
     },
     "metadata": {
      "needs_background": "light"
     },
     "output_type": "display_data"
    },
    {
     "name": "stdout",
     "output_type": "stream",
     "text": [
      "-------------------- \n",
      "Check for normal distribution:\n",
      " --------------------\n",
      "Skewedness: -0.4101\n",
      "Kurtosis: 0.1671\n"
     ]
    },
    {
     "data": {
      "text/plain": [
       "<Figure size 432x288 with 0 Axes>"
      ]
     },
     "metadata": {},
     "output_type": "display_data"
    }
   ],
   "source": [
    "# Visualisation strength parameter distributions (based on the different techniques)\n",
    "for col in strength_param_df.columns[1:]:\n",
    "    SummaryNumericVar(strength_param_df[col], col)"
   ]
  },
  {
   "cell_type": "markdown",
   "metadata": {
    "ExecuteTime": {
     "end_time": "2019-03-26T14:30:10.779352Z",
     "start_time": "2019-03-26T14:30:10.606507Z"
    }
   },
   "source": [
    "### 4.4 Write data away"
   ]
  },
  {
   "cell_type": "code",
   "execution_count": 51,
   "metadata": {
    "ExecuteTime": {
     "end_time": "2019-08-24T18:57:31.103526Z",
     "start_time": "2019-08-24T18:57:31.090895Z"
    }
   },
   "outputs": [],
   "source": [
    "# Save the team strength parameter data\n",
    "with open('/home/je32910/MasterThesis_ComputationalStatistics/pickles/' + saved_filename + '.pickle', 'wb') as f:\n",
    "    pickle.dump(strength_param_df, f)"
   ]
  },
  {
   "cell_type": "code",
   "execution_count": null,
   "metadata": {},
   "outputs": [],
   "source": []
  }
 ],
 "metadata": {
  "kernelspec": {
   "display_name": "Python [conda env:python36]",
   "language": "python",
   "name": "conda-env-python36-py"
  },
  "language_info": {
   "codemirror_mode": {
    "name": "ipython",
    "version": 3
   },
   "file_extension": ".py",
   "mimetype": "text/x-python",
   "name": "python",
   "nbconvert_exporter": "python",
   "pygments_lexer": "ipython3",
   "version": "3.6.8"
  }
 },
 "nbformat": 4,
 "nbformat_minor": 2
}
