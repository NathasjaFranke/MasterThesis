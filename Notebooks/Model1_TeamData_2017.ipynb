{
 "cells": [
  {
   "cell_type": "markdown",
   "metadata": {},
   "source": [
    "# Model 1: Estimation of team strength parameters (Team data)"
   ]
  },
  {
   "cell_type": "code",
   "execution_count": 1,
   "metadata": {
    "ExecuteTime": {
     "end_time": "2019-07-19T13:32:04.716920Z",
     "start_time": "2019-07-19T13:32:04.713553Z"
    }
   },
   "outputs": [],
   "source": [
    "# Initialization\n",
    "loaded_pp_filename = 'teamdata2017_preprocessed'\n",
    "loaded_std_filename = 'teamdata2017_standardized'\n",
    "saved_filename = 'teamdata2017_strenghtparam'\n",
    "#loaded_pp_filename = 'teamdata2018_preprocessed'\n",
    "#loaded_std_filename = 'teamdata2018_standardized'\n",
    "#saved_filename = 'teamdata2018_strenghtparam'"
   ]
  },
  {
   "cell_type": "markdown",
   "metadata": {},
   "source": [
    "## 0. Load libraries and define functions"
   ]
  },
  {
   "cell_type": "markdown",
   "metadata": {},
   "source": [
    "### 0.1 General python functionality"
   ]
  },
  {
   "cell_type": "code",
   "execution_count": 2,
   "metadata": {
    "ExecuteTime": {
     "end_time": "2019-07-19T13:32:05.641023Z",
     "start_time": "2019-07-19T13:32:04.721907Z"
    }
   },
   "outputs": [],
   "source": [
    "# Functions\n",
    "import numpy as np\n",
    "import os\n",
    "import pickle\n",
    "import pandas as pd\n",
    "import operator\n",
    "import itertools\n",
    "from numpy.random import choice\n",
    "from collections import Counter\n",
    "import statistics\n",
    "from scipy import stats\n",
    "\n",
    "# Functions used for data visualization\n",
    "import seaborn as sns\n",
    "sns.set(context = \"paper\", font = \"monospace\")\n",
    "import matplotlib.pyplot as plt"
   ]
  },
  {
   "cell_type": "code",
   "execution_count": 3,
   "metadata": {
    "ExecuteTime": {
     "end_time": "2019-07-19T13:32:06.054568Z",
     "start_time": "2019-07-19T13:32:05.643073Z"
    }
   },
   "outputs": [],
   "source": [
    "# Special functions needed for custom functions\n",
    "import sklearn\n",
    "from sklearn.model_selection import train_test_split\n",
    "from sklearn.linear_model import Ridge, RidgeCV, RidgeClassifierCV, LogisticRegression, ElasticNetCV, ElasticNet, Lasso, RidgeClassifier\n",
    "from sklearn import metrics\n",
    "from sklearn.feature_selection import RFECV\n",
    "from sklearn.ensemble import RandomForestClassifier\n",
    "from sklearn.model_selection import GridSearchCV"
   ]
  },
  {
   "cell_type": "code",
   "execution_count": 4,
   "metadata": {
    "ExecuteTime": {
     "end_time": "2019-07-19T13:32:06.060412Z",
     "start_time": "2019-07-19T13:32:06.057479Z"
    }
   },
   "outputs": [],
   "source": [
    "# Surpress printing warnings\n",
    "import warnings\n",
    "warnings.filterwarnings(\"ignore\")"
   ]
  },
  {
   "cell_type": "markdown",
   "metadata": {},
   "source": [
    "### 0.2 Custom functions"
   ]
  },
  {
   "cell_type": "code",
   "execution_count": 5,
   "metadata": {
    "ExecuteTime": {
     "end_time": "2019-07-19T13:32:06.093971Z",
     "start_time": "2019-07-19T13:32:06.062848Z"
    }
   },
   "outputs": [],
   "source": [
    "### Function used to return a summary for categorical variables\n",
    "def SummaryCategoricalVar(list_of_values, title, threshold = 20, top = 10):\n",
    "    \"\"\"\n",
    "    param: list_of_values (list): A list of categorical values from which we like to obtain the distribution\n",
    "    param: title (string): The title for the visualization\n",
    "    param: threshold (int): The maximal number of categories that should be visualized\n",
    "    param: top (int): The top k values that should be returned in the written summary when the number of categories is above the threshold\n",
    "    \"\"\"\n",
    "    # Count the number of occurrances in the list\n",
    "    cnt = Counter(list_of_values)\n",
    "    sorted_cnt = sorted(cnt.items(), key=operator.itemgetter(1))[::-1]\n",
    "    \n",
    "    # Show the percentage dictionary if to many categories to represent\n",
    "    print(\"-\"* 100, \"\\nOverview of variable: \", title, \"\\n\", \"-\"*100)\n",
    "    print(\"Total categories:\", len(cnt), \"\\n\")\n",
    "    if len(cnt) > threshold:\n",
    "        if len(cnt) < top*2:\n",
    "            for key, value in sorted_cnt:\n",
    "                print(key, ':', round(value/len(list_of_values)*100, 4), \"%\")\n",
    "        else:\n",
    "            print(\"The 10 with the highest percentage data available:\\n\")\n",
    "            for key, value in sorted_cnt[:top]:\n",
    "                print(key, ':', round(value/len(list_of_values)*100, 4), \"%\")\n",
    "            print(\"\\nThe 10 with the lowest percentage data available:\\n\")\n",
    "            for key, value in sorted_cnt[len(cnt) - top:]:\n",
    "                print(key, ':', round(value/len(list_of_values)*100, 4), \"%\")\n",
    "                \n",
    "    # Visualization of labelled data distribution\n",
    "    else:\n",
    "        plt.barh(range(1, len(sorted_cnt)+1), \n",
    "                 list(map(lambda x: (x/len(list_of_values)*100), [score for label, score in sorted_cnt])), \n",
    "                 tick_label = list([label for label, score in sorted_cnt]),\n",
    "                 color = 'cornflowerblue', \n",
    "                 edgecolor = 'steelblue')\n",
    "        plt.ylabel('Label')\n",
    "        plt.xlabel('Percentage observations in dataset')\n",
    "        plt.title(title)\n",
    "        plt.show()    \n",
    "        plt.savefig('Barplot_' + title + '.png')"
   ]
  },
  {
   "cell_type": "code",
   "execution_count": 6,
   "metadata": {
    "ExecuteTime": {
     "end_time": "2019-07-19T13:32:06.127394Z",
     "start_time": "2019-07-19T13:32:06.096152Z"
    }
   },
   "outputs": [],
   "source": [
    "### Function used to return a summary for numeric variables\n",
    "def SummaryNumericVar(list_of_values, title):\n",
    "    \"\"\"\n",
    "    param: list_of_values (list): A list of categorical values from which we like to obtain the distribution\n",
    "    param: title (string): The title for the visualization\n",
    "    \"\"\"\n",
    "    \n",
    "    # Title varibale\n",
    "    print(\"=\"* 100, \"\\nOverview of variable: \", title, \"\\n\", \"=\"*100)\n",
    "\n",
    "    # An \"interface\" to matplotlib.axes.Axes.hist() method\n",
    "    n, bins, patches = plt.hist(x = list_of_values, bins='auto', color= '#0504aa', alpha=0.7, rwidth=0.85)\n",
    "    plt.grid(axis='y', alpha=0.75)\n",
    "    plt.xlabel('Value')\n",
    "    plt.ylabel('Frequency')\n",
    "    plt.title(title)\n",
    "    plt.ylim(top=np.ceil(n.max() / 10) * 10 if n.max() % 10 else n.max() + 10)\n",
    "    plt.show()\n",
    "    plt.savefig('Frequency_' + title + '.png')\n",
    "\n",
    "    # Print summary statistics\n",
    "    print(\"-\"*20, \"\\nSummary statistics:\\n\", \"-\"*20)\n",
    "    print(\"Minimum value:\", min(list_of_values))\n",
    "    print(\"Mean:\", round(statistics.mean(list_of_values), 4))\n",
    "    print(\"Standard deviation:\", round(statistics.stdev(list_of_values), 4))\n",
    "    print(\"Median:\", round(statistics.median(list_of_values), 4))\n",
    "    print(\"Maximal value:\", max(list_of_values))\n",
    "\n",
    "    # Plot boxplot\n",
    "    plt.boxplot(list_of_values, 0, 'grey', 0)\n",
    "    plt.xlabel('Value')\n",
    "    plt.title(title)\n",
    "    plt.show()\n",
    "    plt.savefig('Boxplot_' + title + '.png')\n",
    "\n",
    "    # Present outliers\n",
    "    print(\"-\"*20, \"\\nOutlier detection:\\n\", \"-\"*20)\n",
    "    print(\"List of outliers:\", {round(value,2) for z_score, value in zip(np.abs(stats.zscore(list_of_values)), list_of_values) if z_score > 3})\n",
    "\n",
    "    # Check for normally distributed\n",
    "    stats.probplot(list_of_values, dist=\"norm\", plot= plt)\n",
    "    plt.show()\n",
    "    plt.savefig('Probabilityplot_' + title + '.png')\n",
    "\n",
    "    # Statistics to check normality\n",
    "    print(\"-\"*20, \"\\nCheck for normal distribution:\\n\", \"-\"*20)\n",
    "    print(\"Skewedness:\", round(stats.skew(list_of_values), 4))\n",
    "    print(\"Kurtosis:\", round(stats.kurtosis(list_of_values), 4))"
   ]
  },
  {
   "cell_type": "code",
   "execution_count": 7,
   "metadata": {
    "ExecuteTime": {
     "end_time": "2019-07-19T13:32:06.158279Z",
     "start_time": "2019-07-19T13:32:06.129569Z"
    }
   },
   "outputs": [],
   "source": [
    "### Function used to split the data into training and test data\n",
    "def data_splitter(df, response_name = 'target', split_threshold = 0.15, seed = 42):\n",
    "    \"\"\"\n",
    "    Function used to split a dataframe into test and training data\n",
    "    \n",
    "    param: df (Panda's dataframe object)\n",
    "    param: response_name (string): The name of the response variable in the dataframe\n",
    "    param: split_threshold (float): The split threshold used\n",
    "    param: seed (int): Integer defining the seed for random split of the data\n",
    "    \n",
    "    return: (tuple) A tuple with four pandas dataframe objects\n",
    "    \"\"\"\n",
    "    # Split the dataframe into features and response variable\n",
    "    df_tmp = df.copy()\n",
    "    x, y = df_tmp.drop([response_name], axis = 1), df[response_name]\n",
    "    # Split the feature and response variable into training and test data\n",
    "    x_train, x_test, y_train, y_test = train_test_split(x, y, test_size = split_threshold, random_state = seed)\n",
    "    return (x_train, x_test, y_train, y_test)"
   ]
  },
  {
   "cell_type": "code",
   "execution_count": 8,
   "metadata": {
    "ExecuteTime": {
     "end_time": "2019-07-19T13:32:06.191880Z",
     "start_time": "2019-07-19T13:32:06.160521Z"
    }
   },
   "outputs": [],
   "source": [
    "### Function used to generate a summary of the input model (binary classes)\n",
    "def binary_class_evaluator(model, x_test, y_test, threshold = 0.5, elasticnet = False):\n",
    "    \"\"\"\n",
    "    Function returning a tuple with sensitivity, specificity and AUC metrics for specific model\n",
    "    \n",
    "    param: model (model): The model we like to evaluate\n",
    "    param: x_test (list): List of lists of numpy arrays\n",
    "    param: y_test (list): Binary values indicating the outcome variable\n",
    "    param: threshold (float): The classification threshold used\n",
    "    param: elasticnet (bool): Booling indicator for specifying whether the model is elastic net based\n",
    "\n",
    "    return: A tuple containing the calculated sensitivity, specificity and AUC metrics\n",
    "    \"\"\"\n",
    "    # Calculate the different summary statistics based on the model and test data\n",
    "    test_data =  list(y_test) \n",
    "    model_preds = list(model.predict(x_test)) if not elasticnet else [1.0 if x > 0 else 0.0 for x in model.predict(x_test)]\n",
    "    model_acc = metrics.accuracy_score(test_data, model_preds)\n",
    "    true_pos = len([mp for mp, td in zip(model_preds, test_data) if mp > threshold and td == 1])\n",
    "    false_neg = len([mp for mp, td in zip(model_preds, test_data) if mp < threshold and td == 1])\n",
    "    true_neg = len([mp for mp, td in zip(model_preds, test_data) if mp < threshold and td == 0])\n",
    "    false_pos = len([mp for mp, td in zip(model_preds, test_data) if mp > threshold and td == 0])\n",
    "    \n",
    "    # Print intermediate summary to the user\n",
    "    print(\"Based on a threshold of\", threshold, \"the following summary statistics can be obtained:\\n\", \"-\"*100)\n",
    "    print(true_pos, \"true positives over all positives (the wins that were correctly classified).\")\n",
    "    print(false_pos, \"false positives (the wins that were wrongly classified).\")\n",
    "    print(true_neg, \"true negatives (the losses that were correctly classified).\")\n",
    "    print(false_neg, \"false negatives (the losses that were wrongly classified).\\n\")\n",
    "    print(\"The sensitivity is: \", true_pos / (true_pos + false_neg))\n",
    "    print(\"The specificity is: \", true_neg / (true_neg + false_pos))\n",
    "    \n",
    "    # Plot the ROC curve for the model\n",
    "    print(\"\\n\\nAccuracy:\", model_acc, \"\\n\", \"-\"*100)\n",
    "    fpr, tpr, _ = metrics.roc_curve(test_data, model_preds)\n",
    "    auc = metrics.roc_auc_score(test_data, model_preds)\n",
    "    plt.plot(fpr, tpr, label= \"auc: \" + str(round(auc, 4)))\n",
    "    plt.legend(loc = 4)\n",
    "    plt.title('ROC curve')\n",
    "    plt.show()\n",
    "    \n",
    "    # Return sensitivity and specificity values to the user \n",
    "    return true_pos / (true_pos + false_neg), true_neg / (true_neg + false_pos), auc, model_acc"
   ]
  },
  {
   "cell_type": "code",
   "execution_count": 9,
   "metadata": {
    "ExecuteTime": {
     "end_time": "2019-07-19T13:32:06.227580Z",
     "start_time": "2019-07-19T13:32:06.194801Z"
    }
   },
   "outputs": [],
   "source": [
    "### Function used to plot the confusion matrix (normalization can be applied if desired)\n",
    "def plot_confusion_matrix(model, x_test, y_test, classes, normalize = False, elasticnet = False, cmap = plt.cm.Blues):\n",
    "    \"\"\"\n",
    "    Function that visualizes the confusion matrix based on the predictions made by the fitted model and their correspondence\n",
    "    to the observed test data. The option is available to return the normalized confusion matrix.\n",
    "    \n",
    "    param: model (model): The model we like to evaluate\n",
    "    param: x_test (list): List of lists of numpy arrays\n",
    "    param: y_test (list): Binary values indicating the outcome variable\n",
    "    param: classes (list): A list of classes that correspond to the numbered labels in the confusion matrix in that order.\n",
    "    param: normalize (bool): Booling indicator for specification of returning the normalized or non-normalized confusion matrix.\n",
    "    param: elasticnet (bool): Booling indicator for specifying whether the model is elastic net based\n",
    "    \"\"\"\n",
    "    # Approximate the confusion matrix based on model predictions\n",
    "    model_preds = list(model.predict(x_test)) if not elasticnet else [1.0 if x > 0 else 0.0 for x in model.predict(x_test)]\n",
    "    cm = sklearn.metrics.confusion_matrix(y_test, model_preds)\n",
    "    \n",
    "    # Normalize the cm if desired\n",
    "    title = 'Normalized confusion matrix' if normalize else 'Confusion matrix'\n",
    "    if normalize:\n",
    "        cm = cm.astype('float') / cm.sum(axis=1)[:, np.newaxis]\n",
    "    \n",
    "    # Create confusion matrix\n",
    "    print(title, \":\\n\", \"-\"*100)\n",
    "    plt.imshow(cm, interpolation='nearest', cmap=cmap)\n",
    "    plt.title(title)\n",
    "    plt.colorbar()\n",
    "    tick_marks = np.arange(len(classes))\n",
    "    plt.xticks(tick_marks, classes, rotation=45)\n",
    "    plt.yticks(tick_marks, classes)\n",
    "    fmt = '.2f' if normalize else 'd'\n",
    "    thresh = cm.max() / 2.\n",
    "    for i, j in itertools.product(range(cm.shape[0]), range(cm.shape[1])):\n",
    "        plt.text(j, i, format(cm[i, j], fmt),\n",
    "                 horizontalalignment=\"center\",\n",
    "                 color=\"white\" if cm[i, j] > thresh else \"black\")\n",
    "\n",
    "    plt.tight_layout()\n",
    "    plt.ylabel('True label')\n",
    "    plt.xlabel('Predicted label')\n",
    "    plt.show()"
   ]
  },
  {
   "cell_type": "code",
   "execution_count": 10,
   "metadata": {
    "ExecuteTime": {
     "end_time": "2019-07-19T13:32:06.262538Z",
     "start_time": "2019-07-19T13:32:06.230394Z"
    }
   },
   "outputs": [],
   "source": [
    "### Function used to extract the top10 most important features based on the magnitute of the coefficients\n",
    "def important_features_extractor(model, fitted_features, top = 10, elasticnet = False):\n",
    "    \"\"\"\n",
    "    Function used to extract a dictionary mapping the features used in the model with the estimates of their coefficients\n",
    "    \n",
    "    param: model (model): The model we like to evaluate.\n",
    "    param: fitted_features (list): List capturing the different features evaluated by the model.\n",
    "    param: top (int): The amount of fetaures you like to be printed as output (sorted based on decreasing importance).\n",
    "    param: elasticnet (bool): Booling indicator for specifying whether the model is elastic net based\n",
    "    return: (dict) A dictionary mapping the features with their corresponding coefficient estimates.\n",
    "    \"\"\"\n",
    "    # Extract model coefficients\n",
    "    coefficients = model.coef_[0] if not elasticnet else model.coef_\n",
    "    coef_dict = {col:coef for col, coef in zip(fitted_features, coefficients)}\n",
    "    coef_dict_abs = {col:abs(round(coef,2)) for col, coef in zip(fitted_features, coefficients)}\n",
    "    sorted_coefs = sorted(coef_dict_abs.items(), key=operator.itemgetter(1), reverse= True)\n",
    "\n",
    "    # Return the top ten most important features and their coefficients\n",
    "    print(\"Summary of the important features and their corresponding coefficients:\\n\", '-'*100)\n",
    "    ret_dict = dict()\n",
    "    for index, (col, abs_score) in enumerate(sorted_coefs):\n",
    "        if index < top:\n",
    "            print(col, ':', coef_dict[col])\n",
    "        ret_dict[col] = coef_dict[col]\n",
    "    return ret_dict"
   ]
  },
  {
   "cell_type": "code",
   "execution_count": 11,
   "metadata": {
    "ExecuteTime": {
     "end_time": "2019-07-19T13:32:06.300552Z",
     "start_time": "2019-07-19T13:32:06.264721Z"
    }
   },
   "outputs": [],
   "source": [
    "### Function used to draw a random sample from the discrete distribution of probabilities representing the input list\n",
    "def RandomSampleProbDist(list_of_values, draws = 1):\n",
    "    \"\"\"\n",
    "    :param: list_of_values (list): A list of categorical values representing the observations in the dataset\n",
    "    :param: draws (int): The number of samples desired to be returned\n",
    "    :return: (array) An array capturing the sampled categories\n",
    "    \"\"\"\n",
    "    # Only the non-missing values are considered in the sampling procedure\n",
    "    non_missing_list = list_of_values.dropna()\n",
    "    # Sample from the discrete probability distribution representing the categorical variable\n",
    "    return list(choice(list(Counter(non_missing_list)), \n",
    "                  draws, \n",
    "                  p = list(map(lambda x: x/len(non_missing_list), \n",
    "                               Counter(non_missing_list).values()))))[0]"
   ]
  },
  {
   "cell_type": "markdown",
   "metadata": {},
   "source": [
    "## 1. Load preprocessed data in environment"
   ]
  },
  {
   "cell_type": "markdown",
   "metadata": {},
   "source": [
    "### 1.1 Load standardized data"
   ]
  },
  {
   "cell_type": "code",
   "execution_count": 12,
   "metadata": {
    "ExecuteTime": {
     "end_time": "2019-07-19T13:32:06.344779Z",
     "start_time": "2019-07-19T13:32:06.302593Z"
    }
   },
   "outputs": [],
   "source": [
    "# Load pickle\n",
    "with open('/home/je32910/MasterThesis_ComputationalStatistics/pickles/' + loaded_std_filename + '.pickle', 'rb') as f:\n",
    "    data_raw = pickle.load(f)"
   ]
  },
  {
   "cell_type": "code",
   "execution_count": 13,
   "metadata": {
    "ExecuteTime": {
     "end_time": "2019-07-19T13:32:06.452078Z",
     "start_time": "2019-07-19T13:32:06.346867Z"
    },
    "scrolled": true
   },
   "outputs": [
    {
     "data": {
      "text/html": [
       "<div>\n",
       "<style scoped>\n",
       "    .dataframe tbody tr th:only-of-type {\n",
       "        vertical-align: middle;\n",
       "    }\n",
       "\n",
       "    .dataframe tbody tr th {\n",
       "        vertical-align: top;\n",
       "    }\n",
       "\n",
       "    .dataframe thead th {\n",
       "        text-align: right;\n",
       "    }\n",
       "</style>\n",
       "<table border=\"1\" class=\"dataframe\">\n",
       "  <thead>\n",
       "    <tr style=\"text-align: right;\">\n",
       "      <th></th>\n",
       "      <th>split</th>\n",
       "      <th>patchno</th>\n",
       "      <th>gamelength</th>\n",
       "      <th>k</th>\n",
       "      <th>d</th>\n",
       "      <th>a</th>\n",
       "      <th>teamkills</th>\n",
       "      <th>fbtime</th>\n",
       "      <th>kpm</th>\n",
       "      <th>ckpm</th>\n",
       "      <th>...</th>\n",
       "      <th>Encoded_fbvictim</th>\n",
       "      <th>Encoded_fd</th>\n",
       "      <th>Encoded_ft</th>\n",
       "      <th>Encoded_firstmidouter</th>\n",
       "      <th>Encoded_firsttothreetowers</th>\n",
       "      <th>Encoded_fbaron</th>\n",
       "      <th>Encoded_Year</th>\n",
       "      <th>Encoded_culture</th>\n",
       "      <th>team</th>\n",
       "      <th>result</th>\n",
       "    </tr>\n",
       "  </thead>\n",
       "  <tbody>\n",
       "    <tr>\n",
       "      <th>0</th>\n",
       "      <td>0.725222</td>\n",
       "      <td>1.316873</td>\n",
       "      <td>-1.680752</td>\n",
       "      <td>-1.407934</td>\n",
       "      <td>0.849617</td>\n",
       "      <td>-1.579111</td>\n",
       "      <td>-1.407934</td>\n",
       "      <td>0.456214</td>\n",
       "      <td>-1.183126</td>\n",
       "      <td>0.639664</td>\n",
       "      <td>...</td>\n",
       "      <td>-0.833247</td>\n",
       "      <td>-0.830908</td>\n",
       "      <td>0.833247</td>\n",
       "      <td>-1.200124</td>\n",
       "      <td>-0.833247</td>\n",
       "      <td>-1.232320</td>\n",
       "      <td>0.0</td>\n",
       "      <td>-1.311427</td>\n",
       "      <td>team liquid</td>\n",
       "      <td>0.0</td>\n",
       "    </tr>\n",
       "    <tr>\n",
       "      <th>1</th>\n",
       "      <td>0.725222</td>\n",
       "      <td>1.316873</td>\n",
       "      <td>-1.680752</td>\n",
       "      <td>0.853911</td>\n",
       "      <td>-1.409461</td>\n",
       "      <td>1.538576</td>\n",
       "      <td>0.853911</td>\n",
       "      <td>0.456214</td>\n",
       "      <td>1.858287</td>\n",
       "      <td>0.639664</td>\n",
       "      <td>...</td>\n",
       "      <td>1.200124</td>\n",
       "      <td>1.203503</td>\n",
       "      <td>-1.200124</td>\n",
       "      <td>0.833247</td>\n",
       "      <td>1.200124</td>\n",
       "      <td>0.811477</td>\n",
       "      <td>0.0</td>\n",
       "      <td>-1.311427</td>\n",
       "      <td>dignitas</td>\n",
       "      <td>1.0</td>\n",
       "    </tr>\n",
       "    <tr>\n",
       "      <th>2</th>\n",
       "      <td>0.725222</td>\n",
       "      <td>0.220224</td>\n",
       "      <td>0.682321</td>\n",
       "      <td>-0.201616</td>\n",
       "      <td>-0.054014</td>\n",
       "      <td>-0.343801</td>\n",
       "      <td>-0.201616</td>\n",
       "      <td>0.697744</td>\n",
       "      <td>-0.384845</td>\n",
       "      <td>-0.448890</td>\n",
       "      <td>...</td>\n",
       "      <td>-0.833247</td>\n",
       "      <td>1.203503</td>\n",
       "      <td>-1.200124</td>\n",
       "      <td>0.833247</td>\n",
       "      <td>-0.833247</td>\n",
       "      <td>-1.232320</td>\n",
       "      <td>0.0</td>\n",
       "      <td>0.419886</td>\n",
       "      <td>mvp</td>\n",
       "      <td>0.0</td>\n",
       "    </tr>\n",
       "    <tr>\n",
       "      <th>3</th>\n",
       "      <td>0.725222</td>\n",
       "      <td>0.220224</td>\n",
       "      <td>0.682321</td>\n",
       "      <td>-0.050827</td>\n",
       "      <td>-0.204619</td>\n",
       "      <td>0.244442</td>\n",
       "      <td>-0.050827</td>\n",
       "      <td>0.697744</td>\n",
       "      <td>-0.256975</td>\n",
       "      <td>-0.448890</td>\n",
       "      <td>...</td>\n",
       "      <td>1.200124</td>\n",
       "      <td>-0.830908</td>\n",
       "      <td>0.833247</td>\n",
       "      <td>-1.200124</td>\n",
       "      <td>1.200124</td>\n",
       "      <td>0.811477</td>\n",
       "      <td>0.0</td>\n",
       "      <td>0.419886</td>\n",
       "      <td>jin air green wings</td>\n",
       "      <td>1.0</td>\n",
       "    </tr>\n",
       "    <tr>\n",
       "      <th>4</th>\n",
       "      <td>0.725222</td>\n",
       "      <td>0.220224</td>\n",
       "      <td>-0.827601</td>\n",
       "      <td>-1.106354</td>\n",
       "      <td>0.548406</td>\n",
       "      <td>-1.284990</td>\n",
       "      <td>-1.106354</td>\n",
       "      <td>-0.172072</td>\n",
       "      <td>-0.923004</td>\n",
       "      <td>0.168783</td>\n",
       "      <td>...</td>\n",
       "      <td>-0.833247</td>\n",
       "      <td>-0.830908</td>\n",
       "      <td>-1.200124</td>\n",
       "      <td>-1.200124</td>\n",
       "      <td>-0.833247</td>\n",
       "      <td>-1.232320</td>\n",
       "      <td>0.0</td>\n",
       "      <td>0.419886</td>\n",
       "      <td>jin air green wings</td>\n",
       "      <td>0.0</td>\n",
       "    </tr>\n",
       "    <tr>\n",
       "      <th>5</th>\n",
       "      <td>0.725222</td>\n",
       "      <td>0.220224</td>\n",
       "      <td>-0.827601</td>\n",
       "      <td>0.552332</td>\n",
       "      <td>-1.108250</td>\n",
       "      <td>0.303266</td>\n",
       "      <td>0.552332</td>\n",
       "      <td>-0.172072</td>\n",
       "      <td>0.987487</td>\n",
       "      <td>0.168783</td>\n",
       "      <td>...</td>\n",
       "      <td>1.200124</td>\n",
       "      <td>1.203503</td>\n",
       "      <td>0.833247</td>\n",
       "      <td>0.833247</td>\n",
       "      <td>1.200124</td>\n",
       "      <td>0.811477</td>\n",
       "      <td>0.0</td>\n",
       "      <td>0.419886</td>\n",
       "      <td>mvp</td>\n",
       "      <td>1.0</td>\n",
       "    </tr>\n",
       "    <tr>\n",
       "      <th>6</th>\n",
       "      <td>0.725222</td>\n",
       "      <td>0.220224</td>\n",
       "      <td>0.574405</td>\n",
       "      <td>0.552332</td>\n",
       "      <td>-0.656435</td>\n",
       "      <td>1.067981</td>\n",
       "      <td>0.552332</td>\n",
       "      <td>-0.006806</td>\n",
       "      <td>0.303070</td>\n",
       "      <td>-0.263863</td>\n",
       "      <td>...</td>\n",
       "      <td>1.200124</td>\n",
       "      <td>1.203503</td>\n",
       "      <td>-1.200124</td>\n",
       "      <td>-1.200124</td>\n",
       "      <td>1.200124</td>\n",
       "      <td>-1.232320</td>\n",
       "      <td>0.0</td>\n",
       "      <td>0.419886</td>\n",
       "      <td>mvp</td>\n",
       "      <td>1.0</td>\n",
       "    </tr>\n",
       "    <tr>\n",
       "      <th>7</th>\n",
       "      <td>0.725222</td>\n",
       "      <td>0.220224</td>\n",
       "      <td>0.574405</td>\n",
       "      <td>-0.653985</td>\n",
       "      <td>0.548406</td>\n",
       "      <td>-0.990868</td>\n",
       "      <td>-0.653985</td>\n",
       "      <td>-0.006806</td>\n",
       "      <td>-0.744169</td>\n",
       "      <td>-0.263863</td>\n",
       "      <td>...</td>\n",
       "      <td>-0.833247</td>\n",
       "      <td>-0.830908</td>\n",
       "      <td>0.833247</td>\n",
       "      <td>0.833247</td>\n",
       "      <td>-0.833247</td>\n",
       "      <td>0.811477</td>\n",
       "      <td>0.0</td>\n",
       "      <td>0.419886</td>\n",
       "      <td>jin air green wings</td>\n",
       "      <td>0.0</td>\n",
       "    </tr>\n",
       "    <tr>\n",
       "      <th>8</th>\n",
       "      <td>0.725222</td>\n",
       "      <td>0.220224</td>\n",
       "      <td>0.474784</td>\n",
       "      <td>1.155490</td>\n",
       "      <td>-0.807040</td>\n",
       "      <td>0.597387</td>\n",
       "      <td>1.155490</td>\n",
       "      <td>1.009584</td>\n",
       "      <td>0.883384</td>\n",
       "      <td>0.139116</td>\n",
       "      <td>...</td>\n",
       "      <td>-0.833247</td>\n",
       "      <td>1.203503</td>\n",
       "      <td>-1.200124</td>\n",
       "      <td>0.833247</td>\n",
       "      <td>1.200124</td>\n",
       "      <td>0.811477</td>\n",
       "      <td>0.0</td>\n",
       "      <td>0.419886</td>\n",
       "      <td>longzhu gaming</td>\n",
       "      <td>1.0</td>\n",
       "    </tr>\n",
       "    <tr>\n",
       "      <th>9</th>\n",
       "      <td>0.725222</td>\n",
       "      <td>0.220224</td>\n",
       "      <td>0.474784</td>\n",
       "      <td>-0.804775</td>\n",
       "      <td>1.150827</td>\n",
       "      <td>-0.814395</td>\n",
       "      <td>-0.804775</td>\n",
       "      <td>1.009584</td>\n",
       "      <td>-0.855232</td>\n",
       "      <td>0.139116</td>\n",
       "      <td>...</td>\n",
       "      <td>1.200124</td>\n",
       "      <td>-0.830908</td>\n",
       "      <td>0.833247</td>\n",
       "      <td>-1.200124</td>\n",
       "      <td>-0.833247</td>\n",
       "      <td>-1.232320</td>\n",
       "      <td>0.0</td>\n",
       "      <td>0.419886</td>\n",
       "      <td>kt rolster</td>\n",
       "      <td>0.0</td>\n",
       "    </tr>\n",
       "    <tr>\n",
       "      <th>10</th>\n",
       "      <td>0.725222</td>\n",
       "      <td>0.220224</td>\n",
       "      <td>-0.390299</td>\n",
       "      <td>-1.407934</td>\n",
       "      <td>-0.054014</td>\n",
       "      <td>-1.343814</td>\n",
       "      <td>-1.407934</td>\n",
       "      <td>0.963300</td>\n",
       "      <td>-1.312394</td>\n",
       "      <td>-1.000351</td>\n",
       "      <td>...</td>\n",
       "      <td>1.200124</td>\n",
       "      <td>-0.830908</td>\n",
       "      <td>-1.200124</td>\n",
       "      <td>-1.200124</td>\n",
       "      <td>1.200124</td>\n",
       "      <td>-1.232320</td>\n",
       "      <td>0.0</td>\n",
       "      <td>0.419886</td>\n",
       "      <td>kt rolster</td>\n",
       "      <td>0.0</td>\n",
       "    </tr>\n",
       "    <tr>\n",
       "      <th>11</th>\n",
       "      <td>0.725222</td>\n",
       "      <td>0.220224</td>\n",
       "      <td>-0.390299</td>\n",
       "      <td>-0.050827</td>\n",
       "      <td>-1.409461</td>\n",
       "      <td>0.067969</td>\n",
       "      <td>-0.050827</td>\n",
       "      <td>0.963300</td>\n",
       "      <td>0.124650</td>\n",
       "      <td>-1.000351</td>\n",
       "      <td>...</td>\n",
       "      <td>-0.833247</td>\n",
       "      <td>1.203503</td>\n",
       "      <td>0.833247</td>\n",
       "      <td>0.833247</td>\n",
       "      <td>-0.833247</td>\n",
       "      <td>0.811477</td>\n",
       "      <td>0.0</td>\n",
       "      <td>0.419886</td>\n",
       "      <td>longzhu gaming</td>\n",
       "      <td>1.0</td>\n",
       "    </tr>\n",
       "    <tr>\n",
       "      <th>12</th>\n",
       "      <td>0.725222</td>\n",
       "      <td>0.220224</td>\n",
       "      <td>0.974637</td>\n",
       "      <td>0.401542</td>\n",
       "      <td>-1.108250</td>\n",
       "      <td>0.067969</td>\n",
       "      <td>0.401542</td>\n",
       "      <td>0.461171</td>\n",
       "      <td>0.006058</td>\n",
       "      <td>-0.998670</td>\n",
       "      <td>...</td>\n",
       "      <td>1.200124</td>\n",
       "      <td>1.203503</td>\n",
       "      <td>0.833247</td>\n",
       "      <td>0.833247</td>\n",
       "      <td>1.200124</td>\n",
       "      <td>0.811477</td>\n",
       "      <td>0.0</td>\n",
       "      <td>0.419886</td>\n",
       "      <td>ever8 winners</td>\n",
       "      <td>1.0</td>\n",
       "    </tr>\n",
       "    <tr>\n",
       "      <th>13</th>\n",
       "      <td>0.725222</td>\n",
       "      <td>0.220224</td>\n",
       "      <td>0.974637</td>\n",
       "      <td>-1.106354</td>\n",
       "      <td>0.397801</td>\n",
       "      <td>-0.932044</td>\n",
       "      <td>-1.106354</td>\n",
       "      <td>0.461171</td>\n",
       "      <td>-1.192253</td>\n",
       "      <td>-0.998670</td>\n",
       "      <td>...</td>\n",
       "      <td>-0.833247</td>\n",
       "      <td>-0.830908</td>\n",
       "      <td>-1.200124</td>\n",
       "      <td>-1.200124</td>\n",
       "      <td>-0.833247</td>\n",
       "      <td>-1.232320</td>\n",
       "      <td>0.0</td>\n",
       "      <td>0.419886</td>\n",
       "      <td>afreeca freecs</td>\n",
       "      <td>0.0</td>\n",
       "    </tr>\n",
       "    <tr>\n",
       "      <th>14</th>\n",
       "      <td>0.725222</td>\n",
       "      <td>0.220224</td>\n",
       "      <td>1.599133</td>\n",
       "      <td>0.552332</td>\n",
       "      <td>-0.204619</td>\n",
       "      <td>0.420914</td>\n",
       "      <td>0.552332</td>\n",
       "      <td>1.674113</td>\n",
       "      <td>-0.134509</td>\n",
       "      <td>-0.587986</td>\n",
       "      <td>...</td>\n",
       "      <td>-0.833247</td>\n",
       "      <td>1.203503</td>\n",
       "      <td>0.833247</td>\n",
       "      <td>0.833247</td>\n",
       "      <td>1.200124</td>\n",
       "      <td>-1.232320</td>\n",
       "      <td>0.0</td>\n",
       "      <td>0.419886</td>\n",
       "      <td>afreeca freecs</td>\n",
       "      <td>1.0</td>\n",
       "    </tr>\n",
       "    <tr>\n",
       "      <th>15</th>\n",
       "      <td>0.725222</td>\n",
       "      <td>0.220224</td>\n",
       "      <td>1.599133</td>\n",
       "      <td>-0.201616</td>\n",
       "      <td>0.548406</td>\n",
       "      <td>-0.284977</td>\n",
       "      <td>-0.201616</td>\n",
       "      <td>1.674113</td>\n",
       "      <td>-0.652290</td>\n",
       "      <td>-0.587986</td>\n",
       "      <td>...</td>\n",
       "      <td>1.200124</td>\n",
       "      <td>-0.830908</td>\n",
       "      <td>-1.200124</td>\n",
       "      <td>-1.200124</td>\n",
       "      <td>-0.833247</td>\n",
       "      <td>0.811477</td>\n",
       "      <td>0.0</td>\n",
       "      <td>0.419886</td>\n",
       "      <td>ever8 winners</td>\n",
       "      <td>0.0</td>\n",
       "    </tr>\n",
       "    <tr>\n",
       "      <th>16</th>\n",
       "      <td>0.725222</td>\n",
       "      <td>0.220224</td>\n",
       "      <td>-0.797879</td>\n",
       "      <td>-1.257144</td>\n",
       "      <td>1.150827</td>\n",
       "      <td>-1.167341</td>\n",
       "      <td>-1.257144</td>\n",
       "      <td>-1.409483</td>\n",
       "      <td>-1.100571</td>\n",
       "      <td>0.556233</td>\n",
       "      <td>...</td>\n",
       "      <td>1.200124</td>\n",
       "      <td>-0.830908</td>\n",
       "      <td>0.833247</td>\n",
       "      <td>-1.200124</td>\n",
       "      <td>-0.833247</td>\n",
       "      <td>-1.232320</td>\n",
       "      <td>0.0</td>\n",
       "      <td>0.419886</td>\n",
       "      <td>sk telecom t1</td>\n",
       "      <td>0.0</td>\n",
       "    </tr>\n",
       "    <tr>\n",
       "      <th>17</th>\n",
       "      <td>0.725222</td>\n",
       "      <td>0.220224</td>\n",
       "      <td>-0.797879</td>\n",
       "      <td>1.155490</td>\n",
       "      <td>-1.258855</td>\n",
       "      <td>0.832684</td>\n",
       "      <td>1.155490</td>\n",
       "      <td>-1.409483</td>\n",
       "      <td>1.662783</td>\n",
       "      <td>0.556233</td>\n",
       "      <td>...</td>\n",
       "      <td>-0.833247</td>\n",
       "      <td>1.203503</td>\n",
       "      <td>-1.200124</td>\n",
       "      <td>0.833247</td>\n",
       "      <td>1.200124</td>\n",
       "      <td>0.811477</td>\n",
       "      <td>0.0</td>\n",
       "      <td>0.419886</td>\n",
       "      <td>samsung galaxy</td>\n",
       "      <td>1.0</td>\n",
       "    </tr>\n",
       "    <tr>\n",
       "      <th>18</th>\n",
       "      <td>0.725222</td>\n",
       "      <td>0.220224</td>\n",
       "      <td>1.084367</td>\n",
       "      <td>-0.050827</td>\n",
       "      <td>-0.807040</td>\n",
       "      <td>0.303266</td>\n",
       "      <td>-0.050827</td>\n",
       "      <td>0.097425</td>\n",
       "      <td>-0.388813</td>\n",
       "      <td>-1.194457</td>\n",
       "      <td>...</td>\n",
       "      <td>1.200124</td>\n",
       "      <td>-0.830908</td>\n",
       "      <td>-1.200124</td>\n",
       "      <td>0.833247</td>\n",
       "      <td>-0.833247</td>\n",
       "      <td>0.811477</td>\n",
       "      <td>0.0</td>\n",
       "      <td>0.852715</td>\n",
       "      <td>h2k</td>\n",
       "      <td>1.0</td>\n",
       "    </tr>\n",
       "    <tr>\n",
       "      <th>19</th>\n",
       "      <td>0.725222</td>\n",
       "      <td>0.220224</td>\n",
       "      <td>1.084367</td>\n",
       "      <td>-0.804775</td>\n",
       "      <td>-0.054014</td>\n",
       "      <td>-0.814395</td>\n",
       "      <td>-0.804775</td>\n",
       "      <td>0.097425</td>\n",
       "      <td>-0.973228</td>\n",
       "      <td>-1.194457</td>\n",
       "      <td>...</td>\n",
       "      <td>-0.833247</td>\n",
       "      <td>1.203503</td>\n",
       "      <td>0.833247</td>\n",
       "      <td>-1.200124</td>\n",
       "      <td>1.200124</td>\n",
       "      <td>-1.232320</td>\n",
       "      <td>0.0</td>\n",
       "      <td>0.852715</td>\n",
       "      <td>splyce</td>\n",
       "      <td>0.0</td>\n",
       "    </tr>\n",
       "    <tr>\n",
       "      <th>20</th>\n",
       "      <td>0.725222</td>\n",
       "      <td>0.220224</td>\n",
       "      <td>-1.985377</td>\n",
       "      <td>-0.804775</td>\n",
       "      <td>2.205063</td>\n",
       "      <td>-1.167341</td>\n",
       "      <td>-0.804775</td>\n",
       "      <td>-1.108603</td>\n",
       "      <td>-0.295469</td>\n",
       "      <td>2.453632</td>\n",
       "      <td>...</td>\n",
       "      <td>1.200124</td>\n",
       "      <td>-0.830908</td>\n",
       "      <td>-1.200124</td>\n",
       "      <td>-1.200124</td>\n",
       "      <td>-0.833247</td>\n",
       "      <td>-1.232320</td>\n",
       "      <td>0.0</td>\n",
       "      <td>0.852715</td>\n",
       "      <td>splyce</td>\n",
       "      <td>0.0</td>\n",
       "    </tr>\n",
       "    <tr>\n",
       "      <th>21</th>\n",
       "      <td>0.725222</td>\n",
       "      <td>0.220224</td>\n",
       "      <td>-1.985377</td>\n",
       "      <td>2.211018</td>\n",
       "      <td>-0.807040</td>\n",
       "      <td>1.009157</td>\n",
       "      <td>2.211018</td>\n",
       "      <td>-1.108603</td>\n",
       "      <td>3.978646</td>\n",
       "      <td>2.453632</td>\n",
       "      <td>...</td>\n",
       "      <td>-0.833247</td>\n",
       "      <td>1.203503</td>\n",
       "      <td>0.833247</td>\n",
       "      <td>0.833247</td>\n",
       "      <td>1.200124</td>\n",
       "      <td>0.811477</td>\n",
       "      <td>0.0</td>\n",
       "      <td>0.852715</td>\n",
       "      <td>h2k</td>\n",
       "      <td>1.0</td>\n",
       "    </tr>\n",
       "    <tr>\n",
       "      <th>22</th>\n",
       "      <td>0.725222</td>\n",
       "      <td>0.220224</td>\n",
       "      <td>-0.322489</td>\n",
       "      <td>0.099963</td>\n",
       "      <td>-0.807040</td>\n",
       "      <td>-0.402625</td>\n",
       "      <td>0.099963</td>\n",
       "      <td>-0.195885</td>\n",
       "      <td>0.256786</td>\n",
       "      <td>-0.255444</td>\n",
       "      <td>...</td>\n",
       "      <td>-0.833247</td>\n",
       "      <td>1.203503</td>\n",
       "      <td>0.833247</td>\n",
       "      <td>-1.200124</td>\n",
       "      <td>1.200124</td>\n",
       "      <td>0.811477</td>\n",
       "      <td>0.0</td>\n",
       "      <td>0.419886</td>\n",
       "      <td>bbq olivers</td>\n",
       "      <td>1.0</td>\n",
       "    </tr>\n",
       "    <tr>\n",
       "      <th>23</th>\n",
       "      <td>0.725222</td>\n",
       "      <td>0.220224</td>\n",
       "      <td>-0.322489</td>\n",
       "      <td>-0.804775</td>\n",
       "      <td>0.096591</td>\n",
       "      <td>-1.108517</td>\n",
       "      <td>-0.804775</td>\n",
       "      <td>-0.195885</td>\n",
       "      <td>-0.688535</td>\n",
       "      <td>-0.255444</td>\n",
       "      <td>...</td>\n",
       "      <td>1.200124</td>\n",
       "      <td>-0.830908</td>\n",
       "      <td>-1.200124</td>\n",
       "      <td>0.833247</td>\n",
       "      <td>-0.833247</td>\n",
       "      <td>-1.232320</td>\n",
       "      <td>0.0</td>\n",
       "      <td>0.419886</td>\n",
       "      <td>longzhu gaming</td>\n",
       "      <td>0.0</td>\n",
       "    </tr>\n",
       "    <tr>\n",
       "      <th>24</th>\n",
       "      <td>0.725222</td>\n",
       "      <td>0.220224</td>\n",
       "      <td>0.363531</td>\n",
       "      <td>0.401542</td>\n",
       "      <td>-0.957645</td>\n",
       "      <td>0.126793</td>\n",
       "      <td>0.401542</td>\n",
       "      <td>0.305750</td>\n",
       "      <td>0.262725</td>\n",
       "      <td>-0.510859</td>\n",
       "      <td>...</td>\n",
       "      <td>1.200124</td>\n",
       "      <td>-0.830908</td>\n",
       "      <td>0.833247</td>\n",
       "      <td>0.833247</td>\n",
       "      <td>1.200124</td>\n",
       "      <td>0.811477</td>\n",
       "      <td>0.0</td>\n",
       "      <td>0.419886</td>\n",
       "      <td>longzhu gaming</td>\n",
       "      <td>1.0</td>\n",
       "    </tr>\n",
       "    <tr>\n",
       "      <th>25</th>\n",
       "      <td>0.725222</td>\n",
       "      <td>0.220224</td>\n",
       "      <td>0.363531</td>\n",
       "      <td>-0.955565</td>\n",
       "      <td>0.397801</td>\n",
       "      <td>-1.049693</td>\n",
       "      <td>-0.955565</td>\n",
       "      <td>0.305750</td>\n",
       "      <td>-0.969755</td>\n",
       "      <td>-0.510859</td>\n",
       "      <td>...</td>\n",
       "      <td>-0.833247</td>\n",
       "      <td>1.203503</td>\n",
       "      <td>-1.200124</td>\n",
       "      <td>-1.200124</td>\n",
       "      <td>-0.833247</td>\n",
       "      <td>-1.232320</td>\n",
       "      <td>0.0</td>\n",
       "      <td>0.419886</td>\n",
       "      <td>bbq olivers</td>\n",
       "      <td>0.0</td>\n",
       "    </tr>\n",
       "    <tr>\n",
       "      <th>26</th>\n",
       "      <td>0.725222</td>\n",
       "      <td>0.220224</td>\n",
       "      <td>0.371907</td>\n",
       "      <td>-0.503196</td>\n",
       "      <td>0.247196</td>\n",
       "      <td>0.009144</td>\n",
       "      <td>-0.503196</td>\n",
       "      <td>-1.104250</td>\n",
       "      <td>-0.561111</td>\n",
       "      <td>-0.261722</td>\n",
       "      <td>...</td>\n",
       "      <td>1.200124</td>\n",
       "      <td>-0.830908</td>\n",
       "      <td>0.833247</td>\n",
       "      <td>-1.200124</td>\n",
       "      <td>-0.833247</td>\n",
       "      <td>-1.232320</td>\n",
       "      <td>0.0</td>\n",
       "      <td>0.419886</td>\n",
       "      <td>rox tigers</td>\n",
       "      <td>0.0</td>\n",
       "    </tr>\n",
       "    <tr>\n",
       "      <th>27</th>\n",
       "      <td>0.725222</td>\n",
       "      <td>0.220224</td>\n",
       "      <td>0.371907</td>\n",
       "      <td>0.250753</td>\n",
       "      <td>-0.505830</td>\n",
       "      <td>0.303266</td>\n",
       "      <td>0.250753</td>\n",
       "      <td>-1.104250</td>\n",
       "      <td>0.122388</td>\n",
       "      <td>-0.261722</td>\n",
       "      <td>...</td>\n",
       "      <td>-0.833247</td>\n",
       "      <td>1.203503</td>\n",
       "      <td>-1.200124</td>\n",
       "      <td>0.833247</td>\n",
       "      <td>1.200124</td>\n",
       "      <td>0.811477</td>\n",
       "      <td>0.0</td>\n",
       "      <td>0.419886</td>\n",
       "      <td>jin air green wings</td>\n",
       "      <td>1.0</td>\n",
       "    </tr>\n",
       "    <tr>\n",
       "      <th>28</th>\n",
       "      <td>0.725222</td>\n",
       "      <td>0.220224</td>\n",
       "      <td>-0.973798</td>\n",
       "      <td>-0.352406</td>\n",
       "      <td>-1.710671</td>\n",
       "      <td>-0.108504</td>\n",
       "      <td>-0.352406</td>\n",
       "      <td>0.198085</td>\n",
       "      <td>-0.006410</td>\n",
       "      <td>-1.501038</td>\n",
       "      <td>...</td>\n",
       "      <td>-0.833247</td>\n",
       "      <td>1.203503</td>\n",
       "      <td>0.833247</td>\n",
       "      <td>0.833247</td>\n",
       "      <td>1.200124</td>\n",
       "      <td>0.811477</td>\n",
       "      <td>0.0</td>\n",
       "      <td>0.419886</td>\n",
       "      <td>jin air green wings</td>\n",
       "      <td>1.0</td>\n",
       "    </tr>\n",
       "    <tr>\n",
       "      <th>29</th>\n",
       "      <td>0.725222</td>\n",
       "      <td>0.220224</td>\n",
       "      <td>-0.973798</td>\n",
       "      <td>-1.709513</td>\n",
       "      <td>-0.355225</td>\n",
       "      <td>-1.520287</td>\n",
       "      <td>-1.709513</td>\n",
       "      <td>0.198085</td>\n",
       "      <td>-1.612909</td>\n",
       "      <td>-1.501038</td>\n",
       "      <td>...</td>\n",
       "      <td>1.200124</td>\n",
       "      <td>-0.830908</td>\n",
       "      <td>-1.200124</td>\n",
       "      <td>-1.200124</td>\n",
       "      <td>-0.833247</td>\n",
       "      <td>-1.232320</td>\n",
       "      <td>0.0</td>\n",
       "      <td>0.419886</td>\n",
       "      <td>rox tigers</td>\n",
       "      <td>0.0</td>\n",
       "    </tr>\n",
       "    <tr>\n",
       "      <th>...</th>\n",
       "      <td>...</td>\n",
       "      <td>...</td>\n",
       "      <td>...</td>\n",
       "      <td>...</td>\n",
       "      <td>...</td>\n",
       "      <td>...</td>\n",
       "      <td>...</td>\n",
       "      <td>...</td>\n",
       "      <td>...</td>\n",
       "      <td>...</td>\n",
       "      <td>...</td>\n",
       "      <td>...</td>\n",
       "      <td>...</td>\n",
       "      <td>...</td>\n",
       "      <td>...</td>\n",
       "      <td>...</td>\n",
       "      <td>...</td>\n",
       "      <td>...</td>\n",
       "      <td>...</td>\n",
       "      <td>...</td>\n",
       "      <td>...</td>\n",
       "    </tr>\n",
       "    <tr>\n",
       "      <th>5856</th>\n",
       "      <td>-1.102808</td>\n",
       "      <td>0.000894</td>\n",
       "      <td>1.652609</td>\n",
       "      <td>-0.503196</td>\n",
       "      <td>-0.505830</td>\n",
       "      <td>-0.108504</td>\n",
       "      <td>-0.503196</td>\n",
       "      <td>-0.622109</td>\n",
       "      <td>-0.871434</td>\n",
       "      <td>-1.658125</td>\n",
       "      <td>...</td>\n",
       "      <td>-0.833247</td>\n",
       "      <td>-0.830908</td>\n",
       "      <td>0.833247</td>\n",
       "      <td>0.833247</td>\n",
       "      <td>1.200124</td>\n",
       "      <td>-1.232320</td>\n",
       "      <td>0.0</td>\n",
       "      <td>-1.744256</td>\n",
       "      <td>team solomid</td>\n",
       "      <td>0.0</td>\n",
       "    </tr>\n",
       "    <tr>\n",
       "      <th>5857</th>\n",
       "      <td>-1.102808</td>\n",
       "      <td>0.000894</td>\n",
       "      <td>1.652609</td>\n",
       "      <td>-0.503196</td>\n",
       "      <td>-0.505830</td>\n",
       "      <td>0.185617</td>\n",
       "      <td>-0.503196</td>\n",
       "      <td>-0.622109</td>\n",
       "      <td>-0.871434</td>\n",
       "      <td>-1.658125</td>\n",
       "      <td>...</td>\n",
       "      <td>1.200124</td>\n",
       "      <td>1.203503</td>\n",
       "      <td>-1.200124</td>\n",
       "      <td>-1.200124</td>\n",
       "      <td>-0.833247</td>\n",
       "      <td>0.811477</td>\n",
       "      <td>0.0</td>\n",
       "      <td>-1.744256</td>\n",
       "      <td>g2 esports</td>\n",
       "      <td>1.0</td>\n",
       "    </tr>\n",
       "    <tr>\n",
       "      <th>5858</th>\n",
       "      <td>-1.102808</td>\n",
       "      <td>0.000894</td>\n",
       "      <td>-0.599324</td>\n",
       "      <td>1.457070</td>\n",
       "      <td>-1.108250</td>\n",
       "      <td>1.538576</td>\n",
       "      <td>1.457070</td>\n",
       "      <td>1.399676</td>\n",
       "      <td>1.867022</td>\n",
       "      <td>0.806336</td>\n",
       "      <td>...</td>\n",
       "      <td>-0.833247</td>\n",
       "      <td>-0.830908</td>\n",
       "      <td>0.833247</td>\n",
       "      <td>-1.200124</td>\n",
       "      <td>1.200124</td>\n",
       "      <td>0.811477</td>\n",
       "      <td>0.0</td>\n",
       "      <td>-1.744256</td>\n",
       "      <td>flash wolves</td>\n",
       "      <td>1.0</td>\n",
       "    </tr>\n",
       "    <tr>\n",
       "      <th>5859</th>\n",
       "      <td>-1.102808</td>\n",
       "      <td>0.000894</td>\n",
       "      <td>-0.599324</td>\n",
       "      <td>-1.106354</td>\n",
       "      <td>1.452037</td>\n",
       "      <td>-0.755571</td>\n",
       "      <td>-1.106354</td>\n",
       "      <td>1.399676</td>\n",
       "      <td>-0.959947</td>\n",
       "      <td>0.806336</td>\n",
       "      <td>...</td>\n",
       "      <td>1.200124</td>\n",
       "      <td>1.203503</td>\n",
       "      <td>-1.200124</td>\n",
       "      <td>0.833247</td>\n",
       "      <td>-0.833247</td>\n",
       "      <td>0.811477</td>\n",
       "      <td>0.0</td>\n",
       "      <td>-1.744256</td>\n",
       "      <td>gigabyte marines</td>\n",
       "      <td>0.0</td>\n",
       "    </tr>\n",
       "    <tr>\n",
       "      <th>5860</th>\n",
       "      <td>-1.102808</td>\n",
       "      <td>0.000894</td>\n",
       "      <td>0.403123</td>\n",
       "      <td>-0.503196</td>\n",
       "      <td>1.301432</td>\n",
       "      <td>-0.814395</td>\n",
       "      <td>-0.503196</td>\n",
       "      <td>-0.896102</td>\n",
       "      <td>-0.569226</td>\n",
       "      <td>0.502920</td>\n",
       "      <td>...</td>\n",
       "      <td>1.200124</td>\n",
       "      <td>1.203503</td>\n",
       "      <td>-1.200124</td>\n",
       "      <td>-1.200124</td>\n",
       "      <td>-0.833247</td>\n",
       "      <td>-1.232320</td>\n",
       "      <td>0.0</td>\n",
       "      <td>-1.744256</td>\n",
       "      <td>sk telecom t1</td>\n",
       "      <td>0.0</td>\n",
       "    </tr>\n",
       "    <tr>\n",
       "      <th>5861</th>\n",
       "      <td>-1.102808</td>\n",
       "      <td>0.000894</td>\n",
       "      <td>0.403123</td>\n",
       "      <td>1.306280</td>\n",
       "      <td>-0.505830</td>\n",
       "      <td>1.244454</td>\n",
       "      <td>1.306280</td>\n",
       "      <td>-0.896102</td>\n",
       "      <td>1.060350</td>\n",
       "      <td>0.502920</td>\n",
       "      <td>...</td>\n",
       "      <td>-0.833247</td>\n",
       "      <td>-0.830908</td>\n",
       "      <td>0.833247</td>\n",
       "      <td>0.833247</td>\n",
       "      <td>1.200124</td>\n",
       "      <td>0.811477</td>\n",
       "      <td>0.0</td>\n",
       "      <td>-1.744256</td>\n",
       "      <td>team we</td>\n",
       "      <td>1.0</td>\n",
       "    </tr>\n",
       "    <tr>\n",
       "      <th>5862</th>\n",
       "      <td>-1.102808</td>\n",
       "      <td>0.000894</td>\n",
       "      <td>0.367722</td>\n",
       "      <td>0.552332</td>\n",
       "      <td>-1.409461</td>\n",
       "      <td>0.656211</td>\n",
       "      <td>0.552332</td>\n",
       "      <td>-0.654908</td>\n",
       "      <td>0.397726</td>\n",
       "      <td>-0.784550</td>\n",
       "      <td>...</td>\n",
       "      <td>1.200124</td>\n",
       "      <td>-0.830908</td>\n",
       "      <td>0.833247</td>\n",
       "      <td>0.833247</td>\n",
       "      <td>1.200124</td>\n",
       "      <td>0.811477</td>\n",
       "      <td>0.0</td>\n",
       "      <td>-1.744256</td>\n",
       "      <td>flash wolves</td>\n",
       "      <td>1.0</td>\n",
       "    </tr>\n",
       "    <tr>\n",
       "      <th>5863</th>\n",
       "      <td>-1.102808</td>\n",
       "      <td>0.000894</td>\n",
       "      <td>0.367722</td>\n",
       "      <td>-1.407934</td>\n",
       "      <td>0.548406</td>\n",
       "      <td>-1.167341</td>\n",
       "      <td>-1.407934</td>\n",
       "      <td>-0.654908</td>\n",
       "      <td>-1.380946</td>\n",
       "      <td>-0.784550</td>\n",
       "      <td>...</td>\n",
       "      <td>-0.833247</td>\n",
       "      <td>1.203503</td>\n",
       "      <td>-1.200124</td>\n",
       "      <td>-1.200124</td>\n",
       "      <td>-0.833247</td>\n",
       "      <td>-1.232320</td>\n",
       "      <td>0.0</td>\n",
       "      <td>-1.744256</td>\n",
       "      <td>team solomid</td>\n",
       "      <td>0.0</td>\n",
       "    </tr>\n",
       "    <tr>\n",
       "      <th>5864</th>\n",
       "      <td>-1.102808</td>\n",
       "      <td>0.000894</td>\n",
       "      <td>-0.574233</td>\n",
       "      <td>-0.352406</td>\n",
       "      <td>-0.957645</td>\n",
       "      <td>0.362090</td>\n",
       "      <td>-0.352406</td>\n",
       "      <td>-1.221066</td>\n",
       "      <td>-0.136507</td>\n",
       "      <td>-0.735350</td>\n",
       "      <td>...</td>\n",
       "      <td>-0.833247</td>\n",
       "      <td>1.203503</td>\n",
       "      <td>0.833247</td>\n",
       "      <td>-1.200124</td>\n",
       "      <td>-0.833247</td>\n",
       "      <td>0.811477</td>\n",
       "      <td>0.0</td>\n",
       "      <td>-1.744256</td>\n",
       "      <td>sk telecom t1</td>\n",
       "      <td>1.0</td>\n",
       "    </tr>\n",
       "    <tr>\n",
       "      <th>5865</th>\n",
       "      <td>-1.102808</td>\n",
       "      <td>0.000894</td>\n",
       "      <td>-0.574233</td>\n",
       "      <td>-0.955565</td>\n",
       "      <td>-0.355225</td>\n",
       "      <td>-1.049693</td>\n",
       "      <td>-0.955565</td>\n",
       "      <td>-1.221066</td>\n",
       "      <td>-0.798468</td>\n",
       "      <td>-0.735350</td>\n",
       "      <td>...</td>\n",
       "      <td>1.200124</td>\n",
       "      <td>-0.830908</td>\n",
       "      <td>-1.200124</td>\n",
       "      <td>0.833247</td>\n",
       "      <td>1.200124</td>\n",
       "      <td>-1.232320</td>\n",
       "      <td>0.0</td>\n",
       "      <td>-1.744256</td>\n",
       "      <td>flash wolves</td>\n",
       "      <td>0.0</td>\n",
       "    </tr>\n",
       "    <tr>\n",
       "      <th>5866</th>\n",
       "      <td>-1.102808</td>\n",
       "      <td>0.000894</td>\n",
       "      <td>-1.298657</td>\n",
       "      <td>-1.558723</td>\n",
       "      <td>-0.505830</td>\n",
       "      <td>-1.520287</td>\n",
       "      <td>-1.558723</td>\n",
       "      <td>0.561952</td>\n",
       "      <td>-1.412507</td>\n",
       "      <td>-1.354270</td>\n",
       "      <td>...</td>\n",
       "      <td>1.200124</td>\n",
       "      <td>-0.830908</td>\n",
       "      <td>-1.200124</td>\n",
       "      <td>-1.200124</td>\n",
       "      <td>-0.833247</td>\n",
       "      <td>-1.232320</td>\n",
       "      <td>0.0</td>\n",
       "      <td>-1.744256</td>\n",
       "      <td>flash wolves</td>\n",
       "      <td>0.0</td>\n",
       "    </tr>\n",
       "    <tr>\n",
       "      <th>5867</th>\n",
       "      <td>-1.102808</td>\n",
       "      <td>0.000894</td>\n",
       "      <td>-1.298657</td>\n",
       "      <td>-0.503196</td>\n",
       "      <td>-1.560066</td>\n",
       "      <td>-1.108517</td>\n",
       "      <td>-0.503196</td>\n",
       "      <td>0.561952</td>\n",
       "      <td>-0.086352</td>\n",
       "      <td>-1.354270</td>\n",
       "      <td>...</td>\n",
       "      <td>-0.833247</td>\n",
       "      <td>1.203503</td>\n",
       "      <td>0.833247</td>\n",
       "      <td>0.833247</td>\n",
       "      <td>1.200124</td>\n",
       "      <td>0.811477</td>\n",
       "      <td>0.0</td>\n",
       "      <td>-1.744256</td>\n",
       "      <td>sk telecom t1</td>\n",
       "      <td>1.0</td>\n",
       "    </tr>\n",
       "    <tr>\n",
       "      <th>5868</th>\n",
       "      <td>-1.102808</td>\n",
       "      <td>0.000894</td>\n",
       "      <td>-0.786059</td>\n",
       "      <td>-0.201616</td>\n",
       "      <td>-1.258855</td>\n",
       "      <td>-0.461450</td>\n",
       "      <td>-0.201616</td>\n",
       "      <td>-0.962480</td>\n",
       "      <td>0.104156</td>\n",
       "      <td>-0.799701</td>\n",
       "      <td>...</td>\n",
       "      <td>1.200124</td>\n",
       "      <td>1.203503</td>\n",
       "      <td>0.833247</td>\n",
       "      <td>0.833247</td>\n",
       "      <td>1.200124</td>\n",
       "      <td>0.811477</td>\n",
       "      <td>0.0</td>\n",
       "      <td>-1.744256</td>\n",
       "      <td>sk telecom t1</td>\n",
       "      <td>1.0</td>\n",
       "    </tr>\n",
       "    <tr>\n",
       "      <th>5869</th>\n",
       "      <td>-1.102808</td>\n",
       "      <td>0.000894</td>\n",
       "      <td>-0.786059</td>\n",
       "      <td>-1.257144</td>\n",
       "      <td>-0.204619</td>\n",
       "      <td>-1.108517</td>\n",
       "      <td>-1.257144</td>\n",
       "      <td>-0.962480</td>\n",
       "      <td>-1.102113</td>\n",
       "      <td>-0.799701</td>\n",
       "      <td>...</td>\n",
       "      <td>-0.833247</td>\n",
       "      <td>-0.830908</td>\n",
       "      <td>-1.200124</td>\n",
       "      <td>-1.200124</td>\n",
       "      <td>-0.833247</td>\n",
       "      <td>-1.232320</td>\n",
       "      <td>0.0</td>\n",
       "      <td>-1.744256</td>\n",
       "      <td>flash wolves</td>\n",
       "      <td>0.0</td>\n",
       "    </tr>\n",
       "    <tr>\n",
       "      <th>5870</th>\n",
       "      <td>-1.102808</td>\n",
       "      <td>0.000894</td>\n",
       "      <td>0.974637</td>\n",
       "      <td>0.099963</td>\n",
       "      <td>1.602643</td>\n",
       "      <td>0.420914</td>\n",
       "      <td>0.099963</td>\n",
       "      <td>-0.574720</td>\n",
       "      <td>-0.233604</td>\n",
       "      <td>0.680427</td>\n",
       "      <td>...</td>\n",
       "      <td>-0.833247</td>\n",
       "      <td>-0.830908</td>\n",
       "      <td>0.833247</td>\n",
       "      <td>0.833247</td>\n",
       "      <td>1.200124</td>\n",
       "      <td>0.811477</td>\n",
       "      <td>0.0</td>\n",
       "      <td>-1.744256</td>\n",
       "      <td>team we</td>\n",
       "      <td>0.0</td>\n",
       "    </tr>\n",
       "    <tr>\n",
       "      <th>5871</th>\n",
       "      <td>-1.102808</td>\n",
       "      <td>0.000894</td>\n",
       "      <td>0.974637</td>\n",
       "      <td>1.607859</td>\n",
       "      <td>0.096591</td>\n",
       "      <td>2.244467</td>\n",
       "      <td>1.607859</td>\n",
       "      <td>-0.574720</td>\n",
       "      <td>0.964707</td>\n",
       "      <td>0.680427</td>\n",
       "      <td>...</td>\n",
       "      <td>1.200124</td>\n",
       "      <td>1.203503</td>\n",
       "      <td>-1.200124</td>\n",
       "      <td>-1.200124</td>\n",
       "      <td>-0.833247</td>\n",
       "      <td>-1.232320</td>\n",
       "      <td>0.0</td>\n",
       "      <td>-1.744256</td>\n",
       "      <td>g2 esports</td>\n",
       "      <td>1.0</td>\n",
       "    </tr>\n",
       "    <tr>\n",
       "      <th>5872</th>\n",
       "      <td>-1.102808</td>\n",
       "      <td>0.000894</td>\n",
       "      <td>0.342493</td>\n",
       "      <td>1.004701</td>\n",
       "      <td>-0.505830</td>\n",
       "      <td>1.126806</td>\n",
       "      <td>1.004701</td>\n",
       "      <td>-1.168383</td>\n",
       "      <td>0.822084</td>\n",
       "      <td>0.331840</td>\n",
       "      <td>...</td>\n",
       "      <td>-0.833247</td>\n",
       "      <td>1.203503</td>\n",
       "      <td>0.833247</td>\n",
       "      <td>0.833247</td>\n",
       "      <td>1.200124</td>\n",
       "      <td>0.811477</td>\n",
       "      <td>0.0</td>\n",
       "      <td>-1.744256</td>\n",
       "      <td>g2 esports</td>\n",
       "      <td>1.0</td>\n",
       "    </tr>\n",
       "    <tr>\n",
       "      <th>5873</th>\n",
       "      <td>-1.102808</td>\n",
       "      <td>0.000894</td>\n",
       "      <td>0.342493</td>\n",
       "      <td>-0.503196</td>\n",
       "      <td>1.000222</td>\n",
       "      <td>-0.167328</td>\n",
       "      <td>-0.503196</td>\n",
       "      <td>-1.168383</td>\n",
       "      <td>-0.553439</td>\n",
       "      <td>0.331840</td>\n",
       "      <td>...</td>\n",
       "      <td>1.200124</td>\n",
       "      <td>-0.830908</td>\n",
       "      <td>-1.200124</td>\n",
       "      <td>-1.200124</td>\n",
       "      <td>-0.833247</td>\n",
       "      <td>-1.232320</td>\n",
       "      <td>0.0</td>\n",
       "      <td>-1.744256</td>\n",
       "      <td>team we</td>\n",
       "      <td>0.0</td>\n",
       "    </tr>\n",
       "    <tr>\n",
       "      <th>5874</th>\n",
       "      <td>-1.102808</td>\n",
       "      <td>0.000894</td>\n",
       "      <td>0.509012</td>\n",
       "      <td>1.004701</td>\n",
       "      <td>-0.807040</td>\n",
       "      <td>1.479751</td>\n",
       "      <td>1.004701</td>\n",
       "      <td>-0.046513</td>\n",
       "      <td>0.731072</td>\n",
       "      <td>0.006689</td>\n",
       "      <td>...</td>\n",
       "      <td>1.200124</td>\n",
       "      <td>1.203503</td>\n",
       "      <td>-1.200124</td>\n",
       "      <td>-1.200124</td>\n",
       "      <td>-0.833247</td>\n",
       "      <td>0.811477</td>\n",
       "      <td>0.0</td>\n",
       "      <td>-1.744256</td>\n",
       "      <td>team we</td>\n",
       "      <td>1.0</td>\n",
       "    </tr>\n",
       "    <tr>\n",
       "      <th>5875</th>\n",
       "      <td>-1.102808</td>\n",
       "      <td>0.000894</td>\n",
       "      <td>0.509012</td>\n",
       "      <td>-0.804775</td>\n",
       "      <td>1.000222</td>\n",
       "      <td>-0.873220</td>\n",
       "      <td>-0.804775</td>\n",
       "      <td>-0.046513</td>\n",
       "      <td>-0.862074</td>\n",
       "      <td>0.006689</td>\n",
       "      <td>...</td>\n",
       "      <td>-0.833247</td>\n",
       "      <td>-0.830908</td>\n",
       "      <td>0.833247</td>\n",
       "      <td>0.833247</td>\n",
       "      <td>1.200124</td>\n",
       "      <td>-1.232320</td>\n",
       "      <td>0.0</td>\n",
       "      <td>-1.744256</td>\n",
       "      <td>g2 esports</td>\n",
       "      <td>0.0</td>\n",
       "    </tr>\n",
       "    <tr>\n",
       "      <th>5876</th>\n",
       "      <td>-1.102808</td>\n",
       "      <td>0.000894</td>\n",
       "      <td>0.173483</td>\n",
       "      <td>0.703121</td>\n",
       "      <td>-0.807040</td>\n",
       "      <td>1.126806</td>\n",
       "      <td>0.703121</td>\n",
       "      <td>1.032224</td>\n",
       "      <td>0.631148</td>\n",
       "      <td>-0.020215</td>\n",
       "      <td>...</td>\n",
       "      <td>1.200124</td>\n",
       "      <td>1.203503</td>\n",
       "      <td>0.833247</td>\n",
       "      <td>0.833247</td>\n",
       "      <td>1.200124</td>\n",
       "      <td>-1.232320</td>\n",
       "      <td>0.0</td>\n",
       "      <td>-1.744256</td>\n",
       "      <td>g2 esports</td>\n",
       "      <td>1.0</td>\n",
       "    </tr>\n",
       "    <tr>\n",
       "      <th>5877</th>\n",
       "      <td>-1.102808</td>\n",
       "      <td>0.000894</td>\n",
       "      <td>0.173483</td>\n",
       "      <td>-0.804775</td>\n",
       "      <td>0.699012</td>\n",
       "      <td>-0.932044</td>\n",
       "      <td>-0.804775</td>\n",
       "      <td>1.032224</td>\n",
       "      <td>-0.793885</td>\n",
       "      <td>-0.020215</td>\n",
       "      <td>...</td>\n",
       "      <td>-0.833247</td>\n",
       "      <td>-0.830908</td>\n",
       "      <td>-1.200124</td>\n",
       "      <td>-1.200124</td>\n",
       "      <td>-0.833247</td>\n",
       "      <td>0.811477</td>\n",
       "      <td>0.0</td>\n",
       "      <td>-1.744256</td>\n",
       "      <td>team we</td>\n",
       "      <td>0.0</td>\n",
       "    </tr>\n",
       "    <tr>\n",
       "      <th>5878</th>\n",
       "      <td>-1.102808</td>\n",
       "      <td>0.000894</td>\n",
       "      <td>0.530962</td>\n",
       "      <td>0.401542</td>\n",
       "      <td>-0.505830</td>\n",
       "      <td>0.832684</td>\n",
       "      <td>0.401542</td>\n",
       "      <td>-0.095774</td>\n",
       "      <td>0.190650</td>\n",
       "      <td>-0.237291</td>\n",
       "      <td>...</td>\n",
       "      <td>1.200124</td>\n",
       "      <td>1.203503</td>\n",
       "      <td>-1.200124</td>\n",
       "      <td>-1.200124</td>\n",
       "      <td>1.200124</td>\n",
       "      <td>0.811477</td>\n",
       "      <td>0.0</td>\n",
       "      <td>-1.744256</td>\n",
       "      <td>sk telecom t1</td>\n",
       "      <td>1.0</td>\n",
       "    </tr>\n",
       "    <tr>\n",
       "      <th>5879</th>\n",
       "      <td>-1.102808</td>\n",
       "      <td>0.000894</td>\n",
       "      <td>0.530962</td>\n",
       "      <td>-0.503196</td>\n",
       "      <td>0.397801</td>\n",
       "      <td>-0.814395</td>\n",
       "      <td>-0.503196</td>\n",
       "      <td>-0.095774</td>\n",
       "      <td>-0.602174</td>\n",
       "      <td>-0.237291</td>\n",
       "      <td>...</td>\n",
       "      <td>-0.833247</td>\n",
       "      <td>-0.830908</td>\n",
       "      <td>0.833247</td>\n",
       "      <td>0.833247</td>\n",
       "      <td>-0.833247</td>\n",
       "      <td>-1.232320</td>\n",
       "      <td>0.0</td>\n",
       "      <td>-1.744256</td>\n",
       "      <td>g2 esports</td>\n",
       "      <td>0.0</td>\n",
       "    </tr>\n",
       "    <tr>\n",
       "      <th>5880</th>\n",
       "      <td>-1.102808</td>\n",
       "      <td>0.000894</td>\n",
       "      <td>-0.644380</td>\n",
       "      <td>0.552332</td>\n",
       "      <td>-0.656435</td>\n",
       "      <td>0.244442</td>\n",
       "      <td>0.552332</td>\n",
       "      <td>-0.716600</td>\n",
       "      <td>0.892392</td>\n",
       "      <td>0.466378</td>\n",
       "      <td>...</td>\n",
       "      <td>-0.833247</td>\n",
       "      <td>1.203503</td>\n",
       "      <td>0.833247</td>\n",
       "      <td>0.833247</td>\n",
       "      <td>1.200124</td>\n",
       "      <td>0.811477</td>\n",
       "      <td>0.0</td>\n",
       "      <td>-1.744256</td>\n",
       "      <td>g2 esports</td>\n",
       "      <td>1.0</td>\n",
       "    </tr>\n",
       "    <tr>\n",
       "      <th>5881</th>\n",
       "      <td>-1.102808</td>\n",
       "      <td>0.000894</td>\n",
       "      <td>-0.644380</td>\n",
       "      <td>-0.653985</td>\n",
       "      <td>0.548406</td>\n",
       "      <td>-0.932044</td>\n",
       "      <td>-0.653985</td>\n",
       "      <td>-0.716600</td>\n",
       "      <td>-0.449509</td>\n",
       "      <td>0.466378</td>\n",
       "      <td>...</td>\n",
       "      <td>1.200124</td>\n",
       "      <td>-0.830908</td>\n",
       "      <td>-1.200124</td>\n",
       "      <td>-1.200124</td>\n",
       "      <td>-0.833247</td>\n",
       "      <td>-1.232320</td>\n",
       "      <td>0.0</td>\n",
       "      <td>-1.744256</td>\n",
       "      <td>sk telecom t1</td>\n",
       "      <td>0.0</td>\n",
       "    </tr>\n",
       "    <tr>\n",
       "      <th>5882</th>\n",
       "      <td>-1.102808</td>\n",
       "      <td>0.000894</td>\n",
       "      <td>0.157874</td>\n",
       "      <td>1.306280</td>\n",
       "      <td>-0.505830</td>\n",
       "      <td>0.656211</td>\n",
       "      <td>1.306280</td>\n",
       "      <td>0.107808</td>\n",
       "      <td>1.210860</td>\n",
       "      <td>0.662281</td>\n",
       "      <td>...</td>\n",
       "      <td>-0.833247</td>\n",
       "      <td>-0.830908</td>\n",
       "      <td>-1.200124</td>\n",
       "      <td>0.833247</td>\n",
       "      <td>1.200124</td>\n",
       "      <td>0.811477</td>\n",
       "      <td>0.0</td>\n",
       "      <td>-1.744256</td>\n",
       "      <td>sk telecom t1</td>\n",
       "      <td>1.0</td>\n",
       "    </tr>\n",
       "    <tr>\n",
       "      <th>5883</th>\n",
       "      <td>-1.102808</td>\n",
       "      <td>0.000894</td>\n",
       "      <td>0.157874</td>\n",
       "      <td>-0.503196</td>\n",
       "      <td>1.301432</td>\n",
       "      <td>-0.520274</td>\n",
       "      <td>-0.503196</td>\n",
       "      <td>0.107808</td>\n",
       "      <td>-0.504722</td>\n",
       "      <td>0.662281</td>\n",
       "      <td>...</td>\n",
       "      <td>1.200124</td>\n",
       "      <td>1.203503</td>\n",
       "      <td>0.833247</td>\n",
       "      <td>-1.200124</td>\n",
       "      <td>-0.833247</td>\n",
       "      <td>-1.232320</td>\n",
       "      <td>0.0</td>\n",
       "      <td>-1.744256</td>\n",
       "      <td>g2 esports</td>\n",
       "      <td>0.0</td>\n",
       "    </tr>\n",
       "    <tr>\n",
       "      <th>5884</th>\n",
       "      <td>-1.102808</td>\n",
       "      <td>0.000894</td>\n",
       "      <td>-0.071248</td>\n",
       "      <td>-0.955565</td>\n",
       "      <td>1.000222</td>\n",
       "      <td>-0.814395</td>\n",
       "      <td>-0.955565</td>\n",
       "      <td>0.743892</td>\n",
       "      <td>-0.892414</td>\n",
       "      <td>0.248221</td>\n",
       "      <td>...</td>\n",
       "      <td>1.200124</td>\n",
       "      <td>-0.830908</td>\n",
       "      <td>0.833247</td>\n",
       "      <td>0.833247</td>\n",
       "      <td>-0.833247</td>\n",
       "      <td>-1.232320</td>\n",
       "      <td>0.0</td>\n",
       "      <td>-1.744256</td>\n",
       "      <td>g2 esports</td>\n",
       "      <td>0.0</td>\n",
       "    </tr>\n",
       "    <tr>\n",
       "      <th>5885</th>\n",
       "      <td>-1.102808</td>\n",
       "      <td>0.000894</td>\n",
       "      <td>-0.071248</td>\n",
       "      <td>1.004701</td>\n",
       "      <td>-0.957645</td>\n",
       "      <td>0.715036</td>\n",
       "      <td>1.004701</td>\n",
       "      <td>0.743892</td>\n",
       "      <td>1.055409</td>\n",
       "      <td>0.248221</td>\n",
       "      <td>...</td>\n",
       "      <td>-0.833247</td>\n",
       "      <td>1.203503</td>\n",
       "      <td>-1.200124</td>\n",
       "      <td>-1.200124</td>\n",
       "      <td>1.200124</td>\n",
       "      <td>0.811477</td>\n",
       "      <td>0.0</td>\n",
       "      <td>-1.744256</td>\n",
       "      <td>sk telecom t1</td>\n",
       "      <td>1.0</td>\n",
       "    </tr>\n",
       "  </tbody>\n",
       "</table>\n",
       "<p>5886 rows × 72 columns</p>\n",
       "</div>"
      ],
      "text/plain": [
       "         split   patchno  gamelength         k         d         a  teamkills  \\\n",
       "0     0.725222  1.316873   -1.680752 -1.407934  0.849617 -1.579111  -1.407934   \n",
       "1     0.725222  1.316873   -1.680752  0.853911 -1.409461  1.538576   0.853911   \n",
       "2     0.725222  0.220224    0.682321 -0.201616 -0.054014 -0.343801  -0.201616   \n",
       "3     0.725222  0.220224    0.682321 -0.050827 -0.204619  0.244442  -0.050827   \n",
       "4     0.725222  0.220224   -0.827601 -1.106354  0.548406 -1.284990  -1.106354   \n",
       "5     0.725222  0.220224   -0.827601  0.552332 -1.108250  0.303266   0.552332   \n",
       "6     0.725222  0.220224    0.574405  0.552332 -0.656435  1.067981   0.552332   \n",
       "7     0.725222  0.220224    0.574405 -0.653985  0.548406 -0.990868  -0.653985   \n",
       "8     0.725222  0.220224    0.474784  1.155490 -0.807040  0.597387   1.155490   \n",
       "9     0.725222  0.220224    0.474784 -0.804775  1.150827 -0.814395  -0.804775   \n",
       "10    0.725222  0.220224   -0.390299 -1.407934 -0.054014 -1.343814  -1.407934   \n",
       "11    0.725222  0.220224   -0.390299 -0.050827 -1.409461  0.067969  -0.050827   \n",
       "12    0.725222  0.220224    0.974637  0.401542 -1.108250  0.067969   0.401542   \n",
       "13    0.725222  0.220224    0.974637 -1.106354  0.397801 -0.932044  -1.106354   \n",
       "14    0.725222  0.220224    1.599133  0.552332 -0.204619  0.420914   0.552332   \n",
       "15    0.725222  0.220224    1.599133 -0.201616  0.548406 -0.284977  -0.201616   \n",
       "16    0.725222  0.220224   -0.797879 -1.257144  1.150827 -1.167341  -1.257144   \n",
       "17    0.725222  0.220224   -0.797879  1.155490 -1.258855  0.832684   1.155490   \n",
       "18    0.725222  0.220224    1.084367 -0.050827 -0.807040  0.303266  -0.050827   \n",
       "19    0.725222  0.220224    1.084367 -0.804775 -0.054014 -0.814395  -0.804775   \n",
       "20    0.725222  0.220224   -1.985377 -0.804775  2.205063 -1.167341  -0.804775   \n",
       "21    0.725222  0.220224   -1.985377  2.211018 -0.807040  1.009157   2.211018   \n",
       "22    0.725222  0.220224   -0.322489  0.099963 -0.807040 -0.402625   0.099963   \n",
       "23    0.725222  0.220224   -0.322489 -0.804775  0.096591 -1.108517  -0.804775   \n",
       "24    0.725222  0.220224    0.363531  0.401542 -0.957645  0.126793   0.401542   \n",
       "25    0.725222  0.220224    0.363531 -0.955565  0.397801 -1.049693  -0.955565   \n",
       "26    0.725222  0.220224    0.371907 -0.503196  0.247196  0.009144  -0.503196   \n",
       "27    0.725222  0.220224    0.371907  0.250753 -0.505830  0.303266   0.250753   \n",
       "28    0.725222  0.220224   -0.973798 -0.352406 -1.710671 -0.108504  -0.352406   \n",
       "29    0.725222  0.220224   -0.973798 -1.709513 -0.355225 -1.520287  -1.709513   \n",
       "...        ...       ...         ...       ...       ...       ...        ...   \n",
       "5856 -1.102808  0.000894    1.652609 -0.503196 -0.505830 -0.108504  -0.503196   \n",
       "5857 -1.102808  0.000894    1.652609 -0.503196 -0.505830  0.185617  -0.503196   \n",
       "5858 -1.102808  0.000894   -0.599324  1.457070 -1.108250  1.538576   1.457070   \n",
       "5859 -1.102808  0.000894   -0.599324 -1.106354  1.452037 -0.755571  -1.106354   \n",
       "5860 -1.102808  0.000894    0.403123 -0.503196  1.301432 -0.814395  -0.503196   \n",
       "5861 -1.102808  0.000894    0.403123  1.306280 -0.505830  1.244454   1.306280   \n",
       "5862 -1.102808  0.000894    0.367722  0.552332 -1.409461  0.656211   0.552332   \n",
       "5863 -1.102808  0.000894    0.367722 -1.407934  0.548406 -1.167341  -1.407934   \n",
       "5864 -1.102808  0.000894   -0.574233 -0.352406 -0.957645  0.362090  -0.352406   \n",
       "5865 -1.102808  0.000894   -0.574233 -0.955565 -0.355225 -1.049693  -0.955565   \n",
       "5866 -1.102808  0.000894   -1.298657 -1.558723 -0.505830 -1.520287  -1.558723   \n",
       "5867 -1.102808  0.000894   -1.298657 -0.503196 -1.560066 -1.108517  -0.503196   \n",
       "5868 -1.102808  0.000894   -0.786059 -0.201616 -1.258855 -0.461450  -0.201616   \n",
       "5869 -1.102808  0.000894   -0.786059 -1.257144 -0.204619 -1.108517  -1.257144   \n",
       "5870 -1.102808  0.000894    0.974637  0.099963  1.602643  0.420914   0.099963   \n",
       "5871 -1.102808  0.000894    0.974637  1.607859  0.096591  2.244467   1.607859   \n",
       "5872 -1.102808  0.000894    0.342493  1.004701 -0.505830  1.126806   1.004701   \n",
       "5873 -1.102808  0.000894    0.342493 -0.503196  1.000222 -0.167328  -0.503196   \n",
       "5874 -1.102808  0.000894    0.509012  1.004701 -0.807040  1.479751   1.004701   \n",
       "5875 -1.102808  0.000894    0.509012 -0.804775  1.000222 -0.873220  -0.804775   \n",
       "5876 -1.102808  0.000894    0.173483  0.703121 -0.807040  1.126806   0.703121   \n",
       "5877 -1.102808  0.000894    0.173483 -0.804775  0.699012 -0.932044  -0.804775   \n",
       "5878 -1.102808  0.000894    0.530962  0.401542 -0.505830  0.832684   0.401542   \n",
       "5879 -1.102808  0.000894    0.530962 -0.503196  0.397801 -0.814395  -0.503196   \n",
       "5880 -1.102808  0.000894   -0.644380  0.552332 -0.656435  0.244442   0.552332   \n",
       "5881 -1.102808  0.000894   -0.644380 -0.653985  0.548406 -0.932044  -0.653985   \n",
       "5882 -1.102808  0.000894    0.157874  1.306280 -0.505830  0.656211   1.306280   \n",
       "5883 -1.102808  0.000894    0.157874 -0.503196  1.301432 -0.520274  -0.503196   \n",
       "5884 -1.102808  0.000894   -0.071248 -0.955565  1.000222 -0.814395  -0.955565   \n",
       "5885 -1.102808  0.000894   -0.071248  1.004701 -0.957645  0.715036   1.004701   \n",
       "\n",
       "        fbtime       kpm      ckpm  ...  Encoded_fbvictim  Encoded_fd  \\\n",
       "0     0.456214 -1.183126  0.639664  ...         -0.833247   -0.830908   \n",
       "1     0.456214  1.858287  0.639664  ...          1.200124    1.203503   \n",
       "2     0.697744 -0.384845 -0.448890  ...         -0.833247    1.203503   \n",
       "3     0.697744 -0.256975 -0.448890  ...          1.200124   -0.830908   \n",
       "4    -0.172072 -0.923004  0.168783  ...         -0.833247   -0.830908   \n",
       "5    -0.172072  0.987487  0.168783  ...          1.200124    1.203503   \n",
       "6    -0.006806  0.303070 -0.263863  ...          1.200124    1.203503   \n",
       "7    -0.006806 -0.744169 -0.263863  ...         -0.833247   -0.830908   \n",
       "8     1.009584  0.883384  0.139116  ...         -0.833247    1.203503   \n",
       "9     1.009584 -0.855232  0.139116  ...          1.200124   -0.830908   \n",
       "10    0.963300 -1.312394 -1.000351  ...          1.200124   -0.830908   \n",
       "11    0.963300  0.124650 -1.000351  ...         -0.833247    1.203503   \n",
       "12    0.461171  0.006058 -0.998670  ...          1.200124    1.203503   \n",
       "13    0.461171 -1.192253 -0.998670  ...         -0.833247   -0.830908   \n",
       "14    1.674113 -0.134509 -0.587986  ...         -0.833247    1.203503   \n",
       "15    1.674113 -0.652290 -0.587986  ...          1.200124   -0.830908   \n",
       "16   -1.409483 -1.100571  0.556233  ...          1.200124   -0.830908   \n",
       "17   -1.409483  1.662783  0.556233  ...         -0.833247    1.203503   \n",
       "18    0.097425 -0.388813 -1.194457  ...          1.200124   -0.830908   \n",
       "19    0.097425 -0.973228 -1.194457  ...         -0.833247    1.203503   \n",
       "20   -1.108603 -0.295469  2.453632  ...          1.200124   -0.830908   \n",
       "21   -1.108603  3.978646  2.453632  ...         -0.833247    1.203503   \n",
       "22   -0.195885  0.256786 -0.255444  ...         -0.833247    1.203503   \n",
       "23   -0.195885 -0.688535 -0.255444  ...          1.200124   -0.830908   \n",
       "24    0.305750  0.262725 -0.510859  ...          1.200124   -0.830908   \n",
       "25    0.305750 -0.969755 -0.510859  ...         -0.833247    1.203503   \n",
       "26   -1.104250 -0.561111 -0.261722  ...          1.200124   -0.830908   \n",
       "27   -1.104250  0.122388 -0.261722  ...         -0.833247    1.203503   \n",
       "28    0.198085 -0.006410 -1.501038  ...         -0.833247    1.203503   \n",
       "29    0.198085 -1.612909 -1.501038  ...          1.200124   -0.830908   \n",
       "...        ...       ...       ...  ...               ...         ...   \n",
       "5856 -0.622109 -0.871434 -1.658125  ...         -0.833247   -0.830908   \n",
       "5857 -0.622109 -0.871434 -1.658125  ...          1.200124    1.203503   \n",
       "5858  1.399676  1.867022  0.806336  ...         -0.833247   -0.830908   \n",
       "5859  1.399676 -0.959947  0.806336  ...          1.200124    1.203503   \n",
       "5860 -0.896102 -0.569226  0.502920  ...          1.200124    1.203503   \n",
       "5861 -0.896102  1.060350  0.502920  ...         -0.833247   -0.830908   \n",
       "5862 -0.654908  0.397726 -0.784550  ...          1.200124   -0.830908   \n",
       "5863 -0.654908 -1.380946 -0.784550  ...         -0.833247    1.203503   \n",
       "5864 -1.221066 -0.136507 -0.735350  ...         -0.833247    1.203503   \n",
       "5865 -1.221066 -0.798468 -0.735350  ...          1.200124   -0.830908   \n",
       "5866  0.561952 -1.412507 -1.354270  ...          1.200124   -0.830908   \n",
       "5867  0.561952 -0.086352 -1.354270  ...         -0.833247    1.203503   \n",
       "5868 -0.962480  0.104156 -0.799701  ...          1.200124    1.203503   \n",
       "5869 -0.962480 -1.102113 -0.799701  ...         -0.833247   -0.830908   \n",
       "5870 -0.574720 -0.233604  0.680427  ...         -0.833247   -0.830908   \n",
       "5871 -0.574720  0.964707  0.680427  ...          1.200124    1.203503   \n",
       "5872 -1.168383  0.822084  0.331840  ...         -0.833247    1.203503   \n",
       "5873 -1.168383 -0.553439  0.331840  ...          1.200124   -0.830908   \n",
       "5874 -0.046513  0.731072  0.006689  ...          1.200124    1.203503   \n",
       "5875 -0.046513 -0.862074  0.006689  ...         -0.833247   -0.830908   \n",
       "5876  1.032224  0.631148 -0.020215  ...          1.200124    1.203503   \n",
       "5877  1.032224 -0.793885 -0.020215  ...         -0.833247   -0.830908   \n",
       "5878 -0.095774  0.190650 -0.237291  ...          1.200124    1.203503   \n",
       "5879 -0.095774 -0.602174 -0.237291  ...         -0.833247   -0.830908   \n",
       "5880 -0.716600  0.892392  0.466378  ...         -0.833247    1.203503   \n",
       "5881 -0.716600 -0.449509  0.466378  ...          1.200124   -0.830908   \n",
       "5882  0.107808  1.210860  0.662281  ...         -0.833247   -0.830908   \n",
       "5883  0.107808 -0.504722  0.662281  ...          1.200124    1.203503   \n",
       "5884  0.743892 -0.892414  0.248221  ...          1.200124   -0.830908   \n",
       "5885  0.743892  1.055409  0.248221  ...         -0.833247    1.203503   \n",
       "\n",
       "      Encoded_ft  Encoded_firstmidouter  Encoded_firsttothreetowers  \\\n",
       "0       0.833247              -1.200124                   -0.833247   \n",
       "1      -1.200124               0.833247                    1.200124   \n",
       "2      -1.200124               0.833247                   -0.833247   \n",
       "3       0.833247              -1.200124                    1.200124   \n",
       "4      -1.200124              -1.200124                   -0.833247   \n",
       "5       0.833247               0.833247                    1.200124   \n",
       "6      -1.200124              -1.200124                    1.200124   \n",
       "7       0.833247               0.833247                   -0.833247   \n",
       "8      -1.200124               0.833247                    1.200124   \n",
       "9       0.833247              -1.200124                   -0.833247   \n",
       "10     -1.200124              -1.200124                    1.200124   \n",
       "11      0.833247               0.833247                   -0.833247   \n",
       "12      0.833247               0.833247                    1.200124   \n",
       "13     -1.200124              -1.200124                   -0.833247   \n",
       "14      0.833247               0.833247                    1.200124   \n",
       "15     -1.200124              -1.200124                   -0.833247   \n",
       "16      0.833247              -1.200124                   -0.833247   \n",
       "17     -1.200124               0.833247                    1.200124   \n",
       "18     -1.200124               0.833247                   -0.833247   \n",
       "19      0.833247              -1.200124                    1.200124   \n",
       "20     -1.200124              -1.200124                   -0.833247   \n",
       "21      0.833247               0.833247                    1.200124   \n",
       "22      0.833247              -1.200124                    1.200124   \n",
       "23     -1.200124               0.833247                   -0.833247   \n",
       "24      0.833247               0.833247                    1.200124   \n",
       "25     -1.200124              -1.200124                   -0.833247   \n",
       "26      0.833247              -1.200124                   -0.833247   \n",
       "27     -1.200124               0.833247                    1.200124   \n",
       "28      0.833247               0.833247                    1.200124   \n",
       "29     -1.200124              -1.200124                   -0.833247   \n",
       "...          ...                    ...                         ...   \n",
       "5856    0.833247               0.833247                    1.200124   \n",
       "5857   -1.200124              -1.200124                   -0.833247   \n",
       "5858    0.833247              -1.200124                    1.200124   \n",
       "5859   -1.200124               0.833247                   -0.833247   \n",
       "5860   -1.200124              -1.200124                   -0.833247   \n",
       "5861    0.833247               0.833247                    1.200124   \n",
       "5862    0.833247               0.833247                    1.200124   \n",
       "5863   -1.200124              -1.200124                   -0.833247   \n",
       "5864    0.833247              -1.200124                   -0.833247   \n",
       "5865   -1.200124               0.833247                    1.200124   \n",
       "5866   -1.200124              -1.200124                   -0.833247   \n",
       "5867    0.833247               0.833247                    1.200124   \n",
       "5868    0.833247               0.833247                    1.200124   \n",
       "5869   -1.200124              -1.200124                   -0.833247   \n",
       "5870    0.833247               0.833247                    1.200124   \n",
       "5871   -1.200124              -1.200124                   -0.833247   \n",
       "5872    0.833247               0.833247                    1.200124   \n",
       "5873   -1.200124              -1.200124                   -0.833247   \n",
       "5874   -1.200124              -1.200124                   -0.833247   \n",
       "5875    0.833247               0.833247                    1.200124   \n",
       "5876    0.833247               0.833247                    1.200124   \n",
       "5877   -1.200124              -1.200124                   -0.833247   \n",
       "5878   -1.200124              -1.200124                    1.200124   \n",
       "5879    0.833247               0.833247                   -0.833247   \n",
       "5880    0.833247               0.833247                    1.200124   \n",
       "5881   -1.200124              -1.200124                   -0.833247   \n",
       "5882   -1.200124               0.833247                    1.200124   \n",
       "5883    0.833247              -1.200124                   -0.833247   \n",
       "5884    0.833247               0.833247                   -0.833247   \n",
       "5885   -1.200124              -1.200124                    1.200124   \n",
       "\n",
       "      Encoded_fbaron  Encoded_Year  Encoded_culture                 team  \\\n",
       "0          -1.232320           0.0        -1.311427          team liquid   \n",
       "1           0.811477           0.0        -1.311427             dignitas   \n",
       "2          -1.232320           0.0         0.419886                  mvp   \n",
       "3           0.811477           0.0         0.419886  jin air green wings   \n",
       "4          -1.232320           0.0         0.419886  jin air green wings   \n",
       "5           0.811477           0.0         0.419886                  mvp   \n",
       "6          -1.232320           0.0         0.419886                  mvp   \n",
       "7           0.811477           0.0         0.419886  jin air green wings   \n",
       "8           0.811477           0.0         0.419886       longzhu gaming   \n",
       "9          -1.232320           0.0         0.419886           kt rolster   \n",
       "10         -1.232320           0.0         0.419886           kt rolster   \n",
       "11          0.811477           0.0         0.419886       longzhu gaming   \n",
       "12          0.811477           0.0         0.419886        ever8 winners   \n",
       "13         -1.232320           0.0         0.419886       afreeca freecs   \n",
       "14         -1.232320           0.0         0.419886       afreeca freecs   \n",
       "15          0.811477           0.0         0.419886        ever8 winners   \n",
       "16         -1.232320           0.0         0.419886        sk telecom t1   \n",
       "17          0.811477           0.0         0.419886       samsung galaxy   \n",
       "18          0.811477           0.0         0.852715                  h2k   \n",
       "19         -1.232320           0.0         0.852715               splyce   \n",
       "20         -1.232320           0.0         0.852715               splyce   \n",
       "21          0.811477           0.0         0.852715                  h2k   \n",
       "22          0.811477           0.0         0.419886          bbq olivers   \n",
       "23         -1.232320           0.0         0.419886       longzhu gaming   \n",
       "24          0.811477           0.0         0.419886       longzhu gaming   \n",
       "25         -1.232320           0.0         0.419886          bbq olivers   \n",
       "26         -1.232320           0.0         0.419886           rox tigers   \n",
       "27          0.811477           0.0         0.419886  jin air green wings   \n",
       "28          0.811477           0.0         0.419886  jin air green wings   \n",
       "29         -1.232320           0.0         0.419886           rox tigers   \n",
       "...              ...           ...              ...                  ...   \n",
       "5856       -1.232320           0.0        -1.744256         team solomid   \n",
       "5857        0.811477           0.0        -1.744256           g2 esports   \n",
       "5858        0.811477           0.0        -1.744256         flash wolves   \n",
       "5859        0.811477           0.0        -1.744256     gigabyte marines   \n",
       "5860       -1.232320           0.0        -1.744256        sk telecom t1   \n",
       "5861        0.811477           0.0        -1.744256              team we   \n",
       "5862        0.811477           0.0        -1.744256         flash wolves   \n",
       "5863       -1.232320           0.0        -1.744256         team solomid   \n",
       "5864        0.811477           0.0        -1.744256        sk telecom t1   \n",
       "5865       -1.232320           0.0        -1.744256         flash wolves   \n",
       "5866       -1.232320           0.0        -1.744256         flash wolves   \n",
       "5867        0.811477           0.0        -1.744256        sk telecom t1   \n",
       "5868        0.811477           0.0        -1.744256        sk telecom t1   \n",
       "5869       -1.232320           0.0        -1.744256         flash wolves   \n",
       "5870        0.811477           0.0        -1.744256              team we   \n",
       "5871       -1.232320           0.0        -1.744256           g2 esports   \n",
       "5872        0.811477           0.0        -1.744256           g2 esports   \n",
       "5873       -1.232320           0.0        -1.744256              team we   \n",
       "5874        0.811477           0.0        -1.744256              team we   \n",
       "5875       -1.232320           0.0        -1.744256           g2 esports   \n",
       "5876       -1.232320           0.0        -1.744256           g2 esports   \n",
       "5877        0.811477           0.0        -1.744256              team we   \n",
       "5878        0.811477           0.0        -1.744256        sk telecom t1   \n",
       "5879       -1.232320           0.0        -1.744256           g2 esports   \n",
       "5880        0.811477           0.0        -1.744256           g2 esports   \n",
       "5881       -1.232320           0.0        -1.744256        sk telecom t1   \n",
       "5882        0.811477           0.0        -1.744256        sk telecom t1   \n",
       "5883       -1.232320           0.0        -1.744256           g2 esports   \n",
       "5884       -1.232320           0.0        -1.744256           g2 esports   \n",
       "5885        0.811477           0.0        -1.744256        sk telecom t1   \n",
       "\n",
       "      result  \n",
       "0        0.0  \n",
       "1        1.0  \n",
       "2        0.0  \n",
       "3        1.0  \n",
       "4        0.0  \n",
       "5        1.0  \n",
       "6        1.0  \n",
       "7        0.0  \n",
       "8        1.0  \n",
       "9        0.0  \n",
       "10       0.0  \n",
       "11       1.0  \n",
       "12       1.0  \n",
       "13       0.0  \n",
       "14       1.0  \n",
       "15       0.0  \n",
       "16       0.0  \n",
       "17       1.0  \n",
       "18       1.0  \n",
       "19       0.0  \n",
       "20       0.0  \n",
       "21       1.0  \n",
       "22       1.0  \n",
       "23       0.0  \n",
       "24       1.0  \n",
       "25       0.0  \n",
       "26       0.0  \n",
       "27       1.0  \n",
       "28       1.0  \n",
       "29       0.0  \n",
       "...      ...  \n",
       "5856     0.0  \n",
       "5857     1.0  \n",
       "5858     1.0  \n",
       "5859     0.0  \n",
       "5860     0.0  \n",
       "5861     1.0  \n",
       "5862     1.0  \n",
       "5863     0.0  \n",
       "5864     1.0  \n",
       "5865     0.0  \n",
       "5866     0.0  \n",
       "5867     1.0  \n",
       "5868     1.0  \n",
       "5869     0.0  \n",
       "5870     0.0  \n",
       "5871     1.0  \n",
       "5872     1.0  \n",
       "5873     0.0  \n",
       "5874     1.0  \n",
       "5875     0.0  \n",
       "5876     1.0  \n",
       "5877     0.0  \n",
       "5878     1.0  \n",
       "5879     0.0  \n",
       "5880     1.0  \n",
       "5881     0.0  \n",
       "5882     1.0  \n",
       "5883     0.0  \n",
       "5884     0.0  \n",
       "5885     1.0  \n",
       "\n",
       "[5886 rows x 72 columns]"
      ]
     },
     "execution_count": 13,
     "metadata": {},
     "output_type": "execute_result"
    }
   ],
   "source": [
    "# Visualize data\n",
    "data_raw"
   ]
  },
  {
   "cell_type": "code",
   "execution_count": 14,
   "metadata": {
    "ExecuteTime": {
     "end_time": "2019-07-19T13:32:06.465137Z",
     "start_time": "2019-07-19T13:32:06.454142Z"
    }
   },
   "outputs": [
    {
     "name": "stdout",
     "output_type": "stream",
     "text": [
      "Set of the different column types captured by the data:  {dtype('float64'), dtype('O')}\n",
      "The number of missing values in the data:  0\n"
     ]
    }
   ],
   "source": [
    "# Check all values are numeric\n",
    "print(\"Set of the different column types captured by the data: \", set(data_raw.dtypes))\n",
    "# Check no missing data\n",
    "print(\"The number of missing values in the data: \", sum(data_raw.isnull().any()))"
   ]
  },
  {
   "cell_type": "markdown",
   "metadata": {},
   "source": [
    "## 2. Split data in test and train data"
   ]
  },
  {
   "cell_type": "code",
   "execution_count": 15,
   "metadata": {
    "ExecuteTime": {
     "end_time": "2019-07-19T13:32:06.513285Z",
     "start_time": "2019-07-19T13:32:06.467110Z"
    },
    "scrolled": true
   },
   "outputs": [],
   "source": [
    "# Create copy of data for model building (removing team feature)\n",
    "data = data_raw.copy()\n",
    "data = data.drop(labels = ['team', 'split', 'patchno', 'gamelength', 'Encoded_Year', 'Encoded_culture'], axis=1)"
   ]
  },
  {
   "cell_type": "code",
   "execution_count": 16,
   "metadata": {
    "ExecuteTime": {
     "end_time": "2019-07-19T13:32:06.548905Z",
     "start_time": "2019-07-19T13:32:06.515361Z"
    }
   },
   "outputs": [],
   "source": [
    "# Split the data\n",
    "x_train, x_test, y_train, y_test = data_splitter(data, 'result')"
   ]
  },
  {
   "cell_type": "code",
   "execution_count": 17,
   "metadata": {
    "ExecuteTime": {
     "end_time": "2019-07-19T13:32:06.595323Z",
     "start_time": "2019-07-19T13:32:06.551096Z"
    }
   },
   "outputs": [
    {
     "name": "stdout",
     "output_type": "stream",
     "text": [
      "The data is centered:  True \n",
      "The data is standardized:  False\n"
     ]
    }
   ],
   "source": [
    "# Check data is standardized and centered\n",
    "print(\"The data is centered: \", \n",
    "      all([int(x) for x in round(x_train.mean(axis = 0), 4)]) == 0,\n",
    "     \"\\nThe data is standardized: \",\n",
    "      all([int(x) for x in round(x_train.var(axis = 0), 4)]) == 1)"
   ]
  },
  {
   "cell_type": "markdown",
   "metadata": {},
   "source": [
    "## 3. Model creation"
   ]
  },
  {
   "cell_type": "code",
   "execution_count": 18,
   "metadata": {
    "ExecuteTime": {
     "end_time": "2019-07-19T13:32:06.644774Z",
     "start_time": "2019-07-19T13:32:06.596966Z"
    }
   },
   "outputs": [],
   "source": [
    "# Create dictionary to capture model summary\n",
    "logistic_L1penalty_model_dict, ridge_model_dict, elasticnet_model_dict, rf_model_dict, model_summary_dict = dict(), dict(), dict(), dict(), dict()"
   ]
  },
  {
   "cell_type": "markdown",
   "metadata": {},
   "source": [
    "### 3.1 Logistic regression with L1 penalty (Lasso classification model)\n",
    "Here, the recursive feature elimination techinique is used to initialize L1 penalization in our logistic regression model and hence allows implementation of lasso regularization."
   ]
  },
  {
   "cell_type": "markdown",
   "metadata": {},
   "source": [
    "##### Recursive feature elimination\n",
    "Given an external estimator that assigns weights to features (~coefficients), the goal of recursive feature elimination is to select features by recursively considering smaller and smaller sets of features. The estimator is trained on the initial set of features and the importance of each feature is obtained. Based on this information the least important features are pruned from the current set of features. This procedure is recursively repeated on the pruned set until the desired number of features to select is reached. To get the optimal number of features CV is used."
   ]
  },
  {
   "cell_type": "code",
   "execution_count": 19,
   "metadata": {
    "ExecuteTime": {
     "end_time": "2019-07-19T13:32:22.668322Z",
     "start_time": "2019-07-19T13:32:06.646498Z"
    },
    "scrolled": true
   },
   "outputs": [],
   "source": [
    "# By using the liblinear solver the L1 penalty is implemented\n",
    "logreg = LogisticRegression(solver='liblinear')\n",
    "rfe = RFECV(logreg, cv = 5)\n",
    "rfe = rfe.fit(x_train, y_train)"
   ]
  },
  {
   "cell_type": "code",
   "execution_count": 20,
   "metadata": {
    "ExecuteTime": {
     "end_time": "2019-07-19T13:32:22.674828Z",
     "start_time": "2019-07-19T13:32:22.670239Z"
    }
   },
   "outputs": [
    {
     "name": "stdout",
     "output_type": "stream",
     "text": [
      "Based on the recursive elimination method the following 41 features are selected:  ['k', 'd', 'a', 'teamkills', 'kpm', 'ckpm', 'fdtime', 'teamdragkills', 'elementals', 'firedrakes', 'elders', 'teamtowerkills', 'fbarontime', 'teambaronkills', 'dmgtochamps', 'dmgtochampsperminute', 'wards', 'wardkills', 'visiblewardclearrate', 'totalgold', 'earnedgpm', 'goldspent', 'gspd', 'minionkills', 'monsterkills', 'monsterkillsownjungle', 'monsterkillsenemyjungle', 'gdat10', 'goldat15', 'gdat15', 'xpat10', 'xpdat10', 'csdat10', 'csat15', 'csdat15', 'Encoded_side', 'Encoded_fb', 'Encoded_fbassist', 'Encoded_fbvictim', 'Encoded_fd', 'Encoded_firstmidouter']\n"
     ]
    }
   ],
   "source": [
    "# Intermediate summary\n",
    "selected_features_rfe = [col for col, bool_importance in zip(x_train.columns.values, rfe.support_) if bool_importance]\n",
    "print(\"Based on the recursive elimination method the following\", len(selected_features_rfe),\n",
    "      \"features are selected: \", selected_features_rfe)"
   ]
  },
  {
   "cell_type": "markdown",
   "metadata": {},
   "source": [
    "Remark: The solver used by the logistic regression model is 'liblinear' which applies automatic parameter selection (L1 regularization) and is recommended when using a high dimensional dataset."
   ]
  },
  {
   "cell_type": "markdown",
   "metadata": {},
   "source": [
    "##### Model fit"
   ]
  },
  {
   "cell_type": "code",
   "execution_count": 21,
   "metadata": {
    "ExecuteTime": {
     "end_time": "2019-07-19T13:32:22.764213Z",
     "start_time": "2019-07-19T13:32:22.676669Z"
    }
   },
   "outputs": [],
   "source": [
    "# Fit the logistic regression model\n",
    "logistic_L1penalty_model = LogisticRegression(solver='liblinear')\n",
    "fitted_logistic_L1penalty_model = logistic_L1penalty_model.fit(x_train[selected_features_rfe], y_train)\n",
    "\n",
    "# Save best approximation alpha after CV\n",
    "logistic_L1penalty_model_dict['regularisation_param'] = np.nan"
   ]
  },
  {
   "cell_type": "markdown",
   "metadata": {
    "ExecuteTime": {
     "end_time": "2019-03-19T10:26:19.552084Z",
     "start_time": "2019-03-19T10:26:19.547199Z"
    }
   },
   "source": [
    "##### Model accuracy evaluation"
   ]
  },
  {
   "cell_type": "code",
   "execution_count": 22,
   "metadata": {
    "ExecuteTime": {
     "end_time": "2019-07-19T13:32:23.559481Z",
     "start_time": "2019-07-19T13:32:22.766386Z"
    }
   },
   "outputs": [
    {
     "name": "stdout",
     "output_type": "stream",
     "text": [
      "Based on a threshold of 0.5 the following summary statistics can be obtained:\n",
      " ----------------------------------------------------------------------------------------------------\n",
      "420 true positives over all positives (the wins that were correctly classified).\n",
      "8 false positives (the wins that were wrongly classified).\n",
      "446 true negatives (the losses that were correctly classified).\n",
      "9 false negatives (the losses that were wrongly classified).\n",
      "\n",
      "The sensitivity is:  0.9790209790209791\n",
      "The specificity is:  0.9823788546255506\n",
      "\n",
      "\n",
      "Accuracy: 0.9807474518686297 \n",
      " ----------------------------------------------------------------------------------------------------\n"
     ]
    },
    {
     "data": {
      "image/png": "[encoded data removed]",
      "text/plain": [
       "<Figure size 432x288 with 1 Axes>"
      ]
     },
     "metadata": {
      "needs_background": "light"
     },
     "output_type": "display_data"
    },
    {
     "name": "stdout",
     "output_type": "stream",
     "text": [
      "Confusion matrix :\n",
      " ----------------------------------------------------------------------------------------------------\n"
     ]
    },
    {
     "data": {
      "image/png": "[encoded data removed]",
      "text/plain": [
       "<Figure size 432x288 with 2 Axes>"
      ]
     },
     "metadata": {
      "needs_background": "light"
     },
     "output_type": "display_data"
    },
    {
     "name": "stdout",
     "output_type": "stream",
     "text": [
      "Normalized confusion matrix :\n",
      " ----------------------------------------------------------------------------------------------------\n"
     ]
    },
    {
     "data": {
      "image/png": "[encoded data removed]",
      "text/plain": [
       "<Figure size 432x288 with 2 Axes>"
      ]
     },
     "metadata": {
      "needs_background": "light"
     },
     "output_type": "display_data"
    }
   ],
   "source": [
    "# Model accuracy evaluation metrics\n",
    "logistic_L1penalty_model_dict['sensitivity'], logistic_L1penalty_model_dict['specificity'], logistic_L1penalty_model_dict['auc'], logistic_L1penalty_model_dict['accuracy'] = binary_class_evaluator(fitted_logistic_L1penalty_model, x_test[selected_features_rfe], y_test)\n",
    "\n",
    "# Plot non-normalized and normalized confusion matrix\n",
    "plot_confusion_matrix(fitted_logistic_L1penalty_model, x_test[selected_features_rfe], y_test, classes=['Loss', 'Win'])\n",
    "plot_confusion_matrix(fitted_logistic_L1penalty_model, x_test[selected_features_rfe], y_test, classes=['Loss', 'Win'], normalize=True)"
   ]
  },
  {
   "cell_type": "markdown",
   "metadata": {},
   "source": [
    "##### Feature importance evaluator"
   ]
  },
  {
   "cell_type": "code",
   "execution_count": 23,
   "metadata": {
    "ExecuteTime": {
     "end_time": "2019-07-19T13:32:23.568930Z",
     "start_time": "2019-07-19T13:32:23.561289Z"
    }
   },
   "outputs": [
    {
     "name": "stdout",
     "output_type": "stream",
     "text": [
      "Summary of the important features and their corresponding coefficients:\n",
      " ----------------------------------------------------------------------------------------------------\n",
      "teamtowerkills : 4.550911295696299\n",
      "earnedgpm : 2.1610951010248844\n",
      "d : -1.7308460292346812\n",
      "goldspent : -1.6470655781661838\n",
      "gspd : -1.2513516024930793\n",
      "kpm : 1.2348964061265482\n",
      "minionkills : 1.0986344885847392\n",
      "totalgold : -0.9575560097843414\n",
      "monsterkillsownjungle : 0.8587597197423411\n",
      "a : 0.7580734261410601\n"
     ]
    }
   ],
   "source": [
    "# Show the sorted features indicating the highest importance in predicting the target\n",
    "logistic_L1penalty_model_dict['feature_importance'] = important_features_extractor(fitted_logistic_L1penalty_model, selected_features_rfe)"
   ]
  },
  {
   "cell_type": "code",
   "execution_count": 24,
   "metadata": {
    "ExecuteTime": {
     "end_time": "2019-07-19T13:33:35.923258Z",
     "start_time": "2019-07-19T13:32:23.573323Z"
    },
    "scrolled": true
   },
   "outputs": [
    {
     "data": {
      "image/png": "[encoded data removed]",
      "text/plain": [
       "<Figure size 432x288 with 1 Axes>"
      ]
     },
     "metadata": {
      "needs_background": "light"
     },
     "output_type": "display_data"
    }
   ],
   "source": [
    "# Visualize the use of different regularization parameters on coefficient estimates for Lasso regression\n",
    "n_alphas, coefs = 200, []\n",
    "alphas = np.logspace(-10, -2, n_alphas)\n",
    "for a in alphas:\n",
    "    lasso = Lasso(alpha = a, fit_intercept = False)\n",
    "    lasso.fit(x_train, y_train)\n",
    "    coefs.append(lasso.coef_)\n",
    "\n",
    "# Visualize the regularization curve\n",
    "ax = plt.gca()\n",
    "ax.plot(alphas, coefs)\n",
    "ax.set_xscale('log')\n",
    "ax.set_xlim(ax.get_xlim()[::-1])  # reverse axis\n",
    "plt.xlabel('alpha')\n",
    "plt.ylabel('weights')\n",
    "plt.title('Lasso coefficients as a function of the regularization')\n",
    "plt.axis('tight')\n",
    "plt.show()"
   ]
  },
  {
   "cell_type": "markdown",
   "metadata": {},
   "source": [
    "### 3.2 Ridge classification model\n",
    "Ridge regression covers a machine learning technique that solves a regression model where the loss function is the linear least squares function and regularization is given by the l2-norm.\n",
    "\n",
    "To fit the ridge classification model the ridge classifier with build in cross-validation estimator is used from the sklearn package. The CV classifier allows us to evaluate different regularization parameters. Here, the array of alpha values that is explored ranges from 0.1 to 1. in steps of 0.025.\n",
    "\n",
    "If the alpha value is 0, a OLS model seems to best fit the data. So, the smaller the value of alpha, the higher the magnitude of the coefficients. No intercept is calculated for the model, because the data is centered."
   ]
  },
  {
   "cell_type": "markdown",
   "metadata": {},
   "source": [
    "##### Model fit"
   ]
  },
  {
   "cell_type": "code",
   "execution_count": 25,
   "metadata": {
    "ExecuteTime": {
     "end_time": "2019-07-19T13:33:38.091169Z",
     "start_time": "2019-07-19T13:33:35.926150Z"
    }
   },
   "outputs": [],
   "source": [
    "# Fit the regression model for the optimal alpha \n",
    "alphas = np.arange(0.0, 1.0, 0.025)\n",
    "ridge_model = RidgeClassifierCV(alphas, fit_intercept= False, cv= 5)\n",
    "fitted_ridge_model = ridge_model.fit(x_train, y_train)\n",
    "\n",
    "# Save best approximation alpha after CV\n",
    "ridge_model_dict['regularisation_param'] = fitted_ridge_model.alpha_"
   ]
  },
  {
   "cell_type": "markdown",
   "metadata": {},
   "source": [
    "##### Model accuracy evaluation"
   ]
  },
  {
   "cell_type": "code",
   "execution_count": 26,
   "metadata": {
    "ExecuteTime": {
     "end_time": "2019-07-19T13:33:38.836532Z",
     "start_time": "2019-07-19T13:33:38.135026Z"
    }
   },
   "outputs": [
    {
     "name": "stdout",
     "output_type": "stream",
     "text": [
      "Based on a threshold of 0.5 the following summary statistics can be obtained:\n",
      " ----------------------------------------------------------------------------------------------------\n",
      "425 true positives over all positives (the wins that were correctly classified).\n",
      "7 false positives (the wins that were wrongly classified).\n",
      "447 true negatives (the losses that were correctly classified).\n",
      "4 false negatives (the losses that were wrongly classified).\n",
      "\n",
      "The sensitivity is:  0.9906759906759907\n",
      "The specificity is:  0.9845814977973568\n",
      "\n",
      "\n",
      "Accuracy: 0.9875424688561721 \n",
      " ----------------------------------------------------------------------------------------------------\n"
     ]
    },
    {
     "data": {
      "image/png": "[encoded data removed]",
      "text/plain": [
       "<Figure size 432x288 with 1 Axes>"
      ]
     },
     "metadata": {
      "needs_background": "light"
     },
     "output_type": "display_data"
    },
    {
     "name": "stdout",
     "output_type": "stream",
     "text": [
      "Confusion matrix :\n",
      " ----------------------------------------------------------------------------------------------------\n"
     ]
    },
    {
     "data": {
      "image/png": "[encoded data removed]",
      "text/plain": [
       "<Figure size 432x288 with 2 Axes>"
      ]
     },
     "metadata": {
      "needs_background": "light"
     },
     "output_type": "display_data"
    },
    {
     "name": "stdout",
     "output_type": "stream",
     "text": [
      "Normalized confusion matrix :\n",
      " ----------------------------------------------------------------------------------------------------\n"
     ]
    },
    {
     "data": {
      "image/png": "[encoded data removed]",
      "text/plain": [
       "<Figure size 432x288 with 2 Axes>"
      ]
     },
     "metadata": {
      "needs_background": "light"
     },
     "output_type": "display_data"
    }
   ],
   "source": [
    "# Model accuracy evaluation metrics\n",
    "ridge_model_dict['sensitivity'], ridge_model_dict['specificity'], ridge_model_dict['auc'], ridge_model_dict['accuracy'] = binary_class_evaluator(fitted_ridge_model, x_test, y_test)\n",
    "\n",
    "# Plot non-normalized and normalized confusion matrix\n",
    "plot_confusion_matrix(fitted_ridge_model, x_test,y_test, classes=['Loss', 'Win'])\n",
    "plot_confusion_matrix(fitted_ridge_model, x_test,y_test, classes=['Loss', 'Win'], normalize=True)"
   ]
  },
  {
   "cell_type": "markdown",
   "metadata": {
    "ExecuteTime": {
     "end_time": "2019-03-19T09:17:32.286353Z",
     "start_time": "2019-03-19T09:17:31.991148Z"
    }
   },
   "source": [
    "##### Feature importance evaluator"
   ]
  },
  {
   "cell_type": "code",
   "execution_count": 27,
   "metadata": {
    "ExecuteTime": {
     "end_time": "2019-07-19T13:33:38.845448Z",
     "start_time": "2019-07-19T13:33:38.838639Z"
    },
    "scrolled": true
   },
   "outputs": [
    {
     "name": "stdout",
     "output_type": "stream",
     "text": [
      "Summary of the important features and their corresponding coefficients:\n",
      " ----------------------------------------------------------------------------------------------------\n",
      "teamtowerkills : 0.6644627346255815\n",
      "goldspent : -0.44634625041460196\n",
      "minionkills : 0.3087529039604854\n",
      "d : -0.28282560405002716\n",
      "kpm : -0.22328106978947226\n",
      "totalgold : -0.21265822278874802\n",
      "earnedgpm : 0.214063893520155\n",
      "k : 0.15371458955119185\n",
      "teamkills : 0.1537145895515162\n",
      "gspd : -0.14307899762145218\n"
     ]
    }
   ],
   "source": [
    "# Show the sorted features indicating the highest importance in predicting the target\n",
    "ridge_model_dict['feature_importance'] = important_features_extractor(fitted_ridge_model, x_train.columns.values)"
   ]
  },
  {
   "cell_type": "code",
   "execution_count": 28,
   "metadata": {
    "ExecuteTime": {
     "end_time": "2019-07-19T13:33:40.701695Z",
     "start_time": "2019-07-19T13:33:38.847473Z"
    }
   },
   "outputs": [
    {
     "data": {
      "image/png": "[encoded data removed]",
      "text/plain": [
       "<Figure size 432x288 with 1 Axes>"
      ]
     },
     "metadata": {
      "needs_background": "light"
     },
     "output_type": "display_data"
    }
   ],
   "source": [
    "# Visualize the use of different regularization parameters on coefficient estimates for Ridge regression\n",
    "n_alphas, coefs = 200, []\n",
    "alphas = np.logspace(-10, -2, n_alphas)\n",
    "for a in alphas:\n",
    "    ridge = Ridge(alpha = a, fit_intercept = False)\n",
    "    ridge.fit(x_train, y_train)\n",
    "    coefs.append(ridge.coef_)\n",
    "\n",
    "# Visualize the regularization curve\n",
    "ax = plt.gca()\n",
    "ax.plot(alphas, coefs)\n",
    "ax.set_xscale('log')\n",
    "ax.set_xlim(ax.get_xlim()[::-1])  # reverse axis\n",
    "plt.xlabel('alpha')\n",
    "plt.ylabel('weights')\n",
    "plt.title('Ridge coefficients as a function of the regularization')\n",
    "plt.axis('tight')\n",
    "plt.show()"
   ]
  },
  {
   "cell_type": "markdown",
   "metadata": {},
   "source": [
    "### 3.3 Elastic net classification model\n",
    "The elastic net classification model will combine the L1 and L2 priors illustrated above in the same logistic regression model as regularizers. The ElasticNetCV function from sklearn allows us to play around with these regularization parameters by defining a range for the l1_ratio = a/ (a + b), where  a * L1 + b * L2 composes the penalization term. If the optimal l1_ratio parameter is closer to 1, a sparser selection is managed, while l1_ratio parameters close to 0 result in more shrinkage of the coefficients."
   ]
  },
  {
   "cell_type": "markdown",
   "metadata": {},
   "source": [
    "##### Model fit"
   ]
  },
  {
   "cell_type": "code",
   "execution_count": 29,
   "metadata": {
    "ExecuteTime": {
     "end_time": "2019-07-19T13:34:21.737039Z",
     "start_time": "2019-07-19T13:33:40.703762Z"
    }
   },
   "outputs": [],
   "source": [
    "# Fit the elasticnet classification model\n",
    "l1_ratios = alphas[1:]\n",
    "elasticnet_model = ElasticNetCV(l1_ratio = l1_ratios, fit_intercept= False, cv= 5, random_state=0)\n",
    "fitted_elasticnet_model = elasticnet_model.fit(x_train, y_train)\n",
    "\n",
    "# Save best approximation alpha after CV\n",
    "elasticnet_model_dict['regularisation_param'] = {'l1_ratio': fitted_elasticnet_model.l1_ratio_,\n",
    "                                                 'alpha': fitted_elasticnet_model.alpha_}"
   ]
  },
  {
   "cell_type": "markdown",
   "metadata": {},
   "source": [
    "##### Model accuracy evaluation"
   ]
  },
  {
   "cell_type": "code",
   "execution_count": 30,
   "metadata": {
    "ExecuteTime": {
     "end_time": "2019-07-19T13:34:22.546725Z",
     "start_time": "2019-07-19T13:34:21.757839Z"
    }
   },
   "outputs": [
    {
     "name": "stdout",
     "output_type": "stream",
     "text": [
      "Based on a threshold of 0.5 the following summary statistics can be obtained:\n",
      " ----------------------------------------------------------------------------------------------------\n",
      "424 true positives over all positives (the wins that were correctly classified).\n",
      "9 false positives (the wins that were wrongly classified).\n",
      "445 true negatives (the losses that were correctly classified).\n",
      "5 false negatives (the losses that were wrongly classified).\n",
      "\n",
      "The sensitivity is:  0.9883449883449883\n",
      "The specificity is:  0.9801762114537445\n",
      "\n",
      "\n",
      "Accuracy: 0.984144960362401 \n",
      " ----------------------------------------------------------------------------------------------------\n"
     ]
    },
    {
     "data": {
      "image/png": "[encoded data removed]",
      "text/plain": [
       "<Figure size 432x288 with 1 Axes>"
      ]
     },
     "metadata": {
      "needs_background": "light"
     },
     "output_type": "display_data"
    },
    {
     "name": "stdout",
     "output_type": "stream",
     "text": [
      "Confusion matrix :\n",
      " ----------------------------------------------------------------------------------------------------\n"
     ]
    },
    {
     "data": {
      "image/png": "[encoded data removed]",
      "text/plain": [
       "<Figure size 432x288 with 2 Axes>"
      ]
     },
     "metadata": {
      "needs_background": "light"
     },
     "output_type": "display_data"
    },
    {
     "name": "stdout",
     "output_type": "stream",
     "text": [
      "Normalized confusion matrix :\n",
      " ----------------------------------------------------------------------------------------------------\n"
     ]
    },
    {
     "data": {
      "image/png": "[encoded data removed]",
      "text/plain": [
       "<Figure size 432x288 with 2 Axes>"
      ]
     },
     "metadata": {
      "needs_background": "light"
     },
     "output_type": "display_data"
    }
   ],
   "source": [
    "# Model accuracy evaluation metrics\n",
    "elasticnet_model_dict['sensitivity'], elasticnet_model_dict['specificity'], elasticnet_model_dict['auc'], elasticnet_model_dict['accuracy'] = binary_class_evaluator(fitted_elasticnet_model, x_test, y_test, elasticnet = True)\n",
    "\n",
    "# Plot non-normalized and normalized confusion matrix\n",
    "plot_confusion_matrix(fitted_elasticnet_model, x_test, y_test, classes=['Loss', 'Win'], elasticnet = True)\n",
    "plot_confusion_matrix(fitted_elasticnet_model, x_test, y_test, classes=['Loss', 'Win'], normalize=True, elasticnet = True)"
   ]
  },
  {
   "cell_type": "markdown",
   "metadata": {
    "ExecuteTime": {
     "end_time": "2019-03-19T10:34:24.897544Z",
     "start_time": "2019-03-19T10:34:24.872205Z"
    }
   },
   "source": [
    "##### Feature importance evaluator"
   ]
  },
  {
   "cell_type": "code",
   "execution_count": 31,
   "metadata": {
    "ExecuteTime": {
     "end_time": "2019-07-19T13:34:22.556701Z",
     "start_time": "2019-07-19T13:34:22.548750Z"
    },
    "scrolled": true
   },
   "outputs": [
    {
     "name": "stdout",
     "output_type": "stream",
     "text": [
      "Summary of the important features and their corresponding coefficients:\n",
      " ----------------------------------------------------------------------------------------------------\n",
      "teamtowerkills : 0.2671121900755735\n",
      "d : -0.1308362732082366\n",
      "a : 0.06692650566165152\n",
      "goldspent : -0.06747071932936083\n",
      "gspd : -0.06508734244511293\n",
      "teambaronkills : 0.05280342178697469\n",
      "earnedgpm : 0.0543642183209667\n",
      "totalgold : -0.035474243608578634\n",
      "k : 0.02849351494193591\n",
      "teamkills : 0.028294866119001647\n"
     ]
    }
   ],
   "source": [
    "# Show the sorted features indicating the highest importance in predicting the target\n",
    "elasticnet_model_dict['feature_importance'] = important_features_extractor(fitted_elasticnet_model, \n",
    "                                                                           x_train.columns.values, \n",
    "                                                                           elasticnet = True)"
   ]
  },
  {
   "cell_type": "code",
   "execution_count": 32,
   "metadata": {
    "ExecuteTime": {
     "end_time": "2019-07-19T13:34:33.887641Z",
     "start_time": "2019-07-19T13:34:22.558842Z"
    }
   },
   "outputs": [
    {
     "data": {
      "image/png": "[encoded data removed]",
      "text/plain": [
       "<Figure size 432x288 with 1 Axes>"
      ]
     },
     "metadata": {
      "needs_background": "light"
     },
     "output_type": "display_data"
    }
   ],
   "source": [
    "# Visualize the use of different regularization parameters on coefficient estimates for Ridge regression\n",
    "n_ratios, coefs = 200, []\n",
    "l1_ratios = np.logspace(-10, -2, n_ratios)\n",
    "for r in l1_ratios:\n",
    "    elasticnet = ElasticNet(l1_ratio = r, fit_intercept = False)\n",
    "    elasticnet.fit(x_train, y_train)\n",
    "    coefs.append(elasticnet.coef_)\n",
    "\n",
    "# Visualize the regularization curve\n",
    "ax = plt.gca()\n",
    "ax.plot(l1_ratios, coefs)\n",
    "ax.set_xscale('log')\n",
    "ax.set_xlim(ax.get_xlim()[::-1])  # reverse axis\n",
    "plt.xlabel('l1_ratio')\n",
    "plt.ylabel('weights')\n",
    "plt.title('Elastic net coefficients as a function of the regularization')\n",
    "plt.axis('tight')\n",
    "plt.show()"
   ]
  },
  {
   "cell_type": "markdown",
   "metadata": {},
   "source": [
    "### 3.4 Random Forests classifier"
   ]
  },
  {
   "cell_type": "markdown",
   "metadata": {},
   "source": [
    "##### Model fit"
   ]
  },
  {
   "cell_type": "code",
   "execution_count": 33,
   "metadata": {
    "ExecuteTime": {
     "end_time": "2019-07-19T13:53:13.288016Z",
     "start_time": "2019-07-19T13:34:33.889624Z"
    }
   },
   "outputs": [
    {
     "data": {
      "text/plain": [
       "{'bootstrap': False, 'max_features': 'auto', 'n_estimators': 2000}"
      ]
     },
     "execution_count": 33,
     "metadata": {},
     "output_type": "execute_result"
    }
   ],
   "source": [
    "# Define hyperparameter grid\n",
    "param_grid = {'bootstrap': [True, False],\n",
    "              'max_features': ['auto', 'sqrt'],\n",
    "              'n_estimators': [200, 1000, 2000]}\n",
    "\n",
    "# Hyperparametertuning of the Random Forest model (cv = 5 folds)\n",
    "rf_model = RandomForestClassifier()\n",
    "grid_rf_model = GridSearchCV(rf_model, param_grid, cv=5)\n",
    "grid_best_rf_model = grid_rf_model.fit(x_train, y_train)\n",
    "\n",
    "# Save optimal hyperparameters\n",
    "rf_model_dict['regularisation_param'] = grid_best_rf_model.best_params_\n",
    "grid_best_rf_model.best_params_"
   ]
  },
  {
   "cell_type": "code",
   "execution_count": 34,
   "metadata": {
    "ExecuteTime": {
     "end_time": "2019-07-19T13:53:52.879833Z",
     "start_time": "2019-07-19T13:53:13.289999Z"
    }
   },
   "outputs": [
    {
     "data": {
      "text/plain": [
       "RandomForestClassifier(bootstrap=False, class_weight=None, criterion='gini',\n",
       "            max_depth=None, max_features='auto', max_leaf_nodes=None,\n",
       "            min_impurity_decrease=0.0, min_impurity_split=None,\n",
       "            min_samples_leaf=1, min_samples_split=2,\n",
       "            min_weight_fraction_leaf=0.0, n_estimators=2000, n_jobs=None,\n",
       "            oob_score=False, random_state=None, verbose=0,\n",
       "            warm_start=False)"
      ]
     },
     "execution_count": 34,
     "metadata": {},
     "output_type": "execute_result"
    }
   ],
   "source": [
    "# Fit the best model with the optimal hyperparameters\n",
    "fitted_rf_model = RandomForestClassifier(bootstrap = rf_model_dict['regularisation_param'] ['bootstrap'],\n",
    "                                         max_features = rf_model_dict['regularisation_param'] ['max_features'],\n",
    "                                         n_estimators = rf_model_dict['regularisation_param'] ['n_estimators'])\n",
    "fitted_rf_model.fit(x_train,y_train)"
   ]
  },
  {
   "cell_type": "markdown",
   "metadata": {},
   "source": [
    "##### Model accuracy evaluation"
   ]
  },
  {
   "cell_type": "code",
   "execution_count": 35,
   "metadata": {
    "ExecuteTime": {
     "end_time": "2019-07-19T13:53:56.967645Z",
     "start_time": "2019-07-19T13:53:52.886302Z"
    }
   },
   "outputs": [
    {
     "name": "stdout",
     "output_type": "stream",
     "text": [
      "Based on a threshold of 0.5 the following summary statistics can be obtained:\n",
      " ----------------------------------------------------------------------------------------------------\n",
      "419 true positives over all positives (the wins that were correctly classified).\n",
      "10 false positives (the wins that were wrongly classified).\n",
      "444 true negatives (the losses that were correctly classified).\n",
      "10 false negatives (the losses that were wrongly classified).\n",
      "\n",
      "The sensitivity is:  0.9766899766899767\n",
      "The specificity is:  0.9779735682819384\n",
      "\n",
      "\n",
      "Accuracy: 0.9773499433748585 \n",
      " ----------------------------------------------------------------------------------------------------\n"
     ]
    },
    {
     "data": {
      "image/png": "[encoded data removed]",
      "text/plain": [
       "<Figure size 432x288 with 1 Axes>"
      ]
     },
     "metadata": {
      "needs_background": "light"
     },
     "output_type": "display_data"
    },
    {
     "name": "stdout",
     "output_type": "stream",
     "text": [
      "Confusion matrix :\n",
      " ----------------------------------------------------------------------------------------------------\n"
     ]
    },
    {
     "data": {
      "image/png": "[encoded data removed]",
      "text/plain": [
       "<Figure size 432x288 with 2 Axes>"
      ]
     },
     "metadata": {
      "needs_background": "light"
     },
     "output_type": "display_data"
    },
    {
     "name": "stdout",
     "output_type": "stream",
     "text": [
      "Normalized confusion matrix :\n",
      " ----------------------------------------------------------------------------------------------------\n"
     ]
    },
    {
     "data": {
      "image/png": "[encoded data removed]",
      "text/plain": [
       "<Figure size 432x288 with 2 Axes>"
      ]
     },
     "metadata": {
      "needs_background": "light"
     },
     "output_type": "display_data"
    }
   ],
   "source": [
    "# Model accuracy evaluation metrics\n",
    "rf_model_dict['sensitivity'], rf_model_dict['specificity'], rf_model_dict['auc'], rf_model_dict['accuracy'] = binary_class_evaluator(fitted_rf_model, x_test, y_test, elasticnet = False)\n",
    "\n",
    "# Plot non-normalized and normalized confusion matrix\n",
    "plot_confusion_matrix(fitted_rf_model, x_test, y_test, classes=['Loss', 'Win'], elasticnet = False)\n",
    "plot_confusion_matrix(fitted_rf_model, x_test, y_test, classes=['Loss', 'Win'], normalize=True, elasticnet = False)"
   ]
  },
  {
   "cell_type": "markdown",
   "metadata": {},
   "source": [
    "##### Feature importance evaluator"
   ]
  },
  {
   "cell_type": "code",
   "execution_count": 36,
   "metadata": {
    "ExecuteTime": {
     "end_time": "2019-07-19T13:53:57.208192Z",
     "start_time": "2019-07-19T13:53:56.979468Z"
    },
    "scrolled": false
   },
   "outputs": [
    {
     "data": {
      "text/plain": [
       "teamtowerkills    0.245258\n",
       "earnedgpm         0.142963\n",
       "d                 0.092852\n",
       "gspd              0.074062\n",
       "kpm               0.065586\n",
       "a                 0.051180\n",
       "k                 0.043736\n",
       "teamkills         0.042283\n",
       "teambaronkills    0.030887\n",
       "Encoded_fbaron    0.023273\n",
       "dtype: float64"
      ]
     },
     "execution_count": 36,
     "metadata": {},
     "output_type": "execute_result"
    }
   ],
   "source": [
    "# Show the sorted features indicating the highest importance in predicting the target\n",
    "feature_imp = pd.Series(fitted_rf_model.feature_importances_,index=x_train.columns).sort_values(ascending=False)\n",
    "rf_model_dict['feature_importance'] = dict(zip(feature_imp.index, feature_imp))\n",
    "feature_imp[:10]"
   ]
  },
  {
   "cell_type": "markdown",
   "metadata": {},
   "source": [
    "### 3.5 Comparison ML techniques"
   ]
  },
  {
   "cell_type": "markdown",
   "metadata": {},
   "source": [
    "##### Creation summary table"
   ]
  },
  {
   "cell_type": "code",
   "execution_count": 37,
   "metadata": {
    "ExecuteTime": {
     "end_time": "2019-07-19T13:53:57.233705Z",
     "start_time": "2019-07-19T13:53:57.210056Z"
    }
   },
   "outputs": [
    {
     "data": {
      "text/html": [
       "<div>\n",
       "<style scoped>\n",
       "    .dataframe tbody tr th:only-of-type {\n",
       "        vertical-align: middle;\n",
       "    }\n",
       "\n",
       "    .dataframe tbody tr th {\n",
       "        vertical-align: top;\n",
       "    }\n",
       "\n",
       "    .dataframe thead th {\n",
       "        text-align: right;\n",
       "    }\n",
       "</style>\n",
       "<table border=\"1\" class=\"dataframe\">\n",
       "  <thead>\n",
       "    <tr style=\"text-align: right;\">\n",
       "      <th></th>\n",
       "      <th>regularisation_param</th>\n",
       "      <th>sensitivity</th>\n",
       "      <th>specificity</th>\n",
       "      <th>auc</th>\n",
       "      <th>accuracy</th>\n",
       "      <th>feature_importance</th>\n",
       "    </tr>\n",
       "  </thead>\n",
       "  <tbody>\n",
       "    <tr>\n",
       "      <th>Lasso</th>\n",
       "      <td>NaN</td>\n",
       "      <td>0.979021</td>\n",
       "      <td>0.982379</td>\n",
       "      <td>0.980700</td>\n",
       "      <td>0.980747</td>\n",
       "      <td>{'teamtowerkills': 4.550911295696299, 'earnedg...</td>\n",
       "    </tr>\n",
       "    <tr>\n",
       "      <th>Ridge</th>\n",
       "      <td>0.975</td>\n",
       "      <td>0.990676</td>\n",
       "      <td>0.984581</td>\n",
       "      <td>0.987629</td>\n",
       "      <td>0.987542</td>\n",
       "      <td>{'teamtowerkills': 0.6644627346255815, 'goldsp...</td>\n",
       "    </tr>\n",
       "    <tr>\n",
       "      <th>Elasticnet</th>\n",
       "      <td>{'l1_ratio': 0.01, 'alpha': 0.044255025901762494}</td>\n",
       "      <td>0.988345</td>\n",
       "      <td>0.980176</td>\n",
       "      <td>0.984261</td>\n",
       "      <td>0.984145</td>\n",
       "      <td>{'teamtowerkills': 0.2671121900755735, 'd': -0...</td>\n",
       "    </tr>\n",
       "    <tr>\n",
       "      <th>RandomForest</th>\n",
       "      <td>{'bootstrap': False, 'max_features': 'auto', '...</td>\n",
       "      <td>0.976690</td>\n",
       "      <td>0.977974</td>\n",
       "      <td>0.977332</td>\n",
       "      <td>0.977350</td>\n",
       "      <td>{'teamtowerkills': 0.2452581612223635, 'earned...</td>\n",
       "    </tr>\n",
       "  </tbody>\n",
       "</table>\n",
       "</div>"
      ],
      "text/plain": [
       "                                           regularisation_param  sensitivity  \\\n",
       "Lasso                                                       NaN     0.979021   \n",
       "Ridge                                                     0.975     0.990676   \n",
       "Elasticnet    {'l1_ratio': 0.01, 'alpha': 0.044255025901762494}     0.988345   \n",
       "RandomForest  {'bootstrap': False, 'max_features': 'auto', '...     0.976690   \n",
       "\n",
       "              specificity       auc  accuracy  \\\n",
       "Lasso            0.982379  0.980700  0.980747   \n",
       "Ridge            0.984581  0.987629  0.987542   \n",
       "Elasticnet       0.980176  0.984261  0.984145   \n",
       "RandomForest     0.977974  0.977332  0.977350   \n",
       "\n",
       "                                             feature_importance  \n",
       "Lasso         {'teamtowerkills': 4.550911295696299, 'earnedg...  \n",
       "Ridge         {'teamtowerkills': 0.6644627346255815, 'goldsp...  \n",
       "Elasticnet    {'teamtowerkills': 0.2671121900755735, 'd': -0...  \n",
       "RandomForest  {'teamtowerkills': 0.2452581612223635, 'earned...  "
      ]
     },
     "execution_count": 37,
     "metadata": {},
     "output_type": "execute_result"
    }
   ],
   "source": [
    "# Create summary table\n",
    "for key in logistic_L1penalty_model_dict.keys():\n",
    "    model_summary_dict[key] = [logistic_L1penalty_model_dict[key], ridge_model_dict[key], elasticnet_model_dict[key], rf_model_dict[key]]\n",
    "model_summary_table = pd.DataFrame(model_summary_dict, columns = logistic_L1penalty_model_dict.keys())\n",
    "model_summary_table.rename(index={0:'Lasso', 1:'Ridge', 2:'Elasticnet', 3:'RandomForest'}, inplace = True)\n",
    "\n",
    "# Visualize summary table\n",
    "model_summary_table"
   ]
  },
  {
   "cell_type": "markdown",
   "metadata": {},
   "source": [
    "##### Investigate accuracy metrics"
   ]
  },
  {
   "cell_type": "code",
   "execution_count": 53,
   "metadata": {
    "ExecuteTime": {
     "end_time": "2019-07-20T17:11:06.351034Z",
     "start_time": "2019-07-20T17:11:06.132068Z"
    }
   },
   "outputs": [
    {
     "data": {
      "text/plain": [
       "<matplotlib.legend.Legend at 0x7ff648076588>"
      ]
     },
     "execution_count": 53,
     "metadata": {},
     "output_type": "execute_result"
    },
    {
     "data": {
      "image/png": "[encoded data removed]",
      "text/plain": [
       "<Figure size 432x288 with 1 Axes>"
      ]
     },
     "metadata": {
      "needs_background": "light"
     },
     "output_type": "display_data"
    }
   ],
   "source": [
    "# Visualize a summarization of the accuracy metrics for the different ML methods\n",
    "fig, ax = plt.subplots()\n",
    "ax.plot(list(model_summary_table.index), model_summary_table.sensitivity, '--', label=\"sensitivity\", color='lightskyblue')\n",
    "ax.plot(list(model_summary_table.index), model_summary_table.specificity, '--', label=\"specificity\", color='lightblue')\n",
    "ax.plot(list(model_summary_table.index), model_summary_table.accuracy, label=\"accuracy\", color='royalblue')\n",
    "plt.title(\"Sensitivity, specificity and accuracy regularization models\")\n",
    "plt.ylabel('Value')\n",
    "plt.xlabel('ML model')\n",
    "ax.legend(loc =\"best\", fontsize = 8)"
   ]
  },
  {
   "cell_type": "markdown",
   "metadata": {},
   "source": [
    "##### Investigate parameter coefficients"
   ]
  },
  {
   "cell_type": "code",
   "execution_count": 39,
   "metadata": {
    "ExecuteTime": {
     "end_time": "2019-07-19T13:53:57.460852Z",
     "start_time": "2019-07-19T13:53:57.454724Z"
    }
   },
   "outputs": [
    {
     "name": "stdout",
     "output_type": "stream",
     "text": [
      "The number of features kept by the different techniques in the model:\n",
      " ----------------------------------------------------------------------------------------------------\n",
      "Lasso :  41\n",
      "Ridge :  65\n",
      "Elasticnet :  65\n",
      "RandomForest :  65\n"
     ]
    }
   ],
   "source": [
    "# Short intermediate summary\n",
    "print(\"The number of features kept by the different techniques in the model:\\n\", \"-\"*100)\n",
    "for ML in list(model_summary_table.index):\n",
    "    print(ML, \": \", len(model_summary_table.feature_importance[ML]))"
   ]
  },
  {
   "cell_type": "code",
   "execution_count": 40,
   "metadata": {
    "ExecuteTime": {
     "end_time": "2019-07-19T13:53:57.693015Z",
     "start_time": "2019-07-19T13:53:57.462712Z"
    }
   },
   "outputs": [
    {
     "data": {
      "image/png": "[encoded data removed]",
      "text/plain": [
       "<Figure size 432x288 with 1 Axes>"
      ]
     },
     "metadata": {
      "needs_background": "light"
     },
     "output_type": "display_data"
    }
   ],
   "source": [
    "# Visualization of difference in coefficient estimates\n",
    "plt.plot(fitted_elasticnet_model.coef_, color='darkorange', linewidth=2,\n",
    "         label='Elastic net coefficients')\n",
    "plt.plot(fitted_logistic_L1penalty_model.coef_[0], color='yellowgreen', linewidth=2,\n",
    "         label='Lasso coefficients')\n",
    "plt.plot(fitted_ridge_model.coef_[0], '--', color='dodgerblue', label='Ridge coefficients')\n",
    "plt.legend(loc='best')\n",
    "plt.title(\"Comparison parameter coefficients\")\n",
    "plt.show()"
   ]
  },
  {
   "cell_type": "code",
   "execution_count": 54,
   "metadata": {
    "ExecuteTime": {
     "end_time": "2019-07-20T17:11:30.270422Z",
     "start_time": "2019-07-20T17:11:26.231642Z"
    },
    "scrolled": false
   },
   "outputs": [
    {
     "data": {
      "image/png": "[encoded data removed]",
      "text/plain": [
       "<Figure size 360x576 with 1 Axes>"
      ]
     },
     "metadata": {
      "needs_background": "light"
     },
     "output_type": "display_data"
    },
    {
     "data": {
      "image/png": "[encoded data removed]",
      "text/plain": [
       "<Figure size 360x1008 with 1 Axes>"
      ]
     },
     "metadata": {
      "needs_background": "light"
     },
     "output_type": "display_data"
    },
    {
     "data": {
      "image/png": "[encoded data removed]",
      "text/plain": [
       "<Figure size 360x1008 with 1 Axes>"
      ]
     },
     "metadata": {
      "needs_background": "light"
     },
     "output_type": "display_data"
    },
    {
     "data": {
      "image/png": "[encoded data removed]",
      "text/plain": [
       "<Figure size 360x1008 with 1 Axes>"
      ]
     },
     "metadata": {
      "needs_background": "light"
     },
     "output_type": "display_data"
    }
   ],
   "source": [
    "# Visualize feature importance (coefficient based)\n",
    "for index, ML in enumerate(list(model_summary_table.index)):\n",
    "    x =  np.arange(len(model_summary_table.feature_importance[ML]))\n",
    "    plt.figure(figsize=(5, 8)) if index == 0 else plt.figure(figsize=(5, 14)) \n",
    "    plt.barh(x, list(model_summary_table.feature_importance[ML].values()), \n",
    "             tick_label =  list(model_summary_table.feature_importance[ML].keys()),\n",
    "             color = 'mediumslateblue', \n",
    "             edgecolor = 'slateblue')\n",
    "    plt.title(\"Feature coefficient estimates \" + ML + \" classification\")\n",
    "    plt.ylabel('Feature')\n",
    "    plt.xlabel('Coefficient')\n",
    "    plt.show()"
   ]
  },
  {
   "cell_type": "markdown",
   "metadata": {},
   "source": [
    "## 4. Create team specific summary vectors"
   ]
  },
  {
   "cell_type": "markdown",
   "metadata": {
    "ExecuteTime": {
     "end_time": "2019-03-26T08:44:26.367395Z",
     "start_time": "2019-03-26T08:44:26.305732Z"
    }
   },
   "source": [
    "### 4.1 Create dataset capturing the average feature values per team\n",
    "A team specific summary vector will be created by looping through all the features captured by the dataset and taking the average over all the games played by that team (for a specific feature). To have a better indication of the accuracy of the team vector another column is added at the end indicating the number of games on which the calculation is based."
   ]
  },
  {
   "cell_type": "code",
   "execution_count": 42,
   "metadata": {
    "ExecuteTime": {
     "end_time": "2019-07-19T13:54:02.118109Z",
     "start_time": "2019-07-19T13:54:02.114768Z"
    }
   },
   "outputs": [],
   "source": [
    "def recency_weights_mapper(dates):\n",
    "    # Remove negative values + return prob (by comparing value with total)\n",
    "    return dict(zip(list(dates), [(d + max(dates))/sum(dates) for d in dates]))"
   ]
  },
  {
   "cell_type": "code",
   "execution_count": 43,
   "metadata": {
    "ExecuteTime": {
     "end_time": "2019-07-19T13:54:04.603681Z",
     "start_time": "2019-07-19T13:54:02.119967Z"
    }
   },
   "outputs": [],
   "source": [
    "# Extract list with the different teams\n",
    "teams = list(set(data_raw.team))\n",
    "team_vector_cols = list(data.columns)\n",
    "team_vector_cols.append('accuracy indicator')\n",
    "\n",
    "# Create summary vector for each team\n",
    "team_info_list = []\n",
    "for team in teams:\n",
    "    team_vector = []\n",
    "    team_subdf = data_raw[data_raw.team == team]\n",
    "    recency_mapping_dict = recency_weights_mapper(team_subdf.datediff)\n",
    "    # Loop through the different columns\n",
    "    for col in data.columns:\n",
    "        # Take the mean over column values for numerical features\n",
    "        if 'Encoded' not in col:\n",
    "            #weighted_feature_values = [v*recency_mapping_dict[d] if v != 0 else (v + 0.0000001) *recency_mapping_dict[d] for v, d in zip(team_subdf[col], team_subdf.datediff)]\n",
    "            #team_vector.append(np.mean(weighted_feature_values))\n",
    "            team_vector.append(np.mean(team_subdf[col]))\n",
    "        # Take the majority value over column values for discrete features\n",
    "        else: \n",
    "            team_vector.append(RandomSampleProbDist(team_subdf[col]))\n",
    "    # Add accuracy indicator\n",
    "    team_vector.append(len(team_subdf))\n",
    "    team_info_list.append(team_vector)\n",
    "    \n",
    "# Create summary dataframe\n",
    "team_vector_df = pd.DataFrame(data = team_info_list, index=teams, columns=team_vector_cols)"
   ]
  },
  {
   "cell_type": "code",
   "execution_count": 44,
   "metadata": {
    "ExecuteTime": {
     "end_time": "2019-07-19T13:54:04.612394Z",
     "start_time": "2019-07-19T13:54:04.605748Z"
    }
   },
   "outputs": [
    {
     "name": "stdout",
     "output_type": "stream",
     "text": [
      "Summary information team vector dataframe: Team specific feature vectors are captured for 101 teams.\n",
      "\n",
      "The teams indicating feature vectors based on less than 10 games:\n",
      " ----------------------------------------------------------------------------------------------------\n",
      "17 academy\n",
      "virtus.pro\n",
      "besiktas\n",
      "isurus gaming\n",
      "dire wolves\n",
      "lyon gaming\n",
      "rampage\n",
      "cj entus\n",
      "oyunhizmetleri\n",
      "kinguin\n"
     ]
    }
   ],
   "source": [
    "# Intermediate summary\n",
    "print(\"Summary information team vector dataframe: Team specific feature vectors are captured for\", len(team_vector_df), \"teams.\\n\")\n",
    "\n",
    "# Extract vector accuracy information\n",
    "print(\"The teams indicating feature vectors based on less than 10 games:\\n\", '-'*100)\n",
    "for team, acc_ind in zip(list(team_vector_df.index), team_vector_df['accuracy indicator']):\n",
    "    if acc_ind < 10:\n",
    "        print(team)"
   ]
  },
  {
   "cell_type": "code",
   "execution_count": 45,
   "metadata": {
    "ExecuteTime": {
     "end_time": "2019-07-19T13:54:05.163422Z",
     "start_time": "2019-07-19T13:54:04.614149Z"
    }
   },
   "outputs": [
    {
     "name": "stdout",
     "output_type": "stream",
     "text": [
      "==================================================================================================== \n",
      "Overview of variable:  Accuracy indicator \n",
      " ====================================================================================================\n"
     ]
    },
    {
     "data": {
      "image/png": "[encoded data removed]",
      "text/plain": [
       "<Figure size 432x288 with 1 Axes>"
      ]
     },
     "metadata": {
      "needs_background": "light"
     },
     "output_type": "display_data"
    },
    {
     "name": "stdout",
     "output_type": "stream",
     "text": [
      "-------------------- \n",
      "Summary statistics:\n",
      " --------------------\n",
      "Minimum value: 3\n",
      "Mean: 58.2772\n",
      "Standard deviation: 36.2858\n",
      "Median: 56\n",
      "Maximal value: 130\n"
     ]
    },
    {
     "data": {
      "image/png": "[encoded data removed]",
      "text/plain": [
       "<Figure size 432x288 with 1 Axes>"
      ]
     },
     "metadata": {
      "needs_background": "light"
     },
     "output_type": "display_data"
    },
    {
     "name": "stdout",
     "output_type": "stream",
     "text": [
      "-------------------- \n",
      "Outlier detection:\n",
      " --------------------\n",
      "List of outliers: set()\n"
     ]
    },
    {
     "data": {
      "image/png": "[encoded data removed]",
      "text/plain": [
       "<Figure size 432x288 with 1 Axes>"
      ]
     },
     "metadata": {
      "needs_background": "light"
     },
     "output_type": "display_data"
    },
    {
     "name": "stdout",
     "output_type": "stream",
     "text": [
      "-------------------- \n",
      "Check for normal distribution:\n",
      " --------------------\n",
      "Skewedness: 0.1398\n",
      "Kurtosis: -1.2398\n"
     ]
    },
    {
     "data": {
      "text/plain": [
       "<Figure size 432x288 with 0 Axes>"
      ]
     },
     "metadata": {},
     "output_type": "display_data"
    }
   ],
   "source": [
    "# Accuracy indicator distribution\n",
    "SummaryNumericVar(team_vector_df['accuracy indicator'], 'Accuracy indicator')"
   ]
  },
  {
   "cell_type": "markdown",
   "metadata": {},
   "source": [
    "### 4.2 Estimate team strength parameters"
   ]
  },
  {
   "cell_type": "code",
   "execution_count": 46,
   "metadata": {
    "ExecuteTime": {
     "end_time": "2019-07-19T13:54:05.168356Z",
     "start_time": "2019-07-19T13:54:05.165311Z"
    }
   },
   "outputs": [],
   "source": [
    "# Create dictionary to capture strength parameter information\n",
    "strength_param_dict = dict()\n",
    "\n",
    "# Extract columns not used for model fit\n",
    "additional_columns = ['result', 'accuracy indicator']\n",
    "strength_param_dict['accuracy indicator'] = team_vector_df['accuracy indicator']"
   ]
  },
  {
   "cell_type": "markdown",
   "metadata": {},
   "source": [
    "##### Lasso classification based parameter approximation"
   ]
  },
  {
   "cell_type": "code",
   "execution_count": 47,
   "metadata": {
    "ExecuteTime": {
     "end_time": "2019-07-19T13:54:05.201356Z",
     "start_time": "2019-07-19T13:54:05.170106Z"
    }
   },
   "outputs": [],
   "source": [
    "# 1. Fit (trained) lasso classification model\n",
    "strength_param_dict['lasso'] = [y for x, y in fitted_logistic_L1penalty_model.predict_proba(team_vector_df[selected_features_rfe])]"
   ]
  },
  {
   "cell_type": "markdown",
   "metadata": {},
   "source": [
    "##### Ridge classification based parameter approximation"
   ]
  },
  {
   "cell_type": "code",
   "execution_count": 48,
   "metadata": {
    "ExecuteTime": {
     "end_time": "2019-07-19T13:54:05.236874Z",
     "start_time": "2019-07-19T13:54:05.203168Z"
    },
    "scrolled": true
   },
   "outputs": [],
   "source": [
    "# 2. Fit ridge classification model with best regularisation parameter based on CV\n",
    "additional_columns = ['result', 'accuracy indicator']\n",
    "ridge = RidgeClassifier(alpha = ridge_model_dict['regularisation_param'], fit_intercept = False)\n",
    "fitted_ridge = ridge.fit(x_train, y_train)\n",
    "logit_trans_predictions_ridge = fitted_ridge.decision_function(team_vector_df[[x for x in data.columns if x not in additional_columns]])\n",
    "strength_param_dict['ridge'] = np.exp(logit_trans_predictions_ridge) / (1 + np.exp(logit_trans_predictions_ridge))"
   ]
  },
  {
   "cell_type": "markdown",
   "metadata": {},
   "source": [
    "Remark: There is no predicted probability option for the RidgeClassifier because this model is not easy to interpret as a probability model. The decision function of the RidgeClassifier model considers a logit transformation of the actual class probabilities. If decision function is greater than zero then class 1 is predicted otherwise predict class 0, corresponding to a classical logit approach. By back-transforming these predictions we can get the predicted probabilities."
   ]
  },
  {
   "cell_type": "markdown",
   "metadata": {},
   "source": [
    "##### Result averaging based parameter approximation"
   ]
  },
  {
   "cell_type": "code",
   "execution_count": 49,
   "metadata": {
    "ExecuteTime": {
     "end_time": "2019-07-19T13:54:05.262143Z",
     "start_time": "2019-07-19T13:54:05.239648Z"
    }
   },
   "outputs": [],
   "source": [
    "# 3. Expected outcome of the game based on team-vector averaging \n",
    "strength_param_dict['result'] = team_vector_df['result']"
   ]
  },
  {
   "cell_type": "code",
   "execution_count": 50,
   "metadata": {
    "ExecuteTime": {
     "end_time": "2019-07-19T13:54:05.302106Z",
     "start_time": "2019-07-19T13:54:05.263831Z"
    }
   },
   "outputs": [
    {
     "data": {
      "text/html": [
       "<div>\n",
       "<style scoped>\n",
       "    .dataframe tbody tr th:only-of-type {\n",
       "        vertical-align: middle;\n",
       "    }\n",
       "\n",
       "    .dataframe tbody tr th {\n",
       "        vertical-align: top;\n",
       "    }\n",
       "\n",
       "    .dataframe thead th {\n",
       "        text-align: right;\n",
       "    }\n",
       "</style>\n",
       "<table border=\"1\" class=\"dataframe\">\n",
       "  <thead>\n",
       "    <tr style=\"text-align: right;\">\n",
       "      <th></th>\n",
       "      <th>accuracy indicator</th>\n",
       "      <th>lasso</th>\n",
       "      <th>ridge</th>\n",
       "      <th>result</th>\n",
       "    </tr>\n",
       "  </thead>\n",
       "  <tbody>\n",
       "    <tr>\n",
       "      <th>dark passage</th>\n",
       "      <td>63</td>\n",
       "      <td>0.049340</td>\n",
       "      <td>0.441409</td>\n",
       "      <td>0.380952</td>\n",
       "    </tr>\n",
       "    <tr>\n",
       "      <th>millenium</th>\n",
       "      <td>10</td>\n",
       "      <td>0.017067</td>\n",
       "      <td>0.394226</td>\n",
       "      <td>0.300000</td>\n",
       "    </tr>\n",
       "    <tr>\n",
       "      <th>team gates</th>\n",
       "      <td>10</td>\n",
       "      <td>0.000085</td>\n",
       "      <td>0.277634</td>\n",
       "      <td>0.000000</td>\n",
       "    </tr>\n",
       "    <tr>\n",
       "      <th>origen</th>\n",
       "      <td>42</td>\n",
       "      <td>0.000158</td>\n",
       "      <td>0.298308</td>\n",
       "      <td>0.095238</td>\n",
       "    </tr>\n",
       "    <tr>\n",
       "      <th>newbee</th>\n",
       "      <td>93</td>\n",
       "      <td>0.159951</td>\n",
       "      <td>0.464171</td>\n",
       "      <td>0.473118</td>\n",
       "    </tr>\n",
       "  </tbody>\n",
       "</table>\n",
       "</div>"
      ],
      "text/plain": [
       "              accuracy indicator     lasso     ridge    result\n",
       "dark passage                  63  0.049340  0.441409  0.380952\n",
       "millenium                     10  0.017067  0.394226  0.300000\n",
       "team gates                    10  0.000085  0.277634  0.000000\n",
       "origen                        42  0.000158  0.298308  0.095238\n",
       "newbee                        93  0.159951  0.464171  0.473118"
      ]
     },
     "execution_count": 50,
     "metadata": {},
     "output_type": "execute_result"
    }
   ],
   "source": [
    "# Create dataframe of strength parameter summarization\n",
    "strength_param_df = pd.DataFrame(strength_param_dict)\n",
    "strength_param_df.head()"
   ]
  },
  {
   "cell_type": "markdown",
   "metadata": {},
   "source": [
    "### 4.3 Investigation strength parameter characteristics"
   ]
  },
  {
   "cell_type": "code",
   "execution_count": 51,
   "metadata": {
    "ExecuteTime": {
     "end_time": "2019-07-19T13:54:06.880721Z",
     "start_time": "2019-07-19T13:54:05.303577Z"
    },
    "scrolled": false
   },
   "outputs": [
    {
     "name": "stdout",
     "output_type": "stream",
     "text": [
      "==================================================================================================== \n",
      "Overview of variable:  lasso \n",
      " ====================================================================================================\n"
     ]
    },
    {
     "data": {
      "image/png": "[encoded data removed]",
      "text/plain": [
       "<Figure size 432x288 with 1 Axes>"
      ]
     },
     "metadata": {
      "needs_background": "light"
     },
     "output_type": "display_data"
    },
    {
     "name": "stdout",
     "output_type": "stream",
     "text": [
      "-------------------- \n",
      "Summary statistics:\n",
      " --------------------\n",
      "Minimum value: 7.127757887720868e-05\n",
      "Mean: 0.3508\n",
      "Standard deviation: 0.3506\n",
      "Median: 0.201\n",
      "Maximal value: 0.9939974183099114\n"
     ]
    },
    {
     "data": {
      "image/png": "[encoded data removed]",
      "text/plain": [
       "<Figure size 432x288 with 1 Axes>"
      ]
     },
     "metadata": {
      "needs_background": "light"
     },
     "output_type": "display_data"
    },
    {
     "name": "stdout",
     "output_type": "stream",
     "text": [
      "-------------------- \n",
      "Outlier detection:\n",
      " --------------------\n",
      "List of outliers: set()\n"
     ]
    },
    {
     "data": {
      "image/png": "[encoded data removed]",
      "text/plain": [
       "<Figure size 432x288 with 1 Axes>"
      ]
     },
     "metadata": {
      "needs_background": "light"
     },
     "output_type": "display_data"
    },
    {
     "name": "stdout",
     "output_type": "stream",
     "text": [
      "-------------------- \n",
      "Check for normal distribution:\n",
      " --------------------\n",
      "Skewedness: 0.5949\n",
      "Kurtosis: -1.2331\n",
      "==================================================================================================== \n",
      "Overview of variable:  ridge \n",
      " ====================================================================================================\n"
     ]
    },
    {
     "data": {
      "image/png": "[encoded data removed]",
      "text/plain": [
       "<Figure size 432x288 with 1 Axes>"
      ]
     },
     "metadata": {
      "needs_background": "light"
     },
     "output_type": "display_data"
    },
    {
     "name": "stdout",
     "output_type": "stream",
     "text": [
      "-------------------- \n",
      "Summary statistics:\n",
      " --------------------\n",
      "Minimum value: 0.266170934266792\n",
      "Mean: 0.4778\n",
      "Standard deviation: 0.0803\n",
      "Median: 0.4799\n",
      "Maximal value: 0.6664412770449842\n"
     ]
    },
    {
     "data": {
      "image/png": "[encoded data removed]",
      "text/plain": [
       "<Figure size 432x288 with 1 Axes>"
      ]
     },
     "metadata": {
      "needs_background": "light"
     },
     "output_type": "display_data"
    },
    {
     "name": "stdout",
     "output_type": "stream",
     "text": [
      "-------------------- \n",
      "Outlier detection:\n",
      " --------------------\n",
      "List of outliers: set()\n"
     ]
    },
    {
     "data": {
      "image/png": "[encoded data removed]",
      "text/plain": [
       "<Figure size 432x288 with 1 Axes>"
      ]
     },
     "metadata": {
      "needs_background": "light"
     },
     "output_type": "display_data"
    },
    {
     "name": "stdout",
     "output_type": "stream",
     "text": [
      "-------------------- \n",
      "Check for normal distribution:\n",
      " --------------------\n",
      "Skewedness: -0.2916\n",
      "Kurtosis: -0.1888\n",
      "==================================================================================================== \n",
      "Overview of variable:  result \n",
      " ====================================================================================================\n"
     ]
    },
    {
     "data": {
      "image/png": "[encoded data removed]",
      "text/plain": [
       "<Figure size 432x288 with 1 Axes>"
      ]
     },
     "metadata": {
      "needs_background": "light"
     },
     "output_type": "display_data"
    },
    {
     "name": "stdout",
     "output_type": "stream",
     "text": [
      "-------------------- \n",
      "Summary statistics:\n",
      " --------------------\n",
      "Minimum value: 0.0\n",
      "Mean: 0.4455\n",
      "Standard deviation: 0.1729\n",
      "Median: 0.4531\n",
      "Maximal value: 0.75\n"
     ]
    },
    {
     "data": {
      "image/png": "[encoded data removed]",
      "text/plain": [
       "<Figure size 432x288 with 1 Axes>"
      ]
     },
     "metadata": {
      "needs_background": "light"
     },
     "output_type": "display_data"
    },
    {
     "name": "stdout",
     "output_type": "stream",
     "text": [
      "-------------------- \n",
      "Outlier detection:\n",
      " --------------------\n",
      "List of outliers: set()\n"
     ]
    },
    {
     "data": {
      "image/png": "[encoded data removed]",
      "text/plain": [
       "<Figure size 432x288 with 1 Axes>"
      ]
     },
     "metadata": {
      "needs_background": "light"
     },
     "output_type": "display_data"
    },
    {
     "name": "stdout",
     "output_type": "stream",
     "text": [
      "-------------------- \n",
      "Check for normal distribution:\n",
      " --------------------\n",
      "Skewedness: -0.4388\n",
      "Kurtosis: -0.2789\n"
     ]
    },
    {
     "data": {
      "text/plain": [
       "<Figure size 432x288 with 0 Axes>"
      ]
     },
     "metadata": {},
     "output_type": "display_data"
    }
   ],
   "source": [
    "# Visualisation strength parameter distributions (based on the different techniques)\n",
    "for col in strength_param_df.columns[1:]:\n",
    "    SummaryNumericVar(strength_param_df[col], col)"
   ]
  },
  {
   "cell_type": "markdown",
   "metadata": {
    "ExecuteTime": {
     "end_time": "2019-03-26T14:30:10.779352Z",
     "start_time": "2019-03-26T14:30:10.606507Z"
    }
   },
   "source": [
    "### 4.4 Write data away"
   ]
  },
  {
   "cell_type": "code",
   "execution_count": 52,
   "metadata": {
    "ExecuteTime": {
     "end_time": "2019-07-19T13:54:06.891718Z",
     "start_time": "2019-07-19T13:54:06.882603Z"
    }
   },
   "outputs": [],
   "source": [
    "# Save the team strength parameter data\n",
    "with open('/home/je32910/MasterThesis_ComputationalStatistics/pickles/' + saved_filename + '.pickle', 'wb') as f:\n",
    "    pickle.dump(strength_param_df, f)"
   ]
  }
 ],
 "metadata": {
  "kernelspec": {
   "display_name": "Python [conda env:python36]",
   "language": "python",
   "name": "conda-env-python36-py"
  },
  "language_info": {
   "codemirror_mode": {
    "name": "ipython",
    "version": 3
   },
   "file_extension": ".py",
   "mimetype": "text/x-python",
   "name": "python",
   "nbconvert_exporter": "python",
   "pygments_lexer": "ipython3",
   "version": "3.6.8"
  }
 },
 "nbformat": 4,
 "nbformat_minor": 2
}
