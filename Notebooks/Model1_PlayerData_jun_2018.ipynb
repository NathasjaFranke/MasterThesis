{
 "cells": [
  {
   "cell_type": "markdown",
   "metadata": {},
   "source": [
    "# Model 1: Estimation of player strength parameters (Jun)"
   ]
  },
  {
   "cell_type": "code",
   "execution_count": 1,
   "metadata": {
    "ExecuteTime": {
     "end_time": "2019-07-19T15:56:52.372905Z",
     "start_time": "2019-07-19T15:56:52.369104Z"
    }
   },
   "outputs": [],
   "source": [
    "# Filename standardized data\n",
    "#loaded_pp_filename = 'playerdata2017_preprocessed_jun'\n",
    "#loaded_std_filename = 'playerdata2017_standardized_jun'\n",
    "#saved_filename = 'playerdata2017_strenghtparam_jun'\n",
    "loaded_pp_filename = 'playerdata2018_preprocessed_jun'\n",
    "loaded_std_filename = 'playerdata2018_standardized_jun'\n",
    "saved_filename = 'playerdata2018_strenghtparam_jun'"
   ]
  },
  {
   "cell_type": "markdown",
   "metadata": {},
   "source": [
    "## 0. Load libraries and define functions"
   ]
  },
  {
   "cell_type": "markdown",
   "metadata": {},
   "source": [
    "### 0.1 General python functionality"
   ]
  },
  {
   "cell_type": "code",
   "execution_count": 2,
   "metadata": {
    "ExecuteTime": {
     "end_time": "2019-07-19T15:56:54.114674Z",
     "start_time": "2019-07-19T15:56:52.375960Z"
    }
   },
   "outputs": [],
   "source": [
    "# Functions\n",
    "import numpy as np\n",
    "import os\n",
    "import pickle\n",
    "import pandas as pd\n",
    "import operator\n",
    "import itertools\n",
    "from numpy.random import choice\n",
    "from collections import Counter\n",
    "import statistics\n",
    "from scipy import stats\n",
    "\n",
    "# Functions used for data visualization\n",
    "import seaborn as sns\n",
    "import matplotlib.pyplot as plt"
   ]
  },
  {
   "cell_type": "code",
   "execution_count": 3,
   "metadata": {
    "ExecuteTime": {
     "end_time": "2019-07-19T15:56:55.561828Z",
     "start_time": "2019-07-19T15:56:54.116671Z"
    }
   },
   "outputs": [],
   "source": [
    "# Special functions needed for custom functions\n",
    "import sklearn\n",
    "from sklearn.model_selection import train_test_split\n",
    "from sklearn.linear_model import Ridge, RidgeCV, RidgeClassifierCV, LogisticRegression, ElasticNetCV, ElasticNet, Lasso, RidgeClassifier\n",
    "from sklearn import metrics\n",
    "from sklearn.feature_selection import RFECV\n",
    "from sklearn.ensemble import RandomForestClassifier\n",
    "from sklearn.model_selection import GridSearchCV"
   ]
  },
  {
   "cell_type": "code",
   "execution_count": 4,
   "metadata": {
    "ExecuteTime": {
     "end_time": "2019-07-19T15:56:55.576413Z",
     "start_time": "2019-07-19T15:56:55.566900Z"
    }
   },
   "outputs": [],
   "source": [
    "# Surpress printing warnings\n",
    "import warnings\n",
    "warnings.filterwarnings(\"ignore\")"
   ]
  },
  {
   "cell_type": "markdown",
   "metadata": {},
   "source": [
    "### 0.2 Custom functions"
   ]
  },
  {
   "cell_type": "code",
   "execution_count": 5,
   "metadata": {
    "ExecuteTime": {
     "end_time": "2019-07-19T15:56:55.646818Z",
     "start_time": "2019-07-19T15:56:55.582193Z"
    }
   },
   "outputs": [],
   "source": [
    "### Function used to return a summary for categorical variables\n",
    "def SummaryCategoricalVar(list_of_values, title, threshold = 20, top = 10):\n",
    "    \"\"\"\n",
    "    param: list_of_values (list): A list of categorical values from which we like to obtain the distribution\n",
    "    param: title (string): The title for the visualization\n",
    "    param: threshold (int): The maximal number of categories that should be visualized\n",
    "    param: top (int): The top k values that should be returned in the written summary when the number of categories is above the threshold\n",
    "    \"\"\"\n",
    "    # Count the number of occurrances in the list\n",
    "    cnt = Counter(list_of_values)\n",
    "    sorted_cnt = sorted(cnt.items(), key=operator.itemgetter(1))[::-1]\n",
    "    \n",
    "    # Show the percentage dictionary if to many categories to represent\n",
    "    print(\"-\"* 100, \"\\nOverview of variable: \", title, \"\\n\", \"-\"*100)\n",
    "    print(\"Total categories:\", len(cnt), \"\\n\")\n",
    "    if len(cnt) > threshold:\n",
    "        if len(cnt) < top*2:\n",
    "            for key, value in sorted_cnt:\n",
    "                print(key, ':', round(value/len(list_of_values)*100, 4), \"%\")\n",
    "        else:\n",
    "            print(\"The 10 with the highest percentage data available:\\n\")\n",
    "            for key, value in sorted_cnt[:top]:\n",
    "                print(key, ':', round(value/len(list_of_values)*100, 4), \"%\")\n",
    "            print(\"\\nThe 10 with the lowest percentage data available:\\n\")\n",
    "            for key, value in sorted_cnt[len(cnt) - top:]:\n",
    "                print(key, ':', round(value/len(list_of_values)*100, 4), \"%\")\n",
    "                \n",
    "    # Visualization of labelled data distribution\n",
    "    else:\n",
    "        plt.barh(range(1, len(sorted_cnt)+1), \n",
    "                 list(map(lambda x: (x/len(list_of_values)*100), [score for label, score in sorted_cnt])), \n",
    "                 tick_label = list([label for label, score in sorted_cnt]),\n",
    "                 color = 'cornflowerblue', \n",
    "                 edgecolor = 'steelblue')\n",
    "        plt.ylabel('Label')\n",
    "        plt.xlabel('Percentage observations in dataset')\n",
    "        plt.title(title)\n",
    "        plt.show()    \n",
    "        plt.savefig('Barplot_' + title + '.png')"
   ]
  },
  {
   "cell_type": "code",
   "execution_count": 6,
   "metadata": {
    "ExecuteTime": {
     "end_time": "2019-07-19T15:56:55.722483Z",
     "start_time": "2019-07-19T15:56:55.649264Z"
    }
   },
   "outputs": [],
   "source": [
    "### Function used to return a summary for numeric variables\n",
    "def SummaryNumericVar(list_of_values, title):\n",
    "    \"\"\"\n",
    "    param: list_of_values (list): A list of categorical values from which we like to obtain the distribution\n",
    "    param: title (string): The title for the visualization\n",
    "    \"\"\"\n",
    "    \n",
    "    # Title varibale\n",
    "    print(\"=\"* 100, \"\\nOverview of variable: \", title, \"\\n\", \"=\"*100)\n",
    "\n",
    "    # An \"interface\" to matplotlib.axes.Axes.hist() method\n",
    "    n, bins, patches = plt.hist(x = list_of_values, bins='auto', color= '#0504aa', alpha=0.7, rwidth=0.85)\n",
    "    plt.grid(axis='y', alpha=0.75)\n",
    "    plt.xlabel('Value')\n",
    "    plt.ylabel('Frequency')\n",
    "    plt.title(title)\n",
    "    plt.ylim(top=np.ceil(n.max() / 10) * 10 if n.max() % 10 else n.max() + 10)\n",
    "    plt.show()\n",
    "    plt.savefig('Frequency_' + title + '.png')\n",
    "\n",
    "    # Print summary statistics\n",
    "    print(\"-\"*20, \"\\nSummary statistics:\\n\", \"-\"*20)\n",
    "    print(\"Minimum value:\", min(list_of_values))\n",
    "    print(\"Mean:\", round(statistics.mean(list_of_values), 4))\n",
    "    print(\"Standard deviation:\", round(statistics.stdev(list_of_values), 4))\n",
    "    print(\"Median:\", round(statistics.median(list_of_values), 4))\n",
    "    print(\"Maximal value:\", max(list_of_values))\n",
    "\n",
    "    # Plot boxplot\n",
    "    plt.boxplot(list_of_values, 0, 'grey', 0)\n",
    "    plt.xlabel('Value')\n",
    "    plt.title(title)\n",
    "    plt.show()\n",
    "    plt.savefig('Boxplot_' + title + '.png')\n",
    "\n",
    "    # Present outliers\n",
    "    print(\"-\"*20, \"\\nOutlier detection:\\n\", \"-\"*20)\n",
    "    print(\"List of outliers:\", {round(value,2) for z_score, value in zip(np.abs(stats.zscore(list_of_values)), list_of_values) if z_score > 3})\n",
    "\n",
    "    # Check for normally distributed\n",
    "    stats.probplot(list_of_values, dist=\"norm\", plot= plt)\n",
    "    plt.show()\n",
    "    plt.savefig('Probabilityplot_' + title + '.png')\n",
    "\n",
    "    # Statistics to check normality\n",
    "    print(\"-\"*20, \"\\nCheck for normal distribution:\\n\", \"-\"*20)\n",
    "    print(\"Skewedness:\", round(stats.skew(list_of_values), 4))\n",
    "    print(\"Kurtosis:\", round(stats.kurtosis(list_of_values), 4))"
   ]
  },
  {
   "cell_type": "code",
   "execution_count": 7,
   "metadata": {
    "ExecuteTime": {
     "end_time": "2019-07-19T15:56:55.754120Z",
     "start_time": "2019-07-19T15:56:55.728047Z"
    }
   },
   "outputs": [],
   "source": [
    "### Function used to split the data into training and test data\n",
    "def data_splitter(df, response_name = 'target', split_threshold = 0.15, seed = 42):\n",
    "    \"\"\"\n",
    "    Function used to split a dataframe into test and training data\n",
    "    \n",
    "    param: df (Panda's dataframe object)\n",
    "    param: response_name (string): The name of the response variable in the dataframe\n",
    "    param: split_threshold (float): The split threshold used\n",
    "    param: seed (int): Integer defining the seed for random split of the data\n",
    "    \n",
    "    return: (tuple) A tuple with four pandas dataframe objects\n",
    "    \"\"\"\n",
    "    # Split the dataframe into features and response variable\n",
    "    df_tmp = df.copy()\n",
    "    x, y = df_tmp.drop([response_name], axis = 1), df[response_name]\n",
    "    # Split the feature and response variable into training and test data\n",
    "    x_train, x_test, y_train, y_test = train_test_split(x, y, test_size = split_threshold, random_state = seed)\n",
    "    return (x_train, x_test, y_train, y_test)"
   ]
  },
  {
   "cell_type": "code",
   "execution_count": 8,
   "metadata": {
    "ExecuteTime": {
     "end_time": "2019-07-19T15:56:55.822199Z",
     "start_time": "2019-07-19T15:56:55.758288Z"
    }
   },
   "outputs": [],
   "source": [
    "### Function used to generate a summary of the input model (binary classes)\n",
    "def binary_class_evaluator(model, x_test, y_test, threshold = 0.5, elasticnet = False):\n",
    "    \"\"\"\n",
    "    Function returning a tuple with sensitivity, specificity and AUC metrics for specific model\n",
    "    \n",
    "    param: model (model): The model we like to evaluate\n",
    "    param: x_test (list): List of lists of numpy arrays\n",
    "    param: y_test (list): Binary values indicating the outcome variable\n",
    "    param: threshold (float): The classification threshold used\n",
    "    param: elasticnet (bool): Booling indicator for specifying whether the model is elastic net based\n",
    "\n",
    "    return: A tuple containing the calculated sensitivity, specificity and AUC metrics\n",
    "    \"\"\"\n",
    "    # Calculate the different summary statistics based on the model and test data\n",
    "    test_data =  list(y_test) \n",
    "    model_preds = list(model.predict(x_test)) if not elasticnet else [1.0 if x > 0 else 0.0 for x in model.predict(x_test)]\n",
    "    model_acc = metrics.accuracy_score(test_data, model_preds)\n",
    "    true_pos = len([mp for mp, td in zip(model_preds, test_data) if mp > threshold and td == 1])\n",
    "    false_neg = len([mp for mp, td in zip(model_preds, test_data) if mp < threshold and td == 1])\n",
    "    true_neg = len([mp for mp, td in zip(model_preds, test_data) if mp < threshold and td == 0])\n",
    "    false_pos = len([mp for mp, td in zip(model_preds, test_data) if mp > threshold and td == 0])\n",
    "    \n",
    "    # Print intermediate summary to the user\n",
    "    print(\"Based on a threshold of\", threshold, \"the following summary statistics can be obtained:\\n\", \"-\"*100)\n",
    "    print(true_pos, \"true positives over all positives (the wins that were correctly classified).\")\n",
    "    print(false_pos, \"false positives (the wins that were wrongly classified).\")\n",
    "    print(true_neg, \"true negatives (the losses that were correctly classified).\")\n",
    "    print(false_neg, \"false negatives (the losses that were wrongly classified).\\n\")\n",
    "    print(\"The sensitivity is: \", true_pos / (true_pos + false_neg))\n",
    "    print(\"The specificity is: \", true_neg / (true_neg + false_pos))\n",
    "    \n",
    "    # Plot the ROC curve for the model\n",
    "    print(\"\\n\\nAccuracy:\", model_acc, \"\\n\", \"-\"*100)\n",
    "    fpr, tpr, _ = metrics.roc_curve(test_data, model_preds)\n",
    "    auc = metrics.roc_auc_score(test_data, model_preds)\n",
    "    plt.plot(fpr, tpr, label= \"auc: \" + str(round(auc, 4)))\n",
    "    plt.legend(loc = 4)\n",
    "    plt.title('ROC curve')\n",
    "    plt.show()\n",
    "    \n",
    "    # Return sensitivity and specificity values to the user \n",
    "    return true_pos / (true_pos + false_neg), true_neg / (true_neg + false_pos), auc, model_acc"
   ]
  },
  {
   "cell_type": "code",
   "execution_count": 9,
   "metadata": {
    "ExecuteTime": {
     "end_time": "2019-07-19T15:56:55.860961Z",
     "start_time": "2019-07-19T15:56:55.824039Z"
    }
   },
   "outputs": [],
   "source": [
    "### Function used to plot the confusion matrix (normalization can be applied if desired)\n",
    "def plot_confusion_matrix(model, x_test, y_test, classes, normalize = False, elasticnet = False, cmap = plt.cm.Blues):\n",
    "    \"\"\"\n",
    "    Function that visualizes the confusion matrix based on the predictions made by the fitted model and their correspondence\n",
    "    to the observed test data. The option is available to return the normalized confusion matrix.\n",
    "    \n",
    "    param: model (model): The model we like to evaluate\n",
    "    param: x_test (list): List of lists of numpy arrays\n",
    "    param: y_test (list): Binary values indicating the outcome variable\n",
    "    param: classes (list): A list of classes that correspond to the numbered labels in the confusion matrix in that order.\n",
    "    param: normalize (bool): Booling indicator for specification of returning the normalized or non-normalized confusion matrix.\n",
    "    param: elasticnet (bool): Booling indicator for specifying whether the model is elastic net based\n",
    "    \"\"\"\n",
    "    # Approximate the confusion matrix based on model predictions\n",
    "    model_preds = list(model.predict(x_test)) if not elasticnet else [1.0 if x > 0 else 0.0 for x in model.predict(x_test)]\n",
    "    cm = sklearn.metrics.confusion_matrix(y_test, model_preds)\n",
    "    \n",
    "    # Normalize the cm if desired\n",
    "    title = 'Normalized confusion matrix' if normalize else 'Confusion matrix'\n",
    "    if normalize:\n",
    "        cm = cm.astype('float') / cm.sum(axis=1)[:, np.newaxis]\n",
    "    \n",
    "    # Create confusion matrix\n",
    "    print(title, \":\\n\", \"-\"*100)\n",
    "    plt.imshow(cm, interpolation='nearest', cmap=cmap)\n",
    "    plt.title(title)\n",
    "    plt.colorbar()\n",
    "    tick_marks = np.arange(len(classes))\n",
    "    plt.xticks(tick_marks, classes, rotation=45)\n",
    "    plt.yticks(tick_marks, classes)\n",
    "    fmt = '.2f' if normalize else 'd'\n",
    "    thresh = cm.max() / 2.\n",
    "    for i, j in itertools.product(range(cm.shape[0]), range(cm.shape[1])):\n",
    "        plt.text(j, i, format(cm[i, j], fmt),\n",
    "                 horizontalalignment=\"center\",\n",
    "                 color=\"white\" if cm[i, j] > thresh else \"black\")\n",
    "\n",
    "    plt.tight_layout()\n",
    "    plt.ylabel('True label')\n",
    "    plt.xlabel('Predicted label')\n",
    "    plt.show()"
   ]
  },
  {
   "cell_type": "code",
   "execution_count": 10,
   "metadata": {
    "ExecuteTime": {
     "end_time": "2019-07-19T15:56:55.907601Z",
     "start_time": "2019-07-19T15:56:55.862788Z"
    }
   },
   "outputs": [],
   "source": [
    "### Function used to extract the top10 most important features based on the magnitute of the coefficients\n",
    "def important_features_extractor(model, fitted_features, top = 10, elasticnet = False):\n",
    "    \"\"\"\n",
    "    Function used to extract a dictionary mapping the features used in the model with the estimates of their coefficients\n",
    "    \n",
    "    param: model (model): The model we like to evaluate.\n",
    "    param: fitted_features (list): List capturing the different features evaluated by the model.\n",
    "    param: top (int): The amount of fetaures you like to be printed as output (sorted based on decreasing importance).\n",
    "    param: elasticnet (bool): Booling indicator for specifying whether the model is elastic net based\n",
    "    return: (dict) A dictionary mapping the features with their corresponding coefficient estimates.\n",
    "    \"\"\"\n",
    "    # Extract model coefficients\n",
    "    coefficients = model.coef_[0] if not elasticnet else model.coef_\n",
    "    coef_dict = {col:coef for col, coef in zip(fitted_features, coefficients)}\n",
    "    coef_dict_abs = {col:abs(round(coef,2)) for col, coef in zip(fitted_features, coefficients)}\n",
    "    sorted_coefs = sorted(coef_dict_abs.items(), key=operator.itemgetter(1), reverse= True)\n",
    "\n",
    "    # Return the top ten most important features and their coefficients\n",
    "    print(\"Summary of the important features and their corresponding coefficients:\\n\", '-'*100)\n",
    "    ret_dict = dict()\n",
    "    for index, (col, abs_score) in enumerate(sorted_coefs):\n",
    "        if index < top:\n",
    "            print(col, ':', coef_dict[col])\n",
    "        ret_dict[col] = coef_dict[col]\n",
    "    return ret_dict"
   ]
  },
  {
   "cell_type": "code",
   "execution_count": 11,
   "metadata": {
    "ExecuteTime": {
     "end_time": "2019-07-19T15:56:55.958901Z",
     "start_time": "2019-07-19T15:56:55.909674Z"
    }
   },
   "outputs": [],
   "source": [
    "### Function used to draw a random sample from the discrete distribution of probabilities representing the input list\n",
    "def RandomSampleProbDist(list_of_values, draws = 1):\n",
    "    \"\"\"\n",
    "    :param: list_of_values (list): A list of categorical values representing the observations in the dataset\n",
    "    :param: draws (int): The number of samples desired to be returned\n",
    "    :return: (array) An array capturing the sampled categories\n",
    "    \"\"\"\n",
    "    # Only the non-missing values are considered in the sampling procedure\n",
    "    non_missing_list = list_of_values.dropna()\n",
    "    # Sample from the discrete probability distribution representing the categorical variable\n",
    "    return list(choice(list(Counter(non_missing_list)), \n",
    "                  draws, \n",
    "                  p = list(map(lambda x: x/len(non_missing_list), \n",
    "                               Counter(non_missing_list).values()))))[0]"
   ]
  },
  {
   "cell_type": "markdown",
   "metadata": {},
   "source": [
    "## 1. Load preprocessed data in environment"
   ]
  },
  {
   "cell_type": "markdown",
   "metadata": {},
   "source": [
    "### 1.1 Load standardized data"
   ]
  },
  {
   "cell_type": "code",
   "execution_count": 12,
   "metadata": {
    "ExecuteTime": {
     "end_time": "2019-07-19T15:56:56.099869Z",
     "start_time": "2019-07-19T15:56:55.960794Z"
    }
   },
   "outputs": [],
   "source": [
    "# Load pickle\n",
    "with open('/home/je32910/MasterThesis_ComputationalStatistics/pickles/' + loaded_std_filename + '.pickle', 'rb') as f:\n",
    "    data_raw = pickle.load(f)"
   ]
  },
  {
   "cell_type": "code",
   "execution_count": 13,
   "metadata": {
    "ExecuteTime": {
     "end_time": "2019-07-19T15:56:56.250104Z",
     "start_time": "2019-07-19T15:56:56.101768Z"
    },
    "scrolled": true
   },
   "outputs": [
    {
     "data": {
      "text/html": [
       "<div>\n",
       "<style scoped>\n",
       "    .dataframe tbody tr th:only-of-type {\n",
       "        vertical-align: middle;\n",
       "    }\n",
       "\n",
       "    .dataframe tbody tr th {\n",
       "        vertical-align: top;\n",
       "    }\n",
       "\n",
       "    .dataframe thead th {\n",
       "        text-align: right;\n",
       "    }\n",
       "</style>\n",
       "<table border=\"1\" class=\"dataframe\">\n",
       "  <thead>\n",
       "    <tr style=\"text-align: right;\">\n",
       "      <th></th>\n",
       "      <th>split</th>\n",
       "      <th>patchno</th>\n",
       "      <th>result</th>\n",
       "      <th>k</th>\n",
       "      <th>d</th>\n",
       "      <th>a</th>\n",
       "      <th>doubles</th>\n",
       "      <th>triples</th>\n",
       "      <th>pentas</th>\n",
       "      <th>fb</th>\n",
       "      <th>...</th>\n",
       "      <th>csdat15</th>\n",
       "      <th>datediff</th>\n",
       "      <th>Encoded_league</th>\n",
       "      <th>Encoded_game</th>\n",
       "      <th>Encoded_side</th>\n",
       "      <th>Encoded_champion</th>\n",
       "      <th>Encoded_Year</th>\n",
       "      <th>Encoded_team</th>\n",
       "      <th>Encoded_culture</th>\n",
       "      <th>player</th>\n",
       "    </tr>\n",
       "  </thead>\n",
       "  <tbody>\n",
       "    <tr>\n",
       "      <th>0</th>\n",
       "      <td>-0.090288</td>\n",
       "      <td>-0.789490</td>\n",
       "      <td>0.0</td>\n",
       "      <td>0.884129</td>\n",
       "      <td>-0.304200</td>\n",
       "      <td>-0.493760</td>\n",
       "      <td>-0.294150</td>\n",
       "      <td>-0.10058</td>\n",
       "      <td>0.0</td>\n",
       "      <td>2.477973</td>\n",
       "      <td>...</td>\n",
       "      <td>2.683799</td>\n",
       "      <td>0.719855</td>\n",
       "      <td>0.280163</td>\n",
       "      <td>0.838861</td>\n",
       "      <td>1.0</td>\n",
       "      <td>-1.475810</td>\n",
       "      <td>-0.927506</td>\n",
       "      <td>0.554705</td>\n",
       "      <td>-1.432292</td>\n",
       "      <td>beyond</td>\n",
       "    </tr>\n",
       "    <tr>\n",
       "      <th>1</th>\n",
       "      <td>-0.090288</td>\n",
       "      <td>-0.789490</td>\n",
       "      <td>1.0</td>\n",
       "      <td>-1.052728</td>\n",
       "      <td>-0.859754</td>\n",
       "      <td>0.763814</td>\n",
       "      <td>-0.294150</td>\n",
       "      <td>-0.10058</td>\n",
       "      <td>0.0</td>\n",
       "      <td>-0.403556</td>\n",
       "      <td>...</td>\n",
       "      <td>-2.683799</td>\n",
       "      <td>0.719855</td>\n",
       "      <td>0.280163</td>\n",
       "      <td>0.838861</td>\n",
       "      <td>-1.0</td>\n",
       "      <td>-1.088737</td>\n",
       "      <td>-0.927506</td>\n",
       "      <td>1.041212</td>\n",
       "      <td>-1.432292</td>\n",
       "      <td>umti</td>\n",
       "    </tr>\n",
       "    <tr>\n",
       "      <th>2</th>\n",
       "      <td>-0.090288</td>\n",
       "      <td>-0.789490</td>\n",
       "      <td>0.0</td>\n",
       "      <td>-0.084300</td>\n",
       "      <td>0.806909</td>\n",
       "      <td>-0.996789</td>\n",
       "      <td>-0.294150</td>\n",
       "      <td>-0.10058</td>\n",
       "      <td>0.0</td>\n",
       "      <td>2.477973</td>\n",
       "      <td>...</td>\n",
       "      <td>0.054771</td>\n",
       "      <td>0.719855</td>\n",
       "      <td>0.280163</td>\n",
       "      <td>-0.715916</td>\n",
       "      <td>1.0</td>\n",
       "      <td>-1.641698</td>\n",
       "      <td>-0.927506</td>\n",
       "      <td>1.041212</td>\n",
       "      <td>-1.432292</td>\n",
       "      <td>umti</td>\n",
       "    </tr>\n",
       "    <tr>\n",
       "      <th>3</th>\n",
       "      <td>-0.090288</td>\n",
       "      <td>-0.789490</td>\n",
       "      <td>1.0</td>\n",
       "      <td>0.884129</td>\n",
       "      <td>-0.859754</td>\n",
       "      <td>0.260784</td>\n",
       "      <td>2.467082</td>\n",
       "      <td>-0.10058</td>\n",
       "      <td>0.0</td>\n",
       "      <td>-0.403556</td>\n",
       "      <td>...</td>\n",
       "      <td>-0.054771</td>\n",
       "      <td>0.719855</td>\n",
       "      <td>0.280163</td>\n",
       "      <td>-0.715916</td>\n",
       "      <td>-1.0</td>\n",
       "      <td>-0.148702</td>\n",
       "      <td>-0.927506</td>\n",
       "      <td>0.554705</td>\n",
       "      <td>-1.432292</td>\n",
       "      <td>beyond</td>\n",
       "    </tr>\n",
       "    <tr>\n",
       "      <th>4</th>\n",
       "      <td>-0.090288</td>\n",
       "      <td>-0.789490</td>\n",
       "      <td>1.0</td>\n",
       "      <td>0.399914</td>\n",
       "      <td>-0.304200</td>\n",
       "      <td>1.266843</td>\n",
       "      <td>-0.294150</td>\n",
       "      <td>-0.10058</td>\n",
       "      <td>0.0</td>\n",
       "      <td>-0.403556</td>\n",
       "      <td>...</td>\n",
       "      <td>0.492943</td>\n",
       "      <td>0.719855</td>\n",
       "      <td>0.280163</td>\n",
       "      <td>0.616750</td>\n",
       "      <td>1.0</td>\n",
       "      <td>1.123110</td>\n",
       "      <td>-0.927506</td>\n",
       "      <td>0.554705</td>\n",
       "      <td>-1.432292</td>\n",
       "      <td>beyond</td>\n",
       "    </tr>\n",
       "    <tr>\n",
       "      <th>5</th>\n",
       "      <td>-0.090288</td>\n",
       "      <td>-0.789490</td>\n",
       "      <td>0.0</td>\n",
       "      <td>1.368343</td>\n",
       "      <td>0.806909</td>\n",
       "      <td>-0.745274</td>\n",
       "      <td>-0.294150</td>\n",
       "      <td>-0.10058</td>\n",
       "      <td>0.0</td>\n",
       "      <td>-0.403556</td>\n",
       "      <td>...</td>\n",
       "      <td>-0.492943</td>\n",
       "      <td>0.719855</td>\n",
       "      <td>0.280163</td>\n",
       "      <td>0.616750</td>\n",
       "      <td>-1.0</td>\n",
       "      <td>-1.641698</td>\n",
       "      <td>-0.927506</td>\n",
       "      <td>1.041212</td>\n",
       "      <td>-1.432292</td>\n",
       "      <td>umti</td>\n",
       "    </tr>\n",
       "    <tr>\n",
       "      <th>6</th>\n",
       "      <td>-0.090288</td>\n",
       "      <td>-0.789490</td>\n",
       "      <td>1.0</td>\n",
       "      <td>0.884129</td>\n",
       "      <td>-0.859754</td>\n",
       "      <td>-0.745274</td>\n",
       "      <td>-0.294150</td>\n",
       "      <td>-0.10058</td>\n",
       "      <td>0.0</td>\n",
       "      <td>-0.403556</td>\n",
       "      <td>...</td>\n",
       "      <td>-2.519485</td>\n",
       "      <td>0.719855</td>\n",
       "      <td>0.280163</td>\n",
       "      <td>0.838861</td>\n",
       "      <td>1.0</td>\n",
       "      <td>1.123110</td>\n",
       "      <td>-0.927506</td>\n",
       "      <td>0.473621</td>\n",
       "      <td>-1.432292</td>\n",
       "      <td>cuzz</td>\n",
       "    </tr>\n",
       "    <tr>\n",
       "      <th>7</th>\n",
       "      <td>-0.090288</td>\n",
       "      <td>-0.789490</td>\n",
       "      <td>0.0</td>\n",
       "      <td>0.399914</td>\n",
       "      <td>-0.304200</td>\n",
       "      <td>-0.745274</td>\n",
       "      <td>-0.294150</td>\n",
       "      <td>-0.10058</td>\n",
       "      <td>0.0</td>\n",
       "      <td>-0.403556</td>\n",
       "      <td>...</td>\n",
       "      <td>2.519485</td>\n",
       "      <td>0.719855</td>\n",
       "      <td>0.280163</td>\n",
       "      <td>0.838861</td>\n",
       "      <td>-1.0</td>\n",
       "      <td>-1.475810</td>\n",
       "      <td>-0.927506</td>\n",
       "      <td>0.041171</td>\n",
       "      <td>-1.432292</td>\n",
       "      <td>score</td>\n",
       "    </tr>\n",
       "    <tr>\n",
       "      <th>8</th>\n",
       "      <td>-0.090288</td>\n",
       "      <td>-0.789490</td>\n",
       "      <td>0.0</td>\n",
       "      <td>-1.052728</td>\n",
       "      <td>-0.859754</td>\n",
       "      <td>-0.996789</td>\n",
       "      <td>-0.294150</td>\n",
       "      <td>-0.10058</td>\n",
       "      <td>0.0</td>\n",
       "      <td>-0.403556</td>\n",
       "      <td>...</td>\n",
       "      <td>1.916999</td>\n",
       "      <td>0.719855</td>\n",
       "      <td>0.280163</td>\n",
       "      <td>-0.715916</td>\n",
       "      <td>1.0</td>\n",
       "      <td>-1.475810</td>\n",
       "      <td>-0.927506</td>\n",
       "      <td>0.041171</td>\n",
       "      <td>-1.432292</td>\n",
       "      <td>score</td>\n",
       "    </tr>\n",
       "    <tr>\n",
       "      <th>9</th>\n",
       "      <td>-0.090288</td>\n",
       "      <td>-0.789490</td>\n",
       "      <td>1.0</td>\n",
       "      <td>-1.052728</td>\n",
       "      <td>-0.859754</td>\n",
       "      <td>0.512299</td>\n",
       "      <td>-0.294150</td>\n",
       "      <td>-0.10058</td>\n",
       "      <td>0.0</td>\n",
       "      <td>-0.403556</td>\n",
       "      <td>...</td>\n",
       "      <td>-1.916999</td>\n",
       "      <td>0.719855</td>\n",
       "      <td>0.280163</td>\n",
       "      <td>-0.715916</td>\n",
       "      <td>-1.0</td>\n",
       "      <td>-1.641698</td>\n",
       "      <td>-0.927506</td>\n",
       "      <td>0.473621</td>\n",
       "      <td>-1.432292</td>\n",
       "      <td>cuzz</td>\n",
       "    </tr>\n",
       "    <tr>\n",
       "      <th>10</th>\n",
       "      <td>-0.090288</td>\n",
       "      <td>-0.789490</td>\n",
       "      <td>1.0</td>\n",
       "      <td>1.368343</td>\n",
       "      <td>-1.415308</td>\n",
       "      <td>0.009270</td>\n",
       "      <td>-0.294150</td>\n",
       "      <td>-0.10058</td>\n",
       "      <td>0.0</td>\n",
       "      <td>-0.403556</td>\n",
       "      <td>...</td>\n",
       "      <td>-1.424057</td>\n",
       "      <td>0.715400</td>\n",
       "      <td>0.280163</td>\n",
       "      <td>0.838861</td>\n",
       "      <td>1.0</td>\n",
       "      <td>-1.641698</td>\n",
       "      <td>-0.927506</td>\n",
       "      <td>-0.607505</td>\n",
       "      <td>-1.432292</td>\n",
       "      <td>malrang</td>\n",
       "    </tr>\n",
       "    <tr>\n",
       "      <th>11</th>\n",
       "      <td>-0.090288</td>\n",
       "      <td>-0.789490</td>\n",
       "      <td>0.0</td>\n",
       "      <td>-0.568514</td>\n",
       "      <td>1.918017</td>\n",
       "      <td>-0.493760</td>\n",
       "      <td>-0.294150</td>\n",
       "      <td>-0.10058</td>\n",
       "      <td>0.0</td>\n",
       "      <td>-0.403556</td>\n",
       "      <td>...</td>\n",
       "      <td>1.424057</td>\n",
       "      <td>0.715400</td>\n",
       "      <td>0.280163</td>\n",
       "      <td>0.838861</td>\n",
       "      <td>-1.0</td>\n",
       "      <td>0.072483</td>\n",
       "      <td>-0.927506</td>\n",
       "      <td>0.311452</td>\n",
       "      <td>-1.432292</td>\n",
       "      <td>spirit</td>\n",
       "    </tr>\n",
       "    <tr>\n",
       "      <th>12</th>\n",
       "      <td>-0.090288</td>\n",
       "      <td>-0.789490</td>\n",
       "      <td>1.0</td>\n",
       "      <td>-0.568514</td>\n",
       "      <td>-0.304200</td>\n",
       "      <td>0.260784</td>\n",
       "      <td>-0.294150</td>\n",
       "      <td>-0.10058</td>\n",
       "      <td>0.0</td>\n",
       "      <td>-0.403556</td>\n",
       "      <td>...</td>\n",
       "      <td>1.259742</td>\n",
       "      <td>0.715400</td>\n",
       "      <td>0.280163</td>\n",
       "      <td>-0.715916</td>\n",
       "      <td>1.0</td>\n",
       "      <td>0.072483</td>\n",
       "      <td>-0.927506</td>\n",
       "      <td>0.311452</td>\n",
       "      <td>-1.432292</td>\n",
       "      <td>spirit</td>\n",
       "    </tr>\n",
       "    <tr>\n",
       "      <th>13</th>\n",
       "      <td>-0.090288</td>\n",
       "      <td>-0.789490</td>\n",
       "      <td>0.0</td>\n",
       "      <td>-0.084300</td>\n",
       "      <td>0.251355</td>\n",
       "      <td>0.009270</td>\n",
       "      <td>-0.294150</td>\n",
       "      <td>-0.10058</td>\n",
       "      <td>0.0</td>\n",
       "      <td>-0.403556</td>\n",
       "      <td>...</td>\n",
       "      <td>-1.259742</td>\n",
       "      <td>0.715400</td>\n",
       "      <td>0.280163</td>\n",
       "      <td>-0.715916</td>\n",
       "      <td>-1.0</td>\n",
       "      <td>-1.475810</td>\n",
       "      <td>-0.927506</td>\n",
       "      <td>-0.607505</td>\n",
       "      <td>-1.432292</td>\n",
       "      <td>malrang</td>\n",
       "    </tr>\n",
       "    <tr>\n",
       "      <th>14</th>\n",
       "      <td>-0.090288</td>\n",
       "      <td>-0.789490</td>\n",
       "      <td>0.0</td>\n",
       "      <td>0.399914</td>\n",
       "      <td>1.362463</td>\n",
       "      <td>-1.248304</td>\n",
       "      <td>-0.294150</td>\n",
       "      <td>-0.10058</td>\n",
       "      <td>0.0</td>\n",
       "      <td>-0.403556</td>\n",
       "      <td>...</td>\n",
       "      <td>0.164314</td>\n",
       "      <td>0.715400</td>\n",
       "      <td>0.280163</td>\n",
       "      <td>-0.715916</td>\n",
       "      <td>1.0</td>\n",
       "      <td>0.072483</td>\n",
       "      <td>-0.927506</td>\n",
       "      <td>-1.148068</td>\n",
       "      <td>-1.432292</td>\n",
       "      <td>peanut</td>\n",
       "    </tr>\n",
       "    <tr>\n",
       "      <th>15</th>\n",
       "      <td>-0.090288</td>\n",
       "      <td>-0.789490</td>\n",
       "      <td>1.0</td>\n",
       "      <td>1.368343</td>\n",
       "      <td>-1.415308</td>\n",
       "      <td>0.763814</td>\n",
       "      <td>-0.294150</td>\n",
       "      <td>-0.10058</td>\n",
       "      <td>0.0</td>\n",
       "      <td>-0.403556</td>\n",
       "      <td>...</td>\n",
       "      <td>-0.164314</td>\n",
       "      <td>0.715400</td>\n",
       "      <td>0.280163</td>\n",
       "      <td>-0.715916</td>\n",
       "      <td>-1.0</td>\n",
       "      <td>-0.148702</td>\n",
       "      <td>-0.927506</td>\n",
       "      <td>0.689846</td>\n",
       "      <td>-1.432292</td>\n",
       "      <td>ambition</td>\n",
       "    </tr>\n",
       "    <tr>\n",
       "      <th>16</th>\n",
       "      <td>-0.090288</td>\n",
       "      <td>-0.789490</td>\n",
       "      <td>1.0</td>\n",
       "      <td>-0.084300</td>\n",
       "      <td>0.251355</td>\n",
       "      <td>0.009270</td>\n",
       "      <td>-0.294150</td>\n",
       "      <td>-0.10058</td>\n",
       "      <td>0.0</td>\n",
       "      <td>-0.403556</td>\n",
       "      <td>...</td>\n",
       "      <td>-0.985885</td>\n",
       "      <td>0.706477</td>\n",
       "      <td>-0.384991</td>\n",
       "      <td>0.838861</td>\n",
       "      <td>1.0</td>\n",
       "      <td>-1.475810</td>\n",
       "      <td>-0.927506</td>\n",
       "      <td>1.392578</td>\n",
       "      <td>1.770511</td>\n",
       "      <td>jankos</td>\n",
       "    </tr>\n",
       "    <tr>\n",
       "      <th>17</th>\n",
       "      <td>-0.090288</td>\n",
       "      <td>-0.789490</td>\n",
       "      <td>0.0</td>\n",
       "      <td>-0.568514</td>\n",
       "      <td>-0.304200</td>\n",
       "      <td>-0.996789</td>\n",
       "      <td>-0.294150</td>\n",
       "      <td>-0.10058</td>\n",
       "      <td>0.0</td>\n",
       "      <td>2.477973</td>\n",
       "      <td>...</td>\n",
       "      <td>0.985885</td>\n",
       "      <td>0.706477</td>\n",
       "      <td>-0.384991</td>\n",
       "      <td>0.838861</td>\n",
       "      <td>-1.0</td>\n",
       "      <td>1.123110</td>\n",
       "      <td>-0.927506</td>\n",
       "      <td>-0.850758</td>\n",
       "      <td>1.770511</td>\n",
       "      <td>trashy</td>\n",
       "    </tr>\n",
       "    <tr>\n",
       "      <th>18</th>\n",
       "      <td>-0.090288</td>\n",
       "      <td>-0.789490</td>\n",
       "      <td>0.0</td>\n",
       "      <td>-0.084300</td>\n",
       "      <td>3.029126</td>\n",
       "      <td>-1.248304</td>\n",
       "      <td>-0.294150</td>\n",
       "      <td>-0.10058</td>\n",
       "      <td>0.0</td>\n",
       "      <td>-0.403556</td>\n",
       "      <td>...</td>\n",
       "      <td>-1.643142</td>\n",
       "      <td>0.706477</td>\n",
       "      <td>-0.384991</td>\n",
       "      <td>-0.715916</td>\n",
       "      <td>1.0</td>\n",
       "      <td>1.123110</td>\n",
       "      <td>-0.927506</td>\n",
       "      <td>-0.850758</td>\n",
       "      <td>1.770511</td>\n",
       "      <td>trashy</td>\n",
       "    </tr>\n",
       "    <tr>\n",
       "      <th>19</th>\n",
       "      <td>-0.090288</td>\n",
       "      <td>-0.789490</td>\n",
       "      <td>1.0</td>\n",
       "      <td>1.368343</td>\n",
       "      <td>-0.304200</td>\n",
       "      <td>1.518357</td>\n",
       "      <td>-0.294150</td>\n",
       "      <td>-0.10058</td>\n",
       "      <td>0.0</td>\n",
       "      <td>2.477973</td>\n",
       "      <td>...</td>\n",
       "      <td>1.643142</td>\n",
       "      <td>0.706477</td>\n",
       "      <td>-0.384991</td>\n",
       "      <td>-0.715916</td>\n",
       "      <td>-1.0</td>\n",
       "      <td>-1.475810</td>\n",
       "      <td>-0.927506</td>\n",
       "      <td>1.392578</td>\n",
       "      <td>1.770511</td>\n",
       "      <td>jankos</td>\n",
       "    </tr>\n",
       "    <tr>\n",
       "      <th>20</th>\n",
       "      <td>-0.090288</td>\n",
       "      <td>-0.789490</td>\n",
       "      <td>1.0</td>\n",
       "      <td>-0.084300</td>\n",
       "      <td>-0.304200</td>\n",
       "      <td>0.009270</td>\n",
       "      <td>-0.294150</td>\n",
       "      <td>-0.10058</td>\n",
       "      <td>0.0</td>\n",
       "      <td>-0.403556</td>\n",
       "      <td>...</td>\n",
       "      <td>-0.712028</td>\n",
       "      <td>0.710941</td>\n",
       "      <td>0.280163</td>\n",
       "      <td>-0.715916</td>\n",
       "      <td>1.0</td>\n",
       "      <td>-1.641698</td>\n",
       "      <td>-0.927506</td>\n",
       "      <td>0.284424</td>\n",
       "      <td>-1.432292</td>\n",
       "      <td>bless</td>\n",
       "    </tr>\n",
       "    <tr>\n",
       "      <th>21</th>\n",
       "      <td>-0.090288</td>\n",
       "      <td>-0.789490</td>\n",
       "      <td>0.0</td>\n",
       "      <td>-0.568514</td>\n",
       "      <td>0.806909</td>\n",
       "      <td>-0.996789</td>\n",
       "      <td>-0.294150</td>\n",
       "      <td>-0.10058</td>\n",
       "      <td>0.0</td>\n",
       "      <td>-0.403556</td>\n",
       "      <td>...</td>\n",
       "      <td>0.712028</td>\n",
       "      <td>0.710941</td>\n",
       "      <td>0.280163</td>\n",
       "      <td>-0.715916</td>\n",
       "      <td>-1.0</td>\n",
       "      <td>1.012518</td>\n",
       "      <td>-0.927506</td>\n",
       "      <td>0.473621</td>\n",
       "      <td>-1.432292</td>\n",
       "      <td>cuzz</td>\n",
       "    </tr>\n",
       "    <tr>\n",
       "      <th>22</th>\n",
       "      <td>-0.090288</td>\n",
       "      <td>-0.789490</td>\n",
       "      <td>1.0</td>\n",
       "      <td>0.884129</td>\n",
       "      <td>-1.415308</td>\n",
       "      <td>0.512299</td>\n",
       "      <td>-0.294150</td>\n",
       "      <td>-0.10058</td>\n",
       "      <td>0.0</td>\n",
       "      <td>-0.403556</td>\n",
       "      <td>...</td>\n",
       "      <td>0.273857</td>\n",
       "      <td>0.710941</td>\n",
       "      <td>0.280163</td>\n",
       "      <td>0.616750</td>\n",
       "      <td>1.0</td>\n",
       "      <td>1.288999</td>\n",
       "      <td>-0.927506</td>\n",
       "      <td>0.473621</td>\n",
       "      <td>-1.432292</td>\n",
       "      <td>cuzz</td>\n",
       "    </tr>\n",
       "    <tr>\n",
       "      <th>23</th>\n",
       "      <td>-0.090288</td>\n",
       "      <td>-0.789490</td>\n",
       "      <td>0.0</td>\n",
       "      <td>1.368343</td>\n",
       "      <td>1.362463</td>\n",
       "      <td>-1.499818</td>\n",
       "      <td>-0.294150</td>\n",
       "      <td>-0.10058</td>\n",
       "      <td>0.0</td>\n",
       "      <td>2.477973</td>\n",
       "      <td>...</td>\n",
       "      <td>-0.273857</td>\n",
       "      <td>0.710941</td>\n",
       "      <td>0.280163</td>\n",
       "      <td>0.616750</td>\n",
       "      <td>-1.0</td>\n",
       "      <td>-1.641698</td>\n",
       "      <td>-0.927506</td>\n",
       "      <td>0.284424</td>\n",
       "      <td>-1.432292</td>\n",
       "      <td>bless</td>\n",
       "    </tr>\n",
       "    <tr>\n",
       "      <th>24</th>\n",
       "      <td>-0.090288</td>\n",
       "      <td>-0.789490</td>\n",
       "      <td>0.0</td>\n",
       "      <td>-0.084300</td>\n",
       "      <td>-0.304200</td>\n",
       "      <td>0.009270</td>\n",
       "      <td>-0.294150</td>\n",
       "      <td>-0.10058</td>\n",
       "      <td>0.0</td>\n",
       "      <td>-0.403556</td>\n",
       "      <td>...</td>\n",
       "      <td>-0.273857</td>\n",
       "      <td>0.710941</td>\n",
       "      <td>0.280163</td>\n",
       "      <td>0.838861</td>\n",
       "      <td>1.0</td>\n",
       "      <td>0.072483</td>\n",
       "      <td>-0.927506</td>\n",
       "      <td>0.014143</td>\n",
       "      <td>-1.432292</td>\n",
       "      <td>seonghwan</td>\n",
       "    </tr>\n",
       "    <tr>\n",
       "      <th>25</th>\n",
       "      <td>-0.090288</td>\n",
       "      <td>-0.789490</td>\n",
       "      <td>1.0</td>\n",
       "      <td>2.336771</td>\n",
       "      <td>-0.859754</td>\n",
       "      <td>-0.996789</td>\n",
       "      <td>2.467082</td>\n",
       "      <td>-0.10058</td>\n",
       "      <td>0.0</td>\n",
       "      <td>2.477973</td>\n",
       "      <td>...</td>\n",
       "      <td>0.273857</td>\n",
       "      <td>0.710941</td>\n",
       "      <td>0.280163</td>\n",
       "      <td>0.838861</td>\n",
       "      <td>-1.0</td>\n",
       "      <td>-1.641698</td>\n",
       "      <td>-0.927506</td>\n",
       "      <td>1.041212</td>\n",
       "      <td>-1.432292</td>\n",
       "      <td>umti</td>\n",
       "    </tr>\n",
       "    <tr>\n",
       "      <th>26</th>\n",
       "      <td>-0.090288</td>\n",
       "      <td>-0.789490</td>\n",
       "      <td>1.0</td>\n",
       "      <td>-0.084300</td>\n",
       "      <td>-0.859754</td>\n",
       "      <td>-0.493760</td>\n",
       "      <td>-0.294150</td>\n",
       "      <td>-0.10058</td>\n",
       "      <td>0.0</td>\n",
       "      <td>2.477973</td>\n",
       "      <td>...</td>\n",
       "      <td>-0.383400</td>\n",
       "      <td>0.710941</td>\n",
       "      <td>0.280163</td>\n",
       "      <td>-0.715916</td>\n",
       "      <td>1.0</td>\n",
       "      <td>-1.475810</td>\n",
       "      <td>-0.927506</td>\n",
       "      <td>1.041212</td>\n",
       "      <td>-1.432292</td>\n",
       "      <td>umti</td>\n",
       "    </tr>\n",
       "    <tr>\n",
       "      <th>27</th>\n",
       "      <td>-0.090288</td>\n",
       "      <td>-0.789490</td>\n",
       "      <td>0.0</td>\n",
       "      <td>-0.568514</td>\n",
       "      <td>-0.859754</td>\n",
       "      <td>-1.499818</td>\n",
       "      <td>-0.294150</td>\n",
       "      <td>-0.10058</td>\n",
       "      <td>0.0</td>\n",
       "      <td>-0.403556</td>\n",
       "      <td>...</td>\n",
       "      <td>0.383400</td>\n",
       "      <td>0.710941</td>\n",
       "      <td>0.280163</td>\n",
       "      <td>-0.715916</td>\n",
       "      <td>-1.0</td>\n",
       "      <td>0.736037</td>\n",
       "      <td>-0.927506</td>\n",
       "      <td>0.014143</td>\n",
       "      <td>-1.432292</td>\n",
       "      <td>seonghwan</td>\n",
       "    </tr>\n",
       "    <tr>\n",
       "      <th>28</th>\n",
       "      <td>-0.090288</td>\n",
       "      <td>-0.789490</td>\n",
       "      <td>1.0</td>\n",
       "      <td>-0.084300</td>\n",
       "      <td>-0.304200</td>\n",
       "      <td>1.015328</td>\n",
       "      <td>-0.294150</td>\n",
       "      <td>-0.10058</td>\n",
       "      <td>0.0</td>\n",
       "      <td>-0.403556</td>\n",
       "      <td>...</td>\n",
       "      <td>0.273857</td>\n",
       "      <td>0.706477</td>\n",
       "      <td>-0.384991</td>\n",
       "      <td>0.838861</td>\n",
       "      <td>1.0</td>\n",
       "      <td>1.123110</td>\n",
       "      <td>-0.927506</td>\n",
       "      <td>-1.634574</td>\n",
       "      <td>1.770511</td>\n",
       "      <td>broxah</td>\n",
       "    </tr>\n",
       "    <tr>\n",
       "      <th>29</th>\n",
       "      <td>-0.090288</td>\n",
       "      <td>-0.789490</td>\n",
       "      <td>0.0</td>\n",
       "      <td>-0.568514</td>\n",
       "      <td>-0.304200</td>\n",
       "      <td>-0.745274</td>\n",
       "      <td>-0.294150</td>\n",
       "      <td>-0.10058</td>\n",
       "      <td>0.0</td>\n",
       "      <td>-0.403556</td>\n",
       "      <td>...</td>\n",
       "      <td>-0.273857</td>\n",
       "      <td>0.706477</td>\n",
       "      <td>-0.384991</td>\n",
       "      <td>0.838861</td>\n",
       "      <td>-1.0</td>\n",
       "      <td>-0.425183</td>\n",
       "      <td>-0.927506</td>\n",
       "      <td>-1.283208</td>\n",
       "      <td>1.770511</td>\n",
       "      <td>maxlore</td>\n",
       "    </tr>\n",
       "    <tr>\n",
       "      <th>...</th>\n",
       "      <td>...</td>\n",
       "      <td>...</td>\n",
       "      <td>...</td>\n",
       "      <td>...</td>\n",
       "      <td>...</td>\n",
       "      <td>...</td>\n",
       "      <td>...</td>\n",
       "      <td>...</td>\n",
       "      <td>...</td>\n",
       "      <td>...</td>\n",
       "      <td>...</td>\n",
       "      <td>...</td>\n",
       "      <td>...</td>\n",
       "      <td>...</td>\n",
       "      <td>...</td>\n",
       "      <td>...</td>\n",
       "      <td>...</td>\n",
       "      <td>...</td>\n",
       "      <td>...</td>\n",
       "      <td>...</td>\n",
       "      <td>...</td>\n",
       "    </tr>\n",
       "    <tr>\n",
       "      <th>11366</th>\n",
       "      <td>2.194589</td>\n",
       "      <td>1.512592</td>\n",
       "      <td>1.0</td>\n",
       "      <td>0.399914</td>\n",
       "      <td>-0.859754</td>\n",
       "      <td>0.260784</td>\n",
       "      <td>2.467082</td>\n",
       "      <td>-0.10058</td>\n",
       "      <td>0.0</td>\n",
       "      <td>-0.403556</td>\n",
       "      <td>...</td>\n",
       "      <td>1.971771</td>\n",
       "      <td>-2.216284</td>\n",
       "      <td>-1.271862</td>\n",
       "      <td>-0.715916</td>\n",
       "      <td>1.0</td>\n",
       "      <td>-1.752291</td>\n",
       "      <td>1.078160</td>\n",
       "      <td>-1.499434</td>\n",
       "      <td>-0.517205</td>\n",
       "      <td>raise</td>\n",
       "    </tr>\n",
       "    <tr>\n",
       "      <th>11367</th>\n",
       "      <td>2.194589</td>\n",
       "      <td>1.512592</td>\n",
       "      <td>0.0</td>\n",
       "      <td>-1.052728</td>\n",
       "      <td>2.473571</td>\n",
       "      <td>-0.242245</td>\n",
       "      <td>-0.294150</td>\n",
       "      <td>-0.10058</td>\n",
       "      <td>0.0</td>\n",
       "      <td>-0.403556</td>\n",
       "      <td>...</td>\n",
       "      <td>-1.971771</td>\n",
       "      <td>-2.216284</td>\n",
       "      <td>-1.271862</td>\n",
       "      <td>-0.715916</td>\n",
       "      <td>-1.0</td>\n",
       "      <td>0.625445</td>\n",
       "      <td>1.078160</td>\n",
       "      <td>-0.904814</td>\n",
       "      <td>-0.517205</td>\n",
       "      <td>gemini</td>\n",
       "    </tr>\n",
       "    <tr>\n",
       "      <th>11368</th>\n",
       "      <td>2.194589</td>\n",
       "      <td>1.512592</td>\n",
       "      <td>0.0</td>\n",
       "      <td>-0.568514</td>\n",
       "      <td>-0.859754</td>\n",
       "      <td>-1.248304</td>\n",
       "      <td>-0.294150</td>\n",
       "      <td>-0.10058</td>\n",
       "      <td>0.0</td>\n",
       "      <td>-0.403556</td>\n",
       "      <td>...</td>\n",
       "      <td>-0.712028</td>\n",
       "      <td>-2.216284</td>\n",
       "      <td>-1.271862</td>\n",
       "      <td>0.616750</td>\n",
       "      <td>1.0</td>\n",
       "      <td>-1.641698</td>\n",
       "      <td>1.078160</td>\n",
       "      <td>-0.904814</td>\n",
       "      <td>-0.517205</td>\n",
       "      <td>gemini</td>\n",
       "    </tr>\n",
       "    <tr>\n",
       "      <th>11369</th>\n",
       "      <td>2.194589</td>\n",
       "      <td>1.512592</td>\n",
       "      <td>1.0</td>\n",
       "      <td>0.399914</td>\n",
       "      <td>-1.415308</td>\n",
       "      <td>0.009270</td>\n",
       "      <td>-0.294150</td>\n",
       "      <td>-0.10058</td>\n",
       "      <td>0.0</td>\n",
       "      <td>-0.403556</td>\n",
       "      <td>...</td>\n",
       "      <td>0.712028</td>\n",
       "      <td>-2.216284</td>\n",
       "      <td>-1.271862</td>\n",
       "      <td>0.616750</td>\n",
       "      <td>-1.0</td>\n",
       "      <td>0.072483</td>\n",
       "      <td>1.078160</td>\n",
       "      <td>-1.499434</td>\n",
       "      <td>-0.517205</td>\n",
       "      <td>raise</td>\n",
       "    </tr>\n",
       "    <tr>\n",
       "      <th>11370</th>\n",
       "      <td>2.194589</td>\n",
       "      <td>1.512592</td>\n",
       "      <td>1.0</td>\n",
       "      <td>-0.084300</td>\n",
       "      <td>-0.304200</td>\n",
       "      <td>1.015328</td>\n",
       "      <td>-0.294150</td>\n",
       "      <td>-0.10058</td>\n",
       "      <td>0.0</td>\n",
       "      <td>2.477973</td>\n",
       "      <td>...</td>\n",
       "      <td>-0.054771</td>\n",
       "      <td>-2.225398</td>\n",
       "      <td>-1.271862</td>\n",
       "      <td>-2.937027</td>\n",
       "      <td>1.0</td>\n",
       "      <td>-0.148702</td>\n",
       "      <td>1.078160</td>\n",
       "      <td>-1.499434</td>\n",
       "      <td>-0.517205</td>\n",
       "      <td>raise</td>\n",
       "    </tr>\n",
       "    <tr>\n",
       "      <th>11371</th>\n",
       "      <td>2.194589</td>\n",
       "      <td>1.512592</td>\n",
       "      <td>0.0</td>\n",
       "      <td>-0.568514</td>\n",
       "      <td>1.362463</td>\n",
       "      <td>-0.996789</td>\n",
       "      <td>-0.294150</td>\n",
       "      <td>-0.10058</td>\n",
       "      <td>0.0</td>\n",
       "      <td>-0.403556</td>\n",
       "      <td>...</td>\n",
       "      <td>0.054771</td>\n",
       "      <td>-2.225398</td>\n",
       "      <td>-1.271862</td>\n",
       "      <td>-2.937027</td>\n",
       "      <td>-1.0</td>\n",
       "      <td>0.072483</td>\n",
       "      <td>1.078160</td>\n",
       "      <td>-0.904814</td>\n",
       "      <td>-0.517205</td>\n",
       "      <td>gemini</td>\n",
       "    </tr>\n",
       "    <tr>\n",
       "      <th>11372</th>\n",
       "      <td>2.194589</td>\n",
       "      <td>1.512592</td>\n",
       "      <td>1.0</td>\n",
       "      <td>-0.568514</td>\n",
       "      <td>-0.304200</td>\n",
       "      <td>-0.745274</td>\n",
       "      <td>-0.294150</td>\n",
       "      <td>-0.10058</td>\n",
       "      <td>0.0</td>\n",
       "      <td>2.477973</td>\n",
       "      <td>...</td>\n",
       "      <td>0.054771</td>\n",
       "      <td>-2.225398</td>\n",
       "      <td>-1.271862</td>\n",
       "      <td>0.838861</td>\n",
       "      <td>1.0</td>\n",
       "      <td>0.625445</td>\n",
       "      <td>1.078160</td>\n",
       "      <td>-1.337265</td>\n",
       "      <td>-0.517205</td>\n",
       "      <td>breaker</td>\n",
       "    </tr>\n",
       "    <tr>\n",
       "      <th>11373</th>\n",
       "      <td>2.194589</td>\n",
       "      <td>1.512592</td>\n",
       "      <td>0.0</td>\n",
       "      <td>-1.052728</td>\n",
       "      <td>-0.859754</td>\n",
       "      <td>-0.996789</td>\n",
       "      <td>-0.294150</td>\n",
       "      <td>-0.10058</td>\n",
       "      <td>0.0</td>\n",
       "      <td>-0.403556</td>\n",
       "      <td>...</td>\n",
       "      <td>-0.054771</td>\n",
       "      <td>-2.225398</td>\n",
       "      <td>-1.271862</td>\n",
       "      <td>0.838861</td>\n",
       "      <td>-1.0</td>\n",
       "      <td>-1.752291</td>\n",
       "      <td>1.078160</td>\n",
       "      <td>1.203381</td>\n",
       "      <td>-0.517205</td>\n",
       "      <td>bugi</td>\n",
       "    </tr>\n",
       "    <tr>\n",
       "      <th>11374</th>\n",
       "      <td>2.194589</td>\n",
       "      <td>1.512592</td>\n",
       "      <td>0.0</td>\n",
       "      <td>-0.084300</td>\n",
       "      <td>1.362463</td>\n",
       "      <td>-0.996789</td>\n",
       "      <td>-0.294150</td>\n",
       "      <td>-0.10058</td>\n",
       "      <td>0.0</td>\n",
       "      <td>-0.403556</td>\n",
       "      <td>...</td>\n",
       "      <td>-0.602486</td>\n",
       "      <td>-2.225398</td>\n",
       "      <td>-1.271862</td>\n",
       "      <td>-0.715916</td>\n",
       "      <td>1.0</td>\n",
       "      <td>0.127779</td>\n",
       "      <td>1.078160</td>\n",
       "      <td>-1.337265</td>\n",
       "      <td>-0.517205</td>\n",
       "      <td>breaker</td>\n",
       "    </tr>\n",
       "    <tr>\n",
       "      <th>11375</th>\n",
       "      <td>2.194589</td>\n",
       "      <td>1.512592</td>\n",
       "      <td>1.0</td>\n",
       "      <td>0.884129</td>\n",
       "      <td>0.251355</td>\n",
       "      <td>0.512299</td>\n",
       "      <td>2.467082</td>\n",
       "      <td>-0.10058</td>\n",
       "      <td>0.0</td>\n",
       "      <td>-0.403556</td>\n",
       "      <td>...</td>\n",
       "      <td>0.602486</td>\n",
       "      <td>-2.225398</td>\n",
       "      <td>-1.271862</td>\n",
       "      <td>-0.715916</td>\n",
       "      <td>-1.0</td>\n",
       "      <td>1.344295</td>\n",
       "      <td>1.078160</td>\n",
       "      <td>1.203381</td>\n",
       "      <td>-0.517205</td>\n",
       "      <td>bugi</td>\n",
       "    </tr>\n",
       "    <tr>\n",
       "      <th>11376</th>\n",
       "      <td>2.194589</td>\n",
       "      <td>1.512592</td>\n",
       "      <td>1.0</td>\n",
       "      <td>-0.568514</td>\n",
       "      <td>0.251355</td>\n",
       "      <td>0.763814</td>\n",
       "      <td>-0.294150</td>\n",
       "      <td>-0.10058</td>\n",
       "      <td>0.0</td>\n",
       "      <td>-0.403556</td>\n",
       "      <td>...</td>\n",
       "      <td>-0.438171</td>\n",
       "      <td>-2.225398</td>\n",
       "      <td>-1.271862</td>\n",
       "      <td>0.616750</td>\n",
       "      <td>1.0</td>\n",
       "      <td>1.344295</td>\n",
       "      <td>1.078160</td>\n",
       "      <td>-1.337265</td>\n",
       "      <td>-0.517205</td>\n",
       "      <td>breaker</td>\n",
       "    </tr>\n",
       "    <tr>\n",
       "      <th>11377</th>\n",
       "      <td>2.194589</td>\n",
       "      <td>1.512592</td>\n",
       "      <td>0.0</td>\n",
       "      <td>1.852557</td>\n",
       "      <td>-0.859754</td>\n",
       "      <td>-0.493760</td>\n",
       "      <td>2.467082</td>\n",
       "      <td>-0.10058</td>\n",
       "      <td>0.0</td>\n",
       "      <td>-0.403556</td>\n",
       "      <td>...</td>\n",
       "      <td>0.438171</td>\n",
       "      <td>-2.225398</td>\n",
       "      <td>-1.271862</td>\n",
       "      <td>0.616750</td>\n",
       "      <td>-1.0</td>\n",
       "      <td>0.957222</td>\n",
       "      <td>1.078160</td>\n",
       "      <td>1.203381</td>\n",
       "      <td>-0.517205</td>\n",
       "      <td>bugi</td>\n",
       "    </tr>\n",
       "    <tr>\n",
       "      <th>11378</th>\n",
       "      <td>2.194589</td>\n",
       "      <td>1.512592</td>\n",
       "      <td>1.0</td>\n",
       "      <td>1.368343</td>\n",
       "      <td>0.806909</td>\n",
       "      <td>0.512299</td>\n",
       "      <td>2.467082</td>\n",
       "      <td>-0.10058</td>\n",
       "      <td>0.0</td>\n",
       "      <td>2.477973</td>\n",
       "      <td>...</td>\n",
       "      <td>-0.109543</td>\n",
       "      <td>-2.225398</td>\n",
       "      <td>-1.271862</td>\n",
       "      <td>-2.937027</td>\n",
       "      <td>1.0</td>\n",
       "      <td>-0.314590</td>\n",
       "      <td>1.078160</td>\n",
       "      <td>1.203381</td>\n",
       "      <td>-0.517205</td>\n",
       "      <td>bugi</td>\n",
       "    </tr>\n",
       "    <tr>\n",
       "      <th>11379</th>\n",
       "      <td>2.194589</td>\n",
       "      <td>1.512592</td>\n",
       "      <td>0.0</td>\n",
       "      <td>-1.052728</td>\n",
       "      <td>1.362463</td>\n",
       "      <td>0.763814</td>\n",
       "      <td>-0.294150</td>\n",
       "      <td>-0.10058</td>\n",
       "      <td>0.0</td>\n",
       "      <td>-0.403556</td>\n",
       "      <td>...</td>\n",
       "      <td>0.109543</td>\n",
       "      <td>-2.225398</td>\n",
       "      <td>-1.271862</td>\n",
       "      <td>-2.937027</td>\n",
       "      <td>-1.0</td>\n",
       "      <td>1.288999</td>\n",
       "      <td>1.078160</td>\n",
       "      <td>-1.337265</td>\n",
       "      <td>-0.517205</td>\n",
       "      <td>breaker</td>\n",
       "    </tr>\n",
       "    <tr>\n",
       "      <th>11380</th>\n",
       "      <td>2.194589</td>\n",
       "      <td>1.512592</td>\n",
       "      <td>1.0</td>\n",
       "      <td>-0.084300</td>\n",
       "      <td>-0.304200</td>\n",
       "      <td>2.272901</td>\n",
       "      <td>-0.294150</td>\n",
       "      <td>-0.10058</td>\n",
       "      <td>0.0</td>\n",
       "      <td>2.477973</td>\n",
       "      <td>...</td>\n",
       "      <td>0.328628</td>\n",
       "      <td>-2.234535</td>\n",
       "      <td>-1.271862</td>\n",
       "      <td>-3.159138</td>\n",
       "      <td>1.0</td>\n",
       "      <td>0.570148</td>\n",
       "      <td>1.078160</td>\n",
       "      <td>-1.337265</td>\n",
       "      <td>-0.517205</td>\n",
       "      <td>breaker</td>\n",
       "    </tr>\n",
       "    <tr>\n",
       "      <th>11381</th>\n",
       "      <td>2.194589</td>\n",
       "      <td>1.512592</td>\n",
       "      <td>0.0</td>\n",
       "      <td>-1.052728</td>\n",
       "      <td>0.806909</td>\n",
       "      <td>-1.248304</td>\n",
       "      <td>-0.294150</td>\n",
       "      <td>-0.10058</td>\n",
       "      <td>0.0</td>\n",
       "      <td>-0.403556</td>\n",
       "      <td>...</td>\n",
       "      <td>-0.328628</td>\n",
       "      <td>-2.234535</td>\n",
       "      <td>-1.271862</td>\n",
       "      <td>-3.159138</td>\n",
       "      <td>-1.0</td>\n",
       "      <td>1.344295</td>\n",
       "      <td>1.078160</td>\n",
       "      <td>1.203381</td>\n",
       "      <td>-0.517205</td>\n",
       "      <td>bugi</td>\n",
       "    </tr>\n",
       "    <tr>\n",
       "      <th>11382</th>\n",
       "      <td>2.194589</td>\n",
       "      <td>1.512592</td>\n",
       "      <td>1.0</td>\n",
       "      <td>-0.568514</td>\n",
       "      <td>-0.304200</td>\n",
       "      <td>1.015328</td>\n",
       "      <td>-0.294150</td>\n",
       "      <td>-0.10058</td>\n",
       "      <td>0.0</td>\n",
       "      <td>-0.403556</td>\n",
       "      <td>...</td>\n",
       "      <td>0.438171</td>\n",
       "      <td>-2.234535</td>\n",
       "      <td>-1.271862</td>\n",
       "      <td>0.838861</td>\n",
       "      <td>1.0</td>\n",
       "      <td>-1.752291</td>\n",
       "      <td>1.078160</td>\n",
       "      <td>-1.499434</td>\n",
       "      <td>-0.517205</td>\n",
       "      <td>empt2y</td>\n",
       "    </tr>\n",
       "    <tr>\n",
       "      <th>11383</th>\n",
       "      <td>2.194589</td>\n",
       "      <td>1.512592</td>\n",
       "      <td>0.0</td>\n",
       "      <td>-0.084300</td>\n",
       "      <td>0.806909</td>\n",
       "      <td>-0.242245</td>\n",
       "      <td>-0.294150</td>\n",
       "      <td>-0.10058</td>\n",
       "      <td>0.0</td>\n",
       "      <td>-0.403556</td>\n",
       "      <td>...</td>\n",
       "      <td>-0.438171</td>\n",
       "      <td>-2.234535</td>\n",
       "      <td>-1.271862</td>\n",
       "      <td>0.838861</td>\n",
       "      <td>-1.0</td>\n",
       "      <td>0.570148</td>\n",
       "      <td>1.078160</td>\n",
       "      <td>-1.337265</td>\n",
       "      <td>-0.517205</td>\n",
       "      <td>breaker</td>\n",
       "    </tr>\n",
       "    <tr>\n",
       "      <th>11384</th>\n",
       "      <td>2.194589</td>\n",
       "      <td>1.512592</td>\n",
       "      <td>0.0</td>\n",
       "      <td>-1.052728</td>\n",
       "      <td>0.806909</td>\n",
       "      <td>0.009270</td>\n",
       "      <td>-0.294150</td>\n",
       "      <td>-0.10058</td>\n",
       "      <td>0.0</td>\n",
       "      <td>-0.403556</td>\n",
       "      <td>...</td>\n",
       "      <td>0.164314</td>\n",
       "      <td>-2.234535</td>\n",
       "      <td>-1.271862</td>\n",
       "      <td>-0.715916</td>\n",
       "      <td>1.0</td>\n",
       "      <td>1.344295</td>\n",
       "      <td>1.078160</td>\n",
       "      <td>-1.337265</td>\n",
       "      <td>-0.517205</td>\n",
       "      <td>breaker</td>\n",
       "    </tr>\n",
       "    <tr>\n",
       "      <th>11385</th>\n",
       "      <td>2.194589</td>\n",
       "      <td>1.512592</td>\n",
       "      <td>1.0</td>\n",
       "      <td>-0.084300</td>\n",
       "      <td>-0.859754</td>\n",
       "      <td>1.015328</td>\n",
       "      <td>-0.294150</td>\n",
       "      <td>-0.10058</td>\n",
       "      <td>0.0</td>\n",
       "      <td>-0.403556</td>\n",
       "      <td>...</td>\n",
       "      <td>-0.164314</td>\n",
       "      <td>-2.234535</td>\n",
       "      <td>-1.271862</td>\n",
       "      <td>-0.715916</td>\n",
       "      <td>-1.0</td>\n",
       "      <td>-0.148702</td>\n",
       "      <td>1.078160</td>\n",
       "      <td>-1.499434</td>\n",
       "      <td>-0.517205</td>\n",
       "      <td>empt2y</td>\n",
       "    </tr>\n",
       "    <tr>\n",
       "      <th>11386</th>\n",
       "      <td>2.194589</td>\n",
       "      <td>1.512592</td>\n",
       "      <td>1.0</td>\n",
       "      <td>-0.568514</td>\n",
       "      <td>-0.304200</td>\n",
       "      <td>0.512299</td>\n",
       "      <td>-0.294150</td>\n",
       "      <td>-0.10058</td>\n",
       "      <td>0.0</td>\n",
       "      <td>-0.403556</td>\n",
       "      <td>...</td>\n",
       "      <td>-0.876343</td>\n",
       "      <td>-2.234535</td>\n",
       "      <td>-1.271862</td>\n",
       "      <td>0.616750</td>\n",
       "      <td>1.0</td>\n",
       "      <td>-0.148702</td>\n",
       "      <td>1.078160</td>\n",
       "      <td>-1.499434</td>\n",
       "      <td>-0.517205</td>\n",
       "      <td>empt2y</td>\n",
       "    </tr>\n",
       "    <tr>\n",
       "      <th>11387</th>\n",
       "      <td>2.194589</td>\n",
       "      <td>1.512592</td>\n",
       "      <td>0.0</td>\n",
       "      <td>-0.084300</td>\n",
       "      <td>0.251355</td>\n",
       "      <td>-1.248304</td>\n",
       "      <td>-0.294150</td>\n",
       "      <td>-0.10058</td>\n",
       "      <td>0.0</td>\n",
       "      <td>-0.403556</td>\n",
       "      <td>...</td>\n",
       "      <td>0.876343</td>\n",
       "      <td>-2.234535</td>\n",
       "      <td>-1.271862</td>\n",
       "      <td>0.616750</td>\n",
       "      <td>-1.0</td>\n",
       "      <td>0.791333</td>\n",
       "      <td>1.078160</td>\n",
       "      <td>-1.337265</td>\n",
       "      <td>-0.517205</td>\n",
       "      <td>breaker</td>\n",
       "    </tr>\n",
       "    <tr>\n",
       "      <th>11388</th>\n",
       "      <td>1.338157</td>\n",
       "      <td>1.430375</td>\n",
       "      <td>0.0</td>\n",
       "      <td>-0.568514</td>\n",
       "      <td>0.251355</td>\n",
       "      <td>-0.996789</td>\n",
       "      <td>-0.294150</td>\n",
       "      <td>-0.10058</td>\n",
       "      <td>0.0</td>\n",
       "      <td>2.477973</td>\n",
       "      <td>...</td>\n",
       "      <td>0.164314</td>\n",
       "      <td>-2.180057</td>\n",
       "      <td>-0.606708</td>\n",
       "      <td>0.838861</td>\n",
       "      <td>1.0</td>\n",
       "      <td>0.127779</td>\n",
       "      <td>1.078160</td>\n",
       "      <td>1.689888</td>\n",
       "      <td>-0.974749</td>\n",
       "      <td>stomaged</td>\n",
       "    </tr>\n",
       "    <tr>\n",
       "      <th>11389</th>\n",
       "      <td>1.338157</td>\n",
       "      <td>1.430375</td>\n",
       "      <td>1.0</td>\n",
       "      <td>2.820986</td>\n",
       "      <td>-0.859754</td>\n",
       "      <td>-0.493760</td>\n",
       "      <td>2.467082</td>\n",
       "      <td>-0.10058</td>\n",
       "      <td>0.0</td>\n",
       "      <td>-0.403556</td>\n",
       "      <td>...</td>\n",
       "      <td>-0.164314</td>\n",
       "      <td>-2.180057</td>\n",
       "      <td>-0.606708</td>\n",
       "      <td>0.838861</td>\n",
       "      <td>-1.0</td>\n",
       "      <td>-1.475810</td>\n",
       "      <td>1.078160</td>\n",
       "      <td>1.581775</td>\n",
       "      <td>-0.974749</td>\n",
       "      <td>closer</td>\n",
       "    </tr>\n",
       "    <tr>\n",
       "      <th>11390</th>\n",
       "      <td>1.338157</td>\n",
       "      <td>1.430375</td>\n",
       "      <td>0.0</td>\n",
       "      <td>0.399914</td>\n",
       "      <td>0.806909</td>\n",
       "      <td>-0.745274</td>\n",
       "      <td>2.467082</td>\n",
       "      <td>-0.10058</td>\n",
       "      <td>0.0</td>\n",
       "      <td>-0.403556</td>\n",
       "      <td>...</td>\n",
       "      <td>0.219086</td>\n",
       "      <td>-2.180057</td>\n",
       "      <td>-0.606708</td>\n",
       "      <td>-0.715916</td>\n",
       "      <td>1.0</td>\n",
       "      <td>-1.475810</td>\n",
       "      <td>1.078160</td>\n",
       "      <td>1.581775</td>\n",
       "      <td>-0.974749</td>\n",
       "      <td>closer</td>\n",
       "    </tr>\n",
       "    <tr>\n",
       "      <th>11391</th>\n",
       "      <td>1.338157</td>\n",
       "      <td>1.430375</td>\n",
       "      <td>1.0</td>\n",
       "      <td>0.399914</td>\n",
       "      <td>0.806909</td>\n",
       "      <td>0.260784</td>\n",
       "      <td>-0.294150</td>\n",
       "      <td>-0.10058</td>\n",
       "      <td>0.0</td>\n",
       "      <td>2.477973</td>\n",
       "      <td>...</td>\n",
       "      <td>-0.219086</td>\n",
       "      <td>-2.180057</td>\n",
       "      <td>-0.606708</td>\n",
       "      <td>-0.715916</td>\n",
       "      <td>-1.0</td>\n",
       "      <td>0.127779</td>\n",
       "      <td>1.078160</td>\n",
       "      <td>1.689888</td>\n",
       "      <td>-0.974749</td>\n",
       "      <td>stomaged</td>\n",
       "    </tr>\n",
       "    <tr>\n",
       "      <th>11392</th>\n",
       "      <td>1.338157</td>\n",
       "      <td>1.430375</td>\n",
       "      <td>1.0</td>\n",
       "      <td>0.884129</td>\n",
       "      <td>-0.859754</td>\n",
       "      <td>1.266843</td>\n",
       "      <td>-0.294150</td>\n",
       "      <td>-0.10058</td>\n",
       "      <td>0.0</td>\n",
       "      <td>-0.403556</td>\n",
       "      <td>...</td>\n",
       "      <td>0.492943</td>\n",
       "      <td>-2.189080</td>\n",
       "      <td>-0.606708</td>\n",
       "      <td>0.616750</td>\n",
       "      <td>1.0</td>\n",
       "      <td>0.791333</td>\n",
       "      <td>1.078160</td>\n",
       "      <td>1.689888</td>\n",
       "      <td>-0.974749</td>\n",
       "      <td>stomaged</td>\n",
       "    </tr>\n",
       "    <tr>\n",
       "      <th>11393</th>\n",
       "      <td>1.338157</td>\n",
       "      <td>1.430375</td>\n",
       "      <td>0.0</td>\n",
       "      <td>1.368343</td>\n",
       "      <td>0.806909</td>\n",
       "      <td>-0.996789</td>\n",
       "      <td>2.467082</td>\n",
       "      <td>-0.10058</td>\n",
       "      <td>0.0</td>\n",
       "      <td>2.477973</td>\n",
       "      <td>...</td>\n",
       "      <td>-0.492943</td>\n",
       "      <td>-2.189080</td>\n",
       "      <td>-0.606708</td>\n",
       "      <td>0.616750</td>\n",
       "      <td>-1.0</td>\n",
       "      <td>-0.314590</td>\n",
       "      <td>1.078160</td>\n",
       "      <td>1.581775</td>\n",
       "      <td>-0.974749</td>\n",
       "      <td>closer</td>\n",
       "    </tr>\n",
       "    <tr>\n",
       "      <th>11394</th>\n",
       "      <td>1.338157</td>\n",
       "      <td>1.430375</td>\n",
       "      <td>0.0</td>\n",
       "      <td>0.399914</td>\n",
       "      <td>0.251355</td>\n",
       "      <td>1.518357</td>\n",
       "      <td>-0.294150</td>\n",
       "      <td>-0.10058</td>\n",
       "      <td>0.0</td>\n",
       "      <td>-0.403556</td>\n",
       "      <td>...</td>\n",
       "      <td>1.478828</td>\n",
       "      <td>-2.189080</td>\n",
       "      <td>-0.606708</td>\n",
       "      <td>-2.937027</td>\n",
       "      <td>1.0</td>\n",
       "      <td>-0.922848</td>\n",
       "      <td>1.078160</td>\n",
       "      <td>1.581775</td>\n",
       "      <td>-0.974749</td>\n",
       "      <td>closer</td>\n",
       "    </tr>\n",
       "    <tr>\n",
       "      <th>11395</th>\n",
       "      <td>1.338157</td>\n",
       "      <td>1.430375</td>\n",
       "      <td>1.0</td>\n",
       "      <td>-1.052728</td>\n",
       "      <td>1.362463</td>\n",
       "      <td>2.021387</td>\n",
       "      <td>-0.294150</td>\n",
       "      <td>-0.10058</td>\n",
       "      <td>0.0</td>\n",
       "      <td>-0.403556</td>\n",
       "      <td>...</td>\n",
       "      <td>-1.478828</td>\n",
       "      <td>-2.189080</td>\n",
       "      <td>-0.606708</td>\n",
       "      <td>-2.937027</td>\n",
       "      <td>-1.0</td>\n",
       "      <td>-0.148702</td>\n",
       "      <td>1.078160</td>\n",
       "      <td>1.689888</td>\n",
       "      <td>-0.974749</td>\n",
       "      <td>stomaged</td>\n",
       "    </tr>\n",
       "  </tbody>\n",
       "</table>\n",
       "<p>11396 rows × 60 columns</p>\n",
       "</div>"
      ],
      "text/plain": [
       "          split   patchno  result         k         d         a   doubles  \\\n",
       "0     -0.090288 -0.789490     0.0  0.884129 -0.304200 -0.493760 -0.294150   \n",
       "1     -0.090288 -0.789490     1.0 -1.052728 -0.859754  0.763814 -0.294150   \n",
       "2     -0.090288 -0.789490     0.0 -0.084300  0.806909 -0.996789 -0.294150   \n",
       "3     -0.090288 -0.789490     1.0  0.884129 -0.859754  0.260784  2.467082   \n",
       "4     -0.090288 -0.789490     1.0  0.399914 -0.304200  1.266843 -0.294150   \n",
       "5     -0.090288 -0.789490     0.0  1.368343  0.806909 -0.745274 -0.294150   \n",
       "6     -0.090288 -0.789490     1.0  0.884129 -0.859754 -0.745274 -0.294150   \n",
       "7     -0.090288 -0.789490     0.0  0.399914 -0.304200 -0.745274 -0.294150   \n",
       "8     -0.090288 -0.789490     0.0 -1.052728 -0.859754 -0.996789 -0.294150   \n",
       "9     -0.090288 -0.789490     1.0 -1.052728 -0.859754  0.512299 -0.294150   \n",
       "10    -0.090288 -0.789490     1.0  1.368343 -1.415308  0.009270 -0.294150   \n",
       "11    -0.090288 -0.789490     0.0 -0.568514  1.918017 -0.493760 -0.294150   \n",
       "12    -0.090288 -0.789490     1.0 -0.568514 -0.304200  0.260784 -0.294150   \n",
       "13    -0.090288 -0.789490     0.0 -0.084300  0.251355  0.009270 -0.294150   \n",
       "14    -0.090288 -0.789490     0.0  0.399914  1.362463 -1.248304 -0.294150   \n",
       "15    -0.090288 -0.789490     1.0  1.368343 -1.415308  0.763814 -0.294150   \n",
       "16    -0.090288 -0.789490     1.0 -0.084300  0.251355  0.009270 -0.294150   \n",
       "17    -0.090288 -0.789490     0.0 -0.568514 -0.304200 -0.996789 -0.294150   \n",
       "18    -0.090288 -0.789490     0.0 -0.084300  3.029126 -1.248304 -0.294150   \n",
       "19    -0.090288 -0.789490     1.0  1.368343 -0.304200  1.518357 -0.294150   \n",
       "20    -0.090288 -0.789490     1.0 -0.084300 -0.304200  0.009270 -0.294150   \n",
       "21    -0.090288 -0.789490     0.0 -0.568514  0.806909 -0.996789 -0.294150   \n",
       "22    -0.090288 -0.789490     1.0  0.884129 -1.415308  0.512299 -0.294150   \n",
       "23    -0.090288 -0.789490     0.0  1.368343  1.362463 -1.499818 -0.294150   \n",
       "24    -0.090288 -0.789490     0.0 -0.084300 -0.304200  0.009270 -0.294150   \n",
       "25    -0.090288 -0.789490     1.0  2.336771 -0.859754 -0.996789  2.467082   \n",
       "26    -0.090288 -0.789490     1.0 -0.084300 -0.859754 -0.493760 -0.294150   \n",
       "27    -0.090288 -0.789490     0.0 -0.568514 -0.859754 -1.499818 -0.294150   \n",
       "28    -0.090288 -0.789490     1.0 -0.084300 -0.304200  1.015328 -0.294150   \n",
       "29    -0.090288 -0.789490     0.0 -0.568514 -0.304200 -0.745274 -0.294150   \n",
       "...         ...       ...     ...       ...       ...       ...       ...   \n",
       "11366  2.194589  1.512592     1.0  0.399914 -0.859754  0.260784  2.467082   \n",
       "11367  2.194589  1.512592     0.0 -1.052728  2.473571 -0.242245 -0.294150   \n",
       "11368  2.194589  1.512592     0.0 -0.568514 -0.859754 -1.248304 -0.294150   \n",
       "11369  2.194589  1.512592     1.0  0.399914 -1.415308  0.009270 -0.294150   \n",
       "11370  2.194589  1.512592     1.0 -0.084300 -0.304200  1.015328 -0.294150   \n",
       "11371  2.194589  1.512592     0.0 -0.568514  1.362463 -0.996789 -0.294150   \n",
       "11372  2.194589  1.512592     1.0 -0.568514 -0.304200 -0.745274 -0.294150   \n",
       "11373  2.194589  1.512592     0.0 -1.052728 -0.859754 -0.996789 -0.294150   \n",
       "11374  2.194589  1.512592     0.0 -0.084300  1.362463 -0.996789 -0.294150   \n",
       "11375  2.194589  1.512592     1.0  0.884129  0.251355  0.512299  2.467082   \n",
       "11376  2.194589  1.512592     1.0 -0.568514  0.251355  0.763814 -0.294150   \n",
       "11377  2.194589  1.512592     0.0  1.852557 -0.859754 -0.493760  2.467082   \n",
       "11378  2.194589  1.512592     1.0  1.368343  0.806909  0.512299  2.467082   \n",
       "11379  2.194589  1.512592     0.0 -1.052728  1.362463  0.763814 -0.294150   \n",
       "11380  2.194589  1.512592     1.0 -0.084300 -0.304200  2.272901 -0.294150   \n",
       "11381  2.194589  1.512592     0.0 -1.052728  0.806909 -1.248304 -0.294150   \n",
       "11382  2.194589  1.512592     1.0 -0.568514 -0.304200  1.015328 -0.294150   \n",
       "11383  2.194589  1.512592     0.0 -0.084300  0.806909 -0.242245 -0.294150   \n",
       "11384  2.194589  1.512592     0.0 -1.052728  0.806909  0.009270 -0.294150   \n",
       "11385  2.194589  1.512592     1.0 -0.084300 -0.859754  1.015328 -0.294150   \n",
       "11386  2.194589  1.512592     1.0 -0.568514 -0.304200  0.512299 -0.294150   \n",
       "11387  2.194589  1.512592     0.0 -0.084300  0.251355 -1.248304 -0.294150   \n",
       "11388  1.338157  1.430375     0.0 -0.568514  0.251355 -0.996789 -0.294150   \n",
       "11389  1.338157  1.430375     1.0  2.820986 -0.859754 -0.493760  2.467082   \n",
       "11390  1.338157  1.430375     0.0  0.399914  0.806909 -0.745274  2.467082   \n",
       "11391  1.338157  1.430375     1.0  0.399914  0.806909  0.260784 -0.294150   \n",
       "11392  1.338157  1.430375     1.0  0.884129 -0.859754  1.266843 -0.294150   \n",
       "11393  1.338157  1.430375     0.0  1.368343  0.806909 -0.996789  2.467082   \n",
       "11394  1.338157  1.430375     0.0  0.399914  0.251355  1.518357 -0.294150   \n",
       "11395  1.338157  1.430375     1.0 -1.052728  1.362463  2.021387 -0.294150   \n",
       "\n",
       "       triples  pentas        fb  ...   csdat15  datediff  Encoded_league  \\\n",
       "0     -0.10058     0.0  2.477973  ...  2.683799  0.719855        0.280163   \n",
       "1     -0.10058     0.0 -0.403556  ... -2.683799  0.719855        0.280163   \n",
       "2     -0.10058     0.0  2.477973  ...  0.054771  0.719855        0.280163   \n",
       "3     -0.10058     0.0 -0.403556  ... -0.054771  0.719855        0.280163   \n",
       "4     -0.10058     0.0 -0.403556  ...  0.492943  0.719855        0.280163   \n",
       "5     -0.10058     0.0 -0.403556  ... -0.492943  0.719855        0.280163   \n",
       "6     -0.10058     0.0 -0.403556  ... -2.519485  0.719855        0.280163   \n",
       "7     -0.10058     0.0 -0.403556  ...  2.519485  0.719855        0.280163   \n",
       "8     -0.10058     0.0 -0.403556  ...  1.916999  0.719855        0.280163   \n",
       "9     -0.10058     0.0 -0.403556  ... -1.916999  0.719855        0.280163   \n",
       "10    -0.10058     0.0 -0.403556  ... -1.424057  0.715400        0.280163   \n",
       "11    -0.10058     0.0 -0.403556  ...  1.424057  0.715400        0.280163   \n",
       "12    -0.10058     0.0 -0.403556  ...  1.259742  0.715400        0.280163   \n",
       "13    -0.10058     0.0 -0.403556  ... -1.259742  0.715400        0.280163   \n",
       "14    -0.10058     0.0 -0.403556  ...  0.164314  0.715400        0.280163   \n",
       "15    -0.10058     0.0 -0.403556  ... -0.164314  0.715400        0.280163   \n",
       "16    -0.10058     0.0 -0.403556  ... -0.985885  0.706477       -0.384991   \n",
       "17    -0.10058     0.0  2.477973  ...  0.985885  0.706477       -0.384991   \n",
       "18    -0.10058     0.0 -0.403556  ... -1.643142  0.706477       -0.384991   \n",
       "19    -0.10058     0.0  2.477973  ...  1.643142  0.706477       -0.384991   \n",
       "20    -0.10058     0.0 -0.403556  ... -0.712028  0.710941        0.280163   \n",
       "21    -0.10058     0.0 -0.403556  ...  0.712028  0.710941        0.280163   \n",
       "22    -0.10058     0.0 -0.403556  ...  0.273857  0.710941        0.280163   \n",
       "23    -0.10058     0.0  2.477973  ... -0.273857  0.710941        0.280163   \n",
       "24    -0.10058     0.0 -0.403556  ... -0.273857  0.710941        0.280163   \n",
       "25    -0.10058     0.0  2.477973  ...  0.273857  0.710941        0.280163   \n",
       "26    -0.10058     0.0  2.477973  ... -0.383400  0.710941        0.280163   \n",
       "27    -0.10058     0.0 -0.403556  ...  0.383400  0.710941        0.280163   \n",
       "28    -0.10058     0.0 -0.403556  ...  0.273857  0.706477       -0.384991   \n",
       "29    -0.10058     0.0 -0.403556  ... -0.273857  0.706477       -0.384991   \n",
       "...        ...     ...       ...  ...       ...       ...             ...   \n",
       "11366 -0.10058     0.0 -0.403556  ...  1.971771 -2.216284       -1.271862   \n",
       "11367 -0.10058     0.0 -0.403556  ... -1.971771 -2.216284       -1.271862   \n",
       "11368 -0.10058     0.0 -0.403556  ... -0.712028 -2.216284       -1.271862   \n",
       "11369 -0.10058     0.0 -0.403556  ...  0.712028 -2.216284       -1.271862   \n",
       "11370 -0.10058     0.0  2.477973  ... -0.054771 -2.225398       -1.271862   \n",
       "11371 -0.10058     0.0 -0.403556  ...  0.054771 -2.225398       -1.271862   \n",
       "11372 -0.10058     0.0  2.477973  ...  0.054771 -2.225398       -1.271862   \n",
       "11373 -0.10058     0.0 -0.403556  ... -0.054771 -2.225398       -1.271862   \n",
       "11374 -0.10058     0.0 -0.403556  ... -0.602486 -2.225398       -1.271862   \n",
       "11375 -0.10058     0.0 -0.403556  ...  0.602486 -2.225398       -1.271862   \n",
       "11376 -0.10058     0.0 -0.403556  ... -0.438171 -2.225398       -1.271862   \n",
       "11377 -0.10058     0.0 -0.403556  ...  0.438171 -2.225398       -1.271862   \n",
       "11378 -0.10058     0.0  2.477973  ... -0.109543 -2.225398       -1.271862   \n",
       "11379 -0.10058     0.0 -0.403556  ...  0.109543 -2.225398       -1.271862   \n",
       "11380 -0.10058     0.0  2.477973  ...  0.328628 -2.234535       -1.271862   \n",
       "11381 -0.10058     0.0 -0.403556  ... -0.328628 -2.234535       -1.271862   \n",
       "11382 -0.10058     0.0 -0.403556  ...  0.438171 -2.234535       -1.271862   \n",
       "11383 -0.10058     0.0 -0.403556  ... -0.438171 -2.234535       -1.271862   \n",
       "11384 -0.10058     0.0 -0.403556  ...  0.164314 -2.234535       -1.271862   \n",
       "11385 -0.10058     0.0 -0.403556  ... -0.164314 -2.234535       -1.271862   \n",
       "11386 -0.10058     0.0 -0.403556  ... -0.876343 -2.234535       -1.271862   \n",
       "11387 -0.10058     0.0 -0.403556  ...  0.876343 -2.234535       -1.271862   \n",
       "11388 -0.10058     0.0  2.477973  ...  0.164314 -2.180057       -0.606708   \n",
       "11389 -0.10058     0.0 -0.403556  ... -0.164314 -2.180057       -0.606708   \n",
       "11390 -0.10058     0.0 -0.403556  ...  0.219086 -2.180057       -0.606708   \n",
       "11391 -0.10058     0.0  2.477973  ... -0.219086 -2.180057       -0.606708   \n",
       "11392 -0.10058     0.0 -0.403556  ...  0.492943 -2.189080       -0.606708   \n",
       "11393 -0.10058     0.0  2.477973  ... -0.492943 -2.189080       -0.606708   \n",
       "11394 -0.10058     0.0 -0.403556  ...  1.478828 -2.189080       -0.606708   \n",
       "11395 -0.10058     0.0 -0.403556  ... -1.478828 -2.189080       -0.606708   \n",
       "\n",
       "       Encoded_game  Encoded_side  Encoded_champion  Encoded_Year  \\\n",
       "0          0.838861           1.0         -1.475810     -0.927506   \n",
       "1          0.838861          -1.0         -1.088737     -0.927506   \n",
       "2         -0.715916           1.0         -1.641698     -0.927506   \n",
       "3         -0.715916          -1.0         -0.148702     -0.927506   \n",
       "4          0.616750           1.0          1.123110     -0.927506   \n",
       "5          0.616750          -1.0         -1.641698     -0.927506   \n",
       "6          0.838861           1.0          1.123110     -0.927506   \n",
       "7          0.838861          -1.0         -1.475810     -0.927506   \n",
       "8         -0.715916           1.0         -1.475810     -0.927506   \n",
       "9         -0.715916          -1.0         -1.641698     -0.927506   \n",
       "10         0.838861           1.0         -1.641698     -0.927506   \n",
       "11         0.838861          -1.0          0.072483     -0.927506   \n",
       "12        -0.715916           1.0          0.072483     -0.927506   \n",
       "13        -0.715916          -1.0         -1.475810     -0.927506   \n",
       "14        -0.715916           1.0          0.072483     -0.927506   \n",
       "15        -0.715916          -1.0         -0.148702     -0.927506   \n",
       "16         0.838861           1.0         -1.475810     -0.927506   \n",
       "17         0.838861          -1.0          1.123110     -0.927506   \n",
       "18        -0.715916           1.0          1.123110     -0.927506   \n",
       "19        -0.715916          -1.0         -1.475810     -0.927506   \n",
       "20        -0.715916           1.0         -1.641698     -0.927506   \n",
       "21        -0.715916          -1.0          1.012518     -0.927506   \n",
       "22         0.616750           1.0          1.288999     -0.927506   \n",
       "23         0.616750          -1.0         -1.641698     -0.927506   \n",
       "24         0.838861           1.0          0.072483     -0.927506   \n",
       "25         0.838861          -1.0         -1.641698     -0.927506   \n",
       "26        -0.715916           1.0         -1.475810     -0.927506   \n",
       "27        -0.715916          -1.0          0.736037     -0.927506   \n",
       "28         0.838861           1.0          1.123110     -0.927506   \n",
       "29         0.838861          -1.0         -0.425183     -0.927506   \n",
       "...             ...           ...               ...           ...   \n",
       "11366     -0.715916           1.0         -1.752291      1.078160   \n",
       "11367     -0.715916          -1.0          0.625445      1.078160   \n",
       "11368      0.616750           1.0         -1.641698      1.078160   \n",
       "11369      0.616750          -1.0          0.072483      1.078160   \n",
       "11370     -2.937027           1.0         -0.148702      1.078160   \n",
       "11371     -2.937027          -1.0          0.072483      1.078160   \n",
       "11372      0.838861           1.0          0.625445      1.078160   \n",
       "11373      0.838861          -1.0         -1.752291      1.078160   \n",
       "11374     -0.715916           1.0          0.127779      1.078160   \n",
       "11375     -0.715916          -1.0          1.344295      1.078160   \n",
       "11376      0.616750           1.0          1.344295      1.078160   \n",
       "11377      0.616750          -1.0          0.957222      1.078160   \n",
       "11378     -2.937027           1.0         -0.314590      1.078160   \n",
       "11379     -2.937027          -1.0          1.288999      1.078160   \n",
       "11380     -3.159138           1.0          0.570148      1.078160   \n",
       "11381     -3.159138          -1.0          1.344295      1.078160   \n",
       "11382      0.838861           1.0         -1.752291      1.078160   \n",
       "11383      0.838861          -1.0          0.570148      1.078160   \n",
       "11384     -0.715916           1.0          1.344295      1.078160   \n",
       "11385     -0.715916          -1.0         -0.148702      1.078160   \n",
       "11386      0.616750           1.0         -0.148702      1.078160   \n",
       "11387      0.616750          -1.0          0.791333      1.078160   \n",
       "11388      0.838861           1.0          0.127779      1.078160   \n",
       "11389      0.838861          -1.0         -1.475810      1.078160   \n",
       "11390     -0.715916           1.0         -1.475810      1.078160   \n",
       "11391     -0.715916          -1.0          0.127779      1.078160   \n",
       "11392      0.616750           1.0          0.791333      1.078160   \n",
       "11393      0.616750          -1.0         -0.314590      1.078160   \n",
       "11394     -2.937027           1.0         -0.922848      1.078160   \n",
       "11395     -2.937027          -1.0         -0.148702      1.078160   \n",
       "\n",
       "       Encoded_team  Encoded_culture     player  \n",
       "0          0.554705        -1.432292     beyond  \n",
       "1          1.041212        -1.432292       umti  \n",
       "2          1.041212        -1.432292       umti  \n",
       "3          0.554705        -1.432292     beyond  \n",
       "4          0.554705        -1.432292     beyond  \n",
       "5          1.041212        -1.432292       umti  \n",
       "6          0.473621        -1.432292       cuzz  \n",
       "7          0.041171        -1.432292      score  \n",
       "8          0.041171        -1.432292      score  \n",
       "9          0.473621        -1.432292       cuzz  \n",
       "10        -0.607505        -1.432292    malrang  \n",
       "11         0.311452        -1.432292     spirit  \n",
       "12         0.311452        -1.432292     spirit  \n",
       "13        -0.607505        -1.432292    malrang  \n",
       "14        -1.148068        -1.432292     peanut  \n",
       "15         0.689846        -1.432292   ambition  \n",
       "16         1.392578         1.770511     jankos  \n",
       "17        -0.850758         1.770511     trashy  \n",
       "18        -0.850758         1.770511     trashy  \n",
       "19         1.392578         1.770511     jankos  \n",
       "20         0.284424        -1.432292      bless  \n",
       "21         0.473621        -1.432292       cuzz  \n",
       "22         0.473621        -1.432292       cuzz  \n",
       "23         0.284424        -1.432292      bless  \n",
       "24         0.014143        -1.432292  seonghwan  \n",
       "25         1.041212        -1.432292       umti  \n",
       "26         1.041212        -1.432292       umti  \n",
       "27         0.014143        -1.432292  seonghwan  \n",
       "28        -1.634574         1.770511     broxah  \n",
       "29        -1.283208         1.770511    maxlore  \n",
       "...             ...              ...        ...  \n",
       "11366     -1.499434        -0.517205      raise  \n",
       "11367     -0.904814        -0.517205     gemini  \n",
       "11368     -0.904814        -0.517205     gemini  \n",
       "11369     -1.499434        -0.517205      raise  \n",
       "11370     -1.499434        -0.517205      raise  \n",
       "11371     -0.904814        -0.517205     gemini  \n",
       "11372     -1.337265        -0.517205    breaker  \n",
       "11373      1.203381        -0.517205       bugi  \n",
       "11374     -1.337265        -0.517205    breaker  \n",
       "11375      1.203381        -0.517205       bugi  \n",
       "11376     -1.337265        -0.517205    breaker  \n",
       "11377      1.203381        -0.517205       bugi  \n",
       "11378      1.203381        -0.517205       bugi  \n",
       "11379     -1.337265        -0.517205    breaker  \n",
       "11380     -1.337265        -0.517205    breaker  \n",
       "11381      1.203381        -0.517205       bugi  \n",
       "11382     -1.499434        -0.517205     empt2y  \n",
       "11383     -1.337265        -0.517205    breaker  \n",
       "11384     -1.337265        -0.517205    breaker  \n",
       "11385     -1.499434        -0.517205     empt2y  \n",
       "11386     -1.499434        -0.517205     empt2y  \n",
       "11387     -1.337265        -0.517205    breaker  \n",
       "11388      1.689888        -0.974749   stomaged  \n",
       "11389      1.581775        -0.974749     closer  \n",
       "11390      1.581775        -0.974749     closer  \n",
       "11391      1.689888        -0.974749   stomaged  \n",
       "11392      1.689888        -0.974749   stomaged  \n",
       "11393      1.581775        -0.974749     closer  \n",
       "11394      1.581775        -0.974749     closer  \n",
       "11395      1.689888        -0.974749   stomaged  \n",
       "\n",
       "[11396 rows x 60 columns]"
      ]
     },
     "execution_count": 13,
     "metadata": {},
     "output_type": "execute_result"
    }
   ],
   "source": [
    "# Visualize data\n",
    "data_raw"
   ]
  },
  {
   "cell_type": "code",
   "execution_count": 14,
   "metadata": {
    "ExecuteTime": {
     "end_time": "2019-07-19T15:56:56.338756Z",
     "start_time": "2019-07-19T15:56:56.253151Z"
    }
   },
   "outputs": [
    {
     "name": "stdout",
     "output_type": "stream",
     "text": [
      "Set of the different column types captured by the data:  {dtype('float64'), dtype('O')}\n",
      "The number of missing values in the data:  0\n"
     ]
    }
   ],
   "source": [
    "# Check all values are numeric\n",
    "print(\"Set of the different column types captured by the data: \", set(data_raw.dtypes))\n",
    "# Check no missing data\n",
    "print(\"The number of missing values in the data: \", sum(data_raw.isnull().any()))"
   ]
  },
  {
   "cell_type": "markdown",
   "metadata": {},
   "source": [
    "## 2. Split data in test and train data"
   ]
  },
  {
   "cell_type": "code",
   "execution_count": 15,
   "metadata": {
    "ExecuteTime": {
     "end_time": "2019-07-19T15:56:56.514784Z",
     "start_time": "2019-07-19T15:56:56.341623Z"
    },
    "scrolled": true
   },
   "outputs": [],
   "source": [
    "# Create copy of data for model building (removing team feature)\n",
    "data = data_raw.copy()\n",
    "data = data.drop(labels = ['player', 'split', 'patchno', 'Encoded_league', 'Encoded_game', 'Encoded_Year', 'Encoded_culture'], axis=1)"
   ]
  },
  {
   "cell_type": "code",
   "execution_count": 16,
   "metadata": {
    "ExecuteTime": {
     "end_time": "2019-07-19T15:56:56.573736Z",
     "start_time": "2019-07-19T15:56:56.518240Z"
    }
   },
   "outputs": [],
   "source": [
    "# Split the data\n",
    "x_train, x_test, y_train, y_test = data_splitter(data, 'result')"
   ]
  },
  {
   "cell_type": "code",
   "execution_count": 17,
   "metadata": {
    "ExecuteTime": {
     "end_time": "2019-07-19T15:56:56.620435Z",
     "start_time": "2019-07-19T15:56:56.577556Z"
    }
   },
   "outputs": [
    {
     "name": "stdout",
     "output_type": "stream",
     "text": [
      "The data is centered:  True \n",
      "The data is standardized:  False\n"
     ]
    }
   ],
   "source": [
    "# Check data is standardized and centered\n",
    "print(\"The data is centered: \", \n",
    "      all([int(x) for x in round(x_train.mean(axis = 0), 4)]) == 0,\n",
    "     \"\\nThe data is standardized: \",\n",
    "      all([int(x) for x in round(x_train.var(axis = 0), 4)]) == 1)"
   ]
  },
  {
   "cell_type": "markdown",
   "metadata": {},
   "source": [
    "## 3. Model creation"
   ]
  },
  {
   "cell_type": "code",
   "execution_count": 18,
   "metadata": {
    "ExecuteTime": {
     "end_time": "2019-07-19T15:56:56.644190Z",
     "start_time": "2019-07-19T15:56:56.624480Z"
    }
   },
   "outputs": [],
   "source": [
    "# Create dictionary to capture model summary\n",
    "logistic_L1penalty_model_dict, ridge_model_dict, elasticnet_model_dict, rf_model_dict, model_summary_dict = dict(), dict(), dict(), dict(), dict()"
   ]
  },
  {
   "cell_type": "markdown",
   "metadata": {},
   "source": [
    "### 3.1 Logistic regression with L1 penalty (Lasso classification model)\n",
    "Here, the recursive feature elimination techinique is used to initialize L1 penalization in our logistic regression model and hence allows implementation of lasso regularization."
   ]
  },
  {
   "cell_type": "markdown",
   "metadata": {},
   "source": [
    "##### Recursive feature elimination\n",
    "Given an external estimator that assigns weights to features (~coefficients), the goal of recursive feature elimination is to select features by recursively considering smaller and smaller sets of features. The estimator is trained on the initial set of features and the importance of each feature is obtained. Based on this information the least important features are pruned from the current set of features. This procedure is recursively repeated on the pruned set until the desired number of features to select is reached. To get the optimal number of features CV is used."
   ]
  },
  {
   "cell_type": "code",
   "execution_count": 19,
   "metadata": {
    "ExecuteTime": {
     "end_time": "2019-07-19T15:58:52.012234Z",
     "start_time": "2019-07-19T15:56:56.646779Z"
    },
    "scrolled": true
   },
   "outputs": [],
   "source": [
    "# By using the liblinear solver the L1 penalty is implemented\n",
    "logreg = LogisticRegression(solver='liblinear')\n",
    "rfe = RFECV(logreg, cv = 5)\n",
    "rfe = rfe.fit(x_train, y_train)"
   ]
  },
  {
   "cell_type": "code",
   "execution_count": 20,
   "metadata": {
    "ExecuteTime": {
     "end_time": "2019-07-19T15:58:52.119611Z",
     "start_time": "2019-07-19T15:58:52.018608Z"
    }
   },
   "outputs": [
    {
     "name": "stdout",
     "output_type": "stream",
     "text": [
      "Based on the recursive elimination method the following 13 features are selected:  ['d', 'a', 'kpm', 'dmgtochampsperminute', 'earnedgoldshare', 'wardshare', 'totalgold', 'earnedgpm', 'goldspent', 'gspd', 'gdat10', 'goldat15', 'gdat15']\n"
     ]
    }
   ],
   "source": [
    "# Intermediate summary\n",
    "selected_features_rfe = [col for col, bool_importance in zip(x_train.columns.values, rfe.support_) if bool_importance]\n",
    "print(\"Based on the recursive elimination method the following\", len(selected_features_rfe),\n",
    "      \"features are selected: \", selected_features_rfe)"
   ]
  },
  {
   "cell_type": "markdown",
   "metadata": {},
   "source": [
    "Remark: The solver used by the logistic regression model is 'liblinear' which applies automatic parameter selection (L1 regularization) and is recommended when using a high dimensional dataset."
   ]
  },
  {
   "cell_type": "markdown",
   "metadata": {},
   "source": [
    "##### Model fit"
   ]
  },
  {
   "cell_type": "code",
   "execution_count": 21,
   "metadata": {
    "ExecuteTime": {
     "end_time": "2019-07-19T15:58:52.364378Z",
     "start_time": "2019-07-19T15:58:52.135673Z"
    }
   },
   "outputs": [],
   "source": [
    "# Fit the logistic regression model\n",
    "logistic_L1penalty_model = LogisticRegression(solver='liblinear')\n",
    "fitted_logistic_L1penalty_model = logistic_L1penalty_model.fit(x_train[selected_features_rfe], y_train)\n",
    "\n",
    "# Save best approximation alpha after CV\n",
    "logistic_L1penalty_model_dict['regularisation_param'] = np.nan"
   ]
  },
  {
   "cell_type": "markdown",
   "metadata": {
    "ExecuteTime": {
     "end_time": "2019-03-19T10:26:19.552084Z",
     "start_time": "2019-03-19T10:26:19.547199Z"
    }
   },
   "source": [
    "##### Model accuracy evaluation"
   ]
  },
  {
   "cell_type": "code",
   "execution_count": 22,
   "metadata": {
    "ExecuteTime": {
     "end_time": "2019-07-19T15:58:55.659885Z",
     "start_time": "2019-07-19T15:58:52.366700Z"
    }
   },
   "outputs": [
    {
     "name": "stdout",
     "output_type": "stream",
     "text": [
      "Based on a threshold of 0.5 the following summary statistics can be obtained:\n",
      " ----------------------------------------------------------------------------------------------------\n",
      "792 true positives over all positives (the wins that were correctly classified).\n",
      "59 false positives (the wins that were wrongly classified).\n",
      "809 true negatives (the losses that were correctly classified).\n",
      "50 false negatives (the losses that were wrongly classified).\n",
      "\n",
      "The sensitivity is:  0.9406175771971497\n",
      "The specificity is:  0.9320276497695853\n",
      "\n",
      "\n",
      "Accuracy: 0.9362573099415205 \n",
      " ----------------------------------------------------------------------------------------------------\n"
     ]
    },
    {
     "data": {
      "image/png": "[encoded data removed]",
      "text/plain": [
       "<Figure size 432x288 with 1 Axes>"
      ]
     },
     "metadata": {
      "needs_background": "light"
     },
     "output_type": "display_data"
    },
    {
     "name": "stdout",
     "output_type": "stream",
     "text": [
      "Confusion matrix :\n",
      " ----------------------------------------------------------------------------------------------------\n"
     ]
    },
    {
     "data": {
      "image/png": "[encoded data removed]",
      "text/plain": [
       "<Figure size 432x288 with 2 Axes>"
      ]
     },
     "metadata": {
      "needs_background": "light"
     },
     "output_type": "display_data"
    },
    {
     "name": "stdout",
     "output_type": "stream",
     "text": [
      "Normalized confusion matrix :\n",
      " ----------------------------------------------------------------------------------------------------\n"
     ]
    },
    {
     "data": {
      "image/png": "[encoded data removed]",
      "text/plain": [
       "<Figure size 432x288 with 2 Axes>"
      ]
     },
     "metadata": {
      "needs_background": "light"
     },
     "output_type": "display_data"
    }
   ],
   "source": [
    "# Model accuracy evaluation metrics\n",
    "logistic_L1penalty_model_dict['sensitivity'], logistic_L1penalty_model_dict['specificity'], logistic_L1penalty_model_dict['auc'], logistic_L1penalty_model_dict['accuracy'] = binary_class_evaluator(fitted_logistic_L1penalty_model, x_test[selected_features_rfe], y_test)\n",
    "\n",
    "# Plot non-normalized and normalized confusion matrix\n",
    "plot_confusion_matrix(fitted_logistic_L1penalty_model, x_test[selected_features_rfe], y_test, classes=['Loss', 'Win'])\n",
    "plot_confusion_matrix(fitted_logistic_L1penalty_model, x_test[selected_features_rfe], y_test, classes=['Loss', 'Win'], normalize=True)"
   ]
  },
  {
   "cell_type": "markdown",
   "metadata": {},
   "source": [
    "##### Feature importance evaluator"
   ]
  },
  {
   "cell_type": "code",
   "execution_count": 23,
   "metadata": {
    "ExecuteTime": {
     "end_time": "2019-07-19T15:58:55.761584Z",
     "start_time": "2019-07-19T15:58:55.662081Z"
    }
   },
   "outputs": [
    {
     "name": "stdout",
     "output_type": "stream",
     "text": [
      "Summary of the important features and their corresponding coefficients:\n",
      " ----------------------------------------------------------------------------------------------------\n",
      "earnedgpm : 5.973595186223526\n",
      "goldspent : -4.318986604708919\n",
      "totalgold : 3.9816938341112786\n",
      "earnedgoldshare : -3.570217547405669\n",
      "a : 1.224288214226015\n",
      "d : -1.201812970803445\n",
      "kpm : 0.7478169196816328\n",
      "gspd : 0.6070674513468053\n",
      "gdat15 : -0.5851165301235528\n",
      "dmgtochampsperminute : -0.48695218599697954\n"
     ]
    }
   ],
   "source": [
    "# Show the sorted features indicating the highest importance in predicting the target\n",
    "logistic_L1penalty_model_dict['feature_importance'] = important_features_extractor(fitted_logistic_L1penalty_model, selected_features_rfe)"
   ]
  },
  {
   "cell_type": "code",
   "execution_count": 24,
   "metadata": {
    "ExecuteTime": {
     "end_time": "2019-07-19T16:54:16.169743Z",
     "start_time": "2019-07-19T15:58:55.765322Z"
    },
    "scrolled": true
   },
   "outputs": [
    {
     "data": {
      "image/png": "[encoded data removed]",
      "text/plain": [
       "<Figure size 432x288 with 1 Axes>"
      ]
     },
     "metadata": {
      "needs_background": "light"
     },
     "output_type": "display_data"
    }
   ],
   "source": [
    "# Visualize the use of different regularization parameters on coefficient estimates for Lasso regression\n",
    "n_alphas, coefs = 200, []\n",
    "alphas = np.logspace(-10, -2, n_alphas)\n",
    "for a in alphas:\n",
    "    lasso = Lasso(alpha = a, fit_intercept = False)\n",
    "    lasso.fit(x_train, y_train)\n",
    "    coefs.append(lasso.coef_)\n",
    "\n",
    "# Visualize the regularization curve\n",
    "ax = plt.gca()\n",
    "ax.plot(alphas, coefs)\n",
    "ax.set_xscale('log')\n",
    "ax.set_xlim(ax.get_xlim()[::-1])  # reverse axis\n",
    "plt.xlabel('alpha')\n",
    "plt.ylabel('weights')\n",
    "plt.title('Lasso coefficients as a function of the regularization')\n",
    "plt.axis('tight')\n",
    "plt.show()"
   ]
  },
  {
   "cell_type": "markdown",
   "metadata": {},
   "source": [
    "### 3.2 Ridge classification model\n",
    "Ridge regression covers a machine learning technique that solves a regression model where the loss function is the linear least squares function and regularization is given by the l2-norm.\n",
    "\n",
    "To fit the ridge classification model the ridge classifier with build in cross-validation estimator is used from the sklearn package. The CV classifier allows us to evaluate different regularization parameters. Here, the array of alpha values that is explored ranges from 0.1 to 1. in steps of 0.025.\n",
    "\n",
    "If the alpha value is 0, a OLS model seems to best fit the data. So, the smaller the value of alpha, the higher the magnitude of the coefficients. No intercept is calculated for the model, because the data is centered."
   ]
  },
  {
   "cell_type": "markdown",
   "metadata": {},
   "source": [
    "##### Model fit"
   ]
  },
  {
   "cell_type": "code",
   "execution_count": 25,
   "metadata": {
    "ExecuteTime": {
     "end_time": "2019-07-19T16:54:25.803445Z",
     "start_time": "2019-07-19T16:54:16.179382Z"
    }
   },
   "outputs": [],
   "source": [
    "# Fit the regression model for the optimal alpha \n",
    "alphas = np.arange(0.0, 1.0, 0.025)\n",
    "ridge_model = RidgeClassifierCV(alphas, fit_intercept= False, cv= 5)\n",
    "fitted_ridge_model = ridge_model.fit(x_train, y_train)\n",
    "\n",
    "# Save best approximation alpha after CV\n",
    "ridge_model_dict['regularisation_param'] = fitted_ridge_model.alpha_"
   ]
  },
  {
   "cell_type": "markdown",
   "metadata": {},
   "source": [
    "##### Model accuracy evaluation"
   ]
  },
  {
   "cell_type": "code",
   "execution_count": 26,
   "metadata": {
    "ExecuteTime": {
     "end_time": "2019-07-19T16:54:28.203721Z",
     "start_time": "2019-07-19T16:54:25.807752Z"
    }
   },
   "outputs": [
    {
     "name": "stdout",
     "output_type": "stream",
     "text": [
      "Based on a threshold of 0.5 the following summary statistics can be obtained:\n",
      " ----------------------------------------------------------------------------------------------------\n",
      "788 true positives over all positives (the wins that were correctly classified).\n",
      "64 false positives (the wins that were wrongly classified).\n",
      "804 true negatives (the losses that were correctly classified).\n",
      "54 false negatives (the losses that were wrongly classified).\n",
      "\n",
      "The sensitivity is:  0.9358669833729216\n",
      "The specificity is:  0.9262672811059908\n",
      "\n",
      "\n",
      "Accuracy: 0.9309941520467836 \n",
      " ----------------------------------------------------------------------------------------------------\n"
     ]
    },
    {
     "data": {
      "image/png": "[encoded data removed]",
      "text/plain": [
       "<Figure size 432x288 with 1 Axes>"
      ]
     },
     "metadata": {
      "needs_background": "light"
     },
     "output_type": "display_data"
    },
    {
     "name": "stdout",
     "output_type": "stream",
     "text": [
      "Confusion matrix :\n",
      " ----------------------------------------------------------------------------------------------------\n"
     ]
    },
    {
     "data": {
      "image/png": "[encoded data removed]",
      "text/plain": [
       "<Figure size 432x288 with 2 Axes>"
      ]
     },
     "metadata": {
      "needs_background": "light"
     },
     "output_type": "display_data"
    },
    {
     "name": "stdout",
     "output_type": "stream",
     "text": [
      "Normalized confusion matrix :\n",
      " ----------------------------------------------------------------------------------------------------\n"
     ]
    },
    {
     "data": {
      "image/png": "[encoded data removed]",
      "text/plain": [
       "<Figure size 432x288 with 2 Axes>"
      ]
     },
     "metadata": {
      "needs_background": "light"
     },
     "output_type": "display_data"
    }
   ],
   "source": [
    "# Model accuracy evaluation metrics\n",
    "ridge_model_dict['sensitivity'], ridge_model_dict['specificity'], ridge_model_dict['auc'], ridge_model_dict['accuracy'] = binary_class_evaluator(fitted_ridge_model, x_test, y_test)\n",
    "\n",
    "# Plot non-normalized and normalized confusion matrix\n",
    "plot_confusion_matrix(fitted_ridge_model, x_test,y_test, classes=['Loss', 'Win'])\n",
    "plot_confusion_matrix(fitted_ridge_model, x_test,y_test, classes=['Loss', 'Win'], normalize=True)"
   ]
  },
  {
   "cell_type": "markdown",
   "metadata": {
    "ExecuteTime": {
     "end_time": "2019-03-19T09:17:32.286353Z",
     "start_time": "2019-03-19T09:17:31.991148Z"
    }
   },
   "source": [
    "##### Feature importance evaluator"
   ]
  },
  {
   "cell_type": "code",
   "execution_count": 27,
   "metadata": {
    "ExecuteTime": {
     "end_time": "2019-07-19T16:54:28.223370Z",
     "start_time": "2019-07-19T16:54:28.214411Z"
    },
    "scrolled": true
   },
   "outputs": [
    {
     "name": "stdout",
     "output_type": "stream",
     "text": [
      "Summary of the important features and their corresponding coefficients:\n",
      " ----------------------------------------------------------------------------------------------------\n",
      "goldspent : -0.5479370949136262\n",
      "totalgold : 0.5431079986658595\n",
      "earnedgpm : 0.5443460020827895\n",
      "earnedgoldshare : -0.3301221944557387\n",
      "dmgtochampsperminute : -0.311535547514889\n",
      "a : 0.25981408395543026\n",
      "dmgtochamps : 0.24408015358254928\n",
      "d : -0.23082974081523613\n",
      "wards : -0.21596880040645397\n",
      "wpm : 0.1747716332677159\n"
     ]
    }
   ],
   "source": [
    "# Show the sorted features indicating the highest importance in predicting the target\n",
    "ridge_model_dict['feature_importance'] = important_features_extractor(fitted_ridge_model, x_train.columns.values)"
   ]
  },
  {
   "cell_type": "code",
   "execution_count": 28,
   "metadata": {
    "ExecuteTime": {
     "end_time": "2019-07-19T16:54:33.841647Z",
     "start_time": "2019-07-19T16:54:28.225332Z"
    }
   },
   "outputs": [
    {
     "data": {
      "image/png": "[encoded data removed]",
      "text/plain": [
       "<Figure size 432x288 with 1 Axes>"
      ]
     },
     "metadata": {
      "needs_background": "light"
     },
     "output_type": "display_data"
    }
   ],
   "source": [
    "# Visualize the use of different regularization parameters on coefficient estimates for Ridge regression\n",
    "n_alphas, coefs = 200, []\n",
    "alphas = np.logspace(-10, -2, n_alphas)\n",
    "for a in alphas:\n",
    "    ridge = Ridge(alpha = a, fit_intercept = False)\n",
    "    ridge.fit(x_train, y_train)\n",
    "    coefs.append(ridge.coef_)\n",
    "\n",
    "# Visualize the regularization curve\n",
    "ax = plt.gca()\n",
    "ax.plot(alphas, coefs)\n",
    "ax.set_xscale('log')\n",
    "ax.set_xlim(ax.get_xlim()[::-1])  # reverse axis\n",
    "plt.xlabel('alpha')\n",
    "plt.ylabel('weights')\n",
    "plt.title('Ridge coefficients as a function of the regularization')\n",
    "plt.axis('tight')\n",
    "plt.show()"
   ]
  },
  {
   "cell_type": "markdown",
   "metadata": {},
   "source": [
    "### 3.3 Elastic net classification model\n",
    "The elastic net classification model will combine the L1 and L2 priors illustrated above in the same logistic regression model as regularizers. The ElasticNetCV function from sklearn allows us to play around with these regularization parameters by defining a range for the l1_ratio = a/ (a + b), where  a * L1 + b * L2 composes the penalization term. If the optimal l1_ratio parameter is closer to 1, a sparser selection is managed, while l1_ratio parameters close to 0 result in more shrinkage of the coefficients."
   ]
  },
  {
   "cell_type": "markdown",
   "metadata": {},
   "source": [
    "##### Model fit"
   ]
  },
  {
   "cell_type": "code",
   "execution_count": 29,
   "metadata": {
    "ExecuteTime": {
     "end_time": "2019-07-19T16:57:28.183959Z",
     "start_time": "2019-07-19T16:54:33.846677Z"
    }
   },
   "outputs": [],
   "source": [
    "# Fit the elasticnet classification model\n",
    "l1_ratios = alphas[1:]\n",
    "elasticnet_model = ElasticNetCV(l1_ratio = l1_ratios, fit_intercept= False, cv= 5, random_state=0)\n",
    "fitted_elasticnet_model = elasticnet_model.fit(x_train, y_train)\n",
    "\n",
    "# Save best approximation alpha after CV\n",
    "elasticnet_model_dict['regularisation_param'] = {'l1_ratio': fitted_elasticnet_model.l1_ratio_,\n",
    "                                                 'alpha': fitted_elasticnet_model.alpha_}"
   ]
  },
  {
   "cell_type": "markdown",
   "metadata": {},
   "source": [
    "##### Model accuracy evaluation"
   ]
  },
  {
   "cell_type": "code",
   "execution_count": 30,
   "metadata": {
    "ExecuteTime": {
     "end_time": "2019-07-19T16:57:30.571983Z",
     "start_time": "2019-07-19T16:57:28.186183Z"
    }
   },
   "outputs": [
    {
     "name": "stdout",
     "output_type": "stream",
     "text": [
      "Based on a threshold of 0.5 the following summary statistics can be obtained:\n",
      " ----------------------------------------------------------------------------------------------------\n",
      "785 true positives over all positives (the wins that were correctly classified).\n",
      "67 false positives (the wins that were wrongly classified).\n",
      "801 true negatives (the losses that were correctly classified).\n",
      "57 false negatives (the losses that were wrongly classified).\n",
      "\n",
      "The sensitivity is:  0.9323040380047506\n",
      "The specificity is:  0.9228110599078341\n",
      "\n",
      "\n",
      "Accuracy: 0.927485380116959 \n",
      " ----------------------------------------------------------------------------------------------------\n"
     ]
    },
    {
     "data": {
      "image/png": "[encoded data removed]",
      "text/plain": [
       "<Figure size 432x288 with 1 Axes>"
      ]
     },
     "metadata": {
      "needs_background": "light"
     },
     "output_type": "display_data"
    },
    {
     "name": "stdout",
     "output_type": "stream",
     "text": [
      "Confusion matrix :\n",
      " ----------------------------------------------------------------------------------------------------\n"
     ]
    },
    {
     "data": {
      "image/png": "[encoded data removed]",
      "text/plain": [
       "<Figure size 432x288 with 2 Axes>"
      ]
     },
     "metadata": {
      "needs_background": "light"
     },
     "output_type": "display_data"
    },
    {
     "name": "stdout",
     "output_type": "stream",
     "text": [
      "Normalized confusion matrix :\n",
      " ----------------------------------------------------------------------------------------------------\n"
     ]
    },
    {
     "data": {
      "image/png": "[encoded data removed]",
      "text/plain": [
       "<Figure size 432x288 with 2 Axes>"
      ]
     },
     "metadata": {
      "needs_background": "light"
     },
     "output_type": "display_data"
    }
   ],
   "source": [
    "# Model accuracy evaluation metrics\n",
    "elasticnet_model_dict['sensitivity'], elasticnet_model_dict['specificity'], elasticnet_model_dict['auc'], elasticnet_model_dict['accuracy'] = binary_class_evaluator(fitted_elasticnet_model, x_test, y_test, elasticnet = True)\n",
    "\n",
    "# Plot non-normalized and normalized confusion matrix\n",
    "plot_confusion_matrix(fitted_elasticnet_model, x_test, y_test, classes=['Loss', 'Win'], elasticnet = True)\n",
    "plot_confusion_matrix(fitted_elasticnet_model, x_test, y_test, classes=['Loss', 'Win'], normalize=True, elasticnet = True)"
   ]
  },
  {
   "cell_type": "markdown",
   "metadata": {
    "ExecuteTime": {
     "end_time": "2019-03-19T10:34:24.897544Z",
     "start_time": "2019-03-19T10:34:24.872205Z"
    }
   },
   "source": [
    "##### Feature importance evaluator"
   ]
  },
  {
   "cell_type": "code",
   "execution_count": 31,
   "metadata": {
    "ExecuteTime": {
     "end_time": "2019-07-19T16:57:30.582242Z",
     "start_time": "2019-07-19T16:57:30.573743Z"
    },
    "scrolled": true
   },
   "outputs": [
    {
     "name": "stdout",
     "output_type": "stream",
     "text": [
      "Summary of the important features and their corresponding coefficients:\n",
      " ----------------------------------------------------------------------------------------------------\n",
      "earnedgpm : 0.2649034899934287\n",
      "earnedgoldshare : -0.1424789236770042\n",
      "goldspent : -0.13649036443369317\n",
      "a : 0.1326492134603238\n",
      "totalgold : 0.13257685345024725\n",
      "d : -0.1235164090946037\n",
      "k : 0.05396117299949596\n",
      "goldat15 : -0.04793272532394825\n",
      "minionkills : -0.035176004282380297\n",
      "elementals : 0.03220157831065567\n"
     ]
    }
   ],
   "source": [
    "# Show the sorted features indicating the highest importance in predicting the target\n",
    "elasticnet_model_dict['feature_importance'] = important_features_extractor(fitted_elasticnet_model, \n",
    "                                                                           x_train.columns.values, \n",
    "                                                                           elasticnet = True)"
   ]
  },
  {
   "cell_type": "code",
   "execution_count": 32,
   "metadata": {
    "ExecuteTime": {
     "end_time": "2019-07-19T17:00:43.223648Z",
     "start_time": "2019-07-19T16:57:30.584094Z"
    }
   },
   "outputs": [
    {
     "data": {
      "image/png": "[encoded data removed]",
      "text/plain": [
       "<Figure size 432x288 with 1 Axes>"
      ]
     },
     "metadata": {
      "needs_background": "light"
     },
     "output_type": "display_data"
    }
   ],
   "source": [
    "# Visualize the use of different regularization parameters on coefficient estimates for Ridge regression\n",
    "n_ratios, coefs = 200, []\n",
    "l1_ratios = np.logspace(-10, -2, n_ratios)\n",
    "for r in l1_ratios:\n",
    "    elasticnet = ElasticNet(l1_ratio = r, fit_intercept = False)\n",
    "    elasticnet.fit(x_train, y_train)\n",
    "    coefs.append(elasticnet.coef_)\n",
    "\n",
    "# Visualize the regularization curve\n",
    "ax = plt.gca()\n",
    "ax.plot(l1_ratios, coefs)\n",
    "ax.set_xscale('log')\n",
    "ax.set_xlim(ax.get_xlim()[::-1])  # reverse axis\n",
    "plt.xlabel('l1_ratio')\n",
    "plt.ylabel('weights')\n",
    "plt.title('Elastic net coefficients as a function of the regularization')\n",
    "plt.axis('tight')\n",
    "plt.show()"
   ]
  },
  {
   "cell_type": "markdown",
   "metadata": {},
   "source": [
    "### 3.4 Random Forests classifier"
   ]
  },
  {
   "cell_type": "markdown",
   "metadata": {},
   "source": [
    "##### Model fit"
   ]
  },
  {
   "cell_type": "code",
   "execution_count": 33,
   "metadata": {
    "ExecuteTime": {
     "end_time": "2019-07-19T17:35:52.379642Z",
     "start_time": "2019-07-19T17:00:43.226222Z"
    }
   },
   "outputs": [
    {
     "data": {
      "text/plain": [
       "{'bootstrap': False, 'max_features': 'sqrt', 'n_estimators': 2000}"
      ]
     },
     "execution_count": 33,
     "metadata": {},
     "output_type": "execute_result"
    }
   ],
   "source": [
    "# Define hyperparameter grid\n",
    "param_grid = {'bootstrap': [True, False],\n",
    "              'max_features': ['auto', 'sqrt'],\n",
    "              'n_estimators': [200, 1000, 2000]}\n",
    "\n",
    "# Hyperparametertuning of the Random Forest model (cv = 5 folds)\n",
    "rf_model = RandomForestClassifier()\n",
    "grid_rf_model = GridSearchCV(rf_model, param_grid, cv=5)\n",
    "grid_best_rf_model = grid_rf_model.fit(x_train, y_train)\n",
    "\n",
    "# Save optimal hyperparameters\n",
    "rf_model_dict['regularisation_param'] = grid_best_rf_model.best_params_\n",
    "grid_best_rf_model.best_params_"
   ]
  },
  {
   "cell_type": "code",
   "execution_count": 34,
   "metadata": {
    "ExecuteTime": {
     "end_time": "2019-07-19T17:37:08.293165Z",
     "start_time": "2019-07-19T17:35:52.381666Z"
    }
   },
   "outputs": [
    {
     "data": {
      "text/plain": [
       "RandomForestClassifier(bootstrap=False, class_weight=None, criterion='gini',\n",
       "            max_depth=None, max_features='sqrt', max_leaf_nodes=None,\n",
       "            min_impurity_decrease=0.0, min_impurity_split=None,\n",
       "            min_samples_leaf=1, min_samples_split=2,\n",
       "            min_weight_fraction_leaf=0.0, n_estimators=2000, n_jobs=None,\n",
       "            oob_score=False, random_state=None, verbose=0,\n",
       "            warm_start=False)"
      ]
     },
     "execution_count": 34,
     "metadata": {},
     "output_type": "execute_result"
    }
   ],
   "source": [
    "# Fit the best model with the optimal hyperparameters\n",
    "fitted_rf_model = RandomForestClassifier(bootstrap = rf_model_dict['regularisation_param'] ['bootstrap'],\n",
    "                                         max_features = rf_model_dict['regularisation_param'] ['max_features'],\n",
    "                                         n_estimators = rf_model_dict['regularisation_param'] ['n_estimators'])\n",
    "fitted_rf_model.fit(x_train,y_train)"
   ]
  },
  {
   "cell_type": "markdown",
   "metadata": {},
   "source": [
    "##### Model accuracy evaluation"
   ]
  },
  {
   "cell_type": "code",
   "execution_count": 35,
   "metadata": {
    "ExecuteTime": {
     "end_time": "2019-07-19T17:37:11.733030Z",
     "start_time": "2019-07-19T17:37:08.295247Z"
    }
   },
   "outputs": [
    {
     "name": "stdout",
     "output_type": "stream",
     "text": [
      "Based on a threshold of 0.5 the following summary statistics can be obtained:\n",
      " ----------------------------------------------------------------------------------------------------\n",
      "779 true positives over all positives (the wins that were correctly classified).\n",
      "93 false positives (the wins that were wrongly classified).\n",
      "775 true negatives (the losses that were correctly classified).\n",
      "63 false negatives (the losses that were wrongly classified).\n",
      "\n",
      "The sensitivity is:  0.9251781472684085\n",
      "The specificity is:  0.8928571428571429\n",
      "\n",
      "\n",
      "Accuracy: 0.9087719298245615 \n",
      " ----------------------------------------------------------------------------------------------------\n"
     ]
    },
    {
     "data": {
      "image/png": "[encoded data removed]",
      "text/plain": [
       "<Figure size 432x288 with 1 Axes>"
      ]
     },
     "metadata": {
      "needs_background": "light"
     },
     "output_type": "display_data"
    },
    {
     "name": "stdout",
     "output_type": "stream",
     "text": [
      "Confusion matrix :\n",
      " ----------------------------------------------------------------------------------------------------\n"
     ]
    },
    {
     "data": {
      "image/png": "[encoded data removed]",
      "text/plain": [
       "<Figure size 432x288 with 2 Axes>"
      ]
     },
     "metadata": {
      "needs_background": "light"
     },
     "output_type": "display_data"
    },
    {
     "name": "stdout",
     "output_type": "stream",
     "text": [
      "Normalized confusion matrix :\n",
      " ----------------------------------------------------------------------------------------------------\n"
     ]
    },
    {
     "data": {
      "image/png": "[encoded data removed]",
      "text/plain": [
       "<Figure size 432x288 with 2 Axes>"
      ]
     },
     "metadata": {
      "needs_background": "light"
     },
     "output_type": "display_data"
    }
   ],
   "source": [
    "# Model accuracy evaluation metrics\n",
    "rf_model_dict['sensitivity'], rf_model_dict['specificity'], rf_model_dict['auc'], rf_model_dict['accuracy'] = binary_class_evaluator(fitted_rf_model, x_test, y_test, elasticnet = False)\n",
    "\n",
    "# Plot non-normalized and normalized confusion matrix\n",
    "plot_confusion_matrix(fitted_rf_model, x_test, y_test, classes=['Loss', 'Win'], elasticnet = False)\n",
    "plot_confusion_matrix(fitted_rf_model, x_test, y_test, classes=['Loss', 'Win'], normalize=True, elasticnet = False)"
   ]
  },
  {
   "cell_type": "markdown",
   "metadata": {},
   "source": [
    "##### Feature importance evaluator"
   ]
  },
  {
   "cell_type": "code",
   "execution_count": 36,
   "metadata": {
    "ExecuteTime": {
     "end_time": "2019-07-19T17:37:11.947744Z",
     "start_time": "2019-07-19T17:37:11.734881Z"
    }
   },
   "outputs": [
    {
     "data": {
      "text/plain": [
       "earnedgpm           0.174793\n",
       "a                   0.167629\n",
       "d                   0.123167\n",
       "gspd                0.080257\n",
       "kpm                 0.051637\n",
       "totalgold           0.036107\n",
       "earnedgoldshare     0.030889\n",
       "k                   0.024489\n",
       "Encoded_team        0.024385\n",
       "Encoded_champion    0.023558\n",
       "dtype: float64"
      ]
     },
     "execution_count": 36,
     "metadata": {},
     "output_type": "execute_result"
    }
   ],
   "source": [
    "# Show the sorted features indicating the highest importance in predicting the target\n",
    "feature_imp = pd.Series(fitted_rf_model.feature_importances_,index=x_train.columns).sort_values(ascending=False)\n",
    "rf_model_dict['feature_importance'] = dict(zip(feature_imp.index, feature_imp))\n",
    "feature_imp[:10]"
   ]
  },
  {
   "cell_type": "markdown",
   "metadata": {},
   "source": [
    "### 3.5 Comparison ML techniques"
   ]
  },
  {
   "cell_type": "markdown",
   "metadata": {},
   "source": [
    "##### Creation summary table"
   ]
  },
  {
   "cell_type": "code",
   "execution_count": 37,
   "metadata": {
    "ExecuteTime": {
     "end_time": "2019-07-19T17:37:11.971400Z",
     "start_time": "2019-07-19T17:37:11.949555Z"
    }
   },
   "outputs": [
    {
     "data": {
      "text/html": [
       "<div>\n",
       "<style scoped>\n",
       "    .dataframe tbody tr th:only-of-type {\n",
       "        vertical-align: middle;\n",
       "    }\n",
       "\n",
       "    .dataframe tbody tr th {\n",
       "        vertical-align: top;\n",
       "    }\n",
       "\n",
       "    .dataframe thead th {\n",
       "        text-align: right;\n",
       "    }\n",
       "</style>\n",
       "<table border=\"1\" class=\"dataframe\">\n",
       "  <thead>\n",
       "    <tr style=\"text-align: right;\">\n",
       "      <th></th>\n",
       "      <th>regularisation_param</th>\n",
       "      <th>sensitivity</th>\n",
       "      <th>specificity</th>\n",
       "      <th>auc</th>\n",
       "      <th>accuracy</th>\n",
       "      <th>feature_importance</th>\n",
       "    </tr>\n",
       "  </thead>\n",
       "  <tbody>\n",
       "    <tr>\n",
       "      <th>Lasso</th>\n",
       "      <td>NaN</td>\n",
       "      <td>0.940618</td>\n",
       "      <td>0.932028</td>\n",
       "      <td>0.936323</td>\n",
       "      <td>0.936257</td>\n",
       "      <td>{'earnedgpm': 5.973595186223526, 'goldspent': ...</td>\n",
       "    </tr>\n",
       "    <tr>\n",
       "      <th>Ridge</th>\n",
       "      <td>0.975</td>\n",
       "      <td>0.935867</td>\n",
       "      <td>0.926267</td>\n",
       "      <td>0.931067</td>\n",
       "      <td>0.930994</td>\n",
       "      <td>{'goldspent': -0.5479370949136262, 'totalgold'...</td>\n",
       "    </tr>\n",
       "    <tr>\n",
       "      <th>Elasticnet</th>\n",
       "      <td>{'l1_ratio': 0.01, 'alpha': 0.030273178495695056}</td>\n",
       "      <td>0.932304</td>\n",
       "      <td>0.922811</td>\n",
       "      <td>0.927558</td>\n",
       "      <td>0.927485</td>\n",
       "      <td>{'earnedgpm': 0.2649034899934287, 'earnedgolds...</td>\n",
       "    </tr>\n",
       "    <tr>\n",
       "      <th>RandomForest</th>\n",
       "      <td>{'bootstrap': False, 'max_features': 'sqrt', '...</td>\n",
       "      <td>0.925178</td>\n",
       "      <td>0.892857</td>\n",
       "      <td>0.909018</td>\n",
       "      <td>0.908772</td>\n",
       "      <td>{'earnedgpm': 0.17479301456001609, 'a': 0.1676...</td>\n",
       "    </tr>\n",
       "  </tbody>\n",
       "</table>\n",
       "</div>"
      ],
      "text/plain": [
       "                                           regularisation_param  sensitivity  \\\n",
       "Lasso                                                       NaN     0.940618   \n",
       "Ridge                                                     0.975     0.935867   \n",
       "Elasticnet    {'l1_ratio': 0.01, 'alpha': 0.030273178495695056}     0.932304   \n",
       "RandomForest  {'bootstrap': False, 'max_features': 'sqrt', '...     0.925178   \n",
       "\n",
       "              specificity       auc  accuracy  \\\n",
       "Lasso            0.932028  0.936323  0.936257   \n",
       "Ridge            0.926267  0.931067  0.930994   \n",
       "Elasticnet       0.922811  0.927558  0.927485   \n",
       "RandomForest     0.892857  0.909018  0.908772   \n",
       "\n",
       "                                             feature_importance  \n",
       "Lasso         {'earnedgpm': 5.973595186223526, 'goldspent': ...  \n",
       "Ridge         {'goldspent': -0.5479370949136262, 'totalgold'...  \n",
       "Elasticnet    {'earnedgpm': 0.2649034899934287, 'earnedgolds...  \n",
       "RandomForest  {'earnedgpm': 0.17479301456001609, 'a': 0.1676...  "
      ]
     },
     "execution_count": 37,
     "metadata": {},
     "output_type": "execute_result"
    }
   ],
   "source": [
    "# Create summary table\n",
    "for key in logistic_L1penalty_model_dict.keys():\n",
    "    model_summary_dict[key] = [logistic_L1penalty_model_dict[key], ridge_model_dict[key], elasticnet_model_dict[key], rf_model_dict[key]]\n",
    "model_summary_table = pd.DataFrame(model_summary_dict, columns = logistic_L1penalty_model_dict.keys())\n",
    "model_summary_table.rename(index={0:'Lasso', 1:'Ridge', 2:'Elasticnet', 3:'RandomForest'}, inplace = True)\n",
    "\n",
    "# Visualize summary table\n",
    "model_summary_table"
   ]
  },
  {
   "cell_type": "markdown",
   "metadata": {},
   "source": [
    "##### Investigate accuracy metrics"
   ]
  },
  {
   "cell_type": "code",
   "execution_count": 53,
   "metadata": {
    "ExecuteTime": {
     "end_time": "2019-07-20T17:19:38.457748Z",
     "start_time": "2019-07-20T17:19:38.261436Z"
    }
   },
   "outputs": [
    {
     "data": {
      "text/plain": [
       "<matplotlib.legend.Legend at 0x7f0448349be0>"
      ]
     },
     "execution_count": 53,
     "metadata": {},
     "output_type": "execute_result"
    },
    {
     "data": {
      "image/png": "[encoded data removed]",
      "text/plain": [
       "<Figure size 432x288 with 1 Axes>"
      ]
     },
     "metadata": {
      "needs_background": "light"
     },
     "output_type": "display_data"
    }
   ],
   "source": [
    "# Visualize a summarization of the accuracy metrics for the different ML methods\n",
    "fig, ax = plt.subplots()\n",
    "ax.plot(list(model_summary_table.index), model_summary_table.sensitivity, '--', label=\"sensitivity\", color='lightskyblue')\n",
    "ax.plot(list(model_summary_table.index), model_summary_table.specificity, '--', label=\"specificity\", color='lightblue')\n",
    "ax.plot(list(model_summary_table.index), model_summary_table.accuracy, label=\"accuracy\", color='royalblue')\n",
    "plt.title(\"Sensitivity, specificity and accuracy regularization models\")\n",
    "plt.ylabel('Value')\n",
    "plt.xlabel('ML model')\n",
    "ax.legend(loc =\"best\", fontsize = 8)"
   ]
  },
  {
   "cell_type": "markdown",
   "metadata": {},
   "source": [
    "##### Investigate parameter coefficients"
   ]
  },
  {
   "cell_type": "code",
   "execution_count": 39,
   "metadata": {
    "ExecuteTime": {
     "end_time": "2019-07-19T17:37:12.188035Z",
     "start_time": "2019-07-19T17:37:12.182007Z"
    }
   },
   "outputs": [
    {
     "name": "stdout",
     "output_type": "stream",
     "text": [
      "The number of features kept by the different techniques in the model:\n",
      " ----------------------------------------------------------------------------------------------------\n",
      "Lasso :  13\n",
      "Ridge :  52\n",
      "Elasticnet :  52\n",
      "RandomForest :  52\n"
     ]
    }
   ],
   "source": [
    "# Short intermediate summary\n",
    "print(\"The number of features kept by the different techniques in the model:\\n\", \"-\"*100)\n",
    "for ML in list(model_summary_table.index):\n",
    "    print(ML, \": \", len(model_summary_table.feature_importance[ML]))"
   ]
  },
  {
   "cell_type": "code",
   "execution_count": 54,
   "metadata": {
    "ExecuteTime": {
     "end_time": "2019-07-20T17:19:51.232063Z",
     "start_time": "2019-07-20T17:19:51.041166Z"
    }
   },
   "outputs": [
    {
     "data": {
      "image/png": "[encoded data removed]",
      "text/plain": [
       "<Figure size 432x288 with 1 Axes>"
      ]
     },
     "metadata": {
      "needs_background": "light"
     },
     "output_type": "display_data"
    }
   ],
   "source": [
    "# Visualization of difference in coefficient estimates\n",
    "plt.plot(fitted_elasticnet_model.coef_, color='darkorange', linewidth=2,\n",
    "         label='Elastic net coefficients')\n",
    "plt.plot(fitted_logistic_L1penalty_model.coef_[0], color='yellowgreen', linewidth=2,\n",
    "         label='Lasso coefficients')\n",
    "plt.plot(fitted_ridge_model.coef_[0], '--', color='dodgerblue', label='Ridge coefficients')\n",
    "plt.legend(loc='best')\n",
    "plt.title(\"Comparison parameter coefficients\")\n",
    "plt.ylabel('Coefficient')\n",
    "plt.xlabel('Feature ID')\n",
    "plt.show()"
   ]
  },
  {
   "cell_type": "code",
   "execution_count": 55,
   "metadata": {
    "ExecuteTime": {
     "end_time": "2019-07-20T17:20:01.881777Z",
     "start_time": "2019-07-20T17:19:58.797448Z"
    },
    "scrolled": false
   },
   "outputs": [
    {
     "data": {
      "image/png": "[encoded data removed]",
      "text/plain": [
       "<Figure size 360x576 with 1 Axes>"
      ]
     },
     "metadata": {
      "needs_background": "light"
     },
     "output_type": "display_data"
    },
    {
     "data": {
      "image/png": "[encoded data removed]",
      "text/plain": [
       "<Figure size 360x1008 with 1 Axes>"
      ]
     },
     "metadata": {
      "needs_background": "light"
     },
     "output_type": "display_data"
    },
    {
     "data": {
      "image/png": "[encoded data removed]",
      "text/plain": [
       "<Figure size 360x1008 with 1 Axes>"
      ]
     },
     "metadata": {
      "needs_background": "light"
     },
     "output_type": "display_data"
    },
    {
     "data": {
      "image/png": "[encoded data removed]",
      "text/plain": [
       "<Figure size 360x1008 with 1 Axes>"
      ]
     },
     "metadata": {
      "needs_background": "light"
     },
     "output_type": "display_data"
    }
   ],
   "source": [
    "# Visualize feature importance (coefficient based)\n",
    "for index, ML in enumerate(list(model_summary_table.index)):\n",
    "    x =  np.arange(len(model_summary_table.feature_importance[ML]))\n",
    "    plt.figure(figsize=(5, 8)) if index == 0 else plt.figure(figsize=(5, 14)) \n",
    "    plt.barh(x, list(model_summary_table.feature_importance[ML].values()), \n",
    "             tick_label =  list(model_summary_table.feature_importance[ML].keys()),\n",
    "             color = 'mediumslateblue', \n",
    "             edgecolor = 'slateblue')\n",
    "    plt.title(\"Feature coefficient estimates \" + ML + \" classification\")\n",
    "    plt.ylabel('Feature')\n",
    "    plt.xlabel('Coefficient')\n",
    "    plt.show()"
   ]
  },
  {
   "cell_type": "markdown",
   "metadata": {},
   "source": [
    "## 4. Create player specific summary vectors"
   ]
  },
  {
   "cell_type": "markdown",
   "metadata": {
    "ExecuteTime": {
     "end_time": "2019-03-26T08:44:26.367395Z",
     "start_time": "2019-03-26T08:44:26.305732Z"
    }
   },
   "source": [
    "### 4.1 Create dataset capturing the average feature values per player\n",
    "A player specific summary vector will be created by looping through all the features captured by the dataset and taking the average over all the games played by that player (for a specific feature). To have a better indication of the accuracy of the player vector another column is added at the end indicating the number of games on which the calculation is based."
   ]
  },
  {
   "cell_type": "code",
   "execution_count": 42,
   "metadata": {
    "ExecuteTime": {
     "end_time": "2019-07-19T17:37:18.143694Z",
     "start_time": "2019-07-19T17:37:15.640636Z"
    }
   },
   "outputs": [],
   "source": [
    "# Extract list with the different players\n",
    "players = list(set(data_raw.player))\n",
    "player_vector_cols = list(data.columns)\n",
    "player_vector_cols.append('accuracy indicator')\n",
    "\n",
    "# Create summary vector for each player\n",
    "player_info_list = []\n",
    "for player in players:\n",
    "    player_vector = []\n",
    "    player_subdf = data_raw[data_raw.player == player]\n",
    "    # Loop through the different columns\n",
    "    for col in data.columns:\n",
    "        # Take the mean over column values for numerical features\n",
    "        if 'Encoded' not in col:\n",
    "            player_vector.append(player_subdf[col].mean())\n",
    "        # Take the majority value over column values for discrete features\n",
    "        else: \n",
    "            player_vector.append(RandomSampleProbDist(player_subdf[col]))\n",
    "    # Add accuracy indicator\n",
    "    player_vector.append(len(player_subdf))\n",
    "    player_info_list.append(player_vector)\n",
    "    \n",
    "# Create summary dataframe\n",
    "player_vector_df = pd.DataFrame(data = player_info_list, index=players, columns=player_vector_cols)"
   ]
  },
  {
   "cell_type": "code",
   "execution_count": 43,
   "metadata": {
    "ExecuteTime": {
     "end_time": "2019-07-19T17:37:18.155219Z",
     "start_time": "2019-07-19T17:37:18.145763Z"
    },
    "scrolled": true
   },
   "outputs": [
    {
     "name": "stdout",
     "output_type": "stream",
     "text": [
      "Summary information player vector dataframe: Player specific feature vectors are captured for 244 players.\n",
      "\n",
      "The players indicating feature vectors based on less than 5 games:\n",
      " ----------------------------------------------------------------------------------------------------\n",
      "aphromoo\n",
      "im jonny\n",
      "esa\n",
      "fishball\n",
      "prb\n",
      "carioca\n",
      "jcain\n",
      "maestr0\n",
      "zantins\n",
      "shiphtur\n",
      "ninja\n",
      "phurion\n",
      "milica\n",
      "japone\n",
      "hy0g4\n",
      "wako\n",
      "dreamer\n",
      "quan\n",
      "padden\n",
      "iceloli\n",
      "wadid\n",
      "decagon moon\n",
      "hanxuan\n",
      "morning\n",
      "road\n",
      "comeback\n",
      "adaniel\n",
      "gate\n",
      "luskka\n",
      "styllee\n",
      "gbm\n",
      "ssol\n",
      "ocean\n",
      "wos\n",
      "broken blade\n",
      "wolf\n",
      "armut\n",
      "rain\n",
      "robo\n",
      "zzr\n",
      "once1\n",
      "lex\n",
      "nerroh\n",
      "crimson\n",
      "sevenarmy\n",
      "regank\n",
      "abbedagge\n",
      "telracs\n",
      "mint\n"
     ]
    }
   ],
   "source": [
    "# Intermediate summary\n",
    "print(\"Summary information player vector dataframe: Player specific feature vectors are captured for\", len(player_vector_df), \"players.\\n\")\n",
    "\n",
    "# Extract vector accuracy information\n",
    "print(\"The players indicating feature vectors based on less than 5 games:\\n\", '-'*100)\n",
    "for player, acc_ind in zip(list(player_vector_df.index), player_vector_df['accuracy indicator']):\n",
    "    if acc_ind < 5:\n",
    "        print(player)"
   ]
  },
  {
   "cell_type": "code",
   "execution_count": 44,
   "metadata": {
    "ExecuteTime": {
     "end_time": "2019-07-19T17:37:18.824147Z",
     "start_time": "2019-07-19T17:37:18.156913Z"
    }
   },
   "outputs": [
    {
     "name": "stdout",
     "output_type": "stream",
     "text": [
      "==================================================================================================== \n",
      "Overview of variable:  Accuracy indicator \n",
      " ====================================================================================================\n"
     ]
    },
    {
     "data": {
      "image/png": "[encoded data removed]",
      "text/plain": [
       "<Figure size 432x288 with 1 Axes>"
      ]
     },
     "metadata": {
      "needs_background": "light"
     },
     "output_type": "display_data"
    },
    {
     "name": "stdout",
     "output_type": "stream",
     "text": [
      "-------------------- \n",
      "Summary statistics:\n",
      " --------------------\n",
      "Minimum value: 1\n",
      "Mean: 46.7049\n",
      "Standard deviation: 51.1639\n",
      "Median: 28.0\n",
      "Maximal value: 196\n"
     ]
    },
    {
     "data": {
      "image/png": "[encoded data removed]",
      "text/plain": [
       "<Figure size 432x288 with 1 Axes>"
      ]
     },
     "metadata": {
      "needs_background": "light"
     },
     "output_type": "display_data"
    },
    {
     "name": "stdout",
     "output_type": "stream",
     "text": [
      "-------------------- \n",
      "Outlier detection:\n",
      " --------------------\n",
      "List of outliers: set()\n"
     ]
    },
    {
     "data": {
      "image/png": "[encoded data removed]",
      "text/plain": [
       "<Figure size 432x288 with 1 Axes>"
      ]
     },
     "metadata": {
      "needs_background": "light"
     },
     "output_type": "display_data"
    },
    {
     "name": "stdout",
     "output_type": "stream",
     "text": [
      "-------------------- \n",
      "Check for normal distribution:\n",
      " --------------------\n",
      "Skewedness: 1.182\n",
      "Kurtosis: 0.3196\n"
     ]
    },
    {
     "data": {
      "text/plain": [
       "<Figure size 432x288 with 0 Axes>"
      ]
     },
     "metadata": {},
     "output_type": "display_data"
    }
   ],
   "source": [
    "# Accuracy indicator distribution\n",
    "SummaryNumericVar(player_vector_df['accuracy indicator'], 'Accuracy indicator')"
   ]
  },
  {
   "cell_type": "markdown",
   "metadata": {},
   "source": [
    "### 4.2 Estimate player strength parameters"
   ]
  },
  {
   "cell_type": "code",
   "execution_count": 45,
   "metadata": {
    "ExecuteTime": {
     "end_time": "2019-07-19T17:37:18.829273Z",
     "start_time": "2019-07-19T17:37:18.826105Z"
    }
   },
   "outputs": [],
   "source": [
    "# Create dictionary to capture strength parameter information\n",
    "strength_param_dict = dict()\n",
    "\n",
    "# Extract columns not used for model fit\n",
    "additional_columns = ['result', 'accuracy indicator']\n",
    "strength_param_dict['accuracy indicator'] = player_vector_df['accuracy indicator']"
   ]
  },
  {
   "cell_type": "markdown",
   "metadata": {},
   "source": [
    "##### Lasso classification based parameter approximation"
   ]
  },
  {
   "cell_type": "code",
   "execution_count": 46,
   "metadata": {
    "ExecuteTime": {
     "end_time": "2019-07-19T17:37:18.859324Z",
     "start_time": "2019-07-19T17:37:18.831161Z"
    }
   },
   "outputs": [],
   "source": [
    "# 1. Fit (trained) lasso classification model\n",
    "strength_param_dict['lasso'] = [y for x, y in fitted_logistic_L1penalty_model.predict_proba(player_vector_df[selected_features_rfe])]"
   ]
  },
  {
   "cell_type": "markdown",
   "metadata": {},
   "source": [
    "##### Ridge classification based parameter approximation"
   ]
  },
  {
   "cell_type": "code",
   "execution_count": 47,
   "metadata": {
    "ExecuteTime": {
     "end_time": "2019-07-19T17:37:18.893321Z",
     "start_time": "2019-07-19T17:37:18.861107Z"
    },
    "scrolled": true
   },
   "outputs": [],
   "source": [
    "# 2. Fit ridge classification model with best regularisation parameter based on CV\n",
    "additional_columns = ['result', 'accuracy indicator']\n",
    "ridge = RidgeClassifier(alpha = ridge_model_dict['regularisation_param'], fit_intercept = False)\n",
    "fitted_ridge = ridge.fit(x_train, y_train)\n",
    "logit_trans_predictions_ridge = fitted_ridge.decision_function(player_vector_df[[x for x in data.columns if x not in additional_columns]])\n",
    "strength_param_dict['ridge'] = np.exp(logit_trans_predictions_ridge) / (1 + np.exp(logit_trans_predictions_ridge))"
   ]
  },
  {
   "cell_type": "markdown",
   "metadata": {},
   "source": [
    "Remark: There is no predicted probability option for the RidgeClassifier because this model is not easy to interpret as a probability model. The decision function of the RidgeClassifier model considers a logit transformation of the actual class probabilities. If decision function is greater than zero then class 1 is predicted otherwise predict class 0, corresponding to a classical logit approach. By back-transforming these predictions we can get the predicted probabilities."
   ]
  },
  {
   "cell_type": "markdown",
   "metadata": {},
   "source": [
    "##### Result averaging based parameter approximation"
   ]
  },
  {
   "cell_type": "code",
   "execution_count": 48,
   "metadata": {
    "ExecuteTime": {
     "end_time": "2019-07-19T17:37:18.911583Z",
     "start_time": "2019-07-19T17:37:18.894970Z"
    }
   },
   "outputs": [],
   "source": [
    "# 3. Expected outcome of the game based on player-vector averaging \n",
    "strength_param_dict['result'] = player_vector_df['result']"
   ]
  },
  {
   "cell_type": "code",
   "execution_count": 49,
   "metadata": {
    "ExecuteTime": {
     "end_time": "2019-07-19T17:37:18.945595Z",
     "start_time": "2019-07-19T17:37:18.913286Z"
    }
   },
   "outputs": [
    {
     "data": {
      "text/html": [
       "<div>\n",
       "<style scoped>\n",
       "    .dataframe tbody tr th:only-of-type {\n",
       "        vertical-align: middle;\n",
       "    }\n",
       "\n",
       "    .dataframe tbody tr th {\n",
       "        vertical-align: top;\n",
       "    }\n",
       "\n",
       "    .dataframe thead th {\n",
       "        text-align: right;\n",
       "    }\n",
       "</style>\n",
       "<table border=\"1\" class=\"dataframe\">\n",
       "  <thead>\n",
       "    <tr style=\"text-align: right;\">\n",
       "      <th></th>\n",
       "      <th>accuracy indicator</th>\n",
       "      <th>lasso</th>\n",
       "      <th>ridge</th>\n",
       "      <th>result</th>\n",
       "    </tr>\n",
       "  </thead>\n",
       "  <tbody>\n",
       "    <tr>\n",
       "      <th>crush</th>\n",
       "      <td>9</td>\n",
       "      <td>0.014356</td>\n",
       "      <td>0.364753</td>\n",
       "      <td>0.222222</td>\n",
       "    </tr>\n",
       "    <tr>\n",
       "      <th>tussle</th>\n",
       "      <td>10</td>\n",
       "      <td>0.004925</td>\n",
       "      <td>0.373246</td>\n",
       "      <td>0.100000</td>\n",
       "    </tr>\n",
       "    <tr>\n",
       "      <th>crystal</th>\n",
       "      <td>12</td>\n",
       "      <td>0.437882</td>\n",
       "      <td>0.475482</td>\n",
       "      <td>0.583333</td>\n",
       "    </tr>\n",
       "    <tr>\n",
       "      <th>yampi</th>\n",
       "      <td>22</td>\n",
       "      <td>0.277016</td>\n",
       "      <td>0.483373</td>\n",
       "      <td>0.500000</td>\n",
       "    </tr>\n",
       "    <tr>\n",
       "      <th>santorin</th>\n",
       "      <td>100</td>\n",
       "      <td>0.618872</td>\n",
       "      <td>0.527994</td>\n",
       "      <td>0.550000</td>\n",
       "    </tr>\n",
       "  </tbody>\n",
       "</table>\n",
       "</div>"
      ],
      "text/plain": [
       "          accuracy indicator     lasso     ridge    result\n",
       "crush                      9  0.014356  0.364753  0.222222\n",
       "tussle                    10  0.004925  0.373246  0.100000\n",
       "crystal                   12  0.437882  0.475482  0.583333\n",
       "yampi                     22  0.277016  0.483373  0.500000\n",
       "santorin                 100  0.618872  0.527994  0.550000"
      ]
     },
     "execution_count": 49,
     "metadata": {},
     "output_type": "execute_result"
    }
   ],
   "source": [
    "# Create dataframe of strength parameter summarization\n",
    "strength_param_df = pd.DataFrame(strength_param_dict)\n",
    "strength_param_df.head()"
   ]
  },
  {
   "cell_type": "code",
   "execution_count": 50,
   "metadata": {
    "ExecuteTime": {
     "end_time": "2019-07-19T17:37:18.972712Z",
     "start_time": "2019-07-19T17:37:18.947100Z"
    }
   },
   "outputs": [
    {
     "data": {
      "text/plain": [
       "lasso  result    0.756989\n",
       "ridge  result    0.791311\n",
       "lasso  ridge     0.882776\n",
       "dtype: float64"
      ]
     },
     "execution_count": 50,
     "metadata": {},
     "output_type": "execute_result"
    }
   ],
   "source": [
    "# Print list with correlated features\n",
    "corrmap_abs = strength_param_df.iloc[:,1:].corr().abs()\n",
    "corrmap_abs_sorted = corrmap_abs.unstack().sort_values(kind = \"quicksort\", ascending = False)\n",
    "corrmap_abs_sorted[3:][::-2]"
   ]
  },
  {
   "cell_type": "markdown",
   "metadata": {},
   "source": [
    "### 4.3 Investigation strength parameter characteristics"
   ]
  },
  {
   "cell_type": "code",
   "execution_count": 51,
   "metadata": {
    "ExecuteTime": {
     "end_time": "2019-07-19T17:37:20.660050Z",
     "start_time": "2019-07-19T17:37:18.974367Z"
    },
    "scrolled": false
   },
   "outputs": [
    {
     "name": "stdout",
     "output_type": "stream",
     "text": [
      "==================================================================================================== \n",
      "Overview of variable:  lasso \n",
      " ====================================================================================================\n"
     ]
    },
    {
     "data": {
      "image/png": "[encoded data removed]",
      "text/plain": [
       "<Figure size 432x288 with 1 Axes>"
      ]
     },
     "metadata": {
      "needs_background": "light"
     },
     "output_type": "display_data"
    },
    {
     "name": "stdout",
     "output_type": "stream",
     "text": [
      "-------------------- \n",
      "Summary statistics:\n",
      " --------------------\n",
      "Minimum value: 1.1985995027302728e-05\n",
      "Mean: 0.405\n",
      "Standard deviation: 0.3357\n",
      "Median: 0.3711\n",
      "Maximal value: 0.9999999731988629\n"
     ]
    },
    {
     "data": {
      "image/png": "[encoded data removed]",
      "text/plain": [
       "<Figure size 432x288 with 1 Axes>"
      ]
     },
     "metadata": {
      "needs_background": "light"
     },
     "output_type": "display_data"
    },
    {
     "name": "stdout",
     "output_type": "stream",
     "text": [
      "-------------------- \n",
      "Outlier detection:\n",
      " --------------------\n",
      "List of outliers: set()\n"
     ]
    },
    {
     "data": {
      "image/png": "[encoded data removed]",
      "text/plain": [
       "<Figure size 432x288 with 1 Axes>"
      ]
     },
     "metadata": {
      "needs_background": "light"
     },
     "output_type": "display_data"
    },
    {
     "name": "stdout",
     "output_type": "stream",
     "text": [
      "-------------------- \n",
      "Check for normal distribution:\n",
      " --------------------\n",
      "Skewedness: 0.3507\n",
      "Kurtosis: -1.2134\n",
      "==================================================================================================== \n",
      "Overview of variable:  ridge \n",
      " ====================================================================================================\n"
     ]
    },
    {
     "data": {
      "image/png": "[encoded data removed]",
      "text/plain": [
       "<Figure size 432x288 with 1 Axes>"
      ]
     },
     "metadata": {
      "needs_background": "light"
     },
     "output_type": "display_data"
    },
    {
     "name": "stdout",
     "output_type": "stream",
     "text": [
      "-------------------- \n",
      "Summary statistics:\n",
      " --------------------\n",
      "Minimum value: 0.18267948984342672\n",
      "Mean: 0.4725\n",
      "Standard deviation: 0.1011\n",
      "Median: 0.4796\n",
      "Maximal value: 0.8905015478903772\n"
     ]
    },
    {
     "data": {
      "image/png": "[encoded data removed]",
      "text/plain": [
       "<Figure size 432x288 with 1 Axes>"
      ]
     },
     "metadata": {
      "needs_background": "light"
     },
     "output_type": "display_data"
    },
    {
     "name": "stdout",
     "output_type": "stream",
     "text": [
      "-------------------- \n",
      "Outlier detection:\n",
      " --------------------\n",
      "List of outliers: {0.89, 0.83}\n"
     ]
    },
    {
     "data": {
      "image/png": "[encoded data removed]",
      "text/plain": [
       "<Figure size 432x288 with 1 Axes>"
      ]
     },
     "metadata": {
      "needs_background": "light"
     },
     "output_type": "display_data"
    },
    {
     "name": "stdout",
     "output_type": "stream",
     "text": [
      "-------------------- \n",
      "Check for normal distribution:\n",
      " --------------------\n",
      "Skewedness: 0.1831\n",
      "Kurtosis: 1.6186\n",
      "==================================================================================================== \n",
      "Overview of variable:  result \n",
      " ====================================================================================================\n"
     ]
    },
    {
     "data": {
      "image/png": "[encoded data removed]",
      "text/plain": [
       "<Figure size 432x288 with 1 Axes>"
      ]
     },
     "metadata": {
      "needs_background": "light"
     },
     "output_type": "display_data"
    },
    {
     "name": "stdout",
     "output_type": "stream",
     "text": [
      "-------------------- \n",
      "Summary statistics:\n",
      " --------------------\n",
      "Minimum value: 0.0\n",
      "Mean: 0.4149\n",
      "Standard deviation: 0.2446\n",
      "Median: 0.4286\n",
      "Maximal value: 1.0\n"
     ]
    },
    {
     "data": {
      "image/png": "[encoded data removed]",
      "text/plain": [
       "<Figure size 432x288 with 1 Axes>"
      ]
     },
     "metadata": {
      "needs_background": "light"
     },
     "output_type": "display_data"
    },
    {
     "name": "stdout",
     "output_type": "stream",
     "text": [
      "-------------------- \n",
      "Outlier detection:\n",
      " --------------------\n",
      "List of outliers: set()\n"
     ]
    },
    {
     "data": {
      "image/png": "[encoded data removed]",
      "text/plain": [
       "<Figure size 432x288 with 1 Axes>"
      ]
     },
     "metadata": {
      "needs_background": "light"
     },
     "output_type": "display_data"
    },
    {
     "name": "stdout",
     "output_type": "stream",
     "text": [
      "-------------------- \n",
      "Check for normal distribution:\n",
      " --------------------\n",
      "Skewedness: 0.1713\n",
      "Kurtosis: 0.0921\n"
     ]
    },
    {
     "data": {
      "text/plain": [
       "<Figure size 432x288 with 0 Axes>"
      ]
     },
     "metadata": {},
     "output_type": "display_data"
    }
   ],
   "source": [
    "# Visualisation strength parameter distributions (based on the different techniques)\n",
    "for col in strength_param_df.columns[1:]:\n",
    "    SummaryNumericVar(strength_param_df[col], col)"
   ]
  },
  {
   "cell_type": "markdown",
   "metadata": {
    "ExecuteTime": {
     "end_time": "2019-03-26T14:30:10.779352Z",
     "start_time": "2019-03-26T14:30:10.606507Z"
    }
   },
   "source": [
    "### 4.4 Write data away"
   ]
  },
  {
   "cell_type": "code",
   "execution_count": 52,
   "metadata": {
    "ExecuteTime": {
     "end_time": "2019-07-19T17:37:20.671796Z",
     "start_time": "2019-07-19T17:37:20.661916Z"
    }
   },
   "outputs": [],
   "source": [
    "# Save the player strength parameter data\n",
    "with open('/home/je32910/MasterThesis_ComputationalStatistics/pickles/' + saved_filename + '.pickle', 'wb') as f:\n",
    "    pickle.dump(strength_param_df, f)"
   ]
  }
 ],
 "metadata": {
  "kernelspec": {
   "display_name": "Python [conda env:python36]",
   "language": "python",
   "name": "conda-env-python36-py"
  },
  "language_info": {
   "codemirror_mode": {
    "name": "ipython",
    "version": 3
   },
   "file_extension": ".py",
   "mimetype": "text/x-python",
   "name": "python",
   "nbconvert_exporter": "python",
   "pygments_lexer": "ipython3",
   "version": "3.6.8"
  }
 },
 "nbformat": 4,
 "nbformat_minor": 2
}
