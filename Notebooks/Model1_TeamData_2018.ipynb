{
 "cells": [
  {
   "cell_type": "markdown",
   "metadata": {},
   "source": [
    "# Model 1: Estimation of team strength parameters (Team data)"
   ]
  },
  {
   "cell_type": "code",
   "execution_count": 1,
   "metadata": {
    "ExecuteTime": {
     "end_time": "2019-08-13T08:20:30.320233Z",
     "start_time": "2019-08-13T08:20:30.316710Z"
    }
   },
   "outputs": [],
   "source": [
    "# Initialization\n",
    "#loaded_pp_filename = 'teamdata2017_preprocessed'\n",
    "#loaded_std_filename = 'teamdata2017_standardized'\n",
    "#saved_filename = 'teamdata2017_strenghtparam'\n",
    "loaded_pp_filename = 'teamdata2018_preprocessed'\n",
    "loaded_std_filename = 'teamdata2018_standardized'\n",
    "saved_filename = 'teamdata2018_strenghtparam'"
   ]
  },
  {
   "cell_type": "markdown",
   "metadata": {},
   "source": [
    "## 0. Load libraries and define functions"
   ]
  },
  {
   "cell_type": "markdown",
   "metadata": {},
   "source": [
    "### 0.1 General python functionality"
   ]
  },
  {
   "cell_type": "code",
   "execution_count": 2,
   "metadata": {
    "ExecuteTime": {
     "end_time": "2019-08-13T08:20:32.851811Z",
     "start_time": "2019-08-13T08:20:31.166263Z"
    }
   },
   "outputs": [],
   "source": [
    "# Functions\n",
    "import numpy as np\n",
    "import os\n",
    "import pickle\n",
    "import pandas as pd\n",
    "import operator\n",
    "import itertools\n",
    "from numpy.random import choice\n",
    "from collections import Counter\n",
    "import statistics\n",
    "from scipy import stats\n",
    "\n",
    "# Functions used for data visualization\n",
    "import seaborn as sns\n",
    "sns.set(context = \"paper\", font = \"monospace\")\n",
    "import matplotlib.pyplot as plt"
   ]
  },
  {
   "cell_type": "code",
   "execution_count": 3,
   "metadata": {
    "ExecuteTime": {
     "end_time": "2019-08-13T08:20:33.574753Z",
     "start_time": "2019-08-13T08:20:32.854484Z"
    }
   },
   "outputs": [],
   "source": [
    "# Special functions needed for custom functions\n",
    "import sklearn\n",
    "from sklearn.model_selection import train_test_split\n",
    "from sklearn.linear_model import Ridge, RidgeCV, RidgeClassifierCV, LogisticRegression, ElasticNetCV, ElasticNet, Lasso, RidgeClassifier\n",
    "from sklearn import metrics\n",
    "from sklearn.feature_selection import RFECV\n",
    "from sklearn.ensemble import RandomForestClassifier\n",
    "from sklearn.model_selection import GridSearchCV"
   ]
  },
  {
   "cell_type": "code",
   "execution_count": 4,
   "metadata": {
    "ExecuteTime": {
     "end_time": "2019-08-13T08:20:33.580631Z",
     "start_time": "2019-08-13T08:20:33.577639Z"
    }
   },
   "outputs": [],
   "source": [
    "# Surpress printing warnings\n",
    "import warnings\n",
    "warnings.filterwarnings(\"ignore\")"
   ]
  },
  {
   "cell_type": "markdown",
   "metadata": {},
   "source": [
    "### 0.2 Custom functions"
   ]
  },
  {
   "cell_type": "code",
   "execution_count": 5,
   "metadata": {
    "ExecuteTime": {
     "end_time": "2019-08-13T08:20:33.625710Z",
     "start_time": "2019-08-13T08:20:33.583047Z"
    }
   },
   "outputs": [],
   "source": [
    "### Function used to return a summary for categorical variables\n",
    "def SummaryCategoricalVar(list_of_values, title, threshold = 20, top = 10):\n",
    "    \"\"\"\n",
    "    param: list_of_values (list): A list of categorical values from which we like to obtain the distribution\n",
    "    param: title (string): The title for the visualization\n",
    "    param: threshold (int): The maximal number of categories that should be visualized\n",
    "    param: top (int): The top k values that should be returned in the written summary when the number of categories is above the threshold\n",
    "    \"\"\"\n",
    "    # Count the number of occurrances in the list\n",
    "    cnt = Counter(list_of_values)\n",
    "    sorted_cnt = sorted(cnt.items(), key=operator.itemgetter(1))[::-1]\n",
    "    \n",
    "    # Show the percentage dictionary if to many categories to represent\n",
    "    print(\"-\"* 100, \"\\nOverview of variable: \", title, \"\\n\", \"-\"*100)\n",
    "    print(\"Total categories:\", len(cnt), \"\\n\")\n",
    "    if len(cnt) > threshold:\n",
    "        if len(cnt) < top*2:\n",
    "            for key, value in sorted_cnt:\n",
    "                print(key, ':', round(value/len(list_of_values)*100, 4), \"%\")\n",
    "        else:\n",
    "            print(\"The 10 with the highest percentage data available:\\n\")\n",
    "            for key, value in sorted_cnt[:top]:\n",
    "                print(key, ':', round(value/len(list_of_values)*100, 4), \"%\")\n",
    "            print(\"\\nThe 10 with the lowest percentage data available:\\n\")\n",
    "            for key, value in sorted_cnt[len(cnt) - top:]:\n",
    "                print(key, ':', round(value/len(list_of_values)*100, 4), \"%\")\n",
    "                \n",
    "    # Visualization of labelled data distribution\n",
    "    else:\n",
    "        plt.barh(range(1, len(sorted_cnt)+1), \n",
    "                 list(map(lambda x: (x/len(list_of_values)*100), [score for label, score in sorted_cnt])), \n",
    "                 tick_label = list([label for label, score in sorted_cnt]),\n",
    "                 color = 'cornflowerblue', \n",
    "                 edgecolor = 'steelblue')\n",
    "        plt.ylabel('Label')\n",
    "        plt.xlabel('Percentage observations in dataset')\n",
    "        plt.title(title)\n",
    "        plt.show()    \n",
    "        plt.savefig('Barplot_' + title + '.png')"
   ]
  },
  {
   "cell_type": "code",
   "execution_count": 6,
   "metadata": {
    "ExecuteTime": {
     "end_time": "2019-08-13T08:20:33.668085Z",
     "start_time": "2019-08-13T08:20:33.627809Z"
    }
   },
   "outputs": [],
   "source": [
    "### Function used to return a summary for numeric variables\n",
    "def SummaryNumericVar(list_of_values, title):\n",
    "    \"\"\"\n",
    "    param: list_of_values (list): A list of categorical values from which we like to obtain the distribution\n",
    "    param: title (string): The title for the visualization\n",
    "    \"\"\"\n",
    "    \n",
    "    # Title varibale\n",
    "    print(\"=\"* 100, \"\\nOverview of variable: \", title, \"\\n\", \"=\"*100)\n",
    "\n",
    "    # An \"interface\" to matplotlib.axes.Axes.hist() method\n",
    "    n, bins, patches = plt.hist(x = list_of_values, bins='auto', color= '#0504aa', alpha=0.7, rwidth=0.85)\n",
    "    plt.grid(axis='y', alpha=0.75)\n",
    "    plt.xlabel('Value')\n",
    "    plt.ylabel('Frequency')\n",
    "    plt.title(title)\n",
    "    plt.ylim(top=np.ceil(n.max() / 10) * 10 if n.max() % 10 else n.max() + 10)\n",
    "    plt.show()\n",
    "    plt.savefig('Frequency_' + title + '.png')\n",
    "\n",
    "    # Print summary statistics\n",
    "    print(\"-\"*20, \"\\nSummary statistics:\\n\", \"-\"*20)\n",
    "    print(\"Minimum value:\", min(list_of_values))\n",
    "    print(\"Mean:\", round(statistics.mean(list_of_values), 4))\n",
    "    print(\"Standard deviation:\", round(statistics.stdev(list_of_values), 4))\n",
    "    print(\"Median:\", round(statistics.median(list_of_values), 4))\n",
    "    print(\"Maximal value:\", max(list_of_values))\n",
    "\n",
    "    # Plot boxplot\n",
    "    plt.boxplot(list_of_values, 0, 'grey', 0)\n",
    "    plt.xlabel('Value')\n",
    "    plt.title(title)\n",
    "    plt.show()\n",
    "    plt.savefig('Boxplot_' + title + '.png')\n",
    "\n",
    "    # Present outliers\n",
    "    print(\"-\"*20, \"\\nOutlier detection:\\n\", \"-\"*20)\n",
    "    print(\"List of outliers:\", {round(value,2) for z_score, value in zip(np.abs(stats.zscore(list_of_values)), list_of_values) if z_score > 3})\n",
    "\n",
    "    # Check for normally distributed\n",
    "    stats.probplot(list_of_values, dist=\"norm\", plot= plt)\n",
    "    plt.show()\n",
    "    plt.savefig('Probabilityplot_' + title + '.png')\n",
    "\n",
    "    # Statistics to check normality\n",
    "    print(\"-\"*20, \"\\nCheck for normal distribution:\\n\", \"-\"*20)\n",
    "    print(\"Skewedness:\", round(stats.skew(list_of_values), 4))\n",
    "    print(\"Kurtosis:\", round(stats.kurtosis(list_of_values), 4))"
   ]
  },
  {
   "cell_type": "code",
   "execution_count": 7,
   "metadata": {
    "ExecuteTime": {
     "end_time": "2019-08-13T08:20:33.707603Z",
     "start_time": "2019-08-13T08:20:33.670283Z"
    }
   },
   "outputs": [],
   "source": [
    "### Function used to split the data into training and test data\n",
    "def data_splitter(df, response_name = 'target', split_threshold = 0.15, seed = 42):\n",
    "    \"\"\"\n",
    "    Function used to split a dataframe into test and training data\n",
    "    \n",
    "    param: df (Panda's dataframe object)\n",
    "    param: response_name (string): The name of the response variable in the dataframe\n",
    "    param: split_threshold (float): The split threshold used\n",
    "    param: seed (int): Integer defining the seed for random split of the data\n",
    "    \n",
    "    return: (tuple) A tuple with four pandas dataframe objects\n",
    "    \"\"\"\n",
    "    # Split the dataframe into features and response variable\n",
    "    df_tmp = df.copy()\n",
    "    x, y = df_tmp.drop([response_name], axis = 1), df[response_name]\n",
    "    # Split the feature and response variable into training and test data\n",
    "    x_train, x_test, y_train, y_test = train_test_split(x, y, test_size = split_threshold, random_state = seed)\n",
    "    return (x_train, x_test, y_train, y_test)"
   ]
  },
  {
   "cell_type": "code",
   "execution_count": 8,
   "metadata": {
    "ExecuteTime": {
     "end_time": "2019-08-13T08:20:33.868093Z",
     "start_time": "2019-08-13T08:20:33.856944Z"
    }
   },
   "outputs": [],
   "source": [
    "### Function used to generate a summary of the input model (binary classes)\n",
    "def binary_class_evaluator(model, x_test, y_test, threshold = 0.5, elasticnet = False):\n",
    "    \"\"\"\n",
    "    Function returning a tuple with sensitivity, specificity and AUC metrics for specific model\n",
    "    \n",
    "    param: model (model): The model we like to evaluate\n",
    "    param: x_test (list): List of lists of numpy arrays\n",
    "    param: y_test (list): Binary values indicating the outcome variable\n",
    "    param: threshold (float): The classification threshold used\n",
    "    param: elasticnet (bool): Booling indicator for specifying whether the model is elastic net based\n",
    "\n",
    "    return: A tuple containing the calculated sensitivity, specificity and AUC metrics\n",
    "    \"\"\"\n",
    "    # Calculate the different summary statistics based on the model and test data\n",
    "    test_data =  list(y_test) \n",
    "    model_preds = list(model.predict(x_test)) if not elasticnet else [1.0 if x > 0 else 0.0 for x in model.predict(x_test)]\n",
    "    model_acc = metrics.accuracy_score(test_data, model_preds)\n",
    "    true_pos = len([mp for mp, td in zip(model_preds, test_data) if mp > threshold and td == 1])\n",
    "    false_neg = len([mp for mp, td in zip(model_preds, test_data) if mp < threshold and td == 1])\n",
    "    true_neg = len([mp for mp, td in zip(model_preds, test_data) if mp < threshold and td == 0])\n",
    "    false_pos = len([mp for mp, td in zip(model_preds, test_data) if mp > threshold and td == 0])\n",
    "    \n",
    "    # Print intermediate summary to the user\n",
    "    print(\"Based on a threshold of\", threshold, \"the following summary statistics can be obtained:\\n\", \"-\"*100)\n",
    "    print(true_pos, \"true positives over all positives (the wins that were correctly classified).\")\n",
    "    print(false_pos, \"false positives (the wins that were wrongly classified).\")\n",
    "    print(true_neg, \"true negatives (the losses that were correctly classified).\")\n",
    "    print(false_neg, \"false negatives (the losses that were wrongly classified).\\n\")\n",
    "    print(\"The sensitivity is: \", true_pos / (true_pos + false_neg))\n",
    "    print(\"The specificity is: \", true_neg / (true_neg + false_pos))\n",
    "    \n",
    "    # Plot the ROC curve for the model\n",
    "    print(\"\\n\\nAccuracy:\", model_acc, \"\\n\", \"-\"*100)\n",
    "    fpr, tpr, _ = metrics.roc_curve(test_data, model_preds)\n",
    "    auc = metrics.roc_auc_score(test_data, model_preds)\n",
    "    plt.plot(fpr, tpr, label= \"auc: \" + str(round(auc, 4)))\n",
    "    plt.legend(loc = 4)\n",
    "    plt.title('ROC curve')\n",
    "    plt.show()\n",
    "    \n",
    "    # Return sensitivity and specificity values to the user \n",
    "    return true_pos / (true_pos + false_neg), true_neg / (true_neg + false_pos), auc, model_acc"
   ]
  },
  {
   "cell_type": "code",
   "execution_count": 9,
   "metadata": {
    "ExecuteTime": {
     "end_time": "2019-08-13T08:20:34.135608Z",
     "start_time": "2019-08-13T08:20:34.125389Z"
    }
   },
   "outputs": [],
   "source": [
    "### Function used to plot the confusion matrix (normalization can be applied if desired)\n",
    "def plot_confusion_matrix(model, x_test, y_test, classes, normalize = False, elasticnet = False, cmap = plt.cm.Blues):\n",
    "    \"\"\"\n",
    "    Function that visualizes the confusion matrix based on the predictions made by the fitted model and their correspondence\n",
    "    to the observed test data. The option is available to return the normalized confusion matrix.\n",
    "    \n",
    "    param: model (model): The model we like to evaluate\n",
    "    param: x_test (list): List of lists of numpy arrays\n",
    "    param: y_test (list): Binary values indicating the outcome variable\n",
    "    param: classes (list): A list of classes that correspond to the numbered labels in the confusion matrix in that order.\n",
    "    param: normalize (bool): Booling indicator for specification of returning the normalized or non-normalized confusion matrix.\n",
    "    param: elasticnet (bool): Booling indicator for specifying whether the model is elastic net based\n",
    "    \"\"\"\n",
    "    # Approximate the confusion matrix based on model predictions\n",
    "    model_preds = list(model.predict(x_test)) if not elasticnet else [1.0 if x > 0 else 0.0 for x in model.predict(x_test)]\n",
    "    cm = sklearn.metrics.confusion_matrix(y_test, model_preds)\n",
    "    \n",
    "    # Normalize the cm if desired\n",
    "    title = 'Normalized confusion matrix' if normalize else 'Confusion matrix'\n",
    "    if normalize:\n",
    "        cm = cm.astype('float') / cm.sum(axis=1)[:, np.newaxis]\n",
    "    \n",
    "    # Create confusion matrix\n",
    "    print(title, \":\\n\", \"-\"*100)\n",
    "    plt.imshow(cm, interpolation='nearest', cmap=cmap)\n",
    "    plt.title(title)\n",
    "    plt.colorbar()\n",
    "    tick_marks = np.arange(len(classes))\n",
    "    plt.xticks(tick_marks, classes, rotation=45)\n",
    "    plt.yticks(tick_marks, classes)\n",
    "    fmt = '.2f' if normalize else 'd'\n",
    "    thresh = cm.max() / 2.\n",
    "    for i, j in itertools.product(range(cm.shape[0]), range(cm.shape[1])):\n",
    "        plt.text(j, i, format(cm[i, j], fmt),\n",
    "                 horizontalalignment=\"center\",\n",
    "                 color=\"white\" if cm[i, j] > thresh else \"black\")\n",
    "\n",
    "    plt.tight_layout()\n",
    "    plt.ylabel('True label')\n",
    "    plt.xlabel('Predicted label')\n",
    "    plt.show()"
   ]
  },
  {
   "cell_type": "code",
   "execution_count": 10,
   "metadata": {
    "ExecuteTime": {
     "end_time": "2019-08-13T08:20:34.603102Z",
     "start_time": "2019-08-13T08:20:34.596193Z"
    }
   },
   "outputs": [],
   "source": [
    "### Function used to extract the top10 most important features based on the magnitute of the coefficients\n",
    "def important_features_extractor(model, fitted_features, top = 10, elasticnet = False):\n",
    "    \"\"\"\n",
    "    Function used to extract a dictionary mapping the features used in the model with the estimates of their coefficients\n",
    "    \n",
    "    param: model (model): The model we like to evaluate.\n",
    "    param: fitted_features (list): List capturing the different features evaluated by the model.\n",
    "    param: top (int): The amount of fetaures you like to be printed as output (sorted based on decreasing importance).\n",
    "    param: elasticnet (bool): Booling indicator for specifying whether the model is elastic net based\n",
    "    return: (dict) A dictionary mapping the features with their corresponding coefficient estimates.\n",
    "    \"\"\"\n",
    "    # Extract model coefficients\n",
    "    coefficients = model.coef_[0] if not elasticnet else model.coef_\n",
    "    coef_dict = {col:coef for col, coef in zip(fitted_features, coefficients)}\n",
    "    coef_dict_abs = {col:abs(round(coef,2)) for col, coef in zip(fitted_features, coefficients)}\n",
    "    sorted_coefs = sorted(coef_dict_abs.items(), key=operator.itemgetter(1), reverse= True)\n",
    "\n",
    "    # Return the top ten most important features and their coefficients\n",
    "    print(\"Summary of the important features and their corresponding coefficients:\\n\", '-'*100)\n",
    "    ret_dict = dict()\n",
    "    for index, (col, abs_score) in enumerate(sorted_coefs):\n",
    "        if index < top:\n",
    "            print(col, ':', coef_dict[col])\n",
    "        ret_dict[col] = coef_dict[col]\n",
    "    return ret_dict"
   ]
  },
  {
   "cell_type": "code",
   "execution_count": 11,
   "metadata": {
    "ExecuteTime": {
     "end_time": "2019-08-13T08:20:34.965320Z",
     "start_time": "2019-08-13T08:20:34.960600Z"
    }
   },
   "outputs": [],
   "source": [
    "### Function used to draw a random sample from the discrete distribution of probabilities representing the input list\n",
    "def RandomSampleProbDist(list_of_values, draws = 1):\n",
    "    \"\"\"\n",
    "    :param: list_of_values (list): A list of categorical values representing the observations in the dataset\n",
    "    :param: draws (int): The number of samples desired to be returned\n",
    "    :return: (array) An array capturing the sampled categories\n",
    "    \"\"\"\n",
    "    # Only the non-missing values are considered in the sampling procedure\n",
    "    non_missing_list = list_of_values.dropna()\n",
    "    # Sample from the discrete probability distribution representing the categorical variable\n",
    "    return list(choice(list(Counter(non_missing_list)), \n",
    "                  draws, \n",
    "                  p = list(map(lambda x: x/len(non_missing_list), \n",
    "                               Counter(non_missing_list).values()))))[0]"
   ]
  },
  {
   "cell_type": "markdown",
   "metadata": {},
   "source": [
    "## 1. Load preprocessed data in environment"
   ]
  },
  {
   "cell_type": "markdown",
   "metadata": {},
   "source": [
    "### 1.1 Load standardized data"
   ]
  },
  {
   "cell_type": "code",
   "execution_count": 12,
   "metadata": {
    "ExecuteTime": {
     "end_time": "2019-08-13T08:20:36.472413Z",
     "start_time": "2019-08-13T08:20:36.316314Z"
    }
   },
   "outputs": [],
   "source": [
    "# Load pickle\n",
    "with open('/home/je32910/MasterThesis_ComputationalStatistics/pickles/' + loaded_std_filename + '.pickle', 'rb') as f:\n",
    "    data_raw = pickle.load(f)"
   ]
  },
  {
   "cell_type": "code",
   "execution_count": 13,
   "metadata": {
    "ExecuteTime": {
     "end_time": "2019-08-13T08:20:36.832631Z",
     "start_time": "2019-08-13T08:20:36.753997Z"
    },
    "scrolled": true
   },
   "outputs": [
    {
     "data": {
      "text/html": [
       "<div>\n",
       "<style scoped>\n",
       "    .dataframe tbody tr th:only-of-type {\n",
       "        vertical-align: middle;\n",
       "    }\n",
       "\n",
       "    .dataframe tbody tr th {\n",
       "        vertical-align: top;\n",
       "    }\n",
       "\n",
       "    .dataframe thead th {\n",
       "        text-align: right;\n",
       "    }\n",
       "</style>\n",
       "<table border=\"1\" class=\"dataframe\">\n",
       "  <thead>\n",
       "    <tr style=\"text-align: right;\">\n",
       "      <th></th>\n",
       "      <th>split</th>\n",
       "      <th>patchno</th>\n",
       "      <th>gamelength</th>\n",
       "      <th>k</th>\n",
       "      <th>d</th>\n",
       "      <th>a</th>\n",
       "      <th>teamkills</th>\n",
       "      <th>fbtime</th>\n",
       "      <th>kpm</th>\n",
       "      <th>ckpm</th>\n",
       "      <th>...</th>\n",
       "      <th>Encoded_fd</th>\n",
       "      <th>Encoded_herald</th>\n",
       "      <th>Encoded_ft</th>\n",
       "      <th>Encoded_firstmidouter</th>\n",
       "      <th>Encoded_firsttothreetowers</th>\n",
       "      <th>Encoded_fbaron</th>\n",
       "      <th>Encoded_Year</th>\n",
       "      <th>Encoded_culture</th>\n",
       "      <th>team</th>\n",
       "      <th>result</th>\n",
       "    </tr>\n",
       "  </thead>\n",
       "  <tbody>\n",
       "    <tr>\n",
       "      <th>0</th>\n",
       "      <td>-0.090416</td>\n",
       "      <td>-0.789673</td>\n",
       "      <td>0.743053</td>\n",
       "      <td>-0.104260</td>\n",
       "      <td>0.048026</td>\n",
       "      <td>-0.289877</td>\n",
       "      <td>-0.104260</td>\n",
       "      <td>0.656016</td>\n",
       "      <td>-0.317071</td>\n",
       "      <td>-0.305625</td>\n",
       "      <td>...</td>\n",
       "      <td>0.805193</td>\n",
       "      <td>-0.621682</td>\n",
       "      <td>-1.245372</td>\n",
       "      <td>1.245372</td>\n",
       "      <td>-0.802973</td>\n",
       "      <td>-1.277857</td>\n",
       "      <td>-0.927961</td>\n",
       "      <td>1.295818</td>\n",
       "      <td>mvp</td>\n",
       "      <td>0.0</td>\n",
       "    </tr>\n",
       "    <tr>\n",
       "      <th>1</th>\n",
       "      <td>-0.090416</td>\n",
       "      <td>-0.789673</td>\n",
       "      <td>0.743053</td>\n",
       "      <td>0.050891</td>\n",
       "      <td>-0.106979</td>\n",
       "      <td>0.310268</td>\n",
       "      <td>0.050891</td>\n",
       "      <td>0.656016</td>\n",
       "      <td>-0.188847</td>\n",
       "      <td>-0.305625</td>\n",
       "      <td>...</td>\n",
       "      <td>-1.241938</td>\n",
       "      <td>-0.621682</td>\n",
       "      <td>0.802973</td>\n",
       "      <td>-0.802973</td>\n",
       "      <td>1.245372</td>\n",
       "      <td>0.782560</td>\n",
       "      <td>-0.927961</td>\n",
       "      <td>1.295818</td>\n",
       "      <td>jin air green wings</td>\n",
       "      <td>1.0</td>\n",
       "    </tr>\n",
       "    <tr>\n",
       "      <th>2</th>\n",
       "      <td>-0.090416</td>\n",
       "      <td>-0.789673</td>\n",
       "      <td>-0.754466</td>\n",
       "      <td>-1.035167</td>\n",
       "      <td>0.668045</td>\n",
       "      <td>-1.250108</td>\n",
       "      <td>-1.035167</td>\n",
       "      <td>-0.221053</td>\n",
       "      <td>-0.856724</td>\n",
       "      <td>0.288867</td>\n",
       "      <td>...</td>\n",
       "      <td>-1.241938</td>\n",
       "      <td>-0.621682</td>\n",
       "      <td>-1.245372</td>\n",
       "      <td>-0.802973</td>\n",
       "      <td>-0.802973</td>\n",
       "      <td>-1.277857</td>\n",
       "      <td>-0.927961</td>\n",
       "      <td>1.295818</td>\n",
       "      <td>jin air green wings</td>\n",
       "      <td>0.0</td>\n",
       "    </tr>\n",
       "    <tr>\n",
       "      <th>3</th>\n",
       "      <td>-0.090416</td>\n",
       "      <td>-0.789673</td>\n",
       "      <td>-0.754466</td>\n",
       "      <td>0.671495</td>\n",
       "      <td>-1.037009</td>\n",
       "      <td>0.370282</td>\n",
       "      <td>0.671495</td>\n",
       "      <td>-0.221053</td>\n",
       "      <td>1.059069</td>\n",
       "      <td>0.288867</td>\n",
       "      <td>...</td>\n",
       "      <td>0.805193</td>\n",
       "      <td>-0.621682</td>\n",
       "      <td>0.802973</td>\n",
       "      <td>1.245372</td>\n",
       "      <td>1.245372</td>\n",
       "      <td>0.782560</td>\n",
       "      <td>-0.927961</td>\n",
       "      <td>1.295818</td>\n",
       "      <td>mvp</td>\n",
       "      <td>1.0</td>\n",
       "    </tr>\n",
       "    <tr>\n",
       "      <th>4</th>\n",
       "      <td>-0.090416</td>\n",
       "      <td>-0.789673</td>\n",
       "      <td>0.635335</td>\n",
       "      <td>0.671495</td>\n",
       "      <td>-0.571994</td>\n",
       "      <td>1.150470</td>\n",
       "      <td>0.671495</td>\n",
       "      <td>-0.054878</td>\n",
       "      <td>0.372753</td>\n",
       "      <td>-0.127091</td>\n",
       "      <td>...</td>\n",
       "      <td>0.805193</td>\n",
       "      <td>-0.621682</td>\n",
       "      <td>-1.245372</td>\n",
       "      <td>-0.802973</td>\n",
       "      <td>1.245372</td>\n",
       "      <td>-1.277857</td>\n",
       "      <td>-0.927961</td>\n",
       "      <td>1.295818</td>\n",
       "      <td>mvp</td>\n",
       "      <td>1.0</td>\n",
       "    </tr>\n",
       "    <tr>\n",
       "      <th>5</th>\n",
       "      <td>-0.090416</td>\n",
       "      <td>-0.789673</td>\n",
       "      <td>0.635335</td>\n",
       "      <td>-0.569714</td>\n",
       "      <td>0.668045</td>\n",
       "      <td>-0.950036</td>\n",
       "      <td>-0.569714</td>\n",
       "      <td>-0.054878</td>\n",
       "      <td>-0.677393</td>\n",
       "      <td>-0.127091</td>\n",
       "      <td>...</td>\n",
       "      <td>-1.241938</td>\n",
       "      <td>-0.621682</td>\n",
       "      <td>0.802973</td>\n",
       "      <td>1.245372</td>\n",
       "      <td>-0.802973</td>\n",
       "      <td>0.782560</td>\n",
       "      <td>-0.927961</td>\n",
       "      <td>1.295818</td>\n",
       "      <td>jin air green wings</td>\n",
       "      <td>0.0</td>\n",
       "    </tr>\n",
       "    <tr>\n",
       "      <th>6</th>\n",
       "      <td>-0.090416</td>\n",
       "      <td>-0.789673</td>\n",
       "      <td>0.535996</td>\n",
       "      <td>1.292099</td>\n",
       "      <td>-0.726999</td>\n",
       "      <td>0.670355</td>\n",
       "      <td>1.292099</td>\n",
       "      <td>0.971902</td>\n",
       "      <td>0.954676</td>\n",
       "      <td>0.260410</td>\n",
       "      <td>...</td>\n",
       "      <td>0.805193</td>\n",
       "      <td>-0.621682</td>\n",
       "      <td>-1.245372</td>\n",
       "      <td>1.245372</td>\n",
       "      <td>1.245372</td>\n",
       "      <td>0.782560</td>\n",
       "      <td>-0.927961</td>\n",
       "      <td>1.295818</td>\n",
       "      <td>longzhu gaming</td>\n",
       "      <td>1.0</td>\n",
       "    </tr>\n",
       "    <tr>\n",
       "      <th>7</th>\n",
       "      <td>-0.090416</td>\n",
       "      <td>-0.789673</td>\n",
       "      <td>0.535996</td>\n",
       "      <td>-0.724865</td>\n",
       "      <td>1.288065</td>\n",
       "      <td>-0.769992</td>\n",
       "      <td>-0.724865</td>\n",
       "      <td>0.971902</td>\n",
       "      <td>-0.788764</td>\n",
       "      <td>0.260410</td>\n",
       "      <td>...</td>\n",
       "      <td>-1.241938</td>\n",
       "      <td>-0.621682</td>\n",
       "      <td>0.802973</td>\n",
       "      <td>-0.802973</td>\n",
       "      <td>-0.802973</td>\n",
       "      <td>-1.277857</td>\n",
       "      <td>-0.927961</td>\n",
       "      <td>1.295818</td>\n",
       "      <td>kt rolster</td>\n",
       "      <td>0.0</td>\n",
       "    </tr>\n",
       "    <tr>\n",
       "      <th>8</th>\n",
       "      <td>-0.090416</td>\n",
       "      <td>-0.789673</td>\n",
       "      <td>-0.322816</td>\n",
       "      <td>-1.345469</td>\n",
       "      <td>0.048026</td>\n",
       "      <td>-1.310123</td>\n",
       "      <td>-1.345469</td>\n",
       "      <td>0.924970</td>\n",
       "      <td>-1.247195</td>\n",
       "      <td>-0.840134</td>\n",
       "      <td>...</td>\n",
       "      <td>-1.241938</td>\n",
       "      <td>1.608540</td>\n",
       "      <td>-1.245372</td>\n",
       "      <td>-0.802973</td>\n",
       "      <td>1.245372</td>\n",
       "      <td>-1.277857</td>\n",
       "      <td>-0.927961</td>\n",
       "      <td>1.295818</td>\n",
       "      <td>kt rolster</td>\n",
       "      <td>0.0</td>\n",
       "    </tr>\n",
       "    <tr>\n",
       "      <th>9</th>\n",
       "      <td>-0.090416</td>\n",
       "      <td>-0.789673</td>\n",
       "      <td>-0.322816</td>\n",
       "      <td>0.050891</td>\n",
       "      <td>-1.347018</td>\n",
       "      <td>0.130225</td>\n",
       "      <td>0.050891</td>\n",
       "      <td>0.924970</td>\n",
       "      <td>0.193837</td>\n",
       "      <td>-0.840134</td>\n",
       "      <td>...</td>\n",
       "      <td>0.805193</td>\n",
       "      <td>-0.621682</td>\n",
       "      <td>0.802973</td>\n",
       "      <td>1.245372</td>\n",
       "      <td>-0.802973</td>\n",
       "      <td>0.782560</td>\n",
       "      <td>-0.927961</td>\n",
       "      <td>1.295818</td>\n",
       "      <td>longzhu gaming</td>\n",
       "      <td>1.0</td>\n",
       "    </tr>\n",
       "    <tr>\n",
       "      <th>10</th>\n",
       "      <td>-0.090416</td>\n",
       "      <td>-0.789673</td>\n",
       "      <td>1.035400</td>\n",
       "      <td>0.516344</td>\n",
       "      <td>-1.037009</td>\n",
       "      <td>0.130225</td>\n",
       "      <td>0.516344</td>\n",
       "      <td>0.416875</td>\n",
       "      <td>0.074916</td>\n",
       "      <td>-0.838499</td>\n",
       "      <td>...</td>\n",
       "      <td>0.805193</td>\n",
       "      <td>1.608540</td>\n",
       "      <td>0.802973</td>\n",
       "      <td>1.245372</td>\n",
       "      <td>1.245372</td>\n",
       "      <td>0.782560</td>\n",
       "      <td>-0.927961</td>\n",
       "      <td>1.295818</td>\n",
       "      <td>ever8 winners</td>\n",
       "      <td>1.0</td>\n",
       "    </tr>\n",
       "    <tr>\n",
       "      <th>11</th>\n",
       "      <td>-0.090416</td>\n",
       "      <td>-0.789673</td>\n",
       "      <td>1.035400</td>\n",
       "      <td>-1.035167</td>\n",
       "      <td>0.513040</td>\n",
       "      <td>-0.890021</td>\n",
       "      <td>-1.035167</td>\n",
       "      <td>0.416875</td>\n",
       "      <td>-1.126721</td>\n",
       "      <td>-0.838499</td>\n",
       "      <td>...</td>\n",
       "      <td>-1.241938</td>\n",
       "      <td>-0.621682</td>\n",
       "      <td>-1.245372</td>\n",
       "      <td>-0.802973</td>\n",
       "      <td>-0.802973</td>\n",
       "      <td>-1.277857</td>\n",
       "      <td>-0.927961</td>\n",
       "      <td>1.295818</td>\n",
       "      <td>afreeca freecs</td>\n",
       "      <td>0.0</td>\n",
       "    </tr>\n",
       "    <tr>\n",
       "      <th>12</th>\n",
       "      <td>-0.090416</td>\n",
       "      <td>-0.789673</td>\n",
       "      <td>1.662863</td>\n",
       "      <td>0.671495</td>\n",
       "      <td>-0.106979</td>\n",
       "      <td>0.490311</td>\n",
       "      <td>0.671495</td>\n",
       "      <td>1.647485</td>\n",
       "      <td>-0.066041</td>\n",
       "      <td>-0.440101</td>\n",
       "      <td>...</td>\n",
       "      <td>0.805193</td>\n",
       "      <td>-0.621682</td>\n",
       "      <td>0.802973</td>\n",
       "      <td>1.245372</td>\n",
       "      <td>1.245372</td>\n",
       "      <td>-1.277857</td>\n",
       "      <td>-0.927961</td>\n",
       "      <td>1.295818</td>\n",
       "      <td>afreeca freecs</td>\n",
       "      <td>1.0</td>\n",
       "    </tr>\n",
       "    <tr>\n",
       "      <th>13</th>\n",
       "      <td>-0.090416</td>\n",
       "      <td>-0.789673</td>\n",
       "      <td>1.662863</td>\n",
       "      <td>-0.104260</td>\n",
       "      <td>0.668045</td>\n",
       "      <td>-0.229862</td>\n",
       "      <td>-0.104260</td>\n",
       "      <td>1.647485</td>\n",
       "      <td>-0.585259</td>\n",
       "      <td>-0.440101</td>\n",
       "      <td>...</td>\n",
       "      <td>-1.241938</td>\n",
       "      <td>-0.621682</td>\n",
       "      <td>-1.245372</td>\n",
       "      <td>-0.802973</td>\n",
       "      <td>-0.802973</td>\n",
       "      <td>0.782560</td>\n",
       "      <td>-0.927961</td>\n",
       "      <td>1.295818</td>\n",
       "      <td>ever8 winners</td>\n",
       "      <td>0.0</td>\n",
       "    </tr>\n",
       "    <tr>\n",
       "      <th>14</th>\n",
       "      <td>-0.090416</td>\n",
       "      <td>-0.789673</td>\n",
       "      <td>-0.725179</td>\n",
       "      <td>-1.190318</td>\n",
       "      <td>1.288065</td>\n",
       "      <td>-1.130079</td>\n",
       "      <td>-1.190318</td>\n",
       "      <td>-1.457858</td>\n",
       "      <td>-1.034783</td>\n",
       "      <td>0.659653</td>\n",
       "      <td>...</td>\n",
       "      <td>-1.241938</td>\n",
       "      <td>-0.621682</td>\n",
       "      <td>0.802973</td>\n",
       "      <td>-0.802973</td>\n",
       "      <td>-0.802973</td>\n",
       "      <td>-1.277857</td>\n",
       "      <td>-0.927961</td>\n",
       "      <td>1.295818</td>\n",
       "      <td>sk telecom t1</td>\n",
       "      <td>0.0</td>\n",
       "    </tr>\n",
       "    <tr>\n",
       "      <th>15</th>\n",
       "      <td>-0.090416</td>\n",
       "      <td>-0.789673</td>\n",
       "      <td>-0.725179</td>\n",
       "      <td>1.292099</td>\n",
       "      <td>-1.192013</td>\n",
       "      <td>0.910413</td>\n",
       "      <td>1.292099</td>\n",
       "      <td>-1.457858</td>\n",
       "      <td>1.736239</td>\n",
       "      <td>0.659653</td>\n",
       "      <td>...</td>\n",
       "      <td>0.805193</td>\n",
       "      <td>1.608540</td>\n",
       "      <td>-1.245372</td>\n",
       "      <td>1.245372</td>\n",
       "      <td>1.245372</td>\n",
       "      <td>0.782560</td>\n",
       "      <td>-0.927961</td>\n",
       "      <td>1.295818</td>\n",
       "      <td>samsung galaxy</td>\n",
       "      <td>1.0</td>\n",
       "    </tr>\n",
       "    <tr>\n",
       "      <th>16</th>\n",
       "      <td>-0.090416</td>\n",
       "      <td>-0.789673</td>\n",
       "      <td>1.145360</td>\n",
       "      <td>0.050891</td>\n",
       "      <td>-0.726999</td>\n",
       "      <td>0.370282</td>\n",
       "      <td>0.050891</td>\n",
       "      <td>0.050042</td>\n",
       "      <td>-0.321051</td>\n",
       "      <td>-1.029164</td>\n",
       "      <td>...</td>\n",
       "      <td>-1.241938</td>\n",
       "      <td>1.608540</td>\n",
       "      <td>-1.245372</td>\n",
       "      <td>1.245372</td>\n",
       "      <td>-0.802973</td>\n",
       "      <td>0.782560</td>\n",
       "      <td>-0.927961</td>\n",
       "      <td>0.296808</td>\n",
       "      <td>h2k</td>\n",
       "      <td>1.0</td>\n",
       "    </tr>\n",
       "    <tr>\n",
       "      <th>17</th>\n",
       "      <td>-0.090416</td>\n",
       "      <td>-0.789673</td>\n",
       "      <td>1.145360</td>\n",
       "      <td>-0.724865</td>\n",
       "      <td>0.048026</td>\n",
       "      <td>-0.769992</td>\n",
       "      <td>-0.724865</td>\n",
       "      <td>0.050042</td>\n",
       "      <td>-0.907088</td>\n",
       "      <td>-1.029164</td>\n",
       "      <td>...</td>\n",
       "      <td>0.805193</td>\n",
       "      <td>-0.621682</td>\n",
       "      <td>0.802973</td>\n",
       "      <td>-0.802973</td>\n",
       "      <td>1.245372</td>\n",
       "      <td>-1.277857</td>\n",
       "      <td>-0.927961</td>\n",
       "      <td>0.296808</td>\n",
       "      <td>splyce</td>\n",
       "      <td>0.0</td>\n",
       "    </tr>\n",
       "    <tr>\n",
       "      <th>18</th>\n",
       "      <td>-0.090416</td>\n",
       "      <td>-0.789673</td>\n",
       "      <td>-1.889870</td>\n",
       "      <td>-0.724865</td>\n",
       "      <td>2.373099</td>\n",
       "      <td>-1.130079</td>\n",
       "      <td>-0.724865</td>\n",
       "      <td>-1.158366</td>\n",
       "      <td>-0.227447</td>\n",
       "      <td>2.454215</td>\n",
       "      <td>...</td>\n",
       "      <td>-1.241938</td>\n",
       "      <td>-0.621682</td>\n",
       "      <td>-1.245372</td>\n",
       "      <td>-0.802973</td>\n",
       "      <td>-0.802973</td>\n",
       "      <td>-1.277857</td>\n",
       "      <td>-0.927961</td>\n",
       "      <td>0.296808</td>\n",
       "      <td>splyce</td>\n",
       "      <td>0.0</td>\n",
       "    </tr>\n",
       "    <tr>\n",
       "      <th>19</th>\n",
       "      <td>-0.090416</td>\n",
       "      <td>-0.789673</td>\n",
       "      <td>-1.889870</td>\n",
       "      <td>2.378157</td>\n",
       "      <td>-0.726999</td>\n",
       "      <td>1.090456</td>\n",
       "      <td>2.378157</td>\n",
       "      <td>-1.158366</td>\n",
       "      <td>4.058529</td>\n",
       "      <td>2.454215</td>\n",
       "      <td>...</td>\n",
       "      <td>0.805193</td>\n",
       "      <td>1.608540</td>\n",
       "      <td>0.802973</td>\n",
       "      <td>1.245372</td>\n",
       "      <td>1.245372</td>\n",
       "      <td>0.782560</td>\n",
       "      <td>-0.927961</td>\n",
       "      <td>0.296808</td>\n",
       "      <td>h2k</td>\n",
       "      <td>1.0</td>\n",
       "    </tr>\n",
       "    <tr>\n",
       "      <th>20</th>\n",
       "      <td>-0.090416</td>\n",
       "      <td>-0.789673</td>\n",
       "      <td>-0.255738</td>\n",
       "      <td>0.206042</td>\n",
       "      <td>-0.726999</td>\n",
       "      <td>-0.349891</td>\n",
       "      <td>0.206042</td>\n",
       "      <td>-0.244978</td>\n",
       "      <td>0.326340</td>\n",
       "      <td>-0.118977</td>\n",
       "      <td>...</td>\n",
       "      <td>0.805193</td>\n",
       "      <td>1.608540</td>\n",
       "      <td>0.802973</td>\n",
       "      <td>-0.802973</td>\n",
       "      <td>1.245372</td>\n",
       "      <td>0.782560</td>\n",
       "      <td>-0.927961</td>\n",
       "      <td>1.295818</td>\n",
       "      <td>bbq olivers</td>\n",
       "      <td>1.0</td>\n",
       "    </tr>\n",
       "    <tr>\n",
       "      <th>21</th>\n",
       "      <td>-0.090416</td>\n",
       "      <td>-0.789673</td>\n",
       "      <td>-0.255738</td>\n",
       "      <td>-0.724865</td>\n",
       "      <td>0.203031</td>\n",
       "      <td>-1.070065</td>\n",
       "      <td>-0.724865</td>\n",
       "      <td>-0.244978</td>\n",
       "      <td>-0.621604</td>\n",
       "      <td>-0.118977</td>\n",
       "      <td>...</td>\n",
       "      <td>-1.241938</td>\n",
       "      <td>-0.621682</td>\n",
       "      <td>-1.245372</td>\n",
       "      <td>1.245372</td>\n",
       "      <td>-0.802973</td>\n",
       "      <td>-1.277857</td>\n",
       "      <td>-0.927961</td>\n",
       "      <td>1.295818</td>\n",
       "      <td>longzhu gaming</td>\n",
       "      <td>0.0</td>\n",
       "    </tr>\n",
       "    <tr>\n",
       "      <th>22</th>\n",
       "      <td>-0.090416</td>\n",
       "      <td>-0.789673</td>\n",
       "      <td>0.425167</td>\n",
       "      <td>0.516344</td>\n",
       "      <td>-0.882004</td>\n",
       "      <td>0.190239</td>\n",
       "      <td>0.516344</td>\n",
       "      <td>0.260005</td>\n",
       "      <td>0.332295</td>\n",
       "      <td>-0.365508</td>\n",
       "      <td>...</td>\n",
       "      <td>-1.241938</td>\n",
       "      <td>1.608540</td>\n",
       "      <td>0.802973</td>\n",
       "      <td>1.245372</td>\n",
       "      <td>1.245372</td>\n",
       "      <td>0.782560</td>\n",
       "      <td>-0.927961</td>\n",
       "      <td>1.295818</td>\n",
       "      <td>longzhu gaming</td>\n",
       "      <td>1.0</td>\n",
       "    </tr>\n",
       "    <tr>\n",
       "      <th>23</th>\n",
       "      <td>-0.090416</td>\n",
       "      <td>-0.789673</td>\n",
       "      <td>0.425167</td>\n",
       "      <td>-0.880016</td>\n",
       "      <td>0.513040</td>\n",
       "      <td>-1.010050</td>\n",
       "      <td>-0.880016</td>\n",
       "      <td>0.260005</td>\n",
       "      <td>-0.903605</td>\n",
       "      <td>-0.365508</td>\n",
       "      <td>...</td>\n",
       "      <td>0.805193</td>\n",
       "      <td>-0.621682</td>\n",
       "      <td>-1.245372</td>\n",
       "      <td>-0.802973</td>\n",
       "      <td>-0.802973</td>\n",
       "      <td>-1.277857</td>\n",
       "      <td>-0.927961</td>\n",
       "      <td>1.295818</td>\n",
       "      <td>bbq olivers</td>\n",
       "      <td>0.0</td>\n",
       "    </tr>\n",
       "    <tr>\n",
       "      <th>24</th>\n",
       "      <td>-0.090416</td>\n",
       "      <td>-0.789673</td>\n",
       "      <td>0.433508</td>\n",
       "      <td>-0.414563</td>\n",
       "      <td>0.358035</td>\n",
       "      <td>0.070210</td>\n",
       "      <td>-0.414563</td>\n",
       "      <td>-1.154028</td>\n",
       "      <td>-0.493827</td>\n",
       "      <td>-0.125028</td>\n",
       "      <td>...</td>\n",
       "      <td>-1.241938</td>\n",
       "      <td>-0.621682</td>\n",
       "      <td>0.802973</td>\n",
       "      <td>-0.802973</td>\n",
       "      <td>-0.802973</td>\n",
       "      <td>-1.277857</td>\n",
       "      <td>-0.927961</td>\n",
       "      <td>1.295818</td>\n",
       "      <td>rox tigers</td>\n",
       "      <td>0.0</td>\n",
       "    </tr>\n",
       "    <tr>\n",
       "      <th>25</th>\n",
       "      <td>-0.090416</td>\n",
       "      <td>-0.789673</td>\n",
       "      <td>0.433508</td>\n",
       "      <td>0.361193</td>\n",
       "      <td>-0.416989</td>\n",
       "      <td>0.370282</td>\n",
       "      <td>0.361193</td>\n",
       "      <td>-1.154028</td>\n",
       "      <td>0.191569</td>\n",
       "      <td>-0.125028</td>\n",
       "      <td>...</td>\n",
       "      <td>0.805193</td>\n",
       "      <td>1.608540</td>\n",
       "      <td>-1.245372</td>\n",
       "      <td>1.245372</td>\n",
       "      <td>1.245372</td>\n",
       "      <td>0.782560</td>\n",
       "      <td>-0.927961</td>\n",
       "      <td>1.295818</td>\n",
       "      <td>jin air green wings</td>\n",
       "      <td>1.0</td>\n",
       "    </tr>\n",
       "    <tr>\n",
       "      <th>26</th>\n",
       "      <td>-0.090416</td>\n",
       "      <td>-0.789673</td>\n",
       "      <td>-0.898421</td>\n",
       "      <td>-0.259412</td>\n",
       "      <td>-1.657028</td>\n",
       "      <td>-0.049819</td>\n",
       "      <td>-0.259412</td>\n",
       "      <td>0.151449</td>\n",
       "      <td>0.062413</td>\n",
       "      <td>-1.328717</td>\n",
       "      <td>...</td>\n",
       "      <td>0.805193</td>\n",
       "      <td>1.608540</td>\n",
       "      <td>0.802973</td>\n",
       "      <td>1.245372</td>\n",
       "      <td>1.245372</td>\n",
       "      <td>0.782560</td>\n",
       "      <td>-0.927961</td>\n",
       "      <td>1.295818</td>\n",
       "      <td>jin air green wings</td>\n",
       "      <td>1.0</td>\n",
       "    </tr>\n",
       "    <tr>\n",
       "      <th>27</th>\n",
       "      <td>-0.090416</td>\n",
       "      <td>-0.789673</td>\n",
       "      <td>-0.898421</td>\n",
       "      <td>-1.655771</td>\n",
       "      <td>-0.261984</td>\n",
       "      <td>-1.490166</td>\n",
       "      <td>-1.655771</td>\n",
       "      <td>0.151449</td>\n",
       "      <td>-1.548544</td>\n",
       "      <td>-1.328717</td>\n",
       "      <td>...</td>\n",
       "      <td>-1.241938</td>\n",
       "      <td>-0.621682</td>\n",
       "      <td>-1.245372</td>\n",
       "      <td>-0.802973</td>\n",
       "      <td>-0.802973</td>\n",
       "      <td>-1.277857</td>\n",
       "      <td>-0.927961</td>\n",
       "      <td>1.295818</td>\n",
       "      <td>rox tigers</td>\n",
       "      <td>0.0</td>\n",
       "    </tr>\n",
       "    <tr>\n",
       "      <th>28</th>\n",
       "      <td>-0.090416</td>\n",
       "      <td>-0.789673</td>\n",
       "      <td>0.883615</td>\n",
       "      <td>0.826646</td>\n",
       "      <td>-1.037009</td>\n",
       "      <td>0.790384</td>\n",
       "      <td>0.826646</td>\n",
       "      <td>1.134061</td>\n",
       "      <td>0.385769</td>\n",
       "      <td>-0.505596</td>\n",
       "      <td>...</td>\n",
       "      <td>0.805193</td>\n",
       "      <td>-0.621682</td>\n",
       "      <td>0.802973</td>\n",
       "      <td>-0.802973</td>\n",
       "      <td>1.245372</td>\n",
       "      <td>0.782560</td>\n",
       "      <td>-0.927961</td>\n",
       "      <td>0.296808</td>\n",
       "      <td>fnatic</td>\n",
       "      <td>1.0</td>\n",
       "    </tr>\n",
       "    <tr>\n",
       "      <th>29</th>\n",
       "      <td>-0.090416</td>\n",
       "      <td>-0.789673</td>\n",
       "      <td>0.883615</td>\n",
       "      <td>-1.035167</td>\n",
       "      <td>0.823050</td>\n",
       "      <td>-0.950036</td>\n",
       "      <td>-1.035167</td>\n",
       "      <td>1.134061</td>\n",
       "      <td>-1.105978</td>\n",
       "      <td>-0.505596</td>\n",
       "      <td>...</td>\n",
       "      <td>-1.241938</td>\n",
       "      <td>1.608540</td>\n",
       "      <td>-1.245372</td>\n",
       "      <td>1.245372</td>\n",
       "      <td>-0.802973</td>\n",
       "      <td>-1.277857</td>\n",
       "      <td>-0.927961</td>\n",
       "      <td>0.296808</td>\n",
       "      <td>misfits</td>\n",
       "      <td>0.0</td>\n",
       "    </tr>\n",
       "    <tr>\n",
       "      <th>...</th>\n",
       "      <td>...</td>\n",
       "      <td>...</td>\n",
       "      <td>...</td>\n",
       "      <td>...</td>\n",
       "      <td>...</td>\n",
       "      <td>...</td>\n",
       "      <td>...</td>\n",
       "      <td>...</td>\n",
       "      <td>...</td>\n",
       "      <td>...</td>\n",
       "      <td>...</td>\n",
       "      <td>...</td>\n",
       "      <td>...</td>\n",
       "      <td>...</td>\n",
       "      <td>...</td>\n",
       "      <td>...</td>\n",
       "      <td>...</td>\n",
       "      <td>...</td>\n",
       "      <td>...</td>\n",
       "      <td>...</td>\n",
       "      <td>...</td>\n",
       "    </tr>\n",
       "    <tr>\n",
       "      <th>11360</th>\n",
       "      <td>2.194337</td>\n",
       "      <td>1.512066</td>\n",
       "      <td>0.489253</td>\n",
       "      <td>0.671495</td>\n",
       "      <td>-0.106979</td>\n",
       "      <td>0.490311</td>\n",
       "      <td>0.671495</td>\n",
       "      <td>-0.622428</td>\n",
       "      <td>0.439822</td>\n",
       "      <td>0.288867</td>\n",
       "      <td>...</td>\n",
       "      <td>0.805193</td>\n",
       "      <td>1.608540</td>\n",
       "      <td>0.802973</td>\n",
       "      <td>1.245372</td>\n",
       "      <td>1.245372</td>\n",
       "      <td>-1.277857</td>\n",
       "      <td>1.077632</td>\n",
       "      <td>-1.701210</td>\n",
       "      <td>g-rex</td>\n",
       "      <td>1.0</td>\n",
       "    </tr>\n",
       "    <tr>\n",
       "      <th>11361</th>\n",
       "      <td>2.194337</td>\n",
       "      <td>1.512066</td>\n",
       "      <td>0.489253</td>\n",
       "      <td>-0.104260</td>\n",
       "      <td>0.668045</td>\n",
       "      <td>0.070210</td>\n",
       "      <td>-0.104260</td>\n",
       "      <td>-0.622428</td>\n",
       "      <td>-0.237478</td>\n",
       "      <td>0.288867</td>\n",
       "      <td>...</td>\n",
       "      <td>-1.241938</td>\n",
       "      <td>-0.621682</td>\n",
       "      <td>-1.245372</td>\n",
       "      <td>-0.802973</td>\n",
       "      <td>-0.802973</td>\n",
       "      <td>0.782560</td>\n",
       "      <td>1.077632</td>\n",
       "      <td>-1.701210</td>\n",
       "      <td>hong kong attitude</td>\n",
       "      <td>0.0</td>\n",
       "    </tr>\n",
       "    <tr>\n",
       "      <th>11362</th>\n",
       "      <td>2.194337</td>\n",
       "      <td>1.512066</td>\n",
       "      <td>-1.994314</td>\n",
       "      <td>-1.500620</td>\n",
       "      <td>-0.261984</td>\n",
       "      <td>-1.310123</td>\n",
       "      <td>-1.500620</td>\n",
       "      <td>0.308247</td>\n",
       "      <td>-1.291088</td>\n",
       "      <td>-0.618743</td>\n",
       "      <td>...</td>\n",
       "      <td>-1.241938</td>\n",
       "      <td>-0.621682</td>\n",
       "      <td>-1.245372</td>\n",
       "      <td>-0.802973</td>\n",
       "      <td>-0.802973</td>\n",
       "      <td>-1.277857</td>\n",
       "      <td>1.077632</td>\n",
       "      <td>-1.701210</td>\n",
       "      <td>hong kong attitude</td>\n",
       "      <td>0.0</td>\n",
       "    </tr>\n",
       "    <tr>\n",
       "      <th>11363</th>\n",
       "      <td>2.194337</td>\n",
       "      <td>1.512066</td>\n",
       "      <td>-1.994314</td>\n",
       "      <td>-0.259412</td>\n",
       "      <td>-1.502023</td>\n",
       "      <td>-0.229862</td>\n",
       "      <td>-0.259412</td>\n",
       "      <td>0.308247</td>\n",
       "      <td>0.454715</td>\n",
       "      <td>-0.618743</td>\n",
       "      <td>...</td>\n",
       "      <td>0.805193</td>\n",
       "      <td>1.608540</td>\n",
       "      <td>0.802973</td>\n",
       "      <td>1.245372</td>\n",
       "      <td>1.245372</td>\n",
       "      <td>0.782560</td>\n",
       "      <td>1.077632</td>\n",
       "      <td>-1.701210</td>\n",
       "      <td>g-rex</td>\n",
       "      <td>1.0</td>\n",
       "    </tr>\n",
       "    <tr>\n",
       "      <th>11364</th>\n",
       "      <td>2.194337</td>\n",
       "      <td>1.512066</td>\n",
       "      <td>-2.796709</td>\n",
       "      <td>1.136948</td>\n",
       "      <td>-1.192013</td>\n",
       "      <td>1.510557</td>\n",
       "      <td>1.136948</td>\n",
       "      <td>-1.257236</td>\n",
       "      <td>3.017279</td>\n",
       "      <td>1.658938</td>\n",
       "      <td>...</td>\n",
       "      <td>0.805193</td>\n",
       "      <td>1.608540</td>\n",
       "      <td>0.802973</td>\n",
       "      <td>1.245372</td>\n",
       "      <td>1.245372</td>\n",
       "      <td>0.782560</td>\n",
       "      <td>1.077632</td>\n",
       "      <td>-1.701210</td>\n",
       "      <td>g-rex</td>\n",
       "      <td>1.0</td>\n",
       "    </tr>\n",
       "    <tr>\n",
       "      <th>11365</th>\n",
       "      <td>2.194337</td>\n",
       "      <td>1.512066</td>\n",
       "      <td>-2.796709</td>\n",
       "      <td>-1.190318</td>\n",
       "      <td>1.133060</td>\n",
       "      <td>-1.070065</td>\n",
       "      <td>-1.190318</td>\n",
       "      <td>-1.257236</td>\n",
       "      <td>-0.728630</td>\n",
       "      <td>1.658938</td>\n",
       "      <td>...</td>\n",
       "      <td>-1.241938</td>\n",
       "      <td>-0.621682</td>\n",
       "      <td>-1.245372</td>\n",
       "      <td>-0.802973</td>\n",
       "      <td>-0.802973</td>\n",
       "      <td>0.782560</td>\n",
       "      <td>1.077632</td>\n",
       "      <td>-1.701210</td>\n",
       "      <td>hong kong attitude</td>\n",
       "      <td>0.0</td>\n",
       "    </tr>\n",
       "    <tr>\n",
       "      <th>11366</th>\n",
       "      <td>2.194337</td>\n",
       "      <td>1.512066</td>\n",
       "      <td>-0.590628</td>\n",
       "      <td>-0.569714</td>\n",
       "      <td>-1.502023</td>\n",
       "      <td>-0.349891</td>\n",
       "      <td>-0.569714</td>\n",
       "      <td>0.294600</td>\n",
       "      <td>-0.377515</td>\n",
       "      <td>-1.689577</td>\n",
       "      <td>...</td>\n",
       "      <td>0.805193</td>\n",
       "      <td>1.608540</td>\n",
       "      <td>0.802973</td>\n",
       "      <td>1.245372</td>\n",
       "      <td>1.245372</td>\n",
       "      <td>-1.277857</td>\n",
       "      <td>1.077632</td>\n",
       "      <td>-1.701210</td>\n",
       "      <td>j team</td>\n",
       "      <td>1.0</td>\n",
       "    </tr>\n",
       "    <tr>\n",
       "      <th>11367</th>\n",
       "      <td>2.194337</td>\n",
       "      <td>1.512066</td>\n",
       "      <td>-0.590628</td>\n",
       "      <td>-1.500620</td>\n",
       "      <td>-0.571994</td>\n",
       "      <td>-1.250108</td>\n",
       "      <td>-1.500620</td>\n",
       "      <td>0.294600</td>\n",
       "      <td>-1.390033</td>\n",
       "      <td>-1.689577</td>\n",
       "      <td>...</td>\n",
       "      <td>-1.241938</td>\n",
       "      <td>-0.621682</td>\n",
       "      <td>-1.245372</td>\n",
       "      <td>-0.802973</td>\n",
       "      <td>-0.802973</td>\n",
       "      <td>0.782560</td>\n",
       "      <td>1.077632</td>\n",
       "      <td>-1.701210</td>\n",
       "      <td>machi 17</td>\n",
       "      <td>0.0</td>\n",
       "    </tr>\n",
       "    <tr>\n",
       "      <th>11368</th>\n",
       "      <td>2.194337</td>\n",
       "      <td>1.512066</td>\n",
       "      <td>-0.341098</td>\n",
       "      <td>-0.724865</td>\n",
       "      <td>0.358035</td>\n",
       "      <td>-1.250108</td>\n",
       "      <td>-0.724865</td>\n",
       "      <td>-0.874372</td>\n",
       "      <td>-0.602665</td>\n",
       "      <td>0.062363</td>\n",
       "      <td>...</td>\n",
       "      <td>-1.241938</td>\n",
       "      <td>1.608540</td>\n",
       "      <td>0.802973</td>\n",
       "      <td>-0.802973</td>\n",
       "      <td>-0.802973</td>\n",
       "      <td>-1.277857</td>\n",
       "      <td>1.077632</td>\n",
       "      <td>-1.701210</td>\n",
       "      <td>j team</td>\n",
       "      <td>0.0</td>\n",
       "    </tr>\n",
       "    <tr>\n",
       "      <th>11369</th>\n",
       "      <td>2.194337</td>\n",
       "      <td>1.512066</td>\n",
       "      <td>-0.341098</td>\n",
       "      <td>0.361193</td>\n",
       "      <td>-0.726999</td>\n",
       "      <td>0.610340</td>\n",
       "      <td>0.361193</td>\n",
       "      <td>-0.874372</td>\n",
       "      <td>0.522209</td>\n",
       "      <td>0.062363</td>\n",
       "      <td>...</td>\n",
       "      <td>0.805193</td>\n",
       "      <td>-0.621682</td>\n",
       "      <td>-1.245372</td>\n",
       "      <td>1.245372</td>\n",
       "      <td>1.245372</td>\n",
       "      <td>0.782560</td>\n",
       "      <td>1.077632</td>\n",
       "      <td>-1.701210</td>\n",
       "      <td>machi 17</td>\n",
       "      <td>1.0</td>\n",
       "    </tr>\n",
       "    <tr>\n",
       "      <th>11370</th>\n",
       "      <td>2.194337</td>\n",
       "      <td>1.512066</td>\n",
       "      <td>-1.191110</td>\n",
       "      <td>-0.104260</td>\n",
       "      <td>-0.261984</td>\n",
       "      <td>0.070210</td>\n",
       "      <td>-0.104260</td>\n",
       "      <td>-0.834815</td>\n",
       "      <td>0.351997</td>\n",
       "      <td>0.525043</td>\n",
       "      <td>...</td>\n",
       "      <td>0.805193</td>\n",
       "      <td>1.608540</td>\n",
       "      <td>-1.245372</td>\n",
       "      <td>1.245372</td>\n",
       "      <td>1.245372</td>\n",
       "      <td>0.782560</td>\n",
       "      <td>1.077632</td>\n",
       "      <td>-1.701210</td>\n",
       "      <td>j team</td>\n",
       "      <td>1.0</td>\n",
       "    </tr>\n",
       "    <tr>\n",
       "      <th>11371</th>\n",
       "      <td>2.194337</td>\n",
       "      <td>1.512066</td>\n",
       "      <td>-1.191110</td>\n",
       "      <td>-0.259412</td>\n",
       "      <td>-0.106979</td>\n",
       "      <td>-0.950036</td>\n",
       "      <td>-0.259412</td>\n",
       "      <td>-0.834815</td>\n",
       "      <td>0.162948</td>\n",
       "      <td>0.525043</td>\n",
       "      <td>...</td>\n",
       "      <td>-1.241938</td>\n",
       "      <td>-0.621682</td>\n",
       "      <td>0.802973</td>\n",
       "      <td>-0.802973</td>\n",
       "      <td>-0.802973</td>\n",
       "      <td>-1.277857</td>\n",
       "      <td>1.077632</td>\n",
       "      <td>-1.701210</td>\n",
       "      <td>machi 17</td>\n",
       "      <td>0.0</td>\n",
       "    </tr>\n",
       "    <tr>\n",
       "      <th>11372</th>\n",
       "      <td>2.194337</td>\n",
       "      <td>1.512066</td>\n",
       "      <td>-0.103279</td>\n",
       "      <td>0.826646</td>\n",
       "      <td>-0.106979</td>\n",
       "      <td>0.370282</td>\n",
       "      <td>0.826646</td>\n",
       "      <td>-1.094034</td>\n",
       "      <td>0.877236</td>\n",
       "      <td>0.753489</td>\n",
       "      <td>...</td>\n",
       "      <td>0.805193</td>\n",
       "      <td>-0.621682</td>\n",
       "      <td>0.802973</td>\n",
       "      <td>-0.802973</td>\n",
       "      <td>1.245372</td>\n",
       "      <td>0.782560</td>\n",
       "      <td>1.077632</td>\n",
       "      <td>-1.701210</td>\n",
       "      <td>machi 17</td>\n",
       "      <td>1.0</td>\n",
       "    </tr>\n",
       "    <tr>\n",
       "      <th>11373</th>\n",
       "      <td>2.194337</td>\n",
       "      <td>1.512066</td>\n",
       "      <td>-0.103279</td>\n",
       "      <td>-0.104260</td>\n",
       "      <td>0.823050</td>\n",
       "      <td>-0.049819</td>\n",
       "      <td>-0.104260</td>\n",
       "      <td>-1.094034</td>\n",
       "      <td>-0.042096</td>\n",
       "      <td>0.753489</td>\n",
       "      <td>...</td>\n",
       "      <td>-1.241938</td>\n",
       "      <td>1.608540</td>\n",
       "      <td>-1.245372</td>\n",
       "      <td>1.245372</td>\n",
       "      <td>-0.802973</td>\n",
       "      <td>-1.277857</td>\n",
       "      <td>1.077632</td>\n",
       "      <td>-1.701210</td>\n",
       "      <td>j team</td>\n",
       "      <td>0.0</td>\n",
       "    </tr>\n",
       "    <tr>\n",
       "      <th>11374</th>\n",
       "      <td>2.194337</td>\n",
       "      <td>1.512066</td>\n",
       "      <td>0.098441</td>\n",
       "      <td>0.981797</td>\n",
       "      <td>-0.726999</td>\n",
       "      <td>0.730369</td>\n",
       "      <td>0.981797</td>\n",
       "      <td>-1.333306</td>\n",
       "      <td>0.919143</td>\n",
       "      <td>0.303258</td>\n",
       "      <td>...</td>\n",
       "      <td>0.805193</td>\n",
       "      <td>1.608540</td>\n",
       "      <td>0.802973</td>\n",
       "      <td>1.245372</td>\n",
       "      <td>1.245372</td>\n",
       "      <td>0.782560</td>\n",
       "      <td>1.077632</td>\n",
       "      <td>-1.701210</td>\n",
       "      <td>j team</td>\n",
       "      <td>1.0</td>\n",
       "    </tr>\n",
       "    <tr>\n",
       "      <th>11375</th>\n",
       "      <td>2.194337</td>\n",
       "      <td>1.512066</td>\n",
       "      <td>0.098441</td>\n",
       "      <td>-0.724865</td>\n",
       "      <td>0.978055</td>\n",
       "      <td>-0.890021</td>\n",
       "      <td>-0.724865</td>\n",
       "      <td>-1.333306</td>\n",
       "      <td>-0.698274</td>\n",
       "      <td>0.303258</td>\n",
       "      <td>...</td>\n",
       "      <td>-1.241938</td>\n",
       "      <td>-0.621682</td>\n",
       "      <td>-1.245372</td>\n",
       "      <td>-0.802973</td>\n",
       "      <td>-0.802973</td>\n",
       "      <td>-1.277857</td>\n",
       "      <td>1.077632</td>\n",
       "      <td>-1.701210</td>\n",
       "      <td>machi 17</td>\n",
       "      <td>0.0</td>\n",
       "    </tr>\n",
       "    <tr>\n",
       "      <th>11376</th>\n",
       "      <td>2.194337</td>\n",
       "      <td>1.512066</td>\n",
       "      <td>0.406324</td>\n",
       "      <td>0.671495</td>\n",
       "      <td>-0.726999</td>\n",
       "      <td>1.150470</td>\n",
       "      <td>0.671495</td>\n",
       "      <td>-0.172724</td>\n",
       "      <td>0.478422</td>\n",
       "      <td>-0.109259</td>\n",
       "      <td>...</td>\n",
       "      <td>-1.241938</td>\n",
       "      <td>1.608540</td>\n",
       "      <td>0.802973</td>\n",
       "      <td>1.245372</td>\n",
       "      <td>1.245372</td>\n",
       "      <td>0.782560</td>\n",
       "      <td>1.077632</td>\n",
       "      <td>-1.701210</td>\n",
       "      <td>g-rex</td>\n",
       "      <td>1.0</td>\n",
       "    </tr>\n",
       "    <tr>\n",
       "      <th>11377</th>\n",
       "      <td>2.194337</td>\n",
       "      <td>1.512066</td>\n",
       "      <td>0.406324</td>\n",
       "      <td>-0.724865</td>\n",
       "      <td>0.668045</td>\n",
       "      <td>-0.349891</td>\n",
       "      <td>-0.724865</td>\n",
       "      <td>-0.172724</td>\n",
       "      <td>-0.762431</td>\n",
       "      <td>-0.109259</td>\n",
       "      <td>...</td>\n",
       "      <td>0.805193</td>\n",
       "      <td>-0.621682</td>\n",
       "      <td>-1.245372</td>\n",
       "      <td>-0.802973</td>\n",
       "      <td>-0.802973</td>\n",
       "      <td>-1.277857</td>\n",
       "      <td>1.077632</td>\n",
       "      <td>-1.701210</td>\n",
       "      <td>j team</td>\n",
       "      <td>0.0</td>\n",
       "    </tr>\n",
       "    <tr>\n",
       "      <th>11378</th>\n",
       "      <td>2.194337</td>\n",
       "      <td>1.512066</td>\n",
       "      <td>0.016826</td>\n",
       "      <td>-0.569714</td>\n",
       "      <td>1.598075</td>\n",
       "      <td>-0.409906</td>\n",
       "      <td>-0.569714</td>\n",
       "      <td>2.026513</td>\n",
       "      <td>-0.531356</td>\n",
       "      <td>0.886984</td>\n",
       "      <td>...</td>\n",
       "      <td>0.805193</td>\n",
       "      <td>-0.621682</td>\n",
       "      <td>0.802973</td>\n",
       "      <td>-0.802973</td>\n",
       "      <td>-0.802973</td>\n",
       "      <td>-1.277857</td>\n",
       "      <td>1.077632</td>\n",
       "      <td>-1.701210</td>\n",
       "      <td>j team</td>\n",
       "      <td>0.0</td>\n",
       "    </tr>\n",
       "    <tr>\n",
       "      <th>11379</th>\n",
       "      <td>2.194337</td>\n",
       "      <td>1.512066</td>\n",
       "      <td>0.016826</td>\n",
       "      <td>1.602402</td>\n",
       "      <td>-0.571994</td>\n",
       "      <td>1.990673</td>\n",
       "      <td>1.602402</td>\n",
       "      <td>2.026513</td>\n",
       "      <td>1.561963</td>\n",
       "      <td>0.886984</td>\n",
       "      <td>...</td>\n",
       "      <td>-1.241938</td>\n",
       "      <td>-0.621682</td>\n",
       "      <td>-1.245372</td>\n",
       "      <td>1.245372</td>\n",
       "      <td>1.245372</td>\n",
       "      <td>0.782560</td>\n",
       "      <td>1.077632</td>\n",
       "      <td>-1.701210</td>\n",
       "      <td>g-rex</td>\n",
       "      <td>1.0</td>\n",
       "    </tr>\n",
       "    <tr>\n",
       "      <th>11380</th>\n",
       "      <td>2.194337</td>\n",
       "      <td>1.512066</td>\n",
       "      <td>0.227256</td>\n",
       "      <td>0.206042</td>\n",
       "      <td>-0.882004</td>\n",
       "      <td>0.190239</td>\n",
       "      <td>0.206042</td>\n",
       "      <td>0.172209</td>\n",
       "      <td>0.133581</td>\n",
       "      <td>-0.519789</td>\n",
       "      <td>...</td>\n",
       "      <td>0.805193</td>\n",
       "      <td>1.608540</td>\n",
       "      <td>0.802973</td>\n",
       "      <td>1.245372</td>\n",
       "      <td>1.245372</td>\n",
       "      <td>0.782560</td>\n",
       "      <td>1.077632</td>\n",
       "      <td>-1.701210</td>\n",
       "      <td>g-rex</td>\n",
       "      <td>1.0</td>\n",
       "    </tr>\n",
       "    <tr>\n",
       "      <th>11381</th>\n",
       "      <td>2.194337</td>\n",
       "      <td>1.512066</td>\n",
       "      <td>0.227256</td>\n",
       "      <td>-0.880016</td>\n",
       "      <td>0.203031</td>\n",
       "      <td>-1.070065</td>\n",
       "      <td>-0.880016</td>\n",
       "      <td>0.172209</td>\n",
       "      <td>-0.868561</td>\n",
       "      <td>-0.519789</td>\n",
       "      <td>...</td>\n",
       "      <td>-1.241938</td>\n",
       "      <td>-0.621682</td>\n",
       "      <td>-1.245372</td>\n",
       "      <td>-0.802973</td>\n",
       "      <td>-0.802973</td>\n",
       "      <td>-1.277857</td>\n",
       "      <td>1.077632</td>\n",
       "      <td>-1.701210</td>\n",
       "      <td>j team</td>\n",
       "      <td>0.0</td>\n",
       "    </tr>\n",
       "    <tr>\n",
       "      <th>11382</th>\n",
       "      <td>1.337969</td>\n",
       "      <td>1.429861</td>\n",
       "      <td>-1.610552</td>\n",
       "      <td>-1.190318</td>\n",
       "      <td>0.978055</td>\n",
       "      <td>-1.070065</td>\n",
       "      <td>-1.190318</td>\n",
       "      <td>0.334334</td>\n",
       "      <td>-0.911566</td>\n",
       "      <td>0.888440</td>\n",
       "      <td>...</td>\n",
       "      <td>-1.241938</td>\n",
       "      <td>-0.621682</td>\n",
       "      <td>-1.245372</td>\n",
       "      <td>-0.802973</td>\n",
       "      <td>-0.802973</td>\n",
       "      <td>-1.277857</td>\n",
       "      <td>1.077632</td>\n",
       "      <td>0.796313</td>\n",
       "      <td>supermassive</td>\n",
       "      <td>0.0</td>\n",
       "    </tr>\n",
       "    <tr>\n",
       "      <th>11383</th>\n",
       "      <td>1.337969</td>\n",
       "      <td>1.429861</td>\n",
       "      <td>-1.610552</td>\n",
       "      <td>0.981797</td>\n",
       "      <td>-1.192013</td>\n",
       "      <td>1.210485</td>\n",
       "      <td>0.981797</td>\n",
       "      <td>0.334334</td>\n",
       "      <td>1.944340</td>\n",
       "      <td>0.888440</td>\n",
       "      <td>...</td>\n",
       "      <td>0.805193</td>\n",
       "      <td>1.608540</td>\n",
       "      <td>0.802973</td>\n",
       "      <td>1.245372</td>\n",
       "      <td>1.245372</td>\n",
       "      <td>0.782560</td>\n",
       "      <td>1.077632</td>\n",
       "      <td>0.796313</td>\n",
       "      <td>royal bandits e-sports</td>\n",
       "      <td>1.0</td>\n",
       "    </tr>\n",
       "    <tr>\n",
       "      <th>11384</th>\n",
       "      <td>1.337969</td>\n",
       "      <td>1.429861</td>\n",
       "      <td>-0.115525</td>\n",
       "      <td>-0.414563</td>\n",
       "      <td>1.133060</td>\n",
       "      <td>-0.109833</td>\n",
       "      <td>-0.414563</td>\n",
       "      <td>-1.146925</td>\n",
       "      <td>-0.345120</td>\n",
       "      <td>0.760868</td>\n",
       "      <td>...</td>\n",
       "      <td>-1.241938</td>\n",
       "      <td>-0.621682</td>\n",
       "      <td>-1.245372</td>\n",
       "      <td>-0.802973</td>\n",
       "      <td>-0.802973</td>\n",
       "      <td>-1.277857</td>\n",
       "      <td>1.077632</td>\n",
       "      <td>0.796313</td>\n",
       "      <td>royal bandits e-sports</td>\n",
       "      <td>0.0</td>\n",
       "    </tr>\n",
       "    <tr>\n",
       "      <th>11385</th>\n",
       "      <td>1.337969</td>\n",
       "      <td>1.429861</td>\n",
       "      <td>-0.115525</td>\n",
       "      <td>1.136948</td>\n",
       "      <td>-0.416989</td>\n",
       "      <td>1.090456</td>\n",
       "      <td>1.136948</td>\n",
       "      <td>-1.146925</td>\n",
       "      <td>1.190900</td>\n",
       "      <td>0.760868</td>\n",
       "      <td>...</td>\n",
       "      <td>0.805193</td>\n",
       "      <td>1.608540</td>\n",
       "      <td>0.802973</td>\n",
       "      <td>1.245372</td>\n",
       "      <td>1.245372</td>\n",
       "      <td>0.782560</td>\n",
       "      <td>1.077632</td>\n",
       "      <td>0.796313</td>\n",
       "      <td>supermassive</td>\n",
       "      <td>1.0</td>\n",
       "    </tr>\n",
       "    <tr>\n",
       "      <th>11386</th>\n",
       "      <td>1.337969</td>\n",
       "      <td>1.429861</td>\n",
       "      <td>0.704999</td>\n",
       "      <td>1.136948</td>\n",
       "      <td>0.203031</td>\n",
       "      <td>1.450543</td>\n",
       "      <td>1.136948</td>\n",
       "      <td>0.310212</td>\n",
       "      <td>0.729068</td>\n",
       "      <td>0.646077</td>\n",
       "      <td>...</td>\n",
       "      <td>0.805193</td>\n",
       "      <td>-0.621682</td>\n",
       "      <td>0.802973</td>\n",
       "      <td>-0.802973</td>\n",
       "      <td>-0.802973</td>\n",
       "      <td>0.782560</td>\n",
       "      <td>1.077632</td>\n",
       "      <td>0.796313</td>\n",
       "      <td>supermassive</td>\n",
       "      <td>1.0</td>\n",
       "    </tr>\n",
       "    <tr>\n",
       "      <th>11387</th>\n",
       "      <td>1.337969</td>\n",
       "      <td>1.429861</td>\n",
       "      <td>0.704999</td>\n",
       "      <td>0.206042</td>\n",
       "      <td>1.133060</td>\n",
       "      <td>-0.049819</td>\n",
       "      <td>0.206042</td>\n",
       "      <td>0.310212</td>\n",
       "      <td>-0.046703</td>\n",
       "      <td>0.646077</td>\n",
       "      <td>...</td>\n",
       "      <td>-1.241938</td>\n",
       "      <td>1.608540</td>\n",
       "      <td>-1.245372</td>\n",
       "      <td>1.245372</td>\n",
       "      <td>1.245372</td>\n",
       "      <td>-1.277857</td>\n",
       "      <td>1.077632</td>\n",
       "      <td>0.796313</td>\n",
       "      <td>royal bandits e-sports</td>\n",
       "      <td>0.0</td>\n",
       "    </tr>\n",
       "    <tr>\n",
       "      <th>11388</th>\n",
       "      <td>1.337969</td>\n",
       "      <td>1.429861</td>\n",
       "      <td>0.823351</td>\n",
       "      <td>1.447250</td>\n",
       "      <td>1.443070</td>\n",
       "      <td>1.630586</td>\n",
       "      <td>1.447250</td>\n",
       "      <td>-0.225731</td>\n",
       "      <td>0.918066</td>\n",
       "      <td>1.396712</td>\n",
       "      <td>...</td>\n",
       "      <td>-1.241938</td>\n",
       "      <td>-0.621682</td>\n",
       "      <td>0.802973</td>\n",
       "      <td>-0.802973</td>\n",
       "      <td>1.245372</td>\n",
       "      <td>0.782560</td>\n",
       "      <td>1.077632</td>\n",
       "      <td>0.796313</td>\n",
       "      <td>royal bandits e-sports</td>\n",
       "      <td>0.0</td>\n",
       "    </tr>\n",
       "    <tr>\n",
       "      <th>11389</th>\n",
       "      <td>1.337969</td>\n",
       "      <td>1.429861</td>\n",
       "      <td>0.823351</td>\n",
       "      <td>1.447250</td>\n",
       "      <td>1.443070</td>\n",
       "      <td>1.330514</td>\n",
       "      <td>1.447250</td>\n",
       "      <td>-0.225731</td>\n",
       "      <td>0.918066</td>\n",
       "      <td>1.396712</td>\n",
       "      <td>...</td>\n",
       "      <td>0.805193</td>\n",
       "      <td>1.608540</td>\n",
       "      <td>-1.245372</td>\n",
       "      <td>1.245372</td>\n",
       "      <td>-0.802973</td>\n",
       "      <td>-1.277857</td>\n",
       "      <td>1.077632</td>\n",
       "      <td>0.796313</td>\n",
       "      <td>supermassive</td>\n",
       "      <td>1.0</td>\n",
       "    </tr>\n",
       "  </tbody>\n",
       "</table>\n",
       "<p>11390 rows × 74 columns</p>\n",
       "</div>"
      ],
      "text/plain": [
       "          split   patchno  gamelength         k         d         a  \\\n",
       "0     -0.090416 -0.789673    0.743053 -0.104260  0.048026 -0.289877   \n",
       "1     -0.090416 -0.789673    0.743053  0.050891 -0.106979  0.310268   \n",
       "2     -0.090416 -0.789673   -0.754466 -1.035167  0.668045 -1.250108   \n",
       "3     -0.090416 -0.789673   -0.754466  0.671495 -1.037009  0.370282   \n",
       "4     -0.090416 -0.789673    0.635335  0.671495 -0.571994  1.150470   \n",
       "5     -0.090416 -0.789673    0.635335 -0.569714  0.668045 -0.950036   \n",
       "6     -0.090416 -0.789673    0.535996  1.292099 -0.726999  0.670355   \n",
       "7     -0.090416 -0.789673    0.535996 -0.724865  1.288065 -0.769992   \n",
       "8     -0.090416 -0.789673   -0.322816 -1.345469  0.048026 -1.310123   \n",
       "9     -0.090416 -0.789673   -0.322816  0.050891 -1.347018  0.130225   \n",
       "10    -0.090416 -0.789673    1.035400  0.516344 -1.037009  0.130225   \n",
       "11    -0.090416 -0.789673    1.035400 -1.035167  0.513040 -0.890021   \n",
       "12    -0.090416 -0.789673    1.662863  0.671495 -0.106979  0.490311   \n",
       "13    -0.090416 -0.789673    1.662863 -0.104260  0.668045 -0.229862   \n",
       "14    -0.090416 -0.789673   -0.725179 -1.190318  1.288065 -1.130079   \n",
       "15    -0.090416 -0.789673   -0.725179  1.292099 -1.192013  0.910413   \n",
       "16    -0.090416 -0.789673    1.145360  0.050891 -0.726999  0.370282   \n",
       "17    -0.090416 -0.789673    1.145360 -0.724865  0.048026 -0.769992   \n",
       "18    -0.090416 -0.789673   -1.889870 -0.724865  2.373099 -1.130079   \n",
       "19    -0.090416 -0.789673   -1.889870  2.378157 -0.726999  1.090456   \n",
       "20    -0.090416 -0.789673   -0.255738  0.206042 -0.726999 -0.349891   \n",
       "21    -0.090416 -0.789673   -0.255738 -0.724865  0.203031 -1.070065   \n",
       "22    -0.090416 -0.789673    0.425167  0.516344 -0.882004  0.190239   \n",
       "23    -0.090416 -0.789673    0.425167 -0.880016  0.513040 -1.010050   \n",
       "24    -0.090416 -0.789673    0.433508 -0.414563  0.358035  0.070210   \n",
       "25    -0.090416 -0.789673    0.433508  0.361193 -0.416989  0.370282   \n",
       "26    -0.090416 -0.789673   -0.898421 -0.259412 -1.657028 -0.049819   \n",
       "27    -0.090416 -0.789673   -0.898421 -1.655771 -0.261984 -1.490166   \n",
       "28    -0.090416 -0.789673    0.883615  0.826646 -1.037009  0.790384   \n",
       "29    -0.090416 -0.789673    0.883615 -1.035167  0.823050 -0.950036   \n",
       "...         ...       ...         ...       ...       ...       ...   \n",
       "11360  2.194337  1.512066    0.489253  0.671495 -0.106979  0.490311   \n",
       "11361  2.194337  1.512066    0.489253 -0.104260  0.668045  0.070210   \n",
       "11362  2.194337  1.512066   -1.994314 -1.500620 -0.261984 -1.310123   \n",
       "11363  2.194337  1.512066   -1.994314 -0.259412 -1.502023 -0.229862   \n",
       "11364  2.194337  1.512066   -2.796709  1.136948 -1.192013  1.510557   \n",
       "11365  2.194337  1.512066   -2.796709 -1.190318  1.133060 -1.070065   \n",
       "11366  2.194337  1.512066   -0.590628 -0.569714 -1.502023 -0.349891   \n",
       "11367  2.194337  1.512066   -0.590628 -1.500620 -0.571994 -1.250108   \n",
       "11368  2.194337  1.512066   -0.341098 -0.724865  0.358035 -1.250108   \n",
       "11369  2.194337  1.512066   -0.341098  0.361193 -0.726999  0.610340   \n",
       "11370  2.194337  1.512066   -1.191110 -0.104260 -0.261984  0.070210   \n",
       "11371  2.194337  1.512066   -1.191110 -0.259412 -0.106979 -0.950036   \n",
       "11372  2.194337  1.512066   -0.103279  0.826646 -0.106979  0.370282   \n",
       "11373  2.194337  1.512066   -0.103279 -0.104260  0.823050 -0.049819   \n",
       "11374  2.194337  1.512066    0.098441  0.981797 -0.726999  0.730369   \n",
       "11375  2.194337  1.512066    0.098441 -0.724865  0.978055 -0.890021   \n",
       "11376  2.194337  1.512066    0.406324  0.671495 -0.726999  1.150470   \n",
       "11377  2.194337  1.512066    0.406324 -0.724865  0.668045 -0.349891   \n",
       "11378  2.194337  1.512066    0.016826 -0.569714  1.598075 -0.409906   \n",
       "11379  2.194337  1.512066    0.016826  1.602402 -0.571994  1.990673   \n",
       "11380  2.194337  1.512066    0.227256  0.206042 -0.882004  0.190239   \n",
       "11381  2.194337  1.512066    0.227256 -0.880016  0.203031 -1.070065   \n",
       "11382  1.337969  1.429861   -1.610552 -1.190318  0.978055 -1.070065   \n",
       "11383  1.337969  1.429861   -1.610552  0.981797 -1.192013  1.210485   \n",
       "11384  1.337969  1.429861   -0.115525 -0.414563  1.133060 -0.109833   \n",
       "11385  1.337969  1.429861   -0.115525  1.136948 -0.416989  1.090456   \n",
       "11386  1.337969  1.429861    0.704999  1.136948  0.203031  1.450543   \n",
       "11387  1.337969  1.429861    0.704999  0.206042  1.133060 -0.049819   \n",
       "11388  1.337969  1.429861    0.823351  1.447250  1.443070  1.630586   \n",
       "11389  1.337969  1.429861    0.823351  1.447250  1.443070  1.330514   \n",
       "\n",
       "       teamkills    fbtime       kpm      ckpm  ...  Encoded_fd  \\\n",
       "0      -0.104260  0.656016 -0.317071 -0.305625  ...    0.805193   \n",
       "1       0.050891  0.656016 -0.188847 -0.305625  ...   -1.241938   \n",
       "2      -1.035167 -0.221053 -0.856724  0.288867  ...   -1.241938   \n",
       "3       0.671495 -0.221053  1.059069  0.288867  ...    0.805193   \n",
       "4       0.671495 -0.054878  0.372753 -0.127091  ...    0.805193   \n",
       "5      -0.569714 -0.054878 -0.677393 -0.127091  ...   -1.241938   \n",
       "6       1.292099  0.971902  0.954676  0.260410  ...    0.805193   \n",
       "7      -0.724865  0.971902 -0.788764  0.260410  ...   -1.241938   \n",
       "8      -1.345469  0.924970 -1.247195 -0.840134  ...   -1.241938   \n",
       "9       0.050891  0.924970  0.193837 -0.840134  ...    0.805193   \n",
       "10      0.516344  0.416875  0.074916 -0.838499  ...    0.805193   \n",
       "11     -1.035167  0.416875 -1.126721 -0.838499  ...   -1.241938   \n",
       "12      0.671495  1.647485 -0.066041 -0.440101  ...    0.805193   \n",
       "13     -0.104260  1.647485 -0.585259 -0.440101  ...   -1.241938   \n",
       "14     -1.190318 -1.457858 -1.034783  0.659653  ...   -1.241938   \n",
       "15      1.292099 -1.457858  1.736239  0.659653  ...    0.805193   \n",
       "16      0.050891  0.050042 -0.321051 -1.029164  ...   -1.241938   \n",
       "17     -0.724865  0.050042 -0.907088 -1.029164  ...    0.805193   \n",
       "18     -0.724865 -1.158366 -0.227447  2.454215  ...   -1.241938   \n",
       "19      2.378157 -1.158366  4.058529  2.454215  ...    0.805193   \n",
       "20      0.206042 -0.244978  0.326340 -0.118977  ...    0.805193   \n",
       "21     -0.724865 -0.244978 -0.621604 -0.118977  ...   -1.241938   \n",
       "22      0.516344  0.260005  0.332295 -0.365508  ...   -1.241938   \n",
       "23     -0.880016  0.260005 -0.903605 -0.365508  ...    0.805193   \n",
       "24     -0.414563 -1.154028 -0.493827 -0.125028  ...   -1.241938   \n",
       "25      0.361193 -1.154028  0.191569 -0.125028  ...    0.805193   \n",
       "26     -0.259412  0.151449  0.062413 -1.328717  ...    0.805193   \n",
       "27     -1.655771  0.151449 -1.548544 -1.328717  ...   -1.241938   \n",
       "28      0.826646  1.134061  0.385769 -0.505596  ...    0.805193   \n",
       "29     -1.035167  1.134061 -1.105978 -0.505596  ...   -1.241938   \n",
       "...          ...       ...       ...       ...  ...         ...   \n",
       "11360   0.671495 -0.622428  0.439822  0.288867  ...    0.805193   \n",
       "11361  -0.104260 -0.622428 -0.237478  0.288867  ...   -1.241938   \n",
       "11362  -1.500620  0.308247 -1.291088 -0.618743  ...   -1.241938   \n",
       "11363  -0.259412  0.308247  0.454715 -0.618743  ...    0.805193   \n",
       "11364   1.136948 -1.257236  3.017279  1.658938  ...    0.805193   \n",
       "11365  -1.190318 -1.257236 -0.728630  1.658938  ...   -1.241938   \n",
       "11366  -0.569714  0.294600 -0.377515 -1.689577  ...    0.805193   \n",
       "11367  -1.500620  0.294600 -1.390033 -1.689577  ...   -1.241938   \n",
       "11368  -0.724865 -0.874372 -0.602665  0.062363  ...   -1.241938   \n",
       "11369   0.361193 -0.874372  0.522209  0.062363  ...    0.805193   \n",
       "11370  -0.104260 -0.834815  0.351997  0.525043  ...    0.805193   \n",
       "11371  -0.259412 -0.834815  0.162948  0.525043  ...   -1.241938   \n",
       "11372   0.826646 -1.094034  0.877236  0.753489  ...    0.805193   \n",
       "11373  -0.104260 -1.094034 -0.042096  0.753489  ...   -1.241938   \n",
       "11374   0.981797 -1.333306  0.919143  0.303258  ...    0.805193   \n",
       "11375  -0.724865 -1.333306 -0.698274  0.303258  ...   -1.241938   \n",
       "11376   0.671495 -0.172724  0.478422 -0.109259  ...   -1.241938   \n",
       "11377  -0.724865 -0.172724 -0.762431 -0.109259  ...    0.805193   \n",
       "11378  -0.569714  2.026513 -0.531356  0.886984  ...    0.805193   \n",
       "11379   1.602402  2.026513  1.561963  0.886984  ...   -1.241938   \n",
       "11380   0.206042  0.172209  0.133581 -0.519789  ...    0.805193   \n",
       "11381  -0.880016  0.172209 -0.868561 -0.519789  ...   -1.241938   \n",
       "11382  -1.190318  0.334334 -0.911566  0.888440  ...   -1.241938   \n",
       "11383   0.981797  0.334334  1.944340  0.888440  ...    0.805193   \n",
       "11384  -0.414563 -1.146925 -0.345120  0.760868  ...   -1.241938   \n",
       "11385   1.136948 -1.146925  1.190900  0.760868  ...    0.805193   \n",
       "11386   1.136948  0.310212  0.729068  0.646077  ...    0.805193   \n",
       "11387   0.206042  0.310212 -0.046703  0.646077  ...   -1.241938   \n",
       "11388   1.447250 -0.225731  0.918066  1.396712  ...   -1.241938   \n",
       "11389   1.447250 -0.225731  0.918066  1.396712  ...    0.805193   \n",
       "\n",
       "       Encoded_herald  Encoded_ft  Encoded_firstmidouter  \\\n",
       "0           -0.621682   -1.245372               1.245372   \n",
       "1           -0.621682    0.802973              -0.802973   \n",
       "2           -0.621682   -1.245372              -0.802973   \n",
       "3           -0.621682    0.802973               1.245372   \n",
       "4           -0.621682   -1.245372              -0.802973   \n",
       "5           -0.621682    0.802973               1.245372   \n",
       "6           -0.621682   -1.245372               1.245372   \n",
       "7           -0.621682    0.802973              -0.802973   \n",
       "8            1.608540   -1.245372              -0.802973   \n",
       "9           -0.621682    0.802973               1.245372   \n",
       "10           1.608540    0.802973               1.245372   \n",
       "11          -0.621682   -1.245372              -0.802973   \n",
       "12          -0.621682    0.802973               1.245372   \n",
       "13          -0.621682   -1.245372              -0.802973   \n",
       "14          -0.621682    0.802973              -0.802973   \n",
       "15           1.608540   -1.245372               1.245372   \n",
       "16           1.608540   -1.245372               1.245372   \n",
       "17          -0.621682    0.802973              -0.802973   \n",
       "18          -0.621682   -1.245372              -0.802973   \n",
       "19           1.608540    0.802973               1.245372   \n",
       "20           1.608540    0.802973              -0.802973   \n",
       "21          -0.621682   -1.245372               1.245372   \n",
       "22           1.608540    0.802973               1.245372   \n",
       "23          -0.621682   -1.245372              -0.802973   \n",
       "24          -0.621682    0.802973              -0.802973   \n",
       "25           1.608540   -1.245372               1.245372   \n",
       "26           1.608540    0.802973               1.245372   \n",
       "27          -0.621682   -1.245372              -0.802973   \n",
       "28          -0.621682    0.802973              -0.802973   \n",
       "29           1.608540   -1.245372               1.245372   \n",
       "...               ...         ...                    ...   \n",
       "11360        1.608540    0.802973               1.245372   \n",
       "11361       -0.621682   -1.245372              -0.802973   \n",
       "11362       -0.621682   -1.245372              -0.802973   \n",
       "11363        1.608540    0.802973               1.245372   \n",
       "11364        1.608540    0.802973               1.245372   \n",
       "11365       -0.621682   -1.245372              -0.802973   \n",
       "11366        1.608540    0.802973               1.245372   \n",
       "11367       -0.621682   -1.245372              -0.802973   \n",
       "11368        1.608540    0.802973              -0.802973   \n",
       "11369       -0.621682   -1.245372               1.245372   \n",
       "11370        1.608540   -1.245372               1.245372   \n",
       "11371       -0.621682    0.802973              -0.802973   \n",
       "11372       -0.621682    0.802973              -0.802973   \n",
       "11373        1.608540   -1.245372               1.245372   \n",
       "11374        1.608540    0.802973               1.245372   \n",
       "11375       -0.621682   -1.245372              -0.802973   \n",
       "11376        1.608540    0.802973               1.245372   \n",
       "11377       -0.621682   -1.245372              -0.802973   \n",
       "11378       -0.621682    0.802973              -0.802973   \n",
       "11379       -0.621682   -1.245372               1.245372   \n",
       "11380        1.608540    0.802973               1.245372   \n",
       "11381       -0.621682   -1.245372              -0.802973   \n",
       "11382       -0.621682   -1.245372              -0.802973   \n",
       "11383        1.608540    0.802973               1.245372   \n",
       "11384       -0.621682   -1.245372              -0.802973   \n",
       "11385        1.608540    0.802973               1.245372   \n",
       "11386       -0.621682    0.802973              -0.802973   \n",
       "11387        1.608540   -1.245372               1.245372   \n",
       "11388       -0.621682    0.802973              -0.802973   \n",
       "11389        1.608540   -1.245372               1.245372   \n",
       "\n",
       "       Encoded_firsttothreetowers  Encoded_fbaron  Encoded_Year  \\\n",
       "0                       -0.802973       -1.277857     -0.927961   \n",
       "1                        1.245372        0.782560     -0.927961   \n",
       "2                       -0.802973       -1.277857     -0.927961   \n",
       "3                        1.245372        0.782560     -0.927961   \n",
       "4                        1.245372       -1.277857     -0.927961   \n",
       "5                       -0.802973        0.782560     -0.927961   \n",
       "6                        1.245372        0.782560     -0.927961   \n",
       "7                       -0.802973       -1.277857     -0.927961   \n",
       "8                        1.245372       -1.277857     -0.927961   \n",
       "9                       -0.802973        0.782560     -0.927961   \n",
       "10                       1.245372        0.782560     -0.927961   \n",
       "11                      -0.802973       -1.277857     -0.927961   \n",
       "12                       1.245372       -1.277857     -0.927961   \n",
       "13                      -0.802973        0.782560     -0.927961   \n",
       "14                      -0.802973       -1.277857     -0.927961   \n",
       "15                       1.245372        0.782560     -0.927961   \n",
       "16                      -0.802973        0.782560     -0.927961   \n",
       "17                       1.245372       -1.277857     -0.927961   \n",
       "18                      -0.802973       -1.277857     -0.927961   \n",
       "19                       1.245372        0.782560     -0.927961   \n",
       "20                       1.245372        0.782560     -0.927961   \n",
       "21                      -0.802973       -1.277857     -0.927961   \n",
       "22                       1.245372        0.782560     -0.927961   \n",
       "23                      -0.802973       -1.277857     -0.927961   \n",
       "24                      -0.802973       -1.277857     -0.927961   \n",
       "25                       1.245372        0.782560     -0.927961   \n",
       "26                       1.245372        0.782560     -0.927961   \n",
       "27                      -0.802973       -1.277857     -0.927961   \n",
       "28                       1.245372        0.782560     -0.927961   \n",
       "29                      -0.802973       -1.277857     -0.927961   \n",
       "...                           ...             ...           ...   \n",
       "11360                    1.245372       -1.277857      1.077632   \n",
       "11361                   -0.802973        0.782560      1.077632   \n",
       "11362                   -0.802973       -1.277857      1.077632   \n",
       "11363                    1.245372        0.782560      1.077632   \n",
       "11364                    1.245372        0.782560      1.077632   \n",
       "11365                   -0.802973        0.782560      1.077632   \n",
       "11366                    1.245372       -1.277857      1.077632   \n",
       "11367                   -0.802973        0.782560      1.077632   \n",
       "11368                   -0.802973       -1.277857      1.077632   \n",
       "11369                    1.245372        0.782560      1.077632   \n",
       "11370                    1.245372        0.782560      1.077632   \n",
       "11371                   -0.802973       -1.277857      1.077632   \n",
       "11372                    1.245372        0.782560      1.077632   \n",
       "11373                   -0.802973       -1.277857      1.077632   \n",
       "11374                    1.245372        0.782560      1.077632   \n",
       "11375                   -0.802973       -1.277857      1.077632   \n",
       "11376                    1.245372        0.782560      1.077632   \n",
       "11377                   -0.802973       -1.277857      1.077632   \n",
       "11378                   -0.802973       -1.277857      1.077632   \n",
       "11379                    1.245372        0.782560      1.077632   \n",
       "11380                    1.245372        0.782560      1.077632   \n",
       "11381                   -0.802973       -1.277857      1.077632   \n",
       "11382                   -0.802973       -1.277857      1.077632   \n",
       "11383                    1.245372        0.782560      1.077632   \n",
       "11384                   -0.802973       -1.277857      1.077632   \n",
       "11385                    1.245372        0.782560      1.077632   \n",
       "11386                   -0.802973        0.782560      1.077632   \n",
       "11387                    1.245372       -1.277857      1.077632   \n",
       "11388                    1.245372        0.782560      1.077632   \n",
       "11389                   -0.802973       -1.277857      1.077632   \n",
       "\n",
       "       Encoded_culture                    team  result  \n",
       "0             1.295818                     mvp     0.0  \n",
       "1             1.295818     jin air green wings     1.0  \n",
       "2             1.295818     jin air green wings     0.0  \n",
       "3             1.295818                     mvp     1.0  \n",
       "4             1.295818                     mvp     1.0  \n",
       "5             1.295818     jin air green wings     0.0  \n",
       "6             1.295818          longzhu gaming     1.0  \n",
       "7             1.295818              kt rolster     0.0  \n",
       "8             1.295818              kt rolster     0.0  \n",
       "9             1.295818          longzhu gaming     1.0  \n",
       "10            1.295818           ever8 winners     1.0  \n",
       "11            1.295818          afreeca freecs     0.0  \n",
       "12            1.295818          afreeca freecs     1.0  \n",
       "13            1.295818           ever8 winners     0.0  \n",
       "14            1.295818           sk telecom t1     0.0  \n",
       "15            1.295818          samsung galaxy     1.0  \n",
       "16            0.296808                     h2k     1.0  \n",
       "17            0.296808                  splyce     0.0  \n",
       "18            0.296808                  splyce     0.0  \n",
       "19            0.296808                     h2k     1.0  \n",
       "20            1.295818             bbq olivers     1.0  \n",
       "21            1.295818          longzhu gaming     0.0  \n",
       "22            1.295818          longzhu gaming     1.0  \n",
       "23            1.295818             bbq olivers     0.0  \n",
       "24            1.295818              rox tigers     0.0  \n",
       "25            1.295818     jin air green wings     1.0  \n",
       "26            1.295818     jin air green wings     1.0  \n",
       "27            1.295818              rox tigers     0.0  \n",
       "28            0.296808                  fnatic     1.0  \n",
       "29            0.296808                 misfits     0.0  \n",
       "...                ...                     ...     ...  \n",
       "11360        -1.701210                   g-rex     1.0  \n",
       "11361        -1.701210      hong kong attitude     0.0  \n",
       "11362        -1.701210      hong kong attitude     0.0  \n",
       "11363        -1.701210                   g-rex     1.0  \n",
       "11364        -1.701210                   g-rex     1.0  \n",
       "11365        -1.701210      hong kong attitude     0.0  \n",
       "11366        -1.701210                  j team     1.0  \n",
       "11367        -1.701210                machi 17     0.0  \n",
       "11368        -1.701210                  j team     0.0  \n",
       "11369        -1.701210                machi 17     1.0  \n",
       "11370        -1.701210                  j team     1.0  \n",
       "11371        -1.701210                machi 17     0.0  \n",
       "11372        -1.701210                machi 17     1.0  \n",
       "11373        -1.701210                  j team     0.0  \n",
       "11374        -1.701210                  j team     1.0  \n",
       "11375        -1.701210                machi 17     0.0  \n",
       "11376        -1.701210                   g-rex     1.0  \n",
       "11377        -1.701210                  j team     0.0  \n",
       "11378        -1.701210                  j team     0.0  \n",
       "11379        -1.701210                   g-rex     1.0  \n",
       "11380        -1.701210                   g-rex     1.0  \n",
       "11381        -1.701210                  j team     0.0  \n",
       "11382         0.796313            supermassive     0.0  \n",
       "11383         0.796313  royal bandits e-sports     1.0  \n",
       "11384         0.796313  royal bandits e-sports     0.0  \n",
       "11385         0.796313            supermassive     1.0  \n",
       "11386         0.796313            supermassive     1.0  \n",
       "11387         0.796313  royal bandits e-sports     0.0  \n",
       "11388         0.796313  royal bandits e-sports     0.0  \n",
       "11389         0.796313            supermassive     1.0  \n",
       "\n",
       "[11390 rows x 74 columns]"
      ]
     },
     "execution_count": 13,
     "metadata": {},
     "output_type": "execute_result"
    }
   ],
   "source": [
    "# Visualize data\n",
    "data_raw"
   ]
  },
  {
   "cell_type": "code",
   "execution_count": 14,
   "metadata": {
    "ExecuteTime": {
     "end_time": "2019-08-05T07:38:00.885412Z",
     "start_time": "2019-08-05T07:38:00.792471Z"
    }
   },
   "outputs": [
    {
     "name": "stdout",
     "output_type": "stream",
     "text": [
      "Set of the different column types captured by the data:  {dtype('O'), dtype('float64')}\n",
      "The number of missing values in the data:  0\n"
     ]
    }
   ],
   "source": [
    "# Check all values are numeric\n",
    "print(\"Set of the different column types captured by the data: \", set(data_raw.dtypes))\n",
    "# Check no missing data\n",
    "print(\"The number of missing values in the data: \", sum(data_raw.isnull().any()))"
   ]
  },
  {
   "cell_type": "markdown",
   "metadata": {},
   "source": [
    "## 2. Split data in test and train data"
   ]
  },
  {
   "cell_type": "code",
   "execution_count": 15,
   "metadata": {
    "ExecuteTime": {
     "end_time": "2019-08-05T07:38:01.017190Z",
     "start_time": "2019-08-05T07:38:00.887303Z"
    },
    "scrolled": true
   },
   "outputs": [],
   "source": [
    "# Create copy of data for model building (removing team feature)\n",
    "data = data_raw.copy()\n",
    "data = data.drop(labels = ['team', 'split', 'patchno', 'gamelength', 'Encoded_Year', 'Encoded_culture'], axis=1)"
   ]
  },
  {
   "cell_type": "code",
   "execution_count": 16,
   "metadata": {
    "ExecuteTime": {
     "end_time": "2019-08-05T07:38:01.483248Z",
     "start_time": "2019-08-05T07:38:01.019318Z"
    }
   },
   "outputs": [],
   "source": [
    "# Split the data\n",
    "x_train, x_test, y_train, y_test = data_splitter(data, 'result')"
   ]
  },
  {
   "cell_type": "code",
   "execution_count": 17,
   "metadata": {
    "ExecuteTime": {
     "end_time": "2019-08-05T07:38:01.542318Z",
     "start_time": "2019-08-05T07:38:01.488713Z"
    }
   },
   "outputs": [
    {
     "name": "stdout",
     "output_type": "stream",
     "text": [
      "The data is centered:  True \n",
      "The data is standardized:  False\n"
     ]
    }
   ],
   "source": [
    "# Check data is standardized and centered\n",
    "print(\"The data is centered: \", \n",
    "      all([int(x) for x in round(x_train.mean(axis = 0), 4)]) == 0,\n",
    "     \"\\nThe data is standardized: \",\n",
    "      all([int(x) for x in round(x_train.var(axis = 0), 4)]) == 1)"
   ]
  },
  {
   "cell_type": "markdown",
   "metadata": {},
   "source": [
    "## 3. Model creation"
   ]
  },
  {
   "cell_type": "code",
   "execution_count": 18,
   "metadata": {
    "ExecuteTime": {
     "end_time": "2019-08-05T07:38:01.692883Z",
     "start_time": "2019-08-05T07:38:01.594045Z"
    }
   },
   "outputs": [],
   "source": [
    "# Create dictionary to capture model summary\n",
    "logistic_L1penalty_model_dict, ridge_model_dict, elasticnet_model_dict, rf_model_dict, model_summary_dict = dict(), dict(), dict(), dict(), dict()"
   ]
  },
  {
   "cell_type": "markdown",
   "metadata": {},
   "source": [
    "### 3.1 Logistic regression with L1 penalty (Lasso classification model)\n",
    "Here, the recursive feature elimination techinique is used to initialize L1 penalization in our logistic regression model and hence allows implementation of lasso regularization."
   ]
  },
  {
   "cell_type": "markdown",
   "metadata": {},
   "source": [
    "##### Recursive feature elimination\n",
    "Given an external estimator that assigns weights to features (~coefficients), the goal of recursive feature elimination is to select features by recursively considering smaller and smaller sets of features. The estimator is trained on the initial set of features and the importance of each feature is obtained. Based on this information the least important features are pruned from the current set of features. This procedure is recursively repeated on the pruned set until the desired number of features to select is reached. To get the optimal number of features CV is used."
   ]
  },
  {
   "cell_type": "code",
   "execution_count": 19,
   "metadata": {
    "ExecuteTime": {
     "end_time": "2019-08-05T07:39:47.938919Z",
     "start_time": "2019-08-05T07:38:01.694596Z"
    },
    "scrolled": true
   },
   "outputs": [],
   "source": [
    "# By using the liblinear solver the L1 penalty is implemented\n",
    "logreg = LogisticRegression(solver='liblinear')\n",
    "rfe = RFECV(logreg, cv = 5)\n",
    "rfe = rfe.fit(x_train, y_train)"
   ]
  },
  {
   "cell_type": "code",
   "execution_count": 20,
   "metadata": {
    "ExecuteTime": {
     "end_time": "2019-08-05T07:39:47.945183Z",
     "start_time": "2019-08-05T07:39:47.940804Z"
    }
   },
   "outputs": [
    {
     "name": "stdout",
     "output_type": "stream",
     "text": [
      "Based on the recursive elimination method the following 27 features are selected:  ['d', 'a', 'teamkills', 'kpm', 'ckpm', 'teamtowerkills', 'fbarontime', 'teambaronkills', 'dmgtochampsperminute', 'wards', 'wardkills', 'visionwardbuys', 'invisiblewardclearrate', 'totalgold', 'earnedgpm', 'goldspent', 'gspd', 'minionkills', 'monsterkills', 'monsterkillsownjungle', 'cspm', 'goldat15', 'gdat15', 'xpat10', 'csat10', 'csdat15', 'Encoded_fbaron']\n"
     ]
    }
   ],
   "source": [
    "# Intermediate summary\n",
    "selected_features_rfe = [col for col, bool_importance in zip(x_train.columns.values, rfe.support_) if bool_importance]\n",
    "print(\"Based on the recursive elimination method the following\", len(selected_features_rfe),\n",
    "      \"features are selected: \", selected_features_rfe)"
   ]
  },
  {
   "cell_type": "markdown",
   "metadata": {},
   "source": [
    "Remark: The solver used by the logistic regression model is 'liblinear' which applies automatic parameter selection (L1 regularization) and is recommended when using a high dimensional dataset."
   ]
  },
  {
   "cell_type": "markdown",
   "metadata": {},
   "source": [
    "##### Model fit"
   ]
  },
  {
   "cell_type": "code",
   "execution_count": 21,
   "metadata": {
    "ExecuteTime": {
     "end_time": "2019-08-05T07:39:48.635110Z",
     "start_time": "2019-08-05T07:39:47.947007Z"
    }
   },
   "outputs": [],
   "source": [
    "# Fit the logistic regression model\n",
    "logistic_L1penalty_model = LogisticRegression(solver='liblinear')\n",
    "fitted_logistic_L1penalty_model = logistic_L1penalty_model.fit(x_train[selected_features_rfe], y_train)\n",
    "\n",
    "# Save best approximation alpha after CV\n",
    "logistic_L1penalty_model_dict['regularisation_param'] = np.nan"
   ]
  },
  {
   "cell_type": "markdown",
   "metadata": {
    "ExecuteTime": {
     "end_time": "2019-03-19T10:26:19.552084Z",
     "start_time": "2019-03-19T10:26:19.547199Z"
    }
   },
   "source": [
    "##### Model accuracy evaluation"
   ]
  },
  {
   "cell_type": "code",
   "execution_count": 22,
   "metadata": {
    "ExecuteTime": {
     "end_time": "2019-08-05T07:39:52.405651Z",
     "start_time": "2019-08-05T07:39:48.638606Z"
    }
   },
   "outputs": [
    {
     "name": "stdout",
     "output_type": "stream",
     "text": [
      "Based on a threshold of 0.5 the following summary statistics can be obtained:\n",
      " ----------------------------------------------------------------------------------------------------\n",
      "860 true positives over all positives (the wins that were correctly classified).\n",
      "20 false positives (the wins that were wrongly classified).\n",
      "815 true negatives (the losses that were correctly classified).\n",
      "14 false negatives (the losses that were wrongly classified).\n",
      "\n",
      "The sensitivity is:  0.9839816933638444\n",
      "The specificity is:  0.9760479041916168\n",
      "\n",
      "\n",
      "Accuracy: 0.9801053247513165 \n",
      " ----------------------------------------------------------------------------------------------------\n"
     ]
    },
    {
     "data": {
      "image/png": "[encoded data removed]",
      "text/plain": [
       "<Figure size 432x288 with 1 Axes>"
      ]
     },
     "metadata": {
      "needs_background": "light"
     },
     "output_type": "display_data"
    },
    {
     "name": "stdout",
     "output_type": "stream",
     "text": [
      "Confusion matrix :\n",
      " ----------------------------------------------------------------------------------------------------\n"
     ]
    },
    {
     "data": {
      "image/png": "[encoded data removed]",
      "text/plain": [
       "<Figure size 432x288 with 2 Axes>"
      ]
     },
     "metadata": {
      "needs_background": "light"
     },
     "output_type": "display_data"
    },
    {
     "name": "stdout",
     "output_type": "stream",
     "text": [
      "Normalized confusion matrix :\n",
      " ----------------------------------------------------------------------------------------------------\n"
     ]
    },
    {
     "data": {
      "image/png": "[encoded data removed]",
      "text/plain": [
       "<Figure size 432x288 with 2 Axes>"
      ]
     },
     "metadata": {
      "needs_background": "light"
     },
     "output_type": "display_data"
    }
   ],
   "source": [
    "# Model accuracy evaluation metrics\n",
    "logistic_L1penalty_model_dict['sensitivity'], logistic_L1penalty_model_dict['specificity'], logistic_L1penalty_model_dict['auc'], logistic_L1penalty_model_dict['accuracy'] = binary_class_evaluator(fitted_logistic_L1penalty_model, x_test[selected_features_rfe], y_test)\n",
    "\n",
    "# Plot non-normalized and normalized confusion matrix\n",
    "plot_confusion_matrix(fitted_logistic_L1penalty_model, x_test[selected_features_rfe], y_test, classes=['Loss', 'Win'])\n",
    "plot_confusion_matrix(fitted_logistic_L1penalty_model, x_test[selected_features_rfe], y_test, classes=['Loss', 'Win'], normalize=True)"
   ]
  },
  {
   "cell_type": "markdown",
   "metadata": {},
   "source": [
    "##### Feature importance evaluator"
   ]
  },
  {
   "cell_type": "code",
   "execution_count": 23,
   "metadata": {
    "ExecuteTime": {
     "end_time": "2019-08-05T07:39:52.427498Z",
     "start_time": "2019-08-05T07:39:52.418877Z"
    }
   },
   "outputs": [
    {
     "name": "stdout",
     "output_type": "stream",
     "text": [
      "Summary of the important features and their corresponding coefficients:\n",
      " ----------------------------------------------------------------------------------------------------\n",
      "teamtowerkills : 5.147349233949684\n",
      "d : -1.9480098475526517\n",
      "earnedgpm : 1.8163439581061713\n",
      "kpm : 1.7855895720593788\n",
      "gspd : -1.16113794655408\n",
      "goldspent : -0.9966583903732464\n",
      "monsterkillsownjungle : 0.9885635700893772\n",
      "totalgold : -0.8322207138915909\n",
      "monsterkills : -0.8107265251415631\n",
      "a : 0.6723483384823555\n"
     ]
    }
   ],
   "source": [
    "# Show the sorted features indicating the highest importance in predicting the target\n",
    "logistic_L1penalty_model_dict['feature_importance'] = important_features_extractor(fitted_logistic_L1penalty_model, selected_features_rfe)"
   ]
  },
  {
   "cell_type": "code",
   "execution_count": 24,
   "metadata": {
    "ExecuteTime": {
     "end_time": "2019-08-05T09:25:37.372238Z",
     "start_time": "2019-08-05T07:39:52.442304Z"
    },
    "scrolled": true
   },
   "outputs": [
    {
     "data": {
      "image/png": "[encoded data removed]",
      "text/plain": [
       "<Figure size 432x288 with 1 Axes>"
      ]
     },
     "metadata": {
      "needs_background": "light"
     },
     "output_type": "display_data"
    }
   ],
   "source": [
    "# Visualize the use of different regularization parameters on coefficient estimates for Lasso regression\n",
    "n_alphas, coefs = 200, []\n",
    "alphas = np.logspace(-10, -2, n_alphas)\n",
    "for a in alphas:\n",
    "    lasso = Lasso(alpha = a, fit_intercept = False)\n",
    "    lasso.fit(x_train, y_train)\n",
    "    coefs.append(lasso.coef_)\n",
    "\n",
    "# Visualize the regularization curve\n",
    "ax = plt.gca()\n",
    "ax.plot(alphas, coefs)\n",
    "ax.set_xscale('log')\n",
    "ax.set_xlim(ax.get_xlim()[::-1])  # reverse axis\n",
    "plt.xlabel('alpha')\n",
    "plt.ylabel('weights')\n",
    "plt.title('Lasso coefficients as a function of the regularization')\n",
    "plt.axis('tight')\n",
    "plt.show()"
   ]
  },
  {
   "cell_type": "markdown",
   "metadata": {},
   "source": [
    "### 3.2 Ridge classification model\n",
    "Ridge regression covers a machine learning technique that solves a regression model where the loss function is the linear least squares function and regularization is given by the l2-norm.\n",
    "\n",
    "To fit the ridge classification model the ridge classifier with build in cross-validation estimator is used from the sklearn package. The CV classifier allows us to evaluate different regularization parameters. Here, the array of alpha values that is explored ranges from 0.1 to 1. in steps of 0.025.\n",
    "\n",
    "If the alpha value is 0, a OLS model seems to best fit the data. So, the smaller the value of alpha, the higher the magnitude of the coefficients. No intercept is calculated for the model, because the data is centered."
   ]
  },
  {
   "cell_type": "markdown",
   "metadata": {},
   "source": [
    "##### Model fit"
   ]
  },
  {
   "cell_type": "code",
   "execution_count": 25,
   "metadata": {
    "ExecuteTime": {
     "end_time": "2019-08-05T09:25:59.809721Z",
     "start_time": "2019-08-05T09:25:37.377557Z"
    }
   },
   "outputs": [],
   "source": [
    "# Fit the regression model for the optimal alpha \n",
    "alphas = np.arange(0.0, 1.0, 0.025)\n",
    "ridge_model = RidgeClassifierCV(alphas, fit_intercept= False, cv= 5)\n",
    "fitted_ridge_model = ridge_model.fit(x_train, y_train)\n",
    "\n",
    "# Save best approximation alpha after CV\n",
    "ridge_model_dict['regularisation_param'] = fitted_ridge_model.alpha_"
   ]
  },
  {
   "cell_type": "markdown",
   "metadata": {},
   "source": [
    "##### Model accuracy evaluation"
   ]
  },
  {
   "cell_type": "code",
   "execution_count": 26,
   "metadata": {
    "ExecuteTime": {
     "end_time": "2019-08-05T09:26:05.000995Z",
     "start_time": "2019-08-05T09:25:59.813035Z"
    }
   },
   "outputs": [
    {
     "name": "stdout",
     "output_type": "stream",
     "text": [
      "Based on a threshold of 0.5 the following summary statistics can be obtained:\n",
      " ----------------------------------------------------------------------------------------------------\n",
      "868 true positives over all positives (the wins that were correctly classified).\n",
      "23 false positives (the wins that were wrongly classified).\n",
      "812 true negatives (the losses that were correctly classified).\n",
      "6 false negatives (the losses that were wrongly classified).\n",
      "\n",
      "The sensitivity is:  0.9931350114416476\n",
      "The specificity is:  0.9724550898203593\n",
      "\n",
      "\n",
      "Accuracy: 0.9830310122878877 \n",
      " ----------------------------------------------------------------------------------------------------\n"
     ]
    },
    {
     "data": {
      "image/png": "[encoded data removed]",
      "text/plain": [
       "<Figure size 432x288 with 1 Axes>"
      ]
     },
     "metadata": {
      "needs_background": "light"
     },
     "output_type": "display_data"
    },
    {
     "name": "stdout",
     "output_type": "stream",
     "text": [
      "Confusion matrix :\n",
      " ----------------------------------------------------------------------------------------------------\n"
     ]
    },
    {
     "data": {
      "image/png": "[encoded data removed]",
      "text/plain": [
       "<Figure size 432x288 with 2 Axes>"
      ]
     },
     "metadata": {
      "needs_background": "light"
     },
     "output_type": "display_data"
    },
    {
     "name": "stdout",
     "output_type": "stream",
     "text": [
      "Normalized confusion matrix :\n",
      " ----------------------------------------------------------------------------------------------------\n"
     ]
    },
    {
     "data": {
      "image/png": "[encoded data removed]",
      "text/plain": [
       "<Figure size 432x288 with 2 Axes>"
      ]
     },
     "metadata": {
      "needs_background": "light"
     },
     "output_type": "display_data"
    }
   ],
   "source": [
    "# Model accuracy evaluation metrics\n",
    "ridge_model_dict['sensitivity'], ridge_model_dict['specificity'], ridge_model_dict['auc'], ridge_model_dict['accuracy'] = binary_class_evaluator(fitted_ridge_model, x_test, y_test)\n",
    "\n",
    "# Plot non-normalized and normalized confusion matrix\n",
    "plot_confusion_matrix(fitted_ridge_model, x_test,y_test, classes=['Loss', 'Win'])\n",
    "plot_confusion_matrix(fitted_ridge_model, x_test,y_test, classes=['Loss', 'Win'], normalize=True)"
   ]
  },
  {
   "cell_type": "markdown",
   "metadata": {
    "ExecuteTime": {
     "end_time": "2019-03-19T09:17:32.286353Z",
     "start_time": "2019-03-19T09:17:31.991148Z"
    }
   },
   "source": [
    "##### Feature importance evaluator"
   ]
  },
  {
   "cell_type": "code",
   "execution_count": 27,
   "metadata": {
    "ExecuteTime": {
     "end_time": "2019-08-05T09:26:05.009921Z",
     "start_time": "2019-08-05T09:26:05.002713Z"
    },
    "scrolled": true
   },
   "outputs": [
    {
     "name": "stdout",
     "output_type": "stream",
     "text": [
      "Summary of the important features and their corresponding coefficients:\n",
      " ----------------------------------------------------------------------------------------------------\n",
      "teamtowerkills : 0.6682372630983063\n",
      "wardkills : 0.46938715002547726\n",
      "wcpm : -0.30832549148588456\n",
      "d : -0.28020108358164214\n",
      "goldspent : -0.28104235433770947\n",
      "wards : -0.19249102056829143\n",
      "totalgold : -0.191119219529003\n",
      "earnedgpm : 0.18023106211440565\n",
      "gspd : -0.1610683432453399\n",
      "kpm : -0.14586519871701414\n"
     ]
    }
   ],
   "source": [
    "# Show the sorted features indicating the highest importance in predicting the target\n",
    "ridge_model_dict['feature_importance'] = important_features_extractor(fitted_ridge_model, x_train.columns.values)"
   ]
  },
  {
   "cell_type": "code",
   "execution_count": 28,
   "metadata": {
    "ExecuteTime": {
     "end_time": "2019-08-05T09:26:22.640541Z",
     "start_time": "2019-08-05T09:26:05.011618Z"
    }
   },
   "outputs": [
    {
     "data": {
      "image/png": "[encoded data removed]",
      "text/plain": [
       "<Figure size 432x288 with 1 Axes>"
      ]
     },
     "metadata": {
      "needs_background": "light"
     },
     "output_type": "display_data"
    }
   ],
   "source": [
    "# Visualize the use of different regularization parameters on coefficient estimates for Ridge regression\n",
    "n_alphas, coefs = 200, []\n",
    "alphas = np.logspace(-10, -2, n_alphas)\n",
    "for a in alphas:\n",
    "    ridge = Ridge(alpha = a, fit_intercept = False)\n",
    "    ridge.fit(x_train, y_train)\n",
    "    coefs.append(ridge.coef_)\n",
    "\n",
    "# Visualize the regularization curve\n",
    "ax = plt.gca()\n",
    "ax.plot(alphas, coefs)\n",
    "ax.set_xscale('log')\n",
    "ax.set_xlim(ax.get_xlim()[::-1])  # reverse axis\n",
    "plt.xlabel('alpha')\n",
    "plt.ylabel('weights')\n",
    "plt.title('Ridge coefficients as a function of the regularization')\n",
    "plt.axis('tight')\n",
    "plt.show()"
   ]
  },
  {
   "cell_type": "markdown",
   "metadata": {},
   "source": [
    "### 3.3 Elastic net classification model\n",
    "The elastic net classification model will combine the L1 and L2 priors illustrated above in the same logistic regression model as regularizers. The ElasticNetCV function from sklearn allows us to play around with these regularization parameters by defining a range for the l1_ratio = a/ (a + b), where  a * L1 + b * L2 composes the penalization term. If the optimal l1_ratio parameter is closer to 1, a sparser selection is managed, while l1_ratio parameters close to 0 result in more shrinkage of the coefficients."
   ]
  },
  {
   "cell_type": "markdown",
   "metadata": {},
   "source": [
    "##### Model fit"
   ]
  },
  {
   "cell_type": "code",
   "execution_count": 29,
   "metadata": {
    "ExecuteTime": {
     "end_time": "2019-08-05T09:32:48.472123Z",
     "start_time": "2019-08-05T09:26:22.646585Z"
    }
   },
   "outputs": [],
   "source": [
    "# Fit the elasticnet classification model\n",
    "l1_ratios = alphas[1:]\n",
    "elasticnet_model = ElasticNetCV(l1_ratio = l1_ratios, fit_intercept= False, cv= 5, random_state=0)\n",
    "fitted_elasticnet_model = elasticnet_model.fit(x_train, y_train)\n",
    "\n",
    "# Save best approximation alpha after CV\n",
    "elasticnet_model_dict['regularisation_param'] = {'l1_ratio': fitted_elasticnet_model.l1_ratio_,\n",
    "                                                 'alpha': fitted_elasticnet_model.alpha_}"
   ]
  },
  {
   "cell_type": "markdown",
   "metadata": {},
   "source": [
    "##### Model accuracy evaluation"
   ]
  },
  {
   "cell_type": "code",
   "execution_count": 30,
   "metadata": {
    "ExecuteTime": {
     "end_time": "2019-08-05T09:32:55.147984Z",
     "start_time": "2019-08-05T09:32:48.477897Z"
    }
   },
   "outputs": [
    {
     "name": "stdout",
     "output_type": "stream",
     "text": [
      "Based on a threshold of 0.5 the following summary statistics can be obtained:\n",
      " ----------------------------------------------------------------------------------------------------\n",
      "866 true positives over all positives (the wins that were correctly classified).\n",
      "24 false positives (the wins that were wrongly classified).\n",
      "811 true negatives (the losses that were correctly classified).\n",
      "8 false negatives (the losses that were wrongly classified).\n",
      "\n",
      "The sensitivity is:  0.9908466819221968\n",
      "The specificity is:  0.9712574850299401\n",
      "\n",
      "\n",
      "Accuracy: 0.981275599765945 \n",
      " ----------------------------------------------------------------------------------------------------\n"
     ]
    },
    {
     "data": {
      "image/png": "[encoded data removed]",
      "text/plain": [
       "<Figure size 432x288 with 1 Axes>"
      ]
     },
     "metadata": {
      "needs_background": "light"
     },
     "output_type": "display_data"
    },
    {
     "name": "stdout",
     "output_type": "stream",
     "text": [
      "Confusion matrix :\n",
      " ----------------------------------------------------------------------------------------------------\n"
     ]
    },
    {
     "data": {
      "image/png": "[encoded data removed]",
      "text/plain": [
       "<Figure size 432x288 with 2 Axes>"
      ]
     },
     "metadata": {
      "needs_background": "light"
     },
     "output_type": "display_data"
    },
    {
     "name": "stdout",
     "output_type": "stream",
     "text": [
      "Normalized confusion matrix :\n",
      " ----------------------------------------------------------------------------------------------------\n"
     ]
    },
    {
     "data": {
      "image/png": "[encoded data removed]",
      "text/plain": [
       "<Figure size 432x288 with 2 Axes>"
      ]
     },
     "metadata": {
      "needs_background": "light"
     },
     "output_type": "display_data"
    }
   ],
   "source": [
    "# Model accuracy evaluation metrics\n",
    "elasticnet_model_dict['sensitivity'], elasticnet_model_dict['specificity'], elasticnet_model_dict['auc'], elasticnet_model_dict['accuracy'] = binary_class_evaluator(fitted_elasticnet_model, x_test, y_test, elasticnet = True)\n",
    "\n",
    "# Plot non-normalized and normalized confusion matrix\n",
    "plot_confusion_matrix(fitted_elasticnet_model, x_test, y_test, classes=['Loss', 'Win'], elasticnet = True)\n",
    "plot_confusion_matrix(fitted_elasticnet_model, x_test, y_test, classes=['Loss', 'Win'], normalize=True, elasticnet = True)"
   ]
  },
  {
   "cell_type": "markdown",
   "metadata": {
    "ExecuteTime": {
     "end_time": "2019-03-19T10:34:24.897544Z",
     "start_time": "2019-03-19T10:34:24.872205Z"
    }
   },
   "source": [
    "##### Feature importance evaluator"
   ]
  },
  {
   "cell_type": "code",
   "execution_count": 31,
   "metadata": {
    "ExecuteTime": {
     "end_time": "2019-08-05T09:32:55.229847Z",
     "start_time": "2019-08-05T09:32:55.169450Z"
    },
    "scrolled": true
   },
   "outputs": [
    {
     "name": "stdout",
     "output_type": "stream",
     "text": [
      "Summary of the important features and their corresponding coefficients:\n",
      " ----------------------------------------------------------------------------------------------------\n",
      "teamtowerkills : 0.27300611869720404\n",
      "d : -0.1265505792889687\n",
      "goldspent : -0.07170190810962107\n",
      "a : 0.06181332547229792\n",
      "earnedgpm : 0.05979739226983014\n",
      "gspd : -0.059270299263037875\n",
      "teambaronkills : 0.053064497445683825\n",
      "k : 0.02891308436015938\n",
      "teamkills : 0.028623876954144936\n",
      "totalgold : -0.034735018873928186\n"
     ]
    }
   ],
   "source": [
    "# Show the sorted features indicating the highest importance in predicting the target\n",
    "elasticnet_model_dict['feature_importance'] = important_features_extractor(fitted_elasticnet_model, \n",
    "                                                                           x_train.columns.values, \n",
    "                                                                           elasticnet = True)"
   ]
  },
  {
   "cell_type": "code",
   "execution_count": 32,
   "metadata": {
    "ExecuteTime": {
     "end_time": "2019-08-05T09:46:15.644809Z",
     "start_time": "2019-08-05T09:32:55.231629Z"
    }
   },
   "outputs": [
    {
     "data": {
      "image/png": "[encoded data removed]",
      "text/plain": [
       "<Figure size 432x288 with 1 Axes>"
      ]
     },
     "metadata": {
      "needs_background": "light"
     },
     "output_type": "display_data"
    }
   ],
   "source": [
    "# Visualize the use of different regularization parameters on coefficient estimates for Ridge regression\n",
    "n_ratios, coefs = 200, []\n",
    "l1_ratios = np.logspace(-10, -2, n_ratios)\n",
    "for r in l1_ratios:\n",
    "    elasticnet = ElasticNet(l1_ratio = r, fit_intercept = False)\n",
    "    elasticnet.fit(x_train, y_train)\n",
    "    coefs.append(elasticnet.coef_)\n",
    "\n",
    "# Visualize the regularization curve\n",
    "ax = plt.gca()\n",
    "ax.plot(l1_ratios, coefs)\n",
    "ax.set_xscale('log')\n",
    "ax.set_xlim(ax.get_xlim()[::-1])  # reverse axis\n",
    "plt.xlabel('l1_ratio')\n",
    "plt.ylabel('weights')\n",
    "plt.title('Elastic net coefficients as a function of the regularization')\n",
    "plt.axis('tight')\n",
    "plt.show()"
   ]
  },
  {
   "cell_type": "markdown",
   "metadata": {},
   "source": [
    "### 3.4 Random Forests classifier"
   ]
  },
  {
   "cell_type": "markdown",
   "metadata": {},
   "source": [
    "##### Model fit"
   ]
  },
  {
   "cell_type": "code",
   "execution_count": 33,
   "metadata": {
    "ExecuteTime": {
     "end_time": "2019-08-05T11:23:17.249100Z",
     "start_time": "2019-08-05T09:46:15.648123Z"
    }
   },
   "outputs": [
    {
     "data": {
      "text/plain": [
       "{'bootstrap': False, 'max_features': 'auto', 'n_estimators': 2000}"
      ]
     },
     "execution_count": 33,
     "metadata": {},
     "output_type": "execute_result"
    }
   ],
   "source": [
    "# Define hyperparameter grid\n",
    "param_grid = {'bootstrap': [True, False],\n",
    "              'max_features': ['auto', 'sqrt'],\n",
    "              'n_estimators': [200, 1000, 2000]}\n",
    "\n",
    "# Hyperparametertuning of the Random Forest model (cv = 5 folds)\n",
    "rf_model = RandomForestClassifier()\n",
    "grid_rf_model = GridSearchCV(rf_model, param_grid, cv=5)\n",
    "grid_best_rf_model = grid_rf_model.fit(x_train, y_train)\n",
    "\n",
    "# Save optimal hyperparameters\n",
    "rf_model_dict['regularisation_param'] = grid_best_rf_model.best_params_\n",
    "grid_best_rf_model.best_params_"
   ]
  },
  {
   "cell_type": "code",
   "execution_count": 34,
   "metadata": {
    "ExecuteTime": {
     "end_time": "2019-08-05T11:24:46.132323Z",
     "start_time": "2019-08-05T11:23:17.250956Z"
    }
   },
   "outputs": [
    {
     "data": {
      "text/plain": [
       "RandomForestClassifier(bootstrap=False, class_weight=None, criterion='gini',\n",
       "            max_depth=None, max_features='auto', max_leaf_nodes=None,\n",
       "            min_impurity_decrease=0.0, min_impurity_split=None,\n",
       "            min_samples_leaf=1, min_samples_split=2,\n",
       "            min_weight_fraction_leaf=0.0, n_estimators=2000, n_jobs=None,\n",
       "            oob_score=False, random_state=None, verbose=0,\n",
       "            warm_start=False)"
      ]
     },
     "execution_count": 34,
     "metadata": {},
     "output_type": "execute_result"
    }
   ],
   "source": [
    "# Fit the best model with the optimal hyperparameters\n",
    "fitted_rf_model = RandomForestClassifier(bootstrap = rf_model_dict['regularisation_param'] ['bootstrap'],\n",
    "                                         max_features = rf_model_dict['regularisation_param'] ['max_features'],\n",
    "                                         n_estimators = rf_model_dict['regularisation_param'] ['n_estimators'])\n",
    "fitted_rf_model.fit(x_train,y_train)"
   ]
  },
  {
   "cell_type": "markdown",
   "metadata": {},
   "source": [
    "##### Model accuracy evaluation"
   ]
  },
  {
   "cell_type": "code",
   "execution_count": 35,
   "metadata": {
    "ExecuteTime": {
     "end_time": "2019-08-05T11:24:48.852508Z",
     "start_time": "2019-08-05T11:24:46.134244Z"
    }
   },
   "outputs": [
    {
     "name": "stdout",
     "output_type": "stream",
     "text": [
      "Based on a threshold of 0.5 the following summary statistics can be obtained:\n",
      " ----------------------------------------------------------------------------------------------------\n",
      "855 true positives over all positives (the wins that were correctly classified).\n",
      "27 false positives (the wins that were wrongly classified).\n",
      "808 true negatives (the losses that were correctly classified).\n",
      "19 false negatives (the losses that were wrongly classified).\n",
      "\n",
      "The sensitivity is:  0.9782608695652174\n",
      "The specificity is:  0.9676646706586827\n",
      "\n",
      "\n",
      "Accuracy: 0.973083674663546 \n",
      " ----------------------------------------------------------------------------------------------------\n"
     ]
    },
    {
     "data": {
      "image/png": "[encoded data removed]",
      "text/plain": [
       "<Figure size 432x288 with 1 Axes>"
      ]
     },
     "metadata": {
      "needs_background": "light"
     },
     "output_type": "display_data"
    },
    {
     "name": "stdout",
     "output_type": "stream",
     "text": [
      "Confusion matrix :\n",
      " ----------------------------------------------------------------------------------------------------\n"
     ]
    },
    {
     "data": {
      "image/png": "[encoded data removed]",
      "text/plain": [
       "<Figure size 432x288 with 2 Axes>"
      ]
     },
     "metadata": {
      "needs_background": "light"
     },
     "output_type": "display_data"
    },
    {
     "name": "stdout",
     "output_type": "stream",
     "text": [
      "Normalized confusion matrix :\n",
      " ----------------------------------------------------------------------------------------------------\n"
     ]
    },
    {
     "data": {
      "image/png": "[encoded data removed]",
      "text/plain": [
       "<Figure size 432x288 with 2 Axes>"
      ]
     },
     "metadata": {
      "needs_background": "light"
     },
     "output_type": "display_data"
    }
   ],
   "source": [
    "# Model accuracy evaluation metrics\n",
    "rf_model_dict['sensitivity'], rf_model_dict['specificity'], rf_model_dict['auc'], rf_model_dict['accuracy'] = binary_class_evaluator(fitted_rf_model, x_test, y_test, elasticnet = False)\n",
    "\n",
    "# Plot non-normalized and normalized confusion matrix\n",
    "plot_confusion_matrix(fitted_rf_model, x_test, y_test, classes=['Loss', 'Win'], elasticnet = False)\n",
    "plot_confusion_matrix(fitted_rf_model, x_test, y_test, classes=['Loss', 'Win'], normalize=True, elasticnet = False)"
   ]
  },
  {
   "cell_type": "markdown",
   "metadata": {},
   "source": [
    "##### Feature importance evaluator"
   ]
  },
  {
   "cell_type": "code",
   "execution_count": 36,
   "metadata": {
    "ExecuteTime": {
     "end_time": "2019-08-05T11:24:49.013076Z",
     "start_time": "2019-08-05T11:24:48.854423Z"
    }
   },
   "outputs": [
    {
     "data": {
      "text/plain": [
       "teamtowerkills    0.266682\n",
       "earnedgpm         0.123503\n",
       "d                 0.094763\n",
       "kpm               0.072964\n",
       "a                 0.060551\n",
       "teamkills         0.051410\n",
       "k                 0.048666\n",
       "gspd              0.047201\n",
       "teambaronkills    0.030566\n",
       "Encoded_fbaron    0.020332\n",
       "dtype: float64"
      ]
     },
     "execution_count": 36,
     "metadata": {},
     "output_type": "execute_result"
    }
   ],
   "source": [
    "# Show the sorted features indicating the highest importance in predicting the target\n",
    "feature_imp = pd.Series(fitted_rf_model.feature_importances_,index=x_train.columns).sort_values(ascending=False)\n",
    "rf_model_dict['feature_importance'] = dict(zip(feature_imp.index, feature_imp))\n",
    "feature_imp[:10]"
   ]
  },
  {
   "cell_type": "markdown",
   "metadata": {},
   "source": [
    "### 3.5 Comparison ML techniques"
   ]
  },
  {
   "cell_type": "markdown",
   "metadata": {},
   "source": [
    "##### Creation summary table"
   ]
  },
  {
   "cell_type": "code",
   "execution_count": 37,
   "metadata": {
    "ExecuteTime": {
     "end_time": "2019-08-05T11:24:49.038898Z",
     "start_time": "2019-08-05T11:24:49.014858Z"
    }
   },
   "outputs": [
    {
     "data": {
      "text/html": [
       "<div>\n",
       "<style scoped>\n",
       "    .dataframe tbody tr th:only-of-type {\n",
       "        vertical-align: middle;\n",
       "    }\n",
       "\n",
       "    .dataframe tbody tr th {\n",
       "        vertical-align: top;\n",
       "    }\n",
       "\n",
       "    .dataframe thead th {\n",
       "        text-align: right;\n",
       "    }\n",
       "</style>\n",
       "<table border=\"1\" class=\"dataframe\">\n",
       "  <thead>\n",
       "    <tr style=\"text-align: right;\">\n",
       "      <th></th>\n",
       "      <th>regularisation_param</th>\n",
       "      <th>sensitivity</th>\n",
       "      <th>specificity</th>\n",
       "      <th>auc</th>\n",
       "      <th>accuracy</th>\n",
       "      <th>feature_importance</th>\n",
       "    </tr>\n",
       "  </thead>\n",
       "  <tbody>\n",
       "    <tr>\n",
       "      <th>Lasso</th>\n",
       "      <td>NaN</td>\n",
       "      <td>0.983982</td>\n",
       "      <td>0.976048</td>\n",
       "      <td>0.980015</td>\n",
       "      <td>0.980105</td>\n",
       "      <td>{'teamtowerkills': 5.147349233949684, 'd': -1....</td>\n",
       "    </tr>\n",
       "    <tr>\n",
       "      <th>Ridge</th>\n",
       "      <td>0.975</td>\n",
       "      <td>0.993135</td>\n",
       "      <td>0.972455</td>\n",
       "      <td>0.982795</td>\n",
       "      <td>0.983031</td>\n",
       "      <td>{'teamtowerkills': 0.6682372630983063, 'wardki...</td>\n",
       "    </tr>\n",
       "    <tr>\n",
       "      <th>Elasticnet</th>\n",
       "      <td>{'l1_ratio': 0.01, 'alpha': 0.0439633322778549}</td>\n",
       "      <td>0.990847</td>\n",
       "      <td>0.971257</td>\n",
       "      <td>0.981052</td>\n",
       "      <td>0.981276</td>\n",
       "      <td>{'teamtowerkills': 0.27300611869720404, 'd': -...</td>\n",
       "    </tr>\n",
       "    <tr>\n",
       "      <th>RandomForest</th>\n",
       "      <td>{'bootstrap': False, 'max_features': 'auto', '...</td>\n",
       "      <td>0.978261</td>\n",
       "      <td>0.967665</td>\n",
       "      <td>0.972963</td>\n",
       "      <td>0.973084</td>\n",
       "      <td>{'teamtowerkills': 0.2666815328890088, 'earned...</td>\n",
       "    </tr>\n",
       "  </tbody>\n",
       "</table>\n",
       "</div>"
      ],
      "text/plain": [
       "                                           regularisation_param  sensitivity  \\\n",
       "Lasso                                                       NaN     0.983982   \n",
       "Ridge                                                     0.975     0.993135   \n",
       "Elasticnet      {'l1_ratio': 0.01, 'alpha': 0.0439633322778549}     0.990847   \n",
       "RandomForest  {'bootstrap': False, 'max_features': 'auto', '...     0.978261   \n",
       "\n",
       "              specificity       auc  accuracy  \\\n",
       "Lasso            0.976048  0.980015  0.980105   \n",
       "Ridge            0.972455  0.982795  0.983031   \n",
       "Elasticnet       0.971257  0.981052  0.981276   \n",
       "RandomForest     0.967665  0.972963  0.973084   \n",
       "\n",
       "                                             feature_importance  \n",
       "Lasso         {'teamtowerkills': 5.147349233949684, 'd': -1....  \n",
       "Ridge         {'teamtowerkills': 0.6682372630983063, 'wardki...  \n",
       "Elasticnet    {'teamtowerkills': 0.27300611869720404, 'd': -...  \n",
       "RandomForest  {'teamtowerkills': 0.2666815328890088, 'earned...  "
      ]
     },
     "execution_count": 37,
     "metadata": {},
     "output_type": "execute_result"
    }
   ],
   "source": [
    "# Create summary table\n",
    "for key in logistic_L1penalty_model_dict.keys():\n",
    "    model_summary_dict[key] = [logistic_L1penalty_model_dict[key], ridge_model_dict[key], elasticnet_model_dict[key], rf_model_dict[key]]\n",
    "model_summary_table = pd.DataFrame(model_summary_dict, columns = logistic_L1penalty_model_dict.keys())\n",
    "model_summary_table.rename(index={0:'Lasso', 1:'Ridge', 2:'Elasticnet', 3:'RandomForest'}, inplace = True)\n",
    "\n",
    "# Visualize summary table\n",
    "model_summary_table"
   ]
  },
  {
   "cell_type": "markdown",
   "metadata": {},
   "source": [
    "##### Investigate accuracy metrics"
   ]
  },
  {
   "cell_type": "code",
   "execution_count": 38,
   "metadata": {
    "ExecuteTime": {
     "end_time": "2019-08-05T11:24:49.383471Z",
     "start_time": "2019-08-05T11:24:49.040707Z"
    }
   },
   "outputs": [
    {
     "data": {
      "text/plain": [
       "<matplotlib.legend.Legend at 0x7f135c130550>"
      ]
     },
     "execution_count": 38,
     "metadata": {},
     "output_type": "execute_result"
    },
    {
     "data": {
      "image/png": "[encoded data removed]",
      "text/plain": [
       "<Figure size 432x288 with 1 Axes>"
      ]
     },
     "metadata": {
      "needs_background": "light"
     },
     "output_type": "display_data"
    }
   ],
   "source": [
    "# Visualize a summarization of the accuracy metrics for the different ML methods\n",
    "fig, ax = plt.subplots()\n",
    "ax.plot(list(model_summary_table.index), model_summary_table.sensitivity, '--', label=\"sensitivity\", color='lightskyblue')\n",
    "ax.plot(list(model_summary_table.index), model_summary_table.specificity, '--', label=\"specificity\", color='lightblue')\n",
    "ax.plot(list(model_summary_table.index), model_summary_table.accuracy, label=\"accuracy\", color='royalblue')\n",
    "plt.title(\"Sensitivity, specificity and accuracy regularization models\")\n",
    "plt.ylabel('Value')\n",
    "plt.xlabel('ML model')\n",
    "ax.legend(loc =\"best\", fontsize = 8)"
   ]
  },
  {
   "cell_type": "markdown",
   "metadata": {},
   "source": [
    "##### Investigate parameter coefficients"
   ]
  },
  {
   "cell_type": "code",
   "execution_count": 39,
   "metadata": {
    "ExecuteTime": {
     "end_time": "2019-08-05T11:24:49.391646Z",
     "start_time": "2019-08-05T11:24:49.385524Z"
    }
   },
   "outputs": [
    {
     "name": "stdout",
     "output_type": "stream",
     "text": [
      "The number of features kept by the different techniques in the model:\n",
      " ----------------------------------------------------------------------------------------------------\n",
      "Lasso :  27\n",
      "Ridge :  67\n",
      "Elasticnet :  67\n",
      "RandomForest :  67\n"
     ]
    }
   ],
   "source": [
    "# Short intermediate summary\n",
    "print(\"The number of features kept by the different techniques in the model:\\n\", \"-\"*100)\n",
    "for ML in list(model_summary_table.index):\n",
    "    print(ML, \": \", len(model_summary_table.feature_importance[ML]))"
   ]
  },
  {
   "cell_type": "code",
   "execution_count": 40,
   "metadata": {
    "ExecuteTime": {
     "end_time": "2019-08-05T11:24:49.707849Z",
     "start_time": "2019-08-05T11:24:49.393491Z"
    }
   },
   "outputs": [
    {
     "data": {
      "image/png": "[encoded data removed]",
      "text/plain": [
       "<Figure size 432x288 with 1 Axes>"
      ]
     },
     "metadata": {
      "needs_background": "light"
     },
     "output_type": "display_data"
    }
   ],
   "source": [
    "# Visualization of difference in coefficient estimates\n",
    "plt.plot(fitted_elasticnet_model.coef_, color='darkorange', linewidth=2,\n",
    "         label='Elastic net coefficients')\n",
    "plt.plot(fitted_logistic_L1penalty_model.coef_[0], color='yellowgreen', linewidth=2,\n",
    "         label='Lasso coefficients')\n",
    "plt.plot(fitted_ridge_model.coef_[0], '--', color='dodgerblue', label='Ridge coefficients')\n",
    "plt.legend(loc='best')\n",
    "plt.title(\"Comparison parameter coefficients\")\n",
    "plt.ylabel('Coefficient')\n",
    "plt.xlabel('Feature ID')\n",
    "plt.show()"
   ]
  },
  {
   "cell_type": "code",
   "execution_count": 41,
   "metadata": {
    "ExecuteTime": {
     "end_time": "2019-08-05T11:24:53.683080Z",
     "start_time": "2019-08-05T11:24:49.709457Z"
    },
    "scrolled": false
   },
   "outputs": [
    {
     "data": {
      "image/png": "[encoded data removed]",
      "text/plain": [
       "<Figure size 360x576 with 1 Axes>"
      ]
     },
     "metadata": {
      "needs_background": "light"
     },
     "output_type": "display_data"
    },
    {
     "data": {
      "image/png": "[encoded data removed]",
      "text/plain": [
       "<Figure size 360x1008 with 1 Axes>"
      ]
     },
     "metadata": {
      "needs_background": "light"
     },
     "output_type": "display_data"
    },
    {
     "data": {
      "image/png": "[encoded data removed]",
      "text/plain": [
       "<Figure size 360x1008 with 1 Axes>"
      ]
     },
     "metadata": {
      "needs_background": "light"
     },
     "output_type": "display_data"
    },
    {
     "data": {
      "image/png": "[encoded data removed]",
      "text/plain": [
       "<Figure size 360x1008 with 1 Axes>"
      ]
     },
     "metadata": {
      "needs_background": "light"
     },
     "output_type": "display_data"
    }
   ],
   "source": [
    "# Visualize feature importance (coefficient based)\n",
    "for index, ML in enumerate(list(model_summary_table.index)):\n",
    "    x =  np.arange(len(model_summary_table.feature_importance[ML]))\n",
    "    plt.figure(figsize=(5, 8)) if index == 0 else plt.figure(figsize=(5, 14)) \n",
    "    plt.barh(x, list(model_summary_table.feature_importance[ML].values()), \n",
    "             tick_label =  list(model_summary_table.feature_importance[ML].keys()),\n",
    "             color = 'mediumslateblue', \n",
    "             edgecolor = 'slateblue')\n",
    "    plt.title(\"Feature coefficient estimates \" + ML + \" classification\")\n",
    "    plt.ylabel('Feature')\n",
    "    plt.xlabel('Coefficient')\n",
    "    plt.show()"
   ]
  },
  {
   "cell_type": "markdown",
   "metadata": {},
   "source": [
    "## 4. Create team specific summary vectors"
   ]
  },
  {
   "cell_type": "markdown",
   "metadata": {
    "ExecuteTime": {
     "end_time": "2019-03-26T08:44:26.367395Z",
     "start_time": "2019-03-26T08:44:26.305732Z"
    }
   },
   "source": [
    "### 4.1 Create dataset capturing the average feature values per team\n",
    "A team specific summary vector will be created by looping through all the features captured by the dataset and taking the average over all the games played by that team (for a specific feature). To have a better indication of the accuracy of the team vector another column is added at the end indicating the number of games on which the calculation is based."
   ]
  },
  {
   "cell_type": "code",
   "execution_count": 42,
   "metadata": {
    "ExecuteTime": {
     "end_time": "2019-08-05T11:24:56.271912Z",
     "start_time": "2019-08-05T11:24:53.684937Z"
    }
   },
   "outputs": [],
   "source": [
    "# Extract list with the different teams\n",
    "teams = list(set(data_raw.team))\n",
    "team_vector_cols = list(data.columns)\n",
    "team_vector_cols.append('accuracy indicator')\n",
    "\n",
    "# Create summary vector for each team\n",
    "team_info_list = []\n",
    "for team in teams:\n",
    "    team_vector = []\n",
    "    team_subdf = data_raw[data_raw.team == team]\n",
    "    # Loop through the different columns\n",
    "    for col in data.columns:\n",
    "        # Take the mean over column values for numerical features\n",
    "        if 'Encoded' not in col:\n",
    "            team_vector.append(team_subdf[col].mean())\n",
    "        # Take the majority value over column values for discrete features\n",
    "        else: \n",
    "            team_vector.append(RandomSampleProbDist(team_subdf[col]))\n",
    "    # Add accuracy indicator\n",
    "    team_vector.append(len(team_subdf))\n",
    "    team_info_list.append(team_vector)\n",
    "    \n",
    "# Create summary dataframe\n",
    "team_vector_df = pd.DataFrame(data = team_info_list, index=teams, columns=team_vector_cols)"
   ]
  },
  {
   "cell_type": "code",
   "execution_count": 43,
   "metadata": {
    "ExecuteTime": {
     "end_time": "2019-08-05T11:24:56.281048Z",
     "start_time": "2019-08-05T11:24:56.273890Z"
    }
   },
   "outputs": [
    {
     "name": "stdout",
     "output_type": "stream",
     "text": [
      "Summary information team vector dataframe: Team specific feature vectors are captured for 131 teams.\n",
      "\n",
      "The teams indicating feature vectors based on less than 10 games:\n",
      " ----------------------------------------------------------------------------------------------------\n",
      "besiktas\n",
      "cj entus\n",
      "17 academy\n",
      "pentagram\n",
      "isurus gaming\n",
      "oyunhizmetleri\n",
      "young generation\n",
      "ascension gaming\n",
      "kinguin\n",
      "rainbow7\n",
      "virtus.pro\n"
     ]
    }
   ],
   "source": [
    "# Intermediate summary\n",
    "print(\"Summary information team vector dataframe: Team specific feature vectors are captured for\", len(team_vector_df), \"teams.\\n\")\n",
    "\n",
    "# Extract vector accuracy information\n",
    "print(\"The teams indicating feature vectors based on less than 10 games:\\n\", '-'*100)\n",
    "for team, acc_ind in zip(list(team_vector_df.index), team_vector_df['accuracy indicator']):\n",
    "    if acc_ind < 10:\n",
    "        print(team)"
   ]
  },
  {
   "cell_type": "code",
   "execution_count": 44,
   "metadata": {
    "ExecuteTime": {
     "end_time": "2019-08-05T11:24:56.944615Z",
     "start_time": "2019-08-05T11:24:56.282896Z"
    }
   },
   "outputs": [
    {
     "name": "stdout",
     "output_type": "stream",
     "text": [
      "==================================================================================================== \n",
      "Overview of variable:  Accuracy indicator \n",
      " ====================================================================================================\n"
     ]
    },
    {
     "data": {
      "image/png": "[encoded data removed]",
      "text/plain": [
       "<Figure size 432x288 with 1 Axes>"
      ]
     },
     "metadata": {
      "needs_background": "light"
     },
     "output_type": "display_data"
    },
    {
     "name": "stdout",
     "output_type": "stream",
     "text": [
      "-------------------- \n",
      "Summary statistics:\n",
      " --------------------\n",
      "Minimum value: 3\n",
      "Mean: 86.9466\n",
      "Standard deviation: 66.0879\n",
      "Median: 71\n",
      "Maximal value: 243\n"
     ]
    },
    {
     "data": {
      "image/png": "[encoded data removed]",
      "text/plain": [
       "<Figure size 432x288 with 1 Axes>"
      ]
     },
     "metadata": {
      "needs_background": "light"
     },
     "output_type": "display_data"
    },
    {
     "name": "stdout",
     "output_type": "stream",
     "text": [
      "-------------------- \n",
      "Outlier detection:\n",
      " --------------------\n",
      "List of outliers: set()\n"
     ]
    },
    {
     "data": {
      "image/png": "[encoded data removed]",
      "text/plain": [
       "<Figure size 432x288 with 1 Axes>"
      ]
     },
     "metadata": {
      "needs_background": "light"
     },
     "output_type": "display_data"
    },
    {
     "name": "stdout",
     "output_type": "stream",
     "text": [
      "-------------------- \n",
      "Check for normal distribution:\n",
      " --------------------\n",
      "Skewedness: 0.6227\n",
      "Kurtosis: -0.6871\n"
     ]
    },
    {
     "data": {
      "text/plain": [
       "<Figure size 432x288 with 0 Axes>"
      ]
     },
     "metadata": {},
     "output_type": "display_data"
    }
   ],
   "source": [
    "# Accuracy indicator distribution\n",
    "SummaryNumericVar(team_vector_df['accuracy indicator'], 'Accuracy indicator')"
   ]
  },
  {
   "cell_type": "markdown",
   "metadata": {},
   "source": [
    "### 4.2 Estimate team strength parameters"
   ]
  },
  {
   "cell_type": "code",
   "execution_count": 45,
   "metadata": {
    "ExecuteTime": {
     "end_time": "2019-08-05T11:24:56.949934Z",
     "start_time": "2019-08-05T11:24:56.946581Z"
    }
   },
   "outputs": [],
   "source": [
    "# Create dictionary to capture strength parameter information\n",
    "strength_param_dict = dict()\n",
    "\n",
    "# Extract columns not used for model fit\n",
    "additional_columns = ['result', 'accuracy indicator']\n",
    "strength_param_dict['accuracy indicator'] = team_vector_df['accuracy indicator']"
   ]
  },
  {
   "cell_type": "markdown",
   "metadata": {},
   "source": [
    "##### Lasso classification based parameter approximation"
   ]
  },
  {
   "cell_type": "code",
   "execution_count": 46,
   "metadata": {
    "ExecuteTime": {
     "end_time": "2019-08-05T11:24:57.042999Z",
     "start_time": "2019-08-05T11:24:56.951688Z"
    }
   },
   "outputs": [],
   "source": [
    "# 1. Fit (trained) lasso classification model\n",
    "strength_param_dict['lasso'] = [y for x, y in fitted_logistic_L1penalty_model.predict_proba(team_vector_df[selected_features_rfe])]"
   ]
  },
  {
   "cell_type": "markdown",
   "metadata": {},
   "source": [
    "##### Ridge classification based parameter approximation"
   ]
  },
  {
   "cell_type": "code",
   "execution_count": 47,
   "metadata": {
    "ExecuteTime": {
     "end_time": "2019-08-05T11:24:57.157684Z",
     "start_time": "2019-08-05T11:24:57.045777Z"
    },
    "scrolled": true
   },
   "outputs": [],
   "source": [
    "# 2. Fit ridge classification model with best regularisation parameter based on CV\n",
    "additional_columns = ['result', 'accuracy indicator']\n",
    "ridge = RidgeClassifier(alpha = ridge_model_dict['regularisation_param'], fit_intercept = False)\n",
    "fitted_ridge = ridge.fit(x_train, y_train)\n",
    "logit_trans_predictions_ridge = fitted_ridge.decision_function(team_vector_df[[x for x in data.columns if x not in additional_columns]])\n",
    "strength_param_dict['ridge'] = np.exp(logit_trans_predictions_ridge) / (1 + np.exp(logit_trans_predictions_ridge))"
   ]
  },
  {
   "cell_type": "markdown",
   "metadata": {},
   "source": [
    "Remark: There is no predicted probability option for the RidgeClassifier because this model is not easy to interpret as a probability model. The decision function of the RidgeClassifier model considers a logit transformation of the actual class probabilities. If decision function is greater than zero then class 1 is predicted otherwise predict class 0, corresponding to a classical logit approach. By back-transforming these predictions we can get the predicted probabilities."
   ]
  },
  {
   "cell_type": "markdown",
   "metadata": {},
   "source": [
    "##### Result averaging based parameter approximation"
   ]
  },
  {
   "cell_type": "code",
   "execution_count": 48,
   "metadata": {
    "ExecuteTime": {
     "end_time": "2019-08-05T11:24:57.236263Z",
     "start_time": "2019-08-05T11:24:57.159368Z"
    }
   },
   "outputs": [],
   "source": [
    "# 3. Expected outcome of the game based on team-vector averaging \n",
    "strength_param_dict['result'] = team_vector_df['result']"
   ]
  },
  {
   "cell_type": "code",
   "execution_count": 49,
   "metadata": {
    "ExecuteTime": {
     "end_time": "2019-08-05T11:24:57.336270Z",
     "start_time": "2019-08-05T11:24:57.238069Z"
    }
   },
   "outputs": [
    {
     "data": {
      "text/html": [
       "<div>\n",
       "<style scoped>\n",
       "    .dataframe tbody tr th:only-of-type {\n",
       "        vertical-align: middle;\n",
       "    }\n",
       "\n",
       "    .dataframe tbody tr th {\n",
       "        vertical-align: top;\n",
       "    }\n",
       "\n",
       "    .dataframe thead th {\n",
       "        text-align: right;\n",
       "    }\n",
       "</style>\n",
       "<table border=\"1\" class=\"dataframe\">\n",
       "  <thead>\n",
       "    <tr style=\"text-align: right;\">\n",
       "      <th></th>\n",
       "      <th>accuracy indicator</th>\n",
       "      <th>lasso</th>\n",
       "      <th>ridge</th>\n",
       "      <th>result</th>\n",
       "    </tr>\n",
       "  </thead>\n",
       "  <tbody>\n",
       "    <tr>\n",
       "      <th>galatasaray esports</th>\n",
       "      <td>27</td>\n",
       "      <td>0.074686</td>\n",
       "      <td>0.445180</td>\n",
       "      <td>0.296296</td>\n",
       "    </tr>\n",
       "    <tr>\n",
       "      <th>clutch gaming</th>\n",
       "      <td>93</td>\n",
       "      <td>0.096598</td>\n",
       "      <td>0.475694</td>\n",
       "      <td>0.451613</td>\n",
       "    </tr>\n",
       "    <tr>\n",
       "      <th>newbee</th>\n",
       "      <td>93</td>\n",
       "      <td>0.165294</td>\n",
       "      <td>0.474261</td>\n",
       "      <td>0.473118</td>\n",
       "    </tr>\n",
       "    <tr>\n",
       "      <th>vici gaming</th>\n",
       "      <td>123</td>\n",
       "      <td>0.009371</td>\n",
       "      <td>0.384944</td>\n",
       "      <td>0.252033</td>\n",
       "    </tr>\n",
       "    <tr>\n",
       "      <th>pain gaming</th>\n",
       "      <td>57</td>\n",
       "      <td>0.592378</td>\n",
       "      <td>0.504485</td>\n",
       "      <td>0.526316</td>\n",
       "    </tr>\n",
       "  </tbody>\n",
       "</table>\n",
       "</div>"
      ],
      "text/plain": [
       "                     accuracy indicator     lasso     ridge    result\n",
       "galatasaray esports                  27  0.074686  0.445180  0.296296\n",
       "clutch gaming                        93  0.096598  0.475694  0.451613\n",
       "newbee                               93  0.165294  0.474261  0.473118\n",
       "vici gaming                         123  0.009371  0.384944  0.252033\n",
       "pain gaming                          57  0.592378  0.504485  0.526316"
      ]
     },
     "execution_count": 49,
     "metadata": {},
     "output_type": "execute_result"
    }
   ],
   "source": [
    "# Create dataframe of strength parameter summarization\n",
    "strength_param_df = pd.DataFrame(strength_param_dict)\n",
    "strength_param_df.head()"
   ]
  },
  {
   "cell_type": "markdown",
   "metadata": {},
   "source": [
    "### 4.3 Investigation strength parameter characteristics"
   ]
  },
  {
   "cell_type": "code",
   "execution_count": 50,
   "metadata": {
    "ExecuteTime": {
     "end_time": "2019-08-05T11:24:59.297270Z",
     "start_time": "2019-08-05T11:24:57.338101Z"
    },
    "scrolled": false
   },
   "outputs": [
    {
     "name": "stdout",
     "output_type": "stream",
     "text": [
      "==================================================================================================== \n",
      "Overview of variable:  lasso \n",
      " ====================================================================================================\n"
     ]
    },
    {
     "data": {
      "image/png": "[encoded data removed]",
      "text/plain": [
       "<Figure size 432x288 with 1 Axes>"
      ]
     },
     "metadata": {
      "needs_background": "light"
     },
     "output_type": "display_data"
    },
    {
     "name": "stdout",
     "output_type": "stream",
     "text": [
      "-------------------- \n",
      "Summary statistics:\n",
      " --------------------\n",
      "Minimum value: 3.766779220139921e-05\n",
      "Mean: 0.3307\n",
      "Standard deviation: 0.3244\n",
      "Median: 0.2028\n",
      "Maximal value: 0.9975373026004482\n"
     ]
    },
    {
     "data": {
      "image/png": "[encoded data removed]",
      "text/plain": [
       "<Figure size 432x288 with 1 Axes>"
      ]
     },
     "metadata": {
      "needs_background": "light"
     },
     "output_type": "display_data"
    },
    {
     "name": "stdout",
     "output_type": "stream",
     "text": [
      "-------------------- \n",
      "Outlier detection:\n",
      " --------------------\n",
      "List of outliers: set()\n"
     ]
    },
    {
     "data": {
      "image/png": "[encoded data removed]",
      "text/plain": [
       "<Figure size 432x288 with 1 Axes>"
      ]
     },
     "metadata": {
      "needs_background": "light"
     },
     "output_type": "display_data"
    },
    {
     "name": "stdout",
     "output_type": "stream",
     "text": [
      "-------------------- \n",
      "Check for normal distribution:\n",
      " --------------------\n",
      "Skewedness: 0.6849\n",
      "Kurtosis: -0.9652\n",
      "==================================================================================================== \n",
      "Overview of variable:  ridge \n",
      " ====================================================================================================\n"
     ]
    },
    {
     "data": {
      "image/png": "[encoded data removed]",
      "text/plain": [
       "<Figure size 432x288 with 1 Axes>"
      ]
     },
     "metadata": {
      "needs_background": "light"
     },
     "output_type": "display_data"
    },
    {
     "name": "stdout",
     "output_type": "stream",
     "text": [
      "-------------------- \n",
      "Summary statistics:\n",
      " --------------------\n",
      "Minimum value: 0.2635644166908092\n",
      "Mean: 0.4736\n",
      "Standard deviation: 0.073\n",
      "Median: 0.4743\n",
      "Maximal value: 0.6712326268935185\n"
     ]
    },
    {
     "data": {
      "image/png": "[encoded data removed]",
      "text/plain": [
       "<Figure size 432x288 with 1 Axes>"
      ]
     },
     "metadata": {
      "needs_background": "light"
     },
     "output_type": "display_data"
    },
    {
     "name": "stdout",
     "output_type": "stream",
     "text": [
      "-------------------- \n",
      "Outlier detection:\n",
      " --------------------\n",
      "List of outliers: set()\n"
     ]
    },
    {
     "data": {
      "image/png": "[encoded data removed]",
      "text/plain": [
       "<Figure size 432x288 with 1 Axes>"
      ]
     },
     "metadata": {
      "needs_background": "light"
     },
     "output_type": "display_data"
    },
    {
     "name": "stdout",
     "output_type": "stream",
     "text": [
      "-------------------- \n",
      "Check for normal distribution:\n",
      " --------------------\n",
      "Skewedness: -0.2397\n",
      "Kurtosis: 0.2351\n",
      "==================================================================================================== \n",
      "Overview of variable:  result \n",
      " ====================================================================================================\n"
     ]
    },
    {
     "data": {
      "image/png": "[encoded data removed]",
      "text/plain": [
       "<Figure size 432x288 with 1 Axes>"
      ]
     },
     "metadata": {
      "needs_background": "light"
     },
     "output_type": "display_data"
    },
    {
     "name": "stdout",
     "output_type": "stream",
     "text": [
      "-------------------- \n",
      "Summary statistics:\n",
      " --------------------\n",
      "Minimum value: 0.0\n",
      "Mean: 0.4396\n",
      "Standard deviation: 0.1584\n",
      "Median: 0.4567\n",
      "Maximal value: 0.751412429378531\n"
     ]
    },
    {
     "data": {
      "image/png": "[encoded data removed]",
      "text/plain": [
       "<Figure size 432x288 with 1 Axes>"
      ]
     },
     "metadata": {
      "needs_background": "light"
     },
     "output_type": "display_data"
    },
    {
     "name": "stdout",
     "output_type": "stream",
     "text": [
      "-------------------- \n",
      "Outlier detection:\n",
      " --------------------\n",
      "List of outliers: set()\n"
     ]
    },
    {
     "data": {
      "image/png": "[encoded data removed]",
      "text/plain": [
       "<Figure size 432x288 with 1 Axes>"
      ]
     },
     "metadata": {
      "needs_background": "light"
     },
     "output_type": "display_data"
    },
    {
     "name": "stdout",
     "output_type": "stream",
     "text": [
      "-------------------- \n",
      "Check for normal distribution:\n",
      " --------------------\n",
      "Skewedness: -0.5209\n",
      "Kurtosis: 0.0955\n"
     ]
    },
    {
     "data": {
      "text/plain": [
       "<Figure size 432x288 with 0 Axes>"
      ]
     },
     "metadata": {},
     "output_type": "display_data"
    }
   ],
   "source": [
    "# Visualisation strength parameter distributions (based on the different techniques)\n",
    "for col in strength_param_df.columns[1:]:\n",
    "    SummaryNumericVar(strength_param_df[col], col)"
   ]
  },
  {
   "cell_type": "markdown",
   "metadata": {
    "ExecuteTime": {
     "end_time": "2019-03-26T14:30:10.779352Z",
     "start_time": "2019-03-26T14:30:10.606507Z"
    }
   },
   "source": [
    "### 4.4 Write data away"
   ]
  },
  {
   "cell_type": "code",
   "execution_count": 51,
   "metadata": {
    "ExecuteTime": {
     "end_time": "2019-08-05T11:24:59.322934Z",
     "start_time": "2019-08-05T11:24:59.299470Z"
    }
   },
   "outputs": [],
   "source": [
    "# Save the team strength parameter data\n",
    "with open('/home/je32910/MasterThesis_ComputationalStatistics/pickles/' + saved_filename + '.pickle', 'wb') as f:\n",
    "    pickle.dump(strength_param_df, f)"
   ]
  },
  {
   "cell_type": "code",
   "execution_count": null,
   "metadata": {},
   "outputs": [],
   "source": []
  }
 ],
 "metadata": {
  "kernelspec": {
   "display_name": "Python [conda env:python36]",
   "language": "python",
   "name": "conda-env-python36-py"
  },
  "language_info": {
   "codemirror_mode": {
    "name": "ipython",
    "version": 3
   },
   "file_extension": ".py",
   "mimetype": "text/x-python",
   "name": "python",
   "nbconvert_exporter": "python",
   "pygments_lexer": "ipython3",
   "version": "3.6.8"
  }
 },
 "nbformat": 4,
 "nbformat_minor": 2
}
