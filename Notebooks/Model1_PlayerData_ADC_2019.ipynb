{
 "cells": [
  {
   "cell_type": "markdown",
   "metadata": {},
   "source": [
    "# Model 1: Estimation of player strength parameters (ADC)"
   ]
  },
  {
   "cell_type": "code",
   "execution_count": 1,
   "metadata": {
    "ExecuteTime": {
     "end_time": "2019-08-24T16:39:10.098665Z",
     "start_time": "2019-08-24T16:39:10.094207Z"
    }
   },
   "outputs": [],
   "source": [
    "# Filename standardized data\n",
    "#loaded_pp_filename = 'playerdata2017_preprocessed_adc'\n",
    "#loaded_std_filename = 'playerdata2017_standardized_adc'\n",
    "#saved_filename = 'playerdata2017_strenghtparam_adc'\n",
    "#loaded_pp_filename = 'playerdata2018_preprocessed_adc'\n",
    "#loaded_std_filename = 'playerdata2018_standardized_adc'\n",
    "#saved_filename = 'playerdata2018_strenghtparam_adc'\n",
    "loaded_pp_filename = 'playerdata2019_preprocessed_adc'\n",
    "loaded_std_filename = 'playerdata2019_standardized_adc'\n",
    "saved_filename = 'playerdata2019_strenghtparam_adc'"
   ]
  },
  {
   "cell_type": "markdown",
   "metadata": {},
   "source": [
    "## 0. Load libraries and define functions"
   ]
  },
  {
   "cell_type": "markdown",
   "metadata": {},
   "source": [
    "### 0.1 General python functionality"
   ]
  },
  {
   "cell_type": "code",
   "execution_count": 2,
   "metadata": {
    "ExecuteTime": {
     "end_time": "2019-08-24T16:39:14.257420Z",
     "start_time": "2019-08-24T16:39:10.100538Z"
    }
   },
   "outputs": [],
   "source": [
    "# Functions\n",
    "import numpy as np\n",
    "import os\n",
    "import pickle\n",
    "import pandas as pd\n",
    "import operator\n",
    "import itertools\n",
    "from numpy.random import choice\n",
    "from collections import Counter\n",
    "import statistics\n",
    "from scipy import stats\n",
    "\n",
    "# Functions used for data visualization\n",
    "import seaborn as sns\n",
    "import matplotlib.pyplot as plt"
   ]
  },
  {
   "cell_type": "code",
   "execution_count": 3,
   "metadata": {
    "ExecuteTime": {
     "end_time": "2019-08-24T16:39:16.188578Z",
     "start_time": "2019-08-24T16:39:14.261504Z"
    }
   },
   "outputs": [],
   "source": [
    "# Special functions needed for custom functions\n",
    "import sklearn\n",
    "from sklearn.model_selection import train_test_split\n",
    "from sklearn.linear_model import Ridge, RidgeCV, RidgeClassifierCV, LogisticRegression, ElasticNetCV, ElasticNet, Lasso, RidgeClassifier\n",
    "from sklearn import metrics\n",
    "from sklearn.feature_selection import RFECV\n",
    "from sklearn.ensemble import RandomForestClassifier\n",
    "from sklearn.model_selection import GridSearchCV"
   ]
  },
  {
   "cell_type": "code",
   "execution_count": 4,
   "metadata": {
    "ExecuteTime": {
     "end_time": "2019-08-24T16:39:16.209897Z",
     "start_time": "2019-08-24T16:39:16.195094Z"
    }
   },
   "outputs": [],
   "source": [
    "# Surpress printing warnings\n",
    "import warnings\n",
    "warnings.filterwarnings(\"ignore\")"
   ]
  },
  {
   "cell_type": "markdown",
   "metadata": {},
   "source": [
    "### 0.2 Custom functions"
   ]
  },
  {
   "cell_type": "code",
   "execution_count": 5,
   "metadata": {
    "ExecuteTime": {
     "end_time": "2019-08-24T16:39:16.268394Z",
     "start_time": "2019-08-24T16:39:16.212857Z"
    }
   },
   "outputs": [],
   "source": [
    "### Function used to return a summary for categorical variables\n",
    "def SummaryCategoricalVar(list_of_values, title, threshold = 20, top = 10):\n",
    "    \"\"\"\n",
    "    param: list_of_values (list): A list of categorical values from which we like to obtain the distribution\n",
    "    param: title (string): The title for the visualization\n",
    "    param: threshold (int): The maximal number of categories that should be visualized\n",
    "    param: top (int): The top k values that should be returned in the written summary when the number of categories is above the threshold\n",
    "    \"\"\"\n",
    "    # Count the number of occurrances in the list\n",
    "    cnt = Counter(list_of_values)\n",
    "    sorted_cnt = sorted(cnt.items(), key=operator.itemgetter(1))[::-1]\n",
    "    \n",
    "    # Show the percentage dictionary if to many categories to represent\n",
    "    print(\"-\"* 100, \"\\nOverview of variable: \", title, \"\\n\", \"-\"*100)\n",
    "    print(\"Total categories:\", len(cnt), \"\\n\")\n",
    "    if len(cnt) > threshold:\n",
    "        if len(cnt) < top*2:\n",
    "            for key, value in sorted_cnt:\n",
    "                print(key, ':', round(value/len(list_of_values)*100, 4), \"%\")\n",
    "        else:\n",
    "            print(\"The 10 with the highest percentage data available:\\n\")\n",
    "            for key, value in sorted_cnt[:top]:\n",
    "                print(key, ':', round(value/len(list_of_values)*100, 4), \"%\")\n",
    "            print(\"\\nThe 10 with the lowest percentage data available:\\n\")\n",
    "            for key, value in sorted_cnt[len(cnt) - top:]:\n",
    "                print(key, ':', round(value/len(list_of_values)*100, 4), \"%\")\n",
    "                \n",
    "    # Visualization of labelled data distribution\n",
    "    else:\n",
    "        plt.barh(range(1, len(sorted_cnt)+1), \n",
    "                 list(map(lambda x: (x/len(list_of_values)*100), [score for label, score in sorted_cnt])), \n",
    "                 tick_label = list([label for label, score in sorted_cnt]),\n",
    "                 color = 'cornflowerblue', \n",
    "                 edgecolor = 'steelblue')\n",
    "        plt.ylabel('Label')\n",
    "        plt.xlabel('Percentage observations in dataset')\n",
    "        plt.title(title)\n",
    "        plt.show()    \n",
    "        plt.savefig('Barplot_' + title + '.png')"
   ]
  },
  {
   "cell_type": "code",
   "execution_count": 6,
   "metadata": {
    "ExecuteTime": {
     "end_time": "2019-08-24T16:39:16.335442Z",
     "start_time": "2019-08-24T16:39:16.272321Z"
    }
   },
   "outputs": [],
   "source": [
    "### Function used to return a summary for numeric variables\n",
    "def SummaryNumericVar(list_of_values, title):\n",
    "    \"\"\"\n",
    "    param: list_of_values (list): A list of categorical values from which we like to obtain the distribution\n",
    "    param: title (string): The title for the visualization\n",
    "    \"\"\"\n",
    "    \n",
    "    # Title varibale\n",
    "    print(\"=\"* 100, \"\\nOverview of variable: \", title, \"\\n\", \"=\"*100)\n",
    "\n",
    "    # An \"interface\" to matplotlib.axes.Axes.hist() method\n",
    "    n, bins, patches = plt.hist(x = list_of_values, bins='auto', color= '#0504aa', alpha=0.7, rwidth=0.85)\n",
    "    plt.grid(axis='y', alpha=0.75)\n",
    "    plt.xlabel('Value')\n",
    "    plt.ylabel('Frequency')\n",
    "    plt.title(title)\n",
    "    plt.ylim(top=np.ceil(n.max() / 10) * 10 if n.max() % 10 else n.max() + 10)\n",
    "    plt.show()\n",
    "    plt.savefig('Frequency_' + title + '.png')\n",
    "\n",
    "    # Print summary statistics\n",
    "    print(\"-\"*20, \"\\nSummary statistics:\\n\", \"-\"*20)\n",
    "    print(\"Minimum value:\", min(list_of_values))\n",
    "    print(\"Mean:\", round(statistics.mean(list_of_values), 4))\n",
    "    print(\"Standard deviation:\", round(statistics.stdev(list_of_values), 4))\n",
    "    print(\"Median:\", round(statistics.median(list_of_values), 4))\n",
    "    print(\"Maximal value:\", max(list_of_values))\n",
    "\n",
    "    # Plot boxplot\n",
    "    plt.boxplot(list_of_values, 0, 'grey', 0)\n",
    "    plt.xlabel('Value')\n",
    "    plt.title(title)\n",
    "    plt.show()\n",
    "    plt.savefig('Boxplot_' + title + '.png')\n",
    "\n",
    "    # Present outliers\n",
    "    print(\"-\"*20, \"\\nOutlier detection:\\n\", \"-\"*20)\n",
    "    print(\"List of outliers:\", {round(value,2) for z_score, value in zip(np.abs(stats.zscore(list_of_values)), list_of_values) if z_score > 3})\n",
    "\n",
    "    # Check for normally distributed\n",
    "    stats.probplot(list_of_values, dist=\"norm\", plot= plt)\n",
    "    plt.show()\n",
    "    plt.savefig('Probabilityplot_' + title + '.png')\n",
    "\n",
    "    # Statistics to check normality\n",
    "    print(\"-\"*20, \"\\nCheck for normal distribution:\\n\", \"-\"*20)\n",
    "    print(\"Skewedness:\", round(stats.skew(list_of_values), 4))\n",
    "    print(\"Kurtosis:\", round(stats.kurtosis(list_of_values), 4))"
   ]
  },
  {
   "cell_type": "code",
   "execution_count": 7,
   "metadata": {
    "ExecuteTime": {
     "end_time": "2019-08-24T16:39:16.379165Z",
     "start_time": "2019-08-24T16:39:16.341477Z"
    }
   },
   "outputs": [],
   "source": [
    "### Function used to split the data into training and test data\n",
    "def data_splitter(df, response_name = 'target', split_threshold = 0.15, seed = 42):\n",
    "    \"\"\"\n",
    "    Function used to split a dataframe into test and training data\n",
    "    \n",
    "    param: df (Panda's dataframe object)\n",
    "    param: response_name (string): The name of the response variable in the dataframe\n",
    "    param: split_threshold (float): The split threshold used\n",
    "    param: seed (int): Integer defining the seed for random split of the data\n",
    "    \n",
    "    return: (tuple) A tuple with four pandas dataframe objects\n",
    "    \"\"\"\n",
    "    # Split the dataframe into features and response variable\n",
    "    df_tmp = df.copy()\n",
    "    x, y = df_tmp.drop([response_name], axis = 1), df[response_name]\n",
    "    # Split the feature and response variable into training and test data\n",
    "    x_train, x_test, y_train, y_test = train_test_split(x, y, test_size = split_threshold, random_state = seed)\n",
    "    return (x_train, x_test, y_train, y_test)"
   ]
  },
  {
   "cell_type": "code",
   "execution_count": 8,
   "metadata": {
    "ExecuteTime": {
     "end_time": "2019-08-24T16:39:16.463008Z",
     "start_time": "2019-08-24T16:39:16.384014Z"
    }
   },
   "outputs": [],
   "source": [
    "### Function used to generate a summary of the input model (binary classes)\n",
    "def binary_class_evaluator(model, x_test, y_test, threshold = 0.5, elasticnet = False):\n",
    "    \"\"\"\n",
    "    Function returning a tuple with sensitivity, specificity and AUC metrics for specific model\n",
    "    \n",
    "    param: model (model): The model we like to evaluate\n",
    "    param: x_test (list): List of lists of numpy arrays\n",
    "    param: y_test (list): Binary values indicating the outcome variable\n",
    "    param: threshold (float): The classification threshold used\n",
    "    param: elasticnet (bool): Booling indicator for specifying whether the model is elastic net based\n",
    "\n",
    "    return: A tuple containing the calculated sensitivity, specificity and AUC metrics\n",
    "    \"\"\"\n",
    "    # Calculate the different summary statistics based on the model and test data\n",
    "    test_data =  list(y_test) \n",
    "    model_preds = list(model.predict(x_test)) if not elasticnet else [1.0 if x > 0 else 0.0 for x in model.predict(x_test)]\n",
    "    model_acc = metrics.accuracy_score(test_data, model_preds)\n",
    "    true_pos = len([mp for mp, td in zip(model_preds, test_data) if mp > threshold and td == 1])\n",
    "    false_neg = len([mp for mp, td in zip(model_preds, test_data) if mp < threshold and td == 1])\n",
    "    true_neg = len([mp for mp, td in zip(model_preds, test_data) if mp < threshold and td == 0])\n",
    "    false_pos = len([mp for mp, td in zip(model_preds, test_data) if mp > threshold and td == 0])\n",
    "    \n",
    "    # Print intermediate summary to the user\n",
    "    print(\"Based on a threshold of\", threshold, \"the following summary statistics can be obtained:\\n\", \"-\"*100)\n",
    "    print(true_pos, \"true positives over all positives (the wins that were correctly classified).\")\n",
    "    print(false_pos, \"false positives (the wins that were wrongly classified).\")\n",
    "    print(true_neg, \"true negatives (the losses that were correctly classified).\")\n",
    "    print(false_neg, \"false negatives (the losses that were wrongly classified).\\n\")\n",
    "    print(\"The sensitivity is: \", true_pos / (true_pos + false_neg))\n",
    "    print(\"The specificity is: \", true_neg / (true_neg + false_pos))\n",
    "    \n",
    "    # Plot the ROC curve for the model\n",
    "    print(\"\\n\\nAccuracy:\", model_acc, \"\\n\", \"-\"*100)\n",
    "    fpr, tpr, _ = metrics.roc_curve(test_data, model_preds)\n",
    "    auc = metrics.roc_auc_score(test_data, model_preds)\n",
    "    plt.plot(fpr, tpr, label= \"auc: \" + str(round(auc, 4)))\n",
    "    plt.legend(loc = 4)\n",
    "    plt.title('ROC curve')\n",
    "    plt.show()\n",
    "    \n",
    "    # Return sensitivity and specificity values to the user \n",
    "    return true_pos / (true_pos + false_neg), true_neg / (true_neg + false_pos), auc, model_acc"
   ]
  },
  {
   "cell_type": "code",
   "execution_count": 9,
   "metadata": {
    "ExecuteTime": {
     "end_time": "2019-08-24T16:39:16.528862Z",
     "start_time": "2019-08-24T16:39:16.469779Z"
    }
   },
   "outputs": [],
   "source": [
    "### Function used to plot the confusion matrix (normalization can be applied if desired)\n",
    "def plot_confusion_matrix(model, x_test, y_test, classes, normalize = False, elasticnet = False, cmap = plt.cm.Blues):\n",
    "    \"\"\"\n",
    "    Function that visualizes the confusion matrix based on the predictions made by the fitted model and their correspondence\n",
    "    to the observed test data. The option is available to return the normalized confusion matrix.\n",
    "    \n",
    "    param: model (model): The model we like to evaluate\n",
    "    param: x_test (list): List of lists of numpy arrays\n",
    "    param: y_test (list): Binary values indicating the outcome variable\n",
    "    param: classes (list): A list of classes that correspond to the numbered labels in the confusion matrix in that order.\n",
    "    param: normalize (bool): Booling indicator for specification of returning the normalized or non-normalized confusion matrix.\n",
    "    param: elasticnet (bool): Booling indicator for specifying whether the model is elastic net based\n",
    "    \"\"\"\n",
    "    # Approximate the confusion matrix based on model predictions\n",
    "    model_preds = list(model.predict(x_test)) if not elasticnet else [1.0 if x > 0 else 0.0 for x in model.predict(x_test)]\n",
    "    cm = sklearn.metrics.confusion_matrix(y_test, model_preds)\n",
    "    \n",
    "    # Normalize the cm if desired\n",
    "    title = 'Normalized confusion matrix' if normalize else 'Confusion matrix'\n",
    "    if normalize:\n",
    "        cm = cm.astype('float') / cm.sum(axis=1)[:, np.newaxis]\n",
    "    \n",
    "    # Create confusion matrix\n",
    "    print(title, \":\\n\", \"-\"*100)\n",
    "    plt.imshow(cm, interpolation='nearest', cmap=cmap)\n",
    "    plt.title(title)\n",
    "    plt.colorbar()\n",
    "    tick_marks = np.arange(len(classes))\n",
    "    plt.xticks(tick_marks, classes, rotation=45)\n",
    "    plt.yticks(tick_marks, classes)\n",
    "    fmt = '.2f' if normalize else 'd'\n",
    "    thresh = cm.max() / 2.\n",
    "    for i, j in itertools.product(range(cm.shape[0]), range(cm.shape[1])):\n",
    "        plt.text(j, i, format(cm[i, j], fmt),\n",
    "                 horizontalalignment=\"center\",\n",
    "                 color=\"white\" if cm[i, j] > thresh else \"black\")\n",
    "\n",
    "    plt.tight_layout()\n",
    "    plt.ylabel('True label')\n",
    "    plt.xlabel('Predicted label')\n",
    "    plt.show()"
   ]
  },
  {
   "cell_type": "code",
   "execution_count": 10,
   "metadata": {
    "ExecuteTime": {
     "end_time": "2019-08-24T16:39:16.566931Z",
     "start_time": "2019-08-24T16:39:16.532636Z"
    }
   },
   "outputs": [],
   "source": [
    "### Function used to extract the top10 most important features based on the magnitute of the coefficients\n",
    "def important_features_extractor(model, fitted_features, top = 10, elasticnet = False):\n",
    "    \"\"\"\n",
    "    Function used to extract a dictionary mapping the features used in the model with the estimates of their coefficients\n",
    "    \n",
    "    param: model (model): The model we like to evaluate.\n",
    "    param: fitted_features (list): List capturing the different features evaluated by the model.\n",
    "    param: top (int): The amount of fetaures you like to be printed as output (sorted based on decreasing importance).\n",
    "    param: elasticnet (bool): Booling indicator for specifying whether the model is elastic net based\n",
    "    return: (dict) A dictionary mapping the features with their corresponding coefficient estimates.\n",
    "    \"\"\"\n",
    "    # Extract model coefficients\n",
    "    coefficients = model.coef_[0] if not elasticnet else model.coef_\n",
    "    coef_dict = {col:coef for col, coef in zip(fitted_features, coefficients)}\n",
    "    coef_dict_abs = {col:abs(round(coef,2)) for col, coef in zip(fitted_features, coefficients)}\n",
    "    sorted_coefs = sorted(coef_dict_abs.items(), key=operator.itemgetter(1), reverse= True)\n",
    "\n",
    "    # Return the top ten most important features and their coefficients\n",
    "    print(\"Summary of the important features and their corresponding coefficients:\\n\", '-'*100)\n",
    "    ret_dict = dict()\n",
    "    for index, (col, abs_score) in enumerate(sorted_coefs):\n",
    "        if index < top:\n",
    "            print(col, ':', coef_dict[col])\n",
    "        ret_dict[col] = coef_dict[col]\n",
    "    return ret_dict"
   ]
  },
  {
   "cell_type": "code",
   "execution_count": 11,
   "metadata": {
    "ExecuteTime": {
     "end_time": "2019-08-24T16:39:16.601580Z",
     "start_time": "2019-08-24T16:39:16.570717Z"
    }
   },
   "outputs": [],
   "source": [
    "### Function used to draw a random sample from the discrete distribution of probabilities representing the input list\n",
    "def RandomSampleProbDist(list_of_values, draws = 1):\n",
    "    \"\"\"\n",
    "    :param: list_of_values (list): A list of categorical values representing the observations in the dataset\n",
    "    :param: draws (int): The number of samples desired to be returned\n",
    "    :return: (array) An array capturing the sampled categories\n",
    "    \"\"\"\n",
    "    # Only the non-missing values are considered in the sampling procedure\n",
    "    non_missing_list = list_of_values.dropna()\n",
    "    # Sample from the discrete probability distribution representing the categorical variable\n",
    "    return list(choice(list(Counter(non_missing_list)), \n",
    "                  draws, \n",
    "                  p = list(map(lambda x: x/len(non_missing_list), \n",
    "                               Counter(non_missing_list).values()))))[0]"
   ]
  },
  {
   "cell_type": "markdown",
   "metadata": {},
   "source": [
    "## 1. Load preprocessed data in environment"
   ]
  },
  {
   "cell_type": "markdown",
   "metadata": {},
   "source": [
    "### 1.1 Load standardized data"
   ]
  },
  {
   "cell_type": "code",
   "execution_count": 12,
   "metadata": {
    "ExecuteTime": {
     "end_time": "2019-08-24T16:39:16.665086Z",
     "start_time": "2019-08-24T16:39:16.603380Z"
    }
   },
   "outputs": [],
   "source": [
    "# Load pickle\n",
    "with open('/home/je32910/MasterThesis_ComputationalStatistics/pickles/' + loaded_std_filename + '.pickle', 'rb') as f:\n",
    "    data_raw = pickle.load(f)"
   ]
  },
  {
   "cell_type": "code",
   "execution_count": 13,
   "metadata": {
    "ExecuteTime": {
     "end_time": "2019-08-24T16:39:16.976204Z",
     "start_time": "2019-08-24T16:39:16.670762Z"
    },
    "scrolled": true
   },
   "outputs": [
    {
     "data": {
      "text/html": [
       "<div>\n",
       "<style scoped>\n",
       "    .dataframe tbody tr th:only-of-type {\n",
       "        vertical-align: middle;\n",
       "    }\n",
       "\n",
       "    .dataframe tbody tr th {\n",
       "        vertical-align: top;\n",
       "    }\n",
       "\n",
       "    .dataframe thead th {\n",
       "        text-align: right;\n",
       "    }\n",
       "</style>\n",
       "<table border=\"1\" class=\"dataframe\">\n",
       "  <thead>\n",
       "    <tr style=\"text-align: right;\">\n",
       "      <th></th>\n",
       "      <th>split</th>\n",
       "      <th>patchno</th>\n",
       "      <th>result</th>\n",
       "      <th>k</th>\n",
       "      <th>d</th>\n",
       "      <th>a</th>\n",
       "      <th>doubles</th>\n",
       "      <th>triples</th>\n",
       "      <th>fb</th>\n",
       "      <th>fbassist</th>\n",
       "      <th>...</th>\n",
       "      <th>csdat15</th>\n",
       "      <th>datediff</th>\n",
       "      <th>Encoded_league</th>\n",
       "      <th>Encoded_game</th>\n",
       "      <th>Encoded_side</th>\n",
       "      <th>Encoded_champion</th>\n",
       "      <th>Encoded_Year</th>\n",
       "      <th>Encoded_team</th>\n",
       "      <th>Encoded_culture</th>\n",
       "      <th>player</th>\n",
       "    </tr>\n",
       "  </thead>\n",
       "  <tbody>\n",
       "    <tr>\n",
       "      <th>0</th>\n",
       "      <td>-0.259035</td>\n",
       "      <td>-1.035323</td>\n",
       "      <td>0.0</td>\n",
       "      <td>0.241604</td>\n",
       "      <td>-1.246949</td>\n",
       "      <td>0.097104</td>\n",
       "      <td>-0.512948</td>\n",
       "      <td>-0.253036</td>\n",
       "      <td>-0.267639</td>\n",
       "      <td>3.296958</td>\n",
       "      <td>...</td>\n",
       "      <td>0.335260</td>\n",
       "      <td>0.958407</td>\n",
       "      <td>1.229729</td>\n",
       "      <td>1.192908</td>\n",
       "      <td>-1.0</td>\n",
       "      <td>0.327059</td>\n",
       "      <td>-1.072695</td>\n",
       "      <td>-0.353946</td>\n",
       "      <td>-0.740824</td>\n",
       "      <td>maha</td>\n",
       "    </tr>\n",
       "    <tr>\n",
       "      <th>1</th>\n",
       "      <td>-0.259035</td>\n",
       "      <td>-1.035323</td>\n",
       "      <td>1.0</td>\n",
       "      <td>-0.125547</td>\n",
       "      <td>-0.616403</td>\n",
       "      <td>0.403296</td>\n",
       "      <td>-0.512948</td>\n",
       "      <td>-0.253036</td>\n",
       "      <td>-0.267639</td>\n",
       "      <td>-0.303310</td>\n",
       "      <td>...</td>\n",
       "      <td>-0.335260</td>\n",
       "      <td>0.958407</td>\n",
       "      <td>1.229729</td>\n",
       "      <td>1.192908</td>\n",
       "      <td>1.0</td>\n",
       "      <td>0.281515</td>\n",
       "      <td>-1.072695</td>\n",
       "      <td>0.714599</td>\n",
       "      <td>-0.740824</td>\n",
       "      <td>teddy</td>\n",
       "    </tr>\n",
       "    <tr>\n",
       "      <th>2</th>\n",
       "      <td>-0.259035</td>\n",
       "      <td>-1.035323</td>\n",
       "      <td>0.0</td>\n",
       "      <td>-1.227001</td>\n",
       "      <td>0.014144</td>\n",
       "      <td>-1.127667</td>\n",
       "      <td>-0.512948</td>\n",
       "      <td>-0.253036</td>\n",
       "      <td>-0.267639</td>\n",
       "      <td>-0.303310</td>\n",
       "      <td>...</td>\n",
       "      <td>-0.335260</td>\n",
       "      <td>0.958407</td>\n",
       "      <td>1.229729</td>\n",
       "      <td>-0.877722</td>\n",
       "      <td>-1.0</td>\n",
       "      <td>0.281515</td>\n",
       "      <td>-1.072695</td>\n",
       "      <td>0.714599</td>\n",
       "      <td>-0.740824</td>\n",
       "      <td>teddy</td>\n",
       "    </tr>\n",
       "    <tr>\n",
       "      <th>3</th>\n",
       "      <td>-0.259035</td>\n",
       "      <td>-1.035323</td>\n",
       "      <td>1.0</td>\n",
       "      <td>0.975907</td>\n",
       "      <td>-1.246949</td>\n",
       "      <td>0.097104</td>\n",
       "      <td>1.048338</td>\n",
       "      <td>-0.253036</td>\n",
       "      <td>-0.267639</td>\n",
       "      <td>-0.303310</td>\n",
       "      <td>...</td>\n",
       "      <td>0.335260</td>\n",
       "      <td>0.958407</td>\n",
       "      <td>1.229729</td>\n",
       "      <td>-0.877722</td>\n",
       "      <td>1.0</td>\n",
       "      <td>-0.583817</td>\n",
       "      <td>-1.072695</td>\n",
       "      <td>-0.353946</td>\n",
       "      <td>-0.740824</td>\n",
       "      <td>maha</td>\n",
       "    </tr>\n",
       "    <tr>\n",
       "      <th>4</th>\n",
       "      <td>-0.259035</td>\n",
       "      <td>-1.035323</td>\n",
       "      <td>1.0</td>\n",
       "      <td>0.975907</td>\n",
       "      <td>-1.246949</td>\n",
       "      <td>0.709489</td>\n",
       "      <td>1.048338</td>\n",
       "      <td>-0.253036</td>\n",
       "      <td>-0.267639</td>\n",
       "      <td>-0.303310</td>\n",
       "      <td>...</td>\n",
       "      <td>-0.167630</td>\n",
       "      <td>0.958407</td>\n",
       "      <td>1.229729</td>\n",
       "      <td>-0.748308</td>\n",
       "      <td>-1.0</td>\n",
       "      <td>0.281515</td>\n",
       "      <td>-1.072695</td>\n",
       "      <td>-0.353946</td>\n",
       "      <td>-0.740824</td>\n",
       "      <td>maha</td>\n",
       "    </tr>\n",
       "    <tr>\n",
       "      <th>5</th>\n",
       "      <td>-0.259035</td>\n",
       "      <td>-1.035323</td>\n",
       "      <td>0.0</td>\n",
       "      <td>-1.227001</td>\n",
       "      <td>1.905784</td>\n",
       "      <td>-1.127667</td>\n",
       "      <td>-0.512948</td>\n",
       "      <td>-0.253036</td>\n",
       "      <td>-0.267639</td>\n",
       "      <td>-0.303310</td>\n",
       "      <td>...</td>\n",
       "      <td>0.167630</td>\n",
       "      <td>0.958407</td>\n",
       "      <td>1.229729</td>\n",
       "      <td>-0.748308</td>\n",
       "      <td>1.0</td>\n",
       "      <td>0.327059</td>\n",
       "      <td>-1.072695</td>\n",
       "      <td>0.714599</td>\n",
       "      <td>-0.740824</td>\n",
       "      <td>teddy</td>\n",
       "    </tr>\n",
       "    <tr>\n",
       "      <th>6</th>\n",
       "      <td>-0.259035</td>\n",
       "      <td>-1.035323</td>\n",
       "      <td>1.0</td>\n",
       "      <td>0.608755</td>\n",
       "      <td>-1.246949</td>\n",
       "      <td>1.321874</td>\n",
       "      <td>1.048338</td>\n",
       "      <td>-0.253036</td>\n",
       "      <td>3.736370</td>\n",
       "      <td>-0.303310</td>\n",
       "      <td>...</td>\n",
       "      <td>0.782273</td>\n",
       "      <td>0.958407</td>\n",
       "      <td>1.229729</td>\n",
       "      <td>1.192908</td>\n",
       "      <td>-1.0</td>\n",
       "      <td>0.327059</td>\n",
       "      <td>-1.072695</td>\n",
       "      <td>1.550852</td>\n",
       "      <td>-0.740824</td>\n",
       "      <td>pray</td>\n",
       "    </tr>\n",
       "    <tr>\n",
       "      <th>7</th>\n",
       "      <td>-0.259035</td>\n",
       "      <td>-1.035323</td>\n",
       "      <td>0.0</td>\n",
       "      <td>-1.227001</td>\n",
       "      <td>1.905784</td>\n",
       "      <td>-0.209089</td>\n",
       "      <td>-0.512948</td>\n",
       "      <td>-0.253036</td>\n",
       "      <td>-0.267639</td>\n",
       "      <td>-0.303310</td>\n",
       "      <td>...</td>\n",
       "      <td>-0.782273</td>\n",
       "      <td>0.958407</td>\n",
       "      <td>1.229729</td>\n",
       "      <td>1.192908</td>\n",
       "      <td>1.0</td>\n",
       "      <td>0.281515</td>\n",
       "      <td>-1.072695</td>\n",
       "      <td>-0.470092</td>\n",
       "      <td>-0.740824</td>\n",
       "      <td>deft</td>\n",
       "    </tr>\n",
       "    <tr>\n",
       "      <th>8</th>\n",
       "      <td>-0.259035</td>\n",
       "      <td>-1.035323</td>\n",
       "      <td>0.0</td>\n",
       "      <td>-0.859850</td>\n",
       "      <td>0.644691</td>\n",
       "      <td>-1.433860</td>\n",
       "      <td>-0.512948</td>\n",
       "      <td>-0.253036</td>\n",
       "      <td>-0.267639</td>\n",
       "      <td>-0.303310</td>\n",
       "      <td>...</td>\n",
       "      <td>-1.061656</td>\n",
       "      <td>0.958407</td>\n",
       "      <td>1.229729</td>\n",
       "      <td>-0.877722</td>\n",
       "      <td>-1.0</td>\n",
       "      <td>-0.583817</td>\n",
       "      <td>-1.072695</td>\n",
       "      <td>-0.470092</td>\n",
       "      <td>-0.740824</td>\n",
       "      <td>deft</td>\n",
       "    </tr>\n",
       "    <tr>\n",
       "      <th>9</th>\n",
       "      <td>-0.259035</td>\n",
       "      <td>-1.035323</td>\n",
       "      <td>1.0</td>\n",
       "      <td>-1.227001</td>\n",
       "      <td>-0.616403</td>\n",
       "      <td>0.097104</td>\n",
       "      <td>-0.512948</td>\n",
       "      <td>-0.253036</td>\n",
       "      <td>-0.267639</td>\n",
       "      <td>-0.303310</td>\n",
       "      <td>...</td>\n",
       "      <td>1.061656</td>\n",
       "      <td>0.958407</td>\n",
       "      <td>1.229729</td>\n",
       "      <td>-0.877722</td>\n",
       "      <td>1.0</td>\n",
       "      <td>0.327059</td>\n",
       "      <td>-1.072695</td>\n",
       "      <td>1.550852</td>\n",
       "      <td>-0.740824</td>\n",
       "      <td>pray</td>\n",
       "    </tr>\n",
       "    <tr>\n",
       "      <th>10</th>\n",
       "      <td>-0.259035</td>\n",
       "      <td>-1.035323</td>\n",
       "      <td>1.0</td>\n",
       "      <td>-0.492698</td>\n",
       "      <td>-0.616403</td>\n",
       "      <td>-0.209089</td>\n",
       "      <td>1.048338</td>\n",
       "      <td>-0.253036</td>\n",
       "      <td>-0.267639</td>\n",
       "      <td>-0.303310</td>\n",
       "      <td>...</td>\n",
       "      <td>-0.391136</td>\n",
       "      <td>0.955488</td>\n",
       "      <td>1.229729</td>\n",
       "      <td>1.192908</td>\n",
       "      <td>-1.0</td>\n",
       "      <td>-1.676869</td>\n",
       "      <td>-1.072695</td>\n",
       "      <td>0.644911</td>\n",
       "      <td>-0.740824</td>\n",
       "      <td>deul</td>\n",
       "    </tr>\n",
       "    <tr>\n",
       "      <th>11</th>\n",
       "      <td>-0.259035</td>\n",
       "      <td>-1.035323</td>\n",
       "      <td>0.0</td>\n",
       "      <td>-0.492698</td>\n",
       "      <td>-1.246949</td>\n",
       "      <td>-0.821474</td>\n",
       "      <td>-0.512948</td>\n",
       "      <td>-0.253036</td>\n",
       "      <td>-0.267639</td>\n",
       "      <td>-0.303310</td>\n",
       "      <td>...</td>\n",
       "      <td>0.391136</td>\n",
       "      <td>0.955488</td>\n",
       "      <td>1.229729</td>\n",
       "      <td>1.192908</td>\n",
       "      <td>1.0</td>\n",
       "      <td>0.736953</td>\n",
       "      <td>-1.072695</td>\n",
       "      <td>-0.864989</td>\n",
       "      <td>-0.740824</td>\n",
       "      <td>kramer</td>\n",
       "    </tr>\n",
       "    <tr>\n",
       "      <th>12</th>\n",
       "      <td>-0.259035</td>\n",
       "      <td>-1.035323</td>\n",
       "      <td>1.0</td>\n",
       "      <td>0.608755</td>\n",
       "      <td>0.014144</td>\n",
       "      <td>-0.515282</td>\n",
       "      <td>1.048338</td>\n",
       "      <td>-0.253036</td>\n",
       "      <td>-0.267639</td>\n",
       "      <td>-0.303310</td>\n",
       "      <td>...</td>\n",
       "      <td>-1.117532</td>\n",
       "      <td>0.955488</td>\n",
       "      <td>1.229729</td>\n",
       "      <td>-0.877722</td>\n",
       "      <td>-1.0</td>\n",
       "      <td>-0.082835</td>\n",
       "      <td>-1.072695</td>\n",
       "      <td>-0.864989</td>\n",
       "      <td>-0.740824</td>\n",
       "      <td>kramer</td>\n",
       "    </tr>\n",
       "    <tr>\n",
       "      <th>13</th>\n",
       "      <td>-0.259035</td>\n",
       "      <td>-1.035323</td>\n",
       "      <td>0.0</td>\n",
       "      <td>-0.125547</td>\n",
       "      <td>0.644691</td>\n",
       "      <td>-0.515282</td>\n",
       "      <td>1.048338</td>\n",
       "      <td>-0.253036</td>\n",
       "      <td>-0.267639</td>\n",
       "      <td>-0.303310</td>\n",
       "      <td>...</td>\n",
       "      <td>1.117532</td>\n",
       "      <td>0.955488</td>\n",
       "      <td>1.229729</td>\n",
       "      <td>-0.877722</td>\n",
       "      <td>1.0</td>\n",
       "      <td>0.281515</td>\n",
       "      <td>-1.072695</td>\n",
       "      <td>0.644911</td>\n",
       "      <td>-0.740824</td>\n",
       "      <td>deul</td>\n",
       "    </tr>\n",
       "    <tr>\n",
       "      <th>14</th>\n",
       "      <td>-0.259035</td>\n",
       "      <td>-1.035323</td>\n",
       "      <td>0.0</td>\n",
       "      <td>-0.859850</td>\n",
       "      <td>1.275237</td>\n",
       "      <td>-1.433860</td>\n",
       "      <td>-0.512948</td>\n",
       "      <td>-0.253036</td>\n",
       "      <td>-0.267639</td>\n",
       "      <td>-0.303310</td>\n",
       "      <td>...</td>\n",
       "      <td>0.670519</td>\n",
       "      <td>0.955488</td>\n",
       "      <td>1.229729</td>\n",
       "      <td>-0.877722</td>\n",
       "      <td>-1.0</td>\n",
       "      <td>0.327059</td>\n",
       "      <td>-1.072695</td>\n",
       "      <td>1.225642</td>\n",
       "      <td>-0.740824</td>\n",
       "      <td>bang</td>\n",
       "    </tr>\n",
       "    <tr>\n",
       "      <th>15</th>\n",
       "      <td>-0.259035</td>\n",
       "      <td>-1.035323</td>\n",
       "      <td>1.0</td>\n",
       "      <td>-0.859850</td>\n",
       "      <td>0.014144</td>\n",
       "      <td>1.934260</td>\n",
       "      <td>-0.512948</td>\n",
       "      <td>-0.253036</td>\n",
       "      <td>-0.267639</td>\n",
       "      <td>-0.303310</td>\n",
       "      <td>...</td>\n",
       "      <td>-0.670519</td>\n",
       "      <td>0.955488</td>\n",
       "      <td>1.229729</td>\n",
       "      <td>-0.877722</td>\n",
       "      <td>1.0</td>\n",
       "      <td>0.281515</td>\n",
       "      <td>-1.072695</td>\n",
       "      <td>0.830745</td>\n",
       "      <td>-0.740824</td>\n",
       "      <td>ruler</td>\n",
       "    </tr>\n",
       "    <tr>\n",
       "      <th>16</th>\n",
       "      <td>-0.259035</td>\n",
       "      <td>-1.035323</td>\n",
       "      <td>1.0</td>\n",
       "      <td>-0.125547</td>\n",
       "      <td>-0.616403</td>\n",
       "      <td>1.015682</td>\n",
       "      <td>-0.512948</td>\n",
       "      <td>-0.253036</td>\n",
       "      <td>-0.267639</td>\n",
       "      <td>-0.303310</td>\n",
       "      <td>...</td>\n",
       "      <td>-0.670519</td>\n",
       "      <td>0.952567</td>\n",
       "      <td>-1.653366</td>\n",
       "      <td>1.192908</td>\n",
       "      <td>-1.0</td>\n",
       "      <td>-1.676869</td>\n",
       "      <td>-1.072695</td>\n",
       "      <td>0.853975</td>\n",
       "      <td>-0.227233</td>\n",
       "      <td>nuclear</td>\n",
       "    </tr>\n",
       "    <tr>\n",
       "      <th>17</th>\n",
       "      <td>-0.259035</td>\n",
       "      <td>-1.035323</td>\n",
       "      <td>0.0</td>\n",
       "      <td>-0.492698</td>\n",
       "      <td>0.644691</td>\n",
       "      <td>-0.821474</td>\n",
       "      <td>-0.512948</td>\n",
       "      <td>-0.253036</td>\n",
       "      <td>-0.267639</td>\n",
       "      <td>-0.303310</td>\n",
       "      <td>...</td>\n",
       "      <td>0.670519</td>\n",
       "      <td>0.952567</td>\n",
       "      <td>-1.653366</td>\n",
       "      <td>1.192908</td>\n",
       "      <td>1.0</td>\n",
       "      <td>0.281515</td>\n",
       "      <td>-1.072695</td>\n",
       "      <td>-0.098424</td>\n",
       "      <td>-0.227233</td>\n",
       "      <td>kobbe</td>\n",
       "    </tr>\n",
       "    <tr>\n",
       "      <th>18</th>\n",
       "      <td>-0.259035</td>\n",
       "      <td>-1.035323</td>\n",
       "      <td>0.0</td>\n",
       "      <td>-0.859850</td>\n",
       "      <td>1.905784</td>\n",
       "      <td>-0.821474</td>\n",
       "      <td>-0.512948</td>\n",
       "      <td>-0.253036</td>\n",
       "      <td>-0.267639</td>\n",
       "      <td>-0.303310</td>\n",
       "      <td>...</td>\n",
       "      <td>-2.067435</td>\n",
       "      <td>0.952567</td>\n",
       "      <td>-1.653366</td>\n",
       "      <td>-0.877722</td>\n",
       "      <td>-1.0</td>\n",
       "      <td>1.146847</td>\n",
       "      <td>-1.072695</td>\n",
       "      <td>-0.098424</td>\n",
       "      <td>-0.227233</td>\n",
       "      <td>kobbe</td>\n",
       "    </tr>\n",
       "    <tr>\n",
       "      <th>19</th>\n",
       "      <td>-0.259035</td>\n",
       "      <td>-1.035323</td>\n",
       "      <td>1.0</td>\n",
       "      <td>0.608755</td>\n",
       "      <td>-0.616403</td>\n",
       "      <td>1.015682</td>\n",
       "      <td>1.048338</td>\n",
       "      <td>3.471437</td>\n",
       "      <td>-0.267639</td>\n",
       "      <td>-0.303310</td>\n",
       "      <td>...</td>\n",
       "      <td>2.067435</td>\n",
       "      <td>0.952567</td>\n",
       "      <td>-1.653366</td>\n",
       "      <td>-0.877722</td>\n",
       "      <td>1.0</td>\n",
       "      <td>0.281515</td>\n",
       "      <td>-1.072695</td>\n",
       "      <td>0.853975</td>\n",
       "      <td>-0.227233</td>\n",
       "      <td>nuclear</td>\n",
       "    </tr>\n",
       "    <tr>\n",
       "      <th>20</th>\n",
       "      <td>-0.259035</td>\n",
       "      <td>-1.035323</td>\n",
       "      <td>1.0</td>\n",
       "      <td>0.608755</td>\n",
       "      <td>-1.246949</td>\n",
       "      <td>-0.821474</td>\n",
       "      <td>2.609624</td>\n",
       "      <td>-0.253036</td>\n",
       "      <td>3.736370</td>\n",
       "      <td>-0.303310</td>\n",
       "      <td>...</td>\n",
       "      <td>0.167630</td>\n",
       "      <td>0.952567</td>\n",
       "      <td>1.229729</td>\n",
       "      <td>-0.877722</td>\n",
       "      <td>-1.0</td>\n",
       "      <td>0.463690</td>\n",
       "      <td>-1.072695</td>\n",
       "      <td>0.040951</td>\n",
       "      <td>-0.740824</td>\n",
       "      <td>ghost</td>\n",
       "    </tr>\n",
       "    <tr>\n",
       "      <th>21</th>\n",
       "      <td>-0.259035</td>\n",
       "      <td>-1.035323</td>\n",
       "      <td>0.0</td>\n",
       "      <td>-1.227001</td>\n",
       "      <td>0.014144</td>\n",
       "      <td>-1.433860</td>\n",
       "      <td>-0.512948</td>\n",
       "      <td>-0.253036</td>\n",
       "      <td>-0.267639</td>\n",
       "      <td>-0.303310</td>\n",
       "      <td>...</td>\n",
       "      <td>-0.167630</td>\n",
       "      <td>0.952567</td>\n",
       "      <td>1.229729</td>\n",
       "      <td>-0.877722</td>\n",
       "      <td>1.0</td>\n",
       "      <td>-1.676869</td>\n",
       "      <td>-1.072695</td>\n",
       "      <td>1.550852</td>\n",
       "      <td>-0.740824</td>\n",
       "      <td>pray</td>\n",
       "    </tr>\n",
       "    <tr>\n",
       "      <th>22</th>\n",
       "      <td>-0.259035</td>\n",
       "      <td>-1.035323</td>\n",
       "      <td>1.0</td>\n",
       "      <td>-0.125547</td>\n",
       "      <td>-0.616403</td>\n",
       "      <td>-0.209089</td>\n",
       "      <td>1.048338</td>\n",
       "      <td>-0.253036</td>\n",
       "      <td>-0.267639</td>\n",
       "      <td>-0.303310</td>\n",
       "      <td>...</td>\n",
       "      <td>0.000000</td>\n",
       "      <td>0.952567</td>\n",
       "      <td>1.229729</td>\n",
       "      <td>-0.748308</td>\n",
       "      <td>-1.0</td>\n",
       "      <td>1.146847</td>\n",
       "      <td>-1.072695</td>\n",
       "      <td>1.550852</td>\n",
       "      <td>-0.740824</td>\n",
       "      <td>pray</td>\n",
       "    </tr>\n",
       "    <tr>\n",
       "      <th>23</th>\n",
       "      <td>-0.259035</td>\n",
       "      <td>-1.035323</td>\n",
       "      <td>0.0</td>\n",
       "      <td>-0.859850</td>\n",
       "      <td>-0.616403</td>\n",
       "      <td>-0.821474</td>\n",
       "      <td>-0.512948</td>\n",
       "      <td>-0.253036</td>\n",
       "      <td>-0.267639</td>\n",
       "      <td>-0.303310</td>\n",
       "      <td>...</td>\n",
       "      <td>0.000000</td>\n",
       "      <td>0.952567</td>\n",
       "      <td>1.229729</td>\n",
       "      <td>-0.748308</td>\n",
       "      <td>1.0</td>\n",
       "      <td>-1.676869</td>\n",
       "      <td>-1.072695</td>\n",
       "      <td>0.040951</td>\n",
       "      <td>-0.740824</td>\n",
       "      <td>ghost</td>\n",
       "    </tr>\n",
       "    <tr>\n",
       "      <th>24</th>\n",
       "      <td>-0.259035</td>\n",
       "      <td>-1.035323</td>\n",
       "      <td>0.0</td>\n",
       "      <td>0.975907</td>\n",
       "      <td>-0.616403</td>\n",
       "      <td>-0.515282</td>\n",
       "      <td>1.048338</td>\n",
       "      <td>3.471437</td>\n",
       "      <td>-0.267639</td>\n",
       "      <td>-0.303310</td>\n",
       "      <td>...</td>\n",
       "      <td>0.279383</td>\n",
       "      <td>0.952567</td>\n",
       "      <td>1.229729</td>\n",
       "      <td>1.192908</td>\n",
       "      <td>-1.0</td>\n",
       "      <td>1.146847</td>\n",
       "      <td>-1.072695</td>\n",
       "      <td>-1.445720</td>\n",
       "      <td>-0.740824</td>\n",
       "      <td>sangyoon</td>\n",
       "    </tr>\n",
       "    <tr>\n",
       "      <th>25</th>\n",
       "      <td>-0.259035</td>\n",
       "      <td>-1.035323</td>\n",
       "      <td>1.0</td>\n",
       "      <td>-0.125547</td>\n",
       "      <td>0.014144</td>\n",
       "      <td>0.403296</td>\n",
       "      <td>1.048338</td>\n",
       "      <td>-0.253036</td>\n",
       "      <td>-0.267639</td>\n",
       "      <td>-0.303310</td>\n",
       "      <td>...</td>\n",
       "      <td>-0.279383</td>\n",
       "      <td>0.952567</td>\n",
       "      <td>1.229729</td>\n",
       "      <td>1.192908</td>\n",
       "      <td>1.0</td>\n",
       "      <td>-1.676869</td>\n",
       "      <td>-1.072695</td>\n",
       "      <td>0.714599</td>\n",
       "      <td>-0.740824</td>\n",
       "      <td>teddy</td>\n",
       "    </tr>\n",
       "    <tr>\n",
       "      <th>26</th>\n",
       "      <td>-0.259035</td>\n",
       "      <td>-1.035323</td>\n",
       "      <td>1.0</td>\n",
       "      <td>0.608755</td>\n",
       "      <td>-1.246949</td>\n",
       "      <td>-0.209089</td>\n",
       "      <td>1.048338</td>\n",
       "      <td>-0.253036</td>\n",
       "      <td>-0.267639</td>\n",
       "      <td>-0.303310</td>\n",
       "      <td>...</td>\n",
       "      <td>0.167630</td>\n",
       "      <td>0.952567</td>\n",
       "      <td>1.229729</td>\n",
       "      <td>-0.877722</td>\n",
       "      <td>-1.0</td>\n",
       "      <td>-0.583817</td>\n",
       "      <td>-1.072695</td>\n",
       "      <td>0.714599</td>\n",
       "      <td>-0.740824</td>\n",
       "      <td>teddy</td>\n",
       "    </tr>\n",
       "    <tr>\n",
       "      <th>27</th>\n",
       "      <td>-0.259035</td>\n",
       "      <td>-1.035323</td>\n",
       "      <td>0.0</td>\n",
       "      <td>-1.227001</td>\n",
       "      <td>-1.246949</td>\n",
       "      <td>-1.127667</td>\n",
       "      <td>-0.512948</td>\n",
       "      <td>-0.253036</td>\n",
       "      <td>-0.267639</td>\n",
       "      <td>-0.303310</td>\n",
       "      <td>...</td>\n",
       "      <td>-0.167630</td>\n",
       "      <td>0.952567</td>\n",
       "      <td>1.229729</td>\n",
       "      <td>-0.877722</td>\n",
       "      <td>1.0</td>\n",
       "      <td>0.327059</td>\n",
       "      <td>-1.072695</td>\n",
       "      <td>-1.445720</td>\n",
       "      <td>-0.740824</td>\n",
       "      <td>sangyoon</td>\n",
       "    </tr>\n",
       "    <tr>\n",
       "      <th>28</th>\n",
       "      <td>-0.259035</td>\n",
       "      <td>-1.035323</td>\n",
       "      <td>1.0</td>\n",
       "      <td>0.241604</td>\n",
       "      <td>-1.246949</td>\n",
       "      <td>0.709489</td>\n",
       "      <td>1.048338</td>\n",
       "      <td>-0.253036</td>\n",
       "      <td>-0.267639</td>\n",
       "      <td>-0.303310</td>\n",
       "      <td>...</td>\n",
       "      <td>1.285162</td>\n",
       "      <td>0.952567</td>\n",
       "      <td>-1.653366</td>\n",
       "      <td>1.192908</td>\n",
       "      <td>-1.0</td>\n",
       "      <td>-1.540237</td>\n",
       "      <td>-1.072695</td>\n",
       "      <td>-0.144883</td>\n",
       "      <td>-0.227233</td>\n",
       "      <td>rekkles</td>\n",
       "    </tr>\n",
       "    <tr>\n",
       "      <th>29</th>\n",
       "      <td>-0.259035</td>\n",
       "      <td>-1.035323</td>\n",
       "      <td>0.0</td>\n",
       "      <td>-0.859850</td>\n",
       "      <td>1.275237</td>\n",
       "      <td>-0.515282</td>\n",
       "      <td>-0.512948</td>\n",
       "      <td>-0.253036</td>\n",
       "      <td>-0.267639</td>\n",
       "      <td>-0.303310</td>\n",
       "      <td>...</td>\n",
       "      <td>-1.285162</td>\n",
       "      <td>0.952567</td>\n",
       "      <td>-1.653366</td>\n",
       "      <td>1.192908</td>\n",
       "      <td>1.0</td>\n",
       "      <td>0.281515</td>\n",
       "      <td>-1.072695</td>\n",
       "      <td>-1.050823</td>\n",
       "      <td>-0.227233</td>\n",
       "      <td>hans sama</td>\n",
       "    </tr>\n",
       "    <tr>\n",
       "      <th>...</th>\n",
       "      <td>...</td>\n",
       "      <td>...</td>\n",
       "      <td>...</td>\n",
       "      <td>...</td>\n",
       "      <td>...</td>\n",
       "      <td>...</td>\n",
       "      <td>...</td>\n",
       "      <td>...</td>\n",
       "      <td>...</td>\n",
       "      <td>...</td>\n",
       "      <td>...</td>\n",
       "      <td>...</td>\n",
       "      <td>...</td>\n",
       "      <td>...</td>\n",
       "      <td>...</td>\n",
       "      <td>...</td>\n",
       "      <td>...</td>\n",
       "      <td>...</td>\n",
       "      <td>...</td>\n",
       "      <td>...</td>\n",
       "      <td>...</td>\n",
       "    </tr>\n",
       "    <tr>\n",
       "      <th>15484</th>\n",
       "      <td>1.140389</td>\n",
       "      <td>1.710932</td>\n",
       "      <td>1.0</td>\n",
       "      <td>2.811663</td>\n",
       "      <td>-1.246949</td>\n",
       "      <td>0.709489</td>\n",
       "      <td>-0.512948</td>\n",
       "      <td>-0.253036</td>\n",
       "      <td>-0.267639</td>\n",
       "      <td>-0.303310</td>\n",
       "      <td>...</td>\n",
       "      <td>0.000000</td>\n",
       "      <td>0.115573</td>\n",
       "      <td>0.460904</td>\n",
       "      <td>1.192908</td>\n",
       "      <td>-1.0</td>\n",
       "      <td>1.420110</td>\n",
       "      <td>1.463557</td>\n",
       "      <td>-0.423633</td>\n",
       "      <td>0.799949</td>\n",
       "      <td>asura</td>\n",
       "    </tr>\n",
       "    <tr>\n",
       "      <th>15485</th>\n",
       "      <td>1.140389</td>\n",
       "      <td>1.710932</td>\n",
       "      <td>0.0</td>\n",
       "      <td>-0.859850</td>\n",
       "      <td>2.536330</td>\n",
       "      <td>-0.515282</td>\n",
       "      <td>-0.512948</td>\n",
       "      <td>-0.253036</td>\n",
       "      <td>-0.267639</td>\n",
       "      <td>-0.303310</td>\n",
       "      <td>...</td>\n",
       "      <td>0.000000</td>\n",
       "      <td>0.115573</td>\n",
       "      <td>0.460904</td>\n",
       "      <td>1.192908</td>\n",
       "      <td>1.0</td>\n",
       "      <td>-0.857080</td>\n",
       "      <td>1.463557</td>\n",
       "      <td>-0.888218</td>\n",
       "      <td>0.799949</td>\n",
       "      <td>smlz</td>\n",
       "    </tr>\n",
       "    <tr>\n",
       "      <th>15486</th>\n",
       "      <td>1.140389</td>\n",
       "      <td>1.710932</td>\n",
       "      <td>0.0</td>\n",
       "      <td>-0.125547</td>\n",
       "      <td>0.644691</td>\n",
       "      <td>0.097104</td>\n",
       "      <td>-0.512948</td>\n",
       "      <td>-0.253036</td>\n",
       "      <td>-0.267639</td>\n",
       "      <td>-0.303310</td>\n",
       "      <td>...</td>\n",
       "      <td>0.000000</td>\n",
       "      <td>0.115573</td>\n",
       "      <td>0.460904</td>\n",
       "      <td>-0.877722</td>\n",
       "      <td>-1.0</td>\n",
       "      <td>-0.583817</td>\n",
       "      <td>1.463557</td>\n",
       "      <td>-0.888218</td>\n",
       "      <td>0.799949</td>\n",
       "      <td>smlz</td>\n",
       "    </tr>\n",
       "    <tr>\n",
       "      <th>15487</th>\n",
       "      <td>1.140389</td>\n",
       "      <td>1.710932</td>\n",
       "      <td>1.0</td>\n",
       "      <td>2.811663</td>\n",
       "      <td>-0.616403</td>\n",
       "      <td>0.403296</td>\n",
       "      <td>-0.512948</td>\n",
       "      <td>-0.253036</td>\n",
       "      <td>-0.267639</td>\n",
       "      <td>-0.303310</td>\n",
       "      <td>...</td>\n",
       "      <td>0.000000</td>\n",
       "      <td>0.115573</td>\n",
       "      <td>0.460904</td>\n",
       "      <td>-0.877722</td>\n",
       "      <td>1.0</td>\n",
       "      <td>1.420110</td>\n",
       "      <td>1.463557</td>\n",
       "      <td>-0.423633</td>\n",
       "      <td>0.799949</td>\n",
       "      <td>asura</td>\n",
       "    </tr>\n",
       "    <tr>\n",
       "      <th>15488</th>\n",
       "      <td>1.140389</td>\n",
       "      <td>1.710932</td>\n",
       "      <td>1.0</td>\n",
       "      <td>0.975907</td>\n",
       "      <td>0.644691</td>\n",
       "      <td>0.709489</td>\n",
       "      <td>-0.512948</td>\n",
       "      <td>-0.253036</td>\n",
       "      <td>-0.267639</td>\n",
       "      <td>-0.303310</td>\n",
       "      <td>...</td>\n",
       "      <td>0.000000</td>\n",
       "      <td>0.115573</td>\n",
       "      <td>0.460904</td>\n",
       "      <td>1.192908</td>\n",
       "      <td>-1.0</td>\n",
       "      <td>-0.583817</td>\n",
       "      <td>1.463557</td>\n",
       "      <td>0.528765</td>\n",
       "      <td>0.799949</td>\n",
       "      <td>jinjiao</td>\n",
       "    </tr>\n",
       "    <tr>\n",
       "      <th>15489</th>\n",
       "      <td>1.140389</td>\n",
       "      <td>1.710932</td>\n",
       "      <td>0.0</td>\n",
       "      <td>0.241604</td>\n",
       "      <td>0.644691</td>\n",
       "      <td>-0.209089</td>\n",
       "      <td>-0.512948</td>\n",
       "      <td>-0.253036</td>\n",
       "      <td>-0.267639</td>\n",
       "      <td>-0.303310</td>\n",
       "      <td>...</td>\n",
       "      <td>0.000000</td>\n",
       "      <td>0.115573</td>\n",
       "      <td>0.460904</td>\n",
       "      <td>1.192908</td>\n",
       "      <td>1.0</td>\n",
       "      <td>1.420110</td>\n",
       "      <td>1.463557</td>\n",
       "      <td>0.807516</td>\n",
       "      <td>0.799949</td>\n",
       "      <td>uzi</td>\n",
       "    </tr>\n",
       "    <tr>\n",
       "      <th>15490</th>\n",
       "      <td>1.140389</td>\n",
       "      <td>1.710932</td>\n",
       "      <td>1.0</td>\n",
       "      <td>-0.125547</td>\n",
       "      <td>-1.246949</td>\n",
       "      <td>-0.209089</td>\n",
       "      <td>-0.512948</td>\n",
       "      <td>-0.253036</td>\n",
       "      <td>-0.267639</td>\n",
       "      <td>-0.303310</td>\n",
       "      <td>...</td>\n",
       "      <td>0.000000</td>\n",
       "      <td>0.115573</td>\n",
       "      <td>0.460904</td>\n",
       "      <td>-0.877722</td>\n",
       "      <td>-1.0</td>\n",
       "      <td>-0.583817</td>\n",
       "      <td>1.463557</td>\n",
       "      <td>0.528765</td>\n",
       "      <td>0.799949</td>\n",
       "      <td>jinjiao</td>\n",
       "    </tr>\n",
       "    <tr>\n",
       "      <th>15491</th>\n",
       "      <td>1.140389</td>\n",
       "      <td>1.710932</td>\n",
       "      <td>0.0</td>\n",
       "      <td>-0.492698</td>\n",
       "      <td>0.014144</td>\n",
       "      <td>-1.127667</td>\n",
       "      <td>-0.512948</td>\n",
       "      <td>-0.253036</td>\n",
       "      <td>-0.267639</td>\n",
       "      <td>-0.303310</td>\n",
       "      <td>...</td>\n",
       "      <td>0.000000</td>\n",
       "      <td>0.115573</td>\n",
       "      <td>0.460904</td>\n",
       "      <td>-0.877722</td>\n",
       "      <td>1.0</td>\n",
       "      <td>-1.540237</td>\n",
       "      <td>1.463557</td>\n",
       "      <td>0.807516</td>\n",
       "      <td>0.799949</td>\n",
       "      <td>uzi</td>\n",
       "    </tr>\n",
       "    <tr>\n",
       "      <th>15492</th>\n",
       "      <td>1.140389</td>\n",
       "      <td>1.710932</td>\n",
       "      <td>0.0</td>\n",
       "      <td>-0.125547</td>\n",
       "      <td>2.536330</td>\n",
       "      <td>0.709489</td>\n",
       "      <td>-0.512948</td>\n",
       "      <td>-0.253036</td>\n",
       "      <td>-0.267639</td>\n",
       "      <td>-0.303310</td>\n",
       "      <td>...</td>\n",
       "      <td>0.000000</td>\n",
       "      <td>0.115573</td>\n",
       "      <td>0.460904</td>\n",
       "      <td>1.192908</td>\n",
       "      <td>-1.0</td>\n",
       "      <td>1.511198</td>\n",
       "      <td>1.463557</td>\n",
       "      <td>-0.284258</td>\n",
       "      <td>0.799949</td>\n",
       "      <td>zwuji</td>\n",
       "    </tr>\n",
       "    <tr>\n",
       "      <th>15493</th>\n",
       "      <td>1.140389</td>\n",
       "      <td>1.710932</td>\n",
       "      <td>1.0</td>\n",
       "      <td>0.608755</td>\n",
       "      <td>0.014144</td>\n",
       "      <td>3.159030</td>\n",
       "      <td>-0.512948</td>\n",
       "      <td>-0.253036</td>\n",
       "      <td>-0.267639</td>\n",
       "      <td>-0.303310</td>\n",
       "      <td>...</td>\n",
       "      <td>0.000000</td>\n",
       "      <td>0.115573</td>\n",
       "      <td>0.460904</td>\n",
       "      <td>1.192908</td>\n",
       "      <td>1.0</td>\n",
       "      <td>-1.175887</td>\n",
       "      <td>1.463557</td>\n",
       "      <td>-1.097281</td>\n",
       "      <td>0.799949</td>\n",
       "      <td>jackeylove</td>\n",
       "    </tr>\n",
       "    <tr>\n",
       "      <th>15494</th>\n",
       "      <td>1.140389</td>\n",
       "      <td>1.710932</td>\n",
       "      <td>0.0</td>\n",
       "      <td>0.975907</td>\n",
       "      <td>1.905784</td>\n",
       "      <td>0.403296</td>\n",
       "      <td>-0.512948</td>\n",
       "      <td>-0.253036</td>\n",
       "      <td>-0.267639</td>\n",
       "      <td>-0.303310</td>\n",
       "      <td>...</td>\n",
       "      <td>0.000000</td>\n",
       "      <td>0.115573</td>\n",
       "      <td>0.460904</td>\n",
       "      <td>-0.877722</td>\n",
       "      <td>-1.0</td>\n",
       "      <td>-0.583817</td>\n",
       "      <td>1.463557</td>\n",
       "      <td>-0.284258</td>\n",
       "      <td>0.799949</td>\n",
       "      <td>zwuji</td>\n",
       "    </tr>\n",
       "    <tr>\n",
       "      <th>15495</th>\n",
       "      <td>1.140389</td>\n",
       "      <td>1.710932</td>\n",
       "      <td>1.0</td>\n",
       "      <td>2.811663</td>\n",
       "      <td>0.014144</td>\n",
       "      <td>3.771416</td>\n",
       "      <td>-0.512948</td>\n",
       "      <td>-0.253036</td>\n",
       "      <td>-0.267639</td>\n",
       "      <td>-0.303310</td>\n",
       "      <td>...</td>\n",
       "      <td>0.000000</td>\n",
       "      <td>0.115573</td>\n",
       "      <td>0.460904</td>\n",
       "      <td>-0.877722</td>\n",
       "      <td>1.0</td>\n",
       "      <td>1.420110</td>\n",
       "      <td>1.463557</td>\n",
       "      <td>-1.097281</td>\n",
       "      <td>0.799949</td>\n",
       "      <td>jackeylove</td>\n",
       "    </tr>\n",
       "    <tr>\n",
       "      <th>15496</th>\n",
       "      <td>1.140389</td>\n",
       "      <td>1.710932</td>\n",
       "      <td>0.0</td>\n",
       "      <td>-1.227001</td>\n",
       "      <td>0.644691</td>\n",
       "      <td>-0.515282</td>\n",
       "      <td>-0.512948</td>\n",
       "      <td>-0.253036</td>\n",
       "      <td>-0.267639</td>\n",
       "      <td>-0.303310</td>\n",
       "      <td>...</td>\n",
       "      <td>0.000000</td>\n",
       "      <td>0.115573</td>\n",
       "      <td>0.460904</td>\n",
       "      <td>1.192908</td>\n",
       "      <td>-1.0</td>\n",
       "      <td>0.281515</td>\n",
       "      <td>1.463557</td>\n",
       "      <td>-0.284258</td>\n",
       "      <td>0.799949</td>\n",
       "      <td>zwuji</td>\n",
       "    </tr>\n",
       "    <tr>\n",
       "      <th>15497</th>\n",
       "      <td>1.140389</td>\n",
       "      <td>1.710932</td>\n",
       "      <td>1.0</td>\n",
       "      <td>0.608755</td>\n",
       "      <td>0.014144</td>\n",
       "      <td>0.403296</td>\n",
       "      <td>-0.512948</td>\n",
       "      <td>-0.253036</td>\n",
       "      <td>-0.267639</td>\n",
       "      <td>-0.303310</td>\n",
       "      <td>...</td>\n",
       "      <td>0.000000</td>\n",
       "      <td>0.115573</td>\n",
       "      <td>0.460904</td>\n",
       "      <td>1.192908</td>\n",
       "      <td>1.0</td>\n",
       "      <td>-0.538274</td>\n",
       "      <td>1.463557</td>\n",
       "      <td>-0.539779</td>\n",
       "      <td>0.799949</td>\n",
       "      <td>puff</td>\n",
       "    </tr>\n",
       "    <tr>\n",
       "      <th>15498</th>\n",
       "      <td>1.140389</td>\n",
       "      <td>1.710932</td>\n",
       "      <td>0.0</td>\n",
       "      <td>-0.125547</td>\n",
       "      <td>0.644691</td>\n",
       "      <td>-0.821474</td>\n",
       "      <td>-0.512948</td>\n",
       "      <td>-0.253036</td>\n",
       "      <td>-0.267639</td>\n",
       "      <td>-0.303310</td>\n",
       "      <td>...</td>\n",
       "      <td>0.000000</td>\n",
       "      <td>0.115573</td>\n",
       "      <td>0.460904</td>\n",
       "      <td>-0.877722</td>\n",
       "      <td>-1.0</td>\n",
       "      <td>0.281515</td>\n",
       "      <td>1.463557</td>\n",
       "      <td>-0.539779</td>\n",
       "      <td>0.799949</td>\n",
       "      <td>puff</td>\n",
       "    </tr>\n",
       "    <tr>\n",
       "      <th>15499</th>\n",
       "      <td>1.140389</td>\n",
       "      <td>1.710932</td>\n",
       "      <td>1.0</td>\n",
       "      <td>0.608755</td>\n",
       "      <td>-1.246949</td>\n",
       "      <td>1.321874</td>\n",
       "      <td>-0.512948</td>\n",
       "      <td>-0.253036</td>\n",
       "      <td>-0.267639</td>\n",
       "      <td>-0.303310</td>\n",
       "      <td>...</td>\n",
       "      <td>0.000000</td>\n",
       "      <td>0.115573</td>\n",
       "      <td>0.460904</td>\n",
       "      <td>-0.877722</td>\n",
       "      <td>1.0</td>\n",
       "      <td>-0.902624</td>\n",
       "      <td>1.463557</td>\n",
       "      <td>-0.284258</td>\n",
       "      <td>0.799949</td>\n",
       "      <td>zwuji</td>\n",
       "    </tr>\n",
       "    <tr>\n",
       "      <th>15500</th>\n",
       "      <td>1.140389</td>\n",
       "      <td>1.710932</td>\n",
       "      <td>0.0</td>\n",
       "      <td>0.975907</td>\n",
       "      <td>0.644691</td>\n",
       "      <td>-0.209089</td>\n",
       "      <td>-0.512948</td>\n",
       "      <td>-0.253036</td>\n",
       "      <td>-0.267639</td>\n",
       "      <td>-0.303310</td>\n",
       "      <td>...</td>\n",
       "      <td>0.000000</td>\n",
       "      <td>0.115573</td>\n",
       "      <td>0.460904</td>\n",
       "      <td>-0.748308</td>\n",
       "      <td>-1.0</td>\n",
       "      <td>-0.583817</td>\n",
       "      <td>1.463557</td>\n",
       "      <td>-0.539779</td>\n",
       "      <td>0.799949</td>\n",
       "      <td>puff</td>\n",
       "    </tr>\n",
       "    <tr>\n",
       "      <th>15501</th>\n",
       "      <td>1.140389</td>\n",
       "      <td>1.710932</td>\n",
       "      <td>1.0</td>\n",
       "      <td>0.241604</td>\n",
       "      <td>-0.616403</td>\n",
       "      <td>1.321874</td>\n",
       "      <td>-0.512948</td>\n",
       "      <td>-0.253036</td>\n",
       "      <td>-0.267639</td>\n",
       "      <td>-0.303310</td>\n",
       "      <td>...</td>\n",
       "      <td>0.000000</td>\n",
       "      <td>0.115573</td>\n",
       "      <td>0.460904</td>\n",
       "      <td>-0.748308</td>\n",
       "      <td>1.0</td>\n",
       "      <td>1.420110</td>\n",
       "      <td>1.463557</td>\n",
       "      <td>-0.284258</td>\n",
       "      <td>0.799949</td>\n",
       "      <td>zwuji</td>\n",
       "    </tr>\n",
       "    <tr>\n",
       "      <th>15502</th>\n",
       "      <td>1.140389</td>\n",
       "      <td>1.710932</td>\n",
       "      <td>1.0</td>\n",
       "      <td>2.077361</td>\n",
       "      <td>0.644691</td>\n",
       "      <td>1.015682</td>\n",
       "      <td>-0.512948</td>\n",
       "      <td>-0.253036</td>\n",
       "      <td>-0.267639</td>\n",
       "      <td>-0.303310</td>\n",
       "      <td>...</td>\n",
       "      <td>0.000000</td>\n",
       "      <td>0.115573</td>\n",
       "      <td>0.460904</td>\n",
       "      <td>1.192908</td>\n",
       "      <td>-1.0</td>\n",
       "      <td>0.235971</td>\n",
       "      <td>1.463557</td>\n",
       "      <td>-1.376032</td>\n",
       "      <td>0.799949</td>\n",
       "      <td>lwx</td>\n",
       "    </tr>\n",
       "    <tr>\n",
       "      <th>15503</th>\n",
       "      <td>1.140389</td>\n",
       "      <td>1.710932</td>\n",
       "      <td>0.0</td>\n",
       "      <td>0.608755</td>\n",
       "      <td>1.905784</td>\n",
       "      <td>-0.515282</td>\n",
       "      <td>-0.512948</td>\n",
       "      <td>-0.253036</td>\n",
       "      <td>-0.267639</td>\n",
       "      <td>-0.303310</td>\n",
       "      <td>...</td>\n",
       "      <td>0.000000</td>\n",
       "      <td>0.115573</td>\n",
       "      <td>0.460904</td>\n",
       "      <td>1.192908</td>\n",
       "      <td>1.0</td>\n",
       "      <td>-0.902624</td>\n",
       "      <td>1.463557</td>\n",
       "      <td>-1.213427</td>\n",
       "      <td>0.799949</td>\n",
       "      <td>loken</td>\n",
       "    </tr>\n",
       "    <tr>\n",
       "      <th>15504</th>\n",
       "      <td>1.140389</td>\n",
       "      <td>1.710932</td>\n",
       "      <td>1.0</td>\n",
       "      <td>2.444512</td>\n",
       "      <td>-0.616403</td>\n",
       "      <td>1.321874</td>\n",
       "      <td>-0.512948</td>\n",
       "      <td>-0.253036</td>\n",
       "      <td>-0.267639</td>\n",
       "      <td>-0.303310</td>\n",
       "      <td>...</td>\n",
       "      <td>0.000000</td>\n",
       "      <td>0.115573</td>\n",
       "      <td>0.460904</td>\n",
       "      <td>-0.877722</td>\n",
       "      <td>-1.0</td>\n",
       "      <td>-0.902624</td>\n",
       "      <td>1.463557</td>\n",
       "      <td>-1.376032</td>\n",
       "      <td>0.799949</td>\n",
       "      <td>lwx</td>\n",
       "    </tr>\n",
       "    <tr>\n",
       "      <th>15505</th>\n",
       "      <td>1.140389</td>\n",
       "      <td>1.710932</td>\n",
       "      <td>0.0</td>\n",
       "      <td>-0.125547</td>\n",
       "      <td>1.275237</td>\n",
       "      <td>0.709489</td>\n",
       "      <td>-0.512948</td>\n",
       "      <td>-0.253036</td>\n",
       "      <td>-0.267639</td>\n",
       "      <td>-0.303310</td>\n",
       "      <td>...</td>\n",
       "      <td>0.000000</td>\n",
       "      <td>0.115573</td>\n",
       "      <td>0.460904</td>\n",
       "      <td>-0.877722</td>\n",
       "      <td>1.0</td>\n",
       "      <td>1.511198</td>\n",
       "      <td>1.463557</td>\n",
       "      <td>-1.213427</td>\n",
       "      <td>0.799949</td>\n",
       "      <td>loken</td>\n",
       "    </tr>\n",
       "    <tr>\n",
       "      <th>15506</th>\n",
       "      <td>1.140389</td>\n",
       "      <td>1.710932</td>\n",
       "      <td>0.0</td>\n",
       "      <td>-0.492698</td>\n",
       "      <td>0.014144</td>\n",
       "      <td>-1.433860</td>\n",
       "      <td>-0.512948</td>\n",
       "      <td>-0.253036</td>\n",
       "      <td>-0.267639</td>\n",
       "      <td>-0.303310</td>\n",
       "      <td>...</td>\n",
       "      <td>0.000000</td>\n",
       "      <td>0.115573</td>\n",
       "      <td>0.460904</td>\n",
       "      <td>1.192908</td>\n",
       "      <td>-1.0</td>\n",
       "      <td>1.420110</td>\n",
       "      <td>1.463557</td>\n",
       "      <td>1.388247</td>\n",
       "      <td>0.799949</td>\n",
       "      <td>kane</td>\n",
       "    </tr>\n",
       "    <tr>\n",
       "      <th>15507</th>\n",
       "      <td>1.140389</td>\n",
       "      <td>1.710932</td>\n",
       "      <td>1.0</td>\n",
       "      <td>-0.125547</td>\n",
       "      <td>0.014144</td>\n",
       "      <td>0.097104</td>\n",
       "      <td>-0.512948</td>\n",
       "      <td>-0.253036</td>\n",
       "      <td>-0.267639</td>\n",
       "      <td>-0.303310</td>\n",
       "      <td>...</td>\n",
       "      <td>0.000000</td>\n",
       "      <td>0.115573</td>\n",
       "      <td>0.460904</td>\n",
       "      <td>1.192908</td>\n",
       "      <td>1.0</td>\n",
       "      <td>-0.583817</td>\n",
       "      <td>1.463557</td>\n",
       "      <td>-1.213427</td>\n",
       "      <td>0.799949</td>\n",
       "      <td>loken</td>\n",
       "    </tr>\n",
       "    <tr>\n",
       "      <th>15508</th>\n",
       "      <td>1.140389</td>\n",
       "      <td>1.710932</td>\n",
       "      <td>1.0</td>\n",
       "      <td>0.241604</td>\n",
       "      <td>-1.246949</td>\n",
       "      <td>0.709489</td>\n",
       "      <td>-0.512948</td>\n",
       "      <td>-0.253036</td>\n",
       "      <td>-0.267639</td>\n",
       "      <td>-0.303310</td>\n",
       "      <td>...</td>\n",
       "      <td>0.000000</td>\n",
       "      <td>0.115573</td>\n",
       "      <td>0.460904</td>\n",
       "      <td>-0.877722</td>\n",
       "      <td>-1.0</td>\n",
       "      <td>0.281515</td>\n",
       "      <td>1.463557</td>\n",
       "      <td>-1.213427</td>\n",
       "      <td>0.799949</td>\n",
       "      <td>loken</td>\n",
       "    </tr>\n",
       "    <tr>\n",
       "      <th>15509</th>\n",
       "      <td>1.140389</td>\n",
       "      <td>1.710932</td>\n",
       "      <td>0.0</td>\n",
       "      <td>-0.859850</td>\n",
       "      <td>3.166877</td>\n",
       "      <td>-1.433860</td>\n",
       "      <td>-0.512948</td>\n",
       "      <td>-0.253036</td>\n",
       "      <td>-0.267639</td>\n",
       "      <td>-0.303310</td>\n",
       "      <td>...</td>\n",
       "      <td>0.000000</td>\n",
       "      <td>0.115573</td>\n",
       "      <td>0.460904</td>\n",
       "      <td>-0.877722</td>\n",
       "      <td>1.0</td>\n",
       "      <td>-0.902624</td>\n",
       "      <td>1.463557</td>\n",
       "      <td>1.388247</td>\n",
       "      <td>0.799949</td>\n",
       "      <td>kane</td>\n",
       "    </tr>\n",
       "    <tr>\n",
       "      <th>15510</th>\n",
       "      <td>1.140389</td>\n",
       "      <td>1.710932</td>\n",
       "      <td>0.0</td>\n",
       "      <td>-1.227001</td>\n",
       "      <td>0.014144</td>\n",
       "      <td>-1.127667</td>\n",
       "      <td>-0.512948</td>\n",
       "      <td>-0.253036</td>\n",
       "      <td>-0.267639</td>\n",
       "      <td>-0.303310</td>\n",
       "      <td>...</td>\n",
       "      <td>0.000000</td>\n",
       "      <td>0.115573</td>\n",
       "      <td>0.460904</td>\n",
       "      <td>1.192908</td>\n",
       "      <td>-1.0</td>\n",
       "      <td>0.190427</td>\n",
       "      <td>1.463557</td>\n",
       "      <td>1.411476</td>\n",
       "      <td>0.799949</td>\n",
       "      <td>y4</td>\n",
       "    </tr>\n",
       "    <tr>\n",
       "      <th>15511</th>\n",
       "      <td>1.140389</td>\n",
       "      <td>1.710932</td>\n",
       "      <td>1.0</td>\n",
       "      <td>0.608755</td>\n",
       "      <td>-1.246949</td>\n",
       "      <td>1.628067</td>\n",
       "      <td>-0.512948</td>\n",
       "      <td>-0.253036</td>\n",
       "      <td>-0.267639</td>\n",
       "      <td>-0.303310</td>\n",
       "      <td>...</td>\n",
       "      <td>0.000000</td>\n",
       "      <td>0.115573</td>\n",
       "      <td>0.460904</td>\n",
       "      <td>1.192908</td>\n",
       "      <td>1.0</td>\n",
       "      <td>1.511198</td>\n",
       "      <td>1.463557</td>\n",
       "      <td>-0.261029</td>\n",
       "      <td>0.799949</td>\n",
       "      <td>mystic</td>\n",
       "    </tr>\n",
       "    <tr>\n",
       "      <th>15512</th>\n",
       "      <td>1.140389</td>\n",
       "      <td>1.710932</td>\n",
       "      <td>0.0</td>\n",
       "      <td>0.608755</td>\n",
       "      <td>1.275237</td>\n",
       "      <td>0.097104</td>\n",
       "      <td>-0.512948</td>\n",
       "      <td>-0.253036</td>\n",
       "      <td>-0.267639</td>\n",
       "      <td>-0.303310</td>\n",
       "      <td>...</td>\n",
       "      <td>0.000000</td>\n",
       "      <td>0.115573</td>\n",
       "      <td>0.460904</td>\n",
       "      <td>-0.877722</td>\n",
       "      <td>-1.0</td>\n",
       "      <td>-0.583817</td>\n",
       "      <td>1.463557</td>\n",
       "      <td>1.411476</td>\n",
       "      <td>0.799949</td>\n",
       "      <td>y4</td>\n",
       "    </tr>\n",
       "    <tr>\n",
       "      <th>15513</th>\n",
       "      <td>1.140389</td>\n",
       "      <td>1.710932</td>\n",
       "      <td>1.0</td>\n",
       "      <td>2.444512</td>\n",
       "      <td>1.275237</td>\n",
       "      <td>1.934260</td>\n",
       "      <td>-0.512948</td>\n",
       "      <td>-0.253036</td>\n",
       "      <td>-0.267639</td>\n",
       "      <td>-0.303310</td>\n",
       "      <td>...</td>\n",
       "      <td>0.000000</td>\n",
       "      <td>0.115573</td>\n",
       "      <td>0.460904</td>\n",
       "      <td>-0.877722</td>\n",
       "      <td>1.0</td>\n",
       "      <td>1.511198</td>\n",
       "      <td>1.463557</td>\n",
       "      <td>-0.261029</td>\n",
       "      <td>0.799949</td>\n",
       "      <td>mystic</td>\n",
       "    </tr>\n",
       "  </tbody>\n",
       "</table>\n",
       "<p>15514 rows × 59 columns</p>\n",
       "</div>"
      ],
      "text/plain": [
       "          split   patchno  result         k         d         a   doubles  \\\n",
       "0     -0.259035 -1.035323     0.0  0.241604 -1.246949  0.097104 -0.512948   \n",
       "1     -0.259035 -1.035323     1.0 -0.125547 -0.616403  0.403296 -0.512948   \n",
       "2     -0.259035 -1.035323     0.0 -1.227001  0.014144 -1.127667 -0.512948   \n",
       "3     -0.259035 -1.035323     1.0  0.975907 -1.246949  0.097104  1.048338   \n",
       "4     -0.259035 -1.035323     1.0  0.975907 -1.246949  0.709489  1.048338   \n",
       "5     -0.259035 -1.035323     0.0 -1.227001  1.905784 -1.127667 -0.512948   \n",
       "6     -0.259035 -1.035323     1.0  0.608755 -1.246949  1.321874  1.048338   \n",
       "7     -0.259035 -1.035323     0.0 -1.227001  1.905784 -0.209089 -0.512948   \n",
       "8     -0.259035 -1.035323     0.0 -0.859850  0.644691 -1.433860 -0.512948   \n",
       "9     -0.259035 -1.035323     1.0 -1.227001 -0.616403  0.097104 -0.512948   \n",
       "10    -0.259035 -1.035323     1.0 -0.492698 -0.616403 -0.209089  1.048338   \n",
       "11    -0.259035 -1.035323     0.0 -0.492698 -1.246949 -0.821474 -0.512948   \n",
       "12    -0.259035 -1.035323     1.0  0.608755  0.014144 -0.515282  1.048338   \n",
       "13    -0.259035 -1.035323     0.0 -0.125547  0.644691 -0.515282  1.048338   \n",
       "14    -0.259035 -1.035323     0.0 -0.859850  1.275237 -1.433860 -0.512948   \n",
       "15    -0.259035 -1.035323     1.0 -0.859850  0.014144  1.934260 -0.512948   \n",
       "16    -0.259035 -1.035323     1.0 -0.125547 -0.616403  1.015682 -0.512948   \n",
       "17    -0.259035 -1.035323     0.0 -0.492698  0.644691 -0.821474 -0.512948   \n",
       "18    -0.259035 -1.035323     0.0 -0.859850  1.905784 -0.821474 -0.512948   \n",
       "19    -0.259035 -1.035323     1.0  0.608755 -0.616403  1.015682  1.048338   \n",
       "20    -0.259035 -1.035323     1.0  0.608755 -1.246949 -0.821474  2.609624   \n",
       "21    -0.259035 -1.035323     0.0 -1.227001  0.014144 -1.433860 -0.512948   \n",
       "22    -0.259035 -1.035323     1.0 -0.125547 -0.616403 -0.209089  1.048338   \n",
       "23    -0.259035 -1.035323     0.0 -0.859850 -0.616403 -0.821474 -0.512948   \n",
       "24    -0.259035 -1.035323     0.0  0.975907 -0.616403 -0.515282  1.048338   \n",
       "25    -0.259035 -1.035323     1.0 -0.125547  0.014144  0.403296  1.048338   \n",
       "26    -0.259035 -1.035323     1.0  0.608755 -1.246949 -0.209089  1.048338   \n",
       "27    -0.259035 -1.035323     0.0 -1.227001 -1.246949 -1.127667 -0.512948   \n",
       "28    -0.259035 -1.035323     1.0  0.241604 -1.246949  0.709489  1.048338   \n",
       "29    -0.259035 -1.035323     0.0 -0.859850  1.275237 -0.515282 -0.512948   \n",
       "...         ...       ...     ...       ...       ...       ...       ...   \n",
       "15484  1.140389  1.710932     1.0  2.811663 -1.246949  0.709489 -0.512948   \n",
       "15485  1.140389  1.710932     0.0 -0.859850  2.536330 -0.515282 -0.512948   \n",
       "15486  1.140389  1.710932     0.0 -0.125547  0.644691  0.097104 -0.512948   \n",
       "15487  1.140389  1.710932     1.0  2.811663 -0.616403  0.403296 -0.512948   \n",
       "15488  1.140389  1.710932     1.0  0.975907  0.644691  0.709489 -0.512948   \n",
       "15489  1.140389  1.710932     0.0  0.241604  0.644691 -0.209089 -0.512948   \n",
       "15490  1.140389  1.710932     1.0 -0.125547 -1.246949 -0.209089 -0.512948   \n",
       "15491  1.140389  1.710932     0.0 -0.492698  0.014144 -1.127667 -0.512948   \n",
       "15492  1.140389  1.710932     0.0 -0.125547  2.536330  0.709489 -0.512948   \n",
       "15493  1.140389  1.710932     1.0  0.608755  0.014144  3.159030 -0.512948   \n",
       "15494  1.140389  1.710932     0.0  0.975907  1.905784  0.403296 -0.512948   \n",
       "15495  1.140389  1.710932     1.0  2.811663  0.014144  3.771416 -0.512948   \n",
       "15496  1.140389  1.710932     0.0 -1.227001  0.644691 -0.515282 -0.512948   \n",
       "15497  1.140389  1.710932     1.0  0.608755  0.014144  0.403296 -0.512948   \n",
       "15498  1.140389  1.710932     0.0 -0.125547  0.644691 -0.821474 -0.512948   \n",
       "15499  1.140389  1.710932     1.0  0.608755 -1.246949  1.321874 -0.512948   \n",
       "15500  1.140389  1.710932     0.0  0.975907  0.644691 -0.209089 -0.512948   \n",
       "15501  1.140389  1.710932     1.0  0.241604 -0.616403  1.321874 -0.512948   \n",
       "15502  1.140389  1.710932     1.0  2.077361  0.644691  1.015682 -0.512948   \n",
       "15503  1.140389  1.710932     0.0  0.608755  1.905784 -0.515282 -0.512948   \n",
       "15504  1.140389  1.710932     1.0  2.444512 -0.616403  1.321874 -0.512948   \n",
       "15505  1.140389  1.710932     0.0 -0.125547  1.275237  0.709489 -0.512948   \n",
       "15506  1.140389  1.710932     0.0 -0.492698  0.014144 -1.433860 -0.512948   \n",
       "15507  1.140389  1.710932     1.0 -0.125547  0.014144  0.097104 -0.512948   \n",
       "15508  1.140389  1.710932     1.0  0.241604 -1.246949  0.709489 -0.512948   \n",
       "15509  1.140389  1.710932     0.0 -0.859850  3.166877 -1.433860 -0.512948   \n",
       "15510  1.140389  1.710932     0.0 -1.227001  0.014144 -1.127667 -0.512948   \n",
       "15511  1.140389  1.710932     1.0  0.608755 -1.246949  1.628067 -0.512948   \n",
       "15512  1.140389  1.710932     0.0  0.608755  1.275237  0.097104 -0.512948   \n",
       "15513  1.140389  1.710932     1.0  2.444512  1.275237  1.934260 -0.512948   \n",
       "\n",
       "        triples        fb  fbassist  ...   csdat15  datediff  Encoded_league  \\\n",
       "0     -0.253036 -0.267639  3.296958  ...  0.335260  0.958407        1.229729   \n",
       "1     -0.253036 -0.267639 -0.303310  ... -0.335260  0.958407        1.229729   \n",
       "2     -0.253036 -0.267639 -0.303310  ... -0.335260  0.958407        1.229729   \n",
       "3     -0.253036 -0.267639 -0.303310  ...  0.335260  0.958407        1.229729   \n",
       "4     -0.253036 -0.267639 -0.303310  ... -0.167630  0.958407        1.229729   \n",
       "5     -0.253036 -0.267639 -0.303310  ...  0.167630  0.958407        1.229729   \n",
       "6     -0.253036  3.736370 -0.303310  ...  0.782273  0.958407        1.229729   \n",
       "7     -0.253036 -0.267639 -0.303310  ... -0.782273  0.958407        1.229729   \n",
       "8     -0.253036 -0.267639 -0.303310  ... -1.061656  0.958407        1.229729   \n",
       "9     -0.253036 -0.267639 -0.303310  ...  1.061656  0.958407        1.229729   \n",
       "10    -0.253036 -0.267639 -0.303310  ... -0.391136  0.955488        1.229729   \n",
       "11    -0.253036 -0.267639 -0.303310  ...  0.391136  0.955488        1.229729   \n",
       "12    -0.253036 -0.267639 -0.303310  ... -1.117532  0.955488        1.229729   \n",
       "13    -0.253036 -0.267639 -0.303310  ...  1.117532  0.955488        1.229729   \n",
       "14    -0.253036 -0.267639 -0.303310  ...  0.670519  0.955488        1.229729   \n",
       "15    -0.253036 -0.267639 -0.303310  ... -0.670519  0.955488        1.229729   \n",
       "16    -0.253036 -0.267639 -0.303310  ... -0.670519  0.952567       -1.653366   \n",
       "17    -0.253036 -0.267639 -0.303310  ...  0.670519  0.952567       -1.653366   \n",
       "18    -0.253036 -0.267639 -0.303310  ... -2.067435  0.952567       -1.653366   \n",
       "19     3.471437 -0.267639 -0.303310  ...  2.067435  0.952567       -1.653366   \n",
       "20    -0.253036  3.736370 -0.303310  ...  0.167630  0.952567        1.229729   \n",
       "21    -0.253036 -0.267639 -0.303310  ... -0.167630  0.952567        1.229729   \n",
       "22    -0.253036 -0.267639 -0.303310  ...  0.000000  0.952567        1.229729   \n",
       "23    -0.253036 -0.267639 -0.303310  ...  0.000000  0.952567        1.229729   \n",
       "24     3.471437 -0.267639 -0.303310  ...  0.279383  0.952567        1.229729   \n",
       "25    -0.253036 -0.267639 -0.303310  ... -0.279383  0.952567        1.229729   \n",
       "26    -0.253036 -0.267639 -0.303310  ...  0.167630  0.952567        1.229729   \n",
       "27    -0.253036 -0.267639 -0.303310  ... -0.167630  0.952567        1.229729   \n",
       "28    -0.253036 -0.267639 -0.303310  ...  1.285162  0.952567       -1.653366   \n",
       "29    -0.253036 -0.267639 -0.303310  ... -1.285162  0.952567       -1.653366   \n",
       "...         ...       ...       ...  ...       ...       ...             ...   \n",
       "15484 -0.253036 -0.267639 -0.303310  ...  0.000000  0.115573        0.460904   \n",
       "15485 -0.253036 -0.267639 -0.303310  ...  0.000000  0.115573        0.460904   \n",
       "15486 -0.253036 -0.267639 -0.303310  ...  0.000000  0.115573        0.460904   \n",
       "15487 -0.253036 -0.267639 -0.303310  ...  0.000000  0.115573        0.460904   \n",
       "15488 -0.253036 -0.267639 -0.303310  ...  0.000000  0.115573        0.460904   \n",
       "15489 -0.253036 -0.267639 -0.303310  ...  0.000000  0.115573        0.460904   \n",
       "15490 -0.253036 -0.267639 -0.303310  ...  0.000000  0.115573        0.460904   \n",
       "15491 -0.253036 -0.267639 -0.303310  ...  0.000000  0.115573        0.460904   \n",
       "15492 -0.253036 -0.267639 -0.303310  ...  0.000000  0.115573        0.460904   \n",
       "15493 -0.253036 -0.267639 -0.303310  ...  0.000000  0.115573        0.460904   \n",
       "15494 -0.253036 -0.267639 -0.303310  ...  0.000000  0.115573        0.460904   \n",
       "15495 -0.253036 -0.267639 -0.303310  ...  0.000000  0.115573        0.460904   \n",
       "15496 -0.253036 -0.267639 -0.303310  ...  0.000000  0.115573        0.460904   \n",
       "15497 -0.253036 -0.267639 -0.303310  ...  0.000000  0.115573        0.460904   \n",
       "15498 -0.253036 -0.267639 -0.303310  ...  0.000000  0.115573        0.460904   \n",
       "15499 -0.253036 -0.267639 -0.303310  ...  0.000000  0.115573        0.460904   \n",
       "15500 -0.253036 -0.267639 -0.303310  ...  0.000000  0.115573        0.460904   \n",
       "15501 -0.253036 -0.267639 -0.303310  ...  0.000000  0.115573        0.460904   \n",
       "15502 -0.253036 -0.267639 -0.303310  ...  0.000000  0.115573        0.460904   \n",
       "15503 -0.253036 -0.267639 -0.303310  ...  0.000000  0.115573        0.460904   \n",
       "15504 -0.253036 -0.267639 -0.303310  ...  0.000000  0.115573        0.460904   \n",
       "15505 -0.253036 -0.267639 -0.303310  ...  0.000000  0.115573        0.460904   \n",
       "15506 -0.253036 -0.267639 -0.303310  ...  0.000000  0.115573        0.460904   \n",
       "15507 -0.253036 -0.267639 -0.303310  ...  0.000000  0.115573        0.460904   \n",
       "15508 -0.253036 -0.267639 -0.303310  ...  0.000000  0.115573        0.460904   \n",
       "15509 -0.253036 -0.267639 -0.303310  ...  0.000000  0.115573        0.460904   \n",
       "15510 -0.253036 -0.267639 -0.303310  ...  0.000000  0.115573        0.460904   \n",
       "15511 -0.253036 -0.267639 -0.303310  ...  0.000000  0.115573        0.460904   \n",
       "15512 -0.253036 -0.267639 -0.303310  ...  0.000000  0.115573        0.460904   \n",
       "15513 -0.253036 -0.267639 -0.303310  ...  0.000000  0.115573        0.460904   \n",
       "\n",
       "       Encoded_game  Encoded_side  Encoded_champion  Encoded_Year  \\\n",
       "0          1.192908          -1.0          0.327059     -1.072695   \n",
       "1          1.192908           1.0          0.281515     -1.072695   \n",
       "2         -0.877722          -1.0          0.281515     -1.072695   \n",
       "3         -0.877722           1.0         -0.583817     -1.072695   \n",
       "4         -0.748308          -1.0          0.281515     -1.072695   \n",
       "5         -0.748308           1.0          0.327059     -1.072695   \n",
       "6          1.192908          -1.0          0.327059     -1.072695   \n",
       "7          1.192908           1.0          0.281515     -1.072695   \n",
       "8         -0.877722          -1.0         -0.583817     -1.072695   \n",
       "9         -0.877722           1.0          0.327059     -1.072695   \n",
       "10         1.192908          -1.0         -1.676869     -1.072695   \n",
       "11         1.192908           1.0          0.736953     -1.072695   \n",
       "12        -0.877722          -1.0         -0.082835     -1.072695   \n",
       "13        -0.877722           1.0          0.281515     -1.072695   \n",
       "14        -0.877722          -1.0          0.327059     -1.072695   \n",
       "15        -0.877722           1.0          0.281515     -1.072695   \n",
       "16         1.192908          -1.0         -1.676869     -1.072695   \n",
       "17         1.192908           1.0          0.281515     -1.072695   \n",
       "18        -0.877722          -1.0          1.146847     -1.072695   \n",
       "19        -0.877722           1.0          0.281515     -1.072695   \n",
       "20        -0.877722          -1.0          0.463690     -1.072695   \n",
       "21        -0.877722           1.0         -1.676869     -1.072695   \n",
       "22        -0.748308          -1.0          1.146847     -1.072695   \n",
       "23        -0.748308           1.0         -1.676869     -1.072695   \n",
       "24         1.192908          -1.0          1.146847     -1.072695   \n",
       "25         1.192908           1.0         -1.676869     -1.072695   \n",
       "26        -0.877722          -1.0         -0.583817     -1.072695   \n",
       "27        -0.877722           1.0          0.327059     -1.072695   \n",
       "28         1.192908          -1.0         -1.540237     -1.072695   \n",
       "29         1.192908           1.0          0.281515     -1.072695   \n",
       "...             ...           ...               ...           ...   \n",
       "15484      1.192908          -1.0          1.420110      1.463557   \n",
       "15485      1.192908           1.0         -0.857080      1.463557   \n",
       "15486     -0.877722          -1.0         -0.583817      1.463557   \n",
       "15487     -0.877722           1.0          1.420110      1.463557   \n",
       "15488      1.192908          -1.0         -0.583817      1.463557   \n",
       "15489      1.192908           1.0          1.420110      1.463557   \n",
       "15490     -0.877722          -1.0         -0.583817      1.463557   \n",
       "15491     -0.877722           1.0         -1.540237      1.463557   \n",
       "15492      1.192908          -1.0          1.511198      1.463557   \n",
       "15493      1.192908           1.0         -1.175887      1.463557   \n",
       "15494     -0.877722          -1.0         -0.583817      1.463557   \n",
       "15495     -0.877722           1.0          1.420110      1.463557   \n",
       "15496      1.192908          -1.0          0.281515      1.463557   \n",
       "15497      1.192908           1.0         -0.538274      1.463557   \n",
       "15498     -0.877722          -1.0          0.281515      1.463557   \n",
       "15499     -0.877722           1.0         -0.902624      1.463557   \n",
       "15500     -0.748308          -1.0         -0.583817      1.463557   \n",
       "15501     -0.748308           1.0          1.420110      1.463557   \n",
       "15502      1.192908          -1.0          0.235971      1.463557   \n",
       "15503      1.192908           1.0         -0.902624      1.463557   \n",
       "15504     -0.877722          -1.0         -0.902624      1.463557   \n",
       "15505     -0.877722           1.0          1.511198      1.463557   \n",
       "15506      1.192908          -1.0          1.420110      1.463557   \n",
       "15507      1.192908           1.0         -0.583817      1.463557   \n",
       "15508     -0.877722          -1.0          0.281515      1.463557   \n",
       "15509     -0.877722           1.0         -0.902624      1.463557   \n",
       "15510      1.192908          -1.0          0.190427      1.463557   \n",
       "15511      1.192908           1.0          1.511198      1.463557   \n",
       "15512     -0.877722          -1.0         -0.583817      1.463557   \n",
       "15513     -0.877722           1.0          1.511198      1.463557   \n",
       "\n",
       "       Encoded_team  Encoded_culture      player  \n",
       "0         -0.353946        -0.740824        maha  \n",
       "1          0.714599        -0.740824       teddy  \n",
       "2          0.714599        -0.740824       teddy  \n",
       "3         -0.353946        -0.740824        maha  \n",
       "4         -0.353946        -0.740824        maha  \n",
       "5          0.714599        -0.740824       teddy  \n",
       "6          1.550852        -0.740824        pray  \n",
       "7         -0.470092        -0.740824        deft  \n",
       "8         -0.470092        -0.740824        deft  \n",
       "9          1.550852        -0.740824        pray  \n",
       "10         0.644911        -0.740824        deul  \n",
       "11        -0.864989        -0.740824      kramer  \n",
       "12        -0.864989        -0.740824      kramer  \n",
       "13         0.644911        -0.740824        deul  \n",
       "14         1.225642        -0.740824        bang  \n",
       "15         0.830745        -0.740824       ruler  \n",
       "16         0.853975        -0.227233     nuclear  \n",
       "17        -0.098424        -0.227233       kobbe  \n",
       "18        -0.098424        -0.227233       kobbe  \n",
       "19         0.853975        -0.227233     nuclear  \n",
       "20         0.040951        -0.740824       ghost  \n",
       "21         1.550852        -0.740824        pray  \n",
       "22         1.550852        -0.740824        pray  \n",
       "23         0.040951        -0.740824       ghost  \n",
       "24        -1.445720        -0.740824    sangyoon  \n",
       "25         0.714599        -0.740824       teddy  \n",
       "26         0.714599        -0.740824       teddy  \n",
       "27        -1.445720        -0.740824    sangyoon  \n",
       "28        -0.144883        -0.227233     rekkles  \n",
       "29        -1.050823        -0.227233   hans sama  \n",
       "...             ...              ...         ...  \n",
       "15484     -0.423633         0.799949       asura  \n",
       "15485     -0.888218         0.799949        smlz  \n",
       "15486     -0.888218         0.799949        smlz  \n",
       "15487     -0.423633         0.799949       asura  \n",
       "15488      0.528765         0.799949     jinjiao  \n",
       "15489      0.807516         0.799949         uzi  \n",
       "15490      0.528765         0.799949     jinjiao  \n",
       "15491      0.807516         0.799949         uzi  \n",
       "15492     -0.284258         0.799949       zwuji  \n",
       "15493     -1.097281         0.799949  jackeylove  \n",
       "15494     -0.284258         0.799949       zwuji  \n",
       "15495     -1.097281         0.799949  jackeylove  \n",
       "15496     -0.284258         0.799949       zwuji  \n",
       "15497     -0.539779         0.799949        puff  \n",
       "15498     -0.539779         0.799949        puff  \n",
       "15499     -0.284258         0.799949       zwuji  \n",
       "15500     -0.539779         0.799949        puff  \n",
       "15501     -0.284258         0.799949       zwuji  \n",
       "15502     -1.376032         0.799949         lwx  \n",
       "15503     -1.213427         0.799949       loken  \n",
       "15504     -1.376032         0.799949         lwx  \n",
       "15505     -1.213427         0.799949       loken  \n",
       "15506      1.388247         0.799949        kane  \n",
       "15507     -1.213427         0.799949       loken  \n",
       "15508     -1.213427         0.799949       loken  \n",
       "15509      1.388247         0.799949        kane  \n",
       "15510      1.411476         0.799949          y4  \n",
       "15511     -0.261029         0.799949      mystic  \n",
       "15512      1.411476         0.799949          y4  \n",
       "15513     -0.261029         0.799949      mystic  \n",
       "\n",
       "[15514 rows x 59 columns]"
      ]
     },
     "execution_count": 13,
     "metadata": {},
     "output_type": "execute_result"
    }
   ],
   "source": [
    "# Visualize data\n",
    "data_raw"
   ]
  },
  {
   "cell_type": "code",
   "execution_count": 14,
   "metadata": {
    "ExecuteTime": {
     "end_time": "2019-08-24T16:39:17.076406Z",
     "start_time": "2019-08-24T16:39:16.984175Z"
    }
   },
   "outputs": [
    {
     "name": "stdout",
     "output_type": "stream",
     "text": [
      "Set of the different column types captured by the data:  {dtype('O'), dtype('float64')}\n",
      "The number of missing values in the data:  0\n"
     ]
    }
   ],
   "source": [
    "# Check all values are numeric\n",
    "print(\"Set of the different column types captured by the data: \", set(data_raw.dtypes))\n",
    "# Check no missing data\n",
    "print(\"The number of missing values in the data: \", sum(data_raw.isnull().any()))"
   ]
  },
  {
   "cell_type": "markdown",
   "metadata": {},
   "source": [
    "## 2. Split data in test and train data"
   ]
  },
  {
   "cell_type": "code",
   "execution_count": 15,
   "metadata": {
    "ExecuteTime": {
     "end_time": "2019-08-24T16:39:17.261640Z",
     "start_time": "2019-08-24T16:39:17.098325Z"
    },
    "scrolled": true
   },
   "outputs": [],
   "source": [
    "# Create copy of data for model building (removing team feature)\n",
    "data = data_raw.copy()\n",
    "data = data.drop(labels = ['player', 'split', 'patchno', 'Encoded_league', 'Encoded_game', 'Encoded_Year', 'Encoded_culture'], axis=1)"
   ]
  },
  {
   "cell_type": "code",
   "execution_count": 16,
   "metadata": {
    "ExecuteTime": {
     "end_time": "2019-08-24T16:39:17.367773Z",
     "start_time": "2019-08-24T16:39:17.267164Z"
    }
   },
   "outputs": [],
   "source": [
    "# Split the data\n",
    "x_train, x_test, y_train, y_test = data_splitter(data, 'result')"
   ]
  },
  {
   "cell_type": "code",
   "execution_count": 17,
   "metadata": {
    "ExecuteTime": {
     "end_time": "2019-08-24T16:39:17.427838Z",
     "start_time": "2019-08-24T16:39:17.371842Z"
    }
   },
   "outputs": [
    {
     "name": "stdout",
     "output_type": "stream",
     "text": [
      "The data is centered:  True \n",
      "The data is standardized:  False\n"
     ]
    }
   ],
   "source": [
    "# Check data is standardized and centered\n",
    "print(\"The data is centered: \", \n",
    "      all([int(x) for x in round(x_train.mean(axis = 0), 4)]) == 0,\n",
    "     \"\\nThe data is standardized: \",\n",
    "      all([int(x) for x in round(x_train.var(axis = 0), 4)]) == 1)"
   ]
  },
  {
   "cell_type": "markdown",
   "metadata": {},
   "source": [
    "## 3. Model creation"
   ]
  },
  {
   "cell_type": "code",
   "execution_count": 18,
   "metadata": {
    "ExecuteTime": {
     "end_time": "2019-08-24T16:39:17.446346Z",
     "start_time": "2019-08-24T16:39:17.431374Z"
    }
   },
   "outputs": [],
   "source": [
    "# Create dictionary to capture model summary\n",
    "logistic_L1penalty_model_dict, ridge_model_dict, elasticnet_model_dict, rf_model_dict, model_summary_dict = dict(), dict(), dict(), dict(), dict()"
   ]
  },
  {
   "cell_type": "markdown",
   "metadata": {},
   "source": [
    "### 3.1 Logistic regression with L1 penalty (Lasso classification model)\n",
    "Here, the recursive feature elimination techinique is used to initialize L1 penalization in our logistic regression model and hence allows implementation of lasso regularization."
   ]
  },
  {
   "cell_type": "markdown",
   "metadata": {},
   "source": [
    "##### Recursive feature elimination\n",
    "Given an external estimator that assigns weights to features (~coefficients), the goal of recursive feature elimination is to select features by recursively considering smaller and smaller sets of features. The estimator is trained on the initial set of features and the importance of each feature is obtained. Based on this information the least important features are pruned from the current set of features. This procedure is recursively repeated on the pruned set until the desired number of features to select is reached. To get the optimal number of features CV is used."
   ]
  },
  {
   "cell_type": "code",
   "execution_count": 19,
   "metadata": {
    "ExecuteTime": {
     "end_time": "2019-08-24T16:40:19.828945Z",
     "start_time": "2019-08-24T16:39:17.449732Z"
    },
    "scrolled": true
   },
   "outputs": [],
   "source": [
    "# By using the liblinear solver the L1 penalty is implemented\n",
    "logreg = LogisticRegression(solver='liblinear')\n",
    "rfe = RFECV(logreg, cv = 5)\n",
    "rfe = rfe.fit(x_train, y_train)"
   ]
  },
  {
   "cell_type": "code",
   "execution_count": 20,
   "metadata": {
    "ExecuteTime": {
     "end_time": "2019-08-24T16:40:19.840579Z",
     "start_time": "2019-08-24T16:40:19.830761Z"
    }
   },
   "outputs": [
    {
     "name": "stdout",
     "output_type": "stream",
     "text": [
      "Based on the recursive elimination method the following 18 features are selected:  ['k', 'd', 'a', 'fbvictim', 'kpm', 'dmgtochampsperminute', 'dmgshare', 'earnedgoldshare', 'totalgold', 'earnedgpm', 'goldspent', 'gspd', 'minionkills', 'monsterkills', 'cspm', 'goldat15', 'gdat15', 'csat15']\n"
     ]
    }
   ],
   "source": [
    "# Intermediate summary\n",
    "selected_features_rfe = [col for col, bool_importance in zip(x_train.columns.values, rfe.support_) if bool_importance]\n",
    "print(\"Based on the recursive elimination method the following\", len(selected_features_rfe),\n",
    "      \"features are selected: \", selected_features_rfe)"
   ]
  },
  {
   "cell_type": "markdown",
   "metadata": {},
   "source": [
    "Remark: The solver used by the logistic regression model is 'liblinear' which applies automatic parameter selection (L1 regularization) and is recommended when using a high dimensional dataset."
   ]
  },
  {
   "cell_type": "markdown",
   "metadata": {},
   "source": [
    "##### Model fit"
   ]
  },
  {
   "cell_type": "code",
   "execution_count": 21,
   "metadata": {
    "ExecuteTime": {
     "end_time": "2019-08-24T16:40:19.952051Z",
     "start_time": "2019-08-24T16:40:19.842203Z"
    }
   },
   "outputs": [],
   "source": [
    "# Fit the logistic regression model\n",
    "logistic_L1penalty_model = LogisticRegression(solver='liblinear')\n",
    "fitted_logistic_L1penalty_model = logistic_L1penalty_model.fit(x_train[selected_features_rfe], y_train)\n",
    "\n",
    "# Save best approximation alpha after CV\n",
    "logistic_L1penalty_model_dict['regularisation_param'] = np.nan"
   ]
  },
  {
   "cell_type": "markdown",
   "metadata": {
    "ExecuteTime": {
     "end_time": "2019-03-19T10:26:19.552084Z",
     "start_time": "2019-03-19T10:26:19.547199Z"
    }
   },
   "source": [
    "##### Model accuracy evaluation"
   ]
  },
  {
   "cell_type": "code",
   "execution_count": 22,
   "metadata": {
    "ExecuteTime": {
     "end_time": "2019-08-24T16:40:20.977162Z",
     "start_time": "2019-08-24T16:40:19.953839Z"
    }
   },
   "outputs": [
    {
     "name": "stdout",
     "output_type": "stream",
     "text": [
      "Based on a threshold of 0.5 the following summary statistics can be obtained:\n",
      " ----------------------------------------------------------------------------------------------------\n",
      "1114 true positives over all positives (the wins that were correctly classified).\n",
      "76 false positives (the wins that were wrongly classified).\n",
      "1068 true negatives (the losses that were correctly classified).\n",
      "70 false negatives (the losses that were wrongly classified).\n",
      "\n",
      "The sensitivity is:  0.9408783783783784\n",
      "The specificity is:  0.9335664335664335\n",
      "\n",
      "\n",
      "Accuracy: 0.9372852233676976 \n",
      " ----------------------------------------------------------------------------------------------------\n"
     ]
    },
    {
     "data": {
      "image/png": "[encoded data removed]",
      "text/plain": [
       "<Figure size 432x288 with 1 Axes>"
      ]
     },
     "metadata": {
      "needs_background": "light"
     },
     "output_type": "display_data"
    },
    {
     "name": "stdout",
     "output_type": "stream",
     "text": [
      "Confusion matrix :\n",
      " ----------------------------------------------------------------------------------------------------\n"
     ]
    },
    {
     "data": {
      "image/png": "[encoded data removed]",
      "text/plain": [
       "<Figure size 432x288 with 2 Axes>"
      ]
     },
     "metadata": {
      "needs_background": "light"
     },
     "output_type": "display_data"
    },
    {
     "name": "stdout",
     "output_type": "stream",
     "text": [
      "Normalized confusion matrix :\n",
      " ----------------------------------------------------------------------------------------------------\n"
     ]
    },
    {
     "data": {
      "image/png": "[encoded data removed]",
      "text/plain": [
       "<Figure size 432x288 with 2 Axes>"
      ]
     },
     "metadata": {
      "needs_background": "light"
     },
     "output_type": "display_data"
    }
   ],
   "source": [
    "# Model accuracy evaluation metrics\n",
    "logistic_L1penalty_model_dict['sensitivity'], logistic_L1penalty_model_dict['specificity'], logistic_L1penalty_model_dict['auc'], logistic_L1penalty_model_dict['accuracy'] = binary_class_evaluator(fitted_logistic_L1penalty_model, x_test[selected_features_rfe], y_test)\n",
    "\n",
    "# Plot non-normalized and normalized confusion matrix\n",
    "plot_confusion_matrix(fitted_logistic_L1penalty_model, x_test[selected_features_rfe], y_test, classes=['Loss', 'Win'])\n",
    "plot_confusion_matrix(fitted_logistic_L1penalty_model, x_test[selected_features_rfe], y_test, classes=['Loss', 'Win'], normalize=True)"
   ]
  },
  {
   "cell_type": "markdown",
   "metadata": {},
   "source": [
    "##### Feature importance evaluator"
   ]
  },
  {
   "cell_type": "code",
   "execution_count": 23,
   "metadata": {
    "ExecuteTime": {
     "end_time": "2019-08-24T16:40:20.984168Z",
     "start_time": "2019-08-24T16:40:20.978937Z"
    }
   },
   "outputs": [
    {
     "name": "stdout",
     "output_type": "stream",
     "text": [
      "Summary of the important features and their corresponding coefficients:\n",
      " ----------------------------------------------------------------------------------------------------\n",
      "earnedgpm : 4.964827455216946\n",
      "goldspent : -3.530148738581222\n",
      "earnedgoldshare : -3.0235154181845707\n",
      "totalgold : 2.8570455953639935\n",
      "kpm : 1.4472058880028178\n",
      "d : -1.4054929542024945\n",
      "a : 1.1484360522085835\n",
      "goldat15 : -0.6909498520767853\n",
      "dmgtochampsperminute : -0.6052719117801518\n",
      "gspd : 0.5965587511635372\n"
     ]
    }
   ],
   "source": [
    "# Show the sorted features indicating the highest importance in predicting the target\n",
    "logistic_L1penalty_model_dict['feature_importance'] = important_features_extractor(fitted_logistic_L1penalty_model, selected_features_rfe)"
   ]
  },
  {
   "cell_type": "code",
   "execution_count": 24,
   "metadata": {
    "ExecuteTime": {
     "end_time": "2019-08-24T17:09:19.011942Z",
     "start_time": "2019-08-24T16:40:20.985709Z"
    },
    "scrolled": true
   },
   "outputs": [
    {
     "data": {
      "image/png": "[encoded data removed]",
      "text/plain": [
       "<Figure size 432x288 with 1 Axes>"
      ]
     },
     "metadata": {
      "needs_background": "light"
     },
     "output_type": "display_data"
    }
   ],
   "source": [
    "# Visualize the use of different regularization parameters on coefficient estimates for Lasso regression\n",
    "n_alphas, coefs = 200, []\n",
    "alphas = np.logspace(-10, -2, n_alphas)\n",
    "for a in alphas:\n",
    "    lasso = Lasso(alpha = a, fit_intercept = False)\n",
    "    lasso.fit(x_train, y_train)\n",
    "    coefs.append(lasso.coef_)\n",
    "\n",
    "# Visualize the regularization curve\n",
    "ax = plt.gca()\n",
    "ax.plot(alphas, coefs)\n",
    "ax.set_xscale('log')\n",
    "ax.set_xlim(ax.get_xlim()[::-1])  # reverse axis\n",
    "plt.xlabel('alpha')\n",
    "plt.ylabel('weights')\n",
    "plt.title('Lasso coefficients as a function of the regularization')\n",
    "plt.axis('tight')\n",
    "plt.show()"
   ]
  },
  {
   "cell_type": "markdown",
   "metadata": {},
   "source": [
    "### 3.2 Ridge classification model\n",
    "Ridge regression covers a machine learning technique that solves a regression model where the loss function is the linear least squares function and regularization is given by the l2-norm.\n",
    "\n",
    "To fit the ridge classification model the ridge classifier with build in cross-validation estimator is used from the sklearn package. The CV classifier allows us to evaluate different regularization parameters. Here, the array of alpha values that is explored ranges from 0.1 to 1. in steps of 0.025.\n",
    "\n",
    "If the alpha value is 0, a OLS model seems to best fit the data. So, the smaller the value of alpha, the higher the magnitude of the coefficients. No intercept is calculated for the model, because the data is centered."
   ]
  },
  {
   "cell_type": "markdown",
   "metadata": {},
   "source": [
    "##### Model fit"
   ]
  },
  {
   "cell_type": "code",
   "execution_count": 25,
   "metadata": {
    "ExecuteTime": {
     "end_time": "2019-08-24T17:09:25.142847Z",
     "start_time": "2019-08-24T17:09:19.028680Z"
    }
   },
   "outputs": [],
   "source": [
    "# Fit the regression model for the optimal alpha \n",
    "alphas = np.arange(0.0, 1.0, 0.025)\n",
    "ridge_model = RidgeClassifierCV(alphas, fit_intercept= False, cv= 5)\n",
    "fitted_ridge_model = ridge_model.fit(x_train, y_train)\n",
    "\n",
    "# Save best approximation alpha after CV\n",
    "ridge_model_dict['regularisation_param'] = fitted_ridge_model.alpha_"
   ]
  },
  {
   "cell_type": "markdown",
   "metadata": {},
   "source": [
    "##### Model accuracy evaluation"
   ]
  },
  {
   "cell_type": "code",
   "execution_count": 26,
   "metadata": {
    "ExecuteTime": {
     "end_time": "2019-08-24T17:09:26.666035Z",
     "start_time": "2019-08-24T17:09:25.144641Z"
    }
   },
   "outputs": [
    {
     "name": "stdout",
     "output_type": "stream",
     "text": [
      "Based on a threshold of 0.5 the following summary statistics can be obtained:\n",
      " ----------------------------------------------------------------------------------------------------\n",
      "1114 true positives over all positives (the wins that were correctly classified).\n",
      "82 false positives (the wins that were wrongly classified).\n",
      "1062 true negatives (the losses that were correctly classified).\n",
      "70 false negatives (the losses that were wrongly classified).\n",
      "\n",
      "The sensitivity is:  0.9408783783783784\n",
      "The specificity is:  0.9283216783216783\n",
      "\n",
      "\n",
      "Accuracy: 0.9347079037800687 \n",
      " ----------------------------------------------------------------------------------------------------\n"
     ]
    },
    {
     "data": {
      "image/png": "[encoded data removed]",
      "text/plain": [
       "<Figure size 432x288 with 1 Axes>"
      ]
     },
     "metadata": {
      "needs_background": "light"
     },
     "output_type": "display_data"
    },
    {
     "name": "stdout",
     "output_type": "stream",
     "text": [
      "Confusion matrix :\n",
      " ----------------------------------------------------------------------------------------------------\n"
     ]
    },
    {
     "data": {
      "image/png": "[encoded data removed]",
      "text/plain": [
       "<Figure size 432x288 with 2 Axes>"
      ]
     },
     "metadata": {
      "needs_background": "light"
     },
     "output_type": "display_data"
    },
    {
     "name": "stdout",
     "output_type": "stream",
     "text": [
      "Normalized confusion matrix :\n",
      " ----------------------------------------------------------------------------------------------------\n"
     ]
    },
    {
     "data": {
      "image/png": "[encoded data removed]",
      "text/plain": [
       "<Figure size 432x288 with 2 Axes>"
      ]
     },
     "metadata": {
      "needs_background": "light"
     },
     "output_type": "display_data"
    }
   ],
   "source": [
    "# Model accuracy evaluation metrics\n",
    "ridge_model_dict['sensitivity'], ridge_model_dict['specificity'], ridge_model_dict['auc'], ridge_model_dict['accuracy'] = binary_class_evaluator(fitted_ridge_model, x_test, y_test)\n",
    "\n",
    "# Plot non-normalized and normalized confusion matrix\n",
    "plot_confusion_matrix(fitted_ridge_model, x_test,y_test, classes=['Loss', 'Win'])\n",
    "plot_confusion_matrix(fitted_ridge_model, x_test,y_test, classes=['Loss', 'Win'], normalize=True)"
   ]
  },
  {
   "cell_type": "markdown",
   "metadata": {
    "ExecuteTime": {
     "end_time": "2019-03-19T09:17:32.286353Z",
     "start_time": "2019-03-19T09:17:31.991148Z"
    }
   },
   "source": [
    "##### Feature importance evaluator"
   ]
  },
  {
   "cell_type": "code",
   "execution_count": 27,
   "metadata": {
    "ExecuteTime": {
     "end_time": "2019-08-24T17:09:26.682862Z",
     "start_time": "2019-08-24T17:09:26.668234Z"
    },
    "scrolled": true
   },
   "outputs": [
    {
     "name": "stdout",
     "output_type": "stream",
     "text": [
      "Summary of the important features and their corresponding coefficients:\n",
      " ----------------------------------------------------------------------------------------------------\n",
      "totalgold : 1.3300777245833655\n",
      "wards : -0.9618128399051077\n",
      "wpm : 0.7699526736985021\n",
      "goldspent : -0.4506965853692325\n",
      "earnedgoldshare : -0.34850263106606194\n",
      "d : -0.2727936890071374\n",
      "a : 0.22875393096419444\n",
      "k : 0.1707320594967406\n",
      "minionkills : -0.11521239750605777\n",
      "kpm : 0.06902012002127819\n"
     ]
    }
   ],
   "source": [
    "# Show the sorted features indicating the highest importance in predicting the target\n",
    "ridge_model_dict['feature_importance'] = important_features_extractor(fitted_ridge_model, x_train.columns.values)"
   ]
  },
  {
   "cell_type": "code",
   "execution_count": 28,
   "metadata": {
    "ExecuteTime": {
     "end_time": "2019-08-24T17:09:31.342423Z",
     "start_time": "2019-08-24T17:09:26.686347Z"
    }
   },
   "outputs": [
    {
     "data": {
      "image/png": "[encoded data removed]",
      "text/plain": [
       "<Figure size 432x288 with 1 Axes>"
      ]
     },
     "metadata": {
      "needs_background": "light"
     },
     "output_type": "display_data"
    }
   ],
   "source": [
    "# Visualize the use of different regularization parameters on coefficient estimates for Ridge regression\n",
    "n_alphas, coefs = 200, []\n",
    "alphas = np.logspace(-10, -2, n_alphas)\n",
    "for a in alphas:\n",
    "    ridge = Ridge(alpha = a, fit_intercept = False)\n",
    "    ridge.fit(x_train, y_train)\n",
    "    coefs.append(ridge.coef_)\n",
    "\n",
    "# Visualize the regularization curve\n",
    "ax = plt.gca()\n",
    "ax.plot(alphas, coefs)\n",
    "ax.set_xscale('log')\n",
    "ax.set_xlim(ax.get_xlim()[::-1])  # reverse axis\n",
    "plt.xlabel('alpha')\n",
    "plt.ylabel('weights')\n",
    "plt.title('Ridge coefficients as a function of the regularization')\n",
    "plt.axis('tight')\n",
    "plt.show()"
   ]
  },
  {
   "cell_type": "markdown",
   "metadata": {},
   "source": [
    "### 3.3 Elastic net classification model\n",
    "The elastic net classification model will combine the L1 and L2 priors illustrated above in the same logistic regression model as regularizers. The ElasticNetCV function from sklearn allows us to play around with these regularization parameters by defining a range for the l1_ratio = a/ (a + b), where  a * L1 + b * L2 composes the penalization term. If the optimal l1_ratio parameter is closer to 1, a sparser selection is managed, while l1_ratio parameters close to 0 result in more shrinkage of the coefficients."
   ]
  },
  {
   "cell_type": "markdown",
   "metadata": {},
   "source": [
    "##### Model fit"
   ]
  },
  {
   "cell_type": "code",
   "execution_count": 29,
   "metadata": {
    "ExecuteTime": {
     "end_time": "2019-08-24T17:11:49.740826Z",
     "start_time": "2019-08-24T17:09:31.348480Z"
    }
   },
   "outputs": [],
   "source": [
    "# Fit the elasticnet classification model\n",
    "l1_ratios = alphas[1:]\n",
    "elasticnet_model = ElasticNetCV(l1_ratio = l1_ratios, fit_intercept= False, cv= 5, random_state=0)\n",
    "fitted_elasticnet_model = elasticnet_model.fit(x_train, y_train)\n",
    "\n",
    "# Save best approximation alpha after CV\n",
    "elasticnet_model_dict['regularisation_param'] = {'l1_ratio': fitted_elasticnet_model.l1_ratio_,\n",
    "                                                 'alpha': fitted_elasticnet_model.alpha_}"
   ]
  },
  {
   "cell_type": "markdown",
   "metadata": {},
   "source": [
    "##### Model accuracy evaluation"
   ]
  },
  {
   "cell_type": "code",
   "execution_count": 30,
   "metadata": {
    "ExecuteTime": {
     "end_time": "2019-08-24T17:11:51.240100Z",
     "start_time": "2019-08-24T17:11:49.748416Z"
    }
   },
   "outputs": [
    {
     "name": "stdout",
     "output_type": "stream",
     "text": [
      "Based on a threshold of 0.5 the following summary statistics can be obtained:\n",
      " ----------------------------------------------------------------------------------------------------\n",
      "1107 true positives over all positives (the wins that were correctly classified).\n",
      "76 false positives (the wins that were wrongly classified).\n",
      "1068 true negatives (the losses that were correctly classified).\n",
      "77 false negatives (the losses that were wrongly classified).\n",
      "\n",
      "The sensitivity is:  0.9349662162162162\n",
      "The specificity is:  0.9335664335664335\n",
      "\n",
      "\n",
      "Accuracy: 0.9342783505154639 \n",
      " ----------------------------------------------------------------------------------------------------\n"
     ]
    },
    {
     "data": {
      "image/png": "[encoded data removed]",
      "text/plain": [
       "<Figure size 432x288 with 1 Axes>"
      ]
     },
     "metadata": {
      "needs_background": "light"
     },
     "output_type": "display_data"
    },
    {
     "name": "stdout",
     "output_type": "stream",
     "text": [
      "Confusion matrix :\n",
      " ----------------------------------------------------------------------------------------------------\n"
     ]
    },
    {
     "data": {
      "image/png": "[encoded data removed]",
      "text/plain": [
       "<Figure size 432x288 with 2 Axes>"
      ]
     },
     "metadata": {
      "needs_background": "light"
     },
     "output_type": "display_data"
    },
    {
     "name": "stdout",
     "output_type": "stream",
     "text": [
      "Normalized confusion matrix :\n",
      " ----------------------------------------------------------------------------------------------------\n"
     ]
    },
    {
     "data": {
      "image/png": "[encoded data removed]",
      "text/plain": [
       "<Figure size 432x288 with 2 Axes>"
      ]
     },
     "metadata": {
      "needs_background": "light"
     },
     "output_type": "display_data"
    }
   ],
   "source": [
    "# Model accuracy evaluation metrics\n",
    "elasticnet_model_dict['sensitivity'], elasticnet_model_dict['specificity'], elasticnet_model_dict['auc'], elasticnet_model_dict['accuracy'] = binary_class_evaluator(fitted_elasticnet_model, x_test, y_test, elasticnet = True)\n",
    "\n",
    "# Plot non-normalized and normalized confusion matrix\n",
    "plot_confusion_matrix(fitted_elasticnet_model, x_test, y_test, classes=['Loss', 'Win'], elasticnet = True)\n",
    "plot_confusion_matrix(fitted_elasticnet_model, x_test, y_test, classes=['Loss', 'Win'], normalize=True, elasticnet = True)"
   ]
  },
  {
   "cell_type": "markdown",
   "metadata": {
    "ExecuteTime": {
     "end_time": "2019-03-19T10:34:24.897544Z",
     "start_time": "2019-03-19T10:34:24.872205Z"
    }
   },
   "source": [
    "##### Feature importance evaluator"
   ]
  },
  {
   "cell_type": "code",
   "execution_count": 31,
   "metadata": {
    "ExecuteTime": {
     "end_time": "2019-08-24T17:11:51.253110Z",
     "start_time": "2019-08-24T17:11:51.241868Z"
    },
    "scrolled": true
   },
   "outputs": [
    {
     "name": "stdout",
     "output_type": "stream",
     "text": [
      "Summary of the important features and their corresponding coefficients:\n",
      " ----------------------------------------------------------------------------------------------------\n",
      "earnedgpm : 0.21041034540855308\n",
      "earnedgoldshare : -0.15996619790807312\n",
      "d : -0.1454756586703733\n",
      "a : 0.11685479002035806\n",
      "goldspent : -0.12140720582677468\n",
      "totalgold : 0.1039785258833394\n",
      "k : 0.0828124643918619\n",
      "kpm : 0.037224038643796406\n",
      "goldat15 : -0.03181097438807848\n",
      "doubles : -0.016918556956435026\n"
     ]
    }
   ],
   "source": [
    "# Show the sorted features indicating the highest importance in predicting the target\n",
    "elasticnet_model_dict['feature_importance'] = important_features_extractor(fitted_elasticnet_model, \n",
    "                                                                           x_train.columns.values, \n",
    "                                                                           elasticnet = True)"
   ]
  },
  {
   "cell_type": "code",
   "execution_count": 32,
   "metadata": {
    "ExecuteTime": {
     "end_time": "2019-08-24T17:15:52.961856Z",
     "start_time": "2019-08-24T17:11:51.254795Z"
    }
   },
   "outputs": [
    {
     "data": {
      "image/png": "[encoded data removed]",
      "text/plain": [
       "<Figure size 432x288 with 1 Axes>"
      ]
     },
     "metadata": {
      "needs_background": "light"
     },
     "output_type": "display_data"
    }
   ],
   "source": [
    "# Visualize the use of different regularization parameters on coefficient estimates for Ridge regression\n",
    "n_ratios, coefs = 200, []\n",
    "l1_ratios = np.logspace(-10, -2, n_ratios)\n",
    "for r in l1_ratios:\n",
    "    elasticnet = ElasticNet(l1_ratio = r, fit_intercept = False)\n",
    "    elasticnet.fit(x_train, y_train)\n",
    "    coefs.append(elasticnet.coef_)\n",
    "\n",
    "# Visualize the regularization curve\n",
    "ax = plt.gca()\n",
    "ax.plot(l1_ratios, coefs)\n",
    "ax.set_xscale('log')\n",
    "ax.set_xlim(ax.get_xlim()[::-1])  # reverse axis\n",
    "plt.xlabel('l1_ratio')\n",
    "plt.ylabel('weights')\n",
    "plt.title('Elastic net coefficients as a function of the regularization')\n",
    "plt.axis('tight')\n",
    "plt.show()"
   ]
  },
  {
   "cell_type": "markdown",
   "metadata": {},
   "source": [
    "### 3.4 Random Forests classifier"
   ]
  },
  {
   "cell_type": "markdown",
   "metadata": {},
   "source": [
    "##### Model fit"
   ]
  },
  {
   "cell_type": "code",
   "execution_count": 33,
   "metadata": {
    "ExecuteTime": {
     "end_time": "2019-08-24T18:30:15.021002Z",
     "start_time": "2019-08-24T17:15:52.965550Z"
    }
   },
   "outputs": [
    {
     "data": {
      "text/plain": [
       "{'bootstrap': True, 'max_features': 'sqrt', 'n_estimators': 1000}"
      ]
     },
     "execution_count": 33,
     "metadata": {},
     "output_type": "execute_result"
    }
   ],
   "source": [
    "# Define hyperparameter grid\n",
    "param_grid = {'bootstrap': [True, False],\n",
    "              'max_features': ['auto', 'sqrt'],\n",
    "              'n_estimators': [200, 1000, 2000]}\n",
    "\n",
    "# Hyperparametertuning of the Random Forest model (cv = 5 folds)\n",
    "rf_model = RandomForestClassifier()\n",
    "grid_rf_model = GridSearchCV(rf_model, param_grid, cv=5)\n",
    "grid_best_rf_model = grid_rf_model.fit(x_train, y_train)\n",
    "\n",
    "# Save optimal hyperparameters\n",
    "rf_model_dict['regularisation_param'] = grid_best_rf_model.best_params_\n",
    "grid_best_rf_model.best_params_"
   ]
  },
  {
   "cell_type": "code",
   "execution_count": 34,
   "metadata": {
    "ExecuteTime": {
     "end_time": "2019-08-24T18:30:48.412926Z",
     "start_time": "2019-08-24T18:30:15.023183Z"
    }
   },
   "outputs": [
    {
     "data": {
      "text/plain": [
       "RandomForestClassifier(bootstrap=True, class_weight=None, criterion='gini',\n",
       "            max_depth=None, max_features='sqrt', max_leaf_nodes=None,\n",
       "            min_impurity_decrease=0.0, min_impurity_split=None,\n",
       "            min_samples_leaf=1, min_samples_split=2,\n",
       "            min_weight_fraction_leaf=0.0, n_estimators=1000, n_jobs=None,\n",
       "            oob_score=False, random_state=None, verbose=0,\n",
       "            warm_start=False)"
      ]
     },
     "execution_count": 34,
     "metadata": {},
     "output_type": "execute_result"
    }
   ],
   "source": [
    "# Fit the best model with the optimal hyperparameters\n",
    "fitted_rf_model = RandomForestClassifier(bootstrap = rf_model_dict['regularisation_param'] ['bootstrap'],\n",
    "                                         max_features = rf_model_dict['regularisation_param'] ['max_features'],\n",
    "                                         n_estimators = rf_model_dict['regularisation_param'] ['n_estimators'])\n",
    "fitted_rf_model.fit(x_train,y_train)"
   ]
  },
  {
   "cell_type": "markdown",
   "metadata": {},
   "source": [
    "##### Model accuracy evaluation"
   ]
  },
  {
   "cell_type": "code",
   "execution_count": 35,
   "metadata": {
    "ExecuteTime": {
     "end_time": "2019-08-24T18:30:50.774798Z",
     "start_time": "2019-08-24T18:30:48.415012Z"
    }
   },
   "outputs": [
    {
     "name": "stdout",
     "output_type": "stream",
     "text": [
      "Based on a threshold of 0.5 the following summary statistics can be obtained:\n",
      " ----------------------------------------------------------------------------------------------------\n",
      "1109 true positives over all positives (the wins that were correctly classified).\n",
      "101 false positives (the wins that were wrongly classified).\n",
      "1043 true negatives (the losses that were correctly classified).\n",
      "75 false negatives (the losses that were wrongly classified).\n",
      "\n",
      "The sensitivity is:  0.9366554054054054\n",
      "The specificity is:  0.9117132867132867\n",
      "\n",
      "\n",
      "Accuracy: 0.9243986254295533 \n",
      " ----------------------------------------------------------------------------------------------------\n"
     ]
    },
    {
     "data": {
      "image/png": "[encoded data removed]",
      "text/plain": [
       "<Figure size 432x288 with 1 Axes>"
      ]
     },
     "metadata": {
      "needs_background": "light"
     },
     "output_type": "display_data"
    },
    {
     "name": "stdout",
     "output_type": "stream",
     "text": [
      "Confusion matrix :\n",
      " ----------------------------------------------------------------------------------------------------\n"
     ]
    },
    {
     "data": {
      "image/png": "[encoded data removed]",
      "text/plain": [
       "<Figure size 432x288 with 2 Axes>"
      ]
     },
     "metadata": {
      "needs_background": "light"
     },
     "output_type": "display_data"
    },
    {
     "name": "stdout",
     "output_type": "stream",
     "text": [
      "Normalized confusion matrix :\n",
      " ----------------------------------------------------------------------------------------------------\n"
     ]
    },
    {
     "data": {
      "image/png": "[encoded data removed]",
      "text/plain": [
       "<Figure size 432x288 with 2 Axes>"
      ]
     },
     "metadata": {
      "needs_background": "light"
     },
     "output_type": "display_data"
    }
   ],
   "source": [
    "# Model accuracy evaluation metrics\n",
    "rf_model_dict['sensitivity'], rf_model_dict['specificity'], rf_model_dict['auc'], rf_model_dict['accuracy'] = binary_class_evaluator(fitted_rf_model, x_test, y_test, elasticnet = False)\n",
    "\n",
    "# Plot non-normalized and normalized confusion matrix\n",
    "plot_confusion_matrix(fitted_rf_model, x_test, y_test, classes=['Loss', 'Win'], elasticnet = False)\n",
    "plot_confusion_matrix(fitted_rf_model, x_test, y_test, classes=['Loss', 'Win'], normalize=True, elasticnet = False)"
   ]
  },
  {
   "cell_type": "markdown",
   "metadata": {},
   "source": [
    "##### Feature importance evaluator"
   ]
  },
  {
   "cell_type": "code",
   "execution_count": 36,
   "metadata": {
    "ExecuteTime": {
     "end_time": "2019-08-24T18:30:50.892738Z",
     "start_time": "2019-08-24T18:30:50.777000Z"
    }
   },
   "outputs": [
    {
     "data": {
      "text/plain": [
       "earnedgpm                  0.146667\n",
       "a                          0.135357\n",
       "d                          0.121658\n",
       "kpm                        0.095843\n",
       "k                          0.062518\n",
       "gspd                       0.052944\n",
       "earnedgoldshare            0.048922\n",
       "monsterkillsenemyjungle    0.027641\n",
       "Encoded_team               0.023919\n",
       "totalgold                  0.023652\n",
       "dtype: float64"
      ]
     },
     "execution_count": 36,
     "metadata": {},
     "output_type": "execute_result"
    }
   ],
   "source": [
    "# Show the sorted features indicating the highest importance in predicting the target\n",
    "feature_imp = pd.Series(fitted_rf_model.feature_importances_,index=x_train.columns).sort_values(ascending=False)\n",
    "rf_model_dict['feature_importance'] = dict(zip(feature_imp.index, feature_imp))\n",
    "feature_imp[:10]"
   ]
  },
  {
   "cell_type": "markdown",
   "metadata": {},
   "source": [
    "### 3.5 Comparison ML techniques"
   ]
  },
  {
   "cell_type": "markdown",
   "metadata": {},
   "source": [
    "##### Creation summary table"
   ]
  },
  {
   "cell_type": "code",
   "execution_count": 37,
   "metadata": {
    "ExecuteTime": {
     "end_time": "2019-08-24T18:30:50.917724Z",
     "start_time": "2019-08-24T18:30:50.894739Z"
    }
   },
   "outputs": [
    {
     "data": {
      "text/html": [
       "<div>\n",
       "<style scoped>\n",
       "    .dataframe tbody tr th:only-of-type {\n",
       "        vertical-align: middle;\n",
       "    }\n",
       "\n",
       "    .dataframe tbody tr th {\n",
       "        vertical-align: top;\n",
       "    }\n",
       "\n",
       "    .dataframe thead th {\n",
       "        text-align: right;\n",
       "    }\n",
       "</style>\n",
       "<table border=\"1\" class=\"dataframe\">\n",
       "  <thead>\n",
       "    <tr style=\"text-align: right;\">\n",
       "      <th></th>\n",
       "      <th>regularisation_param</th>\n",
       "      <th>sensitivity</th>\n",
       "      <th>specificity</th>\n",
       "      <th>auc</th>\n",
       "      <th>accuracy</th>\n",
       "      <th>feature_importance</th>\n",
       "    </tr>\n",
       "  </thead>\n",
       "  <tbody>\n",
       "    <tr>\n",
       "      <th>Lasso</th>\n",
       "      <td>NaN</td>\n",
       "      <td>0.940878</td>\n",
       "      <td>0.933566</td>\n",
       "      <td>0.937222</td>\n",
       "      <td>0.937285</td>\n",
       "      <td>{'earnedgpm': 4.964827455216946, 'goldspent': ...</td>\n",
       "    </tr>\n",
       "    <tr>\n",
       "      <th>Ridge</th>\n",
       "      <td>0.975</td>\n",
       "      <td>0.940878</td>\n",
       "      <td>0.928322</td>\n",
       "      <td>0.934600</td>\n",
       "      <td>0.934708</td>\n",
       "      <td>{'totalgold': 1.3300777245833655, 'wards': -0....</td>\n",
       "    </tr>\n",
       "    <tr>\n",
       "      <th>Elasticnet</th>\n",
       "      <td>{'l1_ratio': 0.01, 'alpha': 0.029986340826946498}</td>\n",
       "      <td>0.934966</td>\n",
       "      <td>0.933566</td>\n",
       "      <td>0.934266</td>\n",
       "      <td>0.934278</td>\n",
       "      <td>{'earnedgpm': 0.21041034540855308, 'earnedgold...</td>\n",
       "    </tr>\n",
       "    <tr>\n",
       "      <th>RandomForest</th>\n",
       "      <td>{'bootstrap': True, 'max_features': 'sqrt', 'n...</td>\n",
       "      <td>0.936655</td>\n",
       "      <td>0.911713</td>\n",
       "      <td>0.924184</td>\n",
       "      <td>0.924399</td>\n",
       "      <td>{'earnedgpm': 0.14666693046117601, 'a': 0.1353...</td>\n",
       "    </tr>\n",
       "  </tbody>\n",
       "</table>\n",
       "</div>"
      ],
      "text/plain": [
       "                                           regularisation_param  sensitivity  \\\n",
       "Lasso                                                       NaN     0.940878   \n",
       "Ridge                                                     0.975     0.940878   \n",
       "Elasticnet    {'l1_ratio': 0.01, 'alpha': 0.029986340826946498}     0.934966   \n",
       "RandomForest  {'bootstrap': True, 'max_features': 'sqrt', 'n...     0.936655   \n",
       "\n",
       "              specificity       auc  accuracy  \\\n",
       "Lasso            0.933566  0.937222  0.937285   \n",
       "Ridge            0.928322  0.934600  0.934708   \n",
       "Elasticnet       0.933566  0.934266  0.934278   \n",
       "RandomForest     0.911713  0.924184  0.924399   \n",
       "\n",
       "                                             feature_importance  \n",
       "Lasso         {'earnedgpm': 4.964827455216946, 'goldspent': ...  \n",
       "Ridge         {'totalgold': 1.3300777245833655, 'wards': -0....  \n",
       "Elasticnet    {'earnedgpm': 0.21041034540855308, 'earnedgold...  \n",
       "RandomForest  {'earnedgpm': 0.14666693046117601, 'a': 0.1353...  "
      ]
     },
     "execution_count": 37,
     "metadata": {},
     "output_type": "execute_result"
    }
   ],
   "source": [
    "# Create summary table\n",
    "for key in logistic_L1penalty_model_dict.keys():\n",
    "    model_summary_dict[key] = [logistic_L1penalty_model_dict[key], ridge_model_dict[key], elasticnet_model_dict[key], rf_model_dict[key]]\n",
    "model_summary_table = pd.DataFrame(model_summary_dict, columns = logistic_L1penalty_model_dict.keys())\n",
    "model_summary_table.rename(index={0:'Lasso', 1:'Ridge', 2:'Elasticnet', 3:'RandomForest'}, inplace = True)\n",
    "\n",
    "# Visualize summary table\n",
    "model_summary_table"
   ]
  },
  {
   "cell_type": "markdown",
   "metadata": {},
   "source": [
    "##### Investigate accuracy metrics"
   ]
  },
  {
   "cell_type": "code",
   "execution_count": 38,
   "metadata": {
    "ExecuteTime": {
     "end_time": "2019-08-24T18:30:51.155558Z",
     "start_time": "2019-08-24T18:30:50.919518Z"
    }
   },
   "outputs": [
    {
     "data": {
      "text/plain": [
       "<matplotlib.legend.Legend at 0x7f83d0227ac8>"
      ]
     },
     "execution_count": 38,
     "metadata": {},
     "output_type": "execute_result"
    },
    {
     "data": {
      "image/png": "[encoded data removed]",
      "text/plain": [
       "<Figure size 432x288 with 1 Axes>"
      ]
     },
     "metadata": {
      "needs_background": "light"
     },
     "output_type": "display_data"
    }
   ],
   "source": [
    "# Visualize a summarization of the accuracy metrics for the different ML methods\n",
    "fig, ax = plt.subplots()\n",
    "ax.plot(list(model_summary_table.index), model_summary_table.sensitivity, '--', label=\"sensitivity\", color='lightskyblue')\n",
    "ax.plot(list(model_summary_table.index), model_summary_table.specificity, '--', label=\"specificity\", color='lightblue')\n",
    "ax.plot(list(model_summary_table.index), model_summary_table.accuracy, label=\"accuracy\", color='royalblue')\n",
    "plt.title(\"Sensitivity, specificity and accuracy regularization models\")\n",
    "plt.ylabel('Value')\n",
    "plt.xlabel('ML model')\n",
    "ax.legend(loc =\"best\", fontsize = 8)"
   ]
  },
  {
   "cell_type": "markdown",
   "metadata": {},
   "source": [
    "##### Investigate parameter coefficients"
   ]
  },
  {
   "cell_type": "code",
   "execution_count": 39,
   "metadata": {
    "ExecuteTime": {
     "end_time": "2019-08-24T18:30:51.164218Z",
     "start_time": "2019-08-24T18:30:51.157789Z"
    }
   },
   "outputs": [
    {
     "name": "stdout",
     "output_type": "stream",
     "text": [
      "The number of features kept by the different techniques in the model:\n",
      " ----------------------------------------------------------------------------------------------------\n",
      "Lasso :  18\n",
      "Ridge :  51\n",
      "Elasticnet :  51\n",
      "RandomForest :  51\n"
     ]
    }
   ],
   "source": [
    "# Short intermediate summary\n",
    "print(\"The number of features kept by the different techniques in the model:\\n\", \"-\"*100)\n",
    "for ML in list(model_summary_table.index):\n",
    "    print(ML, \": \", len(model_summary_table.feature_importance[ML]))"
   ]
  },
  {
   "cell_type": "code",
   "execution_count": 40,
   "metadata": {
    "ExecuteTime": {
     "end_time": "2019-08-24T18:30:51.382850Z",
     "start_time": "2019-08-24T18:30:51.166336Z"
    }
   },
   "outputs": [
    {
     "data": {
      "image/png": "[encoded data removed]",
      "text/plain": [
       "<Figure size 432x288 with 1 Axes>"
      ]
     },
     "metadata": {
      "needs_background": "light"
     },
     "output_type": "display_data"
    }
   ],
   "source": [
    "# Visualization of difference in coefficient estimates\n",
    "plt.plot(fitted_elasticnet_model.coef_, color='darkorange', linewidth=2,\n",
    "         label='Elastic net coefficients')\n",
    "plt.plot(fitted_logistic_L1penalty_model.coef_[0], color='yellowgreen', linewidth=2,\n",
    "         label='Lasso coefficients')\n",
    "plt.plot(fitted_ridge_model.coef_[0], '--', color='dodgerblue', label='Ridge coefficients')\n",
    "plt.legend(loc='best')\n",
    "plt.title(\"Comparison parameter coefficients\")\n",
    "plt.ylabel('Coefficient')\n",
    "plt.xlabel('Feature ID')\n",
    "plt.show()"
   ]
  },
  {
   "cell_type": "code",
   "execution_count": 41,
   "metadata": {
    "ExecuteTime": {
     "end_time": "2019-08-24T18:30:54.626804Z",
     "start_time": "2019-08-24T18:30:51.384999Z"
    },
    "scrolled": false
   },
   "outputs": [
    {
     "data": {
      "image/png": "[encoded data removed]",
      "text/plain": [
       "<Figure size 360x576 with 1 Axes>"
      ]
     },
     "metadata": {
      "needs_background": "light"
     },
     "output_type": "display_data"
    },
    {
     "data": {
      "image/png": "[encoded data removed]",
      "text/plain": [
       "<Figure size 360x1008 with 1 Axes>"
      ]
     },
     "metadata": {
      "needs_background": "light"
     },
     "output_type": "display_data"
    },
    {
     "data": {
      "image/png": "[encoded data removed]",
      "text/plain": [
       "<Figure size 360x1008 with 1 Axes>"
      ]
     },
     "metadata": {
      "needs_background": "light"
     },
     "output_type": "display_data"
    },
    {
     "data": {
      "image/png": "[encoded data removed]",
      "text/plain": [
       "<Figure size 360x1008 with 1 Axes>"
      ]
     },
     "metadata": {
      "needs_background": "light"
     },
     "output_type": "display_data"
    }
   ],
   "source": [
    "# Visualize feature importance (coefficient based)\n",
    "for index, ML in enumerate(list(model_summary_table.index)):\n",
    "    x =  np.arange(len(model_summary_table.feature_importance[ML]))\n",
    "    plt.figure(figsize=(5, 8)) if index == 0 else plt.figure(figsize=(5, 14)) \n",
    "    plt.barh(x, list(model_summary_table.feature_importance[ML].values()), \n",
    "             tick_label =  list(model_summary_table.feature_importance[ML].keys()),\n",
    "             color = 'mediumslateblue', \n",
    "             edgecolor = 'slateblue')\n",
    "    plt.title(\"Feature coefficient estimates \" + ML + \" classification\")\n",
    "    plt.ylabel('Feature')\n",
    "    plt.xlabel('Coefficient')\n",
    "    plt.show()"
   ]
  },
  {
   "cell_type": "markdown",
   "metadata": {},
   "source": [
    "## 4. Create player specific summary vectors"
   ]
  },
  {
   "cell_type": "markdown",
   "metadata": {
    "ExecuteTime": {
     "end_time": "2019-03-26T08:44:26.367395Z",
     "start_time": "2019-03-26T08:44:26.305732Z"
    }
   },
   "source": [
    "### 4.1 Create dataset capturing the average feature values per player\n",
    "A player specific summary vector will be created by looping through all the features captured by the dataset and taking the average over all the games played by that player (for a specific feature). To have a better indication of the accuracy of the player vector another column is added at the end indicating the number of games on which the calculation is based."
   ]
  },
  {
   "cell_type": "code",
   "execution_count": 42,
   "metadata": {
    "ExecuteTime": {
     "end_time": "2019-08-24T18:30:57.549633Z",
     "start_time": "2019-08-24T18:30:54.632167Z"
    }
   },
   "outputs": [],
   "source": [
    "# Extract list with the different players\n",
    "players = list(set(data_raw.player))\n",
    "player_vector_cols = list(data.columns)\n",
    "player_vector_cols.append('accuracy indicator')\n",
    "\n",
    "# Create summary vector for each player\n",
    "player_info_list = []\n",
    "for player in players:\n",
    "    player_vector = []\n",
    "    player_subdf = data_raw[data_raw.player == player]\n",
    "    # Loop through the different columns\n",
    "    for col in data.columns:\n",
    "        # Take the mean over column values for numerical features\n",
    "        if 'Encoded' not in col:\n",
    "            player_vector.append(player_subdf[col].mean())\n",
    "        # Take the majority value over column values for discrete features\n",
    "        else: \n",
    "            player_vector.append(RandomSampleProbDist(player_subdf[col]))\n",
    "    # Add accuracy indicator\n",
    "    player_vector.append(len(player_subdf))\n",
    "    player_info_list.append(player_vector)\n",
    "    \n",
    "# Create summary dataframe\n",
    "player_vector_df = pd.DataFrame(data = player_info_list, index=players, columns=player_vector_cols)"
   ]
  },
  {
   "cell_type": "code",
   "execution_count": 43,
   "metadata": {
    "ExecuteTime": {
     "end_time": "2019-08-24T18:30:57.569593Z",
     "start_time": "2019-08-24T18:30:57.552396Z"
    },
    "scrolled": true
   },
   "outputs": [
    {
     "name": "stdout",
     "output_type": "stream",
     "text": [
      "Summary information player vector dataframe: Player specific feature vectors are captured for 286 players.\n",
      "\n",
      "The players indicating feature vectors based on less than 5 games:\n",
      " ----------------------------------------------------------------------------------------------------\n",
      "hudie\n",
      "xiaohu\n",
      "milica\n",
      "madnesss\n",
      "ran\n",
      "shrimp\n",
      "4lan\n",
      "swordart\n",
      "xico\n",
      "jiumeng\n",
      "vert\n",
      "mickey\n",
      "garo\n",
      "snitch\n",
      "berentt\n",
      "gyu\n",
      "aphromoo\n",
      "kuro\n",
      "pentaq\n",
      "vander\n",
      "hopezz\n",
      "damonte\n",
      "keane\n",
      "fly\n",
      "chovy\n",
      "nemesis\n",
      "faker\n",
      "shook\n",
      "jiekou\n",
      "bdd\n",
      "lethilion\n",
      "klaus\n",
      "palafox\n",
      "cool\n",
      "lava\n",
      "yoon\n",
      "niksar\n",
      "hylissang\n",
      "disave\n",
      "mole\n",
      "leo\n",
      "pilter\n",
      "anyyy\n",
      "ranger\n",
      "envy\n",
      "ryu\n",
      "asta\n",
      "expect\n",
      "atlen\n",
      "goldenglue\n",
      "wuxx\n",
      "rather\n",
      "bydeki\n",
      "huatian\n",
      "elwind\n",
      "frozen\n",
      "clever\n",
      "snowflower\n",
      "broken blade\n",
      "babi9\n",
      "chen\n",
      "longb\n",
      "tuesday\n",
      "jankos\n",
      "bananafish\n",
      "wxz\n",
      "tockers\n",
      "ddc\n",
      "apex\n",
      "yagao\n",
      "caps\n",
      "magifelix\n",
      "moonblack\n",
      "fenix\n",
      "dandan\n",
      "huni\n"
     ]
    }
   ],
   "source": [
    "# Intermediate summary\n",
    "print(\"Summary information player vector dataframe: Player specific feature vectors are captured for\", len(player_vector_df), \"players.\\n\")\n",
    "\n",
    "# Extract vector accuracy information\n",
    "print(\"The players indicating feature vectors based on less than 5 games:\\n\", '-'*100)\n",
    "for player, acc_ind in zip(list(player_vector_df.index), player_vector_df['accuracy indicator']):\n",
    "    if acc_ind < 5:\n",
    "        print(player)"
   ]
  },
  {
   "cell_type": "code",
   "execution_count": 44,
   "metadata": {
    "ExecuteTime": {
     "end_time": "2019-08-24T18:30:58.199889Z",
     "start_time": "2019-08-24T18:30:57.571932Z"
    }
   },
   "outputs": [
    {
     "name": "stdout",
     "output_type": "stream",
     "text": [
      "==================================================================================================== \n",
      "Overview of variable:  Accuracy indicator \n",
      " ====================================================================================================\n"
     ]
    },
    {
     "data": {
      "image/png": "[encoded data removed]",
      "text/plain": [
       "<Figure size 432x288 with 1 Axes>"
      ]
     },
     "metadata": {
      "needs_background": "light"
     },
     "output_type": "display_data"
    },
    {
     "name": "stdout",
     "output_type": "stream",
     "text": [
      "-------------------- \n",
      "Summary statistics:\n",
      " --------------------\n",
      "Minimum value: 1\n",
      "Mean: 54.2448\n",
      "Standard deviation: 73.6284\n",
      "Median: 19.5\n",
      "Maximal value: 309\n"
     ]
    },
    {
     "data": {
      "image/png": "[encoded data removed]",
      "text/plain": [
       "<Figure size 432x288 with 1 Axes>"
      ]
     },
     "metadata": {
      "needs_background": "light"
     },
     "output_type": "display_data"
    },
    {
     "name": "stdout",
     "output_type": "stream",
     "text": [
      "-------------------- \n",
      "Outlier detection:\n",
      " --------------------\n",
      "List of outliers: {298, 309, 303, 279}\n"
     ]
    },
    {
     "data": {
      "image/png": "[encoded data removed]",
      "text/plain": [
       "<Figure size 432x288 with 1 Axes>"
      ]
     },
     "metadata": {
      "needs_background": "light"
     },
     "output_type": "display_data"
    },
    {
     "name": "stdout",
     "output_type": "stream",
     "text": [
      "-------------------- \n",
      "Check for normal distribution:\n",
      " --------------------\n",
      "Skewedness: 1.6836\n",
      "Kurtosis: 1.9227\n"
     ]
    },
    {
     "data": {
      "text/plain": [
       "<Figure size 432x288 with 0 Axes>"
      ]
     },
     "metadata": {},
     "output_type": "display_data"
    }
   ],
   "source": [
    "# Accuracy indicator distribution\n",
    "SummaryNumericVar(player_vector_df['accuracy indicator'], 'Accuracy indicator')"
   ]
  },
  {
   "cell_type": "markdown",
   "metadata": {},
   "source": [
    "### 4.2 Estimate player strength parameters"
   ]
  },
  {
   "cell_type": "code",
   "execution_count": 45,
   "metadata": {
    "ExecuteTime": {
     "end_time": "2019-08-24T18:30:58.205752Z",
     "start_time": "2019-08-24T18:30:58.202152Z"
    }
   },
   "outputs": [],
   "source": [
    "# Create dictionary to capture strength parameter information\n",
    "strength_param_dict = dict()\n",
    "\n",
    "# Extract columns not used for model fit\n",
    "additional_columns = ['result', 'accuracy indicator']\n",
    "strength_param_dict['accuracy indicator'] = player_vector_df['accuracy indicator']"
   ]
  },
  {
   "cell_type": "markdown",
   "metadata": {},
   "source": [
    "##### Lasso classification based parameter approximation"
   ]
  },
  {
   "cell_type": "code",
   "execution_count": 46,
   "metadata": {
    "ExecuteTime": {
     "end_time": "2019-08-24T18:30:58.253434Z",
     "start_time": "2019-08-24T18:30:58.207923Z"
    }
   },
   "outputs": [],
   "source": [
    "# 1. Fit (trained) lasso classification model\n",
    "strength_param_dict['lasso'] = [y for x, y in fitted_logistic_L1penalty_model.predict_proba(player_vector_df[selected_features_rfe])]"
   ]
  },
  {
   "cell_type": "markdown",
   "metadata": {},
   "source": [
    "##### Ridge classification based parameter approximation"
   ]
  },
  {
   "cell_type": "code",
   "execution_count": 47,
   "metadata": {
    "ExecuteTime": {
     "end_time": "2019-08-24T18:30:58.339347Z",
     "start_time": "2019-08-24T18:30:58.255553Z"
    },
    "scrolled": true
   },
   "outputs": [],
   "source": [
    "# 2. Fit ridge classification model with best regularisation parameter based on CV\n",
    "additional_columns = ['result', 'accuracy indicator']\n",
    "ridge = RidgeClassifier(alpha = ridge_model_dict['regularisation_param'], fit_intercept = False)\n",
    "fitted_ridge = ridge.fit(x_train, y_train)\n",
    "logit_trans_predictions_ridge = fitted_ridge.decision_function(player_vector_df[[x for x in data.columns if x not in additional_columns]])\n",
    "strength_param_dict['ridge'] = np.exp(logit_trans_predictions_ridge) / (1 + np.exp(logit_trans_predictions_ridge))"
   ]
  },
  {
   "cell_type": "markdown",
   "metadata": {},
   "source": [
    "Remark: There is no predicted probability option for the RidgeClassifier because this model is not easy to interpret as a probability model. The decision function of the RidgeClassifier model considers a logit transformation of the actual class probabilities. If decision function is greater than zero then class 1 is predicted otherwise predict class 0, corresponding to a classical logit approach. By back-transforming these predictions we can get the predicted probabilities."
   ]
  },
  {
   "cell_type": "markdown",
   "metadata": {},
   "source": [
    "##### Result averaging based parameter approximation"
   ]
  },
  {
   "cell_type": "code",
   "execution_count": 48,
   "metadata": {
    "ExecuteTime": {
     "end_time": "2019-08-24T18:30:58.344165Z",
     "start_time": "2019-08-24T18:30:58.341402Z"
    }
   },
   "outputs": [],
   "source": [
    "# 3. Expected outcome of the game based on player-vector averaging \n",
    "strength_param_dict['result'] = player_vector_df['result']"
   ]
  },
  {
   "cell_type": "code",
   "execution_count": 49,
   "metadata": {
    "ExecuteTime": {
     "end_time": "2019-08-24T18:30:58.389434Z",
     "start_time": "2019-08-24T18:30:58.346067Z"
    }
   },
   "outputs": [
    {
     "data": {
      "text/html": [
       "<div>\n",
       "<style scoped>\n",
       "    .dataframe tbody tr th:only-of-type {\n",
       "        vertical-align: middle;\n",
       "    }\n",
       "\n",
       "    .dataframe tbody tr th {\n",
       "        vertical-align: top;\n",
       "    }\n",
       "\n",
       "    .dataframe thead th {\n",
       "        text-align: right;\n",
       "    }\n",
       "</style>\n",
       "<table border=\"1\" class=\"dataframe\">\n",
       "  <thead>\n",
       "    <tr style=\"text-align: right;\">\n",
       "      <th></th>\n",
       "      <th>accuracy indicator</th>\n",
       "      <th>lasso</th>\n",
       "      <th>ridge</th>\n",
       "      <th>result</th>\n",
       "    </tr>\n",
       "  </thead>\n",
       "  <tbody>\n",
       "    <tr>\n",
       "      <th>godkwai</th>\n",
       "      <td>44</td>\n",
       "      <td>0.050342</td>\n",
       "      <td>0.421249</td>\n",
       "      <td>0.363636</td>\n",
       "    </tr>\n",
       "    <tr>\n",
       "      <th>hudie</th>\n",
       "      <td>1</td>\n",
       "      <td>0.956050</td>\n",
       "      <td>0.632296</td>\n",
       "      <td>1.000000</td>\n",
       "    </tr>\n",
       "    <tr>\n",
       "      <th>patrik</th>\n",
       "      <td>45</td>\n",
       "      <td>0.378143</td>\n",
       "      <td>0.483975</td>\n",
       "      <td>0.466667</td>\n",
       "    </tr>\n",
       "    <tr>\n",
       "      <th>titan</th>\n",
       "      <td>74</td>\n",
       "      <td>0.624813</td>\n",
       "      <td>0.513594</td>\n",
       "      <td>0.594595</td>\n",
       "    </tr>\n",
       "    <tr>\n",
       "      <th>art</th>\n",
       "      <td>15</td>\n",
       "      <td>0.004547</td>\n",
       "      <td>0.352136</td>\n",
       "      <td>0.266667</td>\n",
       "    </tr>\n",
       "  </tbody>\n",
       "</table>\n",
       "</div>"
      ],
      "text/plain": [
       "         accuracy indicator     lasso     ridge    result\n",
       "godkwai                  44  0.050342  0.421249  0.363636\n",
       "hudie                     1  0.956050  0.632296  1.000000\n",
       "patrik                   45  0.378143  0.483975  0.466667\n",
       "titan                    74  0.624813  0.513594  0.594595\n",
       "art                      15  0.004547  0.352136  0.266667"
      ]
     },
     "execution_count": 49,
     "metadata": {},
     "output_type": "execute_result"
    }
   ],
   "source": [
    "# Create dataframe of strength parameter summarization\n",
    "strength_param_df = pd.DataFrame(strength_param_dict)\n",
    "strength_param_df.head()"
   ]
  },
  {
   "cell_type": "code",
   "execution_count": 50,
   "metadata": {
    "ExecuteTime": {
     "end_time": "2019-08-24T18:30:58.457746Z",
     "start_time": "2019-08-24T18:30:58.391070Z"
    }
   },
   "outputs": [
    {
     "data": {
      "text/plain": [
       "lasso  result    0.792120\n",
       "ridge  result    0.843011\n",
       "lasso  ridge     0.891954\n",
       "dtype: float64"
      ]
     },
     "execution_count": 50,
     "metadata": {},
     "output_type": "execute_result"
    }
   ],
   "source": [
    "# Print list with correlated features\n",
    "corrmap_abs = strength_param_df.iloc[:,1:].corr().abs()\n",
    "corrmap_abs_sorted = corrmap_abs.unstack().sort_values(kind = \"quicksort\", ascending = False)\n",
    "corrmap_abs_sorted[3:][::-2]"
   ]
  },
  {
   "cell_type": "markdown",
   "metadata": {},
   "source": [
    "### 4.3 Investigation strength parameter characteristics"
   ]
  },
  {
   "cell_type": "code",
   "execution_count": 51,
   "metadata": {
    "ExecuteTime": {
     "end_time": "2019-08-24T18:31:00.366930Z",
     "start_time": "2019-08-24T18:30:58.459479Z"
    },
    "scrolled": false
   },
   "outputs": [
    {
     "name": "stdout",
     "output_type": "stream",
     "text": [
      "==================================================================================================== \n",
      "Overview of variable:  lasso \n",
      " ====================================================================================================\n"
     ]
    },
    {
     "data": {
      "image/png": "[encoded data removed]",
      "text/plain": [
       "<Figure size 432x288 with 1 Axes>"
      ]
     },
     "metadata": {
      "needs_background": "light"
     },
     "output_type": "display_data"
    },
    {
     "name": "stdout",
     "output_type": "stream",
     "text": [
      "-------------------- \n",
      "Summary statistics:\n",
      " --------------------\n",
      "Minimum value: 5.229988098165868e-06\n",
      "Mean: 0.3726\n",
      "Standard deviation: 0.3257\n",
      "Median: 0.3263\n",
      "Maximal value: 0.9999996836813255\n"
     ]
    },
    {
     "data": {
      "image/png": "[encoded data removed]",
      "text/plain": [
       "<Figure size 432x288 with 1 Axes>"
      ]
     },
     "metadata": {
      "needs_background": "light"
     },
     "output_type": "display_data"
    },
    {
     "name": "stdout",
     "output_type": "stream",
     "text": [
      "-------------------- \n",
      "Outlier detection:\n",
      " --------------------\n",
      "List of outliers: set()\n"
     ]
    },
    {
     "data": {
      "image/png": "[encoded data removed]",
      "text/plain": [
       "<Figure size 432x288 with 1 Axes>"
      ]
     },
     "metadata": {
      "needs_background": "light"
     },
     "output_type": "display_data"
    },
    {
     "name": "stdout",
     "output_type": "stream",
     "text": [
      "-------------------- \n",
      "Check for normal distribution:\n",
      " --------------------\n",
      "Skewedness: 0.4709\n",
      "Kurtosis: -1.0601\n",
      "==================================================================================================== \n",
      "Overview of variable:  ridge \n",
      " ====================================================================================================\n"
     ]
    },
    {
     "data": {
      "image/png": "[encoded data removed]",
      "text/plain": [
       "<Figure size 432x288 with 1 Axes>"
      ]
     },
     "metadata": {
      "needs_background": "light"
     },
     "output_type": "display_data"
    },
    {
     "name": "stdout",
     "output_type": "stream",
     "text": [
      "-------------------- \n",
      "Summary statistics:\n",
      " --------------------\n",
      "Minimum value: 0.1562449140670813\n",
      "Mean: 0.4642\n",
      "Standard deviation: 0.0983\n",
      "Median: 0.4711\n",
      "Maximal value: 0.8178977486990798\n"
     ]
    },
    {
     "data": {
      "image/png": "[encoded data removed]",
      "text/plain": [
       "<Figure size 432x288 with 1 Axes>"
      ]
     },
     "metadata": {
      "needs_background": "light"
     },
     "output_type": "display_data"
    },
    {
     "name": "stdout",
     "output_type": "stream",
     "text": [
      "-------------------- \n",
      "Outlier detection:\n",
      " --------------------\n",
      "List of outliers: {0.16, 0.79, 0.78, 0.82, 0.77}\n"
     ]
    },
    {
     "data": {
      "image/png": "[encoded data removed]",
      "text/plain": [
       "<Figure size 432x288 with 1 Axes>"
      ]
     },
     "metadata": {
      "needs_background": "light"
     },
     "output_type": "display_data"
    },
    {
     "name": "stdout",
     "output_type": "stream",
     "text": [
      "-------------------- \n",
      "Check for normal distribution:\n",
      " --------------------\n",
      "Skewedness: 0.2758\n",
      "Kurtosis: 1.359\n",
      "==================================================================================================== \n",
      "Overview of variable:  result \n",
      " ====================================================================================================\n"
     ]
    },
    {
     "data": {
      "image/png": "[encoded data removed]",
      "text/plain": [
       "<Figure size 432x288 with 1 Axes>"
      ]
     },
     "metadata": {
      "needs_background": "light"
     },
     "output_type": "display_data"
    },
    {
     "name": "stdout",
     "output_type": "stream",
     "text": [
      "-------------------- \n",
      "Summary statistics:\n",
      " --------------------\n",
      "Minimum value: 0.0\n",
      "Mean: 0.4098\n",
      "Standard deviation: 0.2568\n",
      "Median: 0.4286\n",
      "Maximal value: 1.0\n"
     ]
    },
    {
     "data": {
      "image/png": "[encoded data removed]",
      "text/plain": [
       "<Figure size 432x288 with 1 Axes>"
      ]
     },
     "metadata": {
      "needs_background": "light"
     },
     "output_type": "display_data"
    },
    {
     "name": "stdout",
     "output_type": "stream",
     "text": [
      "-------------------- \n",
      "Outlier detection:\n",
      " --------------------\n",
      "List of outliers: set()\n"
     ]
    },
    {
     "data": {
      "image/png": "[encoded data removed]",
      "text/plain": [
       "<Figure size 432x288 with 1 Axes>"
      ]
     },
     "metadata": {
      "needs_background": "light"
     },
     "output_type": "display_data"
    },
    {
     "name": "stdout",
     "output_type": "stream",
     "text": [
      "-------------------- \n",
      "Check for normal distribution:\n",
      " --------------------\n",
      "Skewedness: 0.2407\n",
      "Kurtosis: 0.0132\n"
     ]
    },
    {
     "data": {
      "text/plain": [
       "<Figure size 432x288 with 0 Axes>"
      ]
     },
     "metadata": {},
     "output_type": "display_data"
    }
   ],
   "source": [
    "# Visualisation strength parameter distributions (based on the different techniques)\n",
    "for col in strength_param_df.columns[1:]:\n",
    "    SummaryNumericVar(strength_param_df[col], col)"
   ]
  },
  {
   "cell_type": "markdown",
   "metadata": {
    "ExecuteTime": {
     "end_time": "2019-03-26T14:30:10.779352Z",
     "start_time": "2019-03-26T14:30:10.606507Z"
    }
   },
   "source": [
    "### 4.4 Write data away"
   ]
  },
  {
   "cell_type": "code",
   "execution_count": 52,
   "metadata": {
    "ExecuteTime": {
     "end_time": "2019-08-24T18:31:00.384876Z",
     "start_time": "2019-08-24T18:31:00.368908Z"
    }
   },
   "outputs": [],
   "source": [
    "# Save the player strength parameter data\n",
    "with open('/home/je32910/MasterThesis_ComputationalStatistics/pickles/' + saved_filename + '.pickle', 'wb') as f:\n",
    "    pickle.dump(strength_param_df, f)"
   ]
  }
 ],
 "metadata": {
  "kernelspec": {
   "display_name": "Python [conda env:python36]",
   "language": "python",
   "name": "conda-env-python36-py"
  },
  "language_info": {
   "codemirror_mode": {
    "name": "ipython",
    "version": 3
   },
   "file_extension": ".py",
   "mimetype": "text/x-python",
   "name": "python",
   "nbconvert_exporter": "python",
   "pygments_lexer": "ipython3",
   "version": "3.6.8"
  }
 },
 "nbformat": 4,
 "nbformat_minor": 2
}
